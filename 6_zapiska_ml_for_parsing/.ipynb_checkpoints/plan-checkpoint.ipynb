{
 "cells": [
  {
   "cell_type": "markdown",
   "id": "259d081a",
   "metadata": {},
   "source": [
    "### Методология сбора и обработки данных с применением машинного обучения"
   ]
  },
  {
   "cell_type": "markdown",
   "id": "913fda1c",
   "metadata": {},
   "source": [
    "#### Сбор"
   ]
  },
  {
   "cell_type": "markdown",
   "id": "aa9fdbde",
   "metadata": {},
   "source": [
    "Recently, a service called Google Dataset Search [26]\n",
    "was launched for searching repositories of datasets on the\n",
    "Web. The motivation is that there are thousands of data\n",
    "repositories on the Web that contain millions of datasets that\n",
    "are not easy to search. Dataset Search lets dataset providers\n",
    "describe their datasets using various metadata (e.g., author,\n",
    "publication date, how the data was collected, and terms\n",
    "for using the data) so that they become more searcheable.\n",
    "In comparison to the fully-automatic WebTables, dataset\n",
    "providers may need to do some manual work, but have\n",
    "the opportunity to make their datasets more searcheable.\n",
    "In comparison to GOODS, Dataset Search targets the Web\n",
    "instead of a data lake."
   ]
  },
  {
   "cell_type": "markdown",
   "id": "4ba237ff",
   "metadata": {},
   "source": [
    "#### Обработка "
   ]
  }
 ],
 "metadata": {
  "hide_input": false,
  "kernelspec": {
   "display_name": "R 4.0.2",
   "language": "R",
   "name": "ir"
  },
  "language_info": {
   "codemirror_mode": "r",
   "file_extension": ".r",
   "mimetype": "text/x-r-source",
   "name": "R",
   "pygments_lexer": "r",
   "version": "4.0.4"
  },
  "latex_envs": {
   "LaTeX_envs_menu_present": true,
   "autoclose": true,
   "autocomplete": true,
   "bibliofile": "biblio.bib",
   "cite_by": "apalike",
   "current_citInitial": 1,
   "eqLabelWithNumbers": true,
   "eqNumInitial": 1,
   "hotkeys": {
    "equation": "Ctrl-E",
    "itemize": "Ctrl-I"
   },
   "labels_anchors": false,
   "latex_user_defs": false,
   "report_style_numbering": false,
   "user_envs_cfg": false
  },
  "toc": {
   "base_numbering": 1,
   "nav_menu": {},
   "number_sections": true,
   "sideBar": true,
   "skip_h1_title": false,
   "title_cell": "Table of Contents",
   "title_sidebar": "Contents",
   "toc_cell": false,
   "toc_position": {},
   "toc_section_display": true,
   "toc_window_display": false
  },
  "varInspector": {
   "cols": {
    "lenName": 16,
    "lenType": 16,
    "lenVar": 40
   },
   "kernels_config": {
    "python": {
     "delete_cmd_postfix": "",
     "delete_cmd_prefix": "del ",
     "library": "var_list.py",
     "varRefreshCmd": "print(var_dic_list())"
    },
    "r": {
     "delete_cmd_postfix": ") ",
     "delete_cmd_prefix": "rm(",
     "library": "var_list.r",
     "varRefreshCmd": "cat(var_dic_list()) "
    }
   },
   "types_to_exclude": [
    "module",
    "function",
    "builtin_function_or_method",
    "instance",
    "_Feature"
   ],
   "window_display": false
  }
 },
 "nbformat": 4,
 "nbformat_minor": 5
}
