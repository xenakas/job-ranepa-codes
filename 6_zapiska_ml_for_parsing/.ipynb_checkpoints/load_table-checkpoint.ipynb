{
 "cells": [
  {
   "cell_type": "code",
   "execution_count": 1,
   "id": "137618ff",
   "metadata": {
    "ExecuteTime": {
     "end_time": "2021-11-29T06:23:10.643462Z",
     "start_time": "2021-11-29T06:23:10.282539Z"
    }
   },
   "outputs": [],
   "source": [
    "import pandas as pd"
   ]
  },
  {
   "cell_type": "code",
   "execution_count": 19,
   "id": "78ea12b8",
   "metadata": {
    "ExecuteTime": {
     "end_time": "2021-11-29T06:32:52.034258Z",
     "start_time": "2021-11-29T06:32:51.668842Z"
    }
   },
   "outputs": [],
   "source": [
    "d1 = pd.read_html('https://www.economy.gov.ru/material/directions/vneshneekonomicheskaya_deyatelnost/tamozhenno_tarifnoe_regulirovanie/o_vyvoznyh_tamozhennyh_poshlinah_na_neft_i_otdelnye_kategorii_tovarov_vyrabotannyh_iz_nefti_na_period_s_1_po_31_dekabrya_2021_goda.html')[1].iloc[:,1:]"
   ]
  },
  {
   "cell_type": "code",
   "execution_count": 25,
   "id": "debb951b",
   "metadata": {
    "ExecuteTime": {
     "end_time": "2021-11-29T06:34:18.878316Z",
     "start_time": "2021-11-29T06:34:18.503248Z"
    }
   },
   "outputs": [],
   "source": [
    "d2 = pd.read_html('https://www.economy.gov.ru/material/directions/vneshneekonomicheskaya_deyatelnost/tamozhenno_tarifnoe_regulirovanie/o_vyvoznyh_tamozhennyh_poshlinah_na_neft_i_otdelnye_kategorii_tovarov_vyrabotannyh_iz_nefti_na_period_s_1_po_31_dekabrya_2021_goda.html')[0].T"
   ]
  },
  {
   "cell_type": "code",
   "execution_count": 29,
   "id": "924313c3",
   "metadata": {
    "ExecuteTime": {
     "end_time": "2021-11-29T06:36:07.255509Z",
     "start_time": "2021-11-29T06:36:07.251032Z"
    }
   },
   "outputs": [],
   "source": [
    "d1.columns = ['Наименование позиции', 'Декабрь 2021']\n",
    "d2.columns = ['Наименование позиции', 'Декабрь 2021']"
   ]
  },
  {
   "cell_type": "code",
   "execution_count": 30,
   "id": "588aba2a",
   "metadata": {
    "ExecuteTime": {
     "end_time": "2021-11-29T06:36:10.277040Z",
     "start_time": "2021-11-29T06:36:10.269830Z"
    }
   },
   "outputs": [
    {
     "data": {
      "text/html": [
       "<div>\n",
       "<style scoped>\n",
       "    .dataframe tbody tr th:only-of-type {\n",
       "        vertical-align: middle;\n",
       "    }\n",
       "\n",
       "    .dataframe tbody tr th {\n",
       "        vertical-align: top;\n",
       "    }\n",
       "\n",
       "    .dataframe thead th {\n",
       "        text-align: right;\n",
       "    }\n",
       "</style>\n",
       "<table border=\"1\" class=\"dataframe\">\n",
       "  <thead>\n",
       "    <tr style=\"text-align: right;\">\n",
       "      <th></th>\n",
       "      <th>Наименование позиции</th>\n",
       "      <th>Декабрь 2021</th>\n",
       "    </tr>\n",
       "  </thead>\n",
       "  <tbody>\n",
       "    <tr>\n",
       "      <th>0</th>\n",
       "      <td>нефть сырая</td>\n",
       "      <td>775</td>\n",
       "    </tr>\n",
       "    <tr>\n",
       "      <th>1</th>\n",
       "      <td>прямогонный бензин</td>\n",
       "      <td>426</td>\n",
       "    </tr>\n",
       "    <tr>\n",
       "      <th>2</th>\n",
       "      <td>тримеры и тетрамеры пропилена</td>\n",
       "      <td>50</td>\n",
       "    </tr>\n",
       "    <tr>\n",
       "      <th>3</th>\n",
       "      <td>легкие дистилляты; средние дистилляты</td>\n",
       "      <td>232</td>\n",
       "    </tr>\n",
       "    <tr>\n",
       "      <th>4</th>\n",
       "      <td>дизельное топливо</td>\n",
       "      <td>232</td>\n",
       "    </tr>\n",
       "    <tr>\n",
       "      <th>5</th>\n",
       "      <td>бензины товарные</td>\n",
       "      <td>232</td>\n",
       "    </tr>\n",
       "    <tr>\n",
       "      <th>6</th>\n",
       "      <td>бензол</td>\n",
       "      <td>232</td>\n",
       "    </tr>\n",
       "    <tr>\n",
       "      <th>7</th>\n",
       "      <td>толуол</td>\n",
       "      <td>232</td>\n",
       "    </tr>\n",
       "    <tr>\n",
       "      <th>8</th>\n",
       "      <td>ксилолы</td>\n",
       "      <td>232</td>\n",
       "    </tr>\n",
       "    <tr>\n",
       "      <th>9</th>\n",
       "      <td>мазут</td>\n",
       "      <td>775</td>\n",
       "    </tr>\n",
       "    <tr>\n",
       "      <th>10</th>\n",
       "      <td>масла смазочные; прочие</td>\n",
       "      <td>232</td>\n",
       "    </tr>\n",
       "    <tr>\n",
       "      <th>11</th>\n",
       "      <td>отработанные нефтепродукты</td>\n",
       "      <td>775</td>\n",
       "    </tr>\n",
       "    <tr>\n",
       "      <th>12</th>\n",
       "      <td>сжиженные углеводородные газы</td>\n",
       "      <td>1688</td>\n",
       "    </tr>\n",
       "    <tr>\n",
       "      <th>13</th>\n",
       "      <td>вазелин и парафин, кроме:</td>\n",
       "      <td>775</td>\n",
       "    </tr>\n",
       "    <tr>\n",
       "      <th>14</th>\n",
       "      <td>сырые</td>\n",
       "      <td>0</td>\n",
       "    </tr>\n",
       "    <tr>\n",
       "      <th>15</th>\n",
       "      <td>прочие</td>\n",
       "      <td>0</td>\n",
       "    </tr>\n",
       "    <tr>\n",
       "      <th>16</th>\n",
       "      <td>кокс нефтяной некальцинированный</td>\n",
       "      <td>50</td>\n",
       "    </tr>\n",
       "    <tr>\n",
       "      <th>17</th>\n",
       "      <td>кокс нефтяной кальцинированный</td>\n",
       "      <td>0</td>\n",
       "    </tr>\n",
       "    <tr>\n",
       "      <th>18</th>\n",
       "      <td>битум нефтяной</td>\n",
       "      <td>775</td>\n",
       "    </tr>\n",
       "    <tr>\n",
       "      <th>19</th>\n",
       "      <td>этан, бутан, изобутан</td>\n",
       "      <td>1350</td>\n",
       "    </tr>\n",
       "    <tr>\n",
       "      <th>0</th>\n",
       "      <td>Уровень цены</td>\n",
       "      <td>601,9 долл. США за тонну</td>\n",
       "    </tr>\n",
       "  </tbody>\n",
       "</table>\n",
       "</div>"
      ],
      "text/plain": [
       "                     Наименование позиции              Декабрь 2021\n",
       "0                             нефть сырая                       775\n",
       "1                      прямогонный бензин                       426\n",
       "2           тримеры и тетрамеры пропилена                        50\n",
       "3   легкие дистилляты; средние дистилляты                       232\n",
       "4                       дизельное топливо                       232\n",
       "5                        бензины товарные                       232\n",
       "6                                  бензол                       232\n",
       "7                                  толуол                       232\n",
       "8                                 ксилолы                       232\n",
       "9                                   мазут                       775\n",
       "10                масла смазочные; прочие                       232\n",
       "11             отработанные нефтепродукты                       775\n",
       "12          сжиженные углеводородные газы                      1688\n",
       "13              вазелин и парафин, кроме:                       775\n",
       "14                                  сырые                         0\n",
       "15                                 прочие                         0\n",
       "16       кокс нефтяной некальцинированный                        50\n",
       "17         кокс нефтяной кальцинированный                         0\n",
       "18                         битум нефтяной                       775\n",
       "19                  этан, бутан, изобутан                      1350\n",
       "0                            Уровень цены  601,9 долл. США за тонну"
      ]
     },
     "execution_count": 30,
     "metadata": {},
     "output_type": "execute_result"
    }
   ],
   "source": [
    "d1.append(d2)"
   ]
  },
  {
   "cell_type": "code",
   "execution_count": 16,
   "id": "0066f68c",
   "metadata": {
    "ExecuteTime": {
     "end_time": "2021-11-29T06:30:52.244986Z",
     "start_time": "2021-11-29T06:30:51.794351Z"
    }
   },
   "outputs": [
    {
     "data": {
      "text/html": [
       "<div>\n",
       "<style scoped>\n",
       "    .dataframe tbody tr th:only-of-type {\n",
       "        vertical-align: middle;\n",
       "    }\n",
       "\n",
       "    .dataframe tbody tr th {\n",
       "        vertical-align: top;\n",
       "    }\n",
       "\n",
       "    .dataframe thead th {\n",
       "        text-align: right;\n",
       "    }\n",
       "</style>\n",
       "<table border=\"1\" class=\"dataframe\">\n",
       "  <thead>\n",
       "    <tr style=\"text-align: right;\">\n",
       "      <th></th>\n",
       "      <th>0</th>\n",
       "      <th>1</th>\n",
       "    </tr>\n",
       "  </thead>\n",
       "  <tbody>\n",
       "    <tr>\n",
       "      <th>0</th>\n",
       "      <td>Уровень цены</td>\n",
       "      <td>601,9 долл. США за тонну</td>\n",
       "    </tr>\n",
       "  </tbody>\n",
       "</table>\n",
       "</div>"
      ],
      "text/plain": [
       "              0                         1\n",
       "0  Уровень цены  601,9 долл. США за тонну"
      ]
     },
     "execution_count": 16,
     "metadata": {},
     "output_type": "execute_result"
    }
   ],
   "source": [
    "pd.read_html('https://www.economy.gov.ru/material/directions/vneshneekonomicheskaya_deyatelnost/tamozhenno_tarifnoe_regulirovanie/o_vyvoznyh_tamozhennyh_poshlinah_na_neft_i_otdelnye_kategorii_tovarov_vyrabotannyh_iz_nefti_na_period_s_1_po_31_dekabrya_2021_goda.html')[0]"
   ]
  },
  {
   "cell_type": "code",
   "execution_count": 10,
   "id": "460e5f7e",
   "metadata": {
    "ExecuteTime": {
     "end_time": "2021-11-29T06:25:00.623499Z",
     "start_time": "2021-11-29T06:25:00.260955Z"
    }
   },
   "outputs": [],
   "source": [
    "dat2012 = pd.read_html('https://www.economy.gov.ru/material/directions/vneshneekonomicheskaya_deyatelnost/tamozhenno_tarifnoe_regulirovanie/o_vyvoznyh_tamozhennyh_poshlinah_na_neft_i_otdelnye_kategorii_tovarov_vyrabotannyh_iz_nefti_na_period_s_1_po_31_dekabrya_2020_goda.html')[1]"
   ]
  },
  {
   "cell_type": "code",
   "execution_count": 11,
   "id": "154159de",
   "metadata": {
    "ExecuteTime": {
     "end_time": "2021-11-29T06:25:51.768057Z",
     "start_time": "2021-11-29T06:25:51.364779Z"
    }
   },
   "outputs": [],
   "source": [
    "dat1912 = pd.read_html('https://www.economy.gov.ru/material/directions/vneshneekonomicheskaya_deyatelnost/tamozhenno_tarifnoe_regulirovanie/o_vyvoznyh_tamozhennyh_poshlinah_na_neft_i_otdelnye_kategorii_tovarov_vyrabotannyh_iz_nefti_na_period_s_1_po_31_dekabrya_2019_goda.html')[1]"
   ]
  },
  {
   "cell_type": "code",
   "execution_count": 12,
   "id": "9eb309ba",
   "metadata": {
    "ExecuteTime": {
     "end_time": "2021-11-29T06:26:55.363846Z",
     "start_time": "2021-11-29T06:26:54.964702Z"
    }
   },
   "outputs": [],
   "source": [
    "dat1812 = pd.read_html('https://www.economy.gov.ru/material/directions/vneshneekonomicheskaya_deyatelnost/tamozhenno_tarifnoe_regulirovanie/o_vyvoznyh_tamozhennyh_poshlinah_na_neft_i_otdelnye_kategorii_tovarov_vyrabotannyh_iz_nefti_na_period_s_1_po_31_dekabrya_2018_goda.html')[1]"
   ]
  }
 ],
 "metadata": {
  "hide_input": false,
  "kernelspec": {
   "display_name": "Python 3",
   "language": "python",
   "name": "python3"
  },
  "language_info": {
   "codemirror_mode": {
    "name": "ipython",
    "version": 3
   },
   "file_extension": ".py",
   "mimetype": "text/x-python",
   "name": "python",
   "nbconvert_exporter": "python",
   "pygments_lexer": "ipython3",
   "version": "3.9.7"
  },
  "latex_envs": {
   "LaTeX_envs_menu_present": true,
   "autoclose": true,
   "autocomplete": true,
   "bibliofile": "biblio.bib",
   "cite_by": "apalike",
   "current_citInitial": 1,
   "eqLabelWithNumbers": true,
   "eqNumInitial": 1,
   "hotkeys": {
    "equation": "Ctrl-E",
    "itemize": "Ctrl-I"
   },
   "labels_anchors": false,
   "latex_user_defs": false,
   "report_style_numbering": false,
   "user_envs_cfg": false
  },
  "toc": {
   "base_numbering": 1,
   "nav_menu": {},
   "number_sections": true,
   "sideBar": true,
   "skip_h1_title": false,
   "title_cell": "Table of Contents",
   "title_sidebar": "Contents",
   "toc_cell": false,
   "toc_position": {},
   "toc_section_display": true,
   "toc_window_display": false
  },
  "varInspector": {
   "cols": {
    "lenName": 16,
    "lenType": 16,
    "lenVar": 40
   },
   "kernels_config": {
    "python": {
     "delete_cmd_postfix": "",
     "delete_cmd_prefix": "del ",
     "library": "var_list.py",
     "varRefreshCmd": "print(var_dic_list())"
    },
    "r": {
     "delete_cmd_postfix": ") ",
     "delete_cmd_prefix": "rm(",
     "library": "var_list.r",
     "varRefreshCmd": "cat(var_dic_list()) "
    }
   },
   "types_to_exclude": [
    "module",
    "function",
    "builtin_function_or_method",
    "instance",
    "_Feature"
   ],
   "window_display": false
  }
 },
 "nbformat": 4,
 "nbformat_minor": 5
}
