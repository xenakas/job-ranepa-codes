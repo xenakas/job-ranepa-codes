{
 "cells": [
  {
   "cell_type": "code",
   "execution_count": 5,
   "metadata": {
    "ExecuteTime": {
     "end_time": "2022-07-01T20:21:05.291513Z",
     "start_time": "2022-07-01T20:21:05.256Z"
    }
   },
   "outputs": [],
   "source": [
    "library(RSelenium)\n",
    "library(XML)\n",
    "library(janitor) \n",
    "library(lubridate)\n",
    "library(magrittr)\n",
    "library(dplyr)\n",
    "library(xlsx)"
   ]
  },
  {
   "cell_type": "code",
   "execution_count": 1,
   "metadata": {
    "ExecuteTime": {
     "end_time": "2021-11-22T15:20:05.403764Z",
     "start_time": "2021-11-22T15:20:05.372Z"
    }
   },
   "outputs": [],
   "source": [
    "# БЛЯХА СНАЧАЛА ЭТО!\n",
    "# sudo mkdir /sys/fs/cgroup/systemd    \n",
    "# sudo mount -t cgroup -o none,name=systemd cgroup /sys/fs/cgroup/systemd\n",
    "\n",
    "\n",
    "# sudo docker run -d -p 4445:4444 -p 5901:5900 selenium/standalone-firefox-debug:2.53.0\n",
    "\n",
    "\n",
    "# https://docs.ropensci.org/RSelenium/articles/docker.html \n",
    "# vinagre \n",
    "# 127.0.0.1:5901 \n",
    "# pass: secret"
   ]
  },
  {
   "cell_type": "code",
   "execution_count": 6,
   "metadata": {
    "ExecuteTime": {
     "end_time": "2022-07-01T20:21:16.951173Z",
     "start_time": "2022-07-01T20:21:14.747Z"
    }
   },
   "outputs": [
    {
     "name": "stdout",
     "output_type": "stream",
     "text": [
      "[1] \"Connecting to remote server\"\n",
      "$applicationCacheEnabled\n",
      "[1] TRUE\n",
      "\n",
      "$rotatable\n",
      "[1] FALSE\n",
      "\n",
      "$handlesAlerts\n",
      "[1] TRUE\n",
      "\n",
      "$databaseEnabled\n",
      "[1] TRUE\n",
      "\n",
      "$version\n",
      "[1] \"45.0.2\"\n",
      "\n",
      "$platform\n",
      "[1] \"LINUX\"\n",
      "\n",
      "$nativeEvents\n",
      "[1] FALSE\n",
      "\n",
      "$acceptSslCerts\n",
      "[1] TRUE\n",
      "\n",
      "$webdriver.remote.sessionid\n",
      "[1] \"c2f6d4c0-c5a1-4776-87b6-67f628b37b85\"\n",
      "\n",
      "$webStorageEnabled\n",
      "[1] TRUE\n",
      "\n",
      "$locationContextEnabled\n",
      "[1] TRUE\n",
      "\n",
      "$browserName\n",
      "[1] \"firefox\"\n",
      "\n",
      "$takesScreenshot\n",
      "[1] TRUE\n",
      "\n",
      "$javascriptEnabled\n",
      "[1] TRUE\n",
      "\n",
      "$cssSelectorsEnabled\n",
      "[1] TRUE\n",
      "\n",
      "$id\n",
      "[1] \"c2f6d4c0-c5a1-4776-87b6-67f628b37b85\"\n",
      "\n"
     ]
    }
   ],
   "source": [
    "remDr <- remoteDriver(\n",
    "#     remoteServerAddr = \"192.168.99.101\",\n",
    "    port = 4445L\n",
    ")\n",
    "remDr$open()"
   ]
  },
  {
   "cell_type": "code",
   "execution_count": 7,
   "metadata": {
    "ExecuteTime": {
     "end_time": "2022-07-01T20:23:13.346683Z",
     "start_time": "2022-07-01T20:23:13.192Z"
    }
   },
   "outputs": [],
   "source": [
    "remDr$close()"
   ]
  },
  {
   "cell_type": "code",
   "execution_count": 5,
   "metadata": {
    "ExecuteTime": {
     "end_time": "2021-04-18T07:13:20.295872Z",
     "start_time": "2021-04-18T07:13:19.982Z"
    }
   },
   "outputs": [],
   "source": [
    "remDr$navigate(\"https://egrul.nalog.ru/index.html\")\n",
    "# remDr$screenshot(display = TRUE)"
   ]
  },
  {
   "cell_type": "code",
   "execution_count": 14,
   "metadata": {
    "ExecuteTime": {
     "end_time": "2021-04-18T07:15:32.233842Z",
     "start_time": "2021-04-18T07:15:32.221Z"
    }
   },
   "outputs": [],
   "source": [
    "library(\"readxl\")"
   ]
  },
  {
   "cell_type": "code",
   "execution_count": 74,
   "metadata": {
    "ExecuteTime": {
     "end_time": "2021-04-18T08:38:10.467998Z",
     "start_time": "2021-04-18T08:38:10.432Z"
    }
   },
   "outputs": [],
   "source": [
    "goszak_df = read_excel('data-101113-2021-03-03-2.xlsx') #, header=TRUE, colClasses=NA)"
   ]
  },
  {
   "cell_type": "code",
   "execution_count": 60,
   "metadata": {
    "ExecuteTime": {
     "end_time": "2021-04-18T08:31:59.567494Z",
     "start_time": "2021-04-18T08:31:59.553Z"
    }
   },
   "outputs": [],
   "source": [
    "# goszak_df"
   ]
  },
  {
   "cell_type": "code",
   "execution_count": 75,
   "metadata": {
    "ExecuteTime": {
     "end_time": "2021-04-18T08:38:11.642325Z",
     "start_time": "2021-04-18T08:38:11.619Z"
    }
   },
   "outputs": [],
   "source": [
    "goszak_df = goszak_df[352:702,]\n",
    "goszak_df <- goszak_df[,1]\n",
    "goszak_df[['ИНН']] <- rep('NA', dim(goszak_df)[1])\n",
    "goszak_df[['name']] <- rep(0, dim(goszak_df)[1])\n",
    "goszak_df[['text']] <- rep('NA', dim(goszak_df)[1])\n",
    "# goszak_df[['ИНН_доп']] <- rep('NA', dim(goszak_df)[1])\n",
    "# goszak_df[['text_доп']] <- rep('NA', dim(goszak_df)[1])"
   ]
  },
  {
   "cell_type": "markdown",
   "metadata": {},
   "source": [
    "#### Parse auction"
   ]
  },
  {
   "cell_type": "code",
   "execution_count": 91,
   "metadata": {
    "ExecuteTime": {
     "end_time": "2021-04-08T11:17:11.544382Z",
     "start_time": "2021-04-08T11:17:10.991Z"
    }
   },
   "outputs": [],
   "source": [
    "remDr$navigate(\"https://egrul.nalog.ru/index.html\")"
   ]
  },
  {
   "cell_type": "code",
   "execution_count": 20,
   "metadata": {
    "ExecuteTime": {
     "end_time": "2021-04-18T05:26:13.998107Z",
     "start_time": "2021-04-18T05:26:13.407Z"
    }
   },
   "outputs": [],
   "source": [
    "webElem <- remDr$findElement(using = \"css\", \".no-data\")\n",
    "webElem$highlightElement()"
   ]
  },
  {
   "cell_type": "code",
   "execution_count": null,
   "metadata": {
    "ExecuteTime": {
     "end_time": "2021-04-18T05:30:46.144166Z",
     "start_time": "2021-04-18T05:30:46.120Z"
    }
   },
   "outputs": [],
   "source": [
    "webElem <- remDr$findElements(\"css\", \"iframe\")\n",
    "remDr$switchToFrame(webElem[[1]])\n",
    "# https://stackoverflow.com/questions/41290620/click-on-cross-domain-iframe-element-using-rselenium"
   ]
  },
  {
   "cell_type": "code",
   "execution_count": 31,
   "metadata": {
    "ExecuteTime": {
     "end_time": "2021-04-18T05:33:26.131448Z",
     "start_time": "2021-04-18T05:33:26.030Z"
    }
   },
   "outputs": [],
   "source": [
    "webElem <- remDr$findElement(using = \"xpath\", '//*[@id=\"chk_2\"]')\n",
    "# webElem$highlightElement()\n",
    "webElem$clickElement()"
   ]
  },
  {
   "cell_type": "code",
   "execution_count": 33,
   "metadata": {
    "ExecuteTime": {
     "end_time": "2021-04-18T05:37:14.693786Z",
     "start_time": "2021-04-18T05:37:14.554Z"
    }
   },
   "outputs": [],
   "source": [
    "webElem <- remDr$findElement(using = \"xpath\", '//*[@id=\"btn_ok\"]')\n",
    "# webElem$highlightElement()\n",
    "webElem$clickElement()\n"
   ]
  },
  {
   "cell_type": "code",
   "execution_count": 8,
   "metadata": {
    "ExecuteTime": {
     "end_time": "2021-04-18T07:13:48.509036Z",
     "start_time": "2021-04-18T07:13:48.466Z"
    }
   },
   "outputs": [
    {
     "data": {
      "text/html": [
       "<ol>\n",
       "\t<li>'{9cd3f4c1-5fa3-4129-b1b6-61b9d51f45bf}'</li>\n",
       "</ol>\n"
      ],
      "text/latex": [
       "\\begin{enumerate}\n",
       "\\item '\\{9cd3f4c1-5fa3-4129-b1b6-61b9d51f45bf\\}'\n",
       "\\end{enumerate}\n"
      ],
      "text/markdown": [
       "1. '{9cd3f4c1-5fa3-4129-b1b6-61b9d51f45bf}'\n",
       "\n",
       "\n"
      ],
      "text/plain": [
       "[[1]]\n",
       "[1] \"{9cd3f4c1-5fa3-4129-b1b6-61b9d51f45bf}\"\n"
      ]
     },
     "metadata": {},
     "output_type": "display_data"
    }
   ],
   "source": [
    "windows <- remDr$getWindowHandles()\n",
    "windows\n",
    "# remDr$switchToWindow(windows[[1]])"
   ]
  },
  {
   "cell_type": "code",
   "execution_count": 39,
   "metadata": {
    "ExecuteTime": {
     "end_time": "2021-04-18T05:39:08.635872Z",
     "start_time": "2021-04-18T05:39:08.575Z"
    }
   },
   "outputs": [
    {
     "data": {
      "text/html": [
       "<ol>\n",
       "\t<li>'{d1f9c8f2-d20f-4fd4-9bb2-7ac3ca3a0569}'</li>\n",
       "</ol>\n"
      ],
      "text/latex": [
       "\\begin{enumerate}\n",
       "\\item '\\{d1f9c8f2-d20f-4fd4-9bb2-7ac3ca3a0569\\}'\n",
       "\\end{enumerate}\n"
      ],
      "text/markdown": [
       "1. '{d1f9c8f2-d20f-4fd4-9bb2-7ac3ca3a0569}'\n",
       "\n",
       "\n"
      ],
      "text/plain": [
       "[[1]]\n",
       "[1] \"{d1f9c8f2-d20f-4fd4-9bb2-7ac3ca3a0569}\"\n"
      ]
     },
     "metadata": {},
     "output_type": "display_data"
    },
    {
     "data": {
      "text/html": [
       "<ol>\n",
       "\t<li>'{d1f9c8f2-d20f-4fd4-9bb2-7ac3ca3a0569}'</li>\n",
       "</ol>\n"
      ],
      "text/latex": [
       "\\begin{enumerate}\n",
       "\\item '\\{d1f9c8f2-d20f-4fd4-9bb2-7ac3ca3a0569\\}'\n",
       "\\end{enumerate}\n"
      ],
      "text/markdown": [
       "1. '{d1f9c8f2-d20f-4fd4-9bb2-7ac3ca3a0569}'\n",
       "\n",
       "\n"
      ],
      "text/plain": [
       "[[1]]\n",
       "[1] \"{d1f9c8f2-d20f-4fd4-9bb2-7ac3ca3a0569}\"\n"
      ]
     },
     "metadata": {},
     "output_type": "display_data"
    }
   ],
   "source": [
    "remDr$getCurrentWindowHandle()\n",
    "remDr$getWindowHandles()"
   ]
  },
  {
   "cell_type": "code",
   "execution_count": 101,
   "metadata": {
    "ExecuteTime": {
     "end_time": "2021-04-08T11:21:27.087684Z",
     "start_time": "2021-04-08T11:21:27.010Z"
    }
   },
   "outputs": [],
   "source": [
    "remDr$switchToWindow('{864238c1-9997-408a-ae34-fc21d206d52c}')"
   ]
  },
  {
   "cell_type": "code",
   "execution_count": 113,
   "metadata": {
    "ExecuteTime": {
     "end_time": "2021-04-08T11:31:50.564242Z",
     "start_time": "2021-04-08T11:31:50.381Z"
    }
   },
   "outputs": [
    {
     "data": {
      "text/html": [
       "<ol>\n",
       "\t<li>'{864238c1-9997-408a-ae34-fc21d206d52c}'</li>\n",
       "</ol>\n"
      ],
      "text/latex": [
       "\\begin{enumerate}\n",
       "\\item '\\{864238c1-9997-408a-ae34-fc21d206d52c\\}'\n",
       "\\end{enumerate}\n"
      ],
      "text/markdown": [
       "1. '{864238c1-9997-408a-ae34-fc21d206d52c}'\n",
       "\n",
       "\n"
      ],
      "text/plain": [
       "[[1]]\n",
       "[1] \"{864238c1-9997-408a-ae34-fc21d206d52c}\"\n"
      ]
     },
     "metadata": {},
     "output_type": "display_data"
    },
    {
     "data": {
      "text/html": [
       "<ol>\n",
       "\t<li>'{864238c1-9997-408a-ae34-fc21d206d52c}'</li>\n",
       "</ol>\n"
      ],
      "text/latex": [
       "\\begin{enumerate}\n",
       "\\item '\\{864238c1-9997-408a-ae34-fc21d206d52c\\}'\n",
       "\\end{enumerate}\n"
      ],
      "text/markdown": [
       "1. '{864238c1-9997-408a-ae34-fc21d206d52c}'\n",
       "\n",
       "\n"
      ],
      "text/plain": [
       "[[1]]\n",
       "[1] \"{864238c1-9997-408a-ae34-fc21d206d52c}\"\n"
      ]
     },
     "metadata": {},
     "output_type": "display_data"
    }
   ],
   "source": [
    "remDr$getCurrentWindowHandle()\n",
    "remDr$getWindowHandles()"
   ]
  },
  {
   "cell_type": "code",
   "execution_count": 46,
   "metadata": {
    "ExecuteTime": {
     "end_time": "2021-04-18T05:45:33.861520Z",
     "start_time": "2021-04-18T05:45:33.287Z"
    }
   },
   "outputs": [],
   "source": [
    "webElem <- remDr$findElement(using = \"css\", \"#query\")\n",
    "# webElem$highlightElement()\n"
   ]
  },
  {
   "cell_type": "code",
   "execution_count": 47,
   "metadata": {
    "ExecuteTime": {
     "end_time": "2021-04-18T05:45:44.911536Z",
     "start_time": "2021-04-18T05:45:44.784Z"
    }
   },
   "outputs": [],
   "source": [
    "webElem$sendKeysToElement(list(goszak_df[[1,1]], key = \"enter\"))"
   ]
  },
  {
   "cell_type": "code",
   "execution_count": 53,
   "metadata": {
    "ExecuteTime": {
     "end_time": "2021-04-18T05:58:38.468578Z",
     "start_time": "2021-04-18T05:58:37.867Z"
    }
   },
   "outputs": [
    {
     "data": {
      "text/html": [
       "'ОБЩЕСТВО С ОГРАНИЧЕННОЙ ОТВЕТСТВЕННОСТЬЮ \"АЛЕАН\"'"
      ],
      "text/latex": [
       "'ОБЩЕСТВО С ОГРАНИЧЕННОЙ ОТВЕТСТВЕННОСТЬЮ \"АЛЕАН\"'"
      ],
      "text/markdown": [
       "'ОБЩЕСТВО С ОГРАНИЧЕННОЙ ОТВЕТСТВЕННОСТЬЮ \"АЛЕАН\"'"
      ],
      "text/plain": [
       "[1] \"ОБЩЕСТВО С ОГРАНИЧЕННОЙ ОТВЕТСТВЕННОСТЬЮ \\\"АЛЕАН\\\"\""
      ]
     },
     "metadata": {},
     "output_type": "display_data"
    }
   ],
   "source": [
    "zak_zav  <- remDr$findElement(using = \"xpath\", \"/html/body/div[1]/div[3]/div/div[1]/div[4]/div[1]/div[2]/a\")\n",
    "zak_zav$highlightElement()\n",
    "a  <-  zak_zav$getElementText()[[1]]\n",
    "a\n"
   ]
  },
  {
   "cell_type": "code",
   "execution_count": 57,
   "metadata": {
    "ExecuteTime": {
     "end_time": "2021-04-18T06:00:05.675146Z",
     "start_time": "2021-04-18T06:00:05.653Z"
    }
   },
   "outputs": [],
   "source": [
    "library(stringdist)\n"
   ]
  },
  {
   "cell_type": "code",
   "execution_count": 59,
   "metadata": {
    "ExecuteTime": {
     "end_time": "2021-04-18T06:01:21.248496Z",
     "start_time": "2021-04-18T06:01:21.232Z"
    }
   },
   "outputs": [
    {
     "data": {
      "text/html": [
       "38"
      ],
      "text/latex": [
       "38"
      ],
      "text/markdown": [
       "38"
      ],
      "text/plain": [
       "[1] 38"
      ]
     },
     "metadata": {},
     "output_type": "display_data"
    }
   ],
   "source": [
    "stringdist(goszak_df[[1,1]],a, method='lv')"
   ]
  },
  {
   "cell_type": "code",
   "execution_count": 66,
   "metadata": {
    "ExecuteTime": {
     "end_time": "2021-04-18T06:03:53.122350Z",
     "start_time": "2021-04-18T06:03:53.097Z"
    }
   },
   "outputs": [
    {
     "data": {
      "text/html": [
       "2"
      ],
      "text/latex": [
       "2"
      ],
      "text/markdown": [
       "2"
      ],
      "text/plain": [
       "[1] 2"
      ]
     },
     "metadata": {},
     "output_type": "display_data"
    }
   ],
   "source": [
    "stringdist(tolower(goszak_df[[1,1]]),tolower(a), method='lv')"
   ]
  },
  {
   "cell_type": "code",
   "execution_count": 167,
   "metadata": {
    "ExecuteTime": {
     "end_time": "2021-04-18T06:57:20.630061Z",
     "start_time": "2021-04-18T06:57:20.133Z"
    }
   },
   "outputs": [
    {
     "data": {
      "text/html": [
       "'121248 МОСКВА ГОРОД ПРОСПЕКТ КУТУЗОВСКИЙ 1/7 СТР.1 , ОГРН: 1057746322622, Дата присвоения ОГРН: 25.02.2005, ИНН: 7730520414, КПП: 773001001, Генеральный директор: Мальцев Андрей Петрович, Дата прекращения деятельности: 08.09.2014'"
      ],
      "text/latex": [
       "'121248 МОСКВА ГОРОД ПРОСПЕКТ КУТУЗОВСКИЙ 1/7 СТР.1 , ОГРН: 1057746322622, Дата присвоения ОГРН: 25.02.2005, ИНН: 7730520414, КПП: 773001001, Генеральный директор: Мальцев Андрей Петрович, Дата прекращения деятельности: 08.09.2014'"
      ],
      "text/markdown": [
       "'121248 МОСКВА ГОРОД ПРОСПЕКТ КУТУЗОВСКИЙ 1/7 СТР.1 , ОГРН: 1057746322622, Дата присвоения ОГРН: 25.02.2005, ИНН: 7730520414, КПП: 773001001, Генеральный директор: Мальцев Андрей Петрович, Дата прекращения деятельности: 08.09.2014'"
      ],
      "text/plain": [
       "[1] \"121248 МОСКВА ГОРОД ПРОСПЕКТ КУТУЗОВСКИЙ 1/7 СТР.1 , ОГРН: 1057746322622, Дата присвоения ОГРН: 25.02.2005, ИНН: 7730520414, КПП: 773001001, Генеральный директор: Мальцев Андрей Петрович, Дата прекращения деятельности: 08.09.2014\""
      ]
     },
     "metadata": {},
     "output_type": "display_data"
    }
   ],
   "source": [
    "zak_zav  <- remDr$findElement(using = \"xpath\", \"/html/body/div[1]/div[3]/div/div[1]/div[4]/div[1]/div[3]/div\")\n",
    "zak_zav$highlightElement()\n",
    "# a  <-  zak_zav$getElementText()[[1]]\n",
    "a"
   ]
  },
  {
   "cell_type": "code",
   "execution_count": 85,
   "metadata": {
    "ExecuteTime": {
     "end_time": "2021-04-18T06:12:05.762413Z",
     "start_time": "2021-04-18T06:12:05.735Z"
    }
   },
   "outputs": [
    {
     "data": {
      "text/html": [
       "'7730520414'"
      ],
      "text/latex": [
       "'7730520414'"
      ],
      "text/markdown": [
       "'7730520414'"
      ],
      "text/plain": [
       "[1] \"7730520414\""
      ]
     },
     "metadata": {},
     "output_type": "display_data"
    }
   ],
   "source": [
    "bb <- unlist(strsplit(a, \",\"))\n",
    "cc <- bb[grepl('ИНН', bb, fixed = TRUE)]\n",
    "dd <- unlist(strsplit(cc, \": \"))[2]"
   ]
  },
  {
   "cell_type": "code",
   "execution_count": 71,
   "metadata": {
    "ExecuteTime": {
     "end_time": "2021-04-18T06:07:52.826763Z",
     "start_time": "2021-04-18T06:07:52.810Z"
    }
   },
   "outputs": [
    {
     "data": {
      "text/html": [
       "FALSE"
      ],
      "text/latex": [
       "FALSE"
      ],
      "text/markdown": [
       "FALSE"
      ],
      "text/plain": [
       "[1] FALSE"
      ]
     },
     "metadata": {},
     "output_type": "display_data"
    }
   ],
   "source": [
    "grepl('прекращения', a, fixed = TRUE)"
   ]
  },
  {
   "cell_type": "code",
   "execution_count": 74,
   "metadata": {
    "ExecuteTime": {
     "end_time": "2021-04-18T06:08:31.081513Z",
     "start_time": "2021-04-18T06:08:30.519Z"
    }
   },
   "outputs": [
    {
     "data": {
      "text/html": [
       "'121248 МОСКВА ГОРОД ПРОСПЕКТ КУТУЗОВСКИЙ 1/7 СТР.1 , ОГРН: 1057746322622, Дата присвоения ОГРН: 25.02.2005, ИНН: 7730520414, КПП: 773001001, Генеральный директор: Мальцев Андрей Петрович, Дата прекращения деятельности: 08.09.2014'"
      ],
      "text/latex": [
       "'121248 МОСКВА ГОРОД ПРОСПЕКТ КУТУЗОВСКИЙ 1/7 СТР.1 , ОГРН: 1057746322622, Дата присвоения ОГРН: 25.02.2005, ИНН: 7730520414, КПП: 773001001, Генеральный директор: Мальцев Андрей Петрович, Дата прекращения деятельности: 08.09.2014'"
      ],
      "text/markdown": [
       "'121248 МОСКВА ГОРОД ПРОСПЕКТ КУТУЗОВСКИЙ 1/7 СТР.1 , ОГРН: 1057746322622, Дата присвоения ОГРН: 25.02.2005, ИНН: 7730520414, КПП: 773001001, Генеральный директор: Мальцев Андрей Петрович, Дата прекращения деятельности: 08.09.2014'"
      ],
      "text/plain": [
       "[1] \"121248 МОСКВА ГОРОД ПРОСПЕКТ КУТУЗОВСКИЙ 1/7 СТР.1 , ОГРН: 1057746322622, Дата присвоения ОГРН: 25.02.2005, ИНН: 7730520414, КПП: 773001001, Генеральный директор: Мальцев Андрей Петрович, Дата прекращения деятельности: 08.09.2014\""
      ]
     },
     "metadata": {},
     "output_type": "display_data"
    }
   ],
   "source": [
    "zak_zav  <- remDr$findElement(using = \"xpath\", \"/html/body/div[1]/div[3]/div/div[1]/div[4]/div[2]/div[3]/div\")\n",
    "zak_zav$highlightElement()\n",
    "a  <-  zak_zav$getElementText()[[1]]\n",
    "a"
   ]
  },
  {
   "cell_type": "code",
   "execution_count": 75,
   "metadata": {
    "ExecuteTime": {
     "end_time": "2021-04-18T06:08:36.151411Z",
     "start_time": "2021-04-18T06:08:36.126Z"
    }
   },
   "outputs": [
    {
     "data": {
      "text/html": [
       "TRUE"
      ],
      "text/latex": [
       "TRUE"
      ],
      "text/markdown": [
       "TRUE"
      ],
      "text/plain": [
       "[1] TRUE"
      ]
     },
     "metadata": {},
     "output_type": "display_data"
    }
   ],
   "source": [
    "grepl('прекращения', a, fixed = TRUE)"
   ]
  },
  {
   "cell_type": "code",
   "execution_count": 86,
   "metadata": {
    "ExecuteTime": {
     "end_time": "2021-04-18T06:13:45.701295Z",
     "start_time": "2021-04-18T06:13:43.679Z"
    }
   },
   "outputs": [],
   "source": [
    "Sys.sleep(1)"
   ]
  },
  {
   "cell_type": "code",
   "execution_count": 99,
   "metadata": {
    "ExecuteTime": {
     "end_time": "2021-04-18T06:22:19.434407Z",
     "start_time": "2021-04-18T06:22:19.397Z"
    }
   },
   "outputs": [],
   "source": []
  },
  {
   "cell_type": "code",
   "execution_count": 136,
   "metadata": {
    "ExecuteTime": {
     "end_time": "2021-04-18T06:32:22.964896Z",
     "start_time": "2021-04-18T06:32:22.850Z"
    }
   },
   "outputs": [],
   "source": [
    "# goszak_df\n",
    "# remDr$navigate(\"https://egrul.nalog.ru/index.html\")\n",
    "# webElem <- remDr$findElement(using = \"css\", \".no-data\")\n",
    "# webElem$clickElement()\n",
    "# webElem <- remDr$findElements(\"css\", \"iframe\")\n",
    "# remDr$switchToFrame(webElem[[1]])\n",
    "# webElem <- remDr$findElement(using = \"xpath\", '//*[@id=\"chk_2\"]')\n",
    "# webElem <- remDr$findElement(using = \"xpath\", '//*[@id=\"btn_ok\"]')\n",
    "# webElem$clickElement()\n",
    "# windows <- remDr$getWindowHandles()\n",
    "# remDr$switchToWindow(windows[[1]])\n"
   ]
  },
  {
   "cell_type": "code",
   "execution_count": 139,
   "metadata": {
    "ExecuteTime": {
     "end_time": "2021-04-18T06:35:00.660477Z",
     "start_time": "2021-04-18T06:35:00.638Z"
    }
   },
   "outputs": [
    {
     "data": {
      "text/html": [
       "TRUE"
      ],
      "text/latex": [
       "TRUE"
      ],
      "text/markdown": [
       "TRUE"
      ],
      "text/plain": [
       "[1] TRUE"
      ]
     },
     "metadata": {},
     "output_type": "display_data"
    }
   ],
   "source": [
    "check <- TRUE\n",
    "check==T"
   ]
  },
  {
   "cell_type": "code",
   "execution_count": 168,
   "metadata": {
    "ExecuteTime": {
     "end_time": "2021-04-18T06:57:43.447319Z",
     "start_time": "2021-04-18T06:57:43.382Z"
    }
   },
   "outputs": [],
   "source": [
    "name_box  <- remDr$findElement(using = \"xpath\", \"/html/body/div[1]/div[3]/div/div[1]/div[4]/div[1]/div[3]/div\")\n",
    "name <-  name_box$getElementText()[[1]]\n"
   ]
  },
  {
   "cell_type": "code",
   "execution_count": 151,
   "metadata": {
    "ExecuteTime": {
     "end_time": "2021-04-18T06:43:44.773470Z",
     "start_time": "2021-04-18T06:43:44.752Z"
    }
   },
   "outputs": [
    {
     "data": {
      "text/html": [
       "<style>\n",
       ".list-inline {list-style: none; margin:0; padding: 0}\n",
       ".list-inline>li {display: inline-block}\n",
       ".list-inline>li:not(:last-child)::after {content: \"\\00b7\"; padding: 0 .5ex}\n",
       "</style>\n",
       "<ol class=list-inline><li>'ОБЩЕСТВО С ОГРАНИЧЕННОЙ ОТВЕТСТВЕННОСТЬЮ АЛЕАН'</li><li>'Общество с ограниченной ответственностью АЛЕАН'</li></ol>\n"
      ],
      "text/latex": [
       "\\begin{enumerate*}\n",
       "\\item 'ОБЩЕСТВО С ОГРАНИЧЕННОЙ ОТВЕТСТВЕННОСТЬЮ АЛЕАН'\n",
       "\\item 'Общество с ограниченной ответственностью АЛЕАН'\n",
       "\\end{enumerate*}\n"
      ],
      "text/markdown": [
       "1. 'ОБЩЕСТВО С ОГРАНИЧЕННОЙ ОТВЕТСТВЕННОСТЬЮ АЛЕАН'\n",
       "2. 'Общество с ограниченной ответственностью АЛЕАН'\n",
       "\n",
       "\n"
      ],
      "text/plain": [
       "[1] \"ОБЩЕСТВО С ОГРАНИЧЕННОЙ ОТВЕТСТВЕННОСТЬЮ АЛЕАН\"\n",
       "[2] \"Общество с ограниченной ответственностью АЛЕАН\""
      ]
     },
     "metadata": {},
     "output_type": "display_data"
    }
   ],
   "source": [
    "c(a1,a2)"
   ]
  },
  {
   "cell_type": "code",
   "execution_count": 159,
   "metadata": {
    "ExecuteTime": {
     "end_time": "2021-04-18T06:49:46.994573Z",
     "start_time": "2021-04-18T06:49:46.478Z"
    }
   },
   "outputs": [],
   "source": [
    "# goszak_df\n",
    "Sys.sleep(0.5)"
   ]
  },
  {
   "cell_type": "code",
   "execution_count": 170,
   "metadata": {
    "ExecuteTime": {
     "end_time": "2021-04-18T06:59:33.634233Z",
     "start_time": "2021-04-18T06:59:33.038Z"
    }
   },
   "outputs": [],
   "source": [
    "name_box  <- remDr$findElement(using = \"xpath\", \"/html/body/div[1]/div[3]/div/div[1]/div[4]/div[1]/div[2]/a\")\n",
    "name_box$highlightElement()"
   ]
  },
  {
   "cell_type": "code",
   "execution_count": 174,
   "metadata": {
    "ExecuteTime": {
     "end_time": "2021-04-18T07:02:14.682950Z",
     "start_time": "2021-04-18T07:02:14.130Z"
    }
   },
   "outputs": [],
   "source": [
    "name_box  <- remDr$findElement(using = \"xpath\", \"/html/body/div[1]/div[3]/div/div[1]/div[4]/div[1]/div[2]/a\")\n",
    "name_box$highlightElement()"
   ]
  },
  {
   "cell_type": "code",
   "execution_count": 176,
   "metadata": {
    "ExecuteTime": {
     "end_time": "2021-04-18T07:02:36.485130Z",
     "start_time": "2021-04-18T07:02:36.412Z"
    }
   },
   "outputs": [
    {
     "data": {
      "text/html": [
       "<ol>\n",
       "\t<li>'{d1f9c8f2-d20f-4fd4-9bb2-7ac3ca3a0569}'</li>\n",
       "</ol>\n"
      ],
      "text/latex": [
       "\\begin{enumerate}\n",
       "\\item '\\{d1f9c8f2-d20f-4fd4-9bb2-7ac3ca3a0569\\}'\n",
       "\\end{enumerate}\n"
      ],
      "text/markdown": [
       "1. '{d1f9c8f2-d20f-4fd4-9bb2-7ac3ca3a0569}'\n",
       "\n",
       "\n"
      ],
      "text/plain": [
       "[[1]]\n",
       "[1] \"{d1f9c8f2-d20f-4fd4-9bb2-7ac3ca3a0569}\"\n"
      ]
     },
     "metadata": {},
     "output_type": "display_data"
    }
   ],
   "source": [
    "windows <- remDr$getWindowHandles()\n",
    "windows"
   ]
  },
  {
   "cell_type": "code",
   "execution_count": 185,
   "metadata": {
    "ExecuteTime": {
     "end_time": "2021-04-18T07:06:18.533902Z",
     "start_time": "2021-04-18T07:06:18.255Z"
    }
   },
   "outputs": [
    {
     "name": "stderr",
     "output_type": "stream",
     "text": [
      "\n",
      "Selenium message:Unable to locate element: {\"method\":\"xpath\",\"selector\":\"/html/body/div[1]/div[3]/div/div[1]/div[4]/div[2]/div[3]/a\"}\n",
      "For documentation on this error, please visit: http://seleniumhq.org/exceptions/no_such_element.html\n",
      "Build info: version: '2.53.1', revision: 'a36b8b1', time: '2016-06-30 17:37:03'\n",
      "System info: host: 'a3462f1503d0', ip: '172.17.0.2', os.name: 'Linux', os.arch: 'amd64', os.version: '5.8.0-49-generic', java.version: '1.8.0_91'\n",
      "Driver info: driver.version: unknown\n",
      "\n",
      "\n"
     ]
    }
   ],
   "source": []
  },
  {
   "cell_type": "code",
   "execution_count": 186,
   "metadata": {
    "ExecuteTime": {
     "end_time": "2021-04-18T07:06:22.703423Z",
     "start_time": "2021-04-18T07:06:22.191Z"
    }
   },
   "outputs": [],
   "source": [
    "result$highlightElement()"
   ]
  },
  {
   "cell_type": "code",
   "execution_count": 33,
   "metadata": {
    "ExecuteTime": {
     "end_time": "2021-04-18T07:33:49.792709Z",
     "start_time": "2021-04-18T07:33:49.776Z"
    }
   },
   "outputs": [],
   "source": [
    "library(stringdist)"
   ]
  },
  {
   "cell_type": "code",
   "execution_count": null,
   "metadata": {},
   "outputs": [],
   "source": [
    "'/html/body/div[1]/div[3]/div/div[1]/div[4]/div[19]/div[3]/div'"
   ]
  },
  {
   "cell_type": "code",
   "execution_count": 44,
   "metadata": {
    "ExecuteTime": {
     "end_time": "2021-04-18T07:59:41.437706Z",
     "start_time": "2021-04-18T07:59:41.420Z"
    }
   },
   "outputs": [
    {
     "data": {
      "text/html": [
       "'333'"
      ],
      "text/latex": [
       "'333'"
      ],
      "text/markdown": [
       "'333'"
      ],
      "text/plain": [
       "[1] \"333\""
      ]
     },
     "metadata": {},
     "output_type": "display_data"
    }
   ],
   "source": [
    "i = 3 \n",
    "paste(toString(i), toString(i), toString(i), sep = '')\n"
   ]
  },
  {
   "cell_type": "code",
   "execution_count": 45,
   "metadata": {
    "ExecuteTime": {
     "end_time": "2021-04-18T08:00:31.560303Z",
     "start_time": "2021-04-18T08:00:31.547Z"
    }
   },
   "outputs": [],
   "source": [
    "get_name <- function(iii){\n",
    "    name_box  <- remDr$findElement(using = \"xpath\", paste(\"/html/body/div[1]/div[3]/div/div[1]/div[4]/div[\",toString(iii),\"]/div[2]/a\", sep=''))    \n",
    "    name <-  name_box$getElementText()[[1]]\n",
    "    return(name)\n",
    "}"
   ]
  },
  {
   "cell_type": "code",
   "execution_count": 51,
   "metadata": {
    "ExecuteTime": {
     "end_time": "2021-04-18T08:24:10.837516Z",
     "start_time": "2021-04-18T08:24:10.826Z"
    }
   },
   "outputs": [],
   "source": [
    "get_text <- function(iii){\n",
    "    text_box  <- remDr$findElement(using = \"xpath\", paste(\"/html/body/div[1]/div[3]/div/div[1]/div[4]/div[\",toString(iii),\"]/div[3]/div\", sep=''))\n",
    "    text <-  text_box$getElementText()[[1]]\n",
    "    return(text)\n",
    "}"
   ]
  },
  {
   "cell_type": "code",
   "execution_count": 50,
   "metadata": {
    "ExecuteTime": {
     "end_time": "2021-04-18T08:10:43.278640Z",
     "start_time": "2021-04-18T08:10:43.264Z"
    }
   },
   "outputs": [],
   "source": [
    "check_name <- function(iii, name){\n",
    "    a1 <- gsub(\"[[:punct:]]\", \"\", name)  # no libraries needed\n",
    "    a2 <- gsub(\"[[:punct:]]\", \"\", goszak_df[[iii,1]]) \n",
    "    check_name <- stringdist(tolower(a1),tolower(a2), method='lv')\n",
    "    return(check_name == 0)\n",
    "}"
   ]
  },
  {
   "cell_type": "code",
   "execution_count": 79,
   "metadata": {
    "ExecuteTime": {
     "end_time": "2021-04-18T08:41:03.120523Z",
     "start_time": "2021-04-18T08:41:03.107Z"
    }
   },
   "outputs": [
    {
     "data": {
      "text/html": [
       "<style>\n",
       ".list-inline {list-style: none; margin:0; padding: 0}\n",
       ".list-inline>li {display: inline-block}\n",
       ".list-inline>li:not(:last-child)::after {content: \"\\00b7\"; padding: 0 .5ex}\n",
       "</style>\n",
       "<ol class=list-inline><li>1</li><li>3</li><li>4</li><li>5</li><li>6</li><li>7</li><li>8</li><li>9</li></ol>\n"
      ],
      "text/latex": [
       "\\begin{enumerate*}\n",
       "\\item 1\n",
       "\\item 3\n",
       "\\item 4\n",
       "\\item 5\n",
       "\\item 6\n",
       "\\item 7\n",
       "\\item 8\n",
       "\\item 9\n",
       "\\end{enumerate*}\n"
      ],
      "text/markdown": [
       "1. 1\n",
       "2. 3\n",
       "3. 4\n",
       "4. 5\n",
       "5. 6\n",
       "6. 7\n",
       "7. 8\n",
       "8. 9\n",
       "\n",
       "\n"
      ],
      "text/plain": [
       "[1] 1 3 4 5 6 7 8 9"
      ]
     },
     "metadata": {},
     "output_type": "display_data"
    }
   ],
   "source": [
    "seq(1,9)[-2]"
   ]
  },
  {
   "cell_type": "code",
   "execution_count": null,
   "metadata": {},
   "outputs": [],
   "source": [
    "/html/body/div[1]/div[3]/div/div[1]/div[4]/div[12]/div[3]/div"
   ]
  },
  {
   "cell_type": "code",
   "execution_count": 48,
   "metadata": {
    "ExecuteTime": {
     "end_time": "2021-04-18T08:00:48.596076Z",
     "start_time": "2021-04-18T08:00:48.546Z"
    }
   },
   "outputs": [
    {
     "data": {
      "text/html": [
       "'ОБЩЕСТВО С ОГРАНИЧЕННОЙ ОТВЕТСТВЕННОСТЬЮ \"АЛЬЯНС\"'"
      ],
      "text/latex": [
       "'ОБЩЕСТВО С ОГРАНИЧЕННОЙ ОТВЕТСТВЕННОСТЬЮ \"АЛЬЯНС\"'"
      ],
      "text/markdown": [
       "'ОБЩЕСТВО С ОГРАНИЧЕННОЙ ОТВЕТСТВЕННОСТЬЮ \"АЛЬЯНС\"'"
      ],
      "text/plain": [
       "[1] \"ОБЩЕСТВО С ОГРАНИЧЕННОЙ ОТВЕТСТВЕННОСТЬЮ \\\"АЛЬЯНС\\\"\""
      ]
     },
     "metadata": {},
     "output_type": "display_data"
    }
   ],
   "source": [
    "get_name(4)"
   ]
  },
  {
   "cell_type": "code",
   "execution_count": 127,
   "metadata": {
    "ExecuteTime": {
     "end_time": "2021-04-18T10:12:31.155434Z",
     "start_time": "2021-04-18T09:38:03.535Z"
    }
   },
   "outputs": [
    {
     "name": "stdout",
     "output_type": "stream",
     "text": [
      "[1] 98\n",
      "[1] 99\n",
      "[1] 100\n",
      "[1] 101\n",
      "[1] 102\n",
      "[1] 103\n",
      "[1] 104\n",
      "[1] 105\n",
      "[1] 106\n",
      "[1] 107\n",
      "[1] 108\n",
      "[1] 109\n",
      "[1] 110\n",
      "[1] 111\n",
      "[1] 112\n",
      "[1] 113\n",
      "[1] 114\n",
      "[1] 115\n",
      "[1] 116\n",
      "[1] 117\n",
      "[1] 118\n",
      "[1] 119\n",
      "[1] 120\n",
      "[1] 121\n",
      "[1] 122\n",
      "[1] 123\n",
      "[1] 124\n",
      "[1] 125\n",
      "[1] 126\n",
      "[1] 127\n",
      "[1] 128\n",
      "[1] 129\n",
      "[1] 130\n",
      "[1] 131\n",
      "[1] 132\n",
      "[1] 133\n",
      "[1] 134\n",
      "[1] 136\n",
      "[1] 137\n",
      "[1] 138\n",
      "[1] 139\n",
      "[1] 140\n",
      "[1] 141\n",
      "[1] 142\n",
      "[1] 143\n",
      "[1] 144\n",
      "[1] 145\n",
      "[1] 146\n",
      "[1] 147\n",
      "[1] 148\n",
      "[1] 149\n",
      "[1] 150\n",
      "[1] 151\n",
      "[1] 152\n",
      "[1] 153\n",
      "[1] 154\n",
      "[1] 155\n",
      "[1] 156\n",
      "[1] 157\n",
      "[1] 158\n",
      "[1] 159\n",
      "[1] 160\n",
      "[1] 161\n",
      "[1] 162\n",
      "[1] 163\n",
      "[1] 164\n",
      "[1] 165\n",
      "[1] 166\n",
      "[1] 167\n",
      "[1] 168\n",
      "[1] 169\n",
      "[1] 170\n",
      "[1] 171\n",
      "[1] 172\n",
      "[1] 173\n",
      "[1] 174\n",
      "[1] 175\n",
      "[1] 176\n",
      "[1] 179\n",
      "[1] 180\n",
      "[1] 181\n",
      "[1] 182\n",
      "[1] 183\n",
      "[1] 184\n",
      "[1] 185\n",
      "[1] 186\n",
      "[1] 187\n",
      "[1] 188\n",
      "[1] 189\n",
      "[1] 190\n",
      "[1] 191\n",
      "[1] 192\n",
      "[1] 193\n",
      "[1] 194\n",
      "[1] 195\n",
      "[1] 196\n",
      "[1] 197\n",
      "[1] 198\n",
      "[1] 199\n",
      "[1] 201\n",
      "[1] 202\n",
      "[1] 203\n",
      "[1] 204\n",
      "[1] 205\n",
      "[1] 206\n",
      "[1] 207\n",
      "[1] 208\n",
      "[1] 209\n",
      "[1] 210\n",
      "[1] 211\n",
      "[1] 212\n",
      "[1] 213\n",
      "[1] 215\n",
      "[1] 216\n",
      "[1] 217\n",
      "[1] 218\n"
     ]
    },
    {
     "name": "stderr",
     "output_type": "stream",
     "text": [
      "\n",
      "Selenium message:Unable to locate element: {\"method\":\"xpath\",\"selector\":\"/html/body/div[1]/div[3]/div/div[1]/div[4]/div[1]/div[2]/a\"}\n",
      "For documentation on this error, please visit: http://seleniumhq.org/exceptions/no_such_element.html\n",
      "Build info: version: '2.53.1', revision: 'a36b8b1', time: '2016-06-30 17:37:03'\n",
      "System info: host: 'f61482ed9ebb', ip: '172.17.0.2', os.name: 'Linux', os.arch: 'amd64', os.version: '5.8.0-49-generic', java.version: '1.8.0_91'\n",
      "Driver info: driver.version: unknown\n",
      "\n",
      "\n"
     ]
    },
    {
     "name": "stdout",
     "output_type": "stream",
     "text": [
      "[1] 219\n",
      "[1] 221\n",
      "[1] 222\n",
      "[1] 223\n",
      "[1] 224\n"
     ]
    },
    {
     "name": "stderr",
     "output_type": "stream",
     "text": [
      "\n",
      "Selenium message:Unable to locate element: {\"method\":\"xpath\",\"selector\":\"/html/body/div[1]/div[3]/div/div[1]/div[4]/div[1]/div[2]/a\"}\n",
      "For documentation on this error, please visit: http://seleniumhq.org/exceptions/no_such_element.html\n",
      "Build info: version: '2.53.1', revision: 'a36b8b1', time: '2016-06-30 17:37:03'\n",
      "System info: host: 'f61482ed9ebb', ip: '172.17.0.2', os.name: 'Linux', os.arch: 'amd64', os.version: '5.8.0-49-generic', java.version: '1.8.0_91'\n",
      "Driver info: driver.version: unknown\n",
      "\n",
      "\n"
     ]
    },
    {
     "name": "stdout",
     "output_type": "stream",
     "text": [
      "[1] 225\n",
      "[1] 226\n",
      "[1] 227\n",
      "[1] 228\n",
      "[1] 229\n",
      "[1] 230\n",
      "[1] 231\n",
      "[1] 232\n",
      "[1] 233\n",
      "[1] 234\n",
      "[1] 235\n",
      "[1] 236\n",
      "[1] 237\n",
      "[1] 241\n",
      "[1] 242\n",
      "[1] 243\n",
      "[1] 244\n",
      "[1] 245\n",
      "[1] 246\n",
      "[1] 247\n",
      "[1] 248\n",
      "[1] 249\n",
      "[1] 250\n",
      "[1] 251\n",
      "[1] 254\n",
      "[1] 255\n",
      "[1] 256\n",
      "[1] 257\n",
      "[1] 258\n",
      "[1] 259\n",
      "[1] 260\n",
      "[1] 261\n",
      "[1] 262\n",
      "[1] 263\n",
      "[1] 264\n",
      "[1] 265\n",
      "[1] 266\n",
      "[1] 267\n",
      "[1] 268\n",
      "[1] 269\n",
      "[1] 270\n",
      "[1] 271\n",
      "[1] 272\n",
      "[1] 273\n",
      "[1] 274\n",
      "[1] 275\n",
      "[1] 276\n",
      "[1] 277\n",
      "[1] 278\n",
      "[1] 279\n",
      "[1] 280\n",
      "[1] 281\n",
      "[1] 282\n",
      "[1] 283\n",
      "[1] 284\n",
      "[1] 285\n",
      "[1] 286\n",
      "[1] 287\n",
      "[1] 288\n",
      "[1] 289\n",
      "[1] 290\n",
      "[1] 291\n",
      "[1] 292\n",
      "[1] 294\n",
      "[1] 295\n",
      "[1] 298\n",
      "[1] 299\n",
      "[1] 301\n",
      "[1] 302\n",
      "[1] 303\n",
      "[1] 304\n",
      "[1] 305\n",
      "[1] 306\n",
      "[1] 307\n",
      "[1] 308\n",
      "[1] 309\n",
      "[1] 310\n",
      "[1] 311\n",
      "[1] 312\n",
      "[1] 313\n",
      "[1] 314\n",
      "[1] 315\n",
      "[1] 316\n",
      "[1] 318\n",
      "[1] 319\n",
      "[1] 320\n",
      "[1] 321\n",
      "[1] 322\n",
      "[1] 323\n",
      "[1] 324\n",
      "[1] 325\n",
      "[1] 326\n",
      "[1] 327\n",
      "[1] 329\n",
      "[1] 330\n",
      "[1] 331\n",
      "[1] 332\n",
      "[1] 333\n",
      "[1] 334\n",
      "[1] 335\n",
      "[1] 336\n",
      "[1] 338\n",
      "[1] 339\n",
      "[1] 340\n",
      "[1] 342\n",
      "[1] 343\n",
      "[1] 344\n",
      "[1] 345\n",
      "[1] 346\n",
      "[1] 347\n",
      "[1] 348\n",
      "[1] 349\n",
      "[1] 350\n",
      "[1] 351\n",
      "[1] 352\n"
     ]
    }
   ],
   "source": [
    "check <- TRUE\n",
    "count <- 96\n",
    "while (check==TRUE){\n",
    "    remDr$navigate(\"https://egrul.nalog.ru/index.html\")\n",
    "    \n",
    "    webElem <- remDr$findElement(using = \"css\", \".no-data\")\n",
    "    webElem$clickElement()\n",
    "    \n",
    "    Sys.sleep(1)\n",
    "    \n",
    "    webElem <- remDr$findElements(\"css\", \"iframe\")\n",
    "    remDr$switchToFrame(webElem[[1]])\n",
    "    \n",
    "    webElem <- remDr$findElement(using = \"xpath\", '//*[@id=\"chk_2\"]')\n",
    "    webElem$clickElement()\n",
    "    \n",
    "    webElem <- remDr$findElement(using = \"xpath\", '//*[@id=\"btn_ok\"]')\n",
    "    webElem$clickElement()\n",
    "    \n",
    "    windows <- remDr$getWindowHandles()\n",
    "    remDr$switchToWindow(windows[[1]])\n",
    "    \n",
    "    webElem <- remDr$findElement(using = \"css\", \"#query\")\n",
    "    webElem$sendKeysToElement(list(goszak_df[[count,1]], key = \"enter\"))\n",
    "    \n",
    "    Sys.sleep(4)\n",
    "    \n",
    "    box <- tryCatch({\n",
    "        remDr$findElement(using = \"xpath\", \"/html/body/div[1]/div[3]/div/div[1]/div[4]/div[1]/div[2]/a\")\n",
    "    }, error = function(warning_condition) {\n",
    "        Sys.sleep(10)\n",
    "        remDr$findElement(using = \"xpath\", \"/html/body/div[1]/div[3]/div/div[1]/div[4]/div[1]/div[2]/a\")\n",
    "    })\n",
    "    \n",
    "    \n",
    "    num_res <- 1 \n",
    "    \n",
    "    list_nums <-  c()\n",
    "    \n",
    "    while (num_res <= 20){\n",
    "        name <- get_name(num_res)\n",
    "        check_name_1 <- check_name(count,name)\n",
    "        if ((length(list_nums)==0)&!check_name_1){\n",
    "            num_res <- num_res+1\n",
    "        } else if (check_name_1){\n",
    "            list_nums <- c(list_nums, num_res) \n",
    "            num_res <- num_res+1\n",
    "        } else if ((length(list_nums)!=0)&!check_name_1){\n",
    "            num_res <- 21\n",
    "        }\n",
    "    }\n",
    "    \n",
    "    if (length(list_nums)==0){\n",
    "#         check <- FALSE\n",
    "        count = count + 1\n",
    "        next\n",
    "#         break\n",
    "    }\n",
    "    \n",
    "    inn_list <- c()\n",
    "    \n",
    "    for (ij in list_nums){\n",
    "        text <- get_text(ij)\n",
    "        check_text <- grepl('прекращения', text, fixed = TRUE)\n",
    "        if (!check_text){\n",
    "            bb <- unlist(strsplit(text, \",\"))\n",
    "            cc <- bb[grepl('ИНН', bb, fixed = TRUE)]\n",
    "            inn <- unlist(strsplit(cc, \": \"))[2]\n",
    "            inn_list <- c(inn_list, inn)\n",
    "        }\n",
    "    }\n",
    "    \n",
    "# #     double_check begin\n",
    "    \n",
    "#     if (length(inn_list)==0){\n",
    "#         list_nums <-  c()\n",
    "#         num_res <- 1\n",
    "#         while (num_res <= 20){\n",
    "#             name <- get_name(num_res)\n",
    "#             check_name_1 <- check_name(count,name)\n",
    "#             if ((length(list_nums)==0)&!check_name_1){\n",
    "#                 num_res <- num_res+1\n",
    "#             } else if (check_name_1){\n",
    "#                 list_nums <- c(list_nums, num_res) \n",
    "#                 num_res <- num_res+1\n",
    "#             } \n",
    "#         }\n",
    "\n",
    "#         if (length(list_nums)==0){\n",
    "#             check <- FALSE\n",
    "#             break\n",
    "#         }\n",
    "\n",
    "#         inn_list <- c()\n",
    "\n",
    "#         for (ij in list_nums){\n",
    "#             text <- get_text(ij)\n",
    "#             check_text <- grepl('прекращения', text, fixed = TRUE)\n",
    "#             if (!check_text){\n",
    "#                 bb <- unlist(strsplit(text, \",\"))\n",
    "#                 cc <- bb[grepl('ИНН', bb, fixed = TRUE)]\n",
    "#                 inn <- unlist(strsplit(cc, \": \"))[2]\n",
    "#                 inn_list <- c(inn_list, inn)\n",
    "#             }\n",
    "#         }\n",
    "#     }\n",
    "        \n",
    "# #     double_check    end\n",
    "    \n",
    "    goszak_df[[count,3]] <- length(inn_list)   \n",
    "    if (length(inn_list) == 1){\n",
    "        goszak_df[[count,2]] <- inn_list\n",
    "    } else {\n",
    "        goszak_df[[count,2]] <- inn_list[1]\n",
    "        goszak_df[[count,4]] <- paste(inn_list[-1], collapse = ', ')\n",
    "    }\n",
    "    \n",
    "    \n",
    "    count = count + 1\n",
    "\n",
    "    \n",
    "#     if (count > 10){\n",
    "    if (count > dim(goszak_df)[1]){\n",
    "        check <- FALSE\n",
    "    }\n",
    "    \n",
    "    print(count)\n",
    "    \n",
    "    Sys.sleep(2)\n",
    "}\n",
    "\n",
    "\n",
    "# webElem$highlightElement()\n",
    "\n",
    "\n",
    "\n",
    "\n"
   ]
  },
  {
   "cell_type": "code",
   "execution_count": 104,
   "metadata": {
    "ExecuteTime": {
     "end_time": "2021-04-18T09:21:39.751410Z",
     "start_time": "2021-04-18T09:21:39.737Z"
    }
   },
   "outputs": [
    {
     "data": {
      "text/html": [
       "<style>\n",
       ".list-inline {list-style: none; margin:0; padding: 0}\n",
       ".list-inline>li {display: inline-block}\n",
       ".list-inline>li:not(:last-child)::after {content: \"\\00b7\"; padding: 0 .5ex}\n",
       "</style>\n",
       "<ol class=list-inline><li>1</li><li>2</li></ol>\n"
      ],
      "text/latex": [
       "\\begin{enumerate*}\n",
       "\\item 1\n",
       "\\item 2\n",
       "\\end{enumerate*}\n"
      ],
      "text/markdown": [
       "1. 1\n",
       "2. 2\n",
       "\n",
       "\n"
      ],
      "text/plain": [
       "[1] 1 2"
      ]
     },
     "metadata": {},
     "output_type": "display_data"
    }
   ],
   "source": [
    "list_nums"
   ]
  },
  {
   "cell_type": "code",
   "execution_count": 105,
   "metadata": {
    "ExecuteTime": {
     "end_time": "2021-04-18T09:22:09.265418Z",
     "start_time": "2021-04-18T09:22:09.227Z"
    }
   },
   "outputs": [
    {
     "data": {
      "text/html": [
       "0"
      ],
      "text/latex": [
       "0"
      ],
      "text/markdown": [
       "0"
      ],
      "text/plain": [
       "[1] 0"
      ]
     },
     "metadata": {},
     "output_type": "display_data"
    }
   ],
   "source": [
    "length(inn_list)"
   ]
  },
  {
   "cell_type": "code",
   "execution_count": 93,
   "metadata": {
    "ExecuteTime": {
     "end_time": "2021-04-18T09:07:06.583154Z",
     "start_time": "2021-04-18T09:07:06.567Z"
    }
   },
   "outputs": [],
   "source": [
    "goszak_df[[55,2]] <- '7729647102'\n",
    "goszak_df[[68,2]] <- '7715939497'\n",
    "goszak_df[[68,4]] <- '7716830566, 7714965039, 7722379038, 7703357582, 7727462642'\n",
    "goszak_df[[72,2]] <- '9701068282'\n",
    "goszak_df[[88,2]] <- '9718110849'"
   ]
  },
  {
   "cell_type": "code",
   "execution_count": null,
   "metadata": {},
   "outputs": [],
   "source": [
    "goszak_df[[96,2]] <- '7719588761' # because of spaces \" - \""
   ]
  },
  {
   "cell_type": "code",
   "execution_count": 131,
   "metadata": {
    "ExecuteTime": {
     "end_time": "2021-04-18T10:15:05.331092Z",
     "start_time": "2021-04-18T10:15:04.756Z"
    }
   },
   "outputs": [],
   "source": [
    "write.xlsx(goszak_df, 'part_2.xlsx')"
   ]
  },
  {
   "cell_type": "code",
   "execution_count": 128,
   "metadata": {
    "ExecuteTime": {
     "end_time": "2021-04-18T10:13:21.068419Z",
     "start_time": "2021-04-18T10:13:20.999Z"
    }
   },
   "outputs": [
    {
     "data": {
      "text/html": [
       "<table>\n",
       "<caption>A tibble: 256 × 4</caption>\n",
       "<thead>\n",
       "\t<tr><th scope=col>Название</th><th scope=col>ИНН</th><th scope=col>name</th><th scope=col>text</th></tr>\n",
       "\t<tr><th scope=col>&lt;chr&gt;</th><th scope=col>&lt;chr&gt;</th><th scope=col>&lt;dbl&gt;</th><th scope=col>&lt;chr&gt;</th></tr>\n",
       "</thead>\n",
       "<tbody>\n",
       "\t<tr><td>Общество с ограниченной ответственностью «Гай-Комплект»               </td><td>NA        </td><td>0</td><td>NA                                                                                </td></tr>\n",
       "\t<tr><td>Общество с ограниченной ответственностью «ГамаВетФарм»                </td><td>7734240986</td><td>1</td><td>NA                                                                                </td></tr>\n",
       "\t<tr><td>Общество с ограниченной ответственностью «ГАММА-КАРТ»                 </td><td>7731342549</td><td>1</td><td>NA                                                                                </td></tr>\n",
       "\t<tr><td>Общество с ограниченной ответственностью «ГАММА-ПЛАСТ»                </td><td>7723908887</td><td>1</td><td>NA                                                                                </td></tr>\n",
       "\t<tr><td>Общество с ограниченной ответственностью «ГеймингСенс»                </td><td>7743273917</td><td>1</td><td>NA                                                                                </td></tr>\n",
       "\t<tr><td>Общество с ограниченной ответственностью «ГЕЛЬТЕК-МЕДИКА»             </td><td>7729523682</td><td>1</td><td>NA                                                                                </td></tr>\n",
       "\t<tr><td>Общество с ограниченной ответственностью «ГЕМ»                        </td><td>7729785960</td><td>2</td><td>7714044006                                                                        </td></tr>\n",
       "\t<tr><td>Общество с ограниченной ответственностью «Гематологическая Корпорация»</td><td>7728731552</td><td>1</td><td>NA                                                                                </td></tr>\n",
       "\t<tr><td>Общество с ограниченной ответственностью «ГеноТехнология»             </td><td>7713309210</td><td>1</td><td>NA                                                                                </td></tr>\n",
       "\t<tr><td>Общество с ограниченной ответственностью «Геосплит»                   </td><td> ИНН      </td><td>1</td><td>NA                                                                                </td></tr>\n",
       "\t<tr><td>Общество с ограниченной ответственностью «ГИЛЬДИЯ ИНЖЕНЕРОВ»          </td><td>7702729277</td><td>1</td><td>NA                                                                                </td></tr>\n",
       "\t<tr><td>Общество с ограниченной ответственностью «ГЛОБУС»                     </td><td>7702683745</td><td>8</td><td>7727102865, 7704797392, 7703415925, 7716897120, 9701098738, 7714873772, 7735170241</td></tr>\n",
       "\t<tr><td>Общество с ограниченной ответственностью «ГОРОД 77»                   </td><td>9721049400</td><td>1</td><td>NA                                                                                </td></tr>\n",
       "\t<tr><td>Общество с ограниченной ответственностью «Горячие крендели «Север»    </td><td>7729417420</td><td>1</td><td>NA                                                                                </td></tr>\n",
       "\t<tr><td>Общество с ограниченной ответственностью «Гравер»                     </td><td>7706762275</td><td>2</td><td>7725410977                                                                        </td></tr>\n",
       "\t<tr><td>Общество с ограниченной ответственностью «Градиент М»                 </td><td>7718718538</td><td>1</td><td>NA                                                                                </td></tr>\n",
       "\t<tr><td>Общество с ограниченной ответственностью «ГранФорс»                   </td><td>7736635010</td><td>1</td><td>NA                                                                                </td></tr>\n",
       "\t<tr><td>Общество с ограниченной ответственностью «Графика Груп»               </td><td>7728365271</td><td>1</td><td>NA                                                                                </td></tr>\n",
       "\t<tr><td>Общество с ограниченной ответственностью «ГРАЦИЯ-15»                  </td><td>7719081763</td><td>1</td><td>NA                                                                                </td></tr>\n",
       "\t<tr><td>Общество с ограниченной ответственностью «Группа Компаний Консалтика» </td><td>7718298731</td><td>1</td><td>NA                                                                                </td></tr>\n",
       "\t<tr><td>Общество с ограниченной ответственностью «Группа Компаний Про Артс»   </td><td>9704058980</td><td>2</td><td>7726597975                                                                        </td></tr>\n",
       "\t<tr><td>Общество с ограниченной ответственностью «ГРУППА МЕТАРУС»             </td><td>7719450273</td><td>1</td><td>NA                                                                                </td></tr>\n",
       "\t<tr><td>Общество с ограниченной ответственностью «Гтлс»                       </td><td>7731479455</td><td>1</td><td>NA                                                                                </td></tr>\n",
       "\t<tr><td>Общество с ограниченной ответственностью «Гуру Тур»                   </td><td>7724888175</td><td>1</td><td>NA                                                                                </td></tr>\n",
       "\t<tr><td>Общество с ограниченной ответственностью «Гурус БиоФарм»              </td><td> ИНН      </td><td>1</td><td>NA                                                                                </td></tr>\n",
       "\t<tr><td>Общество с ограниченной ответственностью «Дана Инжиниринг»            </td><td>7720763506</td><td>1</td><td>NA                                                                                </td></tr>\n",
       "\t<tr><td>Общество с ограниченной ответственностью «Дар Экспо Дисплэй»          </td><td>7701371172</td><td>1</td><td>NA                                                                                </td></tr>\n",
       "\t<tr><td>Общество с ограниченной ответственностью «ДАТАДОМ»                    </td><td>7722398513</td><td>1</td><td>NA                                                                                </td></tr>\n",
       "\t<tr><td>Общество с ограниченной ответственностью «ДВИН»                       </td><td>7726038423</td><td>4</td><td>5074040039, 7728894660, 7720648239                                                </td></tr>\n",
       "\t<tr><td>Общество с ограниченной ответственностью «ДЕФЕРО»                     </td><td>7723785480</td><td>1</td><td>NA                                                                                </td></tr>\n",
       "\t<tr><td>⋮</td><td>⋮</td><td>⋮</td><td>⋮</td></tr>\n",
       "\t<tr><td>Общество с ограниченной ответственностью «Научно-Производственное Объединение «Перспектива»               </td><td>9717056187</td><td> 1</td><td>NA                                                                                                                                                                                                                                </td></tr>\n",
       "\t<tr><td>ОБЩЕСТВО С ОГРАНИЧЕННОЙ ОТВЕТСТВЕННОСТЬЮ «НАУЧНО-ПРОИЗВОДСТВЕННОЕ ПРЕДПРИЯТИЕ «ДОЗА»                      </td><td>7735542228</td><td> 1</td><td>NA                                                                                                                                                                                                                                </td></tr>\n",
       "\t<tr><td>Общество с ограниченной ответственностью «Научно-производственное предприятие «ИТЭЛМА»                    </td><td>7724685256</td><td> 1</td><td>NA                                                                                                                                                                                                                                </td></tr>\n",
       "\t<tr><td>Общество с ограниченной ответственностью «Научно-производственное предприятие «ЭЛЕМЕР»                    </td><td>5044003551</td><td> 1</td><td>NA                                                                                                                                                                                                                                </td></tr>\n",
       "\t<tr><td>Общество с ограниченной ответственностью «Научно-производственный центр «Трезор»                          </td><td>7719848032</td><td> 1</td><td>NA                                                                                                                                                                                                                                </td></tr>\n",
       "\t<tr><td>Общество с ограниченной ответственностью «Научно-производственный центр неразрушающего контроля «ЭХО плюс»</td><td>NA        </td><td> 0</td><td>NA                                                                                                                                                                                                                                </td></tr>\n",
       "\t<tr><td>Общество с ограниченной ответственностью «Научно-промышленная компания «ТЕХНОВОТУМ»                       </td><td>7735535277</td><td> 1</td><td>NA                                                                                                                                                                                                                                </td></tr>\n",
       "\t<tr><td>Общество с ограниченной ответственностью «Научно-технический центр «Бакор»                                </td><td>7751042279</td><td> 1</td><td>NA                                                                                                                                                                                                                                </td></tr>\n",
       "\t<tr><td>Общество с ограниченной ответственностью «НАУЧНО-ТЕХНИЧЕСКИЙ ЦЕНТР Т8»                                    </td><td>7743543384</td><td> 1</td><td>NA                                                                                                                                                                                                                                </td></tr>\n",
       "\t<tr><td>Общество с ограниченной ответственностью «Научно-Технологический Центр «БИОИНВЕСТ»                        </td><td>7727559027</td><td> 1</td><td>NA                                                                                                                                                                                                                                </td></tr>\n",
       "\t<tr><td>Общество с ограниченной ответственностью «Научные развлечения»                                            </td><td>7724614449</td><td> 1</td><td>NA                                                                                                                                                                                                                                </td></tr>\n",
       "\t<tr><td>Общество с ограниченной ответственностью «НАУЧНЫЙ ЦЕНТР «БИОФОРМ»                                         </td><td>7751524924</td><td> 1</td><td>NA                                                                                                                                                                                                                                </td></tr>\n",
       "\t<tr><td>Общество с ограниченной ответственностью «НАШ ОБЩИЙ ДОМ»                                                  </td><td>7716831055</td><td> 1</td><td>NA                                                                                                                                                                                                                                </td></tr>\n",
       "\t<tr><td>Общество с ограниченной ответственностью «Наяда Нейлс»                                                    </td><td>7722313164</td><td> 1</td><td>NA                                                                                                                                                                                                                                </td></tr>\n",
       "\t<tr><td>Общество с ограниченной ответственностью «НГТ-СИНТЕЗ»                                                     </td><td>NA        </td><td> 0</td><td>NA                                                                                                                                                                                                                                </td></tr>\n",
       "\t<tr><td>Общество с ограниченной ответственностью «Не по Годам»                                                    </td><td>9731022983</td><td> 1</td><td>NA                                                                                                                                                                                                                                </td></tr>\n",
       "\t<tr><td>Общество с ограниченной ответственностью «НЕВИДИМЫЕ ДРУЗЬЯ»                                               </td><td>7733906857</td><td> 1</td><td>NA                                                                                                                                                                                                                                </td></tr>\n",
       "\t<tr><td>Общество с ограниченной ответственностью «НЕВРОКОР»                                                       </td><td>7721675556</td><td> 1</td><td>NA                                                                                                                                                                                                                                </td></tr>\n",
       "\t<tr><td>Общество с ограниченной ответственностью «Некст-Т»                                                        </td><td>NA        </td><td> 0</td><td>NA                                                                                                                                                                                                                                </td></tr>\n",
       "\t<tr><td>Общество с ограниченной ответственностью «НЕОТЭК»                                                         </td><td>7718763019</td><td> 5</td><td>7708649420, 9715304540, 7722391934, 7705299008                                                                                                                                                                                    </td></tr>\n",
       "\t<tr><td>Общество с ограниченной ответственностью «Нетканика»                                                      </td><td>7720427342</td><td> 1</td><td>NA                                                                                                                                                                                                                                </td></tr>\n",
       "\t<tr><td>Общество с ограниченной ответственностью «НЕФТЕГАЗБРОКЕР»                                                 </td><td>7720729061</td><td> 1</td><td>NA                                                                                                                                                                                                                                </td></tr>\n",
       "\t<tr><td>Общество с ограниченной ответственностью «НИБС»                                                           </td><td>7701642538</td><td> 1</td><td>NA                                                                                                                                                                                                                                </td></tr>\n",
       "\t<tr><td>Общество с ограниченной ответственностью «НИИКЭУ»                                                         </td><td>7743877500</td><td> 1</td><td>NA                                                                                                                                                                                                                                </td></tr>\n",
       "\t<tr><td>Общество с ограниченной ответственностью «НИКА»                                                           </td><td>7716903221</td><td>20</td><td>7718872113, 7720412515, 7707403663, 7731294278, 5032294240, 7728804828, 7717723743, 7727755173, 7728361950, 7724367158, 7715981467, 7725473127, 7724949646, 7743642882, 7714395170, 7709426793, 7716812408, 7728743879, 7727304124</td></tr>\n",
       "\t<tr><td>Общество с ограниченной ответственностью «НоваПродукт АГ»                                                 </td><td>7707288097</td><td> 1</td><td>NA                                                                                                                                                                                                                                </td></tr>\n",
       "\t<tr><td>Общество с ограниченной ответственностью «Новолабсистем»                                                  </td><td>7730661623</td><td> 1</td><td>NA                                                                                                                                                                                                                                </td></tr>\n",
       "\t<tr><td>Общество с ограниченной ответственностью «НОВЫЙ ПОЛЮС»                                                    </td><td>7718884609</td><td> 1</td><td>NA                                                                                                                                                                                                                                </td></tr>\n",
       "\t<tr><td>Общество с ограниченной ответственностью «НОРД Инжиниринг»                                                </td><td>7707806158</td><td> 1</td><td>NA                                                                                                                                                                                                                                </td></tr>\n",
       "\t<tr><td>Общество с ограниченной ответственностью «Нпк Пожхимзащита»                                               </td><td>7725403923</td><td> 1</td><td>NA                                                                                                                                                                                                                                </td></tr>\n",
       "</tbody>\n",
       "</table>\n"
      ],
      "text/latex": [
       "A tibble: 256 × 4\n",
       "\\begin{tabular}{llll}\n",
       " Название & ИНН & name & text\\\\\n",
       " <chr> & <chr> & <dbl> & <chr>\\\\\n",
       "\\hline\n",
       "\t Общество с ограниченной ответственностью «Гай-Комплект»                & NA         & 0 & NA                                                                                \\\\\n",
       "\t Общество с ограниченной ответственностью «ГамаВетФарм»                 & 7734240986 & 1 & NA                                                                                \\\\\n",
       "\t Общество с ограниченной ответственностью «ГАММА-КАРТ»                  & 7731342549 & 1 & NA                                                                                \\\\\n",
       "\t Общество с ограниченной ответственностью «ГАММА-ПЛАСТ»                 & 7723908887 & 1 & NA                                                                                \\\\\n",
       "\t Общество с ограниченной ответственностью «ГеймингСенс»                 & 7743273917 & 1 & NA                                                                                \\\\\n",
       "\t Общество с ограниченной ответственностью «ГЕЛЬТЕК-МЕДИКА»              & 7729523682 & 1 & NA                                                                                \\\\\n",
       "\t Общество с ограниченной ответственностью «ГЕМ»                         & 7729785960 & 2 & 7714044006                                                                        \\\\\n",
       "\t Общество с ограниченной ответственностью «Гематологическая Корпорация» & 7728731552 & 1 & NA                                                                                \\\\\n",
       "\t Общество с ограниченной ответственностью «ГеноТехнология»              & 7713309210 & 1 & NA                                                                                \\\\\n",
       "\t Общество с ограниченной ответственностью «Геосплит»                    &  ИНН       & 1 & NA                                                                                \\\\\n",
       "\t Общество с ограниченной ответственностью «ГИЛЬДИЯ ИНЖЕНЕРОВ»           & 7702729277 & 1 & NA                                                                                \\\\\n",
       "\t Общество с ограниченной ответственностью «ГЛОБУС»                      & 7702683745 & 8 & 7727102865, 7704797392, 7703415925, 7716897120, 9701098738, 7714873772, 7735170241\\\\\n",
       "\t Общество с ограниченной ответственностью «ГОРОД 77»                    & 9721049400 & 1 & NA                                                                                \\\\\n",
       "\t Общество с ограниченной ответственностью «Горячие крендели «Север»     & 7729417420 & 1 & NA                                                                                \\\\\n",
       "\t Общество с ограниченной ответственностью «Гравер»                      & 7706762275 & 2 & 7725410977                                                                        \\\\\n",
       "\t Общество с ограниченной ответственностью «Градиент М»                  & 7718718538 & 1 & NA                                                                                \\\\\n",
       "\t Общество с ограниченной ответственностью «ГранФорс»                    & 7736635010 & 1 & NA                                                                                \\\\\n",
       "\t Общество с ограниченной ответственностью «Графика Груп»                & 7728365271 & 1 & NA                                                                                \\\\\n",
       "\t Общество с ограниченной ответственностью «ГРАЦИЯ-15»                   & 7719081763 & 1 & NA                                                                                \\\\\n",
       "\t Общество с ограниченной ответственностью «Группа Компаний Консалтика»  & 7718298731 & 1 & NA                                                                                \\\\\n",
       "\t Общество с ограниченной ответственностью «Группа Компаний Про Артс»    & 9704058980 & 2 & 7726597975                                                                        \\\\\n",
       "\t Общество с ограниченной ответственностью «ГРУППА МЕТАРУС»              & 7719450273 & 1 & NA                                                                                \\\\\n",
       "\t Общество с ограниченной ответственностью «Гтлс»                        & 7731479455 & 1 & NA                                                                                \\\\\n",
       "\t Общество с ограниченной ответственностью «Гуру Тур»                    & 7724888175 & 1 & NA                                                                                \\\\\n",
       "\t Общество с ограниченной ответственностью «Гурус БиоФарм»               &  ИНН       & 1 & NA                                                                                \\\\\n",
       "\t Общество с ограниченной ответственностью «Дана Инжиниринг»             & 7720763506 & 1 & NA                                                                                \\\\\n",
       "\t Общество с ограниченной ответственностью «Дар Экспо Дисплэй»           & 7701371172 & 1 & NA                                                                                \\\\\n",
       "\t Общество с ограниченной ответственностью «ДАТАДОМ»                     & 7722398513 & 1 & NA                                                                                \\\\\n",
       "\t Общество с ограниченной ответственностью «ДВИН»                        & 7726038423 & 4 & 5074040039, 7728894660, 7720648239                                                \\\\\n",
       "\t Общество с ограниченной ответственностью «ДЕФЕРО»                      & 7723785480 & 1 & NA                                                                                \\\\\n",
       "\t ⋮ & ⋮ & ⋮ & ⋮\\\\\n",
       "\t Общество с ограниченной ответственностью «Научно-Производственное Объединение «Перспектива»                & 9717056187 &  1 & NA                                                                                                                                                                                                                                \\\\\n",
       "\t ОБЩЕСТВО С ОГРАНИЧЕННОЙ ОТВЕТСТВЕННОСТЬЮ «НАУЧНО-ПРОИЗВОДСТВЕННОЕ ПРЕДПРИЯТИЕ «ДОЗА»                       & 7735542228 &  1 & NA                                                                                                                                                                                                                                \\\\\n",
       "\t Общество с ограниченной ответственностью «Научно-производственное предприятие «ИТЭЛМА»                     & 7724685256 &  1 & NA                                                                                                                                                                                                                                \\\\\n",
       "\t Общество с ограниченной ответственностью «Научно-производственное предприятие «ЭЛЕМЕР»                     & 5044003551 &  1 & NA                                                                                                                                                                                                                                \\\\\n",
       "\t Общество с ограниченной ответственностью «Научно-производственный центр «Трезор»                           & 7719848032 &  1 & NA                                                                                                                                                                                                                                \\\\\n",
       "\t Общество с ограниченной ответственностью «Научно-производственный центр неразрушающего контроля «ЭХО плюс» & NA         &  0 & NA                                                                                                                                                                                                                                \\\\\n",
       "\t Общество с ограниченной ответственностью «Научно-промышленная компания «ТЕХНОВОТУМ»                        & 7735535277 &  1 & NA                                                                                                                                                                                                                                \\\\\n",
       "\t Общество с ограниченной ответственностью «Научно-технический центр «Бакор»                                 & 7751042279 &  1 & NA                                                                                                                                                                                                                                \\\\\n",
       "\t Общество с ограниченной ответственностью «НАУЧНО-ТЕХНИЧЕСКИЙ ЦЕНТР Т8»                                     & 7743543384 &  1 & NA                                                                                                                                                                                                                                \\\\\n",
       "\t Общество с ограниченной ответственностью «Научно-Технологический Центр «БИОИНВЕСТ»                         & 7727559027 &  1 & NA                                                                                                                                                                                                                                \\\\\n",
       "\t Общество с ограниченной ответственностью «Научные развлечения»                                             & 7724614449 &  1 & NA                                                                                                                                                                                                                                \\\\\n",
       "\t Общество с ограниченной ответственностью «НАУЧНЫЙ ЦЕНТР «БИОФОРМ»                                          & 7751524924 &  1 & NA                                                                                                                                                                                                                                \\\\\n",
       "\t Общество с ограниченной ответственностью «НАШ ОБЩИЙ ДОМ»                                                   & 7716831055 &  1 & NA                                                                                                                                                                                                                                \\\\\n",
       "\t Общество с ограниченной ответственностью «Наяда Нейлс»                                                     & 7722313164 &  1 & NA                                                                                                                                                                                                                                \\\\\n",
       "\t Общество с ограниченной ответственностью «НГТ-СИНТЕЗ»                                                      & NA         &  0 & NA                                                                                                                                                                                                                                \\\\\n",
       "\t Общество с ограниченной ответственностью «Не по Годам»                                                     & 9731022983 &  1 & NA                                                                                                                                                                                                                                \\\\\n",
       "\t Общество с ограниченной ответственностью «НЕВИДИМЫЕ ДРУЗЬЯ»                                                & 7733906857 &  1 & NA                                                                                                                                                                                                                                \\\\\n",
       "\t Общество с ограниченной ответственностью «НЕВРОКОР»                                                        & 7721675556 &  1 & NA                                                                                                                                                                                                                                \\\\\n",
       "\t Общество с ограниченной ответственностью «Некст-Т»                                                         & NA         &  0 & NA                                                                                                                                                                                                                                \\\\\n",
       "\t Общество с ограниченной ответственностью «НЕОТЭК»                                                          & 7718763019 &  5 & 7708649420, 9715304540, 7722391934, 7705299008                                                                                                                                                                                    \\\\\n",
       "\t Общество с ограниченной ответственностью «Нетканика»                                                       & 7720427342 &  1 & NA                                                                                                                                                                                                                                \\\\\n",
       "\t Общество с ограниченной ответственностью «НЕФТЕГАЗБРОКЕР»                                                  & 7720729061 &  1 & NA                                                                                                                                                                                                                                \\\\\n",
       "\t Общество с ограниченной ответственностью «НИБС»                                                            & 7701642538 &  1 & NA                                                                                                                                                                                                                                \\\\\n",
       "\t Общество с ограниченной ответственностью «НИИКЭУ»                                                          & 7743877500 &  1 & NA                                                                                                                                                                                                                                \\\\\n",
       "\t Общество с ограниченной ответственностью «НИКА»                                                            & 7716903221 & 20 & 7718872113, 7720412515, 7707403663, 7731294278, 5032294240, 7728804828, 7717723743, 7727755173, 7728361950, 7724367158, 7715981467, 7725473127, 7724949646, 7743642882, 7714395170, 7709426793, 7716812408, 7728743879, 7727304124\\\\\n",
       "\t Общество с ограниченной ответственностью «НоваПродукт АГ»                                                  & 7707288097 &  1 & NA                                                                                                                                                                                                                                \\\\\n",
       "\t Общество с ограниченной ответственностью «Новолабсистем»                                                   & 7730661623 &  1 & NA                                                                                                                                                                                                                                \\\\\n",
       "\t Общество с ограниченной ответственностью «НОВЫЙ ПОЛЮС»                                                     & 7718884609 &  1 & NA                                                                                                                                                                                                                                \\\\\n",
       "\t Общество с ограниченной ответственностью «НОРД Инжиниринг»                                                 & 7707806158 &  1 & NA                                                                                                                                                                                                                                \\\\\n",
       "\t Общество с ограниченной ответственностью «Нпк Пожхимзащита»                                                & 7725403923 &  1 & NA                                                                                                                                                                                                                                \\\\\n",
       "\\end{tabular}\n"
      ],
      "text/markdown": [
       "\n",
       "A tibble: 256 × 4\n",
       "\n",
       "| Название &lt;chr&gt; | ИНН &lt;chr&gt; | name &lt;dbl&gt; | text &lt;chr&gt; |\n",
       "|---|---|---|---|\n",
       "| Общество с ограниченной ответственностью «Гай-Комплект»                | NA         | 0 | NA                                                                                 |\n",
       "| Общество с ограниченной ответственностью «ГамаВетФарм»                 | 7734240986 | 1 | NA                                                                                 |\n",
       "| Общество с ограниченной ответственностью «ГАММА-КАРТ»                  | 7731342549 | 1 | NA                                                                                 |\n",
       "| Общество с ограниченной ответственностью «ГАММА-ПЛАСТ»                 | 7723908887 | 1 | NA                                                                                 |\n",
       "| Общество с ограниченной ответственностью «ГеймингСенс»                 | 7743273917 | 1 | NA                                                                                 |\n",
       "| Общество с ограниченной ответственностью «ГЕЛЬТЕК-МЕДИКА»              | 7729523682 | 1 | NA                                                                                 |\n",
       "| Общество с ограниченной ответственностью «ГЕМ»                         | 7729785960 | 2 | 7714044006                                                                         |\n",
       "| Общество с ограниченной ответственностью «Гематологическая Корпорация» | 7728731552 | 1 | NA                                                                                 |\n",
       "| Общество с ограниченной ответственностью «ГеноТехнология»              | 7713309210 | 1 | NA                                                                                 |\n",
       "| Общество с ограниченной ответственностью «Геосплит»                    |  ИНН       | 1 | NA                                                                                 |\n",
       "| Общество с ограниченной ответственностью «ГИЛЬДИЯ ИНЖЕНЕРОВ»           | 7702729277 | 1 | NA                                                                                 |\n",
       "| Общество с ограниченной ответственностью «ГЛОБУС»                      | 7702683745 | 8 | 7727102865, 7704797392, 7703415925, 7716897120, 9701098738, 7714873772, 7735170241 |\n",
       "| Общество с ограниченной ответственностью «ГОРОД 77»                    | 9721049400 | 1 | NA                                                                                 |\n",
       "| Общество с ограниченной ответственностью «Горячие крендели «Север»     | 7729417420 | 1 | NA                                                                                 |\n",
       "| Общество с ограниченной ответственностью «Гравер»                      | 7706762275 | 2 | 7725410977                                                                         |\n",
       "| Общество с ограниченной ответственностью «Градиент М»                  | 7718718538 | 1 | NA                                                                                 |\n",
       "| Общество с ограниченной ответственностью «ГранФорс»                    | 7736635010 | 1 | NA                                                                                 |\n",
       "| Общество с ограниченной ответственностью «Графика Груп»                | 7728365271 | 1 | NA                                                                                 |\n",
       "| Общество с ограниченной ответственностью «ГРАЦИЯ-15»                   | 7719081763 | 1 | NA                                                                                 |\n",
       "| Общество с ограниченной ответственностью «Группа Компаний Консалтика»  | 7718298731 | 1 | NA                                                                                 |\n",
       "| Общество с ограниченной ответственностью «Группа Компаний Про Артс»    | 9704058980 | 2 | 7726597975                                                                         |\n",
       "| Общество с ограниченной ответственностью «ГРУППА МЕТАРУС»              | 7719450273 | 1 | NA                                                                                 |\n",
       "| Общество с ограниченной ответственностью «Гтлс»                        | 7731479455 | 1 | NA                                                                                 |\n",
       "| Общество с ограниченной ответственностью «Гуру Тур»                    | 7724888175 | 1 | NA                                                                                 |\n",
       "| Общество с ограниченной ответственностью «Гурус БиоФарм»               |  ИНН       | 1 | NA                                                                                 |\n",
       "| Общество с ограниченной ответственностью «Дана Инжиниринг»             | 7720763506 | 1 | NA                                                                                 |\n",
       "| Общество с ограниченной ответственностью «Дар Экспо Дисплэй»           | 7701371172 | 1 | NA                                                                                 |\n",
       "| Общество с ограниченной ответственностью «ДАТАДОМ»                     | 7722398513 | 1 | NA                                                                                 |\n",
       "| Общество с ограниченной ответственностью «ДВИН»                        | 7726038423 | 4 | 5074040039, 7728894660, 7720648239                                                 |\n",
       "| Общество с ограниченной ответственностью «ДЕФЕРО»                      | 7723785480 | 1 | NA                                                                                 |\n",
       "| ⋮ | ⋮ | ⋮ | ⋮ |\n",
       "| Общество с ограниченной ответственностью «Научно-Производственное Объединение «Перспектива»                | 9717056187 |  1 | NA                                                                                                                                                                                                                                 |\n",
       "| ОБЩЕСТВО С ОГРАНИЧЕННОЙ ОТВЕТСТВЕННОСТЬЮ «НАУЧНО-ПРОИЗВОДСТВЕННОЕ ПРЕДПРИЯТИЕ «ДОЗА»                       | 7735542228 |  1 | NA                                                                                                                                                                                                                                 |\n",
       "| Общество с ограниченной ответственностью «Научно-производственное предприятие «ИТЭЛМА»                     | 7724685256 |  1 | NA                                                                                                                                                                                                                                 |\n",
       "| Общество с ограниченной ответственностью «Научно-производственное предприятие «ЭЛЕМЕР»                     | 5044003551 |  1 | NA                                                                                                                                                                                                                                 |\n",
       "| Общество с ограниченной ответственностью «Научно-производственный центр «Трезор»                           | 7719848032 |  1 | NA                                                                                                                                                                                                                                 |\n",
       "| Общество с ограниченной ответственностью «Научно-производственный центр неразрушающего контроля «ЭХО плюс» | NA         |  0 | NA                                                                                                                                                                                                                                 |\n",
       "| Общество с ограниченной ответственностью «Научно-промышленная компания «ТЕХНОВОТУМ»                        | 7735535277 |  1 | NA                                                                                                                                                                                                                                 |\n",
       "| Общество с ограниченной ответственностью «Научно-технический центр «Бакор»                                 | 7751042279 |  1 | NA                                                                                                                                                                                                                                 |\n",
       "| Общество с ограниченной ответственностью «НАУЧНО-ТЕХНИЧЕСКИЙ ЦЕНТР Т8»                                     | 7743543384 |  1 | NA                                                                                                                                                                                                                                 |\n",
       "| Общество с ограниченной ответственностью «Научно-Технологический Центр «БИОИНВЕСТ»                         | 7727559027 |  1 | NA                                                                                                                                                                                                                                 |\n",
       "| Общество с ограниченной ответственностью «Научные развлечения»                                             | 7724614449 |  1 | NA                                                                                                                                                                                                                                 |\n",
       "| Общество с ограниченной ответственностью «НАУЧНЫЙ ЦЕНТР «БИОФОРМ»                                          | 7751524924 |  1 | NA                                                                                                                                                                                                                                 |\n",
       "| Общество с ограниченной ответственностью «НАШ ОБЩИЙ ДОМ»                                                   | 7716831055 |  1 | NA                                                                                                                                                                                                                                 |\n",
       "| Общество с ограниченной ответственностью «Наяда Нейлс»                                                     | 7722313164 |  1 | NA                                                                                                                                                                                                                                 |\n",
       "| Общество с ограниченной ответственностью «НГТ-СИНТЕЗ»                                                      | NA         |  0 | NA                                                                                                                                                                                                                                 |\n",
       "| Общество с ограниченной ответственностью «Не по Годам»                                                     | 9731022983 |  1 | NA                                                                                                                                                                                                                                 |\n",
       "| Общество с ограниченной ответственностью «НЕВИДИМЫЕ ДРУЗЬЯ»                                                | 7733906857 |  1 | NA                                                                                                                                                                                                                                 |\n",
       "| Общество с ограниченной ответственностью «НЕВРОКОР»                                                        | 7721675556 |  1 | NA                                                                                                                                                                                                                                 |\n",
       "| Общество с ограниченной ответственностью «Некст-Т»                                                         | NA         |  0 | NA                                                                                                                                                                                                                                 |\n",
       "| Общество с ограниченной ответственностью «НЕОТЭК»                                                          | 7718763019 |  5 | 7708649420, 9715304540, 7722391934, 7705299008                                                                                                                                                                                     |\n",
       "| Общество с ограниченной ответственностью «Нетканика»                                                       | 7720427342 |  1 | NA                                                                                                                                                                                                                                 |\n",
       "| Общество с ограниченной ответственностью «НЕФТЕГАЗБРОКЕР»                                                  | 7720729061 |  1 | NA                                                                                                                                                                                                                                 |\n",
       "| Общество с ограниченной ответственностью «НИБС»                                                            | 7701642538 |  1 | NA                                                                                                                                                                                                                                 |\n",
       "| Общество с ограниченной ответственностью «НИИКЭУ»                                                          | 7743877500 |  1 | NA                                                                                                                                                                                                                                 |\n",
       "| Общество с ограниченной ответственностью «НИКА»                                                            | 7716903221 | 20 | 7718872113, 7720412515, 7707403663, 7731294278, 5032294240, 7728804828, 7717723743, 7727755173, 7728361950, 7724367158, 7715981467, 7725473127, 7724949646, 7743642882, 7714395170, 7709426793, 7716812408, 7728743879, 7727304124 |\n",
       "| Общество с ограниченной ответственностью «НоваПродукт АГ»                                                  | 7707288097 |  1 | NA                                                                                                                                                                                                                                 |\n",
       "| Общество с ограниченной ответственностью «Новолабсистем»                                                   | 7730661623 |  1 | NA                                                                                                                                                                                                                                 |\n",
       "| Общество с ограниченной ответственностью «НОВЫЙ ПОЛЮС»                                                     | 7718884609 |  1 | NA                                                                                                                                                                                                                                 |\n",
       "| Общество с ограниченной ответственностью «НОРД Инжиниринг»                                                 | 7707806158 |  1 | NA                                                                                                                                                                                                                                 |\n",
       "| Общество с ограниченной ответственностью «Нпк Пожхимзащита»                                                | 7725403923 |  1 | NA                                                                                                                                                                                                                                 |\n",
       "\n"
      ],
      "text/plain": [
       "    Название                                                                                                  \n",
       "1   Общество с ограниченной ответственностью «Гай-Комплект»                                                   \n",
       "2   Общество с ограниченной ответственностью «ГамаВетФарм»                                                    \n",
       "3   Общество с ограниченной ответственностью «ГАММА-КАРТ»                                                     \n",
       "4   Общество с ограниченной ответственностью «ГАММА-ПЛАСТ»                                                    \n",
       "5   Общество с ограниченной ответственностью «ГеймингСенс»                                                    \n",
       "6   Общество с ограниченной ответственностью «ГЕЛЬТЕК-МЕДИКА»                                                 \n",
       "7   Общество с ограниченной ответственностью «ГЕМ»                                                            \n",
       "8   Общество с ограниченной ответственностью «Гематологическая Корпорация»                                    \n",
       "9   Общество с ограниченной ответственностью «ГеноТехнология»                                                 \n",
       "10  Общество с ограниченной ответственностью «Геосплит»                                                       \n",
       "11  Общество с ограниченной ответственностью «ГИЛЬДИЯ ИНЖЕНЕРОВ»                                              \n",
       "12  Общество с ограниченной ответственностью «ГЛОБУС»                                                         \n",
       "13  Общество с ограниченной ответственностью «ГОРОД 77»                                                       \n",
       "14  Общество с ограниченной ответственностью «Горячие крендели «Север»                                        \n",
       "15  Общество с ограниченной ответственностью «Гравер»                                                         \n",
       "16  Общество с ограниченной ответственностью «Градиент М»                                                     \n",
       "17  Общество с ограниченной ответственностью «ГранФорс»                                                       \n",
       "18  Общество с ограниченной ответственностью «Графика Груп»                                                   \n",
       "19  Общество с ограниченной ответственностью «ГРАЦИЯ-15»                                                      \n",
       "20  Общество с ограниченной ответственностью «Группа Компаний Консалтика»                                     \n",
       "21  Общество с ограниченной ответственностью «Группа Компаний Про Артс»                                       \n",
       "22  Общество с ограниченной ответственностью «ГРУППА МЕТАРУС»                                                 \n",
       "23  Общество с ограниченной ответственностью «Гтлс»                                                           \n",
       "24  Общество с ограниченной ответственностью «Гуру Тур»                                                       \n",
       "25  Общество с ограниченной ответственностью «Гурус БиоФарм»                                                  \n",
       "26  Общество с ограниченной ответственностью «Дана Инжиниринг»                                                \n",
       "27  Общество с ограниченной ответственностью «Дар Экспо Дисплэй»                                              \n",
       "28  Общество с ограниченной ответственностью «ДАТАДОМ»                                                        \n",
       "29  Общество с ограниченной ответственностью «ДВИН»                                                           \n",
       "30  Общество с ограниченной ответственностью «ДЕФЕРО»                                                         \n",
       "⋮   ⋮                                                                                                         \n",
       "227 Общество с ограниченной ответственностью «Научно-Производственное Объединение «Перспектива»               \n",
       "228 ОБЩЕСТВО С ОГРАНИЧЕННОЙ ОТВЕТСТВЕННОСТЬЮ «НАУЧНО-ПРОИЗВОДСТВЕННОЕ ПРЕДПРИЯТИЕ «ДОЗА»                      \n",
       "229 Общество с ограниченной ответственностью «Научно-производственное предприятие «ИТЭЛМА»                    \n",
       "230 Общество с ограниченной ответственностью «Научно-производственное предприятие «ЭЛЕМЕР»                    \n",
       "231 Общество с ограниченной ответственностью «Научно-производственный центр «Трезор»                          \n",
       "232 Общество с ограниченной ответственностью «Научно-производственный центр неразрушающего контроля «ЭХО плюс»\n",
       "233 Общество с ограниченной ответственностью «Научно-промышленная компания «ТЕХНОВОТУМ»                       \n",
       "234 Общество с ограниченной ответственностью «Научно-технический центр «Бакор»                                \n",
       "235 Общество с ограниченной ответственностью «НАУЧНО-ТЕХНИЧЕСКИЙ ЦЕНТР Т8»                                    \n",
       "236 Общество с ограниченной ответственностью «Научно-Технологический Центр «БИОИНВЕСТ»                        \n",
       "237 Общество с ограниченной ответственностью «Научные развлечения»                                            \n",
       "238 Общество с ограниченной ответственностью «НАУЧНЫЙ ЦЕНТР «БИОФОРМ»                                         \n",
       "239 Общество с ограниченной ответственностью «НАШ ОБЩИЙ ДОМ»                                                  \n",
       "240 Общество с ограниченной ответственностью «Наяда Нейлс»                                                    \n",
       "241 Общество с ограниченной ответственностью «НГТ-СИНТЕЗ»                                                     \n",
       "242 Общество с ограниченной ответственностью «Не по Годам»                                                    \n",
       "243 Общество с ограниченной ответственностью «НЕВИДИМЫЕ ДРУЗЬЯ»                                               \n",
       "244 Общество с ограниченной ответственностью «НЕВРОКОР»                                                       \n",
       "245 Общество с ограниченной ответственностью «Некст-Т»                                                        \n",
       "246 Общество с ограниченной ответственностью «НЕОТЭК»                                                         \n",
       "247 Общество с ограниченной ответственностью «Нетканика»                                                      \n",
       "248 Общество с ограниченной ответственностью «НЕФТЕГАЗБРОКЕР»                                                 \n",
       "249 Общество с ограниченной ответственностью «НИБС»                                                           \n",
       "250 Общество с ограниченной ответственностью «НИИКЭУ»                                                         \n",
       "251 Общество с ограниченной ответственностью «НИКА»                                                           \n",
       "252 Общество с ограниченной ответственностью «НоваПродукт АГ»                                                 \n",
       "253 Общество с ограниченной ответственностью «Новолабсистем»                                                  \n",
       "254 Общество с ограниченной ответственностью «НОВЫЙ ПОЛЮС»                                                    \n",
       "255 Общество с ограниченной ответственностью «НОРД Инжиниринг»                                                \n",
       "256 Общество с ограниченной ответственностью «Нпк Пожхимзащита»                                               \n",
       "    ИНН        name\n",
       "1   NA         0   \n",
       "2   7734240986 1   \n",
       "3   7731342549 1   \n",
       "4   7723908887 1   \n",
       "5   7743273917 1   \n",
       "6   7729523682 1   \n",
       "7   7729785960 2   \n",
       "8   7728731552 1   \n",
       "9   7713309210 1   \n",
       "10   ИНН       1   \n",
       "11  7702729277 1   \n",
       "12  7702683745 8   \n",
       "13  9721049400 1   \n",
       "14  7729417420 1   \n",
       "15  7706762275 2   \n",
       "16  7718718538 1   \n",
       "17  7736635010 1   \n",
       "18  7728365271 1   \n",
       "19  7719081763 1   \n",
       "20  7718298731 1   \n",
       "21  9704058980 2   \n",
       "22  7719450273 1   \n",
       "23  7731479455 1   \n",
       "24  7724888175 1   \n",
       "25   ИНН       1   \n",
       "26  7720763506 1   \n",
       "27  7701371172 1   \n",
       "28  7722398513 1   \n",
       "29  7726038423 4   \n",
       "30  7723785480 1   \n",
       "⋮   ⋮          ⋮   \n",
       "227 9717056187  1  \n",
       "228 7735542228  1  \n",
       "229 7724685256  1  \n",
       "230 5044003551  1  \n",
       "231 7719848032  1  \n",
       "232 NA          0  \n",
       "233 7735535277  1  \n",
       "234 7751042279  1  \n",
       "235 7743543384  1  \n",
       "236 7727559027  1  \n",
       "237 7724614449  1  \n",
       "238 7751524924  1  \n",
       "239 7716831055  1  \n",
       "240 7722313164  1  \n",
       "241 NA          0  \n",
       "242 9731022983  1  \n",
       "243 7733906857  1  \n",
       "244 7721675556  1  \n",
       "245 NA          0  \n",
       "246 7718763019  5  \n",
       "247 7720427342  1  \n",
       "248 7720729061  1  \n",
       "249 7701642538  1  \n",
       "250 7743877500  1  \n",
       "251 7716903221 20  \n",
       "252 7707288097  1  \n",
       "253 7730661623  1  \n",
       "254 7718884609  1  \n",
       "255 7707806158  1  \n",
       "256 7725403923  1  \n",
       "    text                                                                                                                                                                                                                              \n",
       "1   NA                                                                                                                                                                                                                                \n",
       "2   NA                                                                                                                                                                                                                                \n",
       "3   NA                                                                                                                                                                                                                                \n",
       "4   NA                                                                                                                                                                                                                                \n",
       "5   NA                                                                                                                                                                                                                                \n",
       "6   NA                                                                                                                                                                                                                                \n",
       "7   7714044006                                                                                                                                                                                                                        \n",
       "8   NA                                                                                                                                                                                                                                \n",
       "9   NA                                                                                                                                                                                                                                \n",
       "10  NA                                                                                                                                                                                                                                \n",
       "11  NA                                                                                                                                                                                                                                \n",
       "12  7727102865, 7704797392, 7703415925, 7716897120, 9701098738, 7714873772, 7735170241                                                                                                                                                \n",
       "13  NA                                                                                                                                                                                                                                \n",
       "14  NA                                                                                                                                                                                                                                \n",
       "15  7725410977                                                                                                                                                                                                                        \n",
       "16  NA                                                                                                                                                                                                                                \n",
       "17  NA                                                                                                                                                                                                                                \n",
       "18  NA                                                                                                                                                                                                                                \n",
       "19  NA                                                                                                                                                                                                                                \n",
       "20  NA                                                                                                                                                                                                                                \n",
       "21  7726597975                                                                                                                                                                                                                        \n",
       "22  NA                                                                                                                                                                                                                                \n",
       "23  NA                                                                                                                                                                                                                                \n",
       "24  NA                                                                                                                                                                                                                                \n",
       "25  NA                                                                                                                                                                                                                                \n",
       "26  NA                                                                                                                                                                                                                                \n",
       "27  NA                                                                                                                                                                                                                                \n",
       "28  NA                                                                                                                                                                                                                                \n",
       "29  5074040039, 7728894660, 7720648239                                                                                                                                                                                                \n",
       "30  NA                                                                                                                                                                                                                                \n",
       "⋮   ⋮                                                                                                                                                                                                                                 \n",
       "227 NA                                                                                                                                                                                                                                \n",
       "228 NA                                                                                                                                                                                                                                \n",
       "229 NA                                                                                                                                                                                                                                \n",
       "230 NA                                                                                                                                                                                                                                \n",
       "231 NA                                                                                                                                                                                                                                \n",
       "232 NA                                                                                                                                                                                                                                \n",
       "233 NA                                                                                                                                                                                                                                \n",
       "234 NA                                                                                                                                                                                                                                \n",
       "235 NA                                                                                                                                                                                                                                \n",
       "236 NA                                                                                                                                                                                                                                \n",
       "237 NA                                                                                                                                                                                                                                \n",
       "238 NA                                                                                                                                                                                                                                \n",
       "239 NA                                                                                                                                                                                                                                \n",
       "240 NA                                                                                                                                                                                                                                \n",
       "241 NA                                                                                                                                                                                                                                \n",
       "242 NA                                                                                                                                                                                                                                \n",
       "243 NA                                                                                                                                                                                                                                \n",
       "244 NA                                                                                                                                                                                                                                \n",
       "245 NA                                                                                                                                                                                                                                \n",
       "246 7708649420, 9715304540, 7722391934, 7705299008                                                                                                                                                                                    \n",
       "247 NA                                                                                                                                                                                                                                \n",
       "248 NA                                                                                                                                                                                                                                \n",
       "249 NA                                                                                                                                                                                                                                \n",
       "250 NA                                                                                                                                                                                                                                \n",
       "251 7718872113, 7720412515, 7707403663, 7731294278, 5032294240, 7728804828, 7717723743, 7727755173, 7728361950, 7724367158, 7715981467, 7725473127, 7724949646, 7743642882, 7714395170, 7709426793, 7716812408, 7728743879, 7727304124\n",
       "252 NA                                                                                                                                                                                                                                \n",
       "253 NA                                                                                                                                                                                                                                \n",
       "254 NA                                                                                                                                                                                                                                \n",
       "255 NA                                                                                                                                                                                                                                \n",
       "256 NA                                                                                                                                                                                                                                "
      ]
     },
     "metadata": {},
     "output_type": "display_data"
    }
   ],
   "source": [
    "goszak_df[96:dim(goszak_df)[1],]"
   ]
  },
  {
   "cell_type": "code",
   "execution_count": 72,
   "metadata": {
    "ExecuteTime": {
     "end_time": "2021-04-18T08:36:25.905378Z",
     "start_time": "2021-04-18T08:36:25.894Z"
    }
   },
   "outputs": [
    {
     "data": {
      "text/html": [
       "''"
      ],
      "text/latex": [
       "''"
      ],
      "text/markdown": [
       "''"
      ],
      "text/plain": [
       "[1] \"\""
      ]
     },
     "metadata": {},
     "output_type": "display_data"
    }
   ],
   "source": [
    "# paste(inn_list)\n",
    "paste(inn_list[1], collapse = ',')"
   ]
  },
  {
   "cell_type": "code",
   "execution_count": 39,
   "metadata": {
    "ExecuteTime": {
     "end_time": "2021-04-18T07:36:40.367165Z",
     "start_time": "2021-04-18T07:36:40.296Z"
    }
   },
   "outputs": [
    {
     "data": {
      "text/html": [
       "<table>\n",
       "<caption>A tibble: 351 × 4</caption>\n",
       "<thead>\n",
       "\t<tr><th scope=col>Название</th><th scope=col>ИНН</th><th scope=col>name</th><th scope=col>text</th></tr>\n",
       "\t<tr><th scope=col>&lt;chr&gt;</th><th scope=col>&lt;chr&gt;</th><th scope=col>&lt;chr&gt;</th><th scope=col>&lt;chr&gt;</th></tr>\n",
       "</thead>\n",
       "<tbody>\n",
       "\t<tr><td>Общество с ограниченной ответственностью «АЛЕАН»                                </td><td>7714950057</td><td>ОБЩЕСТВО С ОГРАНИЧЕННОЙ ОТВЕТСТВЕННОСТЬЮ \"АЛЕАН\"                                </td><td>119017, МОСКВА ГОРОД, ПЕРЕУЛОК ПЫЖЕВСКИЙ, ДОМ 5, СТРОЕНИЕ 1, Э 3 ПОМ 1 К 29 ОФ 314, ОГРН: 5147746289158, Дата присвоения ОГРН: 30.10.2014, ИНН: 7714950057, КПП: 770601001, ГЕНЕРАЛЬНЫЙ ДИРЕКТОР: Уманский Илья Геннадьевич                                   </td></tr>\n",
       "\t<tr><td>Общество с ограниченной ответственностью «Аллюръ»                               </td><td>7724363386</td><td>ОБЩЕСТВО С ОГРАНИЧЕННОЙ ОТВЕТСТВЕННОСТЬЮ \"АЛЛЮРЪ\"                               </td><td>115477 МОСКВА ГОРОД УЛИЦА КАНТЕМИРОВСКАЯ ДОМ 29 КВАРТИРА 94, ОГРН: 1167746436373, Дата присвоения ОГРН: 04.05.2016, ИНН: 7724363386, КПП: 772401001, ГЕНЕРАЛЬНЫЙ ДИРЕКТОР: Коротков Геннадий Викторович                                                       </td></tr>\n",
       "\t<tr><td>Общество с ограниченной ответственностью «Алмазный научно-технологический центр»</td><td>7751060422</td><td>ОБЩЕСТВО С ОГРАНИЧЕННОЙ ОТВЕТСТВЕННОСТЬЮ \"АЛМАЗНЫЙ НАУЧНО-ТЕХНОЛОГИЧЕСКИЙ ЦЕНТР\"</td><td>115184, МОСКВА ГОРОД, ОЗЕРКОВСКАЯ НАБЕРЕЖНАЯ, ДОМ 24, ПОМЕЩЕНИЕ IA КОМ11 ОФ406, ОГРН: 1177746835012, Дата присвоения ОГРН: 02.08.2017, ИНН: 7751060422, КПП: 770501001, ГЕНЕРАЛЬНЫЙ ДИРЕКТОР: Склярук Владимир Анатольевич                                    </td></tr>\n",
       "\t<tr><td>Общество с ограниченной ответственностью «Алтей-Бук»                            </td><td>7716543498</td><td>ОБЩЕСТВО С ОГРАНИЧЕННОЙ ОТВЕТСТВЕННОСТЬЮ \"АЛТЕЙ-БУК\"                            </td><td>129344, ГОРОД МОСКВА, УЛИЦА ВЕРХОЯНСКАЯ, ДОМ 18, КОРПУС 2, ПОМ 2 ОФ 56, ОГРН: 1067746331201, Дата присвоения ОГРН: 01.03.2006, ИНН: 7716543498, КПП: 771601001, Генеральный директор: Нарежний Валерий Владимирович                                           </td></tr>\n",
       "\t<tr><td>Общество с ограниченной ответственностью «АЛЬПАТРИ»                             </td><td>7715220896</td><td>ОБЩЕСТВО С ОГРАНИЧЕННОЙ ОТВЕТСТВЕННОСТЬЮ \"АЛЬПАТРИ\"                             </td><td>127081, МОСКВА ГОРОД, ДЕЖНЁВА ПРОЕЗД, 13, 1, ОГРН: 1037739533094, Дата присвоения ОГРН: 10.02.2003, ИНН: 7715220896, КПП: 771501001, ГЕНЕРАЛЬНЫЙ ДИРЕКТОР: Платов Сергей Александрович                                                                        </td></tr>\n",
       "\t<tr><td>Общество с ограниченной ответственностью «Альфа Автоматив Техноложиз»           </td><td>7725618132</td><td>ОБЩЕСТВО С ОГРАНИЧЕННОЙ ОТВЕТСТВЕННОСТЬЮ \"АЛЬФА АВТОМАТИВ ТЕХНОЛОЖИЗ\"           </td><td>117546, РОССИЯ, МОСКВА Г., МУНИЦИПАЛЬНЫЙ ОКРУГ БИРЮЛЕВО ЗАПАДНОЕ ВН.ТЕР.Г., ХАРЬКОВСКИЙ ПР-Д, Д. 2, ЭТАЖ 4, КОМ. 425, ОГРН: 1077760706011, Дата присвоения ОГРН: 28.09.2007, ИНН: 7725618132, КПП: 772401001, ГЕНЕРАЛЬНЫЙ ДИРЕКТОР: Кондратьев Максим Олегович</td></tr>\n",
       "\t<tr><td>Общество с ограниченной ответственностью «Альфа Алюминий»                       </td><td>9705043948</td><td>ОБЩЕСТВО С ОГРАНИЧЕННОЙ ОТВЕТСТВЕННОСТЬЮ \"АЛЬФА АЛЮМИНИЙ\"                       </td><td>115035, ГОРОД МОСКВА, УЛИЦА САДОВНИЧЕСКАЯ, ДОМ 76/71, СТРОЕНИЕ 3, ПОМЕЩЕНИЕ IX, VIII, ОФИС 3,4,1, ОГРН: 1157746637399, Дата присвоения ОГРН: 14.07.2015, ИНН: 9705043948, КПП: 770501001, ГЕНЕРАЛЬНЫЙ ДИРЕКТОР: Ли Инсар Константинович                       </td></tr>\n",
       "\t<tr><td>Общество с ограниченной ответственностью «Альфакип»                             </td><td>7715439455</td><td>ОБЩЕСТВО С ОГРАНИЧЕННОЙ ОТВЕТСТВЕННОСТЬЮ \"АЛЬФАКИП\"                             </td><td>127521, ГОРОД МОСКВА, УЛИЦА ВЕТКИНА, ДОМ 2, СТРОЕНИЕ 16, ПОМЕЩЕНИЕ 45, ОГРН: 1147746838282, Дата присвоения ОГРН: 24.07.2014, ИНН: 7715439455, КПП: 771701001, ГЕНЕРАЛЬНЫЙ ДИРЕКТОР: Пащинский Глеб Игоревич                                                  </td></tr>\n",
       "\t<tr><td>Общество с ограниченной ответственностью «Альянс Медиа Стратегия»               </td><td>7730650477</td><td>ОБЩЕСТВО С ОГРАНИЧЕННОЙ ОТВЕТСТВЕННОСТЬЮ \"АЛЬЯНС МЕДИА СТРАТЕГИЯ\"               </td><td>121170, ГОРОД МОСКВА, ПРОСПЕКТ КУТУЗОВСКИЙ, ДОМ 36, ПОМЕЩЕНИЕ I ЭТАЖ 2 КОМ 1-16,27, ОГРН: 1117746706550, Дата присвоения ОГРН: 07.09.2011, ИНН: 7730650477, КПП: 773001001, ГЕНЕРАЛЬНЫЙ ДИРЕКТОР: Дергоусов Владимир Викторович                               </td></tr>\n",
       "\t<tr><td>Общество с ограниченной ответственностью «Альянс»                               </td><td>7716187088</td><td>ОБЩЕСТВО С ОГРАНИЧЕННОЙ ОТВЕТСТВЕННОСТЬЮ \"С-АЛЬЯНС\"                             </td><td>129327, ГОРОД МОСКВА, УЛИЦА ЛЁТЧИКА БАБУШКИНА, 24 /13, 1, , ОГРН: 5167746122682, Дата присвоения ОГРН: 05.10.2016, ИНН: 7716187088, КПП: 771601001, Руководитель юридического лица: Чмырева Вера Николаевна, Дата прекращения деятельности: 05.10.2016        </td></tr>\n",
       "\t<tr><td>Общество с ограниченной ответственностью «АльянсПринт»                          </td><td>NA        </td><td>NA                                                                              </td><td>NA                                                                                                                                                                                                                                                            </td></tr>\n",
       "\t<tr><td>Общество с ограниченной ответственностью «Амедарт»                              </td><td>NA        </td><td>NA                                                                              </td><td>NA                                                                                                                                                                                                                                                            </td></tr>\n",
       "\t<tr><td>Общество с ограниченной ответственностью «АМФ экспо»                            </td><td>NA        </td><td>NA                                                                              </td><td>NA                                                                                                                                                                                                                                                            </td></tr>\n",
       "\t<tr><td>Общество с ограниченной ответственностью «Аналитическая Группа АНАЛИТЭКСПЕРТ»   </td><td>NA        </td><td>NA                                                                              </td><td>NA                                                                                                                                                                                                                                                            </td></tr>\n",
       "\t<tr><td>Общество с ограниченной ответственностью «Аналитэксперт»                        </td><td>NA        </td><td>NA                                                                              </td><td>NA                                                                                                                                                                                                                                                            </td></tr>\n",
       "\t<tr><td>Общество с ограниченной ответственностью «Ангарейон-Сб»                         </td><td>NA        </td><td>NA                                                                              </td><td>NA                                                                                                                                                                                                                                                            </td></tr>\n",
       "\t<tr><td>Общество с ограниченной ответственностью «Андерсен-Тревел»                      </td><td>NA        </td><td>NA                                                                              </td><td>NA                                                                                                                                                                                                                                                            </td></tr>\n",
       "\t<tr><td>Общество с ограниченной ответственностью «АНТ Технолоджис»                      </td><td>NA        </td><td>NA                                                                              </td><td>NA                                                                                                                                                                                                                                                            </td></tr>\n",
       "\t<tr><td>Общество с ограниченной ответственностью «АНТАРОСС»                             </td><td>NA        </td><td>NA                                                                              </td><td>NA                                                                                                                                                                                                                                                            </td></tr>\n",
       "\t<tr><td>Общество с ограниченной ответственностью «АНТОР БИЗНЕС РЕШЕНИЯ»                 </td><td>NA        </td><td>NA                                                                              </td><td>NA                                                                                                                                                                                                                                                            </td></tr>\n",
       "\t<tr><td>Общество с ограниченной ответственностью «Ан-Тур»                               </td><td>NA        </td><td>NA                                                                              </td><td>NA                                                                                                                                                                                                                                                            </td></tr>\n",
       "\t<tr><td>Общество с ограниченной ответственностью «АПИК Технолоджи»                      </td><td>NA        </td><td>NA                                                                              </td><td>NA                                                                                                                                                                                                                                                            </td></tr>\n",
       "\t<tr><td>Общество с ограниченной ответственностью «Апогей»                               </td><td>NA        </td><td>NA                                                                              </td><td>NA                                                                                                                                                                                                                                                            </td></tr>\n",
       "\t<tr><td>Общество с ограниченной ответственностью «АПТОС ГРУПП»                          </td><td>NA        </td><td>NA                                                                              </td><td>NA                                                                                                                                                                                                                                                            </td></tr>\n",
       "\t<tr><td>Общество с ограниченной ответственностью «Аравия»                               </td><td>NA        </td><td>NA                                                                              </td><td>NA                                                                                                                                                                                                                                                            </td></tr>\n",
       "\t<tr><td>Общество с ограниченной ответственностью «Арвитекс»                             </td><td>NA        </td><td>NA                                                                              </td><td>NA                                                                                                                                                                                                                                                            </td></tr>\n",
       "\t<tr><td>Общество с ограниченной ответственностью «Ардена»                               </td><td>NA        </td><td>NA                                                                              </td><td>NA                                                                                                                                                                                                                                                            </td></tr>\n",
       "\t<tr><td>Общество с ограниченной ответственностью «АРКТИЛАЙН»                            </td><td>NA        </td><td>NA                                                                              </td><td>NA                                                                                                                                                                                                                                                            </td></tr>\n",
       "\t<tr><td>Общество с ограниченной ответственностью «Ароматы тайги»                        </td><td>NA        </td><td>NA                                                                              </td><td>NA                                                                                                                                                                                                                                                            </td></tr>\n",
       "\t<tr><td>Общество с ограниченной ответственностью «Арт-Ам»                               </td><td>NA        </td><td>NA                                                                              </td><td>NA                                                                                                                                                                                                                                                            </td></tr>\n",
       "\t<tr><td>⋮</td><td>⋮</td><td>⋮</td><td>⋮</td></tr>\n",
       "\t<tr><td>Общество с ограниченной ответственностью «Научно-Производственное Объединение «Перспектива»               </td><td>NA</td><td>NA</td><td>NA</td></tr>\n",
       "\t<tr><td>ОБЩЕСТВО С ОГРАНИЧЕННОЙ ОТВЕТСТВЕННОСТЬЮ «НАУЧНО-ПРОИЗВОДСТВЕННОЕ ПРЕДПРИЯТИЕ «ДОЗА»                      </td><td>NA</td><td>NA</td><td>NA</td></tr>\n",
       "\t<tr><td>Общество с ограниченной ответственностью «Научно-производственное предприятие «ИТЭЛМА»                    </td><td>NA</td><td>NA</td><td>NA</td></tr>\n",
       "\t<tr><td>Общество с ограниченной ответственностью «Научно-производственное предприятие «ЭЛЕМЕР»                    </td><td>NA</td><td>NA</td><td>NA</td></tr>\n",
       "\t<tr><td>Общество с ограниченной ответственностью «Научно-производственный центр «Трезор»                          </td><td>NA</td><td>NA</td><td>NA</td></tr>\n",
       "\t<tr><td>Общество с ограниченной ответственностью «Научно-производственный центр неразрушающего контроля «ЭХО плюс»</td><td>NA</td><td>NA</td><td>NA</td></tr>\n",
       "\t<tr><td>Общество с ограниченной ответственностью «Научно-промышленная компания «ТЕХНОВОТУМ»                       </td><td>NA</td><td>NA</td><td>NA</td></tr>\n",
       "\t<tr><td>Общество с ограниченной ответственностью «Научно-технический центр «Бакор»                                </td><td>NA</td><td>NA</td><td>NA</td></tr>\n",
       "\t<tr><td>Общество с ограниченной ответственностью «НАУЧНО-ТЕХНИЧЕСКИЙ ЦЕНТР Т8»                                    </td><td>NA</td><td>NA</td><td>NA</td></tr>\n",
       "\t<tr><td>Общество с ограниченной ответственностью «Научно-Технологический Центр «БИОИНВЕСТ»                        </td><td>NA</td><td>NA</td><td>NA</td></tr>\n",
       "\t<tr><td>Общество с ограниченной ответственностью «Научные развлечения»                                            </td><td>NA</td><td>NA</td><td>NA</td></tr>\n",
       "\t<tr><td>Общество с ограниченной ответственностью «НАУЧНЫЙ ЦЕНТР «БИОФОРМ»                                         </td><td>NA</td><td>NA</td><td>NA</td></tr>\n",
       "\t<tr><td>Общество с ограниченной ответственностью «НАШ ОБЩИЙ ДОМ»                                                  </td><td>NA</td><td>NA</td><td>NA</td></tr>\n",
       "\t<tr><td>Общество с ограниченной ответственностью «Наяда Нейлс»                                                    </td><td>NA</td><td>NA</td><td>NA</td></tr>\n",
       "\t<tr><td>Общество с ограниченной ответственностью «НГТ-СИНТЕЗ»                                                     </td><td>NA</td><td>NA</td><td>NA</td></tr>\n",
       "\t<tr><td>Общество с ограниченной ответственностью «Не по Годам»                                                    </td><td>NA</td><td>NA</td><td>NA</td></tr>\n",
       "\t<tr><td>Общество с ограниченной ответственностью «НЕВИДИМЫЕ ДРУЗЬЯ»                                               </td><td>NA</td><td>NA</td><td>NA</td></tr>\n",
       "\t<tr><td>Общество с ограниченной ответственностью «НЕВРОКОР»                                                       </td><td>NA</td><td>NA</td><td>NA</td></tr>\n",
       "\t<tr><td>Общество с ограниченной ответственностью «Некст-Т»                                                        </td><td>NA</td><td>NA</td><td>NA</td></tr>\n",
       "\t<tr><td>Общество с ограниченной ответственностью «НЕОТЭК»                                                         </td><td>NA</td><td>NA</td><td>NA</td></tr>\n",
       "\t<tr><td>Общество с ограниченной ответственностью «Нетканика»                                                      </td><td>NA</td><td>NA</td><td>NA</td></tr>\n",
       "\t<tr><td>Общество с ограниченной ответственностью «НЕФТЕГАЗБРОКЕР»                                                 </td><td>NA</td><td>NA</td><td>NA</td></tr>\n",
       "\t<tr><td>Общество с ограниченной ответственностью «НИБС»                                                           </td><td>NA</td><td>NA</td><td>NA</td></tr>\n",
       "\t<tr><td>Общество с ограниченной ответственностью «НИИКЭУ»                                                         </td><td>NA</td><td>NA</td><td>NA</td></tr>\n",
       "\t<tr><td>Общество с ограниченной ответственностью «НИКА»                                                           </td><td>NA</td><td>NA</td><td>NA</td></tr>\n",
       "\t<tr><td>Общество с ограниченной ответственностью «НоваПродукт АГ»                                                 </td><td>NA</td><td>NA</td><td>NA</td></tr>\n",
       "\t<tr><td>Общество с ограниченной ответственностью «Новолабсистем»                                                  </td><td>NA</td><td>NA</td><td>NA</td></tr>\n",
       "\t<tr><td>Общество с ограниченной ответственностью «НОВЫЙ ПОЛЮС»                                                    </td><td>NA</td><td>NA</td><td>NA</td></tr>\n",
       "\t<tr><td>Общество с ограниченной ответственностью «НОРД Инжиниринг»                                                </td><td>NA</td><td>NA</td><td>NA</td></tr>\n",
       "\t<tr><td>Общество с ограниченной ответственностью «Нпк Пожхимзащита»                                               </td><td>NA</td><td>NA</td><td>NA</td></tr>\n",
       "</tbody>\n",
       "</table>\n"
      ],
      "text/latex": [
       "A tibble: 351 × 4\n",
       "\\begin{tabular}{llll}\n",
       " Название & ИНН & name & text\\\\\n",
       " <chr> & <chr> & <chr> & <chr>\\\\\n",
       "\\hline\n",
       "\t Общество с ограниченной ответственностью «АЛЕАН»                                 & 7714950057 & ОБЩЕСТВО С ОГРАНИЧЕННОЙ ОТВЕТСТВЕННОСТЬЮ \"АЛЕАН\"                                 & 119017, МОСКВА ГОРОД, ПЕРЕУЛОК ПЫЖЕВСКИЙ, ДОМ 5, СТРОЕНИЕ 1, Э 3 ПОМ 1 К 29 ОФ 314, ОГРН: 5147746289158, Дата присвоения ОГРН: 30.10.2014, ИНН: 7714950057, КПП: 770601001, ГЕНЕРАЛЬНЫЙ ДИРЕКТОР: Уманский Илья Геннадьевич                                   \\\\\n",
       "\t Общество с ограниченной ответственностью «Аллюръ»                                & 7724363386 & ОБЩЕСТВО С ОГРАНИЧЕННОЙ ОТВЕТСТВЕННОСТЬЮ \"АЛЛЮРЪ\"                                & 115477 МОСКВА ГОРОД УЛИЦА КАНТЕМИРОВСКАЯ ДОМ 29 КВАРТИРА 94, ОГРН: 1167746436373, Дата присвоения ОГРН: 04.05.2016, ИНН: 7724363386, КПП: 772401001, ГЕНЕРАЛЬНЫЙ ДИРЕКТОР: Коротков Геннадий Викторович                                                       \\\\\n",
       "\t Общество с ограниченной ответственностью «Алмазный научно-технологический центр» & 7751060422 & ОБЩЕСТВО С ОГРАНИЧЕННОЙ ОТВЕТСТВЕННОСТЬЮ \"АЛМАЗНЫЙ НАУЧНО-ТЕХНОЛОГИЧЕСКИЙ ЦЕНТР\" & 115184, МОСКВА ГОРОД, ОЗЕРКОВСКАЯ НАБЕРЕЖНАЯ, ДОМ 24, ПОМЕЩЕНИЕ IA КОМ11 ОФ406, ОГРН: 1177746835012, Дата присвоения ОГРН: 02.08.2017, ИНН: 7751060422, КПП: 770501001, ГЕНЕРАЛЬНЫЙ ДИРЕКТОР: Склярук Владимир Анатольевич                                    \\\\\n",
       "\t Общество с ограниченной ответственностью «Алтей-Бук»                             & 7716543498 & ОБЩЕСТВО С ОГРАНИЧЕННОЙ ОТВЕТСТВЕННОСТЬЮ \"АЛТЕЙ-БУК\"                             & 129344, ГОРОД МОСКВА, УЛИЦА ВЕРХОЯНСКАЯ, ДОМ 18, КОРПУС 2, ПОМ 2 ОФ 56, ОГРН: 1067746331201, Дата присвоения ОГРН: 01.03.2006, ИНН: 7716543498, КПП: 771601001, Генеральный директор: Нарежний Валерий Владимирович                                           \\\\\n",
       "\t Общество с ограниченной ответственностью «АЛЬПАТРИ»                              & 7715220896 & ОБЩЕСТВО С ОГРАНИЧЕННОЙ ОТВЕТСТВЕННОСТЬЮ \"АЛЬПАТРИ\"                              & 127081, МОСКВА ГОРОД, ДЕЖНЁВА ПРОЕЗД, 13, 1, ОГРН: 1037739533094, Дата присвоения ОГРН: 10.02.2003, ИНН: 7715220896, КПП: 771501001, ГЕНЕРАЛЬНЫЙ ДИРЕКТОР: Платов Сергей Александрович                                                                        \\\\\n",
       "\t Общество с ограниченной ответственностью «Альфа Автоматив Техноложиз»            & 7725618132 & ОБЩЕСТВО С ОГРАНИЧЕННОЙ ОТВЕТСТВЕННОСТЬЮ \"АЛЬФА АВТОМАТИВ ТЕХНОЛОЖИЗ\"            & 117546, РОССИЯ, МОСКВА Г., МУНИЦИПАЛЬНЫЙ ОКРУГ БИРЮЛЕВО ЗАПАДНОЕ ВН.ТЕР.Г., ХАРЬКОВСКИЙ ПР-Д, Д. 2, ЭТАЖ 4, КОМ. 425, ОГРН: 1077760706011, Дата присвоения ОГРН: 28.09.2007, ИНН: 7725618132, КПП: 772401001, ГЕНЕРАЛЬНЫЙ ДИРЕКТОР: Кондратьев Максим Олегович\\\\\n",
       "\t Общество с ограниченной ответственностью «Альфа Алюминий»                        & 9705043948 & ОБЩЕСТВО С ОГРАНИЧЕННОЙ ОТВЕТСТВЕННОСТЬЮ \"АЛЬФА АЛЮМИНИЙ\"                        & 115035, ГОРОД МОСКВА, УЛИЦА САДОВНИЧЕСКАЯ, ДОМ 76/71, СТРОЕНИЕ 3, ПОМЕЩЕНИЕ IX, VIII, ОФИС 3,4,1, ОГРН: 1157746637399, Дата присвоения ОГРН: 14.07.2015, ИНН: 9705043948, КПП: 770501001, ГЕНЕРАЛЬНЫЙ ДИРЕКТОР: Ли Инсар Константинович                       \\\\\n",
       "\t Общество с ограниченной ответственностью «Альфакип»                              & 7715439455 & ОБЩЕСТВО С ОГРАНИЧЕННОЙ ОТВЕТСТВЕННОСТЬЮ \"АЛЬФАКИП\"                              & 127521, ГОРОД МОСКВА, УЛИЦА ВЕТКИНА, ДОМ 2, СТРОЕНИЕ 16, ПОМЕЩЕНИЕ 45, ОГРН: 1147746838282, Дата присвоения ОГРН: 24.07.2014, ИНН: 7715439455, КПП: 771701001, ГЕНЕРАЛЬНЫЙ ДИРЕКТОР: Пащинский Глеб Игоревич                                                  \\\\\n",
       "\t Общество с ограниченной ответственностью «Альянс Медиа Стратегия»                & 7730650477 & ОБЩЕСТВО С ОГРАНИЧЕННОЙ ОТВЕТСТВЕННОСТЬЮ \"АЛЬЯНС МЕДИА СТРАТЕГИЯ\"                & 121170, ГОРОД МОСКВА, ПРОСПЕКТ КУТУЗОВСКИЙ, ДОМ 36, ПОМЕЩЕНИЕ I ЭТАЖ 2 КОМ 1-16,27, ОГРН: 1117746706550, Дата присвоения ОГРН: 07.09.2011, ИНН: 7730650477, КПП: 773001001, ГЕНЕРАЛЬНЫЙ ДИРЕКТОР: Дергоусов Владимир Викторович                               \\\\\n",
       "\t Общество с ограниченной ответственностью «Альянс»                                & 7716187088 & ОБЩЕСТВО С ОГРАНИЧЕННОЙ ОТВЕТСТВЕННОСТЬЮ \"С-АЛЬЯНС\"                              & 129327, ГОРОД МОСКВА, УЛИЦА ЛЁТЧИКА БАБУШКИНА, 24 /13, 1, , ОГРН: 5167746122682, Дата присвоения ОГРН: 05.10.2016, ИНН: 7716187088, КПП: 771601001, Руководитель юридического лица: Чмырева Вера Николаевна, Дата прекращения деятельности: 05.10.2016        \\\\\n",
       "\t Общество с ограниченной ответственностью «АльянсПринт»                           & NA         & NA                                                                               & NA                                                                                                                                                                                                                                                            \\\\\n",
       "\t Общество с ограниченной ответственностью «Амедарт»                               & NA         & NA                                                                               & NA                                                                                                                                                                                                                                                            \\\\\n",
       "\t Общество с ограниченной ответственностью «АМФ экспо»                             & NA         & NA                                                                               & NA                                                                                                                                                                                                                                                            \\\\\n",
       "\t Общество с ограниченной ответственностью «Аналитическая Группа АНАЛИТЭКСПЕРТ»    & NA         & NA                                                                               & NA                                                                                                                                                                                                                                                            \\\\\n",
       "\t Общество с ограниченной ответственностью «Аналитэксперт»                         & NA         & NA                                                                               & NA                                                                                                                                                                                                                                                            \\\\\n",
       "\t Общество с ограниченной ответственностью «Ангарейон-Сб»                          & NA         & NA                                                                               & NA                                                                                                                                                                                                                                                            \\\\\n",
       "\t Общество с ограниченной ответственностью «Андерсен-Тревел»                       & NA         & NA                                                                               & NA                                                                                                                                                                                                                                                            \\\\\n",
       "\t Общество с ограниченной ответственностью «АНТ Технолоджис»                       & NA         & NA                                                                               & NA                                                                                                                                                                                                                                                            \\\\\n",
       "\t Общество с ограниченной ответственностью «АНТАРОСС»                              & NA         & NA                                                                               & NA                                                                                                                                                                                                                                                            \\\\\n",
       "\t Общество с ограниченной ответственностью «АНТОР БИЗНЕС РЕШЕНИЯ»                  & NA         & NA                                                                               & NA                                                                                                                                                                                                                                                            \\\\\n",
       "\t Общество с ограниченной ответственностью «Ан-Тур»                                & NA         & NA                                                                               & NA                                                                                                                                                                                                                                                            \\\\\n",
       "\t Общество с ограниченной ответственностью «АПИК Технолоджи»                       & NA         & NA                                                                               & NA                                                                                                                                                                                                                                                            \\\\\n",
       "\t Общество с ограниченной ответственностью «Апогей»                                & NA         & NA                                                                               & NA                                                                                                                                                                                                                                                            \\\\\n",
       "\t Общество с ограниченной ответственностью «АПТОС ГРУПП»                           & NA         & NA                                                                               & NA                                                                                                                                                                                                                                                            \\\\\n",
       "\t Общество с ограниченной ответственностью «Аравия»                                & NA         & NA                                                                               & NA                                                                                                                                                                                                                                                            \\\\\n",
       "\t Общество с ограниченной ответственностью «Арвитекс»                              & NA         & NA                                                                               & NA                                                                                                                                                                                                                                                            \\\\\n",
       "\t Общество с ограниченной ответственностью «Ардена»                                & NA         & NA                                                                               & NA                                                                                                                                                                                                                                                            \\\\\n",
       "\t Общество с ограниченной ответственностью «АРКТИЛАЙН»                             & NA         & NA                                                                               & NA                                                                                                                                                                                                                                                            \\\\\n",
       "\t Общество с ограниченной ответственностью «Ароматы тайги»                         & NA         & NA                                                                               & NA                                                                                                                                                                                                                                                            \\\\\n",
       "\t Общество с ограниченной ответственностью «Арт-Ам»                                & NA         & NA                                                                               & NA                                                                                                                                                                                                                                                            \\\\\n",
       "\t ⋮ & ⋮ & ⋮ & ⋮\\\\\n",
       "\t Общество с ограниченной ответственностью «Научно-Производственное Объединение «Перспектива»                & NA & NA & NA\\\\\n",
       "\t ОБЩЕСТВО С ОГРАНИЧЕННОЙ ОТВЕТСТВЕННОСТЬЮ «НАУЧНО-ПРОИЗВОДСТВЕННОЕ ПРЕДПРИЯТИЕ «ДОЗА»                       & NA & NA & NA\\\\\n",
       "\t Общество с ограниченной ответственностью «Научно-производственное предприятие «ИТЭЛМА»                     & NA & NA & NA\\\\\n",
       "\t Общество с ограниченной ответственностью «Научно-производственное предприятие «ЭЛЕМЕР»                     & NA & NA & NA\\\\\n",
       "\t Общество с ограниченной ответственностью «Научно-производственный центр «Трезор»                           & NA & NA & NA\\\\\n",
       "\t Общество с ограниченной ответственностью «Научно-производственный центр неразрушающего контроля «ЭХО плюс» & NA & NA & NA\\\\\n",
       "\t Общество с ограниченной ответственностью «Научно-промышленная компания «ТЕХНОВОТУМ»                        & NA & NA & NA\\\\\n",
       "\t Общество с ограниченной ответственностью «Научно-технический центр «Бакор»                                 & NA & NA & NA\\\\\n",
       "\t Общество с ограниченной ответственностью «НАУЧНО-ТЕХНИЧЕСКИЙ ЦЕНТР Т8»                                     & NA & NA & NA\\\\\n",
       "\t Общество с ограниченной ответственностью «Научно-Технологический Центр «БИОИНВЕСТ»                         & NA & NA & NA\\\\\n",
       "\t Общество с ограниченной ответственностью «Научные развлечения»                                             & NA & NA & NA\\\\\n",
       "\t Общество с ограниченной ответственностью «НАУЧНЫЙ ЦЕНТР «БИОФОРМ»                                          & NA & NA & NA\\\\\n",
       "\t Общество с ограниченной ответственностью «НАШ ОБЩИЙ ДОМ»                                                   & NA & NA & NA\\\\\n",
       "\t Общество с ограниченной ответственностью «Наяда Нейлс»                                                     & NA & NA & NA\\\\\n",
       "\t Общество с ограниченной ответственностью «НГТ-СИНТЕЗ»                                                      & NA & NA & NA\\\\\n",
       "\t Общество с ограниченной ответственностью «Не по Годам»                                                     & NA & NA & NA\\\\\n",
       "\t Общество с ограниченной ответственностью «НЕВИДИМЫЕ ДРУЗЬЯ»                                                & NA & NA & NA\\\\\n",
       "\t Общество с ограниченной ответственностью «НЕВРОКОР»                                                        & NA & NA & NA\\\\\n",
       "\t Общество с ограниченной ответственностью «Некст-Т»                                                         & NA & NA & NA\\\\\n",
       "\t Общество с ограниченной ответственностью «НЕОТЭК»                                                          & NA & NA & NA\\\\\n",
       "\t Общество с ограниченной ответственностью «Нетканика»                                                       & NA & NA & NA\\\\\n",
       "\t Общество с ограниченной ответственностью «НЕФТЕГАЗБРОКЕР»                                                  & NA & NA & NA\\\\\n",
       "\t Общество с ограниченной ответственностью «НИБС»                                                            & NA & NA & NA\\\\\n",
       "\t Общество с ограниченной ответственностью «НИИКЭУ»                                                          & NA & NA & NA\\\\\n",
       "\t Общество с ограниченной ответственностью «НИКА»                                                            & NA & NA & NA\\\\\n",
       "\t Общество с ограниченной ответственностью «НоваПродукт АГ»                                                  & NA & NA & NA\\\\\n",
       "\t Общество с ограниченной ответственностью «Новолабсистем»                                                   & NA & NA & NA\\\\\n",
       "\t Общество с ограниченной ответственностью «НОВЫЙ ПОЛЮС»                                                     & NA & NA & NA\\\\\n",
       "\t Общество с ограниченной ответственностью «НОРД Инжиниринг»                                                 & NA & NA & NA\\\\\n",
       "\t Общество с ограниченной ответственностью «Нпк Пожхимзащита»                                                & NA & NA & NA\\\\\n",
       "\\end{tabular}\n"
      ],
      "text/markdown": [
       "\n",
       "A tibble: 351 × 4\n",
       "\n",
       "| Название &lt;chr&gt; | ИНН &lt;chr&gt; | name &lt;chr&gt; | text &lt;chr&gt; |\n",
       "|---|---|---|---|\n",
       "| Общество с ограниченной ответственностью «АЛЕАН»                                 | 7714950057 | ОБЩЕСТВО С ОГРАНИЧЕННОЙ ОТВЕТСТВЕННОСТЬЮ \"АЛЕАН\"                                 | 119017, МОСКВА ГОРОД, ПЕРЕУЛОК ПЫЖЕВСКИЙ, ДОМ 5, СТРОЕНИЕ 1, Э 3 ПОМ 1 К 29 ОФ 314, ОГРН: 5147746289158, Дата присвоения ОГРН: 30.10.2014, ИНН: 7714950057, КПП: 770601001, ГЕНЕРАЛЬНЫЙ ДИРЕКТОР: Уманский Илья Геннадьевич                                    |\n",
       "| Общество с ограниченной ответственностью «Аллюръ»                                | 7724363386 | ОБЩЕСТВО С ОГРАНИЧЕННОЙ ОТВЕТСТВЕННОСТЬЮ \"АЛЛЮРЪ\"                                | 115477 МОСКВА ГОРОД УЛИЦА КАНТЕМИРОВСКАЯ ДОМ 29 КВАРТИРА 94, ОГРН: 1167746436373, Дата присвоения ОГРН: 04.05.2016, ИНН: 7724363386, КПП: 772401001, ГЕНЕРАЛЬНЫЙ ДИРЕКТОР: Коротков Геннадий Викторович                                                        |\n",
       "| Общество с ограниченной ответственностью «Алмазный научно-технологический центр» | 7751060422 | ОБЩЕСТВО С ОГРАНИЧЕННОЙ ОТВЕТСТВЕННОСТЬЮ \"АЛМАЗНЫЙ НАУЧНО-ТЕХНОЛОГИЧЕСКИЙ ЦЕНТР\" | 115184, МОСКВА ГОРОД, ОЗЕРКОВСКАЯ НАБЕРЕЖНАЯ, ДОМ 24, ПОМЕЩЕНИЕ IA КОМ11 ОФ406, ОГРН: 1177746835012, Дата присвоения ОГРН: 02.08.2017, ИНН: 7751060422, КПП: 770501001, ГЕНЕРАЛЬНЫЙ ДИРЕКТОР: Склярук Владимир Анатольевич                                     |\n",
       "| Общество с ограниченной ответственностью «Алтей-Бук»                             | 7716543498 | ОБЩЕСТВО С ОГРАНИЧЕННОЙ ОТВЕТСТВЕННОСТЬЮ \"АЛТЕЙ-БУК\"                             | 129344, ГОРОД МОСКВА, УЛИЦА ВЕРХОЯНСКАЯ, ДОМ 18, КОРПУС 2, ПОМ 2 ОФ 56, ОГРН: 1067746331201, Дата присвоения ОГРН: 01.03.2006, ИНН: 7716543498, КПП: 771601001, Генеральный директор: Нарежний Валерий Владимирович                                            |\n",
       "| Общество с ограниченной ответственностью «АЛЬПАТРИ»                              | 7715220896 | ОБЩЕСТВО С ОГРАНИЧЕННОЙ ОТВЕТСТВЕННОСТЬЮ \"АЛЬПАТРИ\"                              | 127081, МОСКВА ГОРОД, ДЕЖНЁВА ПРОЕЗД, 13, 1, ОГРН: 1037739533094, Дата присвоения ОГРН: 10.02.2003, ИНН: 7715220896, КПП: 771501001, ГЕНЕРАЛЬНЫЙ ДИРЕКТОР: Платов Сергей Александрович                                                                         |\n",
       "| Общество с ограниченной ответственностью «Альфа Автоматив Техноложиз»            | 7725618132 | ОБЩЕСТВО С ОГРАНИЧЕННОЙ ОТВЕТСТВЕННОСТЬЮ \"АЛЬФА АВТОМАТИВ ТЕХНОЛОЖИЗ\"            | 117546, РОССИЯ, МОСКВА Г., МУНИЦИПАЛЬНЫЙ ОКРУГ БИРЮЛЕВО ЗАПАДНОЕ ВН.ТЕР.Г., ХАРЬКОВСКИЙ ПР-Д, Д. 2, ЭТАЖ 4, КОМ. 425, ОГРН: 1077760706011, Дата присвоения ОГРН: 28.09.2007, ИНН: 7725618132, КПП: 772401001, ГЕНЕРАЛЬНЫЙ ДИРЕКТОР: Кондратьев Максим Олегович |\n",
       "| Общество с ограниченной ответственностью «Альфа Алюминий»                        | 9705043948 | ОБЩЕСТВО С ОГРАНИЧЕННОЙ ОТВЕТСТВЕННОСТЬЮ \"АЛЬФА АЛЮМИНИЙ\"                        | 115035, ГОРОД МОСКВА, УЛИЦА САДОВНИЧЕСКАЯ, ДОМ 76/71, СТРОЕНИЕ 3, ПОМЕЩЕНИЕ IX, VIII, ОФИС 3,4,1, ОГРН: 1157746637399, Дата присвоения ОГРН: 14.07.2015, ИНН: 9705043948, КПП: 770501001, ГЕНЕРАЛЬНЫЙ ДИРЕКТОР: Ли Инсар Константинович                        |\n",
       "| Общество с ограниченной ответственностью «Альфакип»                              | 7715439455 | ОБЩЕСТВО С ОГРАНИЧЕННОЙ ОТВЕТСТВЕННОСТЬЮ \"АЛЬФАКИП\"                              | 127521, ГОРОД МОСКВА, УЛИЦА ВЕТКИНА, ДОМ 2, СТРОЕНИЕ 16, ПОМЕЩЕНИЕ 45, ОГРН: 1147746838282, Дата присвоения ОГРН: 24.07.2014, ИНН: 7715439455, КПП: 771701001, ГЕНЕРАЛЬНЫЙ ДИРЕКТОР: Пащинский Глеб Игоревич                                                   |\n",
       "| Общество с ограниченной ответственностью «Альянс Медиа Стратегия»                | 7730650477 | ОБЩЕСТВО С ОГРАНИЧЕННОЙ ОТВЕТСТВЕННОСТЬЮ \"АЛЬЯНС МЕДИА СТРАТЕГИЯ\"                | 121170, ГОРОД МОСКВА, ПРОСПЕКТ КУТУЗОВСКИЙ, ДОМ 36, ПОМЕЩЕНИЕ I ЭТАЖ 2 КОМ 1-16,27, ОГРН: 1117746706550, Дата присвоения ОГРН: 07.09.2011, ИНН: 7730650477, КПП: 773001001, ГЕНЕРАЛЬНЫЙ ДИРЕКТОР: Дергоусов Владимир Викторович                                |\n",
       "| Общество с ограниченной ответственностью «Альянс»                                | 7716187088 | ОБЩЕСТВО С ОГРАНИЧЕННОЙ ОТВЕТСТВЕННОСТЬЮ \"С-АЛЬЯНС\"                              | 129327, ГОРОД МОСКВА, УЛИЦА ЛЁТЧИКА БАБУШКИНА, 24 /13, 1, , ОГРН: 5167746122682, Дата присвоения ОГРН: 05.10.2016, ИНН: 7716187088, КПП: 771601001, Руководитель юридического лица: Чмырева Вера Николаевна, Дата прекращения деятельности: 05.10.2016         |\n",
       "| Общество с ограниченной ответственностью «АльянсПринт»                           | NA         | NA                                                                               | NA                                                                                                                                                                                                                                                             |\n",
       "| Общество с ограниченной ответственностью «Амедарт»                               | NA         | NA                                                                               | NA                                                                                                                                                                                                                                                             |\n",
       "| Общество с ограниченной ответственностью «АМФ экспо»                             | NA         | NA                                                                               | NA                                                                                                                                                                                                                                                             |\n",
       "| Общество с ограниченной ответственностью «Аналитическая Группа АНАЛИТЭКСПЕРТ»    | NA         | NA                                                                               | NA                                                                                                                                                                                                                                                             |\n",
       "| Общество с ограниченной ответственностью «Аналитэксперт»                         | NA         | NA                                                                               | NA                                                                                                                                                                                                                                                             |\n",
       "| Общество с ограниченной ответственностью «Ангарейон-Сб»                          | NA         | NA                                                                               | NA                                                                                                                                                                                                                                                             |\n",
       "| Общество с ограниченной ответственностью «Андерсен-Тревел»                       | NA         | NA                                                                               | NA                                                                                                                                                                                                                                                             |\n",
       "| Общество с ограниченной ответственностью «АНТ Технолоджис»                       | NA         | NA                                                                               | NA                                                                                                                                                                                                                                                             |\n",
       "| Общество с ограниченной ответственностью «АНТАРОСС»                              | NA         | NA                                                                               | NA                                                                                                                                                                                                                                                             |\n",
       "| Общество с ограниченной ответственностью «АНТОР БИЗНЕС РЕШЕНИЯ»                  | NA         | NA                                                                               | NA                                                                                                                                                                                                                                                             |\n",
       "| Общество с ограниченной ответственностью «Ан-Тур»                                | NA         | NA                                                                               | NA                                                                                                                                                                                                                                                             |\n",
       "| Общество с ограниченной ответственностью «АПИК Технолоджи»                       | NA         | NA                                                                               | NA                                                                                                                                                                                                                                                             |\n",
       "| Общество с ограниченной ответственностью «Апогей»                                | NA         | NA                                                                               | NA                                                                                                                                                                                                                                                             |\n",
       "| Общество с ограниченной ответственностью «АПТОС ГРУПП»                           | NA         | NA                                                                               | NA                                                                                                                                                                                                                                                             |\n",
       "| Общество с ограниченной ответственностью «Аравия»                                | NA         | NA                                                                               | NA                                                                                                                                                                                                                                                             |\n",
       "| Общество с ограниченной ответственностью «Арвитекс»                              | NA         | NA                                                                               | NA                                                                                                                                                                                                                                                             |\n",
       "| Общество с ограниченной ответственностью «Ардена»                                | NA         | NA                                                                               | NA                                                                                                                                                                                                                                                             |\n",
       "| Общество с ограниченной ответственностью «АРКТИЛАЙН»                             | NA         | NA                                                                               | NA                                                                                                                                                                                                                                                             |\n",
       "| Общество с ограниченной ответственностью «Ароматы тайги»                         | NA         | NA                                                                               | NA                                                                                                                                                                                                                                                             |\n",
       "| Общество с ограниченной ответственностью «Арт-Ам»                                | NA         | NA                                                                               | NA                                                                                                                                                                                                                                                             |\n",
       "| ⋮ | ⋮ | ⋮ | ⋮ |\n",
       "| Общество с ограниченной ответственностью «Научно-Производственное Объединение «Перспектива»                | NA | NA | NA |\n",
       "| ОБЩЕСТВО С ОГРАНИЧЕННОЙ ОТВЕТСТВЕННОСТЬЮ «НАУЧНО-ПРОИЗВОДСТВЕННОЕ ПРЕДПРИЯТИЕ «ДОЗА»                       | NA | NA | NA |\n",
       "| Общество с ограниченной ответственностью «Научно-производственное предприятие «ИТЭЛМА»                     | NA | NA | NA |\n",
       "| Общество с ограниченной ответственностью «Научно-производственное предприятие «ЭЛЕМЕР»                     | NA | NA | NA |\n",
       "| Общество с ограниченной ответственностью «Научно-производственный центр «Трезор»                           | NA | NA | NA |\n",
       "| Общество с ограниченной ответственностью «Научно-производственный центр неразрушающего контроля «ЭХО плюс» | NA | NA | NA |\n",
       "| Общество с ограниченной ответственностью «Научно-промышленная компания «ТЕХНОВОТУМ»                        | NA | NA | NA |\n",
       "| Общество с ограниченной ответственностью «Научно-технический центр «Бакор»                                 | NA | NA | NA |\n",
       "| Общество с ограниченной ответственностью «НАУЧНО-ТЕХНИЧЕСКИЙ ЦЕНТР Т8»                                     | NA | NA | NA |\n",
       "| Общество с ограниченной ответственностью «Научно-Технологический Центр «БИОИНВЕСТ»                         | NA | NA | NA |\n",
       "| Общество с ограниченной ответственностью «Научные развлечения»                                             | NA | NA | NA |\n",
       "| Общество с ограниченной ответственностью «НАУЧНЫЙ ЦЕНТР «БИОФОРМ»                                          | NA | NA | NA |\n",
       "| Общество с ограниченной ответственностью «НАШ ОБЩИЙ ДОМ»                                                   | NA | NA | NA |\n",
       "| Общество с ограниченной ответственностью «Наяда Нейлс»                                                     | NA | NA | NA |\n",
       "| Общество с ограниченной ответственностью «НГТ-СИНТЕЗ»                                                      | NA | NA | NA |\n",
       "| Общество с ограниченной ответственностью «Не по Годам»                                                     | NA | NA | NA |\n",
       "| Общество с ограниченной ответственностью «НЕВИДИМЫЕ ДРУЗЬЯ»                                                | NA | NA | NA |\n",
       "| Общество с ограниченной ответственностью «НЕВРОКОР»                                                        | NA | NA | NA |\n",
       "| Общество с ограниченной ответственностью «Некст-Т»                                                         | NA | NA | NA |\n",
       "| Общество с ограниченной ответственностью «НЕОТЭК»                                                          | NA | NA | NA |\n",
       "| Общество с ограниченной ответственностью «Нетканика»                                                       | NA | NA | NA |\n",
       "| Общество с ограниченной ответственностью «НЕФТЕГАЗБРОКЕР»                                                  | NA | NA | NA |\n",
       "| Общество с ограниченной ответственностью «НИБС»                                                            | NA | NA | NA |\n",
       "| Общество с ограниченной ответственностью «НИИКЭУ»                                                          | NA | NA | NA |\n",
       "| Общество с ограниченной ответственностью «НИКА»                                                            | NA | NA | NA |\n",
       "| Общество с ограниченной ответственностью «НоваПродукт АГ»                                                  | NA | NA | NA |\n",
       "| Общество с ограниченной ответственностью «Новолабсистем»                                                   | NA | NA | NA |\n",
       "| Общество с ограниченной ответственностью «НОВЫЙ ПОЛЮС»                                                     | NA | NA | NA |\n",
       "| Общество с ограниченной ответственностью «НОРД Инжиниринг»                                                 | NA | NA | NA |\n",
       "| Общество с ограниченной ответственностью «Нпк Пожхимзащита»                                                | NA | NA | NA |\n",
       "\n"
      ],
      "text/plain": [
       "    Название                                                                                                  \n",
       "1   Общество с ограниченной ответственностью «АЛЕАН»                                                          \n",
       "2   Общество с ограниченной ответственностью «Аллюръ»                                                         \n",
       "3   Общество с ограниченной ответственностью «Алмазный научно-технологический центр»                          \n",
       "4   Общество с ограниченной ответственностью «Алтей-Бук»                                                      \n",
       "5   Общество с ограниченной ответственностью «АЛЬПАТРИ»                                                       \n",
       "6   Общество с ограниченной ответственностью «Альфа Автоматив Техноложиз»                                     \n",
       "7   Общество с ограниченной ответственностью «Альфа Алюминий»                                                 \n",
       "8   Общество с ограниченной ответственностью «Альфакип»                                                       \n",
       "9   Общество с ограниченной ответственностью «Альянс Медиа Стратегия»                                         \n",
       "10  Общество с ограниченной ответственностью «Альянс»                                                         \n",
       "11  Общество с ограниченной ответственностью «АльянсПринт»                                                    \n",
       "12  Общество с ограниченной ответственностью «Амедарт»                                                        \n",
       "13  Общество с ограниченной ответственностью «АМФ экспо»                                                      \n",
       "14  Общество с ограниченной ответственностью «Аналитическая Группа АНАЛИТЭКСПЕРТ»                             \n",
       "15  Общество с ограниченной ответственностью «Аналитэксперт»                                                  \n",
       "16  Общество с ограниченной ответственностью «Ангарейон-Сб»                                                   \n",
       "17  Общество с ограниченной ответственностью «Андерсен-Тревел»                                                \n",
       "18  Общество с ограниченной ответственностью «АНТ Технолоджис»                                                \n",
       "19  Общество с ограниченной ответственностью «АНТАРОСС»                                                       \n",
       "20  Общество с ограниченной ответственностью «АНТОР БИЗНЕС РЕШЕНИЯ»                                           \n",
       "21  Общество с ограниченной ответственностью «Ан-Тур»                                                         \n",
       "22  Общество с ограниченной ответственностью «АПИК Технолоджи»                                                \n",
       "23  Общество с ограниченной ответственностью «Апогей»                                                         \n",
       "24  Общество с ограниченной ответственностью «АПТОС ГРУПП»                                                    \n",
       "25  Общество с ограниченной ответственностью «Аравия»                                                         \n",
       "26  Общество с ограниченной ответственностью «Арвитекс»                                                       \n",
       "27  Общество с ограниченной ответственностью «Ардена»                                                         \n",
       "28  Общество с ограниченной ответственностью «АРКТИЛАЙН»                                                      \n",
       "29  Общество с ограниченной ответственностью «Ароматы тайги»                                                  \n",
       "30  Общество с ограниченной ответственностью «Арт-Ам»                                                         \n",
       "⋮   ⋮                                                                                                         \n",
       "322 Общество с ограниченной ответственностью «Научно-Производственное Объединение «Перспектива»               \n",
       "323 ОБЩЕСТВО С ОГРАНИЧЕННОЙ ОТВЕТСТВЕННОСТЬЮ «НАУЧНО-ПРОИЗВОДСТВЕННОЕ ПРЕДПРИЯТИЕ «ДОЗА»                      \n",
       "324 Общество с ограниченной ответственностью «Научно-производственное предприятие «ИТЭЛМА»                    \n",
       "325 Общество с ограниченной ответственностью «Научно-производственное предприятие «ЭЛЕМЕР»                    \n",
       "326 Общество с ограниченной ответственностью «Научно-производственный центр «Трезор»                          \n",
       "327 Общество с ограниченной ответственностью «Научно-производственный центр неразрушающего контроля «ЭХО плюс»\n",
       "328 Общество с ограниченной ответственностью «Научно-промышленная компания «ТЕХНОВОТУМ»                       \n",
       "329 Общество с ограниченной ответственностью «Научно-технический центр «Бакор»                                \n",
       "330 Общество с ограниченной ответственностью «НАУЧНО-ТЕХНИЧЕСКИЙ ЦЕНТР Т8»                                    \n",
       "331 Общество с ограниченной ответственностью «Научно-Технологический Центр «БИОИНВЕСТ»                        \n",
       "332 Общество с ограниченной ответственностью «Научные развлечения»                                            \n",
       "333 Общество с ограниченной ответственностью «НАУЧНЫЙ ЦЕНТР «БИОФОРМ»                                         \n",
       "334 Общество с ограниченной ответственностью «НАШ ОБЩИЙ ДОМ»                                                  \n",
       "335 Общество с ограниченной ответственностью «Наяда Нейлс»                                                    \n",
       "336 Общество с ограниченной ответственностью «НГТ-СИНТЕЗ»                                                     \n",
       "337 Общество с ограниченной ответственностью «Не по Годам»                                                    \n",
       "338 Общество с ограниченной ответственностью «НЕВИДИМЫЕ ДРУЗЬЯ»                                               \n",
       "339 Общество с ограниченной ответственностью «НЕВРОКОР»                                                       \n",
       "340 Общество с ограниченной ответственностью «Некст-Т»                                                        \n",
       "341 Общество с ограниченной ответственностью «НЕОТЭК»                                                         \n",
       "342 Общество с ограниченной ответственностью «Нетканика»                                                      \n",
       "343 Общество с ограниченной ответственностью «НЕФТЕГАЗБРОКЕР»                                                 \n",
       "344 Общество с ограниченной ответственностью «НИБС»                                                           \n",
       "345 Общество с ограниченной ответственностью «НИИКЭУ»                                                         \n",
       "346 Общество с ограниченной ответственностью «НИКА»                                                           \n",
       "347 Общество с ограниченной ответственностью «НоваПродукт АГ»                                                 \n",
       "348 Общество с ограниченной ответственностью «Новолабсистем»                                                  \n",
       "349 Общество с ограниченной ответственностью «НОВЫЙ ПОЛЮС»                                                    \n",
       "350 Общество с ограниченной ответственностью «НОРД Инжиниринг»                                                \n",
       "351 Общество с ограниченной ответственностью «Нпк Пожхимзащита»                                               \n",
       "    ИНН       \n",
       "1   7714950057\n",
       "2   7724363386\n",
       "3   7751060422\n",
       "4   7716543498\n",
       "5   7715220896\n",
       "6   7725618132\n",
       "7   9705043948\n",
       "8   7715439455\n",
       "9   7730650477\n",
       "10  7716187088\n",
       "11  NA        \n",
       "12  NA        \n",
       "13  NA        \n",
       "14  NA        \n",
       "15  NA        \n",
       "16  NA        \n",
       "17  NA        \n",
       "18  NA        \n",
       "19  NA        \n",
       "20  NA        \n",
       "21  NA        \n",
       "22  NA        \n",
       "23  NA        \n",
       "24  NA        \n",
       "25  NA        \n",
       "26  NA        \n",
       "27  NA        \n",
       "28  NA        \n",
       "29  NA        \n",
       "30  NA        \n",
       "⋮   ⋮         \n",
       "322 NA        \n",
       "323 NA        \n",
       "324 NA        \n",
       "325 NA        \n",
       "326 NA        \n",
       "327 NA        \n",
       "328 NA        \n",
       "329 NA        \n",
       "330 NA        \n",
       "331 NA        \n",
       "332 NA        \n",
       "333 NA        \n",
       "334 NA        \n",
       "335 NA        \n",
       "336 NA        \n",
       "337 NA        \n",
       "338 NA        \n",
       "339 NA        \n",
       "340 NA        \n",
       "341 NA        \n",
       "342 NA        \n",
       "343 NA        \n",
       "344 NA        \n",
       "345 NA        \n",
       "346 NA        \n",
       "347 NA        \n",
       "348 NA        \n",
       "349 NA        \n",
       "350 NA        \n",
       "351 NA        \n",
       "    name                                                                            \n",
       "1   ОБЩЕСТВО С ОГРАНИЧЕННОЙ ОТВЕТСТВЕННОСТЬЮ \"АЛЕАН\"                                \n",
       "2   ОБЩЕСТВО С ОГРАНИЧЕННОЙ ОТВЕТСТВЕННОСТЬЮ \"АЛЛЮРЪ\"                               \n",
       "3   ОБЩЕСТВО С ОГРАНИЧЕННОЙ ОТВЕТСТВЕННОСТЬЮ \"АЛМАЗНЫЙ НАУЧНО-ТЕХНОЛОГИЧЕСКИЙ ЦЕНТР\"\n",
       "4   ОБЩЕСТВО С ОГРАНИЧЕННОЙ ОТВЕТСТВЕННОСТЬЮ \"АЛТЕЙ-БУК\"                            \n",
       "5   ОБЩЕСТВО С ОГРАНИЧЕННОЙ ОТВЕТСТВЕННОСТЬЮ \"АЛЬПАТРИ\"                             \n",
       "6   ОБЩЕСТВО С ОГРАНИЧЕННОЙ ОТВЕТСТВЕННОСТЬЮ \"АЛЬФА АВТОМАТИВ ТЕХНОЛОЖИЗ\"           \n",
       "7   ОБЩЕСТВО С ОГРАНИЧЕННОЙ ОТВЕТСТВЕННОСТЬЮ \"АЛЬФА АЛЮМИНИЙ\"                       \n",
       "8   ОБЩЕСТВО С ОГРАНИЧЕННОЙ ОТВЕТСТВЕННОСТЬЮ \"АЛЬФАКИП\"                             \n",
       "9   ОБЩЕСТВО С ОГРАНИЧЕННОЙ ОТВЕТСТВЕННОСТЬЮ \"АЛЬЯНС МЕДИА СТРАТЕГИЯ\"               \n",
       "10  ОБЩЕСТВО С ОГРАНИЧЕННОЙ ОТВЕТСТВЕННОСТЬЮ \"С-АЛЬЯНС\"                             \n",
       "11  NA                                                                              \n",
       "12  NA                                                                              \n",
       "13  NA                                                                              \n",
       "14  NA                                                                              \n",
       "15  NA                                                                              \n",
       "16  NA                                                                              \n",
       "17  NA                                                                              \n",
       "18  NA                                                                              \n",
       "19  NA                                                                              \n",
       "20  NA                                                                              \n",
       "21  NA                                                                              \n",
       "22  NA                                                                              \n",
       "23  NA                                                                              \n",
       "24  NA                                                                              \n",
       "25  NA                                                                              \n",
       "26  NA                                                                              \n",
       "27  NA                                                                              \n",
       "28  NA                                                                              \n",
       "29  NA                                                                              \n",
       "30  NA                                                                              \n",
       "⋮   ⋮                                                                               \n",
       "322 NA                                                                              \n",
       "323 NA                                                                              \n",
       "324 NA                                                                              \n",
       "325 NA                                                                              \n",
       "326 NA                                                                              \n",
       "327 NA                                                                              \n",
       "328 NA                                                                              \n",
       "329 NA                                                                              \n",
       "330 NA                                                                              \n",
       "331 NA                                                                              \n",
       "332 NA                                                                              \n",
       "333 NA                                                                              \n",
       "334 NA                                                                              \n",
       "335 NA                                                                              \n",
       "336 NA                                                                              \n",
       "337 NA                                                                              \n",
       "338 NA                                                                              \n",
       "339 NA                                                                              \n",
       "340 NA                                                                              \n",
       "341 NA                                                                              \n",
       "342 NA                                                                              \n",
       "343 NA                                                                              \n",
       "344 NA                                                                              \n",
       "345 NA                                                                              \n",
       "346 NA                                                                              \n",
       "347 NA                                                                              \n",
       "348 NA                                                                              \n",
       "349 NA                                                                              \n",
       "350 NA                                                                              \n",
       "351 NA                                                                              \n",
       "    text                                                                                                                                                                                                                                                          \n",
       "1   119017, МОСКВА ГОРОД, ПЕРЕУЛОК ПЫЖЕВСКИЙ, ДОМ 5, СТРОЕНИЕ 1, Э 3 ПОМ 1 К 29 ОФ 314, ОГРН: 5147746289158, Дата присвоения ОГРН: 30.10.2014, ИНН: 7714950057, КПП: 770601001, ГЕНЕРАЛЬНЫЙ ДИРЕКТОР: Уманский Илья Геннадьевич                                   \n",
       "2   115477 МОСКВА ГОРОД УЛИЦА КАНТЕМИРОВСКАЯ ДОМ 29 КВАРТИРА 94, ОГРН: 1167746436373, Дата присвоения ОГРН: 04.05.2016, ИНН: 7724363386, КПП: 772401001, ГЕНЕРАЛЬНЫЙ ДИРЕКТОР: Коротков Геннадий Викторович                                                       \n",
       "3   115184, МОСКВА ГОРОД, ОЗЕРКОВСКАЯ НАБЕРЕЖНАЯ, ДОМ 24, ПОМЕЩЕНИЕ IA КОМ11 ОФ406, ОГРН: 1177746835012, Дата присвоения ОГРН: 02.08.2017, ИНН: 7751060422, КПП: 770501001, ГЕНЕРАЛЬНЫЙ ДИРЕКТОР: Склярук Владимир Анатольевич                                    \n",
       "4   129344, ГОРОД МОСКВА, УЛИЦА ВЕРХОЯНСКАЯ, ДОМ 18, КОРПУС 2, ПОМ 2 ОФ 56, ОГРН: 1067746331201, Дата присвоения ОГРН: 01.03.2006, ИНН: 7716543498, КПП: 771601001, Генеральный директор: Нарежний Валерий Владимирович                                           \n",
       "5   127081, МОСКВА ГОРОД, ДЕЖНЁВА ПРОЕЗД, 13, 1, ОГРН: 1037739533094, Дата присвоения ОГРН: 10.02.2003, ИНН: 7715220896, КПП: 771501001, ГЕНЕРАЛЬНЫЙ ДИРЕКТОР: Платов Сергей Александрович                                                                        \n",
       "6   117546, РОССИЯ, МОСКВА Г., МУНИЦИПАЛЬНЫЙ ОКРУГ БИРЮЛЕВО ЗАПАДНОЕ ВН.ТЕР.Г., ХАРЬКОВСКИЙ ПР-Д, Д. 2, ЭТАЖ 4, КОМ. 425, ОГРН: 1077760706011, Дата присвоения ОГРН: 28.09.2007, ИНН: 7725618132, КПП: 772401001, ГЕНЕРАЛЬНЫЙ ДИРЕКТОР: Кондратьев Максим Олегович\n",
       "7   115035, ГОРОД МОСКВА, УЛИЦА САДОВНИЧЕСКАЯ, ДОМ 76/71, СТРОЕНИЕ 3, ПОМЕЩЕНИЕ IX, VIII, ОФИС 3,4,1, ОГРН: 1157746637399, Дата присвоения ОГРН: 14.07.2015, ИНН: 9705043948, КПП: 770501001, ГЕНЕРАЛЬНЫЙ ДИРЕКТОР: Ли Инсар Константинович                       \n",
       "8   127521, ГОРОД МОСКВА, УЛИЦА ВЕТКИНА, ДОМ 2, СТРОЕНИЕ 16, ПОМЕЩЕНИЕ 45, ОГРН: 1147746838282, Дата присвоения ОГРН: 24.07.2014, ИНН: 7715439455, КПП: 771701001, ГЕНЕРАЛЬНЫЙ ДИРЕКТОР: Пащинский Глеб Игоревич                                                  \n",
       "9   121170, ГОРОД МОСКВА, ПРОСПЕКТ КУТУЗОВСКИЙ, ДОМ 36, ПОМЕЩЕНИЕ I ЭТАЖ 2 КОМ 1-16,27, ОГРН: 1117746706550, Дата присвоения ОГРН: 07.09.2011, ИНН: 7730650477, КПП: 773001001, ГЕНЕРАЛЬНЫЙ ДИРЕКТОР: Дергоусов Владимир Викторович                               \n",
       "10  129327, ГОРОД МОСКВА, УЛИЦА ЛЁТЧИКА БАБУШКИНА, 24 /13, 1, , ОГРН: 5167746122682, Дата присвоения ОГРН: 05.10.2016, ИНН: 7716187088, КПП: 771601001, Руководитель юридического лица: Чмырева Вера Николаевна, Дата прекращения деятельности: 05.10.2016        \n",
       "11  NA                                                                                                                                                                                                                                                            \n",
       "12  NA                                                                                                                                                                                                                                                            \n",
       "13  NA                                                                                                                                                                                                                                                            \n",
       "14  NA                                                                                                                                                                                                                                                            \n",
       "15  NA                                                                                                                                                                                                                                                            \n",
       "16  NA                                                                                                                                                                                                                                                            \n",
       "17  NA                                                                                                                                                                                                                                                            \n",
       "18  NA                                                                                                                                                                                                                                                            \n",
       "19  NA                                                                                                                                                                                                                                                            \n",
       "20  NA                                                                                                                                                                                                                                                            \n",
       "21  NA                                                                                                                                                                                                                                                            \n",
       "22  NA                                                                                                                                                                                                                                                            \n",
       "23  NA                                                                                                                                                                                                                                                            \n",
       "24  NA                                                                                                                                                                                                                                                            \n",
       "25  NA                                                                                                                                                                                                                                                            \n",
       "26  NA                                                                                                                                                                                                                                                            \n",
       "27  NA                                                                                                                                                                                                                                                            \n",
       "28  NA                                                                                                                                                                                                                                                            \n",
       "29  NA                                                                                                                                                                                                                                                            \n",
       "30  NA                                                                                                                                                                                                                                                            \n",
       "⋮   ⋮                                                                                                                                                                                                                                                             \n",
       "322 NA                                                                                                                                                                                                                                                            \n",
       "323 NA                                                                                                                                                                                                                                                            \n",
       "324 NA                                                                                                                                                                                                                                                            \n",
       "325 NA                                                                                                                                                                                                                                                            \n",
       "326 NA                                                                                                                                                                                                                                                            \n",
       "327 NA                                                                                                                                                                                                                                                            \n",
       "328 NA                                                                                                                                                                                                                                                            \n",
       "329 NA                                                                                                                                                                                                                                                            \n",
       "330 NA                                                                                                                                                                                                                                                            \n",
       "331 NA                                                                                                                                                                                                                                                            \n",
       "332 NA                                                                                                                                                                                                                                                            \n",
       "333 NA                                                                                                                                                                                                                                                            \n",
       "334 NA                                                                                                                                                                                                                                                            \n",
       "335 NA                                                                                                                                                                                                                                                            \n",
       "336 NA                                                                                                                                                                                                                                                            \n",
       "337 NA                                                                                                                                                                                                                                                            \n",
       "338 NA                                                                                                                                                                                                                                                            \n",
       "339 NA                                                                                                                                                                                                                                                            \n",
       "340 NA                                                                                                                                                                                                                                                            \n",
       "341 NA                                                                                                                                                                                                                                                            \n",
       "342 NA                                                                                                                                                                                                                                                            \n",
       "343 NA                                                                                                                                                                                                                                                            \n",
       "344 NA                                                                                                                                                                                                                                                            \n",
       "345 NA                                                                                                                                                                                                                                                            \n",
       "346 NA                                                                                                                                                                                                                                                            \n",
       "347 NA                                                                                                                                                                                                                                                            \n",
       "348 NA                                                                                                                                                                                                                                                            \n",
       "349 NA                                                                                                                                                                                                                                                            \n",
       "350 NA                                                                                                                                                                                                                                                            \n",
       "351 NA                                                                                                                                                                                                                                                            "
      ]
     },
     "metadata": {},
     "output_type": "display_data"
    }
   ],
   "source": [
    "goszak_df"
   ]
  },
  {
   "cell_type": "code",
   "execution_count": null,
   "metadata": {
    "ExecuteTime": {
     "end_time": "2021-04-18T07:12:22.042913Z",
     "start_time": "2021-04-18T07:12:19.447Z"
    }
   },
   "outputs": [],
   "source": [
    "# remDr$navigate(\"https://vk.com/al_feed.php\")"
   ]
  },
  {
   "cell_type": "code",
   "execution_count": null,
   "metadata": {},
   "outputs": [],
   "source": [
    "name_box  <- remDr$findElements(using = \"xpath\", \"/html/body/div[1]/div[3]/div/div[1]/div[4]/div[1]/div[2]/a\")\n",
    "name_box[[1]]$highlightElement()"
   ]
  },
  {
   "cell_type": "code",
   "execution_count": 27,
   "metadata": {
    "ExecuteTime": {
     "end_time": "2021-04-18T07:31:08.441784Z",
     "start_time": "2021-04-18T07:31:07.849Z"
    }
   },
   "outputs": [],
   "source": [
    "# name_box  <- remDr$findElements(using = \"xpath\", \"/html/body/div[1]/div[3]/div/div[1]/div[4]/div[1]/div[2]/a\")\n",
    "nn  <- remDr$findElement(using = \"xpath\", '//*[@id=\"resultContent\"]/div[1]/div[3]/div')\n",
    "nn$highlightElement()"
   ]
  },
  {
   "cell_type": "code",
   "execution_count": null,
   "metadata": {},
   "outputs": [],
   "source": [
    "\n",
    "/html/body/div[1]/div[3]/div/div[1]/div[4]/div[1]/div[3]/div"
   ]
  },
  {
   "cell_type": "code",
   "execution_count": 24,
   "metadata": {
    "ExecuteTime": {
     "end_time": "2021-04-18T07:27:05.031554Z",
     "start_time": "2021-04-18T07:27:04.993Z"
    }
   },
   "outputs": [
    {
     "data": {
      "text/html": [
       "<ol>\n",
       "\t<li>'{7e4e038c-0087-4388-b0fd-303337ab04e3}'</li>\n",
       "</ol>\n"
      ],
      "text/latex": [
       "\\begin{enumerate}\n",
       "\\item '\\{7e4e038c-0087-4388-b0fd-303337ab04e3\\}'\n",
       "\\end{enumerate}\n"
      ],
      "text/markdown": [
       "1. '{7e4e038c-0087-4388-b0fd-303337ab04e3}'\n",
       "\n",
       "\n"
      ],
      "text/plain": [
       "[[1]]\n",
       "[1] \"{7e4e038c-0087-4388-b0fd-303337ab04e3}\"\n"
      ]
     },
     "metadata": {},
     "output_type": "display_data"
    }
   ],
   "source": [
    "windows <- remDr$getWindowHandles()\n",
    "windows\n",
    "#     remDr$switchToWindow(windows[[1]])"
   ]
  },
  {
   "cell_type": "code",
   "execution_count": 29,
   "metadata": {
    "ExecuteTime": {
     "end_time": "2021-04-18T07:32:13.606831Z",
     "start_time": "2021-04-18T07:32:06.919Z"
    }
   },
   "outputs": [
    {
     "name": "stdout",
     "output_type": "stream",
     "text": [
      "[1] \"1111\"\n",
      "[1] \"1111\"\n",
      "[1] \"11112\"\n"
     ]
    },
    {
     "ename": "ERROR",
     "evalue": "Error in stringdist(tolower(a1), tolower(a2), method = \"lv\"): could not find function \"stringdist\"\n",
     "output_type": "error",
     "traceback": [
      "Error in stringdist(tolower(a1), tolower(a2), method = \"lv\"): could not find function \"stringdist\"\nTraceback:\n"
     ]
    }
   ],
   "source": [
    "check <- TRUE\n",
    "count <- 1 \n",
    "for (i in 1:dim(goszak_df)[1]){\n",
    "    remDr$navigate(\"https://egrul.nalog.ru/index.html\")\n",
    "    \n",
    "    webElem <- remDr$findElement(using = \"css\", \".no-data\")\n",
    "    webElem$clickElement()\n",
    "    \n",
    "    webElem <- remDr$findElements(\"css\", \"iframe\")\n",
    "    remDr$switchToFrame(webElem[[1]])\n",
    "    \n",
    "    webElem <- remDr$findElement(using = \"xpath\", '//*[@id=\"chk_2\"]')\n",
    "    webElem$clickElement()\n",
    "    \n",
    "    webElem <- remDr$findElement(using = \"xpath\", '//*[@id=\"btn_ok\"]')\n",
    "    webElem$clickElement()\n",
    "    \n",
    "    windows <- remDr$getWindowHandles()\n",
    "    remDr$switchToWindow(windows[[1]])\n",
    "    \n",
    "    webElem <- remDr$findElement(using = \"css\", \"#query\")\n",
    "    webElem$sendKeysToElement(list(goszak_df[[i,1]], key = \"enter\"))\n",
    "    \n",
    "    Sys.sleep(2)\n",
    "    \n",
    "#     name_box <- tryCatch({\n",
    "#         remDr$findElement(using = \"xpath\", \"/html/body/div[1]/div[3]/div/div[1]/div[4]/div[1]/div[2]/a\")\n",
    "#     }, error = function(warning_condition) {\n",
    "#         remDr$findElement(using = \"xpath\", \"/html/body/div[1]/div[3]/div/div[1]/div[4]/div[1]/div[2]/a\")\n",
    "#     })\n",
    "    \n",
    "    nn  <- remDr$findElement(using = \"xpath\", '//*[@id=\"resultContent\"]/div[1]/div[3]/div')\n",
    "    nn$highlightElement()\n",
    "\n",
    "#     print('1111')\n",
    "\n",
    "    \n",
    "    name_box  <- remDr$findElement(using = \"xpath\", '//*[@id=\"resultContent\"]/div[1]/div[3]/div')\n",
    "    \n",
    "#     print('1111')\n",
    "    \n",
    "    name <-  name_box$getElementText()[[1]]\n",
    "\n",
    "#     print('11112')\n",
    "\n",
    "    goszak_df[[count,3]] <- name\n",
    "    \n",
    "    a1 <- gsub(\"[[:punct:]]\", \"\", name)  # no libraries needed\n",
    "    a2 <- gsub(\"[[:punct:]]\", \"\", goszak_df[[i,1]]) \n",
    "    check_name <- stringdist(tolower(a1),tolower(a2), method='lv')    \n",
    "    \n",
    "    if (check_name > 0){\n",
    "        break\n",
    "    }\n",
    "    \n",
    "    \n",
    "    text_box  <- remDr$findElement(using = \"xpath\", \"/html/body/div[1]/div[3]/div/div[1]/div[4]/div[1]/div[3]/div\")\n",
    "    text <-  text_box$getElementText()[[1]]\n",
    "    \n",
    "    check_text <- grepl('прекращения', text, fixed = TRUE)\n",
    "    \n",
    "    if (check_text == TRUE){\n",
    "        break\n",
    "    }\n",
    "    \n",
    "    goszak_df[[count,4]] <- text\n",
    "    \n",
    "    aa  <-  text_box$getElementText()[[1]]\n",
    "    bb <- unlist(strsplit(aa, \",\"))\n",
    "    cc <- bb[grepl('ИНН', bb, fixed = TRUE)]\n",
    "    inn <- unlist(strsplit(cc, \": \"))[2]\n",
    "    \n",
    "    goszak_df[[count,2]] <- inn\n",
    "       \n",
    "    count = count + 1\n",
    "\n",
    "    \n",
    "    if (count > 2){\n",
    "#     if (count > dim(goszak_df)[1]){\n",
    "        check <- FALSE\n",
    "    }\n",
    "    \n",
    "    print(count)\n",
    "    \n",
    "    Sys.sleep(0.5)\n",
    "}\n",
    "\n",
    "\n",
    "# webElem$highlightElement()\n",
    "\n",
    "\n"
   ]
  },
  {
   "cell_type": "code",
   "execution_count": 54,
   "metadata": {
    "ExecuteTime": {
     "end_time": "2019-10-14T08:56:07.039949Z",
     "start_time": "2019-10-14T08:56:01.439Z"
    }
   },
   "outputs": [],
   "source": [
    "for (i in 1){\n",
    "    remDr$navigate(\"http://zakupki.gov.ru/epz/main/public/home.html\")\n",
    "    Sys.sleep(2)\n",
    "    webElem <- remDr$findElement(using = \"css\", \"#quickSearchForm_header_searchString\")\n",
    "    # webElem$highlightElement()\n",
    "    webElem$sendKeysToElement(list(goszak_df_kolich[[i,2]], key = \"enter\"))\n",
    "    \n",
    "    zak_desc  <-  list()\n",
    "    \n",
    "    zak_zav  <- remDr$findElement(using = \"css\", \".registry-entry__header-top__title\")\n",
    "#     zak_zav$highlightElement()\n",
    "    zak_desc[[1]]  <-  zak_zav$getElementText()[[1]]\n",
    "    \n",
    "    obj_type  <- remDr$findElement(using = \"css\", \".registry-entry__body-value\")\n",
    "#     obj_type$highlightElement()\n",
    "    zak_desc[[2]]  <-  obj_type$getElementText()[[1]]\n",
    "    \n",
    "#     doc <- htmlParse(remDr$getPageSource()[[1]])\n",
    "#     table_tmp <- readHTMLTable(doc)\n",
    "    tables_list[[i]] = zak_desc\n",
    "    Sys.sleep(2)\n",
    "}"
   ]
  },
  {
   "cell_type": "code",
   "execution_count": 57,
   "metadata": {
    "ExecuteTime": {
     "end_time": "2019-10-14T08:56:22.139205Z",
     "start_time": "2019-10-14T08:56:22.129Z"
    }
   },
   "outputs": [],
   "source": [
    "# tables_list"
   ]
  },
  {
   "cell_type": "code",
   "execution_count": 74,
   "metadata": {
    "ExecuteTime": {
     "end_time": "2019-10-14T09:10:45.186449Z",
     "start_time": "2019-10-14T09:10:45.177Z"
    }
   },
   "outputs": [],
   "source": [
    "collecting_auctions  <- function(tables_list){\n",
    "    if (length(tables_list)>dim(goszak_df_kolich)[1]){print(2500)}\n",
    "    else{\n",
    "    for (i in (length(tables_list) + 1):dim(goszak_df_kolich)[1]){\n",
    "        remDr$navigate(\"http://zakupki.gov.ru/epz/main/public/home.html\")\n",
    "        Sys.sleep(2)\n",
    "        webElem <- remDr$findElement(using = \"css\", \"#quickSearchForm_header_searchString\")\n",
    "        # webElem$highlightElement()\n",
    "        webElem$sendKeysToElement(list(goszak_df_kolich[[i,2]], key = \"enter\"))\n",
    "       \n",
    "        Sys.sleep(2)\n",
    "        \n",
    "        zak_desc  <-  list()\n",
    "    \n",
    "        zak_zav  <- remDr$findElement(using = \"css\", \".registry-entry__header-top__title\")\n",
    "    #     zak_zav$highlightElement()\n",
    "        zak_desc[[1]]  <-  zak_zav$getElementText()[[1]]\n",
    "\n",
    "        obj_type  <- remDr$findElement(using = \"css\", \".registry-entry__body-value\")\n",
    "    #     obj_type$highlightElement()\n",
    "        zak_desc[[2]]  <-  obj_type$getElementText()[[1]]\n",
    "\n",
    "    #     doc <- htmlParse(remDr$getPageSource()[[1]])\n",
    "    #     table_tmp <- readHTMLTable(doc)\n",
    "        tables_list[[i]] = zak_desc\n",
    "        \n",
    "        \n",
    "        \n",
    "        Sys.sleep(2)\n",
    "        return(tables_list)        \n",
    "        \n",
    "    }\n",
    "    }\n",
    "    \n",
    "    }"
   ]
  },
  {
   "cell_type": "code",
   "execution_count": 260,
   "metadata": {
    "ExecuteTime": {
     "end_time": "2019-10-20T04:17:07.593871Z",
     "start_time": "2019-10-19T23:35:40.907Z"
    }
   },
   "outputs": [
    {
     "name": "stderr",
     "output_type": "stream",
     "text": [
      "\n",
      "Selenium message:Unable to locate element: {\"method\":\"css selector\",\"selector\":\".registry-entry__header-top__title\"}\n",
      "For documentation on this error, please visit: http://seleniumhq.org/exceptions/no_such_element.html\n",
      "Build info: version: '2.53.1', revision: 'a36b8b1', time: '2016-06-30 17:37:03'\n",
      "System info: host: '3b93b79e6a32', ip: '172.17.0.2', os.name: 'Linux', os.arch: 'amd64', os.version: '4.15.0-1056-oem', java.version: '1.8.0_91'\n",
      "Driver info: driver.version: unknown\n",
      "\n",
      "\n",
      "Selenium message:Unable to locate element: {\"method\":\"css selector\",\"selector\":\".noRecords\"}\n",
      "For documentation on this error, please visit: http://seleniumhq.org/exceptions/no_such_element.html\n",
      "Build info: version: '2.53.1', revision: 'a36b8b1', time: '2016-06-30 17:37:03'\n",
      "System info: host: '3b93b79e6a32', ip: '172.17.0.2', os.name: 'Linux', os.arch: 'amd64', os.version: '4.15.0-1056-oem', java.version: '1.8.0_91'\n",
      "Driver info: driver.version: unknown\n",
      "\n",
      "stoped at length:  14852\n",
      "\n",
      "Selenium message:Unable to locate element: {\"method\":\"css selector\",\"selector\":\".registry-entry__header-top__title\"}\n",
      "For documentation on this error, please visit: http://seleniumhq.org/exceptions/no_such_element.html\n",
      "Build info: version: '2.53.1', revision: 'a36b8b1', time: '2016-06-30 17:37:03'\n",
      "System info: host: '3b93b79e6a32', ip: '172.17.0.2', os.name: 'Linux', os.arch: 'amd64', os.version: '4.15.0-1056-oem', java.version: '1.8.0_91'\n",
      "Driver info: driver.version: unknown\n",
      "\n",
      "\n",
      "Selenium message:Unable to locate element: {\"method\":\"css selector\",\"selector\":\".noRecords\"}\n",
      "For documentation on this error, please visit: http://seleniumhq.org/exceptions/no_such_element.html\n",
      "Build info: version: '2.53.1', revision: 'a36b8b1', time: '2016-06-30 17:37:03'\n",
      "System info: host: '3b93b79e6a32', ip: '172.17.0.2', os.name: 'Linux', os.arch: 'amd64', os.version: '4.15.0-1056-oem', java.version: '1.8.0_91'\n",
      "Driver info: driver.version: unknown\n",
      "\n",
      "stoped at length:  14994\n",
      "\n",
      "Selenium message:Unable to locate element: {\"method\":\"css selector\",\"selector\":\".registry-entry__header-top__title\"}\n",
      "For documentation on this error, please visit: http://seleniumhq.org/exceptions/no_such_element.html\n",
      "Build info: version: '2.53.1', revision: 'a36b8b1', time: '2016-06-30 17:37:03'\n",
      "System info: host: '3b93b79e6a32', ip: '172.17.0.2', os.name: 'Linux', os.arch: 'amd64', os.version: '4.15.0-1056-oem', java.version: '1.8.0_91'\n",
      "Driver info: driver.version: unknown\n",
      "\n",
      "\n",
      "Selenium message:Unable to locate element: {\"method\":\"css selector\",\"selector\":\".noRecords\"}\n",
      "For documentation on this error, please visit: http://seleniumhq.org/exceptions/no_such_element.html\n",
      "Build info: version: '2.53.1', revision: 'a36b8b1', time: '2016-06-30 17:37:03'\n",
      "System info: host: '3b93b79e6a32', ip: '172.17.0.2', os.name: 'Linux', os.arch: 'amd64', os.version: '4.15.0-1056-oem', java.version: '1.8.0_91'\n",
      "Driver info: driver.version: unknown\n",
      "\n",
      "stoped at length:  15260\n",
      "\n",
      "Selenium message:Unable to locate element: {\"method\":\"css selector\",\"selector\":\".registry-entry__header-top__title\"}\n",
      "For documentation on this error, please visit: http://seleniumhq.org/exceptions/no_such_element.html\n",
      "Build info: version: '2.53.1', revision: 'a36b8b1', time: '2016-06-30 17:37:03'\n",
      "System info: host: '3b93b79e6a32', ip: '172.17.0.2', os.name: 'Linux', os.arch: 'amd64', os.version: '4.15.0-1056-oem', java.version: '1.8.0_91'\n",
      "Driver info: driver.version: unknown\n",
      "\n",
      "\n",
      "Selenium message:Unable to locate element: {\"method\":\"css selector\",\"selector\":\".noRecords\"}\n",
      "For documentation on this error, please visit: http://seleniumhq.org/exceptions/no_such_element.html\n",
      "Build info: version: '2.53.1', revision: 'a36b8b1', time: '2016-06-30 17:37:03'\n",
      "System info: host: '3b93b79e6a32', ip: '172.17.0.2', os.name: 'Linux', os.arch: 'amd64', os.version: '4.15.0-1056-oem', java.version: '1.8.0_91'\n",
      "Driver info: driver.version: unknown\n",
      "\n",
      "stoped at length:  15285\n",
      "\n",
      "Selenium message:Unable to locate element: {\"method\":\"css selector\",\"selector\":\".registry-entry__header-top__title\"}\n",
      "For documentation on this error, please visit: http://seleniumhq.org/exceptions/no_such_element.html\n",
      "Build info: version: '2.53.1', revision: 'a36b8b1', time: '2016-06-30 17:37:03'\n",
      "System info: host: '3b93b79e6a32', ip: '172.17.0.2', os.name: 'Linux', os.arch: 'amd64', os.version: '4.15.0-1056-oem', java.version: '1.8.0_91'\n",
      "Driver info: driver.version: unknown\n",
      "\n",
      "\n",
      "Selenium message:Unable to locate element: {\"method\":\"css selector\",\"selector\":\".noRecords\"}\n",
      "For documentation on this error, please visit: http://seleniumhq.org/exceptions/no_such_element.html\n",
      "Build info: version: '2.53.1', revision: 'a36b8b1', time: '2016-06-30 17:37:03'\n",
      "System info: host: '3b93b79e6a32', ip: '172.17.0.2', os.name: 'Linux', os.arch: 'amd64', os.version: '4.15.0-1056-oem', java.version: '1.8.0_91'\n",
      "Driver info: driver.version: unknown\n",
      "\n",
      "stoped at length:  15435\n",
      "\n",
      "Selenium message:Unable to locate element: {\"method\":\"css selector\",\"selector\":\".registry-entry__header-top__title\"}\n",
      "For documentation on this error, please visit: http://seleniumhq.org/exceptions/no_such_element.html\n",
      "Build info: version: '2.53.1', revision: 'a36b8b1', time: '2016-06-30 17:37:03'\n",
      "System info: host: '3b93b79e6a32', ip: '172.17.0.2', os.name: 'Linux', os.arch: 'amd64', os.version: '4.15.0-1056-oem', java.version: '1.8.0_91'\n",
      "Driver info: driver.version: unknown\n",
      "\n",
      "\n",
      "Selenium message:Unable to locate element: {\"method\":\"css selector\",\"selector\":\".noRecords\"}\n",
      "For documentation on this error, please visit: http://seleniumhq.org/exceptions/no_such_element.html\n",
      "Build info: version: '2.53.1', revision: 'a36b8b1', time: '2016-06-30 17:37:03'\n",
      "System info: host: '3b93b79e6a32', ip: '172.17.0.2', os.name: 'Linux', os.arch: 'amd64', os.version: '4.15.0-1056-oem', java.version: '1.8.0_91'\n",
      "Driver info: driver.version: unknown\n",
      "\n",
      "stoped at length:  15475\n",
      "\n",
      "Selenium message:Unable to locate element: {\"method\":\"css selector\",\"selector\":\".registry-entry__header-top__title\"}\n",
      "For documentation on this error, please visit: http://seleniumhq.org/exceptions/no_such_element.html\n",
      "Build info: version: '2.53.1', revision: 'a36b8b1', time: '2016-06-30 17:37:03'\n",
      "System info: host: '3b93b79e6a32', ip: '172.17.0.2', os.name: 'Linux', os.arch: 'amd64', os.version: '4.15.0-1056-oem', java.version: '1.8.0_91'\n",
      "Driver info: driver.version: unknown\n",
      "\n",
      "\n",
      "Selenium message:Unable to locate element: {\"method\":\"css selector\",\"selector\":\".noRecords\"}\n",
      "For documentation on this error, please visit: http://seleniumhq.org/exceptions/no_such_element.html\n",
      "Build info: version: '2.53.1', revision: 'a36b8b1', time: '2016-06-30 17:37:03'\n",
      "System info: host: '3b93b79e6a32', ip: '172.17.0.2', os.name: 'Linux', os.arch: 'amd64', os.version: '4.15.0-1056-oem', java.version: '1.8.0_91'\n",
      "Driver info: driver.version: unknown\n",
      "\n",
      "stoped at length:  15510\n",
      "\n",
      "Selenium message:Unable to locate element: {\"method\":\"css selector\",\"selector\":\".registry-entry__header-top__title\"}\n",
      "For documentation on this error, please visit: http://seleniumhq.org/exceptions/no_such_element.html\n",
      "Build info: version: '2.53.1', revision: 'a36b8b1', time: '2016-06-30 17:37:03'\n",
      "System info: host: '3b93b79e6a32', ip: '172.17.0.2', os.name: 'Linux', os.arch: 'amd64', os.version: '4.15.0-1056-oem', java.version: '1.8.0_91'\n",
      "Driver info: driver.version: unknown\n",
      "\n",
      "\n",
      "Selenium message:Unable to locate element: {\"method\":\"css selector\",\"selector\":\".noRecords\"}\n",
      "For documentation on this error, please visit: http://seleniumhq.org/exceptions/no_such_element.html\n",
      "Build info: version: '2.53.1', revision: 'a36b8b1', time: '2016-06-30 17:37:03'\n",
      "System info: host: '3b93b79e6a32', ip: '172.17.0.2', os.name: 'Linux', os.arch: 'amd64', os.version: '4.15.0-1056-oem', java.version: '1.8.0_91'\n",
      "Driver info: driver.version: unknown\n",
      "\n",
      "stoped at length:  15542\n",
      "\n",
      "Selenium message:Unable to locate element: {\"method\":\"css selector\",\"selector\":\".registry-entry__header-top__title\"}\n",
      "For documentation on this error, please visit: http://seleniumhq.org/exceptions/no_such_element.html\n",
      "Build info: version: '2.53.1', revision: 'a36b8b1', time: '2016-06-30 17:37:03'\n",
      "System info: host: '3b93b79e6a32', ip: '172.17.0.2', os.name: 'Linux', os.arch: 'amd64', os.version: '4.15.0-1056-oem', java.version: '1.8.0_91'\n",
      "Driver info: driver.version: unknown\n",
      "\n"
     ]
    },
    {
     "name": "stderr",
     "output_type": "stream",
     "text": [
      "\n",
      "Selenium message:Unable to locate element: {\"method\":\"css selector\",\"selector\":\".noRecords\"}\n",
      "For documentation on this error, please visit: http://seleniumhq.org/exceptions/no_such_element.html\n",
      "Build info: version: '2.53.1', revision: 'a36b8b1', time: '2016-06-30 17:37:03'\n",
      "System info: host: '3b93b79e6a32', ip: '172.17.0.2', os.name: 'Linux', os.arch: 'amd64', os.version: '4.15.0-1056-oem', java.version: '1.8.0_91'\n",
      "Driver info: driver.version: unknown\n",
      "\n",
      "stoped at length:  15577\n",
      "\n",
      "Selenium message:Unable to locate element: {\"method\":\"css selector\",\"selector\":\".registry-entry__header-top__title\"}\n",
      "For documentation on this error, please visit: http://seleniumhq.org/exceptions/no_such_element.html\n",
      "Build info: version: '2.53.1', revision: 'a36b8b1', time: '2016-06-30 17:37:03'\n",
      "System info: host: '3b93b79e6a32', ip: '172.17.0.2', os.name: 'Linux', os.arch: 'amd64', os.version: '4.15.0-1056-oem', java.version: '1.8.0_91'\n",
      "Driver info: driver.version: unknown\n",
      "\n",
      "\n",
      "Selenium message:Unable to locate element: {\"method\":\"css selector\",\"selector\":\".noRecords\"}\n",
      "For documentation on this error, please visit: http://seleniumhq.org/exceptions/no_such_element.html\n",
      "Build info: version: '2.53.1', revision: 'a36b8b1', time: '2016-06-30 17:37:03'\n",
      "System info: host: '3b93b79e6a32', ip: '172.17.0.2', os.name: 'Linux', os.arch: 'amd64', os.version: '4.15.0-1056-oem', java.version: '1.8.0_91'\n",
      "Driver info: driver.version: unknown\n",
      "\n",
      "stoped at length:  15772\n",
      "\n",
      "Selenium message:Unable to locate element: {\"method\":\"css selector\",\"selector\":\".registry-entry__header-top__title\"}\n",
      "For documentation on this error, please visit: http://seleniumhq.org/exceptions/no_such_element.html\n",
      "Build info: version: '2.53.1', revision: 'a36b8b1', time: '2016-06-30 17:37:03'\n",
      "System info: host: '3b93b79e6a32', ip: '172.17.0.2', os.name: 'Linux', os.arch: 'amd64', os.version: '4.15.0-1056-oem', java.version: '1.8.0_91'\n",
      "Driver info: driver.version: unknown\n",
      "\n",
      "\n",
      "Selenium message:Unable to locate element: {\"method\":\"css selector\",\"selector\":\".noRecords\"}\n",
      "For documentation on this error, please visit: http://seleniumhq.org/exceptions/no_such_element.html\n",
      "Build info: version: '2.53.1', revision: 'a36b8b1', time: '2016-06-30 17:37:03'\n",
      "System info: host: '3b93b79e6a32', ip: '172.17.0.2', os.name: 'Linux', os.arch: 'amd64', os.version: '4.15.0-1056-oem', java.version: '1.8.0_91'\n",
      "Driver info: driver.version: unknown\n",
      "\n",
      "stoped at length:  15884\n",
      "\n",
      "Selenium message:Unable to locate element: {\"method\":\"css selector\",\"selector\":\".registry-entry__header-top__title\"}\n",
      "For documentation on this error, please visit: http://seleniumhq.org/exceptions/no_such_element.html\n",
      "Build info: version: '2.53.1', revision: 'a36b8b1', time: '2016-06-30 17:37:03'\n",
      "System info: host: '3b93b79e6a32', ip: '172.17.0.2', os.name: 'Linux', os.arch: 'amd64', os.version: '4.15.0-1056-oem', java.version: '1.8.0_91'\n",
      "Driver info: driver.version: unknown\n",
      "\n",
      "\n",
      "Selenium message:Unable to locate element: {\"method\":\"css selector\",\"selector\":\".noRecords\"}\n",
      "For documentation on this error, please visit: http://seleniumhq.org/exceptions/no_such_element.html\n",
      "Build info: version: '2.53.1', revision: 'a36b8b1', time: '2016-06-30 17:37:03'\n",
      "System info: host: '3b93b79e6a32', ip: '172.17.0.2', os.name: 'Linux', os.arch: 'amd64', os.version: '4.15.0-1056-oem', java.version: '1.8.0_91'\n",
      "Driver info: driver.version: unknown\n",
      "\n",
      "stoped at length:  15930\n",
      "\n",
      "Selenium message:Unable to locate element: {\"method\":\"css selector\",\"selector\":\".registry-entry__header-top__title\"}\n",
      "For documentation on this error, please visit: http://seleniumhq.org/exceptions/no_such_element.html\n",
      "Build info: version: '2.53.1', revision: 'a36b8b1', time: '2016-06-30 17:37:03'\n",
      "System info: host: '3b93b79e6a32', ip: '172.17.0.2', os.name: 'Linux', os.arch: 'amd64', os.version: '4.15.0-1056-oem', java.version: '1.8.0_91'\n",
      "Driver info: driver.version: unknown\n",
      "\n",
      "\n",
      "Selenium message:Unable to locate element: {\"method\":\"css selector\",\"selector\":\".noRecords\"}\n",
      "For documentation on this error, please visit: http://seleniumhq.org/exceptions/no_such_element.html\n",
      "Build info: version: '2.53.1', revision: 'a36b8b1', time: '2016-06-30 17:37:03'\n",
      "System info: host: '3b93b79e6a32', ip: '172.17.0.2', os.name: 'Linux', os.arch: 'amd64', os.version: '4.15.0-1056-oem', java.version: '1.8.0_91'\n",
      "Driver info: driver.version: unknown\n",
      "\n",
      "stoped at length:  16078\n",
      "\n",
      "Selenium message:Unable to locate element: {\"method\":\"css selector\",\"selector\":\".registry-entry__header-top__title\"}\n",
      "For documentation on this error, please visit: http://seleniumhq.org/exceptions/no_such_element.html\n",
      "Build info: version: '2.53.1', revision: 'a36b8b1', time: '2016-06-30 17:37:03'\n",
      "System info: host: '3b93b79e6a32', ip: '172.17.0.2', os.name: 'Linux', os.arch: 'amd64', os.version: '4.15.0-1056-oem', java.version: '1.8.0_91'\n",
      "Driver info: driver.version: unknown\n",
      "\n",
      "\n",
      "Selenium message:Unable to locate element: {\"method\":\"css selector\",\"selector\":\".noRecords\"}\n",
      "For documentation on this error, please visit: http://seleniumhq.org/exceptions/no_such_element.html\n",
      "Build info: version: '2.53.1', revision: 'a36b8b1', time: '2016-06-30 17:37:03'\n",
      "System info: host: '3b93b79e6a32', ip: '172.17.0.2', os.name: 'Linux', os.arch: 'amd64', os.version: '4.15.0-1056-oem', java.version: '1.8.0_91'\n",
      "Driver info: driver.version: unknown\n",
      "\n",
      "stoped at length:  16115\n",
      "\n",
      "Selenium message:Unable to locate element: {\"method\":\"css selector\",\"selector\":\".registry-entry__header-top__title\"}\n",
      "For documentation on this error, please visit: http://seleniumhq.org/exceptions/no_such_element.html\n",
      "Build info: version: '2.53.1', revision: 'a36b8b1', time: '2016-06-30 17:37:03'\n",
      "System info: host: '3b93b79e6a32', ip: '172.17.0.2', os.name: 'Linux', os.arch: 'amd64', os.version: '4.15.0-1056-oem', java.version: '1.8.0_91'\n",
      "Driver info: driver.version: unknown\n",
      "\n",
      "\n",
      "Selenium message:Unable to locate element: {\"method\":\"css selector\",\"selector\":\".noRecords\"}\n",
      "For documentation on this error, please visit: http://seleniumhq.org/exceptions/no_such_element.html\n",
      "Build info: version: '2.53.1', revision: 'a36b8b1', time: '2016-06-30 17:37:03'\n",
      "System info: host: '3b93b79e6a32', ip: '172.17.0.2', os.name: 'Linux', os.arch: 'amd64', os.version: '4.15.0-1056-oem', java.version: '1.8.0_91'\n",
      "Driver info: driver.version: unknown\n",
      "\n",
      "stoped at length:  16387\n",
      "\n",
      "Selenium message:Unable to locate element: {\"method\":\"css selector\",\"selector\":\".registry-entry__header-top__title\"}\n",
      "For documentation on this error, please visit: http://seleniumhq.org/exceptions/no_such_element.html\n",
      "Build info: version: '2.53.1', revision: 'a36b8b1', time: '2016-06-30 17:37:03'\n",
      "System info: host: '3b93b79e6a32', ip: '172.17.0.2', os.name: 'Linux', os.arch: 'amd64', os.version: '4.15.0-1056-oem', java.version: '1.8.0_91'\n",
      "Driver info: driver.version: unknown\n",
      "\n",
      "\n",
      "Selenium message:Unable to locate element: {\"method\":\"css selector\",\"selector\":\".noRecords\"}\n",
      "For documentation on this error, please visit: http://seleniumhq.org/exceptions/no_such_element.html\n",
      "Build info: version: '2.53.1', revision: 'a36b8b1', time: '2016-06-30 17:37:03'\n",
      "System info: host: '3b93b79e6a32', ip: '172.17.0.2', os.name: 'Linux', os.arch: 'amd64', os.version: '4.15.0-1056-oem', java.version: '1.8.0_91'\n",
      "Driver info: driver.version: unknown\n",
      "\n",
      "stoped at length:  16411\n",
      "\n",
      "Selenium message:Unable to locate element: {\"method\":\"css selector\",\"selector\":\".registry-entry__header-top__title\"}\n",
      "For documentation on this error, please visit: http://seleniumhq.org/exceptions/no_such_element.html\n",
      "Build info: version: '2.53.1', revision: 'a36b8b1', time: '2016-06-30 17:37:03'\n",
      "System info: host: '3b93b79e6a32', ip: '172.17.0.2', os.name: 'Linux', os.arch: 'amd64', os.version: '4.15.0-1056-oem', java.version: '1.8.0_91'\n",
      "Driver info: driver.version: unknown\n",
      "\n",
      "\n",
      "Selenium message:Unable to locate element: {\"method\":\"css selector\",\"selector\":\".noRecords\"}\n",
      "For documentation on this error, please visit: http://seleniumhq.org/exceptions/no_such_element.html\n",
      "Build info: version: '2.53.1', revision: 'a36b8b1', time: '2016-06-30 17:37:03'\n",
      "System info: host: '3b93b79e6a32', ip: '172.17.0.2', os.name: 'Linux', os.arch: 'amd64', os.version: '4.15.0-1056-oem', java.version: '1.8.0_91'\n",
      "Driver info: driver.version: unknown\n",
      "\n",
      "stoped at length:  16447\n"
     ]
    },
    {
     "name": "stderr",
     "output_type": "stream",
     "text": [
      "\n",
      "Selenium message:Unable to locate element: {\"method\":\"css selector\",\"selector\":\".registry-entry__header-top__title\"}\n",
      "For documentation on this error, please visit: http://seleniumhq.org/exceptions/no_such_element.html\n",
      "Build info: version: '2.53.1', revision: 'a36b8b1', time: '2016-06-30 17:37:03'\n",
      "System info: host: '3b93b79e6a32', ip: '172.17.0.2', os.name: 'Linux', os.arch: 'amd64', os.version: '4.15.0-1056-oem', java.version: '1.8.0_91'\n",
      "Driver info: driver.version: unknown\n",
      "\n",
      "\n",
      "Selenium message:Unable to locate element: {\"method\":\"css selector\",\"selector\":\".noRecords\"}\n",
      "For documentation on this error, please visit: http://seleniumhq.org/exceptions/no_such_element.html\n",
      "Build info: version: '2.53.1', revision: 'a36b8b1', time: '2016-06-30 17:37:03'\n",
      "System info: host: '3b93b79e6a32', ip: '172.17.0.2', os.name: 'Linux', os.arch: 'amd64', os.version: '4.15.0-1056-oem', java.version: '1.8.0_91'\n",
      "Driver info: driver.version: unknown\n",
      "\n",
      "stoped at length:  16469\n",
      "\n",
      "Selenium message:Unable to locate element: {\"method\":\"css selector\",\"selector\":\".registry-entry__header-top__title\"}\n",
      "For documentation on this error, please visit: http://seleniumhq.org/exceptions/no_such_element.html\n",
      "Build info: version: '2.53.1', revision: 'a36b8b1', time: '2016-06-30 17:37:03'\n",
      "System info: host: '3b93b79e6a32', ip: '172.17.0.2', os.name: 'Linux', os.arch: 'amd64', os.version: '4.15.0-1056-oem', java.version: '1.8.0_91'\n",
      "Driver info: driver.version: unknown\n",
      "\n",
      "\n",
      "Selenium message:Unable to locate element: {\"method\":\"css selector\",\"selector\":\".noRecords\"}\n",
      "For documentation on this error, please visit: http://seleniumhq.org/exceptions/no_such_element.html\n",
      "Build info: version: '2.53.1', revision: 'a36b8b1', time: '2016-06-30 17:37:03'\n",
      "System info: host: '3b93b79e6a32', ip: '172.17.0.2', os.name: 'Linux', os.arch: 'amd64', os.version: '4.15.0-1056-oem', java.version: '1.8.0_91'\n",
      "Driver info: driver.version: unknown\n",
      "\n",
      "stoped at length:  16755\n",
      "\n",
      "Selenium message:Unable to locate element: {\"method\":\"css selector\",\"selector\":\".registry-entry__header-top__title\"}\n",
      "For documentation on this error, please visit: http://seleniumhq.org/exceptions/no_such_element.html\n",
      "Build info: version: '2.53.1', revision: 'a36b8b1', time: '2016-06-30 17:37:03'\n",
      "System info: host: '3b93b79e6a32', ip: '172.17.0.2', os.name: 'Linux', os.arch: 'amd64', os.version: '4.15.0-1056-oem', java.version: '1.8.0_91'\n",
      "Driver info: driver.version: unknown\n",
      "\n",
      "\n",
      "Selenium message:Unable to locate element: {\"method\":\"css selector\",\"selector\":\".noRecords\"}\n",
      "For documentation on this error, please visit: http://seleniumhq.org/exceptions/no_such_element.html\n",
      "Build info: version: '2.53.1', revision: 'a36b8b1', time: '2016-06-30 17:37:03'\n",
      "System info: host: '3b93b79e6a32', ip: '172.17.0.2', os.name: 'Linux', os.arch: 'amd64', os.version: '4.15.0-1056-oem', java.version: '1.8.0_91'\n",
      "Driver info: driver.version: unknown\n",
      "\n",
      "stoped at length:  16813\n",
      "\n",
      "Selenium message:Unable to locate element: {\"method\":\"css selector\",\"selector\":\".registry-entry__header-top__title\"}\n",
      "For documentation on this error, please visit: http://seleniumhq.org/exceptions/no_such_element.html\n",
      "Build info: version: '2.53.1', revision: 'a36b8b1', time: '2016-06-30 17:37:03'\n",
      "System info: host: '3b93b79e6a32', ip: '172.17.0.2', os.name: 'Linux', os.arch: 'amd64', os.version: '4.15.0-1056-oem', java.version: '1.8.0_91'\n",
      "Driver info: driver.version: unknown\n",
      "\n",
      "\n",
      "Selenium message:Unable to locate element: {\"method\":\"css selector\",\"selector\":\".noRecords\"}\n",
      "For documentation on this error, please visit: http://seleniumhq.org/exceptions/no_such_element.html\n",
      "Build info: version: '2.53.1', revision: 'a36b8b1', time: '2016-06-30 17:37:03'\n",
      "System info: host: '3b93b79e6a32', ip: '172.17.0.2', os.name: 'Linux', os.arch: 'amd64', os.version: '4.15.0-1056-oem', java.version: '1.8.0_91'\n",
      "Driver info: driver.version: unknown\n",
      "\n",
      "stoped at length:  16864\n",
      "\n",
      "Selenium message:Unable to locate element: {\"method\":\"css selector\",\"selector\":\".registry-entry__header-top__title\"}\n",
      "For documentation on this error, please visit: http://seleniumhq.org/exceptions/no_such_element.html\n",
      "Build info: version: '2.53.1', revision: 'a36b8b1', time: '2016-06-30 17:37:03'\n",
      "System info: host: '3b93b79e6a32', ip: '172.17.0.2', os.name: 'Linux', os.arch: 'amd64', os.version: '4.15.0-1056-oem', java.version: '1.8.0_91'\n",
      "Driver info: driver.version: unknown\n",
      "\n",
      "\n",
      "Selenium message:Unable to locate element: {\"method\":\"css selector\",\"selector\":\".noRecords\"}\n",
      "For documentation on this error, please visit: http://seleniumhq.org/exceptions/no_such_element.html\n",
      "Build info: version: '2.53.1', revision: 'a36b8b1', time: '2016-06-30 17:37:03'\n",
      "System info: host: '3b93b79e6a32', ip: '172.17.0.2', os.name: 'Linux', os.arch: 'amd64', os.version: '4.15.0-1056-oem', java.version: '1.8.0_91'\n",
      "Driver info: driver.version: unknown\n",
      "\n",
      "stoped at length:  16950\n"
     ]
    }
   ],
   "source": [
    "while (length(tables_list) != dim(goszak_df_kolich)[1]) {\n",
    "    tables_list <- tryCatch({\n",
    "        collecting_auctions(tables_list)\n",
    "    }, error = function(cond) {\n",
    "        cool  <-  tryCatch({remDr$findElement(using = \"css\", \".noRecords\")}, error=function(cond){\n",
    "        return('got')\n",
    "        }) \n",
    "        \n",
    "        if (typeof(cool)=='character'){\n",
    "        message(paste(\"stoped at length: \", length(tables_list) ))\n",
    "        Sys.sleep(10)\n",
    "        return(tables_list)\n",
    "        }else{\n",
    "        message(paste(\"empty at length: \", length(tables_list) ))\n",
    "        tables_list[[length(tables_list)+1]]   <- n_12343\n",
    "        Sys.sleep(3)    \n",
    "        return(tables_list)\n",
    "    }}\n",
    "                           )\n",
    "    \n",
    "}"
   ]
  },
  {
   "cell_type": "code",
   "execution_count": 250,
   "metadata": {
    "ExecuteTime": {
     "end_time": "2019-10-19T15:06:34.172240Z",
     "start_time": "2019-10-19T15:06:34.146Z"
    }
   },
   "outputs": [
    {
     "data": {
      "text/html": [
       "<ol>\n",
       "\t<li>'Закупка завершена'</li>\n",
       "\t<li>'поставка автобуса для перевозки детей'</li>\n",
       "</ol>\n"
      ],
      "text/latex": [
       "\\begin{enumerate}\n",
       "\\item 'Закупка завершена'\n",
       "\\item 'поставка автобуса для перевозки детей'\n",
       "\\end{enumerate}\n"
      ],
      "text/markdown": [
       "1. 'Закупка завершена'\n",
       "2. 'поставка автобуса для перевозки детей'\n",
       "\n",
       "\n"
      ],
      "text/plain": [
       "[[1]]\n",
       "[1] \"Закупка завершена\"\n",
       "\n",
       "[[2]]\n",
       "[1] \"поставка автобуса для перевозки детей\"\n"
      ]
     },
     "metadata": {},
     "output_type": "display_data"
    }
   ],
   "source": [
    "tables_list[[12884]]"
   ]
  },
  {
   "cell_type": "code",
   "execution_count": 256,
   "metadata": {
    "ExecuteTime": {
     "end_time": "2019-10-19T19:41:19.403499Z",
     "start_time": "2019-10-19T19:41:19.296Z"
    }
   },
   "outputs": [],
   "source": [
    "saveRDS(tables_list, 'tables_list_6443.rds')"
   ]
  },
  {
   "cell_type": "code",
   "execution_count": 261,
   "metadata": {
    "ExecuteTime": {
     "end_time": "2019-10-20T07:29:36.823577Z",
     "start_time": "2019-10-20T07:29:36.814Z"
    }
   },
   "outputs": [
    {
     "data": {
      "text/html": [
       "16954"
      ],
      "text/latex": [
       "16954"
      ],
      "text/markdown": [
       "16954"
      ],
      "text/plain": [
       "[1] 16954"
      ]
     },
     "metadata": {},
     "output_type": "display_data"
    }
   ],
   "source": [
    "length(tables_list)"
   ]
  },
  {
   "cell_type": "code",
   "execution_count": 258,
   "metadata": {
    "ExecuteTime": {
     "end_time": "2019-10-19T19:41:26.148659Z",
     "start_time": "2019-10-19T19:41:26.141Z"
    }
   },
   "outputs": [],
   "source": [
    "# goszak_part1 = goszak_df_kolich[1:12882,]"
   ]
  },
  {
   "cell_type": "code",
   "execution_count": 262,
   "metadata": {
    "ExecuteTime": {
     "end_time": "2019-10-20T07:30:09.606001Z",
     "start_time": "2019-10-20T07:30:09.593Z"
    }
   },
   "outputs": [
    {
     "data": {
      "text/html": [
       "<ol class=list-inline>\n",
       "\t<li>16954</li>\n",
       "\t<li>6</li>\n",
       "</ol>\n"
      ],
      "text/latex": [
       "\\begin{enumerate*}\n",
       "\\item 16954\n",
       "\\item 6\n",
       "\\end{enumerate*}\n"
      ],
      "text/markdown": [
       "1. 16954\n",
       "2. 6\n",
       "\n",
       "\n"
      ],
      "text/plain": [
       "[1] 16954     6"
      ]
     },
     "metadata": {},
     "output_type": "display_data"
    }
   ],
   "source": [
    "dim(goszak_df_kolich)"
   ]
  },
  {
   "cell_type": "code",
   "execution_count": null,
   "metadata": {},
   "outputs": [],
   "source": [
    "goszak_df_kolich[12883:dim(goszak_df_kolich),]"
   ]
  },
  {
   "cell_type": "code",
   "execution_count": 263,
   "metadata": {
    "ExecuteTime": {
     "end_time": "2019-10-20T07:34:26.856128Z",
     "start_time": "2019-10-20T07:34:26.831Z"
    }
   },
   "outputs": [
    {
     "data": {
      "text/html": [
       "<ol>\n",
       "\t<li><ol>\n",
       "\t<li>'Работа комиссии'</li>\n",
       "\t<li>'АЭ-5240/14 на поставку автомобиля'</li>\n",
       "</ol>\n",
       "</li>\n",
       "</ol>\n"
      ],
      "text/latex": [
       "\\begin{enumerate}\n",
       "\\item \\begin{enumerate}\n",
       "\\item 'Работа комиссии'\n",
       "\\item 'АЭ-5240/14 на поставку автомобиля'\n",
       "\\end{enumerate}\n",
       "\n",
       "\\end{enumerate}\n"
      ],
      "text/markdown": [
       "1. 1. 'Работа комиссии'\n",
       "2. 'АЭ-5240/14 на поставку автомобиля'\n",
       "\n",
       "\n",
       "\n",
       "\n",
       "\n"
      ],
      "text/plain": [
       "[[1]]\n",
       "[[1]][[1]]\n",
       "[1] \"Работа комиссии\"\n",
       "\n",
       "[[1]][[2]]\n",
       "[1] \"АЭ-5240/14 на поставку автомобиля\"\n",
       "\n"
      ]
     },
     "metadata": {},
     "output_type": "display_data"
    }
   ],
   "source": [
    "tables_list[2498]"
   ]
  },
  {
   "cell_type": "code",
   "execution_count": 265,
   "metadata": {
    "ExecuteTime": {
     "end_time": "2019-10-20T07:34:47.902148Z",
     "start_time": "2019-10-20T07:34:47.885Z"
    }
   },
   "outputs": [
    {
     "data": {
      "text/html": [
       "'Работа комиссии'"
      ],
      "text/latex": [
       "'Работа комиссии'"
      ],
      "text/markdown": [
       "'Работа комиссии'"
      ],
      "text/plain": [
       "[1] \"Работа комиссии\""
      ]
     },
     "metadata": {},
     "output_type": "display_data"
    }
   ],
   "source": [
    "tables_list[[2498]][[1]]"
   ]
  },
  {
   "cell_type": "code",
   "execution_count": 251,
   "metadata": {
    "ExecuteTime": {
     "end_time": "2019-09-26T07:28:27.260866Z",
     "start_time": "2019-09-26T07:28:27.240Z"
    }
   },
   "outputs": [],
   "source": [
    "table_auction = data.frame(matrix(NA, nrow = 0, ncol = 3))\n",
    "colnames(table_auction) = c('V1','V2','V3') "
   ]
  },
  {
   "cell_type": "code",
   "execution_count": 267,
   "metadata": {
    "ExecuteTime": {
     "end_time": "2019-10-20T07:38:09.335383Z",
     "start_time": "2019-10-20T07:38:07.775Z"
    }
   },
   "outputs": [],
   "source": [
    "col1  <-  c()\n",
    "col2  <-  c()\n",
    "for (i in 1:length(tables_list)){\n",
    "    col1  <-  c(col1, tables_list[[i]][[1]])\n",
    "    col2  <-  c(col2, tables_list[[i]][[2]])\n",
    "    \n",
    "}"
   ]
  },
  {
   "cell_type": "code",
   "execution_count": 272,
   "metadata": {
    "ExecuteTime": {
     "end_time": "2019-10-20T07:44:43.079909Z",
     "start_time": "2019-10-20T07:44:43.059Z"
    }
   },
   "outputs": [],
   "source": [
    "# tables_list[[35]]"
   ]
  },
  {
   "cell_type": "code",
   "execution_count": 270,
   "metadata": {
    "ExecuteTime": {
     "end_time": "2019-10-20T07:41:54.286743Z",
     "start_time": "2019-10-20T07:41:54.119Z"
    }
   },
   "outputs": [],
   "source": [
    "write.csv(data.frame(col1,col2), 'check_selen.csv')"
   ]
  },
  {
   "cell_type": "code",
   "execution_count": null,
   "metadata": {},
   "outputs": [],
   "source": []
  }
 ],
 "metadata": {
  "hide_input": false,
  "kernelspec": {
   "display_name": "R 4.1",
   "language": "R",
   "name": "ir41"
  },
  "language_info": {
   "codemirror_mode": "r",
   "file_extension": ".r",
   "mimetype": "text/x-r-source",
   "name": "R",
   "pygments_lexer": "r",
   "version": "4.1.2"
  },
  "latex_envs": {
   "LaTeX_envs_menu_present": true,
   "autoclose": true,
   "autocomplete": true,
   "bibliofile": "biblio.bib",
   "cite_by": "apalike",
   "current_citInitial": 1,
   "eqLabelWithNumbers": true,
   "eqNumInitial": 1,
   "hotkeys": {
    "equation": "Ctrl-E",
    "itemize": "Ctrl-I"
   },
   "labels_anchors": false,
   "latex_user_defs": false,
   "report_style_numbering": false,
   "user_envs_cfg": false
  },
  "toc": {
   "base_numbering": 1,
   "nav_menu": {},
   "number_sections": true,
   "sideBar": true,
   "skip_h1_title": false,
   "title_cell": "Table of Contents",
   "title_sidebar": "Contents",
   "toc_cell": false,
   "toc_position": {},
   "toc_section_display": true,
   "toc_window_display": false
  },
  "varInspector": {
   "cols": {
    "lenName": 16,
    "lenType": 16,
    "lenVar": 40
   },
   "kernels_config": {
    "python": {
     "delete_cmd_postfix": "",
     "delete_cmd_prefix": "del ",
     "library": "var_list.py",
     "varRefreshCmd": "print(var_dic_list())"
    },
    "r": {
     "delete_cmd_postfix": ") ",
     "delete_cmd_prefix": "rm(",
     "library": "var_list.r",
     "varRefreshCmd": "cat(var_dic_list()) "
    }
   },
   "types_to_exclude": [
    "module",
    "function",
    "builtin_function_or_method",
    "instance",
    "_Feature"
   ],
   "window_display": false
  }
 },
 "nbformat": 4,
 "nbformat_minor": 2
}
