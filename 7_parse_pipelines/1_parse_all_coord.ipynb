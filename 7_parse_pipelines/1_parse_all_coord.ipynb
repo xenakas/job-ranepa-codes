{
 "cells": [
  {
   "cell_type": "code",
   "execution_count": 3,
   "id": "6473b30d",
   "metadata": {
    "ExecuteTime": {
     "end_time": "2023-02-13T15:43:37.581048Z",
     "start_time": "2023-02-13T15:43:37.577663Z"
    }
   },
   "outputs": [],
   "source": [
    "import pandas as pd\n",
    "import requests"
   ]
  },
  {
   "cell_type": "code",
   "execution_count": 4,
   "id": "feff13fc",
   "metadata": {
    "ExecuteTime": {
     "end_time": "2023-02-13T15:43:37.904472Z",
     "start_time": "2023-02-13T15:43:37.887755Z"
    }
   },
   "outputs": [],
   "source": [
    "with open('all_coord') as f:\n",
    "    lines = f.readlines()"
   ]
  },
  {
   "cell_type": "code",
   "execution_count": 5,
   "id": "848cbc95",
   "metadata": {
    "ExecuteTime": {
     "end_time": "2023-02-13T15:43:38.371469Z",
     "start_time": "2023-02-13T15:43:38.366090Z"
    }
   },
   "outputs": [],
   "source": [
    "lines = lines[0] "
   ]
  },
  {
   "cell_type": "code",
   "execution_count": 6,
   "id": "5ee308cb",
   "metadata": {
    "ExecuteTime": {
     "end_time": "2023-02-13T15:43:38.852568Z",
     "start_time": "2023-02-13T15:43:38.845959Z"
    }
   },
   "outputs": [],
   "source": [
    "lines_1 = lines.split('\",\"')"
   ]
  },
  {
   "cell_type": "code",
   "execution_count": 7,
   "id": "16652c8e",
   "metadata": {
    "ExecuteTime": {
     "end_time": "2023-02-13T15:43:39.353539Z",
     "start_time": "2023-02-13T15:43:39.332035Z"
    }
   },
   "outputs": [],
   "source": [
    "lines = json.loads(lines)\n"
   ]
  },
  {
   "cell_type": "code",
   "execution_count": 8,
   "id": "068443a6",
   "metadata": {
    "ExecuteTime": {
     "end_time": "2023-02-13T15:43:39.758329Z",
     "start_time": "2023-02-13T15:43:39.736509Z"
    }
   },
   "outputs": [
    {
     "data": {
      "text/plain": [
       "dict_keys(['type', 'features'])"
      ]
     },
     "execution_count": 8,
     "metadata": {},
     "output_type": "execute_result"
    }
   ],
   "source": [
    "lines.keys()"
   ]
  },
  {
   "cell_type": "code",
   "execution_count": 9,
   "id": "ac7d8e73",
   "metadata": {
    "ExecuteTime": {
     "end_time": "2023-02-13T15:43:42.087659Z",
     "start_time": "2023-02-13T15:43:42.083969Z"
    }
   },
   "outputs": [],
   "source": [
    "lines = lines['features']"
   ]
  },
  {
   "cell_type": "code",
   "execution_count": 11,
   "id": "daa7f81c",
   "metadata": {
    "ExecuteTime": {
     "end_time": "2023-02-13T15:43:59.345024Z",
     "start_time": "2023-02-13T15:43:59.339277Z"
    }
   },
   "outputs": [],
   "source": [
    "x_tab_NA =  keke_4[3]\n",
    "x_tab_NA.iloc[1,0] = np.nan"
   ]
  },
  {
   "cell_type": "code",
   "execution_count": 29,
   "id": "195c3377",
   "metadata": {
    "ExecuteTime": {
     "end_time": "2023-02-13T15:53:24.029980Z",
     "start_time": "2023-02-13T15:53:23.831372Z"
    }
   },
   "outputs": [],
   "source": [
    "keke_1 = []\n",
    "keke_2 = []\n",
    "keke_3 = []\n",
    "keke_4 = []\n",
    "keke_5 = []\n",
    "\n",
    "for i in range(80):\n",
    "    keke_1.append(lines[i]['id'])\n",
    "    keke_2.append(lines[i]['geometry'])\n",
    "    keke_3.append(lines[i]['properties']['balloonContentHeader'].split('alt=\"')[1].split('\"></a>')[0])\n",
    "    \n",
    "    x_tab = ''\n",
    "    \n",
    "    try:\n",
    "        x_tab = pd.read_html(lines[i]['properties']['balloonContentBody'])[0].T\n",
    "        \n",
    "    except: \n",
    "        x_tab = x_tab_NA\n",
    "#         x_tab = \"/\"\n",
    "        \n",
    "    \n",
    "    keke_4.append(x_tab)\n",
    "    keke_5.append(lines[i]['properties']['clusterCaption'])\n",
    "    "
   ]
  },
  {
   "cell_type": "code",
   "execution_count": 13,
   "id": "f5bfd391",
   "metadata": {
    "ExecuteTime": {
     "end_time": "2023-02-13T15:44:10.692448Z",
     "start_time": "2023-02-13T15:44:10.685504Z"
    }
   },
   "outputs": [],
   "source": [
    "pipelines = pd.DataFrame([keke_1,keke_2,keke_3, keke_5]).T"
   ]
  },
  {
   "cell_type": "code",
   "execution_count": 160,
   "id": "bf8d7a69",
   "metadata": {
    "ExecuteTime": {
     "end_time": "2023-02-13T15:19:20.302571Z",
     "start_time": "2023-02-13T15:19:20.296150Z"
    }
   },
   "outputs": [],
   "source": [
    "pipelines\n",
    "\n",
    "colnames = ['id', 'geometry', 'company_name', 'pipeline_name']"
   ]
  },
  {
   "cell_type": "code",
   "execution_count": 162,
   "id": "793fa784",
   "metadata": {
    "ExecuteTime": {
     "end_time": "2023-02-13T15:19:55.330024Z",
     "start_time": "2023-02-13T15:19:55.322963Z"
    }
   },
   "outputs": [],
   "source": [
    "df = keke_4[18]"
   ]
  },
  {
   "cell_type": "code",
   "execution_count": 27,
   "id": "4d66a5f4",
   "metadata": {
    "ExecuteTime": {
     "end_time": "2023-02-13T15:52:37.167764Z",
     "start_time": "2023-02-13T15:52:37.063350Z"
    }
   },
   "outputs": [
    {
     "data": {
      "text/plain": [
       "[0 Протяженность, км Мощность, млн.тонн/год\n",
       " 1              2694                     80,\n",
       " 0 Протяженность, км Мощность, млн.тонн/год\n",
       " 1              2046                     50,\n",
       " 0 Протяженность, км Мощность, млн.тонн/год\n",
       " 1               703                     15,\n",
       " 0 Протяженность, км\n",
       " 1               366,\n",
       " 0 Протяженность, км Мощность, млн.тонн/год Давление, МПа\n",
       " 1               917                     45          6.30,\n",
       " 0 Протяженность, км Мощность, млн.тонн/год\n",
       " 1                61                   4.50,\n",
       " 0 Протяженность, км\n",
       " 1                23,\n",
       " 0 Протяженность, км\n",
       " 1               818,\n",
       " 0 Протяженность, км\n",
       " 1               397,\n",
       " 0 Протяженность, км Мощность, млн.тонн/год Давление, МПа\n",
       " 1              1000                     30          6.30,\n",
       " 0 Протяженность, км Мощность, млн.тонн/год Давление, МПа\n",
       " 1              1792                 104.50             4,\n",
       " 0 Протяженность, км Мощность, млн.тонн/год Давление, МПа\n",
       " 1               489                  66.50             4,\n",
       " 0 Протяженность, км Мощность, млн.тонн/год Давление, МПа\n",
       " 1              1111                     82          5.50,\n",
       " 0 Протяженность, км Мощность, млн.тонн/год Давление, МПа\n",
       " 1                90                   6.50          2.10,\n",
       " 0 Протяженность, км Мощность, млн.тонн/год Давление, МПа\n",
       " 1               314                      7          2.10,\n",
       " 0 Протяженность, км Мощность, млн.тонн/год Давление, МПа\n",
       " 1               253                  15.70          4.80,\n",
       " 0 Протяженность, км Мощность, млн.тонн/год Давление, МПа\n",
       " 1               548                     35          2.10,\n",
       " 0 Протяженность, км Мощность, млн.тонн/год Давление, МПа\n",
       " 1               881                     40          2.10,\n",
       " 0 Протяженность, км, ,  Мощность, млрдкуб.мвгод., ,   \\\n",
       " 1                  1560                            6   \n",
       " \n",
       " 0 Мощность, млн.тонн/год, ,  Давление, МПа, ,   \n",
       " 1                         43                 6  ,\n",
       " 0 Протяженность, км Мощность, млн.тонн/год\n",
       " 1               602                  44.80,\n",
       " 0 Протяженность, км Мощность, млрдкуб.мвгод. Мощность, млн.тонн/год  \\\n",
       " 1               101                     6.30                      4   \n",
       " \n",
       " 0 Давление, МПа  \n",
       " 1          6.30  ,\n",
       " 0 Протяженность, км Мощность, млрдкуб.мвгод. Мощность, млн.тонн/год  \\\n",
       " 1               120                     6.30                      3   \n",
       " \n",
       " 0 Давление, МПа  \n",
       " 1          6.30  ,\n",
       " 0 Протяженность, км Мощность, млрдкуб.мвгод. Мощность, млн.тонн/год  \\\n",
       " 1               852                     6.30                   7.50   \n",
       " \n",
       " 0 Давление, МПа  \n",
       " 1          6.30  ,\n",
       " 0 Протяженность, км Мощность, млрдкуб.мвгод. Мощность, млн.тонн/год  \\\n",
       " 1               247                     6.30                     12   \n",
       " \n",
       " 0 Давление, МПа  \n",
       " 1          6.30  ,\n",
       " 0 Протяженность, км Мощность, млрдкуб.мвгод. Мощность, млн.тонн/год  \\\n",
       " 1               330                     6.30                     40   \n",
       " \n",
       " 0 Давление, МПа  \n",
       " 1          6.30  ,\n",
       " 0 Протяженность, км Мощность, млн.тонн/год Давление, МПа\n",
       " 1              1870                     24          7.50,\n",
       " 0 Протяженность, км Мощность, млн.тонн/год Давление, МПа\n",
       " 1               970                     80          6.20,\n",
       " 0 Протяженность, км Мощность, млн.тонн/год Давление, МПа\n",
       " 1               438                     45             9,\n",
       " 0 Протяженность, км Мощность, млн.тонн/год Давление, МПа\n",
       " 1               117                   2.20          1.60,\n",
       " 0 Протяженность, км Мощность, млн.тонн/год Давление, МПа\n",
       " 1               450                      5             4,\n",
       " 0 Протяженность, км Мощность, млн.тонн/год Давление, МПа\n",
       " 1               100                      4          2.80,\n",
       " 0 Протяженность, км Мощность, млн.тонн/год Давление, МПа\n",
       " 1               150                      7          2.80,\n",
       " 0 Протяженность, км Мощность, млн.тонн/год Давление, МПа\n",
       " 1               333                   5.10          5.20,\n",
       " 0 Протяженность, км Мощность, млн.тонн/год Давление, МПа\n",
       " 1              1135                  23.40          6.30,\n",
       " 0 Мощность, млн.тонн/год Давление, МПа\n",
       " 1                     28          6.30,\n",
       " 0 Мощность, млн.тонн/год Давление, МПа\n",
       " 1                     12          6.30,\n",
       " 0 Протяженность, км Мощность, млн.тонн/год Давление, МПа\n",
       " 1               409                  24.30          6.30,\n",
       " 0 Протяженность, км Мощность, млн.тонн/год Давление, МПа\n",
       " 1               580                  48.40          6.30,\n",
       " 0 Протяженность, км Давление, МПа\n",
       " 1               110          6.30,\n",
       " 0 Давление, МПа\n",
       " 1          6.30,\n",
       " 0 Давление, МПа\n",
       " 1          6.30,\n",
       " 0 Протяженность, км Давление, МПа\n",
       " 1               410          6.30,\n",
       " 0 Протяженность, км Мощность, млн.тонн/год Давление, МПа\n",
       " 1               256                   6.40          6.30,\n",
       " 0 Протяженность, км Давление, МПа\n",
       " 1                67          6.30,\n",
       " 0 Протяженность, км Мощность, млн.тонн/год Давление, МПа\n",
       " 1               440                   7.20          6.30,\n",
       " 0 Протяженность, км Мощность, млн.тонн/год Давление, МПа\n",
       " 1              2150                     84          6.30,\n",
       " 0 Протяженность, км Давление, МПа\n",
       " 1                64          6.30,\n",
       " 0 Протяженность, км Мощность, млн.тонн/год Давление, МПа\n",
       " 1               264                  18.20          6.30,\n",
       " 0 Протяженность, км Мощность, млн.тонн/год Давление, МПа\n",
       " 1              3250                    120          6.30,\n",
       " 0 Давление, МПа\n",
       " 1          6.30,\n",
       " 0 Протяженность, км Мощность, млн.тонн/год Давление, МПа\n",
       " 1                95                     10          4.80,\n",
       " 0 Протяженность, км Мощность, млн.тонн/год Давление, МПа\n",
       " 1              2456                     75          6.30,\n",
       " 0 Протяженность, км Мощность, млн.тонн/год Давление, МПа\n",
       " 1                37                   8.10          6.30,\n",
       " 0 Протяженность, км Мощность, млн.тонн/год\n",
       " 1                63                     30,\n",
       " 0 Протяженность, км Мощность, млн.тонн/год\n",
       " 1               294                      8,\n",
       " 0 Протяженность, км Мощность, млн.тонн/год\n",
       " 1                28                      6,\n",
       " 0 Протяженность, км Мощность, млн.тонн/год\n",
       " 1               660                  40.20,\n",
       " 0 Протяженность, км\n",
       " 1               321,\n",
       " 0 Протяженность, км Мощность, млн.тонн/год Давление, МПа\n",
       " 1                52                     25          3.53,\n",
       " 0 Протяженность, км Мощность, млн.тонн/год\n",
       " 1              1332                     12,\n",
       "                0\n",
       " 0  Протяженность\n",
       " 1            NaN,\n",
       "                0                 1         2\n",
       " 0  Протяженность          Мощность  Давление\n",
       " 1         332 км  12 млн. тонн/год  1.70 МПа,\n",
       "                     0\n",
       " 0            Мощность\n",
       " 1  8.90 млн. тонн/год,\n",
       "                     0\n",
       " 0            Мощность\n",
       " 1  8.40 млн. тонн/год,\n",
       "                0                   1         2\n",
       " 0  Протяженность            Мощность  Давление\n",
       " 1         395 км  9.50 млн. тонн/год  6.30 МПа,\n",
       "                0                 1\n",
       " 0  Протяженность          Мощность\n",
       " 1         259 км  28 млн. тонн/год,\n",
       "                0                 1\n",
       " 0  Протяженность          Мощность\n",
       " 1         475 км  40 млн. тонн/год,\n",
       "                     0\n",
       " 0            Мощность\n",
       " 1  0.70 млн. тонн/год,\n",
       "                0\n",
       " 0  Протяженность\n",
       " 1         250 км,\n",
       "                0                 1\n",
       " 0  Протяженность          Мощность\n",
       " 1         556 км  25 млн. тонн/год,\n",
       "                0                1\n",
       " 0  Протяженность         Мощность\n",
       " 1         150 км  9 млн. тонн/год,\n",
       "                0                 1\n",
       " 0  Протяженность          Мощность\n",
       " 1       1 380 км  30 млн. тонн/год,\n",
       "                0                 1\n",
       " 0  Протяженность          Мощность\n",
       " 1         794 км  20 млн. тонн/год,\n",
       "                0                 1\n",
       " 0  Протяженность          Мощность\n",
       " 1         965 км  20 млн. тонн/год,\n",
       "                     0\n",
       " 0            Мощность\n",
       " 1  3.60 млн. тонн/год,\n",
       "                0                1\n",
       " 0  Протяженность         Мощность\n",
       " 1         290 км  7 млн. тонн/год,\n",
       "                0\n",
       " 0  Протяженность\n",
       " 1       1 640 км,\n",
       "                0                 1\n",
       " 0  Протяженность          Мощность\n",
       " 1         199 км  25 млн. тонн/год,\n",
       "                0\n",
       " 0  Протяженность\n",
       " 1            NaN,\n",
       "                0\n",
       " 0  Протяженность\n",
       " 1          92 км]"
      ]
     },
     "execution_count": 27,
     "metadata": {},
     "output_type": "execute_result"
    }
   ],
   "source": [
    "keke_4"
   ]
  },
  {
   "cell_type": "code",
   "execution_count": 15,
   "id": "d8b77c3a",
   "metadata": {
    "ExecuteTime": {
     "end_time": "2023-02-13T15:44:33.314483Z",
     "start_time": "2023-02-13T15:44:33.311121Z"
    }
   },
   "outputs": [],
   "source": [
    "import re"
   ]
  },
  {
   "cell_type": "code",
   "execution_count": 30,
   "id": "8c39a1b5",
   "metadata": {
    "ExecuteTime": {
     "end_time": "2023-02-13T15:53:28.984371Z",
     "start_time": "2023-02-13T15:53:28.866814Z"
    }
   },
   "outputs": [],
   "source": [
    "for i in range(len(keke_4)):\n",
    "    \n",
    "\n",
    "    df_k = keke_4[i] \n",
    "\n",
    "    for j in range(df_k.shape[1]):\n",
    "        s = df_k.iloc[1,j]\n",
    "        \n",
    "        try:\n",
    "            s = s.replace(' ','')\n",
    "            s = s.replace('\\xa0','')\n",
    "            s = re.split('(\\d+)', s)\n",
    "            df_k.iloc[0,j] =  df_k.iloc[0,j] + ', ' + s[-1]\n",
    "            df_k.iloc[1,j] =  ''.join(s[:-1])\n",
    "            \n",
    "        except:\n",
    "            \n",
    "            df_k.iloc[0,j] =  df_k.iloc[0,j] + ', ' + 'км'\n",
    "\n",
    "            \n",
    "            \n",
    "\n",
    "    df_k.columns = df_k.iloc[0,:]\n",
    "    df_k = df_k.drop(0,axis=0)\n",
    "    \n",
    "    keke_4[i] = df_k"
   ]
  },
  {
   "cell_type": "code",
   "execution_count": 37,
   "id": "8b6a8ea4",
   "metadata": {
    "ExecuteTime": {
     "end_time": "2023-02-13T15:56:02.840061Z",
     "start_time": "2023-02-13T15:56:02.645488Z"
    }
   },
   "outputs": [],
   "source": [
    "\n",
    "keke_4 = pd.concat(keke_4)\n",
    "\n",
    "# for i in range(len(keke_4)):\n",
    "    "
   ]
  },
  {
   "cell_type": "code",
   "execution_count": null,
   "id": "b0f89e15",
   "metadata": {
    "ExecuteTime": {
     "end_time": "2023-02-13T15:59:22.523301Z",
     "start_time": "2023-02-13T15:59:22.414699Z"
    }
   },
   "outputs": [],
   "source": [
    "pipelines = pipelines.reset_index()\n",
    "keke_4 = keke_4.reset_index()"
   ]
  },
  {
   "cell_type": "code",
   "execution_count": 46,
   "id": "2888567d",
   "metadata": {
    "ExecuteTime": {
     "end_time": "2023-02-13T15:59:29.896678Z",
     "start_time": "2023-02-13T15:59:29.892409Z"
    }
   },
   "outputs": [],
   "source": [
    "pipelines = pd.concat([pipelines, keke_4], axis=1)"
   ]
  },
  {
   "cell_type": "code",
   "execution_count": 48,
   "id": "8ffbe44d",
   "metadata": {
    "ExecuteTime": {
     "end_time": "2023-02-13T16:00:01.346741Z",
     "start_time": "2023-02-13T16:00:01.326542Z"
    }
   },
   "outputs": [],
   "source": [
    "pipelines.to_csv('pipelines.csv')"
   ]
  },
  {
   "cell_type": "code",
   "execution_count": 233,
   "id": "50091b93",
   "metadata": {
    "ExecuteTime": {
     "end_time": "2023-02-14T09:59:58.285689Z",
     "start_time": "2023-02-14T09:59:57.567154Z"
    }
   },
   "outputs": [],
   "source": [
    "keke_1 = []\n",
    "keke_2 = []\n",
    "keke_3 = []\n",
    "keke_4 = []\n",
    "keke_5 = []\n",
    "keke_6 = []\n",
    "\n",
    "keke_4_rest = []\n",
    "\n",
    "itera = 0\n",
    "\n",
    "for i in np.arange(80, len(lines)):\n",
    "\n",
    "    keke_1.append(lines[i]['id'])\n",
    "    keke_2.append(lines[i]['geometry'])\n",
    "    keke_3.append(lines[i]['properties']['balloonContentHeader'].split('\\n')[1])\n",
    "    \n",
    "\n",
    "    \n",
    "#     x_tab = ''\n",
    "    \n",
    "    cnt = lines[i]['properties']['balloonContentBody']\n",
    "    \n",
    "    try:\n",
    "        \n",
    "        soup = BeautifulSoup(cnt)\n",
    "        rows = soup.findAll('tr')\n",
    "\n",
    "        all_cnt = []\n",
    "\n",
    "        for j in range(len(rows)): \n",
    "\n",
    "            cnt = [str(rows[j]).split('<br/><a href=')[0].replace('<tr><td colspan=\"2\">','')]\n",
    "            cnt = cnt + str(rows[j]).split('<br/><a href=')[1].replace('</a></td></tr>','').split('>')\n",
    "\n",
    "            all_cnt.append(cnt)\n",
    "            \n",
    "        if len(all_cnt)==2:\n",
    "\n",
    "            df1 = pd.DataFrame([all_cnt[0][1], all_cnt[0][2]]).T\n",
    "            df1.columns = ['link_to', all_cnt[0][0]]\n",
    "            df1 = df1.reset_index()\n",
    "            df2 = pd.DataFrame([all_cnt[1][1], all_cnt[1][2]]).T\n",
    "            df2.columns = ['link_from', all_cnt[1][0]]\n",
    "            df2 = df2.reset_index()\n",
    "            df12 = pd.concat([df1,df2], axis=1)\n",
    "            df12 = df12.drop('index',axis=1)\n",
    "            \n",
    "        else: \n",
    "            \n",
    "            df1 = pd.DataFrame([all_cnt[0][1], all_cnt[0][2]]).T\n",
    "            df1.columns = ['link_to', all_cnt[0][0]]\n",
    "            df1 = df1.reset_index()\n",
    "            \n",
    "            df12 = df1\n",
    "\n",
    "            \n",
    "    \n",
    "    except:\n",
    "        \n",
    "        try:         \n",
    "#             soup = BeautifulSoup(cnt)\n",
    "#             rows = soup.findAll('tr')\n",
    "\n",
    "#             all_cnt = []\n",
    "\n",
    "#             for j in range(len(rows)): \n",
    "\n",
    "            all_cnt = [str(cnt[0]).split('<br/><a>')[0]]\n",
    "            all_cnt = all_cnt + [str(cnt[0]).split('<br/><a>')[1].replace('</a></td></tr>','')]\n",
    "\n",
    "            all_cnt = [all_cnt]    \n",
    "            \n",
    "            if len(all_cnt)==1:\n",
    "\n",
    "\n",
    "                \n",
    "                df1 = pd.DataFrame([all_cnt[0][1]]).T\n",
    "                df1.columns = [all_cnt[0][0]]\n",
    "                df1 = df1.reset_index()\n",
    "\n",
    "                df12 = df1\n",
    "\n",
    "            \n",
    "\n",
    "        except:  \n",
    "            \n",
    "            try:         \n",
    "    #             soup = BeautifulSoup(cnt)\n",
    "    #             rows = soup.findAll('tr')\n",
    "\n",
    "    #             all_cnt = []\n",
    "\n",
    "    #             for j in range(len(rows)): \n",
    "\n",
    "                all_cnt = [str(cnt[0]).split('<br/>')[0]]\n",
    "                all_cnt = all_cnt + [str(cnt[0]).split('<br/>')[1].replace('</td></tr>','')]\n",
    "\n",
    "                all_cnt = [all_cnt]    \n",
    "\n",
    "                if len(all_cnt)==1:\n",
    "\n",
    "\n",
    "\n",
    "                    df1 = pd.DataFrame([all_cnt[0][1]]).T\n",
    "                    df1.columns = [all_cnt[0][0]]\n",
    "                    df1 = df1.reset_index()\n",
    "\n",
    "                    df12 = df1\n",
    "                    \n",
    "            except:\n",
    "\n",
    "            \n",
    "        \n",
    "                df1 = pd.DataFrame([np.nan]).T\n",
    "                df1.columns = ['Направление поставок (страны)']\n",
    "                df1 = df1.reset_index()\n",
    "                \n",
    "                df12=df1\n",
    "\n",
    "                keke_4_rest.append([i,itera])\n",
    "\n",
    "        \n",
    "    \n",
    "    keke_4.append(df12)\n",
    "\n",
    "    keke_5.append(lines[i]['properties']['balloonContentFooter'])\n",
    "    keke_6.append(lines[i]['properties']['clusterCaption'])\n",
    "    \n",
    "    itera+=1"
   ]
  },
  {
   "cell_type": "code",
   "execution_count": 234,
   "id": "3e43748e",
   "metadata": {
    "ExecuteTime": {
     "end_time": "2023-02-14T10:00:03.739967Z",
     "start_time": "2023-02-14T10:00:03.463602Z"
    }
   },
   "outputs": [],
   "source": [
    "keke_4 = pd.concat(keke_4)"
   ]
  },
  {
   "cell_type": "code",
   "execution_count": 235,
   "id": "a467500a",
   "metadata": {
    "ExecuteTime": {
     "end_time": "2023-02-14T10:00:29.032176Z",
     "start_time": "2023-02-14T10:00:29.020828Z"
    }
   },
   "outputs": [],
   "source": [
    "pipelines = pd.DataFrame([keke_1,keke_2,keke_3, keke_5, keke_6]).T"
   ]
  },
  {
   "cell_type": "code",
   "execution_count": 238,
   "id": "ec09dc3e",
   "metadata": {
    "ExecuteTime": {
     "end_time": "2023-02-14T10:01:10.018662Z",
     "start_time": "2023-02-14T10:01:10.015371Z"
    }
   },
   "outputs": [],
   "source": [
    "pipelines = pipelines.reset_index()\n",
    "keke_4 = keke_4.reset_index()"
   ]
  },
  {
   "cell_type": "code",
   "execution_count": 241,
   "id": "09ce2ee9",
   "metadata": {
    "ExecuteTime": {
     "end_time": "2023-02-14T10:02:10.580565Z",
     "start_time": "2023-02-14T10:02:10.572757Z"
    }
   },
   "outputs": [],
   "source": [
    "pd.concat([pipelines,keke_4], axis=1).to_csv('compstat.csv')"
   ]
  },
  {
   "cell_type": "code",
   "execution_count": null,
   "id": "84e53472",
   "metadata": {},
   "outputs": [],
   "source": []
  },
  {
   "cell_type": "code",
   "execution_count": 102,
   "id": "8139adec",
   "metadata": {
    "ExecuteTime": {
     "end_time": "2023-02-13T17:02:08.089043Z",
     "start_time": "2023-02-13T17:02:08.079340Z"
    }
   },
   "outputs": [
    {
     "data": {
      "text/plain": [
       "['Направление поставок (объекты трубопроводного транспорта)',\n",
       " ['\"https://energybase.ru/compressor-station/ops-24-vsto-2\"',\n",
       "  'НПС-24 (Сковородино — Козьмино ВСТО-2)'],\n",
       " '\"https://energybase.ru/compressor-station/ops-24-vsto-2\"',\n",
       " 'НПС-24 (Сковородино — Козьмино ВСТО-2)']"
      ]
     },
     "execution_count": 102,
     "metadata": {},
     "output_type": "execute_result"
    }
   ],
   "source": [
    "cnt = [str(rows[0]).split('<br/><a href=')[0].replace('<tr><td colspan=\"2\">','')]\n",
    "cnt = cnt + str(rows[0]).split('<br/><a href=')[1].replace('</a></td></tr>','').split('>')"
   ]
  },
  {
   "cell_type": "code",
   "execution_count": 67,
   "id": "be4a9cac",
   "metadata": {
    "ExecuteTime": {
     "end_time": "2023-02-13T16:45:05.009249Z",
     "start_time": "2023-02-13T16:45:04.996683Z"
    }
   },
   "outputs": [
    {
     "data": {
      "text/plain": [
       "'Направление поставок (объекты трубопроводного транспорта)НПС-24 (Сковородино — Козьмино ВСТО-2)'"
      ]
     },
     "execution_count": 67,
     "metadata": {},
     "output_type": "execute_result"
    }
   ],
   "source": [
    "pd.read_html(lines[350]['properties']['balloonContentBody'])[0].iloc[0,0]"
   ]
  },
  {
   "cell_type": "code",
   "execution_count": 68,
   "id": "4a2d6d09",
   "metadata": {
    "ExecuteTime": {
     "end_time": "2023-02-13T16:45:26.296912Z",
     "start_time": "2023-02-13T16:45:26.275657Z"
    }
   },
   "outputs": [
    {
     "data": {
      "text/plain": [
       "'Источники поставок (объекты трубопроводного транспорта)НПС-21 Сковородино'"
      ]
     },
     "execution_count": 68,
     "metadata": {},
     "output_type": "execute_result"
    }
   ],
   "source": [
    "pd.read_html(lines[350]['properties']['balloonContentBody'])[0].iloc[1,0]"
   ]
  },
  {
   "cell_type": "code",
   "execution_count": 69,
   "id": "4501a7d6",
   "metadata": {
    "ExecuteTime": {
     "end_time": "2023-02-13T16:45:42.136706Z",
     "start_time": "2023-02-13T16:45:42.120306Z"
    }
   },
   "outputs": [
    {
     "data": {
      "text/plain": [
       "'Направление поставок (объекты трубопроводного транспорта)НПС-24 (Сковородино — Козьмино ВСТО-2)'"
      ]
     },
     "execution_count": 69,
     "metadata": {},
     "output_type": "execute_result"
    }
   ],
   "source": [
    "pd.read_html(lines[350]['properties']['balloonContentBody'])[0].iloc[0,1]"
   ]
  },
  {
   "cell_type": "code",
   "execution_count": 70,
   "id": "0b5db44e",
   "metadata": {
    "ExecuteTime": {
     "end_time": "2023-02-13T16:46:03.075526Z",
     "start_time": "2023-02-13T16:46:03.062080Z"
    }
   },
   "outputs": [
    {
     "data": {
      "text/plain": [
       "'Источники поставок (объекты трубопроводного транспорта)НПС-21 Сковородино'"
      ]
     },
     "execution_count": 70,
     "metadata": {},
     "output_type": "execute_result"
    }
   ],
   "source": [
    "pd.read_html(lines[350]['properties']['balloonContentBody'])[0].iloc[1,1]"
   ]
  },
  {
   "cell_type": "code",
   "execution_count": 66,
   "id": "b4790eb6",
   "metadata": {
    "ExecuteTime": {
     "end_time": "2023-02-13T16:44:11.568109Z",
     "start_time": "2023-02-13T16:44:11.556477Z"
    }
   },
   "outputs": [
    {
     "data": {
      "text/plain": [
       "'<table><tr><td colspan=\"2\">Направление поставок (объекты трубопроводного транспорта)<br><a href=\"https://energybase.ru/compressor-station/ops-24-vsto-2\">НПС-24 (Сковородино — Козьмино ВСТО-2)</a></td></tr><tr><td colspan=\"2\">Источники поставок (объекты трубопроводного транспорта)<br><a href=\"https://energybase.ru/compressor-station/ops-21-vsto-1\">НПС-21 Сковородино</a></td></tr></table>'"
      ]
     },
     "execution_count": 66,
     "metadata": {},
     "output_type": "execute_result"
    }
   ],
   "source": [
    "lines[350]['properties']['balloonContentBody']"
   ]
  },
  {
   "cell_type": "code",
   "execution_count": 23,
   "id": "47062a11",
   "metadata": {
    "ExecuteTime": {
     "end_time": "2023-02-13T15:45:44.077917Z",
     "start_time": "2023-02-13T15:45:44.068042Z"
    }
   },
   "outputs": [
    {
     "data": {
      "text/html": [
       "<div>\n",
       "<style scoped>\n",
       "    .dataframe tbody tr th:only-of-type {\n",
       "        vertical-align: middle;\n",
       "    }\n",
       "\n",
       "    .dataframe tbody tr th {\n",
       "        vertical-align: top;\n",
       "    }\n",
       "\n",
       "    .dataframe thead th {\n",
       "        text-align: right;\n",
       "    }\n",
       "</style>\n",
       "<table border=\"1\" class=\"dataframe\">\n",
       "  <thead>\n",
       "    <tr style=\"text-align: right;\">\n",
       "      <th></th>\n",
       "      <th>Протяженность, км,</th>\n",
       "      <th>Мощность, млрдкуб.мвгод.,</th>\n",
       "      <th>Мощность, млн.тонн/год,</th>\n",
       "      <th>Давление, МПа,</th>\n",
       "    </tr>\n",
       "  </thead>\n",
       "  <tbody>\n",
       "    <tr>\n",
       "      <th>1</th>\n",
       "      <td>1560</td>\n",
       "      <td>6</td>\n",
       "      <td>43</td>\n",
       "      <td>6</td>\n",
       "    </tr>\n",
       "  </tbody>\n",
       "</table>\n",
       "</div>"
      ],
      "text/plain": [
       "0 Протяженность, км,  Мощность, млрдкуб.мвгод.,  Мощность, млн.тонн/год,   \\\n",
       "1                1560                          6                       43   \n",
       "\n",
       "0 Давление, МПа,   \n",
       "1               6  "
      ]
     },
     "execution_count": 23,
     "metadata": {},
     "output_type": "execute_result"
    }
   ],
   "source": []
  },
  {
   "cell_type": "code",
   "execution_count": 192,
   "id": "a93ffb35",
   "metadata": {
    "ExecuteTime": {
     "end_time": "2023-02-13T15:34:49.831693Z",
     "start_time": "2023-02-13T15:34:49.821278Z"
    }
   },
   "outputs": [
    {
     "data": {
      "text/plain": [
       "'млрдкуб.мвгод.'"
      ]
     },
     "execution_count": 192,
     "metadata": {},
     "output_type": "execute_result"
    }
   ],
   "source": []
  },
  {
   "cell_type": "code",
   "execution_count": 189,
   "id": "1d3a26a5",
   "metadata": {
    "ExecuteTime": {
     "end_time": "2023-02-13T15:34:00.759972Z",
     "start_time": "2023-02-13T15:34:00.752638Z"
    }
   },
   "outputs": [
    {
     "data": {
      "text/plain": [
       "['', '6', 'млрдкуб.мвгод.']"
      ]
     },
     "execution_count": 189,
     "metadata": {},
     "output_type": "execute_result"
    }
   ],
   "source": []
  },
  {
   "cell_type": "code",
   "execution_count": 181,
   "id": "5fed74ab",
   "metadata": {
    "ExecuteTime": {
     "end_time": "2023-02-13T15:30:59.662319Z",
     "start_time": "2023-02-13T15:30:59.652169Z"
    }
   },
   "outputs": [
    {
     "data": {
      "text/html": [
       "<div>\n",
       "<style scoped>\n",
       "    .dataframe tbody tr th:only-of-type {\n",
       "        vertical-align: middle;\n",
       "    }\n",
       "\n",
       "    .dataframe tbody tr th {\n",
       "        vertical-align: top;\n",
       "    }\n",
       "\n",
       "    .dataframe thead th {\n",
       "        text-align: right;\n",
       "    }\n",
       "</style>\n",
       "<table border=\"1\" class=\"dataframe\">\n",
       "  <thead>\n",
       "    <tr style=\"text-align: right;\">\n",
       "      <th></th>\n",
       "      <th>0</th>\n",
       "      <th>1</th>\n",
       "      <th>2</th>\n",
       "      <th>3</th>\n",
       "    </tr>\n",
       "  </thead>\n",
       "  <tbody>\n",
       "    <tr>\n",
       "      <th>0</th>\n",
       "      <td>Протяженность</td>\n",
       "      <td>Мощность</td>\n",
       "      <td>Мощность</td>\n",
       "      <td>Давление</td>\n",
       "    </tr>\n",
       "    <tr>\n",
       "      <th>1</th>\n",
       "      <td>1 560 км</td>\n",
       "      <td>6 млрд куб. м в год.</td>\n",
       "      <td>43 млн. тонн/год</td>\n",
       "      <td>6 МПа</td>\n",
       "    </tr>\n",
       "  </tbody>\n",
       "</table>\n",
       "</div>"
      ],
      "text/plain": [
       "               0                     1                 2         3\n",
       "0  Протяженность              Мощность          Мощность  Давление\n",
       "1       1 560 км  6 млрд куб. м в год.  43 млн. тонн/год     6 МПа"
      ]
     },
     "execution_count": 181,
     "metadata": {},
     "output_type": "execute_result"
    }
   ],
   "source": [
    "keke_4[18]"
   ]
  },
  {
   "cell_type": "code",
   "execution_count": 182,
   "id": "2f142f2e",
   "metadata": {
    "ExecuteTime": {
     "end_time": "2023-02-13T15:31:44.048127Z",
     "start_time": "2023-02-13T15:31:43.929569Z"
    }
   },
   "outputs": [
    {
     "data": {
      "text/plain": [
       "[               0                 1\n",
       " 0  Протяженность          Мощность\n",
       " 1       2 694 км  80 млн. тонн/год,\n",
       "                0                 1\n",
       " 0  Протяженность          Мощность\n",
       " 1       2 046 км  50 млн. тонн/год,\n",
       "                0                 1\n",
       " 0  Протяженность          Мощность\n",
       " 1         703 км  15 млн. тонн/год,\n",
       "                0\n",
       " 0  Протяженность\n",
       " 1         366 км,\n",
       "                0                 1         2\n",
       " 0  Протяженность          Мощность  Давление\n",
       " 1         917 км  45 млн. тонн/год  6.30 МПа,\n",
       "                0                   1\n",
       " 0  Протяженность            Мощность\n",
       " 1          61 км  4.50 млн. тонн/год,\n",
       "                0\n",
       " 0  Протяженность\n",
       " 1          23 км,\n",
       "                0\n",
       " 0  Протяженность\n",
       " 1         818 км,\n",
       "                0\n",
       " 0  Протяженность\n",
       " 1         397 км,\n",
       "                0                 1         2\n",
       " 0  Протяженность          Мощность  Давление\n",
       " 1       1 000 км  30 млн. тонн/год  6.30 МПа,\n",
       "                0                     1         2\n",
       " 0  Протяженность              Мощность  Давление\n",
       " 1       1 792 км  104.50 млн. тонн/год     4 МПа,\n",
       "                0                    1         2\n",
       " 0  Протяженность             Мощность  Давление\n",
       " 1         489 км  66.50 млн. тонн/год     4 МПа,\n",
       "                0                 1         2\n",
       " 0  Протяженность          Мощность  Давление\n",
       " 1       1 111 км  82 млн. тонн/год  5.50 МПа,\n",
       "                0                   1         2\n",
       " 0  Протяженность            Мощность  Давление\n",
       " 1          90 км  6.50 млн. тонн/год  2.10 МПа,\n",
       "                0                1         2\n",
       " 0  Протяженность         Мощность  Давление\n",
       " 1         314 км  7 млн. тонн/год  2.10 МПа,\n",
       "                0                    1         2\n",
       " 0  Протяженность             Мощность  Давление\n",
       " 1         253 км  15.70 млн. тонн/год  4.80 МПа,\n",
       "                0                 1         2\n",
       " 0  Протяженность          Мощность  Давление\n",
       " 1         548 км  35 млн. тонн/год  2.10 МПа,\n",
       "                0                 1         2\n",
       " 0  Протяженность          Мощность  Давление\n",
       " 1         881 км  40 млн. тонн/год  2.10 МПа,\n",
       "                0                     1                 2         3\n",
       " 0  Протяженность              Мощность          Мощность  Давление\n",
       " 1       1 560 км  6 млрд куб. м в год.  43 млн. тонн/год     6 МПа,\n",
       "                0                    1\n",
       " 0  Протяженность             Мощность\n",
       " 1         602 км  44.80 млн. тонн/год,\n",
       "                0                        1                2         3\n",
       " 0  Протяженность                 Мощность         Мощность  Давление\n",
       " 1         101 км  6.30 млрд куб. м в год.  4 млн. тонн/год  6.30 МПа,\n",
       "                0                        1                2         3\n",
       " 0  Протяженность                 Мощность         Мощность  Давление\n",
       " 1         120 км  6.30 млрд куб. м в год.  3 млн. тонн/год  6.30 МПа,\n",
       "                0                        1                   2         3\n",
       " 0  Протяженность                 Мощность            Мощность  Давление\n",
       " 1         852 км  6.30 млрд куб. м в год.  7.50 млн. тонн/год  6.30 МПа,\n",
       "                0                        1                 2         3\n",
       " 0  Протяженность                 Мощность          Мощность  Давление\n",
       " 1         247 км  6.30 млрд куб. м в год.  12 млн. тонн/год  6.30 МПа,\n",
       "                0                        1                 2         3\n",
       " 0  Протяженность                 Мощность          Мощность  Давление\n",
       " 1         330 км  6.30 млрд куб. м в год.  40 млн. тонн/год  6.30 МПа,\n",
       "                0                 1         2\n",
       " 0  Протяженность          Мощность  Давление\n",
       " 1       1 870 км  24 млн. тонн/год  7.50 МПа,\n",
       "                0                 1         2\n",
       " 0  Протяженность          Мощность  Давление\n",
       " 1         970 км  80 млн. тонн/год  6.20 МПа,\n",
       "                0                 1         2\n",
       " 0  Протяженность          Мощность  Давление\n",
       " 1         438 км  45 млн. тонн/год     9 МПа,\n",
       "                0                   1         2\n",
       " 0  Протяженность            Мощность  Давление\n",
       " 1         117 км  2.20 млн. тонн/год  1.60 МПа,\n",
       "                0                1         2\n",
       " 0  Протяженность         Мощность  Давление\n",
       " 1         450 км  5 млн. тонн/год     4 МПа,\n",
       "                0                1         2\n",
       " 0  Протяженность         Мощность  Давление\n",
       " 1         100 км  4 млн. тонн/год  2.80 МПа,\n",
       "                0                1         2\n",
       " 0  Протяженность         Мощность  Давление\n",
       " 1         150 км  7 млн. тонн/год  2.80 МПа,\n",
       "                0                   1         2\n",
       " 0  Протяженность            Мощность  Давление\n",
       " 1         333 км  5.10 млн. тонн/год  5.20 МПа,\n",
       "                0                    1         2\n",
       " 0  Протяженность             Мощность  Давление\n",
       " 1       1 135 км  23.40 млн. тонн/год  6.30 МПа,\n",
       "                   0         1\n",
       " 0          Мощность  Давление\n",
       " 1  28 млн. тонн/год  6.30 МПа,\n",
       "                   0         1\n",
       " 0          Мощность  Давление\n",
       " 1  12 млн. тонн/год  6.30 МПа,\n",
       "                0                    1         2\n",
       " 0  Протяженность             Мощность  Давление\n",
       " 1         409 км  24.30 млн. тонн/год  6.30 МПа,\n",
       "                0                    1         2\n",
       " 0  Протяженность             Мощность  Давление\n",
       " 1         580 км  48.40 млн. тонн/год  6.30 МПа,\n",
       "                0         1\n",
       " 0  Протяженность  Давление\n",
       " 1         110 км  6.30 МПа,\n",
       "           0\n",
       " 0  Давление\n",
       " 1  6.30 МПа,\n",
       "           0\n",
       " 0  Давление\n",
       " 1  6.30 МПа,\n",
       "                0         1\n",
       " 0  Протяженность  Давление\n",
       " 1         410 км  6.30 МПа,\n",
       "                0                   1         2\n",
       " 0  Протяженность            Мощность  Давление\n",
       " 1         256 км  6.40 млн. тонн/год  6.30 МПа,\n",
       "                0         1\n",
       " 0  Протяженность  Давление\n",
       " 1          67 км  6.30 МПа,\n",
       "                0                   1         2\n",
       " 0  Протяженность            Мощность  Давление\n",
       " 1         440 км  7.20 млн. тонн/год  6.30 МПа,\n",
       "                0                 1         2\n",
       " 0  Протяженность          Мощность  Давление\n",
       " 1       2 150 км  84 млн. тонн/год  6.30 МПа,\n",
       "                0         1\n",
       " 0  Протяженность  Давление\n",
       " 1          64 км  6.30 МПа,\n",
       "                0                    1         2\n",
       " 0  Протяженность             Мощность  Давление\n",
       " 1         264 км  18.20 млн. тонн/год  6.30 МПа,\n",
       "                0                  1         2\n",
       " 0  Протяженность           Мощность  Давление\n",
       " 1       3 250 км  120 млн. тонн/год  6.30 МПа,\n",
       "           0\n",
       " 0  Давление\n",
       " 1  6.30 МПа,\n",
       "                0                 1         2\n",
       " 0  Протяженность          Мощность  Давление\n",
       " 1          95 км  10 млн. тонн/год  4.80 МПа,\n",
       "                0                 1         2\n",
       " 0  Протяженность          Мощность  Давление\n",
       " 1       2 456 км  75 млн. тонн/год  6.30 МПа,\n",
       "                0                   1         2\n",
       " 0  Протяженность            Мощность  Давление\n",
       " 1          37 км  8.10 млн. тонн/год  6.30 МПа,\n",
       "                0                 1\n",
       " 0  Протяженность          Мощность\n",
       " 1          63 км  30 млн. тонн/год,\n",
       "                0                1\n",
       " 0  Протяженность         Мощность\n",
       " 1         294 км  8 млн. тонн/год,\n",
       "                0                1\n",
       " 0  Протяженность         Мощность\n",
       " 1          28 км  6 млн. тонн/год,\n",
       "                0                    1\n",
       " 0  Протяженность             Мощность\n",
       " 1         660 км  40.20 млн. тонн/год,\n",
       "                0\n",
       " 0  Протяженность\n",
       " 1         321 км,\n",
       "                0                 1         2\n",
       " 0  Протяженность          Мощность  Давление\n",
       " 1          52 км  25 млн. тонн/год  3.53 МПа,\n",
       "                0                 1\n",
       " 0  Протяженность          Мощность\n",
       " 1       1 332 км  12 млн. тонн/год,\n",
       "                0\n",
       " 0  Протяженность\n",
       " 1            NaN,\n",
       "                0                 1         2\n",
       " 0  Протяженность          Мощность  Давление\n",
       " 1         332 км  12 млн. тонн/год  1.70 МПа,\n",
       "                     0\n",
       " 0            Мощность\n",
       " 1  8.90 млн. тонн/год,\n",
       "                     0\n",
       " 0            Мощность\n",
       " 1  8.40 млн. тонн/год,\n",
       "                0                   1         2\n",
       " 0  Протяженность            Мощность  Давление\n",
       " 1         395 км  9.50 млн. тонн/год  6.30 МПа,\n",
       "                0                 1\n",
       " 0  Протяженность          Мощность\n",
       " 1         259 км  28 млн. тонн/год,\n",
       "                0                 1\n",
       " 0  Протяженность          Мощность\n",
       " 1         475 км  40 млн. тонн/год,\n",
       "                     0\n",
       " 0            Мощность\n",
       " 1  0.70 млн. тонн/год,\n",
       "                0\n",
       " 0  Протяженность\n",
       " 1         250 км,\n",
       "                0                 1\n",
       " 0  Протяженность          Мощность\n",
       " 1         556 км  25 млн. тонн/год,\n",
       "                0                1\n",
       " 0  Протяженность         Мощность\n",
       " 1         150 км  9 млн. тонн/год,\n",
       "                0                 1\n",
       " 0  Протяженность          Мощность\n",
       " 1       1 380 км  30 млн. тонн/год,\n",
       "                0                 1\n",
       " 0  Протяженность          Мощность\n",
       " 1         794 км  20 млн. тонн/год,\n",
       "                0                 1\n",
       " 0  Протяженность          Мощность\n",
       " 1         965 км  20 млн. тонн/год,\n",
       "                     0\n",
       " 0            Мощность\n",
       " 1  3.60 млн. тонн/год,\n",
       "                0                1\n",
       " 0  Протяженность         Мощность\n",
       " 1         290 км  7 млн. тонн/год,\n",
       "                0\n",
       " 0  Протяженность\n",
       " 1       1 640 км,\n",
       "                0                 1\n",
       " 0  Протяженность          Мощность\n",
       " 1         199 км  25 млн. тонн/год,\n",
       "                0\n",
       " 0  Протяженность\n",
       " 1            NaN,\n",
       "                0\n",
       " 0  Протяженность\n",
       " 1          92 км]"
      ]
     },
     "execution_count": 182,
     "metadata": {},
     "output_type": "execute_result"
    }
   ],
   "source": [
    "keke_4"
   ]
  },
  {
   "cell_type": "code",
   "execution_count": null,
   "id": "36bc1adb",
   "metadata": {},
   "outputs": [],
   "source": []
  },
  {
   "cell_type": "code",
   "execution_count": 183,
   "id": "1962e9cb",
   "metadata": {
    "ExecuteTime": {
     "end_time": "2023-02-13T15:32:22.596250Z",
     "start_time": "2023-02-13T15:32:22.588761Z"
    }
   },
   "outputs": [
    {
     "data": {
      "text/plain": [
       "[['1\\xa0560\\xa0км'],\n",
       " ['6\\xa0млрд', 'куб.', 'м', 'в', 'год.'],\n",
       " ['43\\xa0млн.', 'тонн/год'],\n",
       " ['6\\xa0МПа']]"
      ]
     },
     "execution_count": 183,
     "metadata": {},
     "output_type": "execute_result"
    }
   ],
   "source": [
    "[x.split(' ') for x in df.iloc[1,:]]"
   ]
  },
  {
   "cell_type": "code",
   "execution_count": null,
   "id": "7dec5b8e",
   "metadata": {},
   "outputs": [],
   "source": [
    "\n",
    "s.rstrip('0123456789')"
   ]
  },
  {
   "cell_type": "code",
   "execution_count": 149,
   "id": "73377c07",
   "metadata": {
    "ExecuteTime": {
     "end_time": "2023-02-13T15:16:17.244998Z",
     "start_time": "2023-02-13T15:16:17.237639Z"
    }
   },
   "outputs": [],
   "source": [
    "# keke_5"
   ]
  },
  {
   "cell_type": "code",
   "execution_count": 101,
   "id": "042b2368",
   "metadata": {
    "ExecuteTime": {
     "end_time": "2023-02-13T14:38:11.667798Z",
     "start_time": "2023-02-13T14:38:11.663236Z"
    }
   },
   "outputs": [],
   "source": [
    "pipelines = pd.DataFrame([keke_1,keke_2,keke_3]).T"
   ]
  },
  {
   "cell_type": "code",
   "execution_count": 105,
   "id": "78ed8cdf",
   "metadata": {
    "ExecuteTime": {
     "end_time": "2023-02-13T14:38:37.923650Z",
     "start_time": "2023-02-13T14:38:37.919956Z"
    }
   },
   "outputs": [
    {
     "data": {
      "text/plain": [
       "dict_keys(['balloonContentHeader', 'balloonContentBody', 'balloonContentFooter', 'clusterCaption'])"
      ]
     },
     "execution_count": 105,
     "metadata": {},
     "output_type": "execute_result"
    }
   ],
   "source": [
    "keke_3[0].keys()"
   ]
  },
  {
   "cell_type": "code",
   "execution_count": 112,
   "id": "6e292026",
   "metadata": {
    "ExecuteTime": {
     "end_time": "2023-02-13T14:49:28.190538Z",
     "start_time": "2023-02-13T14:49:28.074102Z"
    }
   },
   "outputs": [],
   "source": [
    "from bs4 import BeautifulSoup\n"
   ]
  },
  {
   "cell_type": "code",
   "execution_count": 124,
   "id": "32332bc4",
   "metadata": {
    "ExecuteTime": {
     "end_time": "2023-02-13T15:00:42.690386Z",
     "start_time": "2023-02-13T15:00:42.682881Z"
    }
   },
   "outputs": [
    {
     "data": {
      "text/html": [
       "<div>\n",
       "<style scoped>\n",
       "    .dataframe tbody tr th:only-of-type {\n",
       "        vertical-align: middle;\n",
       "    }\n",
       "\n",
       "    .dataframe tbody tr th {\n",
       "        vertical-align: top;\n",
       "    }\n",
       "\n",
       "    .dataframe thead th {\n",
       "        text-align: right;\n",
       "    }\n",
       "</style>\n",
       "<table border=\"1\" class=\"dataframe\">\n",
       "  <thead>\n",
       "    <tr style=\"text-align: right;\">\n",
       "      <th></th>\n",
       "      <th>0</th>\n",
       "      <th>1</th>\n",
       "    </tr>\n",
       "  </thead>\n",
       "  <tbody>\n",
       "    <tr>\n",
       "      <th>0</th>\n",
       "      <td>Протяженность</td>\n",
       "      <td>Мощность</td>\n",
       "    </tr>\n",
       "    <tr>\n",
       "      <th>1</th>\n",
       "      <td>2 694 км</td>\n",
       "      <td>80 млн. тонн/год</td>\n",
       "    </tr>\n",
       "  </tbody>\n",
       "</table>\n",
       "</div>"
      ],
      "text/plain": [
       "               0                 1\n",
       "0  Протяженность          Мощность\n",
       "1       2 694 км  80 млн. тонн/год"
      ]
     },
     "execution_count": 124,
     "metadata": {},
     "output_type": "execute_result"
    }
   ],
   "source": [
    "keke_3[0]"
   ]
  },
  {
   "cell_type": "code",
   "execution_count": 109,
   "id": "b31571b8",
   "metadata": {
    "ExecuteTime": {
     "end_time": "2023-02-13T14:39:54.369821Z",
     "start_time": "2023-02-13T14:39:54.357601Z"
    }
   },
   "outputs": [
    {
     "data": {
      "text/plain": [
       "''"
      ]
     },
     "execution_count": 109,
     "metadata": {},
     "output_type": "execute_result"
    }
   ],
   "source": [
    "keke_3[0]['balloonContentFooter']"
   ]
  },
  {
   "cell_type": "code",
   "execution_count": 111,
   "id": "fd090f96",
   "metadata": {
    "ExecuteTime": {
     "end_time": "2023-02-13T14:40:28.949340Z",
     "start_time": "2023-02-13T14:40:28.943985Z"
    }
   },
   "outputs": [
    {
     "data": {
      "text/plain": [
       "'Нефтепровод Восточная Сибирь - Тихий океан (Тайшет - Сковородино ВСТО-1)'"
      ]
     },
     "execution_count": 111,
     "metadata": {},
     "output_type": "execute_result"
    }
   ],
   "source": [
    "keke_3[0]"
   ]
  },
  {
   "cell_type": "code",
   "execution_count": 59,
   "id": "ef66a7d1",
   "metadata": {
    "ExecuteTime": {
     "end_time": "2023-02-13T14:08:19.002415Z",
     "start_time": "2023-02-13T14:08:18.993160Z"
    }
   },
   "outputs": [
    {
     "data": {
      "text/plain": [
       "['Pipeline16',\n",
       " 'Pipeline17',\n",
       " 'Pipeline18',\n",
       " 'Pipeline19',\n",
       " 'Pipeline20',\n",
       " 'Pipeline21',\n",
       " 'Pipeline22',\n",
       " 'Pipeline23',\n",
       " 'Pipeline24',\n",
       " 'Pipeline25',\n",
       " 'Pipeline26',\n",
       " 'Pipeline27',\n",
       " 'Pipeline28',\n",
       " 'Pipeline29',\n",
       " 'Pipeline31',\n",
       " 'Pipeline32',\n",
       " 'Pipeline33',\n",
       " 'Pipeline34',\n",
       " 'Pipeline35',\n",
       " 'Pipeline36',\n",
       " 'Pipeline37',\n",
       " 'Pipeline38',\n",
       " 'Pipeline39',\n",
       " 'Pipeline40',\n",
       " 'Pipeline41',\n",
       " 'Pipeline43',\n",
       " 'Pipeline44',\n",
       " 'Pipeline45',\n",
       " 'Pipeline49',\n",
       " 'Pipeline50',\n",
       " 'Pipeline52',\n",
       " 'Pipeline53',\n",
       " 'Pipeline54',\n",
       " 'Pipeline60',\n",
       " 'Pipeline61',\n",
       " 'Pipeline62',\n",
       " 'Pipeline63',\n",
       " 'Pipeline67',\n",
       " 'Pipeline70',\n",
       " 'Pipeline71',\n",
       " 'Pipeline72',\n",
       " 'Pipeline75',\n",
       " 'Pipeline76',\n",
       " 'Pipeline77',\n",
       " 'Pipeline78',\n",
       " 'Pipeline79',\n",
       " 'Pipeline80',\n",
       " 'Pipeline81',\n",
       " 'Pipeline82',\n",
       " 'Pipeline86',\n",
       " 'Pipeline88',\n",
       " 'Pipeline89',\n",
       " 'Pipeline90',\n",
       " 'Pipeline91',\n",
       " 'Pipeline92',\n",
       " 'Pipeline93',\n",
       " 'Pipeline209',\n",
       " 'Pipeline213',\n",
       " 'Pipeline214',\n",
       " 'Pipeline216',\n",
       " 'Pipeline218',\n",
       " 'Pipeline220',\n",
       " 'Pipeline221',\n",
       " 'Pipeline223',\n",
       " 'Pipeline224',\n",
       " 'Pipeline230',\n",
       " 'Pipeline231',\n",
       " 'Pipeline234',\n",
       " 'Pipeline235',\n",
       " 'Pipeline236',\n",
       " 'Pipeline244',\n",
       " 'Pipeline245',\n",
       " 'Pipeline246',\n",
       " 'Pipeline247',\n",
       " 'Pipeline248',\n",
       " 'Pipeline249',\n",
       " 'Pipeline250',\n",
       " 'Pipeline251',\n",
       " 'Pipeline254',\n",
       " 'Pipeline262',\n",
       " 'CompressorStation120',\n",
       " 'CompressorStation121',\n",
       " 'CompressorStation122',\n",
       " 'CompressorStation123',\n",
       " 'CompressorStation124',\n",
       " 'CompressorStation125',\n",
       " 'CompressorStation126',\n",
       " 'CompressorStation127',\n",
       " 'CompressorStation128',\n",
       " 'CompressorStation129',\n",
       " 'CompressorStation130',\n",
       " 'CompressorStation131',\n",
       " 'CompressorStation132',\n",
       " 'CompressorStation133',\n",
       " 'CompressorStation134',\n",
       " 'CompressorStation135',\n",
       " 'CompressorStation136',\n",
       " 'CompressorStation137',\n",
       " 'CompressorStation138',\n",
       " 'CompressorStation139',\n",
       " 'CompressorStation140',\n",
       " 'CompressorStation141',\n",
       " 'CompressorStation142',\n",
       " 'CompressorStation143',\n",
       " 'CompressorStation144',\n",
       " 'CompressorStation145',\n",
       " 'CompressorStation146',\n",
       " 'CompressorStation147',\n",
       " 'CompressorStation148',\n",
       " 'CompressorStation149',\n",
       " 'CompressorStation150',\n",
       " 'CompressorStation151',\n",
       " 'CompressorStation152',\n",
       " 'CompressorStation153',\n",
       " 'CompressorStation154',\n",
       " 'CompressorStation155',\n",
       " 'CompressorStation156',\n",
       " 'CompressorStation157',\n",
       " 'CompressorStation158',\n",
       " 'CompressorStation159',\n",
       " 'CompressorStation160',\n",
       " 'CompressorStation161',\n",
       " 'CompressorStation162',\n",
       " 'CompressorStation163',\n",
       " 'CompressorStation164',\n",
       " 'CompressorStation165',\n",
       " 'CompressorStation166',\n",
       " 'CompressorStation167',\n",
       " 'CompressorStation168',\n",
       " 'CompressorStation169',\n",
       " 'CompressorStation170',\n",
       " 'CompressorStation171',\n",
       " 'CompressorStation172',\n",
       " 'CompressorStation173',\n",
       " 'CompressorStation174',\n",
       " 'CompressorStation175',\n",
       " 'CompressorStation176',\n",
       " 'CompressorStation177',\n",
       " 'CompressorStation178',\n",
       " 'CompressorStation179',\n",
       " 'CompressorStation180',\n",
       " 'CompressorStation181',\n",
       " 'CompressorStation182',\n",
       " 'CompressorStation183',\n",
       " 'CompressorStation184',\n",
       " 'CompressorStation185',\n",
       " 'CompressorStation186',\n",
       " 'CompressorStation187',\n",
       " 'CompressorStation188',\n",
       " 'CompressorStation189',\n",
       " 'CompressorStation190',\n",
       " 'CompressorStation191',\n",
       " 'CompressorStation192',\n",
       " 'CompressorStation193',\n",
       " 'CompressorStation194',\n",
       " 'CompressorStation195',\n",
       " 'CompressorStation196',\n",
       " 'CompressorStation198',\n",
       " 'CompressorStation199',\n",
       " 'CompressorStation200',\n",
       " 'CompressorStation201',\n",
       " 'CompressorStation202',\n",
       " 'CompressorStation204',\n",
       " 'CompressorStation205',\n",
       " 'CompressorStation206',\n",
       " 'CompressorStation207',\n",
       " 'CompressorStation208',\n",
       " 'CompressorStation209',\n",
       " 'CompressorStation210',\n",
       " 'CompressorStation211',\n",
       " 'CompressorStation212',\n",
       " 'CompressorStation213',\n",
       " 'CompressorStation214',\n",
       " 'CompressorStation215',\n",
       " 'CompressorStation216',\n",
       " 'CompressorStation217',\n",
       " 'CompressorStation218',\n",
       " 'CompressorStation219',\n",
       " 'CompressorStation220',\n",
       " 'CompressorStation221',\n",
       " 'CompressorStation222',\n",
       " 'CompressorStation223',\n",
       " 'CompressorStation224',\n",
       " 'CompressorStation225',\n",
       " 'CompressorStation226',\n",
       " 'CompressorStation227',\n",
       " 'CompressorStation228',\n",
       " 'CompressorStation229',\n",
       " 'CompressorStation230',\n",
       " 'CompressorStation231',\n",
       " 'CompressorStation232',\n",
       " 'CompressorStation233',\n",
       " 'CompressorStation234',\n",
       " 'CompressorStation235',\n",
       " 'CompressorStation236',\n",
       " 'CompressorStation237',\n",
       " 'CompressorStation238',\n",
       " 'CompressorStation239',\n",
       " 'CompressorStation240',\n",
       " 'CompressorStation241',\n",
       " 'CompressorStation242',\n",
       " 'CompressorStation243',\n",
       " 'CompressorStation244',\n",
       " 'CompressorStation245',\n",
       " 'CompressorStation246',\n",
       " 'CompressorStation247',\n",
       " 'CompressorStation248',\n",
       " 'CompressorStation249',\n",
       " 'CompressorStation250',\n",
       " 'CompressorStation251',\n",
       " 'CompressorStation252',\n",
       " 'CompressorStation253',\n",
       " 'CompressorStation254',\n",
       " 'CompressorStation255',\n",
       " 'CompressorStation256',\n",
       " 'CompressorStation257',\n",
       " 'CompressorStation258',\n",
       " 'CompressorStation259',\n",
       " 'CompressorStation260',\n",
       " 'CompressorStation261',\n",
       " 'CompressorStation262',\n",
       " 'CompressorStation263',\n",
       " 'CompressorStation264',\n",
       " 'CompressorStation265',\n",
       " 'CompressorStation266',\n",
       " 'CompressorStation267',\n",
       " 'CompressorStation273',\n",
       " 'CompressorStation274',\n",
       " 'CompressorStation275',\n",
       " 'CompressorStation276',\n",
       " 'CompressorStation277',\n",
       " 'CompressorStation278',\n",
       " 'CompressorStation279',\n",
       " 'CompressorStation280',\n",
       " 'CompressorStation281',\n",
       " 'CompressorStation282',\n",
       " 'CompressorStation283',\n",
       " 'CompressorStation284',\n",
       " 'CompressorStation285',\n",
       " 'CompressorStation286',\n",
       " 'CompressorStation287',\n",
       " 'CompressorStation288',\n",
       " 'CompressorStation289',\n",
       " 'CompressorStation290',\n",
       " 'CompressorStation291',\n",
       " 'CompressorStation292',\n",
       " 'CompressorStation293',\n",
       " 'CompressorStation294',\n",
       " 'CompressorStation295',\n",
       " 'CompressorStation296',\n",
       " 'CompressorStation297',\n",
       " 'CompressorStation298',\n",
       " 'CompressorStation299',\n",
       " 'CompressorStation300',\n",
       " 'CompressorStation301',\n",
       " 'CompressorStation302',\n",
       " 'CompressorStation303',\n",
       " 'CompressorStation304',\n",
       " 'CompressorStation306',\n",
       " 'CompressorStation307',\n",
       " 'CompressorStation308',\n",
       " 'CompressorStation309',\n",
       " 'CompressorStation310',\n",
       " 'CompressorStation330',\n",
       " 'CompressorStation331',\n",
       " 'CompressorStation332',\n",
       " 'CompressorStation333',\n",
       " 'CompressorStation334',\n",
       " 'CompressorStation335',\n",
       " 'CompressorStation336',\n",
       " 'CompressorStation337',\n",
       " 'CompressorStation338',\n",
       " 'CompressorStation339',\n",
       " 'CompressorStation340',\n",
       " 'CompressorStation341',\n",
       " 'CompressorStation342',\n",
       " 'CompressorStation343',\n",
       " 'CompressorStation344',\n",
       " 'CompressorStation345',\n",
       " 'CompressorStation346',\n",
       " 'CompressorStation347',\n",
       " 'CompressorStation348',\n",
       " 'CompressorStation349',\n",
       " 'CompressorStation350',\n",
       " 'CompressorStation360',\n",
       " 'CompressorStation361',\n",
       " 'CompressorStation362',\n",
       " 'CompressorStation363',\n",
       " 'CompressorStation364',\n",
       " 'CompressorStation365',\n",
       " 'CompressorStation366',\n",
       " 'CompressorStation367',\n",
       " 'CompressorStation368',\n",
       " 'CompressorStation369',\n",
       " 'CompressorStation370',\n",
       " 'CompressorStation371',\n",
       " 'CompressorStation372',\n",
       " 'CompressorStation373',\n",
       " 'CompressorStation374',\n",
       " 'CompressorStation375',\n",
       " 'CompressorStation376',\n",
       " 'CompressorStation377',\n",
       " 'CompressorStation378',\n",
       " 'CompressorStation379',\n",
       " 'CompressorStation380',\n",
       " 'CompressorStation381',\n",
       " 'CompressorStation382',\n",
       " 'CompressorStation383',\n",
       " 'CompressorStation384',\n",
       " 'CompressorStation385',\n",
       " 'CompressorStation386',\n",
       " 'CompressorStation387',\n",
       " 'CompressorStation388',\n",
       " 'CompressorStation389',\n",
       " 'CompressorStation390',\n",
       " 'CompressorStation391',\n",
       " 'CompressorStation392',\n",
       " 'CompressorStation393',\n",
       " 'CompressorStation394',\n",
       " 'CompressorStation395',\n",
       " 'CompressorStation396',\n",
       " 'CompressorStation397',\n",
       " 'CompressorStation398',\n",
       " 'CompressorStation399',\n",
       " 'CompressorStation400',\n",
       " 'CompressorStation401',\n",
       " 'CompressorStation402',\n",
       " 'CompressorStation403',\n",
       " 'CompressorStation405',\n",
       " 'CompressorStation406',\n",
       " 'CompressorStation407',\n",
       " 'CompressorStation408',\n",
       " 'CompressorStation409',\n",
       " 'CompressorStation410',\n",
       " 'CompressorStation411',\n",
       " 'CompressorStation412',\n",
       " 'CompressorStation413',\n",
       " 'CompressorStation414',\n",
       " 'CompressorStation415',\n",
       " 'CompressorStation416',\n",
       " 'CompressorStation417',\n",
       " 'CompressorStation418',\n",
       " 'CompressorStation419',\n",
       " 'CompressorStation420',\n",
       " 'CompressorStation421',\n",
       " 'CompressorStation422',\n",
       " 'CompressorStation423',\n",
       " 'CompressorStation424',\n",
       " 'CompressorStation531',\n",
       " 'CompressorStation532',\n",
       " 'CompressorStation533',\n",
       " 'CompressorStation534',\n",
       " 'CompressorStation609',\n",
       " 'CompressorStation610',\n",
       " 'CompressorStation611',\n",
       " 'CompressorStation612',\n",
       " 'CompressorStation614',\n",
       " 'CompressorStation615',\n",
       " 'CompressorStation616',\n",
       " 'CompressorStation617',\n",
       " 'CompressorStation618',\n",
       " 'CompressorStation619',\n",
       " 'CompressorStation620',\n",
       " 'CompressorStation621',\n",
       " 'CompressorStation622',\n",
       " 'CompressorStation623',\n",
       " 'CompressorStation624',\n",
       " 'CompressorStation625',\n",
       " 'CompressorStation626',\n",
       " 'CompressorStation627',\n",
       " 'CompressorStation628',\n",
       " 'CompressorStation629',\n",
       " 'CompressorStation630',\n",
       " 'CompressorStation631',\n",
       " 'CompressorStation632',\n",
       " 'CompressorStation634',\n",
       " 'CompressorStation635',\n",
       " 'CompressorStation636',\n",
       " 'CompressorStation637',\n",
       " 'CompressorStation638',\n",
       " 'CompressorStation735',\n",
       " 'CompressorStation736',\n",
       " 'CompressorStation737',\n",
       " 'CompressorStation738',\n",
       " 'CompressorStation739',\n",
       " 'CompressorStation740',\n",
       " 'CompressorStation742',\n",
       " 'CompressorStation743',\n",
       " 'CompressorStation745',\n",
       " 'CompressorStation746',\n",
       " 'CompressorStation747',\n",
       " 'CompressorStation748',\n",
       " 'CompressorStation749',\n",
       " 'CompressorStation750',\n",
       " 'CompressorStation751',\n",
       " 'CompressorStation752',\n",
       " 'CompressorStation753',\n",
       " 'CompressorStation754',\n",
       " 'CompressorStation755',\n",
       " 'CompressorStation756',\n",
       " 'CompressorStation757',\n",
       " 'CompressorStation758',\n",
       " 'CompressorStation759',\n",
       " 'CompressorStation760',\n",
       " 'CompressorStation761',\n",
       " 'CompressorStation762',\n",
       " 'CompressorStation763',\n",
       " 'CompressorStation766',\n",
       " 'CompressorStation767',\n",
       " 'CompressorStation768',\n",
       " 'CompressorStation769',\n",
       " 'CompressorStation772',\n",
       " 'CompressorStation773',\n",
       " 'CompressorStation774',\n",
       " 'CompressorStation775',\n",
       " 'CompressorStation776',\n",
       " 'CompressorStation777',\n",
       " 'CompressorStation789',\n",
       " 'CompressorStation791',\n",
       " 'CompressorStation792',\n",
       " 'CompressorStation793',\n",
       " 'CompressorStation794',\n",
       " 'CompressorStation795',\n",
       " 'CompressorStation800',\n",
       " 'CompressorStation814',\n",
       " 'CompressorStation815',\n",
       " 'CompressorStation816',\n",
       " 'CompressorStation817',\n",
       " 'CompressorStation818',\n",
       " 'CompressorStation819',\n",
       " 'CompressorStation820',\n",
       " 'CompressorStation821',\n",
       " 'CompressorStation822',\n",
       " 'CompressorStation823',\n",
       " 'CompressorStation824',\n",
       " 'CompressorStation825',\n",
       " 'CompressorStation826',\n",
       " 'CompressorStation827',\n",
       " 'CompressorStation828',\n",
       " 'CompressorStation829',\n",
       " 'CompressorStation830',\n",
       " 'CompressorStation831',\n",
       " 'CompressorStation832',\n",
       " 'CompressorStation833',\n",
       " 'CompressorStation834',\n",
       " 'CompressorStation835',\n",
       " 'CompressorStation836',\n",
       " 'CompressorStation837',\n",
       " 'CompressorStation838',\n",
       " 'CompressorStation839',\n",
       " 'CompressorStation850',\n",
       " 'CompressorStation851',\n",
       " 'CompressorStation856']"
      ]
     },
     "execution_count": 59,
     "metadata": {},
     "output_type": "execute_result"
    }
   ],
   "source": [
    "keke "
   ]
  },
  {
   "cell_type": "code",
   "execution_count": 87,
   "id": "b20b357e",
   "metadata": {
    "ExecuteTime": {
     "end_time": "2023-02-13T14:33:52.807307Z",
     "start_time": "2023-02-13T14:33:52.803431Z"
    }
   },
   "outputs": [
    {
     "data": {
      "text/plain": [
       "array([[79]])"
      ]
     },
     "execution_count": 87,
     "metadata": {},
     "output_type": "execute_result"
    }
   ],
   "source": [
    "x = np.argwhere(np.array(keke)=='Pipeline262')\n",
    "x"
   ]
  },
  {
   "cell_type": "code",
   "execution_count": 81,
   "id": "8057b0c0",
   "metadata": {
    "ExecuteTime": {
     "end_time": "2023-02-13T14:15:15.513869Z",
     "start_time": "2023-02-13T14:15:15.500458Z"
    }
   },
   "outputs": [
    {
     "data": {
      "text/plain": [
       "{'id': 'Pipeline28',\n",
       " 'type': 'Feature',\n",
       " 'geometry': {'type': 'LineString',\n",
       "  'coordinates': [[52.99433, 50.55136],\n",
       "   [52.971862, 50.420074],\n",
       "   [52.922962, 50.401535],\n",
       "   [52.864873, 50.252189],\n",
       "   [52.7946, 49.9134],\n",
       "   [52.810865, 49.57241],\n",
       "   [52.727852, 49.268226],\n",
       "   [52.50964, 49.03387],\n",
       "   [52.330219, 48.888607],\n",
       "   [52.329696, 48.890152],\n",
       "   [52.270793, 48.808785],\n",
       "   [52.146442, 48.590432],\n",
       "   [52.122246, 48.582878],\n",
       "   [52.094456, 48.560219],\n",
       "   [51.972989, 48.343239],\n",
       "   [51.970455, 48.31955],\n",
       "   [51.951445, 48.272858],\n",
       "   [51.92647, 48.17866],\n",
       "   [51.925874, 48.160076],\n",
       "   [51.863153, 48.026181],\n",
       "   [51.875111, 47.864647],\n",
       "   [51.872572, 47.822075],\n",
       "   [51.848862, 47.775383],\n",
       "   [51.827258, 47.752724],\n",
       "   [51.789107, 47.54673],\n",
       "   [51.736492, 47.398415],\n",
       "   [51.71271, 47.213707],\n",
       "   [51.602981, 46.884117],\n",
       "   [51.597871, 46.851845],\n",
       "   [51.58809, 46.84122],\n",
       "   [51.51603, 46.5765],\n",
       "   [51.519016, 46.568947],\n",
       "   [51.43917, 46.376],\n",
       "   [51.424423, 46.355057],\n",
       "   [51.416942, 46.348534],\n",
       "   [51.327492, 46.228371],\n",
       "   [51.302852, 46.227684],\n",
       "   [51.296851, 46.217041],\n",
       "   [51.295136, 46.147347],\n",
       "   [51.277341, 46.126061],\n",
       "   [51.255463, 46.120568],\n",
       "   [51.22399, 46.06837],\n",
       "   [51.259552, 46.023064],\n",
       "   [51.237417, 46.008988],\n",
       "   [51.235697, 45.996971],\n",
       "   [51.216562, 45.991822],\n",
       "   [51.180419, 45.996971],\n",
       "   [51.155016, 46.03817],\n",
       "   [51.122273, 46.030274],\n",
       "   [51.089292, 46.036797],\n",
       "   [51.060602, 45.988732],\n",
       "   [51.03794, 45.984268],\n",
       "   [50.931873, 45.846634],\n",
       "   [50.99915, 45.74767],\n",
       "   [51.045291, 45.618705],\n",
       "   [51.0414, 45.495796],\n",
       "   [50.978662, 45.429878],\n",
       "   [50.976497, 45.407905],\n",
       "   [50.964805, 45.395546],\n",
       "   [50.92971, 45.401039],\n",
       "   [50.806455, 45.229377],\n",
       "   [50.754278, 45.192985],\n",
       "   [50.729473, 45.15728],\n",
       "   [50.709446, 45.092048],\n",
       "   [50.691152, 45.063896],\n",
       "   [50.685053, 45.03231],\n",
       "   [50.65716, 45.002098],\n",
       "   [50.655555, 44.939575],\n",
       "   [50.64663, 44.887047],\n",
       "   [50.665567, 44.863701],\n",
       "   [50.663608, 44.814606],\n",
       "   [50.67351, 44.75658],\n",
       "   [50.662955, 44.728775],\n",
       "   [50.658603, 44.710236],\n",
       "   [50.592392, 44.602432],\n",
       "   [50.59675, 44.57016],\n",
       "   [50.595879, 44.533081],\n",
       "   [50.601109, 44.515228],\n",
       "   [50.609389, 44.417038],\n",
       "   [50.605031, 44.399872],\n",
       "   [50.608953, 44.364166],\n",
       "   [50.593699, 44.321594],\n",
       "   [50.583673, 44.263916],\n",
       "   [50.573208, 44.233017],\n",
       "   [50.551835, 44.211044],\n",
       "   [50.536563, 44.173965],\n",
       "   [50.526087, 44.12384],\n",
       "   [50.519539, 44.103928],\n",
       "   [50.517793, 44.072342],\n",
       "   [50.51037, 44.022217],\n",
       "   [50.502509, 44.01329],\n",
       "   [50.488969, 43.958359],\n",
       "   [50.477172, 43.845062],\n",
       "   [50.46947, 43.83176],\n",
       "   [50.470617, 43.80455],\n",
       "   [50.457941, 43.782578],\n",
       "   [50.393637, 43.588943],\n",
       "   [50.376124, 43.550491],\n",
       "   [50.312585, 43.345871],\n",
       "   [50.288901, 43.134384],\n",
       "   [50.281881, 43.012161],\n",
       "   [50.285391, 42.992249],\n",
       "   [50.276615, 42.923584],\n",
       "   [50.269155, 42.913971],\n",
       "   [50.27091, 42.900925],\n",
       "   [50.237105, 42.746429],\n",
       "   [50.223049, 42.71553],\n",
       "   [50.2174, 42.69342],\n",
       "   [50.202396, 42.611847],\n",
       "   [50.18789, 42.595367],\n",
       "   [50.164584, 42.541122],\n",
       "   [50.156226, 42.531509],\n",
       "   [50.154026, 42.51915],\n",
       "   [50.148306, 42.517776],\n",
       "   [50.137305, 42.462158],\n",
       "   [50.117056, 42.407913],\n",
       "   [50.110451, 42.393494],\n",
       "   [50.073888, 42.249985],\n",
       "   [50.075651, 42.239685],\n",
       "   [50.065955, 42.211533],\n",
       "   [50.066396, 42.1875],\n",
       "   [50.05802, 42.142181],\n",
       "   [50.03862, 42.112656],\n",
       "   [50.028475, 42.087936],\n",
       "   [50.000236, 41.992493],\n",
       "   [49.987877, 41.985626],\n",
       "   [49.978163, 41.96846],\n",
       "   [49.95608, 41.945801],\n",
       "   [49.95122, 41.91437],\n",
       "   [49.929566, 41.846237],\n",
       "   [49.919399, 41.787186],\n",
       "   [49.920725, 41.759033],\n",
       "   [49.882247, 41.695862],\n",
       "   [49.871628, 41.696548],\n",
       "   [49.863218, 41.682129],\n",
       "   [49.862776, 41.666336],\n",
       "   [49.827796, 41.615524],\n",
       "   [49.819822, 41.615524],\n",
       "   [49.796336, 41.585999],\n",
       "   [49.795007, 41.578445],\n",
       "   [49.780821, 41.55304],\n",
       "   [49.784368, 41.426697],\n",
       "   [49.748887, 41.339493],\n",
       "   [49.721816, 41.31752],\n",
       "   [49.707608, 41.287994],\n",
       "   [49.687622, 41.274261],\n",
       "   [49.667628, 41.22757],\n",
       "   [49.672516, 41.075134],\n",
       "   [49.66577, 40.99472],\n",
       "   [49.65296, 40.938492],\n",
       "   [49.658294, 40.911713],\n",
       "   [49.658739, 40.823822],\n",
       "   [49.649848, 40.805283],\n",
       "   [49.649848, 40.767517],\n",
       "   [49.638733, 40.718079],\n",
       "   [49.624501, 40.697479],\n",
       "   [49.597805, 40.631561],\n",
       "   [49.561298, 40.617142],\n",
       "   [49.535459, 40.55809],\n",
       "   [49.538578, 40.510712],\n",
       "   [49.528774, 40.489426],\n",
       "   [49.530111, 40.462646],\n",
       "   [49.518968, 40.429688],\n",
       "   [49.475263, 40.396042],\n",
       "   [49.473479, 40.310898],\n",
       "   [49.465, 40.288239],\n",
       "   [49.465, 40.262146],\n",
       "   [49.44161, 40.20775],\n",
       "   [49.40259, 40.06874],\n",
       "   [49.374549, 40.041389],\n",
       "   [49.36829, 39.973412],\n",
       "   [49.344809, 39.893761],\n",
       "   [49.319975, 39.826813],\n",
       "   [49.309904, 39.748535],\n",
       "   [49.284828, 39.690857],\n",
       "   [49.24719, 39.611206],\n",
       "   [49.201448, 39.445038],\n",
       "   [49.154317, 39.304276],\n",
       "   [49.063069, 39.197159],\n",
       "   [48.975259, 39.141541],\n",
       "   [48.933326, 38.82019],\n",
       "   [48.962638, 38.642349],\n",
       "   [48.89813, 38.453522],\n",
       "   [48.80505, 38.35786]]},\n",
       " 'properties': {'balloonContentHeader': '<div style=\"display: flex; justify-content: space-between; align-items: center; gap: 15px;\">\\n        Трубопровод\\n        <a href=\"https://energybase.ru/midstream/transneft\"><img src=\"https://storage.energybase.ru/thumbnails/100x/14/1012672.png\" alt=\"ПАО «Транснефть»\"></a>\\n    </div>',\n",
       "  'balloonContentBody': '<table><tr><td>Протяженность&nbsp;</td><td>1\\xa0111&nbsp;<small>км</small></td></tr><tr><td>Мощность&nbsp;</td><td>82&nbsp;<small>млн. тонн/год</small></td></tr><tr><td>Давление&nbsp;</td><td>5.50&nbsp;<small>МПа</small></td></tr></table>',\n",
       "  'balloonContentFooter': '',\n",
       "  'clusterCaption': 'Нефтепровод  Куйбышев - Лисичанск'},\n",
       " 'options': {'hideIconOnBalloonOpen': True,\n",
       "  'iconLayout': 'default#image',\n",
       "  'iconImageHref': 'https://energybase.ru/images/map-icons/pipeline/oil.svg',\n",
       "  'iconImageSize': [33, 40],\n",
       "  'iconImageOffset': [-15, -40],\n",
       "  'draggable': False,\n",
       "  'strokeWidth': 6,\n",
       "  'strokeColor': '#C0A172',\n",
       "  'strokeStyle': 'solid'}}"
      ]
     },
     "execution_count": 81,
     "metadata": {},
     "output_type": "execute_result"
    }
   ],
   "source": [
    "lines[x[0][0]]"
   ]
  },
  {
   "cell_type": "code",
   "execution_count": 82,
   "id": "35f3aedf",
   "metadata": {
    "ExecuteTime": {
     "end_time": "2023-02-13T14:16:26.404872Z",
     "start_time": "2023-02-13T14:16:26.396608Z"
    }
   },
   "outputs": [],
   "source": [
    "x=np.argwhere(np.array(keke)=='Pipeline209')"
   ]
  },
  {
   "cell_type": "code",
   "execution_count": 83,
   "id": "17921a24",
   "metadata": {
    "ExecuteTime": {
     "end_time": "2023-02-13T14:16:27.995407Z",
     "start_time": "2023-02-13T14:16:27.987244Z"
    }
   },
   "outputs": [
    {
     "data": {
      "text/plain": [
       "{'id': 'Pipeline209',\n",
       " 'type': 'Feature',\n",
       " 'geometry': {'type': 'LineString',\n",
       "  'coordinates': [[55.97819, 93.2731],\n",
       "   [55.87747, 93.370743],\n",
       "   [55.889195, 93.486786],\n",
       "   [55.878815, 93.521805],\n",
       "   [55.875355, 93.588753],\n",
       "   [55.848815, 93.675957],\n",
       "   [55.818021, 93.725052],\n",
       "   [55.80974, 93.78891],\n",
       "   [55.823219, 93.864098],\n",
       "   [55.81571, 93.921776],\n",
       "   [55.816095, 93.98838],\n",
       "   [55.777181, 94.299774],\n",
       "   [55.764458, 94.332047],\n",
       "   [55.765422, 94.376335],\n",
       "   [55.720666, 94.55658],\n",
       "   [55.711207, 94.709702],\n",
       "   [55.726649, 94.752274],\n",
       "   [55.72291, 94.79794],\n",
       "   [55.730316, 94.909515],\n",
       "   [55.86151, 95.151901],\n",
       "   [55.911482, 95.381241],\n",
       "   [55.93606, 95.465698],\n",
       "   [55.943929, 95.516167],\n",
       "   [56.013914, 95.581055],\n",
       "   [56.043022, 95.646286],\n",
       "   [56.132503, 95.833054],\n",
       "   [56.136322, 96.009521],\n",
       "   [56.128683, 96.268387],\n",
       "   [56.156558, 96.479874],\n",
       "   [56.12113, 96.65656],\n",
       "   [56.103081, 96.822166],\n",
       "   [56.059289, 96.912117],\n",
       "   [56.060628, 97.041206],\n",
       "   [56.078036, 97.169609],\n",
       "   [56.073063, 97.287369],\n",
       "   [56.065985, 97.398605],\n",
       "   [56.041873, 97.526321],\n",
       "   [56.001844, 97.712746],\n",
       "   [55.912442, 97.833939],\n",
       "   [55.83794, 97.96779],\n",
       "   [55.72711, 98.139877],\n",
       "   [55.69984, 98.285446],\n",
       "   [55.579703, 98.496589],\n",
       "   [55.515803, 98.553238],\n",
       "   [55.4481, 98.547401],\n",
       "   [55.424143, 98.564567],\n",
       "   [55.399976, 98.553581],\n",
       "   [55.38501, 98.55131],\n",
       "   [55.365844, 98.549118],\n",
       "   [55.348279, 98.560791],\n",
       "   [55.305897, 98.603706],\n",
       "   [55.275986, 98.626022],\n",
       "   [55.242531, 98.630829],\n",
       "   [55.147685, 98.68164],\n",
       "   [55.144742, 98.692627],\n",
       "   [55.054383, 98.751678],\n",
       "   [54.996524, 98.747902],\n",
       "   [54.82612, 98.90836],\n",
       "   [54.77499, 98.969688],\n",
       "   [54.785861, 99.208984],\n",
       "   [54.719997, 99.381675],\n",
       "   [54.701385, 99.487419],\n",
       "   [54.668893, 99.529304],\n",
       "   [54.602044, 99.678306],\n",
       "   [54.580995, 99.854088],\n",
       "   [54.586556, 100.036735],\n",
       "   [54.568082, 100.101967],\n",
       "   [54.544828, 100.178184],\n",
       "   [54.54197, 100.48456],\n",
       "   [54.544033, 100.533523],\n",
       "   [54.468016, 100.597381],\n",
       "   [54.449886, 100.686989],\n",
       "   [54.442711, 100.798912],\n",
       "   [54.402432, 100.928001],\n",
       "   [54.347532, 101.213989],\n",
       "   [54.280754, 101.40007],\n",
       "   [54.0513, 101.80033],\n",
       "   [53.96157, 101.842613],\n",
       "   [53.742815, 102.004661],\n",
       "   [53.561611, 102.188682],\n",
       "   [53.32807, 102.602043],\n",
       "   [53.266203, 102.693367],\n",
       "   [53.077182, 102.780571],\n",
       "   [52.942924, 102.868461],\n",
       "   [52.845113, 103.11222],\n",
       "   [52.772595, 103.33744],\n",
       "   [52.684581, 103.479576],\n",
       "   [52.492995, 103.726082],\n",
       "   [52.370107, 103.897743],\n",
       "   [52.303084, 104.022712],\n",
       "   [52.328625, 104.236908]]},\n",
       " 'properties': {'balloonContentHeader': '<div style=\"display: flex; justify-content: space-between; align-items: center; gap: 15px;\">\\n        Трубопровод\\n        <a href=\"https://energybase.ru/midstream/transneft\"><img src=\"https://storage.energybase.ru/thumbnails/100x/14/1012672.png\" alt=\"ПАО «Транснефть»\"></a>\\n    </div>',\n",
       "  'balloonContentBody': '<table><tr><td>Протяженность&nbsp;</td><td>660&nbsp;<small>км</small></td></tr><tr><td>Мощность&nbsp;</td><td>40.20&nbsp;<small>млн. тонн/год</small></td></tr></table>',\n",
       "  'balloonContentFooter': '',\n",
       "  'clusterCaption': 'Нефтепровод Красноярск - Иркутск'},\n",
       " 'options': {'hideIconOnBalloonOpen': True,\n",
       "  'iconLayout': 'default#image',\n",
       "  'iconImageHref': 'https://energybase.ru/images/map-icons/pipeline/oil.svg',\n",
       "  'iconImageSize': [33, 40],\n",
       "  'iconImageOffset': [-15, -40],\n",
       "  'draggable': False,\n",
       "  'strokeWidth': 6,\n",
       "  'strokeColor': '#C0A172',\n",
       "  'strokeStyle': 'solid'}}"
      ]
     },
     "execution_count": 83,
     "metadata": {},
     "output_type": "execute_result"
    }
   ],
   "source": [
    "lines[x[0][0]]"
   ]
  },
  {
   "cell_type": "code",
   "execution_count": 84,
   "id": "3459560d",
   "metadata": {
    "ExecuteTime": {
     "end_time": "2023-02-13T14:16:53.241662Z",
     "start_time": "2023-02-13T14:16:53.238855Z"
    }
   },
   "outputs": [],
   "source": [
    "x = np.argwhere(np.array(keke)=='CompressorStation373')"
   ]
  },
  {
   "cell_type": "code",
   "execution_count": 85,
   "id": "d5847e97",
   "metadata": {
    "ExecuteTime": {
     "end_time": "2023-02-13T14:16:54.915159Z",
     "start_time": "2023-02-13T14:16:54.908870Z"
    }
   },
   "outputs": [
    {
     "data": {
      "text/plain": [
       "{'id': 'CompressorStation373',\n",
       " 'type': 'Feature',\n",
       " 'geometry': {'type': 'Point', 'coordinates': [55.820392, 53.835218]},\n",
       " 'properties': {'balloonContentHeader': '<div style=\"display: flex; justify-content: space-between; align-items: center; gap: 15px;\">\\n        Промежуточная нефтеперекачивающая станция (ПНПС)\\n        <a href=\"https://energybase.ru/midstream/kama-transneft\"><img src=\"https://storage.energybase.ru/thumbnails/100x/14/1012686.png\" alt=\"АО «Транснефть – Прикамье»\"></a>\\n    </div>',\n",
       "  'balloonContentBody': '<table><tr><td colspan=\"2\">Направление поставок (объекты трубопроводного транспорта)<br><a href=\"https://energybase.ru/compressor-station/ops-muslyumovo\">НПС Муслюмово</a></td></tr><tr><td colspan=\"2\">Источники поставок (объекты трубопроводного транспорта)<br><a href=\"https://energybase.ru/compressor-station/ops-uralskaya\">НПС Уральская</a></td></tr></table>',\n",
       "  'balloonContentFooter': 'Россия, Ижевск',\n",
       "  'clusterCaption': 'НПС Белая'},\n",
       " 'options': {'hideIconOnBalloonOpen': True,\n",
       "  'iconLayout': 'default#image',\n",
       "  'iconImageHref': 'https://energybase.ru/images/map-icons/compressor-station/cs-oil-brown.svg',\n",
       "  'iconImageSize': [33, 40],\n",
       "  'iconImageOffset': [-15, -40]}}"
      ]
     },
     "execution_count": 85,
     "metadata": {},
     "output_type": "execute_result"
    }
   ],
   "source": [
    "lines[x[0][0]]"
   ]
  }
 ],
 "metadata": {
  "hide_input": false,
  "kernelspec": {
   "display_name": "Python 3 (ipykernel)",
   "language": "python",
   "name": "python3"
  },
  "language_info": {
   "codemirror_mode": {
    "name": "ipython",
    "version": 3
   },
   "file_extension": ".py",
   "mimetype": "text/x-python",
   "name": "python",
   "nbconvert_exporter": "python",
   "pygments_lexer": "ipython3",
   "version": "3.10.7"
  },
  "latex_envs": {
   "LaTeX_envs_menu_present": true,
   "autoclose": true,
   "autocomplete": true,
   "bibliofile": "biblio.bib",
   "cite_by": "apalike",
   "current_citInitial": 1,
   "eqLabelWithNumbers": true,
   "eqNumInitial": 1,
   "hotkeys": {
    "equation": "Ctrl-E",
    "itemize": "Ctrl-I"
   },
   "labels_anchors": false,
   "latex_user_defs": false,
   "report_style_numbering": false,
   "user_envs_cfg": false
  },
  "toc": {
   "base_numbering": 1,
   "nav_menu": {},
   "number_sections": true,
   "sideBar": true,
   "skip_h1_title": false,
   "title_cell": "Table of Contents",
   "title_sidebar": "Contents",
   "toc_cell": false,
   "toc_position": {},
   "toc_section_display": true,
   "toc_window_display": false
  },
  "varInspector": {
   "cols": {
    "lenName": 16,
    "lenType": 16,
    "lenVar": 40
   },
   "kernels_config": {
    "python": {
     "delete_cmd_postfix": "",
     "delete_cmd_prefix": "del ",
     "library": "var_list.py",
     "varRefreshCmd": "print(var_dic_list())"
    },
    "r": {
     "delete_cmd_postfix": ") ",
     "delete_cmd_prefix": "rm(",
     "library": "var_list.r",
     "varRefreshCmd": "cat(var_dic_list()) "
    }
   },
   "types_to_exclude": [
    "module",
    "function",
    "builtin_function_or_method",
    "instance",
    "_Feature"
   ],
   "window_display": false
  }
 },
 "nbformat": 4,
 "nbformat_minor": 5
}
