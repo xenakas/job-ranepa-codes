{
 "cells": [
  {
   "cell_type": "code",
   "execution_count": 1,
   "metadata": {},
   "outputs": [],
   "source": [
    "import requests\n",
    "from bs4 import BeautifulSoup\n",
    "import pandas as pd\n",
    "from fake_useragent import UserAgent\n",
    "import re\n",
    "import json"
   ]
  },
  {
   "cell_type": "code",
   "execution_count": 2,
   "metadata": {},
   "outputs": [],
   "source": [
    "import warnings\n",
    "warnings.filterwarnings('ignore')"
   ]
  },
  {
   "cell_type": "markdown",
   "metadata": {},
   "source": [
    "# Test"
   ]
  },
  {
   "cell_type": "code",
   "execution_count": 157,
   "metadata": {},
   "outputs": [],
   "source": [
    "page_link = 'https://www.ipaddress.com/proxy-list/'\n",
    "headers = {\n",
    "        'User-Agent': 'Mozilla/5.0 (Macintosh; Intel Mac OS X 10.9; rv:45.0) Gecko/20100101 Firefox/45.0'\n",
    "      }\n",
    "response = requests.get(page_link, headers = headers)\n",
    "proxy_df = pd.read_html(response.content)[0]\n",
    "\n",
    "ha_proxy = proxy_df[proxy_df['Type']=='highly-anonymous']['Proxy'].values\n",
    "tr_proxy = proxy_df[proxy_df['Type']=='transparent']['Proxy'].values"
   ]
  },
  {
   "cell_type": "code",
   "execution_count": 164,
   "metadata": {},
   "outputs": [],
   "source": [
    "# url = 'https://energybase.ru/pipeline/espo-1-taishet-skovorodino'\n",
    "ua = UserAgent()\n",
    "headers = {'User-Agent': ua.random}\n",
    "print(headers)\n",
    "proxy = {'http':'http://' + ha_proxy[5]}\n",
    "print(proxy)\n",
    "response = requests.get(link, headers = headers, proxies=proxy)"
   ]
  },
  {
   "cell_type": "code",
   "execution_count": 170,
   "metadata": {},
   "outputs": [],
   "source": [
    "driver.quit()"
   ]
  },
  {
   "cell_type": "markdown",
   "metadata": {},
   "source": [
    "# get all pipelins"
   ]
  },
  {
   "cell_type": "code",
   "execution_count": 5,
   "metadata": {},
   "outputs": [],
   "source": [
    "from selenium import webdriver\n",
    "from selenium.webdriver.common.by import By\n",
    "# import chromedriver_autoinstaller # pip install chromedriver-autoinstaller\n",
    "\n",
    "# chromedriver_autoinstaller.install() # To update your chromedriver automatically\n",
    "# driver = webdriver.Chrome()\n",
    "driver = webdriver.Chrome()\n",
    "\n",
    "# Get free proxies for rotating\n",
    "def get_free_proxies(driver):\n",
    "    driver.get('https://sslproxies.org')\n",
    "\n",
    "    table = driver.find_element(By.TAG_NAME, 'table')\n",
    "    thead = table.find_element(By.TAG_NAME, 'thead').find_elements(By.TAG_NAME, 'th')\n",
    "    tbody = table.find_element(By.TAG_NAME, 'tbody').find_elements(By.TAG_NAME, 'tr')\n",
    "\n",
    "    headers = []\n",
    "    for th in thead:\n",
    "        headers.append(th.text.strip())\n",
    "\n",
    "    proxies = []\n",
    "    for tr in tbody:\n",
    "        proxy_data = {}\n",
    "        tds = tr.find_elements(By.TAG_NAME, 'td')\n",
    "        for i in range(len(headers)):\n",
    "            proxy_data[headers[i]] = tds[i].text.strip()\n",
    "        proxies.append(proxy_data)\n",
    "    \n",
    "    return proxies\n",
    "\n",
    "\n",
    "free_proxies = get_free_proxies(driver)"
   ]
  },
  {
   "cell_type": "code",
   "execution_count": 6,
   "metadata": {},
   "outputs": [],
   "source": [
    "driver.quit()"
   ]
  },
  {
   "cell_type": "code",
   "execution_count": 9,
   "metadata": {},
   "outputs": [],
   "source": [
    "from selenium.webdriver.chrome.options import Options"
   ]
  },
  {
   "cell_type": "code",
   "execution_count": 49,
   "metadata": {},
   "outputs": [
    {
     "data": {
      "text/plain": [
       "{'IP Address': '201.229.250.19',\n",
       " 'Port': '8080',\n",
       " 'Code': 'DO',\n",
       " 'Country': 'Dominican Republic',\n",
       " 'Anonymity': 'elite proxy',\n",
       " 'Google': 'no',\n",
       " 'Https': 'yes',\n",
       " 'Last Checked': '22 secs ago'}"
      ]
     },
     "execution_count": 49,
     "metadata": {},
     "output_type": "execute_result"
    }
   ],
   "source": [
    "prx = free_proxies[1]\n",
    "prx"
   ]
  },
  {
   "cell_type": "code",
   "execution_count": 47,
   "metadata": {},
   "outputs": [],
   "source": [
    "PROXY = prx['IP Address'] + ':' + prx['Port']"
   ]
  },
  {
   "cell_type": "code",
   "execution_count": 48,
   "metadata": {},
   "outputs": [],
   "source": [
    "ua = UserAgent()\n",
    "userAgent = ua.random\n",
    "options = Options()\n",
    "# options.add_argument('--headless')\n",
    "options.add_experimental_option ('excludeSwitches', ['enable-logging'])\n",
    "options.add_argument(\"start-maximized\")\n",
    "options.add_argument('window-size=1920x1080')                                 \n",
    "options.add_argument('--no-sandbox')\n",
    "options.add_argument('--disable-gpu')  \n",
    "options.add_argument(f'user-agent={userAgent}') \n",
    "options.add_argument('--proxy-server={}'.format(PROXY))\n",
    "\n",
    "\n",
    "driver = webdriver.Chrome(options=options)\n",
    "driver.get('https://energybase.ru/pipeline/oil-pipeline')\n",
    "ps = driver.page_source\n",
    "soup = BeautifulSoup(ps,'html.parser')"
   ]
  },
  {
   "cell_type": "code",
   "execution_count": 50,
   "metadata": {},
   "outputs": [],
   "source": [
    "driver.quit()"
   ]
  },
  {
   "cell_type": "code",
   "execution_count": null,
   "metadata": {},
   "outputs": [],
   "source": []
  },
  {
   "cell_type": "code",
   "execution_count": 84,
   "metadata": {},
   "outputs": [],
   "source": [
    "dict_links_pl = {}\n",
    "\n",
    "\n",
    "for link in range(1,6):\n",
    "    driver = webdriver.Chrome(chrome_options=chrome_options)\n",
    "    link = f'https://energybase.ru/pipeline/oil-pipeline?page={link}'\n",
    "    driver.get(link)\n",
    "    ps = driver.page_source\n",
    "    soup = BeautifulSoup(ps,'html.parser')\n",
    "\n",
    "    tab_1 = soup.find_all('div',class_=\"object-card__header\")\n",
    "    for el in tab_1:\n",
    "        my_val = el.contents[2].find('a', href=True).get('href')\n",
    "        my_key = el.contents[2].find('a', href=True).text\n",
    "        dict_links_pl[my_key] = my_val\n",
    "\n",
    "    driver.quit()\n",
    "\n",
    "with open('data/piple_href.json', 'w') as fp:\n",
    "    json.dump(dict_links_pl, fp)"
   ]
  },
  {
   "cell_type": "code",
   "execution_count": 85,
   "metadata": {},
   "outputs": [],
   "source": [
    "dict_links_pl = json.load(open('data/piple_href.json'))"
   ]
  },
  {
   "cell_type": "markdown",
   "metadata": {},
   "source": [
    "# get data pipeline"
   ]
  },
  {
   "cell_type": "code",
   "execution_count": 51,
   "metadata": {},
   "outputs": [],
   "source": [
    "from selenium import webdriver\n",
    "\n",
    "chrome_options = webdriver.ChromeOptions()\n",
    "chrome_options.add_argument(\"--incognito\")\n",
    "# s = Service('/Users/vladimirkosarev/my_selenium/chromedriver')\n",
    "# driver = webdriver.Chrome(service=s, options=chrome_options)\n",
    "driver = webdriver.Chrome(chrome_options=chrome_options)\n",
    "\n",
    "p1 = list(dict_links_pl.keys())[1]\n",
    "pl_ref = dict_links_pl[p1]\n",
    "\n",
    "# driver.get('https://energybase.ru/pipeline/espo-1-taishet-skovorodino')\n",
    "driver.get(pl_ref)\n",
    "ps = driver.page_source"
   ]
  },
  {
   "cell_type": "code",
   "execution_count": 105,
   "metadata": {},
   "outputs": [],
   "source": [
    "soup = BeautifulSoup(ps,'html.parser')"
   ]
  },
  {
   "cell_type": "code",
   "execution_count": 115,
   "metadata": {},
   "outputs": [
    {
     "name": "stdout",
     "output_type": "stream",
     "text": [
      "{'Нефтепровод КТК Тенгиз - Новороссийск': [{'Протяженность': '1560 км', 'Мощность': '43 млн. тонн/год', 'Тип в зависимости от транспортируемой среды': 'Нефтепровод', 'Диаметр труб': '1020 мм'}, {'ID объекта': 'eb#pipe00035', 'Компания': 'АО \"Каспийский трубопроводный консорциум-Р\" (КТК-Р)'}, {'Давление': '6 МПа', 'Год начала строительства': '1992 ', 'Год ввода в эксплуатацию': '2001 ', 'Состояние': 'в эксплуатации ', 'Тип в зависимости от вида прокладки': 'Подземный '}]}\n"
     ]
    }
   ],
   "source": [
    "st_info_0, st_info_1, st_info_2, st_info_3 = {}, {}, {}, {}\n",
    "\n",
    "tab_1 = soup.find('div',class_=\"object-presentation-card__items\").contents\n",
    "for el in tab_1:\n",
    "    try:\n",
    "        st_info_1[el.contents[0].text] = el.contents[1].text\n",
    "    except:\n",
    "        st_info_1[el.contents[0].text] = el.contents[1]\n",
    "\n",
    "tab_2 = soup.find('div',class_=\"col object-presentation-card__items\").contents\n",
    "for el in tab_2:\n",
    "    try:\n",
    "        st_info_2[el.contents[0].text] = el.contents[1].text\n",
    "    except:\n",
    "        st_info_2[el.contents[0].text] = el.contents[1]\n",
    "\n",
    "tab_3 = soup.find_all('div', class_=\"secondary-properties-widget__row\")\n",
    "for el in tab_3:\n",
    "    try:\n",
    "        st_info_3[el.contents[0]] = el.contents[2].text\n",
    "    except:\n",
    "        st_info_3[el.contents[0]] = el.contents[2]\n",
    "\n",
    "st_info_0[soup.find('title').text] = [st_info_1, st_info_2, st_info_3]\n",
    "\n",
    "print(st_info_0)"
   ]
  },
  {
   "cell_type": "code",
   "execution_count": 139,
   "metadata": {},
   "outputs": [],
   "source": [
    "headers_dict = {'headers':[st_info_0, st_info_1, st_info_2, st_info_3]}"
   ]
  },
  {
   "cell_type": "code",
   "execution_count": 129,
   "metadata": {},
   "outputs": [],
   "source": [
    "list_st = []\n",
    "for card in soup.find_all('div',class_='object-card'):\n",
    "    list_st.append(card.find('div',class_='object-card__title').a.get('href'))"
   ]
  },
  {
   "cell_type": "code",
   "execution_count": 130,
   "metadata": {},
   "outputs": [
    {
     "data": {
      "text/plain": [
       "15"
      ]
     },
     "execution_count": 130,
     "metadata": {},
     "output_type": "execute_result"
    }
   ],
   "source": [
    "len(list_st)"
   ]
  },
  {
   "cell_type": "code",
   "execution_count": 131,
   "metadata": {},
   "outputs": [],
   "source": [
    "# list_st"
   ]
  },
  {
   "cell_type": "code",
   "execution_count": 132,
   "metadata": {},
   "outputs": [],
   "source": [
    "chrome_options = webdriver.ChromeOptions()\n",
    "chrome_options.add_argument(\"--incognito\")\n",
    "# s = Service('/Users/vladimirkosarev/my_selenium/chromedriver')\n",
    "# driver = webdriver.Chrome(service=s, options=chrome_options)"
   ]
  },
  {
   "cell_type": "code",
   "execution_count": 52,
   "metadata": {},
   "outputs": [],
   "source": [
    "list_md = []\n",
    "for link in list_st[13:]:\n",
    "    driver = webdriver.Chrome(chrome_options=chrome_options)\n",
    "    driver.get(link)\n",
    "    ps = driver.page_source\n",
    "\n",
    "    soup = BeautifulSoup(ps,'html.parser')\n",
    "\n",
    "    md_0, md_1, md_2, md_3 = {}, {}, {}, {}\n",
    "\n",
    "    tab_1 = soup.find('div',class_=\"object-presentation-card__items\").contents\n",
    "    for el in tab_1:\n",
    "        try:\n",
    "            md_1[el.contents[0].text] = el.contents[1].text\n",
    "        except:\n",
    "            md_1[el.contents[0].text] = el.contents[1]\n",
    "\n",
    "    tab_2 = soup.find('div',class_=\"col object-presentation-card__items\").contents\n",
    "    for el in tab_2:\n",
    "        try:\n",
    "            md_2[el.contents[0].text] = el.contents[1].text\n",
    "        except:\n",
    "            md_2[el.contents[0].text] = el.contents[1]\n",
    "\n",
    "    tab_3 = soup.find_all('div', class_=\"secondary-properties-widget__row\")\n",
    "    for el in tab_3:\n",
    "        try:\n",
    "            md_3[el.contents[0]] = el.contents[2].text\n",
    "        except:\n",
    "            md_3[el.contents[0]] = el.contents[2]\n",
    "\n",
    "    md_0[soup.find('title').text] = [md_1, md_2, md_3]\n",
    "\n",
    "    print(md_0)\n",
    "    list_md.append(md_0)\n",
    "\n",
    "    driver.quit()"
   ]
  },
  {
   "cell_type": "code",
   "execution_count": 140,
   "metadata": {},
   "outputs": [],
   "source": [
    "pipeline_dict = {'items':list_md}\n",
    "dict_to_json = {p1:[headers_dict, pipeline_dict]}"
   ]
  },
  {
   "cell_type": "code",
   "execution_count": 256,
   "metadata": {},
   "outputs": [],
   "source": [
    "with open('data/transneft_vostok.json', 'w') as fp:\n",
    "    json.dump(pipeline_dict, fp)"
   ]
  },
  {
   "cell_type": "markdown",
   "metadata": {},
   "source": [
    "# Opening JSON file"
   ]
  },
  {
   "cell_type": "code",
   "execution_count": 33,
   "metadata": {},
   "outputs": [],
   "source": [
    "f = open('data/transneft_vostok.json')\n",
    "m_dict = json.load(f)"
   ]
  },
  {
   "cell_type": "code",
   "execution_count": 1,
   "metadata": {},
   "outputs": [],
   "source": [
    "# m_dict to df\n",
    "\n",
    "key = []\n",
    "val = []\n",
    "for di in m_dict['Транснефть – Восток']:\n",
    "\n",
    "    key.append(list(di.keys())[0])\n",
    "    val.append(list(di.values())[0][1])\n",
    "\n",
    "df = pd.DataFrame.from_dict(val)\n",
    "df['name'] = key\n",
    "\n",
    "\n",
    "\n",
    "df['coord'] = df['Координаты'].apply(lambda x: re.findall(\"\\d+\\.\\d+\",x))\n",
    "\n",
    "df"
   ]
  },
  {
   "cell_type": "code",
   "execution_count": null,
   "metadata": {},
   "outputs": [],
   "source": []
  }
 ],
 "metadata": {
  "hide_input": false,
  "kernelspec": {
   "display_name": "Python 3",
   "language": "python",
   "name": "python3"
  },
  "language_info": {
   "codemirror_mode": {
    "name": "ipython",
    "version": 3
   },
   "file_extension": ".py",
   "mimetype": "text/x-python",
   "name": "python",
   "nbconvert_exporter": "python",
   "pygments_lexer": "ipython3",
   "version": "3.7.0"
  },
  "toc": {
   "base_numbering": 1,
   "nav_menu": {},
   "number_sections": true,
   "sideBar": true,
   "skip_h1_title": false,
   "title_cell": "Table of Contents",
   "title_sidebar": "Contents",
   "toc_cell": false,
   "toc_position": {},
   "toc_section_display": true,
   "toc_window_display": true
  },
  "varInspector": {
   "cols": {
    "lenName": 16,
    "lenType": 16,
    "lenVar": 40
   },
   "kernels_config": {
    "python": {
     "delete_cmd_postfix": "",
     "delete_cmd_prefix": "del ",
     "library": "var_list.py",
     "varRefreshCmd": "print(var_dic_list())"
    },
    "r": {
     "delete_cmd_postfix": ") ",
     "delete_cmd_prefix": "rm(",
     "library": "var_list.r",
     "varRefreshCmd": "cat(var_dic_list()) "
    }
   },
   "types_to_exclude": [
    "module",
    "function",
    "builtin_function_or_method",
    "instance",
    "_Feature"
   ],
   "window_display": false
  }
 },
 "nbformat": 4,
 "nbformat_minor": 2
}
