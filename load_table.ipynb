{
 "cells": [
  {
   "cell_type": "code",
   "execution_count": 1,
   "id": "8cee7879",
   "metadata": {
    "ExecuteTime": {
     "end_time": "2021-11-29T06:23:10.643462Z",
     "start_time": "2021-11-29T06:23:10.282539Z"
    }
   },
   "outputs": [],
   "source": [
    "import pandas as pd"
   ]
  },
  {
   "cell_type": "code",
   "execution_count": 49,
   "id": "89fe7999",
   "metadata": {
    "ExecuteTime": {
     "end_time": "2021-11-29T06:44:30.840786Z",
     "start_time": "2021-11-29T06:44:30.164517Z"
    }
   },
   "outputs": [],
   "source": [
    "url = 'https://www.economy.gov.ru/material/directions/vneshneekonomicheskaya_deyatelnost/tamozhenno_tarifnoe_regulirovanie/o_vyvoznyh_tamozhennyh_poshlinah_na_neft_i_otdelnye_kategorii_tovarov_vyrabotannyh_iz_nefti_na_period_s_1_po_31_dekabrya_2021_goda.html'\n",
    "d1 = pd.read_html(url)[1].iloc[:,1:]\n",
    "d2 = pd.read_html(url)[0].T\n",
    "d1.columns = ['Наименование позиции', 'Декабрь 2021']\n",
    "d2.columns = ['Наименование позиции', 'Декабрь 2021']\n",
    "d21 = d1.append(d2)"
   ]
  },
  {
   "cell_type": "code",
   "execution_count": 59,
   "id": "929c65e8",
   "metadata": {
    "ExecuteTime": {
     "end_time": "2021-11-29T06:52:51.049954Z",
     "start_time": "2021-11-29T06:52:51.035921Z"
    }
   },
   "outputs": [
    {
     "data": {
      "text/html": [
       "<div>\n",
       "<style scoped>\n",
       "    .dataframe tbody tr th:only-of-type {\n",
       "        vertical-align: middle;\n",
       "    }\n",
       "\n",
       "    .dataframe tbody tr th {\n",
       "        vertical-align: top;\n",
       "    }\n",
       "\n",
       "    .dataframe thead th {\n",
       "        text-align: right;\n",
       "    }\n",
       "</style>\n",
       "<table border=\"1\" class=\"dataframe\">\n",
       "  <thead>\n",
       "    <tr style=\"text-align: right;\">\n",
       "      <th></th>\n",
       "      <th>Наименование позиции</th>\n",
       "      <th>Декабрь 2021</th>\n",
       "    </tr>\n",
       "  </thead>\n",
       "  <tbody>\n",
       "    <tr>\n",
       "      <th>0</th>\n",
       "      <td>нефть сырая</td>\n",
       "      <td>775</td>\n",
       "    </tr>\n",
       "    <tr>\n",
       "      <th>1</th>\n",
       "      <td>прямогонный бензин</td>\n",
       "      <td>426</td>\n",
       "    </tr>\n",
       "    <tr>\n",
       "      <th>2</th>\n",
       "      <td>тримеры и тетрамеры пропилена</td>\n",
       "      <td>50</td>\n",
       "    </tr>\n",
       "    <tr>\n",
       "      <th>3</th>\n",
       "      <td>легкие дистилляты; средние дистилляты</td>\n",
       "      <td>232</td>\n",
       "    </tr>\n",
       "    <tr>\n",
       "      <th>4</th>\n",
       "      <td>дизельное топливо</td>\n",
       "      <td>232</td>\n",
       "    </tr>\n",
       "    <tr>\n",
       "      <th>5</th>\n",
       "      <td>бензины товарные</td>\n",
       "      <td>232</td>\n",
       "    </tr>\n",
       "    <tr>\n",
       "      <th>6</th>\n",
       "      <td>бензол</td>\n",
       "      <td>232</td>\n",
       "    </tr>\n",
       "    <tr>\n",
       "      <th>7</th>\n",
       "      <td>толуол</td>\n",
       "      <td>232</td>\n",
       "    </tr>\n",
       "    <tr>\n",
       "      <th>8</th>\n",
       "      <td>ксилолы</td>\n",
       "      <td>232</td>\n",
       "    </tr>\n",
       "    <tr>\n",
       "      <th>9</th>\n",
       "      <td>мазут</td>\n",
       "      <td>775</td>\n",
       "    </tr>\n",
       "    <tr>\n",
       "      <th>10</th>\n",
       "      <td>масла смазочные; прочие</td>\n",
       "      <td>232</td>\n",
       "    </tr>\n",
       "    <tr>\n",
       "      <th>11</th>\n",
       "      <td>отработанные нефтепродукты</td>\n",
       "      <td>775</td>\n",
       "    </tr>\n",
       "    <tr>\n",
       "      <th>12</th>\n",
       "      <td>сжиженные углеводородные газы</td>\n",
       "      <td>1688</td>\n",
       "    </tr>\n",
       "    <tr>\n",
       "      <th>13</th>\n",
       "      <td>вазелин и парафин, кроме:</td>\n",
       "      <td>775</td>\n",
       "    </tr>\n",
       "    <tr>\n",
       "      <th>14</th>\n",
       "      <td>сырые</td>\n",
       "      <td>0</td>\n",
       "    </tr>\n",
       "    <tr>\n",
       "      <th>15</th>\n",
       "      <td>прочие</td>\n",
       "      <td>0</td>\n",
       "    </tr>\n",
       "    <tr>\n",
       "      <th>16</th>\n",
       "      <td>кокс нефтяной некальцинированный</td>\n",
       "      <td>50</td>\n",
       "    </tr>\n",
       "    <tr>\n",
       "      <th>17</th>\n",
       "      <td>кокс нефтяной кальцинированный</td>\n",
       "      <td>0</td>\n",
       "    </tr>\n",
       "    <tr>\n",
       "      <th>18</th>\n",
       "      <td>битум нефтяной</td>\n",
       "      <td>775</td>\n",
       "    </tr>\n",
       "    <tr>\n",
       "      <th>19</th>\n",
       "      <td>этан, бутан, изобутан</td>\n",
       "      <td>1350</td>\n",
       "    </tr>\n",
       "    <tr>\n",
       "      <th>0</th>\n",
       "      <td>Уровень цены</td>\n",
       "      <td>601,9 долл. США за тонну</td>\n",
       "    </tr>\n",
       "  </tbody>\n",
       "</table>\n",
       "</div>"
      ],
      "text/plain": [
       "                     Наименование позиции              Декабрь 2021\n",
       "0                             нефть сырая                       775\n",
       "1                      прямогонный бензин                       426\n",
       "2           тримеры и тетрамеры пропилена                        50\n",
       "3   легкие дистилляты; средние дистилляты                       232\n",
       "4                       дизельное топливо                       232\n",
       "5                        бензины товарные                       232\n",
       "6                                  бензол                       232\n",
       "7                                  толуол                       232\n",
       "8                                 ксилолы                       232\n",
       "9                                   мазут                       775\n",
       "10                масла смазочные; прочие                       232\n",
       "11             отработанные нефтепродукты                       775\n",
       "12          сжиженные углеводородные газы                      1688\n",
       "13              вазелин и парафин, кроме:                       775\n",
       "14                                  сырые                         0\n",
       "15                                 прочие                         0\n",
       "16       кокс нефтяной некальцинированный                        50\n",
       "17         кокс нефтяной кальцинированный                         0\n",
       "18                         битум нефтяной                       775\n",
       "19                  этан, бутан, изобутан                      1350\n",
       "0                            Уровень цены  601,9 долл. США за тонну"
      ]
     },
     "execution_count": 59,
     "metadata": {},
     "output_type": "execute_result"
    }
   ],
   "source": [
    "d21"
   ]
  },
  {
   "cell_type": "code",
   "execution_count": 50,
   "id": "bc988211",
   "metadata": {
    "ExecuteTime": {
     "end_time": "2021-11-29T06:44:31.563709Z",
     "start_time": "2021-11-29T06:44:30.905803Z"
    }
   },
   "outputs": [],
   "source": [
    "url = 'https://www.economy.gov.ru/material/directions/vneshneekonomicheskaya_deyatelnost/tamozhenno_tarifnoe_regulirovanie/o_vyvoznyh_tamozhennyh_poshlinah_na_neft_i_otdelnye_kategorii_tovarov_vyrabotannyh_iz_nefti_na_period_s_1_po_31_dekabrya_2020_goda.html'\n",
    "d1 = pd.read_html(url)[1].iloc[:,1:]\n",
    "d2 = pd.read_html(url)[0].T\n",
    "d1.columns = ['Наименование позиции', 'Декабрь 2020']\n",
    "d2.columns = ['Наименование позиции', 'Декабрь 2020']\n",
    "d20 = d1.append(d2)"
   ]
  },
  {
   "cell_type": "code",
   "execution_count": 51,
   "id": "296827e7",
   "metadata": {
    "ExecuteTime": {
     "end_time": "2021-11-29T06:44:31.628656Z",
     "start_time": "2021-11-29T06:44:31.627143Z"
    }
   },
   "outputs": [],
   "source": [
    "# d20"
   ]
  },
  {
   "cell_type": "code",
   "execution_count": 52,
   "id": "fb1c8768",
   "metadata": {
    "ExecuteTime": {
     "end_time": "2021-11-29T06:44:32.719950Z",
     "start_time": "2021-11-29T06:44:31.692857Z"
    }
   },
   "outputs": [],
   "source": [
    "url = 'https://www.economy.gov.ru/material/directions/vneshneekonomicheskaya_deyatelnost/tamozhenno_tarifnoe_regulirovanie/o_vyvoznyh_tamozhennyh_poshlinah_na_neft_i_otdelnye_kategorii_tovarov_vyrabotannyh_iz_nefti_na_period_s_1_po_31_dekabrya_2019_goda.html'\n",
    "d1 = pd.read_html(url)[1].iloc[:,1:]\n",
    "d2 = pd.read_html(url)[0].T\n",
    "d1.columns = ['Наименование позиции', 'Декабрь 2019']\n",
    "d2.columns = ['Наименование позиции', 'Декабрь 2019']\n",
    "d19 = d1.append(d2)"
   ]
  },
  {
   "cell_type": "code",
   "execution_count": 53,
   "id": "b6f16d7a",
   "metadata": {
    "ExecuteTime": {
     "end_time": "2021-11-29T06:44:33.506792Z",
     "start_time": "2021-11-29T06:44:32.771811Z"
    }
   },
   "outputs": [],
   "source": [
    "url = 'https://www.economy.gov.ru/material/directions/vneshneekonomicheskaya_deyatelnost/tamozhenno_tarifnoe_regulirovanie/o_vyvoznyh_tamozhennyh_poshlinah_na_neft_i_otdelnye_kategorii_tovarov_vyrabotannyh_iz_nefti_na_period_s_1_po_31_dekabrya_2018_goda.html'\n",
    "d1 = pd.read_html(url)[1].iloc[:,1:]\n",
    "d2 = pd.read_html(url)[0].T\n",
    "d1.columns = ['Наименование позиции', 'Декабрь 2018']\n",
    "d2.columns = ['Наименование позиции', 'Декабрь 2018']\n",
    "d18 = d1.append(d2)"
   ]
  },
  {
   "cell_type": "code",
   "execution_count": 54,
   "id": "f12ecdd5",
   "metadata": {
    "ExecuteTime": {
     "end_time": "2021-11-29T06:44:33.579816Z",
     "start_time": "2021-11-29T06:44:33.574875Z"
    }
   },
   "outputs": [],
   "source": [
    "df_all = pd.merge(d21,d20, on='Наименование позиции', how='outer')"
   ]
  },
  {
   "cell_type": "code",
   "execution_count": 55,
   "id": "b895dab0",
   "metadata": {
    "ExecuteTime": {
     "end_time": "2021-11-29T06:44:33.639288Z",
     "start_time": "2021-11-29T06:44:33.635010Z"
    }
   },
   "outputs": [],
   "source": [
    "df_all = pd.merge(df_all,d19, on='Наименование позиции', how='outer')"
   ]
  },
  {
   "cell_type": "code",
   "execution_count": 56,
   "id": "b30f3e4d",
   "metadata": {
    "ExecuteTime": {
     "end_time": "2021-11-29T06:44:33.711638Z",
     "start_time": "2021-11-29T06:44:33.707286Z"
    }
   },
   "outputs": [],
   "source": [
    "df_all = pd.merge(df_all,d18, on='Наименование позиции', how='outer')"
   ]
  },
  {
   "cell_type": "code",
   "execution_count": 57,
   "id": "b2349260",
   "metadata": {
    "ExecuteTime": {
     "end_time": "2021-11-29T06:44:33.762736Z",
     "start_time": "2021-11-29T06:44:33.760000Z"
    }
   },
   "outputs": [],
   "source": [
    "df_all.to_csv('poshlini.csv')"
   ]
  },
  {
   "cell_type": "code",
   "execution_count": null,
   "id": "e113f19d",
   "metadata": {},
   "outputs": [],
   "source": []
  }
 ],
 "metadata": {
  "hide_input": false,
  "kernelspec": {
   "display_name": "Python 3",
   "language": "python",
   "name": "python3"
  },
  "language_info": {
   "codemirror_mode": {
    "name": "ipython",
    "version": 3
   },
   "file_extension": ".py",
   "mimetype": "text/x-python",
   "name": "python",
   "nbconvert_exporter": "python",
   "pygments_lexer": "ipython3",
   "version": "3.9.7"
  },
  "latex_envs": {
   "LaTeX_envs_menu_present": true,
   "autoclose": true,
   "autocomplete": true,
   "bibliofile": "biblio.bib",
   "cite_by": "apalike",
   "current_citInitial": 1,
   "eqLabelWithNumbers": true,
   "eqNumInitial": 1,
   "hotkeys": {
    "equation": "Ctrl-E",
    "itemize": "Ctrl-I"
   },
   "labels_anchors": false,
   "latex_user_defs": false,
   "report_style_numbering": false,
   "user_envs_cfg": false
  },
  "toc": {
   "base_numbering": 1,
   "nav_menu": {},
   "number_sections": true,
   "sideBar": true,
   "skip_h1_title": false,
   "title_cell": "Table of Contents",
   "title_sidebar": "Contents",
   "toc_cell": false,
   "toc_position": {},
   "toc_section_display": true,
   "toc_window_display": false
  },
  "varInspector": {
   "cols": {
    "lenName": 16,
    "lenType": 16,
    "lenVar": 40
   },
   "kernels_config": {
    "python": {
     "delete_cmd_postfix": "",
     "delete_cmd_prefix": "del ",
     "library": "var_list.py",
     "varRefreshCmd": "print(var_dic_list())"
    },
    "r": {
     "delete_cmd_postfix": ") ",
     "delete_cmd_prefix": "rm(",
     "library": "var_list.r",
     "varRefreshCmd": "cat(var_dic_list()) "
    }
   },
   "types_to_exclude": [
    "module",
    "function",
    "builtin_function_or_method",
    "instance",
    "_Feature"
   ],
   "window_display": false
  }
 },
 "nbformat": 4,
 "nbformat_minor": 5
}
