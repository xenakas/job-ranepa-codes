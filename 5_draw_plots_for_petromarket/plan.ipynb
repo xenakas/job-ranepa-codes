{
 "cells": [
  {
   "cell_type": "markdown",
   "id": "954585ba",
   "metadata": {},
   "source": [
    "### Часть 1"
   ]
  },
  {
   "cell_type": "code",
   "execution_count": null,
   "id": "53087941",
   "metadata": {},
   "outputs": [],
   "source": [
    "Конcенсус - краткосрочный\n",
    "Конcенсус - долгосрочный"
   ]
  },
  {
   "cell_type": "markdown",
   "id": "5c5ac6f8",
   "metadata": {},
   "source": [
    "#### 2.2.1.1.1.    Механизм экспортных пошлин на нефть и нефтепродукты.\n",
    "\n",
    "Описание механизма (цель, формулы расчета, изменения, связанные с показателем), как в аналитической записке для Газпромбанка + поиск информации по каким месторождениям есть льготы по данному виду налога"
   ]
  },
  {
   "cell_type": "markdown",
   "id": "31bc700d",
   "metadata": {},
   "source": [
    "Механизм экспортных пошлин на нефть и нефтепродукты\n",
    "\n",
    "http://www.consultant.ru/document/cons_doc_LAW_183748/5874d8502b29bc57dc0b8fac9f33921eac804e26/\n",
    "\n",
    "однако ее основной среднесрочный вектор - это снижение ставок экспортной пошлины на нефть, их постепенное выравнивание со ставками экспортной пошлины на темные и, в некоторой степени, светлые нефтепродукты, а также повышение ставок налога на добычу полезных ископаемых. Реализация именно этого вектора реформы в законах, принятых в 2013 - 2014 годах, \n",
    "\n",
    "В период с 1999 года по 2011 год экспортные пошлины на нефть и нефтепродукты двигались разнонаправленно - иногда они выравнивались, иногда принимались решения об их дифференциации. При этом для некоторых нефтепродуктов ставки экспортных пошлин оказывались либо выше, либо ниже ставок пошлин на нефть.\n",
    "\n",
    "Основной целью политики экспортных пошлин на нефтепродукты была максимальная загрузка перерабатывающих мощностей и создание стимулов для экспорта не нефти, а продуктов ее переработки. При этом предполагалось, что нефтепереработка создает добавленную стоимость, однако на практике это происходит только при значительной доле выпуска светлых нефтепродуктов и близости к рынкам сбыта. В России же большинство нефтеперерабатывающих мощностей удалены от рынков, поэтому при значительном объеме экспорта нефтепродуктов стоимость в основном не создается.\n",
    "\n",
    "Однако созданная в течение 2000-х годов система экспортных пошлин привела к тому, что российская нефтепереработка вне зависимости от ее глубины получала значительную субсидию за счет федерального бюджета, которая образовывалась за счет разницы в ставках экспортных пошлин на нефть и нефтепродукты. Таким образом, создавались стимулы к наращиванию первичной переработки нефти как наименее затратному способу получения такой субсидии. В результате, глубина переработки за период действия такой системы пошлин практически не менялась, а экспорт нефтепродуктов существенно увеличился.\n",
    "\n",
    "\n",
    "\n",
    "\n",
    "С ростом цен на нефть регулирующая роль пошлин, характер их влияния на добычу, переработку и потребителей стали весьма заметными. Именно с конца 2000-х годов начались активные реформы системы пошлин и НДПИ на нефть. В 2011 году было принято решение о переходе на систему ставок экспортной пошлины \"60-66-90\", которая предусматривала введение ставки пошлины на темные нефтепродукты, равную ставке пошлины на нефть с 2015 года. В 2013 году был предпринят очередной шаг в направлении реформы - снижение ставок пошлины на нефть на период 2014 - 2016 годов и одновременное увеличение ставок НДПИ на нефть.\n",
    "\n",
    "\n",
    "Тем временем, уже в начале 2014 года стало очевидно, что комплексную модернизацию отрасли, по итогам которой выравнивание пошлин на темные нефтепродукты и нефть привело бы к уменьшению масштабов неэффективной нефтепереработки, к началу 2015 года завершить не удастся. В этих условиях рост пошлины на темные нефтепродукты привел бы к неминуемому сокращению объемов переработки нефти на немодернизированных заводах, а это, в свою очередь, грозило локальными дефицитами нефтепродуктов и ростом цен на них. Однако трехлетние законы о федеральном бюджете в течение нескольких лет предусматривают дополнительные доходы от роста ставок пошлины (более 340 млрд. рублей в условиях цен на нефть и курса рубля к доллару, предусмотренных прогнозом социально-экономического развития 2014 года). Поэтому простой отказ от повышения пошлины на темные нефтепродукты означал бы либо рост бюджетного дефицита на соответствующую величину, либо необходимость поиска источников замещения выпадающих доходов. В этой связи любые оценки бюджетного эффекта от \"налогового маневра\" необходимо проводить в сравнении с условиями 2015 года, то есть введением 100-процентной экспортной пошлины на темные нефтепродукты.\n",
    "\n",
    "\n",
    "\"Налоговый маневр\" 2014 года состоял в снижении предельной ставки экспортной пошлины на нефть с 59% в 2014 году до 30% в 2017 году при одновременном увеличении базовой ставки НДПИ на нефть с 493 рублей за тонну в 2014 году до 919 рублей в 2017 году. \n",
    "\n",
    "Также были увеличены ставки экспортных пошлин на нефтепродукты и снижены ставки акцизов на моторные топлива.\n",
    "\n",
    "Принятые в 2014 году решения о реформе налогового и таможенно-тарифного регулирования в нефтяной отрасли (\"налоговый маневр\") не только увеличивают период повышения пошлины на темные нефтепродукты (выравнивание ставок теперь предстоит с 2017 года), но и приводят к уменьшению размера выпадающих доходов от этого шага: в соответствии с бюджетным прогнозом, составленным до падения цен на нефть, \"цена маневра\" для бюджета, то есть в том числе и цена отказа от 100-процентной пошлины на мазут, оценивалась Минфином России в размере около 140 млрд. рублей в 2015 году. Предполагалось, что остаток (а это около 200 млрд. рублей) будет распределен между потребителями нефти и нефтепродуктов в России и странах Евразийского экономического союза за счет роста цен на них, а нефтяная отрасль даже получит дополнительные доходы в виде роста доходности от добычи нефти и отсрочку, необходимую для завершения модернизации НПЗ."
   ]
  },
  {
   "cell_type": "markdown",
   "id": "0ba1fa30",
   "metadata": {},
   "source": [
    "#### 2.2.1.1.2.    Механизм возвратного акциза на нефть (вкл. демпфирующую и инвестиционную надбавки).\n",
    "\n",
    "Описание механизма (цель, формулы расчета, изменения, связанные с показателем), как в аналитической записке для Газпромбанка"
   ]
  },
  {
   "cell_type": "markdown",
   "id": "cfd0ef81",
   "metadata": {},
   "source": [
    "#### 2.2.1.1.3.    Прочие механизмы (при выявлении).\n",
    "\n",
    "Здесь нужно написать обо всех льготах к НДПИ + поиск информации по каким месторождениям есть льготы по данному виду налога"
   ]
  },
  {
   "cell_type": "markdown",
   "id": "bb83a7f8",
   "metadata": {},
   "source": [
    "Ожидается, что спрос на нефть восстановится в среднесрочной перспективе и к 2026 году достигнет 104,4 млн баррелей в сутки.\n",
    "• Рост мирового спроса в среднесрочный период (2020–2026 гг.)\n",
    "оценивается в 13,8 млн баррелей в сутки. Однако ожидается, что почти 80% этого дополнительного спроса будет\n",
    "материализуются в течение первых трех лет (2021–2023 гг.), прежде всего в рамках борьбы с COVID-19.\n",
    "процесс восстановления.\n",
    "• Использование 2019 года в качестве базового для сравнения приведет к увеличению спроса на\n",
    "4,4 млн баррелей в сутки.\n",
    "• Ожидается, что спрос на нефть в странах ОЭСР вырастет почти на 4 млн баррелей в сутки в период до 2026 года.\n",
    "этого увеличения будет недостаточно, чтобы вернуться к уровню спроса до COVID-19.\n",
    "• Ожидается, что спрос за пределами ОЭСР увеличится почти на 10 млн баррелей в сутки в среднесрочной перспективе;\n",
    "около половины этой суммы потребуется для покрытия снижения спроса в 2020 году.\n",
    "• Ожидается, что мировой спрос на нефть увеличится на 17,6 млн баррелей в сутки в период с 2020 по 2045 год.\n",
    "с 90,6 млн баррелей в сутки в 2020 году до 108,2 млн баррелей в сутки в 2045 году.\n",
    "• Долгосрочные прогнозы подчеркивают контрастную картину спроса с постоянным спросом.\n",
    "рост в регионах, не входящих в ОЭСР, и снижение спроса в странах ОЭСР.\n",
    "• Рост спроса будет на уровне 2,6 млн баррелей в сутки в среднем в течение первых пяти лет прогноза\n",
    "период. Затем рост значительно замедлится во второй пятилетке до 0,6 млн баррелей в сутки.\n",
    "и далее до 0,3 млн баррелей в сутки в период 2030–2035 гг. После этого проекции указывают на ви-\n",
    "фактически никакого роста, что указывает на относительно длительный период стабилизации спроса на нефть.\n",
    "• Предполагается, что транспортный сектор внесет основной вклад в будущий прирост глобального\n",
    "спрос на нефть, увеличившись примерно на 13 млн баррелей в сутки в период с 2020 по 2045 год.\n",
    "• Прогнозируется, что более 90% этого значительного увеличения спроса будет приходиться на дорогу.\n",
    "транспортный и авиационный секторы, каждый из которых вносит около 6 млн баррелей в день, хотя большая\n",
    "часть этого увеличения связана с резким падением спроса в обоих секторах в 2020 году.\n",
    "• Ожидается, что к 2045 году общий парк транспортных средств достигнет 2,6 миллиарда единиц, увеличившись примерно на\n",
    "1,1 миллиарда по сравнению с уровнем 2020 года. К 2045 году парк электромобилей приблизится к 500 миллионам автомобилей.\n",
    "что составляет почти 20% мирового флота.\n",
    "• Корректировка долгосрочных прогнозов на снижение спроса в 2020 г., нефтехимический сектор\n",
    "остается крупнейшим источником дополнительного спроса до 2045 года, как и в прошлогоднем прогнозе.\n",
    "• В отношении нефтепродуктов ожидается значительный рост спроса в долгосрочной перспективе.\n",
    "для реактивных двигателей/керосина (+5,5 млн баррелей в сутки), дизельного топлива/газойля (+3,3 млн баррелей в сутки), бензина (+3,3 млн баррелей в сутки) и этана/\n",
    "СУГ (+3,0 млн баррелей в сутки)"
   ]
  },
  {
   "cell_type": "markdown",
   "id": "e0e8e821",
   "metadata": {},
   "source": [
    "### Часть 2"
   ]
  },
  {
   "cell_type": "markdown",
   "id": "c3a4ee2a",
   "metadata": {},
   "source": [
    "- [x] IEA (Международное энергетическое агентство (IEA), World Energy Outlook 2021): STEPS, APS, NZ\n",
    "\n",
    "https://iea.blob.core.windows.net/assets/4ed140c1-c3f3-4fd9-acae-789a4e14a23c/WorldEnergyOutlook2021.pdf\n",
    "\n",
    "- [x] OPEC \n",
    "\n",
    "https://www.opec.org/opec_web/en/publications/340.htm\n",
    "\n",
    "- [x] BP:  BAU,  Rapid,  NZ\n",
    "\n",
    "https://www.bp.com/content/dam/bp/business-sites/en/global/corporate/pdfs/energy-economics/energy-outlook/bp-energy-outlook-2020.pdf\n",
    "\n",
    "https://www.bp.com/en/global/corporate/energy-economics/energy-outlook/demand-by-fuel/oil.html\n",
    "\n",
    "https://www.bp.com/content/dam/bp/business-sites/en/global/corporate/pdfs/energy-economics/statistical-review/bp-stats-review-2021-full-report.pdf \n",
    "\n",
    "- [x] Total Energies (Momentum, Rupture)\n",
    "\n",
    "https://totalenergies.com/system/files/documents/2021-09/2021_TotalEnergies_Energy_Outlook.pdf\n",
    "\n",
    "\n",
    "- [ ] Lukoil:  Трансформация,  Равновесие, Эволюция\n",
    "    \n",
    "- Консенсус-прогноз \n",
    "    - (первичное потребление)\n",
    "    - (конечное потребление)\n",
    "\n",
    "\n",
    "No Exxon Mobil (Outlook scenario..)\n",
    "\n",
    "https://corporate.exxonmobil.com/-/media/Global/Files/energy-and-carbon-summary/Energy-and-Carbon-Summary.pdf\n",
    "\n",
    "No Shell: Waves, Islands, Sky 1.5\n",
    "\n",
    "https://www.shell.com/promos/energy-and-innovation/download-full-report/_jcr_content.stream/1627553067906/fba2959d9759c5ae806a03acfb187f1c33409a91/energy-transformation-scenarios.pdf\n",
    "\n",
    "https://www.shell.com/energy-and-innovation/the-energy-future/scenarios/the-energy-transformation-scenarios.html#iframe=L3dlYmFwcHMvU2NlbmFyaW9zX2xvbmdfaG9yaXpvbnMv\n",
    "\n",
    "https://blogs.shell.com/2021/02/10/exploring-the-energy-future/"
   ]
  },
  {
   "cell_type": "code",
   "execution_count": null,
   "id": "81c809dc",
   "metadata": {},
   "outputs": [],
   "source": []
  },
  {
   "cell_type": "code",
   "execution_count": null,
   "id": "37af7f7a",
   "metadata": {},
   "outputs": [],
   "source": []
  },
  {
   "cell_type": "markdown",
   "id": "23125f68",
   "metadata": {},
   "source": [
    "#### 2.2.1.4.1.    Обзор прогнозов потребления и цен на нефть и нефтепродукты в мире на период до 2050 г. (с выделением 2030 и 2040 гг.) от международных аналитических агентств (IEA и пр.) и международных компаний энергетического сектора (BP, Shell, Total и пр.), формирование консенсус-прогноза.\n",
    "\n",
    "https://www.argusmedia.com/en/news/2292370-banks-forecast-firm-crude-prices-in-early-2022"
   ]
  },
  {
   "cell_type": "markdown",
   "id": "836b50bb",
   "metadata": {},
   "source": [
    "- [ ] IEA\n",
    "\n",
    "Чистый нулевой уровень выбросов к 2050 г. \n",
    "\n",
    "Устанавливает путь для глобального энергетического сектора к достижению нулевых выбросов CO2 к 2050 году. Он не полагается на сокращение выбросов за пределами энергетического сектора для достижения этой цели.\n",
    "\n",
    "Сценарий объявленной политики\n",
    "\n",
    "Предполагает, что все климатические обязательства, взятые на себя правительствами всего мира, в том числе определяемые на национальном уровне вклады (NDC) и долгосрочные целевые показатели чистого нуля, будут выполнены полностью и своевременно.\n",
    "\n",
    "Отражает, насколько нынешние обещания приближают мир к цели по ограничению глобального потепления до 1,5 °C, в нем подчеркивается «разрыв в амбициях», который необходимо закрыть для достижения целей, согласованных в Париже в 2015 году.\n",
    "\n",
    "\n",
    "Сценарий заявленной политики (STEPS) \n",
    "\n",
    "Отражающий текущие действующие политики по секторам, а также тех, которые были объявлены правительствами по всему миру.\n",
    "\n",
    "Обеспечивает ориентир для оценки потенциальных достижений (и ограничений) последних изменений в политике в области энергетики и климата.\n",
    "\n",
    "\n",
    "Сценарий устойчивого развития\n",
    "\n",
    "Комплексный сценарий, определяющий путь, направленный на: обеспечение всеобщего доступа к недорогим, надежным, устойчивым и современным энергетическим услугам к 2030 году; существенное снижение загрязнения воздуха; и принятие эффективных мер по борьбе с изменением климата.\n",
    "\n",
    "\n",
    "\n",
    "\n",
    "\n",
    "\n",
    "\n",
    "\n",
    "While the number of Omicron cases is surging worldwide, oil demand defied expectations in 4Q21, rising by 1.1 mb/d to 99 mb/d. \n",
    "\n",
    "In 1Q22, demand is set for a seasonal decline, exacerbated by more teleworking and less air travel. \n",
    "\n",
    "We have raised our global demand estimates by 200 kb/d for 2021 and 2022 – resulting in growth of 5.5 mb/d and 3.3 mb/d, respectively – due to softer Covid restrictions.\n",
    "\n",
    "World oil supply in 2022 has the potential for a Saudi-driven gain of 6.2 mb/d if OPEC+ fully unwinds its cuts. Oil output from OPEC+ could rise this year by 4.4 mb/d, resulting in reduced effective spare capacity in 2H22 of 2.6 mb/d, held primarily by Saudi Arabia and the United Arab Emirates. Non-OPEC+ growth of 1.8 mb/d in 2022 will be led by the United States.\n",
    "\n",
    "\n",
    "The global refining industry ended 2021 on a high note, with both runs and margins improving. Refinery throughputs averaged 79.8 mb/d in 4Q21, up 4.6 mb/d on a year ago. In 2021, global refining capacity fell for the first time in 30 years, by 730 kb/d, as new capacity was outweight by closures. In 2022, net additions are expected to amount to 1.2 mb/d, with runs forecast to gain 3.7 mb/d.\n",
    "\n",
    "\n",
    "OECD total industry stocks declined by 6.1 mb in November, as rising crude and gasoline stocks were more than offset by draws in other products. At 2 756 mb, stocks were down 354 mb on a year ago and at their lowest level in seven years. Preliminary data for December show OECD industry stocks falling by another 45 mb while volumes of oil on the water rose.\n",
    "\n",
    "\n",
    "Crude prices struggled under demand uncertainties in December before a vigorous post-holiday rebound. North Sea Dated rose from an average $74.01/bbl last month to $87.30/bbl on 18 January, its highest level since 2014. ICE Brent backwardation doubled, reflecting tight oil stocks.\n",
    "\n",
    "\n",
    "\n",
    "A tighter balance\n",
    "\n",
    "Two years after first shaking markets, Covid-19 is once again causing record infections. But this time around, the surge is having a more muted impact on oil use. Indeed, mobility indicators remain robust and oil demand has been stronger than expected in recent months. As a result, we have revised up our 2021-22 demand estimates by 200 kb/d. World oil demand is now seen rising by 5.5 mb/d in 2021 and by 3.3 mb/d in 2022, returning to its pre-Covid levels of 99.7 mb/d. In 1Q22, demand is set for a seasonal decline, exacerbated by increased teleworking and reduced air travel.\n",
    "\n",
    "\n",
    "\n",
    "Oil demand, for the first time, shows an eventual decline in all scenarios in this Outlook, although the timing and sharpness of the drop vary widely. In the STEPS, demand levels off at 104 mb/d in the mid-2030s and then declines very slightly to 2050. Oil use in road transport increases by around 6 mb/d through to 2030, with a particularly sharp rise in 2021, and it increases by close to 8 mb/d in aviation, shipping and petrochemicals. In the APS, global oil demand peaks soon after 2025 at 97 mb/d and declines to 77 mb/d in 2050. Oil use falls by around 4 mb/d in countries with net zero pledges between 2020 and 2030, but that is offset by an 8 mb/d increase in the rest of the world. In the NZE, oil demand falls to 72 mb/d in 2030 and to 24 mb/d by 2050. By 2030, 60% of all passenger cars sold globally are electric, and no new ICE passenger cars are sold anywhere after 2035. Oil use as a petrochemical feedstock is the only area to see an increase in demand; in 2050, 55% of all oil consumed globally is for petrochemicals.\n",
    "\n",
    "Fossil fuel use by scenario, 2020, 2030 and 2050\n",
    "\n",
    "Year, 2030, 2050\n",
    "Stated policies scenario, 199 , 171-198\n",
    "Anounced Pledges Scenario, 185, 148-171\n",
    "Net Zero scenario, 173, 42-171\n",
    "\n",
    "https://www.iea.org/reports/world-energy-outlook-2021/fuels-old-and-new\n",
    "\n",
    "In the STEPS, the increase in oil demand means oil prices rise to around USD 77 per barrel in 2030. Tight oil operators in the United States choose to prioritise returns over production growth, and tight oil satisfies much less of the increase in global oil demand than in the past. OPEC production increases by around 6 mb/d to 2030, and Russian production is maintained: OPEC and Russia together provide 48% of total oil supply in 2030, an increase from 2020 but well below their share during much of the last decade. Internationally traded volumes of natural gas expand by over 240 bcm between 2020 and 2030. Australia remains the largest exporter of coal although exports fall by around 5% to 2030.\n",
    "\n",
    "In the APS, producer countries with net zero pledges pursue efforts to minimise emissions from oil and gas operations. This increases their production costs relative to other producers as well as their financing costs, but some remain competitive and are able to increase exports of oil and gas when domestic demand declines faster than supply: for example, in 2030 the United States exports 3.5 mb/d of oil and 200 bcm of natural gas in the APS (compared with 2.5 mb/d of oil and 220 bcm of natural gas in the STEPS). This puts downward pressure on prices, and limits export opportunities for a number of new and emerging producers. OPEC and Russia together provide 48% of total oil supply in 2030. Internationally traded natural gas volumes grow by 160 bcm between 2020 and 2030, while the drop in coal demand in countries with net zero pledges mean that coal exports fall from all producers.\n",
    "\n",
    "https://www.iea.org/reports/oil-2021"
   ]
  },
  {
   "cell_type": "markdown",
   "id": "2699b326",
   "metadata": {},
   "source": [
    "- [ ] BP\n",
    "\n",
    "https://www.bp.com/content/dam/bp/business-sites/en/global/corporate/pdfs/energy-economics/statistical-review/bp-stats-review-2021-full-report.pdf\n",
    "\n",
    "\n",
    "Net Zero\n",
    "\n",
    "Rapid\n",
    "\n",
    "Business-as-usual\n",
    "\n",
    "Key points\n",
    "This year’s Energy Outlook considers\n",
    "three main scenarios which explore\n",
    "different pathways for the global\n",
    "energy system to 2050.\n",
    "The scenarios are not predictions\n",
    "of what is likely to happen or what\n",
    "bp would like to happen. Rather, the\n",
    "scenarios help to illustrate the range\n",
    "of outcomes possible over the next\n",
    "thirty years, although the uncertainty\n",
    "is substantial and the scenarios\n",
    "do not provide a comprehensive\n",
    "description of all possible outcomes.\n",
    "The Rapid Transition Scenario\n",
    "(Rapid) posts a series of policy\n",
    "measures, led by a significant\n",
    "increase in carbon prices and\n",
    "supported by more-targeted sector\n",
    "specific measures, which cause\n",
    "carbon emissions from energy use\n",
    "to fall by around 70% by 2050.\n",
    "This fall in emissions is in line with\n",
    "scenarios which are consistent\n",
    "with limiting the rise in global\n",
    "temperatures by 2100 to well below\n",
    "2-degrees Celsius above pre-\n",
    "industrial levels.\n",
    "The Net Zero Scenario (Net Zero)\n",
    "assumes that the policy measures\n",
    "embodied in Rapid are both added\n",
    "to and reinforced by significant\n",
    "shifts in societal behaviour and\n",
    "preferences, which further\n",
    "accelerate the reduction in carbon\n",
    "emissions. Global carbon emissions\n",
    "from energy use fall by over 95%\n",
    "by 2050, broadly in line with a range\n",
    "of scenarios which are consistent\n",
    "with limiting temperature rises to\n",
    "1.5-degrees Celsius.\n",
    "The Business-as-usual Scenario\n",
    "(BAU) assumes that government\n",
    "policies, technologies and social\n",
    "preferences continue to evolve in\n",
    "a manner and speed seen over\n",
    "the recent past*. A continuation of\n",
    "that progress, albeit relatively slow,\n",
    "means carbon emissions peak in the\n",
    "mid-2020s. Despite this peaking,\n",
    "little headway is made in terms of\n",
    "reducing carbon emissions from\n",
    "energy use, with emissions in 2050\n",
    "less than 10% below 2018 levels.\n",
    "Primary energy demand increases\n",
    "by around 10% in Rapid and Net\n",
    "Zero over the Outlook and by around\n",
    "25% in BAU.\n",
    "\n",
    "https://www.bp.com/en/global/corporate/energy-economics/energy-outlook/demand-by-fuel/oil.html"
   ]
  },
  {
   "cell_type": "markdown",
   "id": "6807dfaa",
   "metadata": {},
   "source": [
    "##### EIA\n",
    "\n",
    "(13 May 2021) Brent crude oil prices will average 62.26 per barrel in 2021 and 60.74 per barrel in 2022 according to the forecast in the most recent Short-Term Energy Outlook from the US Energy Information Administration (EIA). This represents a rebound from the 2020 average of \n",
    "41.69 per barrel, but it is still lower than pre-COVID levels.\n",
    "\n",
    "SR Prices and consumption\n",
    "\n",
    "https://www.eia.gov/todayinenergy/detail.php?id=50858\n",
    "\n",
    "\n",
    "\n",
    "https://www.eia.gov/outlooks/aeo/pdf/appa.pdf\n",
    "\n",
    "\n",
    "\n",
    " The EIA predicts that by 2025 Brent crude oil's nominal price will rise to 66/b. By 2030, world demand is seen driving Brent prices to 89/b. By 2040, prices are projected to be 132/b. By then, the cheap oil sources will have been exhausted, making it more expensive to extract oil. By 2050, oil prices could be 185/b.\n",
    "\n",
    "WTI per barrel price is expected to rise to 64 per barrel by 2025, increasing to 86 by 2030, 128 by 2040, and 178 by 2050.7\n",
    "\n",
    "The EIA assumes that demand for petroleum flattens out as utilities rely more on natural gas and renewable energy. It also assumes the economy grows around 1.9\\% annually, while energy consumption decreases by 0.4\\% a year.8\n",
    "\n",
    "https://www.thebalance.com/oil-price-forecast-3306219#toc-oil-price-forecast-2025-to-2050\n",
    "\n"
   ]
  },
  {
   "cell_type": "markdown",
   "id": "289b7bac",
   "metadata": {},
   "source": [
    "- [x] Total \n",
    "\n",
    "Есть данные в конце в табличке за 30 и 40 годы\n",
    "\n",
    "https://totalenergies.com/system/files/documents/2021-09/2021_TotalEnergies_Energy_Outlook.pdf\n",
    "\n",
    "Momentum\n",
    "A forward-looking scenario\n",
    "\n",
    "Based upon decarbonization strategies of Net-Zero 2050 (NZ 2050)\n",
    "countries, with China on-track to achieve carbon neutrality by 2060\n",
    "Announced targets & NDCs of other countries\n",
    "\n",
    "Temperature rising by 2.2-2.4°C in 2100 \n",
    "\n",
    "Rupture\n",
    "A back-casting approach\n",
    "\n",
    "Achievement of Paris agreement well-below 2°C target based on\n",
    "IPCC emissions scenarios*\n",
    "Assumes strong shifts in non NZ 2050 countries’ public policies,\n",
    "large scale cleantech advancements and rebuilding a new energy\n",
    "system at a global scale\n",
    "\n",
    "Temperature increase limited to $1.7^{\\circ} \\mathrm{C}$ with a sensitivity for a $1.5^{\\circ} \\mathrm{C}$ scenario"
   ]
  },
  {
   "cell_type": "markdown",
   "id": "370054da",
   "metadata": {},
   "source": [
    "- [x] RBC Capital Markets\n",
    "\n",
    "https://www.rbccm.com/assets/rbccm/docs/news/2018/Oil-Strategy-Phantom-Liquidity.pdf\n",
    "\n",
    "https://www.rbcwealthmanagement.com/en-ca/insights/the-outlook-for-oil-in-a-period-of-demand-destruction"
   ]
  },
  {
   "cell_type": "markdown",
   "id": "ca8bc393",
   "metadata": {},
   "source": [
    "- [x] UBS\n",
    "\n",
    "https://www.ubs.com/global/en/wealth-management/insights/chief-investment-office/house-view/daily/2021/latest-14122021.html\n",
    "\n",
    "https://www.ubs.com/global/en/wealth-management/our-approach/marketnews/article.1538386.html\n",
    "\n",
    "https://www.ubs.com/us/en/wealth-management/insights/market-news/article.1553815.html?caasID=CAAS-ActivityStream\n",
    "\n",
    "https://www.ubs.com/global/en/wealth-management/our-approach/marketnews/article.1548304.html\n",
    "\n",
    "https://www.ubs.com/global/en/wealth-management/our-approach/marketnews/article.1542006.html\n"
   ]
  },
  {
   "cell_type": "markdown",
   "id": "dac6032c",
   "metadata": {},
   "source": [
    "- [x] Morgan Stanley\n",
    "\n",
    "https://www.morganstanley.com/ideas/global-investment-strategy-outlook-2022"
   ]
  },
  {
   "cell_type": "markdown",
   "id": "1153a654",
   "metadata": {},
   "source": [
    "- [x] Investec\n",
    "\n",
    "https://www.investec.com/en_gb/focus/investing/a-bullish-case-for-oil-and-integrated-european-majors.html"
   ]
  },
  {
   "cell_type": "markdown",
   "id": "945e99cb",
   "metadata": {},
   "source": [
    "- [x] Credit Suisse \n",
    "\n",
    "No oil Forecasts\n",
    "\n",
    "Investment\n",
    "Outlook 2022"
   ]
  },
  {
   "cell_type": "markdown",
   "id": "6222eadd",
   "metadata": {},
   "source": [
    "Лукойл\n",
    "\n",
    "Описание сценариев\n",
    "https://lukoil.ru/Business/Futuremarkettrends"
   ]
  },
  {
   "cell_type": "markdown",
   "id": "e51c9b20",
   "metadata": {},
   "source": [
    "https://www.consensuseconomics.com/\n",
    "\n",
    "Нужны чёткие предпосылки каждого прогноза и несколько сценариев "
   ]
  },
  {
   "cell_type": "markdown",
   "id": "b66004a5",
   "metadata": {},
   "source": [
    "Figure A.3 shows the EF2021 crude oil assumptions for Brent, the primary global\n",
    "benchmark price for crude oil, for the Evolving and Current Policies scenarios.\n",
    "Global crude oil prices fell in 2020 due to the COVID-19 pandemic. In the second\n",
    "half of 2021, prices have increased to 2019 levels and above. In the longer\n",
    "term, prices in the Evolving and Current Policies scenarios diverge based on\n",
    "their different premises. In the Evolving Policies Scenario increased global action\n",
    "on climate change, which implies reduced demand for crude oil relative to the\n",
    "Current Policies Scenario, puts downward pressure on prices and the Brent price\n",
    "declines to 2020US 40/barrel (bbl)10 by the end of the projection period, from\n",
    "2020US 68/bbl in 2021. In the Current Policies Scenario, crude oil prices stay\n",
    "at 2020US 70/bbl over the projection period. In both scenarios, West Texas\n",
    "Intermediate (WTI), a key North American crude benchmark, is 2020US 4.00\n",
    "lower than Brent in the long term.\n",
    "Both EF2021 scenarios assume that the Canadian heavy benchmark price is\n",
    "discounted to WTI consistent with the historical average. The WTI-WCS differential\n",
    "is 2020US 12.50/bbl for most of the projection. However, in reality, if future supply\n",
    "available for export approaches and/or exceeds the level of total capacity provided\n",
    "by pipelines and structural rail, this differential could increase significantly. We do\n",
    "not adjust the assumed differential for such dynamics. Figure R.14 in the “Results”\n",
    "section provides an illustration of how tight or constrained pipeline capacity could\n",
    "become in our two scenarios, based on existing pipeline capacity, planned pipeline\n",
    "expansions, and structural rail."
   ]
  },
  {
   "cell_type": "code",
   "execution_count": null,
   "id": "4a0772c1",
   "metadata": {},
   "outputs": [],
   "source": []
  },
  {
   "cell_type": "code",
   "execution_count": 24,
   "id": "f56c023c",
   "metadata": {
    "ExecuteTime": {
     "end_time": "2022-02-04T08:29:22.561053Z",
     "start_time": "2022-02-04T08:29:22.554010Z"
    }
   },
   "outputs": [],
   "source": [
    "import pandas as pd"
   ]
  },
  {
   "cell_type": "code",
   "execution_count": 47,
   "id": "d3f0e1d9",
   "metadata": {
    "ExecuteTime": {
     "end_time": "2022-02-04T18:40:43.630313Z",
     "start_time": "2022-02-04T18:40:43.623968Z"
    }
   },
   "outputs": [],
   "source": [
    "import matplotlib.pyplot as plt"
   ]
  },
  {
   "cell_type": "code",
   "execution_count": 48,
   "id": "746f4735",
   "metadata": {
    "ExecuteTime": {
     "end_time": "2022-02-04T18:42:14.788173Z",
     "start_time": "2022-02-04T18:42:14.620301Z"
    }
   },
   "outputs": [
    {
     "data": {
      "text/plain": [
       "<matplotlib.legend.Legend at 0x7fb6cfb0cf10>"
      ]
     },
     "execution_count": 48,
     "metadata": {},
     "output_type": "execute_result"
    },
    {
     "data": {
      "image/png": "[encoded data removed]",
      "text/plain": [
       "<Figure size 432x288 with 1 Axes>"
      ]
     },
     "metadata": {
      "needs_background": "light"
     },
     "output_type": "display_data"
    }
   ],
   "source": [
    "pd.read_csv('prices.csv', index_col=0).loc[:'2024',:'Morgan Stanley'].plot()\n",
    "plt.legend(loc=2)"
   ]
  },
  {
   "cell_type": "code",
   "execution_count": 49,
   "id": "7b7bd82a",
   "metadata": {
    "ExecuteTime": {
     "end_time": "2022-02-04T18:51:51.670940Z",
     "start_time": "2022-02-04T18:51:51.538598Z"
    }
   },
   "outputs": [
    {
     "data": {
      "text/plain": [
       "<matplotlib.legend.Legend at 0x7fb6cfb24cd0>"
      ]
     },
     "execution_count": 49,
     "metadata": {},
     "output_type": "execute_result"
    },
    {
     "data": {
      "image/png": "[encoded data removed]",
      "text/plain": [
       "<Figure size 432x288 with 1 Axes>"
      ]
     },
     "metadata": {
      "needs_background": "light"
     },
     "output_type": "display_data"
    }
   ],
   "source": [
    "pd.read_csv('pricesMM.csv', index_col=0).plot()\n",
    "plt.legend(loc=2)"
   ]
  },
  {
   "cell_type": "code",
   "execution_count": 43,
   "id": "220fb509",
   "metadata": {
    "ExecuteTime": {
     "end_time": "2022-02-04T08:34:21.349508Z",
     "start_time": "2022-02-04T08:34:21.206933Z"
    }
   },
   "outputs": [
    {
     "data": {
      "text/plain": [
       "<AxesSubplot:xlabel='Brent Crude Oil Price Forecasts, $ / bbl'>"
      ]
     },
     "execution_count": 43,
     "metadata": {},
     "output_type": "execute_result"
    },
    {
     "data": {
      "image/png": "[encoded data removed]",
      "text/plain": [
       "<Figure size 432x288 with 1 Axes>"
      ]
     },
     "metadata": {
      "needs_background": "light"
     },
     "output_type": "display_data"
    }
   ],
   "source": [
    "pd.read_csv('prices.csv', index_col=0).iloc[:,[0,2,5,6]].plot()"
   ]
  },
  {
   "cell_type": "code",
   "execution_count": 22,
   "id": "51ad0ba1",
   "metadata": {
    "ExecuteTime": {
     "end_time": "2022-02-03T08:12:56.763893Z",
     "start_time": "2022-02-03T08:12:56.373167Z"
    }
   },
   "outputs": [
    {
     "data": {
      "text/plain": [
       "<AxesSubplot:xlabel='Oil Consumption (Million bbls per day)'>"
      ]
     },
     "execution_count": 22,
     "metadata": {},
     "output_type": "execute_result"
    },
    {
     "data": {
      "image/png": "[encoded data removed]",
      "text/plain": [
       "<Figure size 432x288 with 1 Axes>"
      ]
     },
     "metadata": {
      "needs_background": "light"
     },
     "output_type": "display_data"
    }
   ],
   "source": [
    "pd.read_csv('cons.csv', index_col=0).loc[:'2030','EIA':].plot()"
   ]
  },
  {
   "cell_type": "code",
   "execution_count": 23,
   "id": "ac81321f",
   "metadata": {
    "ExecuteTime": {
     "end_time": "2022-02-03T08:13:27.034960Z",
     "start_time": "2022-02-03T08:13:26.580190Z"
    }
   },
   "outputs": [
    {
     "data": {
      "text/plain": [
       "<AxesSubplot:xlabel='Oil Consumption (Million bbls per day)'>"
      ]
     },
     "execution_count": 23,
     "metadata": {},
     "output_type": "execute_result"
    },
    {
     "data": {
      "image/png": "[encoded data removed]",
      "text/plain": [
       "<Figure size 432x288 with 1 Axes>"
      ]
     },
     "metadata": {
      "needs_background": "light"
     },
     "output_type": "display_data"
    }
   ],
   "source": [
    "pd.read_csv('cons.csv', index_col=0).iloc[:,:3].plot()"
   ]
  },
  {
   "cell_type": "markdown",
   "id": "5c384059",
   "metadata": {},
   "source": [
    "Лучше, как у ребят по углю оформлять, посмотри в группе последнюю презентацию - первые слайды. \n"
   ]
  },
  {
   "cell_type": "markdown",
   "id": "fab50495",
   "metadata": {},
   "source": [
    "IEA\n",
    "\n",
    "\n",
    "Чистый нулевой уровень выбросов к 2050 г. \n",
    "\n",
    "Устанавливает путь для глобального энергетического сектора к достижению нулевых выбросов CO2 к 2050 году. Он не полагается на сокращение выбросов за пределами энергетического сектора для достижения этой цели.\n",
    "\n",
    "Сценарий объявленной политики\n",
    "\n",
    "Предполагает, что все климатические обязательства, взятые на себя правительствами всего мира, в том числе определяемые на национальном уровне вклады (NDC) и долгосрочные целевые показатели чистого нуля, будут выполнены полностью и своевременно.\n",
    "\n",
    "Отражает, насколько нынешние обещания приближают мир к цели по ограничению глобального потепления до 1,5 °C, в нем подчеркивается «разрыв в амбициях», который необходимо закрыть для достижения целей, согласованных в Париже в 2015 году.\n",
    "\n",
    "\n",
    "Сценарий заявленной политики (STEPS) \n",
    "\n",
    "Отражающий текущие действующие политики по секторам, а также тех, которые были объявлены правительствами по всему миру.\n",
    "\n",
    "Обеспечивает ориентир для оценки потенциальных достижений (и ограничений) последних изменений в политике в области энергетики и климата.\n",
    "\n",
    "\n",
    "Сценарий устойчивого развития\n",
    "\n",
    "Комплексный сценарий, определяющий путь, направленный на: обеспечение всеобщего доступа к недорогим, надежным, устойчивым и современным энергетическим услугам к 2030 году; существенное снижение загрязнения воздуха; и принятие эффективных мер по борьбе с изменением климата.\n",
    "\n",
    "\n",
    "---------------------------------------------------------------\n",
    "\n",
    "BP\n",
    "\n",
    "Сценарии не являются прогнозами того, что может произойти. Скорее, сценарии помогают проиллюстрировать диапазон возможных результатов в течение следующих тридцати лет, хотя неопределенность существенна, а сценарии не дают исчерпывающего описания всех возможных результатов. \n",
    "\n",
    "\n",
    "Быстрый переход (Rapid)\n",
    "\n",
    "Содержит ряд политических мер, во главе которых стоит значительный рост цен на углеродные выбросы и которые поддерживаются более целенаправленными отраслевыми мерами, которые приводят к сокращению выбросов углерода в результате снижения использования энергии примерно на 70% к 2050 году. Это падение в выбросах соответствует сценариям, которые согласуются с ограничением повышения глобальной температуры к 2100 году значительно ниже 2 градусов по Цельсию сверх доиндустриального уровня. \n",
    "\n",
    "Нулевые выбросы (Net-zero)\n",
    "\n",
    "Сценарий Net Zero (Net Zero) предполагает, что меры политики, воплощенные в Rapid, дополняются и усиливаются значительными изменениями в поведении и предпочтениях общества, которые еще больше ускоряют сокращение выбросов углерода. К 2050 году глобальные выбросы углерода в результате использования энергии сократятся более чем на 95%, что в целом соответствует целому ряду сценариев, которые согласуются с ограничением повышения температуры до 1,5 градусов по Цельсию.\n",
    "\n",
    "Обычный бизнес (Business-as-usual)\n",
    "\n",
    "Сценарий обычного развития событий (BAU) предполагает, что государственная политика, технологии и социальные предпочтения продолжают развиваться такими же темпами и темпами, как и в недавнем прошлом. Продолжение этого прогресса, хотя и относительно медленное, означает, что пик выбросов углерода придется на середину 2020-х годов. Несмотря на этот пик, достигнут незначительный прогресс в плане сокращения выбросов углерода в результате использования энергии: выбросы в 2050 году будут менее чем на 10% ниже уровня 2018 года. \n",
    "\n",
    "Спрос на первичную энергию увеличивается примерно на 10% в Rapid и Net Zero и примерно на 25% в BAU.\n",
    "\n",
    "---------------------------------------------------------------\n",
    "\n",
    "Total\n",
    "\n",
    "Импульс (Momentum)\n",
    "\n",
    "Основан на стратегиях декарбонизации стран Net-Zero 2050 (NZ 2050), при этом Китай находится на пути к достижению углеродной нейтральности к 2060 г. \n",
    "С учетом объявленных целей и ОНУВ (Определяемые на национальном уровне вклады) других стран ожидается повышение температуры на 2,2-2,4°C в 2100 г.\n",
    "\n",
    "Разрыв (Rupture)\n",
    "\n",
    "Достижение целевого показателя Парижского соглашения значительно ниже 2 °C на основе сценариев выбросов Межправительственная группа экспертов по изменению климата (IPCC). Предполагает серьезные сдвиги в государственной политике стран, не входящих в состав NZ 2050, широкомасштабные достижения в области экологически чистых технологий и восстановление новой энергетической системы в глобальном масштабе.\n",
    "Повышение температуры ограничено 1,7∘C. \n",
    "\n",
    "---------------------------------------------------------------\n",
    "\n",
    "Лукойл\n",
    "\n",
    "Эволюция (Климатческие риски - высокие, инфляция - низкая, доступность энергии - высокая)\n",
    "\n",
    "- Приоритет экономического развития и снижения энергетического неравенства\n",
    "\n",
    "- Ограничение выбросов парниковых газов в рамках объявленных национальных целейпо сокращению эмиссий и существующих технологических возможностей\n",
    "\n",
    "- Умеренная скорость структурных изменений на энергетических рынках\n",
    "\n",
    "Равновесие (Климатческие риски, инфляция, доступность энергии - умеренные)\n",
    "\n",
    "- Баланс между достижением климатических целей и развитием экономики\n",
    "\n",
    "- Достижение цели Парижского соглашения по удержанию роста глобальной температуры ниже 2°C\n",
    "\n",
    "- Консолидация международных усилий для достижения целей устойчивого развития\n",
    "\n",
    "Транформация (Климатческие риски - низкие, инфляция - высокая, доступность энергии - низкая)\n",
    "\n",
    "- Фокус на климатических целях\n",
    "- Беспрецедентный уровень международного сотрудничества и отсутствие ограничений на финансирование климатических проектов\n",
    "- Радикальная трансформация мировой энергетики и промышленности\n",
    "- Углеродная нейтральность ведущих экономик к 2050 год\n",
    "\n",
    "\n",
    "\n",
    "\n",
    "\n",
    "\n",
    "\n",
    "\n",
    "\n",
    "\n"
   ]
  },
  {
   "cell_type": "markdown",
   "id": "bf967d1e",
   "metadata": {},
   "source": [
    "МЭР\n",
    "\n",
    "\n",
    "https://www.economy.gov.ru/material/file/d7f5f5dea44bda4c30d42aac04cc1fca/prognoz_socialno_ekonom_razvitiya_rf_2022-2024.pdf\n",
    "\n",
    "https://www.economy.gov.ru/material/file/a5f3add5deab665b344b47a8786dc902/prognoz2036.pdf\n",
    "\n",
    "https://www.economy.gov.ru/material/file/eb793522a934fad1e8c34b61fa0bba70/scenarnye_usloviya_2022.pdf\n",
    "\n"
   ]
  }
 ],
 "metadata": {
  "hide_input": false,
  "kernelspec": {
   "display_name": "Python 3 (ipykernel)",
   "language": "python",
   "name": "python3"
  },
  "language_info": {
   "codemirror_mode": {
    "name": "ipython",
    "version": 3
   },
   "file_extension": ".py",
   "mimetype": "text/x-python",
   "name": "python",
   "nbconvert_exporter": "python",
   "pygments_lexer": "ipython3",
   "version": "3.10.4"
  },
  "latex_envs": {
   "LaTeX_envs_menu_present": true,
   "autoclose": true,
   "autocomplete": true,
   "bibliofile": "biblio.bib",
   "cite_by": "apalike",
   "current_citInitial": 1,
   "eqLabelWithNumbers": true,
   "eqNumInitial": 1,
   "hotkeys": {
    "equation": "Ctrl-E",
    "itemize": "Ctrl-I"
   },
   "labels_anchors": false,
   "latex_user_defs": false,
   "report_style_numbering": false,
   "user_envs_cfg": false
  },
  "toc": {
   "base_numbering": 1,
   "nav_menu": {},
   "number_sections": true,
   "sideBar": true,
   "skip_h1_title": false,
   "title_cell": "Table of Contents",
   "title_sidebar": "Contents",
   "toc_cell": false,
   "toc_position": {},
   "toc_section_display": true,
   "toc_window_display": false
  },
  "varInspector": {
   "cols": {
    "lenName": 16,
    "lenType": 16,
    "lenVar": 40
   },
   "kernels_config": {
    "python": {
     "delete_cmd_postfix": "",
     "delete_cmd_prefix": "del ",
     "library": "var_list.py",
     "varRefreshCmd": "print(var_dic_list())"
    },
    "r": {
     "delete_cmd_postfix": ") ",
     "delete_cmd_prefix": "rm(",
     "library": "var_list.r",
     "varRefreshCmd": "cat(var_dic_list()) "
    }
   },
   "types_to_exclude": [
    "module",
    "function",
    "builtin_function_or_method",
    "instance",
    "_Feature"
   ],
   "window_display": false
  }
 },
 "nbformat": 4,
 "nbformat_minor": 5
}
