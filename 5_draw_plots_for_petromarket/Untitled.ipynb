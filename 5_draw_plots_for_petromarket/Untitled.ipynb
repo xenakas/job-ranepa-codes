{
 "cells": [
  {
   "cell_type": "code",
   "execution_count": 9,
   "id": "c6086f05",
   "metadata": {
    "ExecuteTime": {
     "end_time": "2022-02-06T10:50:07.509685Z",
     "start_time": "2022-02-06T10:50:07.498Z"
    }
   },
   "outputs": [],
   "source": [
    "data <- read.csv('cons.csv')"
   ]
  },
  {
   "cell_type": "code",
   "execution_count": 4,
   "id": "87c101c1",
   "metadata": {
    "ExecuteTime": {
     "end_time": "2022-02-06T10:45:17.654853Z",
     "start_time": "2022-02-06T10:45:17.617Z"
    }
   },
   "outputs": [],
   "source": [
    "library(ggplot2)"
   ]
  },
  {
   "cell_type": "code",
   "execution_count": 8,
   "id": "540901c6",
   "metadata": {
    "ExecuteTime": {
     "end_time": "2022-02-06T10:49:38.837263Z",
     "start_time": "2022-02-06T10:49:38.828Z"
    }
   },
   "outputs": [],
   "source": [
    "# Потребелние нефти (млн барр. в сутки)"
   ]
  },
  {
   "cell_type": "code",
   "execution_count": 23,
   "id": "d8a49fcf",
   "metadata": {
    "ExecuteTime": {
     "end_time": "2022-02-06T10:55:57.654043Z",
     "start_time": "2022-02-06T10:55:57.598Z"
    }
   },
   "outputs": [
    {
     "data": {
      "text/html": [
       "<table>\n",
       "<caption>A data.frame: 15 × 15</caption>\n",
       "<thead>\n",
       "\t<tr><th scope=col>Год</th><th scope=col>Факт</th><th scope=col>EIA</th><th scope=col>IEA</th><th scope=col>IEA..STEPS.</th><th scope=col>IEA..APS.</th><th scope=col>IEA..NZE.</th><th scope=col>BP..Rapid.scenario.</th><th scope=col>BP..Net.Zero.Scenario.</th><th scope=col>BP..Business.as.usual.scenario.</th><th scope=col>X</th><th scope=col>X.1</th><th scope=col>BP..Rapid.scenario..1</th><th scope=col>BP..Net.Zero.Scenario..1</th><th scope=col>BP..Business.as.usual.scenario..1</th></tr>\n",
       "\t<tr><th scope=col>&lt;int&gt;</th><th scope=col>&lt;dbl&gt;</th><th scope=col>&lt;dbl&gt;</th><th scope=col>&lt;dbl&gt;</th><th scope=col>&lt;dbl&gt;</th><th scope=col>&lt;dbl&gt;</th><th scope=col>&lt;dbl&gt;</th><th scope=col>&lt;dbl&gt;</th><th scope=col>&lt;dbl&gt;</th><th scope=col>&lt;dbl&gt;</th><th scope=col>&lt;lgl&gt;</th><th scope=col>&lt;lgl&gt;</th><th scope=col>&lt;dbl&gt;</th><th scope=col>&lt;dbl&gt;</th><th scope=col>&lt;dbl&gt;</th></tr>\n",
       "</thead>\n",
       "<tbody>\n",
       "\t<tr><td>2017</td><td> 98.68</td><td>    NA</td><td>    NA</td><td>    NA</td><td>   NA</td><td>   NA</td><td>   NA</td><td>   NA</td><td>   NA</td><td>NA</td><td>NA</td><td>    NA</td><td>    NA</td><td>    NA</td></tr>\n",
       "\t<tr><td>2018</td><td> 99.70</td><td>    NA</td><td>    NA</td><td>    NA</td><td>   NA</td><td>   NA</td><td>   NA</td><td>   NA</td><td>   NA</td><td>NA</td><td>NA</td><td>    NA</td><td>    NA</td><td>    NA</td></tr>\n",
       "\t<tr><td>2019</td><td>100.26</td><td>    NA</td><td>    NA</td><td>    NA</td><td>   NA</td><td>   NA</td><td>   NA</td><td>   NA</td><td>   NA</td><td>NA</td><td>NA</td><td>    NA</td><td>    NA</td><td>    NA</td></tr>\n",
       "\t<tr><td>2020</td><td> 91.84</td><td>    NA</td><td>    NA</td><td>    NA</td><td>   NA</td><td>   NA</td><td>   NA</td><td>   NA</td><td>   NA</td><td>NA</td><td>NA</td><td>    NA</td><td>    NA</td><td>    NA</td></tr>\n",
       "\t<tr><td>2021</td><td> 96.88</td><td> 96.88</td><td> 96.88</td><td> 96.88</td><td>96.88</td><td>96.88</td><td>96.88</td><td>96.88</td><td>96.88</td><td>NA</td><td>NA</td><td> 96.88</td><td> 96.88</td><td> 96.88</td></tr>\n",
       "\t<tr><td>2022</td><td>    NA</td><td>100.52</td><td> 99.40</td><td>    NA</td><td>   NA</td><td>   NA</td><td>   NA</td><td>   NA</td><td>   NA</td><td>NA</td><td>NA</td><td>    NA</td><td>    NA</td><td>    NA</td></tr>\n",
       "\t<tr><td>2023</td><td>    NA</td><td>102.27</td><td>101.20</td><td>    NA</td><td>   NA</td><td>   NA</td><td>   NA</td><td>   NA</td><td>   NA</td><td>NA</td><td>NA</td><td>    NA</td><td>    NA</td><td>    NA</td></tr>\n",
       "\t<tr><td>2024</td><td>    NA</td><td>    NA</td><td>102.30</td><td>    NA</td><td>   NA</td><td>   NA</td><td>   NA</td><td>   NA</td><td>   NA</td><td>NA</td><td>NA</td><td>    NA</td><td>    NA</td><td>    NA</td></tr>\n",
       "\t<tr><td>2025</td><td>    NA</td><td>    NA</td><td>103.20</td><td>    NA</td><td>   NA</td><td>   NA</td><td>   NA</td><td>   NA</td><td>   NA</td><td>NA</td><td>NA</td><td>183.65</td><td>182.80</td><td>191.25</td></tr>\n",
       "\t<tr><td>2026</td><td>    NA</td><td>    NA</td><td>104.10</td><td>    NA</td><td>   NA</td><td>   NA</td><td>   NA</td><td>   NA</td><td>   NA</td><td>NA</td><td>NA</td><td>    NA</td><td>    NA</td><td>    NA</td></tr>\n",
       "\t<tr><td>2030</td><td>    NA</td><td>    NA</td><td>    NA</td><td>103.00</td><td>96.10</td><td>87.60</td><td>   NA</td><td>   NA</td><td>   NA</td><td>NA</td><td>NA</td><td>173.18</td><td>167.72</td><td>190.17</td></tr>\n",
       "\t<tr><td>2035</td><td>    NA</td><td>    NA</td><td>    NA</td><td>    NA</td><td>   NA</td><td>   NA</td><td>   NA</td><td>   NA</td><td>   NA</td><td>NA</td><td>NA</td><td>153.18</td><td>137.45</td><td>187.34</td></tr>\n",
       "\t<tr><td>2040</td><td>    NA</td><td>    NA</td><td>    NA</td><td>    NA</td><td>   NA</td><td>   NA</td><td>   NA</td><td>   NA</td><td>   NA</td><td>NA</td><td>NA</td><td>129.30</td><td> 95.99</td><td>181.85</td></tr>\n",
       "\t<tr><td>2045</td><td>    NA</td><td>    NA</td><td>    NA</td><td>    NA</td><td>   NA</td><td>   NA</td><td>   NA</td><td>   NA</td><td>   NA</td><td>NA</td><td>NA</td><td>108.42</td><td> 64.71</td><td>176.88</td></tr>\n",
       "\t<tr><td>2050</td><td>    NA</td><td>    NA</td><td>    NA</td><td>103.00</td><td>76.70</td><td>47.00</td><td>   NA</td><td>   NA</td><td>   NA</td><td>NA</td><td>NA</td><td> 89.33</td><td> 42.41</td><td>172.09</td></tr>\n",
       "</tbody>\n",
       "</table>\n"
      ],
      "text/latex": [
       "A data.frame: 15 × 15\n",
       "\\begin{tabular}{lllllllllllllll}\n",
       " Год & Факт & EIA & IEA & IEA..STEPS. & IEA..APS. & IEA..NZE. & BP..Rapid.scenario. & BP..Net.Zero.Scenario. & BP..Business.as.usual.scenario. & X & X.1 & BP..Rapid.scenario..1 & BP..Net.Zero.Scenario..1 & BP..Business.as.usual.scenario..1\\\\\n",
       " <int> & <dbl> & <dbl> & <dbl> & <dbl> & <dbl> & <dbl> & <dbl> & <dbl> & <dbl> & <lgl> & <lgl> & <dbl> & <dbl> & <dbl>\\\\\n",
       "\\hline\n",
       "\t 2017 &  98.68 &     NA &     NA &     NA &    NA &    NA &    NA &    NA &    NA & NA & NA &     NA &     NA &     NA\\\\\n",
       "\t 2018 &  99.70 &     NA &     NA &     NA &    NA &    NA &    NA &    NA &    NA & NA & NA &     NA &     NA &     NA\\\\\n",
       "\t 2019 & 100.26 &     NA &     NA &     NA &    NA &    NA &    NA &    NA &    NA & NA & NA &     NA &     NA &     NA\\\\\n",
       "\t 2020 &  91.84 &     NA &     NA &     NA &    NA &    NA &    NA &    NA &    NA & NA & NA &     NA &     NA &     NA\\\\\n",
       "\t 2021 &  96.88 &  96.88 &  96.88 &  96.88 & 96.88 & 96.88 & 96.88 & 96.88 & 96.88 & NA & NA &  96.88 &  96.88 &  96.88\\\\\n",
       "\t 2022 &     NA & 100.52 &  99.40 &     NA &    NA &    NA &    NA &    NA &    NA & NA & NA &     NA &     NA &     NA\\\\\n",
       "\t 2023 &     NA & 102.27 & 101.20 &     NA &    NA &    NA &    NA &    NA &    NA & NA & NA &     NA &     NA &     NA\\\\\n",
       "\t 2024 &     NA &     NA & 102.30 &     NA &    NA &    NA &    NA &    NA &    NA & NA & NA &     NA &     NA &     NA\\\\\n",
       "\t 2025 &     NA &     NA & 103.20 &     NA &    NA &    NA &    NA &    NA &    NA & NA & NA & 183.65 & 182.80 & 191.25\\\\\n",
       "\t 2026 &     NA &     NA & 104.10 &     NA &    NA &    NA &    NA &    NA &    NA & NA & NA &     NA &     NA &     NA\\\\\n",
       "\t 2030 &     NA &     NA &     NA & 103.00 & 96.10 & 87.60 &    NA &    NA &    NA & NA & NA & 173.18 & 167.72 & 190.17\\\\\n",
       "\t 2035 &     NA &     NA &     NA &     NA &    NA &    NA &    NA &    NA &    NA & NA & NA & 153.18 & 137.45 & 187.34\\\\\n",
       "\t 2040 &     NA &     NA &     NA &     NA &    NA &    NA &    NA &    NA &    NA & NA & NA & 129.30 &  95.99 & 181.85\\\\\n",
       "\t 2045 &     NA &     NA &     NA &     NA &    NA &    NA &    NA &    NA &    NA & NA & NA & 108.42 &  64.71 & 176.88\\\\\n",
       "\t 2050 &     NA &     NA &     NA & 103.00 & 76.70 & 47.00 &    NA &    NA &    NA & NA & NA &  89.33 &  42.41 & 172.09\\\\\n",
       "\\end{tabular}\n"
      ],
      "text/markdown": [
       "\n",
       "A data.frame: 15 × 15\n",
       "\n",
       "| Год &lt;int&gt; | Факт &lt;dbl&gt; | EIA &lt;dbl&gt; | IEA &lt;dbl&gt; | IEA..STEPS. &lt;dbl&gt; | IEA..APS. &lt;dbl&gt; | IEA..NZE. &lt;dbl&gt; | BP..Rapid.scenario. &lt;dbl&gt; | BP..Net.Zero.Scenario. &lt;dbl&gt; | BP..Business.as.usual.scenario. &lt;dbl&gt; | X &lt;lgl&gt; | X.1 &lt;lgl&gt; | BP..Rapid.scenario..1 &lt;dbl&gt; | BP..Net.Zero.Scenario..1 &lt;dbl&gt; | BP..Business.as.usual.scenario..1 &lt;dbl&gt; |\n",
       "|---|---|---|---|---|---|---|---|---|---|---|---|---|---|---|\n",
       "| 2017 |  98.68 |     NA |     NA |     NA |    NA |    NA |    NA |    NA |    NA | NA | NA |     NA |     NA |     NA |\n",
       "| 2018 |  99.70 |     NA |     NA |     NA |    NA |    NA |    NA |    NA |    NA | NA | NA |     NA |     NA |     NA |\n",
       "| 2019 | 100.26 |     NA |     NA |     NA |    NA |    NA |    NA |    NA |    NA | NA | NA |     NA |     NA |     NA |\n",
       "| 2020 |  91.84 |     NA |     NA |     NA |    NA |    NA |    NA |    NA |    NA | NA | NA |     NA |     NA |     NA |\n",
       "| 2021 |  96.88 |  96.88 |  96.88 |  96.88 | 96.88 | 96.88 | 96.88 | 96.88 | 96.88 | NA | NA |  96.88 |  96.88 |  96.88 |\n",
       "| 2022 |     NA | 100.52 |  99.40 |     NA |    NA |    NA |    NA |    NA |    NA | NA | NA |     NA |     NA |     NA |\n",
       "| 2023 |     NA | 102.27 | 101.20 |     NA |    NA |    NA |    NA |    NA |    NA | NA | NA |     NA |     NA |     NA |\n",
       "| 2024 |     NA |     NA | 102.30 |     NA |    NA |    NA |    NA |    NA |    NA | NA | NA |     NA |     NA |     NA |\n",
       "| 2025 |     NA |     NA | 103.20 |     NA |    NA |    NA |    NA |    NA |    NA | NA | NA | 183.65 | 182.80 | 191.25 |\n",
       "| 2026 |     NA |     NA | 104.10 |     NA |    NA |    NA |    NA |    NA |    NA | NA | NA |     NA |     NA |     NA |\n",
       "| 2030 |     NA |     NA |     NA | 103.00 | 96.10 | 87.60 |    NA |    NA |    NA | NA | NA | 173.18 | 167.72 | 190.17 |\n",
       "| 2035 |     NA |     NA |     NA |     NA |    NA |    NA |    NA |    NA |    NA | NA | NA | 153.18 | 137.45 | 187.34 |\n",
       "| 2040 |     NA |     NA |     NA |     NA |    NA |    NA |    NA |    NA |    NA | NA | NA | 129.30 |  95.99 | 181.85 |\n",
       "| 2045 |     NA |     NA |     NA |     NA |    NA |    NA |    NA |    NA |    NA | NA | NA | 108.42 |  64.71 | 176.88 |\n",
       "| 2050 |     NA |     NA |     NA | 103.00 | 76.70 | 47.00 |    NA |    NA |    NA | NA | NA |  89.33 |  42.41 | 172.09 |\n",
       "\n"
      ],
      "text/plain": [
       "   Год  Факт   EIA    IEA    IEA..STEPS. IEA..APS. IEA..NZE.\n",
       "1  2017  98.68     NA     NA     NA         NA        NA    \n",
       "2  2018  99.70     NA     NA     NA         NA        NA    \n",
       "3  2019 100.26     NA     NA     NA         NA        NA    \n",
       "4  2020  91.84     NA     NA     NA         NA        NA    \n",
       "5  2021  96.88  96.88  96.88  96.88      96.88     96.88    \n",
       "6  2022     NA 100.52  99.40     NA         NA        NA    \n",
       "7  2023     NA 102.27 101.20     NA         NA        NA    \n",
       "8  2024     NA     NA 102.30     NA         NA        NA    \n",
       "9  2025     NA     NA 103.20     NA         NA        NA    \n",
       "10 2026     NA     NA 104.10     NA         NA        NA    \n",
       "11 2030     NA     NA     NA 103.00      96.10     87.60    \n",
       "12 2035     NA     NA     NA     NA         NA        NA    \n",
       "13 2040     NA     NA     NA     NA         NA        NA    \n",
       "14 2045     NA     NA     NA     NA         NA        NA    \n",
       "15 2050     NA     NA     NA 103.00      76.70     47.00    \n",
       "   BP..Rapid.scenario. BP..Net.Zero.Scenario. BP..Business.as.usual.scenario.\n",
       "1     NA                  NA                     NA                          \n",
       "2     NA                  NA                     NA                          \n",
       "3     NA                  NA                     NA                          \n",
       "4     NA                  NA                     NA                          \n",
       "5  96.88               96.88                  96.88                          \n",
       "6     NA                  NA                     NA                          \n",
       "7     NA                  NA                     NA                          \n",
       "8     NA                  NA                     NA                          \n",
       "9     NA                  NA                     NA                          \n",
       "10    NA                  NA                     NA                          \n",
       "11    NA                  NA                     NA                          \n",
       "12    NA                  NA                     NA                          \n",
       "13    NA                  NA                     NA                          \n",
       "14    NA                  NA                     NA                          \n",
       "15    NA                  NA                     NA                          \n",
       "   X  X.1 BP..Rapid.scenario..1 BP..Net.Zero.Scenario..1\n",
       "1  NA NA      NA                    NA                  \n",
       "2  NA NA      NA                    NA                  \n",
       "3  NA NA      NA                    NA                  \n",
       "4  NA NA      NA                    NA                  \n",
       "5  NA NA   96.88                 96.88                  \n",
       "6  NA NA      NA                    NA                  \n",
       "7  NA NA      NA                    NA                  \n",
       "8  NA NA      NA                    NA                  \n",
       "9  NA NA  183.65                182.80                  \n",
       "10 NA NA      NA                    NA                  \n",
       "11 NA NA  173.18                167.72                  \n",
       "12 NA NA  153.18                137.45                  \n",
       "13 NA NA  129.30                 95.99                  \n",
       "14 NA NA  108.42                 64.71                  \n",
       "15 NA NA   89.33                 42.41                  \n",
       "   BP..Business.as.usual.scenario..1\n",
       "1      NA                           \n",
       "2      NA                           \n",
       "3      NA                           \n",
       "4      NA                           \n",
       "5   96.88                           \n",
       "6      NA                           \n",
       "7      NA                           \n",
       "8      NA                           \n",
       "9  191.25                           \n",
       "10     NA                           \n",
       "11 190.17                           \n",
       "12 187.34                           \n",
       "13 181.85                           \n",
       "14 176.88                           \n",
       "15 172.09                           "
      ]
     },
     "metadata": {},
     "output_type": "display_data"
    }
   ],
   "source": [
    "data"
   ]
  },
  {
   "cell_type": "code",
   "execution_count": 20,
   "id": "6febb5f2",
   "metadata": {
    "ExecuteTime": {
     "end_time": "2022-02-06T10:54:54.666607Z",
     "start_time": "2022-02-06T10:54:54.632Z"
    }
   },
   "outputs": [
    {
     "data": {
      "text/html": [
       "<style>\n",
       ".list-inline {list-style: none; margin:0; padding: 0}\n",
       ".list-inline>li {display: inline-block}\n",
       ".list-inline>li:not(:last-child)::after {content: \"\\00b7\"; padding: 0 .5ex}\n",
       "</style>\n",
       "<ol class=list-inline><li>'Год'</li><li>'Факт'</li><li>'EIA'</li><li>'IEA'</li><li>'IEA..STEPS.'</li><li>'IEA..APS.'</li><li>'IEA..NZE.'</li><li>'BP..Rapid.scenario.'</li><li>'BP..Net.Zero.Scenario.'</li><li>'BP..Business.as.usual.scenario.'</li><li>'X'</li><li>'X.1'</li><li>'BP..Rapid.scenario..1'</li><li>'BP..Net.Zero.Scenario..1'</li><li>'BP..Business.as.usual.scenario..1'</li></ol>\n"
      ],
      "text/latex": [
       "\\begin{enumerate*}\n",
       "\\item 'Год'\n",
       "\\item 'Факт'\n",
       "\\item 'EIA'\n",
       "\\item 'IEA'\n",
       "\\item 'IEA..STEPS.'\n",
       "\\item 'IEA..APS.'\n",
       "\\item 'IEA..NZE.'\n",
       "\\item 'BP..Rapid.scenario.'\n",
       "\\item 'BP..Net.Zero.Scenario.'\n",
       "\\item 'BP..Business.as.usual.scenario.'\n",
       "\\item 'X'\n",
       "\\item 'X.1'\n",
       "\\item 'BP..Rapid.scenario..1'\n",
       "\\item 'BP..Net.Zero.Scenario..1'\n",
       "\\item 'BP..Business.as.usual.scenario..1'\n",
       "\\end{enumerate*}\n"
      ],
      "text/markdown": [
       "1. 'Год'\n",
       "2. 'Факт'\n",
       "3. 'EIA'\n",
       "4. 'IEA'\n",
       "5. 'IEA..STEPS.'\n",
       "6. 'IEA..APS.'\n",
       "7. 'IEA..NZE.'\n",
       "8. 'BP..Rapid.scenario.'\n",
       "9. 'BP..Net.Zero.Scenario.'\n",
       "10. 'BP..Business.as.usual.scenario.'\n",
       "11. 'X'\n",
       "12. 'X.1'\n",
       "13. 'BP..Rapid.scenario..1'\n",
       "14. 'BP..Net.Zero.Scenario..1'\n",
       "15. 'BP..Business.as.usual.scenario..1'\n",
       "\n",
       "\n"
      ],
      "text/plain": [
       " [1] \"Год\"                               \"Факт\"                             \n",
       " [3] \"EIA\"                               \"IEA\"                              \n",
       " [5] \"IEA..STEPS.\"                       \"IEA..APS.\"                        \n",
       " [7] \"IEA..NZE.\"                         \"BP..Rapid.scenario.\"              \n",
       " [9] \"BP..Net.Zero.Scenario.\"            \"BP..Business.as.usual.scenario.\"  \n",
       "[11] \"X\"                                 \"X.1\"                              \n",
       "[13] \"BP..Rapid.scenario..1\"             \"BP..Net.Zero.Scenario..1\"         \n",
       "[15] \"BP..Business.as.usual.scenario..1\""
      ]
     },
     "metadata": {},
     "output_type": "display_data"
    }
   ],
   "source": [
    "colnames(data)"
   ]
  },
  {
   "cell_type": "code",
   "execution_count": 28,
   "id": "0aa6a055",
   "metadata": {
    "ExecuteTime": {
     "end_time": "2022-02-06T10:57:25.225699Z",
     "start_time": "2022-02-06T10:57:25.156Z"
    }
   },
   "outputs": [
    {
     "name": "stderr",
     "output_type": "stream",
     "text": [
      "ERROR while rich displaying an object: Error in FUN(X[[i]], ...): object 'Факт' not found\n",
      "\n",
      "Traceback:\n",
      "1. FUN(X[[i]], ...)\n",
      "2. tryCatch(withCallingHandlers({\n",
      " .     if (!mime %in% names(repr::mime2repr)) \n",
      " .         stop(\"No repr_* for mimetype \", mime, \" in repr::mime2repr\")\n",
      " .     rpr <- repr::mime2repr[[mime]](obj)\n",
      " .     if (is.null(rpr)) \n",
      " .         return(NULL)\n",
      " .     prepare_content(is.raw(rpr), rpr)\n",
      " . }, error = error_handler), error = outer_handler)\n",
      "3. tryCatchList(expr, classes, parentenv, handlers)\n",
      "4. tryCatchOne(expr, names, parentenv, handlers[[1L]])\n",
      "5. doTryCatch(return(expr), name, parentenv, handler)\n",
      "6. withCallingHandlers({\n",
      " .     if (!mime %in% names(repr::mime2repr)) \n",
      " .         stop(\"No repr_* for mimetype \", mime, \" in repr::mime2repr\")\n",
      " .     rpr <- repr::mime2repr[[mime]](obj)\n",
      " .     if (is.null(rpr)) \n",
      " .         return(NULL)\n",
      " .     prepare_content(is.raw(rpr), rpr)\n",
      " . }, error = error_handler)\n",
      "7. repr::mime2repr[[mime]](obj)\n",
      "8. repr_text.default(obj)\n",
      "9. paste(capture.output(print(obj)), collapse = \"\\n\")\n",
      "10. capture.output(print(obj))\n",
      "11. evalVis(expr)\n",
      "12. withVisible(eval(expr, pf))\n",
      "13. eval(expr, pf)\n",
      "14. eval(expr, pf)\n",
      "15. print(obj)\n",
      "16. print.ggplot(obj)\n",
      "17. ggplot_build(x)\n",
      "18. ggplot_build.ggplot(x)\n",
      "19. by_layer(function(l, d) l$compute_aesthetics(d, plot))\n",
      "20. f(l = layers[[i]], d = data[[i]])\n",
      "21. l$compute_aesthetics(d, plot)\n",
      "22. f(..., self = self)\n",
      "23. lapply(aesthetics, eval_tidy, data = data, env = env)\n",
      "24. FUN(X[[i]], ...)\n"
     ]
    },
    {
     "data": {
      "image/png": "[encoded data removed]",
      "text/plain": [
       "plot without title"
      ]
     },
     "metadata": {
      "image/png": {
       "height": 420,
       "width": 420
      }
     },
     "output_type": "display_data"
    }
   ],
   "source": [
    "ggplot(data, aes(x=Год,y=Факт)) + \n",
    "    geom_line() + \n",
    "    geom_line(data = data[,c(1,5)])\n"
   ]
  }
 ],
 "metadata": {
  "hide_input": false,
  "kernelspec": {
   "display_name": "R 4.0.2",
   "language": "R",
   "name": "ir"
  },
  "language_info": {
   "codemirror_mode": "r",
   "file_extension": ".r",
   "mimetype": "text/x-r-source",
   "name": "R",
   "pygments_lexer": "r",
   "version": "4.1.2"
  },
  "latex_envs": {
   "LaTeX_envs_menu_present": true,
   "autoclose": true,
   "autocomplete": true,
   "bibliofile": "biblio.bib",
   "cite_by": "apalike",
   "current_citInitial": 1,
   "eqLabelWithNumbers": true,
   "eqNumInitial": 1,
   "hotkeys": {
    "equation": "Ctrl-E",
    "itemize": "Ctrl-I"
   },
   "labels_anchors": false,
   "latex_user_defs": false,
   "report_style_numbering": false,
   "user_envs_cfg": false
  },
  "toc": {
   "base_numbering": 1,
   "nav_menu": {},
   "number_sections": true,
   "sideBar": true,
   "skip_h1_title": false,
   "title_cell": "Table of Contents",
   "title_sidebar": "Contents",
   "toc_cell": false,
   "toc_position": {},
   "toc_section_display": true,
   "toc_window_display": false
  },
  "varInspector": {
   "cols": {
    "lenName": 16,
    "lenType": 16,
    "lenVar": 40
   },
   "kernels_config": {
    "python": {
     "delete_cmd_postfix": "",
     "delete_cmd_prefix": "del ",
     "library": "var_list.py",
     "varRefreshCmd": "print(var_dic_list())"
    },
    "r": {
     "delete_cmd_postfix": ") ",
     "delete_cmd_prefix": "rm(",
     "library": "var_list.r",
     "varRefreshCmd": "cat(var_dic_list()) "
    }
   },
   "types_to_exclude": [
    "module",
    "function",
    "builtin_function_or_method",
    "instance",
    "_Feature"
   ],
   "window_display": false
  }
 },
 "nbformat": 4,
 "nbformat_minor": 5
}
