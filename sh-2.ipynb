{
 "cells": [
  {
   "cell_type": "code",
   "execution_count": 1,
   "id": "d5c9c231",
   "metadata": {
    "ExecuteTime": {
     "end_time": "2022-05-17T07:40:12.268362Z",
     "start_time": "2022-05-17T07:40:11.961595Z"
    }
   },
   "outputs": [],
   "source": [
    "import pandas as pd"
   ]
  },
  {
   "cell_type": "code",
   "execution_count": 6,
   "id": "9520adad",
   "metadata": {
    "ExecuteTime": {
     "end_time": "2022-05-17T07:41:58.722948Z",
     "start_time": "2022-05-17T07:41:58.681347Z"
    }
   },
   "outputs": [],
   "source": [
    "data1 = pd.read_excel('06.xls', '4.2')"
   ]
  },
  {
   "cell_type": "code",
   "execution_count": 136,
   "id": "08c96032",
   "metadata": {
    "ExecuteTime": {
     "end_time": "2022-05-17T08:47:47.426571Z",
     "start_time": "2022-05-17T08:47:47.033418Z"
    }
   },
   "outputs": [],
   "source": [
    "listdf = list()\n",
    "for i in range(9):\n",
    "    data1 = pd.read_excel('06.xls', '4.'+str(i+2), index_col=0)\n",
    "    list_in = []\n",
    "    for j in [ 'Республика Бурятия',\n",
    "           'Республика Саха (Якутия)', 'Забайкальский край', \n",
    "            'Камчатская область', 'Камчатский край', \n",
    "              'Приморский край', 'Хабаровский край',\n",
    "           'Амурская область', \n",
    "           'Магаданская область', 'Сахалинская область',\n",
    "           'Еврейская автономная область', 'Чукотский автономный округ',\n",
    "              '  в том числе Hенецкий автономный округ', \n",
    "              'Мурманская область',\n",
    "           'Ямало-Ненецкий автономный округ']: \n",
    "        if j in data1.index:\n",
    "            list_in.append(j)\n",
    "\n",
    "    list_in\n",
    "\n",
    "    dat2 = data1.loc[list_in,:]\n",
    "    dat2.columns = data1.iloc[8,:]\n",
    "    dat2.index.name = data1.index[3]\n",
    "#     dat2.loc[:,['2004','2005']]\n",
    "    listdf.append(dat2)"
   ]
  },
  {
   "cell_type": "code",
   "execution_count": 137,
   "id": "e434a2dc",
   "metadata": {
    "ExecuteTime": {
     "end_time": "2022-05-17T08:47:48.479017Z",
     "start_time": "2022-05-17T08:47:48.454910Z"
    }
   },
   "outputs": [],
   "source": [
    "for i in range(len(listdf)):\n",
    "    listdf[i].to_csv('2006/sx'+str(i+1)+'.csv') "
   ]
  },
  {
   "cell_type": "code",
   "execution_count": 145,
   "id": "23789681",
   "metadata": {
    "ExecuteTime": {
     "end_time": "2022-05-17T08:49:29.280264Z",
     "start_time": "2022-05-17T08:49:28.709219Z"
    }
   },
   "outputs": [],
   "source": [
    "listdf = list()\n",
    "for i in range(9):\n",
    "    data1 = pd.read_excel('07.xls', '4.'+str(i+2), index_col=0)\n",
    "    list_in = []\n",
    "    for j in [ 'Республика Бурятия',\n",
    "           'Республика Саха (Якутия)', 'Забайкальский край', \n",
    "            'Камчатская область', 'Камчатский край', \n",
    "              'Приморский край', 'Хабаровский край',\n",
    "           'Амурская область', \n",
    "           'Магаданская область', 'Сахалинская область',\n",
    "           'Еврейская автономная область', 'Чукотский автономный округ',\n",
    "              '  в том числе Hенецкий автономный округ', \n",
    "              'Мурманская область',\n",
    "           'Ямало-Ненецкий автономный округ']: \n",
    "        if j in data1.index:\n",
    "            list_in.append(j)\n",
    "\n",
    "    list_in\n",
    "\n",
    "    dat2 = data1.loc[list_in,:]\n",
    "    dat2.columns = data1.iloc[8,:]\n",
    "    dat2.index.name = data1.index[3]\n",
    "#     dat2.loc[:,['2004','2005']]\n",
    "    listdf.append(dat2)"
   ]
  },
  {
   "cell_type": "code",
   "execution_count": 142,
   "id": "0c2efce4",
   "metadata": {
    "ExecuteTime": {
     "end_time": "2022-05-17T08:48:20.594596Z",
     "start_time": "2022-05-17T08:48:20.582118Z"
    }
   },
   "outputs": [],
   "source": [
    "for i in range(len(listdf)):\n",
    "    listdf[i].to_csv('2007/sx'+str(i+1)+'.csv') "
   ]
  },
  {
   "cell_type": "code",
   "execution_count": 330,
   "id": "b18f5066",
   "metadata": {
    "ExecuteTime": {
     "end_time": "2022-05-17T09:40:23.436676Z",
     "start_time": "2022-05-17T09:40:23.015139Z"
    }
   },
   "outputs": [],
   "source": [
    "listdf = list()\n",
    "for i in range(9):\n",
    "    data1 = pd.read_excel('08.xls', '4.'+str(i+2), index_col=0)\n",
    "    list_in = []\n",
    "    for j in [ 'Республика Бурятия',\n",
    "           'Республика Саха (Якутия)', 'Забайкальский край', \n",
    "            'Камчатская область', 'Камчатский край', \n",
    "              'Приморский край', 'Хабаровский край',\n",
    "           'Амурская область', \n",
    "           'Магаданская область', 'Сахалинская область',\n",
    "           'Еврейская автономная область', 'Чукотский автономный округ',\n",
    "              '  в том числе Hенецкий автономный округ', \n",
    "              'Мурманская область',\n",
    "           'Ямало-Ненецкий автономный округ']: \n",
    "        if j in data1.index:\n",
    "            list_in.append(j)\n",
    "\n",
    "    list_in\n",
    "\n",
    "    dat2 = data1.loc[list_in,:]\n",
    "    dat2.columns = data1.iloc[9,:]\n",
    "    dat2.index.name = data1.index[6]\n",
    "#     dat2.loc[:,['2004','2005']]\n",
    "    listdf.append(dat2)"
   ]
  },
  {
   "cell_type": "code",
   "execution_count": 331,
   "id": "0acf5804",
   "metadata": {
    "ExecuteTime": {
     "end_time": "2022-05-17T09:40:24.008289Z",
     "start_time": "2022-05-17T09:40:24.003904Z"
    }
   },
   "outputs": [
    {
     "data": {
      "text/html": [
       "<div>\n",
       "<style scoped>\n",
       "    .dataframe tbody tr th:only-of-type {\n",
       "        vertical-align: middle;\n",
       "    }\n",
       "\n",
       "    .dataframe tbody tr th {\n",
       "        vertical-align: top;\n",
       "    }\n",
       "\n",
       "    .dataframe thead th {\n",
       "        text-align: right;\n",
       "    }\n",
       "</style>\n",
       "<table border=\"1\" class=\"dataframe\">\n",
       "  <thead>\n",
       "    <tr style=\"text-align: right;\">\n",
       "      <th>nan</th>\n",
       "      <th>2006</th>\n",
       "      <th>2007</th>\n",
       "      <th>2008</th>\n",
       "      <th>к 2007</th>\n",
       "    </tr>\n",
       "    <tr>\n",
       "      <th>(в хозяйствах всех категорий)</th>\n",
       "      <th></th>\n",
       "      <th></th>\n",
       "      <th></th>\n",
       "      <th></th>\n",
       "    </tr>\n",
       "  </thead>\n",
       "  <tbody>\n",
       "  </tbody>\n",
       "</table>\n",
       "</div>"
      ],
      "text/plain": [
       "Empty DataFrame\n",
       "Columns: [2006, 2007, 2008,  к 2007]\n",
       "Index: []"
      ]
     },
     "execution_count": 331,
     "metadata": {},
     "output_type": "execute_result"
    }
   ],
   "source": [
    "listdf[1]"
   ]
  },
  {
   "cell_type": "code",
   "execution_count": 332,
   "id": "70e40636",
   "metadata": {
    "ExecuteTime": {
     "end_time": "2022-05-17T09:40:28.208672Z",
     "start_time": "2022-05-17T09:40:28.199578Z"
    }
   },
   "outputs": [],
   "source": [
    "for i in range(len(listdf)):\n",
    "    listdf[i].to_csv('2008/sx'+str(i+1)+'.csv') "
   ]
  },
  {
   "cell_type": "code",
   "execution_count": 377,
   "id": "e0f320d4",
   "metadata": {
    "ExecuteTime": {
     "end_time": "2022-05-17T09:54:33.964703Z",
     "start_time": "2022-05-17T09:54:33.481469Z"
    }
   },
   "outputs": [],
   "source": [
    "listdf = list()\n",
    "for i in range(9):\n",
    "    data1 = pd.read_excel('09.xls', '4.'+str(i+2), index_col=0)\n",
    "    list_in = []\n",
    "    for j in [ 'Республика Бурятия',\n",
    "           'Республика Саха (Якутия)', 'Забайкальский край', \n",
    "            'Камчатская область', 'Камчатский край', \n",
    "              'Приморский край', 'Хабаровский край',\n",
    "           'Амурская область', \n",
    "           'Магаданская область', 'Сахалинская область',\n",
    "           'Еврейская автономная область', 'Чукотский автономный округ',\n",
    "              '  в том числе Hенецкий автономный округ', \n",
    "              ' в том числе Hенецкий автономный округ',\n",
    "              'Мурманская область',\n",
    "           'Ямало-Ненецкий автономный округ']: \n",
    "        if j in data1.index:\n",
    "            list_in.append(j)\n",
    "\n",
    "    list_in\n",
    "\n",
    "    dat2 = data1.loc[list_in,:]\n",
    "    dat2.columns = data1.iloc[9,:]\n",
    "    dat2.index.name = data1.index[6]\n",
    "#     dat2.loc[:,['2004','2005']]\n",
    "    listdf.append(dat2)"
   ]
  },
  {
   "cell_type": "code",
   "execution_count": 374,
   "id": "b1109e9d",
   "metadata": {
    "ExecuteTime": {
     "end_time": "2022-05-17T09:54:14.812166Z",
     "start_time": "2022-05-17T09:54:14.809527Z"
    }
   },
   "outputs": [],
   "source": [
    "# list(data1.index)\n"
   ]
  },
  {
   "cell_type": "code",
   "execution_count": 341,
   "id": "88602ee0",
   "metadata": {
    "ExecuteTime": {
     "end_time": "2022-05-17T09:42:39.587683Z",
     "start_time": "2022-05-17T09:42:39.577097Z"
    }
   },
   "outputs": [
    {
     "data": {
      "text/html": [
       "<div>\n",
       "<style scoped>\n",
       "    .dataframe tbody tr th:only-of-type {\n",
       "        vertical-align: middle;\n",
       "    }\n",
       "\n",
       "    .dataframe tbody tr th {\n",
       "        vertical-align: top;\n",
       "    }\n",
       "\n",
       "    .dataframe thead th {\n",
       "        text-align: right;\n",
       "    }\n",
       "</style>\n",
       "<table border=\"1\" class=\"dataframe\">\n",
       "  <thead>\n",
       "    <tr style=\"text-align: right;\">\n",
       "      <th>nan</th>\n",
       "      <th>2007</th>\n",
       "      <th>2008</th>\n",
       "      <th>2009</th>\n",
       "      <th>к 2008</th>\n",
       "    </tr>\n",
       "    <tr>\n",
       "      <th>(в хозяйствах всех категорий)</th>\n",
       "      <th></th>\n",
       "      <th></th>\n",
       "      <th></th>\n",
       "      <th></th>\n",
       "    </tr>\n",
       "  </thead>\n",
       "  <tbody>\n",
       "  </tbody>\n",
       "</table>\n",
       "</div>"
      ],
      "text/plain": [
       "Empty DataFrame\n",
       "Columns: [2007, 2008, 2009,  к 2008]\n",
       "Index: []"
      ]
     },
     "execution_count": 341,
     "metadata": {},
     "output_type": "execute_result"
    }
   ],
   "source": [
    "listdf[1]"
   ]
  },
  {
   "cell_type": "code",
   "execution_count": 378,
   "id": "ff6f1b57",
   "metadata": {
    "ExecuteTime": {
     "end_time": "2022-05-17T09:54:35.878887Z",
     "start_time": "2022-05-17T09:54:35.862217Z"
    }
   },
   "outputs": [],
   "source": [
    "# dat2\n",
    "for i in range(len(listdf)):\n",
    "    listdf[i].to_csv('2009/sx'+str(i+1)+'.csv') \n",
    "    \n",
    "#     +10-18"
   ]
  },
  {
   "cell_type": "code",
   "execution_count": 386,
   "id": "47695674",
   "metadata": {
    "ExecuteTime": {
     "end_time": "2022-05-17T09:55:44.375782Z",
     "start_time": "2022-05-17T09:55:44.000062Z"
    }
   },
   "outputs": [],
   "source": [
    "listdf = list()\n",
    "for i in range(9):\n",
    "    data1 = pd.read_excel('13.xls', '4.'+str(i+2), index_col=0)\n",
    "    list_in = []\n",
    "    for j in [ 'Республика Бурятия',\n",
    "           'Республика Саха (Якутия)', 'Забайкальский край', \n",
    "            'Камчатская область', 'Камчатский край', \n",
    "              'Приморский край', 'Хабаровский край',\n",
    "           'Амурская область', \n",
    "           'Магаданская область', 'Сахалинская область',\n",
    "           'Еврейская автономная область', 'Чукотский автономный округ',\n",
    "              '  в том числе Hенецкий автономный округ', \n",
    "              ' в том числе Hенецкий автономный округ',\n",
    "              'Hенецкий автономный  округ', \n",
    "              'Hенецкий автономный округ',\n",
    "              'Мурманская область',\n",
    "           'Ямало-Ненецкий автономный округ']: \n",
    "        if j in data1.index:\n",
    "            list_in.append(j)\n",
    "\n",
    "    list_in\n",
    "\n",
    "    dat2 = data1.loc[list_in,:]\n",
    "    dat2.columns = data1.iloc[11,:]\n",
    "    dat2.index.name = data1.index[6]\n",
    "#     dat2.loc[:,['2004','2005']]\n",
    "    listdf.append(dat2)\n",
    "    \n",
    "listdf[6]    \n",
    "for i in range(len(listdf)):\n",
    "    listdf[i].to_csv('2013/sx'+str(i+1)+'.csv') "
   ]
  },
  {
   "cell_type": "code",
   "execution_count": 254,
   "id": "eeb613ea",
   "metadata": {
    "ExecuteTime": {
     "end_time": "2022-05-17T09:17:46.679911Z",
     "start_time": "2022-05-17T09:17:46.460464Z"
    }
   },
   "outputs": [],
   "source": [
    "listdf = list()\n",
    "for i in range(9):\n",
    "    data1 = pd.read_excel('19.xls', '4.'+str(i+2), index_col=0)\n",
    "    list_in = []\n",
    "    for j in [ 'Республика Бурятия',\n",
    "           'Республика Саха (Якутия)', 'Забайкальский край', \n",
    "            'Камчатская область', 'Камчатский край', \n",
    "              'Приморский край', 'Хабаровский край',\n",
    "           'Амурская область', \n",
    "           'Магаданская область', 'Сахалинская область',\n",
    "           'Еврейская автономная область', 'Чукотский автономный округ',\n",
    "              '  в том числе Hенецкий автономный округ', \n",
    "              'Hенецкий автономный  округ', \n",
    "              'Hенецкий автономный округ',\n",
    "              'Мурманская область',\n",
    "           'Ямало-Ненецкий автономный округ']: \n",
    "        if j in data1.index:\n",
    "            list_in.append(j)\n",
    "\n",
    "    list_in\n",
    "\n",
    "    dat2 = data1.loc[list_in,:]\n",
    "    dat2.columns = data1.iloc[11,:]\n",
    "    dat2.index.name = data1.index[6]\n",
    "#     dat2.loc[:,['2004','2005']]\n",
    "    listdf.append(dat2)\n",
    "    \n",
    "listdf[0]    \n",
    "for i in range(len(listdf)):\n",
    "    listdf[i].to_csv('2019/sx'+str(i+1)+'.csv') "
   ]
  },
  {
   "cell_type": "code",
   "execution_count": 263,
   "id": "9c11f14d",
   "metadata": {
    "ExecuteTime": {
     "end_time": "2022-05-17T09:19:21.342228Z",
     "start_time": "2022-05-17T09:19:21.092162Z"
    }
   },
   "outputs": [],
   "source": [
    "listdf = list()\n",
    "for i in range(9):\n",
    "    data1 = pd.read_excel('21.xls', '4.'+str(i+2), index_col=0)\n",
    "    list_in = []\n",
    "    for j in [ 'Республика Бурятия',\n",
    "           'Республика Саха (Якутия)', 'Забайкальский край', \n",
    "            'Камчатская область', 'Камчатский край', \n",
    "              'Приморский край', 'Хабаровский край',\n",
    "           'Амурская область', \n",
    "           'Магаданская область', 'Сахалинская область',\n",
    "           'Еврейская автономная область', 'Чукотский автономный округ',\n",
    "              '  в том числе Hенецкий автономный округ', \n",
    "              'Hенецкий автономный  округ', \n",
    "              'Hенецкий автономный округ',\n",
    "              'Мурманская область',\n",
    "           'Ямало-Ненецкий автономный округ']: \n",
    "        if j in data1.index:\n",
    "            list_in.append(j)\n",
    "\n",
    "    list_in\n",
    "\n",
    "    dat2 = data1.loc[list_in,:]\n",
    "    dat2.columns = data1.iloc[11,:]\n",
    "    dat2.index.name = data1.index[6]\n",
    "#     dat2.loc[:,['2004','2005']]\n",
    "    listdf.append(dat2)\n",
    "    \n",
    "listdf[0]    \n",
    "for i in range(len(listdf)):\n",
    "    listdf[i].to_csv('2021/sx'+str(i+1)+'.csv') "
   ]
  },
  {
   "cell_type": "code",
   "execution_count": 208,
   "id": "4ee63d97",
   "metadata": {
    "ExecuteTime": {
     "end_time": "2022-05-17T09:07:54.489210Z",
     "start_time": "2022-05-17T09:07:54.483246Z"
    }
   },
   "outputs": [
    {
     "data": {
      "text/plain": [
       "[0, 1, 2, 3, 4, 5, 6, 7, 8, 9, 10, 11, 12, 13, 14, 15, 16, 17, 18, 19, 20]"
      ]
     },
     "execution_count": 208,
     "metadata": {},
     "output_type": "execute_result"
    }
   ],
   "source": []
  },
  {
   "cell_type": "code",
   "execution_count": 439,
   "id": "f2dca625",
   "metadata": {
    "ExecuteTime": {
     "end_time": "2022-05-17T10:10:19.365005Z",
     "start_time": "2022-05-17T10:10:19.334794Z"
    }
   },
   "outputs": [
    {
     "name": "stdout",
     "output_type": "stream",
     "text": [
      "Index(['2004', '2005', 'aaa', 'населения в общем', 'населения в общем.1'], dtype='object')\n",
      "Index(['2005', '2006.0', '2005.1', 'населения в общем', 'населения в общем.1'], dtype='object')\n",
      "Index(['            Млн.штук', 'Unnamed: 2', 'Unnamed: 3', '2008',\n",
      "       'Удельный вес произ-', 'Удельный вес произ-.1'],\n",
      "      dtype='object')\n",
      "Index(['      Млн. штук', 'Unnamed: 2', 'Unnamed: 3', '2009',\n",
      "       'Удельный вес произ-', 'Удельный вес произ-.1'],\n",
      "      dtype='object')\n",
      "Index(['2008', '2009.0', '2010.0', '2009', 'населения в общем',\n",
      "       'населения в общем.1'],\n",
      "      dtype='object')\n",
      "Index(['2009', '2010.0', '2011.0', '2010', 'населения в общем',\n",
      "       'населения в общем.1'],\n",
      "      dtype='object')\n",
      "Index(['2010', '2011.0', '2012.0', '2011', 'населения в общем',\n",
      "       'населения в общем.1'],\n",
      "      dtype='object')\n",
      "Index(['2011', '2012.0', '2013.0', '2012', 'населения в общем',\n",
      "       'населения в общем.1'],\n",
      "      dtype='object')\n",
      "Index(['2012', '2013.0', '2014.0', '2013', 'населения в общем',\n",
      "       'населения в общем.1'],\n",
      "      dtype='object')\n",
      "Index(['2013', '2014.0', '2015.0', '2014', 'населения в общем',\n",
      "       'населения в общем.1'],\n",
      "      dtype='object')\n",
      "Index(['2014', '2015.0', '2016.0', '2015', 'населения в общем',\n",
      "       'населения в общем.1'],\n",
      "      dtype='object')\n",
      "Index(['2015', '2016.0', '2017.0', '2016', 'населения в общем',\n",
      "       'населения в общем.1'],\n",
      "      dtype='object')\n",
      "Index(['Unnamed: 1', 'Unnamed: 2', 'Unnamed: 3', '2018', 'населения в общем'], dtype='object')\n",
      "Index(['Unnamed: 1', 'Unnamed: 2', 'Unnamed: 3', '2020', 'населения в общем'], dtype='object')\n"
     ]
    }
   ],
   "source": [
    "list123 = []\n",
    "for i in [0, 1, 2, 3, 4, 5, 6, 7, 8, 9, 10, 11, 13, 15]:\n",
    "    dfload = pd.read_csv(str(i+2006)+'/sx9.csv', index_col=0)\n",
    "    list123.append(dfload)\n",
    "    print(dfload.columns)\n"
   ]
  },
  {
   "cell_type": "code",
   "execution_count": 405,
   "id": "7833936d",
   "metadata": {
    "ExecuteTime": {
     "end_time": "2022-05-17T10:01:57.321407Z",
     "start_time": "2022-05-17T10:01:57.318347Z"
    }
   },
   "outputs": [],
   "source": [
    "# list123"
   ]
  },
  {
   "cell_type": "code",
   "execution_count": 442,
   "id": "634e5d56",
   "metadata": {
    "ExecuteTime": {
     "end_time": "2022-05-17T10:10:55.727235Z",
     "start_time": "2022-05-17T10:10:55.713937Z"
    }
   },
   "outputs": [],
   "source": [
    "listcols = [['2004'],\n",
    "['2005'],\n",
    "# ['2006'],\n",
    "['            Млн.штук'], \n",
    "# ['2007', '2008'],\n",
    "['      Млн. штук'],            \n",
    "# ['2009'],\n",
    "['2008','2009'],\n",
    "['2010'],\n",
    "['2011'],\n",
    "['2012'],\n",
    "['2013'],\n",
    "['2014'],\n",
    "['2015'],\n",
    "['2016'],\n",
    "# ['2017.0','2018.0'],\n",
    "['Unnamed: 1', 'Unnamed: 2'],\n",
    "# ['2019.0','2020.0','2021.0'],\n",
    "['Unnamed: 1', 'Unnamed: 2', 'Unnamed: 3']                       ]\n",
    "\n",
    "zer = list()\n",
    "for i in range(14):\n",
    "    dat555 = list123[i].loc[:,listcols[i]]\n",
    "    zer.append(dat555)    \n",
    "    \n",
    "# zer = list()\n",
    "# for i in range(14):\n",
    "#     dat555 = list123[i].iloc[:,0]\n",
    "#     zer.append(dat555)        "
   ]
  },
  {
   "cell_type": "code",
   "execution_count": 443,
   "id": "aef535b4",
   "metadata": {
    "ExecuteTime": {
     "end_time": "2022-05-17T10:10:59.261404Z",
     "start_time": "2022-05-17T10:10:59.238686Z"
    }
   },
   "outputs": [],
   "source": [
    "zer_tab = zer[0]\n",
    "for i in range(13):\n",
    "    zer_tab = pd.concat([zer_tab, zer[i+1]], axis=1)\n",
    "zer_tab.loc['Камчатский край'] = zer_tab.loc['Камчатская область'].combine_first(zer_tab.loc['Камчатский край'])\n",
    "zer_tab = zer_tab.drop(['Камчатская область'])\n",
    "\n",
    "zer_tab.loc['Hенецкий автономный округ'] = zer_tab.loc[' в том числе Hенецкий автономный округ'].combine_first(zer_tab.loc['Hенецкий автономный округ'])\n",
    "zer_tab = zer_tab.drop([' в том числе Hенецкий автономный округ'])\n",
    "\n",
    "# zer_tab.loc['Hенецкий автономный округ'] = zer_tab.loc['  в том числе Hенецкий автономный округ'].combine_first(zer_tab.loc['Hенецкий автономный округ'])\n",
    "# zer_tab = zer_tab.drop(['  в том числе Hенецкий автономный округ'])\n",
    "\n",
    "\n",
    "#               , \n",
    "#               ,\n",
    "#               'Hенецкий автономный  округ', \n",
    "#               ,\n",
    "\n",
    "# for i\n",
    "\n",
    "# for i "
   ]
  },
  {
   "cell_type": "code",
   "execution_count": 444,
   "id": "542ebde5",
   "metadata": {
    "ExecuteTime": {
     "end_time": "2022-05-17T10:11:00.814747Z",
     "start_time": "2022-05-17T10:11:00.792813Z"
    }
   },
   "outputs": [
    {
     "data": {
      "text/html": [
       "<div>\n",
       "<style scoped>\n",
       "    .dataframe tbody tr th:only-of-type {\n",
       "        vertical-align: middle;\n",
       "    }\n",
       "\n",
       "    .dataframe tbody tr th {\n",
       "        vertical-align: top;\n",
       "    }\n",
       "\n",
       "    .dataframe thead th {\n",
       "        text-align: right;\n",
       "    }\n",
       "</style>\n",
       "<table border=\"1\" class=\"dataframe\">\n",
       "  <thead>\n",
       "    <tr style=\"text-align: right;\">\n",
       "      <th></th>\n",
       "      <th>2004</th>\n",
       "      <th>2005</th>\n",
       "      <th>Млн.штук</th>\n",
       "      <th>Млн. штук</th>\n",
       "      <th>2008</th>\n",
       "      <th>2009</th>\n",
       "      <th>2010</th>\n",
       "      <th>2011</th>\n",
       "      <th>2012</th>\n",
       "      <th>2013</th>\n",
       "      <th>2014</th>\n",
       "      <th>2015</th>\n",
       "      <th>2016</th>\n",
       "      <th>Unnamed: 1</th>\n",
       "      <th>Unnamed: 2</th>\n",
       "      <th>Unnamed: 1</th>\n",
       "      <th>Unnamed: 2</th>\n",
       "      <th>Unnamed: 3</th>\n",
       "    </tr>\n",
       "  </thead>\n",
       "  <tbody>\n",
       "    <tr>\n",
       "      <th>Республика Бурятия</th>\n",
       "      <td>62.4</td>\n",
       "      <td>62.7</td>\n",
       "      <td>61.2</td>\n",
       "      <td>62.80</td>\n",
       "      <td>64.90</td>\n",
       "      <td>103.5</td>\n",
       "      <td>101.7</td>\n",
       "      <td>110.5</td>\n",
       "      <td>99.4</td>\n",
       "      <td>103.2</td>\n",
       "      <td>113.2</td>\n",
       "      <td>95.4</td>\n",
       "      <td>100.5</td>\n",
       "      <td>79.1</td>\n",
       "      <td>82.4</td>\n",
       "      <td>86.7</td>\n",
       "      <td>94.60</td>\n",
       "      <td>94.40</td>\n",
       "    </tr>\n",
       "    <tr>\n",
       "      <th>Республика Саха (Якутия)</th>\n",
       "      <td>91.2</td>\n",
       "      <td>111.6</td>\n",
       "      <td>130.1</td>\n",
       "      <td>164.40</td>\n",
       "      <td>128.80</td>\n",
       "      <td>96.5</td>\n",
       "      <td>99.7</td>\n",
       "      <td>104.4</td>\n",
       "      <td>104.8</td>\n",
       "      <td>99.9</td>\n",
       "      <td>99.7</td>\n",
       "      <td>87.3</td>\n",
       "      <td>103.0</td>\n",
       "      <td>121.5</td>\n",
       "      <td>120.6</td>\n",
       "      <td>133.6</td>\n",
       "      <td>134.00</td>\n",
       "      <td>160.50</td>\n",
       "    </tr>\n",
       "    <tr>\n",
       "      <th>Приморский край</th>\n",
       "      <td>281.5</td>\n",
       "      <td>241.2</td>\n",
       "      <td>207.4</td>\n",
       "      <td>235.50</td>\n",
       "      <td>259.50</td>\n",
       "      <td>107.4</td>\n",
       "      <td>106.3</td>\n",
       "      <td>101.2</td>\n",
       "      <td>85.5</td>\n",
       "      <td>107.1</td>\n",
       "      <td>114.8</td>\n",
       "      <td>101</td>\n",
       "      <td>97.9</td>\n",
       "      <td>344.0</td>\n",
       "      <td>295.2</td>\n",
       "      <td>246.3</td>\n",
       "      <td>272.90</td>\n",
       "      <td>275.00</td>\n",
       "    </tr>\n",
       "    <tr>\n",
       "      <th>Хабаровский край</th>\n",
       "      <td>273.7</td>\n",
       "      <td>276.9</td>\n",
       "      <td>276.6</td>\n",
       "      <td>268.90</td>\n",
       "      <td>269.20</td>\n",
       "      <td>108.4</td>\n",
       "      <td>88.3</td>\n",
       "      <td>110.6</td>\n",
       "      <td>104.8</td>\n",
       "      <td>103.5</td>\n",
       "      <td>87.4</td>\n",
       "      <td>101.9</td>\n",
       "      <td>103.6</td>\n",
       "      <td>290.6</td>\n",
       "      <td>305.1</td>\n",
       "      <td>306.4</td>\n",
       "      <td>332.80</td>\n",
       "      <td>336.50</td>\n",
       "    </tr>\n",
       "    <tr>\n",
       "      <th>Амурская область</th>\n",
       "      <td>168.7</td>\n",
       "      <td>174.3</td>\n",
       "      <td>178.3</td>\n",
       "      <td>241.00</td>\n",
       "      <td>247.60</td>\n",
       "      <td>107.9</td>\n",
       "      <td>96.6</td>\n",
       "      <td>100.9</td>\n",
       "      <td>107.0</td>\n",
       "      <td>98.9</td>\n",
       "      <td>83</td>\n",
       "      <td>97.8</td>\n",
       "      <td>103.8</td>\n",
       "      <td>206.2</td>\n",
       "      <td>201.5</td>\n",
       "      <td>192.4</td>\n",
       "      <td>195.10</td>\n",
       "      <td>193.90</td>\n",
       "    </tr>\n",
       "    <tr>\n",
       "      <th>Магаданская область</th>\n",
       "      <td>15.2</td>\n",
       "      <td>16.7</td>\n",
       "      <td>17.9</td>\n",
       "      <td>18.30</td>\n",
       "      <td>19.20</td>\n",
       "      <td>100.0</td>\n",
       "      <td>103.9</td>\n",
       "      <td>102.0</td>\n",
       "      <td>109.0</td>\n",
       "      <td>106.2</td>\n",
       "      <td>104.2</td>\n",
       "      <td>103.8</td>\n",
       "      <td>105.3</td>\n",
       "      <td>28.6</td>\n",
       "      <td>27.1</td>\n",
       "      <td>32.0</td>\n",
       "      <td>29.00</td>\n",
       "      <td>30.50</td>\n",
       "    </tr>\n",
       "    <tr>\n",
       "      <th>Сахалинская область</th>\n",
       "      <td>95.7</td>\n",
       "      <td>101.0</td>\n",
       "      <td>105.3</td>\n",
       "      <td>107.80</td>\n",
       "      <td>108.40</td>\n",
       "      <td>99.4</td>\n",
       "      <td>101.5</td>\n",
       "      <td>98.8</td>\n",
       "      <td>100.9</td>\n",
       "      <td>104.4</td>\n",
       "      <td>109.4</td>\n",
       "      <td>105.3</td>\n",
       "      <td>99.0</td>\n",
       "      <td>130.7</td>\n",
       "      <td>151.9</td>\n",
       "      <td>142.5</td>\n",
       "      <td>142.40</td>\n",
       "      <td>142.80</td>\n",
       "    </tr>\n",
       "    <tr>\n",
       "      <th>Еврейская автономная область</th>\n",
       "      <td>16.3</td>\n",
       "      <td>19.3</td>\n",
       "      <td>21.6</td>\n",
       "      <td>22.70</td>\n",
       "      <td>23.40</td>\n",
       "      <td>107.1</td>\n",
       "      <td>112.0</td>\n",
       "      <td>109.2</td>\n",
       "      <td>49.6</td>\n",
       "      <td>92.6</td>\n",
       "      <td>91.9</td>\n",
       "      <td>90.9</td>\n",
       "      <td>82.8</td>\n",
       "      <td>14.2</td>\n",
       "      <td>13.0</td>\n",
       "      <td>12.9</td>\n",
       "      <td>12.80</td>\n",
       "      <td>12.70</td>\n",
       "    </tr>\n",
       "    <tr>\n",
       "      <th>Чукотский автономный округ</th>\n",
       "      <td>4.1</td>\n",
       "      <td>4.5</td>\n",
       "      <td>4.5</td>\n",
       "      <td>3.60</td>\n",
       "      <td>3.70</td>\n",
       "      <td>92.6</td>\n",
       "      <td>122.2</td>\n",
       "      <td>68.9</td>\n",
       "      <td>48.4</td>\n",
       "      <td>155.4</td>\n",
       "      <td>113</td>\n",
       "      <td>175.5</td>\n",
       "      <td>61.3</td>\n",
       "      <td>2.1</td>\n",
       "      <td>3.7</td>\n",
       "      <td>2.8</td>\n",
       "      <td>5.60</td>\n",
       "      <td>3.80</td>\n",
       "    </tr>\n",
       "    <tr>\n",
       "      <th>Мурманская область</th>\n",
       "      <td>133.2</td>\n",
       "      <td>147.9</td>\n",
       "      <td>189.3</td>\n",
       "      <td>164.00</td>\n",
       "      <td>168.50</td>\n",
       "      <td>80.7</td>\n",
       "      <td>56.1</td>\n",
       "      <td>47.2</td>\n",
       "      <td>57.8</td>\n",
       "      <td>42.7</td>\n",
       "      <td>69.6</td>\n",
       "      <td>162.3</td>\n",
       "      <td>36.9</td>\n",
       "      <td>4.0</td>\n",
       "      <td>9.1</td>\n",
       "      <td>4.0</td>\n",
       "      <td>3.50</td>\n",
       "      <td>0.50</td>\n",
       "    </tr>\n",
       "    <tr>\n",
       "      <th>Забайкальский край</th>\n",
       "      <td>NaN</td>\n",
       "      <td>NaN</td>\n",
       "      <td>95.2</td>\n",
       "      <td>90.50</td>\n",
       "      <td>75.30</td>\n",
       "      <td>97.7</td>\n",
       "      <td>92.8</td>\n",
       "      <td>100.3</td>\n",
       "      <td>94.3</td>\n",
       "      <td>95.9</td>\n",
       "      <td>94.2</td>\n",
       "      <td>96</td>\n",
       "      <td>94.0</td>\n",
       "      <td>72.1</td>\n",
       "      <td>64.7</td>\n",
       "      <td>57.2</td>\n",
       "      <td>56.40</td>\n",
       "      <td>51.30</td>\n",
       "    </tr>\n",
       "    <tr>\n",
       "      <th>Камчатский край</th>\n",
       "      <td>42.3</td>\n",
       "      <td>46.9</td>\n",
       "      <td>50.5</td>\n",
       "      <td>56.90</td>\n",
       "      <td>51.40</td>\n",
       "      <td>96.4</td>\n",
       "      <td>95.2</td>\n",
       "      <td>99.5</td>\n",
       "      <td>89.8</td>\n",
       "      <td>114.6</td>\n",
       "      <td>114.9</td>\n",
       "      <td>104.4</td>\n",
       "      <td>99.4</td>\n",
       "      <td>53.5</td>\n",
       "      <td>54.1</td>\n",
       "      <td>50.6</td>\n",
       "      <td>59.80</td>\n",
       "      <td>57.00</td>\n",
       "    </tr>\n",
       "    <tr>\n",
       "      <th>Ямало-Ненецкий автономный округ</th>\n",
       "      <td>NaN</td>\n",
       "      <td>NaN</td>\n",
       "      <td>NaN</td>\n",
       "      <td>0.10</td>\n",
       "      <td>0.10</td>\n",
       "      <td>109.6</td>\n",
       "      <td>191.8</td>\n",
       "      <td>179.9</td>\n",
       "      <td>17.8</td>\n",
       "      <td>108.4</td>\n",
       "      <td>65.1</td>\n",
       "      <td>в 3,5 р.</td>\n",
       "      <td>58.2</td>\n",
       "      <td>0.3</td>\n",
       "      <td>0.3</td>\n",
       "      <td>0.4</td>\n",
       "      <td>0.30</td>\n",
       "      <td>0.30</td>\n",
       "    </tr>\n",
       "    <tr>\n",
       "      <th>Hенецкий автономный округ</th>\n",
       "      <td>NaN</td>\n",
       "      <td>NaN</td>\n",
       "      <td>NaN</td>\n",
       "      <td>0.01</td>\n",
       "      <td>0.01</td>\n",
       "      <td>124.7</td>\n",
       "      <td>79.3</td>\n",
       "      <td>100.0</td>\n",
       "      <td>136.4</td>\n",
       "      <td>93.3</td>\n",
       "      <td>в 6,4 р.</td>\n",
       "      <td>156.4</td>\n",
       "      <td>106.9</td>\n",
       "      <td>0.2</td>\n",
       "      <td>0.1</td>\n",
       "      <td>0.0</td>\n",
       "      <td>0.03</td>\n",
       "      <td>0.02</td>\n",
       "    </tr>\n",
       "  </tbody>\n",
       "</table>\n",
       "</div>"
      ],
      "text/plain": [
       "                                  2004   2005              Млн.штук  \\\n",
       "Республика Бурятия                62.4   62.7                  61.2   \n",
       "Республика Саха (Якутия)          91.2  111.6                 130.1   \n",
       "Приморский край                  281.5  241.2                 207.4   \n",
       "Хабаровский край                 273.7  276.9                 276.6   \n",
       "Амурская область                 168.7  174.3                 178.3   \n",
       "Магаданская область               15.2   16.7                  17.9   \n",
       "Сахалинская область               95.7  101.0                 105.3   \n",
       "Еврейская автономная область      16.3   19.3                  21.6   \n",
       "Чукотский автономный округ         4.1    4.5                   4.5   \n",
       "Мурманская область               133.2  147.9                 189.3   \n",
       "Забайкальский край                 NaN    NaN                  95.2   \n",
       "Камчатский край                   42.3   46.9                  50.5   \n",
       "Ямало-Ненецкий автономный округ    NaN    NaN                   NaN   \n",
       "Hенецкий автономный округ          NaN    NaN                   NaN   \n",
       "\n",
       "                                       Млн. штук    2008   2009   2010   2011  \\\n",
       "Республика Бурятия                         62.80   64.90  103.5  101.7  110.5   \n",
       "Республика Саха (Якутия)                  164.40  128.80   96.5   99.7  104.4   \n",
       "Приморский край                           235.50  259.50  107.4  106.3  101.2   \n",
       "Хабаровский край                          268.90  269.20  108.4   88.3  110.6   \n",
       "Амурская область                          241.00  247.60  107.9   96.6  100.9   \n",
       "Магаданская область                        18.30   19.20  100.0  103.9  102.0   \n",
       "Сахалинская область                       107.80  108.40   99.4  101.5   98.8   \n",
       "Еврейская автономная область               22.70   23.40  107.1  112.0  109.2   \n",
       "Чукотский автономный округ                  3.60    3.70   92.6  122.2   68.9   \n",
       "Мурманская область                        164.00  168.50   80.7   56.1   47.2   \n",
       "Забайкальский край                         90.50   75.30   97.7   92.8  100.3   \n",
       "Камчатский край                            56.90   51.40   96.4   95.2   99.5   \n",
       "Ямало-Ненецкий автономный округ             0.10    0.10  109.6  191.8  179.9   \n",
       "Hенецкий автономный округ                   0.01    0.01  124.7   79.3  100.0   \n",
       "\n",
       "                                  2012   2013      2014      2015   2016  \\\n",
       "Республика Бурятия                99.4  103.2     113.2      95.4  100.5   \n",
       "Республика Саха (Якутия)         104.8   99.9      99.7      87.3  103.0   \n",
       "Приморский край                   85.5  107.1     114.8       101   97.9   \n",
       "Хабаровский край                 104.8  103.5      87.4     101.9  103.6   \n",
       "Амурская область                 107.0   98.9        83      97.8  103.8   \n",
       "Магаданская область              109.0  106.2     104.2     103.8  105.3   \n",
       "Сахалинская область              100.9  104.4     109.4     105.3   99.0   \n",
       "Еврейская автономная область      49.6   92.6      91.9      90.9   82.8   \n",
       "Чукотский автономный округ        48.4  155.4       113     175.5   61.3   \n",
       "Мурманская область                57.8   42.7      69.6     162.3   36.9   \n",
       "Забайкальский край                94.3   95.9      94.2        96   94.0   \n",
       "Камчатский край                   89.8  114.6     114.9     104.4   99.4   \n",
       "Ямало-Ненецкий автономный округ   17.8  108.4      65.1  в 3,5 р.   58.2   \n",
       "Hенецкий автономный округ        136.4   93.3  в 6,4 р.     156.4  106.9   \n",
       "\n",
       "                                 Unnamed: 1  Unnamed: 2  Unnamed: 1  \\\n",
       "Республика Бурятия                     79.1        82.4        86.7   \n",
       "Республика Саха (Якутия)              121.5       120.6       133.6   \n",
       "Приморский край                       344.0       295.2       246.3   \n",
       "Хабаровский край                      290.6       305.1       306.4   \n",
       "Амурская область                      206.2       201.5       192.4   \n",
       "Магаданская область                    28.6        27.1        32.0   \n",
       "Сахалинская область                   130.7       151.9       142.5   \n",
       "Еврейская автономная область           14.2        13.0        12.9   \n",
       "Чукотский автономный округ              2.1         3.7         2.8   \n",
       "Мурманская область                      4.0         9.1         4.0   \n",
       "Забайкальский край                     72.1        64.7        57.2   \n",
       "Камчатский край                        53.5        54.1        50.6   \n",
       "Ямало-Ненецкий автономный округ         0.3         0.3         0.4   \n",
       "Hенецкий автономный округ               0.2         0.1         0.0   \n",
       "\n",
       "                                 Unnamed: 2  Unnamed: 3  \n",
       "Республика Бурятия                    94.60       94.40  \n",
       "Республика Саха (Якутия)             134.00      160.50  \n",
       "Приморский край                      272.90      275.00  \n",
       "Хабаровский край                     332.80      336.50  \n",
       "Амурская область                     195.10      193.90  \n",
       "Магаданская область                   29.00       30.50  \n",
       "Сахалинская область                  142.40      142.80  \n",
       "Еврейская автономная область          12.80       12.70  \n",
       "Чукотский автономный округ             5.60        3.80  \n",
       "Мурманская область                     3.50        0.50  \n",
       "Забайкальский край                    56.40       51.30  \n",
       "Камчатский край                       59.80       57.00  \n",
       "Ямало-Ненецкий автономный округ        0.30        0.30  \n",
       "Hенецкий автономный округ              0.03        0.02  "
      ]
     },
     "execution_count": 444,
     "metadata": {},
     "output_type": "execute_result"
    }
   ],
   "source": [
    "zer_tab"
   ]
  },
  {
   "cell_type": "code",
   "execution_count": 445,
   "id": "e6fb07dc",
   "metadata": {
    "ExecuteTime": {
     "end_time": "2022-05-17T10:11:19.224767Z",
     "start_time": "2022-05-17T10:11:19.220123Z"
    }
   },
   "outputs": [],
   "source": [
    "zer_tab.to_csv('10.csv')"
   ]
  },
  {
   "cell_type": "code",
   "execution_count": 321,
   "id": "91a7004b",
   "metadata": {
    "ExecuteTime": {
     "end_time": "2022-05-17T09:38:26.674726Z",
     "start_time": "2022-05-17T09:38:26.643932Z"
    }
   },
   "outputs": [],
   "source": [
    "list123 = []\n",
    "for i in [0, 1, 2, 3, 4, 5, 6, 7, 8, 9, 10, 11, 13, 15]:\n",
    "    list123.append(pd.read_csv(str(i+2006)+'/sx2.csv', index_col=0))\n"
   ]
  },
  {
   "cell_type": "code",
   "execution_count": 322,
   "id": "58227fb3",
   "metadata": {
    "ExecuteTime": {
     "end_time": "2022-05-17T09:38:28.215143Z",
     "start_time": "2022-05-17T09:38:28.199689Z"
    }
   },
   "outputs": [
    {
     "ename": "KeyError",
     "evalue": "\"None of [Index(['2006'], dtype='object')] are in the [columns]\"",
     "output_type": "error",
     "traceback": [
      "\u001b[0;31m---------------------------------------------------------------------------\u001b[0m",
      "\u001b[0;31mKeyError\u001b[0m                                  Traceback (most recent call last)",
      "\u001b[0;32m<ipython-input-322-a00875365b05>\u001b[0m in \u001b[0;36m<module>\u001b[0;34m\u001b[0m\n\u001b[1;32m     16\u001b[0m \u001b[0mzer\u001b[0m \u001b[0;34m=\u001b[0m \u001b[0mlist\u001b[0m\u001b[0;34m(\u001b[0m\u001b[0;34m)\u001b[0m\u001b[0;34m\u001b[0m\u001b[0;34m\u001b[0m\u001b[0m\n\u001b[1;32m     17\u001b[0m \u001b[0;32mfor\u001b[0m \u001b[0mi\u001b[0m \u001b[0;32min\u001b[0m \u001b[0mrange\u001b[0m\u001b[0;34m(\u001b[0m\u001b[0;36m14\u001b[0m\u001b[0;34m)\u001b[0m\u001b[0;34m:\u001b[0m\u001b[0;34m\u001b[0m\u001b[0;34m\u001b[0m\u001b[0m\n\u001b[0;32m---> 18\u001b[0;31m     \u001b[0mdat555\u001b[0m \u001b[0;34m=\u001b[0m \u001b[0mlist123\u001b[0m\u001b[0;34m[\u001b[0m\u001b[0mi\u001b[0m\u001b[0;34m]\u001b[0m\u001b[0;34m.\u001b[0m\u001b[0mloc\u001b[0m\u001b[0;34m[\u001b[0m\u001b[0;34m:\u001b[0m\u001b[0;34m,\u001b[0m\u001b[0mlistcols\u001b[0m\u001b[0;34m[\u001b[0m\u001b[0mi\u001b[0m\u001b[0;34m]\u001b[0m\u001b[0;34m]\u001b[0m\u001b[0;34m\u001b[0m\u001b[0;34m\u001b[0m\u001b[0m\n\u001b[0m\u001b[1;32m     19\u001b[0m     \u001b[0mzer\u001b[0m\u001b[0;34m.\u001b[0m\u001b[0mappend\u001b[0m\u001b[0;34m(\u001b[0m\u001b[0mdat555\u001b[0m\u001b[0;34m)\u001b[0m\u001b[0;34m\u001b[0m\u001b[0;34m\u001b[0m\u001b[0m\n\u001b[1;32m     20\u001b[0m \u001b[0;34m\u001b[0m\u001b[0m\n",
      "\u001b[0;32m~/.local/lib/python3.9/site-packages/pandas/core/indexing.py\u001b[0m in \u001b[0;36m__getitem__\u001b[0;34m(self, key)\u001b[0m\n\u001b[1;32m    887\u001b[0m                     \u001b[0;31m# AttributeError for IntervalTree get_value\u001b[0m\u001b[0;34m\u001b[0m\u001b[0;34m\u001b[0m\u001b[0m\n\u001b[1;32m    888\u001b[0m                     \u001b[0;32mreturn\u001b[0m \u001b[0mself\u001b[0m\u001b[0;34m.\u001b[0m\u001b[0mobj\u001b[0m\u001b[0;34m.\u001b[0m\u001b[0m_get_value\u001b[0m\u001b[0;34m(\u001b[0m\u001b[0;34m*\u001b[0m\u001b[0mkey\u001b[0m\u001b[0;34m,\u001b[0m \u001b[0mtakeable\u001b[0m\u001b[0;34m=\u001b[0m\u001b[0mself\u001b[0m\u001b[0;34m.\u001b[0m\u001b[0m_takeable\u001b[0m\u001b[0;34m)\u001b[0m\u001b[0;34m\u001b[0m\u001b[0;34m\u001b[0m\u001b[0m\n\u001b[0;32m--> 889\u001b[0;31m             \u001b[0;32mreturn\u001b[0m \u001b[0mself\u001b[0m\u001b[0;34m.\u001b[0m\u001b[0m_getitem_tuple\u001b[0m\u001b[0;34m(\u001b[0m\u001b[0mkey\u001b[0m\u001b[0;34m)\u001b[0m\u001b[0;34m\u001b[0m\u001b[0;34m\u001b[0m\u001b[0m\n\u001b[0m\u001b[1;32m    890\u001b[0m         \u001b[0;32melse\u001b[0m\u001b[0;34m:\u001b[0m\u001b[0;34m\u001b[0m\u001b[0;34m\u001b[0m\u001b[0m\n\u001b[1;32m    891\u001b[0m             \u001b[0;31m# we by definition only have the 0th axis\u001b[0m\u001b[0;34m\u001b[0m\u001b[0;34m\u001b[0m\u001b[0m\n",
      "\u001b[0;32m~/.local/lib/python3.9/site-packages/pandas/core/indexing.py\u001b[0m in \u001b[0;36m_getitem_tuple\u001b[0;34m(self, tup)\u001b[0m\n\u001b[1;32m   1067\u001b[0m             \u001b[0;32mreturn\u001b[0m \u001b[0mself\u001b[0m\u001b[0;34m.\u001b[0m\u001b[0m_multi_take\u001b[0m\u001b[0;34m(\u001b[0m\u001b[0mtup\u001b[0m\u001b[0;34m)\u001b[0m\u001b[0;34m\u001b[0m\u001b[0;34m\u001b[0m\u001b[0m\n\u001b[1;32m   1068\u001b[0m \u001b[0;34m\u001b[0m\u001b[0m\n\u001b[0;32m-> 1069\u001b[0;31m         \u001b[0;32mreturn\u001b[0m \u001b[0mself\u001b[0m\u001b[0;34m.\u001b[0m\u001b[0m_getitem_tuple_same_dim\u001b[0m\u001b[0;34m(\u001b[0m\u001b[0mtup\u001b[0m\u001b[0;34m)\u001b[0m\u001b[0;34m\u001b[0m\u001b[0;34m\u001b[0m\u001b[0m\n\u001b[0m\u001b[1;32m   1070\u001b[0m \u001b[0;34m\u001b[0m\u001b[0m\n\u001b[1;32m   1071\u001b[0m     \u001b[0;32mdef\u001b[0m \u001b[0m_get_label\u001b[0m\u001b[0;34m(\u001b[0m\u001b[0mself\u001b[0m\u001b[0;34m,\u001b[0m \u001b[0mlabel\u001b[0m\u001b[0;34m,\u001b[0m \u001b[0maxis\u001b[0m\u001b[0;34m:\u001b[0m \u001b[0mint\u001b[0m\u001b[0;34m)\u001b[0m\u001b[0;34m:\u001b[0m\u001b[0;34m\u001b[0m\u001b[0;34m\u001b[0m\u001b[0m\n",
      "\u001b[0;32m~/.local/lib/python3.9/site-packages/pandas/core/indexing.py\u001b[0m in \u001b[0;36m_getitem_tuple_same_dim\u001b[0;34m(self, tup)\u001b[0m\n\u001b[1;32m    773\u001b[0m                 \u001b[0;32mcontinue\u001b[0m\u001b[0;34m\u001b[0m\u001b[0;34m\u001b[0m\u001b[0m\n\u001b[1;32m    774\u001b[0m \u001b[0;34m\u001b[0m\u001b[0m\n\u001b[0;32m--> 775\u001b[0;31m             \u001b[0mretval\u001b[0m \u001b[0;34m=\u001b[0m \u001b[0mgetattr\u001b[0m\u001b[0;34m(\u001b[0m\u001b[0mretval\u001b[0m\u001b[0;34m,\u001b[0m \u001b[0mself\u001b[0m\u001b[0;34m.\u001b[0m\u001b[0mname\u001b[0m\u001b[0;34m)\u001b[0m\u001b[0;34m.\u001b[0m\u001b[0m_getitem_axis\u001b[0m\u001b[0;34m(\u001b[0m\u001b[0mkey\u001b[0m\u001b[0;34m,\u001b[0m \u001b[0maxis\u001b[0m\u001b[0;34m=\u001b[0m\u001b[0mi\u001b[0m\u001b[0;34m)\u001b[0m\u001b[0;34m\u001b[0m\u001b[0;34m\u001b[0m\u001b[0m\n\u001b[0m\u001b[1;32m    776\u001b[0m             \u001b[0;31m# We should never have retval.ndim < self.ndim, as that should\u001b[0m\u001b[0;34m\u001b[0m\u001b[0;34m\u001b[0m\u001b[0m\n\u001b[1;32m    777\u001b[0m             \u001b[0;31m#  be handled by the _getitem_lowerdim call above.\u001b[0m\u001b[0;34m\u001b[0m\u001b[0;34m\u001b[0m\u001b[0m\n",
      "\u001b[0;32m~/.local/lib/python3.9/site-packages/pandas/core/indexing.py\u001b[0m in \u001b[0;36m_getitem_axis\u001b[0;34m(self, key, axis)\u001b[0m\n\u001b[1;32m   1111\u001b[0m                     \u001b[0;32mraise\u001b[0m \u001b[0mValueError\u001b[0m\u001b[0;34m(\u001b[0m\u001b[0;34m\"Cannot index with multidimensional key\"\u001b[0m\u001b[0;34m)\u001b[0m\u001b[0;34m\u001b[0m\u001b[0;34m\u001b[0m\u001b[0m\n\u001b[1;32m   1112\u001b[0m \u001b[0;34m\u001b[0m\u001b[0m\n\u001b[0;32m-> 1113\u001b[0;31m                 \u001b[0;32mreturn\u001b[0m \u001b[0mself\u001b[0m\u001b[0;34m.\u001b[0m\u001b[0m_getitem_iterable\u001b[0m\u001b[0;34m(\u001b[0m\u001b[0mkey\u001b[0m\u001b[0;34m,\u001b[0m \u001b[0maxis\u001b[0m\u001b[0;34m=\u001b[0m\u001b[0maxis\u001b[0m\u001b[0;34m)\u001b[0m\u001b[0;34m\u001b[0m\u001b[0;34m\u001b[0m\u001b[0m\n\u001b[0m\u001b[1;32m   1114\u001b[0m \u001b[0;34m\u001b[0m\u001b[0m\n\u001b[1;32m   1115\u001b[0m             \u001b[0;31m# nested tuple slicing\u001b[0m\u001b[0;34m\u001b[0m\u001b[0;34m\u001b[0m\u001b[0m\n",
      "\u001b[0;32m~/.local/lib/python3.9/site-packages/pandas/core/indexing.py\u001b[0m in \u001b[0;36m_getitem_iterable\u001b[0;34m(self, key, axis)\u001b[0m\n\u001b[1;32m   1051\u001b[0m \u001b[0;34m\u001b[0m\u001b[0m\n\u001b[1;32m   1052\u001b[0m         \u001b[0;31m# A collection of keys\u001b[0m\u001b[0;34m\u001b[0m\u001b[0;34m\u001b[0m\u001b[0m\n\u001b[0;32m-> 1053\u001b[0;31m         \u001b[0mkeyarr\u001b[0m\u001b[0;34m,\u001b[0m \u001b[0mindexer\u001b[0m \u001b[0;34m=\u001b[0m \u001b[0mself\u001b[0m\u001b[0;34m.\u001b[0m\u001b[0m_get_listlike_indexer\u001b[0m\u001b[0;34m(\u001b[0m\u001b[0mkey\u001b[0m\u001b[0;34m,\u001b[0m \u001b[0maxis\u001b[0m\u001b[0;34m,\u001b[0m \u001b[0mraise_missing\u001b[0m\u001b[0;34m=\u001b[0m\u001b[0;32mFalse\u001b[0m\u001b[0;34m)\u001b[0m\u001b[0;34m\u001b[0m\u001b[0;34m\u001b[0m\u001b[0m\n\u001b[0m\u001b[1;32m   1054\u001b[0m         return self.obj._reindex_with_indexers(\n\u001b[1;32m   1055\u001b[0m             \u001b[0;34m{\u001b[0m\u001b[0maxis\u001b[0m\u001b[0;34m:\u001b[0m \u001b[0;34m[\u001b[0m\u001b[0mkeyarr\u001b[0m\u001b[0;34m,\u001b[0m \u001b[0mindexer\u001b[0m\u001b[0;34m]\u001b[0m\u001b[0;34m}\u001b[0m\u001b[0;34m,\u001b[0m \u001b[0mcopy\u001b[0m\u001b[0;34m=\u001b[0m\u001b[0;32mTrue\u001b[0m\u001b[0;34m,\u001b[0m \u001b[0mallow_dups\u001b[0m\u001b[0;34m=\u001b[0m\u001b[0;32mTrue\u001b[0m\u001b[0;34m\u001b[0m\u001b[0;34m\u001b[0m\u001b[0m\n",
      "\u001b[0;32m~/.local/lib/python3.9/site-packages/pandas/core/indexing.py\u001b[0m in \u001b[0;36m_get_listlike_indexer\u001b[0;34m(self, key, axis, raise_missing)\u001b[0m\n\u001b[1;32m   1264\u001b[0m             \u001b[0mkeyarr\u001b[0m\u001b[0;34m,\u001b[0m \u001b[0mindexer\u001b[0m\u001b[0;34m,\u001b[0m \u001b[0mnew_indexer\u001b[0m \u001b[0;34m=\u001b[0m \u001b[0max\u001b[0m\u001b[0;34m.\u001b[0m\u001b[0m_reindex_non_unique\u001b[0m\u001b[0;34m(\u001b[0m\u001b[0mkeyarr\u001b[0m\u001b[0;34m)\u001b[0m\u001b[0;34m\u001b[0m\u001b[0;34m\u001b[0m\u001b[0m\n\u001b[1;32m   1265\u001b[0m \u001b[0;34m\u001b[0m\u001b[0m\n\u001b[0;32m-> 1266\u001b[0;31m         \u001b[0mself\u001b[0m\u001b[0;34m.\u001b[0m\u001b[0m_validate_read_indexer\u001b[0m\u001b[0;34m(\u001b[0m\u001b[0mkeyarr\u001b[0m\u001b[0;34m,\u001b[0m \u001b[0mindexer\u001b[0m\u001b[0;34m,\u001b[0m \u001b[0maxis\u001b[0m\u001b[0;34m,\u001b[0m \u001b[0mraise_missing\u001b[0m\u001b[0;34m=\u001b[0m\u001b[0mraise_missing\u001b[0m\u001b[0;34m)\u001b[0m\u001b[0;34m\u001b[0m\u001b[0;34m\u001b[0m\u001b[0m\n\u001b[0m\u001b[1;32m   1267\u001b[0m         \u001b[0;32mreturn\u001b[0m \u001b[0mkeyarr\u001b[0m\u001b[0;34m,\u001b[0m \u001b[0mindexer\u001b[0m\u001b[0;34m\u001b[0m\u001b[0;34m\u001b[0m\u001b[0m\n\u001b[1;32m   1268\u001b[0m \u001b[0;34m\u001b[0m\u001b[0m\n",
      "\u001b[0;32m~/.local/lib/python3.9/site-packages/pandas/core/indexing.py\u001b[0m in \u001b[0;36m_validate_read_indexer\u001b[0;34m(self, key, indexer, axis, raise_missing)\u001b[0m\n\u001b[1;32m   1306\u001b[0m             \u001b[0;32mif\u001b[0m \u001b[0mmissing\u001b[0m \u001b[0;34m==\u001b[0m \u001b[0mlen\u001b[0m\u001b[0;34m(\u001b[0m\u001b[0mindexer\u001b[0m\u001b[0;34m)\u001b[0m\u001b[0;34m:\u001b[0m\u001b[0;34m\u001b[0m\u001b[0;34m\u001b[0m\u001b[0m\n\u001b[1;32m   1307\u001b[0m                 \u001b[0maxis_name\u001b[0m \u001b[0;34m=\u001b[0m \u001b[0mself\u001b[0m\u001b[0;34m.\u001b[0m\u001b[0mobj\u001b[0m\u001b[0;34m.\u001b[0m\u001b[0m_get_axis_name\u001b[0m\u001b[0;34m(\u001b[0m\u001b[0maxis\u001b[0m\u001b[0;34m)\u001b[0m\u001b[0;34m\u001b[0m\u001b[0;34m\u001b[0m\u001b[0m\n\u001b[0;32m-> 1308\u001b[0;31m                 \u001b[0;32mraise\u001b[0m \u001b[0mKeyError\u001b[0m\u001b[0;34m(\u001b[0m\u001b[0;34mf\"None of [{key}] are in the [{axis_name}]\"\u001b[0m\u001b[0;34m)\u001b[0m\u001b[0;34m\u001b[0m\u001b[0;34m\u001b[0m\u001b[0m\n\u001b[0m\u001b[1;32m   1309\u001b[0m \u001b[0;34m\u001b[0m\u001b[0m\n\u001b[1;32m   1310\u001b[0m             \u001b[0max\u001b[0m \u001b[0;34m=\u001b[0m \u001b[0mself\u001b[0m\u001b[0;34m.\u001b[0m\u001b[0mobj\u001b[0m\u001b[0;34m.\u001b[0m\u001b[0m_get_axis\u001b[0m\u001b[0;34m(\u001b[0m\u001b[0maxis\u001b[0m\u001b[0;34m)\u001b[0m\u001b[0;34m\u001b[0m\u001b[0;34m\u001b[0m\u001b[0m\n",
      "\u001b[0;31mKeyError\u001b[0m: \"None of [Index(['2006'], dtype='object')] are in the [columns]\""
     ]
    }
   ],
   "source": [
    "listcols = [['2004'],\n",
    "['2005'],\n",
    "['2006'],\n",
    "['2007', '2008'],\n",
    "['2009'],\n",
    "['2010'],\n",
    "['2011'],\n",
    "['2012'],\n",
    "['2013'],\n",
    "['2014'],\n",
    "['2015'],\n",
    "['2016'],\n",
    "['2017.0','2018.0'],\n",
    "['2019.0','2020.0','2021.0']]\n",
    "\n",
    "zer = list()\n",
    "for i in range(14):\n",
    "    dat555 = list123[i].loc[:,listcols[i]]\n",
    "    zer.append(dat555)    \n",
    "    "
   ]
  },
  {
   "cell_type": "code",
   "execution_count": 319,
   "id": "34a513dc",
   "metadata": {
    "ExecuteTime": {
     "end_time": "2022-05-17T09:37:11.914830Z",
     "start_time": "2022-05-17T09:37:11.872890Z"
    }
   },
   "outputs": [],
   "source": [
    "zer_tab = zer[0]\n",
    "for i in range(13):\n",
    "    zer_tab = pd.concat([zer_tab, zer[i+1]], axis=1)\n",
    "zer_tab.loc['Камчатский край'] = zer_tab.loc['Камчатская область'].combine_first(zer_tab.loc['Камчатский край'])\n",
    "zer_tab = zer_tab.drop(['Камчатская область'])\n",
    "# for i "
   ]
  },
  {
   "cell_type": "code",
   "execution_count": 320,
   "id": "7a6f74d3",
   "metadata": {
    "ExecuteTime": {
     "end_time": "2022-05-17T09:37:57.888553Z",
     "start_time": "2022-05-17T09:37:57.884487Z"
    }
   },
   "outputs": [],
   "source": [
    "zer_tab.to_csv('2.csv')"
   ]
  },
  {
   "cell_type": "code",
   "execution_count": 308,
   "id": "92a2c1b8",
   "metadata": {
    "ExecuteTime": {
     "end_time": "2022-05-17T09:34:55.115835Z",
     "start_time": "2022-05-17T09:34:55.082076Z"
    }
   },
   "outputs": [
    {
     "data": {
      "text/html": [
       "<div>\n",
       "<style scoped>\n",
       "    .dataframe tbody tr th:only-of-type {\n",
       "        vertical-align: middle;\n",
       "    }\n",
       "\n",
       "    .dataframe tbody tr th {\n",
       "        vertical-align: top;\n",
       "    }\n",
       "\n",
       "    .dataframe thead th {\n",
       "        text-align: right;\n",
       "    }\n",
       "</style>\n",
       "<table border=\"1\" class=\"dataframe\">\n",
       "  <thead>\n",
       "    <tr style=\"text-align: right;\">\n",
       "      <th></th>\n",
       "      <th>2004</th>\n",
       "      <th>2005</th>\n",
       "      <th>2006</th>\n",
       "      <th>2007</th>\n",
       "      <th>2008</th>\n",
       "      <th>2009</th>\n",
       "      <th>2010</th>\n",
       "      <th>2011</th>\n",
       "      <th>2012</th>\n",
       "      <th>2013</th>\n",
       "      <th>2014</th>\n",
       "      <th>2015</th>\n",
       "      <th>2016</th>\n",
       "      <th>2017.0</th>\n",
       "      <th>2018.0</th>\n",
       "      <th>2019.0</th>\n",
       "      <th>2020.0</th>\n",
       "      <th>2021.0</th>\n",
       "    </tr>\n",
       "  </thead>\n",
       "  <tbody>\n",
       "    <tr>\n",
       "      <th>Республика Бурятия</th>\n",
       "      <td>105.8</td>\n",
       "      <td>83.0</td>\n",
       "      <td>90.943</td>\n",
       "      <td>81.50</td>\n",
       "      <td>100.77</td>\n",
       "      <td>79.2862</td>\n",
       "      <td>72.4</td>\n",
       "      <td>97.6</td>\n",
       "      <td>125.7</td>\n",
       "      <td>112.6</td>\n",
       "      <td>81.4</td>\n",
       "      <td>21.4</td>\n",
       "      <td>33.3</td>\n",
       "      <td>39.2</td>\n",
       "      <td>72.0</td>\n",
       "      <td>86.5</td>\n",
       "      <td>89.4</td>\n",
       "      <td>122.3</td>\n",
       "    </tr>\n",
       "    <tr>\n",
       "      <th>Республика Саха (Якутия)</th>\n",
       "      <td>16.3</td>\n",
       "      <td>14.2</td>\n",
       "      <td>12.831</td>\n",
       "      <td>12.58</td>\n",
       "      <td>6.38</td>\n",
       "      <td>7.6437</td>\n",
       "      <td>10.3</td>\n",
       "      <td>7.8</td>\n",
       "      <td>6.3</td>\n",
       "      <td>11.8</td>\n",
       "      <td>12.2</td>\n",
       "      <td>8.1</td>\n",
       "      <td>12.1</td>\n",
       "      <td>5.9</td>\n",
       "      <td>9.6</td>\n",
       "      <td>10.6</td>\n",
       "      <td>9.1</td>\n",
       "      <td>9.3</td>\n",
       "    </tr>\n",
       "    <tr>\n",
       "      <th>Камчатская область</th>\n",
       "      <td>0.9</td>\n",
       "      <td>0.4</td>\n",
       "      <td>NaN</td>\n",
       "      <td>NaN</td>\n",
       "      <td>NaN</td>\n",
       "      <td>NaN</td>\n",
       "      <td>NaN</td>\n",
       "      <td>NaN</td>\n",
       "      <td>NaN</td>\n",
       "      <td>NaN</td>\n",
       "      <td>NaN</td>\n",
       "      <td>NaN</td>\n",
       "      <td>NaN</td>\n",
       "      <td>NaN</td>\n",
       "      <td>NaN</td>\n",
       "      <td>NaN</td>\n",
       "      <td>NaN</td>\n",
       "      <td>NaN</td>\n",
       "    </tr>\n",
       "    <tr>\n",
       "      <th>Приморский край</th>\n",
       "      <td>115.5</td>\n",
       "      <td>124.3</td>\n",
       "      <td>137.167</td>\n",
       "      <td>133.29</td>\n",
       "      <td>164.07</td>\n",
       "      <td>192.7020</td>\n",
       "      <td>144.7</td>\n",
       "      <td>230.5</td>\n",
       "      <td>234.5</td>\n",
       "      <td>229.3</td>\n",
       "      <td>307.3</td>\n",
       "      <td>299.7</td>\n",
       "      <td>296.8</td>\n",
       "      <td>327.2</td>\n",
       "      <td>344.2</td>\n",
       "      <td>376.7</td>\n",
       "      <td>381.6</td>\n",
       "      <td>520.6</td>\n",
       "    </tr>\n",
       "    <tr>\n",
       "      <th>Хабаровский край</th>\n",
       "      <td>19.1</td>\n",
       "      <td>9.0</td>\n",
       "      <td>17.817</td>\n",
       "      <td>22.72</td>\n",
       "      <td>26.62</td>\n",
       "      <td>17.0645</td>\n",
       "      <td>5.6</td>\n",
       "      <td>10.4</td>\n",
       "      <td>13.7</td>\n",
       "      <td>9.6</td>\n",
       "      <td>19.3</td>\n",
       "      <td>15.0</td>\n",
       "      <td>11.9</td>\n",
       "      <td>16.6</td>\n",
       "      <td>19.1</td>\n",
       "      <td>9.3</td>\n",
       "      <td>16.7</td>\n",
       "      <td>16.4</td>\n",
       "    </tr>\n",
       "    <tr>\n",
       "      <th>Амурская область</th>\n",
       "      <td>98.2</td>\n",
       "      <td>214.2</td>\n",
       "      <td>233.665</td>\n",
       "      <td>361.90</td>\n",
       "      <td>272.77</td>\n",
       "      <td>337.8018</td>\n",
       "      <td>130.4</td>\n",
       "      <td>338.2</td>\n",
       "      <td>271.4</td>\n",
       "      <td>172.3</td>\n",
       "      <td>417.7</td>\n",
       "      <td>351.0</td>\n",
       "      <td>474.7</td>\n",
       "      <td>395.1</td>\n",
       "      <td>360.3</td>\n",
       "      <td>361.9</td>\n",
       "      <td>418.3</td>\n",
       "      <td>426.0</td>\n",
       "    </tr>\n",
       "    <tr>\n",
       "      <th>Еврейская автономная область</th>\n",
       "      <td>19.4</td>\n",
       "      <td>23.2</td>\n",
       "      <td>28.364</td>\n",
       "      <td>29.69</td>\n",
       "      <td>34.17</td>\n",
       "      <td>26.0251</td>\n",
       "      <td>6.0</td>\n",
       "      <td>25.8</td>\n",
       "      <td>20.9</td>\n",
       "      <td>5.4</td>\n",
       "      <td>16.7</td>\n",
       "      <td>10.9</td>\n",
       "      <td>8.9</td>\n",
       "      <td>11.1</td>\n",
       "      <td>9.6</td>\n",
       "      <td>5.4</td>\n",
       "      <td>8.8</td>\n",
       "      <td>7.0</td>\n",
       "    </tr>\n",
       "    <tr>\n",
       "      <th>Забайкальский край</th>\n",
       "      <td>NaN</td>\n",
       "      <td>NaN</td>\n",
       "      <td>185.387</td>\n",
       "      <td>168.20</td>\n",
       "      <td>212.31</td>\n",
       "      <td>268.5060</td>\n",
       "      <td>138.3</td>\n",
       "      <td>114.0</td>\n",
       "      <td>213.2</td>\n",
       "      <td>167.3</td>\n",
       "      <td>211.2</td>\n",
       "      <td>62.8</td>\n",
       "      <td>80.1</td>\n",
       "      <td>109.3</td>\n",
       "      <td>177.1</td>\n",
       "      <td>109.7</td>\n",
       "      <td>110.6</td>\n",
       "      <td>162.0</td>\n",
       "    </tr>\n",
       "    <tr>\n",
       "      <th>Камчатский край</th>\n",
       "      <td>NaN</td>\n",
       "      <td>NaN</td>\n",
       "      <td>0.316</td>\n",
       "      <td>0.26</td>\n",
       "      <td>0.21</td>\n",
       "      <td>0.0826</td>\n",
       "      <td>0.4</td>\n",
       "      <td>0.1</td>\n",
       "      <td>0.1</td>\n",
       "      <td>0.1</td>\n",
       "      <td>0.2</td>\n",
       "      <td>0.1</td>\n",
       "      <td>0.3</td>\n",
       "      <td>0.2</td>\n",
       "      <td>0.1</td>\n",
       "      <td>0.1</td>\n",
       "      <td>0.0</td>\n",
       "      <td>0.1</td>\n",
       "    </tr>\n",
       "  </tbody>\n",
       "</table>\n",
       "</div>"
      ],
      "text/plain": [
       "                               2004   2005     2006    2007    2008      2009  \\\n",
       "Республика Бурятия            105.8   83.0   90.943   81.50  100.77   79.2862   \n",
       "Республика Саха (Якутия)       16.3   14.2   12.831   12.58    6.38    7.6437   \n",
       "Камчатская область              0.9    0.4      NaN     NaN     NaN       NaN   \n",
       "Приморский край               115.5  124.3  137.167  133.29  164.07  192.7020   \n",
       "Хабаровский край               19.1    9.0   17.817   22.72   26.62   17.0645   \n",
       "Амурская область               98.2  214.2  233.665  361.90  272.77  337.8018   \n",
       "Еврейская автономная область   19.4   23.2   28.364   29.69   34.17   26.0251   \n",
       "Забайкальский край              NaN    NaN  185.387  168.20  212.31  268.5060   \n",
       "Камчатский край                 NaN    NaN    0.316    0.26    0.21    0.0826   \n",
       "\n",
       "                               2010   2011   2012   2013   2014   2015   2016  \\\n",
       "Республика Бурятия             72.4   97.6  125.7  112.6   81.4   21.4   33.3   \n",
       "Республика Саха (Якутия)       10.3    7.8    6.3   11.8   12.2    8.1   12.1   \n",
       "Камчатская область              NaN    NaN    NaN    NaN    NaN    NaN    NaN   \n",
       "Приморский край               144.7  230.5  234.5  229.3  307.3  299.7  296.8   \n",
       "Хабаровский край                5.6   10.4   13.7    9.6   19.3   15.0   11.9   \n",
       "Амурская область              130.4  338.2  271.4  172.3  417.7  351.0  474.7   \n",
       "Еврейская автономная область    6.0   25.8   20.9    5.4   16.7   10.9    8.9   \n",
       "Забайкальский край            138.3  114.0  213.2  167.3  211.2   62.8   80.1   \n",
       "Камчатский край                 0.4    0.1    0.1    0.1    0.2    0.1    0.3   \n",
       "\n",
       "                              2017.0  2018.0  2019.0  2020.0  2021.0  \n",
       "Республика Бурятия              39.2    72.0    86.5    89.4   122.3  \n",
       "Республика Саха (Якутия)         5.9     9.6    10.6     9.1     9.3  \n",
       "Камчатская область               NaN     NaN     NaN     NaN     NaN  \n",
       "Приморский край                327.2   344.2   376.7   381.6   520.6  \n",
       "Хабаровский край                16.6    19.1     9.3    16.7    16.4  \n",
       "Амурская область               395.1   360.3   361.9   418.3   426.0  \n",
       "Еврейская автономная область    11.1     9.6     5.4     8.8     7.0  \n",
       "Забайкальский край             109.3   177.1   109.7   110.6   162.0  \n",
       "Камчатский край                  0.2     0.1     0.1     0.0     0.1  "
      ]
     },
     "execution_count": 308,
     "metadata": {},
     "output_type": "execute_result"
    }
   ],
   "source": [
    "zer_tab"
   ]
  },
  {
   "cell_type": "code",
   "execution_count": 279,
   "id": "902f68c3",
   "metadata": {
    "ExecuteTime": {
     "end_time": "2022-05-17T09:25:30.185503Z",
     "start_time": "2022-05-17T09:25:30.170023Z"
    }
   },
   "outputs": [
    {
     "data": {
      "text/html": [
       "<div>\n",
       "<style scoped>\n",
       "    .dataframe tbody tr th:only-of-type {\n",
       "        vertical-align: middle;\n",
       "    }\n",
       "\n",
       "    .dataframe tbody tr th {\n",
       "        vertical-align: top;\n",
       "    }\n",
       "\n",
       "    .dataframe thead th {\n",
       "        text-align: right;\n",
       "    }\n",
       "</style>\n",
       "<table border=\"1\" class=\"dataframe\">\n",
       "  <thead>\n",
       "    <tr style=\"text-align: right;\">\n",
       "      <th></th>\n",
       "      <th>2004</th>\n",
       "    </tr>\n",
       "  </thead>\n",
       "  <tbody>\n",
       "    <tr>\n",
       "      <th>0</th>\n",
       "      <td>105.8</td>\n",
       "    </tr>\n",
       "    <tr>\n",
       "      <th>1</th>\n",
       "      <td>16.3</td>\n",
       "    </tr>\n",
       "    <tr>\n",
       "      <th>2</th>\n",
       "      <td>0.9</td>\n",
       "    </tr>\n",
       "    <tr>\n",
       "      <th>3</th>\n",
       "      <td>115.5</td>\n",
       "    </tr>\n",
       "    <tr>\n",
       "      <th>4</th>\n",
       "      <td>19.1</td>\n",
       "    </tr>\n",
       "    <tr>\n",
       "      <th>5</th>\n",
       "      <td>98.2</td>\n",
       "    </tr>\n",
       "    <tr>\n",
       "      <th>6</th>\n",
       "      <td>19.4</td>\n",
       "    </tr>\n",
       "  </tbody>\n",
       "</table>\n",
       "</div>"
      ],
      "text/plain": [
       "    2004\n",
       "0  105.8\n",
       "1   16.3\n",
       "2    0.9\n",
       "3  115.5\n",
       "4   19.1\n",
       "5   98.2\n",
       "6   19.4"
      ]
     },
     "execution_count": 279,
     "metadata": {},
     "output_type": "execute_result"
    }
   ],
   "source": [
    "list123[0].loc[:,listcols[0]]"
   ]
  },
  {
   "cell_type": "code",
   "execution_count": 273,
   "id": "e5a402bd",
   "metadata": {
    "ExecuteTime": {
     "end_time": "2022-05-17T09:24:33.242879Z",
     "start_time": "2022-05-17T09:24:33.233942Z"
    }
   },
   "outputs": [
    {
     "ename": "AssertionError",
     "evalue": "End slice bound is non-scalar",
     "output_type": "error",
     "traceback": [
      "\u001b[0;31m---------------------------------------------------------------------------\u001b[0m",
      "\u001b[0;31mAssertionError\u001b[0m                            Traceback (most recent call last)",
      "\u001b[0;32m<ipython-input-273-05f51c785eb5>\u001b[0m in \u001b[0;36m<module>\u001b[0;34m\u001b[0m\n\u001b[0;32m----> 1\u001b[0;31m \u001b[0mlist123\u001b[0m\u001b[0;34m[\u001b[0m\u001b[0;36m0\u001b[0m\u001b[0;34m]\u001b[0m\u001b[0;34m.\u001b[0m\u001b[0mloc\u001b[0m\u001b[0;34m[\u001b[0m\u001b[0;34m:\u001b[0m\u001b[0mlistcols\u001b[0m\u001b[0;34m[\u001b[0m\u001b[0;36m0\u001b[0m\u001b[0;34m]\u001b[0m\u001b[0;34m]\u001b[0m\u001b[0;34m\u001b[0m\u001b[0;34m\u001b[0m\u001b[0m\n\u001b[0m",
      "\u001b[0;32m~/.local/lib/python3.9/site-packages/pandas/core/indexing.py\u001b[0m in \u001b[0;36m__getitem__\u001b[0;34m(self, key)\u001b[0m\n\u001b[1;32m    893\u001b[0m \u001b[0;34m\u001b[0m\u001b[0m\n\u001b[1;32m    894\u001b[0m             \u001b[0mmaybe_callable\u001b[0m \u001b[0;34m=\u001b[0m \u001b[0mcom\u001b[0m\u001b[0;34m.\u001b[0m\u001b[0mapply_if_callable\u001b[0m\u001b[0;34m(\u001b[0m\u001b[0mkey\u001b[0m\u001b[0;34m,\u001b[0m \u001b[0mself\u001b[0m\u001b[0;34m.\u001b[0m\u001b[0mobj\u001b[0m\u001b[0;34m)\u001b[0m\u001b[0;34m\u001b[0m\u001b[0;34m\u001b[0m\u001b[0m\n\u001b[0;32m--> 895\u001b[0;31m             \u001b[0;32mreturn\u001b[0m \u001b[0mself\u001b[0m\u001b[0;34m.\u001b[0m\u001b[0m_getitem_axis\u001b[0m\u001b[0;34m(\u001b[0m\u001b[0mmaybe_callable\u001b[0m\u001b[0;34m,\u001b[0m \u001b[0maxis\u001b[0m\u001b[0;34m=\u001b[0m\u001b[0maxis\u001b[0m\u001b[0;34m)\u001b[0m\u001b[0;34m\u001b[0m\u001b[0;34m\u001b[0m\u001b[0m\n\u001b[0m\u001b[1;32m    896\u001b[0m \u001b[0;34m\u001b[0m\u001b[0m\n\u001b[1;32m    897\u001b[0m     \u001b[0;32mdef\u001b[0m \u001b[0m_is_scalar_access\u001b[0m\u001b[0;34m(\u001b[0m\u001b[0mself\u001b[0m\u001b[0;34m,\u001b[0m \u001b[0mkey\u001b[0m\u001b[0;34m:\u001b[0m \u001b[0mTuple\u001b[0m\u001b[0;34m)\u001b[0m\u001b[0;34m:\u001b[0m\u001b[0;34m\u001b[0m\u001b[0;34m\u001b[0m\u001b[0m\n",
      "\u001b[0;32m~/.local/lib/python3.9/site-packages/pandas/core/indexing.py\u001b[0m in \u001b[0;36m_getitem_axis\u001b[0;34m(self, key, axis)\u001b[0m\n\u001b[1;32m   1100\u001b[0m         \u001b[0;32mif\u001b[0m \u001b[0misinstance\u001b[0m\u001b[0;34m(\u001b[0m\u001b[0mkey\u001b[0m\u001b[0;34m,\u001b[0m \u001b[0mslice\u001b[0m\u001b[0;34m)\u001b[0m\u001b[0;34m:\u001b[0m\u001b[0;34m\u001b[0m\u001b[0;34m\u001b[0m\u001b[0m\n\u001b[1;32m   1101\u001b[0m             \u001b[0mself\u001b[0m\u001b[0;34m.\u001b[0m\u001b[0m_validate_key\u001b[0m\u001b[0;34m(\u001b[0m\u001b[0mkey\u001b[0m\u001b[0;34m,\u001b[0m \u001b[0maxis\u001b[0m\u001b[0;34m)\u001b[0m\u001b[0;34m\u001b[0m\u001b[0;34m\u001b[0m\u001b[0m\n\u001b[0;32m-> 1102\u001b[0;31m             \u001b[0;32mreturn\u001b[0m \u001b[0mself\u001b[0m\u001b[0;34m.\u001b[0m\u001b[0m_get_slice_axis\u001b[0m\u001b[0;34m(\u001b[0m\u001b[0mkey\u001b[0m\u001b[0;34m,\u001b[0m \u001b[0maxis\u001b[0m\u001b[0;34m=\u001b[0m\u001b[0maxis\u001b[0m\u001b[0;34m)\u001b[0m\u001b[0;34m\u001b[0m\u001b[0;34m\u001b[0m\u001b[0m\n\u001b[0m\u001b[1;32m   1103\u001b[0m         \u001b[0;32melif\u001b[0m \u001b[0mcom\u001b[0m\u001b[0;34m.\u001b[0m\u001b[0mis_bool_indexer\u001b[0m\u001b[0;34m(\u001b[0m\u001b[0mkey\u001b[0m\u001b[0;34m)\u001b[0m\u001b[0;34m:\u001b[0m\u001b[0;34m\u001b[0m\u001b[0;34m\u001b[0m\u001b[0m\n\u001b[1;32m   1104\u001b[0m             \u001b[0;32mreturn\u001b[0m \u001b[0mself\u001b[0m\u001b[0;34m.\u001b[0m\u001b[0m_getbool_axis\u001b[0m\u001b[0;34m(\u001b[0m\u001b[0mkey\u001b[0m\u001b[0;34m,\u001b[0m \u001b[0maxis\u001b[0m\u001b[0;34m=\u001b[0m\u001b[0maxis\u001b[0m\u001b[0;34m)\u001b[0m\u001b[0;34m\u001b[0m\u001b[0;34m\u001b[0m\u001b[0m\n",
      "\u001b[0;32m~/.local/lib/python3.9/site-packages/pandas/core/indexing.py\u001b[0m in \u001b[0;36m_get_slice_axis\u001b[0;34m(self, slice_obj, axis)\u001b[0m\n\u001b[1;32m   1134\u001b[0m \u001b[0;34m\u001b[0m\u001b[0m\n\u001b[1;32m   1135\u001b[0m         \u001b[0mlabels\u001b[0m \u001b[0;34m=\u001b[0m \u001b[0mobj\u001b[0m\u001b[0;34m.\u001b[0m\u001b[0m_get_axis\u001b[0m\u001b[0;34m(\u001b[0m\u001b[0maxis\u001b[0m\u001b[0;34m)\u001b[0m\u001b[0;34m\u001b[0m\u001b[0;34m\u001b[0m\u001b[0m\n\u001b[0;32m-> 1136\u001b[0;31m         indexer = labels.slice_indexer(\n\u001b[0m\u001b[1;32m   1137\u001b[0m             \u001b[0mslice_obj\u001b[0m\u001b[0;34m.\u001b[0m\u001b[0mstart\u001b[0m\u001b[0;34m,\u001b[0m \u001b[0mslice_obj\u001b[0m\u001b[0;34m.\u001b[0m\u001b[0mstop\u001b[0m\u001b[0;34m,\u001b[0m \u001b[0mslice_obj\u001b[0m\u001b[0;34m.\u001b[0m\u001b[0mstep\u001b[0m\u001b[0;34m,\u001b[0m \u001b[0mkind\u001b[0m\u001b[0;34m=\u001b[0m\u001b[0;34m\"loc\"\u001b[0m\u001b[0;34m\u001b[0m\u001b[0;34m\u001b[0m\u001b[0m\n\u001b[1;32m   1138\u001b[0m         )\n",
      "\u001b[0;32m~/.local/lib/python3.9/site-packages/pandas/core/indexes/base.py\u001b[0m in \u001b[0;36mslice_indexer\u001b[0;34m(self, start, end, step, kind)\u001b[0m\n\u001b[1;32m   5281\u001b[0m             \u001b[0;32mraise\u001b[0m \u001b[0mAssertionError\u001b[0m\u001b[0;34m(\u001b[0m\u001b[0;34m\"Start slice bound is non-scalar\"\u001b[0m\u001b[0;34m)\u001b[0m\u001b[0;34m\u001b[0m\u001b[0;34m\u001b[0m\u001b[0m\n\u001b[1;32m   5282\u001b[0m         \u001b[0;32mif\u001b[0m \u001b[0;32mnot\u001b[0m \u001b[0mis_scalar\u001b[0m\u001b[0;34m(\u001b[0m\u001b[0mend_slice\u001b[0m\u001b[0;34m)\u001b[0m\u001b[0;34m:\u001b[0m\u001b[0;34m\u001b[0m\u001b[0;34m\u001b[0m\u001b[0m\n\u001b[0;32m-> 5283\u001b[0;31m             \u001b[0;32mraise\u001b[0m \u001b[0mAssertionError\u001b[0m\u001b[0;34m(\u001b[0m\u001b[0;34m\"End slice bound is non-scalar\"\u001b[0m\u001b[0;34m)\u001b[0m\u001b[0;34m\u001b[0m\u001b[0;34m\u001b[0m\u001b[0m\n\u001b[0m\u001b[1;32m   5284\u001b[0m \u001b[0;34m\u001b[0m\u001b[0m\n\u001b[1;32m   5285\u001b[0m         \u001b[0;32mreturn\u001b[0m \u001b[0mslice\u001b[0m\u001b[0;34m(\u001b[0m\u001b[0mstart_slice\u001b[0m\u001b[0;34m,\u001b[0m \u001b[0mend_slice\u001b[0m\u001b[0;34m,\u001b[0m \u001b[0mstep\u001b[0m\u001b[0;34m)\u001b[0m\u001b[0;34m\u001b[0m\u001b[0;34m\u001b[0m\u001b[0m\n",
      "\u001b[0;31mAssertionError\u001b[0m: End slice bound is non-scalar"
     ]
    }
   ],
   "source": [
    "list123[0].loc[:listcols[0]]"
   ]
  },
  {
   "cell_type": "code",
   "execution_count": 40,
   "id": "b82637d4",
   "metadata": {
    "ExecuteTime": {
     "end_time": "2022-05-17T07:59:27.483029Z",
     "start_time": "2022-05-17T07:59:27.479032Z"
    }
   },
   "outputs": [
    {
     "data": {
      "text/plain": [
       "array([nan, nan, nan,\n",
       "       '                                                   4.10. ПРОИЗВОДСТВО ЯИЦ',\n",
       "       '                                                      (в хозяйствах всех категорий)',\n",
       "       nan, nan, nan, nan, nan, nan, 'Российская Федерация,  млрд. шт',\n",
       "       'Центральный федеральный округ', 'Белгородская область',\n",
       "       'Брянская область', 'Владимирская область', 'Воронежская область',\n",
       "       'Ивановская область', 'Калужская область', 'Костромская область',\n",
       "       'Курская область', 'Липецкая область', 'Московская область',\n",
       "       'Орловская область', 'Рязанская область', 'Смоленская область',\n",
       "       'Тамбовская область', 'Тверская область', 'Тульская область',\n",
       "       'Ярославская область', 'Северо-Западный федеральный', 'округ   ',\n",
       "       'Республика Карелия', 'Республика Коми', 'Архангельская область',\n",
       "       '   в том числе  Ненецкий автономный округ', 'Вологодская область',\n",
       "       'Калининградская область', 'Ленинградская область',\n",
       "       'Мурманская область', 'Новгородская область', 'Псковская область',\n",
       "       nan, nan, nan, nan, nan, nan, nan, nan, nan, nan, nan, nan, nan,\n",
       "       nan, nan,\n",
       "       '                                                                 РЕГИОНЫ РОССИЙСКОЙ ФЕДЕРАЦИИ',\n",
       "       nan, nan, nan, nan, nan, nan, nan, nan, nan,\n",
       "       'Южный федеральный округ', 'Республика Адыгея',\n",
       "       'Республика Дагестан', 'Республика Ингушетия',\n",
       "       'Кабардино-Балкарская Республика', 'Республика Калмыкия',\n",
       "       'Карачаево-Черкесская Республика',\n",
       "       'Республика Северная Осетия-Алания', 'Чеченская Республика',\n",
       "       'Краснодарский край', 'Ставропольский край',\n",
       "       'Астраханская область', 'Волгоградская область',\n",
       "       'Ростовская область', 'Приволжский федеральный', 'округ',\n",
       "       'Республика Башкортостан', 'Республика Марий Эл',\n",
       "       'Республика Мордовия', 'Республика Татарстан',\n",
       "       'Удмуртская Республика', 'Чувашская Республика', 'Пермский край',\n",
       "       'Кировская область', 'Нижегородская область',\n",
       "       'Оренбургская область', 'Пензенская область', 'Самарская область',\n",
       "       'Саратовская область', 'Ульяновская область',\n",
       "       'Уральский федеральный округ', 'Курганская область',\n",
       "       'Свердловская область', 'Тюменская область',\n",
       "       '   в том числе :                                                                                           Ханты-Мансийский автономный округ-Югра',\n",
       "       'Ямало-Ненецкий  автономный округ', 'Челябинская область', nan,\n",
       "       nan, nan, nan, nan, nan, nan,\n",
       "       '                                                                 РЕГИОНЫ РОССИЙСКОЙ ФЕДЕРАЦИИ',\n",
       "       nan, nan, nan, nan, nan, nan, nan, nan, nan,\n",
       "       'Сибирский федеральный округ', 'Республика Алтай',\n",
       "       'Республика Бурятия', 'Республика Тыва', 'Республика Хакасия',\n",
       "       'Алтайский край', 'Красноярский край',\n",
       "       '    в том числе  Эвенкийский автономный округ',\n",
       "       'Иркутская область',\n",
       "       '   в том числе  Усть-Ордынский Бурятский автономный округ',\n",
       "       'Кемеровская область', 'Новосибирская область', 'Омская область',\n",
       "       'Томская область', 'Читинская область',\n",
       "       '   в том числе  Агинский Бурятский автономный округ',\n",
       "       'Дальневосточный федеральный ', 'округ',\n",
       "       'Республика Саха (Якутия)', 'Приморский край', 'Хабаровский край',\n",
       "       'Амурская область', 'Камчатская область',\n",
       "       '   в том числе  Корякский автономный округ',\n",
       "       'Магаданская область', 'Сахалинская область',\n",
       "       'Еврейская автономная область', 'Чукотский автономный округ', nan,\n",
       "       nan, nan, nan, '\"_____\"  марта  2006 г.', nan], dtype=object)"
      ]
     },
     "execution_count": 40,
     "metadata": {},
     "output_type": "execute_result"
    }
   ],
   "source": [
    "np.array(data1.index)"
   ]
  },
  {
   "cell_type": "code",
   "execution_count": 37,
   "id": "780ea0fc",
   "metadata": {
    "ExecuteTime": {
     "end_time": "2022-05-17T07:58:50.167358Z",
     "start_time": "2022-05-17T07:58:50.137834Z"
    }
   },
   "outputs": [
    {
     "ename": "KeyError",
     "evalue": "\"Passing list-likes to .loc or [] with any missing labels is no longer supported. The following labels were missing: Index(['в том числе Hенецкий автономный округ', 'Ямало-Ненецкий автономный округ'], dtype='object', name='                                                                 РЕГИОНЫ РОССИЙСКОЙ ФЕДЕРАЦИИ'). See https://pandas.pydata.org/pandas-docs/stable/user_guide/indexing.html#deprecate-loc-reindex-listlike\"",
     "output_type": "error",
     "traceback": [
      "\u001b[0;31m---------------------------------------------------------------------------\u001b[0m",
      "\u001b[0;31mKeyError\u001b[0m                                  Traceback (most recent call last)",
      "\u001b[0;32m<ipython-input-37-b1764d543c15>\u001b[0m in \u001b[0;36m<module>\u001b[0;34m\u001b[0m\n\u001b[0;32m----> 1\u001b[0;31m data1.loc[[ 'Республика Бурятия',\n\u001b[0m\u001b[1;32m      2\u001b[0m        \u001b[0;34m'Республика Саха (Якутия)'\u001b[0m\u001b[0;34m,\u001b[0m \u001b[0;34m'Приморский край'\u001b[0m\u001b[0;34m,\u001b[0m \u001b[0;34m'Хабаровский край'\u001b[0m\u001b[0;34m,\u001b[0m\u001b[0;34m\u001b[0m\u001b[0;34m\u001b[0m\u001b[0m\n\u001b[1;32m      3\u001b[0m        \u001b[0;34m'Амурская область'\u001b[0m\u001b[0;34m,\u001b[0m \u001b[0;34m'Камчатская область'\u001b[0m\u001b[0;34m,\u001b[0m\u001b[0;34m\u001b[0m\u001b[0;34m\u001b[0m\u001b[0m\n\u001b[1;32m      4\u001b[0m        \u001b[0;34m'Магаданская область'\u001b[0m\u001b[0;34m,\u001b[0m \u001b[0;34m'Сахалинская область'\u001b[0m\u001b[0;34m,\u001b[0m\u001b[0;34m\u001b[0m\u001b[0;34m\u001b[0m\u001b[0m\n\u001b[1;32m      5\u001b[0m        \u001b[0;34m'Еврейская автономная область'\u001b[0m\u001b[0;34m,\u001b[0m \u001b[0;34m'Чукотский автономный округ'\u001b[0m\u001b[0;34m,\u001b[0m\u001b[0;34m'в том числе Hенецкий автономный округ'\u001b[0m\u001b[0;34m,\u001b[0m \u001b[0;34m'Мурманская область'\u001b[0m\u001b[0;34m,\u001b[0m\u001b[0;34m\u001b[0m\u001b[0;34m\u001b[0m\u001b[0m\n",
      "\u001b[0;32m~/.local/lib/python3.9/site-packages/pandas/core/indexing.py\u001b[0m in \u001b[0;36m__getitem__\u001b[0;34m(self, key)\u001b[0m\n\u001b[1;32m    887\u001b[0m                     \u001b[0;31m# AttributeError for IntervalTree get_value\u001b[0m\u001b[0;34m\u001b[0m\u001b[0;34m\u001b[0m\u001b[0m\n\u001b[1;32m    888\u001b[0m                     \u001b[0;32mreturn\u001b[0m \u001b[0mself\u001b[0m\u001b[0;34m.\u001b[0m\u001b[0mobj\u001b[0m\u001b[0;34m.\u001b[0m\u001b[0m_get_value\u001b[0m\u001b[0;34m(\u001b[0m\u001b[0;34m*\u001b[0m\u001b[0mkey\u001b[0m\u001b[0;34m,\u001b[0m \u001b[0mtakeable\u001b[0m\u001b[0;34m=\u001b[0m\u001b[0mself\u001b[0m\u001b[0;34m.\u001b[0m\u001b[0m_takeable\u001b[0m\u001b[0;34m)\u001b[0m\u001b[0;34m\u001b[0m\u001b[0;34m\u001b[0m\u001b[0m\n\u001b[0;32m--> 889\u001b[0;31m             \u001b[0;32mreturn\u001b[0m \u001b[0mself\u001b[0m\u001b[0;34m.\u001b[0m\u001b[0m_getitem_tuple\u001b[0m\u001b[0;34m(\u001b[0m\u001b[0mkey\u001b[0m\u001b[0;34m)\u001b[0m\u001b[0;34m\u001b[0m\u001b[0;34m\u001b[0m\u001b[0m\n\u001b[0m\u001b[1;32m    890\u001b[0m         \u001b[0;32melse\u001b[0m\u001b[0;34m:\u001b[0m\u001b[0;34m\u001b[0m\u001b[0;34m\u001b[0m\u001b[0m\n\u001b[1;32m    891\u001b[0m             \u001b[0;31m# we by definition only have the 0th axis\u001b[0m\u001b[0;34m\u001b[0m\u001b[0;34m\u001b[0m\u001b[0m\n",
      "\u001b[0;32m~/.local/lib/python3.9/site-packages/pandas/core/indexing.py\u001b[0m in \u001b[0;36m_getitem_tuple\u001b[0;34m(self, tup)\u001b[0m\n\u001b[1;32m   1058\u001b[0m     \u001b[0;32mdef\u001b[0m \u001b[0m_getitem_tuple\u001b[0m\u001b[0;34m(\u001b[0m\u001b[0mself\u001b[0m\u001b[0;34m,\u001b[0m \u001b[0mtup\u001b[0m\u001b[0;34m:\u001b[0m \u001b[0mTuple\u001b[0m\u001b[0;34m)\u001b[0m\u001b[0;34m:\u001b[0m\u001b[0;34m\u001b[0m\u001b[0;34m\u001b[0m\u001b[0m\n\u001b[1;32m   1059\u001b[0m         \u001b[0;32mwith\u001b[0m \u001b[0msuppress\u001b[0m\u001b[0;34m(\u001b[0m\u001b[0mIndexingError\u001b[0m\u001b[0;34m)\u001b[0m\u001b[0;34m:\u001b[0m\u001b[0;34m\u001b[0m\u001b[0;34m\u001b[0m\u001b[0m\n\u001b[0;32m-> 1060\u001b[0;31m             \u001b[0;32mreturn\u001b[0m \u001b[0mself\u001b[0m\u001b[0;34m.\u001b[0m\u001b[0m_getitem_lowerdim\u001b[0m\u001b[0;34m(\u001b[0m\u001b[0mtup\u001b[0m\u001b[0;34m)\u001b[0m\u001b[0;34m\u001b[0m\u001b[0;34m\u001b[0m\u001b[0m\n\u001b[0m\u001b[1;32m   1061\u001b[0m \u001b[0;34m\u001b[0m\u001b[0m\n\u001b[1;32m   1062\u001b[0m         \u001b[0;31m# no multi-index, so validate all of the indexers\u001b[0m\u001b[0;34m\u001b[0m\u001b[0;34m\u001b[0m\u001b[0m\n",
      "\u001b[0;32m~/.local/lib/python3.9/site-packages/pandas/core/indexing.py\u001b[0m in \u001b[0;36m_getitem_lowerdim\u001b[0;34m(self, tup)\u001b[0m\n\u001b[1;32m    829\u001b[0m                     \u001b[0;32mreturn\u001b[0m \u001b[0msection\u001b[0m\u001b[0;34m\u001b[0m\u001b[0;34m\u001b[0m\u001b[0m\n\u001b[1;32m    830\u001b[0m                 \u001b[0;31m# This is an elided recursive call to iloc/loc\u001b[0m\u001b[0;34m\u001b[0m\u001b[0;34m\u001b[0m\u001b[0m\n\u001b[0;32m--> 831\u001b[0;31m                 \u001b[0;32mreturn\u001b[0m \u001b[0mgetattr\u001b[0m\u001b[0;34m(\u001b[0m\u001b[0msection\u001b[0m\u001b[0;34m,\u001b[0m \u001b[0mself\u001b[0m\u001b[0;34m.\u001b[0m\u001b[0mname\u001b[0m\u001b[0;34m)\u001b[0m\u001b[0;34m[\u001b[0m\u001b[0mnew_key\u001b[0m\u001b[0;34m]\u001b[0m\u001b[0;34m\u001b[0m\u001b[0;34m\u001b[0m\u001b[0m\n\u001b[0m\u001b[1;32m    832\u001b[0m \u001b[0;34m\u001b[0m\u001b[0m\n\u001b[1;32m    833\u001b[0m         \u001b[0;32mraise\u001b[0m \u001b[0mIndexingError\u001b[0m\u001b[0;34m(\u001b[0m\u001b[0;34m\"not applicable\"\u001b[0m\u001b[0;34m)\u001b[0m\u001b[0;34m\u001b[0m\u001b[0;34m\u001b[0m\u001b[0m\n",
      "\u001b[0;32m~/.local/lib/python3.9/site-packages/pandas/core/indexing.py\u001b[0m in \u001b[0;36m__getitem__\u001b[0;34m(self, key)\u001b[0m\n\u001b[1;32m    893\u001b[0m \u001b[0;34m\u001b[0m\u001b[0m\n\u001b[1;32m    894\u001b[0m             \u001b[0mmaybe_callable\u001b[0m \u001b[0;34m=\u001b[0m \u001b[0mcom\u001b[0m\u001b[0;34m.\u001b[0m\u001b[0mapply_if_callable\u001b[0m\u001b[0;34m(\u001b[0m\u001b[0mkey\u001b[0m\u001b[0;34m,\u001b[0m \u001b[0mself\u001b[0m\u001b[0;34m.\u001b[0m\u001b[0mobj\u001b[0m\u001b[0;34m)\u001b[0m\u001b[0;34m\u001b[0m\u001b[0;34m\u001b[0m\u001b[0m\n\u001b[0;32m--> 895\u001b[0;31m             \u001b[0;32mreturn\u001b[0m \u001b[0mself\u001b[0m\u001b[0;34m.\u001b[0m\u001b[0m_getitem_axis\u001b[0m\u001b[0;34m(\u001b[0m\u001b[0mmaybe_callable\u001b[0m\u001b[0;34m,\u001b[0m \u001b[0maxis\u001b[0m\u001b[0;34m=\u001b[0m\u001b[0maxis\u001b[0m\u001b[0;34m)\u001b[0m\u001b[0;34m\u001b[0m\u001b[0;34m\u001b[0m\u001b[0m\n\u001b[0m\u001b[1;32m    896\u001b[0m \u001b[0;34m\u001b[0m\u001b[0m\n\u001b[1;32m    897\u001b[0m     \u001b[0;32mdef\u001b[0m \u001b[0m_is_scalar_access\u001b[0m\u001b[0;34m(\u001b[0m\u001b[0mself\u001b[0m\u001b[0;34m,\u001b[0m \u001b[0mkey\u001b[0m\u001b[0;34m:\u001b[0m \u001b[0mTuple\u001b[0m\u001b[0;34m)\u001b[0m\u001b[0;34m:\u001b[0m\u001b[0;34m\u001b[0m\u001b[0;34m\u001b[0m\u001b[0m\n",
      "\u001b[0;32m~/.local/lib/python3.9/site-packages/pandas/core/indexing.py\u001b[0m in \u001b[0;36m_getitem_axis\u001b[0;34m(self, key, axis)\u001b[0m\n\u001b[1;32m   1111\u001b[0m                     \u001b[0;32mraise\u001b[0m \u001b[0mValueError\u001b[0m\u001b[0;34m(\u001b[0m\u001b[0;34m\"Cannot index with multidimensional key\"\u001b[0m\u001b[0;34m)\u001b[0m\u001b[0;34m\u001b[0m\u001b[0;34m\u001b[0m\u001b[0m\n\u001b[1;32m   1112\u001b[0m \u001b[0;34m\u001b[0m\u001b[0m\n\u001b[0;32m-> 1113\u001b[0;31m                 \u001b[0;32mreturn\u001b[0m \u001b[0mself\u001b[0m\u001b[0;34m.\u001b[0m\u001b[0m_getitem_iterable\u001b[0m\u001b[0;34m(\u001b[0m\u001b[0mkey\u001b[0m\u001b[0;34m,\u001b[0m \u001b[0maxis\u001b[0m\u001b[0;34m=\u001b[0m\u001b[0maxis\u001b[0m\u001b[0;34m)\u001b[0m\u001b[0;34m\u001b[0m\u001b[0;34m\u001b[0m\u001b[0m\n\u001b[0m\u001b[1;32m   1114\u001b[0m \u001b[0;34m\u001b[0m\u001b[0m\n\u001b[1;32m   1115\u001b[0m             \u001b[0;31m# nested tuple slicing\u001b[0m\u001b[0;34m\u001b[0m\u001b[0;34m\u001b[0m\u001b[0m\n",
      "\u001b[0;32m~/.local/lib/python3.9/site-packages/pandas/core/indexing.py\u001b[0m in \u001b[0;36m_getitem_iterable\u001b[0;34m(self, key, axis)\u001b[0m\n\u001b[1;32m   1051\u001b[0m \u001b[0;34m\u001b[0m\u001b[0m\n\u001b[1;32m   1052\u001b[0m         \u001b[0;31m# A collection of keys\u001b[0m\u001b[0;34m\u001b[0m\u001b[0;34m\u001b[0m\u001b[0m\n\u001b[0;32m-> 1053\u001b[0;31m         \u001b[0mkeyarr\u001b[0m\u001b[0;34m,\u001b[0m \u001b[0mindexer\u001b[0m \u001b[0;34m=\u001b[0m \u001b[0mself\u001b[0m\u001b[0;34m.\u001b[0m\u001b[0m_get_listlike_indexer\u001b[0m\u001b[0;34m(\u001b[0m\u001b[0mkey\u001b[0m\u001b[0;34m,\u001b[0m \u001b[0maxis\u001b[0m\u001b[0;34m,\u001b[0m \u001b[0mraise_missing\u001b[0m\u001b[0;34m=\u001b[0m\u001b[0;32mFalse\u001b[0m\u001b[0;34m)\u001b[0m\u001b[0;34m\u001b[0m\u001b[0;34m\u001b[0m\u001b[0m\n\u001b[0m\u001b[1;32m   1054\u001b[0m         return self.obj._reindex_with_indexers(\n\u001b[1;32m   1055\u001b[0m             \u001b[0;34m{\u001b[0m\u001b[0maxis\u001b[0m\u001b[0;34m:\u001b[0m \u001b[0;34m[\u001b[0m\u001b[0mkeyarr\u001b[0m\u001b[0;34m,\u001b[0m \u001b[0mindexer\u001b[0m\u001b[0;34m]\u001b[0m\u001b[0;34m}\u001b[0m\u001b[0;34m,\u001b[0m \u001b[0mcopy\u001b[0m\u001b[0;34m=\u001b[0m\u001b[0;32mTrue\u001b[0m\u001b[0;34m,\u001b[0m \u001b[0mallow_dups\u001b[0m\u001b[0;34m=\u001b[0m\u001b[0;32mTrue\u001b[0m\u001b[0;34m\u001b[0m\u001b[0;34m\u001b[0m\u001b[0m\n",
      "\u001b[0;32m~/.local/lib/python3.9/site-packages/pandas/core/indexing.py\u001b[0m in \u001b[0;36m_get_listlike_indexer\u001b[0;34m(self, key, axis, raise_missing)\u001b[0m\n\u001b[1;32m   1264\u001b[0m             \u001b[0mkeyarr\u001b[0m\u001b[0;34m,\u001b[0m \u001b[0mindexer\u001b[0m\u001b[0;34m,\u001b[0m \u001b[0mnew_indexer\u001b[0m \u001b[0;34m=\u001b[0m \u001b[0max\u001b[0m\u001b[0;34m.\u001b[0m\u001b[0m_reindex_non_unique\u001b[0m\u001b[0;34m(\u001b[0m\u001b[0mkeyarr\u001b[0m\u001b[0;34m)\u001b[0m\u001b[0;34m\u001b[0m\u001b[0;34m\u001b[0m\u001b[0m\n\u001b[1;32m   1265\u001b[0m \u001b[0;34m\u001b[0m\u001b[0m\n\u001b[0;32m-> 1266\u001b[0;31m         \u001b[0mself\u001b[0m\u001b[0;34m.\u001b[0m\u001b[0m_validate_read_indexer\u001b[0m\u001b[0;34m(\u001b[0m\u001b[0mkeyarr\u001b[0m\u001b[0;34m,\u001b[0m \u001b[0mindexer\u001b[0m\u001b[0;34m,\u001b[0m \u001b[0maxis\u001b[0m\u001b[0;34m,\u001b[0m \u001b[0mraise_missing\u001b[0m\u001b[0;34m=\u001b[0m\u001b[0mraise_missing\u001b[0m\u001b[0;34m)\u001b[0m\u001b[0;34m\u001b[0m\u001b[0;34m\u001b[0m\u001b[0m\n\u001b[0m\u001b[1;32m   1267\u001b[0m         \u001b[0;32mreturn\u001b[0m \u001b[0mkeyarr\u001b[0m\u001b[0;34m,\u001b[0m \u001b[0mindexer\u001b[0m\u001b[0;34m\u001b[0m\u001b[0;34m\u001b[0m\u001b[0m\n\u001b[1;32m   1268\u001b[0m \u001b[0;34m\u001b[0m\u001b[0m\n",
      "\u001b[0;32m~/.local/lib/python3.9/site-packages/pandas/core/indexing.py\u001b[0m in \u001b[0;36m_validate_read_indexer\u001b[0;34m(self, key, indexer, axis, raise_missing)\u001b[0m\n\u001b[1;32m   1319\u001b[0m \u001b[0;34m\u001b[0m\u001b[0m\n\u001b[1;32m   1320\u001b[0m             \u001b[0;32mwith\u001b[0m \u001b[0moption_context\u001b[0m\u001b[0;34m(\u001b[0m\u001b[0;34m\"display.max_seq_items\"\u001b[0m\u001b[0;34m,\u001b[0m \u001b[0;36m10\u001b[0m\u001b[0;34m,\u001b[0m \u001b[0;34m\"display.width\"\u001b[0m\u001b[0;34m,\u001b[0m \u001b[0;36m80\u001b[0m\u001b[0;34m)\u001b[0m\u001b[0;34m:\u001b[0m\u001b[0;34m\u001b[0m\u001b[0;34m\u001b[0m\u001b[0m\n\u001b[0;32m-> 1321\u001b[0;31m                 raise KeyError(\n\u001b[0m\u001b[1;32m   1322\u001b[0m                     \u001b[0;34m\"Passing list-likes to .loc or [] with any missing labels \"\u001b[0m\u001b[0;34m\u001b[0m\u001b[0;34m\u001b[0m\u001b[0m\n\u001b[1;32m   1323\u001b[0m                     \u001b[0;34m\"is no longer supported. \"\u001b[0m\u001b[0;34m\u001b[0m\u001b[0;34m\u001b[0m\u001b[0m\n",
      "\u001b[0;31mKeyError\u001b[0m: \"Passing list-likes to .loc or [] with any missing labels is no longer supported. The following labels were missing: Index(['в том числе Hенецкий автономный округ', 'Ямало-Ненецкий автономный округ'], dtype='object', name='                                                                 РЕГИОНЫ РОССИЙСКОЙ ФЕДЕРАЦИИ'). See https://pandas.pydata.org/pandas-docs/stable/user_guide/indexing.html#deprecate-loc-reindex-listlike\""
     ]
    }
   ],
   "source": []
  },
  {
   "cell_type": "code",
   "execution_count": 26,
   "id": "018cddaf",
   "metadata": {
    "ExecuteTime": {
     "end_time": "2022-05-17T07:56:00.411239Z",
     "start_time": "2022-05-17T07:56:00.399319Z"
    }
   },
   "outputs": [
    {
     "data": {
      "text/plain": [
       "['Республика Бурятия',\n",
       " 'Республика Саха (Якутия)',\n",
       " 'Приморский край',\n",
       " 'Хабаровский край',\n",
       " 'Амурская область',\n",
       " 'Камчатская область',\n",
       " 'Магаданская область',\n",
       " 'Сахалинская область',\n",
       " 'Еврейская автономная область',\n",
       " 'Чукотский автономный округ',\n",
       " '  в том числе Hенецкий автономный округ',\n",
       " 'Мурманская область',\n",
       " 'Ямало-Ненецкий автономный округ']"
      ]
     },
     "execution_count": 26,
     "metadata": {},
     "output_type": "execute_result"
    }
   ],
   "source": []
  }
 ],
 "metadata": {
  "hide_input": false,
  "kernelspec": {
   "display_name": "Python 3 (ipykernel)",
   "language": "python",
   "name": "python3"
  },
  "language_info": {
   "codemirror_mode": {
    "name": "ipython",
    "version": 3
   },
   "file_extension": ".py",
   "mimetype": "text/x-python",
   "name": "python",
   "nbconvert_exporter": "python",
   "pygments_lexer": "ipython3",
   "version": "3.10.4"
  },
  "latex_envs": {
   "LaTeX_envs_menu_present": true,
   "autoclose": true,
   "autocomplete": true,
   "bibliofile": "biblio.bib",
   "cite_by": "apalike",
   "current_citInitial": 1,
   "eqLabelWithNumbers": true,
   "eqNumInitial": 1,
   "hotkeys": {
    "equation": "Ctrl-E",
    "itemize": "Ctrl-I"
   },
   "labels_anchors": false,
   "latex_user_defs": false,
   "report_style_numbering": false,
   "user_envs_cfg": false
  },
  "toc": {
   "base_numbering": 1,
   "nav_menu": {},
   "number_sections": true,
   "sideBar": true,
   "skip_h1_title": false,
   "title_cell": "Table of Contents",
   "title_sidebar": "Contents",
   "toc_cell": false,
   "toc_position": {},
   "toc_section_display": true,
   "toc_window_display": false
  },
  "varInspector": {
   "cols": {
    "lenName": 16,
    "lenType": 16,
    "lenVar": 40
   },
   "kernels_config": {
    "python": {
     "delete_cmd_postfix": "",
     "delete_cmd_prefix": "del ",
     "library": "var_list.py",
     "varRefreshCmd": "print(var_dic_list())"
    },
    "r": {
     "delete_cmd_postfix": ") ",
     "delete_cmd_prefix": "rm(",
     "library": "var_list.r",
     "varRefreshCmd": "cat(var_dic_list()) "
    }
   },
   "types_to_exclude": [
    "module",
    "function",
    "builtin_function_or_method",
    "instance",
    "_Feature"
   ],
   "window_display": false
  }
 },
 "nbformat": 4,
 "nbformat_minor": 5
}
