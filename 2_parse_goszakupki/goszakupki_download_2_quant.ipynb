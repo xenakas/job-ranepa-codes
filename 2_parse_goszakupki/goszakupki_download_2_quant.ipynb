{
 "cells": [
  {
   "cell_type": "code",
   "execution_count": 2,
   "metadata": {
    "ExecuteTime": {
     "end_time": "2019-09-30T09:48:51.393164Z",
     "start_time": "2019-09-30T09:48:51.373Z"
    }
   },
   "outputs": [],
   "source": [
    "library(RSelenium)\n",
    "library(XML)\n",
    "library(janitor) \n",
    "library(lubridate)\n",
    "library(magrittr)\n",
    "library(dplyr)\n",
    "library(xlsx)\n",
    "library(readxl)"
   ]
  },
  {
   "cell_type": "code",
   "execution_count": 5,
   "metadata": {
    "ExecuteTime": {
     "end_time": "2019-09-30T09:49:45.571468Z",
     "start_time": "2019-09-30T09:49:45.528Z"
    }
   },
   "outputs": [],
   "source": [
    "remDr <- remoteDriver(\n",
    "  port = 4445L\n",
    ")"
   ]
  },
  {
   "cell_type": "code",
   "execution_count": 6,
   "metadata": {
    "ExecuteTime": {
     "end_time": "2019-09-30T09:49:49.309827Z",
     "start_time": "2019-09-30T09:49:47.424Z"
    }
   },
   "outputs": [
    {
     "name": "stdout",
     "output_type": "stream",
     "text": [
      "[1] \"Connecting to remote server\"\n",
      "$applicationCacheEnabled\n",
      "[1] TRUE\n",
      "\n",
      "$rotatable\n",
      "[1] FALSE\n",
      "\n",
      "$handlesAlerts\n",
      "[1] TRUE\n",
      "\n",
      "$databaseEnabled\n",
      "[1] TRUE\n",
      "\n",
      "$version\n",
      "[1] \"45.0.2\"\n",
      "\n",
      "$platform\n",
      "[1] \"LINUX\"\n",
      "\n",
      "$nativeEvents\n",
      "[1] FALSE\n",
      "\n",
      "$acceptSslCerts\n",
      "[1] TRUE\n",
      "\n",
      "$webdriver.remote.sessionid\n",
      "[1] \"42f1226e-5b74-437d-983a-a7a66f061e06\"\n",
      "\n",
      "$webStorageEnabled\n",
      "[1] TRUE\n",
      "\n",
      "$locationContextEnabled\n",
      "[1] TRUE\n",
      "\n",
      "$browserName\n",
      "[1] \"firefox\"\n",
      "\n",
      "$takesScreenshot\n",
      "[1] TRUE\n",
      "\n",
      "$javascriptEnabled\n",
      "[1] TRUE\n",
      "\n",
      "$cssSelectorsEnabled\n",
      "[1] TRUE\n",
      "\n",
      "$id\n",
      "[1] \"42f1226e-5b74-437d-983a-a7a66f061e06\"\n",
      "\n"
     ]
    }
   ],
   "source": [
    "remDr$open()# Now open TightVNC to follow along with Selenium driving the browser. Set 192.168.99.100:5901 and password: secret# navigate to the main page\n",
    "# remDr$navigate(\"https://docs.google.com/spreadsheets/d/1o1PlLIQS8v-XSuEz1eqZB80kcJk9xg5lsbueB7mTg1U/pub?output=html&widget=true#gid=690408156\")# https://docs.google.com/spreadsheets/d/1o1PlLIQS8v-XSuEz1eqZB80kcJk9xg5lsbueB7mTg1U/pub?output=html&widget=true#gid=552987877# look for table element"
   ]
  },
  {
   "cell_type": "code",
   "execution_count": 9,
   "metadata": {
    "ExecuteTime": {
     "end_time": "2019-09-30T09:49:57.169934Z",
     "start_time": "2019-09-30T09:49:57.161Z"
    }
   },
   "outputs": [],
   "source": [
    "# remDr$navigate(\"http://zakupki.gov.ru/epz/main/public/home.html\")\n",
    "# "
   ]
  },
  {
   "cell_type": "code",
   "execution_count": 313,
   "metadata": {
    "ExecuteTime": {
     "end_time": "2019-09-30T16:37:14.297091Z",
     "start_time": "2019-09-30T16:37:14.237Z"
    }
   },
   "outputs": [],
   "source": [
    "goszak_df_kolich = read_excel('/media/xenakas/ext4_drive/data_goszak/goszak_df_cars_no_duplicates.xlsx') #, header=TRUE, colClasses=NA)\n",
    "\n",
    "# goszak_df = goszak_df  %>% clean_names()\n",
    "# goszak_df['all_indexes'] = goszak_df['index_name']"
   ]
  },
  {
   "cell_type": "markdown",
   "metadata": {},
   "source": [
    "#### Parse Kolichestvo"
   ]
  },
  {
   "cell_type": "code",
   "execution_count": 16,
   "metadata": {
    "ExecuteTime": {
     "end_time": "2019-09-30T09:51:30.146957Z",
     "start_time": "2019-09-30T09:51:28.908Z"
    }
   },
   "outputs": [],
   "source": [
    "remDr$navigate(\"http://zakupki.gov.ru/epz/main/public/home.html\")"
   ]
  },
  {
   "cell_type": "code",
   "execution_count": 17,
   "metadata": {
    "ExecuteTime": {
     "end_time": "2019-09-30T09:51:32.037995Z",
     "start_time": "2019-09-30T09:51:31.356Z"
    }
   },
   "outputs": [],
   "source": [
    "webElem <- remDr$findElement(using = \"css\", \"#quickSearchForm_header_searchString\")\n",
    "webElem$highlightElement()\n",
    "webElem$sendKeysToElement(list(goszak_df_kolich[[1,4]], key = \"enter\"))"
   ]
  },
  {
   "cell_type": "code",
   "execution_count": 18,
   "metadata": {
    "ExecuteTime": {
     "end_time": "2019-09-30T09:51:41.453698Z",
     "start_time": "2019-09-30T09:51:40.640Z"
    }
   },
   "outputs": [],
   "source": [
    "webElem <- remDr$findElement(using = \"css\", \".pinkBg\")\n",
    "webElem$highlightElement()\n",
    "webElem$clickElement()"
   ]
  },
  {
   "cell_type": "code",
   "execution_count": 19,
   "metadata": {
    "ExecuteTime": {
     "end_time": "2019-09-30T09:51:48.723374Z",
     "start_time": "2019-09-30T09:51:48.690Z"
    }
   },
   "outputs": [
    {
     "data": {
      "text/html": [
       "<ol>\n",
       "\t<li>'http://zakupki.gov.ru/epz/order/quicksearch/search.html?searchString=0372200026816000053&amp;morphology=on'</li>\n",
       "</ol>\n"
      ],
      "text/latex": [
       "\\begin{enumerate}\n",
       "\\item 'http://zakupki.gov.ru/epz/order/quicksearch/search.html?searchString=0372200026816000053\\&morphology=on'\n",
       "\\end{enumerate}\n"
      ],
      "text/markdown": [
       "1. 'http://zakupki.gov.ru/epz/order/quicksearch/search.html?searchString=0372200026816000053&amp;morphology=on'\n",
       "\n",
       "\n"
      ],
      "text/plain": [
       "[[1]]\n",
       "[1] \"http://zakupki.gov.ru/epz/order/quicksearch/search.html?searchString=0372200026816000053&morphology=on\"\n"
      ]
     },
     "metadata": {},
     "output_type": "display_data"
    }
   ],
   "source": [
    "remDr$getCurrentUrl()"
   ]
  },
  {
   "cell_type": "code",
   "execution_count": 20,
   "metadata": {
    "ExecuteTime": {
     "end_time": "2019-09-30T09:51:53.243659Z",
     "start_time": "2019-09-30T09:51:53.194Z"
    }
   },
   "outputs": [
    {
     "data": {
      "text/html": [
       "<ol>\n",
       "\t<li>'{b8f9b73f-a397-4df4-a2e8-508d6ddfb8a0}'</li>\n",
       "</ol>\n"
      ],
      "text/latex": [
       "\\begin{enumerate}\n",
       "\\item '\\{b8f9b73f-a397-4df4-a2e8-508d6ddfb8a0\\}'\n",
       "\\end{enumerate}\n"
      ],
      "text/markdown": [
       "1. '{b8f9b73f-a397-4df4-a2e8-508d6ddfb8a0}'\n",
       "\n",
       "\n"
      ],
      "text/plain": [
       "[[1]]\n",
       "[1] \"{b8f9b73f-a397-4df4-a2e8-508d6ddfb8a0}\"\n"
      ]
     },
     "metadata": {},
     "output_type": "display_data"
    }
   ],
   "source": [
    "# get main window and store to switch back\n",
    "currWindow <-  remDr$getCurrentWindowHandle()\n",
    "currWindow"
   ]
  },
  {
   "cell_type": "code",
   "execution_count": 21,
   "metadata": {
    "ExecuteTime": {
     "end_time": "2019-09-30T09:51:55.665629Z",
     "start_time": "2019-09-30T09:51:55.622Z"
    }
   },
   "outputs": [
    {
     "data": {
      "text/html": [
       "<ol>\n",
       "\t<li>'{b8f9b73f-a397-4df4-a2e8-508d6ddfb8a0}'</li>\n",
       "\t<li>'{77e36e06-d2a7-4c82-9cf6-d5f24a7ae975}'</li>\n",
       "</ol>\n"
      ],
      "text/latex": [
       "\\begin{enumerate}\n",
       "\\item '\\{b8f9b73f-a397-4df4-a2e8-508d6ddfb8a0\\}'\n",
       "\\item '\\{77e36e06-d2a7-4c82-9cf6-d5f24a7ae975\\}'\n",
       "\\end{enumerate}\n"
      ],
      "text/markdown": [
       "1. '{b8f9b73f-a397-4df4-a2e8-508d6ddfb8a0}'\n",
       "2. '{77e36e06-d2a7-4c82-9cf6-d5f24a7ae975}'\n",
       "\n",
       "\n"
      ],
      "text/plain": [
       "[[1]]\n",
       "[1] \"{b8f9b73f-a397-4df4-a2e8-508d6ddfb8a0}\"\n",
       "\n",
       "[[2]]\n",
       "[1] \"{77e36e06-d2a7-4c82-9cf6-d5f24a7ae975}\"\n"
      ]
     },
     "metadata": {},
     "output_type": "display_data"
    }
   ],
   "source": [
    "#gel all windows \n",
    "windows <- remDr$getWindowHandles()\n",
    "windows"
   ]
  },
  {
   "cell_type": "code",
   "execution_count": 22,
   "metadata": {
    "ExecuteTime": {
     "end_time": "2019-09-30T09:52:04.092992Z",
     "start_time": "2019-09-30T09:52:04.037Z"
    }
   },
   "outputs": [],
   "source": [
    "remDr$switchToWindow(windows[[2]])\n",
    "# remDr$closeWindow()"
   ]
  },
  {
   "cell_type": "code",
   "execution_count": 23,
   "metadata": {
    "ExecuteTime": {
     "end_time": "2019-09-30T09:52:21.745249Z",
     "start_time": "2019-09-30T09:52:21.717Z"
    }
   },
   "outputs": [
    {
     "data": {
      "text/html": [
       "<ol>\n",
       "\t<li>'{77e36e06-d2a7-4c82-9cf6-d5f24a7ae975}'</li>\n",
       "</ol>\n"
      ],
      "text/latex": [
       "\\begin{enumerate}\n",
       "\\item '\\{77e36e06-d2a7-4c82-9cf6-d5f24a7ae975\\}'\n",
       "\\end{enumerate}\n"
      ],
      "text/markdown": [
       "1. '{77e36e06-d2a7-4c82-9cf6-d5f24a7ae975}'\n",
       "\n",
       "\n"
      ],
      "text/plain": [
       "[[1]]\n",
       "[1] \"{77e36e06-d2a7-4c82-9cf6-d5f24a7ae975}\"\n"
      ]
     },
     "metadata": {},
     "output_type": "display_data"
    }
   ],
   "source": [
    "remDr$getCurrentWindowHandle()"
   ]
  },
  {
   "cell_type": "code",
   "execution_count": 28,
   "metadata": {
    "ExecuteTime": {
     "end_time": "2019-09-30T09:54:17.747854Z",
     "start_time": "2019-09-30T09:54:17.702Z"
    }
   },
   "outputs": [
    {
     "data": {
      "text/plain": [
       "[1] \"remoteDriver fields\"\n",
       "$remoteServerAddr\n",
       "[1] \"localhost\"\n",
       "\n",
       "$port\n",
       "[1] 4445\n",
       "\n",
       "$browserName\n",
       "[1] \"firefox\"\n",
       "\n",
       "$version\n",
       "[1] \"\"\n",
       "\n",
       "$platform\n",
       "[1] \"ANY\"\n",
       "\n",
       "$javascript\n",
       "[1] TRUE\n",
       "\n",
       "$nativeEvents\n",
       "[1] TRUE\n",
       "\n",
       "$extraCapabilities\n",
       "list()\n",
       "\n",
       "[1] \"webElement fields\"\n",
       "$elementId\n",
       "[1] \"3\"\n"
      ]
     },
     "metadata": {},
     "output_type": "display_data"
    }
   ],
   "source": [
    "webElem <- remDr$findElement(using = \"css\", '.public')\n",
    "webElem"
   ]
  },
  {
   "cell_type": "code",
   "execution_count": 34,
   "metadata": {
    "ExecuteTime": {
     "end_time": "2019-09-30T09:54:49.048064Z",
     "start_time": "2019-09-30T09:54:48.566Z"
    }
   },
   "outputs": [],
   "source": [
    "webElem$highlightElement()"
   ]
  },
  {
   "cell_type": "code",
   "execution_count": 73,
   "metadata": {
    "ExecuteTime": {
     "end_time": "2019-09-30T09:45:49.285107Z",
     "start_time": "2019-09-30T09:45:49.273Z"
    }
   },
   "outputs": [],
   "source": [
    "#loop through switching child window \n",
    "# for (window in windows[[1]]) {\n",
    "#   if (window != currWindow[[1]]) \n",
    "#     remDr$switchToWindow(window)\n",
    "# }\n",
    "\n",
    "#now close your child window after doing all stuff\n",
    "remDr$closeWindow()"
   ]
  },
  {
   "cell_type": "code",
   "execution_count": 53,
   "metadata": {
    "ExecuteTime": {
     "end_time": "2019-09-30T09:36:22.863176Z",
     "start_time": "2019-09-30T09:36:22.823Z"
    }
   },
   "outputs": [],
   "source": [
    "#now switch back to main window for further stuff \n",
    "remDr$switchToWindow(currWindow[[1]])"
   ]
  },
  {
   "cell_type": "code",
   "execution_count": 30,
   "metadata": {
    "ExecuteTime": {
     "end_time": "2019-09-30T09:54:30.095290Z",
     "start_time": "2019-09-30T09:54:30.081Z"
    }
   },
   "outputs": [],
   "source": [
    "# pp  <- '//*[contains(concat( \" \", @class, \" \" ), concat( \" \", \"tableLayoutFixed\", \" \" ))]//tr+//tr//td'\n",
    "# webElem <- remDr$findElement(using = \"xpath\", pp)\n",
    "# webElem"
   ]
  },
  {
   "cell_type": "code",
   "execution_count": 35,
   "metadata": {
    "ExecuteTime": {
     "end_time": "2019-09-30T09:56:04.792396Z",
     "start_time": "2019-09-30T09:56:04.757Z"
    }
   },
   "outputs": [
    {
     "data": {
      "text/plain": [
       "[1] \"remoteDriver fields\"\n",
       "$remoteServerAddr\n",
       "[1] \"localhost\"\n",
       "\n",
       "$port\n",
       "[1] 4445\n",
       "\n",
       "$browserName\n",
       "[1] \"firefox\"\n",
       "\n",
       "$version\n",
       "[1] \"\"\n",
       "\n",
       "$platform\n",
       "[1] \"ANY\"\n",
       "\n",
       "$javascript\n",
       "[1] TRUE\n",
       "\n",
       "$nativeEvents\n",
       "[1] TRUE\n",
       "\n",
       "$extraCapabilities\n",
       "list()\n",
       "\n",
       "[1] \"webElement fields\"\n",
       "$elementId\n",
       "[1] \"5\"\n"
      ]
     },
     "metadata": {},
     "output_type": "display_data"
    }
   ],
   "source": [
    "webElem <- remDr$findElement(using = \"css\", \".col6Tbl\")\n",
    "webElem"
   ]
  },
  {
   "cell_type": "code",
   "execution_count": 38,
   "metadata": {
    "ExecuteTime": {
     "end_time": "2019-09-30T09:59:17.981974Z",
     "start_time": "2019-09-30T09:59:17.838Z"
    }
   },
   "outputs": [],
   "source": [
    "doc <- htmlParse(remDr$getPageSource()[[1]])\n",
    "table_tmp <- readHTMLTable(doc)"
   ]
  },
  {
   "cell_type": "code",
   "execution_count": 57,
   "metadata": {
    "ExecuteTime": {
     "end_time": "2019-09-30T10:10:22.000930Z",
     "start_time": "2019-09-30T10:10:21.971Z"
    }
   },
   "outputs": [
    {
     "data": {
      "text/plain": [
       "[1] \"remoteDriver fields\"\n",
       "$remoteServerAddr\n",
       "[1] \"localhost\"\n",
       "\n",
       "$port\n",
       "[1] 4445\n",
       "\n",
       "$browserName\n",
       "[1] \"firefox\"\n",
       "\n",
       "$version\n",
       "[1] \"\"\n",
       "\n",
       "$platform\n",
       "[1] \"ANY\"\n",
       "\n",
       "$javascript\n",
       "[1] TRUE\n",
       "\n",
       "$nativeEvents\n",
       "[1] TRUE\n",
       "\n",
       "$extraCapabilities\n",
       "list()\n",
       "\n",
       "[1] \"webElement fields\"\n",
       "$elementId\n",
       "[1] \"6\"\n"
      ]
     },
     "metadata": {},
     "output_type": "display_data"
    }
   ],
   "source": [
    "webElem <- remDr$findElement(using = \"css\", \".currentTab+ td .td-content span\")\n",
    "webElem"
   ]
  },
  {
   "cell_type": "code",
   "execution_count": 59,
   "metadata": {
    "ExecuteTime": {
     "end_time": "2019-09-30T10:10:45.209561Z",
     "start_time": "2019-09-30T10:10:43.575Z"
    }
   },
   "outputs": [],
   "source": [
    "webElem$clickElement()"
   ]
  },
  {
   "cell_type": "code",
   "execution_count": 60,
   "metadata": {
    "ExecuteTime": {
     "end_time": "2019-09-30T10:11:08.146556Z",
     "start_time": "2019-09-30T10:11:08.074Z"
    }
   },
   "outputs": [
    {
     "data": {
      "text/html": [
       "<dl>\n",
       "\t<dt>$`NULL`</dt>\n",
       "\t\t<dd><table>\n",
       "<thead><tr><th scope=col>V1</th><th scope=col>V2</th><th scope=col>V3</th><th scope=col>V4</th></tr></thead>\n",
       "<tbody>\n",
       "\t<tr><td>Общая информация                 </td><td>Документы закупки                </td><td>Результаты определения поставщика</td><td>Журнал событий                   </td></tr>\n",
       "</tbody>\n",
       "</table>\n",
       "</dd>\n",
       "\t<dt>$`NULL`</dt>\n",
       "\t\t<dd><table>\n",
       "<thead><tr><th scope=col>V1</th><th scope=col>V2</th><th scope=col>V3</th><th scope=col>V4</th><th scope=col>V5</th></tr></thead>\n",
       "<tbody>\n",
       "\t<tr><td>                                                                                                                                                                                                                                                                                                                                                                                                                                                                                                                                                   </td><td>                                                                                                                                                                                                                                                                                                                                                                                                                                                                                                                                                   </td><td>Извещение о проведении электронного аукциона от 26.12.2016 №0372200026816000053                                                                                                                                                                                                                                                                                                                                                                                                                                                                    </td><td>Размещено\n",
       "                        \n",
       "                                    26.12.2016 09:11 (МСК)\n",
       "                                \n",
       "                    \n",
       "                \n",
       "                \n",
       "                                Действующая редакция                                                                                                                                                                                                                                                                                                  </td><td>Показать все файлы\n",
       "                    \n",
       "                    \n",
       "                        \n",
       "                        \n",
       "                            \n",
       "                                    \n",
       "                                \n",
       "                                    \n",
       "                                    \n",
       "                                \n",
       "                                \n",
       "                            \n",
       "                                \n",
       "                                        АД_автомобиль_(3).do\n",
       "                                        ...</td></tr>\n",
       "</tbody>\n",
       "</table>\n",
       "</dd>\n",
       "\t<dt>$`NULL`</dt>\n",
       "\t\t<dd><table>\n",
       "<thead><tr><th scope=col>V1</th></tr></thead>\n",
       "<tbody>\n",
       "\t<tr><td>Сведения отсутствуют</td></tr>\n",
       "</tbody>\n",
       "</table>\n",
       "</dd>\n",
       "\t<dt>$`NULL`</dt>\n",
       "\t\t<dd><table>\n",
       "<thead><tr><th scope=col>V1</th></tr></thead>\n",
       "<tbody>\n",
       "\t<tr><td>Сведения отсутствуют</td></tr>\n",
       "</tbody>\n",
       "</table>\n",
       "</dd>\n",
       "\t<dt>$`NULL`</dt>\n",
       "\t\t<dd><table>\n",
       "<thead><tr><th scope=col>V1</th></tr></thead>\n",
       "<tbody>\n",
       "\t<tr><td>Сведения отсутствуют</td></tr>\n",
       "</tbody>\n",
       "</table>\n",
       "</dd>\n",
       "\t<dt>$`NULL`</dt>\n",
       "\t\t<dd><table>\n",
       "<thead><tr><th scope=col>V1</th></tr></thead>\n",
       "<tbody>\n",
       "\t<tr><td>Сведения отсутствуют</td></tr>\n",
       "</tbody>\n",
       "</table>\n",
       "</dd>\n",
       "\t<dt>$`NULL`</dt>\n",
       "\t\t<dd><table>\n",
       "<thead><tr><th scope=col>V1</th></tr></thead>\n",
       "<tbody>\n",
       "\t<tr><td>Сведения отсутствуют</td></tr>\n",
       "</tbody>\n",
       "</table>\n",
       "</dd>\n",
       "\t<dt>$`NULL`</dt>\n",
       "\t\t<dd><table>\n",
       "<thead><tr><th scope=col>V1</th><th scope=col>V2</th><th scope=col>V3</th></tr></thead>\n",
       "<tbody>\n",
       "\t<tr><td>Протокол рассмотрения единственной заявки на участие в электронном аукционе от 16.01.2017 №0372200026816000053-1                                                                                                 </td><td>Размещено в ЕИС\n",
       "                        \n",
       "                            16.01.2017 12:19 (МСК)\n",
       "                        \n",
       "                        \n",
       "                    \n",
       "                    Действующая редакция</td><td>                                                                                                                                                                                                                 </td></tr>\n",
       "</tbody>\n",
       "</table>\n",
       "</dd>\n",
       "</dl>\n"
      ],
      "text/latex": [
       "\\begin{description}\n",
       "\\item[\\$`NULL`] \\begin{tabular}{r|llll}\n",
       " V1 & V2 & V3 & V4\\\\\n",
       "\\hline\n",
       "\t Общая информация                  & Документы закупки                 & Результаты определения поставщика & Журнал событий                   \\\\\n",
       "\\end{tabular}\n",
       "\n",
       "\\item[\\$`NULL`] \\begin{tabular}{r|lllll}\n",
       " V1 & V2 & V3 & V4 & V5\\\\\n",
       "\\hline\n",
       "\t                                                                                                                                                                                                                                                                                                                                                                                                                                                                                                                                                         &                                                                                                                                                                                                                                                                                                                                                                                                                                                                                                                                                         & Извещение о проведении электронного аукциона от 26.12.2016 №0372200026816000053                                                                                                                                                                                                                                                                                                                                                                                                                                                                         & Размещено\n",
       "                        \n",
       "                                    26.12.2016 09:11 (МСК)\n",
       "                                \n",
       "                    \n",
       "                \n",
       "                \n",
       "                                Действующая редакция                                                                                                                                                                                                                                                                                                       & Показать все файлы\n",
       "                    \n",
       "                    \n",
       "                        \n",
       "                        \n",
       "                            \n",
       "                                    \n",
       "                                \n",
       "                                    \n",
       "                                    \n",
       "                                \n",
       "                                \n",
       "                            \n",
       "                                \n",
       "                                        АД\\_автомобиль\\_(3).do\n",
       "                                        ...\\\\\n",
       "\\end{tabular}\n",
       "\n",
       "\\item[\\$`NULL`] \\begin{tabular}{r|l}\n",
       " V1\\\\\n",
       "\\hline\n",
       "\t Сведения отсутствуют\\\\\n",
       "\\end{tabular}\n",
       "\n",
       "\\item[\\$`NULL`] \\begin{tabular}{r|l}\n",
       " V1\\\\\n",
       "\\hline\n",
       "\t Сведения отсутствуют\\\\\n",
       "\\end{tabular}\n",
       "\n",
       "\\item[\\$`NULL`] \\begin{tabular}{r|l}\n",
       " V1\\\\\n",
       "\\hline\n",
       "\t Сведения отсутствуют\\\\\n",
       "\\end{tabular}\n",
       "\n",
       "\\item[\\$`NULL`] \\begin{tabular}{r|l}\n",
       " V1\\\\\n",
       "\\hline\n",
       "\t Сведения отсутствуют\\\\\n",
       "\\end{tabular}\n",
       "\n",
       "\\item[\\$`NULL`] \\begin{tabular}{r|l}\n",
       " V1\\\\\n",
       "\\hline\n",
       "\t Сведения отсутствуют\\\\\n",
       "\\end{tabular}\n",
       "\n",
       "\\item[\\$`NULL`] \\begin{tabular}{r|lll}\n",
       " V1 & V2 & V3\\\\\n",
       "\\hline\n",
       "\t Протокол рассмотрения единственной заявки на участие в электронном аукционе от 16.01.2017 №0372200026816000053-1                                                                                                  & Размещено в ЕИС\n",
       "                        \n",
       "                            16.01.2017 12:19 (МСК)\n",
       "                        \n",
       "                        \n",
       "                    \n",
       "                    Действующая редакция &                                                                                                                                                                                                                  \\\\\n",
       "\\end{tabular}\n",
       "\n",
       "\\end{description}\n"
      ],
      "text/markdown": [
       "$`NULL`\n",
       ":   \n",
       "V1 | V2 | V3 | V4 | \n",
       "|---|\n",
       "| Общая информация                  | Документы закупки                 | Результаты определения поставщика | Журнал событий                    | \n",
       "\n",
       "\n",
       "\n",
       "$`NULL`\n",
       ":   \n",
       "V1 | V2 | V3 | V4 | V5 | \n",
       "|---|\n",
       "|                                                                                                                                                                                                                                                                                                                                                                                                                                                                                                                                                     |                                                                                                                                                                                                                                                                                                                                                                                                                                                                                                                                                     | Извещение о проведении электронного аукциона от 26.12.2016 №0372200026816000053                                                                                                                                                                                                                                                                                                                                                                                                                                                                     | Размещено\n",
       "                        \n",
       "                                    26.12.2016 09:11 (МСК)\n",
       "                                \n",
       "                    \n",
       "                \n",
       "                \n",
       "                                Действующая редакция                                                                                                                                                                                                                                                                                                   | Показать все файлы\n",
       "                    \n",
       "                    \n",
       "                        \n",
       "                        \n",
       "                            \n",
       "                                    \n",
       "                                \n",
       "                                    \n",
       "                                    \n",
       "                                \n",
       "                                \n",
       "                            \n",
       "                                \n",
       "                                        АД_автомобиль_(3).do\n",
       "                                        ... | \n",
       "\n",
       "\n",
       "\n",
       "$`NULL`\n",
       ":   \n",
       "V1 | \n",
       "|---|\n",
       "| Сведения отсутствуют | \n",
       "\n",
       "\n",
       "\n",
       "$`NULL`\n",
       ":   \n",
       "V1 | \n",
       "|---|\n",
       "| Сведения отсутствуют | \n",
       "\n",
       "\n",
       "\n",
       "$`NULL`\n",
       ":   \n",
       "V1 | \n",
       "|---|\n",
       "| Сведения отсутствуют | \n",
       "\n",
       "\n",
       "\n",
       "$`NULL`\n",
       ":   \n",
       "V1 | \n",
       "|---|\n",
       "| Сведения отсутствуют | \n",
       "\n",
       "\n",
       "\n",
       "$`NULL`\n",
       ":   \n",
       "V1 | \n",
       "|---|\n",
       "| Сведения отсутствуют | \n",
       "\n",
       "\n",
       "\n",
       "$`NULL`\n",
       ":   \n",
       "V1 | V2 | V3 | \n",
       "|---|\n",
       "| Протокол рассмотрения единственной заявки на участие в электронном аукционе от 16.01.2017 №0372200026816000053-1                                                                                                  | Размещено в ЕИС\n",
       "                        \n",
       "                            16.01.2017 12:19 (МСК)\n",
       "                        \n",
       "                        \n",
       "                    \n",
       "                    Действующая редакция |                                                                                                                                                                                                                   | \n",
       "\n",
       "\n",
       "\n",
       "\n",
       "\n"
      ],
      "text/plain": [
       "$`NULL`\n",
       "                V1                V2                                V3\n",
       "1 Общая информация Документы закупки Результаты определения поставщика\n",
       "              V4\n",
       "1 Журнал событий\n",
       "\n",
       "$`NULL`\n",
       "  V1 V2\n",
       "1      \n",
       "                                                                               V3\n",
       "1 Извещение о проведении электронного аукциона от 26.12.2016 №0372200026816000053\n",
       "                                                                                                                                                                                                                                                 V4\n",
       "1 Размещено\\n                        \\n                                    26.12.2016 09:11 (МСК)\\n                                \\n                    \\n                \\n                \\n                                Действующая редакция\n",
       "                                                                                                                                                                                                                                                                                                                                                                                                                                                                                                                                                   V5\n",
       "1 Показать все файлы\\n                    \\n                    \\n                        \\n                        \\n                            \\n                                    \\n                                \\n                                    \\n                                    \\n                                \\n                                \\n                            \\n                                \\n                                        АД_автомобиль_(3).do\\n                                        ...\n",
       "\n",
       "$`NULL`\n",
       "                    V1\n",
       "1 Сведения отсутствуют\n",
       "\n",
       "$`NULL`\n",
       "                    V1\n",
       "1 Сведения отсутствуют\n",
       "\n",
       "$`NULL`\n",
       "                    V1\n",
       "1 Сведения отсутствуют\n",
       "\n",
       "$`NULL`\n",
       "                    V1\n",
       "1 Сведения отсутствуют\n",
       "\n",
       "$`NULL`\n",
       "                    V1\n",
       "1 Сведения отсутствуют\n",
       "\n",
       "$`NULL`\n",
       "                                                                                                                V1\n",
       "1 Протокол рассмотрения единственной заявки на участие в электронном аукционе от 16.01.2017 №0372200026816000053-1\n",
       "                                                                                                                                                                                                                 V2\n",
       "1 Размещено в ЕИС\\n                        \\n                            16.01.2017 12:19 (МСК)\\n                        \\n                        \\n                    \\n                    Действующая редакция\n",
       "  V3\n",
       "1   \n"
      ]
     },
     "metadata": {},
     "output_type": "display_data"
    }
   ],
   "source": [
    "doc <- htmlParse(remDr$getPageSource()[[1]])\n",
    "table_tmp <- readHTMLTable(doc)\n",
    "table_tmp"
   ]
  },
  {
   "cell_type": "code",
   "execution_count": 61,
   "metadata": {
    "ExecuteTime": {
     "end_time": "2019-09-30T10:13:12.125736Z",
     "start_time": "2019-09-30T10:13:12.089Z"
    }
   },
   "outputs": [
    {
     "data": {
      "text/plain": [
       "[1] \"remoteDriver fields\"\n",
       "$remoteServerAddr\n",
       "[1] \"localhost\"\n",
       "\n",
       "$port\n",
       "[1] 4445\n",
       "\n",
       "$browserName\n",
       "[1] \"firefox\"\n",
       "\n",
       "$version\n",
       "[1] \"\"\n",
       "\n",
       "$platform\n",
       "[1] \"ANY\"\n",
       "\n",
       "$javascript\n",
       "[1] TRUE\n",
       "\n",
       "$nativeEvents\n",
       "[1] TRUE\n",
       "\n",
       "$extraCapabilities\n",
       "list()\n",
       "\n",
       "[1] \"webElement fields\"\n",
       "$elementId\n",
       "[1] \"7\"\n"
      ]
     },
     "metadata": {},
     "output_type": "display_data"
    }
   ],
   "source": [
    "webElem <- remDr$findElement(using = \"css\", \".currentTab+ td .td-content span\")\n",
    "webElem"
   ]
  },
  {
   "cell_type": "code",
   "execution_count": 62,
   "metadata": {
    "ExecuteTime": {
     "end_time": "2019-09-30T10:13:13.757955Z",
     "start_time": "2019-09-30T10:13:13.204Z"
    }
   },
   "outputs": [],
   "source": [
    "webElem$highlightElement()"
   ]
  },
  {
   "cell_type": "code",
   "execution_count": 63,
   "metadata": {
    "ExecuteTime": {
     "end_time": "2019-09-30T10:13:35.509136Z",
     "start_time": "2019-09-30T10:13:34.861Z"
    }
   },
   "outputs": [],
   "source": [
    "webElem$clickElement()"
   ]
  },
  {
   "cell_type": "code",
   "execution_count": 64,
   "metadata": {
    "ExecuteTime": {
     "end_time": "2019-09-30T10:13:37.947090Z",
     "start_time": "2019-09-30T10:13:37.880Z"
    }
   },
   "outputs": [
    {
     "data": {
      "text/html": [
       "<dl>\n",
       "\t<dt>$`NULL`</dt>\n",
       "\t\t<dd><table>\n",
       "<thead><tr><th scope=col>V1</th><th scope=col>V2</th><th scope=col>V3</th><th scope=col>V4</th></tr></thead>\n",
       "<tbody>\n",
       "\t<tr><td>Общая информация                 </td><td>Документы закупки                </td><td>Результаты определения поставщика</td><td>Журнал событий                   </td></tr>\n",
       "</tbody>\n",
       "</table>\n",
       "</dd>\n",
       "\t<dt>$`NULL`</dt>\n",
       "\t\t<dd><table>\n",
       "<thead><tr><th scope=col>Протокол определения поставщика</th><th scope=col>Заказчик(и), с которыми планируется заключить контракт</th><th scope=col>Участник(и), с которым планируется заключить контракт</th><th scope=col>Предложение участника</th><th scope=col>Дата и время формирования</th></tr></thead>\n",
       "<tbody>\n",
       "\t<tr><td>                                                                                                                </td><td>NA                                                                                                              </td><td>NA                                                                                                              </td><td>NA                                                                                                              </td><td>NA                                                                                                              </td></tr>\n",
       "\t<tr><td>Лот №1                                                                                                          </td><td>NA                                                                                                              </td><td>NA                                                                                                              </td><td>NA                                                                                                              </td><td>NA                                                                                                              </td></tr>\n",
       "\t<tr><td>Протокол рассмотрения единственной заявки на участие в электронном аукционе от 16.01.2017 №0372200026816000053-1</td><td>САНКТ-ПЕТЕРБУРГСКОЕ ГОСУДАРСТВЕННОЕ БЮДЖЕТНОЕ УЧРЕЖДЕНИЕ ЗДРАВООХРАНЕНИЯ \"ДЕТСКАЯ ГОРОДСКАЯ ПОЛИКЛИНИКА № 35\"   </td><td>Общество с ограниченной ответственностью 'РОЛЬФ Эстейт Санкт-Петербург'(1-Победитель)                           </td><td>                                                                                                                </td><td>16.01.2017 12:19 (МСК)                                                                                          </td></tr>\n",
       "</tbody>\n",
       "</table>\n",
       "</dd>\n",
       "\t<dt>$`NULL`</dt>\n",
       "\t\t<dd><table>\n",
       "<thead><tr><th scope=col>Информация о контракте</th><th scope=col>Заказчик, с которым заключен контракт</th><th scope=col>Поставщик, с которым заключен контракт</th><th scope=col>Цена контракта</th><th scope=col>Дата и время получения в ЕИС</th></tr></thead>\n",
       "<tbody>\n",
       "\t<tr><td>Сведения о заключении контракта на электронной площадке от 30.01.2017 № 0372200026816000053-0226937-01\n",
       "                                \n",
       "                                на основании документа:\n",
       "                                0372200026816000053-1</td><td>САНКТ-ПЕТЕРБУРГСКОЕ ГОСУДАРСТВЕННОЕ БЮДЖЕТНОЕ УЧРЕЖДЕНИЕ ЗДРАВООХРАНЕНИЯ \"ДЕТСКАЯ ГОРОДСКАЯ ПОЛИКЛИНИКА № 35\"                                                                                                                                           </td><td>Общество с ограниченной ответственностью 'РОЛЬФ Эстейт Санкт-Петербург'                                                                                                                                                                                 </td><td>607 902,33 Российский рубль                                                                                                                                                                                                                             </td><td>30.01.2017 12:47 (МСК)                                                                                                                                                                                                                                  </td></tr>\n",
       "</tbody>\n",
       "</table>\n",
       "</dd>\n",
       "\t<dt>$`NULL`</dt>\n",
       "\t\t<dd><table>\n",
       "<thead><tr><th scope=col>Номер реестровой записи</th><th scope=col>Заказчик, с которым заключен контракт</th><th scope=col>Поставщик, с которым заключен контракт</th><th scope=col>Цена контракта</th><th scope=col>Размещение/ последнее изменение документа</th></tr></thead>\n",
       "<tbody>\n",
       "\t<tr><td>                                                                                                             </td><td>NA                                                                                                           </td><td>NA                                                                                                           </td><td>NA                                                                                                           </td><td>NA                                                                                                           </td></tr>\n",
       "\t<tr><td>№2781022842217000017                                                                                         </td><td>САНКТ-ПЕТЕРБУРГСКОЕ ГОСУДАРСТВЕННОЕ БЮДЖЕТНОЕ УЧРЕЖДЕНИЕ ЗДРАВООХРАНЕНИЯ \"ДЕТСКАЯ ГОРОДСКАЯ ПОЛИКЛИНИКА № 35\"</td><td>Общество с ограниченной ответственностью \"РОЛЬФ Эстейт Санкт-Петербург\" филиал \"Лахта Рено\"                  </td><td>607 902,33 Российский рубль                                                                                  </td><td>18.04.2017 14:39 (МСК)                                                                                       </td></tr>\n",
       "</tbody>\n",
       "</table>\n",
       "</dd>\n",
       "</dl>\n"
      ],
      "text/latex": [
       "\\begin{description}\n",
       "\\item[\\$`NULL`] \\begin{tabular}{r|llll}\n",
       " V1 & V2 & V3 & V4\\\\\n",
       "\\hline\n",
       "\t Общая информация                  & Документы закупки                 & Результаты определения поставщика & Журнал событий                   \\\\\n",
       "\\end{tabular}\n",
       "\n",
       "\\item[\\$`NULL`] \\begin{tabular}{r|lllll}\n",
       " Протокол определения поставщика & Заказчик(и), с которыми планируется заключить контракт & Участник(и), с которым планируется заключить контракт & Предложение участника & Дата и время формирования\\\\\n",
       "\\hline\n",
       "\t                                                                                                                  & NA                                                                                                               & NA                                                                                                               & NA                                                                                                               & NA                                                                                                              \\\\\n",
       "\t Лот №1                                                                                                           & NA                                                                                                               & NA                                                                                                               & NA                                                                                                               & NA                                                                                                              \\\\\n",
       "\t Протокол рассмотрения единственной заявки на участие в электронном аукционе от 16.01.2017 №0372200026816000053-1 & САНКТ-ПЕТЕРБУРГСКОЕ ГОСУДАРСТВЕННОЕ БЮДЖЕТНОЕ УЧРЕЖДЕНИЕ ЗДРАВООХРАНЕНИЯ \"ДЕТСКАЯ ГОРОДСКАЯ ПОЛИКЛИНИКА № 35\"    & Общество с ограниченной ответственностью 'РОЛЬФ Эстейт Санкт-Петербург'(1-Победитель)                            &                                                                                                                  & 16.01.2017 12:19 (МСК)                                                                                          \\\\\n",
       "\\end{tabular}\n",
       "\n",
       "\\item[\\$`NULL`] \\begin{tabular}{r|lllll}\n",
       " Информация о контракте & Заказчик, с которым заключен контракт & Поставщик, с которым заключен контракт & Цена контракта & Дата и время получения в ЕИС\\\\\n",
       "\\hline\n",
       "\t Сведения о заключении контракта на электронной площадке от 30.01.2017 № 0372200026816000053-0226937-01\n",
       "                                \n",
       "                                на основании документа:\n",
       "                                0372200026816000053-1 & САНКТ-ПЕТЕРБУРГСКОЕ ГОСУДАРСТВЕННОЕ БЮДЖЕТНОЕ УЧРЕЖДЕНИЕ ЗДРАВООХРАНЕНИЯ \"ДЕТСКАЯ ГОРОДСКАЯ ПОЛИКЛИНИКА № 35\"                                                                                                                                            & Общество с ограниченной ответственностью 'РОЛЬФ Эстейт Санкт-Петербург'                                                                                                                                                                                  & 607 902,33 Российский рубль                                                                                                                                                                                                                              & 30.01.2017 12:47 (МСК)                                                                                                                                                                                                                                  \\\\\n",
       "\\end{tabular}\n",
       "\n",
       "\\item[\\$`NULL`] \\begin{tabular}{r|lllll}\n",
       " Номер реестровой записи & Заказчик, с которым заключен контракт & Поставщик, с которым заключен контракт & Цена контракта & Размещение/ последнее изменение документа\\\\\n",
       "\\hline\n",
       "\t                                                                                                               & NA                                                                                                            & NA                                                                                                            & NA                                                                                                            & NA                                                                                                           \\\\\n",
       "\t №2781022842217000017                                                                                          & САНКТ-ПЕТЕРБУРГСКОЕ ГОСУДАРСТВЕННОЕ БЮДЖЕТНОЕ УЧРЕЖДЕНИЕ ЗДРАВООХРАНЕНИЯ \"ДЕТСКАЯ ГОРОДСКАЯ ПОЛИКЛИНИКА № 35\" & Общество с ограниченной ответственностью \"РОЛЬФ Эстейт Санкт-Петербург\" филиал \"Лахта Рено\"                   & 607 902,33 Российский рубль                                                                                   & 18.04.2017 14:39 (МСК)                                                                                       \\\\\n",
       "\\end{tabular}\n",
       "\n",
       "\\end{description}\n"
      ],
      "text/markdown": [
       "$`NULL`\n",
       ":   \n",
       "V1 | V2 | V3 | V4 | \n",
       "|---|\n",
       "| Общая информация                  | Документы закупки                 | Результаты определения поставщика | Журнал событий                    | \n",
       "\n",
       "\n",
       "\n",
       "$`NULL`\n",
       ":   \n",
       "Протокол определения поставщика | Заказчик(и), с которыми планируется заключить контракт | Участник(и), с которым планируется заключить контракт | Предложение участника | Дата и время формирования | \n",
       "|---|---|---|\n",
       "|                                                                                                                  | NA                                                                                                               | NA                                                                                                               | NA                                                                                                               | NA                                                                                                               | \n",
       "| Лот №1                                                                                                           | NA                                                                                                               | NA                                                                                                               | NA                                                                                                               | NA                                                                                                               | \n",
       "| Протокол рассмотрения единственной заявки на участие в электронном аукционе от 16.01.2017 №0372200026816000053-1 | САНКТ-ПЕТЕРБУРГСКОЕ ГОСУДАРСТВЕННОЕ БЮДЖЕТНОЕ УЧРЕЖДЕНИЕ ЗДРАВООХРАНЕНИЯ \"ДЕТСКАЯ ГОРОДСКАЯ ПОЛИКЛИНИКА № 35\"    | Общество с ограниченной ответственностью 'РОЛЬФ Эстейт Санкт-Петербург'(1-Победитель)                            |                                                                                                                  | 16.01.2017 12:19 (МСК)                                                                                           | \n",
       "\n",
       "\n",
       "\n",
       "$`NULL`\n",
       ":   \n",
       "Информация о контракте | Заказчик, с которым заключен контракт | Поставщик, с которым заключен контракт | Цена контракта | Дата и время получения в ЕИС | \n",
       "|---|\n",
       "| Сведения о заключении контракта на электронной площадке от 30.01.2017 № 0372200026816000053-0226937-01\n",
       "                                \n",
       "                                на основании документа:\n",
       "                                0372200026816000053-1 | САНКТ-ПЕТЕРБУРГСКОЕ ГОСУДАРСТВЕННОЕ БЮДЖЕТНОЕ УЧРЕЖДЕНИЕ ЗДРАВООХРАНЕНИЯ \"ДЕТСКАЯ ГОРОДСКАЯ ПОЛИКЛИНИКА № 35\"                                                                                                                                            | Общество с ограниченной ответственностью 'РОЛЬФ Эстейт Санкт-Петербург'                                                                                                                                                                                  | 607 902,33 Российский рубль                                                                                                                                                                                                                              | 30.01.2017 12:47 (МСК)                                                                                                                                                                                                                                   | \n",
       "\n",
       "\n",
       "\n",
       "$`NULL`\n",
       ":   \n",
       "Номер реестровой записи | Заказчик, с которым заключен контракт | Поставщик, с которым заключен контракт | Цена контракта | Размещение/ последнее изменение документа | \n",
       "|---|---|\n",
       "|                                                                                                               | NA                                                                                                            | NA                                                                                                            | NA                                                                                                            | NA                                                                                                            | \n",
       "| №2781022842217000017                                                                                          | САНКТ-ПЕТЕРБУРГСКОЕ ГОСУДАРСТВЕННОЕ БЮДЖЕТНОЕ УЧРЕЖДЕНИЕ ЗДРАВООХРАНЕНИЯ \"ДЕТСКАЯ ГОРОДСКАЯ ПОЛИКЛИНИКА № 35\" | Общество с ограниченной ответственностью \"РОЛЬФ Эстейт Санкт-Петербург\" филиал \"Лахта Рено\"                   | 607 902,33 Российский рубль                                                                                   | 18.04.2017 14:39 (МСК)                                                                                        | \n",
       "\n",
       "\n",
       "\n",
       "\n",
       "\n"
      ],
      "text/plain": [
       "$`NULL`\n",
       "                V1                V2                                V3\n",
       "1 Общая информация Документы закупки Результаты определения поставщика\n",
       "              V4\n",
       "1 Журнал событий\n",
       "\n",
       "$`NULL`\n",
       "                                                                                   Протокол определения поставщика\n",
       "1                                                                                                                 \n",
       "2                                                                                                           Лот №1\n",
       "3 Протокол рассмотрения единственной заявки на участие в электронном аукционе от 16.01.2017 №0372200026816000053-1\n",
       "                                                         Заказчик(и), с которыми планируется заключить контракт\n",
       "1                                                                                                          <NA>\n",
       "2                                                                                                          <NA>\n",
       "3 САНКТ-ПЕТЕРБУРГСКОЕ ГОСУДАРСТВЕННОЕ БЮДЖЕТНОЕ УЧРЕЖДЕНИЕ ЗДРАВООХРАНЕНИЯ \"ДЕТСКАЯ ГОРОДСКАЯ ПОЛИКЛИНИКА № 35\"\n",
       "                                  Участник(и), с которым планируется заключить контракт\n",
       "1                                                                                  <NA>\n",
       "2                                                                                  <NA>\n",
       "3 Общество с ограниченной ответственностью 'РОЛЬФ Эстейт Санкт-Петербург'(1-Победитель)\n",
       "  Предложение участника Дата и время формирования\n",
       "1                  <NA>                      <NA>\n",
       "2                  <NA>                      <NA>\n",
       "3                          16.01.2017 12:19 (МСК)\n",
       "\n",
       "$`NULL`\n",
       "                                                                                                                                                                                                                                    Информация о контракте\n",
       "1 Сведения о заключении контракта на электронной площадке от 30.01.2017 № 0372200026816000053-0226937-01\\n                                \\n                                на основании документа:\\n                                0372200026816000053-1\n",
       "                                                                          Заказчик, с которым заключен контракт\n",
       "1 САНКТ-ПЕТЕРБУРГСКОЕ ГОСУДАРСТВЕННОЕ БЮДЖЕТНОЕ УЧРЕЖДЕНИЕ ЗДРАВООХРАНЕНИЯ \"ДЕТСКАЯ ГОРОДСКАЯ ПОЛИКЛИНИКА № 35\"\n",
       "                                   Поставщик, с которым заключен контракт\n",
       "1 Общество с ограниченной ответственностью 'РОЛЬФ Эстейт Санкт-Петербург'\n",
       "               Цена контракта Дата и время получения в ЕИС\n",
       "1 607 902,33 Российский рубль       30.01.2017 12:47 (МСК)\n",
       "\n",
       "$`NULL`\n",
       "  Номер реестровой записи\n",
       "1                        \n",
       "2    №2781022842217000017\n",
       "                                                                          Заказчик, с которым заключен контракт\n",
       "1                                                                                                          <NA>\n",
       "2 САНКТ-ПЕТЕРБУРГСКОЕ ГОСУДАРСТВЕННОЕ БЮДЖЕТНОЕ УЧРЕЖДЕНИЕ ЗДРАВООХРАНЕНИЯ \"ДЕТСКАЯ ГОРОДСКАЯ ПОЛИКЛИНИКА № 35\"\n",
       "                                                       Поставщик, с которым заключен контракт\n",
       "1                                                                                        <NA>\n",
       "2 Общество с ограниченной ответственностью \"РОЛЬФ Эстейт Санкт-Петербург\" филиал \"Лахта Рено\"\n",
       "               Цена контракта Размещение/ последнее изменение документа\n",
       "1                        <NA>                                      <NA>\n",
       "2 607 902,33 Российский рубль                    18.04.2017 14:39 (МСК)\n"
      ]
     },
     "metadata": {},
     "output_type": "display_data"
    }
   ],
   "source": [
    "doc <- htmlParse(remDr$getPageSource()[[1]])\n",
    "table_tmp <- readHTMLTable(doc)\n",
    "table_tmp"
   ]
  },
  {
   "cell_type": "code",
   "execution_count": 160,
   "metadata": {
    "ExecuteTime": {
     "end_time": "2019-09-25T12:35:21.193470Z",
     "start_time": "2019-09-25T12:35:07.331Z"
    }
   },
   "outputs": [],
   "source": [
    "# for (i in nulls2[nulls]){\n",
    "#     remDr$navigate(\"http://zakupki.gov.ru/epz/main/public/home.html\")\n",
    "#     Sys.sleep(2)\n",
    "#     webElem <- remDr$findElement(using = \"css\", \"#quickSearchForm_header_searchString\")\n",
    "#     # webElem$highlightElement()\n",
    "#     webElem$sendKeysToElement(list(goszak_df_kolich[[i,2]], key = \"enter\"))\n",
    "#     doc <- htmlParse(remDr$getPageSource()[[1]])\n",
    "#     table_tmp <- readHTMLTable(doc)\n",
    "#     tables_list[[i]] = table_tmp$'NULL'\n",
    "#     Sys.sleep(2)\n",
    "# }"
   ]
  },
  {
   "cell_type": "markdown",
   "metadata": {},
   "source": [
    "#### obsch_info"
   ]
  },
  {
   "cell_type": "code",
   "execution_count": 152,
   "metadata": {
    "ExecuteTime": {
     "end_time": "2019-09-30T12:08:20.104242Z",
     "start_time": "2019-09-30T12:08:20.077Z"
    }
   },
   "outputs": [
    {
     "data": {
      "text/html": [
       "'http://zakupki.gov.ru/epz/order/notice/ea44/view/common-info.html?regNumber=0862300039917000010'"
      ],
      "text/latex": [
       "'http://zakupki.gov.ru/epz/order/notice/ea44/view/common-info.html?regNumber=0862300039917000010'"
      ],
      "text/markdown": [
       "'http://zakupki.gov.ru/epz/order/notice/ea44/view/common-info.html?regNumber=0862300039917000010'"
      ],
      "text/plain": [
       "[1] \"http://zakupki.gov.ru/epz/order/notice/ea44/view/common-info.html?regNumber=0862300039917000010\""
      ]
     },
     "metadata": {},
     "output_type": "display_data"
    }
   ],
   "source": [
    "paste('http://zakupki.gov.ru/epz/order/notice/ea44/view/common-info.html?regNumber=', goszak_df_kolich[[52,4]], sep=\"\")"
   ]
  },
  {
   "cell_type": "code",
   "execution_count": 158,
   "metadata": {
    "ExecuteTime": {
     "end_time": "2019-09-30T15:20:37.536755Z",
     "start_time": "2019-09-30T15:20:37.508Z"
    }
   },
   "outputs": [],
   "source": [
    "collecting_auctions  <- function(tables_list){\n",
    "    if (length(tables_list)>dim(goszak_df_kolich)[1]){print(2500)}\n",
    "    else{\n",
    "    for (i in (length(tables_list) + 1):dim(goszak_df_kolich)[1]){\n",
    "        \n",
    "        \n",
    "        zak_path  <- paste('http://zakupki.gov.ru/epz/order/notice/ea44/view/common-info.html?regNumber=', goszak_df_kolich[[i,4]], sep=\"\")\n",
    "        \n",
    "        remDr$navigate(zak_path)\n",
    "        Sys.sleep(2)\n",
    "\n",
    "        doc <- htmlParse(remDr$getPageSource()[[1]])\n",
    "        table_tmp <- readHTMLTable(doc)        \n",
    "        \n",
    "        \n",
    "        all_pages  <- list()\n",
    "        \n",
    "        all_pages[[1]]  <- table_tmp\n",
    "        \n",
    "        webElem <- remDr$findElement(using = \"css\", \".currentTab+ td .td-content span\")\n",
    "        webElem$clickElement() \n",
    "        Sys.sleep(2)\n",
    "        \n",
    "        doc <- htmlParse(remDr$getPageSource()[[1]])\n",
    "        table_tmp <- readHTMLTable(doc)        \n",
    "        \n",
    "        all_pages[[2]]  <- table_tmp\n",
    "        \n",
    "        webElem <- remDr$findElement(using = \"css\", \".currentTab+ td .td-content span\")\n",
    "        webElem$clickElement() \n",
    "        Sys.sleep(2)\n",
    "        \n",
    "        doc <- htmlParse(remDr$getPageSource()[[1]])\n",
    "        table_tmp <- readHTMLTable(doc)        \n",
    "        \n",
    "        all_pages[[3]]  <- table_tmp\n",
    "        \n",
    "        tables_list[[i]]  <- all_pages\n",
    "        \n",
    "\n",
    "        return(tables_list)\n",
    "        Sys.sleep(2)\n",
    "                \n",
    "    }\n",
    "    }\n",
    "    \n",
    "    }"
   ]
  },
  {
   "cell_type": "code",
   "execution_count": 83,
   "metadata": {
    "ExecuteTime": {
     "end_time": "2019-09-30T10:44:20.642234Z",
     "start_time": "2019-09-30T10:44:20.626Z"
    }
   },
   "outputs": [],
   "source": [
    "tables_list  <-  list()"
   ]
  },
  {
   "cell_type": "code",
   "execution_count": 137,
   "metadata": {
    "ExecuteTime": {
     "end_time": "2019-09-30T11:45:48.064596Z",
     "start_time": "2019-09-30T11:45:28.891Z"
    }
   },
   "outputs": [],
   "source": [
    "tables_list  <-  collecting_auctions(tables_list)"
   ]
  },
  {
   "cell_type": "code",
   "execution_count": 154,
   "metadata": {
    "ExecuteTime": {
     "end_time": "2019-09-30T15:16:59.138786Z",
     "start_time": "2019-09-30T12:08:47.292Z"
    }
   },
   "outputs": [],
   "source": [
    "while (length(tables_list) != dim(goszak_df_kolich)[1]) {\n",
    "    tables_list <- tryCatch({\n",
    "        collecting_auctions(tables_list)\n",
    "    }, error = function(cond) {\n",
    "        message(paste(\"stoped at length: \", length(tables_list) ))\n",
    "        Sys.sleep(10)\n",
    "        \n",
    "        windows <- remDr$getWindowHandles()\n",
    "        \n",
    "        \n",
    "        tables_list[[length(tables_list)+1]]  <- 'Houston, we have a problem' \n",
    "        \n",
    "        return(tables_list)\n",
    "        }\n",
    "                           )\n",
    "    \n",
    "}"
   ]
  },
  {
   "cell_type": "code",
   "execution_count": 193,
   "metadata": {
    "ExecuteTime": {
     "end_time": "2019-09-30T15:33:38.078071Z",
     "start_time": "2019-09-30T15:33:38.053Z"
    }
   },
   "outputs": [],
   "source": [
    "tables_list_copy <- tables_list"
   ]
  },
  {
   "cell_type": "markdown",
   "metadata": {},
   "source": [
    "#### check if car"
   ]
  },
  {
   "cell_type": "code",
   "execution_count": 334,
   "metadata": {
    "ExecuteTime": {
     "end_time": "2019-09-30T16:40:31.548478Z",
     "start_time": "2019-09-30T16:40:31.493Z"
    }
   },
   "outputs": [],
   "source": [
    "goszak_df_kolich = read_excel('/media/xenakas/ext4_drive/data_goszak/goszak_df_cars_no_duplicates.xlsx') #, header=TRUE, colClasses=NA)\n"
   ]
  },
  {
   "cell_type": "code",
   "execution_count": 335,
   "metadata": {
    "ExecuteTime": {
     "end_time": "2019-09-30T16:40:31.870343Z",
     "start_time": "2019-09-30T16:40:31.850Z"
    }
   },
   "outputs": [],
   "source": [
    "nas  <- goszak_df_kolich[ is.na(goszak_df_kolich$completed_car_purchase), ]$X__1"
   ]
  },
  {
   "cell_type": "code",
   "execution_count": 336,
   "metadata": {
    "ExecuteTime": {
     "end_time": "2019-09-30T16:40:32.144506Z",
     "start_time": "2019-09-30T16:40:32.127Z"
    }
   },
   "outputs": [
    {
     "data": {
      "text/html": [
       "16"
      ],
      "text/latex": [
       "16"
      ],
      "text/markdown": [
       "16"
      ],
      "text/plain": [
       "[1] 16"
      ]
     },
     "metadata": {},
     "output_type": "display_data"
    }
   ],
   "source": [
    "as.integer(nas[2])"
   ]
  },
  {
   "cell_type": "code",
   "execution_count": 338,
   "metadata": {
    "ExecuteTime": {
     "end_time": "2019-09-30T16:40:37.139157Z",
     "start_time": "2019-09-30T16:40:37.131Z"
    }
   },
   "outputs": [],
   "source": [
    "# goszak_df_kolich[ is.na(goszak_df_kolich$completed_car_purchase), ]"
   ]
  },
  {
   "cell_type": "code",
   "execution_count": 452,
   "metadata": {
    "ExecuteTime": {
     "end_time": "2019-09-30T17:26:25.916955Z",
     "start_time": "2019-09-30T17:26:25.906Z"
    }
   },
   "outputs": [],
   "source": [
    "# goszak_df_kolich$X__1"
   ]
  },
  {
   "cell_type": "code",
   "execution_count": 464,
   "metadata": {
    "ExecuteTime": {
     "end_time": "2019-09-30T17:32:21.708732Z",
     "start_time": "2019-09-30T17:32:21.642Z"
    }
   },
   "outputs": [],
   "source": [
    "gru  <- c()\n",
    "\n",
    "for (i in as.integer(goszak_df_kolich$X__1)){\n",
    "    gru  <-  c(gru, as.character(tables_list[[i]][[1]][[8]][2,2]))\n",
    "}\n",
    "\n"
   ]
  },
  {
   "cell_type": "code",
   "execution_count": 523,
   "metadata": {
    "ExecuteTime": {
     "end_time": "2019-09-30T17:57:32.586990Z",
     "start_time": "2019-09-30T17:57:32.560Z"
    }
   },
   "outputs": [
    {
     "data": {
      "text/html": [
       "1266"
      ],
      "text/latex": [
       "1266"
      ],
      "text/markdown": [
       "1266"
      ],
      "text/plain": [
       "[1] 1266"
      ]
     },
     "metadata": {},
     "output_type": "display_data"
    }
   ],
   "source": [
    "length(gru)"
   ]
  },
  {
   "cell_type": "code",
   "execution_count": 329,
   "metadata": {
    "ExecuteTime": {
     "end_time": "2019-09-30T16:39:53.228419Z",
     "start_time": "2019-09-30T16:39:53.219Z"
    }
   },
   "outputs": [],
   "source": [
    "library(stringr)"
   ]
  },
  {
   "cell_type": "code",
   "execution_count": 524,
   "metadata": {
    "ExecuteTime": {
     "end_time": "2019-09-30T17:57:35.548797Z",
     "start_time": "2019-09-30T17:57:35.535Z"
    }
   },
   "outputs": [],
   "source": [
    "gru[is.na(gru)] = 'im nan'"
   ]
  },
  {
   "cell_type": "code",
   "execution_count": 535,
   "metadata": {
    "ExecuteTime": {
     "end_time": "2019-09-30T18:01:02.107487Z",
     "start_time": "2019-09-30T18:01:01.966Z"
    }
   },
   "outputs": [],
   "source": [
    "gru_ch  <-  c()\n",
    "for (i in  gru){\n",
    "    \n",
    "    if (str_detect(i,'грузов')|str_detect(i,'Грузов') |  str_detect(i,'Автобус')  |  str_detect(i,'автобус')  |  str_detect(i,'пассажирские') |  str_detect(i,'перевозк')){\n",
    "        gru_ch  <-  c(gru_ch, '0.0')\n",
    "    }else if( str_detect(i,'не более 1500 см3' )){\n",
    "        gru_ch  <-  c(gru_ch, '1.0')\n",
    "    }else if( str_detect(i,'цилиндров более 1500 см3' )){\n",
    "        gru_ch  <-  c(gru_ch, 'replace_me')\n",
    "    }else{\n",
    "        gru_ch  <-  c(gru_ch, 'replace_me')\n",
    "    }   \n",
    "    \n",
    "}"
   ]
  },
  {
   "cell_type": "code",
   "execution_count": 537,
   "metadata": {
    "ExecuteTime": {
     "end_time": "2019-09-30T18:01:22.846104Z",
     "start_time": "2019-09-30T18:01:22.824Z"
    }
   },
   "outputs": [],
   "source": [
    "goszak_df_kolich['gruz_check'] = gru_ch"
   ]
  },
  {
   "cell_type": "code",
   "execution_count": 538,
   "metadata": {
    "ExecuteTime": {
     "end_time": "2019-09-30T18:02:16.131253Z",
     "start_time": "2019-09-30T18:02:16.106Z"
    }
   },
   "outputs": [
    {
     "name": "stderr",
     "output_type": "stream",
     "text": [
      "Warning message in cbind(parts$left, ellip_h, parts$right, deparse.level = 0L):\n",
      "“number of rows of result is not a multiple of vector length (arg 2)”Warning message in cbind(parts$left, ellip_h, parts$right, deparse.level = 0L):\n",
      "“number of rows of result is not a multiple of vector length (arg 2)”Warning message in cbind(parts$left, ellip_h, parts$right, deparse.level = 0L):\n",
      "“number of rows of result is not a multiple of vector length (arg 2)”Warning message in cbind(parts$left, ellip_h, parts$right, deparse.level = 0L):\n",
      "“number of rows of result is not a multiple of vector length (arg 2)”"
     ]
    },
    {
     "data": {
      "text/html": [
       "<table>\n",
       "<thead><tr><th scope=col>X__1</th><th scope=col>n</th><th scope=col>index_name</th><th scope=col>purchase_number</th><th scope=col>done</th><th scope=col>completed_car_purchase</th><th scope=col>price</th><th scope=col>price_per_one</th><th scope=col>auction</th><th scope=col>real_price</th><th scope=col>⋯</th><th scope=col>длина</th><th scope=col>максимальная_скорость</th><th scope=col>масса_авто_снаряженная</th><th scope=col>год_выпуска</th><th scope=col>мощность_л_с</th><th scope=col>потребление_топлива_городской_цикл_л_100км</th><th scope=col>filename</th><th scope=col>sha_id</th><th scope=col>all_indexes</th><th scope=col>gruz_check</th></tr></thead>\n",
       "<tbody>\n",
       "</tbody>\n",
       "</table>\n"
      ],
      "text/latex": [
       "\\begin{tabular}{r|llllllllllllllllllllllllllll}\n",
       " X\\_\\_1 & n & index\\_name & purchase\\_number & done & completed\\_car\\_purchase & price & price\\_per\\_one & auction & real\\_price & ⋯ & длина & максимальная\\_скорость & масса\\_авто\\_снаряженная & год\\_выпуска & мощность\\_л\\_с & потребление\\_топлива\\_городской\\_цикл\\_л\\_100км & filename & sha\\_id & all\\_indexes & gruz\\_check\\\\\n",
       "\\hline\n",
       "\\end{tabular}\n"
      ],
      "text/markdown": [
       "\n",
       "X__1 | n | index_name | purchase_number | done | completed_car_purchase | price | price_per_one | auction | real_price | ⋯ | длина | максимальная_скорость | масса_авто_снаряженная | год_выпуска | мощность_л_с | потребление_топлива_городской_цикл_л_100км | filename | sha_id | all_indexes | gruz_check | \n",
       "||\n",
       "\n",
       "\n"
      ],
      "text/plain": [
       "     X__1 n index_name purchase_number done completed_car_purchase price\n",
       "     price_per_one auction real_price ⋯ длина максимальная_скорость\n",
       "     масса_авто_снаряженная год_выпуска мощность_л_с\n",
       "     потребление_топлива_городской_цикл_л_100км filename sha_id all_indexes\n",
       "     gruz_check"
      ]
     },
     "metadata": {},
     "output_type": "display_data"
    }
   ],
   "source": [
    "goszak_df_kolich[goszak_df_kolich$gruz_check == '0.0' & goszak_df_kolich$completed_car_purchase != '0.0' , ]"
   ]
  },
  {
   "cell_type": "code",
   "execution_count": 534,
   "metadata": {
    "ExecuteTime": {
     "end_time": "2019-09-30T18:00:51.065682Z",
     "start_time": "2019-09-30T18:00:51.051Z"
    }
   },
   "outputs": [],
   "source": [
    "gru_ch"
   ]
  },
  {
   "cell_type": "code",
   "execution_count": 489,
   "metadata": {
    "ExecuteTime": {
     "end_time": "2019-09-30T17:45:11.323008Z",
     "start_time": "2019-09-30T17:45:11.300Z"
    }
   },
   "outputs": [],
   "source": [
    "goszak_df_kolich_2 = goszak_df_kolich[goszak_df_kolich$completed_car_purchase != '0.0', ]"
   ]
  },
  {
   "cell_type": "code",
   "execution_count": 342,
   "metadata": {
    "ExecuteTime": {
     "end_time": "2019-09-30T16:41:35.000349Z",
     "start_time": "2019-09-30T16:41:34.985Z"
    }
   },
   "outputs": [],
   "source": [
    "goszak_df_kolich[ is.na(goszak_df_kolich$completed_car_purchase), ]$completed_car_purchase = gru_ch   "
   ]
  },
  {
   "cell_type": "code",
   "execution_count": 346,
   "metadata": {
    "ExecuteTime": {
     "end_time": "2019-09-30T16:42:15.694363Z",
     "start_time": "2019-09-30T16:42:15.542Z"
    }
   },
   "outputs": [
    {
     "data": {
      "text/html": [
       "<table>\n",
       "<thead><tr><th scope=col>X__1</th><th scope=col>n</th><th scope=col>index_name</th><th scope=col>purchase_number</th><th scope=col>done</th><th scope=col>completed_car_purchase</th><th scope=col>price</th><th scope=col>price_per_one</th><th scope=col>auction</th><th scope=col>real_price</th><th scope=col>⋯</th><th scope=col>объем_двигателя_куб_см</th><th scope=col>длина</th><th scope=col>максимальная_скорость</th><th scope=col>масса_авто_снаряженная</th><th scope=col>год_выпуска</th><th scope=col>мощность_л_с</th><th scope=col>потребление_топлива_городской_цикл_л_100км</th><th scope=col>filename</th><th scope=col>sha_id</th><th scope=col>all_indexes</th></tr></thead>\n",
       "<tbody>\n",
       "\t<tr><td>25                                                                   </td><td>12402                                                                </td><td>46                                                                   </td><td>0350300003216000056                                                  </td><td>NA                                                                   </td><td>replace_me                                                           </td><td>986285.71                                                            </td><td>986285.71                                                            </td><td>1                                                                    </td><td>NA                                                                   </td><td>⋯                                                                    </td><td>NA                                                                   </td><td>NA                                                                   </td><td>NA                                                                   </td><td>NA                                                                   </td><td>NA                                                                   </td><td>NA                                                                   </td><td>NA                                                                   </td><td>68ddca582629a5f2346dafe0333a0f14f92d03ffbf6ada271f00c3dd4cfa7cc4.docx</td><td>68ddca582629a5f2346dafe0333a0f14f92d03ffbf6ada271f00c3dd4cfa7cc4     </td><td>46                                                                   </td></tr>\n",
       "\t<tr><td>29                                                                   </td><td>15322                                                                </td><td>56                                                                   </td><td>0130300032716000071                                                  </td><td>NA                                                                   </td><td>replace_me                                                           </td><td>632900                                                               </td><td>632900                                                               </td><td>1                                                                    </td><td>NA                                                                   </td><td>⋯                                                                    </td><td>NA                                                                   </td><td>4470                                                                 </td><td>NA                                                                   </td><td>NA                                                                   </td><td>NA                                                                   </td><td>NA                                                                   </td><td>NA                                                                   </td><td>3a12297e624f5aa526082ff616ced87ab59ba35a70f6de2b483caa1990560ea8.doc </td><td>3a12297e624f5aa526082ff616ced87ab59ba35a70f6de2b483caa1990560ea8     </td><td>56                                                                   </td></tr>\n",
       "\t<tr><td>50                                                                   </td><td>658                                                                  </td><td>91                                                                   </td><td>0848300051717000020                                                  </td><td>NA                                                                   </td><td>replace_me                                                           </td><td>947200                                                               </td><td>947200                                                               </td><td>1                                                                    </td><td>NA                                                                   </td><td>⋯                                                                    </td><td>1500                                                                 </td><td>5475                                                                 </td><td>NA                                                                   </td><td>NA                                                                   </td><td>NA                                                                   </td><td>NA                                                                   </td><td>NA                                                                   </td><td>bda08d2e1d45551db7709baaa0bc7129c2afd5af735929a822a4585fc1473ba3.doc </td><td>bda08d2e1d45551db7709baaa0bc7129c2afd5af735929a822a4585fc1473ba3     </td><td>91, 94, 169, 175                                                     </td></tr>\n",
       "\t<tr><td>54                                                                   </td><td>2264                                                                 </td><td>96                                                                   </td><td>0164300035917000001                                                  </td><td>NA                                                                   </td><td>replace_me                                                           </td><td>452600                                                               </td><td>NA                                                                   </td><td>1                                                                    </td><td>NA                                                                   </td><td>⋯                                                                    </td><td>1596                                                                 </td><td>NA                                                                   </td><td>NA                                                                   </td><td>1560                                                                 </td><td>NA                                                                   </td><td>NA                                                                   </td><td>NA                                                                   </td><td>b668b28c1ead6dfa8921be41a14d74653bc4aec727bdd6fa76a3d0e4365d872c.doc </td><td>b668b28c1ead6dfa8921be41a14d74653bc4aec727bdd6fa76a3d0e4365d872c     </td><td>96, 185                                                              </td></tr>\n",
       "\t<tr><td>57                                                                   </td><td>3939                                                                 </td><td>102                                                                  </td><td>0124200000617000051                                                  </td><td>NA                                                                   </td><td>replace_me                                                           </td><td>7e+06                                                                </td><td>1750000                                                              </td><td>1                                                                    </td><td>NA                                                                   </td><td>⋯                                                                    </td><td>NA                                                                   </td><td>4605                                                                 </td><td>210                                                                  </td><td>1610                                                                 </td><td>NA                                                                   </td><td>NA                                                                   </td><td>NA                                                                   </td><td>1e18bf866e47818408b9ae1a7b956bba1d29794d2bc51dac58de059089a618bf.docx</td><td>1e18bf866e47818408b9ae1a7b956bba1d29794d2bc51dac58de059089a618bf     </td><td>102, 110, 177                                                        </td></tr>\n",
       "\t<tr><td>77                                                                   </td><td>11824                                                                </td><td>137                                                                  </td><td>0337100017717000096                                                  </td><td>NA                                                                   </td><td>replace_me                                                           </td><td>691372.75                                                            </td><td>NA                                                                   </td><td>1                                                                    </td><td>NA                                                                   </td><td>⋯                                                                    </td><td>NA                                                                   </td><td>4470                                                                 </td><td>NA                                                                   </td><td>1260                                                                 </td><td>NA                                                                   </td><td>NA                                                                   </td><td>NA                                                                   </td><td>b843939d9f86e0967ac3acbee7fb6c1d5cb0f0269187d9c824dda8f111f50c5c.docx</td><td>b843939d9f86e0967ac3acbee7fb6c1d5cb0f0269187d9c824dda8f111f50c5c     </td><td>137                                                                  </td></tr>\n",
       "\t<tr><td>82                                                                   </td><td>13869                                                                </td><td>147                                                                  </td><td>0154300024517000001                                                  </td><td>NA                                                                   </td><td>replace_me                                                           </td><td>435600                                                               </td><td>NA                                                                   </td><td>1                                                                    </td><td>NA                                                                   </td><td>⋯                                                                    </td><td>1596                                                                 </td><td>NA                                                                   </td><td>NA                                                                   </td><td>1560                                                                 </td><td>NA                                                                   </td><td>NA                                                                   </td><td>NA                                                                   </td><td>3a428bef9970d315445c85c47f39fb38d4aac024eaf75bbbe9a02e83cbf0c2f6.doc </td><td>3a428bef9970d315445c85c47f39fb38d4aac024eaf75bbbe9a02e83cbf0c2f6     </td><td>147                                                                  </td></tr>\n",
       "\t<tr><td>84                                                                   </td><td>14261                                                                </td><td>150                                                                  </td><td>0139300032516003244                                                  </td><td>NA                                                                   </td><td>replace_me                                                           </td><td>639990                                                               </td><td>639990                                                               </td><td>1                                                                    </td><td>NA                                                                   </td><td>⋯                                                                    </td><td>NA                                                                   </td><td>1940                                                                 </td><td>120                                                                  </td><td>NA                                                                   </td><td>NA                                                                   </td><td>NA                                                                   </td><td>NA                                                                   </td><td>062c75c22ad86b1bc28cef6f254e0fc61b778c60572f692620fa9deaae5d3920.docx</td><td>062c75c22ad86b1bc28cef6f254e0fc61b778c60572f692620fa9deaae5d3920     </td><td>150, 200                                                             </td></tr>\n",
       "\t<tr><td>92                                                                   </td><td>18489                                                                </td><td>172                                                                  </td><td>0552600008117000001                                                  </td><td>NA                                                                   </td><td>replace_me                                                           </td><td>592000                                                               </td><td>NA                                                                   </td><td>1                                                                    </td><td>NA                                                                   </td><td>⋯                                                                    </td><td>NA                                                                   </td><td>NA                                                                   </td><td>NA                                                                   </td><td>NA                                                                   </td><td>NA                                                                   </td><td>NA                                                                   </td><td>NA                                                                   </td><td>b0fbc3d4b637ee1ce3db64be6a6a1eba2cd69528a7726d97a0620b98cbd6689d.docx</td><td>b0fbc3d4b637ee1ce3db64be6a6a1eba2cd69528a7726d97a0620b98cbd6689d     </td><td>172                                                                  </td></tr>\n",
       "\t<tr><td>106                                                                  </td><td>103                                                                  </td><td>205                                                                  </td><td>0106200001317000020                                                  </td><td>NA                                                                   </td><td>replace_me                                                           </td><td>595000                                                               </td><td>NA                                                                   </td><td>1                                                                    </td><td>NA                                                                   </td><td>⋯                                                                    </td><td>1.9                                                                  </td><td>4056                                                                 </td><td>NA                                                                   </td><td>NA                                                                   </td><td>NA                                                                   </td><td>NA                                                                   </td><td>NA                                                                   </td><td>a3212fe3008f8585adcfbe33fd37f3f9119b9490cab00e4ba51d60f184f26401.docx</td><td>a3212fe3008f8585adcfbe33fd37f3f9119b9490cab00e4ba51d60f184f26401     </td><td>205                                                                  </td></tr>\n",
       "\t<tr><td>114                                                                  </td><td>456                                                                  </td><td>214                                                                  </td><td>0169300011917000012                                                  </td><td>NA                                                                   </td><td>replace_me                                                           </td><td>679993.33                                                            </td><td>679993.33                                                            </td><td>1                                                                    </td><td>NA                                                                   </td><td>⋯                                                                    </td><td>1598                                                                 </td><td>NA                                                                   </td><td>NA                                                                   </td><td>NA                                                                   </td><td>NA                                                                   </td><td>NA                                                                   </td><td>NA                                                                   </td><td>b6a3446b5b60ffe250e961ff0182acd9acb6d2a0b23188da4d323ec5d71f0384.doc </td><td>b6a3446b5b60ffe250e961ff0182acd9acb6d2a0b23188da4d323ec5d71f0384     </td><td>214                                                                  </td></tr>\n",
       "\t<tr><td>137                                                                  </td><td>2470                                                                 </td><td>245                                                                  </td><td>0116300021817000036                                                  </td><td>NA                                                                   </td><td>replace_me                                                           </td><td>9e+05                                                                </td><td>9e+05                                                                </td><td>1                                                                    </td><td>NA                                                                   </td><td>⋯                                                                    </td><td>NA                                                                   </td><td>NA                                                                   </td><td>NA                                                                   </td><td>NA                                                                   </td><td>NA                                                                   </td><td>NA                                                                   </td><td>NA                                                                   </td><td>64be649de2940b6a79a111ef99107afbf7701478d076efa93677253ed502372c.doc </td><td>64be649de2940b6a79a111ef99107afbf7701478d076efa93677253ed502372c     </td><td>245, 417                                                             </td></tr>\n",
       "\t<tr><td>147                                                                  </td><td>3131                                                                 </td><td>257                                                                  </td><td>0354100005317000006                                                  </td><td>NA                                                                   </td><td>replace_me                                                           </td><td>700220                                                               </td><td>NA                                                                   </td><td>1                                                                    </td><td>NA                                                                   </td><td>⋯                                                                    </td><td>NA                                                                   </td><td>NA                                                                   </td><td>NA                                                                   </td><td>NA                                                                   </td><td>NA                                                                   </td><td>NA                                                                   </td><td>NA                                                                   </td><td>a547835e2a85007122e2b358f40ba4a28451c3cf73edfdd7c121e33a892942ac.docx</td><td>a547835e2a85007122e2b358f40ba4a28451c3cf73edfdd7c121e33a892942ac     </td><td>257                                                                  </td></tr>\n",
       "\t<tr><td>189                                                                  </td><td>6669                                                                 </td><td>322                                                                  </td><td>0116300005217000023                                                  </td><td>NA                                                                   </td><td>replace_me                                                           </td><td>850000                                                               </td><td>850000                                                               </td><td>1                                                                    </td><td>NA                                                                   </td><td>⋯                                                                    </td><td>NA                                                                   </td><td>NA                                                                   </td><td>NA                                                                   </td><td>NA                                                                   </td><td>NA                                                                   </td><td>NA                                                                   </td><td>NA                                                                   </td><td>4cdbdb3a35cc675b4a953a21e78bf6b4d9fa17c52008eaa1744ba1db6ce66a45.doc </td><td>4cdbdb3a35cc675b4a953a21e78bf6b4d9fa17c52008eaa1744ba1db6ce66a45     </td><td>322, 354, 404                                                        </td></tr>\n",
       "\t<tr><td>219                                                                  </td><td>9569                                                                 </td><td>380                                                                  </td><td>0820200000617000003                                                  </td><td>NA                                                                   </td><td>replace_me                                                           </td><td>905800                                                               </td><td>NA                                                                   </td><td>1                                                                    </td><td>NA                                                                   </td><td>⋯                                                                    </td><td>NA                                                                   </td><td>NA                                                                   </td><td>NA                                                                   </td><td>NA                                                                   </td><td>2016                                                                 </td><td>NA                                                                   </td><td>NA                                                                   </td><td>362530dce782570795071c443cff85b5dc68fd92c852d02f6c913bf0d3f0c0f2.docx</td><td>362530dce782570795071c443cff85b5dc68fd92c852d02f6c913bf0d3f0c0f2     </td><td>380                                                                  </td></tr>\n",
       "\t<tr><td>230                                                                  </td><td>10504                                                                </td><td>399                                                                  </td><td>0142300038317000032                                                  </td><td>NA                                                                   </td><td>replace_me                                                           </td><td>647090                                                               </td><td>647090                                                               </td><td>1                                                                    </td><td>NA                                                                   </td><td>⋯                                                                    </td><td>NA                                                                   </td><td>4048                                                                 </td><td>NA                                                                   </td><td>NA                                                                   </td><td>NA                                                                   </td><td>NA                                                                   </td><td>NA                                                                   </td><td>780012b41774da8b8bc12f7f394b74051cc79f4a36ca1ccbe4bc0f240cd91d8b.doc </td><td>780012b41774da8b8bc12f7f394b74051cc79f4a36ca1ccbe4bc0f240cd91d8b     </td><td>399                                                                  </td></tr>\n",
       "\t<tr><td>239                                                                  </td><td>12464                                                                </td><td>424                                                                  </td><td>0369300069917000006                                                  </td><td>NA                                                                   </td><td>replace_me                                                           </td><td>1499000                                                              </td><td>1499000                                                              </td><td>1                                                                    </td><td>NA                                                                   </td><td>⋯                                                                    </td><td>NA                                                                   </td><td>NA                                                                   </td><td>NA                                                                   </td><td>NA                                                                   </td><td>NA                                                                   </td><td>NA                                                                   </td><td>NA                                                                   </td><td>55fde30c02ad1e70d79e25ddeada51ada719607e2321b8f5d80269df82bbf11a.doc </td><td>55fde30c02ad1e70d79e25ddeada51ada719607e2321b8f5d80269df82bbf11a     </td><td>424                                                                  </td></tr>\n",
       "\t<tr><td>250                                                                  </td><td>13537                                                                </td><td>439                                                                  </td><td>0169300011917000016                                                  </td><td>NA                                                                   </td><td>replace_me                                                           </td><td>679993.33                                                            </td><td>679993.33                                                            </td><td>1                                                                    </td><td>NA                                                                   </td><td>⋯                                                                    </td><td>1598                                                                 </td><td>NA                                                                   </td><td>NA                                                                   </td><td>NA                                                                   </td><td>NA                                                                   </td><td>NA                                                                   </td><td>NA                                                                   </td><td>d21a24041e9c9d7c46197c61bd95387a562f3e644f1adf0e6cdab1a65517788f.doc </td><td>d21a24041e9c9d7c46197c61bd95387a562f3e644f1adf0e6cdab1a65517788f     </td><td>439, 595                                                             </td></tr>\n",
       "\t<tr><td>262                                                                  </td><td>15175                                                                </td><td>462                                                                  </td><td>0130300032717000001                                                  </td><td>NA                                                                   </td><td>replace_me                                                           </td><td>661064                                                               </td><td>661064                                                               </td><td>1                                                                    </td><td>NA                                                                   </td><td>⋯                                                                    </td><td>NA                                                                   </td><td>4470                                                                 </td><td>NA                                                                   </td><td>NA                                                                   </td><td>NA                                                                   </td><td>NA                                                                   </td><td>NA                                                                   </td><td>bb3d0f4da7747305f27bde6af816e5b8330ddb13a0aa9176849244d4c4351a20.doc </td><td>bb3d0f4da7747305f27bde6af816e5b8330ddb13a0aa9176849244d4c4351a20     </td><td>462                                                                  </td></tr>\n",
       "\t<tr><td>265                                                                  </td><td>15341                                                                </td><td>466                                                                  </td><td>0201200000117000004                                                  </td><td>NA                                                                   </td><td>replace_me                                                           </td><td>1437900                                                              </td><td>NA                                                                   </td><td>1                                                                    </td><td>NA                                                                   </td><td>⋯                                                                    </td><td>1596                                                                 </td><td>4250                                                                 </td><td>NA                                                                   </td><td>NA                                                                   </td><td>2016                                                                 </td><td>NA                                                                   </td><td>NA                                                                   </td><td>8e39be2621d8d098a1ebd49b887bb5f69a1dd6d4c63b19cdf9aa9f060ead9aa6.docx</td><td>8e39be2621d8d098a1ebd49b887bb5f69a1dd6d4c63b19cdf9aa9f060ead9aa6     </td><td>466                                                                  </td></tr>\n",
       "\t<tr><td>267                                                                  </td><td>15769                                                                </td><td>474                                                                  </td><td>0172100008517000012                                                  </td><td>NA                                                                   </td><td>replace_me                                                           </td><td>1500000                                                              </td><td>NA                                                                   </td><td>1                                                                    </td><td>NA                                                                   </td><td>⋯                                                                    </td><td>NA                                                                   </td><td>NA                                                                   </td><td>NA                                                                   </td><td>NA                                                                   </td><td>NA                                                                   </td><td>NA                                                                   </td><td>NA                                                                   </td><td>75b0fcdf663e5de8af93ec3fac6d2a893194f5679a91ad038ec2425e0017cd7f.docx</td><td>75b0fcdf663e5de8af93ec3fac6d2a893194f5679a91ad038ec2425e0017cd7f     </td><td>474                                                                  </td></tr>\n",
       "\t<tr><td>271                                                                  </td><td>16171                                                                </td><td>483                                                                  </td><td>0169600001917000007                                                  </td><td>NA                                                                   </td><td>replace_me                                                           </td><td>1300836                                                              </td><td>1300836                                                              </td><td>1                                                                    </td><td>NA                                                                   </td><td>⋯                                                                    </td><td>1999                                                                 </td><td>4470                                                                 </td><td>NA                                                                   </td><td>NA                                                                   </td><td>2017                                                                 </td><td>NA                                                                   </td><td>NA                                                                   </td><td>81aa951bdd9a218314b19f8f5c889d6aa82d90d7fbb63fadd9fb34c83a17feef.docx</td><td>81aa951bdd9a218314b19f8f5c889d6aa82d90d7fbb63fadd9fb34c83a17feef     </td><td>483                                                                  </td></tr>\n",
       "\t<tr><td>279                                                                  </td><td>17132                                                                </td><td>498                                                                  </td><td>0324100005017000029                                                  </td><td>NA                                                                   </td><td>replace_me                                                           </td><td>1432000                                                              </td><td>NA                                                                   </td><td>1                                                                    </td><td>NA                                                                   </td><td>⋯                                                                    </td><td>1900                                                                 </td><td>4600                                                                 </td><td>NA                                                                   </td><td>NA                                                                   </td><td>NA                                                                   </td><td>NA                                                                   </td><td>NA                                                                   </td><td>5a79641518f9d3262182d24de68c446e4b955aca3507d67689776799c84810a4.docx</td><td>5a79641518f9d3262182d24de68c446e4b955aca3507d67689776799c84810a4     </td><td>498, 535                                                             </td></tr>\n",
       "\t<tr><td>284                                                                  </td><td>17791                                                                </td><td>507                                                                  </td><td>0310200000317000137                                                  </td><td>NA                                                                   </td><td>replace_me                                                           </td><td>12706666.67                                                          </td><td>1588333.33375                                                        </td><td>1                                                                    </td><td>NA                                                                   </td><td>⋯                                                                    </td><td>NA                                                                   </td><td>NA                                                                   </td><td>NA                                                                   </td><td>NA                                                                   </td><td>NA                                                                   </td><td>NA                                                                   </td><td>NA                                                                   </td><td>ee2f794d39a9763c84ad39b587c948b1a95380a89e7143ea2ec9a2547ceb6f9b.doc </td><td>ee2f794d39a9763c84ad39b587c948b1a95380a89e7143ea2ec9a2547ceb6f9b     </td><td>507                                                                  </td></tr>\n",
       "\t<tr><td>285                                                                  </td><td>17967                                                                </td><td>508                                                                  </td><td>0109100007717000007                                                  </td><td>NA                                                                   </td><td>replace_me                                                           </td><td>954000                                                               </td><td>NA                                                                   </td><td>1                                                                    </td><td>NA                                                                   </td><td>⋯                                                                    </td><td>NA                                                                   </td><td>NA                                                                   </td><td>NA                                                                   </td><td>NA                                                                   </td><td>NA                                                                   </td><td>NA                                                                   </td><td>NA                                                                   </td><td>05b13fce30d4365d94b92e5dd30bb2badba502001e2e201a71c2173c14308da3.doc </td><td>05b13fce30d4365d94b92e5dd30bb2badba502001e2e201a71c2173c14308da3     </td><td>508                                                                  </td></tr>\n",
       "\t<tr><td>295                                                                  </td><td>19021                                                                </td><td>530                                                                  </td><td>0373100017817000001                                                  </td><td>NA                                                                   </td><td>replace_me                                                           </td><td>4e+06                                                                </td><td>NA                                                                   </td><td>1                                                                    </td><td>NA                                                                   </td><td>⋯                                                                    </td><td>NA                                                                   </td><td>4850                                                                 </td><td>210                                                                  </td><td>NA                                                                   </td><td>NA                                                                   </td><td>NA                                                                   </td><td>NA                                                                   </td><td>d8d550e08faa4921f8acd0f99f112543bd961bb269ed0fddfa107d696a608186.docx</td><td>d8d550e08faa4921f8acd0f99f112543bd961bb269ed0fddfa107d696a608186     </td><td>530                                                                  </td></tr>\n",
       "\t<tr><td>333                                                                  </td><td>23978                                                                </td><td>633                                                                  </td><td>0158300030017000012                                                  </td><td>NA                                                                   </td><td>replace_me                                                           </td><td>598900                                                               </td><td>598900                                                               </td><td>1                                                                    </td><td>NA                                                                   </td><td>⋯                                                                    </td><td>NA                                                                   </td><td>NA                                                                   </td><td>NA                                                                   </td><td>NA                                                                   </td><td>NA                                                                   </td><td>NA                                                                   </td><td>NA                                                                   </td><td>9817a31aed41a57e4e2ebe81a2dd9c5a2f47d06cb98b6bcfd59b860ec309dcd5.doc </td><td>9817a31aed41a57e4e2ebe81a2dd9c5a2f47d06cb98b6bcfd59b860ec309dcd5     </td><td>633                                                                  </td></tr>\n",
       "\t<tr><td>334                                                                  </td><td>24033                                                                </td><td>634                                                                  </td><td>0119300004317000006                                                  </td><td>NA                                                                   </td><td>replace_me                                                           </td><td>698990                                                               </td><td>NA                                                                   </td><td>1                                                                    </td><td>NA                                                                   </td><td>⋯                                                                    </td><td>NA                                                                   </td><td>NA                                                                   </td><td>NA                                                                   </td><td>NA                                                                   </td><td>2016                                                                 </td><td>NA                                                                   </td><td>NA                                                                   </td><td>e237a0a973c2c3c54779f045370c6a079713448c322d34d0823cde9051ae4d66.docx</td><td>e237a0a973c2c3c54779f045370c6a079713448c322d34d0823cde9051ae4d66     </td><td>634                                                                  </td></tr>\n",
       "\t<tr><td>337                                                                  </td><td>24338                                                                </td><td>638                                                                  </td><td>0109200002417000196                                                  </td><td>NA                                                                   </td><td>replace_me                                                           </td><td>1697000                                                              </td><td>1697000                                                              </td><td>1                                                                    </td><td>NA                                                                   </td><td>⋯                                                                    </td><td>NA                                                                   </td><td>1210                                                                 </td><td>NA                                                                   </td><td>NA                                                                   </td><td>NA                                                                   </td><td>NA                                                                   </td><td>NA                                                                   </td><td>0135a567824b22c28e119a286af5b1c86ed64e45563fe7ee8d17f9c54b2da2c0.docx</td><td>0135a567824b22c28e119a286af5b1c86ed64e45563fe7ee8d17f9c54b2da2c0     </td><td>638                                                                  </td></tr>\n",
       "\t<tr><td>365                                                                  </td><td>1129                                                                 </td><td>684                                                                  </td><td>0279100000217000082                                                  </td><td>NA                                                                   </td><td>replace_me                                                           </td><td>977146.2                                                             </td><td>NA                                                                   </td><td>1                                                                    </td><td>NA                                                                   </td><td>⋯                                                                    </td><td>NA                                                                   </td><td>NA                                                                   </td><td>NA                                                                   </td><td>NA                                                                   </td><td>NA                                                                   </td><td>NA                                                                   </td><td>NA                                                                   </td><td>dcebc52ef46a5def89f955d7e3fcdf85c3211b9989bda659772a0751ecbf4349.docx</td><td>dcebc52ef46a5def89f955d7e3fcdf85c3211b9989bda659772a0751ecbf4349     </td><td>684                                                                  </td></tr>\n",
       "\t<tr><td>⋮</td><td>⋮</td><td>⋮</td><td>⋮</td><td>⋮</td><td>⋮</td><td>⋮</td><td>⋮</td><td>⋮</td><td>⋮</td><td>⋱</td><td>⋮</td><td>⋮</td><td>⋮</td><td>⋮</td><td>⋮</td><td>⋮</td><td>⋮</td><td>⋮</td><td>⋮</td><td>⋮</td></tr>\n",
       "\t<tr><td>994                                                                  </td><td>22960                                                                </td><td>1944                                                                 </td><td>0500400000317000082                                                  </td><td>NA                                                                   </td><td>replace_me                                                           </td><td>20933074                                                             </td><td>NA                                                                   </td><td>1                                                                    </td><td>NA                                                                   </td><td>⋯                                                                    </td><td>1598                                                                 </td><td>NA                                                                   </td><td>NA                                                                   </td><td>NA                                                                   </td><td>NA                                                                   </td><td>NA                                                                   </td><td>NA                                                                   </td><td>0ec31fa36279bd839983f92882b4f388112d8cc9a8c15960edc281b062f701fd.doc </td><td>0ec31fa36279bd839983f92882b4f388112d8cc9a8c15960edc281b062f701fd     </td><td>1944, 1978                                                           </td></tr>\n",
       "\t<tr><td>999                                                                  </td><td>23200                                                                </td><td>1954                                                                 </td><td>0258100000317000220                                                  </td><td>NA                                                                   </td><td>replace_me                                                           </td><td>16943447.5                                                           </td><td>NA                                                                   </td><td>1                                                                    </td><td>NA                                                                   </td><td>⋯                                                                    </td><td>NA                                                                   </td><td>NA                                                                   </td><td>NA                                                                   </td><td>NA                                                                   </td><td>NA                                                                   </td><td>NA                                                                   </td><td>NA                                                                   </td><td>ccd05476c245fa8b93276793b729996ba2dab2b2fe5a6bb8b46048729225bdac.docx</td><td>ccd05476c245fa8b93276793b729996ba2dab2b2fe5a6bb8b46048729225bdac     </td><td>1954                                                                 </td></tr>\n",
       "\t<tr><td>1004                                                                 </td><td>23954                                                                </td><td>1977                                                                 </td><td>0535100000217000032                                                  </td><td>NA                                                                   </td><td>replace_me                                                           </td><td>1447500                                                              </td><td>NA                                                                   </td><td>1                                                                    </td><td>NA                                                                   </td><td>⋯                                                                    </td><td>NA                                                                   </td><td>NA                                                                   </td><td>NA                                                                   </td><td>NA                                                                   </td><td>NA                                                                   </td><td>NA                                                                   </td><td>NA                                                                   </td><td>64c132ad5043cfe027f28eb3110a604038ff9bb64dd3c27d184b0afab578f299.docx</td><td>64c132ad5043cfe027f28eb3110a604038ff9bb64dd3c27d184b0afab578f299     </td><td>1977                                                                 </td></tr>\n",
       "\t<tr><td>1025                                                                 </td><td>712                                                                  </td><td>2036                                                                 </td><td>0373100040817000010                                                  </td><td>NA                                                                   </td><td>replace_me                                                           </td><td>2500000                                                              </td><td>NA                                                                   </td><td>1                                                                    </td><td>NA                                                                   </td><td>⋯                                                                    </td><td>NA                                                                   </td><td>NA                                                                   </td><td>NA                                                                   </td><td>NA                                                                   </td><td>2016                                                                 </td><td>NA                                                                   </td><td>NA                                                                   </td><td>97bcd378e2717979b350bde854c9ba5e651525c737691af3a0d89da514e2cd5a.docx</td><td>97bcd378e2717979b350bde854c9ba5e651525c737691af3a0d89da514e2cd5a     </td><td>2036                                                                 </td></tr>\n",
       "\t<tr><td>1033                                                                 </td><td>1018                                                                 </td><td>2051                                                                 </td><td>0105300004717000011                                                  </td><td>NA                                                                   </td><td>replace_me                                                           </td><td>1350600                                                              </td><td>NA                                                                   </td><td>1                                                                    </td><td>NA                                                                   </td><td>⋯                                                                    </td><td>NA                                                                   </td><td>NA                                                                   </td><td>NA                                                                   </td><td>NA                                                                   </td><td>NA                                                                   </td><td>NA                                                                   </td><td>NA                                                                   </td><td>dfa0035e993edc12fc6a1af5ad17ef6bd6cb007ec2fd71c36598618d6a1ddbc4.doc </td><td>dfa0035e993edc12fc6a1af5ad17ef6bd6cb007ec2fd71c36598618d6a1ddbc4     </td><td>2051                                                                 </td></tr>\n",
       "\t<tr><td>1048                                                                 </td><td>2028                                                                 </td><td>2073                                                                 </td><td>0361200015017002427                                                  </td><td>NA                                                                   </td><td>replace_me                                                           </td><td>3100000                                                              </td><td>3100000                                                              </td><td>1                                                                    </td><td>NA                                                                   </td><td>⋯                                                                    </td><td>NA                                                                   </td><td>2059                                                                 </td><td>NA                                                                   </td><td>NA                                                                   </td><td>NA                                                                   </td><td>NA                                                                   </td><td>NA                                                                   </td><td>ce6ca102a27a1391625271bb2d3c46912cc73c286f17a470ca1d76b8e07b25f1.docx</td><td>ce6ca102a27a1391625271bb2d3c46912cc73c286f17a470ca1d76b8e07b25f1     </td><td>2073, 2102, 2203                                                     </td></tr>\n",
       "\t<tr><td>1057                                                                 </td><td>2312                                                                 </td><td>2084                                                                 </td><td>0135300007617000063                                                  </td><td>NA                                                                   </td><td>replace_me                                                           </td><td>759600                                                               </td><td>759600                                                               </td><td>1                                                                    </td><td>NA                                                                   </td><td>⋯                                                                    </td><td>NA                                                                   </td><td>NA                                                                   </td><td>NA                                                                   </td><td>NA                                                                   </td><td>NA                                                                   </td><td>NA                                                                   </td><td>NA                                                                   </td><td>ee2debbb346d62222a56a66daf1b23aa4b6c26c9f9fdb16abf4f6f743d82dfd4.doc </td><td>ee2debbb346d62222a56a66daf1b23aa4b6c26c9f9fdb16abf4f6f743d82dfd4     </td><td>2084                                                                 </td></tr>\n",
       "\t<tr><td>1061                                                                 </td><td>2604                                                                 </td><td>2094                                                                 </td><td>0320300111617000064                                                  </td><td>NA                                                                   </td><td>replace_me                                                           </td><td>2253000                                                              </td><td>1126500                                                              </td><td>1                                                                    </td><td>NA                                                                   </td><td>⋯                                                                    </td><td>NA                                                                   </td><td>NA                                                                   </td><td>NA                                                                   </td><td>NA                                                                   </td><td>NA                                                                   </td><td>NA                                                                   </td><td>NA                                                                   </td><td>c0e189d242de702bf4514292811523361188411d907d0b6ab36f9ba8daa91c51.docx</td><td>c0e189d242de702bf4514292811523361188411d907d0b6ab36f9ba8daa91c51     </td><td>2094, 2141                                                           </td></tr>\n",
       "\t<tr><td>1087                                                                 </td><td>3933                                                                 </td><td>2135                                                                 </td><td>0133200001717001354                                                  </td><td>NA                                                                   </td><td>replace_me                                                           </td><td>6e+05                                                                </td><td>6e+05                                                                </td><td>1                                                                    </td><td>NA                                                                   </td><td>⋯                                                                    </td><td>NA                                                                   </td><td>NA                                                                   </td><td>NA                                                                   </td><td>NA                                                                   </td><td>NA                                                                   </td><td>NA                                                                   </td><td>NA                                                                   </td><td>aa5554cdac36309c780a08952d504f6b522d1348c78b95ff131901de876d6f36.doc </td><td>aa5554cdac36309c780a08952d504f6b522d1348c78b95ff131901de876d6f36     </td><td>2135                                                                 </td></tr>\n",
       "\t<tr><td>1088                                                                 </td><td>3941                                                                 </td><td>2136                                                                 </td><td>0875200001017000003                                                  </td><td>NA                                                                   </td><td>replace_me                                                           </td><td>1529700                                                              </td><td>NA                                                                   </td><td>1                                                                    </td><td>NA                                                                   </td><td>⋯                                                                    </td><td>1690                                                                 </td><td>NA                                                                   </td><td>NA                                                                   </td><td>NA                                                                   </td><td>NA                                                                   </td><td>NA                                                                   </td><td>NA                                                                   </td><td>586f77b48969cb4467578d1c73b326fe4972e0a32cf0d34f03f84642b9561da4.docx</td><td>586f77b48969cb4467578d1c73b326fe4972e0a32cf0d34f03f84642b9561da4     </td><td>2136, 2170, 2254, 2424, 2489                                         </td></tr>\n",
       "\t<tr><td>1098                                                                 </td><td>4513                                                                 </td><td>2152                                                                 </td><td>0150100006017000033                                                  </td><td>NA                                                                   </td><td>replace_me                                                           </td><td>2000266.67                                                           </td><td>NA                                                                   </td><td>1                                                                    </td><td>NA                                                                   </td><td>⋯                                                                    </td><td>NA                                                                   </td><td>NA                                                                   </td><td>NA                                                                   </td><td>NA                                                                   </td><td>NA                                                                   </td><td>NA                                                                   </td><td>NA                                                                   </td><td>3be43eeeaf2b9f727dfebe832113e19554c339745d068236bca251c8d504e970.docx</td><td>3be43eeeaf2b9f727dfebe832113e19554c339745d068236bca251c8d504e970     </td><td>2152                                                                 </td></tr>\n",
       "\t<tr><td>1108                                                                 </td><td>4846                                                                 </td><td>2166                                                                 </td><td>0324100005017000056                                                  </td><td>NA                                                                   </td><td>replace_me                                                           </td><td>1455760                                                              </td><td>NA                                                                   </td><td>1                                                                    </td><td>NA                                                                   </td><td>⋯                                                                    </td><td>1590                                                                 </td><td>4040                                                                 </td><td>NA                                                                   </td><td>NA                                                                   </td><td>NA                                                                   </td><td>NA                                                                   </td><td>NA                                                                   </td><td>51912649146dc8d5b4c123eeb23bebcb8d49bf642e4f1b5dde4f97dc267ebf63.docx</td><td>51912649146dc8d5b4c123eeb23bebcb8d49bf642e4f1b5dde4f97dc267ebf63     </td><td>2166                                                                 </td></tr>\n",
       "\t<tr><td>1116                                                                 </td><td>5406                                                                 </td><td>2184                                                                 </td><td>0119300040017000072                                                  </td><td>NA                                                                   </td><td>replace_me                                                           </td><td>6e+05                                                                </td><td>6e+05                                                                </td><td>1                                                                    </td><td>NA                                                                   </td><td>⋯                                                                    </td><td>NA                                                                   </td><td>NA                                                                   </td><td>NA                                                                   </td><td>NA                                                                   </td><td>NA                                                                   </td><td>NA                                                                   </td><td>NA                                                                   </td><td>8bf99845471deeb7c2c258c2926eda7048243399dc2a5562adcbc1b4a763ea48.docx</td><td>8bf99845471deeb7c2c258c2926eda7048243399dc2a5562adcbc1b4a763ea48     </td><td>2184                                                                 </td></tr>\n",
       "\t<tr><td>1122                                                                 </td><td>5574                                                                 </td><td>2190                                                                 </td><td>0324100005017000057                                                  </td><td>NA                                                                   </td><td>replace_me                                                           </td><td>1342533.33                                                           </td><td>NA                                                                   </td><td>1                                                                    </td><td>NA                                                                   </td><td>⋯                                                                    </td><td>1596                                                                 </td><td>4470                                                                 </td><td>NA                                                                   </td><td>NA                                                                   </td><td>NA                                                                   </td><td>NA                                                                   </td><td>NA                                                                   </td><td>d9720dd03ef341cec7fe19d8515104fc95a84efc58d56416a2cfa150f80ed9ac.docx</td><td>d9720dd03ef341cec7fe19d8515104fc95a84efc58d56416a2cfa150f80ed9ac     </td><td>2190                                                                 </td></tr>\n",
       "\t<tr><td>1125                                                                 </td><td>5870                                                                 </td><td>2199                                                                 </td><td>0865200000317000996                                                  </td><td>NA                                                                   </td><td>replace_me                                                           </td><td>1499966.67                                                           </td><td>NA                                                                   </td><td>1                                                                    </td><td>NA                                                                   </td><td>⋯                                                                    </td><td>2000                                                                 </td><td>4480                                                                 </td><td>NA                                                                   </td><td>NA                                                                   </td><td>NA                                                                   </td><td>NA                                                                   </td><td>NA                                                                   </td><td>87ea367dae867952266ead6e99d72a3884c260150bea9465ec5fa393265375b6.docx</td><td>87ea367dae867952266ead6e99d72a3884c260150bea9465ec5fa393265375b6     </td><td>2199                                                                 </td></tr>\n",
       "\t<tr><td>1136                                                                 </td><td>6368                                                                 </td><td>2218                                                                 </td><td>0848500002617000016                                                  </td><td>NA                                                                   </td><td>replace_me                                                           </td><td>5486000                                                              </td><td>NA                                                                   </td><td>1                                                                    </td><td>NA                                                                   </td><td>⋯                                                                    </td><td>1598                                                                 </td><td>NA                                                                   </td><td>NA                                                                   </td><td>NA                                                                   </td><td>NA                                                                   </td><td>NA                                                                   </td><td>NA                                                                   </td><td>6678539a1a0f7967a43cfa16270ea87de14eed58b69376b66a313c4d1a6919ba.docx</td><td>6678539a1a0f7967a43cfa16270ea87de14eed58b69376b66a313c4d1a6919ba     </td><td>2218, 2344                                                           </td></tr>\n",
       "\t<tr><td>1137                                                                 </td><td>6432                                                                 </td><td>2220                                                                 </td><td>0817200000317003697                                                  </td><td>NA                                                                   </td><td>replace_me                                                           </td><td>1745700                                                              </td><td>581900                                                               </td><td>1                                                                    </td><td>NA                                                                   </td><td>⋯                                                                    </td><td>NA                                                                   </td><td>NA                                                                   </td><td>NA                                                                   </td><td>1466                                                                 </td><td>2016                                                                 </td><td>NA                                                                   </td><td>NA                                                                   </td><td>40a9932750bb2c7e3bb5c6e067f46ab30d872683bd3044c9a6b1db8df51b186a.doc </td><td>40a9932750bb2c7e3bb5c6e067f46ab30d872683bd3044c9a6b1db8df51b186a     </td><td>2220, 2381                                                           </td></tr>\n",
       "\t<tr><td>1138                                                                 </td><td>6475                                                                 </td><td>2221                                                                 </td><td>0136300033517000047                                                  </td><td>NA                                                                   </td><td>replace_me                                                           </td><td>924990                                                               </td><td>924990                                                               </td><td>1                                                                    </td><td>NA                                                                   </td><td>⋯                                                                    </td><td>NA                                                                   </td><td>NA                                                                   </td><td>NA                                                                   </td><td>NA                                                                   </td><td>NA                                                                   </td><td>NA                                                                   </td><td>NA                                                                   </td><td>2189230654dd224efa24c418033d4bff4342879e4800666005ba26e659e2f316.doc </td><td>2189230654dd224efa24c418033d4bff4342879e4800666005ba26e659e2f316     </td><td>2221                                                                 </td></tr>\n",
       "\t<tr><td>1167                                                                 </td><td>8153                                                                 </td><td>2275                                                                 </td><td>0105200000217000642                                                  </td><td>NA                                                                   </td><td>replace_me                                                           </td><td>7e+05                                                                </td><td>7e+05                                                                </td><td>1                                                                    </td><td>NA                                                                   </td><td>⋯                                                                    </td><td>NA                                                                   </td><td>NA                                                                   </td><td>NA                                                                   </td><td>NA                                                                   </td><td>NA                                                                   </td><td>NA                                                                   </td><td>NA                                                                   </td><td>f666b014526fe8e5be0886bf339eab043f7a8c94a2f2ad3c6911312d2b3b8357.docx</td><td>f666b014526fe8e5be0886bf339eab043f7a8c94a2f2ad3c6911312d2b3b8357     </td><td>2275                                                                 </td></tr>\n",
       "\t<tr><td>1173                                                                 </td><td>8358                                                                 </td><td>2282                                                                 </td><td>0858300002817000002                                                  </td><td>NA                                                                   </td><td>replace_me                                                           </td><td>598900                                                               </td><td>NA                                                                   </td><td>1                                                                    </td><td>NA                                                                   </td><td>⋯                                                                    </td><td>NA                                                                   </td><td>NA                                                                   </td><td>175                                                                  </td><td>1670                                                                 </td><td>NA                                                                   </td><td>NA                                                                   </td><td>NA                                                                   </td><td>f238d77707ad24f7681dc6d21e872691e75d3aa675d1efb75cfe2dd1af8a8b0e.docx</td><td>f238d77707ad24f7681dc6d21e872691e75d3aa675d1efb75cfe2dd1af8a8b0e     </td><td>2282                                                                 </td></tr>\n",
       "\t<tr><td>1180                                                                 </td><td>8826                                                                 </td><td>2298                                                                 </td><td>0142200001317006286                                                  </td><td>NA                                                                   </td><td>replace_me                                                           </td><td>24173800                                                             </td><td>389900                                                               </td><td>1                                                                    </td><td>NA                                                                   </td><td>⋯                                                                    </td><td>1500                                                                 </td><td>4260                                                                 </td><td>NA                                                                   </td><td>NA                                                                   </td><td>2017                                                                 </td><td>NA                                                                   </td><td>NA                                                                   </td><td>47443915abb1803252bfd0f6de754ab172ddf1b5b6b29539f6f4008bba7447a0.docx</td><td>47443915abb1803252bfd0f6de754ab172ddf1b5b6b29539f6f4008bba7447a0     </td><td>2298, 2306                                                           </td></tr>\n",
       "\t<tr><td>1192                                                                 </td><td>9617                                                                 </td><td>2322                                                                 </td><td>0365300043817000004                                                  </td><td>NA                                                                   </td><td>replace_me                                                           </td><td>570900                                                               </td><td>NA                                                                   </td><td>1                                                                    </td><td>NA                                                                   </td><td>⋯                                                                    </td><td>NA                                                                   </td><td>NA                                                                   </td><td>NA                                                                   </td><td>NA                                                                   </td><td>NA                                                                   </td><td>NA                                                                   </td><td>NA                                                                   </td><td>38d696d9edc947d410f93b7c49734fde296c41709102f5cc147137d05b07e5f6.doc </td><td>38d696d9edc947d410f93b7c49734fde296c41709102f5cc147137d05b07e5f6     </td><td>2322                                                                 </td></tr>\n",
       "\t<tr><td>1193                                                                 </td><td>9935                                                                 </td><td>2328                                                                 </td><td>0188300006517000075                                                  </td><td>NA                                                                   </td><td>replace_me                                                           </td><td>5700000                                                              </td><td>NA                                                                   </td><td>1                                                                    </td><td>NA                                                                   </td><td>⋯                                                                    </td><td>NA                                                                   </td><td>NA                                                                   </td><td>NA                                                                   </td><td>NA                                                                   </td><td>NA                                                                   </td><td>NA                                                                   </td><td>NA                                                                   </td><td>e16947ebbc9ee95a6fd7cbaaf21f22f990e0e6d529790ef290b38709124a7ba7.docx</td><td>e16947ebbc9ee95a6fd7cbaaf21f22f990e0e6d529790ef290b38709124a7ba7     </td><td>2328                                                                 </td></tr>\n",
       "\t<tr><td>1202                                                                 </td><td>10718                                                                </td><td>2348                                                                 </td><td>0120100010117000174                                                  </td><td>NA                                                                   </td><td>replace_me                                                           </td><td>2994330                                                              </td><td>NA                                                                   </td><td>1                                                                    </td><td>NA                                                                   </td><td>⋯                                                                    </td><td>NA                                                                   </td><td>NA                                                                   </td><td>NA                                                                   </td><td>NA                                                                   </td><td>NA                                                                   </td><td>NA                                                                   </td><td>NA                                                                   </td><td>6eb30473c2fc56b5dc9999445106c68b94cfb939b0cca59be8b75196bf14054e.docx</td><td>6eb30473c2fc56b5dc9999445106c68b94cfb939b0cca59be8b75196bf14054e     </td><td>2348                                                                 </td></tr>\n",
       "\t<tr><td>1213                                                                 </td><td>11293                                                                </td><td>2369                                                                 </td><td>0103200008417003264                                                  </td><td>NA                                                                   </td><td>replace_me                                                           </td><td>1992666.68                                                           </td><td>498166.67                                                            </td><td>1                                                                    </td><td>NA                                                                   </td><td>⋯                                                                    </td><td>1420                                                                 </td><td>3740                                                                 </td><td>142                                                                  </td><td>NA                                                                   </td><td>NA                                                                   </td><td>NA                                                                   </td><td>NA                                                                   </td><td>f3bbbcedacce0237bed60ad0c8ace84db42ecae22c2a73f7037f5ebe7799b655.docx</td><td>f3bbbcedacce0237bed60ad0c8ace84db42ecae22c2a73f7037f5ebe7799b655     </td><td>2369                                                                 </td></tr>\n",
       "\t<tr><td>1233                                                                 </td><td>13041                                                                </td><td>2425                                                                 </td><td>0554600003217000003                                                  </td><td>NA                                                                   </td><td>replace_me                                                           </td><td>678933                                                               </td><td>NA                                                                   </td><td>1                                                                    </td><td>NA                                                                   </td><td>⋯                                                                    </td><td>1510                                                                 </td><td>NA                                                                   </td><td>NA                                                                   </td><td>1497                                                                 </td><td>2017                                                                 </td><td>NA                                                                   </td><td>NA                                                                   </td><td>4298883512f0a355ea14bbf95fb1287ac6255abba26ee08d0fc6aea33b8dcb13.docx</td><td>4298883512f0a355ea14bbf95fb1287ac6255abba26ee08d0fc6aea33b8dcb13     </td><td>2425                                                                 </td></tr>\n",
       "\t<tr><td>1234                                                                 </td><td>13099                                                                </td><td>2429                                                                 </td><td>0817200000317003740                                                  </td><td>NA                                                                   </td><td>replace_me                                                           </td><td>1163800                                                              </td><td>581900                                                               </td><td>1                                                                    </td><td>NA                                                                   </td><td>⋯                                                                    </td><td>NA                                                                   </td><td>NA                                                                   </td><td>NA                                                                   </td><td>1466                                                                 </td><td>2016                                                                 </td><td>NA                                                                   </td><td>NA                                                                   </td><td>cecb4947939d2b935a2e09902ed87fcf5758de204f82c6aaa3c63029a410c2c9.doc </td><td>cecb4947939d2b935a2e09902ed87fcf5758de204f82c6aaa3c63029a410c2c9     </td><td>2429                                                                 </td></tr>\n",
       "\t<tr><td>1236                                                                 </td><td>13200                                                                </td><td>2435                                                                 </td><td>0194200000517003346                                                  </td><td>NA                                                                   </td><td>replace_me                                                           </td><td>2810000                                                              </td><td>2810000                                                              </td><td>1                                                                    </td><td>NA                                                                   </td><td>⋯                                                                    </td><td>1591                                                                 </td><td>NA                                                                   </td><td>NA                                                                   </td><td>NA                                                                   </td><td>NA                                                                   </td><td>NA                                                                   </td><td>NA                                                                   </td><td>6b7c5daa1a02d457f09e439dfab2c23ac3a0ae0126110553c139169daf0e1c2b.docx</td><td>6b7c5daa1a02d457f09e439dfab2c23ac3a0ae0126110553c139169daf0e1c2b     </td><td>2435                                                                 </td></tr>\n",
       "\t<tr><td>1244                                                                 </td><td>13447                                                                </td><td>2447                                                                 </td><td>0165300003717000036                                                  </td><td>NA                                                                   </td><td>replace_me                                                           </td><td>612300                                                               </td><td>612300                                                               </td><td>1                                                                    </td><td>NA                                                                   </td><td>⋯                                                                    </td><td>NA                                                                   </td><td>NA                                                                   </td><td>NA                                                                   </td><td>NA                                                                   </td><td>NA                                                                   </td><td>NA                                                                   </td><td>NA                                                                   </td><td>0d6881497b4ad12c76c36332e1e83a1b1167677049e3e736d162de8dad60246b.doc </td><td>0d6881497b4ad12c76c36332e1e83a1b1167677049e3e736d162de8dad60246b     </td><td>2447                                                                 </td></tr>\n",
       "\t<tr><td>1247                                                                 </td><td>13687                                                                </td><td>2456                                                                 </td><td>0855200000517000959                                                  </td><td>NA                                                                   </td><td>replace_me                                                           </td><td>901000                                                               </td><td>NA                                                                   </td><td>1                                                                    </td><td>NA                                                                   </td><td>⋯                                                                    </td><td>NA                                                                   </td><td>NA                                                                   </td><td>NA                                                                   </td><td>NA                                                                   </td><td>NA                                                                   </td><td>NA                                                                   </td><td>NA                                                                   </td><td>1073e12e8875473f7f53cc3002f6df9def98e3bad09d272d148b266c243d8b59.docx</td><td>1073e12e8875473f7f53cc3002f6df9def98e3bad09d272d148b266c243d8b59     </td><td>2456                                                                 </td></tr>\n",
       "</tbody>\n",
       "</table>\n"
      ],
      "text/latex": [
       "\\begin{tabular}{r|lllllllllllllllllllllllllll}\n",
       " X\\_\\_1 & n & index\\_name & purchase\\_number & done & completed\\_car\\_purchase & price & price\\_per\\_one & auction & real\\_price & ⋯ & объем\\_двигателя\\_куб\\_см & длина & максимальная\\_скорость & масса\\_авто\\_снаряженная & год\\_выпуска & мощность\\_л\\_с & потребление\\_топлива\\_городской\\_цикл\\_л\\_100км & filename & sha\\_id & all\\_indexes\\\\\n",
       "\\hline\n",
       "\t 25                                                                    & 12402                                                                 & 46                                                                    & 0350300003216000056                                                   & NA                                                                    & replace\\_me                                                          & 986285.71                                                             & 986285.71                                                             & 1                                                                     & NA                                                                    & ⋯                                                                     & NA                                                                    & NA                                                                    & NA                                                                    & NA                                                                    & NA                                                                    & NA                                                                    & NA                                                                    & 68ddca582629a5f2346dafe0333a0f14f92d03ffbf6ada271f00c3dd4cfa7cc4.docx & 68ddca582629a5f2346dafe0333a0f14f92d03ffbf6ada271f00c3dd4cfa7cc4      & 46                                                                   \\\\\n",
       "\t 29                                                                    & 15322                                                                 & 56                                                                    & 0130300032716000071                                                   & NA                                                                    & replace\\_me                                                          & 632900                                                                & 632900                                                                & 1                                                                     & NA                                                                    & ⋯                                                                     & NA                                                                    & 4470                                                                  & NA                                                                    & NA                                                                    & NA                                                                    & NA                                                                    & NA                                                                    & 3a12297e624f5aa526082ff616ced87ab59ba35a70f6de2b483caa1990560ea8.doc  & 3a12297e624f5aa526082ff616ced87ab59ba35a70f6de2b483caa1990560ea8      & 56                                                                   \\\\\n",
       "\t 50                                                                    & 658                                                                   & 91                                                                    & 0848300051717000020                                                   & NA                                                                    & replace\\_me                                                          & 947200                                                                & 947200                                                                & 1                                                                     & NA                                                                    & ⋯                                                                     & 1500                                                                  & 5475                                                                  & NA                                                                    & NA                                                                    & NA                                                                    & NA                                                                    & NA                                                                    & bda08d2e1d45551db7709baaa0bc7129c2afd5af735929a822a4585fc1473ba3.doc  & bda08d2e1d45551db7709baaa0bc7129c2afd5af735929a822a4585fc1473ba3      & 91, 94, 169, 175                                                     \\\\\n",
       "\t 54                                                                    & 2264                                                                  & 96                                                                    & 0164300035917000001                                                   & NA                                                                    & replace\\_me                                                          & 452600                                                                & NA                                                                    & 1                                                                     & NA                                                                    & ⋯                                                                     & 1596                                                                  & NA                                                                    & NA                                                                    & 1560                                                                  & NA                                                                    & NA                                                                    & NA                                                                    & b668b28c1ead6dfa8921be41a14d74653bc4aec727bdd6fa76a3d0e4365d872c.doc  & b668b28c1ead6dfa8921be41a14d74653bc4aec727bdd6fa76a3d0e4365d872c      & 96, 185                                                              \\\\\n",
       "\t 57                                                                    & 3939                                                                  & 102                                                                   & 0124200000617000051                                                   & NA                                                                    & replace\\_me                                                          & 7e+06                                                                 & 1750000                                                               & 1                                                                     & NA                                                                    & ⋯                                                                     & NA                                                                    & 4605                                                                  & 210                                                                   & 1610                                                                  & NA                                                                    & NA                                                                    & NA                                                                    & 1e18bf866e47818408b9ae1a7b956bba1d29794d2bc51dac58de059089a618bf.docx & 1e18bf866e47818408b9ae1a7b956bba1d29794d2bc51dac58de059089a618bf      & 102, 110, 177                                                        \\\\\n",
       "\t 77                                                                    & 11824                                                                 & 137                                                                   & 0337100017717000096                                                   & NA                                                                    & replace\\_me                                                          & 691372.75                                                             & NA                                                                    & 1                                                                     & NA                                                                    & ⋯                                                                     & NA                                                                    & 4470                                                                  & NA                                                                    & 1260                                                                  & NA                                                                    & NA                                                                    & NA                                                                    & b843939d9f86e0967ac3acbee7fb6c1d5cb0f0269187d9c824dda8f111f50c5c.docx & b843939d9f86e0967ac3acbee7fb6c1d5cb0f0269187d9c824dda8f111f50c5c      & 137                                                                  \\\\\n",
       "\t 82                                                                    & 13869                                                                 & 147                                                                   & 0154300024517000001                                                   & NA                                                                    & replace\\_me                                                          & 435600                                                                & NA                                                                    & 1                                                                     & NA                                                                    & ⋯                                                                     & 1596                                                                  & NA                                                                    & NA                                                                    & 1560                                                                  & NA                                                                    & NA                                                                    & NA                                                                    & 3a428bef9970d315445c85c47f39fb38d4aac024eaf75bbbe9a02e83cbf0c2f6.doc  & 3a428bef9970d315445c85c47f39fb38d4aac024eaf75bbbe9a02e83cbf0c2f6      & 147                                                                  \\\\\n",
       "\t 84                                                                    & 14261                                                                 & 150                                                                   & 0139300032516003244                                                   & NA                                                                    & replace\\_me                                                          & 639990                                                                & 639990                                                                & 1                                                                     & NA                                                                    & ⋯                                                                     & NA                                                                    & 1940                                                                  & 120                                                                   & NA                                                                    & NA                                                                    & NA                                                                    & NA                                                                    & 062c75c22ad86b1bc28cef6f254e0fc61b778c60572f692620fa9deaae5d3920.docx & 062c75c22ad86b1bc28cef6f254e0fc61b778c60572f692620fa9deaae5d3920      & 150, 200                                                             \\\\\n",
       "\t 92                                                                    & 18489                                                                 & 172                                                                   & 0552600008117000001                                                   & NA                                                                    & replace\\_me                                                          & 592000                                                                & NA                                                                    & 1                                                                     & NA                                                                    & ⋯                                                                     & NA                                                                    & NA                                                                    & NA                                                                    & NA                                                                    & NA                                                                    & NA                                                                    & NA                                                                    & b0fbc3d4b637ee1ce3db64be6a6a1eba2cd69528a7726d97a0620b98cbd6689d.docx & b0fbc3d4b637ee1ce3db64be6a6a1eba2cd69528a7726d97a0620b98cbd6689d      & 172                                                                  \\\\\n",
       "\t 106                                                                   & 103                                                                   & 205                                                                   & 0106200001317000020                                                   & NA                                                                    & replace\\_me                                                          & 595000                                                                & NA                                                                    & 1                                                                     & NA                                                                    & ⋯                                                                     & 1.9                                                                   & 4056                                                                  & NA                                                                    & NA                                                                    & NA                                                                    & NA                                                                    & NA                                                                    & a3212fe3008f8585adcfbe33fd37f3f9119b9490cab00e4ba51d60f184f26401.docx & a3212fe3008f8585adcfbe33fd37f3f9119b9490cab00e4ba51d60f184f26401      & 205                                                                  \\\\\n",
       "\t 114                                                                   & 456                                                                   & 214                                                                   & 0169300011917000012                                                   & NA                                                                    & replace\\_me                                                          & 679993.33                                                             & 679993.33                                                             & 1                                                                     & NA                                                                    & ⋯                                                                     & 1598                                                                  & NA                                                                    & NA                                                                    & NA                                                                    & NA                                                                    & NA                                                                    & NA                                                                    & b6a3446b5b60ffe250e961ff0182acd9acb6d2a0b23188da4d323ec5d71f0384.doc  & b6a3446b5b60ffe250e961ff0182acd9acb6d2a0b23188da4d323ec5d71f0384      & 214                                                                  \\\\\n",
       "\t 137                                                                   & 2470                                                                  & 245                                                                   & 0116300021817000036                                                   & NA                                                                    & replace\\_me                                                          & 9e+05                                                                 & 9e+05                                                                 & 1                                                                     & NA                                                                    & ⋯                                                                     & NA                                                                    & NA                                                                    & NA                                                                    & NA                                                                    & NA                                                                    & NA                                                                    & NA                                                                    & 64be649de2940b6a79a111ef99107afbf7701478d076efa93677253ed502372c.doc  & 64be649de2940b6a79a111ef99107afbf7701478d076efa93677253ed502372c      & 245, 417                                                             \\\\\n",
       "\t 147                                                                   & 3131                                                                  & 257                                                                   & 0354100005317000006                                                   & NA                                                                    & replace\\_me                                                          & 700220                                                                & NA                                                                    & 1                                                                     & NA                                                                    & ⋯                                                                     & NA                                                                    & NA                                                                    & NA                                                                    & NA                                                                    & NA                                                                    & NA                                                                    & NA                                                                    & a547835e2a85007122e2b358f40ba4a28451c3cf73edfdd7c121e33a892942ac.docx & a547835e2a85007122e2b358f40ba4a28451c3cf73edfdd7c121e33a892942ac      & 257                                                                  \\\\\n",
       "\t 189                                                                   & 6669                                                                  & 322                                                                   & 0116300005217000023                                                   & NA                                                                    & replace\\_me                                                          & 850000                                                                & 850000                                                                & 1                                                                     & NA                                                                    & ⋯                                                                     & NA                                                                    & NA                                                                    & NA                                                                    & NA                                                                    & NA                                                                    & NA                                                                    & NA                                                                    & 4cdbdb3a35cc675b4a953a21e78bf6b4d9fa17c52008eaa1744ba1db6ce66a45.doc  & 4cdbdb3a35cc675b4a953a21e78bf6b4d9fa17c52008eaa1744ba1db6ce66a45      & 322, 354, 404                                                        \\\\\n",
       "\t 219                                                                   & 9569                                                                  & 380                                                                   & 0820200000617000003                                                   & NA                                                                    & replace\\_me                                                          & 905800                                                                & NA                                                                    & 1                                                                     & NA                                                                    & ⋯                                                                     & NA                                                                    & NA                                                                    & NA                                                                    & NA                                                                    & 2016                                                                  & NA                                                                    & NA                                                                    & 362530dce782570795071c443cff85b5dc68fd92c852d02f6c913bf0d3f0c0f2.docx & 362530dce782570795071c443cff85b5dc68fd92c852d02f6c913bf0d3f0c0f2      & 380                                                                  \\\\\n",
       "\t 230                                                                   & 10504                                                                 & 399                                                                   & 0142300038317000032                                                   & NA                                                                    & replace\\_me                                                          & 647090                                                                & 647090                                                                & 1                                                                     & NA                                                                    & ⋯                                                                     & NA                                                                    & 4048                                                                  & NA                                                                    & NA                                                                    & NA                                                                    & NA                                                                    & NA                                                                    & 780012b41774da8b8bc12f7f394b74051cc79f4a36ca1ccbe4bc0f240cd91d8b.doc  & 780012b41774da8b8bc12f7f394b74051cc79f4a36ca1ccbe4bc0f240cd91d8b      & 399                                                                  \\\\\n",
       "\t 239                                                                   & 12464                                                                 & 424                                                                   & 0369300069917000006                                                   & NA                                                                    & replace\\_me                                                          & 1499000                                                               & 1499000                                                               & 1                                                                     & NA                                                                    & ⋯                                                                     & NA                                                                    & NA                                                                    & NA                                                                    & NA                                                                    & NA                                                                    & NA                                                                    & NA                                                                    & 55fde30c02ad1e70d79e25ddeada51ada719607e2321b8f5d80269df82bbf11a.doc  & 55fde30c02ad1e70d79e25ddeada51ada719607e2321b8f5d80269df82bbf11a      & 424                                                                  \\\\\n",
       "\t 250                                                                   & 13537                                                                 & 439                                                                   & 0169300011917000016                                                   & NA                                                                    & replace\\_me                                                          & 679993.33                                                             & 679993.33                                                             & 1                                                                     & NA                                                                    & ⋯                                                                     & 1598                                                                  & NA                                                                    & NA                                                                    & NA                                                                    & NA                                                                    & NA                                                                    & NA                                                                    & d21a24041e9c9d7c46197c61bd95387a562f3e644f1adf0e6cdab1a65517788f.doc  & d21a24041e9c9d7c46197c61bd95387a562f3e644f1adf0e6cdab1a65517788f      & 439, 595                                                             \\\\\n",
       "\t 262                                                                   & 15175                                                                 & 462                                                                   & 0130300032717000001                                                   & NA                                                                    & replace\\_me                                                          & 661064                                                                & 661064                                                                & 1                                                                     & NA                                                                    & ⋯                                                                     & NA                                                                    & 4470                                                                  & NA                                                                    & NA                                                                    & NA                                                                    & NA                                                                    & NA                                                                    & bb3d0f4da7747305f27bde6af816e5b8330ddb13a0aa9176849244d4c4351a20.doc  & bb3d0f4da7747305f27bde6af816e5b8330ddb13a0aa9176849244d4c4351a20      & 462                                                                  \\\\\n",
       "\t 265                                                                   & 15341                                                                 & 466                                                                   & 0201200000117000004                                                   & NA                                                                    & replace\\_me                                                          & 1437900                                                               & NA                                                                    & 1                                                                     & NA                                                                    & ⋯                                                                     & 1596                                                                  & 4250                                                                  & NA                                                                    & NA                                                                    & 2016                                                                  & NA                                                                    & NA                                                                    & 8e39be2621d8d098a1ebd49b887bb5f69a1dd6d4c63b19cdf9aa9f060ead9aa6.docx & 8e39be2621d8d098a1ebd49b887bb5f69a1dd6d4c63b19cdf9aa9f060ead9aa6      & 466                                                                  \\\\\n",
       "\t 267                                                                   & 15769                                                                 & 474                                                                   & 0172100008517000012                                                   & NA                                                                    & replace\\_me                                                          & 1500000                                                               & NA                                                                    & 1                                                                     & NA                                                                    & ⋯                                                                     & NA                                                                    & NA                                                                    & NA                                                                    & NA                                                                    & NA                                                                    & NA                                                                    & NA                                                                    & 75b0fcdf663e5de8af93ec3fac6d2a893194f5679a91ad038ec2425e0017cd7f.docx & 75b0fcdf663e5de8af93ec3fac6d2a893194f5679a91ad038ec2425e0017cd7f      & 474                                                                  \\\\\n",
       "\t 271                                                                   & 16171                                                                 & 483                                                                   & 0169600001917000007                                                   & NA                                                                    & replace\\_me                                                          & 1300836                                                               & 1300836                                                               & 1                                                                     & NA                                                                    & ⋯                                                                     & 1999                                                                  & 4470                                                                  & NA                                                                    & NA                                                                    & 2017                                                                  & NA                                                                    & NA                                                                    & 81aa951bdd9a218314b19f8f5c889d6aa82d90d7fbb63fadd9fb34c83a17feef.docx & 81aa951bdd9a218314b19f8f5c889d6aa82d90d7fbb63fadd9fb34c83a17feef      & 483                                                                  \\\\\n",
       "\t 279                                                                   & 17132                                                                 & 498                                                                   & 0324100005017000029                                                   & NA                                                                    & replace\\_me                                                          & 1432000                                                               & NA                                                                    & 1                                                                     & NA                                                                    & ⋯                                                                     & 1900                                                                  & 4600                                                                  & NA                                                                    & NA                                                                    & NA                                                                    & NA                                                                    & NA                                                                    & 5a79641518f9d3262182d24de68c446e4b955aca3507d67689776799c84810a4.docx & 5a79641518f9d3262182d24de68c446e4b955aca3507d67689776799c84810a4      & 498, 535                                                             \\\\\n",
       "\t 284                                                                   & 17791                                                                 & 507                                                                   & 0310200000317000137                                                   & NA                                                                    & replace\\_me                                                          & 12706666.67                                                           & 1588333.33375                                                         & 1                                                                     & NA                                                                    & ⋯                                                                     & NA                                                                    & NA                                                                    & NA                                                                    & NA                                                                    & NA                                                                    & NA                                                                    & NA                                                                    & ee2f794d39a9763c84ad39b587c948b1a95380a89e7143ea2ec9a2547ceb6f9b.doc  & ee2f794d39a9763c84ad39b587c948b1a95380a89e7143ea2ec9a2547ceb6f9b      & 507                                                                  \\\\\n",
       "\t 285                                                                   & 17967                                                                 & 508                                                                   & 0109100007717000007                                                   & NA                                                                    & replace\\_me                                                          & 954000                                                                & NA                                                                    & 1                                                                     & NA                                                                    & ⋯                                                                     & NA                                                                    & NA                                                                    & NA                                                                    & NA                                                                    & NA                                                                    & NA                                                                    & NA                                                                    & 05b13fce30d4365d94b92e5dd30bb2badba502001e2e201a71c2173c14308da3.doc  & 05b13fce30d4365d94b92e5dd30bb2badba502001e2e201a71c2173c14308da3      & 508                                                                  \\\\\n",
       "\t 295                                                                   & 19021                                                                 & 530                                                                   & 0373100017817000001                                                   & NA                                                                    & replace\\_me                                                          & 4e+06                                                                 & NA                                                                    & 1                                                                     & NA                                                                    & ⋯                                                                     & NA                                                                    & 4850                                                                  & 210                                                                   & NA                                                                    & NA                                                                    & NA                                                                    & NA                                                                    & d8d550e08faa4921f8acd0f99f112543bd961bb269ed0fddfa107d696a608186.docx & d8d550e08faa4921f8acd0f99f112543bd961bb269ed0fddfa107d696a608186      & 530                                                                  \\\\\n",
       "\t 333                                                                   & 23978                                                                 & 633                                                                   & 0158300030017000012                                                   & NA                                                                    & replace\\_me                                                          & 598900                                                                & 598900                                                                & 1                                                                     & NA                                                                    & ⋯                                                                     & NA                                                                    & NA                                                                    & NA                                                                    & NA                                                                    & NA                                                                    & NA                                                                    & NA                                                                    & 9817a31aed41a57e4e2ebe81a2dd9c5a2f47d06cb98b6bcfd59b860ec309dcd5.doc  & 9817a31aed41a57e4e2ebe81a2dd9c5a2f47d06cb98b6bcfd59b860ec309dcd5      & 633                                                                  \\\\\n",
       "\t 334                                                                   & 24033                                                                 & 634                                                                   & 0119300004317000006                                                   & NA                                                                    & replace\\_me                                                          & 698990                                                                & NA                                                                    & 1                                                                     & NA                                                                    & ⋯                                                                     & NA                                                                    & NA                                                                    & NA                                                                    & NA                                                                    & 2016                                                                  & NA                                                                    & NA                                                                    & e237a0a973c2c3c54779f045370c6a079713448c322d34d0823cde9051ae4d66.docx & e237a0a973c2c3c54779f045370c6a079713448c322d34d0823cde9051ae4d66      & 634                                                                  \\\\\n",
       "\t 337                                                                   & 24338                                                                 & 638                                                                   & 0109200002417000196                                                   & NA                                                                    & replace\\_me                                                          & 1697000                                                               & 1697000                                                               & 1                                                                     & NA                                                                    & ⋯                                                                     & NA                                                                    & 1210                                                                  & NA                                                                    & NA                                                                    & NA                                                                    & NA                                                                    & NA                                                                    & 0135a567824b22c28e119a286af5b1c86ed64e45563fe7ee8d17f9c54b2da2c0.docx & 0135a567824b22c28e119a286af5b1c86ed64e45563fe7ee8d17f9c54b2da2c0      & 638                                                                  \\\\\n",
       "\t 365                                                                   & 1129                                                                  & 684                                                                   & 0279100000217000082                                                   & NA                                                                    & replace\\_me                                                          & 977146.2                                                              & NA                                                                    & 1                                                                     & NA                                                                    & ⋯                                                                     & NA                                                                    & NA                                                                    & NA                                                                    & NA                                                                    & NA                                                                    & NA                                                                    & NA                                                                    & dcebc52ef46a5def89f955d7e3fcdf85c3211b9989bda659772a0751ecbf4349.docx & dcebc52ef46a5def89f955d7e3fcdf85c3211b9989bda659772a0751ecbf4349      & 684                                                                  \\\\\n",
       "\t ⋮ & ⋮ & ⋮ & ⋮ & ⋮ & ⋮ & ⋮ & ⋮ & ⋮ & ⋮ & ⋱ & ⋮ & ⋮ & ⋮ & ⋮ & ⋮ & ⋮ & ⋮ & ⋮ & ⋮ & ⋮\\\\\n",
       "\t 994                                                                   & 22960                                                                 & 1944                                                                  & 0500400000317000082                                                   & NA                                                                    & replace\\_me                                                          & 20933074                                                              & NA                                                                    & 1                                                                     & NA                                                                    & ⋯                                                                     & 1598                                                                  & NA                                                                    & NA                                                                    & NA                                                                    & NA                                                                    & NA                                                                    & NA                                                                    & 0ec31fa36279bd839983f92882b4f388112d8cc9a8c15960edc281b062f701fd.doc  & 0ec31fa36279bd839983f92882b4f388112d8cc9a8c15960edc281b062f701fd      & 1944, 1978                                                           \\\\\n",
       "\t 999                                                                   & 23200                                                                 & 1954                                                                  & 0258100000317000220                                                   & NA                                                                    & replace\\_me                                                          & 16943447.5                                                            & NA                                                                    & 1                                                                     & NA                                                                    & ⋯                                                                     & NA                                                                    & NA                                                                    & NA                                                                    & NA                                                                    & NA                                                                    & NA                                                                    & NA                                                                    & ccd05476c245fa8b93276793b729996ba2dab2b2fe5a6bb8b46048729225bdac.docx & ccd05476c245fa8b93276793b729996ba2dab2b2fe5a6bb8b46048729225bdac      & 1954                                                                 \\\\\n",
       "\t 1004                                                                  & 23954                                                                 & 1977                                                                  & 0535100000217000032                                                   & NA                                                                    & replace\\_me                                                          & 1447500                                                               & NA                                                                    & 1                                                                     & NA                                                                    & ⋯                                                                     & NA                                                                    & NA                                                                    & NA                                                                    & NA                                                                    & NA                                                                    & NA                                                                    & NA                                                                    & 64c132ad5043cfe027f28eb3110a604038ff9bb64dd3c27d184b0afab578f299.docx & 64c132ad5043cfe027f28eb3110a604038ff9bb64dd3c27d184b0afab578f299      & 1977                                                                 \\\\\n",
       "\t 1025                                                                  & 712                                                                   & 2036                                                                  & 0373100040817000010                                                   & NA                                                                    & replace\\_me                                                          & 2500000                                                               & NA                                                                    & 1                                                                     & NA                                                                    & ⋯                                                                     & NA                                                                    & NA                                                                    & NA                                                                    & NA                                                                    & 2016                                                                  & NA                                                                    & NA                                                                    & 97bcd378e2717979b350bde854c9ba5e651525c737691af3a0d89da514e2cd5a.docx & 97bcd378e2717979b350bde854c9ba5e651525c737691af3a0d89da514e2cd5a      & 2036                                                                 \\\\\n",
       "\t 1033                                                                  & 1018                                                                  & 2051                                                                  & 0105300004717000011                                                   & NA                                                                    & replace\\_me                                                          & 1350600                                                               & NA                                                                    & 1                                                                     & NA                                                                    & ⋯                                                                     & NA                                                                    & NA                                                                    & NA                                                                    & NA                                                                    & NA                                                                    & NA                                                                    & NA                                                                    & dfa0035e993edc12fc6a1af5ad17ef6bd6cb007ec2fd71c36598618d6a1ddbc4.doc  & dfa0035e993edc12fc6a1af5ad17ef6bd6cb007ec2fd71c36598618d6a1ddbc4      & 2051                                                                 \\\\\n",
       "\t 1048                                                                  & 2028                                                                  & 2073                                                                  & 0361200015017002427                                                   & NA                                                                    & replace\\_me                                                          & 3100000                                                               & 3100000                                                               & 1                                                                     & NA                                                                    & ⋯                                                                     & NA                                                                    & 2059                                                                  & NA                                                                    & NA                                                                    & NA                                                                    & NA                                                                    & NA                                                                    & ce6ca102a27a1391625271bb2d3c46912cc73c286f17a470ca1d76b8e07b25f1.docx & ce6ca102a27a1391625271bb2d3c46912cc73c286f17a470ca1d76b8e07b25f1      & 2073, 2102, 2203                                                     \\\\\n",
       "\t 1057                                                                  & 2312                                                                  & 2084                                                                  & 0135300007617000063                                                   & NA                                                                    & replace\\_me                                                          & 759600                                                                & 759600                                                                & 1                                                                     & NA                                                                    & ⋯                                                                     & NA                                                                    & NA                                                                    & NA                                                                    & NA                                                                    & NA                                                                    & NA                                                                    & NA                                                                    & ee2debbb346d62222a56a66daf1b23aa4b6c26c9f9fdb16abf4f6f743d82dfd4.doc  & ee2debbb346d62222a56a66daf1b23aa4b6c26c9f9fdb16abf4f6f743d82dfd4      & 2084                                                                 \\\\\n",
       "\t 1061                                                                  & 2604                                                                  & 2094                                                                  & 0320300111617000064                                                   & NA                                                                    & replace\\_me                                                          & 2253000                                                               & 1126500                                                               & 1                                                                     & NA                                                                    & ⋯                                                                     & NA                                                                    & NA                                                                    & NA                                                                    & NA                                                                    & NA                                                                    & NA                                                                    & NA                                                                    & c0e189d242de702bf4514292811523361188411d907d0b6ab36f9ba8daa91c51.docx & c0e189d242de702bf4514292811523361188411d907d0b6ab36f9ba8daa91c51      & 2094, 2141                                                           \\\\\n",
       "\t 1087                                                                  & 3933                                                                  & 2135                                                                  & 0133200001717001354                                                   & NA                                                                    & replace\\_me                                                          & 6e+05                                                                 & 6e+05                                                                 & 1                                                                     & NA                                                                    & ⋯                                                                     & NA                                                                    & NA                                                                    & NA                                                                    & NA                                                                    & NA                                                                    & NA                                                                    & NA                                                                    & aa5554cdac36309c780a08952d504f6b522d1348c78b95ff131901de876d6f36.doc  & aa5554cdac36309c780a08952d504f6b522d1348c78b95ff131901de876d6f36      & 2135                                                                 \\\\\n",
       "\t 1088                                                                  & 3941                                                                  & 2136                                                                  & 0875200001017000003                                                   & NA                                                                    & replace\\_me                                                          & 1529700                                                               & NA                                                                    & 1                                                                     & NA                                                                    & ⋯                                                                     & 1690                                                                  & NA                                                                    & NA                                                                    & NA                                                                    & NA                                                                    & NA                                                                    & NA                                                                    & 586f77b48969cb4467578d1c73b326fe4972e0a32cf0d34f03f84642b9561da4.docx & 586f77b48969cb4467578d1c73b326fe4972e0a32cf0d34f03f84642b9561da4      & 2136, 2170, 2254, 2424, 2489                                         \\\\\n",
       "\t 1098                                                                  & 4513                                                                  & 2152                                                                  & 0150100006017000033                                                   & NA                                                                    & replace\\_me                                                          & 2000266.67                                                            & NA                                                                    & 1                                                                     & NA                                                                    & ⋯                                                                     & NA                                                                    & NA                                                                    & NA                                                                    & NA                                                                    & NA                                                                    & NA                                                                    & NA                                                                    & 3be43eeeaf2b9f727dfebe832113e19554c339745d068236bca251c8d504e970.docx & 3be43eeeaf2b9f727dfebe832113e19554c339745d068236bca251c8d504e970      & 2152                                                                 \\\\\n",
       "\t 1108                                                                  & 4846                                                                  & 2166                                                                  & 0324100005017000056                                                   & NA                                                                    & replace\\_me                                                          & 1455760                                                               & NA                                                                    & 1                                                                     & NA                                                                    & ⋯                                                                     & 1590                                                                  & 4040                                                                  & NA                                                                    & NA                                                                    & NA                                                                    & NA                                                                    & NA                                                                    & 51912649146dc8d5b4c123eeb23bebcb8d49bf642e4f1b5dde4f97dc267ebf63.docx & 51912649146dc8d5b4c123eeb23bebcb8d49bf642e4f1b5dde4f97dc267ebf63      & 2166                                                                 \\\\\n",
       "\t 1116                                                                  & 5406                                                                  & 2184                                                                  & 0119300040017000072                                                   & NA                                                                    & replace\\_me                                                          & 6e+05                                                                 & 6e+05                                                                 & 1                                                                     & NA                                                                    & ⋯                                                                     & NA                                                                    & NA                                                                    & NA                                                                    & NA                                                                    & NA                                                                    & NA                                                                    & NA                                                                    & 8bf99845471deeb7c2c258c2926eda7048243399dc2a5562adcbc1b4a763ea48.docx & 8bf99845471deeb7c2c258c2926eda7048243399dc2a5562adcbc1b4a763ea48      & 2184                                                                 \\\\\n",
       "\t 1122                                                                  & 5574                                                                  & 2190                                                                  & 0324100005017000057                                                   & NA                                                                    & replace\\_me                                                          & 1342533.33                                                            & NA                                                                    & 1                                                                     & NA                                                                    & ⋯                                                                     & 1596                                                                  & 4470                                                                  & NA                                                                    & NA                                                                    & NA                                                                    & NA                                                                    & NA                                                                    & d9720dd03ef341cec7fe19d8515104fc95a84efc58d56416a2cfa150f80ed9ac.docx & d9720dd03ef341cec7fe19d8515104fc95a84efc58d56416a2cfa150f80ed9ac      & 2190                                                                 \\\\\n",
       "\t 1125                                                                  & 5870                                                                  & 2199                                                                  & 0865200000317000996                                                   & NA                                                                    & replace\\_me                                                          & 1499966.67                                                            & NA                                                                    & 1                                                                     & NA                                                                    & ⋯                                                                     & 2000                                                                  & 4480                                                                  & NA                                                                    & NA                                                                    & NA                                                                    & NA                                                                    & NA                                                                    & 87ea367dae867952266ead6e99d72a3884c260150bea9465ec5fa393265375b6.docx & 87ea367dae867952266ead6e99d72a3884c260150bea9465ec5fa393265375b6      & 2199                                                                 \\\\\n",
       "\t 1136                                                                  & 6368                                                                  & 2218                                                                  & 0848500002617000016                                                   & NA                                                                    & replace\\_me                                                          & 5486000                                                               & NA                                                                    & 1                                                                     & NA                                                                    & ⋯                                                                     & 1598                                                                  & NA                                                                    & NA                                                                    & NA                                                                    & NA                                                                    & NA                                                                    & NA                                                                    & 6678539a1a0f7967a43cfa16270ea87de14eed58b69376b66a313c4d1a6919ba.docx & 6678539a1a0f7967a43cfa16270ea87de14eed58b69376b66a313c4d1a6919ba      & 2218, 2344                                                           \\\\\n",
       "\t 1137                                                                  & 6432                                                                  & 2220                                                                  & 0817200000317003697                                                   & NA                                                                    & replace\\_me                                                          & 1745700                                                               & 581900                                                                & 1                                                                     & NA                                                                    & ⋯                                                                     & NA                                                                    & NA                                                                    & NA                                                                    & 1466                                                                  & 2016                                                                  & NA                                                                    & NA                                                                    & 40a9932750bb2c7e3bb5c6e067f46ab30d872683bd3044c9a6b1db8df51b186a.doc  & 40a9932750bb2c7e3bb5c6e067f46ab30d872683bd3044c9a6b1db8df51b186a      & 2220, 2381                                                           \\\\\n",
       "\t 1138                                                                  & 6475                                                                  & 2221                                                                  & 0136300033517000047                                                   & NA                                                                    & replace\\_me                                                          & 924990                                                                & 924990                                                                & 1                                                                     & NA                                                                    & ⋯                                                                     & NA                                                                    & NA                                                                    & NA                                                                    & NA                                                                    & NA                                                                    & NA                                                                    & NA                                                                    & 2189230654dd224efa24c418033d4bff4342879e4800666005ba26e659e2f316.doc  & 2189230654dd224efa24c418033d4bff4342879e4800666005ba26e659e2f316      & 2221                                                                 \\\\\n",
       "\t 1167                                                                  & 8153                                                                  & 2275                                                                  & 0105200000217000642                                                   & NA                                                                    & replace\\_me                                                          & 7e+05                                                                 & 7e+05                                                                 & 1                                                                     & NA                                                                    & ⋯                                                                     & NA                                                                    & NA                                                                    & NA                                                                    & NA                                                                    & NA                                                                    & NA                                                                    & NA                                                                    & f666b014526fe8e5be0886bf339eab043f7a8c94a2f2ad3c6911312d2b3b8357.docx & f666b014526fe8e5be0886bf339eab043f7a8c94a2f2ad3c6911312d2b3b8357      & 2275                                                                 \\\\\n",
       "\t 1173                                                                  & 8358                                                                  & 2282                                                                  & 0858300002817000002                                                   & NA                                                                    & replace\\_me                                                          & 598900                                                                & NA                                                                    & 1                                                                     & NA                                                                    & ⋯                                                                     & NA                                                                    & NA                                                                    & 175                                                                   & 1670                                                                  & NA                                                                    & NA                                                                    & NA                                                                    & f238d77707ad24f7681dc6d21e872691e75d3aa675d1efb75cfe2dd1af8a8b0e.docx & f238d77707ad24f7681dc6d21e872691e75d3aa675d1efb75cfe2dd1af8a8b0e      & 2282                                                                 \\\\\n",
       "\t 1180                                                                  & 8826                                                                  & 2298                                                                  & 0142200001317006286                                                   & NA                                                                    & replace\\_me                                                          & 24173800                                                              & 389900                                                                & 1                                                                     & NA                                                                    & ⋯                                                                     & 1500                                                                  & 4260                                                                  & NA                                                                    & NA                                                                    & 2017                                                                  & NA                                                                    & NA                                                                    & 47443915abb1803252bfd0f6de754ab172ddf1b5b6b29539f6f4008bba7447a0.docx & 47443915abb1803252bfd0f6de754ab172ddf1b5b6b29539f6f4008bba7447a0      & 2298, 2306                                                           \\\\\n",
       "\t 1192                                                                  & 9617                                                                  & 2322                                                                  & 0365300043817000004                                                   & NA                                                                    & replace\\_me                                                          & 570900                                                                & NA                                                                    & 1                                                                     & NA                                                                    & ⋯                                                                     & NA                                                                    & NA                                                                    & NA                                                                    & NA                                                                    & NA                                                                    & NA                                                                    & NA                                                                    & 38d696d9edc947d410f93b7c49734fde296c41709102f5cc147137d05b07e5f6.doc  & 38d696d9edc947d410f93b7c49734fde296c41709102f5cc147137d05b07e5f6      & 2322                                                                 \\\\\n",
       "\t 1193                                                                  & 9935                                                                  & 2328                                                                  & 0188300006517000075                                                   & NA                                                                    & replace\\_me                                                          & 5700000                                                               & NA                                                                    & 1                                                                     & NA                                                                    & ⋯                                                                     & NA                                                                    & NA                                                                    & NA                                                                    & NA                                                                    & NA                                                                    & NA                                                                    & NA                                                                    & e16947ebbc9ee95a6fd7cbaaf21f22f990e0e6d529790ef290b38709124a7ba7.docx & e16947ebbc9ee95a6fd7cbaaf21f22f990e0e6d529790ef290b38709124a7ba7      & 2328                                                                 \\\\\n",
       "\t 1202                                                                  & 10718                                                                 & 2348                                                                  & 0120100010117000174                                                   & NA                                                                    & replace\\_me                                                          & 2994330                                                               & NA                                                                    & 1                                                                     & NA                                                                    & ⋯                                                                     & NA                                                                    & NA                                                                    & NA                                                                    & NA                                                                    & NA                                                                    & NA                                                                    & NA                                                                    & 6eb30473c2fc56b5dc9999445106c68b94cfb939b0cca59be8b75196bf14054e.docx & 6eb30473c2fc56b5dc9999445106c68b94cfb939b0cca59be8b75196bf14054e      & 2348                                                                 \\\\\n",
       "\t 1213                                                                  & 11293                                                                 & 2369                                                                  & 0103200008417003264                                                   & NA                                                                    & replace\\_me                                                          & 1992666.68                                                            & 498166.67                                                             & 1                                                                     & NA                                                                    & ⋯                                                                     & 1420                                                                  & 3740                                                                  & 142                                                                   & NA                                                                    & NA                                                                    & NA                                                                    & NA                                                                    & f3bbbcedacce0237bed60ad0c8ace84db42ecae22c2a73f7037f5ebe7799b655.docx & f3bbbcedacce0237bed60ad0c8ace84db42ecae22c2a73f7037f5ebe7799b655      & 2369                                                                 \\\\\n",
       "\t 1233                                                                  & 13041                                                                 & 2425                                                                  & 0554600003217000003                                                   & NA                                                                    & replace\\_me                                                          & 678933                                                                & NA                                                                    & 1                                                                     & NA                                                                    & ⋯                                                                     & 1510                                                                  & NA                                                                    & NA                                                                    & 1497                                                                  & 2017                                                                  & NA                                                                    & NA                                                                    & 4298883512f0a355ea14bbf95fb1287ac6255abba26ee08d0fc6aea33b8dcb13.docx & 4298883512f0a355ea14bbf95fb1287ac6255abba26ee08d0fc6aea33b8dcb13      & 2425                                                                 \\\\\n",
       "\t 1234                                                                  & 13099                                                                 & 2429                                                                  & 0817200000317003740                                                   & NA                                                                    & replace\\_me                                                          & 1163800                                                               & 581900                                                                & 1                                                                     & NA                                                                    & ⋯                                                                     & NA                                                                    & NA                                                                    & NA                                                                    & 1466                                                                  & 2016                                                                  & NA                                                                    & NA                                                                    & cecb4947939d2b935a2e09902ed87fcf5758de204f82c6aaa3c63029a410c2c9.doc  & cecb4947939d2b935a2e09902ed87fcf5758de204f82c6aaa3c63029a410c2c9      & 2429                                                                 \\\\\n",
       "\t 1236                                                                  & 13200                                                                 & 2435                                                                  & 0194200000517003346                                                   & NA                                                                    & replace\\_me                                                          & 2810000                                                               & 2810000                                                               & 1                                                                     & NA                                                                    & ⋯                                                                     & 1591                                                                  & NA                                                                    & NA                                                                    & NA                                                                    & NA                                                                    & NA                                                                    & NA                                                                    & 6b7c5daa1a02d457f09e439dfab2c23ac3a0ae0126110553c139169daf0e1c2b.docx & 6b7c5daa1a02d457f09e439dfab2c23ac3a0ae0126110553c139169daf0e1c2b      & 2435                                                                 \\\\\n",
       "\t 1244                                                                  & 13447                                                                 & 2447                                                                  & 0165300003717000036                                                   & NA                                                                    & replace\\_me                                                          & 612300                                                                & 612300                                                                & 1                                                                     & NA                                                                    & ⋯                                                                     & NA                                                                    & NA                                                                    & NA                                                                    & NA                                                                    & NA                                                                    & NA                                                                    & NA                                                                    & 0d6881497b4ad12c76c36332e1e83a1b1167677049e3e736d162de8dad60246b.doc  & 0d6881497b4ad12c76c36332e1e83a1b1167677049e3e736d162de8dad60246b      & 2447                                                                 \\\\\n",
       "\t 1247                                                                  & 13687                                                                 & 2456                                                                  & 0855200000517000959                                                   & NA                                                                    & replace\\_me                                                          & 901000                                                                & NA                                                                    & 1                                                                     & NA                                                                    & ⋯                                                                     & NA                                                                    & NA                                                                    & NA                                                                    & NA                                                                    & NA                                                                    & NA                                                                    & NA                                                                    & 1073e12e8875473f7f53cc3002f6df9def98e3bad09d272d148b266c243d8b59.docx & 1073e12e8875473f7f53cc3002f6df9def98e3bad09d272d148b266c243d8b59      & 2456                                                                 \\\\\n",
       "\\end{tabular}\n"
      ],
      "text/markdown": [
       "\n",
       "X__1 | n | index_name | purchase_number | done | completed_car_purchase | price | price_per_one | auction | real_price | ⋯ | объем_двигателя_куб_см | длина | максимальная_скорость | масса_авто_снаряженная | год_выпуска | мощность_л_с | потребление_топлива_городской_цикл_л_100км | filename | sha_id | all_indexes | \n",
       "|---|---|---|---|---|---|---|---|---|---|---|---|---|---|---|---|---|---|---|---|---|---|---|---|---|---|---|---|---|---|---|---|---|---|---|---|---|---|---|---|---|---|---|---|---|---|---|---|---|---|---|---|---|---|---|---|---|---|---|---|---|\n",
       "| 25                                                                    | 12402                                                                 | 46                                                                    | 0350300003216000056                                                   | NA                                                                    | replace_me                                                            | 986285.71                                                             | 986285.71                                                             | 1                                                                     | NA                                                                    | ⋯                                                                     | NA                                                                    | NA                                                                    | NA                                                                    | NA                                                                    | NA                                                                    | NA                                                                    | NA                                                                    | 68ddca582629a5f2346dafe0333a0f14f92d03ffbf6ada271f00c3dd4cfa7cc4.docx | 68ddca582629a5f2346dafe0333a0f14f92d03ffbf6ada271f00c3dd4cfa7cc4      | 46                                                                    | \n",
       "| 29                                                                    | 15322                                                                 | 56                                                                    | 0130300032716000071                                                   | NA                                                                    | replace_me                                                            | 632900                                                                | 632900                                                                | 1                                                                     | NA                                                                    | ⋯                                                                     | NA                                                                    | 4470                                                                  | NA                                                                    | NA                                                                    | NA                                                                    | NA                                                                    | NA                                                                    | 3a12297e624f5aa526082ff616ced87ab59ba35a70f6de2b483caa1990560ea8.doc  | 3a12297e624f5aa526082ff616ced87ab59ba35a70f6de2b483caa1990560ea8      | 56                                                                    | \n",
       "| 50                                                                    | 658                                                                   | 91                                                                    | 0848300051717000020                                                   | NA                                                                    | replace_me                                                            | 947200                                                                | 947200                                                                | 1                                                                     | NA                                                                    | ⋯                                                                     | 1500                                                                  | 5475                                                                  | NA                                                                    | NA                                                                    | NA                                                                    | NA                                                                    | NA                                                                    | bda08d2e1d45551db7709baaa0bc7129c2afd5af735929a822a4585fc1473ba3.doc  | bda08d2e1d45551db7709baaa0bc7129c2afd5af735929a822a4585fc1473ba3      | 91, 94, 169, 175                                                      | \n",
       "| 54                                                                    | 2264                                                                  | 96                                                                    | 0164300035917000001                                                   | NA                                                                    | replace_me                                                            | 452600                                                                | NA                                                                    | 1                                                                     | NA                                                                    | ⋯                                                                     | 1596                                                                  | NA                                                                    | NA                                                                    | 1560                                                                  | NA                                                                    | NA                                                                    | NA                                                                    | b668b28c1ead6dfa8921be41a14d74653bc4aec727bdd6fa76a3d0e4365d872c.doc  | b668b28c1ead6dfa8921be41a14d74653bc4aec727bdd6fa76a3d0e4365d872c      | 96, 185                                                               | \n",
       "| 57                                                                    | 3939                                                                  | 102                                                                   | 0124200000617000051                                                   | NA                                                                    | replace_me                                                            | 7e+06                                                                 | 1750000                                                               | 1                                                                     | NA                                                                    | ⋯                                                                     | NA                                                                    | 4605                                                                  | 210                                                                   | 1610                                                                  | NA                                                                    | NA                                                                    | NA                                                                    | 1e18bf866e47818408b9ae1a7b956bba1d29794d2bc51dac58de059089a618bf.docx | 1e18bf866e47818408b9ae1a7b956bba1d29794d2bc51dac58de059089a618bf      | 102, 110, 177                                                         | \n",
       "| 77                                                                    | 11824                                                                 | 137                                                                   | 0337100017717000096                                                   | NA                                                                    | replace_me                                                            | 691372.75                                                             | NA                                                                    | 1                                                                     | NA                                                                    | ⋯                                                                     | NA                                                                    | 4470                                                                  | NA                                                                    | 1260                                                                  | NA                                                                    | NA                                                                    | NA                                                                    | b843939d9f86e0967ac3acbee7fb6c1d5cb0f0269187d9c824dda8f111f50c5c.docx | b843939d9f86e0967ac3acbee7fb6c1d5cb0f0269187d9c824dda8f111f50c5c      | 137                                                                   | \n",
       "| 82                                                                    | 13869                                                                 | 147                                                                   | 0154300024517000001                                                   | NA                                                                    | replace_me                                                            | 435600                                                                | NA                                                                    | 1                                                                     | NA                                                                    | ⋯                                                                     | 1596                                                                  | NA                                                                    | NA                                                                    | 1560                                                                  | NA                                                                    | NA                                                                    | NA                                                                    | 3a428bef9970d315445c85c47f39fb38d4aac024eaf75bbbe9a02e83cbf0c2f6.doc  | 3a428bef9970d315445c85c47f39fb38d4aac024eaf75bbbe9a02e83cbf0c2f6      | 147                                                                   | \n",
       "| 84                                                                    | 14261                                                                 | 150                                                                   | 0139300032516003244                                                   | NA                                                                    | replace_me                                                            | 639990                                                                | 639990                                                                | 1                                                                     | NA                                                                    | ⋯                                                                     | NA                                                                    | 1940                                                                  | 120                                                                   | NA                                                                    | NA                                                                    | NA                                                                    | NA                                                                    | 062c75c22ad86b1bc28cef6f254e0fc61b778c60572f692620fa9deaae5d3920.docx | 062c75c22ad86b1bc28cef6f254e0fc61b778c60572f692620fa9deaae5d3920      | 150, 200                                                              | \n",
       "| 92                                                                    | 18489                                                                 | 172                                                                   | 0552600008117000001                                                   | NA                                                                    | replace_me                                                            | 592000                                                                | NA                                                                    | 1                                                                     | NA                                                                    | ⋯                                                                     | NA                                                                    | NA                                                                    | NA                                                                    | NA                                                                    | NA                                                                    | NA                                                                    | NA                                                                    | b0fbc3d4b637ee1ce3db64be6a6a1eba2cd69528a7726d97a0620b98cbd6689d.docx | b0fbc3d4b637ee1ce3db64be6a6a1eba2cd69528a7726d97a0620b98cbd6689d      | 172                                                                   | \n",
       "| 106                                                                   | 103                                                                   | 205                                                                   | 0106200001317000020                                                   | NA                                                                    | replace_me                                                            | 595000                                                                | NA                                                                    | 1                                                                     | NA                                                                    | ⋯                                                                     | 1.9                                                                   | 4056                                                                  | NA                                                                    | NA                                                                    | NA                                                                    | NA                                                                    | NA                                                                    | a3212fe3008f8585adcfbe33fd37f3f9119b9490cab00e4ba51d60f184f26401.docx | a3212fe3008f8585adcfbe33fd37f3f9119b9490cab00e4ba51d60f184f26401      | 205                                                                   | \n",
       "| 114                                                                   | 456                                                                   | 214                                                                   | 0169300011917000012                                                   | NA                                                                    | replace_me                                                            | 679993.33                                                             | 679993.33                                                             | 1                                                                     | NA                                                                    | ⋯                                                                     | 1598                                                                  | NA                                                                    | NA                                                                    | NA                                                                    | NA                                                                    | NA                                                                    | NA                                                                    | b6a3446b5b60ffe250e961ff0182acd9acb6d2a0b23188da4d323ec5d71f0384.doc  | b6a3446b5b60ffe250e961ff0182acd9acb6d2a0b23188da4d323ec5d71f0384      | 214                                                                   | \n",
       "| 137                                                                   | 2470                                                                  | 245                                                                   | 0116300021817000036                                                   | NA                                                                    | replace_me                                                            | 9e+05                                                                 | 9e+05                                                                 | 1                                                                     | NA                                                                    | ⋯                                                                     | NA                                                                    | NA                                                                    | NA                                                                    | NA                                                                    | NA                                                                    | NA                                                                    | NA                                                                    | 64be649de2940b6a79a111ef99107afbf7701478d076efa93677253ed502372c.doc  | 64be649de2940b6a79a111ef99107afbf7701478d076efa93677253ed502372c      | 245, 417                                                              | \n",
       "| 147                                                                   | 3131                                                                  | 257                                                                   | 0354100005317000006                                                   | NA                                                                    | replace_me                                                            | 700220                                                                | NA                                                                    | 1                                                                     | NA                                                                    | ⋯                                                                     | NA                                                                    | NA                                                                    | NA                                                                    | NA                                                                    | NA                                                                    | NA                                                                    | NA                                                                    | a547835e2a85007122e2b358f40ba4a28451c3cf73edfdd7c121e33a892942ac.docx | a547835e2a85007122e2b358f40ba4a28451c3cf73edfdd7c121e33a892942ac      | 257                                                                   | \n",
       "| 189                                                                   | 6669                                                                  | 322                                                                   | 0116300005217000023                                                   | NA                                                                    | replace_me                                                            | 850000                                                                | 850000                                                                | 1                                                                     | NA                                                                    | ⋯                                                                     | NA                                                                    | NA                                                                    | NA                                                                    | NA                                                                    | NA                                                                    | NA                                                                    | NA                                                                    | 4cdbdb3a35cc675b4a953a21e78bf6b4d9fa17c52008eaa1744ba1db6ce66a45.doc  | 4cdbdb3a35cc675b4a953a21e78bf6b4d9fa17c52008eaa1744ba1db6ce66a45      | 322, 354, 404                                                         | \n",
       "| 219                                                                   | 9569                                                                  | 380                                                                   | 0820200000617000003                                                   | NA                                                                    | replace_me                                                            | 905800                                                                | NA                                                                    | 1                                                                     | NA                                                                    | ⋯                                                                     | NA                                                                    | NA                                                                    | NA                                                                    | NA                                                                    | 2016                                                                  | NA                                                                    | NA                                                                    | 362530dce782570795071c443cff85b5dc68fd92c852d02f6c913bf0d3f0c0f2.docx | 362530dce782570795071c443cff85b5dc68fd92c852d02f6c913bf0d3f0c0f2      | 380                                                                   | \n",
       "| 230                                                                   | 10504                                                                 | 399                                                                   | 0142300038317000032                                                   | NA                                                                    | replace_me                                                            | 647090                                                                | 647090                                                                | 1                                                                     | NA                                                                    | ⋯                                                                     | NA                                                                    | 4048                                                                  | NA                                                                    | NA                                                                    | NA                                                                    | NA                                                                    | NA                                                                    | 780012b41774da8b8bc12f7f394b74051cc79f4a36ca1ccbe4bc0f240cd91d8b.doc  | 780012b41774da8b8bc12f7f394b74051cc79f4a36ca1ccbe4bc0f240cd91d8b      | 399                                                                   | \n",
       "| 239                                                                   | 12464                                                                 | 424                                                                   | 0369300069917000006                                                   | NA                                                                    | replace_me                                                            | 1499000                                                               | 1499000                                                               | 1                                                                     | NA                                                                    | ⋯                                                                     | NA                                                                    | NA                                                                    | NA                                                                    | NA                                                                    | NA                                                                    | NA                                                                    | NA                                                                    | 55fde30c02ad1e70d79e25ddeada51ada719607e2321b8f5d80269df82bbf11a.doc  | 55fde30c02ad1e70d79e25ddeada51ada719607e2321b8f5d80269df82bbf11a      | 424                                                                   | \n",
       "| 250                                                                   | 13537                                                                 | 439                                                                   | 0169300011917000016                                                   | NA                                                                    | replace_me                                                            | 679993.33                                                             | 679993.33                                                             | 1                                                                     | NA                                                                    | ⋯                                                                     | 1598                                                                  | NA                                                                    | NA                                                                    | NA                                                                    | NA                                                                    | NA                                                                    | NA                                                                    | d21a24041e9c9d7c46197c61bd95387a562f3e644f1adf0e6cdab1a65517788f.doc  | d21a24041e9c9d7c46197c61bd95387a562f3e644f1adf0e6cdab1a65517788f      | 439, 595                                                              | \n",
       "| 262                                                                   | 15175                                                                 | 462                                                                   | 0130300032717000001                                                   | NA                                                                    | replace_me                                                            | 661064                                                                | 661064                                                                | 1                                                                     | NA                                                                    | ⋯                                                                     | NA                                                                    | 4470                                                                  | NA                                                                    | NA                                                                    | NA                                                                    | NA                                                                    | NA                                                                    | bb3d0f4da7747305f27bde6af816e5b8330ddb13a0aa9176849244d4c4351a20.doc  | bb3d0f4da7747305f27bde6af816e5b8330ddb13a0aa9176849244d4c4351a20      | 462                                                                   | \n",
       "| 265                                                                   | 15341                                                                 | 466                                                                   | 0201200000117000004                                                   | NA                                                                    | replace_me                                                            | 1437900                                                               | NA                                                                    | 1                                                                     | NA                                                                    | ⋯                                                                     | 1596                                                                  | 4250                                                                  | NA                                                                    | NA                                                                    | 2016                                                                  | NA                                                                    | NA                                                                    | 8e39be2621d8d098a1ebd49b887bb5f69a1dd6d4c63b19cdf9aa9f060ead9aa6.docx | 8e39be2621d8d098a1ebd49b887bb5f69a1dd6d4c63b19cdf9aa9f060ead9aa6      | 466                                                                   | \n",
       "| 267                                                                   | 15769                                                                 | 474                                                                   | 0172100008517000012                                                   | NA                                                                    | replace_me                                                            | 1500000                                                               | NA                                                                    | 1                                                                     | NA                                                                    | ⋯                                                                     | NA                                                                    | NA                                                                    | NA                                                                    | NA                                                                    | NA                                                                    | NA                                                                    | NA                                                                    | 75b0fcdf663e5de8af93ec3fac6d2a893194f5679a91ad038ec2425e0017cd7f.docx | 75b0fcdf663e5de8af93ec3fac6d2a893194f5679a91ad038ec2425e0017cd7f      | 474                                                                   | \n",
       "| 271                                                                   | 16171                                                                 | 483                                                                   | 0169600001917000007                                                   | NA                                                                    | replace_me                                                            | 1300836                                                               | 1300836                                                               | 1                                                                     | NA                                                                    | ⋯                                                                     | 1999                                                                  | 4470                                                                  | NA                                                                    | NA                                                                    | 2017                                                                  | NA                                                                    | NA                                                                    | 81aa951bdd9a218314b19f8f5c889d6aa82d90d7fbb63fadd9fb34c83a17feef.docx | 81aa951bdd9a218314b19f8f5c889d6aa82d90d7fbb63fadd9fb34c83a17feef      | 483                                                                   | \n",
       "| 279                                                                   | 17132                                                                 | 498                                                                   | 0324100005017000029                                                   | NA                                                                    | replace_me                                                            | 1432000                                                               | NA                                                                    | 1                                                                     | NA                                                                    | ⋯                                                                     | 1900                                                                  | 4600                                                                  | NA                                                                    | NA                                                                    | NA                                                                    | NA                                                                    | NA                                                                    | 5a79641518f9d3262182d24de68c446e4b955aca3507d67689776799c84810a4.docx | 5a79641518f9d3262182d24de68c446e4b955aca3507d67689776799c84810a4      | 498, 535                                                              | \n",
       "| 284                                                                   | 17791                                                                 | 507                                                                   | 0310200000317000137                                                   | NA                                                                    | replace_me                                                            | 12706666.67                                                           | 1588333.33375                                                         | 1                                                                     | NA                                                                    | ⋯                                                                     | NA                                                                    | NA                                                                    | NA                                                                    | NA                                                                    | NA                                                                    | NA                                                                    | NA                                                                    | ee2f794d39a9763c84ad39b587c948b1a95380a89e7143ea2ec9a2547ceb6f9b.doc  | ee2f794d39a9763c84ad39b587c948b1a95380a89e7143ea2ec9a2547ceb6f9b      | 507                                                                   | \n",
       "| 285                                                                   | 17967                                                                 | 508                                                                   | 0109100007717000007                                                   | NA                                                                    | replace_me                                                            | 954000                                                                | NA                                                                    | 1                                                                     | NA                                                                    | ⋯                                                                     | NA                                                                    | NA                                                                    | NA                                                                    | NA                                                                    | NA                                                                    | NA                                                                    | NA                                                                    | 05b13fce30d4365d94b92e5dd30bb2badba502001e2e201a71c2173c14308da3.doc  | 05b13fce30d4365d94b92e5dd30bb2badba502001e2e201a71c2173c14308da3      | 508                                                                   | \n",
       "| 295                                                                   | 19021                                                                 | 530                                                                   | 0373100017817000001                                                   | NA                                                                    | replace_me                                                            | 4e+06                                                                 | NA                                                                    | 1                                                                     | NA                                                                    | ⋯                                                                     | NA                                                                    | 4850                                                                  | 210                                                                   | NA                                                                    | NA                                                                    | NA                                                                    | NA                                                                    | d8d550e08faa4921f8acd0f99f112543bd961bb269ed0fddfa107d696a608186.docx | d8d550e08faa4921f8acd0f99f112543bd961bb269ed0fddfa107d696a608186      | 530                                                                   | \n",
       "| 333                                                                   | 23978                                                                 | 633                                                                   | 0158300030017000012                                                   | NA                                                                    | replace_me                                                            | 598900                                                                | 598900                                                                | 1                                                                     | NA                                                                    | ⋯                                                                     | NA                                                                    | NA                                                                    | NA                                                                    | NA                                                                    | NA                                                                    | NA                                                                    | NA                                                                    | 9817a31aed41a57e4e2ebe81a2dd9c5a2f47d06cb98b6bcfd59b860ec309dcd5.doc  | 9817a31aed41a57e4e2ebe81a2dd9c5a2f47d06cb98b6bcfd59b860ec309dcd5      | 633                                                                   | \n",
       "| 334                                                                   | 24033                                                                 | 634                                                                   | 0119300004317000006                                                   | NA                                                                    | replace_me                                                            | 698990                                                                | NA                                                                    | 1                                                                     | NA                                                                    | ⋯                                                                     | NA                                                                    | NA                                                                    | NA                                                                    | NA                                                                    | 2016                                                                  | NA                                                                    | NA                                                                    | e237a0a973c2c3c54779f045370c6a079713448c322d34d0823cde9051ae4d66.docx | e237a0a973c2c3c54779f045370c6a079713448c322d34d0823cde9051ae4d66      | 634                                                                   | \n",
       "| 337                                                                   | 24338                                                                 | 638                                                                   | 0109200002417000196                                                   | NA                                                                    | replace_me                                                            | 1697000                                                               | 1697000                                                               | 1                                                                     | NA                                                                    | ⋯                                                                     | NA                                                                    | 1210                                                                  | NA                                                                    | NA                                                                    | NA                                                                    | NA                                                                    | NA                                                                    | 0135a567824b22c28e119a286af5b1c86ed64e45563fe7ee8d17f9c54b2da2c0.docx | 0135a567824b22c28e119a286af5b1c86ed64e45563fe7ee8d17f9c54b2da2c0      | 638                                                                   | \n",
       "| 365                                                                   | 1129                                                                  | 684                                                                   | 0279100000217000082                                                   | NA                                                                    | replace_me                                                            | 977146.2                                                              | NA                                                                    | 1                                                                     | NA                                                                    | ⋯                                                                     | NA                                                                    | NA                                                                    | NA                                                                    | NA                                                                    | NA                                                                    | NA                                                                    | NA                                                                    | dcebc52ef46a5def89f955d7e3fcdf85c3211b9989bda659772a0751ecbf4349.docx | dcebc52ef46a5def89f955d7e3fcdf85c3211b9989bda659772a0751ecbf4349      | 684                                                                   | \n",
       "| ⋮ | ⋮ | ⋮ | ⋮ | ⋮ | ⋮ | ⋮ | ⋮ | ⋮ | ⋮ | ⋱ | ⋮ | ⋮ | ⋮ | ⋮ | ⋮ | ⋮ | ⋮ | ⋮ | ⋮ | ⋮ | \n",
       "| 994                                                                   | 22960                                                                 | 1944                                                                  | 0500400000317000082                                                   | NA                                                                    | replace_me                                                            | 20933074                                                              | NA                                                                    | 1                                                                     | NA                                                                    | ⋯                                                                     | 1598                                                                  | NA                                                                    | NA                                                                    | NA                                                                    | NA                                                                    | NA                                                                    | NA                                                                    | 0ec31fa36279bd839983f92882b4f388112d8cc9a8c15960edc281b062f701fd.doc  | 0ec31fa36279bd839983f92882b4f388112d8cc9a8c15960edc281b062f701fd      | 1944, 1978                                                            | \n",
       "| 999                                                                   | 23200                                                                 | 1954                                                                  | 0258100000317000220                                                   | NA                                                                    | replace_me                                                            | 16943447.5                                                            | NA                                                                    | 1                                                                     | NA                                                                    | ⋯                                                                     | NA                                                                    | NA                                                                    | NA                                                                    | NA                                                                    | NA                                                                    | NA                                                                    | NA                                                                    | ccd05476c245fa8b93276793b729996ba2dab2b2fe5a6bb8b46048729225bdac.docx | ccd05476c245fa8b93276793b729996ba2dab2b2fe5a6bb8b46048729225bdac      | 1954                                                                  | \n",
       "| 1004                                                                  | 23954                                                                 | 1977                                                                  | 0535100000217000032                                                   | NA                                                                    | replace_me                                                            | 1447500                                                               | NA                                                                    | 1                                                                     | NA                                                                    | ⋯                                                                     | NA                                                                    | NA                                                                    | NA                                                                    | NA                                                                    | NA                                                                    | NA                                                                    | NA                                                                    | 64c132ad5043cfe027f28eb3110a604038ff9bb64dd3c27d184b0afab578f299.docx | 64c132ad5043cfe027f28eb3110a604038ff9bb64dd3c27d184b0afab578f299      | 1977                                                                  | \n",
       "| 1025                                                                  | 712                                                                   | 2036                                                                  | 0373100040817000010                                                   | NA                                                                    | replace_me                                                            | 2500000                                                               | NA                                                                    | 1                                                                     | NA                                                                    | ⋯                                                                     | NA                                                                    | NA                                                                    | NA                                                                    | NA                                                                    | 2016                                                                  | NA                                                                    | NA                                                                    | 97bcd378e2717979b350bde854c9ba5e651525c737691af3a0d89da514e2cd5a.docx | 97bcd378e2717979b350bde854c9ba5e651525c737691af3a0d89da514e2cd5a      | 2036                                                                  | \n",
       "| 1033                                                                  | 1018                                                                  | 2051                                                                  | 0105300004717000011                                                   | NA                                                                    | replace_me                                                            | 1350600                                                               | NA                                                                    | 1                                                                     | NA                                                                    | ⋯                                                                     | NA                                                                    | NA                                                                    | NA                                                                    | NA                                                                    | NA                                                                    | NA                                                                    | NA                                                                    | dfa0035e993edc12fc6a1af5ad17ef6bd6cb007ec2fd71c36598618d6a1ddbc4.doc  | dfa0035e993edc12fc6a1af5ad17ef6bd6cb007ec2fd71c36598618d6a1ddbc4      | 2051                                                                  | \n",
       "| 1048                                                                  | 2028                                                                  | 2073                                                                  | 0361200015017002427                                                   | NA                                                                    | replace_me                                                            | 3100000                                                               | 3100000                                                               | 1                                                                     | NA                                                                    | ⋯                                                                     | NA                                                                    | 2059                                                                  | NA                                                                    | NA                                                                    | NA                                                                    | NA                                                                    | NA                                                                    | ce6ca102a27a1391625271bb2d3c46912cc73c286f17a470ca1d76b8e07b25f1.docx | ce6ca102a27a1391625271bb2d3c46912cc73c286f17a470ca1d76b8e07b25f1      | 2073, 2102, 2203                                                      | \n",
       "| 1057                                                                  | 2312                                                                  | 2084                                                                  | 0135300007617000063                                                   | NA                                                                    | replace_me                                                            | 759600                                                                | 759600                                                                | 1                                                                     | NA                                                                    | ⋯                                                                     | NA                                                                    | NA                                                                    | NA                                                                    | NA                                                                    | NA                                                                    | NA                                                                    | NA                                                                    | ee2debbb346d62222a56a66daf1b23aa4b6c26c9f9fdb16abf4f6f743d82dfd4.doc  | ee2debbb346d62222a56a66daf1b23aa4b6c26c9f9fdb16abf4f6f743d82dfd4      | 2084                                                                  | \n",
       "| 1061                                                                  | 2604                                                                  | 2094                                                                  | 0320300111617000064                                                   | NA                                                                    | replace_me                                                            | 2253000                                                               | 1126500                                                               | 1                                                                     | NA                                                                    | ⋯                                                                     | NA                                                                    | NA                                                                    | NA                                                                    | NA                                                                    | NA                                                                    | NA                                                                    | NA                                                                    | c0e189d242de702bf4514292811523361188411d907d0b6ab36f9ba8daa91c51.docx | c0e189d242de702bf4514292811523361188411d907d0b6ab36f9ba8daa91c51      | 2094, 2141                                                            | \n",
       "| 1087                                                                  | 3933                                                                  | 2135                                                                  | 0133200001717001354                                                   | NA                                                                    | replace_me                                                            | 6e+05                                                                 | 6e+05                                                                 | 1                                                                     | NA                                                                    | ⋯                                                                     | NA                                                                    | NA                                                                    | NA                                                                    | NA                                                                    | NA                                                                    | NA                                                                    | NA                                                                    | aa5554cdac36309c780a08952d504f6b522d1348c78b95ff131901de876d6f36.doc  | aa5554cdac36309c780a08952d504f6b522d1348c78b95ff131901de876d6f36      | 2135                                                                  | \n",
       "| 1088                                                                  | 3941                                                                  | 2136                                                                  | 0875200001017000003                                                   | NA                                                                    | replace_me                                                            | 1529700                                                               | NA                                                                    | 1                                                                     | NA                                                                    | ⋯                                                                     | 1690                                                                  | NA                                                                    | NA                                                                    | NA                                                                    | NA                                                                    | NA                                                                    | NA                                                                    | 586f77b48969cb4467578d1c73b326fe4972e0a32cf0d34f03f84642b9561da4.docx | 586f77b48969cb4467578d1c73b326fe4972e0a32cf0d34f03f84642b9561da4      | 2136, 2170, 2254, 2424, 2489                                          | \n",
       "| 1098                                                                  | 4513                                                                  | 2152                                                                  | 0150100006017000033                                                   | NA                                                                    | replace_me                                                            | 2000266.67                                                            | NA                                                                    | 1                                                                     | NA                                                                    | ⋯                                                                     | NA                                                                    | NA                                                                    | NA                                                                    | NA                                                                    | NA                                                                    | NA                                                                    | NA                                                                    | 3be43eeeaf2b9f727dfebe832113e19554c339745d068236bca251c8d504e970.docx | 3be43eeeaf2b9f727dfebe832113e19554c339745d068236bca251c8d504e970      | 2152                                                                  | \n",
       "| 1108                                                                  | 4846                                                                  | 2166                                                                  | 0324100005017000056                                                   | NA                                                                    | replace_me                                                            | 1455760                                                               | NA                                                                    | 1                                                                     | NA                                                                    | ⋯                                                                     | 1590                                                                  | 4040                                                                  | NA                                                                    | NA                                                                    | NA                                                                    | NA                                                                    | NA                                                                    | 51912649146dc8d5b4c123eeb23bebcb8d49bf642e4f1b5dde4f97dc267ebf63.docx | 51912649146dc8d5b4c123eeb23bebcb8d49bf642e4f1b5dde4f97dc267ebf63      | 2166                                                                  | \n",
       "| 1116                                                                  | 5406                                                                  | 2184                                                                  | 0119300040017000072                                                   | NA                                                                    | replace_me                                                            | 6e+05                                                                 | 6e+05                                                                 | 1                                                                     | NA                                                                    | ⋯                                                                     | NA                                                                    | NA                                                                    | NA                                                                    | NA                                                                    | NA                                                                    | NA                                                                    | NA                                                                    | 8bf99845471deeb7c2c258c2926eda7048243399dc2a5562adcbc1b4a763ea48.docx | 8bf99845471deeb7c2c258c2926eda7048243399dc2a5562adcbc1b4a763ea48      | 2184                                                                  | \n",
       "| 1122                                                                  | 5574                                                                  | 2190                                                                  | 0324100005017000057                                                   | NA                                                                    | replace_me                                                            | 1342533.33                                                            | NA                                                                    | 1                                                                     | NA                                                                    | ⋯                                                                     | 1596                                                                  | 4470                                                                  | NA                                                                    | NA                                                                    | NA                                                                    | NA                                                                    | NA                                                                    | d9720dd03ef341cec7fe19d8515104fc95a84efc58d56416a2cfa150f80ed9ac.docx | d9720dd03ef341cec7fe19d8515104fc95a84efc58d56416a2cfa150f80ed9ac      | 2190                                                                  | \n",
       "| 1125                                                                  | 5870                                                                  | 2199                                                                  | 0865200000317000996                                                   | NA                                                                    | replace_me                                                            | 1499966.67                                                            | NA                                                                    | 1                                                                     | NA                                                                    | ⋯                                                                     | 2000                                                                  | 4480                                                                  | NA                                                                    | NA                                                                    | NA                                                                    | NA                                                                    | NA                                                                    | 87ea367dae867952266ead6e99d72a3884c260150bea9465ec5fa393265375b6.docx | 87ea367dae867952266ead6e99d72a3884c260150bea9465ec5fa393265375b6      | 2199                                                                  | \n",
       "| 1136                                                                  | 6368                                                                  | 2218                                                                  | 0848500002617000016                                                   | NA                                                                    | replace_me                                                            | 5486000                                                               | NA                                                                    | 1                                                                     | NA                                                                    | ⋯                                                                     | 1598                                                                  | NA                                                                    | NA                                                                    | NA                                                                    | NA                                                                    | NA                                                                    | NA                                                                    | 6678539a1a0f7967a43cfa16270ea87de14eed58b69376b66a313c4d1a6919ba.docx | 6678539a1a0f7967a43cfa16270ea87de14eed58b69376b66a313c4d1a6919ba      | 2218, 2344                                                            | \n",
       "| 1137                                                                  | 6432                                                                  | 2220                                                                  | 0817200000317003697                                                   | NA                                                                    | replace_me                                                            | 1745700                                                               | 581900                                                                | 1                                                                     | NA                                                                    | ⋯                                                                     | NA                                                                    | NA                                                                    | NA                                                                    | 1466                                                                  | 2016                                                                  | NA                                                                    | NA                                                                    | 40a9932750bb2c7e3bb5c6e067f46ab30d872683bd3044c9a6b1db8df51b186a.doc  | 40a9932750bb2c7e3bb5c6e067f46ab30d872683bd3044c9a6b1db8df51b186a      | 2220, 2381                                                            | \n",
       "| 1138                                                                  | 6475                                                                  | 2221                                                                  | 0136300033517000047                                                   | NA                                                                    | replace_me                                                            | 924990                                                                | 924990                                                                | 1                                                                     | NA                                                                    | ⋯                                                                     | NA                                                                    | NA                                                                    | NA                                                                    | NA                                                                    | NA                                                                    | NA                                                                    | NA                                                                    | 2189230654dd224efa24c418033d4bff4342879e4800666005ba26e659e2f316.doc  | 2189230654dd224efa24c418033d4bff4342879e4800666005ba26e659e2f316      | 2221                                                                  | \n",
       "| 1167                                                                  | 8153                                                                  | 2275                                                                  | 0105200000217000642                                                   | NA                                                                    | replace_me                                                            | 7e+05                                                                 | 7e+05                                                                 | 1                                                                     | NA                                                                    | ⋯                                                                     | NA                                                                    | NA                                                                    | NA                                                                    | NA                                                                    | NA                                                                    | NA                                                                    | NA                                                                    | f666b014526fe8e5be0886bf339eab043f7a8c94a2f2ad3c6911312d2b3b8357.docx | f666b014526fe8e5be0886bf339eab043f7a8c94a2f2ad3c6911312d2b3b8357      | 2275                                                                  | \n",
       "| 1173                                                                  | 8358                                                                  | 2282                                                                  | 0858300002817000002                                                   | NA                                                                    | replace_me                                                            | 598900                                                                | NA                                                                    | 1                                                                     | NA                                                                    | ⋯                                                                     | NA                                                                    | NA                                                                    | 175                                                                   | 1670                                                                  | NA                                                                    | NA                                                                    | NA                                                                    | f238d77707ad24f7681dc6d21e872691e75d3aa675d1efb75cfe2dd1af8a8b0e.docx | f238d77707ad24f7681dc6d21e872691e75d3aa675d1efb75cfe2dd1af8a8b0e      | 2282                                                                  | \n",
       "| 1180                                                                  | 8826                                                                  | 2298                                                                  | 0142200001317006286                                                   | NA                                                                    | replace_me                                                            | 24173800                                                              | 389900                                                                | 1                                                                     | NA                                                                    | ⋯                                                                     | 1500                                                                  | 4260                                                                  | NA                                                                    | NA                                                                    | 2017                                                                  | NA                                                                    | NA                                                                    | 47443915abb1803252bfd0f6de754ab172ddf1b5b6b29539f6f4008bba7447a0.docx | 47443915abb1803252bfd0f6de754ab172ddf1b5b6b29539f6f4008bba7447a0      | 2298, 2306                                                            | \n",
       "| 1192                                                                  | 9617                                                                  | 2322                                                                  | 0365300043817000004                                                   | NA                                                                    | replace_me                                                            | 570900                                                                | NA                                                                    | 1                                                                     | NA                                                                    | ⋯                                                                     | NA                                                                    | NA                                                                    | NA                                                                    | NA                                                                    | NA                                                                    | NA                                                                    | NA                                                                    | 38d696d9edc947d410f93b7c49734fde296c41709102f5cc147137d05b07e5f6.doc  | 38d696d9edc947d410f93b7c49734fde296c41709102f5cc147137d05b07e5f6      | 2322                                                                  | \n",
       "| 1193                                                                  | 9935                                                                  | 2328                                                                  | 0188300006517000075                                                   | NA                                                                    | replace_me                                                            | 5700000                                                               | NA                                                                    | 1                                                                     | NA                                                                    | ⋯                                                                     | NA                                                                    | NA                                                                    | NA                                                                    | NA                                                                    | NA                                                                    | NA                                                                    | NA                                                                    | e16947ebbc9ee95a6fd7cbaaf21f22f990e0e6d529790ef290b38709124a7ba7.docx | e16947ebbc9ee95a6fd7cbaaf21f22f990e0e6d529790ef290b38709124a7ba7      | 2328                                                                  | \n",
       "| 1202                                                                  | 10718                                                                 | 2348                                                                  | 0120100010117000174                                                   | NA                                                                    | replace_me                                                            | 2994330                                                               | NA                                                                    | 1                                                                     | NA                                                                    | ⋯                                                                     | NA                                                                    | NA                                                                    | NA                                                                    | NA                                                                    | NA                                                                    | NA                                                                    | NA                                                                    | 6eb30473c2fc56b5dc9999445106c68b94cfb939b0cca59be8b75196bf14054e.docx | 6eb30473c2fc56b5dc9999445106c68b94cfb939b0cca59be8b75196bf14054e      | 2348                                                                  | \n",
       "| 1213                                                                  | 11293                                                                 | 2369                                                                  | 0103200008417003264                                                   | NA                                                                    | replace_me                                                            | 1992666.68                                                            | 498166.67                                                             | 1                                                                     | NA                                                                    | ⋯                                                                     | 1420                                                                  | 3740                                                                  | 142                                                                   | NA                                                                    | NA                                                                    | NA                                                                    | NA                                                                    | f3bbbcedacce0237bed60ad0c8ace84db42ecae22c2a73f7037f5ebe7799b655.docx | f3bbbcedacce0237bed60ad0c8ace84db42ecae22c2a73f7037f5ebe7799b655      | 2369                                                                  | \n",
       "| 1233                                                                  | 13041                                                                 | 2425                                                                  | 0554600003217000003                                                   | NA                                                                    | replace_me                                                            | 678933                                                                | NA                                                                    | 1                                                                     | NA                                                                    | ⋯                                                                     | 1510                                                                  | NA                                                                    | NA                                                                    | 1497                                                                  | 2017                                                                  | NA                                                                    | NA                                                                    | 4298883512f0a355ea14bbf95fb1287ac6255abba26ee08d0fc6aea33b8dcb13.docx | 4298883512f0a355ea14bbf95fb1287ac6255abba26ee08d0fc6aea33b8dcb13      | 2425                                                                  | \n",
       "| 1234                                                                  | 13099                                                                 | 2429                                                                  | 0817200000317003740                                                   | NA                                                                    | replace_me                                                            | 1163800                                                               | 581900                                                                | 1                                                                     | NA                                                                    | ⋯                                                                     | NA                                                                    | NA                                                                    | NA                                                                    | 1466                                                                  | 2016                                                                  | NA                                                                    | NA                                                                    | cecb4947939d2b935a2e09902ed87fcf5758de204f82c6aaa3c63029a410c2c9.doc  | cecb4947939d2b935a2e09902ed87fcf5758de204f82c6aaa3c63029a410c2c9      | 2429                                                                  | \n",
       "| 1236                                                                  | 13200                                                                 | 2435                                                                  | 0194200000517003346                                                   | NA                                                                    | replace_me                                                            | 2810000                                                               | 2810000                                                               | 1                                                                     | NA                                                                    | ⋯                                                                     | 1591                                                                  | NA                                                                    | NA                                                                    | NA                                                                    | NA                                                                    | NA                                                                    | NA                                                                    | 6b7c5daa1a02d457f09e439dfab2c23ac3a0ae0126110553c139169daf0e1c2b.docx | 6b7c5daa1a02d457f09e439dfab2c23ac3a0ae0126110553c139169daf0e1c2b      | 2435                                                                  | \n",
       "| 1244                                                                  | 13447                                                                 | 2447                                                                  | 0165300003717000036                                                   | NA                                                                    | replace_me                                                            | 612300                                                                | 612300                                                                | 1                                                                     | NA                                                                    | ⋯                                                                     | NA                                                                    | NA                                                                    | NA                                                                    | NA                                                                    | NA                                                                    | NA                                                                    | NA                                                                    | 0d6881497b4ad12c76c36332e1e83a1b1167677049e3e736d162de8dad60246b.doc  | 0d6881497b4ad12c76c36332e1e83a1b1167677049e3e736d162de8dad60246b      | 2447                                                                  | \n",
       "| 1247                                                                  | 13687                                                                 | 2456                                                                  | 0855200000517000959                                                   | NA                                                                    | replace_me                                                            | 901000                                                                | NA                                                                    | 1                                                                     | NA                                                                    | ⋯                                                                     | NA                                                                    | NA                                                                    | NA                                                                    | NA                                                                    | NA                                                                    | NA                                                                    | NA                                                                    | 1073e12e8875473f7f53cc3002f6df9def98e3bad09d272d148b266c243d8b59.docx | 1073e12e8875473f7f53cc3002f6df9def98e3bad09d272d148b266c243d8b59      | 2456                                                                  | \n",
       "\n",
       "\n"
      ],
      "text/plain": [
       "    X__1 n     index_name purchase_number     done completed_car_purchase\n",
       "1   25   12402 46         0350300003216000056 NA   replace_me            \n",
       "2   29   15322 56         0130300032716000071 NA   replace_me            \n",
       "3   50   658   91         0848300051717000020 NA   replace_me            \n",
       "4   54   2264  96         0164300035917000001 NA   replace_me            \n",
       "5   57   3939  102        0124200000617000051 NA   replace_me            \n",
       "6   77   11824 137        0337100017717000096 NA   replace_me            \n",
       "7   82   13869 147        0154300024517000001 NA   replace_me            \n",
       "8   84   14261 150        0139300032516003244 NA   replace_me            \n",
       "9   92   18489 172        0552600008117000001 NA   replace_me            \n",
       "10  106  103   205        0106200001317000020 NA   replace_me            \n",
       "11  114  456   214        0169300011917000012 NA   replace_me            \n",
       "12  137  2470  245        0116300021817000036 NA   replace_me            \n",
       "13  147  3131  257        0354100005317000006 NA   replace_me            \n",
       "14  189  6669  322        0116300005217000023 NA   replace_me            \n",
       "15  219  9569  380        0820200000617000003 NA   replace_me            \n",
       "16  230  10504 399        0142300038317000032 NA   replace_me            \n",
       "17  239  12464 424        0369300069917000006 NA   replace_me            \n",
       "18  250  13537 439        0169300011917000016 NA   replace_me            \n",
       "19  262  15175 462        0130300032717000001 NA   replace_me            \n",
       "20  265  15341 466        0201200000117000004 NA   replace_me            \n",
       "21  267  15769 474        0172100008517000012 NA   replace_me            \n",
       "22  271  16171 483        0169600001917000007 NA   replace_me            \n",
       "23  279  17132 498        0324100005017000029 NA   replace_me            \n",
       "24  284  17791 507        0310200000317000137 NA   replace_me            \n",
       "25  285  17967 508        0109100007717000007 NA   replace_me            \n",
       "26  295  19021 530        0373100017817000001 NA   replace_me            \n",
       "27  333  23978 633        0158300030017000012 NA   replace_me            \n",
       "28  334  24033 634        0119300004317000006 NA   replace_me            \n",
       "29  337  24338 638        0109200002417000196 NA   replace_me            \n",
       "30  365  1129  684        0279100000217000082 NA   replace_me            \n",
       "⋮   ⋮    ⋮     ⋮          ⋮                   ⋮    ⋮                     \n",
       "100 994  22960 1944       0500400000317000082 NA   replace_me            \n",
       "101 999  23200 1954       0258100000317000220 NA   replace_me            \n",
       "102 1004 23954 1977       0535100000217000032 NA   replace_me            \n",
       "103 1025 712   2036       0373100040817000010 NA   replace_me            \n",
       "104 1033 1018  2051       0105300004717000011 NA   replace_me            \n",
       "105 1048 2028  2073       0361200015017002427 NA   replace_me            \n",
       "106 1057 2312  2084       0135300007617000063 NA   replace_me            \n",
       "107 1061 2604  2094       0320300111617000064 NA   replace_me            \n",
       "108 1087 3933  2135       0133200001717001354 NA   replace_me            \n",
       "109 1088 3941  2136       0875200001017000003 NA   replace_me            \n",
       "110 1098 4513  2152       0150100006017000033 NA   replace_me            \n",
       "111 1108 4846  2166       0324100005017000056 NA   replace_me            \n",
       "112 1116 5406  2184       0119300040017000072 NA   replace_me            \n",
       "113 1122 5574  2190       0324100005017000057 NA   replace_me            \n",
       "114 1125 5870  2199       0865200000317000996 NA   replace_me            \n",
       "115 1136 6368  2218       0848500002617000016 NA   replace_me            \n",
       "116 1137 6432  2220       0817200000317003697 NA   replace_me            \n",
       "117 1138 6475  2221       0136300033517000047 NA   replace_me            \n",
       "118 1167 8153  2275       0105200000217000642 NA   replace_me            \n",
       "119 1173 8358  2282       0858300002817000002 NA   replace_me            \n",
       "120 1180 8826  2298       0142200001317006286 NA   replace_me            \n",
       "121 1192 9617  2322       0365300043817000004 NA   replace_me            \n",
       "122 1193 9935  2328       0188300006517000075 NA   replace_me            \n",
       "123 1202 10718 2348       0120100010117000174 NA   replace_me            \n",
       "124 1213 11293 2369       0103200008417003264 NA   replace_me            \n",
       "125 1233 13041 2425       0554600003217000003 NA   replace_me            \n",
       "126 1234 13099 2429       0817200000317003740 NA   replace_me            \n",
       "127 1236 13200 2435       0194200000517003346 NA   replace_me            \n",
       "128 1244 13447 2447       0165300003717000036 NA   replace_me            \n",
       "129 1247 13687 2456       0855200000517000959 NA   replace_me            \n",
       "    price       price_per_one auction real_price ⋯ объем_двигателя_куб_см длина\n",
       "1   986285.71   986285.71     1       NA         ⋯ NA                     NA   \n",
       "2   632900      632900        1       NA         ⋯ NA                     4470 \n",
       "3   947200      947200        1       NA         ⋯ 1500                   5475 \n",
       "4   452600      NA            1       NA         ⋯ 1596                   NA   \n",
       "5   7e+06       1750000       1       NA         ⋯ NA                     4605 \n",
       "6   691372.75   NA            1       NA         ⋯ NA                     4470 \n",
       "7   435600      NA            1       NA         ⋯ 1596                   NA   \n",
       "8   639990      639990        1       NA         ⋯ NA                     1940 \n",
       "9   592000      NA            1       NA         ⋯ NA                     NA   \n",
       "10  595000      NA            1       NA         ⋯ 1.9                    4056 \n",
       "11  679993.33   679993.33     1       NA         ⋯ 1598                   NA   \n",
       "12  9e+05       9e+05         1       NA         ⋯ NA                     NA   \n",
       "13  700220      NA            1       NA         ⋯ NA                     NA   \n",
       "14  850000      850000        1       NA         ⋯ NA                     NA   \n",
       "15  905800      NA            1       NA         ⋯ NA                     NA   \n",
       "16  647090      647090        1       NA         ⋯ NA                     4048 \n",
       "17  1499000     1499000       1       NA         ⋯ NA                     NA   \n",
       "18  679993.33   679993.33     1       NA         ⋯ 1598                   NA   \n",
       "19  661064      661064        1       NA         ⋯ NA                     4470 \n",
       "20  1437900     NA            1       NA         ⋯ 1596                   4250 \n",
       "21  1500000     NA            1       NA         ⋯ NA                     NA   \n",
       "22  1300836     1300836       1       NA         ⋯ 1999                   4470 \n",
       "23  1432000     NA            1       NA         ⋯ 1900                   4600 \n",
       "24  12706666.67 1588333.33375 1       NA         ⋯ NA                     NA   \n",
       "25  954000      NA            1       NA         ⋯ NA                     NA   \n",
       "26  4e+06       NA            1       NA         ⋯ NA                     4850 \n",
       "27  598900      598900        1       NA         ⋯ NA                     NA   \n",
       "28  698990      NA            1       NA         ⋯ NA                     NA   \n",
       "29  1697000     1697000       1       NA         ⋯ NA                     1210 \n",
       "30  977146.2    NA            1       NA         ⋯ NA                     NA   \n",
       "⋮   ⋮           ⋮             ⋮       ⋮          ⋱ ⋮                      ⋮    \n",
       "100 20933074    NA            1       NA         ⋯ 1598                   NA   \n",
       "101 16943447.5  NA            1       NA         ⋯ NA                     NA   \n",
       "102 1447500     NA            1       NA         ⋯ NA                     NA   \n",
       "103 2500000     NA            1       NA         ⋯ NA                     NA   \n",
       "104 1350600     NA            1       NA         ⋯ NA                     NA   \n",
       "105 3100000     3100000       1       NA         ⋯ NA                     2059 \n",
       "106 759600      759600        1       NA         ⋯ NA                     NA   \n",
       "107 2253000     1126500       1       NA         ⋯ NA                     NA   \n",
       "108 6e+05       6e+05         1       NA         ⋯ NA                     NA   \n",
       "109 1529700     NA            1       NA         ⋯ 1690                   NA   \n",
       "110 2000266.67  NA            1       NA         ⋯ NA                     NA   \n",
       "111 1455760     NA            1       NA         ⋯ 1590                   4040 \n",
       "112 6e+05       6e+05         1       NA         ⋯ NA                     NA   \n",
       "113 1342533.33  NA            1       NA         ⋯ 1596                   4470 \n",
       "114 1499966.67  NA            1       NA         ⋯ 2000                   4480 \n",
       "115 5486000     NA            1       NA         ⋯ 1598                   NA   \n",
       "116 1745700     581900        1       NA         ⋯ NA                     NA   \n",
       "117 924990      924990        1       NA         ⋯ NA                     NA   \n",
       "118 7e+05       7e+05         1       NA         ⋯ NA                     NA   \n",
       "119 598900      NA            1       NA         ⋯ NA                     NA   \n",
       "120 24173800    389900        1       NA         ⋯ 1500                   4260 \n",
       "121 570900      NA            1       NA         ⋯ NA                     NA   \n",
       "122 5700000     NA            1       NA         ⋯ NA                     NA   \n",
       "123 2994330     NA            1       NA         ⋯ NA                     NA   \n",
       "124 1992666.68  498166.67     1       NA         ⋯ 1420                   3740 \n",
       "125 678933      NA            1       NA         ⋯ 1510                   NA   \n",
       "126 1163800     581900        1       NA         ⋯ NA                     NA   \n",
       "127 2810000     2810000       1       NA         ⋯ 1591                   NA   \n",
       "128 612300      612300        1       NA         ⋯ NA                     NA   \n",
       "129 901000      NA            1       NA         ⋯ NA                     NA   \n",
       "    максимальная_скорость масса_авто_снаряженная год_выпуска мощность_л_с\n",
       "1   NA                    NA                     NA          NA          \n",
       "2   NA                    NA                     NA          NA          \n",
       "3   NA                    NA                     NA          NA          \n",
       "4   NA                    1560                   NA          NA          \n",
       "5   210                   1610                   NA          NA          \n",
       "6   NA                    1260                   NA          NA          \n",
       "7   NA                    1560                   NA          NA          \n",
       "8   120                   NA                     NA          NA          \n",
       "9   NA                    NA                     NA          NA          \n",
       "10  NA                    NA                     NA          NA          \n",
       "11  NA                    NA                     NA          NA          \n",
       "12  NA                    NA                     NA          NA          \n",
       "13  NA                    NA                     NA          NA          \n",
       "14  NA                    NA                     NA          NA          \n",
       "15  NA                    NA                     2016        NA          \n",
       "16  NA                    NA                     NA          NA          \n",
       "17  NA                    NA                     NA          NA          \n",
       "18  NA                    NA                     NA          NA          \n",
       "19  NA                    NA                     NA          NA          \n",
       "20  NA                    NA                     2016        NA          \n",
       "21  NA                    NA                     NA          NA          \n",
       "22  NA                    NA                     2017        NA          \n",
       "23  NA                    NA                     NA          NA          \n",
       "24  NA                    NA                     NA          NA          \n",
       "25  NA                    NA                     NA          NA          \n",
       "26  210                   NA                     NA          NA          \n",
       "27  NA                    NA                     NA          NA          \n",
       "28  NA                    NA                     2016        NA          \n",
       "29  NA                    NA                     NA          NA          \n",
       "30  NA                    NA                     NA          NA          \n",
       "⋮   ⋮                     ⋮                      ⋮           ⋮           \n",
       "100 NA                    NA                     NA          NA          \n",
       "101 NA                    NA                     NA          NA          \n",
       "102 NA                    NA                     NA          NA          \n",
       "103 NA                    NA                     2016        NA          \n",
       "104 NA                    NA                     NA          NA          \n",
       "105 NA                    NA                     NA          NA          \n",
       "106 NA                    NA                     NA          NA          \n",
       "107 NA                    NA                     NA          NA          \n",
       "108 NA                    NA                     NA          NA          \n",
       "109 NA                    NA                     NA          NA          \n",
       "110 NA                    NA                     NA          NA          \n",
       "111 NA                    NA                     NA          NA          \n",
       "112 NA                    NA                     NA          NA          \n",
       "113 NA                    NA                     NA          NA          \n",
       "114 NA                    NA                     NA          NA          \n",
       "115 NA                    NA                     NA          NA          \n",
       "116 NA                    1466                   2016        NA          \n",
       "117 NA                    NA                     NA          NA          \n",
       "118 NA                    NA                     NA          NA          \n",
       "119 175                   1670                   NA          NA          \n",
       "120 NA                    NA                     2017        NA          \n",
       "121 NA                    NA                     NA          NA          \n",
       "122 NA                    NA                     NA          NA          \n",
       "123 NA                    NA                     NA          NA          \n",
       "124 142                   NA                     NA          NA          \n",
       "125 NA                    1497                   2017        NA          \n",
       "126 NA                    1466                   2016        NA          \n",
       "127 NA                    NA                     NA          NA          \n",
       "128 NA                    NA                     NA          NA          \n",
       "129 NA                    NA                     NA          NA          \n",
       "    потребление_топлива_городской_цикл_л_100км\n",
       "1   NA                                        \n",
       "2   NA                                        \n",
       "3   NA                                        \n",
       "4   NA                                        \n",
       "5   NA                                        \n",
       "6   NA                                        \n",
       "7   NA                                        \n",
       "8   NA                                        \n",
       "9   NA                                        \n",
       "10  NA                                        \n",
       "11  NA                                        \n",
       "12  NA                                        \n",
       "13  NA                                        \n",
       "14  NA                                        \n",
       "15  NA                                        \n",
       "16  NA                                        \n",
       "17  NA                                        \n",
       "18  NA                                        \n",
       "19  NA                                        \n",
       "20  NA                                        \n",
       "21  NA                                        \n",
       "22  NA                                        \n",
       "23  NA                                        \n",
       "24  NA                                        \n",
       "25  NA                                        \n",
       "26  NA                                        \n",
       "27  NA                                        \n",
       "28  NA                                        \n",
       "29  NA                                        \n",
       "30  NA                                        \n",
       "⋮   ⋮                                         \n",
       "100 NA                                        \n",
       "101 NA                                        \n",
       "102 NA                                        \n",
       "103 NA                                        \n",
       "104 NA                                        \n",
       "105 NA                                        \n",
       "106 NA                                        \n",
       "107 NA                                        \n",
       "108 NA                                        \n",
       "109 NA                                        \n",
       "110 NA                                        \n",
       "111 NA                                        \n",
       "112 NA                                        \n",
       "113 NA                                        \n",
       "114 NA                                        \n",
       "115 NA                                        \n",
       "116 NA                                        \n",
       "117 NA                                        \n",
       "118 NA                                        \n",
       "119 NA                                        \n",
       "120 NA                                        \n",
       "121 NA                                        \n",
       "122 NA                                        \n",
       "123 NA                                        \n",
       "124 NA                                        \n",
       "125 NA                                        \n",
       "126 NA                                        \n",
       "127 NA                                        \n",
       "128 NA                                        \n",
       "129 NA                                        \n",
       "    filename                                                             \n",
       "1   68ddca582629a5f2346dafe0333a0f14f92d03ffbf6ada271f00c3dd4cfa7cc4.docx\n",
       "2   3a12297e624f5aa526082ff616ced87ab59ba35a70f6de2b483caa1990560ea8.doc \n",
       "3   bda08d2e1d45551db7709baaa0bc7129c2afd5af735929a822a4585fc1473ba3.doc \n",
       "4   b668b28c1ead6dfa8921be41a14d74653bc4aec727bdd6fa76a3d0e4365d872c.doc \n",
       "5   1e18bf866e47818408b9ae1a7b956bba1d29794d2bc51dac58de059089a618bf.docx\n",
       "6   b843939d9f86e0967ac3acbee7fb6c1d5cb0f0269187d9c824dda8f111f50c5c.docx\n",
       "7   3a428bef9970d315445c85c47f39fb38d4aac024eaf75bbbe9a02e83cbf0c2f6.doc \n",
       "8   062c75c22ad86b1bc28cef6f254e0fc61b778c60572f692620fa9deaae5d3920.docx\n",
       "9   b0fbc3d4b637ee1ce3db64be6a6a1eba2cd69528a7726d97a0620b98cbd6689d.docx\n",
       "10  a3212fe3008f8585adcfbe33fd37f3f9119b9490cab00e4ba51d60f184f26401.docx\n",
       "11  b6a3446b5b60ffe250e961ff0182acd9acb6d2a0b23188da4d323ec5d71f0384.doc \n",
       "12  64be649de2940b6a79a111ef99107afbf7701478d076efa93677253ed502372c.doc \n",
       "13  a547835e2a85007122e2b358f40ba4a28451c3cf73edfdd7c121e33a892942ac.docx\n",
       "14  4cdbdb3a35cc675b4a953a21e78bf6b4d9fa17c52008eaa1744ba1db6ce66a45.doc \n",
       "15  362530dce782570795071c443cff85b5dc68fd92c852d02f6c913bf0d3f0c0f2.docx\n",
       "16  780012b41774da8b8bc12f7f394b74051cc79f4a36ca1ccbe4bc0f240cd91d8b.doc \n",
       "17  55fde30c02ad1e70d79e25ddeada51ada719607e2321b8f5d80269df82bbf11a.doc \n",
       "18  d21a24041e9c9d7c46197c61bd95387a562f3e644f1adf0e6cdab1a65517788f.doc \n",
       "19  bb3d0f4da7747305f27bde6af816e5b8330ddb13a0aa9176849244d4c4351a20.doc \n",
       "20  8e39be2621d8d098a1ebd49b887bb5f69a1dd6d4c63b19cdf9aa9f060ead9aa6.docx\n",
       "21  75b0fcdf663e5de8af93ec3fac6d2a893194f5679a91ad038ec2425e0017cd7f.docx\n",
       "22  81aa951bdd9a218314b19f8f5c889d6aa82d90d7fbb63fadd9fb34c83a17feef.docx\n",
       "23  5a79641518f9d3262182d24de68c446e4b955aca3507d67689776799c84810a4.docx\n",
       "24  ee2f794d39a9763c84ad39b587c948b1a95380a89e7143ea2ec9a2547ceb6f9b.doc \n",
       "25  05b13fce30d4365d94b92e5dd30bb2badba502001e2e201a71c2173c14308da3.doc \n",
       "26  d8d550e08faa4921f8acd0f99f112543bd961bb269ed0fddfa107d696a608186.docx\n",
       "27  9817a31aed41a57e4e2ebe81a2dd9c5a2f47d06cb98b6bcfd59b860ec309dcd5.doc \n",
       "28  e237a0a973c2c3c54779f045370c6a079713448c322d34d0823cde9051ae4d66.docx\n",
       "29  0135a567824b22c28e119a286af5b1c86ed64e45563fe7ee8d17f9c54b2da2c0.docx\n",
       "30  dcebc52ef46a5def89f955d7e3fcdf85c3211b9989bda659772a0751ecbf4349.docx\n",
       "⋮   ⋮                                                                    \n",
       "100 0ec31fa36279bd839983f92882b4f388112d8cc9a8c15960edc281b062f701fd.doc \n",
       "101 ccd05476c245fa8b93276793b729996ba2dab2b2fe5a6bb8b46048729225bdac.docx\n",
       "102 64c132ad5043cfe027f28eb3110a604038ff9bb64dd3c27d184b0afab578f299.docx\n",
       "103 97bcd378e2717979b350bde854c9ba5e651525c737691af3a0d89da514e2cd5a.docx\n",
       "104 dfa0035e993edc12fc6a1af5ad17ef6bd6cb007ec2fd71c36598618d6a1ddbc4.doc \n",
       "105 ce6ca102a27a1391625271bb2d3c46912cc73c286f17a470ca1d76b8e07b25f1.docx\n",
       "106 ee2debbb346d62222a56a66daf1b23aa4b6c26c9f9fdb16abf4f6f743d82dfd4.doc \n",
       "107 c0e189d242de702bf4514292811523361188411d907d0b6ab36f9ba8daa91c51.docx\n",
       "108 aa5554cdac36309c780a08952d504f6b522d1348c78b95ff131901de876d6f36.doc \n",
       "109 586f77b48969cb4467578d1c73b326fe4972e0a32cf0d34f03f84642b9561da4.docx\n",
       "110 3be43eeeaf2b9f727dfebe832113e19554c339745d068236bca251c8d504e970.docx\n",
       "111 51912649146dc8d5b4c123eeb23bebcb8d49bf642e4f1b5dde4f97dc267ebf63.docx\n",
       "112 8bf99845471deeb7c2c258c2926eda7048243399dc2a5562adcbc1b4a763ea48.docx\n",
       "113 d9720dd03ef341cec7fe19d8515104fc95a84efc58d56416a2cfa150f80ed9ac.docx\n",
       "114 87ea367dae867952266ead6e99d72a3884c260150bea9465ec5fa393265375b6.docx\n",
       "115 6678539a1a0f7967a43cfa16270ea87de14eed58b69376b66a313c4d1a6919ba.docx\n",
       "116 40a9932750bb2c7e3bb5c6e067f46ab30d872683bd3044c9a6b1db8df51b186a.doc \n",
       "117 2189230654dd224efa24c418033d4bff4342879e4800666005ba26e659e2f316.doc \n",
       "118 f666b014526fe8e5be0886bf339eab043f7a8c94a2f2ad3c6911312d2b3b8357.docx\n",
       "119 f238d77707ad24f7681dc6d21e872691e75d3aa675d1efb75cfe2dd1af8a8b0e.docx\n",
       "120 47443915abb1803252bfd0f6de754ab172ddf1b5b6b29539f6f4008bba7447a0.docx\n",
       "121 38d696d9edc947d410f93b7c49734fde296c41709102f5cc147137d05b07e5f6.doc \n",
       "122 e16947ebbc9ee95a6fd7cbaaf21f22f990e0e6d529790ef290b38709124a7ba7.docx\n",
       "123 6eb30473c2fc56b5dc9999445106c68b94cfb939b0cca59be8b75196bf14054e.docx\n",
       "124 f3bbbcedacce0237bed60ad0c8ace84db42ecae22c2a73f7037f5ebe7799b655.docx\n",
       "125 4298883512f0a355ea14bbf95fb1287ac6255abba26ee08d0fc6aea33b8dcb13.docx\n",
       "126 cecb4947939d2b935a2e09902ed87fcf5758de204f82c6aaa3c63029a410c2c9.doc \n",
       "127 6b7c5daa1a02d457f09e439dfab2c23ac3a0ae0126110553c139169daf0e1c2b.docx\n",
       "128 0d6881497b4ad12c76c36332e1e83a1b1167677049e3e736d162de8dad60246b.doc \n",
       "129 1073e12e8875473f7f53cc3002f6df9def98e3bad09d272d148b266c243d8b59.docx\n",
       "    sha_id                                                          \n",
       "1   68ddca582629a5f2346dafe0333a0f14f92d03ffbf6ada271f00c3dd4cfa7cc4\n",
       "2   3a12297e624f5aa526082ff616ced87ab59ba35a70f6de2b483caa1990560ea8\n",
       "3   bda08d2e1d45551db7709baaa0bc7129c2afd5af735929a822a4585fc1473ba3\n",
       "4   b668b28c1ead6dfa8921be41a14d74653bc4aec727bdd6fa76a3d0e4365d872c\n",
       "5   1e18bf866e47818408b9ae1a7b956bba1d29794d2bc51dac58de059089a618bf\n",
       "6   b843939d9f86e0967ac3acbee7fb6c1d5cb0f0269187d9c824dda8f111f50c5c\n",
       "7   3a428bef9970d315445c85c47f39fb38d4aac024eaf75bbbe9a02e83cbf0c2f6\n",
       "8   062c75c22ad86b1bc28cef6f254e0fc61b778c60572f692620fa9deaae5d3920\n",
       "9   b0fbc3d4b637ee1ce3db64be6a6a1eba2cd69528a7726d97a0620b98cbd6689d\n",
       "10  a3212fe3008f8585adcfbe33fd37f3f9119b9490cab00e4ba51d60f184f26401\n",
       "11  b6a3446b5b60ffe250e961ff0182acd9acb6d2a0b23188da4d323ec5d71f0384\n",
       "12  64be649de2940b6a79a111ef99107afbf7701478d076efa93677253ed502372c\n",
       "13  a547835e2a85007122e2b358f40ba4a28451c3cf73edfdd7c121e33a892942ac\n",
       "14  4cdbdb3a35cc675b4a953a21e78bf6b4d9fa17c52008eaa1744ba1db6ce66a45\n",
       "15  362530dce782570795071c443cff85b5dc68fd92c852d02f6c913bf0d3f0c0f2\n",
       "16  780012b41774da8b8bc12f7f394b74051cc79f4a36ca1ccbe4bc0f240cd91d8b\n",
       "17  55fde30c02ad1e70d79e25ddeada51ada719607e2321b8f5d80269df82bbf11a\n",
       "18  d21a24041e9c9d7c46197c61bd95387a562f3e644f1adf0e6cdab1a65517788f\n",
       "19  bb3d0f4da7747305f27bde6af816e5b8330ddb13a0aa9176849244d4c4351a20\n",
       "20  8e39be2621d8d098a1ebd49b887bb5f69a1dd6d4c63b19cdf9aa9f060ead9aa6\n",
       "21  75b0fcdf663e5de8af93ec3fac6d2a893194f5679a91ad038ec2425e0017cd7f\n",
       "22  81aa951bdd9a218314b19f8f5c889d6aa82d90d7fbb63fadd9fb34c83a17feef\n",
       "23  5a79641518f9d3262182d24de68c446e4b955aca3507d67689776799c84810a4\n",
       "24  ee2f794d39a9763c84ad39b587c948b1a95380a89e7143ea2ec9a2547ceb6f9b\n",
       "25  05b13fce30d4365d94b92e5dd30bb2badba502001e2e201a71c2173c14308da3\n",
       "26  d8d550e08faa4921f8acd0f99f112543bd961bb269ed0fddfa107d696a608186\n",
       "27  9817a31aed41a57e4e2ebe81a2dd9c5a2f47d06cb98b6bcfd59b860ec309dcd5\n",
       "28  e237a0a973c2c3c54779f045370c6a079713448c322d34d0823cde9051ae4d66\n",
       "29  0135a567824b22c28e119a286af5b1c86ed64e45563fe7ee8d17f9c54b2da2c0\n",
       "30  dcebc52ef46a5def89f955d7e3fcdf85c3211b9989bda659772a0751ecbf4349\n",
       "⋮   ⋮                                                               \n",
       "100 0ec31fa36279bd839983f92882b4f388112d8cc9a8c15960edc281b062f701fd\n",
       "101 ccd05476c245fa8b93276793b729996ba2dab2b2fe5a6bb8b46048729225bdac\n",
       "102 64c132ad5043cfe027f28eb3110a604038ff9bb64dd3c27d184b0afab578f299\n",
       "103 97bcd378e2717979b350bde854c9ba5e651525c737691af3a0d89da514e2cd5a\n",
       "104 dfa0035e993edc12fc6a1af5ad17ef6bd6cb007ec2fd71c36598618d6a1ddbc4\n",
       "105 ce6ca102a27a1391625271bb2d3c46912cc73c286f17a470ca1d76b8e07b25f1\n",
       "106 ee2debbb346d62222a56a66daf1b23aa4b6c26c9f9fdb16abf4f6f743d82dfd4\n",
       "107 c0e189d242de702bf4514292811523361188411d907d0b6ab36f9ba8daa91c51\n",
       "108 aa5554cdac36309c780a08952d504f6b522d1348c78b95ff131901de876d6f36\n",
       "109 586f77b48969cb4467578d1c73b326fe4972e0a32cf0d34f03f84642b9561da4\n",
       "110 3be43eeeaf2b9f727dfebe832113e19554c339745d068236bca251c8d504e970\n",
       "111 51912649146dc8d5b4c123eeb23bebcb8d49bf642e4f1b5dde4f97dc267ebf63\n",
       "112 8bf99845471deeb7c2c258c2926eda7048243399dc2a5562adcbc1b4a763ea48\n",
       "113 d9720dd03ef341cec7fe19d8515104fc95a84efc58d56416a2cfa150f80ed9ac\n",
       "114 87ea367dae867952266ead6e99d72a3884c260150bea9465ec5fa393265375b6\n",
       "115 6678539a1a0f7967a43cfa16270ea87de14eed58b69376b66a313c4d1a6919ba\n",
       "116 40a9932750bb2c7e3bb5c6e067f46ab30d872683bd3044c9a6b1db8df51b186a\n",
       "117 2189230654dd224efa24c418033d4bff4342879e4800666005ba26e659e2f316\n",
       "118 f666b014526fe8e5be0886bf339eab043f7a8c94a2f2ad3c6911312d2b3b8357\n",
       "119 f238d77707ad24f7681dc6d21e872691e75d3aa675d1efb75cfe2dd1af8a8b0e\n",
       "120 47443915abb1803252bfd0f6de754ab172ddf1b5b6b29539f6f4008bba7447a0\n",
       "121 38d696d9edc947d410f93b7c49734fde296c41709102f5cc147137d05b07e5f6\n",
       "122 e16947ebbc9ee95a6fd7cbaaf21f22f990e0e6d529790ef290b38709124a7ba7\n",
       "123 6eb30473c2fc56b5dc9999445106c68b94cfb939b0cca59be8b75196bf14054e\n",
       "124 f3bbbcedacce0237bed60ad0c8ace84db42ecae22c2a73f7037f5ebe7799b655\n",
       "125 4298883512f0a355ea14bbf95fb1287ac6255abba26ee08d0fc6aea33b8dcb13\n",
       "126 cecb4947939d2b935a2e09902ed87fcf5758de204f82c6aaa3c63029a410c2c9\n",
       "127 6b7c5daa1a02d457f09e439dfab2c23ac3a0ae0126110553c139169daf0e1c2b\n",
       "128 0d6881497b4ad12c76c36332e1e83a1b1167677049e3e736d162de8dad60246b\n",
       "129 1073e12e8875473f7f53cc3002f6df9def98e3bad09d272d148b266c243d8b59\n",
       "    all_indexes                 \n",
       "1   46                          \n",
       "2   56                          \n",
       "3   91, 94, 169, 175            \n",
       "4   96, 185                     \n",
       "5   102, 110, 177               \n",
       "6   137                         \n",
       "7   147                         \n",
       "8   150, 200                    \n",
       "9   172                         \n",
       "10  205                         \n",
       "11  214                         \n",
       "12  245, 417                    \n",
       "13  257                         \n",
       "14  322, 354, 404               \n",
       "15  380                         \n",
       "16  399                         \n",
       "17  424                         \n",
       "18  439, 595                    \n",
       "19  462                         \n",
       "20  466                         \n",
       "21  474                         \n",
       "22  483                         \n",
       "23  498, 535                    \n",
       "24  507                         \n",
       "25  508                         \n",
       "26  530                         \n",
       "27  633                         \n",
       "28  634                         \n",
       "29  638                         \n",
       "30  684                         \n",
       "⋮   ⋮                           \n",
       "100 1944, 1978                  \n",
       "101 1954                        \n",
       "102 1977                        \n",
       "103 2036                        \n",
       "104 2051                        \n",
       "105 2073, 2102, 2203            \n",
       "106 2084                        \n",
       "107 2094, 2141                  \n",
       "108 2135                        \n",
       "109 2136, 2170, 2254, 2424, 2489\n",
       "110 2152                        \n",
       "111 2166                        \n",
       "112 2184                        \n",
       "113 2190                        \n",
       "114 2199                        \n",
       "115 2218, 2344                  \n",
       "116 2220, 2381                  \n",
       "117 2221                        \n",
       "118 2275                        \n",
       "119 2282                        \n",
       "120 2298, 2306                  \n",
       "121 2322                        \n",
       "122 2328                        \n",
       "123 2348                        \n",
       "124 2369                        \n",
       "125 2425                        \n",
       "126 2429                        \n",
       "127 2435                        \n",
       "128 2447                        \n",
       "129 2456                        "
      ]
     },
     "metadata": {},
     "output_type": "display_data"
    }
   ],
   "source": [
    "# goszak_df_kolich[ goszak_df_kolich$completed_car_purchase=='replace_me', ]   "
   ]
  },
  {
   "cell_type": "code",
   "execution_count": 347,
   "metadata": {
    "ExecuteTime": {
     "end_time": "2019-09-30T16:44:37.394332Z",
     "start_time": "2019-09-30T16:44:28.362Z"
    }
   },
   "outputs": [],
   "source": [
    "write.xlsx(goszak_df_kolich, 'goszak_tmp.xlsx')"
   ]
  },
  {
   "cell_type": "code",
   "execution_count": 442,
   "metadata": {
    "ExecuteTime": {
     "end_time": "2019-09-30T17:23:08.210039Z",
     "start_time": "2019-09-30T17:23:08.193Z"
    }
   },
   "outputs": [],
   "source": [
    "# goszak_df_kolich[goszak_df_kolich$index_name==943,  6]  = 0"
   ]
  },
  {
   "cell_type": "code",
   "execution_count": 493,
   "metadata": {
    "ExecuteTime": {
     "end_time": "2019-09-30T17:46:30.863345Z",
     "start_time": "2019-09-30T17:46:30.850Z"
    }
   },
   "outputs": [],
   "source": [
    "# "
   ]
  },
  {
   "cell_type": "code",
   "execution_count": 500,
   "metadata": {
    "ExecuteTime": {
     "end_time": "2019-09-30T17:49:59.271986Z",
     "start_time": "2019-09-30T17:49:59.239Z"
    }
   },
   "outputs": [],
   "source": [
    "tables_list_1  <- list()\n",
    "jj = 0\n",
    "for (i in as.integer(goszak_df_kolich_2$X__1)){\n",
    "    jj = jj+1\n",
    "    tables_list_1[[jj]]  <-  tables_list[[i]]\n",
    "}"
   ]
  },
  {
   "cell_type": "code",
   "execution_count": 503,
   "metadata": {
    "ExecuteTime": {
     "end_time": "2019-09-30T17:52:36.955830Z",
     "start_time": "2019-09-30T17:52:36.940Z"
    }
   },
   "outputs": [],
   "source": [
    "goszak_df_kolich_2['new_index'] = 1:dim(goszak_df_kolich_2)[1]"
   ]
  },
  {
   "cell_type": "code",
   "execution_count": 653,
   "metadata": {
    "ExecuteTime": {
     "end_time": "2019-09-30T20:21:37.001845Z",
     "start_time": "2019-09-30T20:21:36.970Z"
    }
   },
   "outputs": [],
   "source": [
    "# tables_list_1[[i]][[1]][[8]]"
   ]
  },
  {
   "cell_type": "code",
   "execution_count": 656,
   "metadata": {
    "ExecuteTime": {
     "end_time": "2019-09-30T20:27:29.970142Z",
     "start_time": "2019-09-30T20:27:29.926Z"
    }
   },
   "outputs": [
    {
     "data": {
      "text/html": [
       "'481900.00'"
      ],
      "text/latex": [
       "'481900.00'"
      ],
      "text/markdown": [
       "'481900.00'"
      ],
      "text/plain": [
       "[1] \"481900.00\""
      ]
     },
     "metadata": {},
     "output_type": "display_data"
    }
   ],
   "source": [
    "tab_tmp = tables_list_1[[i]][[1]][[8]] \n",
    "gsub(\"[^0-9.-]\",\"\",gsub(\",\",\".\", as.character(tab_tmp[dim(tab_tmp)[1],2]), fixed = TRUE))"
   ]
  },
  {
   "cell_type": "code",
   "execution_count": null,
   "metadata": {},
   "outputs": [],
   "source": [
    "(Российский рубль)"
   ]
  },
  {
   "cell_type": "code",
   "execution_count": 657,
   "metadata": {
    "ExecuteTime": {
     "end_time": "2019-09-30T20:32:47.432077Z",
     "start_time": "2019-09-30T20:32:42.999Z"
    }
   },
   "outputs": [
    {
     "name": "stderr",
     "output_type": "stream",
     "text": [
      "Warning message in 2:dim(tab_tmp):\n",
      "“numerical expression has 2 elements: only the first used”Warning message in 2:dim(tab_tmp):\n",
      "“numerical expression has 2 elements: only the first used”Warning message in 2:dim(tab_tmp):\n",
      "“numerical expression has 2 elements: only the first used”Warning message in 2:dim(tab_tmp):\n",
      "“numerical expression has 2 elements: only the first used”Warning message in 2:dim(tab_tmp):\n",
      "“numerical expression has 2 elements: only the first used”Warning message in 2:dim(tab_tmp):\n",
      "“numerical expression has 2 elements: only the first used”Warning message in 2:dim(tab_tmp):\n",
      "“numerical expression has 2 elements: only the first used”Warning message in 2:dim(tab_tmp):\n",
      "“numerical expression has 2 elements: only the first used”Warning message in 2:dim(tab_tmp):\n",
      "“numerical expression has 2 elements: only the first used”Warning message in 2:dim(tab_tmp):\n",
      "“numerical expression has 2 elements: only the first used”Warning message in 2:dim(tab_tmp):\n",
      "“numerical expression has 2 elements: only the first used”Warning message in 2:dim(tab_tmp):\n",
      "“numerical expression has 2 elements: only the first used”Warning message in 2:dim(tab_tmp):\n",
      "“numerical expression has 2 elements: only the first used”Warning message in 2:dim(tab_tmp):\n",
      "“numerical expression has 2 elements: only the first used”Warning message in 2:dim(tab_tmp):\n",
      "“numerical expression has 2 elements: only the first used”Warning message in 2:dim(tab_tmp):\n",
      "“numerical expression has 2 elements: only the first used”Warning message in 2:dim(tab_tmp):\n",
      "“numerical expression has 2 elements: only the first used”Warning message in 2:dim(tab_tmp):\n",
      "“numerical expression has 2 elements: only the first used”Warning message in 2:dim(tab_tmp):\n",
      "“numerical expression has 2 elements: only the first used”Warning message in 2:dim(tab_tmp):\n",
      "“numerical expression has 2 elements: only the first used”Warning message in 2:dim(tab_tmp):\n",
      "“numerical expression has 2 elements: only the first used”Warning message in 2:dim(tab_tmp):\n",
      "“numerical expression has 2 elements: only the first used”Warning message in 2:dim(tab_tmp):\n",
      "“numerical expression has 2 elements: only the first used”Warning message in 2:dim(tab_tmp):\n",
      "“numerical expression has 2 elements: only the first used”Warning message in 2:dim(tab_tmp):\n",
      "“numerical expression has 2 elements: only the first used”Warning message in 2:dim(tab_tmp):\n",
      "“numerical expression has 2 elements: only the first used”Warning message in 2:dim(tab_tmp):\n",
      "“numerical expression has 2 elements: only the first used”Warning message in 2:dim(tab_tmp):\n",
      "“numerical expression has 2 elements: only the first used”Warning message in 2:dim(tab_tmp):\n",
      "“numerical expression has 2 elements: only the first used”Warning message in 2:dim(tab_tmp):\n",
      "“numerical expression has 2 elements: only the first used”Warning message in 2:dim(tab_tmp):\n",
      "“numerical expression has 2 elements: only the first used”Warning message in 2:dim(tab_tmp):\n",
      "“numerical expression has 2 elements: only the first used”Warning message in 2:dim(tab_tmp):\n",
      "“numerical expression has 2 elements: only the first used”Warning message in 2:dim(tab_tmp):\n",
      "“numerical expression has 2 elements: only the first used”Warning message in 2:dim(tab_tmp):\n",
      "“numerical expression has 2 elements: only the first used”Warning message in 2:dim(tab_tmp):\n",
      "“numerical expression has 2 elements: only the first used”Warning message in 2:dim(tab_tmp):\n",
      "“numerical expression has 2 elements: only the first used”Warning message in 2:dim(tab_tmp):\n",
      "“numerical expression has 2 elements: only the first used”Warning message in 2:dim(tab_tmp):\n",
      "“numerical expression has 2 elements: only the first used”Warning message in 2:dim(tab_tmp):\n",
      "“numerical expression has 2 elements: only the first used”Warning message in 2:dim(tab_tmp):\n",
      "“numerical expression has 2 elements: only the first used”Warning message in 2:dim(tab_tmp):\n",
      "“numerical expression has 2 elements: only the first used”Warning message in 2:dim(tab_tmp):\n",
      "“numerical expression has 2 elements: only the first used”Warning message in 2:dim(tab_tmp):\n",
      "“numerical expression has 2 elements: only the first used”Warning message in 2:dim(tab_tmp):\n",
      "“numerical expression has 2 elements: only the first used”Warning message in 2:dim(tab_tmp):\n",
      "“numerical expression has 2 elements: only the first used”Warning message in 2:dim(tab_tmp):\n",
      "“numerical expression has 2 elements: only the first used”Warning message in 2:dim(tab_tmp):\n",
      "“numerical expression has 2 elements: only the first used”Warning message in 2:dim(tab_tmp):\n",
      "“numerical expression has 2 elements: only the first used”Warning message in 2:dim(tab_tmp):\n",
      "“numerical expression has 2 elements: only the first used”Warning message in 2:dim(tab_tmp):\n",
      "“numerical expression has 2 elements: only the first used”Warning message in 2:dim(tab_tmp):\n",
      "“numerical expression has 2 elements: only the first used”Warning message in 2:dim(tab_tmp):\n",
      "“numerical expression has 2 elements: only the first used”Warning message in 2:dim(tab_tmp):\n",
      "“numerical expression has 2 elements: only the first used”Warning message in 2:dim(tab_tmp):\n",
      "“numerical expression has 2 elements: only the first used”Warning message in 2:dim(tab_tmp):\n",
      "“numerical expression has 2 elements: only the first used”Warning message in 2:dim(tab_tmp):\n",
      "“numerical expression has 2 elements: only the first used”Warning message in 2:dim(tab_tmp):\n",
      "“numerical expression has 2 elements: only the first used”Warning message in 2:dim(tab_tmp):\n",
      "“numerical expression has 2 elements: only the first used”Warning message in 2:dim(tab_tmp):\n",
      "“numerical expression has 2 elements: only the first used”Warning message in 2:dim(tab_tmp):\n",
      "“numerical expression has 2 elements: only the first used”Warning message in 2:dim(tab_tmp):\n",
      "“numerical expression has 2 elements: only the first used”Warning message in 2:dim(tab_tmp):\n",
      "“numerical expression has 2 elements: only the first used”Warning message in 2:dim(tab_tmp):\n",
      "“numerical expression has 2 elements: only the first used”Warning message in 2:dim(tab_tmp):\n",
      "“numerical expression has 2 elements: only the first used”Warning message in 2:dim(tab_tmp):\n",
      "“numerical expression has 2 elements: only the first used”Warning message in 2:dim(tab_tmp):\n",
      "“numerical expression has 2 elements: only the first used”Warning message in 2:dim(tab_tmp):\n",
      "“numerical expression has 2 elements: only the first used”Warning message in 2:dim(tab_tmp):\n",
      "“numerical expression has 2 elements: only the first used”Warning message in 2:dim(tab_tmp):\n",
      "“numerical expression has 2 elements: only the first used”Warning message in 2:dim(tab_tmp):\n",
      "“numerical expression has 2 elements: only the first used”Warning message in 2:dim(tab_tmp):\n",
      "“numerical expression has 2 elements: only the first used”Warning message in 2:dim(tab_tmp):\n",
      "“numerical expression has 2 elements: only the first used”Warning message in 2:dim(tab_tmp):\n",
      "“numerical expression has 2 elements: only the first used”Warning message in 2:dim(tab_tmp):\n",
      "“numerical expression has 2 elements: only the first used”Warning message in 2:dim(tab_tmp):\n",
      "“numerical expression has 2 elements: only the first used”Warning message in 2:dim(tab_tmp):\n",
      "“numerical expression has 2 elements: only the first used”Warning message in 2:dim(tab_tmp):\n",
      "“numerical expression has 2 elements: only the first used”Warning message in 2:dim(tab_tmp):\n",
      "“numerical expression has 2 elements: only the first used”Warning message in 2:dim(tab_tmp):\n",
      "“numerical expression has 2 elements: only the first used”Warning message in 2:dim(tab_tmp):\n",
      "“numerical expression has 2 elements: only the first used”Warning message in 2:dim(tab_tmp):\n",
      "“numerical expression has 2 elements: only the first used”Warning message in 2:dim(tab_tmp):\n",
      "“numerical expression has 2 elements: only the first used”Warning message in 2:dim(tab_tmp):\n",
      "“numerical expression has 2 elements: only the first used”Warning message in 2:dim(tab_tmp):\n",
      "“numerical expression has 2 elements: only the first used”Warning message in 2:dim(tab_tmp):\n",
      "“numerical expression has 2 elements: only the first used”Warning message in 2:dim(tab_tmp):\n",
      "“numerical expression has 2 elements: only the first used”Warning message in 2:dim(tab_tmp):\n",
      "“numerical expression has 2 elements: only the first used”Warning message in 2:dim(tab_tmp):\n"
     ]
    },
    {
     "name": "stderr",
     "output_type": "stream",
     "text": [
      "“numerical expression has 2 elements: only the first used”Warning message in 2:dim(tab_tmp):\n",
      "“numerical expression has 2 elements: only the first used”Warning message in 2:dim(tab_tmp):\n",
      "“numerical expression has 2 elements: only the first used”Warning message in 2:dim(tab_tmp):\n",
      "“numerical expression has 2 elements: only the first used”Warning message in 2:dim(tab_tmp):\n",
      "“numerical expression has 2 elements: only the first used”Warning message in 2:dim(tab_tmp):\n",
      "“numerical expression has 2 elements: only the first used”Warning message in 2:dim(tab_tmp):\n",
      "“numerical expression has 2 elements: only the first used”Warning message in 2:dim(tab_tmp):\n",
      "“numerical expression has 2 elements: only the first used”Warning message in 2:dim(tab_tmp):\n",
      "“numerical expression has 2 elements: only the first used”Warning message in 2:dim(tab_tmp):\n",
      "“numerical expression has 2 elements: only the first used”Warning message in 2:dim(tab_tmp):\n",
      "“numerical expression has 2 elements: only the first used”Warning message in 2:dim(tab_tmp):\n",
      "“numerical expression has 2 elements: only the first used”Warning message in 2:dim(tab_tmp):\n",
      "“numerical expression has 2 elements: only the first used”Warning message in 2:dim(tab_tmp):\n",
      "“numerical expression has 2 elements: only the first used”Warning message in 2:dim(tab_tmp):\n",
      "“numerical expression has 2 elements: only the first used”Warning message in 2:dim(tab_tmp):\n",
      "“numerical expression has 2 elements: only the first used”Warning message in 2:dim(tab_tmp):\n",
      "“numerical expression has 2 elements: only the first used”Warning message in 2:dim(tab_tmp):\n",
      "“numerical expression has 2 elements: only the first used”Warning message in 2:dim(tab_tmp):\n",
      "“numerical expression has 2 elements: only the first used”Warning message in 2:dim(tab_tmp):\n",
      "“numerical expression has 2 elements: only the first used”Warning message in 2:dim(tab_tmp):\n",
      "“numerical expression has 2 elements: only the first used”Warning message in 2:dim(tab_tmp):\n",
      "“numerical expression has 2 elements: only the first used”Warning message in 2:dim(tab_tmp):\n",
      "“numerical expression has 2 elements: only the first used”Warning message in 2:dim(tab_tmp):\n",
      "“numerical expression has 2 elements: only the first used”Warning message in 2:dim(tab_tmp):\n",
      "“numerical expression has 2 elements: only the first used”Warning message in 2:dim(tab_tmp):\n",
      "“numerical expression has 2 elements: only the first used”Warning message in 2:dim(tab_tmp):\n",
      "“numerical expression has 2 elements: only the first used”Warning message in 2:dim(tab_tmp):\n",
      "“numerical expression has 2 elements: only the first used”Warning message in 2:dim(tab_tmp):\n",
      "“numerical expression has 2 elements: only the first used”Warning message in 2:dim(tab_tmp):\n",
      "“numerical expression has 2 elements: only the first used”Warning message in 2:dim(tab_tmp):\n",
      "“numerical expression has 2 elements: only the first used”Warning message in 2:dim(tab_tmp):\n",
      "“numerical expression has 2 elements: only the first used”Warning message in 2:dim(tab_tmp):\n",
      "“numerical expression has 2 elements: only the first used”Warning message in 2:dim(tab_tmp):\n",
      "“numerical expression has 2 elements: only the first used”Warning message in 2:dim(tab_tmp):\n",
      "“numerical expression has 2 elements: only the first used”Warning message in 2:dim(tab_tmp):\n",
      "“numerical expression has 2 elements: only the first used”Warning message in 2:dim(tab_tmp):\n",
      "“numerical expression has 2 elements: only the first used”Warning message in 2:dim(tab_tmp):\n",
      "“numerical expression has 2 elements: only the first used”Warning message in 2:dim(tab_tmp):\n",
      "“numerical expression has 2 elements: only the first used”Warning message in 2:dim(tab_tmp):\n",
      "“numerical expression has 2 elements: only the first used”Warning message in 2:dim(tab_tmp):\n",
      "“numerical expression has 2 elements: only the first used”Warning message in 2:dim(tab_tmp):\n",
      "“numerical expression has 2 elements: only the first used”Warning message in 2:dim(tab_tmp):\n",
      "“numerical expression has 2 elements: only the first used”Warning message in 2:dim(tab_tmp):\n",
      "“numerical expression has 2 elements: only the first used”Warning message in 2:dim(tab_tmp):\n",
      "“numerical expression has 2 elements: only the first used”Warning message in 2:dim(tab_tmp):\n",
      "“numerical expression has 2 elements: only the first used”Warning message in 2:dim(tab_tmp):\n",
      "“numerical expression has 2 elements: only the first used”Warning message in 2:dim(tab_tmp):\n",
      "“numerical expression has 2 elements: only the first used”Warning message in 2:dim(tab_tmp):\n",
      "“numerical expression has 2 elements: only the first used”Warning message in 2:dim(tab_tmp):\n",
      "“numerical expression has 2 elements: only the first used”Warning message in 2:dim(tab_tmp):\n",
      "“numerical expression has 2 elements: only the first used”Warning message in 2:dim(tab_tmp):\n",
      "“numerical expression has 2 elements: only the first used”Warning message in 2:dim(tab_tmp):\n",
      "“numerical expression has 2 elements: only the first used”Warning message in 2:dim(tab_tmp):\n",
      "“numerical expression has 2 elements: only the first used”Warning message in 2:dim(tab_tmp):\n",
      "“numerical expression has 2 elements: only the first used”Warning message in 2:dim(tab_tmp):\n",
      "“numerical expression has 2 elements: only the first used”Warning message in 2:dim(tab_tmp):\n",
      "“numerical expression has 2 elements: only the first used”Warning message in 2:dim(tab_tmp):\n",
      "“numerical expression has 2 elements: only the first used”Warning message in 2:dim(tab_tmp):\n",
      "“numerical expression has 2 elements: only the first used”Warning message in 2:dim(tab_tmp):\n",
      "“numerical expression has 2 elements: only the first used”Warning message in 2:dim(tab_tmp):\n",
      "“numerical expression has 2 elements: only the first used”Warning message in 2:dim(tab_tmp):\n",
      "“numerical expression has 2 elements: only the first used”Warning message in 2:dim(tab_tmp):\n",
      "“numerical expression has 2 elements: only the first used”Warning message in 2:dim(tab_tmp):\n",
      "“numerical expression has 2 elements: only the first used”Warning message in 2:dim(tab_tmp):\n",
      "“numerical expression has 2 elements: only the first used”Warning message in 2:dim(tab_tmp):\n",
      "“numerical expression has 2 elements: only the first used”Warning message in 2:dim(tab_tmp):\n",
      "“numerical expression has 2 elements: only the first used”Warning message in 2:dim(tab_tmp):\n",
      "“numerical expression has 2 elements: only the first used”Warning message in 2:dim(tab_tmp):\n",
      "“numerical expression has 2 elements: only the first used”Warning message in 2:dim(tab_tmp):\n",
      "“numerical expression has 2 elements: only the first used”Warning message in 2:dim(tab_tmp):\n",
      "“numerical expression has 2 elements: only the first used”Warning message in 2:dim(tab_tmp):\n",
      "“numerical expression has 2 elements: only the first used”Warning message in 2:dim(tab_tmp):\n",
      "“numerical expression has 2 elements: only the first used”Warning message in 2:dim(tab_tmp):\n",
      "“numerical expression has 2 elements: only the first used”Warning message in 2:dim(tab_tmp):\n",
      "“numerical expression has 2 elements: only the first used”Warning message in 2:dim(tab_tmp):\n",
      "“numerical expression has 2 elements: only the first used”Warning message in 2:dim(tab_tmp):\n",
      "“numerical expression has 2 elements: only the first used”Warning message in 2:dim(tab_tmp):\n",
      "“numerical expression has 2 elements: only the first used”Warning message in 2:dim(tab_tmp):\n",
      "“numerical expression has 2 elements: only the first used”Warning message in 2:dim(tab_tmp):\n",
      "“numerical expression has 2 elements: only the first used”Warning message in 2:dim(tab_tmp):\n",
      "“numerical expression has 2 elements: only the first used”Warning message in 2:dim(tab_tmp):\n",
      "“numerical expression has 2 elements: only the first used”Warning message in 2:dim(tab_tmp):\n",
      "“numerical expression has 2 elements: only the first used”Warning message in 2:dim(tab_tmp):\n",
      "“numerical expression has 2 elements: only the first used”Warning message in 2:dim(tab_tmp):\n",
      "“numerical expression has 2 elements: only the first used”Warning message in 2:dim(tab_tmp):\n",
      "“numerical expression has 2 elements: only the first used”Warning message in 2:dim(tab_tmp):\n",
      "“numerical expression has 2 elements: only the first used”Warning message in 2:dim(tab_tmp):\n",
      "“numerical expression has 2 elements: only the first used”Warning message in 2:dim(tab_tmp):\n",
      "“numerical expression has 2 elements: only the first used”Warning message in 2:dim(tab_tmp):\n",
      "“numerical expression has 2 elements: only the first used”Warning message in 2:dim(tab_tmp):\n",
      "“numerical expression has 2 elements: only the first used”Warning message in 2:dim(tab_tmp):\n",
      "“numerical expression has 2 elements: only the first used”Warning message in 2:dim(tab_tmp):\n",
      "“numerical expression has 2 elements: only the first used”Warning message in 2:dim(tab_tmp):\n",
      "“numerical expression has 2 elements: only the first used”Warning message in 2:dim(tab_tmp):\n",
      "“numerical expression has 2 elements: only the first used”Warning message in 2:dim(tab_tmp):\n",
      "“numerical expression has 2 elements: only the first used”Warning message in 2:dim(tab_tmp):\n",
      "“numerical expression has 2 elements: only the first used”Warning message in 2:dim(tab_tmp):\n",
      "“numerical expression has 2 elements: only the first used”Warning message in 2:dim(tab_tmp):\n",
      "“numerical expression has 2 elements: only the first used”Warning message in 2:dim(tab_tmp):\n",
      "“numerical expression has 2 elements: only the first used”Warning message in 2:dim(tab_tmp):\n",
      "“numerical expression has 2 elements: only the first used”Warning message in 2:dim(tab_tmp):\n",
      "“numerical expression has 2 elements: only the first used”Warning message in 2:dim(tab_tmp):\n",
      "“numerical expression has 2 elements: only the first used”Warning message in 2:dim(tab_tmp):\n",
      "“numerical expression has 2 elements: only the first used”Warning message in 2:dim(tab_tmp):\n",
      "“numerical expression has 2 elements: only the first used”Warning message in 2:dim(tab_tmp):\n",
      "“numerical expression has 2 elements: only the first used”Warning message in 2:dim(tab_tmp):\n",
      "“numerical expression has 2 elements: only the first used”Warning message in 2:dim(tab_tmp):\n",
      "“numerical expression has 2 elements: only the first used”Warning message in 2:dim(tab_tmp):\n",
      "“numerical expression has 2 elements: only the first used”Warning message in 2:dim(tab_tmp):\n",
      "“numerical expression has 2 elements: only the first used”Warning message in 2:dim(tab_tmp):\n",
      "“numerical expression has 2 elements: only the first used”Warning message in 2:dim(tab_tmp):\n",
      "“numerical expression has 2 elements: only the first used”Warning message in 2:dim(tab_tmp):\n",
      "“numerical expression has 2 elements: only the first used”Warning message in 2:dim(tab_tmp):\n",
      "“numerical expression has 2 elements: only the first used”Warning message in 2:dim(tab_tmp):\n",
      "“numerical expression has 2 elements: only the first used”Warning message in 2:dim(tab_tmp):\n",
      "“numerical expression has 2 elements: only the first used”Warning message in 2:dim(tab_tmp):\n",
      "“numerical expression has 2 elements: only the first used”Warning message in 2:dim(tab_tmp):\n",
      "“numerical expression has 2 elements: only the first used”Warning message in 2:dim(tab_tmp):\n",
      "“numerical expression has 2 elements: only the first used”Warning message in 2:dim(tab_tmp):\n",
      "“numerical expression has 2 elements: only the first used”Warning message in 2:dim(tab_tmp):\n",
      "“numerical expression has 2 elements: only the first used”Warning message in 2:dim(tab_tmp):\n",
      "“numerical expression has 2 elements: only the first used”Warning message in 2:dim(tab_tmp):\n",
      "“numerical expression has 2 elements: only the first used”Warning message in 2:dim(tab_tmp):\n",
      "“numerical expression has 2 elements: only the first used”Warning message in 2:dim(tab_tmp):\n",
      "“numerical expression has 2 elements: only the first used”Warning message in 2:dim(tab_tmp):\n",
      "“numerical expression has 2 elements: only the first used”Warning message in 2:dim(tab_tmp):\n",
      "“numerical expression has 2 elements: only the first used”Warning message in 2:dim(tab_tmp):\n",
      "“numerical expression has 2 elements: only the first used”Warning message in 2:dim(tab_tmp):\n",
      "“numerical expression has 2 elements: only the first used”Warning message in 2:dim(tab_tmp):\n",
      "“numerical expression has 2 elements: only the first used”Warning message in 2:dim(tab_tmp):\n",
      "“numerical expression has 2 elements: only the first used”Warning message in 2:dim(tab_tmp):\n",
      "“numerical expression has 2 elements: only the first used”Warning message in 2:dim(tab_tmp):\n",
      "“numerical expression has 2 elements: only the first used”Warning message in 2:dim(tab_tmp):\n",
      "“numerical expression has 2 elements: only the first used”Warning message in 2:dim(tab_tmp):\n",
      "“numerical expression has 2 elements: only the first used”Warning message in 2:dim(tab_tmp):\n",
      "“numerical expression has 2 elements: only the first used”Warning message in 2:dim(tab_tmp):\n",
      "“numerical expression has 2 elements: only the first used”Warning message in 2:dim(tab_tmp):\n",
      "“numerical expression has 2 elements: only the first used”Warning message in 2:dim(tab_tmp):\n",
      "“numerical expression has 2 elements: only the first used”Warning message in 2:dim(tab_tmp):\n",
      "“numerical expression has 2 elements: only the first used”Warning message in 2:dim(tab_tmp):\n",
      "“numerical expression has 2 elements: only the first used”Warning message in 2:dim(tab_tmp):\n",
      "“numerical expression has 2 elements: only the first used”Warning message in 2:dim(tab_tmp):\n",
      "“numerical expression has 2 elements: only the first used”Warning message in 2:dim(tab_tmp):\n",
      "“numerical expression has 2 elements: only the first used”Warning message in 2:dim(tab_tmp):\n",
      "“numerical expression has 2 elements: only the first used”Warning message in 2:dim(tab_tmp):\n",
      "“numerical expression has 2 elements: only the first used”Warning message in 2:dim(tab_tmp):\n",
      "“numerical expression has 2 elements: only the first used”Warning message in 2:dim(tab_tmp):\n",
      "“numerical expression has 2 elements: only the first used”Warning message in 2:dim(tab_tmp):\n",
      "“numerical expression has 2 elements: only the first used”Warning message in 2:dim(tab_tmp):\n",
      "“numerical expression has 2 elements: only the first used”Warning message in 2:dim(tab_tmp):\n",
      "“numerical expression has 2 elements: only the first used”Warning message in 2:dim(tab_tmp):\n",
      "“numerical expression has 2 elements: only the first used”Warning message in 2:dim(tab_tmp):\n",
      "“numerical expression has 2 elements: only the first used”Warning message in 2:dim(tab_tmp):\n",
      "“numerical expression has 2 elements: only the first used”Warning message in 2:dim(tab_tmp):\n",
      "“numerical expression has 2 elements: only the first used”Warning message in 2:dim(tab_tmp):\n",
      "“numerical expression has 2 elements: only the first used”Warning message in 2:dim(tab_tmp):\n",
      "“numerical expression has 2 elements: only the first used”Warning message in 2:dim(tab_tmp):\n",
      "“numerical expression has 2 elements: only the first used”Warning message in 2:dim(tab_tmp):\n",
      "“numerical expression has 2 elements: only the first used”Warning message in 2:dim(tab_tmp):\n",
      "“numerical expression has 2 elements: only the first used”Warning message in 2:dim(tab_tmp):\n",
      "“numerical expression has 2 elements: only the first used”Warning message in 2:dim(tab_tmp):\n",
      "“numerical expression has 2 elements: only the first used”Warning message in 2:dim(tab_tmp):\n",
      "“numerical expression has 2 elements: only the first used”Warning message in 2:dim(tab_tmp):\n",
      "“numerical expression has 2 elements: only the first used”Warning message in 2:dim(tab_tmp):\n",
      "“numerical expression has 2 elements: only the first used”Warning message in 2:dim(tab_tmp):\n",
      "“numerical expression has 2 elements: only the first used”Warning message in 2:dim(tab_tmp):\n",
      "“numerical expression has 2 elements: only the first used”Warning message in 2:dim(tab_tmp):\n",
      "“numerical expression has 2 elements: only the first used”Warning message in 2:dim(tab_tmp):\n",
      "“numerical expression has 2 elements: only the first used”Warning message in 2:dim(tab_tmp):\n",
      "“numerical expression has 2 elements: only the first used”Warning message in 2:dim(tab_tmp):\n",
      "“numerical expression has 2 elements: only the first used”Warning message in 2:dim(tab_tmp):\n",
      "“numerical expression has 2 elements: only the first used”Warning message in 2:dim(tab_tmp):\n",
      "“numerical expression has 2 elements: only the first used”Warning message in 2:dim(tab_tmp):\n",
      "“numerical expression has 2 elements: only the first used”Warning message in 2:dim(tab_tmp):\n",
      "“numerical expression has 2 elements: only the first used”Warning message in 2:dim(tab_tmp):\n",
      "“numerical expression has 2 elements: only the first used”Warning message in 2:dim(tab_tmp):\n"
     ]
    },
    {
     "name": "stderr",
     "output_type": "stream",
     "text": [
      "“numerical expression has 2 elements: only the first used”Warning message in 2:dim(tab_tmp):\n",
      "“numerical expression has 2 elements: only the first used”Warning message in 2:dim(tab_tmp):\n",
      "“numerical expression has 2 elements: only the first used”Warning message in 2:dim(tab_tmp):\n",
      "“numerical expression has 2 elements: only the first used”Warning message in 2:dim(tab_tmp):\n",
      "“numerical expression has 2 elements: only the first used”Warning message in 2:dim(tab_tmp):\n",
      "“numerical expression has 2 elements: only the first used”Warning message in 2:dim(tab_tmp):\n",
      "“numerical expression has 2 elements: only the first used”Warning message in 2:dim(tab_tmp):\n",
      "“numerical expression has 2 elements: only the first used”Warning message in 2:dim(tab_tmp):\n",
      "“numerical expression has 2 elements: only the first used”Warning message in 2:dim(tab_tmp):\n",
      "“numerical expression has 2 elements: only the first used”Warning message in 2:dim(tab_tmp):\n",
      "“numerical expression has 2 elements: only the first used”Warning message in 2:dim(tab_tmp):\n",
      "“numerical expression has 2 elements: only the first used”Warning message in 2:dim(tab_tmp):\n",
      "“numerical expression has 2 elements: only the first used”Warning message in 2:dim(tab_tmp):\n",
      "“numerical expression has 2 elements: only the first used”Warning message in 2:dim(tab_tmp):\n",
      "“numerical expression has 2 elements: only the first used”Warning message in 2:dim(tab_tmp):\n",
      "“numerical expression has 2 elements: only the first used”Warning message in 2:dim(tab_tmp):\n",
      "“numerical expression has 2 elements: only the first used”Warning message in 2:dim(tab_tmp):\n",
      "“numerical expression has 2 elements: only the first used”Warning message in 2:dim(tab_tmp):\n",
      "“numerical expression has 2 elements: only the first used”Warning message in 2:dim(tab_tmp):\n",
      "“numerical expression has 2 elements: only the first used”Warning message in 2:dim(tab_tmp):\n",
      "“numerical expression has 2 elements: only the first used”Warning message in 2:dim(tab_tmp):\n",
      "“numerical expression has 2 elements: only the first used”Warning message in 2:dim(tab_tmp):\n",
      "“numerical expression has 2 elements: only the first used”Warning message in 2:dim(tab_tmp):\n",
      "“numerical expression has 2 elements: only the first used”Warning message in 2:dim(tab_tmp):\n",
      "“numerical expression has 2 elements: only the first used”Warning message in 2:dim(tab_tmp):\n",
      "“numerical expression has 2 elements: only the first used”Warning message in 2:dim(tab_tmp):\n",
      "“numerical expression has 2 elements: only the first used”Warning message in 2:dim(tab_tmp):\n",
      "“numerical expression has 2 elements: only the first used”Warning message in 2:dim(tab_tmp):\n",
      "“numerical expression has 2 elements: only the first used”Warning message in 2:dim(tab_tmp):\n",
      "“numerical expression has 2 elements: only the first used”Warning message in 2:dim(tab_tmp):\n",
      "“numerical expression has 2 elements: only the first used”Warning message in 2:dim(tab_tmp):\n",
      "“numerical expression has 2 elements: only the first used”Warning message in 2:dim(tab_tmp):\n",
      "“numerical expression has 2 elements: only the first used”Warning message in 2:dim(tab_tmp):\n",
      "“numerical expression has 2 elements: only the first used”Warning message in 2:dim(tab_tmp):\n",
      "“numerical expression has 2 elements: only the first used”Warning message in 2:dim(tab_tmp):\n",
      "“numerical expression has 2 elements: only the first used”Warning message in 2:dim(tab_tmp):\n",
      "“numerical expression has 2 elements: only the first used”Warning message in 2:dim(tab_tmp):\n",
      "“numerical expression has 2 elements: only the first used”Warning message in 2:dim(tab_tmp):\n",
      "“numerical expression has 2 elements: only the first used”Warning message in 2:dim(tab_tmp):\n",
      "“numerical expression has 2 elements: only the first used”Warning message in 2:dim(tab_tmp):\n",
      "“numerical expression has 2 elements: only the first used”Warning message in 2:dim(tab_tmp):\n",
      "“numerical expression has 2 elements: only the first used”Warning message in 2:dim(tab_tmp):\n",
      "“numerical expression has 2 elements: only the first used”Warning message in 2:dim(tab_tmp):\n",
      "“numerical expression has 2 elements: only the first used”Warning message in 2:dim(tab_tmp):\n",
      "“numerical expression has 2 elements: only the first used”Warning message in 2:dim(tab_tmp):\n",
      "“numerical expression has 2 elements: only the first used”Warning message in 2:dim(tab_tmp):\n",
      "“numerical expression has 2 elements: only the first used”Warning message in 2:dim(tab_tmp):\n",
      "“numerical expression has 2 elements: only the first used”Warning message in 2:dim(tab_tmp):\n",
      "“numerical expression has 2 elements: only the first used”Warning message in 2:dim(tab_tmp):\n",
      "“numerical expression has 2 elements: only the first used”Warning message in 2:dim(tab_tmp):\n",
      "“numerical expression has 2 elements: only the first used”Warning message in 2:dim(tab_tmp):\n",
      "“numerical expression has 2 elements: only the first used”Warning message in 2:dim(tab_tmp):\n",
      "“numerical expression has 2 elements: only the first used”Warning message in 2:dim(tab_tmp):\n",
      "“numerical expression has 2 elements: only the first used”Warning message in 2:dim(tab_tmp):\n",
      "“numerical expression has 2 elements: only the first used”Warning message in 2:dim(tab_tmp):\n",
      "“numerical expression has 2 elements: only the first used”Warning message in 2:dim(tab_tmp):\n",
      "“numerical expression has 2 elements: only the first used”Warning message in 2:dim(tab_tmp):\n",
      "“numerical expression has 2 elements: only the first used”Warning message in 2:dim(tab_tmp):\n",
      "“numerical expression has 2 elements: only the first used”Warning message in 2:dim(tab_tmp):\n",
      "“numerical expression has 2 elements: only the first used”Warning message in 2:dim(tab_tmp):\n",
      "“numerical expression has 2 elements: only the first used”Warning message in 2:dim(tab_tmp):\n",
      "“numerical expression has 2 elements: only the first used”Warning message in 2:dim(tab_tmp):\n",
      "“numerical expression has 2 elements: only the first used”Warning message in 2:dim(tab_tmp):\n",
      "“numerical expression has 2 elements: only the first used”Warning message in 2:dim(tab_tmp):\n",
      "“numerical expression has 2 elements: only the first used”Warning message in 2:dim(tab_tmp):\n",
      "“numerical expression has 2 elements: only the first used”Warning message in 2:dim(tab_tmp):\n",
      "“numerical expression has 2 elements: only the first used”Warning message in 2:dim(tab_tmp):\n",
      "“numerical expression has 2 elements: only the first used”Warning message in 2:dim(tab_tmp):\n",
      "“numerical expression has 2 elements: only the first used”Warning message in 2:dim(tab_tmp):\n",
      "“numerical expression has 2 elements: only the first used”Warning message in 2:dim(tab_tmp):\n",
      "“numerical expression has 2 elements: only the first used”Warning message in 2:dim(tab_tmp):\n",
      "“numerical expression has 2 elements: only the first used”Warning message in 2:dim(tab_tmp):\n",
      "“numerical expression has 2 elements: only the first used”Warning message in 2:dim(tab_tmp):\n",
      "“numerical expression has 2 elements: only the first used”Warning message in 2:dim(tab_tmp):\n",
      "“numerical expression has 2 elements: only the first used”Warning message in 2:dim(tab_tmp):\n",
      "“numerical expression has 2 elements: only the first used”Warning message in 2:dim(tab_tmp):\n",
      "“numerical expression has 2 elements: only the first used”Warning message in 2:dim(tab_tmp):\n",
      "“numerical expression has 2 elements: only the first used”Warning message in 2:dim(tab_tmp):\n",
      "“numerical expression has 2 elements: only the first used”Warning message in 2:dim(tab_tmp):\n",
      "“numerical expression has 2 elements: only the first used”Warning message in 2:dim(tab_tmp):\n",
      "“numerical expression has 2 elements: only the first used”Warning message in 2:dim(tab_tmp):\n",
      "“numerical expression has 2 elements: only the first used”Warning message in 2:dim(tab_tmp):\n",
      "“numerical expression has 2 elements: only the first used”Warning message in 2:dim(tab_tmp):\n",
      "“numerical expression has 2 elements: only the first used”Warning message in 2:dim(tab_tmp):\n",
      "“numerical expression has 2 elements: only the first used”Warning message in 2:dim(tab_tmp):\n",
      "“numerical expression has 2 elements: only the first used”Warning message in 2:dim(tab_tmp):\n",
      "“numerical expression has 2 elements: only the first used”Warning message in 2:dim(tab_tmp):\n",
      "“numerical expression has 2 elements: only the first used”Warning message in 2:dim(tab_tmp):\n",
      "“numerical expression has 2 elements: only the first used”Warning message in 2:dim(tab_tmp):\n",
      "“numerical expression has 2 elements: only the first used”Warning message in 2:dim(tab_tmp):\n",
      "“numerical expression has 2 elements: only the first used”Warning message in 2:dim(tab_tmp):\n",
      "“numerical expression has 2 elements: only the first used”Warning message in 2:dim(tab_tmp):\n",
      "“numerical expression has 2 elements: only the first used”Warning message in 2:dim(tab_tmp):\n",
      "“numerical expression has 2 elements: only the first used”Warning message in 2:dim(tab_tmp):\n",
      "“numerical expression has 2 elements: only the first used”Warning message in 2:dim(tab_tmp):\n",
      "“numerical expression has 2 elements: only the first used”Warning message in 2:dim(tab_tmp):\n",
      "“numerical expression has 2 elements: only the first used”Warning message in 2:dim(tab_tmp):\n",
      "“numerical expression has 2 elements: only the first used”Warning message in 2:dim(tab_tmp):\n",
      "“numerical expression has 2 elements: only the first used”Warning message in 2:dim(tab_tmp):\n",
      "“numerical expression has 2 elements: only the first used”Warning message in 2:dim(tab_tmp):\n",
      "“numerical expression has 2 elements: only the first used”Warning message in 2:dim(tab_tmp):\n",
      "“numerical expression has 2 elements: only the first used”Warning message in 2:dim(tab_tmp):\n",
      "“numerical expression has 2 elements: only the first used”Warning message in 2:dim(tab_tmp):\n",
      "“numerical expression has 2 elements: only the first used”Warning message in 2:dim(tab_tmp):\n",
      "“numerical expression has 2 elements: only the first used”Warning message in 2:dim(tab_tmp):\n",
      "“numerical expression has 2 elements: only the first used”Warning message in 2:dim(tab_tmp):\n",
      "“numerical expression has 2 elements: only the first used”Warning message in 2:dim(tab_tmp):\n",
      "“numerical expression has 2 elements: only the first used”Warning message in 2:dim(tab_tmp):\n",
      "“numerical expression has 2 elements: only the first used”Warning message in 2:dim(tab_tmp):\n",
      "“numerical expression has 2 elements: only the first used”Warning message in 2:dim(tab_tmp):\n",
      "“numerical expression has 2 elements: only the first used”Warning message in 2:dim(tab_tmp):\n",
      "“numerical expression has 2 elements: only the first used”Warning message in 2:dim(tab_tmp):\n",
      "“numerical expression has 2 elements: only the first used”Warning message in 2:dim(tab_tmp):\n",
      "“numerical expression has 2 elements: only the first used”Warning message in 2:dim(tab_tmp):\n",
      "“numerical expression has 2 elements: only the first used”Warning message in 2:dim(tab_tmp):\n",
      "“numerical expression has 2 elements: only the first used”Warning message in 2:dim(tab_tmp):\n",
      "“numerical expression has 2 elements: only the first used”Warning message in 2:dim(tab_tmp):\n",
      "“numerical expression has 2 elements: only the first used”Warning message in 2:dim(tab_tmp):\n",
      "“numerical expression has 2 elements: only the first used”Warning message in 2:dim(tab_tmp):\n",
      "“numerical expression has 2 elements: only the first used”Warning message in 2:dim(tab_tmp):\n",
      "“numerical expression has 2 elements: only the first used”Warning message in 2:dim(tab_tmp):\n",
      "“numerical expression has 2 elements: only the first used”Warning message in 2:dim(tab_tmp):\n",
      "“numerical expression has 2 elements: only the first used”Warning message in 2:dim(tab_tmp):\n",
      "“numerical expression has 2 elements: only the first used”Warning message in 2:dim(tab_tmp):\n",
      "“numerical expression has 2 elements: only the first used”Warning message in 2:dim(tab_tmp):\n",
      "“numerical expression has 2 elements: only the first used”Warning message in 2:dim(tab_tmp):\n",
      "“numerical expression has 2 elements: only the first used”Warning message in 2:dim(tab_tmp):\n",
      "“numerical expression has 2 elements: only the first used”Warning message in 2:dim(tab_tmp):\n",
      "“numerical expression has 2 elements: only the first used”Warning message in 2:dim(tab_tmp):\n",
      "“numerical expression has 2 elements: only the first used”Warning message in 2:dim(tab_tmp):\n",
      "“numerical expression has 2 elements: only the first used”Warning message in 2:dim(tab_tmp):\n",
      "“numerical expression has 2 elements: only the first used”Warning message in 2:dim(tab_tmp):\n",
      "“numerical expression has 2 elements: only the first used”Warning message in 2:dim(tab_tmp):\n",
      "“numerical expression has 2 elements: only the first used”Warning message in 2:dim(tab_tmp):\n",
      "“numerical expression has 2 elements: only the first used”Warning message in 2:dim(tab_tmp):\n",
      "“numerical expression has 2 elements: only the first used”Warning message in 2:dim(tab_tmp):\n",
      "“numerical expression has 2 elements: only the first used”Warning message in 2:dim(tab_tmp):\n",
      "“numerical expression has 2 elements: only the first used”Warning message in 2:dim(tab_tmp):\n",
      "“numerical expression has 2 elements: only the first used”Warning message in 2:dim(tab_tmp):\n",
      "“numerical expression has 2 elements: only the first used”Warning message in 2:dim(tab_tmp):\n",
      "“numerical expression has 2 elements: only the first used”Warning message in 2:dim(tab_tmp):\n",
      "“numerical expression has 2 elements: only the first used”Warning message in 2:dim(tab_tmp):\n",
      "“numerical expression has 2 elements: only the first used”Warning message in 2:dim(tab_tmp):\n",
      "“numerical expression has 2 elements: only the first used”Warning message in 2:dim(tab_tmp):\n",
      "“numerical expression has 2 elements: only the first used”Warning message in 2:dim(tab_tmp):\n",
      "“numerical expression has 2 elements: only the first used”Warning message in 2:dim(tab_tmp):\n",
      "“numerical expression has 2 elements: only the first used”Warning message in 2:dim(tab_tmp):\n",
      "“numerical expression has 2 elements: only the first used”Warning message in 2:dim(tab_tmp):\n",
      "“numerical expression has 2 elements: only the first used”Warning message in 2:dim(tab_tmp):\n",
      "“numerical expression has 2 elements: only the first used”Warning message in 2:dim(tab_tmp):\n",
      "“numerical expression has 2 elements: only the first used”Warning message in 2:dim(tab_tmp):\n",
      "“numerical expression has 2 elements: only the first used”Warning message in 2:dim(tab_tmp):\n",
      "“numerical expression has 2 elements: only the first used”Warning message in 2:dim(tab_tmp):\n",
      "“numerical expression has 2 elements: only the first used”Warning message in 2:dim(tab_tmp):\n",
      "“numerical expression has 2 elements: only the first used”Warning message in 2:dim(tab_tmp):\n",
      "“numerical expression has 2 elements: only the first used”Warning message in 2:dim(tab_tmp):\n",
      "“numerical expression has 2 elements: only the first used”Warning message in 2:dim(tab_tmp):\n",
      "“numerical expression has 2 elements: only the first used”Warning message in 2:dim(tab_tmp):\n",
      "“numerical expression has 2 elements: only the first used”Warning message in 2:dim(tab_tmp):\n",
      "“numerical expression has 2 elements: only the first used”Warning message in 2:dim(tab_tmp):\n",
      "“numerical expression has 2 elements: only the first used”Warning message in 2:dim(tab_tmp):\n",
      "“numerical expression has 2 elements: only the first used”Warning message in 2:dim(tab_tmp):\n",
      "“numerical expression has 2 elements: only the first used”Warning message in 2:dim(tab_tmp):\n",
      "“numerical expression has 2 elements: only the first used”Warning message in 2:dim(tab_tmp):\n",
      "“numerical expression has 2 elements: only the first used”Warning message in 2:dim(tab_tmp):\n",
      "“numerical expression has 2 elements: only the first used”Warning message in 2:dim(tab_tmp):\n",
      "“numerical expression has 2 elements: only the first used”Warning message in 2:dim(tab_tmp):\n",
      "“numerical expression has 2 elements: only the first used”Warning message in 2:dim(tab_tmp):\n",
      "“numerical expression has 2 elements: only the first used”Warning message in 2:dim(tab_tmp):\n",
      "“numerical expression has 2 elements: only the first used”Warning message in 2:dim(tab_tmp):\n",
      "“numerical expression has 2 elements: only the first used”Warning message in 2:dim(tab_tmp):\n",
      "“numerical expression has 2 elements: only the first used”Warning message in 2:dim(tab_tmp):\n",
      "“numerical expression has 2 elements: only the first used”Warning message in 2:dim(tab_tmp):\n",
      "“numerical expression has 2 elements: only the first used”Warning message in 2:dim(tab_tmp):\n",
      "“numerical expression has 2 elements: only the first used”Warning message in 2:dim(tab_tmp):\n",
      "“numerical expression has 2 elements: only the first used”Warning message in 2:dim(tab_tmp):\n"
     ]
    },
    {
     "name": "stderr",
     "output_type": "stream",
     "text": [
      "“numerical expression has 2 elements: only the first used”Warning message in 2:dim(tab_tmp):\n",
      "“numerical expression has 2 elements: only the first used”Warning message in 2:dim(tab_tmp):\n",
      "“numerical expression has 2 elements: only the first used”Warning message in 2:dim(tab_tmp):\n",
      "“numerical expression has 2 elements: only the first used”Warning message in 2:dim(tab_tmp):\n",
      "“numerical expression has 2 elements: only the first used”Warning message in 2:dim(tab_tmp):\n",
      "“numerical expression has 2 elements: only the first used”Warning message in 2:dim(tab_tmp):\n",
      "“numerical expression has 2 elements: only the first used”Warning message in 2:dim(tab_tmp):\n",
      "“numerical expression has 2 elements: only the first used”Warning message in 2:dim(tab_tmp):\n",
      "“numerical expression has 2 elements: only the first used”Warning message in 2:dim(tab_tmp):\n",
      "“numerical expression has 2 elements: only the first used”Warning message in 2:dim(tab_tmp):\n",
      "“numerical expression has 2 elements: only the first used”Warning message in 2:dim(tab_tmp):\n",
      "“numerical expression has 2 elements: only the first used”Warning message in 2:dim(tab_tmp):\n",
      "“numerical expression has 2 elements: only the first used”Warning message in 2:dim(tab_tmp):\n",
      "“numerical expression has 2 elements: only the first used”Warning message in 2:dim(tab_tmp):\n",
      "“numerical expression has 2 elements: only the first used”Warning message in 2:dim(tab_tmp):\n",
      "“numerical expression has 2 elements: only the first used”Warning message in 2:dim(tab_tmp):\n",
      "“numerical expression has 2 elements: only the first used”Warning message in 2:dim(tab_tmp):\n",
      "“numerical expression has 2 elements: only the first used”Warning message in 2:dim(tab_tmp):\n",
      "“numerical expression has 2 elements: only the first used”Warning message in 2:dim(tab_tmp):\n",
      "“numerical expression has 2 elements: only the first used”Warning message in 2:dim(tab_tmp):\n",
      "“numerical expression has 2 elements: only the first used”Warning message in 2:dim(tab_tmp):\n",
      "“numerical expression has 2 elements: only the first used”Warning message in 2:dim(tab_tmp):\n",
      "“numerical expression has 2 elements: only the first used”Warning message in 2:dim(tab_tmp):\n",
      "“numerical expression has 2 elements: only the first used”Warning message in 2:dim(tab_tmp):\n",
      "“numerical expression has 2 elements: only the first used”Warning message in 2:dim(tab_tmp):\n",
      "“numerical expression has 2 elements: only the first used”Warning message in 2:dim(tab_tmp):\n",
      "“numerical expression has 2 elements: only the first used”Warning message in 2:dim(tab_tmp):\n",
      "“numerical expression has 2 elements: only the first used”Warning message in 2:dim(tab_tmp):\n",
      "“numerical expression has 2 elements: only the first used”Warning message in 2:dim(tab_tmp):\n",
      "“numerical expression has 2 elements: only the first used”Warning message in 2:dim(tab_tmp):\n",
      "“numerical expression has 2 elements: only the first used”Warning message in 2:dim(tab_tmp):\n",
      "“numerical expression has 2 elements: only the first used”Warning message in 2:dim(tab_tmp):\n",
      "“numerical expression has 2 elements: only the first used”Warning message in 2:dim(tab_tmp):\n",
      "“numerical expression has 2 elements: only the first used”Warning message in 2:dim(tab_tmp):\n",
      "“numerical expression has 2 elements: only the first used”Warning message in 2:dim(tab_tmp):\n",
      "“numerical expression has 2 elements: only the first used”Warning message in 2:dim(tab_tmp):\n",
      "“numerical expression has 2 elements: only the first used”Warning message in 2:dim(tab_tmp):\n",
      "“numerical expression has 2 elements: only the first used”Warning message in 2:dim(tab_tmp):\n",
      "“numerical expression has 2 elements: only the first used”Warning message in 2:dim(tab_tmp):\n",
      "“numerical expression has 2 elements: only the first used”Warning message in 2:dim(tab_tmp):\n",
      "“numerical expression has 2 elements: only the first used”Warning message in 2:dim(tab_tmp):\n",
      "“numerical expression has 2 elements: only the first used”Warning message in 2:dim(tab_tmp):\n",
      "“numerical expression has 2 elements: only the first used”Warning message in 2:dim(tab_tmp):\n",
      "“numerical expression has 2 elements: only the first used”Warning message in 2:dim(tab_tmp):\n",
      "“numerical expression has 2 elements: only the first used”Warning message in 2:dim(tab_tmp):\n",
      "“numerical expression has 2 elements: only the first used”Warning message in 2:dim(tab_tmp):\n",
      "“numerical expression has 2 elements: only the first used”Warning message in 2:dim(tab_tmp):\n",
      "“numerical expression has 2 elements: only the first used”Warning message in 2:dim(tab_tmp):\n",
      "“numerical expression has 2 elements: only the first used”Warning message in 2:dim(tab_tmp):\n",
      "“numerical expression has 2 elements: only the first used”Warning message in 2:dim(tab_tmp):\n",
      "“numerical expression has 2 elements: only the first used”Warning message in 2:dim(tab_tmp):\n",
      "“numerical expression has 2 elements: only the first used”Warning message in 2:dim(tab_tmp):\n",
      "“numerical expression has 2 elements: only the first used”Warning message in 2:dim(tab_tmp):\n",
      "“numerical expression has 2 elements: only the first used”Warning message in 2:dim(tab_tmp):\n",
      "“numerical expression has 2 elements: only the first used”Warning message in 2:dim(tab_tmp):\n",
      "“numerical expression has 2 elements: only the first used”Warning message in 2:dim(tab_tmp):\n",
      "“numerical expression has 2 elements: only the first used”Warning message in 2:dim(tab_tmp):\n",
      "“numerical expression has 2 elements: only the first used”Warning message in 2:dim(tab_tmp):\n",
      "“numerical expression has 2 elements: only the first used”Warning message in 2:dim(tab_tmp):\n",
      "“numerical expression has 2 elements: only the first used”Warning message in 2:dim(tab_tmp):\n",
      "“numerical expression has 2 elements: only the first used”Warning message in 2:dim(tab_tmp):\n",
      "“numerical expression has 2 elements: only the first used”Warning message in 2:dim(tab_tmp):\n",
      "“numerical expression has 2 elements: only the first used”Warning message in 2:dim(tab_tmp):\n",
      "“numerical expression has 2 elements: only the first used”Warning message in 2:dim(tab_tmp):\n",
      "“numerical expression has 2 elements: only the first used”Warning message in 2:dim(tab_tmp):\n",
      "“numerical expression has 2 elements: only the first used”Warning message in 2:dim(tab_tmp):\n",
      "“numerical expression has 2 elements: only the first used”Warning message in 2:dim(tab_tmp):\n",
      "“numerical expression has 2 elements: only the first used”Warning message in 2:dim(tab_tmp):\n",
      "“numerical expression has 2 elements: only the first used”Warning message in 2:dim(tab_tmp):\n",
      "“numerical expression has 2 elements: only the first used”Warning message in 2:dim(tab_tmp):\n",
      "“numerical expression has 2 elements: only the first used”Warning message in 2:dim(tab_tmp):\n",
      "“numerical expression has 2 elements: only the first used”Warning message in 2:dim(tab_tmp):\n",
      "“numerical expression has 2 elements: only the first used”Warning message in 2:dim(tab_tmp):\n",
      "“numerical expression has 2 elements: only the first used”Warning message in 2:dim(tab_tmp):\n",
      "“numerical expression has 2 elements: only the first used”Warning message in 2:dim(tab_tmp):\n",
      "“numerical expression has 2 elements: only the first used”Warning message in 2:dim(tab_tmp):\n",
      "“numerical expression has 2 elements: only the first used”Warning message in 2:dim(tab_tmp):\n",
      "“numerical expression has 2 elements: only the first used”Warning message in 2:dim(tab_tmp):\n",
      "“numerical expression has 2 elements: only the first used”Warning message in 2:dim(tab_tmp):\n",
      "“numerical expression has 2 elements: only the first used”Warning message in 2:dim(tab_tmp):\n",
      "“numerical expression has 2 elements: only the first used”Warning message in 2:dim(tab_tmp):\n",
      "“numerical expression has 2 elements: only the first used”Warning message in 2:dim(tab_tmp):\n",
      "“numerical expression has 2 elements: only the first used”Warning message in 2:dim(tab_tmp):\n",
      "“numerical expression has 2 elements: only the first used”Warning message in 2:dim(tab_tmp):\n",
      "“numerical expression has 2 elements: only the first used”Warning message in 2:dim(tab_tmp):\n",
      "“numerical expression has 2 elements: only the first used”Warning message in 2:dim(tab_tmp):\n",
      "“numerical expression has 2 elements: only the first used”Warning message in 2:dim(tab_tmp):\n",
      "“numerical expression has 2 elements: only the first used”Warning message in 2:dim(tab_tmp):\n",
      "“numerical expression has 2 elements: only the first used”Warning message in 2:dim(tab_tmp):\n",
      "“numerical expression has 2 elements: only the first used”Warning message in 2:dim(tab_tmp):\n",
      "“numerical expression has 2 elements: only the first used”Warning message in 2:dim(tab_tmp):\n",
      "“numerical expression has 2 elements: only the first used”Warning message in 2:dim(tab_tmp):\n",
      "“numerical expression has 2 elements: only the first used”Warning message in 2:dim(tab_tmp):\n",
      "“numerical expression has 2 elements: only the first used”Warning message in 2:dim(tab_tmp):\n",
      "“numerical expression has 2 elements: only the first used”Warning message in 2:dim(tab_tmp):\n",
      "“numerical expression has 2 elements: only the first used”Warning message in 2:dim(tab_tmp):\n",
      "“numerical expression has 2 elements: only the first used”Warning message in 2:dim(tab_tmp):\n",
      "“numerical expression has 2 elements: only the first used”Warning message in 2:dim(tab_tmp):\n",
      "“numerical expression has 2 elements: only the first used”Warning message in 2:dim(tab_tmp):\n",
      "“numerical expression has 2 elements: only the first used”Warning message in 2:dim(tab_tmp):\n",
      "“numerical expression has 2 elements: only the first used”Warning message in 2:dim(tab_tmp):\n",
      "“numerical expression has 2 elements: only the first used”Warning message in 2:dim(tab_tmp):\n",
      "“numerical expression has 2 elements: only the first used”Warning message in 2:dim(tab_tmp):\n",
      "“numerical expression has 2 elements: only the first used”Warning message in 2:dim(tab_tmp):\n",
      "“numerical expression has 2 elements: only the first used”Warning message in 2:dim(tab_tmp):\n",
      "“numerical expression has 2 elements: only the first used”Warning message in 2:dim(tab_tmp):\n",
      "“numerical expression has 2 elements: only the first used”Warning message in 2:dim(tab_tmp):\n",
      "“numerical expression has 2 elements: only the first used”Warning message in 2:dim(tab_tmp):\n",
      "“numerical expression has 2 elements: only the first used”Warning message in 2:dim(tab_tmp):\n",
      "“numerical expression has 2 elements: only the first used”Warning message in 2:dim(tab_tmp):\n",
      "“numerical expression has 2 elements: only the first used”Warning message in 2:dim(tab_tmp):\n",
      "“numerical expression has 2 elements: only the first used”Warning message in 2:dim(tab_tmp):\n",
      "“numerical expression has 2 elements: only the first used”Warning message in 2:dim(tab_tmp):\n",
      "“numerical expression has 2 elements: only the first used”Warning message in 2:dim(tab_tmp):\n",
      "“numerical expression has 2 elements: only the first used”Warning message in 2:dim(tab_tmp):\n",
      "“numerical expression has 2 elements: only the first used”Warning message in 2:dim(tab_tmp):\n",
      "“numerical expression has 2 elements: only the first used”Warning message in 2:dim(tab_tmp):\n",
      "“numerical expression has 2 elements: only the first used”Warning message in 2:dim(tab_tmp):\n",
      "“numerical expression has 2 elements: only the first used”Warning message in 2:dim(tab_tmp):\n",
      "“numerical expression has 2 elements: only the first used”Warning message in 2:dim(tab_tmp):\n",
      "“numerical expression has 2 elements: only the first used”Warning message in 2:dim(tab_tmp):\n",
      "“numerical expression has 2 elements: only the first used”Warning message in 2:dim(tab_tmp):\n",
      "“numerical expression has 2 elements: only the first used”Warning message in 2:dim(tab_tmp):\n",
      "“numerical expression has 2 elements: only the first used”Warning message in 2:dim(tab_tmp):\n",
      "“numerical expression has 2 elements: only the first used”Warning message in 2:dim(tab_tmp):\n",
      "“numerical expression has 2 elements: only the first used”Warning message in 2:dim(tab_tmp):\n",
      "“numerical expression has 2 elements: only the first used”Warning message in 2:dim(tab_tmp):\n",
      "“numerical expression has 2 elements: only the first used”Warning message in 2:dim(tab_tmp):\n",
      "“numerical expression has 2 elements: only the first used”Warning message in 2:dim(tab_tmp):\n",
      "“numerical expression has 2 elements: only the first used”Warning message in 2:dim(tab_tmp):\n",
      "“numerical expression has 2 elements: only the first used”Warning message in 2:dim(tab_tmp):\n",
      "“numerical expression has 2 elements: only the first used”Warning message in 2:dim(tab_tmp):\n",
      "“numerical expression has 2 elements: only the first used”Warning message in 2:dim(tab_tmp):\n",
      "“numerical expression has 2 elements: only the first used”Warning message in 2:dim(tab_tmp):\n",
      "“numerical expression has 2 elements: only the first used”Warning message in 2:dim(tab_tmp):\n",
      "“numerical expression has 2 elements: only the first used”Warning message in 2:dim(tab_tmp):\n",
      "“numerical expression has 2 elements: only the first used”Warning message in 2:dim(tab_tmp):\n",
      "“numerical expression has 2 elements: only the first used”Warning message in 2:dim(tab_tmp):\n",
      "“numerical expression has 2 elements: only the first used”Warning message in 2:dim(tab_tmp):\n",
      "“numerical expression has 2 elements: only the first used”Warning message in 2:dim(tab_tmp):\n",
      "“numerical expression has 2 elements: only the first used”Warning message in 2:dim(tab_tmp):\n",
      "“numerical expression has 2 elements: only the first used”Warning message in 2:dim(tab_tmp):\n",
      "“numerical expression has 2 elements: only the first used”Warning message in 2:dim(tab_tmp):\n",
      "“numerical expression has 2 elements: only the first used”Warning message in 2:dim(tab_tmp):\n",
      "“numerical expression has 2 elements: only the first used”Warning message in 2:dim(tab_tmp):\n",
      "“numerical expression has 2 elements: only the first used”Warning message in 2:dim(tab_tmp):\n",
      "“numerical expression has 2 elements: only the first used”Warning message in 2:dim(tab_tmp):\n",
      "“numerical expression has 2 elements: only the first used”Warning message in 2:dim(tab_tmp):\n",
      "“numerical expression has 2 elements: only the first used”Warning message in 2:dim(tab_tmp):\n",
      "“numerical expression has 2 elements: only the first used”Warning message in 2:dim(tab_tmp):\n",
      "“numerical expression has 2 elements: only the first used”Warning message in 2:dim(tab_tmp):\n",
      "“numerical expression has 2 elements: only the first used”Warning message in 2:dim(tab_tmp):\n",
      "“numerical expression has 2 elements: only the first used”Warning message in 2:dim(tab_tmp):\n",
      "“numerical expression has 2 elements: only the first used”Warning message in 2:dim(tab_tmp):\n",
      "“numerical expression has 2 elements: only the first used”Warning message in 2:dim(tab_tmp):\n",
      "“numerical expression has 2 elements: only the first used”Warning message in 2:dim(tab_tmp):\n",
      "“numerical expression has 2 elements: only the first used”Warning message in 2:dim(tab_tmp):\n",
      "“numerical expression has 2 elements: only the first used”Warning message in 2:dim(tab_tmp):\n",
      "“numerical expression has 2 elements: only the first used”Warning message in 2:dim(tab_tmp):\n",
      "“numerical expression has 2 elements: only the first used”Warning message in 2:dim(tab_tmp):\n",
      "“numerical expression has 2 elements: only the first used”Warning message in 2:dim(tab_tmp):\n",
      "“numerical expression has 2 elements: only the first used”Warning message in 2:dim(tab_tmp):\n",
      "“numerical expression has 2 elements: only the first used”Warning message in 2:dim(tab_tmp):\n",
      "“numerical expression has 2 elements: only the first used”Warning message in 2:dim(tab_tmp):\n",
      "“numerical expression has 2 elements: only the first used”Warning message in 2:dim(tab_tmp):\n",
      "“numerical expression has 2 elements: only the first used”Warning message in 2:dim(tab_tmp):\n",
      "“numerical expression has 2 elements: only the first used”Warning message in 2:dim(tab_tmp):\n",
      "“numerical expression has 2 elements: only the first used”Warning message in 2:dim(tab_tmp):\n",
      "“numerical expression has 2 elements: only the first used”Warning message in 2:dim(tab_tmp):\n",
      "“numerical expression has 2 elements: only the first used”Warning message in 2:dim(tab_tmp):\n",
      "“numerical expression has 2 elements: only the first used”Warning message in 2:dim(tab_tmp):\n",
      "“numerical expression has 2 elements: only the first used”Warning message in 2:dim(tab_tmp):\n",
      "“numerical expression has 2 elements: only the first used”Warning message in 2:dim(tab_tmp):\n",
      "“numerical expression has 2 elements: only the first used”Warning message in 2:dim(tab_tmp):\n",
      "“numerical expression has 2 elements: only the first used”Warning message in 2:dim(tab_tmp):\n",
      "“numerical expression has 2 elements: only the first used”Warning message in 2:dim(tab_tmp):\n"
     ]
    },
    {
     "name": "stderr",
     "output_type": "stream",
     "text": [
      "“numerical expression has 2 elements: only the first used”Warning message in 2:dim(tab_tmp):\n",
      "“numerical expression has 2 elements: only the first used”Warning message in 2:dim(tab_tmp):\n",
      "“numerical expression has 2 elements: only the first used”Warning message in 2:dim(tab_tmp):\n",
      "“numerical expression has 2 elements: only the first used”Warning message in 2:dim(tab_tmp):\n",
      "“numerical expression has 2 elements: only the first used”Warning message in 2:dim(tab_tmp):\n",
      "“numerical expression has 2 elements: only the first used”Warning message in 2:dim(tab_tmp):\n",
      "“numerical expression has 2 elements: only the first used”Warning message in 2:dim(tab_tmp):\n",
      "“numerical expression has 2 elements: only the first used”Warning message in 2:dim(tab_tmp):\n",
      "“numerical expression has 2 elements: only the first used”Warning message in 2:dim(tab_tmp):\n",
      "“numerical expression has 2 elements: only the first used”Warning message in 2:dim(tab_tmp):\n",
      "“numerical expression has 2 elements: only the first used”Warning message in 2:dim(tab_tmp):\n",
      "“numerical expression has 2 elements: only the first used”Warning message in 2:dim(tab_tmp):\n",
      "“numerical expression has 2 elements: only the first used”Warning message in 2:dim(tab_tmp):\n",
      "“numerical expression has 2 elements: only the first used”Warning message in 2:dim(tab_tmp):\n",
      "“numerical expression has 2 elements: only the first used”Warning message in 2:dim(tab_tmp):\n",
      "“numerical expression has 2 elements: only the first used”Warning message in 2:dim(tab_tmp):\n",
      "“numerical expression has 2 elements: only the first used”Warning message in 2:dim(tab_tmp):\n",
      "“numerical expression has 2 elements: only the first used”Warning message in 2:dim(tab_tmp):\n",
      "“numerical expression has 2 elements: only the first used”Warning message in 2:dim(tab_tmp):\n",
      "“numerical expression has 2 elements: only the first used”Warning message in 2:dim(tab_tmp):\n",
      "“numerical expression has 2 elements: only the first used”Warning message in 2:dim(tab_tmp):\n",
      "“numerical expression has 2 elements: only the first used”Warning message in 2:dim(tab_tmp):\n",
      "“numerical expression has 2 elements: only the first used”Warning message in 2:dim(tab_tmp):\n",
      "“numerical expression has 2 elements: only the first used”Warning message in 2:dim(tab_tmp):\n",
      "“numerical expression has 2 elements: only the first used”Warning message in 2:dim(tab_tmp):\n",
      "“numerical expression has 2 elements: only the first used”Warning message in 2:dim(tab_tmp):\n",
      "“numerical expression has 2 elements: only the first used”Warning message in 2:dim(tab_tmp):\n",
      "“numerical expression has 2 elements: only the first used”Warning message in 2:dim(tab_tmp):\n",
      "“numerical expression has 2 elements: only the first used”Warning message in 2:dim(tab_tmp):\n",
      "“numerical expression has 2 elements: only the first used”Warning message in 2:dim(tab_tmp):\n",
      "“numerical expression has 2 elements: only the first used”Warning message in 2:dim(tab_tmp):\n",
      "“numerical expression has 2 elements: only the first used”Warning message in 2:dim(tab_tmp):\n",
      "“numerical expression has 2 elements: only the first used”Warning message in 2:dim(tab_tmp):\n",
      "“numerical expression has 2 elements: only the first used”Warning message in 2:dim(tab_tmp):\n",
      "“numerical expression has 2 elements: only the first used”Warning message in 2:dim(tab_tmp):\n",
      "“numerical expression has 2 elements: only the first used”Warning message in 2:dim(tab_tmp):\n",
      "“numerical expression has 2 elements: only the first used”Warning message in 2:dim(tab_tmp):\n",
      "“numerical expression has 2 elements: only the first used”Warning message in 2:dim(tab_tmp):\n",
      "“numerical expression has 2 elements: only the first used”Warning message in 2:dim(tab_tmp):\n",
      "“numerical expression has 2 elements: only the first used”Warning message in 2:dim(tab_tmp):\n",
      "“numerical expression has 2 elements: only the first used”Warning message in 2:dim(tab_tmp):\n",
      "“numerical expression has 2 elements: only the first used”Warning message in 2:dim(tab_tmp):\n",
      "“numerical expression has 2 elements: only the first used”Warning message in 2:dim(tab_tmp):\n",
      "“numerical expression has 2 elements: only the first used”Warning message in 2:dim(tab_tmp):\n",
      "“numerical expression has 2 elements: only the first used”Warning message in 2:dim(tab_tmp):\n",
      "“numerical expression has 2 elements: only the first used”Warning message in 2:dim(tab_tmp):\n",
      "“numerical expression has 2 elements: only the first used”Warning message in 2:dim(tab_tmp):\n",
      "“numerical expression has 2 elements: only the first used”Warning message in 2:dim(tab_tmp):\n",
      "“numerical expression has 2 elements: only the first used”Warning message in 2:dim(tab_tmp):\n",
      "“numerical expression has 2 elements: only the first used”Warning message in 2:dim(tab_tmp):\n",
      "“numerical expression has 2 elements: only the first used”Warning message in 2:dim(tab_tmp):\n",
      "“numerical expression has 2 elements: only the first used”Warning message in eval(expr, envir, enclos):\n",
      "“NAs introduced by coercion”Warning message in 2:dim(tab_tmp):\n",
      "“numerical expression has 2 elements: only the first used”Warning message in 2:dim(tab_tmp):\n",
      "“numerical expression has 2 elements: only the first used”Warning message in 2:dim(tab_tmp):\n",
      "“numerical expression has 2 elements: only the first used”Warning message in 2:dim(tab_tmp):\n",
      "“numerical expression has 2 elements: only the first used”Warning message in 2:dim(tab_tmp):\n",
      "“numerical expression has 2 elements: only the first used”Warning message in 2:dim(tab_tmp):\n",
      "“numerical expression has 2 elements: only the first used”Warning message in eval(expr, envir, enclos):\n",
      "“NAs introduced by coercion”Warning message in 2:dim(tab_tmp):\n",
      "“numerical expression has 2 elements: only the first used”Warning message in 2:dim(tab_tmp):\n",
      "“numerical expression has 2 elements: only the first used”Warning message in 2:dim(tab_tmp):\n",
      "“numerical expression has 2 elements: only the first used”Warning message in 2:dim(tab_tmp):\n",
      "“numerical expression has 2 elements: only the first used”Warning message in 2:dim(tab_tmp):\n",
      "“numerical expression has 2 elements: only the first used”Warning message in 2:dim(tab_tmp):\n",
      "“numerical expression has 2 elements: only the first used”Warning message in 2:dim(tab_tmp):\n",
      "“numerical expression has 2 elements: only the first used”Warning message in 2:dim(tab_tmp):\n",
      "“numerical expression has 2 elements: only the first used”Warning message in 2:dim(tab_tmp):\n",
      "“numerical expression has 2 elements: only the first used”Warning message in 2:dim(tab_tmp):\n",
      "“numerical expression has 2 elements: only the first used”Warning message in 2:dim(tab_tmp):\n",
      "“numerical expression has 2 elements: only the first used”Warning message in 2:dim(tab_tmp):\n",
      "“numerical expression has 2 elements: only the first used”Warning message in 2:dim(tab_tmp):\n",
      "“numerical expression has 2 elements: only the first used”Warning message in 2:dim(tab_tmp):\n",
      "“numerical expression has 2 elements: only the first used”Warning message in 2:dim(tab_tmp):\n",
      "“numerical expression has 2 elements: only the first used”Warning message in 2:dim(tab_tmp):\n",
      "“numerical expression has 2 elements: only the first used”Warning message in 2:dim(tab_tmp):\n",
      "“numerical expression has 2 elements: only the first used”Warning message in 2:dim(tab_tmp):\n",
      "“numerical expression has 2 elements: only the first used”Warning message in 2:dim(tab_tmp):\n",
      "“numerical expression has 2 elements: only the first used”Warning message in 2:dim(tab_tmp):\n",
      "“numerical expression has 2 elements: only the first used”Warning message in 2:dim(tab_tmp):\n",
      "“numerical expression has 2 elements: only the first used”Warning message in 2:dim(tab_tmp):\n",
      "“numerical expression has 2 elements: only the first used”Warning message in 2:dim(tab_tmp):\n",
      "“numerical expression has 2 elements: only the first used”Warning message in 2:dim(tab_tmp):\n",
      "“numerical expression has 2 elements: only the first used”Warning message in 2:dim(tab_tmp):\n",
      "“numerical expression has 2 elements: only the first used”Warning message in 2:dim(tab_tmp):\n",
      "“numerical expression has 2 elements: only the first used”Warning message in 2:dim(tab_tmp):\n",
      "“numerical expression has 2 elements: only the first used”Warning message in 2:dim(tab_tmp):\n",
      "“numerical expression has 2 elements: only the first used”Warning message in 2:dim(tab_tmp):\n",
      "“numerical expression has 2 elements: only the first used”Warning message in 2:dim(tab_tmp):\n",
      "“numerical expression has 2 elements: only the first used”Warning message in 2:dim(tab_tmp):\n",
      "“numerical expression has 2 elements: only the first used”Warning message in 2:dim(tab_tmp):\n",
      "“numerical expression has 2 elements: only the first used”Warning message in 2:dim(tab_tmp):\n",
      "“numerical expression has 2 elements: only the first used”Warning message in 2:dim(tab_tmp):\n",
      "“numerical expression has 2 elements: only the first used”Warning message in 2:dim(tab_tmp):\n",
      "“numerical expression has 2 elements: only the first used”Warning message in 2:dim(tab_tmp):\n",
      "“numerical expression has 2 elements: only the first used”Warning message in 2:dim(tab_tmp):\n",
      "“numerical expression has 2 elements: only the first used”Warning message in 2:dim(tab_tmp):\n",
      "“numerical expression has 2 elements: only the first used”Warning message in 2:dim(tab_tmp):\n",
      "“numerical expression has 2 elements: only the first used”Warning message in 2:dim(tab_tmp):\n",
      "“numerical expression has 2 elements: only the first used”Warning message in 2:dim(tab_tmp):\n",
      "“numerical expression has 2 elements: only the first used”Warning message in 2:dim(tab_tmp):\n",
      "“numerical expression has 2 elements: only the first used”Warning message in 2:dim(tab_tmp):\n",
      "“numerical expression has 2 elements: only the first used”Warning message in 2:dim(tab_tmp):\n",
      "“numerical expression has 2 elements: only the first used”Warning message in 2:dim(tab_tmp):\n",
      "“numerical expression has 2 elements: only the first used”Warning message in 2:dim(tab_tmp):\n",
      "“numerical expression has 2 elements: only the first used”Warning message in 2:dim(tab_tmp):\n",
      "“numerical expression has 2 elements: only the first used”Warning message in 2:dim(tab_tmp):\n",
      "“numerical expression has 2 elements: only the first used”Warning message in 2:dim(tab_tmp):\n",
      "“numerical expression has 2 elements: only the first used”Warning message in 2:dim(tab_tmp):\n",
      "“numerical expression has 2 elements: only the first used”Warning message in 2:dim(tab_tmp):\n",
      "“numerical expression has 2 elements: only the first used”Warning message in 2:dim(tab_tmp):\n",
      "“numerical expression has 2 elements: only the first used”Warning message in 2:dim(tab_tmp):\n",
      "“numerical expression has 2 elements: only the first used”Warning message in 2:dim(tab_tmp):\n",
      "“numerical expression has 2 elements: only the first used”Warning message in 2:dim(tab_tmp):\n",
      "“numerical expression has 2 elements: only the first used”Warning message in 2:dim(tab_tmp):\n",
      "“numerical expression has 2 elements: only the first used”Warning message in 2:dim(tab_tmp):\n",
      "“numerical expression has 2 elements: only the first used”Warning message in 2:dim(tab_tmp):\n",
      "“numerical expression has 2 elements: only the first used”Warning message in 2:dim(tab_tmp):\n",
      "“numerical expression has 2 elements: only the first used”Warning message in 2:dim(tab_tmp):\n",
      "“numerical expression has 2 elements: only the first used”Warning message in 2:dim(tab_tmp):\n",
      "“numerical expression has 2 elements: only the first used”Warning message in 2:dim(tab_tmp):\n",
      "“numerical expression has 2 elements: only the first used”Warning message in 2:dim(tab_tmp):\n",
      "“numerical expression has 2 elements: only the first used”Warning message in 2:dim(tab_tmp):\n",
      "“numerical expression has 2 elements: only the first used”Warning message in 2:dim(tab_tmp):\n",
      "“numerical expression has 2 elements: only the first used”Warning message in 2:dim(tab_tmp):\n",
      "“numerical expression has 2 elements: only the first used”Warning message in 2:dim(tab_tmp):\n",
      "“numerical expression has 2 elements: only the first used”Warning message in 2:dim(tab_tmp):\n",
      "“numerical expression has 2 elements: only the first used”Warning message in 2:dim(tab_tmp):\n",
      "“numerical expression has 2 elements: only the first used”Warning message in 2:dim(tab_tmp):\n",
      "“numerical expression has 2 elements: only the first used”Warning message in 2:dim(tab_tmp):\n",
      "“numerical expression has 2 elements: only the first used”Warning message in 2:dim(tab_tmp):\n",
      "“numerical expression has 2 elements: only the first used”Warning message in 2:dim(tab_tmp):\n",
      "“numerical expression has 2 elements: only the first used”Warning message in 2:dim(tab_tmp):\n",
      "“numerical expression has 2 elements: only the first used”Warning message in 2:dim(tab_tmp):\n",
      "“numerical expression has 2 elements: only the first used”Warning message in 2:dim(tab_tmp):\n",
      "“numerical expression has 2 elements: only the first used”Warning message in 2:dim(tab_tmp):\n",
      "“numerical expression has 2 elements: only the first used”Warning message in 2:dim(tab_tmp):\n",
      "“numerical expression has 2 elements: only the first used”Warning message in 2:dim(tab_tmp):\n",
      "“numerical expression has 2 elements: only the first used”Warning message in 2:dim(tab_tmp):\n",
      "“numerical expression has 2 elements: only the first used”Warning message in 2:dim(tab_tmp):\n",
      "“numerical expression has 2 elements: only the first used”Warning message in 2:dim(tab_tmp):\n",
      "“numerical expression has 2 elements: only the first used”Warning message in 2:dim(tab_tmp):\n",
      "“numerical expression has 2 elements: only the first used”Warning message in 2:dim(tab_tmp):\n",
      "“numerical expression has 2 elements: only the first used”Warning message in 2:dim(tab_tmp):\n",
      "“numerical expression has 2 elements: only the first used”Warning message in 2:dim(tab_tmp):\n",
      "“numerical expression has 2 elements: only the first used”Warning message in 2:dim(tab_tmp):\n",
      "“numerical expression has 2 elements: only the first used”Warning message in 2:dim(tab_tmp):\n",
      "“numerical expression has 2 elements: only the first used”Warning message in 2:dim(tab_tmp):\n",
      "“numerical expression has 2 elements: only the first used”Warning message in 2:dim(tab_tmp):\n",
      "“numerical expression has 2 elements: only the first used”Warning message in 2:dim(tab_tmp):\n",
      "“numerical expression has 2 elements: only the first used”Warning message in 2:dim(tab_tmp):\n",
      "“numerical expression has 2 elements: only the first used”Warning message in 2:dim(tab_tmp):\n",
      "“numerical expression has 2 elements: only the first used”Warning message in 2:dim(tab_tmp):\n",
      "“numerical expression has 2 elements: only the first used”Warning message in 2:dim(tab_tmp):\n",
      "“numerical expression has 2 elements: only the first used”Warning message in 2:dim(tab_tmp):\n",
      "“numerical expression has 2 elements: only the first used”Warning message in 2:dim(tab_tmp):\n",
      "“numerical expression has 2 elements: only the first used”Warning message in 2:dim(tab_tmp):\n",
      "“numerical expression has 2 elements: only the first used”Warning message in 2:dim(tab_tmp):\n",
      "“numerical expression has 2 elements: only the first used”Warning message in 2:dim(tab_tmp):\n",
      "“numerical expression has 2 elements: only the first used”Warning message in 2:dim(tab_tmp):\n",
      "“numerical expression has 2 elements: only the first used”Warning message in 2:dim(tab_tmp):\n",
      "“numerical expression has 2 elements: only the first used”Warning message in 2:dim(tab_tmp):\n",
      "“numerical expression has 2 elements: only the first used”Warning message in 2:dim(tab_tmp):\n",
      "“numerical expression has 2 elements: only the first used”Warning message in 2:dim(tab_tmp):\n",
      "“numerical expression has 2 elements: only the first used”Warning message in 2:dim(tab_tmp):\n",
      "“numerical expression has 2 elements: only the first used”Warning message in 2:dim(tab_tmp):\n",
      "“numerical expression has 2 elements: only the first used”Warning message in 2:dim(tab_tmp):\n",
      "“numerical expression has 2 elements: only the first used”Warning message in 2:dim(tab_tmp):\n",
      "“numerical expression has 2 elements: only the first used”Warning message in 2:dim(tab_tmp):\n",
      "“numerical expression has 2 elements: only the first used”Warning message in 2:dim(tab_tmp):\n",
      "“numerical expression has 2 elements: only the first used”Warning message in 2:dim(tab_tmp):\n",
      "“numerical expression has 2 elements: only the first used”Warning message in 2:dim(tab_tmp):\n",
      "“numerical expression has 2 elements: only the first used”Warning message in 2:dim(tab_tmp):\n",
      "“numerical expression has 2 elements: only the first used”Warning message in 2:dim(tab_tmp):\n",
      "“numerical expression has 2 elements: only the first used”Warning message in 2:dim(tab_tmp):\n",
      "“numerical expression has 2 elements: only the first used”Warning message in 2:dim(tab_tmp):\n"
     ]
    },
    {
     "name": "stderr",
     "output_type": "stream",
     "text": [
      "“numerical expression has 2 elements: only the first used”Warning message in 2:dim(tab_tmp):\n",
      "“numerical expression has 2 elements: only the first used”Warning message in 2:dim(tab_tmp):\n",
      "“numerical expression has 2 elements: only the first used”Warning message in 2:dim(tab_tmp):\n",
      "“numerical expression has 2 elements: only the first used”Warning message in 2:dim(tab_tmp):\n",
      "“numerical expression has 2 elements: only the first used”Warning message in 2:dim(tab_tmp):\n",
      "“numerical expression has 2 elements: only the first used”Warning message in 2:dim(tab_tmp):\n",
      "“numerical expression has 2 elements: only the first used”Warning message in 2:dim(tab_tmp):\n",
      "“numerical expression has 2 elements: only the first used”Warning message in 2:dim(tab_tmp):\n",
      "“numerical expression has 2 elements: only the first used”Warning message in 2:dim(tab_tmp):\n",
      "“numerical expression has 2 elements: only the first used”Warning message in 2:dim(tab_tmp):\n",
      "“numerical expression has 2 elements: only the first used”Warning message in 2:dim(tab_tmp):\n",
      "“numerical expression has 2 elements: only the first used”Warning message in 2:dim(tab_tmp):\n",
      "“numerical expression has 2 elements: only the first used”Warning message in 2:dim(tab_tmp):\n",
      "“numerical expression has 2 elements: only the first used”Warning message in 2:dim(tab_tmp):\n",
      "“numerical expression has 2 elements: only the first used”Warning message in 2:dim(tab_tmp):\n",
      "“numerical expression has 2 elements: only the first used”Warning message in 2:dim(tab_tmp):\n",
      "“numerical expression has 2 elements: only the first used”Warning message in 2:dim(tab_tmp):\n",
      "“numerical expression has 2 elements: only the first used”Warning message in 2:dim(tab_tmp):\n",
      "“numerical expression has 2 elements: only the first used”Warning message in 2:dim(tab_tmp):\n",
      "“numerical expression has 2 elements: only the first used”Warning message in 2:dim(tab_tmp):\n",
      "“numerical expression has 2 elements: only the first used”Warning message in 2:dim(tab_tmp):\n",
      "“numerical expression has 2 elements: only the first used”Warning message in 2:dim(tab_tmp):\n",
      "“numerical expression has 2 elements: only the first used”Warning message in 2:dim(tab_tmp):\n",
      "“numerical expression has 2 elements: only the first used”Warning message in 2:dim(tab_tmp):\n",
      "“numerical expression has 2 elements: only the first used”Warning message in 2:dim(tab_tmp):\n",
      "“numerical expression has 2 elements: only the first used”Warning message in 2:dim(tab_tmp):\n",
      "“numerical expression has 2 elements: only the first used”Warning message in 2:dim(tab_tmp):\n",
      "“numerical expression has 2 elements: only the first used”Warning message in 2:dim(tab_tmp):\n",
      "“numerical expression has 2 elements: only the first used”Warning message in 2:dim(tab_tmp):\n",
      "“numerical expression has 2 elements: only the first used”Warning message in 2:dim(tab_tmp):\n",
      "“numerical expression has 2 elements: only the first used”Warning message in 2:dim(tab_tmp):\n",
      "“numerical expression has 2 elements: only the first used”Warning message in 2:dim(tab_tmp):\n",
      "“numerical expression has 2 elements: only the first used”Warning message in 2:dim(tab_tmp):\n",
      "“numerical expression has 2 elements: only the first used”Warning message in 2:dim(tab_tmp):\n",
      "“numerical expression has 2 elements: only the first used”Warning message in 2:dim(tab_tmp):\n",
      "“numerical expression has 2 elements: only the first used”Warning message in 2:dim(tab_tmp):\n",
      "“numerical expression has 2 elements: only the first used”Warning message in 2:dim(tab_tmp):\n",
      "“numerical expression has 2 elements: only the first used”Warning message in 2:dim(tab_tmp):\n",
      "“numerical expression has 2 elements: only the first used”Warning message in 2:dim(tab_tmp):\n",
      "“numerical expression has 2 elements: only the first used”Warning message in 2:dim(tab_tmp):\n",
      "“numerical expression has 2 elements: only the first used”Warning message in 2:dim(tab_tmp):\n",
      "“numerical expression has 2 elements: only the first used”Warning message in 2:dim(tab_tmp):\n",
      "“numerical expression has 2 elements: only the first used”Warning message in 2:dim(tab_tmp):\n",
      "“numerical expression has 2 elements: only the first used”Warning message in 2:dim(tab_tmp):\n",
      "“numerical expression has 2 elements: only the first used”Warning message in 2:dim(tab_tmp):\n",
      "“numerical expression has 2 elements: only the first used”Warning message in 2:dim(tab_tmp):\n",
      "“numerical expression has 2 elements: only the first used”Warning message in 2:dim(tab_tmp):\n",
      "“numerical expression has 2 elements: only the first used”Warning message in 2:dim(tab_tmp):\n",
      "“numerical expression has 2 elements: only the first used”Warning message in 2:dim(tab_tmp):\n",
      "“numerical expression has 2 elements: only the first used”Warning message in 2:dim(tab_tmp):\n",
      "“numerical expression has 2 elements: only the first used”Warning message in 2:dim(tab_tmp):\n",
      "“numerical expression has 2 elements: only the first used”Warning message in 2:dim(tab_tmp):\n",
      "“numerical expression has 2 elements: only the first used”Warning message in 2:dim(tab_tmp):\n",
      "“numerical expression has 2 elements: only the first used”Warning message in 2:dim(tab_tmp):\n",
      "“numerical expression has 2 elements: only the first used”Warning message in 2:dim(tab_tmp):\n",
      "“numerical expression has 2 elements: only the first used”Warning message in 2:dim(tab_tmp):\n",
      "“numerical expression has 2 elements: only the first used”Warning message in 2:dim(tab_tmp):\n",
      "“numerical expression has 2 elements: only the first used”Warning message in 2:dim(tab_tmp):\n",
      "“numerical expression has 2 elements: only the first used”Warning message in 2:dim(tab_tmp):\n",
      "“numerical expression has 2 elements: only the first used”Warning message in 2:dim(tab_tmp):\n",
      "“numerical expression has 2 elements: only the first used”Warning message in 2:dim(tab_tmp):\n",
      "“numerical expression has 2 elements: only the first used”Warning message in 2:dim(tab_tmp):\n",
      "“numerical expression has 2 elements: only the first used”Warning message in 2:dim(tab_tmp):\n",
      "“numerical expression has 2 elements: only the first used”Warning message in 2:dim(tab_tmp):\n",
      "“numerical expression has 2 elements: only the first used”Warning message in 2:dim(tab_tmp):\n",
      "“numerical expression has 2 elements: only the first used”Warning message in 2:dim(tab_tmp):\n",
      "“numerical expression has 2 elements: only the first used”Warning message in 2:dim(tab_tmp):\n",
      "“numerical expression has 2 elements: only the first used”Warning message in 2:dim(tab_tmp):\n",
      "“numerical expression has 2 elements: only the first used”Warning message in 2:dim(tab_tmp):\n",
      "“numerical expression has 2 elements: only the first used”Warning message in 2:dim(tab_tmp):\n",
      "“numerical expression has 2 elements: only the first used”Warning message in 2:dim(tab_tmp):\n",
      "“numerical expression has 2 elements: only the first used”Warning message in 2:dim(tab_tmp):\n",
      "“numerical expression has 2 elements: only the first used”Warning message in 2:dim(tab_tmp):\n",
      "“numerical expression has 2 elements: only the first used”Warning message in 2:dim(tab_tmp):\n",
      "“numerical expression has 2 elements: only the first used”Warning message in 2:dim(tab_tmp):\n",
      "“numerical expression has 2 elements: only the first used”Warning message in 2:dim(tab_tmp):\n",
      "“numerical expression has 2 elements: only the first used”Warning message in 2:dim(tab_tmp):\n",
      "“numerical expression has 2 elements: only the first used”Warning message in 2:dim(tab_tmp):\n",
      "“numerical expression has 2 elements: only the first used”Warning message in 2:dim(tab_tmp):\n",
      "“numerical expression has 2 elements: only the first used”Warning message in 2:dim(tab_tmp):\n",
      "“numerical expression has 2 elements: only the first used”Warning message in 2:dim(tab_tmp):\n",
      "“numerical expression has 2 elements: only the first used”Warning message in 2:dim(tab_tmp):\n",
      "“numerical expression has 2 elements: only the first used”Warning message in 2:dim(tab_tmp):\n",
      "“numerical expression has 2 elements: only the first used”Warning message in 2:dim(tab_tmp):\n",
      "“numerical expression has 2 elements: only the first used”Warning message in 2:dim(tab_tmp):\n",
      "“numerical expression has 2 elements: only the first used”Warning message in 2:dim(tab_tmp):\n",
      "“numerical expression has 2 elements: only the first used”Warning message in 2:dim(tab_tmp):\n",
      "“numerical expression has 2 elements: only the first used”Warning message in eval(expr, envir, enclos):\n"
     ]
    },
    {
     "name": "stderr",
     "output_type": "stream",
     "text": [
      "“NAs introduced by coercion”Warning message in 2:dim(tab_tmp):\n",
      "“numerical expression has 2 elements: only the first used”Warning message in 2:dim(tab_tmp):\n",
      "“numerical expression has 2 elements: only the first used”Warning message in 2:dim(tab_tmp):\n",
      "“numerical expression has 2 elements: only the first used”Warning message in 2:dim(tab_tmp):\n",
      "“numerical expression has 2 elements: only the first used”Warning message in 2:dim(tab_tmp):\n",
      "“numerical expression has 2 elements: only the first used”Warning message in 2:dim(tab_tmp):\n",
      "“numerical expression has 2 elements: only the first used”Warning message in 2:dim(tab_tmp):\n",
      "“numerical expression has 2 elements: only the first used”Warning message in 2:dim(tab_tmp):\n",
      "“numerical expression has 2 elements: only the first used”Warning message in 2:dim(tab_tmp):\n",
      "“numerical expression has 2 elements: only the first used”Warning message in 2:dim(tab_tmp):\n",
      "“numerical expression has 2 elements: only the first used”Warning message in 2:dim(tab_tmp):\n",
      "“numerical expression has 2 elements: only the first used”Warning message in 2:dim(tab_tmp):\n",
      "“numerical expression has 2 elements: only the first used”Warning message in 2:dim(tab_tmp):\n",
      "“numerical expression has 2 elements: only the first used”Warning message in 2:dim(tab_tmp):\n",
      "“numerical expression has 2 elements: only the first used”Warning message in 2:dim(tab_tmp):\n",
      "“numerical expression has 2 elements: only the first used”Warning message in 2:dim(tab_tmp):\n",
      "“numerical expression has 2 elements: only the first used”Warning message in 2:dim(tab_tmp):\n",
      "“numerical expression has 2 elements: only the first used”Warning message in 2:dim(tab_tmp):\n",
      "“numerical expression has 2 elements: only the first used”Warning message in 2:dim(tab_tmp):\n",
      "“numerical expression has 2 elements: only the first used”Warning message in 2:dim(tab_tmp):\n",
      "“numerical expression has 2 elements: only the first used”Warning message in 2:dim(tab_tmp):\n",
      "“numerical expression has 2 elements: only the first used”Warning message in 2:dim(tab_tmp):\n",
      "“numerical expression has 2 elements: only the first used”Warning message in 2:dim(tab_tmp):\n",
      "“numerical expression has 2 elements: only the first used”Warning message in 2:dim(tab_tmp):\n",
      "“numerical expression has 2 elements: only the first used”Warning message in 2:dim(tab_tmp):\n",
      "“numerical expression has 2 elements: only the first used”Warning message in 2:dim(tab_tmp):\n",
      "“numerical expression has 2 elements: only the first used”Warning message in 2:dim(tab_tmp):\n",
      "“numerical expression has 2 elements: only the first used”Warning message in 2:dim(tab_tmp):\n",
      "“numerical expression has 2 elements: only the first used”Warning message in 2:dim(tab_tmp):\n",
      "“numerical expression has 2 elements: only the first used”Warning message in 2:dim(tab_tmp):\n",
      "“numerical expression has 2 elements: only the first used”Warning message in 2:dim(tab_tmp):\n",
      "“numerical expression has 2 elements: only the first used”Warning message in 2:dim(tab_tmp):\n",
      "“numerical expression has 2 elements: only the first used”Warning message in 2:dim(tab_tmp):\n",
      "“numerical expression has 2 elements: only the first used”Warning message in 2:dim(tab_tmp):\n",
      "“numerical expression has 2 elements: only the first used”Warning message in 2:dim(tab_tmp):\n",
      "“numerical expression has 2 elements: only the first used”Warning message in 2:dim(tab_tmp):\n",
      "“numerical expression has 2 elements: only the first used”Warning message in 2:dim(tab_tmp):\n",
      "“numerical expression has 2 elements: only the first used”Warning message in 2:dim(tab_tmp):\n",
      "“numerical expression has 2 elements: only the first used”Warning message in 2:dim(tab_tmp):\n",
      "“numerical expression has 2 elements: only the first used”Warning message in 2:dim(tab_tmp):\n",
      "“numerical expression has 2 elements: only the first used”Warning message in 2:dim(tab_tmp):\n",
      "“numerical expression has 2 elements: only the first used”Warning message in 2:dim(tab_tmp):\n",
      "“numerical expression has 2 elements: only the first used”Warning message in 2:dim(tab_tmp):\n",
      "“numerical expression has 2 elements: only the first used”Warning message in 2:dim(tab_tmp):\n",
      "“numerical expression has 2 elements: only the first used”Warning message in 2:dim(tab_tmp):\n",
      "“numerical expression has 2 elements: only the first used”Warning message in 2:dim(tab_tmp):\n",
      "“numerical expression has 2 elements: only the first used”Warning message in 2:dim(tab_tmp):\n",
      "“numerical expression has 2 elements: only the first used”Warning message in 2:dim(tab_tmp):\n",
      "“numerical expression has 2 elements: only the first used”Warning message in 2:dim(tab_tmp):\n",
      "“numerical expression has 2 elements: only the first used”Warning message in 2:dim(tab_tmp):\n",
      "“numerical expression has 2 elements: only the first used”Warning message in 2:dim(tab_tmp):\n",
      "“numerical expression has 2 elements: only the first used”Warning message in 2:dim(tab_tmp):\n",
      "“numerical expression has 2 elements: only the first used”Warning message in 2:dim(tab_tmp):\n",
      "“numerical expression has 2 elements: only the first used”Warning message in 2:dim(tab_tmp):\n",
      "“numerical expression has 2 elements: only the first used”Warning message in 2:dim(tab_tmp):\n",
      "“numerical expression has 2 elements: only the first used”Warning message in 2:dim(tab_tmp):\n",
      "“numerical expression has 2 elements: only the first used”Warning message in 2:dim(tab_tmp):\n",
      "“numerical expression has 2 elements: only the first used”Warning message in 2:dim(tab_tmp):\n",
      "“numerical expression has 2 elements: only the first used”Warning message in 2:dim(tab_tmp):\n",
      "“numerical expression has 2 elements: only the first used”Warning message in 2:dim(tab_tmp):\n",
      "“numerical expression has 2 elements: only the first used”Warning message in 2:dim(tab_tmp):\n",
      "“numerical expression has 2 elements: only the first used”Warning message in 2:dim(tab_tmp):\n",
      "“numerical expression has 2 elements: only the first used”Warning message in 2:dim(tab_tmp):\n",
      "“numerical expression has 2 elements: only the first used”Warning message in 2:dim(tab_tmp):\n",
      "“numerical expression has 2 elements: only the first used”Warning message in 2:dim(tab_tmp):\n",
      "“numerical expression has 2 elements: only the first used”Warning message in 2:dim(tab_tmp):\n",
      "“numerical expression has 2 elements: only the first used”Warning message in 2:dim(tab_tmp):\n",
      "“numerical expression has 2 elements: only the first used”Warning message in 2:dim(tab_tmp):\n",
      "“numerical expression has 2 elements: only the first used”Warning message in 2:dim(tab_tmp):\n",
      "“numerical expression has 2 elements: only the first used”Warning message in 2:dim(tab_tmp):\n",
      "“numerical expression has 2 elements: only the first used”Warning message in 2:dim(tab_tmp):\n",
      "“numerical expression has 2 elements: only the first used”Warning message in 2:dim(tab_tmp):\n",
      "“numerical expression has 2 elements: only the first used”Warning message in 2:dim(tab_tmp):\n",
      "“numerical expression has 2 elements: only the first used”Warning message in 2:dim(tab_tmp):\n",
      "“numerical expression has 2 elements: only the first used”Warning message in 2:dim(tab_tmp):\n",
      "“numerical expression has 2 elements: only the first used”Warning message in 2:dim(tab_tmp):\n",
      "“numerical expression has 2 elements: only the first used”Warning message in 2:dim(tab_tmp):\n",
      "“numerical expression has 2 elements: only the first used”Warning message in 2:dim(tab_tmp):\n",
      "“numerical expression has 2 elements: only the first used”Warning message in 2:dim(tab_tmp):\n",
      "“numerical expression has 2 elements: only the first used”Warning message in 2:dim(tab_tmp):\n",
      "“numerical expression has 2 elements: only the first used”Warning message in 2:dim(tab_tmp):\n",
      "“numerical expression has 2 elements: only the first used”Warning message in 2:dim(tab_tmp):\n",
      "“numerical expression has 2 elements: only the first used”Warning message in 2:dim(tab_tmp):\n",
      "“numerical expression has 2 elements: only the first used”Warning message in 2:dim(tab_tmp):\n",
      "“numerical expression has 2 elements: only the first used”Warning message in 2:dim(tab_tmp):\n",
      "“numerical expression has 2 elements: only the first used”Warning message in 2:dim(tab_tmp):\n",
      "“numerical expression has 2 elements: only the first used”Warning message in 2:dim(tab_tmp):\n",
      "“numerical expression has 2 elements: only the first used”Warning message in 2:dim(tab_tmp):\n",
      "“numerical expression has 2 elements: only the first used”Warning message in 2:dim(tab_tmp):\n",
      "“numerical expression has 2 elements: only the first used”Warning message in 2:dim(tab_tmp):\n",
      "“numerical expression has 2 elements: only the first used”Warning message in 2:dim(tab_tmp):\n",
      "“numerical expression has 2 elements: only the first used”Warning message in 2:dim(tab_tmp):\n",
      "“numerical expression has 2 elements: only the first used”Warning message in 2:dim(tab_tmp):\n",
      "“numerical expression has 2 elements: only the first used”Warning message in 2:dim(tab_tmp):\n",
      "“numerical expression has 2 elements: only the first used”Warning message in 2:dim(tab_tmp):\n",
      "“numerical expression has 2 elements: only the first used”Warning message in 2:dim(tab_tmp):\n",
      "“numerical expression has 2 elements: only the first used”Warning message in 2:dim(tab_tmp):\n",
      "“numerical expression has 2 elements: only the first used”Warning message in 2:dim(tab_tmp):\n",
      "“numerical expression has 2 elements: only the first used”Warning message in 2:dim(tab_tmp):\n",
      "“numerical expression has 2 elements: only the first used”Warning message in 2:dim(tab_tmp):\n",
      "“numerical expression has 2 elements: only the first used”Warning message in 2:dim(tab_tmp):\n",
      "“numerical expression has 2 elements: only the first used”Warning message in 2:dim(tab_tmp):\n",
      "“numerical expression has 2 elements: only the first used”Warning message in 2:dim(tab_tmp):\n",
      "“numerical expression has 2 elements: only the first used”Warning message in 2:dim(tab_tmp):\n",
      "“numerical expression has 2 elements: only the first used”Warning message in 2:dim(tab_tmp):\n",
      "“numerical expression has 2 elements: only the first used”Warning message in 2:dim(tab_tmp):\n",
      "“numerical expression has 2 elements: only the first used”Warning message in 2:dim(tab_tmp):\n",
      "“numerical expression has 2 elements: only the first used”Warning message in 2:dim(tab_tmp):\n",
      "“numerical expression has 2 elements: only the first used”Warning message in 2:dim(tab_tmp):\n",
      "“numerical expression has 2 elements: only the first used”Warning message in 2:dim(tab_tmp):\n",
      "“numerical expression has 2 elements: only the first used”Warning message in 2:dim(tab_tmp):\n",
      "“numerical expression has 2 elements: only the first used”Warning message in 2:dim(tab_tmp):\n",
      "“numerical expression has 2 elements: only the first used”Warning message in 2:dim(tab_tmp):\n",
      "“numerical expression has 2 elements: only the first used”Warning message in 2:dim(tab_tmp):\n",
      "“numerical expression has 2 elements: only the first used”Warning message in 2:dim(tab_tmp):\n",
      "“numerical expression has 2 elements: only the first used”Warning message in 2:dim(tab_tmp):\n",
      "“numerical expression has 2 elements: only the first used”Warning message in 2:dim(tab_tmp):\n",
      "“numerical expression has 2 elements: only the first used”Warning message in 2:dim(tab_tmp):\n",
      "“numerical expression has 2 elements: only the first used”Warning message in 2:dim(tab_tmp):\n",
      "“numerical expression has 2 elements: only the first used”Warning message in 2:dim(tab_tmp):\n",
      "“numerical expression has 2 elements: only the first used”Warning message in 2:dim(tab_tmp):\n",
      "“numerical expression has 2 elements: only the first used”Warning message in 2:dim(tab_tmp):\n",
      "“numerical expression has 2 elements: only the first used”Warning message in 2:dim(tab_tmp):\n",
      "“numerical expression has 2 elements: only the first used”Warning message in 2:dim(tab_tmp):\n",
      "“numerical expression has 2 elements: only the first used”Warning message in 2:dim(tab_tmp):\n",
      "“numerical expression has 2 elements: only the first used”Warning message in 2:dim(tab_tmp):\n",
      "“numerical expression has 2 elements: only the first used”Warning message in 2:dim(tab_tmp):\n",
      "“numerical expression has 2 elements: only the first used”Warning message in 2:dim(tab_tmp):\n",
      "“numerical expression has 2 elements: only the first used”Warning message in 2:dim(tab_tmp):\n",
      "“numerical expression has 2 elements: only the first used”Warning message in 2:dim(tab_tmp):\n",
      "“numerical expression has 2 elements: only the first used”Warning message in 2:dim(tab_tmp):\n",
      "“numerical expression has 2 elements: only the first used”Warning message in 2:dim(tab_tmp):\n",
      "“numerical expression has 2 elements: only the first used”Warning message in 2:dim(tab_tmp):\n",
      "“numerical expression has 2 elements: only the first used”Warning message in 2:dim(tab_tmp):\n",
      "“numerical expression has 2 elements: only the first used”Warning message in 2:dim(tab_tmp):\n",
      "“numerical expression has 2 elements: only the first used”Warning message in 2:dim(tab_tmp):\n",
      "“numerical expression has 2 elements: only the first used”Warning message in 2:dim(tab_tmp):\n",
      "“numerical expression has 2 elements: only the first used”Warning message in 2:dim(tab_tmp):\n",
      "“numerical expression has 2 elements: only the first used”Warning message in 2:dim(tab_tmp):\n",
      "“numerical expression has 2 elements: only the first used”Warning message in 2:dim(tab_tmp):\n",
      "“numerical expression has 2 elements: only the first used”Warning message in 2:dim(tab_tmp):\n",
      "“numerical expression has 2 elements: only the first used”Warning message in 2:dim(tab_tmp):\n",
      "“numerical expression has 2 elements: only the first used”Warning message in 2:dim(tab_tmp):\n",
      "“numerical expression has 2 elements: only the first used”Warning message in 2:dim(tab_tmp):\n",
      "“numerical expression has 2 elements: only the first used”Warning message in 2:dim(tab_tmp):\n",
      "“numerical expression has 2 elements: only the first used”Warning message in 2:dim(tab_tmp):\n",
      "“numerical expression has 2 elements: only the first used”Warning message in 2:dim(tab_tmp):\n",
      "“numerical expression has 2 elements: only the first used”Warning message in 2:dim(tab_tmp):\n",
      "“numerical expression has 2 elements: only the first used”Warning message in 2:dim(tab_tmp):\n",
      "“numerical expression has 2 elements: only the first used”Warning message in 2:dim(tab_tmp):\n",
      "“numerical expression has 2 elements: only the first used”Warning message in 2:dim(tab_tmp):\n",
      "“numerical expression has 2 elements: only the first used”Warning message in 2:dim(tab_tmp):\n",
      "“numerical expression has 2 elements: only the first used”Warning message in 2:dim(tab_tmp):\n",
      "“numerical expression has 2 elements: only the first used”Warning message in 2:dim(tab_tmp):\n",
      "“numerical expression has 2 elements: only the first used”Warning message in 2:dim(tab_tmp):\n",
      "“numerical expression has 2 elements: only the first used”Warning message in 2:dim(tab_tmp):\n",
      "“numerical expression has 2 elements: only the first used”Warning message in 2:dim(tab_tmp):\n",
      "“numerical expression has 2 elements: only the first used”Warning message in 2:dim(tab_tmp):\n",
      "“numerical expression has 2 elements: only the first used”Warning message in 2:dim(tab_tmp):\n",
      "“numerical expression has 2 elements: only the first used”Warning message in 2:dim(tab_tmp):\n",
      "“numerical expression has 2 elements: only the first used”Warning message in 2:dim(tab_tmp):\n",
      "“numerical expression has 2 elements: only the first used”Warning message in 2:dim(tab_tmp):\n",
      "“numerical expression has 2 elements: only the first used”Warning message in 2:dim(tab_tmp):\n",
      "“numerical expression has 2 elements: only the first used”Warning message in 2:dim(tab_tmp):\n",
      "“numerical expression has 2 elements: only the first used”Warning message in 2:dim(tab_tmp):\n",
      "“numerical expression has 2 elements: only the first used”Warning message in 2:dim(tab_tmp):\n",
      "“numerical expression has 2 elements: only the first used”Warning message in 2:dim(tab_tmp):\n",
      "“numerical expression has 2 elements: only the first used”Warning message in 2:dim(tab_tmp):\n",
      "“numerical expression has 2 elements: only the first used”Warning message in 2:dim(tab_tmp):\n",
      "“numerical expression has 2 elements: only the first used”Warning message in 2:dim(tab_tmp):\n",
      "“numerical expression has 2 elements: only the first used”Warning message in 2:dim(tab_tmp):\n",
      "“numerical expression has 2 elements: only the first used”Warning message in 2:dim(tab_tmp):\n",
      "“numerical expression has 2 elements: only the first used”Warning message in 2:dim(tab_tmp):\n",
      "“numerical expression has 2 elements: only the first used”Warning message in 2:dim(tab_tmp):\n",
      "“numerical expression has 2 elements: only the first used”Warning message in 2:dim(tab_tmp):\n",
      "“numerical expression has 2 elements: only the first used”Warning message in 2:dim(tab_tmp):\n"
     ]
    },
    {
     "name": "stderr",
     "output_type": "stream",
     "text": [
      "“numerical expression has 2 elements: only the first used”Warning message in 2:dim(tab_tmp):\n",
      "“numerical expression has 2 elements: only the first used”Warning message in 2:dim(tab_tmp):\n",
      "“numerical expression has 2 elements: only the first used”Warning message in 2:dim(tab_tmp):\n",
      "“numerical expression has 2 elements: only the first used”Warning message in 2:dim(tab_tmp):\n",
      "“numerical expression has 2 elements: only the first used”Warning message in 2:dim(tab_tmp):\n",
      "“numerical expression has 2 elements: only the first used”"
     ]
    }
   ],
   "source": [
    "kol  <- c()\n",
    "check  <- c()\n",
    "car  <-  c()\n",
    "check_price  <-  c()\n",
    "price   <-  c()\n",
    "lll  <- length(tables_list_1)\n",
    "# lll <- 3\n",
    "for (i in 1:lll){\n",
    "    \n",
    "    tab_tmp = tables_list_1[[i]][[1]][[8]]\n",
    "    sum_1  <-  sum(as.integer(as.character(tab_tmp[2:dim(tab_tmp), 4])), na.rm = TRUE) \n",
    "    kol  <-  c(kol, sum_1 )\n",
    "    check  <-  c(check, as.character(tab_tmp[1, 4]))\n",
    "    check_price  <-  c(check_price, as.character(tab_tmp[dim(tab_tmp)[1], 1]))\n",
    "    price  <- c(price, gsub(\"[^0-9.-]\",\"\",gsub(\",\",\".\", as.character(tab_tmp[dim(tab_tmp)[1],2]), fixed = TRUE)))\n",
    "}\n",
    "\n"
   ]
  },
  {
   "cell_type": "code",
   "execution_count": 658,
   "metadata": {
    "ExecuteTime": {
     "end_time": "2019-09-30T20:33:01.766374Z",
     "start_time": "2019-09-30T20:33:01.716Z"
    }
   },
   "outputs": [
    {
     "data": {
      "text/html": [
       "1059"
      ],
      "text/latex": [
       "1059"
      ],
      "text/markdown": [
       "1059"
      ],
      "text/plain": [
       "[1] 1059"
      ]
     },
     "metadata": {},
     "output_type": "display_data"
    },
    {
     "data": {
      "text/html": [
       "1056"
      ],
      "text/latex": [
       "1056"
      ],
      "text/markdown": [
       "1056"
      ],
      "text/plain": [
       "[1] 1056"
      ]
     },
     "metadata": {},
     "output_type": "display_data"
    }
   ],
   "source": [
    "length(kol) \n",
    "length(check)"
   ]
  },
  {
   "cell_type": "code",
   "execution_count": 659,
   "metadata": {
    "ExecuteTime": {
     "end_time": "2019-09-30T20:33:05.129026Z",
     "start_time": "2019-09-30T20:33:05.097Z"
    }
   },
   "outputs": [],
   "source": [
    "# check[check != 'Количество']"
   ]
  },
  {
   "cell_type": "code",
   "execution_count": 677,
   "metadata": {
    "ExecuteTime": {
     "end_time": "2019-09-30T20:38:09.777371Z",
     "start_time": "2019-09-30T20:38:09.720Z"
    }
   },
   "outputs": [],
   "source": [
    "kol[69] = 36\n",
    "kol[74] = 2\n",
    "kol[90] = 46\n",
    "kol[668] = 1\n",
    "kol[674] = 1\n",
    "kol[878] = 1\n",
    "kol[633] = 1\n"
   ]
  },
  {
   "cell_type": "code",
   "execution_count": 675,
   "metadata": {
    "ExecuteTime": {
     "end_time": "2019-09-30T20:37:10.708639Z",
     "start_time": "2019-09-30T20:37:10.658Z"
    }
   },
   "outputs": [
    {
     "data": {
      "text/html": [
       "<ol class=list-inline>\n",
       "\t<li>'Итого:'</li>\n",
       "\t<li>''</li>\n",
       "\t<li>'Начальная сумма цен единиц товара, работы, услуги:'</li>\n",
       "\t<li>'Наименование товара, работы, услуги'</li>\n",
       "</ol>\n"
      ],
      "text/latex": [
       "\\begin{enumerate*}\n",
       "\\item 'Итого:'\n",
       "\\item ''\n",
       "\\item 'Начальная сумма цен единиц товара, работы, услуги:'\n",
       "\\item 'Наименование товара, работы, услуги'\n",
       "\\end{enumerate*}\n"
      ],
      "text/markdown": [
       "1. 'Итого:'\n",
       "2. ''\n",
       "3. 'Начальная сумма цен единиц товара, работы, услуги:'\n",
       "4. 'Наименование товара, работы, услуги'\n",
       "\n",
       "\n"
      ],
      "text/plain": [
       "[1] \"Итого:\"                                            \n",
       "[2] \"\"                                                  \n",
       "[3] \"Начальная сумма цен единиц товара, работы, услуги:\"\n",
       "[4] \"Наименование товара, работы, услуги\"               "
      ]
     },
     "metadata": {},
     "output_type": "display_data"
    }
   ],
   "source": [
    "unique(check_price)"
   ]
  },
  {
   "cell_type": "code",
   "execution_count": 676,
   "metadata": {
    "ExecuteTime": {
     "end_time": "2019-09-30T20:37:28.483378Z",
     "start_time": "2019-09-30T20:37:28.464Z"
    }
   },
   "outputs": [
    {
     "data": {
      "text/html": [
       "20"
      ],
      "text/latex": [
       "20"
      ],
      "text/markdown": [
       "20"
      ],
      "text/plain": [
       "[1] 20"
      ]
     },
     "metadata": {},
     "output_type": "display_data"
    }
   ],
   "source": [
    "sum(check_price == 'Начальная сумма цен единиц товара, работы, услуги:')+ sum(check_price == 'Начальная сумма цен единиц товара, работы, услуги:')+sum(check_price == '')"
   ]
  },
  {
   "cell_type": "code",
   "execution_count": 673,
   "metadata": {
    "ExecuteTime": {
     "end_time": "2019-09-30T20:36:44.018650Z",
     "start_time": "2019-09-30T20:36:43.978Z"
    }
   },
   "outputs": [
    {
     "data": {
      "text/html": [
       "12"
      ],
      "text/latex": [
       "12"
      ],
      "text/markdown": [
       "12"
      ],
      "text/plain": [
       "[1] 12"
      ]
     },
     "metadata": {},
     "output_type": "display_data"
    }
   ],
   "source": [
    "sum(is.na(price))"
   ]
  },
  {
   "cell_type": "code",
   "execution_count": 672,
   "metadata": {
    "ExecuteTime": {
     "end_time": "2019-09-30T20:36:09.848421Z",
     "start_time": "2019-09-30T20:36:09.803Z"
    }
   },
   "outputs": [
    {
     "data": {
      "text/html": [
       "0"
      ],
      "text/latex": [
       "0"
      ],
      "text/markdown": [
       "0"
      ],
      "text/plain": [
       "[1] 0"
      ]
     },
     "metadata": {},
     "output_type": "display_data"
    }
   ],
   "source": [
    "lll - length(check_price)\n"
   ]
  },
  {
   "cell_type": "code",
   "execution_count": 561,
   "metadata": {
    "ExecuteTime": {
     "end_time": "2019-09-30T18:11:59.100700Z",
     "start_time": "2019-09-30T18:11:59.081Z"
    }
   },
   "outputs": [
    {
     "data": {
      "text/html": [],
      "text/latex": [],
      "text/markdown": [],
      "text/plain": [
       "integer(0)"
      ]
     },
     "metadata": {},
     "output_type": "display_data"
    },
    {
     "data": {
      "text/html": [
       "<ol class=list-inline>\n",
       "\t<li>90</li>\n",
       "\t<li>985</li>\n",
       "</ol>\n"
      ],
      "text/latex": [
       "\\begin{enumerate*}\n",
       "\\item 90\n",
       "\\item 985\n",
       "\\end{enumerate*}\n"
      ],
      "text/markdown": [
       "1. 90\n",
       "2. 985\n",
       "\n",
       "\n"
      ],
      "text/plain": [
       "[1]  90 985"
      ]
     },
     "metadata": {},
     "output_type": "display_data"
    }
   ],
   "source": [
    "which( kol==0 )\n",
    "which( kol>40 )"
   ]
  },
  {
   "cell_type": "code",
   "execution_count": 566,
   "metadata": {
    "ExecuteTime": {
     "end_time": "2019-09-30T18:19:05.929211Z",
     "start_time": "2019-09-30T18:19:05.898Z"
    }
   },
   "outputs": [
    {
     "data": {
      "text/html": [
       "21 024 000,00\n",
       "<details>\n",
       "\t<summary style=display:list-item;cursor:pointer>\n",
       "\t\t<strong>Levels</strong>:\n",
       "\t</summary>\n",
       "\t<ol class=list-inline>\n",
       "\t\t<li>'21 024 000,00'</li>\n",
       "\t\t<li>'Стоимость'</li>\n",
       "\t</ol>\n",
       "</details>"
      ],
      "text/latex": [
       "21 024 000,00\n",
       "\\emph{Levels}: \\begin{enumerate*}\n",
       "\\item '21 024 000,00'\n",
       "\\item 'Стоимость'\n",
       "\\end{enumerate*}\n"
      ],
      "text/markdown": [
       "21 024 000,00\n",
       "**Levels**: 1. '21 024 000,00'\n",
       "2. 'Стоимость'\n",
       "\n",
       "\n"
      ],
      "text/plain": [
       "[1] 21 024 000,00\n",
       "Levels: 21 024 000,00 Стоимость"
      ]
     },
     "metadata": {},
     "output_type": "display_data"
    },
    {
     "data": {
      "text/html": [
       "1 339 944,00\n",
       "<details>\n",
       "\t<summary style=display:list-item;cursor:pointer>\n",
       "\t\t<strong>Levels</strong>:\n",
       "\t</summary>\n",
       "\t<ol class=list-inline>\n",
       "\t\t<li>'1 339 944,00'</li>\n",
       "\t\t<li>'2 679 888,00'</li>\n",
       "\t\t<li>'669 772,00'</li>\n",
       "\t\t<li>'Стоимость'</li>\n",
       "\t</ol>\n",
       "</details>"
      ],
      "text/latex": [
       "1 339 944,00\n",
       "\\emph{Levels}: \\begin{enumerate*}\n",
       "\\item '1 339 944,00'\n",
       "\\item '2 679 888,00'\n",
       "\\item '669 772,00'\n",
       "\\item 'Стоимость'\n",
       "\\end{enumerate*}\n"
      ],
      "text/markdown": [
       "1 339 944,00\n",
       "**Levels**: 1. '1 339 944,00'\n",
       "2. '2 679 888,00'\n",
       "3. '669 772,00'\n",
       "4. 'Стоимость'\n",
       "\n",
       "\n"
      ],
      "text/plain": [
       "[1] 1 339 944,00\n",
       "Levels: 1 339 944,00 2 679 888,00 669 772,00 Стоимость"
      ]
     },
     "metadata": {},
     "output_type": "display_data"
    },
    {
     "data": {
      "text/html": [
       "26 864 000,00\n",
       "<details>\n",
       "\t<summary style=display:list-item;cursor:pointer>\n",
       "\t\t<strong>Levels</strong>:\n",
       "\t</summary>\n",
       "\t<ol class=list-inline>\n",
       "\t\t<li>'26 864 000,00'</li>\n",
       "\t\t<li>'Стоимость'</li>\n",
       "\t</ol>\n",
       "</details>"
      ],
      "text/latex": [
       "26 864 000,00\n",
       "\\emph{Levels}: \\begin{enumerate*}\n",
       "\\item '26 864 000,00'\n",
       "\\item 'Стоимость'\n",
       "\\end{enumerate*}\n"
      ],
      "text/markdown": [
       "26 864 000,00\n",
       "**Levels**: 1. '26 864 000,00'\n",
       "2. 'Стоимость'\n",
       "\n",
       "\n"
      ],
      "text/plain": [
       "[1] 26 864 000,00\n",
       "Levels: 26 864 000,00 Стоимость"
      ]
     },
     "metadata": {},
     "output_type": "display_data"
    }
   ],
   "source": [
    "tables_list_1[[69]][[1]][[7]][2,6]\n",
    "tables_list_1[[74]][[1]][[7]][2,6]\n",
    "tables_list_1[[90]][[1]][[7]][2,6]"
   ]
  },
  {
   "cell_type": "code",
   "execution_count": null,
   "metadata": {
    "ExecuteTime": {
     "end_time": "2019-09-30T20:38:20.517683Z",
     "start_time": "2019-09-30T20:38:20.456Z"
    }
   },
   "outputs": [],
   "source": []
  },
  {
   "cell_type": "code",
   "execution_count": 648,
   "metadata": {
    "ExecuteTime": {
     "end_time": "2019-09-30T20:20:34.475879Z",
     "start_time": "2019-09-30T20:20:34.455Z"
    }
   },
   "outputs": [],
   "source": [
    "# tables_list_1[[633]][[1]][[8]]"
   ]
  },
  {
   "cell_type": "code",
   "execution_count": 649,
   "metadata": {
    "ExecuteTime": {
     "end_time": "2019-09-30T20:20:34.919395Z",
     "start_time": "2019-09-30T20:20:34.889Z"
    }
   },
   "outputs": [],
   "source": [
    "# tables_list_1[[674]][[1]][[8]]"
   ]
  },
  {
   "cell_type": "code",
   "execution_count": 377,
   "metadata": {
    "ExecuteTime": {
     "end_time": "2019-09-30T16:58:31.948328Z",
     "start_time": "2019-09-30T16:58:31.923Z"
    }
   },
   "outputs": [
    {
     "name": "stderr",
     "output_type": "stream",
     "text": [
      "Warning message in 2:dim(tab_tmp):\n",
      "“numerical expression has 2 elements: only the first used”"
     ]
    },
    {
     "data": {
      "text/html": [
       "<ol class=list-inline>\n",
       "\t<li>1</li>\n",
       "\t<li>&lt;NA&gt;</li>\n",
       "\t<li>&lt;NA&gt;</li>\n",
       "\t<li>&lt;NA&gt;</li>\n",
       "\t<li>&lt;NA&gt;</li>\n",
       "\t<li>&lt;NA&gt;</li>\n",
       "</ol>\n"
      ],
      "text/latex": [
       "\\begin{enumerate*}\n",
       "\\item 1\n",
       "\\item <NA>\n",
       "\\item <NA>\n",
       "\\item <NA>\n",
       "\\item <NA>\n",
       "\\item <NA>\n",
       "\\end{enumerate*}\n"
      ],
      "text/markdown": [
       "1. 1\n",
       "2. &lt;NA&gt;\n",
       "3. &lt;NA&gt;\n",
       "4. &lt;NA&gt;\n",
       "5. &lt;NA&gt;\n",
       "6. &lt;NA&gt;\n",
       "\n",
       "\n"
      ],
      "text/plain": [
       "[1]  1 NA NA NA NA NA"
      ]
     },
     "metadata": {},
     "output_type": "display_data"
    }
   ],
   "source": [
    "# as.integer(as.character(tab_tmp[2:dim(tab_tmp), 4]))"
   ]
  },
  {
   "cell_type": "code",
   "execution_count": 376,
   "metadata": {
    "ExecuteTime": {
     "end_time": "2019-09-30T16:58:08.132330Z",
     "start_time": "2019-09-30T16:58:08.119Z"
    }
   },
   "outputs": [
    {
     "name": "stderr",
     "output_type": "stream",
     "text": [
      "Warning message in 2:dim(tab_tmp):\n",
      "“numerical expression has 2 elements: only the first used”"
     ]
    },
    {
     "data": {
      "text/html": [
       "1"
      ],
      "text/latex": [
       "1"
      ],
      "text/markdown": [
       "1"
      ],
      "text/plain": [
       "[1] 1"
      ]
     },
     "metadata": {},
     "output_type": "display_data"
    }
   ],
   "source": [
    "sum(as.integer(as.character(tab_tmp[2:dim(tab_tmp), 4])), na.rm = TRUE)"
   ]
  },
  {
   "cell_type": "code",
   "execution_count": 650,
   "metadata": {
    "ExecuteTime": {
     "end_time": "2019-09-30T20:20:43.160613Z",
     "start_time": "2019-09-30T20:20:43.131Z"
    }
   },
   "outputs": [],
   "source": [
    "# tables_list[[1]][[1]][[8]]"
   ]
  },
  {
   "cell_type": "code",
   "execution_count": 651,
   "metadata": {
    "ExecuteTime": {
     "end_time": "2019-09-30T20:20:45.317791Z",
     "start_time": "2019-09-30T20:20:45.282Z"
    }
   },
   "outputs": [],
   "source": [
    "# tables_list[[17]][[1]][[8]]"
   ]
  },
  {
   "cell_type": "code",
   "execution_count": 359,
   "metadata": {
    "ExecuteTime": {
     "end_time": "2019-09-30T16:52:13.935626Z",
     "start_time": "2019-09-30T16:52:13.925Z"
    }
   },
   "outputs": [],
   "source": [
    "# tab_tmp"
   ]
  },
  {
   "cell_type": "code",
   "execution_count": 356,
   "metadata": {
    "ExecuteTime": {
     "end_time": "2019-09-30T16:51:04.769424Z",
     "start_time": "2019-09-30T16:51:04.748Z"
    }
   },
   "outputs": [],
   "source": []
  },
  {
   "cell_type": "code",
   "execution_count": 679,
   "metadata": {
    "ExecuteTime": {
     "end_time": "2019-09-30T20:39:10.150760Z",
     "start_time": "2019-09-30T20:39:10.118Z"
    }
   },
   "outputs": [],
   "source": [
    "goszak_df_kolich_2['kolichestvo'] = kol"
   ]
  },
  {
   "cell_type": "code",
   "execution_count": 680,
   "metadata": {
    "ExecuteTime": {
     "end_time": "2019-09-30T20:39:45.082096Z",
     "start_time": "2019-09-30T20:39:45.044Z"
    }
   },
   "outputs": [],
   "source": [
    "goszak_df_kolich_2['price_gos'] = price\n",
    "goszak_df_kolich_2['price_check'] = check_price"
   ]
  },
  {
   "cell_type": "code",
   "execution_count": 681,
   "metadata": {
    "ExecuteTime": {
     "end_time": "2019-09-30T20:40:38.715352Z",
     "start_time": "2019-09-30T20:40:24.574Z"
    }
   },
   "outputs": [],
   "source": [
    "write.xlsx(goszak_df_kolich_2, 'goszak_df_tmp_wo_gruz.xlsx')"
   ]
  },
  {
   "cell_type": "code",
   "execution_count": 686,
   "metadata": {
    "ExecuteTime": {
     "end_time": "2019-10-01T13:38:31.052769Z",
     "start_time": "2019-10-01T13:38:31.000Z"
    }
   },
   "outputs": [],
   "source": [
    "goszak_df_kolich_3  <-  read_excel('/media/xenakas/ext4_drive/data_goszak/goszak_df_tmp_wo_gruz.xlsx') #, header=TRUE, colClasses=NA)\n"
   ]
  },
  {
   "cell_type": "code",
   "execution_count": 747,
   "metadata": {
    "ExecuteTime": {
     "end_time": "2019-10-01T14:39:45.519507Z",
     "start_time": "2019-10-01T14:39:38.006Z"
    }
   },
   "outputs": [],
   "source": [
    "# write.xlsx(goszak_df_kolich_3, 'goszak_df_tmp_wo_gruz_2.xlsx')"
   ]
  },
  {
   "cell_type": "code",
   "execution_count": 908,
   "metadata": {
    "ExecuteTime": {
     "end_time": "2019-10-01T17:49:01.531447Z",
     "start_time": "2019-10-01T17:49:01.415Z"
    }
   },
   "outputs": [],
   "source": [
    "goszak_df_kolich_3  <-  read_excel('/media/xenakas/ext4_drive/data_goszak/goszak_df_tmp_wo_gruz_2.xlsx') #, header=TRUE, colClasses=NA)"
   ]
  },
  {
   "cell_type": "code",
   "execution_count": 909,
   "metadata": {
    "ExecuteTime": {
     "end_time": "2019-10-01T17:49:01.829062Z",
     "start_time": "2019-10-01T17:49:01.798Z"
    }
   },
   "outputs": [
    {
     "data": {
      "text/html": [
       "<ol class=list-inline>\n",
       "\t<li>1007</li>\n",
       "\t<li>30</li>\n",
       "</ol>\n"
      ],
      "text/latex": [
       "\\begin{enumerate*}\n",
       "\\item 1007\n",
       "\\item 30\n",
       "\\end{enumerate*}\n"
      ],
      "text/markdown": [
       "1. 1007\n",
       "2. 30\n",
       "\n",
       "\n"
      ],
      "text/plain": [
       "[1] 1007   30"
      ]
     },
     "metadata": {},
     "output_type": "display_data"
    }
   ],
   "source": [
    "goszak_df_kolich_3  %>%  dim()"
   ]
  },
  {
   "cell_type": "code",
   "execution_count": 912,
   "metadata": {
    "ExecuteTime": {
     "end_time": "2019-10-01T17:49:44.880994Z",
     "start_time": "2019-10-01T17:49:44.845Z"
    }
   },
   "outputs": [],
   "source": [
    "# goszak_df_kolich_3[goszak_df_kolich_3$completed_car_purchase !=0|is.na(goszak_df_kolich_3$completed_car_purchase), ]"
   ]
  },
  {
   "cell_type": "code",
   "execution_count": 900,
   "metadata": {
    "ExecuteTime": {
     "end_time": "2019-10-01T17:47:32.001570Z",
     "start_time": "2019-10-01T17:47:31.934Z"
    }
   },
   "outputs": [],
   "source": [
    "# saveRDS(tables_list, 'all_goszak_pages.rds')"
   ]
  },
  {
   "cell_type": "code",
   "execution_count": 913,
   "metadata": {
    "ExecuteTime": {
     "end_time": "2019-10-01T17:49:49.437555Z",
     "start_time": "2019-10-01T17:49:49.344Z"
    }
   },
   "outputs": [],
   "source": [
    "tables_list_2  <- list()\n",
    "jj = 0\n",
    "for (i in as.integer(goszak_df_kolich_3$X__1)){\n",
    "    jj = jj+1\n",
    "    tables_list_2[[jj]]  <-  tables_list[[i]]\n",
    "}"
   ]
  },
  {
   "cell_type": "code",
   "execution_count": 914,
   "metadata": {
    "ExecuteTime": {
     "end_time": "2019-10-01T17:49:50.084659Z",
     "start_time": "2019-10-01T17:49:49.888Z"
    }
   },
   "outputs": [],
   "source": [
    "zakaz  <-  c()\n",
    "\n",
    "for (i in 1:length(tables_list_2)){\n",
    "    \n",
    "    tab_tmp = tables_list_2[[i]][[2]][[length(tables_list_2[[i]][[2]])]]\n",
    "    zakaz  <-  c(zakaz, as.character(tab_tmp[1, 1]))\n",
    "}\n",
    "\n"
   ]
  },
  {
   "cell_type": "code",
   "execution_count": 915,
   "metadata": {
    "ExecuteTime": {
     "end_time": "2019-10-01T17:49:55.193274Z",
     "start_time": "2019-10-01T17:49:55.113Z"
    }
   },
   "outputs": [],
   "source": [
    "# zakaz\n"
   ]
  },
  {
   "cell_type": "code",
   "execution_count": 916,
   "metadata": {
    "ExecuteTime": {
     "end_time": "2019-10-01T17:49:55.558611Z",
     "start_time": "2019-10-01T17:49:55.469Z"
    }
   },
   "outputs": [],
   "source": [
    "gru_ch  <-  c()\n",
    "for (i in  zakaz){\n",
    "    if (str_detect(i,'единственной заявки')){\n",
    "        gru_ch  <-  c(gru_ch, '1')\n",
    "    }else if( str_detect(i,'заявок' )){\n",
    "        gru_ch  <-  c(gru_ch, 'не одна')\n",
    "    }else if( str_detect(i,'несостоявшимся' )){\n",
    "        gru_ch  <-  c(gru_ch, '0')\n",
    "    }else{\n",
    "        gru_ch  <-  c(gru_ch, '0')\n",
    "    }   \n",
    "    \n",
    "}"
   ]
  },
  {
   "cell_type": "code",
   "execution_count": 917,
   "metadata": {
    "ExecuteTime": {
     "end_time": "2019-10-01T17:49:55.835661Z",
     "start_time": "2019-10-01T17:49:55.799Z"
    }
   },
   "outputs": [],
   "source": [
    "goszak_df_kolich_3['kolichetvo_uch'] = gru_ch"
   ]
  },
  {
   "cell_type": "code",
   "execution_count": null,
   "metadata": {},
   "outputs": [],
   "source": []
  },
  {
   "cell_type": "code",
   "execution_count": 918,
   "metadata": {
    "ExecuteTime": {
     "end_time": "2019-10-01T17:49:59.629875Z",
     "start_time": "2019-10-01T17:49:59.578Z"
    }
   },
   "outputs": [
    {
     "data": {
      "text/html": [
       "<table>\n",
       "<thead><tr><th scope=col>Информация о контракте</th><th scope=col>Заказчик, с которым заключен контракт</th><th scope=col>Поставщик, с которым заключен контракт</th><th scope=col>Цена контракта</th><th scope=col>Дата и время получения в ЕИС</th></tr></thead>\n",
       "<tbody>\n",
       "\t<tr><td>Сведения о заключении контракта на электронной площадке от 28.02.2017 № 0328300172416000002_302193\n",
       "                                \n",
       "                                на основании документа:\n",
       "                                0328300172416000002-3</td><td>МУНИЦИПАЛЬНОЕ БЮДЖЕТНОЕ УЧРЕЖДЕНИЕ КЛЯЗЬМИНСКОЕ СЕЛЬСКОЕ ПОСЕЛЕНИЕ КОВРОВСКОГО РАЙОНА \"КЛЯЗЬМИНСКОЕ\"                                                                                                                                                </td><td>общество с ограниченной ответственностью \"СВОЕ ВРЕМЯ\"                                                                                                                                                                                               </td><td>557 690,04 Российский рубль                                                                                                                                                                                                                         </td><td>28.02.2017 11:18 (МСК)                                                                                                                                                                                                                              </td></tr>\n",
       "</tbody>\n",
       "</table>\n"
      ],
      "text/latex": [
       "\\begin{tabular}{r|lllll}\n",
       " Информация о контракте & Заказчик, с которым заключен контракт & Поставщик, с которым заключен контракт & Цена контракта & Дата и время получения в ЕИС\\\\\n",
       "\\hline\n",
       "\t Сведения о заключении контракта на электронной площадке от 28.02.2017 № 0328300172416000002\\_302193\n",
       "                                \n",
       "                                на основании документа:\n",
       "                                0328300172416000002-3 & МУНИЦИПАЛЬНОЕ БЮДЖЕТНОЕ УЧРЕЖДЕНИЕ КЛЯЗЬМИНСКОЕ СЕЛЬСКОЕ ПОСЕЛЕНИЕ КОВРОВСКОГО РАЙОНА \"КЛЯЗЬМИНСКОЕ\"                                                                                                                                                   & общество с ограниченной ответственностью \"СВОЕ ВРЕМЯ\"                                                                                                                                                                                                  & 557 690,04 Российский рубль                                                                                                                                                                                                                            & 28.02.2017 11:18 (МСК)                                                                                                                                                                                                                                \\\\\n",
       "\\end{tabular}\n"
      ],
      "text/markdown": [
       "\n",
       "Информация о контракте | Заказчик, с которым заключен контракт | Поставщик, с которым заключен контракт | Цена контракта | Дата и время получения в ЕИС | \n",
       "|---|\n",
       "| Сведения о заключении контракта на электронной площадке от 28.02.2017 № 0328300172416000002_302193\n",
       "                                \n",
       "                                на основании документа:\n",
       "                                0328300172416000002-3 | МУНИЦИПАЛЬНОЕ БЮДЖЕТНОЕ УЧРЕЖДЕНИЕ КЛЯЗЬМИНСКОЕ СЕЛЬСКОЕ ПОСЕЛЕНИЕ КОВРОВСКОГО РАЙОНА \"КЛЯЗЬМИНСКОЕ\"                                                                                                                                                 | общество с ограниченной ответственностью \"СВОЕ ВРЕМЯ\"                                                                                                                                                                                                | 557 690,04 Российский рубль                                                                                                                                                                                                                          | 28.02.2017 11:18 (МСК)                                                                                                                                                                                                                               | \n",
       "\n",
       "\n"
      ],
      "text/plain": [
       "  Информация о контракте                                                                                                                                                                                                                              \n",
       "1 Сведения о заключении контракта на электронной площадке от 28.02.2017 № 0328300172416000002_302193\\n                                \\n                                на основании документа:\\n                                0328300172416000002-3\n",
       "  Заказчик, с которым заключен контракт                                                               \n",
       "1 МУНИЦИПАЛЬНОЕ БЮДЖЕТНОЕ УЧРЕЖДЕНИЕ КЛЯЗЬМИНСКОЕ СЕЛЬСКОЕ ПОСЕЛЕНИЕ КОВРОВСКОГО РАЙОНА \"КЛЯЗЬМИНСКОЕ\"\n",
       "  Поставщик, с которым заключен контракт               \n",
       "1 общество с ограниченной ответственностью \"СВОЕ ВРЕМЯ\"\n",
       "  Цена контракта              Дата и время получения в ЕИС\n",
       "1 557 690,04 Российский рубль 28.02.2017 11:18 (МСК)      "
      ]
     },
     "metadata": {},
     "output_type": "display_data"
    }
   ],
   "source": [
    "tables_list_2[[8]][[3]][[3]]"
   ]
  },
  {
   "cell_type": "code",
   "execution_count": 919,
   "metadata": {
    "ExecuteTime": {
     "end_time": "2019-10-01T17:50:00.018580Z",
     "start_time": "2019-10-01T17:49:59.936Z"
    }
   },
   "outputs": [
    {
     "data": {
      "text/html": [
       "Общество с ограниченной ответственностью «Авто-Тракт Коммерческий Транспорт»(2)\n",
       "<details>\n",
       "\t<summary style=display:list-item;cursor:pointer>\n",
       "\t\t<strong>Levels</strong>:\n",
       "\t</summary>\n",
       "\t'Общество с ограниченной ответственностью «Авто-Тракт Коммерческий Транспорт»(2)'\n",
       "</details>"
      ],
      "text/latex": [
       "Общество с ограниченной ответственностью «Авто-Тракт Коммерческий Транспорт»(2)\n",
       "\\emph{Levels}: 'Общество с ограниченной ответственностью «Авто-Тракт Коммерческий Транспорт»(2)'"
      ],
      "text/markdown": [
       "Общество с ограниченной ответственностью «Авто-Тракт Коммерческий Транспорт»(2)\n",
       "**Levels**: 'Общество с ограниченной ответственностью «Авто-Тракт Коммерческий Транспорт»(2)'"
      ],
      "text/plain": [
       "[1] Общество с ограниченной ответственностью «Авто-Тракт Коммерческий Транспорт»(2)\n",
       "Levels: Общество с ограниченной ответственностью «Авто-Тракт Коммерческий Транспорт»(2)"
      ]
     },
     "metadata": {},
     "output_type": "display_data"
    }
   ],
   "source": [
    "tables_list_2[[4]][[3]][[2]][3,3]"
   ]
  },
  {
   "cell_type": "code",
   "execution_count": 920,
   "metadata": {
    "ExecuteTime": {
     "end_time": "2019-10-01T17:50:05.750223Z",
     "start_time": "2019-10-01T17:50:05.542Z"
    }
   },
   "outputs": [],
   "source": [
    "numbid  <- c()\n",
    "smth  <-  c()\n",
    "realprice  <-  c()\n",
    "\n",
    "for (i in 1:length(tables_list_2)){\n",
    "    \n",
    "    numbid  <- c(numbid, dim(tables_list_2[[i]][[3]][[2]])[1]-2 )\n",
    "    \n",
    "    tab_tmp  <-  tables_list_2[[i]][[3]][[2]]\n",
    "    \n",
    "    smth  <-  c(smth, as.character(tab_tmp[3,3]) )\n",
    "    \n",
    "\n",
    "    tab_tmp  <-  tables_list_2[[i]][[3]][[3]]\n",
    "    \n",
    "    if ( length(as.character(tab_tmp[1, 4]) !=0)){\n",
    "        realprice  <-  c(realprice, as.character(tab_tmp[1, 4]))\n",
    "    }else{\n",
    "        realprice  <-  c(realprice, NA)\n",
    "    }\n",
    " \n",
    "}\n"
   ]
  },
  {
   "cell_type": "code",
   "execution_count": 921,
   "metadata": {
    "ExecuteTime": {
     "end_time": "2019-10-01T17:50:06.206545Z",
     "start_time": "2019-10-01T17:50:06.165Z"
    }
   },
   "outputs": [],
   "source": [
    "goszak_df_kolich_3['number_of_bids'] = numbid\n"
   ]
  },
  {
   "cell_type": "code",
   "execution_count": 922,
   "metadata": {
    "ExecuteTime": {
     "end_time": "2019-10-01T17:50:08.952979Z",
     "start_time": "2019-10-01T17:50:08.806Z"
    }
   },
   "outputs": [],
   "source": [
    "smsms  <-  c()\n",
    "for (i in smth){\n",
    "    if(str_detect(i,'ни одной заявки' )){\n",
    "        smsms  <- c(smsms, 0)\n",
    "        \n",
    "    }else if (str_detect(i,'только одного участника закупки' )|str_detect(i,'несоответствии требованиям' )){\n",
    "        smsms  <- c(smsms, 1)\n",
    "    }else{\n",
    "        smsms  <- c(smsms, 0)\n",
    "    }\n",
    "}"
   ]
  },
  {
   "cell_type": "code",
   "execution_count": null,
   "metadata": {
    "ExecuteTime": {
     "end_time": "2019-10-01T17:42:49.827299Z",
     "start_time": "2019-10-01T17:42:49.761Z"
    }
   },
   "outputs": [],
   "source": []
  },
  {
   "cell_type": "code",
   "execution_count": 923,
   "metadata": {
    "ExecuteTime": {
     "end_time": "2019-10-01T17:50:12.990548Z",
     "start_time": "2019-10-01T17:50:12.957Z"
    }
   },
   "outputs": [],
   "source": [
    "goszak_df_kolich_3[which(smth == 'По результатам рассмотрения первых частей заявок к участию в аукционе не допущено ни одной заявки (ч. 8 ст. 67)'), ]$completed_car_purchase = rep(0,3)"
   ]
  },
  {
   "cell_type": "code",
   "execution_count": 924,
   "metadata": {
    "ExecuteTime": {
     "end_time": "2019-10-01T17:50:14.050364Z",
     "start_time": "2019-10-01T17:50:14.029Z"
    }
   },
   "outputs": [],
   "source": [
    "goszak_df_kolich_3[which(smth == 'По окончании срока подачи заявок не подано ни одной заявки (ч. 16 ст. 66 44-ФЗ)'), ]$completed_car_purchase = rep(0,162)"
   ]
  },
  {
   "cell_type": "code",
   "execution_count": 925,
   "metadata": {
    "ExecuteTime": {
     "end_time": "2019-10-01T17:50:18.344838Z",
     "start_time": "2019-10-01T17:50:18.290Z"
    }
   },
   "outputs": [
    {
     "data": {
      "text/html": [
       "<table>\n",
       "<thead><tr><th scope=col>new_index</th><th scope=col>X__1</th><th scope=col>n</th><th scope=col>index_name</th><th scope=col>all_indexes</th><th scope=col>purchase_number</th><th scope=col>done</th><th scope=col>completed_car_purchase</th><th scope=col>price</th><th scope=col>price_per_one</th><th scope=col>⋯</th><th scope=col>максимальная_скорость</th><th scope=col>масса_авто_снаряженная</th><th scope=col>год_выпуска</th><th scope=col>мощность_л_с</th><th scope=col>потребление_топлива_городской_цикл_л_100км</th><th scope=col>filename</th><th scope=col>sha_id</th><th scope=col>kolichetvo_uch</th><th scope=col>zaversch</th><th scope=col>number_of_bids</th></tr></thead>\n",
       "<tbody>\n",
       "\t<tr><td>377                                                                 </td><td>453                                                                 </td><td>7642                                                                </td><td>829                                                                 </td><td>829                                                                 </td><td>0179200001917000063                                                 </td><td>NA                                                                  </td><td>1.0                                                                 </td><td>1500000                                                             </td><td>1500000                                                             </td><td>⋯                                                                   </td><td>NA                                                                  </td><td>NA                                                                  </td><td>NA                                                                  </td><td>NA                                                                  </td><td>NA                                                                  </td><td>32965a6e9ee7ddf55e8e2b1311269939dccebf148c4c33097afd6ade39f6c2a4.doc</td><td>32965a6e9ee7ddf55e8e2b1311269939dccebf148c4c33097afd6ade39f6c2a4    </td><td>1                                                                   </td><td>1                                                                   </td><td>2                                                                   </td></tr>\n",
       "</tbody>\n",
       "</table>\n"
      ],
      "text/latex": [
       "\\begin{tabular}{r|lllllllllllllllllllllllllllllll}\n",
       " new\\_index & X\\_\\_1 & n & index\\_name & all\\_indexes & purchase\\_number & done & completed\\_car\\_purchase & price & price\\_per\\_one & ⋯ & максимальная\\_скорость & масса\\_авто\\_снаряженная & год\\_выпуска & мощность\\_л\\_с & потребление\\_топлива\\_городской\\_цикл\\_л\\_100км & filename & sha\\_id & kolichetvo\\_uch & zaversch & number\\_of\\_bids\\\\\n",
       "\\hline\n",
       "\t 377                                                                  & 453                                                                  & 7642                                                                 & 829                                                                  & 829                                                                  & 0179200001917000063                                                  & NA                                                                   & 1.0                                                                  & 1500000                                                              & 1500000                                                              & ⋯                                                                    & NA                                                                   & NA                                                                   & NA                                                                   & NA                                                                   & NA                                                                   & 32965a6e9ee7ddf55e8e2b1311269939dccebf148c4c33097afd6ade39f6c2a4.doc & 32965a6e9ee7ddf55e8e2b1311269939dccebf148c4c33097afd6ade39f6c2a4     & 1                                                                    & 1                                                                    & 2                                                                   \\\\\n",
       "\\end{tabular}\n"
      ],
      "text/markdown": [
       "\n",
       "new_index | X__1 | n | index_name | all_indexes | purchase_number | done | completed_car_purchase | price | price_per_one | ⋯ | максимальная_скорость | масса_авто_снаряженная | год_выпуска | мощность_л_с | потребление_топлива_городской_цикл_л_100км | filename | sha_id | kolichetvo_uch | zaversch | number_of_bids | \n",
       "|---|\n",
       "| 377                                                                  | 453                                                                  | 7642                                                                 | 829                                                                  | 829                                                                  | 0179200001917000063                                                  | NA                                                                   | 1.0                                                                  | 1500000                                                              | 1500000                                                              | ⋯                                                                    | NA                                                                   | NA                                                                   | NA                                                                   | NA                                                                   | NA                                                                   | 32965a6e9ee7ddf55e8e2b1311269939dccebf148c4c33097afd6ade39f6c2a4.doc | 32965a6e9ee7ddf55e8e2b1311269939dccebf148c4c33097afd6ade39f6c2a4     | 1                                                                    | 1                                                                    | 2                                                                    | \n",
       "\n",
       "\n"
      ],
      "text/plain": [
       "  new_index X__1 n    index_name all_indexes purchase_number     done\n",
       "1 377       453  7642 829        829         0179200001917000063 NA  \n",
       "  completed_car_purchase price   price_per_one ⋯ максимальная_скорость\n",
       "1 1.0                    1500000 1500000       ⋯ NA                   \n",
       "  масса_авто_снаряженная год_выпуска мощность_л_с\n",
       "1 NA                     NA          NA          \n",
       "  потребление_топлива_городской_цикл_л_100км\n",
       "1 NA                                        \n",
       "  filename                                                            \n",
       "1 32965a6e9ee7ddf55e8e2b1311269939dccebf148c4c33097afd6ade39f6c2a4.doc\n",
       "  sha_id                                                          \n",
       "1 32965a6e9ee7ddf55e8e2b1311269939dccebf148c4c33097afd6ade39f6c2a4\n",
       "  kolichetvo_uch zaversch number_of_bids\n",
       "1 1              1        2             "
      ]
     },
     "metadata": {},
     "output_type": "display_data"
    }
   ],
   "source": [
    "goszak_df_kolich_3[goszak_df_kolich_3['kolichetvo_uch'] == 1 & goszak_df_kolich_3['number_of_bids']!=1, ]"
   ]
  },
  {
   "cell_type": "code",
   "execution_count": 926,
   "metadata": {
    "ExecuteTime": {
     "end_time": "2019-10-01T17:50:21.843244Z",
     "start_time": "2019-10-01T17:50:21.742Z"
    }
   },
   "outputs": [],
   "source": [
    "re_price  <-  c()\n",
    "\n",
    "for (i in realprice){\n",
    "    k = gsub(\"[^0-9.-]\",\"\",gsub(\",\",\".\", as.character(i), fixed = TRUE))\n",
    "    re_price  <-  c(re_price, k)\n",
    "\n",
    "}\n"
   ]
  },
  {
   "cell_type": "code",
   "execution_count": 927,
   "metadata": {
    "ExecuteTime": {
     "end_time": "2019-10-01T17:50:23.476811Z",
     "start_time": "2019-10-01T17:50:23.448Z"
    }
   },
   "outputs": [],
   "source": [
    "# goszak_df_kolich_3  "
   ]
  },
  {
   "cell_type": "code",
   "execution_count": 928,
   "metadata": {
    "ExecuteTime": {
     "end_time": "2019-10-01T17:50:24.647695Z",
     "start_time": "2019-10-01T17:50:24.607Z"
    }
   },
   "outputs": [],
   "source": [
    "goszak_df_kolich_3['the_real_price'] = re_price\n"
   ]
  },
  {
   "cell_type": "code",
   "execution_count": 929,
   "metadata": {
    "ExecuteTime": {
     "end_time": "2019-10-01T17:50:25.769887Z",
     "start_time": "2019-10-01T17:50:25.722Z"
    }
   },
   "outputs": [
    {
     "data": {
      "text/html": [
       "<ol class=list-inline>\n",
       "\t<li>1007</li>\n",
       "\t<li>32</li>\n",
       "</ol>\n"
      ],
      "text/latex": [
       "\\begin{enumerate*}\n",
       "\\item 1007\n",
       "\\item 32\n",
       "\\end{enumerate*}\n"
      ],
      "text/markdown": [
       "1. 1007\n",
       "2. 32\n",
       "\n",
       "\n"
      ],
      "text/plain": [
       "[1] 1007   32"
      ]
     },
     "metadata": {},
     "output_type": "display_data"
    }
   ],
   "source": [
    "goszak_df_kolich_3  %>%  dim()"
   ]
  },
  {
   "cell_type": "code",
   "execution_count": null,
   "metadata": {},
   "outputs": [],
   "source": []
  },
  {
   "cell_type": "code",
   "execution_count": 930,
   "metadata": {
    "ExecuteTime": {
     "end_time": "2019-10-01T17:50:32.350060Z",
     "start_time": "2019-10-01T17:50:32.311Z"
    }
   },
   "outputs": [],
   "source": [
    "goszak_df_kolich_3[is.na(goszak_df_kolich_3['the_real_price'] ) , ]$completed_car_purchase = rep(0,223)"
   ]
  },
  {
   "cell_type": "code",
   "execution_count": 944,
   "metadata": {
    "ExecuteTime": {
     "end_time": "2019-10-01T17:56:01.657761Z",
     "start_time": "2019-10-01T17:56:01.618Z"
    }
   },
   "outputs": [],
   "source": [
    "# goszak_df_kolich_3\n",
    "\n",
    "goszak_df_kolich_3['num_of_bb'] = goszak_df_kolich_3['number_of_bids'] - smsms "
   ]
  },
  {
   "cell_type": "code",
   "execution_count": 945,
   "metadata": {
    "ExecuteTime": {
     "end_time": "2019-10-01T17:56:04.825410Z",
     "start_time": "2019-10-01T17:56:04.795Z"
    }
   },
   "outputs": [],
   "source": [
    "goszak_df_kolich_4 = goszak_df_kolich_3[goszak_df_kolich_3$completed_car_purchase !=0|is.na(goszak_df_kolich_3$completed_car_purchase), ] "
   ]
  },
  {
   "cell_type": "code",
   "execution_count": 948,
   "metadata": {
    "ExecuteTime": {
     "end_time": "2019-10-01T17:56:31.514991Z",
     "start_time": "2019-10-01T17:56:31.482Z"
    }
   },
   "outputs": [],
   "source": [
    "# goszak_df_kolich_4[goszak_df_kolich_4['num_of_bb'] == 0, ]"
   ]
  },
  {
   "cell_type": "code",
   "execution_count": 939,
   "metadata": {
    "ExecuteTime": {
     "end_time": "2019-10-01T17:53:55.133003Z",
     "start_time": "2019-10-01T17:53:55.092Z"
    }
   },
   "outputs": [
    {
     "data": {
      "text/html": [
       "<ol class=list-inline>\n",
       "\t<li>784</li>\n",
       "\t<li>32</li>\n",
       "</ol>\n"
      ],
      "text/latex": [
       "\\begin{enumerate*}\n",
       "\\item 784\n",
       "\\item 32\n",
       "\\end{enumerate*}\n"
      ],
      "text/markdown": [
       "1. 784\n",
       "2. 32\n",
       "\n",
       "\n"
      ],
      "text/plain": [
       "[1] 784  32"
      ]
     },
     "metadata": {},
     "output_type": "display_data"
    }
   ],
   "source": [
    "# goszak_df_kolich_3[goszak_df_kolich_3$completed_car_purchase =='1.0'|is.na(goszak_df_kolich_3$completed_car_purchase), ]  %>%  dim"
   ]
  },
  {
   "cell_type": "code",
   "execution_count": 950,
   "metadata": {
    "ExecuteTime": {
     "end_time": "2019-10-01T17:56:58.513955Z",
     "start_time": "2019-10-01T17:56:58.485Z"
    }
   },
   "outputs": [],
   "source": [
    "# goszak_df_kolich_3[goszak_df_kolich_3['number_of_bids'] ==2 & goszak_df_kolich_3['num_of_bb'] ==1 , ]"
   ]
  },
  {
   "cell_type": "code",
   "execution_count": 952,
   "metadata": {
    "ExecuteTime": {
     "end_time": "2019-10-01T17:57:34.622676Z",
     "start_time": "2019-10-01T17:57:34.577Z"
    }
   },
   "outputs": [
    {
     "data": {
      "text/html": [
       "0.423038728897716"
      ],
      "text/latex": [
       "0.423038728897716"
      ],
      "text/markdown": [
       "0.423038728897716"
      ],
      "text/plain": [
       "[1] 0.4230387"
      ]
     },
     "metadata": {},
     "output_type": "display_data"
    }
   ],
   "source": [
    "length(zakaz[gru_ch == '1']) / length(gru_ch)"
   ]
  },
  {
   "cell_type": "code",
   "execution_count": 953,
   "metadata": {
    "ExecuteTime": {
     "end_time": "2019-10-01T17:59:29.742949Z",
     "start_time": "2019-10-01T17:59:29.702Z"
    }
   },
   "outputs": [
    {
     "data": {
      "text/html": [
       "<ol class=list-inline>\n",
       "\t<li>784</li>\n",
       "\t<li>33</li>\n",
       "</ol>\n"
      ],
      "text/latex": [
       "\\begin{enumerate*}\n",
       "\\item 784\n",
       "\\item 33\n",
       "\\end{enumerate*}\n"
      ],
      "text/markdown": [
       "1. 784\n",
       "2. 33\n",
       "\n",
       "\n"
      ],
      "text/plain": [
       "[1] 784  33"
      ]
     },
     "metadata": {},
     "output_type": "display_data"
    }
   ],
   "source": [
    "goszak_df_kolich_4  %>%  dim()"
   ]
  },
  {
   "cell_type": "code",
   "execution_count": 956,
   "metadata": {
    "ExecuteTime": {
     "end_time": "2019-10-01T18:04:25.333944Z",
     "start_time": "2019-10-01T18:04:25.299Z"
    }
   },
   "outputs": [],
   "source": [
    "# goszak_df_kolich_4"
   ]
  },
  {
   "cell_type": "code",
   "execution_count": 954,
   "metadata": {
    "ExecuteTime": {
     "end_time": "2019-10-01T17:59:57.095379Z",
     "start_time": "2019-10-01T17:59:45.255Z"
    }
   },
   "outputs": [],
   "source": [
    "write.xlsx(goszak_df_kolich_4, 'goszak_complete.xlsx')"
   ]
  },
  {
   "cell_type": "code",
   "execution_count": null,
   "metadata": {},
   "outputs": [],
   "source": []
  }
 ],
 "metadata": {
  "hide_input": false,
  "kernelspec": {
   "display_name": "R 4.0.2",
   "language": "R",
   "name": "ir"
  },
  "language_info": {
   "codemirror_mode": "r",
   "file_extension": ".r",
   "mimetype": "text/x-r-source",
   "name": "R",
   "pygments_lexer": "r",
   "version": "4.1.2"
  },
  "latex_envs": {
   "LaTeX_envs_menu_present": true,
   "autoclose": true,
   "autocomplete": true,
   "bibliofile": "biblio.bib",
   "cite_by": "apalike",
   "current_citInitial": 1,
   "eqLabelWithNumbers": true,
   "eqNumInitial": 1,
   "hotkeys": {
    "equation": "Ctrl-E",
    "itemize": "Ctrl-I"
   },
   "labels_anchors": false,
   "latex_user_defs": false,
   "report_style_numbering": false,
   "user_envs_cfg": false
  },
  "toc": {
   "base_numbering": 1,
   "nav_menu": {},
   "number_sections": true,
   "sideBar": true,
   "skip_h1_title": false,
   "title_cell": "Table of Contents",
   "title_sidebar": "Contents",
   "toc_cell": false,
   "toc_position": {},
   "toc_section_display": true,
   "toc_window_display": false
  },
  "varInspector": {
   "cols": {
    "lenName": 16,
    "lenType": 16,
    "lenVar": 40
   },
   "kernels_config": {
    "python": {
     "delete_cmd_postfix": "",
     "delete_cmd_prefix": "del ",
     "library": "var_list.py",
     "varRefreshCmd": "print(var_dic_list())"
    },
    "r": {
     "delete_cmd_postfix": ") ",
     "delete_cmd_prefix": "rm(",
     "library": "var_list.r",
     "varRefreshCmd": "cat(var_dic_list()) "
    }
   },
   "types_to_exclude": [
    "module",
    "function",
    "builtin_function_or_method",
    "instance",
    "_Feature"
   ],
   "window_display": false
  }
 },
 "nbformat": 4,
 "nbformat_minor": 2
}
