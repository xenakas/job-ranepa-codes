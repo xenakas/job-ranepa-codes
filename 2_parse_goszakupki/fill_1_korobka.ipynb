{
 "cells": [
  {
   "cell_type": "code",
   "execution_count": 14,
   "metadata": {
    "ExecuteTime": {
     "end_time": "2019-10-17T13:22:43.854467Z",
     "start_time": "2019-10-17T13:22:43.590022Z"
    }
   },
   "outputs": [],
   "source": [
    "from docx.api import Document\n",
    "import pandas as pd"
   ]
  },
  {
   "cell_type": "code",
   "execution_count": 393,
   "metadata": {
    "ExecuteTime": {
     "end_time": "2019-10-18T18:28:51.353894Z",
     "start_time": "2019-10-18T18:28:51.203874Z"
    }
   },
   "outputs": [],
   "source": [
    "df = pd.read_excel('/media/xenakas/ext4_drive/data_goszak/final_df_2017.xlsx')"
   ]
  },
  {
   "cell_type": "code",
   "execution_count": 394,
   "metadata": {
    "ExecuteTime": {
     "end_time": "2019-10-18T18:28:53.482252Z",
     "start_time": "2019-10-18T18:28:53.468526Z"
    }
   },
   "outputs": [],
   "source": [
    "df['filenames'] = [ str(df.loc[i,'index_name']) + '.' + df.loc[i,'filetype']   for i in range(df.shape[0])]"
   ]
  },
  {
   "cell_type": "code",
   "execution_count": 395,
   "metadata": {
    "ExecuteTime": {
     "end_time": "2019-10-18T18:28:55.514628Z",
     "start_time": "2019-10-18T18:28:55.510080Z"
    }
   },
   "outputs": [],
   "source": [
    "df_docx = df[df['filetype'] == 'docx']"
   ]
  },
  {
   "cell_type": "code",
   "execution_count": 398,
   "metadata": {
    "ExecuteTime": {
     "end_time": "2019-10-18T18:29:06.808640Z",
     "start_time": "2019-10-18T18:29:06.805690Z"
    }
   },
   "outputs": [],
   "source": [
    "# df_docx\n"
   ]
  },
  {
   "cell_type": "code",
   "execution_count": 175,
   "metadata": {
    "ExecuteTime": {
     "end_time": "2019-10-17T14:47:17.037876Z",
     "start_time": "2019-10-17T14:47:17.034621Z"
    }
   },
   "outputs": [],
   "source": [
    "def read_table(table):\n",
    "    data = []\n",
    "    keys = None\n",
    "    for i, row in enumerate(table.rows):\n",
    "        text = (cell.text for cell in row.cells)\n",
    "        if i == 0:\n",
    "            keys = tuple(text)\n",
    "            continue\n",
    "        row_data = dict(zip(keys, text))\n",
    "        data.append(row_data)\n",
    "    return pd.DataFrame(data) \n",
    "        "
   ]
  },
  {
   "cell_type": "code",
   "execution_count": 230,
   "metadata": {
    "ExecuteTime": {
     "end_time": "2019-10-17T23:54:39.522780Z",
     "start_time": "2019-10-17T23:51:23.111322Z"
    }
   },
   "outputs": [
    {
     "name": "stdout",
     "output_type": "stream",
     "text": [
      "0\n",
      "1\n",
      "2\n",
      "3\n",
      "4\n",
      "5\n",
      "6\n",
      "7\n",
      "An exception occurred\n",
      "8\n",
      "9\n",
      "10\n",
      "11\n",
      "12\n",
      "13\n",
      "14\n",
      "15\n",
      "16\n",
      "17\n",
      "18\n",
      "19\n",
      "20\n",
      "21\n",
      "22\n",
      "23\n",
      "24\n",
      "25\n",
      "26\n",
      "27\n",
      "28\n",
      "29\n",
      "30\n",
      "31\n",
      "32\n",
      "33\n",
      "34\n",
      "35\n",
      "36\n",
      "37\n",
      "38\n",
      "39\n",
      "40\n",
      "41\n",
      "42\n",
      "43\n",
      "44\n",
      "45\n",
      "46\n",
      "47\n",
      "48\n",
      "49\n",
      "50\n",
      "51\n",
      "52\n",
      "53\n",
      "54\n",
      "55\n",
      "56\n",
      "57\n",
      "58\n",
      "59\n",
      "60\n",
      "61\n",
      "62\n",
      "63\n",
      "64\n",
      "65\n",
      "66\n",
      "67\n",
      "68\n",
      "69\n",
      "70\n",
      "71\n",
      "72\n",
      "73\n",
      "74\n",
      "75\n",
      "76\n",
      "77\n",
      "78\n",
      "79\n",
      "80\n",
      "81\n",
      "82\n",
      "83\n",
      "84\n",
      "85\n",
      "86\n",
      "87\n",
      "88\n",
      "89\n",
      "90\n",
      "91\n",
      "92\n",
      "93\n",
      "94\n",
      "95\n",
      "96\n",
      "97\n",
      "98\n",
      "99\n",
      "100\n",
      "101\n",
      "102\n",
      "103\n",
      "104\n",
      "105\n",
      "106\n",
      "An exception occurred\n",
      "107\n",
      "108\n",
      "109\n",
      "110\n",
      "111\n",
      "112\n",
      "113\n",
      "114\n",
      "115\n",
      "116\n",
      "117\n",
      "118\n",
      "119\n",
      "120\n",
      "121\n",
      "122\n",
      "123\n",
      "124\n",
      "125\n",
      "126\n",
      "127\n",
      "128\n",
      "129\n",
      "130\n",
      "131\n",
      "132\n",
      "133\n",
      "134\n",
      "135\n",
      "136\n",
      "137\n",
      "138\n",
      "139\n",
      "140\n",
      "141\n",
      "142\n",
      "143\n",
      "144\n",
      "145\n",
      "146\n",
      "147\n",
      "148\n",
      "149\n",
      "150\n",
      "151\n",
      "152\n",
      "153\n",
      "154\n",
      "155\n",
      "156\n",
      "157\n",
      "158\n",
      "159\n",
      "160\n",
      "161\n",
      "162\n",
      "163\n",
      "164\n",
      "165\n",
      "166\n",
      "167\n",
      "168\n",
      "169\n",
      "170\n",
      "171\n",
      "172\n",
      "173\n",
      "174\n",
      "175\n",
      "176\n",
      "177\n",
      "178\n",
      "179\n",
      "180\n",
      "181\n",
      "182\n",
      "183\n",
      "184\n",
      "185\n",
      "186\n",
      "187\n",
      "188\n",
      "189\n",
      "190\n",
      "191\n",
      "192\n",
      "193\n",
      "194\n",
      "195\n",
      "196\n",
      "197\n",
      "198\n",
      "199\n",
      "200\n",
      "201\n",
      "202\n",
      "203\n",
      "204\n",
      "205\n",
      "206\n",
      "207\n",
      "208\n",
      "209\n",
      "210\n",
      "211\n",
      "212\n",
      "213\n",
      "214\n",
      "215\n",
      "216\n",
      "217\n",
      "218\n",
      "219\n",
      "220\n",
      "221\n",
      "222\n",
      "223\n",
      "An exception occurred\n",
      "224\n",
      "225\n",
      "226\n",
      "227\n",
      "228\n",
      "229\n",
      "230\n",
      "231\n",
      "232\n",
      "233\n",
      "234\n",
      "235\n",
      "236\n",
      "237\n",
      "238\n",
      "239\n",
      "240\n",
      "241\n",
      "242\n",
      "243\n",
      "244\n",
      "245\n",
      "246\n",
      "247\n",
      "248\n",
      "249\n",
      "250\n",
      "251\n",
      "252\n",
      "253\n",
      "An exception occurred\n",
      "254\n",
      "255\n",
      "256\n",
      "257\n",
      "258\n",
      "259\n",
      "260\n",
      "261\n",
      "262\n",
      "263\n",
      "264\n",
      "265\n",
      "266\n",
      "267\n",
      "268\n",
      "269\n",
      "270\n",
      "271\n",
      "272\n",
      "273\n",
      "274\n",
      "275\n",
      "276\n",
      "277\n",
      "278\n",
      "An exception occurred\n",
      "279\n",
      "280\n",
      "281\n",
      "282\n",
      "283\n",
      "284\n",
      "An exception occurred\n",
      "285\n",
      "286\n",
      "287\n",
      "288\n",
      "289\n",
      "290\n",
      "291\n",
      "292\n",
      "293\n",
      "294\n",
      "295\n",
      "296\n",
      "297\n",
      "298\n",
      "299\n",
      "300\n",
      "301\n",
      "302\n",
      "303\n",
      "304\n",
      "An exception occurred\n",
      "305\n",
      "306\n",
      "307\n",
      "308\n",
      "309\n",
      "310\n",
      "311\n",
      "312\n",
      "313\n",
      "314\n",
      "315\n",
      "316\n",
      "317\n",
      "318\n",
      "319\n",
      "An exception occurred\n",
      "320\n",
      "321\n",
      "322\n",
      "323\n",
      "324\n",
      "325\n",
      "326\n",
      "327\n",
      "328\n",
      "329\n",
      "330\n",
      "331\n",
      "332\n",
      "333\n",
      "334\n",
      "335\n",
      "336\n",
      "337\n",
      "338\n",
      "339\n",
      "340\n",
      "341\n",
      "342\n",
      "343\n",
      "344\n",
      "345\n",
      "346\n",
      "347\n",
      "348\n",
      "349\n",
      "350\n",
      "351\n",
      "352\n",
      "353\n",
      "354\n",
      "355\n",
      "356\n",
      "357\n",
      "358\n",
      "359\n",
      "360\n",
      "361\n",
      "362\n",
      "363\n",
      "364\n",
      "365\n",
      "366\n",
      "367\n",
      "368\n",
      "369\n",
      "370\n",
      "371\n",
      "372\n",
      "373\n",
      "374\n",
      "375\n",
      "376\n",
      "377\n",
      "378\n",
      "379\n",
      "380\n",
      "381\n",
      "382\n",
      "An exception occurred\n",
      "383\n",
      "384\n",
      "385\n",
      "386\n",
      "387\n",
      "388\n",
      "389\n",
      "390\n",
      "391\n",
      "392\n",
      "393\n",
      "394\n",
      "395\n",
      "396\n",
      "397\n",
      "398\n",
      "399\n",
      "400\n",
      "401\n",
      "402\n",
      "403\n",
      "404\n",
      "405\n",
      "406\n",
      "407\n",
      "408\n",
      "409\n",
      "410\n",
      "411\n",
      "412\n",
      "413\n",
      "414\n",
      "415\n",
      "416\n",
      "417\n",
      "418\n",
      "419\n",
      "420\n",
      "421\n",
      "422\n",
      "423\n",
      "424\n",
      "425\n",
      "426\n",
      "427\n",
      "428\n",
      "429\n",
      "430\n",
      "431\n",
      "432\n",
      "433\n",
      "434\n",
      "435\n",
      "436\n",
      "437\n",
      "438\n",
      "439\n",
      "440\n",
      "441\n",
      "442\n",
      "443\n",
      "444\n",
      "445\n",
      "446\n",
      "447\n",
      "448\n",
      "449\n",
      "450\n",
      "451\n",
      "452\n",
      "453\n",
      "454\n",
      "455\n",
      "456\n",
      "457\n",
      "458\n",
      "459\n",
      "460\n",
      "461\n",
      "462\n",
      "463\n",
      "464\n",
      "465\n",
      "466\n",
      "467\n",
      "468\n",
      "469\n",
      "470\n",
      "471\n",
      "472\n",
      "473\n",
      "474\n",
      "475\n",
      "476\n",
      "477\n",
      "478\n"
     ]
    }
   ],
   "source": [
    "all_tabs = {}\n",
    "\n",
    "for l in range(df_docx.shape[0]):\n",
    "    \n",
    "    fpath = '/media/xenakas/ext4_drive/data_goszak/s5_auto/' +  df_docx.iloc[l, -1]\n",
    "    \n",
    "    try:\n",
    "        document = Document(fpath)\n",
    "\n",
    "\n",
    "        tab_list_meh = {}\n",
    "\n",
    "        print(l)\n",
    "\n",
    "        for k in range(len(document.tables)):\n",
    "\n",
    "\n",
    "\n",
    "            table = document.tables[k]\n",
    "\n",
    "\n",
    "            try: \n",
    "                data = read_table(table)\n",
    "                val = any([data.iloc[:,j].str.contains('Коробка').any() or \n",
    "                           data.iloc[:,j].str.contains('коробка').any() or\n",
    "                           data.iloc[:,j].str.contains('Привод').any() or\n",
    "                           data.iloc[:,j].str.contains('привод').any() or\n",
    "                           data.iloc[:,j].str.contains('Ширина').any() or\n",
    "                           data.iloc[:,j].str.contains('ширина').any() or\n",
    "                           data.iloc[:,j].str.contains('Объем').any() or\n",
    "                           data.iloc[:,j].str.contains('объем').any() or\n",
    "                           data.iloc[:,j].str.contains('Длина').any() or\n",
    "                           data.iloc[:,j].str.contains('длина').any() or\n",
    "                           data.iloc[:,j].str.contains('Скорость').any() or\n",
    "                           data.iloc[:,j].str.contains('скорость').any() or\n",
    "                           data.iloc[:,j].str.contains('Масса').any() or\n",
    "                           data.iloc[:,j].str.contains('масса').any() or\n",
    "                           data.iloc[:,j].str.contains('выпуска').any() or\n",
    "                           data.iloc[:,j].str.contains('Мощность').any() or\n",
    "                           data.iloc[:,j].str.contains('мощность').any() or\n",
    "                           data.iloc[:,j].str.contains('Топлива').any() or\n",
    "                           data.iloc[:,j].str.contains('топлива').any()                            \n",
    "                           for j in range(data.shape[1]) ])\n",
    "\n",
    "                if  val:\n",
    "                    tab_list_meh[k] = data\n",
    "\n",
    "                \n",
    "            except:\n",
    "                print(\"An exception occurred\") \n",
    "\n",
    "\n",
    "    #         keys = None\n",
    "    #         for i, row in enumerate(table.rows):\n",
    "    #             text = (cell.text for cell in row.cells)\n",
    "    #             if i == 0:\n",
    "    #                 keys = tuple(text)\n",
    "    #                 continue\n",
    "    #             row_data = dict(zip(keys, text))\n",
    "    #             data.append(row_data)\n",
    "\n",
    "    #         data = pd.DataFrame(data)    \n",
    "\n",
    "        all_tabs[l] = tab_list_meh\n",
    "    except:\n",
    "        print(\"An exception occurred\") "
   ]
  },
  {
   "cell_type": "markdown",
   "metadata": {},
   "source": [
    "#### docx only"
   ]
  },
  {
   "cell_type": "markdown",
   "metadata": {},
   "source": [
    "##### Коробка\n"
   ]
  },
  {
   "cell_type": "code",
   "execution_count": 537,
   "metadata": {
    "ExecuteTime": {
     "end_time": "2019-10-19T18:48:02.566463Z",
     "start_time": "2019-10-19T18:47:59.936754Z"
    }
   },
   "outputs": [],
   "source": [
    "v1 = 'Коробка'\n",
    "v2 = 'коробка'\n",
    "\n",
    "vip = {}\n",
    "for k in range(len(all_tabs)):\n",
    "    \n",
    "    occ = {}\n",
    "    p = 0 \n",
    "    for j in all_tabs[k]:\n",
    "        data = all_tabs[k][j]\n",
    "        data = data.fillna('nan')\n",
    "\n",
    "        val = any([data.iloc[:,p].str.contains(v1).any() or \n",
    "                   data.iloc[:,p].str.contains(v2).any()                            \n",
    "                   for p in range(data.shape[1]) ])\n",
    "\n",
    "        if val:\n",
    "            col = [data.iloc[:,p].str.contains(v1).any() or \n",
    "                data.iloc[:,p].str.contains(v2).any()                            \n",
    "                   for p in range(data.shape[1]) ]\n",
    "            \n",
    "            row = data.loc[:,col]\n",
    "            \n",
    "            if col.index(True) + 1 < len(col):\n",
    "                col[col.index(True)  + 1]   = True\n",
    "            \n",
    "\n",
    "            tr = data.loc[np.logical_or(row.iloc[:,0].str.contains(v1),\n",
    "                row.iloc[:,0].str.contains(v2)    ), col]\n",
    "\n",
    "            occ[p] = tr\n",
    "        p += 1\n",
    "        \n",
    "    vip[k] = occ  "
   ]
  },
  {
   "cell_type": "code",
   "execution_count": 538,
   "metadata": {
    "ExecuteTime": {
     "end_time": "2019-10-19T18:48:04.469811Z",
     "start_time": "2019-10-19T18:48:04.427846Z"
    }
   },
   "outputs": [],
   "source": [
    "gvi1 = []\n",
    "gvi2 = []\n",
    "for k in range(len(vip)):\n",
    "    val1 = '*************************'\n",
    "    val2 = '*************************'\n",
    "    for j in vip[k]:\n",
    "        if vip[k][j].shape[1] == 2:\n",
    "            val1 = val1 + '*************************' + vip[k][j].iloc[0,0] \n",
    "            val2 = val2 + '*************************' + vip[k][j].iloc[0,1]\n",
    "        else:\n",
    "            val1 = val1 + '*************************' + 'nan' \n",
    "            val2 = val1 + '*************************' + 'nan'  \n",
    "    gvi1.append(val1)\n",
    "    gvi2.append(val2)\n",
    "    "
   ]
  },
  {
   "cell_type": "code",
   "execution_count": 539,
   "metadata": {
    "ExecuteTime": {
     "end_time": "2019-10-19T18:48:06.882945Z",
     "start_time": "2019-10-19T18:48:06.879437Z"
    }
   },
   "outputs": [
    {
     "data": {
      "text/plain": [
       "Index(['index_name', 'all_indexes', 'purchase_number', 'done',\n",
       "       'completed_car_purchase', 'price', 'price_per_one', 'auction',\n",
       "       'real_price', 'numb_bidders', 'kolichestvo', 'коробка_передач', 'марка',\n",
       "       'модель', 'привод', 'ширина', 'объем_двигателя_куб_см', 'длина',\n",
       "       'максимальная_скорость', 'масса_авто_снаряженная', 'год_выпуска',\n",
       "       'мощность_л_с', 'потребление_топлива_городской_цикл_л_100км',\n",
       "       'filename', 'sha_id', 'filetype', 'filenames'],\n",
       "      dtype='object')"
      ]
     },
     "execution_count": 539,
     "metadata": {},
     "output_type": "execute_result"
    }
   ],
   "source": [
    "df_docx.columns"
   ]
  },
  {
   "cell_type": "code",
   "execution_count": 540,
   "metadata": {
    "ExecuteTime": {
     "end_time": "2019-10-19T18:48:09.035723Z",
     "start_time": "2019-10-19T18:48:09.031716Z"
    }
   },
   "outputs": [],
   "source": [
    "df1 = pd.DataFrame(df_docx['index_name'].values)\n",
    "df1['1_коробка_передач_1'] = gvi1\n",
    "df1['2_коробка_передач_2'] = gvi2"
   ]
  },
  {
   "cell_type": "code",
   "execution_count": null,
   "metadata": {},
   "outputs": [],
   "source": []
  },
  {
   "cell_type": "markdown",
   "metadata": {},
   "source": [
    "##### Марка, модель"
   ]
  },
  {
   "cell_type": "code",
   "execution_count": 541,
   "metadata": {
    "ExecuteTime": {
     "end_time": "2019-10-19T18:48:13.937164Z",
     "start_time": "2019-10-19T18:48:11.133961Z"
    }
   },
   "outputs": [],
   "source": [
    "v1 = 'модел'\n",
    "v2 = 'марк'\n",
    "\n",
    "vip = {}\n",
    "for k in range(len(all_tabs)):\n",
    "    \n",
    "    occ = {}\n",
    "    p = 0 \n",
    "    for j in all_tabs[k]:\n",
    "        data = all_tabs[k][j]\n",
    "        data = data.fillna('nan')\n",
    "\n",
    "        val = any([data.iloc[:,p].str.contains(v1).any() or \n",
    "                   data.iloc[:,p].str.contains(v2).any()                            \n",
    "                   for p in range(data.shape[1]) ])\n",
    "\n",
    "        if val:\n",
    "            col = [data.iloc[:,p].str.contains(v1).any() or \n",
    "                data.iloc[:,p].str.contains(v2).any()                            \n",
    "                   for p in range(data.shape[1]) ]\n",
    "            \n",
    "            row = data.loc[:,col]\n",
    "            \n",
    "            if col.index(True) + 1 < len(col):\n",
    "                col[col.index(True)  + 1]   = True\n",
    "            \n",
    "\n",
    "            tr = data.loc[np.logical_or(row.iloc[:,0].str.contains(v1),\n",
    "                row.iloc[:,0].str.contains(v2)    ), col]\n",
    "\n",
    "            occ[p] = tr\n",
    "        p += 1\n",
    "        \n",
    "    vip[k] = occ  "
   ]
  },
  {
   "cell_type": "code",
   "execution_count": 542,
   "metadata": {
    "ExecuteTime": {
     "end_time": "2019-10-19T18:48:16.252758Z",
     "start_time": "2019-10-19T18:48:16.236789Z"
    }
   },
   "outputs": [],
   "source": [
    "gvi1 = []\n",
    "gvi2 = []\n",
    "for k in range(len(vip)):\n",
    "    val1 = '*************************'\n",
    "    val2 = '*************************'\n",
    "    for j in vip[k]:\n",
    "        if vip[k][j].shape[1] == 2:\n",
    "            val1 = val1 + '*************************' + vip[k][j].iloc[0,0] \n",
    "            val2 = val2 + '*************************' + vip[k][j].iloc[0,1]\n",
    "        else:\n",
    "            val1 = val1 + '*************************' + 'nan' \n",
    "            val2 = val1 + '*************************' + 'nan'  \n",
    "    gvi1.append(val1)\n",
    "    gvi2.append(val2)\n",
    "    "
   ]
  },
  {
   "cell_type": "code",
   "execution_count": 543,
   "metadata": {
    "ExecuteTime": {
     "end_time": "2019-10-19T18:48:18.331208Z",
     "start_time": "2019-10-19T18:48:18.329364Z"
    }
   },
   "outputs": [],
   "source": [
    "# df_docx"
   ]
  },
  {
   "cell_type": "code",
   "execution_count": 544,
   "metadata": {
    "ExecuteTime": {
     "end_time": "2019-10-19T18:48:20.528691Z",
     "start_time": "2019-10-19T18:48:20.524188Z"
    }
   },
   "outputs": [],
   "source": [
    "df1['1_мод_1'] = gvi1\n",
    "df1['2_мод_2'] = gvi2"
   ]
  },
  {
   "cell_type": "markdown",
   "metadata": {},
   "source": [
    "##### Привод"
   ]
  },
  {
   "cell_type": "code",
   "execution_count": 545,
   "metadata": {
    "ExecuteTime": {
     "end_time": "2019-10-19T18:48:26.200797Z",
     "start_time": "2019-10-19T18:48:22.640352Z"
    }
   },
   "outputs": [],
   "source": [
    "v1 = 'Привод'\n",
    "v2 = 'привод'\n",
    "\n",
    "vip = {}\n",
    "for k in range(len(all_tabs)):\n",
    "    \n",
    "    occ = {}\n",
    "    p = 0 \n",
    "    for j in all_tabs[k]:\n",
    "        data = all_tabs[k][j]\n",
    "        data = data.fillna('nan')\n",
    "\n",
    "        val = any([data.iloc[:,p].str.contains(v1).any() or \n",
    "                   data.iloc[:,p].str.contains(v2).any()                            \n",
    "                   for p in range(data.shape[1]) ])\n",
    "\n",
    "        if val:\n",
    "            col = [data.iloc[:,p].str.contains(v1).any() or \n",
    "                data.iloc[:,p].str.contains(v2).any()                            \n",
    "                   for p in range(data.shape[1]) ]\n",
    "            \n",
    "            row = data.loc[:,col]\n",
    "            \n",
    "            if col.index(True) + 1 < len(col):\n",
    "                col[col.index(True)  + 1]   = True\n",
    "            \n",
    "\n",
    "            tr = data.loc[np.logical_or(row.iloc[:,0].str.contains(v1),\n",
    "                row.iloc[:,0].str.contains(v2)    ), col]\n",
    "\n",
    "            occ[p] = tr\n",
    "        p += 1\n",
    "        \n",
    "    vip[k] = occ  "
   ]
  },
  {
   "cell_type": "code",
   "execution_count": 546,
   "metadata": {
    "ExecuteTime": {
     "end_time": "2019-10-19T18:48:28.685714Z",
     "start_time": "2019-10-19T18:48:28.653528Z"
    }
   },
   "outputs": [],
   "source": [
    "gvi1 = []\n",
    "gvi2 = []\n",
    "for k in range(len(vip)):\n",
    "    val1 = '*************************'\n",
    "    val2 = '*************************'\n",
    "    for j in vip[k]:\n",
    "        if vip[k][j].shape[1] == 2:\n",
    "            val1 = val1 + '*************************' + vip[k][j].iloc[0,0] \n",
    "            val2 = val2 + '*************************' + vip[k][j].iloc[0,1]\n",
    "        else:\n",
    "            val1 = val1 + '*************************' + 'nan' \n",
    "            val2 = val1 + '*************************' + 'nan'  \n",
    "    gvi1.append(val1)\n",
    "    gvi2.append(val2)\n",
    "    "
   ]
  },
  {
   "cell_type": "code",
   "execution_count": 519,
   "metadata": {
    "ExecuteTime": {
     "end_time": "2019-10-19T18:17:35.937019Z",
     "start_time": "2019-10-19T18:17:35.933750Z"
    }
   },
   "outputs": [
    {
     "data": {
      "text/plain": [
       "Index(['index_name', 'all_indexes', 'purchase_number', 'done',\n",
       "       'completed_car_purchase', 'price', 'price_per_one', 'auction',\n",
       "       'real_price', 'numb_bidders', 'kolichestvo', 'коробка_передач', 'марка',\n",
       "       'модель', 'привод', 'ширина', 'объем_двигателя_куб_см', 'длина',\n",
       "       'максимальная_скорость', 'масса_авто_снаряженная', 'год_выпуска',\n",
       "       'мощность_л_с', 'потребление_топлива_городской_цикл_л_100км',\n",
       "       'filename', 'sha_id', 'filetype', 'filenames'],\n",
       "      dtype='object')"
      ]
     },
     "execution_count": 519,
     "metadata": {},
     "output_type": "execute_result"
    }
   ],
   "source": [
    "df_docx.columns"
   ]
  },
  {
   "cell_type": "code",
   "execution_count": 547,
   "metadata": {
    "ExecuteTime": {
     "end_time": "2019-10-19T18:48:31.105925Z",
     "start_time": "2019-10-19T18:48:31.101093Z"
    }
   },
   "outputs": [],
   "source": [
    "df1['1_привод_1'] = gvi1\n",
    "df1['2_привод_2'] = gvi2"
   ]
  },
  {
   "cell_type": "code",
   "execution_count": 550,
   "metadata": {
    "ExecuteTime": {
     "end_time": "2019-10-19T18:50:58.925376Z",
     "start_time": "2019-10-19T18:50:58.923318Z"
    }
   },
   "outputs": [],
   "source": [
    "# df1"
   ]
  },
  {
   "cell_type": "markdown",
   "metadata": {},
   "source": [
    "##### Ширина"
   ]
  },
  {
   "cell_type": "code",
   "execution_count": 551,
   "metadata": {
    "ExecuteTime": {
     "end_time": "2019-10-19T18:51:15.661372Z",
     "start_time": "2019-10-19T18:51:12.637185Z"
    }
   },
   "outputs": [],
   "source": [
    "v1 = 'Ширина'\n",
    "v2 = 'ширина'\n",
    "\n",
    "vip = {}\n",
    "for k in range(len(all_tabs)):\n",
    "    \n",
    "    occ = {}\n",
    "    p = 0 \n",
    "    for j in all_tabs[k]:\n",
    "        data = all_tabs[k][j]\n",
    "        data = data.fillna('nan')\n",
    "\n",
    "        val = any([data.iloc[:,p].str.contains(v1).any() or \n",
    "                   data.iloc[:,p].str.contains(v2).any()                            \n",
    "                   for p in range(data.shape[1]) ])\n",
    "\n",
    "        if val:\n",
    "            col = [data.iloc[:,p].str.contains(v1).any() or \n",
    "                data.iloc[:,p].str.contains(v2).any()                            \n",
    "                   for p in range(data.shape[1]) ]\n",
    "            \n",
    "            row = data.loc[:,col]\n",
    "            \n",
    "            if col.index(True) + 1 < len(col):\n",
    "                col[col.index(True)  + 1]   = True\n",
    "            \n",
    "\n",
    "            tr = data.loc[np.logical_or(row.iloc[:,0].str.contains(v1),\n",
    "                row.iloc[:,0].str.contains(v2)    ), col]\n",
    "\n",
    "            occ[p] = tr\n",
    "        p += 1\n",
    "        \n",
    "    vip[k] = occ  "
   ]
  },
  {
   "cell_type": "code",
   "execution_count": 552,
   "metadata": {
    "ExecuteTime": {
     "end_time": "2019-10-19T18:51:17.972090Z",
     "start_time": "2019-10-19T18:51:17.942689Z"
    }
   },
   "outputs": [],
   "source": [
    "gvi1 = []\n",
    "gvi2 = []\n",
    "for k in range(len(vip)):\n",
    "    val1 = '*************************'\n",
    "    val2 = '*************************'\n",
    "    for j in vip[k]:\n",
    "        if vip[k][j].shape[1] == 2:\n",
    "            val1 = val1 + '*************************' + vip[k][j].iloc[0,0] \n",
    "            val2 = val2 + '*************************' + vip[k][j].iloc[0,1]\n",
    "        else:\n",
    "            val1 = val1 + '*************************' + 'nan' \n",
    "            val2 = val1 + '*************************' + 'nan'  \n",
    "    gvi1.append(val1)\n",
    "    gvi2.append(val2)\n",
    "    "
   ]
  },
  {
   "cell_type": "code",
   "execution_count": 519,
   "metadata": {
    "ExecuteTime": {
     "end_time": "2019-10-19T18:17:35.937019Z",
     "start_time": "2019-10-19T18:17:35.933750Z"
    }
   },
   "outputs": [
    {
     "data": {
      "text/plain": [
       "Index(['index_name', 'all_indexes', 'purchase_number', 'done',\n",
       "       'completed_car_purchase', 'price', 'price_per_one', 'auction',\n",
       "       'real_price', 'numb_bidders', 'kolichestvo', 'коробка_передач', 'марка',\n",
       "       'модель', 'привод', 'ширина', 'объем_двигателя_куб_см', 'длина',\n",
       "       'максимальная_скорость', 'масса_авто_снаряженная', 'год_выпуска',\n",
       "       'мощность_л_с', 'потребление_топлива_городской_цикл_л_100км',\n",
       "       'filename', 'sha_id', 'filetype', 'filenames'],\n",
       "      dtype='object')"
      ]
     },
     "execution_count": 519,
     "metadata": {},
     "output_type": "execute_result"
    }
   ],
   "source": [
    "df_docx.columns"
   ]
  },
  {
   "cell_type": "code",
   "execution_count": 553,
   "metadata": {
    "ExecuteTime": {
     "end_time": "2019-10-19T18:51:32.758271Z",
     "start_time": "2019-10-19T18:51:32.753431Z"
    }
   },
   "outputs": [],
   "source": [
    "df1['1_ширина_1'] = gvi1\n",
    "df1['2_ширина_2'] = gvi2"
   ]
  },
  {
   "cell_type": "markdown",
   "metadata": {},
   "source": [
    "##### Объем"
   ]
  },
  {
   "cell_type": "code",
   "execution_count": 554,
   "metadata": {
    "ExecuteTime": {
     "end_time": "2019-10-19T18:51:57.796774Z",
     "start_time": "2019-10-19T18:51:53.133896Z"
    }
   },
   "outputs": [],
   "source": [
    "v1 = 'Объем'\n",
    "v2 = 'объем'\n",
    "\n",
    "vip = {}\n",
    "for k in range(len(all_tabs)):\n",
    "    \n",
    "    occ = {}\n",
    "    p = 0 \n",
    "    for j in all_tabs[k]:\n",
    "        data = all_tabs[k][j]\n",
    "        data = data.fillna('nan')\n",
    "\n",
    "        val = any([data.iloc[:,p].str.contains(v1).any() or \n",
    "                   data.iloc[:,p].str.contains(v2).any()                            \n",
    "                   for p in range(data.shape[1]) ])\n",
    "\n",
    "        if val:\n",
    "            col = [data.iloc[:,p].str.contains(v1).any() or \n",
    "                data.iloc[:,p].str.contains(v2).any()                            \n",
    "                   for p in range(data.shape[1]) ]\n",
    "            \n",
    "            row = data.loc[:,col]\n",
    "            \n",
    "            if col.index(True) + 1 < len(col):\n",
    "                col[col.index(True)  + 1]   = True\n",
    "            \n",
    "\n",
    "            tr = data.loc[np.logical_or(row.iloc[:,0].str.contains(v1),\n",
    "                row.iloc[:,0].str.contains(v2)    ), col]\n",
    "\n",
    "            occ[p] = tr\n",
    "        p += 1\n",
    "        \n",
    "    vip[k] = occ  "
   ]
  },
  {
   "cell_type": "code",
   "execution_count": 555,
   "metadata": {
    "ExecuteTime": {
     "end_time": "2019-10-19T18:52:00.706736Z",
     "start_time": "2019-10-19T18:52:00.650750Z"
    }
   },
   "outputs": [],
   "source": [
    "gvi1 = []\n",
    "gvi2 = []\n",
    "for k in range(len(vip)):\n",
    "    val1 = '*************************'\n",
    "    val2 = '*************************'\n",
    "    for j in vip[k]:\n",
    "        if vip[k][j].shape[1] == 2:\n",
    "            val1 = val1 + '*************************' + vip[k][j].iloc[0,0] \n",
    "            val2 = val2 + '*************************' + vip[k][j].iloc[0,1]\n",
    "        else:\n",
    "            val1 = val1 + '*************************' + 'nan' \n",
    "            val2 = val1 + '*************************' + 'nan'  \n",
    "    gvi1.append(val1)\n",
    "    gvi2.append(val2)\n",
    "    "
   ]
  },
  {
   "cell_type": "code",
   "execution_count": 556,
   "metadata": {
    "ExecuteTime": {
     "end_time": "2019-10-19T18:52:03.529039Z",
     "start_time": "2019-10-19T18:52:03.525951Z"
    }
   },
   "outputs": [
    {
     "data": {
      "text/plain": [
       "Index(['index_name', 'all_indexes', 'purchase_number', 'done',\n",
       "       'completed_car_purchase', 'price', 'price_per_one', 'auction',\n",
       "       'real_price', 'numb_bidders', 'kolichestvo', 'коробка_передач', 'марка',\n",
       "       'модель', 'привод', 'ширина', 'объем_двигателя_куб_см', 'длина',\n",
       "       'максимальная_скорость', 'масса_авто_снаряженная', 'год_выпуска',\n",
       "       'мощность_л_с', 'потребление_топлива_городской_цикл_л_100км',\n",
       "       'filename', 'sha_id', 'filetype', 'filenames'],\n",
       "      dtype='object')"
      ]
     },
     "execution_count": 556,
     "metadata": {},
     "output_type": "execute_result"
    }
   ],
   "source": [
    "df_docx.columns"
   ]
  },
  {
   "cell_type": "code",
   "execution_count": 557,
   "metadata": {
    "ExecuteTime": {
     "end_time": "2019-10-19T18:52:10.672091Z",
     "start_time": "2019-10-19T18:52:10.669094Z"
    }
   },
   "outputs": [],
   "source": [
    "df1['1_объем_1'] = gvi1\n",
    "df1['2_объем_2'] = gvi2"
   ]
  },
  {
   "cell_type": "code",
   "execution_count": 559,
   "metadata": {
    "ExecuteTime": {
     "end_time": "2019-10-19T18:52:21.693270Z",
     "start_time": "2019-10-19T18:52:21.690797Z"
    }
   },
   "outputs": [],
   "source": [
    "# df1"
   ]
  },
  {
   "cell_type": "markdown",
   "metadata": {},
   "source": [
    "##### Длина"
   ]
  },
  {
   "cell_type": "code",
   "execution_count": 560,
   "metadata": {
    "ExecuteTime": {
     "end_time": "2019-10-19T18:52:45.994325Z",
     "start_time": "2019-10-19T18:52:42.959472Z"
    }
   },
   "outputs": [],
   "source": [
    "v1 = 'Длина'\n",
    "v2 = 'длина'\n",
    "\n",
    "vip = {}\n",
    "for k in range(len(all_tabs)):\n",
    "    \n",
    "    occ = {}\n",
    "    p = 0 \n",
    "    for j in all_tabs[k]:\n",
    "        data = all_tabs[k][j]\n",
    "        data = data.fillna('nan')\n",
    "\n",
    "        val = any([data.iloc[:,p].str.contains(v1).any() or \n",
    "                   data.iloc[:,p].str.contains(v2).any()                            \n",
    "                   for p in range(data.shape[1]) ])\n",
    "\n",
    "        if val:\n",
    "            col = [data.iloc[:,p].str.contains(v1).any() or \n",
    "                data.iloc[:,p].str.contains(v2).any()                            \n",
    "                   for p in range(data.shape[1]) ]\n",
    "            \n",
    "            row = data.loc[:,col]\n",
    "            \n",
    "            if col.index(True) + 1 < len(col):\n",
    "                col[col.index(True)  + 1]   = True\n",
    "            \n",
    "\n",
    "            tr = data.loc[np.logical_or(row.iloc[:,0].str.contains(v1),\n",
    "                row.iloc[:,0].str.contains(v2)    ), col]\n",
    "\n",
    "            occ[p] = tr\n",
    "        p += 1\n",
    "        \n",
    "    vip[k] = occ  "
   ]
  },
  {
   "cell_type": "code",
   "execution_count": 561,
   "metadata": {
    "ExecuteTime": {
     "end_time": "2019-10-19T18:52:48.236460Z",
     "start_time": "2019-10-19T18:52:48.207580Z"
    }
   },
   "outputs": [],
   "source": [
    "gvi1 = []\n",
    "gvi2 = []\n",
    "for k in range(len(vip)):\n",
    "    val1 = '*************************'\n",
    "    val2 = '*************************'\n",
    "    for j in vip[k]:\n",
    "        if vip[k][j].shape[1] == 2:\n",
    "            val1 = val1 + '*************************' + vip[k][j].iloc[0,0] \n",
    "            val2 = val2 + '*************************' + vip[k][j].iloc[0,1]\n",
    "        else:\n",
    "            val1 = val1 + '*************************' + 'nan' \n",
    "            val2 = val1 + '*************************' + 'nan'  \n",
    "    gvi1.append(val1)\n",
    "    gvi2.append(val2)\n",
    "    "
   ]
  },
  {
   "cell_type": "code",
   "execution_count": 519,
   "metadata": {
    "ExecuteTime": {
     "end_time": "2019-10-19T18:17:35.937019Z",
     "start_time": "2019-10-19T18:17:35.933750Z"
    }
   },
   "outputs": [
    {
     "data": {
      "text/plain": [
       "Index(['index_name', 'all_indexes', 'purchase_number', 'done',\n",
       "       'completed_car_purchase', 'price', 'price_per_one', 'auction',\n",
       "       'real_price', 'numb_bidders', 'kolichestvo', 'коробка_передач', 'марка',\n",
       "       'модель', 'привод', 'ширина', 'объем_двигателя_куб_см', 'длина',\n",
       "       'максимальная_скорость', 'масса_авто_снаряженная', 'год_выпуска',\n",
       "       'мощность_л_с', 'потребление_топлива_городской_цикл_л_100км',\n",
       "       'filename', 'sha_id', 'filetype', 'filenames'],\n",
       "      dtype='object')"
      ]
     },
     "execution_count": 519,
     "metadata": {},
     "output_type": "execute_result"
    }
   ],
   "source": [
    "df_docx.columns"
   ]
  },
  {
   "cell_type": "code",
   "execution_count": 562,
   "metadata": {
    "ExecuteTime": {
     "end_time": "2019-10-19T18:52:55.371696Z",
     "start_time": "2019-10-19T18:52:55.367874Z"
    }
   },
   "outputs": [],
   "source": [
    "df1['1_длина_1'] = gvi1\n",
    "df1['2_длина_2'] = gvi2"
   ]
  },
  {
   "cell_type": "code",
   "execution_count": null,
   "metadata": {},
   "outputs": [],
   "source": []
  },
  {
   "cell_type": "markdown",
   "metadata": {},
   "source": [
    "##### Скорость"
   ]
  },
  {
   "cell_type": "code",
   "execution_count": 563,
   "metadata": {
    "ExecuteTime": {
     "end_time": "2019-10-19T18:53:09.946730Z",
     "start_time": "2019-10-19T18:53:07.185129Z"
    }
   },
   "outputs": [],
   "source": [
    "v1 = 'Скорость'\n",
    "v2 = 'скорость'\n",
    "\n",
    "vip = {}\n",
    "for k in range(len(all_tabs)):\n",
    "    \n",
    "    occ = {}\n",
    "    p = 0 \n",
    "    for j in all_tabs[k]:\n",
    "        data = all_tabs[k][j]\n",
    "        data = data.fillna('nan')\n",
    "\n",
    "        val = any([data.iloc[:,p].str.contains(v1).any() or \n",
    "                   data.iloc[:,p].str.contains(v2).any()                            \n",
    "                   for p in range(data.shape[1]) ])\n",
    "\n",
    "        if val:\n",
    "            col = [data.iloc[:,p].str.contains(v1).any() or \n",
    "                data.iloc[:,p].str.contains(v2).any()                            \n",
    "                   for p in range(data.shape[1]) ]\n",
    "            \n",
    "            row = data.loc[:,col]\n",
    "            \n",
    "            if col.index(True) + 1 < len(col):\n",
    "                col[col.index(True)  + 1]   = True\n",
    "            \n",
    "\n",
    "            tr = data.loc[np.logical_or(row.iloc[:,0].str.contains(v1),\n",
    "                row.iloc[:,0].str.contains(v2)    ), col]\n",
    "\n",
    "            occ[p] = tr\n",
    "        p += 1\n",
    "        \n",
    "    vip[k] = occ  "
   ]
  },
  {
   "cell_type": "code",
   "execution_count": 564,
   "metadata": {
    "ExecuteTime": {
     "end_time": "2019-10-19T18:53:12.198111Z",
     "start_time": "2019-10-19T18:53:12.169885Z"
    }
   },
   "outputs": [],
   "source": [
    "gvi1 = []\n",
    "gvi2 = []\n",
    "for k in range(len(vip)):\n",
    "    val1 = '*************************'\n",
    "    val2 = '*************************'\n",
    "    for j in vip[k]:\n",
    "        if vip[k][j].shape[1] == 2:\n",
    "            val1 = val1 + '*************************' + vip[k][j].iloc[0,0] \n",
    "            val2 = val2 + '*************************' + vip[k][j].iloc[0,1]\n",
    "        else:\n",
    "            val1 = val1 + '*************************' + 'nan' \n",
    "            val2 = val1 + '*************************' + 'nan'  \n",
    "    gvi1.append(val1)\n",
    "    gvi2.append(val2)\n",
    "    "
   ]
  },
  {
   "cell_type": "code",
   "execution_count": 519,
   "metadata": {
    "ExecuteTime": {
     "end_time": "2019-10-19T18:17:35.937019Z",
     "start_time": "2019-10-19T18:17:35.933750Z"
    }
   },
   "outputs": [
    {
     "data": {
      "text/plain": [
       "Index(['index_name', 'all_indexes', 'purchase_number', 'done',\n",
       "       'completed_car_purchase', 'price', 'price_per_one', 'auction',\n",
       "       'real_price', 'numb_bidders', 'kolichestvo', 'коробка_передач', 'марка',\n",
       "       'модель', 'привод', 'ширина', 'объем_двигателя_куб_см', 'длина',\n",
       "       'максимальная_скорость', 'масса_авто_снаряженная', 'год_выпуска',\n",
       "       'мощность_л_с', 'потребление_топлива_городской_цикл_л_100км',\n",
       "       'filename', 'sha_id', 'filetype', 'filenames'],\n",
       "      dtype='object')"
      ]
     },
     "execution_count": 519,
     "metadata": {},
     "output_type": "execute_result"
    }
   ],
   "source": [
    "df_docx.columns"
   ]
  },
  {
   "cell_type": "code",
   "execution_count": 565,
   "metadata": {
    "ExecuteTime": {
     "end_time": "2019-10-19T18:53:22.645105Z",
     "start_time": "2019-10-19T18:53:22.642016Z"
    }
   },
   "outputs": [],
   "source": [
    "df1['1_скорость_1'] = gvi1\n",
    "df1['2_скорость_2'] = gvi2"
   ]
  },
  {
   "cell_type": "code",
   "execution_count": null,
   "metadata": {},
   "outputs": [],
   "source": []
  },
  {
   "cell_type": "markdown",
   "metadata": {},
   "source": [
    "##### Масса"
   ]
  },
  {
   "cell_type": "code",
   "execution_count": 566,
   "metadata": {
    "ExecuteTime": {
     "end_time": "2019-10-19T18:53:43.139349Z",
     "start_time": "2019-10-19T18:53:40.199522Z"
    }
   },
   "outputs": [],
   "source": [
    "v1 = 'Масса'\n",
    "v2 = 'масса'\n",
    "\n",
    "vip = {}\n",
    "for k in range(len(all_tabs)):\n",
    "    \n",
    "    occ = {}\n",
    "    p = 0 \n",
    "    for j in all_tabs[k]:\n",
    "        data = all_tabs[k][j]\n",
    "        data = data.fillna('nan')\n",
    "\n",
    "        val = any([data.iloc[:,p].str.contains(v1).any() or \n",
    "                   data.iloc[:,p].str.contains(v2).any()                            \n",
    "                   for p in range(data.shape[1]) ])\n",
    "\n",
    "        if val:\n",
    "            col = [data.iloc[:,p].str.contains(v1).any() or \n",
    "                data.iloc[:,p].str.contains(v2).any()                            \n",
    "                   for p in range(data.shape[1]) ]\n",
    "            \n",
    "            row = data.loc[:,col]\n",
    "            \n",
    "            if col.index(True) + 1 < len(col):\n",
    "                col[col.index(True)  + 1]   = True\n",
    "            \n",
    "\n",
    "            tr = data.loc[np.logical_or(row.iloc[:,0].str.contains(v1),\n",
    "                row.iloc[:,0].str.contains(v2)    ), col]\n",
    "\n",
    "            occ[p] = tr\n",
    "        p += 1\n",
    "        \n",
    "    vip[k] = occ  "
   ]
  },
  {
   "cell_type": "code",
   "execution_count": 567,
   "metadata": {
    "ExecuteTime": {
     "end_time": "2019-10-19T18:53:45.261715Z",
     "start_time": "2019-10-19T18:53:45.239409Z"
    }
   },
   "outputs": [],
   "source": [
    "gvi1 = []\n",
    "gvi2 = []\n",
    "for k in range(len(vip)):\n",
    "    val1 = '*************************'\n",
    "    val2 = '*************************'\n",
    "    for j in vip[k]:\n",
    "        if vip[k][j].shape[1] == 2:\n",
    "            val1 = val1 + '*************************' + vip[k][j].iloc[0,0] \n",
    "            val2 = val2 + '*************************' + vip[k][j].iloc[0,1]\n",
    "        else:\n",
    "            val1 = val1 + '*************************' + 'nan' \n",
    "            val2 = val1 + '*************************' + 'nan'  \n",
    "    gvi1.append(val1)\n",
    "    gvi2.append(val2)\n",
    "    "
   ]
  },
  {
   "cell_type": "code",
   "execution_count": 519,
   "metadata": {
    "ExecuteTime": {
     "end_time": "2019-10-19T18:17:35.937019Z",
     "start_time": "2019-10-19T18:17:35.933750Z"
    }
   },
   "outputs": [
    {
     "data": {
      "text/plain": [
       "Index(['index_name', 'all_indexes', 'purchase_number', 'done',\n",
       "       'completed_car_purchase', 'price', 'price_per_one', 'auction',\n",
       "       'real_price', 'numb_bidders', 'kolichestvo', 'коробка_передач', 'марка',\n",
       "       'модель', 'привод', 'ширина', 'объем_двигателя_куб_см', 'длина',\n",
       "       'максимальная_скорость', 'масса_авто_снаряженная', 'год_выпуска',\n",
       "       'мощность_л_с', 'потребление_топлива_городской_цикл_л_100км',\n",
       "       'filename', 'sha_id', 'filetype', 'filenames'],\n",
       "      dtype='object')"
      ]
     },
     "execution_count": 519,
     "metadata": {},
     "output_type": "execute_result"
    }
   ],
   "source": [
    "df_docx.columns"
   ]
  },
  {
   "cell_type": "code",
   "execution_count": 568,
   "metadata": {
    "ExecuteTime": {
     "end_time": "2019-10-19T18:53:50.801301Z",
     "start_time": "2019-10-19T18:53:50.796398Z"
    }
   },
   "outputs": [],
   "source": [
    "df1['1_масса_1'] = gvi1\n",
    "df1['2_масса_2'] = gvi2"
   ]
  },
  {
   "cell_type": "code",
   "execution_count": null,
   "metadata": {},
   "outputs": [],
   "source": []
  },
  {
   "cell_type": "markdown",
   "metadata": {},
   "source": [
    "##### Год"
   ]
  },
  {
   "cell_type": "code",
   "execution_count": 569,
   "metadata": {
    "ExecuteTime": {
     "end_time": "2019-10-19T18:54:24.146489Z",
     "start_time": "2019-10-19T18:54:21.374892Z"
    }
   },
   "outputs": [],
   "source": [
    "v1 = 'Выпуска'\n",
    "v2 = 'выпуска'\n",
    "\n",
    "vip = {}\n",
    "for k in range(len(all_tabs)):\n",
    "    \n",
    "    occ = {}\n",
    "    p = 0 \n",
    "    for j in all_tabs[k]:\n",
    "        data = all_tabs[k][j]\n",
    "        data = data.fillna('nan')\n",
    "\n",
    "        val = any([data.iloc[:,p].str.contains(v1).any() or \n",
    "                   data.iloc[:,p].str.contains(v2).any()                            \n",
    "                   for p in range(data.shape[1]) ])\n",
    "\n",
    "        if val:\n",
    "            col = [data.iloc[:,p].str.contains(v1).any() or \n",
    "                data.iloc[:,p].str.contains(v2).any()                            \n",
    "                   for p in range(data.shape[1]) ]\n",
    "            \n",
    "            row = data.loc[:,col]\n",
    "            \n",
    "            if col.index(True) + 1 < len(col):\n",
    "                col[col.index(True)  + 1]   = True\n",
    "            \n",
    "\n",
    "            tr = data.loc[np.logical_or(row.iloc[:,0].str.contains(v1),\n",
    "                row.iloc[:,0].str.contains(v2)    ), col]\n",
    "\n",
    "            occ[p] = tr\n",
    "        p += 1\n",
    "        \n",
    "    vip[k] = occ  "
   ]
  },
  {
   "cell_type": "code",
   "execution_count": 570,
   "metadata": {
    "ExecuteTime": {
     "end_time": "2019-10-19T18:54:26.456703Z",
     "start_time": "2019-10-19T18:54:26.429101Z"
    }
   },
   "outputs": [],
   "source": [
    "gvi1 = []\n",
    "gvi2 = []\n",
    "for k in range(len(vip)):\n",
    "    val1 = '*************************'\n",
    "    val2 = '*************************'\n",
    "    for j in vip[k]:\n",
    "        if vip[k][j].shape[1] == 2:\n",
    "            val1 = val1 + '*************************' + vip[k][j].iloc[0,0] \n",
    "            val2 = val2 + '*************************' + vip[k][j].iloc[0,1]\n",
    "        else:\n",
    "            val1 = val1 + '*************************' + 'nan' \n",
    "            val2 = val1 + '*************************' + 'nan'  \n",
    "    gvi1.append(val1)\n",
    "    gvi2.append(val2)\n",
    "    "
   ]
  },
  {
   "cell_type": "code",
   "execution_count": 519,
   "metadata": {
    "ExecuteTime": {
     "end_time": "2019-10-19T18:17:35.937019Z",
     "start_time": "2019-10-19T18:17:35.933750Z"
    }
   },
   "outputs": [
    {
     "data": {
      "text/plain": [
       "Index(['index_name', 'all_indexes', 'purchase_number', 'done',\n",
       "       'completed_car_purchase', 'price', 'price_per_one', 'auction',\n",
       "       'real_price', 'numb_bidders', 'kolichestvo', 'коробка_передач', 'марка',\n",
       "       'модель', 'привод', 'ширина', 'объем_двигателя_куб_см', 'длина',\n",
       "       'максимальная_скорость', 'масса_авто_снаряженная', 'год_выпуска',\n",
       "       'мощность_л_с', 'потребление_топлива_городской_цикл_л_100км',\n",
       "       'filename', 'sha_id', 'filetype', 'filenames'],\n",
       "      dtype='object')"
      ]
     },
     "execution_count": 519,
     "metadata": {},
     "output_type": "execute_result"
    }
   ],
   "source": [
    "df_docx.columns"
   ]
  },
  {
   "cell_type": "code",
   "execution_count": 571,
   "metadata": {
    "ExecuteTime": {
     "end_time": "2019-10-19T18:54:34.178695Z",
     "start_time": "2019-10-19T18:54:34.175115Z"
    }
   },
   "outputs": [],
   "source": [
    "df1['1_выпуска_1'] = gvi1\n",
    "df1['2_выпуска_2'] = gvi2"
   ]
  },
  {
   "cell_type": "code",
   "execution_count": null,
   "metadata": {},
   "outputs": [],
   "source": []
  },
  {
   "cell_type": "markdown",
   "metadata": {},
   "source": [
    "##### Мощность"
   ]
  },
  {
   "cell_type": "code",
   "execution_count": 572,
   "metadata": {
    "ExecuteTime": {
     "end_time": "2019-10-19T18:54:47.836906Z",
     "start_time": "2019-10-19T18:54:44.298558Z"
    }
   },
   "outputs": [],
   "source": [
    "v1 = 'Мощность'\n",
    "v2 = 'мощность'\n",
    "\n",
    "vip = {}\n",
    "for k in range(len(all_tabs)):\n",
    "    \n",
    "    occ = {}\n",
    "    p = 0 \n",
    "    for j in all_tabs[k]:\n",
    "        data = all_tabs[k][j]\n",
    "        data = data.fillna('nan')\n",
    "\n",
    "        val = any([data.iloc[:,p].str.contains(v1).any() or \n",
    "                   data.iloc[:,p].str.contains(v2).any()                            \n",
    "                   for p in range(data.shape[1]) ])\n",
    "\n",
    "        if val:\n",
    "            col = [data.iloc[:,p].str.contains(v1).any() or \n",
    "                data.iloc[:,p].str.contains(v2).any()                            \n",
    "                   for p in range(data.shape[1]) ]\n",
    "            \n",
    "            row = data.loc[:,col]\n",
    "            \n",
    "            if col.index(True) + 1 < len(col):\n",
    "                col[col.index(True)  + 1]   = True\n",
    "            \n",
    "\n",
    "            tr = data.loc[np.logical_or(row.iloc[:,0].str.contains(v1),\n",
    "                row.iloc[:,0].str.contains(v2)    ), col]\n",
    "\n",
    "            occ[p] = tr\n",
    "        p += 1\n",
    "        \n",
    "    vip[k] = occ  "
   ]
  },
  {
   "cell_type": "code",
   "execution_count": 573,
   "metadata": {
    "ExecuteTime": {
     "end_time": "2019-10-19T18:54:50.199231Z",
     "start_time": "2019-10-19T18:54:50.163149Z"
    }
   },
   "outputs": [],
   "source": [
    "gvi1 = []\n",
    "gvi2 = []\n",
    "for k in range(len(vip)):\n",
    "    val1 = '*************************'\n",
    "    val2 = '*************************'\n",
    "    for j in vip[k]:\n",
    "        if vip[k][j].shape[1] == 2:\n",
    "            val1 = val1 + '*************************' + vip[k][j].iloc[0,0] \n",
    "            val2 = val2 + '*************************' + vip[k][j].iloc[0,1]\n",
    "        else:\n",
    "            val1 = val1 + '*************************' + 'nan' \n",
    "            val2 = val1 + '*************************' + 'nan'  \n",
    "    gvi1.append(val1)\n",
    "    gvi2.append(val2)\n",
    "    "
   ]
  },
  {
   "cell_type": "code",
   "execution_count": 519,
   "metadata": {
    "ExecuteTime": {
     "end_time": "2019-10-19T18:17:35.937019Z",
     "start_time": "2019-10-19T18:17:35.933750Z"
    }
   },
   "outputs": [
    {
     "data": {
      "text/plain": [
       "Index(['index_name', 'all_indexes', 'purchase_number', 'done',\n",
       "       'completed_car_purchase', 'price', 'price_per_one', 'auction',\n",
       "       'real_price', 'numb_bidders', 'kolichestvo', 'коробка_передач', 'марка',\n",
       "       'модель', 'привод', 'ширина', 'объем_двигателя_куб_см', 'длина',\n",
       "       'максимальная_скорость', 'масса_авто_снаряженная', 'год_выпуска',\n",
       "       'мощность_л_с', 'потребление_топлива_городской_цикл_л_100км',\n",
       "       'filename', 'sha_id', 'filetype', 'filenames'],\n",
       "      dtype='object')"
      ]
     },
     "execution_count": 519,
     "metadata": {},
     "output_type": "execute_result"
    }
   ],
   "source": [
    "df_docx.columns"
   ]
  },
  {
   "cell_type": "code",
   "execution_count": 574,
   "metadata": {
    "ExecuteTime": {
     "end_time": "2019-10-19T18:54:58.156872Z",
     "start_time": "2019-10-19T18:54:58.151364Z"
    }
   },
   "outputs": [],
   "source": [
    "df1['1_мощность_1'] = gvi1\n",
    "df1['2_мощность_2'] = gvi2"
   ]
  },
  {
   "cell_type": "code",
   "execution_count": null,
   "metadata": {},
   "outputs": [],
   "source": []
  },
  {
   "cell_type": "markdown",
   "metadata": {},
   "source": [
    "##### Потребление"
   ]
  },
  {
   "cell_type": "code",
   "execution_count": 575,
   "metadata": {
    "ExecuteTime": {
     "end_time": "2019-10-19T18:55:18.365394Z",
     "start_time": "2019-10-19T18:55:14.839043Z"
    }
   },
   "outputs": [],
   "source": [
    "v1 = 'Топлива'\n",
    "v2 = 'топлива'\n",
    "\n",
    "vip = {}\n",
    "for k in range(len(all_tabs)):\n",
    "    \n",
    "    occ = {}\n",
    "    p = 0 \n",
    "    for j in all_tabs[k]:\n",
    "        data = all_tabs[k][j]\n",
    "        data = data.fillna('nan')\n",
    "\n",
    "        val = any([data.iloc[:,p].str.contains(v1).any() or \n",
    "                   data.iloc[:,p].str.contains(v2).any()                            \n",
    "                   for p in range(data.shape[1]) ])\n",
    "\n",
    "        if val:\n",
    "            col = [data.iloc[:,p].str.contains(v1).any() or \n",
    "                data.iloc[:,p].str.contains(v2).any()                            \n",
    "                   for p in range(data.shape[1]) ]\n",
    "            \n",
    "            row = data.loc[:,col]\n",
    "            \n",
    "            if col.index(True) + 1 < len(col):\n",
    "                col[col.index(True)  + 1]   = True\n",
    "            \n",
    "\n",
    "            tr = data.loc[np.logical_or(row.iloc[:,0].str.contains(v1),\n",
    "                row.iloc[:,0].str.contains(v2)    ), col]\n",
    "\n",
    "            occ[p] = tr\n",
    "        p += 1\n",
    "        \n",
    "    vip[k] = occ  "
   ]
  },
  {
   "cell_type": "code",
   "execution_count": null,
   "metadata": {},
   "outputs": [],
   "source": []
  },
  {
   "cell_type": "code",
   "execution_count": 576,
   "metadata": {
    "ExecuteTime": {
     "end_time": "2019-10-19T18:55:20.633892Z",
     "start_time": "2019-10-19T18:55:20.607136Z"
    }
   },
   "outputs": [],
   "source": [
    "gvi1 = []\n",
    "gvi2 = []\n",
    "for k in range(len(vip)):\n",
    "    val1 = '*************************'\n",
    "    val2 = '*************************'\n",
    "    for j in vip[k]:\n",
    "        if vip[k][j].shape[1] == 2:\n",
    "            val1 = val1 + '*************************' + vip[k][j].iloc[0,0] \n",
    "            val2 = val2 + '*************************' + vip[k][j].iloc[0,1]\n",
    "        else:\n",
    "            val1 = val1 + '*************************' + 'nan' \n",
    "            val2 = val1 + '*************************' + 'nan'  \n",
    "    gvi1.append(val1)\n",
    "    gvi2.append(val2)\n",
    "    "
   ]
  },
  {
   "cell_type": "code",
   "execution_count": 519,
   "metadata": {
    "ExecuteTime": {
     "end_time": "2019-10-19T18:17:35.937019Z",
     "start_time": "2019-10-19T18:17:35.933750Z"
    }
   },
   "outputs": [
    {
     "data": {
      "text/plain": [
       "Index(['index_name', 'all_indexes', 'purchase_number', 'done',\n",
       "       'completed_car_purchase', 'price', 'price_per_one', 'auction',\n",
       "       'real_price', 'numb_bidders', 'kolichestvo', 'коробка_передач', 'марка',\n",
       "       'модель', 'привод', 'ширина', 'объем_двигателя_куб_см', 'длина',\n",
       "       'максимальная_скорость', 'масса_авто_снаряженная', 'год_выпуска',\n",
       "       'мощность_л_с', 'потребление_топлива_городской_цикл_л_100км',\n",
       "       'filename', 'sha_id', 'filetype', 'filenames'],\n",
       "      dtype='object')"
      ]
     },
     "execution_count": 519,
     "metadata": {},
     "output_type": "execute_result"
    }
   ],
   "source": [
    "df_docx.columns"
   ]
  },
  {
   "cell_type": "code",
   "execution_count": 577,
   "metadata": {
    "ExecuteTime": {
     "end_time": "2019-10-19T18:55:26.873260Z",
     "start_time": "2019-10-19T18:55:26.868554Z"
    }
   },
   "outputs": [],
   "source": [
    "df1['1_топлива_1'] = gvi1\n",
    "df1['2_топлива_2'] = gvi2"
   ]
  },
  {
   "cell_type": "code",
   "execution_count": 578,
   "metadata": {
    "ExecuteTime": {
     "end_time": "2019-10-19T18:55:48.487977Z",
     "start_time": "2019-10-19T18:55:48.441313Z"
    }
   },
   "outputs": [],
   "source": [
    "df1.to_csv('1_kor.csv')"
   ]
  },
  {
   "cell_type": "markdown",
   "metadata": {},
   "source": [
    "#### mmm\n"
   ]
  },
  {
   "cell_type": "code",
   "execution_count": 433,
   "metadata": {
    "ExecuteTime": {
     "end_time": "2019-10-18T19:14:57.629685Z",
     "start_time": "2019-10-18T19:14:55.048174Z"
    }
   },
   "outputs": [],
   "source": [
    "v1 = 'Коробка'\n",
    "v2 = 'коробка'\n",
    "\n",
    "vip = {}\n",
    "for k in range(len(all_tabs)):\n",
    "    \n",
    "    occ = {}\n",
    "    p = 0 \n",
    "    for j in all_tabs[k]:\n",
    "        data = all_tabs[k][j]\n",
    "        data = data.fillna('nan')\n",
    "\n",
    "        val = any([data.iloc[:,p].str.contains(v1).any() or \n",
    "                   data.iloc[:,p].str.contains(v2).any()                            \n",
    "                   for p in range(data.shape[1]) ])\n",
    "\n",
    "        if val:\n",
    "            col = [data.iloc[:,p].str.contains(v1).any() or \n",
    "                data.iloc[:,p].str.contains(v2).any()                            \n",
    "                   for p in range(data.shape[1]) ]\n",
    "            \n",
    "            row = data.loc[:,col]\n",
    "            \n",
    "            if col.index(True) + 1 < len(col):\n",
    "                col[col.index(True)  + 1]   = True\n",
    "            \n",
    "\n",
    "            tr = data.loc[np.logical_or(row.iloc[:,0].str.contains(v1),\n",
    "                row.iloc[:,0].str.contains(v2)    ), col]\n",
    "\n",
    "            occ[p] = tr\n",
    "        p += 1\n",
    "        \n",
    "    vip[k] = occ\n",
    "\n",
    "        "
   ]
  },
  {
   "cell_type": "code",
   "execution_count": 442,
   "metadata": {
    "ExecuteTime": {
     "end_time": "2019-10-18T19:16:52.190823Z",
     "start_time": "2019-10-18T19:16:52.179408Z"
    }
   },
   "outputs": [
    {
     "data": {
      "text/plain": [
       "{1:              Наименование параметра  \\\n",
       " 19  Коробка передач / число передач   \n",
       " \n",
       "    Наличие функции или величина параметра, заданная ТЗ  \n",
       " 19                механическая с тросовым приводом/ 5   }"
      ]
     },
     "execution_count": 442,
     "metadata": {},
     "output_type": "execute_result"
    }
   ],
   "source": [
    "# vip[3][0]\n",
    "vip[3]"
   ]
  },
  {
   "cell_type": "code",
   "execution_count": 447,
   "metadata": {
    "ExecuteTime": {
     "end_time": "2019-10-18T19:20:55.415945Z",
     "start_time": "2019-10-18T19:20:55.405058Z"
    }
   },
   "outputs": [],
   "source": [
    "gvi1 = []\n",
    "gvi2 = []\n",
    "for k in range(len(vip)):\n",
    "    val1 = 'nan'\n",
    "    val2 = 'nan'\n",
    "    for j in vip[k]:\n",
    "        if vip[k][j].shape[1] == 2:\n",
    "            val1 = vip[k][j].iloc[0,0]\n",
    "            val2 = vip[k][j].iloc[0,1]\n",
    "        else:\n",
    "            val1 = 'nan'\n",
    "            val2 = 'nan'\n",
    "    gvi1.append(val1)\n",
    "    gvi2.append(val2)\n",
    "    "
   ]
  },
  {
   "cell_type": "code",
   "execution_count": 473,
   "metadata": {
    "ExecuteTime": {
     "end_time": "2019-10-18T19:33:27.522411Z",
     "start_time": "2019-10-18T19:33:27.510865Z"
    }
   },
   "outputs": [],
   "source": [
    "df1 = pd.DataFrame(df_docx['коробка_передач'].values)\n",
    "df1['1'] = gvi1\n",
    "df1['2'] = gvi2"
   ]
  },
  {
   "cell_type": "code",
   "execution_count": 580,
   "metadata": {
    "ExecuteTime": {
     "end_time": "2019-10-19T19:01:14.089120Z",
     "start_time": "2019-10-19T19:01:14.017936Z"
    }
   },
   "outputs": [],
   "source": [
    "df1.to_csv('1_kor.csv')"
   ]
  },
  {
   "cell_type": "code",
   "execution_count": 581,
   "metadata": {
    "ExecuteTime": {
     "end_time": "2019-10-19T19:01:16.363164Z",
     "start_time": "2019-10-19T19:01:16.336574Z"
    }
   },
   "outputs": [
    {
     "data": {
      "text/html": [
       "<div>\n",
       "<style scoped>\n",
       "    .dataframe tbody tr th:only-of-type {\n",
       "        vertical-align: middle;\n",
       "    }\n",
       "\n",
       "    .dataframe tbody tr th {\n",
       "        vertical-align: top;\n",
       "    }\n",
       "\n",
       "    .dataframe thead th {\n",
       "        text-align: right;\n",
       "    }\n",
       "</style>\n",
       "<table border=\"1\" class=\"dataframe\">\n",
       "  <thead>\n",
       "    <tr style=\"text-align: right;\">\n",
       "      <th></th>\n",
       "      <th>0</th>\n",
       "      <th>1_коробка_передач_1</th>\n",
       "      <th>2_коробка_передач_2</th>\n",
       "      <th>1_мод_1</th>\n",
       "      <th>2_мод_2</th>\n",
       "      <th>1_привод_1</th>\n",
       "      <th>2_привод_2</th>\n",
       "      <th>1_ширина_1</th>\n",
       "      <th>2_ширина_2</th>\n",
       "      <th>1_объем_1</th>\n",
       "      <th>...</th>\n",
       "      <th>1_скорость_1</th>\n",
       "      <th>2_скорость_2</th>\n",
       "      <th>1_масса_1</th>\n",
       "      <th>2_масса_2</th>\n",
       "      <th>1_выпуска_1</th>\n",
       "      <th>2_выпуска_2</th>\n",
       "      <th>1_мощность_1</th>\n",
       "      <th>2_мощность_2</th>\n",
       "      <th>1_топлива_1</th>\n",
       "      <th>2_топлива_2</th>\n",
       "    </tr>\n",
       "  </thead>\n",
       "  <tbody>\n",
       "    <tr>\n",
       "      <td>0</td>\n",
       "      <td>3</td>\n",
       "      <td>**********************************************...</td>\n",
       "      <td>**********************************************...</td>\n",
       "      <td>**********************************************...</td>\n",
       "      <td>**********************************************...</td>\n",
       "      <td>*************************</td>\n",
       "      <td>*************************</td>\n",
       "      <td>**********************************************...</td>\n",
       "      <td>**********************************************...</td>\n",
       "      <td>**********************************************...</td>\n",
       "      <td>...</td>\n",
       "      <td>**********************************************...</td>\n",
       "      <td>**********************************************...</td>\n",
       "      <td>**********************************************...</td>\n",
       "      <td>**********************************************...</td>\n",
       "      <td>*************************</td>\n",
       "      <td>*************************</td>\n",
       "      <td>**********************************************...</td>\n",
       "      <td>**********************************************...</td>\n",
       "      <td>**********************************************...</td>\n",
       "      <td>**********************************************...</td>\n",
       "    </tr>\n",
       "    <tr>\n",
       "      <td>1</td>\n",
       "      <td>5</td>\n",
       "      <td>*************************</td>\n",
       "      <td>*************************</td>\n",
       "      <td>*************************</td>\n",
       "      <td>*************************</td>\n",
       "      <td>*************************</td>\n",
       "      <td>*************************</td>\n",
       "      <td>*************************</td>\n",
       "      <td>*************************</td>\n",
       "      <td>**********************************************...</td>\n",
       "      <td>...</td>\n",
       "      <td>*************************</td>\n",
       "      <td>*************************</td>\n",
       "      <td>*************************</td>\n",
       "      <td>*************************</td>\n",
       "      <td>**********************************************...</td>\n",
       "      <td>**********************************************...</td>\n",
       "      <td>*************************</td>\n",
       "      <td>*************************</td>\n",
       "      <td>*************************</td>\n",
       "      <td>*************************</td>\n",
       "    </tr>\n",
       "    <tr>\n",
       "      <td>2</td>\n",
       "      <td>6</td>\n",
       "      <td>*************************</td>\n",
       "      <td>*************************</td>\n",
       "      <td>*************************</td>\n",
       "      <td>*************************</td>\n",
       "      <td>**********************************************...</td>\n",
       "      <td>**********************************************...</td>\n",
       "      <td>**********************************************...</td>\n",
       "      <td>**********************************************...</td>\n",
       "      <td>**********************************************...</td>\n",
       "      <td>...</td>\n",
       "      <td>*************************</td>\n",
       "      <td>*************************</td>\n",
       "      <td>*************************</td>\n",
       "      <td>*************************</td>\n",
       "      <td>*************************</td>\n",
       "      <td>*************************</td>\n",
       "      <td>**********************************************...</td>\n",
       "      <td>**********************************************...</td>\n",
       "      <td>**********************************************...</td>\n",
       "      <td>**********************************************...</td>\n",
       "    </tr>\n",
       "    <tr>\n",
       "      <td>3</td>\n",
       "      <td>8</td>\n",
       "      <td>**********************************************...</td>\n",
       "      <td>**********************************************...</td>\n",
       "      <td>*************************</td>\n",
       "      <td>*************************</td>\n",
       "      <td>**********************************************...</td>\n",
       "      <td>**********************************************...</td>\n",
       "      <td>**********************************************...</td>\n",
       "      <td>**********************************************...</td>\n",
       "      <td>**********************************************...</td>\n",
       "      <td>...</td>\n",
       "      <td>**********************************************...</td>\n",
       "      <td>**********************************************...</td>\n",
       "      <td>**********************************************...</td>\n",
       "      <td>**********************************************...</td>\n",
       "      <td>**********************************************...</td>\n",
       "      <td>**********************************************...</td>\n",
       "      <td>**********************************************...</td>\n",
       "      <td>**********************************************...</td>\n",
       "      <td>**********************************************...</td>\n",
       "      <td>**********************************************...</td>\n",
       "    </tr>\n",
       "    <tr>\n",
       "      <td>4</td>\n",
       "      <td>12</td>\n",
       "      <td>*************************</td>\n",
       "      <td>*************************</td>\n",
       "      <td>**********************************************...</td>\n",
       "      <td>**********************************************...</td>\n",
       "      <td>*************************</td>\n",
       "      <td>*************************</td>\n",
       "      <td>*************************</td>\n",
       "      <td>*************************</td>\n",
       "      <td>**********************************************...</td>\n",
       "      <td>...</td>\n",
       "      <td>*************************</td>\n",
       "      <td>*************************</td>\n",
       "      <td>*************************</td>\n",
       "      <td>*************************</td>\n",
       "      <td>*************************</td>\n",
       "      <td>*************************</td>\n",
       "      <td>*************************</td>\n",
       "      <td>*************************</td>\n",
       "      <td>*************************</td>\n",
       "      <td>*************************</td>\n",
       "    </tr>\n",
       "    <tr>\n",
       "      <td>...</td>\n",
       "      <td>...</td>\n",
       "      <td>...</td>\n",
       "      <td>...</td>\n",
       "      <td>...</td>\n",
       "      <td>...</td>\n",
       "      <td>...</td>\n",
       "      <td>...</td>\n",
       "      <td>...</td>\n",
       "      <td>...</td>\n",
       "      <td>...</td>\n",
       "      <td>...</td>\n",
       "      <td>...</td>\n",
       "      <td>...</td>\n",
       "      <td>...</td>\n",
       "      <td>...</td>\n",
       "      <td>...</td>\n",
       "      <td>...</td>\n",
       "      <td>...</td>\n",
       "      <td>...</td>\n",
       "      <td>...</td>\n",
       "      <td>...</td>\n",
       "    </tr>\n",
       "    <tr>\n",
       "      <td>474</td>\n",
       "      <td>1262</td>\n",
       "      <td>*************************</td>\n",
       "      <td>*************************</td>\n",
       "      <td>**********************************************...</td>\n",
       "      <td>**********************************************...</td>\n",
       "      <td>**********************************************...</td>\n",
       "      <td>**********************************************...</td>\n",
       "      <td>*************************</td>\n",
       "      <td>*************************</td>\n",
       "      <td>**********************************************...</td>\n",
       "      <td>...</td>\n",
       "      <td>*************************</td>\n",
       "      <td>*************************</td>\n",
       "      <td>*************************</td>\n",
       "      <td>*************************</td>\n",
       "      <td>*************************</td>\n",
       "      <td>*************************</td>\n",
       "      <td>*************************</td>\n",
       "      <td>*************************</td>\n",
       "      <td>*************************</td>\n",
       "      <td>*************************</td>\n",
       "    </tr>\n",
       "    <tr>\n",
       "      <td>475</td>\n",
       "      <td>1419</td>\n",
       "      <td>*************************</td>\n",
       "      <td>*************************</td>\n",
       "      <td>*************************</td>\n",
       "      <td>*************************</td>\n",
       "      <td>*************************</td>\n",
       "      <td>*************************</td>\n",
       "      <td>*************************</td>\n",
       "      <td>*************************</td>\n",
       "      <td>*************************</td>\n",
       "      <td>...</td>\n",
       "      <td>*************************</td>\n",
       "      <td>*************************</td>\n",
       "      <td>*************************</td>\n",
       "      <td>*************************</td>\n",
       "      <td>*************************</td>\n",
       "      <td>*************************</td>\n",
       "      <td>*************************</td>\n",
       "      <td>*************************</td>\n",
       "      <td>*************************</td>\n",
       "      <td>*************************</td>\n",
       "    </tr>\n",
       "    <tr>\n",
       "      <td>476</td>\n",
       "      <td>1500</td>\n",
       "      <td>*************************</td>\n",
       "      <td>*************************</td>\n",
       "      <td>*************************</td>\n",
       "      <td>*************************</td>\n",
       "      <td>*************************</td>\n",
       "      <td>*************************</td>\n",
       "      <td>*************************</td>\n",
       "      <td>*************************</td>\n",
       "      <td>*************************</td>\n",
       "      <td>...</td>\n",
       "      <td>*************************</td>\n",
       "      <td>*************************</td>\n",
       "      <td>*************************</td>\n",
       "      <td>*************************</td>\n",
       "      <td>*************************</td>\n",
       "      <td>*************************</td>\n",
       "      <td>*************************</td>\n",
       "      <td>*************************</td>\n",
       "      <td>*************************</td>\n",
       "      <td>*************************</td>\n",
       "    </tr>\n",
       "    <tr>\n",
       "      <td>477</td>\n",
       "      <td>1716</td>\n",
       "      <td>*************************</td>\n",
       "      <td>*************************</td>\n",
       "      <td>**********************************************...</td>\n",
       "      <td>**********************************************...</td>\n",
       "      <td>**********************************************...</td>\n",
       "      <td>**********************************************...</td>\n",
       "      <td>*************************</td>\n",
       "      <td>*************************</td>\n",
       "      <td>**********************************************...</td>\n",
       "      <td>...</td>\n",
       "      <td>*************************</td>\n",
       "      <td>*************************</td>\n",
       "      <td>*************************</td>\n",
       "      <td>*************************</td>\n",
       "      <td>*************************</td>\n",
       "      <td>*************************</td>\n",
       "      <td>*************************</td>\n",
       "      <td>*************************</td>\n",
       "      <td>**********************************************...</td>\n",
       "      <td>**********************************************...</td>\n",
       "    </tr>\n",
       "    <tr>\n",
       "      <td>478</td>\n",
       "      <td>2299</td>\n",
       "      <td>*************************</td>\n",
       "      <td>*************************</td>\n",
       "      <td>**********************************************...</td>\n",
       "      <td>**********************************************...</td>\n",
       "      <td>**********************************************...</td>\n",
       "      <td>**********************************************...</td>\n",
       "      <td>*************************</td>\n",
       "      <td>*************************</td>\n",
       "      <td>**********************************************...</td>\n",
       "      <td>...</td>\n",
       "      <td>*************************</td>\n",
       "      <td>*************************</td>\n",
       "      <td>*************************</td>\n",
       "      <td>*************************</td>\n",
       "      <td>*************************</td>\n",
       "      <td>*************************</td>\n",
       "      <td>*************************</td>\n",
       "      <td>*************************</td>\n",
       "      <td>**********************************************...</td>\n",
       "      <td>**********************************************...</td>\n",
       "    </tr>\n",
       "  </tbody>\n",
       "</table>\n",
       "<p>479 rows × 23 columns</p>\n",
       "</div>"
      ],
      "text/plain": [
       "        0                                1_коробка_передач_1  \\\n",
       "0       3  **********************************************...   \n",
       "1       5                          *************************   \n",
       "2       6                          *************************   \n",
       "3       8  **********************************************...   \n",
       "4      12                          *************************   \n",
       "..    ...                                                ...   \n",
       "474  1262                          *************************   \n",
       "475  1419                          *************************   \n",
       "476  1500                          *************************   \n",
       "477  1716                          *************************   \n",
       "478  2299                          *************************   \n",
       "\n",
       "                                   2_коробка_передач_2  \\\n",
       "0    **********************************************...   \n",
       "1                            *************************   \n",
       "2                            *************************   \n",
       "3    **********************************************...   \n",
       "4                            *************************   \n",
       "..                                                 ...   \n",
       "474                          *************************   \n",
       "475                          *************************   \n",
       "476                          *************************   \n",
       "477                          *************************   \n",
       "478                          *************************   \n",
       "\n",
       "                                               1_мод_1  \\\n",
       "0    **********************************************...   \n",
       "1                            *************************   \n",
       "2                            *************************   \n",
       "3                            *************************   \n",
       "4    **********************************************...   \n",
       "..                                                 ...   \n",
       "474  **********************************************...   \n",
       "475                          *************************   \n",
       "476                          *************************   \n",
       "477  **********************************************...   \n",
       "478  **********************************************...   \n",
       "\n",
       "                                               2_мод_2  \\\n",
       "0    **********************************************...   \n",
       "1                            *************************   \n",
       "2                            *************************   \n",
       "3                            *************************   \n",
       "4    **********************************************...   \n",
       "..                                                 ...   \n",
       "474  **********************************************...   \n",
       "475                          *************************   \n",
       "476                          *************************   \n",
       "477  **********************************************...   \n",
       "478  **********************************************...   \n",
       "\n",
       "                                            1_привод_1  \\\n",
       "0                            *************************   \n",
       "1                            *************************   \n",
       "2    **********************************************...   \n",
       "3    **********************************************...   \n",
       "4                            *************************   \n",
       "..                                                 ...   \n",
       "474  **********************************************...   \n",
       "475                          *************************   \n",
       "476                          *************************   \n",
       "477  **********************************************...   \n",
       "478  **********************************************...   \n",
       "\n",
       "                                            2_привод_2  \\\n",
       "0                            *************************   \n",
       "1                            *************************   \n",
       "2    **********************************************...   \n",
       "3    **********************************************...   \n",
       "4                            *************************   \n",
       "..                                                 ...   \n",
       "474  **********************************************...   \n",
       "475                          *************************   \n",
       "476                          *************************   \n",
       "477  **********************************************...   \n",
       "478  **********************************************...   \n",
       "\n",
       "                                            1_ширина_1  \\\n",
       "0    **********************************************...   \n",
       "1                            *************************   \n",
       "2    **********************************************...   \n",
       "3    **********************************************...   \n",
       "4                            *************************   \n",
       "..                                                 ...   \n",
       "474                          *************************   \n",
       "475                          *************************   \n",
       "476                          *************************   \n",
       "477                          *************************   \n",
       "478                          *************************   \n",
       "\n",
       "                                            2_ширина_2  \\\n",
       "0    **********************************************...   \n",
       "1                            *************************   \n",
       "2    **********************************************...   \n",
       "3    **********************************************...   \n",
       "4                            *************************   \n",
       "..                                                 ...   \n",
       "474                          *************************   \n",
       "475                          *************************   \n",
       "476                          *************************   \n",
       "477                          *************************   \n",
       "478                          *************************   \n",
       "\n",
       "                                             1_объем_1  ...  \\\n",
       "0    **********************************************...  ...   \n",
       "1    **********************************************...  ...   \n",
       "2    **********************************************...  ...   \n",
       "3    **********************************************...  ...   \n",
       "4    **********************************************...  ...   \n",
       "..                                                 ...  ...   \n",
       "474  **********************************************...  ...   \n",
       "475                          *************************  ...   \n",
       "476                          *************************  ...   \n",
       "477  **********************************************...  ...   \n",
       "478  **********************************************...  ...   \n",
       "\n",
       "                                          1_скорость_1  \\\n",
       "0    **********************************************...   \n",
       "1                            *************************   \n",
       "2                            *************************   \n",
       "3    **********************************************...   \n",
       "4                            *************************   \n",
       "..                                                 ...   \n",
       "474                          *************************   \n",
       "475                          *************************   \n",
       "476                          *************************   \n",
       "477                          *************************   \n",
       "478                          *************************   \n",
       "\n",
       "                                          2_скорость_2  \\\n",
       "0    **********************************************...   \n",
       "1                            *************************   \n",
       "2                            *************************   \n",
       "3    **********************************************...   \n",
       "4                            *************************   \n",
       "..                                                 ...   \n",
       "474                          *************************   \n",
       "475                          *************************   \n",
       "476                          *************************   \n",
       "477                          *************************   \n",
       "478                          *************************   \n",
       "\n",
       "                                             1_масса_1  \\\n",
       "0    **********************************************...   \n",
       "1                            *************************   \n",
       "2                            *************************   \n",
       "3    **********************************************...   \n",
       "4                            *************************   \n",
       "..                                                 ...   \n",
       "474                          *************************   \n",
       "475                          *************************   \n",
       "476                          *************************   \n",
       "477                          *************************   \n",
       "478                          *************************   \n",
       "\n",
       "                                             2_масса_2  \\\n",
       "0    **********************************************...   \n",
       "1                            *************************   \n",
       "2                            *************************   \n",
       "3    **********************************************...   \n",
       "4                            *************************   \n",
       "..                                                 ...   \n",
       "474                          *************************   \n",
       "475                          *************************   \n",
       "476                          *************************   \n",
       "477                          *************************   \n",
       "478                          *************************   \n",
       "\n",
       "                                           1_выпуска_1  \\\n",
       "0                            *************************   \n",
       "1    **********************************************...   \n",
       "2                            *************************   \n",
       "3    **********************************************...   \n",
       "4                            *************************   \n",
       "..                                                 ...   \n",
       "474                          *************************   \n",
       "475                          *************************   \n",
       "476                          *************************   \n",
       "477                          *************************   \n",
       "478                          *************************   \n",
       "\n",
       "                                           2_выпуска_2  \\\n",
       "0                            *************************   \n",
       "1    **********************************************...   \n",
       "2                            *************************   \n",
       "3    **********************************************...   \n",
       "4                            *************************   \n",
       "..                                                 ...   \n",
       "474                          *************************   \n",
       "475                          *************************   \n",
       "476                          *************************   \n",
       "477                          *************************   \n",
       "478                          *************************   \n",
       "\n",
       "                                          1_мощность_1  \\\n",
       "0    **********************************************...   \n",
       "1                            *************************   \n",
       "2    **********************************************...   \n",
       "3    **********************************************...   \n",
       "4                            *************************   \n",
       "..                                                 ...   \n",
       "474                          *************************   \n",
       "475                          *************************   \n",
       "476                          *************************   \n",
       "477                          *************************   \n",
       "478                          *************************   \n",
       "\n",
       "                                          2_мощность_2  \\\n",
       "0    **********************************************...   \n",
       "1                            *************************   \n",
       "2    **********************************************...   \n",
       "3    **********************************************...   \n",
       "4                            *************************   \n",
       "..                                                 ...   \n",
       "474                          *************************   \n",
       "475                          *************************   \n",
       "476                          *************************   \n",
       "477                          *************************   \n",
       "478                          *************************   \n",
       "\n",
       "                                           1_топлива_1  \\\n",
       "0    **********************************************...   \n",
       "1                            *************************   \n",
       "2    **********************************************...   \n",
       "3    **********************************************...   \n",
       "4                            *************************   \n",
       "..                                                 ...   \n",
       "474                          *************************   \n",
       "475                          *************************   \n",
       "476                          *************************   \n",
       "477  **********************************************...   \n",
       "478  **********************************************...   \n",
       "\n",
       "                                           2_топлива_2  \n",
       "0    **********************************************...  \n",
       "1                            *************************  \n",
       "2    **********************************************...  \n",
       "3    **********************************************...  \n",
       "4                            *************************  \n",
       "..                                                 ...  \n",
       "474                          *************************  \n",
       "475                          *************************  \n",
       "476                          *************************  \n",
       "477  **********************************************...  \n",
       "478  **********************************************...  \n",
       "\n",
       "[479 rows x 23 columns]"
      ]
     },
     "execution_count": 581,
     "metadata": {},
     "output_type": "execute_result"
    }
   ],
   "source": [
    "df1"
   ]
  },
  {
   "cell_type": "markdown",
   "metadata": {},
   "source": [
    "##### Ширина"
   ]
  },
  {
   "cell_type": "code",
   "execution_count": 483,
   "metadata": {
    "ExecuteTime": {
     "end_time": "2019-10-18T20:13:29.029909Z",
     "start_time": "2019-10-18T20:13:25.863002Z"
    }
   },
   "outputs": [],
   "source": [
    "v1 = 'Ширина'\n",
    "v2 = 'ширина'\n",
    "\n",
    "vip = {}\n",
    "for k in range(len(all_tabs)):\n",
    "    \n",
    "    occ = {}\n",
    "    p = 0 \n",
    "    for j in all_tabs[k]:\n",
    "        data = all_tabs[k][j]\n",
    "        data = data.fillna('nan')\n",
    "\n",
    "        val = any([data.iloc[:,p].str.contains(v1).any() or \n",
    "                   data.iloc[:,p].str.contains(v2).any()                            \n",
    "                   for p in range(data.shape[1]) ])\n",
    "\n",
    "        if val:\n",
    "            col = [data.iloc[:,p].str.contains(v1).any() or \n",
    "                data.iloc[:,p].str.contains(v2).any()                            \n",
    "                   for p in range(data.shape[1]) ]\n",
    "            \n",
    "            row = data.loc[:,col]\n",
    "            \n",
    "            if col.index(True) + 1 < len(col):\n",
    "                col[col.index(True)  + 1]   = True\n",
    "            \n",
    "\n",
    "            tr = data.loc[np.logical_or(row.iloc[:,0].str.contains(v1),\n",
    "                row.iloc[:,0].str.contains(v2)    ), col]\n",
    "\n",
    "            occ[p] = tr\n",
    "        p += 1\n",
    "        \n",
    "    vip[k] = occ\n",
    "\n",
    "        "
   ]
  },
  {
   "cell_type": "code",
   "execution_count": 484,
   "metadata": {
    "ExecuteTime": {
     "end_time": "2019-10-18T20:13:31.330110Z",
     "start_time": "2019-10-18T20:13:31.325015Z"
    }
   },
   "outputs": [
    {
     "data": {
      "text/plain": [
       "{1:                               Наименование параметра  \\\n",
       " 0  Габаритные размеры: длина / ширина / высота, м...   \n",
       " \n",
       "   Наличие функции или величина параметра, заданная ТЗ  \n",
       " 0                             4260 / 1700 / 1500 (*)   }"
      ]
     },
     "execution_count": 484,
     "metadata": {},
     "output_type": "execute_result"
    }
   ],
   "source": [
    "# vip[3][0]\n",
    "vip[3]"
   ]
  },
  {
   "cell_type": "code",
   "execution_count": 485,
   "metadata": {
    "ExecuteTime": {
     "end_time": "2019-10-18T20:13:33.630852Z",
     "start_time": "2019-10-18T20:13:33.599167Z"
    }
   },
   "outputs": [],
   "source": [
    "gvi1 = []\n",
    "gvi2 = []\n",
    "for k in range(len(vip)):\n",
    "    val1 = 'nan'\n",
    "    val2 = 'nan'\n",
    "    for j in vip[k]:\n",
    "        if vip[k][j].shape[1] == 2:\n",
    "            val1 = vip[k][j].iloc[0,0]\n",
    "            val2 = vip[k][j].iloc[0,1]\n",
    "        else:\n",
    "            val1 = 'nan'\n",
    "            val2 = 'nan'\n",
    "    gvi1.append(val1)\n",
    "    gvi2.append(val2)\n",
    "    "
   ]
  },
  {
   "cell_type": "code",
   "execution_count": 488,
   "metadata": {
    "ExecuteTime": {
     "end_time": "2019-10-18T20:14:39.516961Z",
     "start_time": "2019-10-18T20:14:39.507065Z"
    }
   },
   "outputs": [],
   "source": [
    "df1 = pd.DataFrame(df_docx['ширина'].values)\n",
    "df1['1'] = gvi1\n",
    "df1['2'] = gvi2"
   ]
  },
  {
   "cell_type": "code",
   "execution_count": 489,
   "metadata": {
    "ExecuteTime": {
     "end_time": "2019-10-18T20:14:41.579206Z",
     "start_time": "2019-10-18T20:14:41.573061Z"
    }
   },
   "outputs": [],
   "source": [
    "df1.to_csv('1_kor.csv')"
   ]
  },
  {
   "cell_type": "markdown",
   "metadata": {},
   "source": [
    "##### Объем"
   ]
  },
  {
   "cell_type": "code",
   "execution_count": 490,
   "metadata": {
    "ExecuteTime": {
     "end_time": "2019-10-18T20:34:01.798479Z",
     "start_time": "2019-10-18T20:33:57.668125Z"
    }
   },
   "outputs": [],
   "source": [
    "v1 = 'Объем'\n",
    "v2 = 'объем'\n",
    "\n",
    "vip = {}\n",
    "for k in range(len(all_tabs)):\n",
    "    \n",
    "    occ = {}\n",
    "    p = 0 \n",
    "    for j in all_tabs[k]:\n",
    "        data = all_tabs[k][j]\n",
    "        data = data.fillna('nan')\n",
    "\n",
    "        val = any([data.iloc[:,p].str.contains(v1).any() or \n",
    "                   data.iloc[:,p].str.contains(v2).any()                            \n",
    "                   for p in range(data.shape[1]) ])\n",
    "\n",
    "        if val:\n",
    "            col = [data.iloc[:,p].str.contains(v1).any() or \n",
    "                data.iloc[:,p].str.contains(v2).any()                            \n",
    "                   for p in range(data.shape[1]) ]\n",
    "            \n",
    "            row = data.loc[:,col]\n",
    "            \n",
    "            if col.index(True) + 1 < len(col):\n",
    "                col[col.index(True)  + 1]   = True\n",
    "            \n",
    "\n",
    "            tr = data.loc[np.logical_or(row.iloc[:,0].str.contains(v1),\n",
    "                row.iloc[:,0].str.contains(v2)    ), col]\n",
    "\n",
    "            occ[p] = tr\n",
    "        p += 1\n",
    "        \n",
    "    vip[k] = occ\n",
    "\n",
    "        "
   ]
  },
  {
   "cell_type": "code",
   "execution_count": 491,
   "metadata": {
    "ExecuteTime": {
     "end_time": "2019-10-18T20:34:04.213216Z",
     "start_time": "2019-10-18T20:34:04.208850Z"
    }
   },
   "outputs": [
    {
     "data": {
      "text/plain": [
       "{1:                           Наименование параметра  \\\n",
       " 3  Объем багажного отделения, куб. дм., не менее   \n",
       " \n",
       "   Наличие функции или величина параметра, заданная ТЗ  \n",
       " 3                                            520 (*)   }"
      ]
     },
     "execution_count": 491,
     "metadata": {},
     "output_type": "execute_result"
    }
   ],
   "source": [
    "# vip[3][0]\n",
    "vip[3]"
   ]
  },
  {
   "cell_type": "code",
   "execution_count": 492,
   "metadata": {
    "ExecuteTime": {
     "end_time": "2019-10-18T20:34:06.796312Z",
     "start_time": "2019-10-18T20:34:06.741922Z"
    }
   },
   "outputs": [],
   "source": [
    "gvi1 = []\n",
    "gvi2 = []\n",
    "for k in range(len(vip)):\n",
    "    val1 = 'nan'\n",
    "    val2 = 'nan'\n",
    "    for j in vip[k]:\n",
    "        if vip[k][j].shape[1] == 2:\n",
    "            val1 = vip[k][j].iloc[0,0]\n",
    "            val2 = vip[k][j].iloc[0,1]\n",
    "        else:\n",
    "            val1 = 'nan'\n",
    "            val2 = 'nan'\n",
    "    gvi1.append(val1)\n",
    "    gvi2.append(val2)\n",
    "    "
   ]
  },
  {
   "cell_type": "code",
   "execution_count": 494,
   "metadata": {
    "ExecuteTime": {
     "end_time": "2019-10-18T20:34:23.699044Z",
     "start_time": "2019-10-18T20:34:23.688314Z"
    }
   },
   "outputs": [],
   "source": [
    "df1 = pd.DataFrame(df_docx['объем_двигателя_куб_см'].values)\n",
    "df1['1'] = gvi1\n",
    "df1['2'] = gvi2"
   ]
  },
  {
   "cell_type": "code",
   "execution_count": 495,
   "metadata": {
    "ExecuteTime": {
     "end_time": "2019-10-18T20:34:26.227796Z",
     "start_time": "2019-10-18T20:34:26.220006Z"
    }
   },
   "outputs": [],
   "source": [
    "df1.to_csv('1_kor.csv')"
   ]
  },
  {
   "cell_type": "code",
   "execution_count": 493,
   "metadata": {
    "ExecuteTime": {
     "end_time": "2019-10-18T20:34:16.685063Z",
     "start_time": "2019-10-18T20:34:16.676078Z"
    }
   },
   "outputs": [
    {
     "data": {
      "text/plain": [
       "Index(['index_name', 'all_indexes', 'purchase_number', 'done',\n",
       "       'completed_car_purchase', 'price', 'price_per_one', 'auction',\n",
       "       'real_price', 'numb_bidders', 'kolichestvo', 'коробка_передач', 'марка',\n",
       "       'модель', 'привод', 'ширина', 'объем_двигателя_куб_см', 'длина',\n",
       "       'максимальная_скорость', 'масса_авто_снаряженная', 'год_выпуска',\n",
       "       'мощность_л_с', 'потребление_топлива_городской_цикл_л_100км',\n",
       "       'filename', 'sha_id', 'filetype', 'filenames'],\n",
       "      dtype='object')"
      ]
     },
     "execution_count": 493,
     "metadata": {},
     "output_type": "execute_result"
    }
   ],
   "source": [
    "df_docx.columns\n"
   ]
  },
  {
   "cell_type": "markdown",
   "metadata": {},
   "source": [
    "##### Длина"
   ]
  },
  {
   "cell_type": "code",
   "execution_count": 500,
   "metadata": {
    "ExecuteTime": {
     "end_time": "2019-10-18T20:59:13.931956Z",
     "start_time": "2019-10-18T20:59:10.465697Z"
    }
   },
   "outputs": [],
   "source": [
    "v1 = 'Длина'\n",
    "v2 = 'длина'\n",
    "\n",
    "vip = {}\n",
    "for k in range(len(all_tabs)):\n",
    "    \n",
    "    occ = {}\n",
    "    p = 0 \n",
    "    for j in all_tabs[k]:\n",
    "        data = all_tabs[k][j]\n",
    "        data = data.fillna('nan')\n",
    "\n",
    "        val = any([data.iloc[:,p].str.contains(v1).any() or \n",
    "                   data.iloc[:,p].str.contains(v2).any()                            \n",
    "                   for p in range(data.shape[1]) ])\n",
    "\n",
    "        if val:\n",
    "            col = [data.iloc[:,p].str.contains(v1).any() or \n",
    "                data.iloc[:,p].str.contains(v2).any()                            \n",
    "                   for p in range(data.shape[1]) ]\n",
    "            \n",
    "            row = data.loc[:,col]\n",
    "            \n",
    "            if col.index(True) + 1 < len(col):\n",
    "                col[col.index(True)  + 1]   = True\n",
    "            \n",
    "\n",
    "            tr = data.loc[np.logical_or(row.iloc[:,0].str.contains(v1),\n",
    "                row.iloc[:,0].str.contains(v2)    ), col]\n",
    "\n",
    "            occ[p] = tr\n",
    "        p += 1\n",
    "        \n",
    "    vip[k] = occ\n",
    "\n",
    "        "
   ]
  },
  {
   "cell_type": "code",
   "execution_count": 502,
   "metadata": {
    "ExecuteTime": {
     "end_time": "2019-10-18T20:59:20.103602Z",
     "start_time": "2019-10-18T20:59:20.095608Z"
    }
   },
   "outputs": [
    {
     "data": {
      "text/plain": [
       "{1:                               Наименование параметра  \\\n",
       " 0  Габаритные размеры: длина / ширина / высота, м...   \n",
       " \n",
       "   Наличие функции или величина параметра, заданная ТЗ  \n",
       " 0                             4260 / 1700 / 1500 (*)   }"
      ]
     },
     "execution_count": 502,
     "metadata": {},
     "output_type": "execute_result"
    }
   ],
   "source": [
    "# vip[3][0]\n",
    "vip[3]"
   ]
  },
  {
   "cell_type": "code",
   "execution_count": 503,
   "metadata": {
    "ExecuteTime": {
     "end_time": "2019-10-18T20:59:23.230452Z",
     "start_time": "2019-10-18T20:59:23.191761Z"
    }
   },
   "outputs": [],
   "source": [
    "gvi1 = []\n",
    "gvi2 = []\n",
    "for k in range(len(vip)):\n",
    "    val1 = 'nan'\n",
    "    val2 = 'nan'\n",
    "    for j in vip[k]:\n",
    "        if vip[k][j].shape[1] == 2:\n",
    "            val1 = vip[k][j].iloc[0,0]\n",
    "            val2 = vip[k][j].iloc[0,1]\n",
    "        else:\n",
    "            val1 = 'nan'\n",
    "            val2 = 'nan'\n",
    "    gvi1.append(val1)\n",
    "    gvi2.append(val2)\n",
    "    "
   ]
  },
  {
   "cell_type": "code",
   "execution_count": 504,
   "metadata": {
    "ExecuteTime": {
     "end_time": "2019-10-18T20:59:28.556073Z",
     "start_time": "2019-10-18T20:59:28.548479Z"
    }
   },
   "outputs": [],
   "source": [
    "df1 = pd.DataFrame(df_docx['длина'].values)\n",
    "df1['1'] = gvi1\n",
    "df1['2'] = gvi2"
   ]
  },
  {
   "cell_type": "code",
   "execution_count": 505,
   "metadata": {
    "ExecuteTime": {
     "end_time": "2019-10-18T20:59:30.806856Z",
     "start_time": "2019-10-18T20:59:30.798211Z"
    }
   },
   "outputs": [],
   "source": [
    "df1.to_csv('1_kor.csv')"
   ]
  },
  {
   "cell_type": "code",
   "execution_count": 506,
   "metadata": {
    "ExecuteTime": {
     "end_time": "2019-10-18T20:59:32.963604Z",
     "start_time": "2019-10-18T20:59:32.960159Z"
    }
   },
   "outputs": [
    {
     "data": {
      "text/plain": [
       "Index(['index_name', 'all_indexes', 'purchase_number', 'done',\n",
       "       'completed_car_purchase', 'price', 'price_per_one', 'auction',\n",
       "       'real_price', 'numb_bidders', 'kolichestvo', 'коробка_передач', 'марка',\n",
       "       'модель', 'привод', 'ширина', 'объем_двигателя_куб_см', 'длина',\n",
       "       'максимальная_скорость', 'масса_авто_снаряженная', 'год_выпуска',\n",
       "       'мощность_л_с', 'потребление_топлива_городской_цикл_л_100км',\n",
       "       'filename', 'sha_id', 'filetype', 'filenames'],\n",
       "      dtype='object')"
      ]
     },
     "execution_count": 506,
     "metadata": {},
     "output_type": "execute_result"
    }
   ],
   "source": [
    "df_docx.columns\n"
   ]
  },
  {
   "cell_type": "markdown",
   "metadata": {},
   "source": [
    "##### Объем"
   ]
  },
  {
   "cell_type": "code",
   "execution_count": 490,
   "metadata": {
    "ExecuteTime": {
     "end_time": "2019-10-18T20:34:01.798479Z",
     "start_time": "2019-10-18T20:33:57.668125Z"
    }
   },
   "outputs": [],
   "source": [
    "v1 = 'Объем'\n",
    "v2 = 'объем'\n",
    "\n",
    "vip = {}\n",
    "for k in range(len(all_tabs)):\n",
    "    \n",
    "    occ = {}\n",
    "    p = 0 \n",
    "    for j in all_tabs[k]:\n",
    "        data = all_tabs[k][j]\n",
    "        data = data.fillna('nan')\n",
    "\n",
    "        val = any([data.iloc[:,p].str.contains(v1).any() or \n",
    "                   data.iloc[:,p].str.contains(v2).any()                            \n",
    "                   for p in range(data.shape[1]) ])\n",
    "\n",
    "        if val:\n",
    "            col = [data.iloc[:,p].str.contains(v1).any() or \n",
    "                data.iloc[:,p].str.contains(v2).any()                            \n",
    "                   for p in range(data.shape[1]) ]\n",
    "            \n",
    "            row = data.loc[:,col]\n",
    "            \n",
    "            if col.index(True) + 1 < len(col):\n",
    "                col[col.index(True)  + 1]   = True\n",
    "            \n",
    "\n",
    "            tr = data.loc[np.logical_or(row.iloc[:,0].str.contains(v1),\n",
    "                row.iloc[:,0].str.contains(v2)    ), col]\n",
    "\n",
    "            occ[p] = tr\n",
    "        p += 1\n",
    "        \n",
    "    vip[k] = occ\n",
    "\n",
    "        "
   ]
  },
  {
   "cell_type": "code",
   "execution_count": 491,
   "metadata": {
    "ExecuteTime": {
     "end_time": "2019-10-18T20:34:04.213216Z",
     "start_time": "2019-10-18T20:34:04.208850Z"
    }
   },
   "outputs": [
    {
     "data": {
      "text/plain": [
       "{1:                           Наименование параметра  \\\n",
       " 3  Объем багажного отделения, куб. дм., не менее   \n",
       " \n",
       "   Наличие функции или величина параметра, заданная ТЗ  \n",
       " 3                                            520 (*)   }"
      ]
     },
     "execution_count": 491,
     "metadata": {},
     "output_type": "execute_result"
    }
   ],
   "source": [
    "# vip[3][0]\n",
    "vip[3]"
   ]
  },
  {
   "cell_type": "code",
   "execution_count": 492,
   "metadata": {
    "ExecuteTime": {
     "end_time": "2019-10-18T20:34:06.796312Z",
     "start_time": "2019-10-18T20:34:06.741922Z"
    }
   },
   "outputs": [],
   "source": [
    "gvi1 = []\n",
    "gvi2 = []\n",
    "for k in range(len(vip)):\n",
    "    val1 = 'nan'\n",
    "    val2 = 'nan'\n",
    "    for j in vip[k]:\n",
    "        if vip[k][j].shape[1] == 2:\n",
    "            val1 = vip[k][j].iloc[0,0]\n",
    "            val2 = vip[k][j].iloc[0,1]\n",
    "        else:\n",
    "            val1 = 'nan'\n",
    "            val2 = 'nan'\n",
    "    gvi1.append(val1)\n",
    "    gvi2.append(val2)\n",
    "    "
   ]
  },
  {
   "cell_type": "code",
   "execution_count": 494,
   "metadata": {
    "ExecuteTime": {
     "end_time": "2019-10-18T20:34:23.699044Z",
     "start_time": "2019-10-18T20:34:23.688314Z"
    }
   },
   "outputs": [],
   "source": [
    "df1 = pd.DataFrame(df_docx['объем_двигателя_куб_см'].values)\n",
    "df1['1'] = gvi1\n",
    "df1['2'] = gvi2"
   ]
  },
  {
   "cell_type": "code",
   "execution_count": 495,
   "metadata": {
    "ExecuteTime": {
     "end_time": "2019-10-18T20:34:26.227796Z",
     "start_time": "2019-10-18T20:34:26.220006Z"
    }
   },
   "outputs": [],
   "source": [
    "df1.to_csv('1_kor.csv')"
   ]
  },
  {
   "cell_type": "code",
   "execution_count": 493,
   "metadata": {
    "ExecuteTime": {
     "end_time": "2019-10-18T20:34:16.685063Z",
     "start_time": "2019-10-18T20:34:16.676078Z"
    }
   },
   "outputs": [
    {
     "data": {
      "text/plain": [
       "Index(['index_name', 'all_indexes', 'purchase_number', 'done',\n",
       "       'completed_car_purchase', 'price', 'price_per_one', 'auction',\n",
       "       'real_price', 'numb_bidders', 'kolichestvo', 'коробка_передач', 'марка',\n",
       "       'модель', 'привод', 'ширина', 'объем_двигателя_куб_см', 'длина',\n",
       "       'максимальная_скорость', 'масса_авто_снаряженная', 'год_выпуска',\n",
       "       'мощность_л_с', 'потребление_топлива_городской_цикл_л_100км',\n",
       "       'filename', 'sha_id', 'filetype', 'filenames'],\n",
       "      dtype='object')"
      ]
     },
     "execution_count": 493,
     "metadata": {},
     "output_type": "execute_result"
    }
   ],
   "source": [
    "df_docx.columns\n"
   ]
  },
  {
   "cell_type": "code",
   "execution_count": 186,
   "metadata": {
    "ExecuteTime": {
     "end_time": "2019-10-17T14:48:19.125523Z",
     "start_time": "2019-10-17T14:48:19.121291Z"
    }
   },
   "outputs": [],
   "source": [
    "# all_tabs"
   ]
  },
  {
   "cell_type": "markdown",
   "metadata": {},
   "source": [
    "##### Год выпуска"
   ]
  },
  {
   "cell_type": "code",
   "execution_count": 425,
   "metadata": {
    "ExecuteTime": {
     "end_time": "2019-10-18T18:47:37.258006Z",
     "start_time": "2019-10-18T18:47:34.320257Z"
    }
   },
   "outputs": [],
   "source": [
    "vip = {}\n",
    "for k in range(len(all_tabs)):\n",
    "    \n",
    "    occ = {}\n",
    "    p = 0 \n",
    "    for j in all_tabs[k]:\n",
    "        data = all_tabs[k][j]\n",
    "        data = data.fillna('nan')\n",
    "\n",
    "        val = any([data.iloc[:,p].str.contains('Выпуска').any() or \n",
    "                   data.iloc[:,p].str.contains('выпуска').any()                            \n",
    "                   for p in range(data.shape[1]) ])\n",
    "\n",
    "        if val:\n",
    "            col = [data.iloc[:,p].str.contains('Выпуска').any() or \n",
    "                data.iloc[:,p].str.contains('выпуска').any()                            \n",
    "                   for p in range(data.shape[1]) ]\n",
    "            \n",
    "            row = data.loc[:,col]\n",
    "            \n",
    "            if col.index(True) + 1 < len(col):\n",
    "                col[col.index(True)  + 1]   = True\n",
    "            \n",
    "\n",
    "            tr = data.loc[np.logical_or(row.iloc[:,0].str.contains('Выпуска'),\n",
    "                row.iloc[:,0].str.contains('выпуска')    ), col]\n",
    "\n",
    "            occ[p] = tr\n",
    "        p += 1\n",
    "        \n",
    "    vip[k] = occ\n",
    "\n",
    "        "
   ]
  },
  {
   "cell_type": "code",
   "execution_count": 426,
   "metadata": {
    "ExecuteTime": {
     "end_time": "2019-10-18T18:47:47.397658Z",
     "start_time": "2019-10-18T18:47:47.392824Z"
    }
   },
   "outputs": [],
   "source": [
    "# len(np.logical_or(row.iloc[:,0].str.contains('Выпуска'),\n",
    "#                 row.iloc[:,0].str.contains('выпуска')  ))"
   ]
  },
  {
   "cell_type": "code",
   "execution_count": 427,
   "metadata": {
    "ExecuteTime": {
     "end_time": "2019-10-18T18:47:49.686861Z",
     "start_time": "2019-10-18T18:47:49.682557Z"
    }
   },
   "outputs": [],
   "source": [
    "# data"
   ]
  },
  {
   "cell_type": "code",
   "execution_count": 429,
   "metadata": {
    "ExecuteTime": {
     "end_time": "2019-10-18T18:47:59.681387Z",
     "start_time": "2019-10-18T18:47:59.675225Z"
    }
   },
   "outputs": [],
   "source": [
    "# vip[3][0]"
   ]
  },
  {
   "cell_type": "code",
   "execution_count": 431,
   "metadata": {
    "ExecuteTime": {
     "end_time": "2019-10-18T18:48:32.885740Z",
     "start_time": "2019-10-18T18:48:32.856811Z"
    }
   },
   "outputs": [],
   "source": [
    "gvi = []\n",
    "for k in range(len(vip)):\n",
    "    for j in vip[k]:\n",
    "        if vip[k][j].shape[1] == 2:\n",
    "            val = vip[k][j].iloc[0,1]\n",
    "        else:\n",
    "            val = 'nan'\n",
    "    gvi.append(val)\n",
    "    "
   ]
  },
  {
   "cell_type": "code",
   "execution_count": 432,
   "metadata": {
    "ExecuteTime": {
     "end_time": "2019-10-18T18:48:42.459634Z",
     "start_time": "2019-10-18T18:48:42.440087Z"
    }
   },
   "outputs": [
    {
     "data": {
      "text/plain": [
       "['nan',\n",
       " 'nan',\n",
       " 'nan',\n",
       " 'Не ранее 2016 г., без пробега (*)',\n",
       " 'Не ранее 2016 г., без пробега (*)',\n",
       " 'Не ранее 2016 г., без пробега (*)',\n",
       " 'не ранее 2016 года',\n",
       " 'не ранее 2016 года',\n",
       " 'не ранее 2016 года',\n",
       " 'не ранее 2016 года',\n",
       " 'Не ранее 2016',\n",
       " 'Не ранее 2016',\n",
       " 'Не ранее 2016',\n",
       " 'nan',\n",
       " 'nan',\n",
       " 'nan',\n",
       " 'nan',\n",
       " 'nan',\n",
       " 'nan',\n",
       " '\\n1',\n",
       " '\\n1',\n",
       " '\\n1',\n",
       " '\\n1',\n",
       " '',\n",
       " '',\n",
       " 'Не менее 2016 г.',\n",
       " 'Не менее 2016 г.',\n",
       " 'Не менее 2016 г.',\n",
       " 'Не менее 2016 г.',\n",
       " 'Не менее 2016 г.',\n",
       " 'Не менее 2016 г.',\n",
       " 'Не менее 2016 г.',\n",
       " 'Не менее 2016 г.',\n",
       " 'Не менее 2016 г.',\n",
       " 'Не менее 2016 г.',\n",
       " 'nan',\n",
       " 'nan',\n",
       " 'nan',\n",
       " 'nan',\n",
       " '',\n",
       " '',\n",
       " '',\n",
       " '',\n",
       " '',\n",
       " '',\n",
       " '',\n",
       " '',\n",
       " 'не ранее 2016 года',\n",
       " 'не ранее 2016 года',\n",
       " 'не ранее 2016 года',\n",
       " 'не ранее 2016 года',\n",
       " 'nan',\n",
       " 'nan',\n",
       " '',\n",
       " '',\n",
       " '',\n",
       " '',\n",
       " '\\xa0',\n",
       " '',\n",
       " '',\n",
       " '',\n",
       " 'Год выпуска',\n",
       " 'Год выпуска',\n",
       " 'Год выпуска',\n",
       " 'nan',\n",
       " 'nan',\n",
       " '',\n",
       " '',\n",
       " 'nan',\n",
       " '',\n",
       " 'Не ранее 2016',\n",
       " 'Не ранее 2016',\n",
       " 'Не ранее 2016',\n",
       " 'Не ранее 2016',\n",
       " 'Не ранее 2016',\n",
       " 'Не ранее 2016',\n",
       " 'шт.',\n",
       " 'Не ранее 2017 года',\n",
       " 'Не ранее 2016г.',\n",
       " 'Не ранее 2016г.',\n",
       " 'Не ранее 2016г.',\n",
       " 'Не ранее 2016г.',\n",
       " 'nan',\n",
       " '\\xa0',\n",
       " '',\n",
       " '',\n",
       " '',\n",
       " '',\n",
       " '',\n",
       " '',\n",
       " '',\n",
       " '',\n",
       " '',\n",
       " '',\n",
       " '',\n",
       " '',\n",
       " '',\n",
       " '',\n",
       " 'nan',\n",
       " 'nan',\n",
       " 'nan',\n",
       " 'шт.',\n",
       " 'Не ранее 2016 года',\n",
       " 'Не ранее 2016 года',\n",
       " 'Не ранее 2016 года',\n",
       " 'Не ранее 2016 года',\n",
       " 'Не ранее 2016 года',\n",
       " 'Не ранее 2016 года',\n",
       " 'Не ранее 2016 года',\n",
       " 'Не ранее 2016 года',\n",
       " 'Не ранее 2016 года',\n",
       " 'Не ранее 2016 года',\n",
       " 'Не ранее 2016',\n",
       " 'Не ранее 2016',\n",
       " 'Не ранее 2016 г.в.',\n",
       " 'Штука',\n",
       " 'шт.',\n",
       " 'шт.',\n",
       " 'шт.',\n",
       " '',\n",
       " 'Не ранее 2016',\n",
       " 'Не ранее 2016',\n",
       " 'Не ранее 2016',\n",
       " 'Ед. изм.',\n",
       " '',\n",
       " 'Не ранее 2017',\n",
       " 'Не ранее 2017',\n",
       " 'Не ранее 2017',\n",
       " '',\n",
       " 'не ранее 2017',\n",
       " 'не ранее 2017',\n",
       " 'не ранее 2017',\n",
       " 'не ранее 2017',\n",
       " 'nan',\n",
       " 'nan',\n",
       " 'nan',\n",
       " 'nan',\n",
       " 'nan',\n",
       " 'nan',\n",
       " 'nan',\n",
       " 'nan',\n",
       " 'nan',\n",
       " 'nan',\n",
       " 'nan',\n",
       " 'Не ранее 2017 года',\n",
       " 'Не ранее 2017 года',\n",
       " 'Не ранее 2017 года',\n",
       " 'Не ранее 2017 года',\n",
       " 'nan',\n",
       " 'nan',\n",
       " 'nan',\n",
       " 'белый\\n\\nне ранее 2016\\n\\n5\\n\\n4260\\n\\n1700\\n\\n1500\\n\\n2476\\n\\n1430\\n\\n1414\\n\\n520\\n\\n1596\\n\\n87\\n\\n167\\n\\n\\n\\n9\\n\\n7\\n\\n5,8\\n\\nЕвро 4',\n",
       " '',\n",
       " 'Шт.',\n",
       " 'Шт.',\n",
       " 'Шт.',\n",
       " 'Шт.',\n",
       " 'не ранее 2017 года',\n",
       " 'nan',\n",
       " 'nan',\n",
       " '\\n\\nБензиновый (Соответствие)\\nНе менее 80 не более 100\\nСпереди, поперечно (Соответствие)\\nНе менее 1590 не более 1700\\nНе менее  4 не более 8\\nРядный (Соответствие)\\nНе менее  2 не более 4\\nРаспределенный впрыск (Соответствие)\\nНет (Соответствие)\\nНе менее  80 при 5000 не более 100 при 5000\\nНе менее 130 при 2800   не более 150 при 2800        \\nНе менее 6 не более 8,5\\nНе менее 8 не более 10\\nНе менее 5 не более 7\\nБензин (Соответствие)\\n\\n\\n\\nНе менее 11 не более 13\\nНе менее 170 не более 200\\n\\n\\n\\nМеханика (5 ступеней) (Соответствие)\\nПередний (Соответствие)\\n\\n\\n\\nНезависимая, пружинная, McPherson (Соответствие)\\nПолузависимая, пружинная (Соответствие)\\nДисковые, вентилируемые (Соответствие)\\nБарабанные (Соответствие)\\nСтандартная комплектация      (Соответствие)\\n\\n185/65 R15 (Соответствие)\\n185/65 R15 (Соответствие)\\n\\n\\n\\nСедан (компактный) (Соответствие)\\n4 (Соответствие)\\n5 (Соответствие)\\n\\n\\n\\nНе менее  4300 не более 4400\\nНе менее 1700 не более 1750 \\nНе менее 1500 не более 1550\\nНе менее 2600 не более 2700\\nНе менее 1490/1480 не более 1550/1500\\nНе менее 150 не более 180\\nНе менее  8 не более 11\\nНе менее 1100 не более 1150\\nНе менее 1500 не более 1600\\nНе менее 45 не более 80\\nНе менее 500 не более 550\\n\\n\\n\\nБелый (Соответствие)\\nНе ранее 2017 года\\nРоссийская Федерация (Соответствие)\\nНе менее 5 не более 30\\nНе допускается (Указать способ доставки)\\nПодушка безопасности водителя \\nНаличие\\nНаличие \\nНаличие \\nНаличие \\nНаличие \\nНаличие \\nНаличие \\nНаличие \\nНаличие \\nНаличие\\nНаличие \\n  Соответствие\\n Наличие',\n",
       " '\\n\\nБензиновый (Соответствие)\\nНе менее 80 не более 100\\nСпереди, поперечно (Соответствие)\\nНе менее 1590 не более 1700\\nНе менее  4 не более 8\\nРядный (Соответствие)\\nНе менее  2 не более 4\\nРаспределенный впрыск (Соответствие)\\nНет (Соответствие)\\nНе менее  80 при 5000 не более 100 при 5000\\nНе менее 130 при 2800   не более 150 при 2800        \\nНе менее 6 не более 8,5\\nНе менее 8 не более 10\\nНе менее 5 не более 7\\nБензин (Соответствие)\\n\\n\\n\\nНе менее 11 не более 13\\nНе менее 170 не более 200\\n\\n\\n\\nМеханика (5 ступеней) (Соответствие)\\nПередний (Соответствие)\\n\\n\\n\\nНезависимая, пружинная, McPherson (Соответствие)\\nПолузависимая, пружинная (Соответствие)\\nДисковые, вентилируемые (Соответствие)\\nБарабанные (Соответствие)\\nСтандартная комплектация      (Соответствие)\\n\\n185/65 R15 (Соответствие)\\n185/65 R15 (Соответствие)\\n\\n\\n\\nСедан (компактный) (Соответствие)\\n4 (Соответствие)\\n5 (Соответствие)\\n\\n\\n\\nНе менее  4300 не более 4400\\nНе менее 1700 не более 1750 \\nНе менее 1500 не более 1550\\nНе менее 2600 не более 2700\\nНе менее 1490/1480 не более 1550/1500\\nНе менее 150 не более 180\\nНе менее  8 не более 11\\nНе менее 1100 не более 1150\\nНе менее 1500 не более 1600\\nНе менее 45 не более 80\\nНе менее 500 не более 550\\n\\n\\n\\nБелый (Соответствие)\\nНе ранее 2017 года\\nРоссийская Федерация (Соответствие)\\nНе менее 5 не более 30\\nНе допускается (Указать способ доставки)\\nПодушка безопасности водителя \\nНаличие\\nНаличие \\nНаличие \\nНаличие \\nНаличие \\nНаличие \\nНаличие \\nНаличие \\nНаличие \\nНаличие\\nНаличие \\n  Соответствие\\n Наличие',\n",
       " 'Штука',\n",
       " 'Штука',\n",
       " '1',\n",
       " '-',\n",
       " 'ед.',\n",
       " 'ед.',\n",
       " '',\n",
       " 'не ранее 2016 года',\n",
       " 'не ранее 2017',\n",
       " 'nan',\n",
       " 'год',\n",
       " 'год',\n",
       " 'год',\n",
       " '2017',\n",
       " '2017',\n",
       " '2017',\n",
       " 'новый, не ранее 2016 года',\n",
       " '',\n",
       " '',\n",
       " '',\n",
       " '',\n",
       " '',\n",
       " '',\n",
       " '',\n",
       " '',\n",
       " '',\n",
       " '',\n",
       " '29.10.\\n22.\\n000',\n",
       " '29.10.\\n22.\\n000',\n",
       " 'Не ранее 2016',\n",
       " 'Не ранее 2016',\n",
       " '2016',\n",
       " '2017 год',\n",
       " '2017 год',\n",
       " 'nan',\n",
       " 'nan',\n",
       " 'nan',\n",
       " 'nan',\n",
       " 'nan',\n",
       " 'Не позднее 1 квартала 2017 года',\n",
       " 'Не позднее 1 квартала 2017 года',\n",
       " 'Не позднее 1 квартала 2017 года',\n",
       " 'Не позднее 1 квартала 2017 года',\n",
       " 'Не ранее 2016 г.',\n",
       " 'Не ранее 2016 г.',\n",
       " 'шт.',\n",
       " 'шт.',\n",
       " 'шт.',\n",
       " 'шт.',\n",
       " 'шт.',\n",
       " 'шт.',\n",
       " 'шт.',\n",
       " '',\n",
       " '',\n",
       " '',\n",
       " '',\n",
       " '',\n",
       " 'nan',\n",
       " 'nan',\n",
       " 'nan',\n",
       " 'nan',\n",
       " 'nan',\n",
       " 'nan',\n",
       " '',\n",
       " '',\n",
       " '',\n",
       " '\\n\\n\\n\\n\\n\\n\\n\\n\\n\\n\\n\\n\\n\\n\\n\\n\\n1',\n",
       " '\\n\\n\\n\\n\\n\\n\\n\\n\\n\\n\\n\\n\\n\\n\\n\\n\\n1',\n",
       " '\\n\\n\\n\\n\\n\\n\\n\\n\\n\\n\\n\\n\\n\\n\\n\\n\\n1',\n",
       " '2017',\n",
       " '2017',\n",
       " 'Не ранее 2016',\n",
       " 'Не ранее 2016',\n",
       " 'Не ранее 2016',\n",
       " 'Не ранее 2016',\n",
       " 'Не ранее 2016',\n",
       " 'Не ранее 2016',\n",
       " 'год',\n",
       " 'nan',\n",
       " 'nan',\n",
       " 'nan',\n",
       " 'nan',\n",
       " 'nan',\n",
       " 'nan',\n",
       " '2',\n",
       " '1600\\n\\n\\n84\\n\\n\\n4470\\n\\n1750\\n\\n1670\\n\\n2900\\n\\n\\n135\\n\\n2350\\n\\n\\n50\\n\\n5\\n\\n1850\\n\\n4',\n",
       " '1600\\n\\n\\n84\\n\\n\\n4470\\n\\n1750\\n\\n1670\\n\\n2900\\n\\n\\n135\\n\\n2350\\n\\n\\n50\\n\\n5\\n\\n1850\\n\\n4',\n",
       " '1600\\n\\n\\n84\\n\\n\\n4470\\n\\n1750\\n\\n1670\\n\\n2900\\n\\n\\n135\\n\\n2350\\n\\n\\n50\\n\\n5\\n\\n1850\\n\\n4',\n",
       " '1600\\n\\n\\n84\\n\\n\\n4470\\n\\n1750\\n\\n1670\\n\\n2900\\n\\n\\n135\\n\\n2350\\n\\n\\n50\\n\\n5\\n\\n1850\\n\\n4',\n",
       " '-',\n",
       " 'Не ранее 2017',\n",
       " 'Не ранее 2017',\n",
       " 'Штука',\n",
       " 'Штука',\n",
       " 'Штука',\n",
       " 'Штука',\n",
       " 'Штука',\n",
       " '2017',\n",
       " '1',\n",
       " '1',\n",
       " '1',\n",
       " '1',\n",
       " '',\n",
       " '',\n",
       " '',\n",
       " '',\n",
       " 'Штука',\n",
       " '',\n",
       " '',\n",
       " '',\n",
       " '',\n",
       " '',\n",
       " '',\n",
       " '',\n",
       " '',\n",
       " '',\n",
       " 'не ранее 2016 *',\n",
       " '2017',\n",
       " 'Комфорт:\\nЭлектрообогрев лобового стекла в зоне покоя стеклоочистителей \\nПодогрев передних сидений \\nДополнительные воздуховоды для второго ряда сидений \\nЗапуск двигателя с кнопки \\nСигнализация с датчиками открытия дверей и капота \\nИммобилайзер \\nКамера заднего вида со статичными линиями разметки \\nРулевое колесо с кожаной обивкой \\nРегулировка рулевой колонки по вылету и наклону \\nЭлектроусилитель рулевого управления (EPS) \\nМеханическая регулировка водительского сидения в 6 направлениях, пассажирского сидения в 4 направлениях \\nТройной сигнал указателей поворота при однократном нажатии \\nКожаная обивка селектора управления трансмиссией \\nСалонное зеркало заднего вида с автоматическим затемнением \\nПередние и задние электростеклоподъемники с функцией \"Auto\" \\nКорректировка угла наклона фар с помощью регулятора \\nДвухзонный климат-контроль \\nИндивидуальные лампы для чтения первого и второго ряда сидений \\nПодсветка в зоне ног водителя и переднего пасажира \\nКомплект резиновых ковриков для первого и второго рядов сидений \\nБоковые зеркала заднего вида с электрорегулировкой и электроприводом складывания \\nБоковые зеркала заднего вида с повторителями указателей поворота \\nОмыватель фар \\nДатчик света \\nДатчик дождя \\nШумоизолирующее ветровое стекло \\nЗеркала заднего вида с обогревом \\nЭкстерьер:\\nСтиль Антенна \"Плавник акулы\" \\nРучки дверей, окрашенные в цвет кузова \\nШины 215/60 R16\\nЛегкосплавные колесные диски\\nПолноразмерное запасное колесо на легкосплавном диске\\nБезопасность:\\nИндикатор низкого уровня омывающей жидкости \\nСветодиодные дневные ходовые огни \\nГалогенные фары ближнего и дальнего света \\nСветодиодные передние противотуманные фары \\nПередние и задние датчики парковки \\nАнтипробуксовочная система (TRC) \\nАнтиблокировочная система тормозов (ABS) с электронной системой распределения тормозных усилий (EBD) \\nУсилитель экстренного торможения (BAS) \\nCистема курсовой устойчивости (VSC+) с функцией отключения системы стабилизации VSC-off \\nЦентральный замок с дистанционным управлением \\nЗадние противотуманные фонари\\nШторки безопасности\\nБортовой компьютер \\nКонструкция передних сидений, снижающая вероятность травмы шеи (технология WIL) \\nФронтальные подушки безопасности \\nБоковые подушки безопасности\\nМультимедиа:\\n4,2\" цветной многофункциональный дисплей на панели приборов \\n6.1\" цветной многофункциональный сенсорный TFT дисплей на центральной консоли \\nАудиосистема CD/MP3/WMA \\n6 динамиков \\nАудио разъем (AUX) \\nUSB разъем \\nКоммуникационная система Bluetooth \\nБеспроводное зарядное устройство\\nСистема вызова экстренных служб \"Эра Глонасс\"\\nГод выпуска',\n",
       " '2016',\n",
       " '2016',\n",
       " '2016',\n",
       " '2016',\n",
       " '2016',\n",
       " '',\n",
       " '1',\n",
       " 'Не ранее 2017 года',\n",
       " '\\n\\n\\n\\n\\n\\n\\n\\nшт',\n",
       " 'Не ранее 2017 года',\n",
       " 'Не ранее 2017 года',\n",
       " 'Не ранее 2017 года',\n",
       " 'Не ранее 2017 года',\n",
       " 'nan',\n",
       " 'nan',\n",
       " 'nan',\n",
       " 'nan',\n",
       " 'nan',\n",
       " 'nan',\n",
       " 'nan',\n",
       " 'nan',\n",
       " 'nan',\n",
       " 'nan',\n",
       " 'nan',\n",
       " 'nan',\n",
       " 'nan',\n",
       " 'nan',\n",
       " '',\n",
       " 'Количество мест-не менее 5, тип кузова-седан, количество дверей-не менее 4, минимальный дорожный просвет, мм-не менее 160, двигатель-Бензиновый 16-ти клапанный, объем двигателя,см3\\tне менее 1998, мощность двигателя (л/с)\\tне более 200, количество и расположение цилиндров\\t4-цилиндровый, рядный, экологический класс \\t5 (пятый), подвеска- передняя, независимая, пружинная, со стабилизаторами  поперечной устойчивости, задняя-независимая, пружинная со стабилизатором поперечной устойчивости, тормозные механизмы-передние вентилируемые дисковые, задние-невентилируемые дисковые, трансмиссия-передний привод, 6-ти ступенчатая автоматическая, цвет автомобиля\\tсветлых оттенков, год выпуска\\tне ранее 2017, расход топлива городской цикл\\tне более 11 л./100 км., загородный цикл не более 5,9 л./100 км., смешанный цикл\\tне более 7,8 л./100 км., без пробега, отделка салона\\tтканевая, ёмкость топливного бака, л.-не менее 70, регулировка руля по наклону и вылету наличие, передние и задние стеклоподъемники-наличие,  регулировка водительского сидения-наличие, складываемый второй ряд сидений в пропорции 60:40-наличие, антиблокировочная система (АВS)-наличие, система распределения тормозного усилия (EBD)-наличие, иммобилайзер-наличие, комплект ковриков для первого и второго ряда-наличие, шины-не менее 215/60 R16, легкосплавные колесные диски-наличие, двухзоновый климат-контроль-наличие, аудиосистема CD/MP3/Радио-наличие, динамиков-не менее 6, аудио разъем (AUX)-наличие, USB разъем-наличие, полноразмерное запасное колесо с легкосплавным диском-наличие, передние противотуманные фары-наличие, задние противотуманные фонари-наличие, система курсовой устойчивости-наличие, усилитель экстренного торможения-наличие, боковые подушки безопасности-наличие, шторки безопасности-наличие, фронтальные подушки безопасности наличие, центральный замок с дистанционным управлением и сигнализацией-наличие, мультифункциональное рулевое колесо-наличие, многофункциональный дисплей-наличие, боковые зеркала заднего вида с обогревом, электроприводом и электрорегулировкой, повторителями указателей поворота-наличие, подогрев сидений первого ряда-наличие, электроусилитель рулевого управления-наличие, передние и задние датчики парковки-наличие, датчик света-наличие, система вызова экстренных служб «Эра Глонасс»-наличие.',\n",
       " 'Количество мест-не менее 5, тип кузова-седан, количество дверей-не менее 4, минимальный дорожный просвет, мм-не менее 160, двигатель-Бензиновый 16-ти клапанный, объем двигателя,см3\\tне менее 1998, мощность двигателя (л/с)\\tне более 200, количество и расположение цилиндров\\t4-цилиндровый, рядный, экологический класс \\t5 (пятый), подвеска- передняя, независимая, пружинная, со стабилизаторами  поперечной устойчивости, задняя-независимая, пружинная со стабилизатором поперечной устойчивости, тормозные механизмы-передние вентилируемые дисковые, задние-невентилируемые дисковые, трансмиссия-передний привод, 6-ти ступенчатая автоматическая, цвет автомобиля\\tсветлых оттенков, год выпуска\\tне ранее 2017, расход топлива городской цикл\\tне более 11 л./100 км., загородный цикл не более 5,9 л./100 км., смешанный цикл\\tне более 7,8 л./100 км., без пробега, отделка салона\\tтканевая, ёмкость топливного бака, л.-не менее 70, регулировка руля по наклону и вылету наличие, передние и задние стеклоподъемники-наличие,  регулировка водительского сидения-наличие, складываемый второй ряд сидений в пропорции 60:40-наличие, антиблокировочная система (АВS)-наличие, система распределения тормозного усилия (EBD)-наличие, иммобилайзер-наличие, комплект ковриков для первого и второго ряда-наличие, шины-не менее 215/60 R16, легкосплавные колесные диски-наличие, двухзоновый климат-контроль-наличие, аудиосистема CD/MP3/Радио-наличие, динамиков-не менее 6, аудио разъем (AUX)-наличие, USB разъем-наличие, полноразмерное запасное колесо с легкосплавным диском-наличие, передние противотуманные фары-наличие, задние противотуманные фонари-наличие, система курсовой устойчивости-наличие, усилитель экстренного торможения-наличие, боковые подушки безопасности-наличие, шторки безопасности-наличие, фронтальные подушки безопасности наличие, центральный замок с дистанционным управлением и сигнализацией-наличие, мультифункциональное рулевое колесо-наличие, многофункциональный дисплей-наличие, боковые зеркала заднего вида с обогревом, электроприводом и электрорегулировкой, повторителями указателей поворота-наличие, подогрев сидений первого ряда-наличие, электроусилитель рулевого управления-наличие, передние и задние датчики парковки-наличие, датчик света-наличие, система вызова экстренных служб «Эра Глонасс»-наличие.',\n",
       " 'два глушителя; система нейтрализации отработавших газов',\n",
       " 'два глушителя; система нейтрализации отработавших газов',\n",
       " 'два глушителя; система нейтрализации отработавших газов',\n",
       " 'nan',\n",
       " '',\n",
       " '',\n",
       " '',\n",
       " '',\n",
       " '',\n",
       " '',\n",
       " '',\n",
       " '',\n",
       " '',\n",
       " '',\n",
       " '',\n",
       " 'не ранее 2017 года',\n",
       " 'не ранее 2017 года',\n",
       " '',\n",
       " '',\n",
       " '',\n",
       " '',\n",
       " '1',\n",
       " '',\n",
       " '',\n",
       " '',\n",
       " '',\n",
       " '',\n",
       " '1600\\n\\n\\n84\\n\\n\\n4470\\n\\n1750\\n\\n1670\\n\\n2900\\n\\n\\n135\\n\\n2350\\n\\n\\n50\\n\\n5\\n\\n1850\\n\\n4',\n",
       " '1600\\n\\n\\n84\\n\\n\\n4470\\n\\n1750\\n\\n1670\\n\\n2900\\n\\n\\n135\\n\\n2350\\n\\n\\n50\\n\\n5\\n\\n1850\\n\\n4',\n",
       " '1600\\n\\n\\n84\\n\\n\\n4470\\n\\n1750\\n\\n1670\\n\\n2900\\n\\n\\n135\\n\\n2350\\n\\n\\n50\\n\\n5\\n\\n1850\\n\\n4',\n",
       " '1600\\n\\n\\n84\\n\\n\\n4470\\n\\n1750\\n\\n1670\\n\\n2900\\n\\n\\n135\\n\\n2350\\n\\n\\n50\\n\\n5\\n\\n1850\\n\\n4',\n",
       " '1600\\n\\n\\n84\\n\\n\\n4470\\n\\n1750\\n\\n1670\\n\\n2900\\n\\n\\n135\\n\\n2350\\n\\n\\n50\\n\\n5\\n\\n1850\\n\\n4',\n",
       " 'Не ранее 2017г.',\n",
       " 'Штука',\n",
       " 'Штука',\n",
       " 'nan',\n",
       " 'nan',\n",
       " 'nan',\n",
       " 'Метод сопоставимых рыночных цен (анализа рынка) ',\n",
       " 'Метод сопоставимых рыночных цен (анализа рынка) ',\n",
       " 'Метод сопоставимых рыночных цен (анализа рынка) ',\n",
       " '2017',\n",
       " '2017',\n",
       " '2017',\n",
       " '2017',\n",
       " 'Не старше 2016 г.',\n",
       " 'nan',\n",
       " '1',\n",
       " '1',\n",
       " '1',\n",
       " '1',\n",
       " '1',\n",
       " '1',\n",
       " '1',\n",
       " '1 шт.',\n",
       " '1 шт.',\n",
       " '1 шт.',\n",
       " 'год',\n",
       " '',\n",
       " '',\n",
       " '',\n",
       " '',\n",
       " '2017',\n",
       " '2017',\n",
       " 'nan',\n",
       " 'nan',\n",
       " 'Минимальное значение\\n',\n",
       " 'Минимальное значение\\n',\n",
       " 'Минимальное значение\\n',\n",
       " 'Шт.',\n",
       " 'Шт.',\n",
       " 'Шт.',\n",
       " 'Шт.',\n",
       " '',\n",
       " '',\n",
       " '',\n",
       " '',\n",
       " 'шт',\n",
       " 'шт',\n",
       " 'шт',\n",
       " 'шт',\n",
       " 'шт',\n",
       " 'шт',\n",
       " 'шт',\n",
       " 'шт',\n",
       " 'шт',\n",
       " 'шт',\n",
       " 'шт',\n",
       " 'шт',\n",
       " 'шт',\n",
       " '\\n\\n\\n\\n\\n\\n\\n\\n\\n\\n\\n\\n\\n\\n\\n\\n\\n\\n\\n\\n\\n\\n\\n\\n\\n\\nШт.',\n",
       " '\\n\\n\\n\\n\\n\\n\\n\\n\\n\\n\\n\\n\\n\\n\\n\\n\\n\\n\\n\\n\\n\\n\\n\\n\\n\\nШт.',\n",
       " '\\n\\n\\n\\n\\n\\n\\n\\n\\n\\n\\n\\n\\n\\n\\n\\n\\n\\n\\n\\n\\n\\n\\n\\n\\n\\nШт.',\n",
       " '\\n\\n\\n\\n\\n\\n\\n\\n\\n\\n\\n\\n\\n\\n\\n\\n\\n\\n\\n\\n\\n\\n\\n\\n\\n\\nШт.',\n",
       " '1',\n",
       " '1',\n",
       " '1',\n",
       " 'Не ранее 2016 года',\n",
       " 'Не ранее 2016 года',\n",
       " 'Не ранее 2016 года',\n",
       " 'Не ранее 2016 года',\n",
       " 'nan',\n",
       " 'nan',\n",
       " '-',\n",
       " '',\n",
       " 'шт.',\n",
       " 'шт.',\n",
       " 'шт.',\n",
       " 'Не ранее 2017',\n",
       " 'Не ранее 2017',\n",
       " 'Не ранее 2017',\n",
       " 'Не ранее 2017',\n",
       " 'Не ранее 2017',\n",
       " 'nan',\n",
       " 'nan',\n",
       " 'не ранее 2017',\n",
       " 'не ранее 2017',\n",
       " 'nan',\n",
       " 'nan',\n",
       " 'nan',\n",
       " '',\n",
       " '',\n",
       " '',\n",
       " '',\n",
       " '',\n",
       " '',\n",
       " 'nan',\n",
       " 'Показатель, значение которого не может изменяться',\n",
       " 'Показатель, значение которого не может изменяться',\n",
       " 'Показатель, значение которого не может изменяться',\n",
       " 'не установлены',\n",
       " 'Не ранее 2017 г.',\n",
       " 'шт.',\n",
       " 'шт.',\n",
       " 'Не ранее 2017',\n",
       " '',\n",
       " 'Шт.',\n",
       " 'Шт.',\n",
       " '',\n",
       " '',\n",
       " '',\n",
       " '',\n",
       " '',\n",
       " 'nan',\n",
       " 'nan',\n",
       " 'nan',\n",
       " 'nan',\n",
       " '2017',\n",
       " '2017',\n",
       " '2017',\n",
       " '',\n",
       " 'шт',\n",
       " 'Шт.',\n",
       " 'Шт.',\n",
       " 'Не ранее 2017 г.',\n",
       " 'Не ранее 2017 г.',\n",
       " 'Не ранее 2017 г.',\n",
       " 'Не ранее 2017 г.',\n",
       " 'шт.',\n",
       " 'шт.',\n",
       " 'шт.',\n",
       " 'шт.',\n",
       " 'шт.',\n",
       " 'шт.',\n",
       " 'шт.',\n",
       " 'шт.',\n",
       " 'шт.',\n",
       " 'шт.']"
      ]
     },
     "execution_count": 432,
     "metadata": {},
     "output_type": "execute_result"
    }
   ],
   "source": [
    "gvi"
   ]
  },
  {
   "cell_type": "code",
   "execution_count": 371,
   "metadata": {
    "ExecuteTime": {
     "end_time": "2019-10-18T18:17:54.119502Z",
     "start_time": "2019-10-18T18:17:54.114876Z"
    }
   },
   "outputs": [
    {
     "data": {
      "text/plain": [
       "0"
      ]
     },
     "execution_count": 371,
     "metadata": {},
     "output_type": "execute_result"
    }
   ],
   "source": [
    "np.sum(np.array(gvi) != 'не ранее 2016 года')"
   ]
  },
  {
   "cell_type": "code",
   "execution_count": 375,
   "metadata": {
    "ExecuteTime": {
     "end_time": "2019-10-18T18:19:21.961094Z",
     "start_time": "2019-10-18T18:19:21.951787Z"
    }
   },
   "outputs": [
    {
     "data": {
      "text/plain": [
       "((479, 27), 479)"
      ]
     },
     "execution_count": 375,
     "metadata": {},
     "output_type": "execute_result"
    }
   ],
   "source": [
    "df_docx.shape, len(gvi)"
   ]
  },
  {
   "cell_type": "code",
   "execution_count": 379,
   "metadata": {
    "ExecuteTime": {
     "end_time": "2019-10-18T18:20:42.834282Z",
     "start_time": "2019-10-18T18:20:42.830762Z"
    }
   },
   "outputs": [
    {
     "name": "stderr",
     "output_type": "stream",
     "text": [
      "/home/xenakas/anaconda3/envs/geoplots3.6/lib/python3.6/site-packages/pandas/core/indexing.py:494: SettingWithCopyWarning: \n",
      "A value is trying to be set on a copy of a slice from a DataFrame.\n",
      "Try using .loc[row_indexer,col_indexer] = value instead\n",
      "\n",
      "See the caveats in the documentation: http://pandas.pydata.org/pandas-docs/stable/user_guide/indexing.html#returning-a-view-versus-a-copy\n",
      "  self.obj[item] = s\n"
     ]
    }
   ],
   "source": [
    "df_docx.loc[:,'год_выпуска'] = 2016"
   ]
  },
  {
   "cell_type": "code",
   "execution_count": 381,
   "metadata": {
    "ExecuteTime": {
     "end_time": "2019-10-18T18:21:21.109226Z",
     "start_time": "2019-10-18T18:21:21.107390Z"
    }
   },
   "outputs": [],
   "source": [
    "# df_docx"
   ]
  },
  {
   "cell_type": "markdown",
   "metadata": {},
   "source": [
    "##### Мощность\n"
   ]
  },
  {
   "cell_type": "code",
   "execution_count": 382,
   "metadata": {
    "ExecuteTime": {
     "end_time": "2019-10-18T18:24:01.659295Z",
     "start_time": "2019-10-18T18:23:54.597397Z"
    }
   },
   "outputs": [],
   "source": [
    "v1 = 'Мощность'\n",
    "v2 = 'мощность'\n",
    "\n",
    "vip = {}\n",
    "for k in range(len(all_tabs)):\n",
    "    \n",
    "    occ = {}\n",
    "    for j in range(len(all_tabs[k])):\n",
    "        data = all_tabs[6][0]\n",
    "\n",
    "        val = any([data.iloc[:,j].str.contains(v1).any() or \n",
    "                   data.iloc[:,j].str.contains(v2).any()                            \n",
    "                   for j in range(data.shape[1]) ])\n",
    "\n",
    "        if val:\n",
    "            col = [data.iloc[:,j].str.contains(v1).any() or \n",
    "                data.iloc[:,j].str.contains(v2).any()                            \n",
    "                   for j in range(data.shape[1]) ]\n",
    "            col[col.index(True)  + 1]   = True\n",
    "            row = data.loc[:,col]\n",
    "\n",
    "            tr = data.loc[np.logical_or(row.iloc[:,0].str.contains(v1),\n",
    "                row.iloc[:,0].str.contains(v2)    ), col]\n",
    "\n",
    "            occ[j] = tr\n",
    "        \n",
    "    vip[k] = occ\n",
    "\n",
    "        "
   ]
  },
  {
   "cell_type": "code",
   "execution_count": 387,
   "metadata": {
    "ExecuteTime": {
     "end_time": "2019-10-18T18:25:40.528839Z",
     "start_time": "2019-10-18T18:25:40.516315Z"
    }
   },
   "outputs": [
    {
     "data": {
      "text/html": [
       "<div>\n",
       "<style scoped>\n",
       "    .dataframe tbody tr th:only-of-type {\n",
       "        vertical-align: middle;\n",
       "    }\n",
       "\n",
       "    .dataframe tbody tr th {\n",
       "        vertical-align: top;\n",
       "    }\n",
       "\n",
       "    .dataframe thead th {\n",
       "        text-align: right;\n",
       "    }\n",
       "</style>\n",
       "<table border=\"1\" class=\"dataframe\">\n",
       "  <thead>\n",
       "    <tr style=\"text-align: right;\">\n",
       "      <th></th>\n",
       "      <th>Наименование параметра</th>\n",
       "      <th>Наличие функции или величина параметра</th>\n",
       "    </tr>\n",
       "  </thead>\n",
       "  <tbody>\n",
       "    <tr>\n",
       "      <td>19</td>\n",
       "      <td>Номинальная мощность, л.с.:</td>\n",
       "      <td>не менее 79,6</td>\n",
       "    </tr>\n",
       "  </tbody>\n",
       "</table>\n",
       "</div>"
      ],
      "text/plain": [
       "         Наименование параметра Наличие функции или величина параметра\n",
       "19  Номинальная мощность, л.с.:                          не менее 79,6"
      ]
     },
     "execution_count": 387,
     "metadata": {},
     "output_type": "execute_result"
    }
   ],
   "source": [
    "# vip[3][0]\n",
    "\n",
    "vip[4][0]"
   ]
  },
  {
   "cell_type": "code",
   "execution_count": 385,
   "metadata": {
    "ExecuteTime": {
     "end_time": "2019-10-18T18:24:15.183965Z",
     "start_time": "2019-10-18T18:24:15.119918Z"
    }
   },
   "outputs": [],
   "source": [
    "gvi = []\n",
    "for k in range(len(vip)):\n",
    "    for j in range(len(vip[k])):\n",
    "        if vip[k][j].shape[1] == 2:\n",
    "            val = vip[k][j].iloc[0,1]\n",
    "        else:\n",
    "            val = 'nan'\n",
    "    gvi.append(val)\n",
    "    "
   ]
  },
  {
   "cell_type": "code",
   "execution_count": 386,
   "metadata": {
    "ExecuteTime": {
     "end_time": "2019-10-18T18:24:22.666243Z",
     "start_time": "2019-10-18T18:24:22.658349Z"
    }
   },
   "outputs": [
    {
     "data": {
      "text/plain": [
       "['не менее 79,6',\n",
       " 'не менее 79,6',\n",
       " 'не менее 79,6',\n",
       " 'не менее 79,6',\n",
       " 'не менее 79,6',\n",
       " 'не менее 79,6',\n",
       " 'не менее 79,6',\n",
       " 'не менее 79,6',\n",
       " 'не менее 79,6',\n",
       " 'не менее 79,6',\n",
       " 'не менее 79,6',\n",
       " 'не менее 79,6',\n",
       " 'не менее 79,6',\n",
       " 'не менее 79,6',\n",
       " 'не менее 79,6',\n",
       " 'не менее 79,6',\n",
       " 'не менее 79,6',\n",
       " 'не менее 79,6',\n",
       " 'не менее 79,6',\n",
       " 'не менее 79,6',\n",
       " 'не менее 79,6',\n",
       " 'не менее 79,6',\n",
       " 'не менее 79,6',\n",
       " 'не менее 79,6',\n",
       " 'не менее 79,6',\n",
       " 'не менее 79,6',\n",
       " 'не менее 79,6',\n",
       " 'не менее 79,6',\n",
       " 'не менее 79,6',\n",
       " 'не менее 79,6',\n",
       " 'не менее 79,6',\n",
       " 'не менее 79,6',\n",
       " 'не менее 79,6',\n",
       " 'не менее 79,6',\n",
       " 'не менее 79,6',\n",
       " 'не менее 79,6',\n",
       " 'не менее 79,6',\n",
       " 'не менее 79,6',\n",
       " 'не менее 79,6',\n",
       " 'не менее 79,6',\n",
       " 'не менее 79,6',\n",
       " 'не менее 79,6',\n",
       " 'не менее 79,6',\n",
       " 'не менее 79,6',\n",
       " 'не менее 79,6',\n",
       " 'не менее 79,6',\n",
       " 'не менее 79,6',\n",
       " 'не менее 79,6',\n",
       " 'не менее 79,6',\n",
       " 'не менее 79,6',\n",
       " 'не менее 79,6',\n",
       " 'не менее 79,6',\n",
       " 'не менее 79,6',\n",
       " 'не менее 79,6',\n",
       " 'не менее 79,6',\n",
       " 'не менее 79,6',\n",
       " 'не менее 79,6',\n",
       " 'не менее 79,6',\n",
       " 'не менее 79,6',\n",
       " 'не менее 79,6',\n",
       " 'не менее 79,6',\n",
       " 'не менее 79,6',\n",
       " 'не менее 79,6',\n",
       " 'не менее 79,6',\n",
       " 'не менее 79,6',\n",
       " 'не менее 79,6',\n",
       " 'не менее 79,6',\n",
       " 'не менее 79,6',\n",
       " 'не менее 79,6',\n",
       " 'не менее 79,6',\n",
       " 'не менее 79,6',\n",
       " 'не менее 79,6',\n",
       " 'не менее 79,6',\n",
       " 'не менее 79,6',\n",
       " 'не менее 79,6',\n",
       " 'не менее 79,6',\n",
       " 'не менее 79,6',\n",
       " 'не менее 79,6',\n",
       " 'не менее 79,6',\n",
       " 'не менее 79,6',\n",
       " 'не менее 79,6',\n",
       " 'не менее 79,6',\n",
       " 'не менее 79,6',\n",
       " 'не менее 79,6',\n",
       " 'не менее 79,6',\n",
       " 'не менее 79,6',\n",
       " 'не менее 79,6',\n",
       " 'не менее 79,6',\n",
       " 'не менее 79,6',\n",
       " 'не менее 79,6',\n",
       " 'не менее 79,6',\n",
       " 'не менее 79,6',\n",
       " 'не менее 79,6',\n",
       " 'не менее 79,6',\n",
       " 'не менее 79,6',\n",
       " 'не менее 79,6',\n",
       " 'не менее 79,6',\n",
       " 'не менее 79,6',\n",
       " 'не менее 79,6',\n",
       " 'не менее 79,6',\n",
       " 'не менее 79,6',\n",
       " 'не менее 79,6',\n",
       " 'не менее 79,6',\n",
       " 'не менее 79,6',\n",
       " 'не менее 79,6',\n",
       " 'не менее 79,6',\n",
       " 'не менее 79,6',\n",
       " 'не менее 79,6',\n",
       " 'не менее 79,6',\n",
       " 'не менее 79,6',\n",
       " 'не менее 79,6',\n",
       " 'не менее 79,6',\n",
       " 'не менее 79,6',\n",
       " 'не менее 79,6',\n",
       " 'не менее 79,6',\n",
       " 'не менее 79,6',\n",
       " 'не менее 79,6',\n",
       " 'не менее 79,6',\n",
       " 'не менее 79,6',\n",
       " 'не менее 79,6',\n",
       " 'не менее 79,6',\n",
       " 'не менее 79,6',\n",
       " 'не менее 79,6',\n",
       " 'не менее 79,6',\n",
       " 'не менее 79,6',\n",
       " 'не менее 79,6',\n",
       " 'не менее 79,6',\n",
       " 'не менее 79,6',\n",
       " 'не менее 79,6',\n",
       " 'не менее 79,6',\n",
       " 'не менее 79,6',\n",
       " 'не менее 79,6',\n",
       " 'не менее 79,6',\n",
       " 'не менее 79,6',\n",
       " 'не менее 79,6',\n",
       " 'не менее 79,6',\n",
       " 'не менее 79,6',\n",
       " 'не менее 79,6',\n",
       " 'не менее 79,6',\n",
       " 'не менее 79,6',\n",
       " 'не менее 79,6',\n",
       " 'не менее 79,6',\n",
       " 'не менее 79,6',\n",
       " 'не менее 79,6',\n",
       " 'не менее 79,6',\n",
       " 'не менее 79,6',\n",
       " 'не менее 79,6',\n",
       " 'не менее 79,6',\n",
       " 'не менее 79,6',\n",
       " 'не менее 79,6',\n",
       " 'не менее 79,6',\n",
       " 'не менее 79,6',\n",
       " 'не менее 79,6',\n",
       " 'не менее 79,6',\n",
       " 'не менее 79,6',\n",
       " 'не менее 79,6',\n",
       " 'не менее 79,6',\n",
       " 'не менее 79,6',\n",
       " 'не менее 79,6',\n",
       " 'не менее 79,6',\n",
       " 'не менее 79,6',\n",
       " 'не менее 79,6',\n",
       " 'не менее 79,6',\n",
       " 'не менее 79,6',\n",
       " 'не менее 79,6',\n",
       " 'не менее 79,6',\n",
       " 'не менее 79,6',\n",
       " 'не менее 79,6',\n",
       " 'не менее 79,6',\n",
       " 'не менее 79,6',\n",
       " 'не менее 79,6',\n",
       " 'не менее 79,6',\n",
       " 'не менее 79,6',\n",
       " 'не менее 79,6',\n",
       " 'не менее 79,6',\n",
       " 'не менее 79,6',\n",
       " 'не менее 79,6',\n",
       " 'не менее 79,6',\n",
       " 'не менее 79,6',\n",
       " 'не менее 79,6',\n",
       " 'не менее 79,6',\n",
       " 'не менее 79,6',\n",
       " 'не менее 79,6',\n",
       " 'не менее 79,6',\n",
       " 'не менее 79,6',\n",
       " 'не менее 79,6',\n",
       " 'не менее 79,6',\n",
       " 'не менее 79,6',\n",
       " 'не менее 79,6',\n",
       " 'не менее 79,6',\n",
       " 'не менее 79,6',\n",
       " 'не менее 79,6',\n",
       " 'не менее 79,6',\n",
       " 'не менее 79,6',\n",
       " 'не менее 79,6',\n",
       " 'не менее 79,6',\n",
       " 'не менее 79,6',\n",
       " 'не менее 79,6',\n",
       " 'не менее 79,6',\n",
       " 'не менее 79,6',\n",
       " 'не менее 79,6',\n",
       " 'не менее 79,6',\n",
       " 'не менее 79,6',\n",
       " 'не менее 79,6',\n",
       " 'не менее 79,6',\n",
       " 'не менее 79,6',\n",
       " 'не менее 79,6',\n",
       " 'не менее 79,6',\n",
       " 'не менее 79,6',\n",
       " 'не менее 79,6',\n",
       " 'не менее 79,6',\n",
       " 'не менее 79,6',\n",
       " 'не менее 79,6',\n",
       " 'не менее 79,6',\n",
       " 'не менее 79,6',\n",
       " 'не менее 79,6',\n",
       " 'не менее 79,6',\n",
       " 'не менее 79,6',\n",
       " 'не менее 79,6',\n",
       " 'не менее 79,6',\n",
       " 'не менее 79,6',\n",
       " 'не менее 79,6',\n",
       " 'не менее 79,6',\n",
       " 'не менее 79,6',\n",
       " 'не менее 79,6',\n",
       " 'не менее 79,6',\n",
       " 'не менее 79,6',\n",
       " 'не менее 79,6',\n",
       " 'не менее 79,6',\n",
       " 'не менее 79,6',\n",
       " 'не менее 79,6',\n",
       " 'не менее 79,6',\n",
       " 'не менее 79,6',\n",
       " 'не менее 79,6',\n",
       " 'не менее 79,6',\n",
       " 'не менее 79,6',\n",
       " 'не менее 79,6',\n",
       " 'не менее 79,6',\n",
       " 'не менее 79,6',\n",
       " 'не менее 79,6',\n",
       " 'не менее 79,6',\n",
       " 'не менее 79,6',\n",
       " 'не менее 79,6',\n",
       " 'не менее 79,6',\n",
       " 'не менее 79,6',\n",
       " 'не менее 79,6',\n",
       " 'не менее 79,6',\n",
       " 'не менее 79,6',\n",
       " 'не менее 79,6',\n",
       " 'не менее 79,6',\n",
       " 'не менее 79,6',\n",
       " 'не менее 79,6',\n",
       " 'не менее 79,6',\n",
       " 'не менее 79,6',\n",
       " 'не менее 79,6',\n",
       " 'не менее 79,6',\n",
       " 'не менее 79,6',\n",
       " 'не менее 79,6',\n",
       " 'не менее 79,6',\n",
       " 'не менее 79,6',\n",
       " 'не менее 79,6',\n",
       " 'не менее 79,6',\n",
       " 'не менее 79,6',\n",
       " 'не менее 79,6',\n",
       " 'не менее 79,6',\n",
       " 'не менее 79,6',\n",
       " 'не менее 79,6',\n",
       " 'не менее 79,6',\n",
       " 'не менее 79,6',\n",
       " 'не менее 79,6',\n",
       " 'не менее 79,6',\n",
       " 'не менее 79,6',\n",
       " 'не менее 79,6',\n",
       " 'не менее 79,6',\n",
       " 'не менее 79,6',\n",
       " 'не менее 79,6',\n",
       " 'не менее 79,6',\n",
       " 'не менее 79,6',\n",
       " 'не менее 79,6',\n",
       " 'не менее 79,6',\n",
       " 'не менее 79,6',\n",
       " 'не менее 79,6',\n",
       " 'не менее 79,6',\n",
       " 'не менее 79,6',\n",
       " 'не менее 79,6',\n",
       " 'не менее 79,6',\n",
       " 'не менее 79,6',\n",
       " 'не менее 79,6',\n",
       " 'не менее 79,6',\n",
       " 'не менее 79,6',\n",
       " 'не менее 79,6',\n",
       " 'не менее 79,6',\n",
       " 'не менее 79,6',\n",
       " 'не менее 79,6',\n",
       " 'не менее 79,6',\n",
       " 'не менее 79,6',\n",
       " 'не менее 79,6',\n",
       " 'не менее 79,6',\n",
       " 'не менее 79,6',\n",
       " 'не менее 79,6',\n",
       " 'не менее 79,6',\n",
       " 'не менее 79,6',\n",
       " 'не менее 79,6',\n",
       " 'не менее 79,6',\n",
       " 'не менее 79,6',\n",
       " 'не менее 79,6',\n",
       " 'не менее 79,6',\n",
       " 'не менее 79,6',\n",
       " 'не менее 79,6',\n",
       " 'не менее 79,6',\n",
       " 'не менее 79,6',\n",
       " 'не менее 79,6',\n",
       " 'не менее 79,6',\n",
       " 'не менее 79,6',\n",
       " 'не менее 79,6',\n",
       " 'не менее 79,6',\n",
       " 'не менее 79,6',\n",
       " 'не менее 79,6',\n",
       " 'не менее 79,6',\n",
       " 'не менее 79,6',\n",
       " 'не менее 79,6',\n",
       " 'не менее 79,6',\n",
       " 'не менее 79,6',\n",
       " 'не менее 79,6',\n",
       " 'не менее 79,6',\n",
       " 'не менее 79,6',\n",
       " 'не менее 79,6',\n",
       " 'не менее 79,6',\n",
       " 'не менее 79,6',\n",
       " 'не менее 79,6',\n",
       " 'не менее 79,6',\n",
       " 'не менее 79,6',\n",
       " 'не менее 79,6',\n",
       " 'не менее 79,6',\n",
       " 'не менее 79,6',\n",
       " 'не менее 79,6',\n",
       " 'не менее 79,6',\n",
       " 'не менее 79,6',\n",
       " 'не менее 79,6',\n",
       " 'не менее 79,6',\n",
       " 'не менее 79,6',\n",
       " 'не менее 79,6',\n",
       " 'не менее 79,6',\n",
       " 'не менее 79,6',\n",
       " 'не менее 79,6',\n",
       " 'не менее 79,6',\n",
       " 'не менее 79,6',\n",
       " 'не менее 79,6',\n",
       " 'не менее 79,6',\n",
       " 'не менее 79,6',\n",
       " 'не менее 79,6',\n",
       " 'не менее 79,6',\n",
       " 'не менее 79,6',\n",
       " 'не менее 79,6',\n",
       " 'не менее 79,6',\n",
       " 'не менее 79,6',\n",
       " 'не менее 79,6',\n",
       " 'не менее 79,6',\n",
       " 'не менее 79,6',\n",
       " 'не менее 79,6',\n",
       " 'не менее 79,6',\n",
       " 'не менее 79,6',\n",
       " 'не менее 79,6',\n",
       " 'не менее 79,6',\n",
       " 'не менее 79,6',\n",
       " 'не менее 79,6',\n",
       " 'не менее 79,6',\n",
       " 'не менее 79,6',\n",
       " 'не менее 79,6',\n",
       " 'не менее 79,6',\n",
       " 'не менее 79,6',\n",
       " 'не менее 79,6',\n",
       " 'не менее 79,6',\n",
       " 'не менее 79,6',\n",
       " 'не менее 79,6',\n",
       " 'не менее 79,6',\n",
       " 'не менее 79,6',\n",
       " 'не менее 79,6',\n",
       " 'не менее 79,6',\n",
       " 'не менее 79,6',\n",
       " 'не менее 79,6',\n",
       " 'не менее 79,6',\n",
       " 'не менее 79,6',\n",
       " 'не менее 79,6',\n",
       " 'не менее 79,6',\n",
       " 'не менее 79,6',\n",
       " 'не менее 79,6',\n",
       " 'не менее 79,6',\n",
       " 'не менее 79,6',\n",
       " 'не менее 79,6',\n",
       " 'не менее 79,6',\n",
       " 'не менее 79,6',\n",
       " 'не менее 79,6',\n",
       " 'не менее 79,6',\n",
       " 'не менее 79,6',\n",
       " 'не менее 79,6',\n",
       " 'не менее 79,6',\n",
       " 'не менее 79,6',\n",
       " 'не менее 79,6',\n",
       " 'не менее 79,6',\n",
       " 'не менее 79,6',\n",
       " 'не менее 79,6',\n",
       " 'не менее 79,6',\n",
       " 'не менее 79,6',\n",
       " 'не менее 79,6',\n",
       " 'не менее 79,6',\n",
       " 'не менее 79,6',\n",
       " 'не менее 79,6',\n",
       " 'не менее 79,6',\n",
       " 'не менее 79,6',\n",
       " 'не менее 79,6',\n",
       " 'не менее 79,6',\n",
       " 'не менее 79,6',\n",
       " 'не менее 79,6',\n",
       " 'не менее 79,6',\n",
       " 'не менее 79,6',\n",
       " 'не менее 79,6',\n",
       " 'не менее 79,6',\n",
       " 'не менее 79,6',\n",
       " 'не менее 79,6',\n",
       " 'не менее 79,6',\n",
       " 'не менее 79,6',\n",
       " 'не менее 79,6',\n",
       " 'не менее 79,6',\n",
       " 'не менее 79,6',\n",
       " 'не менее 79,6',\n",
       " 'не менее 79,6',\n",
       " 'не менее 79,6',\n",
       " 'не менее 79,6',\n",
       " 'не менее 79,6',\n",
       " 'не менее 79,6',\n",
       " 'не менее 79,6',\n",
       " 'не менее 79,6',\n",
       " 'не менее 79,6',\n",
       " 'не менее 79,6',\n",
       " 'не менее 79,6',\n",
       " 'не менее 79,6',\n",
       " 'не менее 79,6',\n",
       " 'не менее 79,6',\n",
       " 'не менее 79,6',\n",
       " 'не менее 79,6',\n",
       " 'не менее 79,6',\n",
       " 'не менее 79,6',\n",
       " 'не менее 79,6',\n",
       " 'не менее 79,6',\n",
       " 'не менее 79,6',\n",
       " 'не менее 79,6',\n",
       " 'не менее 79,6',\n",
       " 'не менее 79,6',\n",
       " 'не менее 79,6',\n",
       " 'не менее 79,6',\n",
       " 'не менее 79,6',\n",
       " 'не менее 79,6',\n",
       " 'не менее 79,6',\n",
       " 'не менее 79,6',\n",
       " 'не менее 79,6',\n",
       " 'не менее 79,6',\n",
       " 'не менее 79,6',\n",
       " 'не менее 79,6',\n",
       " 'не менее 79,6',\n",
       " 'не менее 79,6',\n",
       " 'не менее 79,6',\n",
       " 'не менее 79,6',\n",
       " 'не менее 79,6',\n",
       " 'не менее 79,6',\n",
       " 'не менее 79,6',\n",
       " 'не менее 79,6',\n",
       " 'не менее 79,6',\n",
       " 'не менее 79,6',\n",
       " 'не менее 79,6',\n",
       " 'не менее 79,6',\n",
       " 'не менее 79,6',\n",
       " 'не менее 79,6',\n",
       " 'не менее 79,6',\n",
       " 'не менее 79,6',\n",
       " 'не менее 79,6',\n",
       " 'не менее 79,6',\n",
       " 'не менее 79,6',\n",
       " 'не менее 79,6']"
      ]
     },
     "execution_count": 386,
     "metadata": {},
     "output_type": "execute_result"
    }
   ],
   "source": [
    "gvi"
   ]
  },
  {
   "cell_type": "code",
   "execution_count": 371,
   "metadata": {
    "ExecuteTime": {
     "end_time": "2019-10-18T18:17:54.119502Z",
     "start_time": "2019-10-18T18:17:54.114876Z"
    }
   },
   "outputs": [
    {
     "data": {
      "text/plain": [
       "0"
      ]
     },
     "execution_count": 371,
     "metadata": {},
     "output_type": "execute_result"
    }
   ],
   "source": [
    "np.sum(np.array(gvi) != 'не ранее 2016 года')"
   ]
  },
  {
   "cell_type": "code",
   "execution_count": 375,
   "metadata": {
    "ExecuteTime": {
     "end_time": "2019-10-18T18:19:21.961094Z",
     "start_time": "2019-10-18T18:19:21.951787Z"
    }
   },
   "outputs": [
    {
     "data": {
      "text/plain": [
       "((479, 27), 479)"
      ]
     },
     "execution_count": 375,
     "metadata": {},
     "output_type": "execute_result"
    }
   ],
   "source": [
    "df_docx.shape, len(gvi)"
   ]
  },
  {
   "cell_type": "code",
   "execution_count": 379,
   "metadata": {
    "ExecuteTime": {
     "end_time": "2019-10-18T18:20:42.834282Z",
     "start_time": "2019-10-18T18:20:42.830762Z"
    }
   },
   "outputs": [
    {
     "name": "stderr",
     "output_type": "stream",
     "text": [
      "/home/xenakas/anaconda3/envs/geoplots3.6/lib/python3.6/site-packages/pandas/core/indexing.py:494: SettingWithCopyWarning: \n",
      "A value is trying to be set on a copy of a slice from a DataFrame.\n",
      "Try using .loc[row_indexer,col_indexer] = value instead\n",
      "\n",
      "See the caveats in the documentation: http://pandas.pydata.org/pandas-docs/stable/user_guide/indexing.html#returning-a-view-versus-a-copy\n",
      "  self.obj[item] = s\n"
     ]
    }
   ],
   "source": [
    "df_docx.loc[:,'год_выпуска'] = 2016"
   ]
  },
  {
   "cell_type": "code",
   "execution_count": null,
   "metadata": {},
   "outputs": [],
   "source": []
  },
  {
   "cell_type": "code",
   "execution_count": 356,
   "metadata": {
    "ExecuteTime": {
     "end_time": "2019-10-18T18:08:47.228088Z",
     "start_time": "2019-10-18T18:08:47.216805Z"
    }
   },
   "outputs": [
    {
     "data": {
      "text/plain": [
       "(array([184]),)"
      ]
     },
     "execution_count": 356,
     "metadata": {},
     "output_type": "execute_result"
    }
   ],
   "source": [
    "np.where([np.array([len(vip[i]) for i in range(len(vip))] ) > 6 ][0] == True)"
   ]
  },
  {
   "cell_type": "code",
   "execution_count": 359,
   "metadata": {
    "ExecuteTime": {
     "end_time": "2019-10-18T18:09:41.168525Z",
     "start_time": "2019-10-18T18:09:41.158521Z"
    }
   },
   "outputs": [
    {
     "data": {
      "text/plain": [
       "{0:   Наименование параметра Наличие функции или величина параметра\n",
       " 4         Год выпуска:\\n                     не ранее 2016 года,\n",
       " 1:   Наименование параметра Наличие функции или величина параметра\n",
       " 4         Год выпуска:\\n                     не ранее 2016 года,\n",
       " 2:   Наименование параметра Наличие функции или величина параметра\n",
       " 4         Год выпуска:\\n                     не ранее 2016 года,\n",
       " 3:   Наименование параметра Наличие функции или величина параметра\n",
       " 4         Год выпуска:\\n                     не ранее 2016 года,\n",
       " 4:   Наименование параметра Наличие функции или величина параметра\n",
       " 4         Год выпуска:\\n                     не ранее 2016 года,\n",
       " 5:   Наименование параметра Наличие функции или величина параметра\n",
       " 4         Год выпуска:\\n                     не ранее 2016 года,\n",
       " 6:   Наименование параметра Наличие функции или величина параметра\n",
       " 4         Год выпуска:\\n                     не ранее 2016 года}"
      ]
     },
     "execution_count": 359,
     "metadata": {},
     "output_type": "execute_result"
    }
   ],
   "source": [
    "vip[184]"
   ]
  },
  {
   "cell_type": "code",
   "execution_count": null,
   "metadata": {},
   "outputs": [],
   "source": [
    "                data = read_table(table)\n",
    "                val = any([data.iloc[:,j].str.contains('Коробка').any() or \n",
    "                           data.iloc[:,j].str.contains('коробка').any() or\n",
    "                           data.iloc[:,j].str.contains('Привод').any() or\n",
    "                           data.iloc[:,j].str.contains('привод').any() or\n",
    "                           data.iloc[:,j].str.contains('Ширина').any() or\n",
    "                           data.iloc[:,j].str.contains('ширина').any() or\n",
    "                           data.iloc[:,j].str.contains('Объем').any() or\n",
    "                           data.iloc[:,j].str.contains('объем').any() or\n",
    "                           data.iloc[:,j].str.contains('Длина').any() or\n",
    "                           data.iloc[:,j].str.contains('длина').any() or\n",
    "                           data.iloc[:,j].str.contains('Скорость').any() or\n",
    "                           data.iloc[:,j].str.contains('скорость').any() or\n",
    "                           data.iloc[:,j].str.contains('Масса').any() or\n",
    "                           data.iloc[:,j].str.contains('масса').any() or\n",
    "                           data.iloc[:,j].str.contains('выпуска').any() or\n",
    "                           data.iloc[:,j].str.contains('Мощность').any() or\n",
    "                           data.iloc[:,j].str.contains('мощность').any() or\n",
    "                           data.iloc[:,j].str.contains('Топлива').any() or\n",
    "                           data.iloc[:,j].str.contains('топлива').any()                            \n",
    "                           for j in range(data.shape[1]) ])\n"
   ]
  },
  {
   "cell_type": "code",
   "execution_count": null,
   "metadata": {},
   "outputs": [],
   "source": []
  },
  {
   "cell_type": "code",
   "execution_count": null,
   "metadata": {
    "ExecuteTime": {
     "end_time": "2019-10-17T14:52:03.014942Z",
     "start_time": "2019-10-17T14:52:02.972888Z"
    }
   },
   "outputs": [],
   "source": [
    "# fpath = '/media/xenakas/ext4_drive/data_goszak/s5_auto/' +  df_docx.loc[11, 'filenames']\n",
    "    "
   ]
  },
  {
   "cell_type": "code",
   "execution_count": 240,
   "metadata": {
    "ExecuteTime": {
     "end_time": "2019-10-17T23:59:42.130480Z",
     "start_time": "2019-10-17T23:59:42.126798Z"
    }
   },
   "outputs": [],
   "source": [
    "arr_len = np.array([len(all_tabs[i]) for i in range(len(all_tabs))] )"
   ]
  },
  {
   "cell_type": "code",
   "execution_count": 290,
   "metadata": {
    "ExecuteTime": {
     "end_time": "2019-10-18T17:40:15.734725Z",
     "start_time": "2019-10-18T17:40:15.732703Z"
    }
   },
   "outputs": [],
   "source": [
    "# df_docx.iloc[np.where(arr_len == 0)[0], :]"
   ]
  },
  {
   "cell_type": "code",
   "execution_count": 262,
   "metadata": {
    "ExecuteTime": {
     "end_time": "2019-10-18T00:11:25.073586Z",
     "start_time": "2019-10-18T00:11:21.792921Z"
    }
   },
   "outputs": [
    {
     "name": "stdout",
     "output_type": "stream",
     "text": [
      "5\n"
     ]
    }
   ],
   "source": [
    "l = 3 \n",
    "fpath = '/media/xenakas/ext4_drive/data_goszak/s5_auto/' +  df_docx.iloc[l, -1]\n",
    "document = Document(fpath)\n",
    "\n",
    "tab_list_meh = {}\n",
    "print(l)\n",
    "for k in range(len(document.tables)):\n",
    "\n",
    "    table = document.tables[k]\n",
    "\n",
    "\n",
    "    try: \n",
    "        data = read_table(table)\n",
    "        val = any([data.iloc[:,j].str.contains('Коробка').any() or \n",
    "                   data.iloc[:,j].str.contains('коробка').any() or\n",
    "                   data.iloc[:,j].str.contains('Привод').any() or\n",
    "                   data.iloc[:,j].str.contains('привод').any() or\n",
    "                   data.iloc[:,j].str.contains('Ширина').any() or\n",
    "                   data.iloc[:,j].str.contains('ширина').any() or\n",
    "                   data.iloc[:,j].str.contains('Объем').any() or\n",
    "                   data.iloc[:,j].str.contains('объем').any() or\n",
    "                   data.iloc[:,j].str.contains('Длина').any() or\n",
    "                   data.iloc[:,j].str.contains('длина').any() or\n",
    "                   data.iloc[:,j].str.contains('Скорость').any() or\n",
    "                   data.iloc[:,j].str.contains('скорость').any() or\n",
    "                   data.iloc[:,j].str.contains('Масса').any() or\n",
    "                   data.iloc[:,j].str.contains('масса').any() or\n",
    "                   data.iloc[:,j].str.contains('выпуска').any() or\n",
    "                   data.iloc[:,j].str.contains('Мощность').any() or\n",
    "                   data.iloc[:,j].str.contains('мощность').any() or\n",
    "                   data.iloc[:,j].str.contains('Топлива').any() or\n",
    "                   data.iloc[:,j].str.contains('топлива').any()                            \n",
    "                   for j in range(data.shape[1]) ])\n",
    "\n",
    "        if  val:\n",
    "            tab_list_meh[k] = data\n",
    "\n",
    "\n",
    "    except:\n",
    "        print(\"An exception occurred\") \n",
    "\n",
    "\n",
    "# all_tabs[l] = tab_list_meh"
   ]
  },
  {
   "cell_type": "code",
   "execution_count": 283,
   "metadata": {
    "ExecuteTime": {
     "end_time": "2019-10-18T17:37:44.970997Z",
     "start_time": "2019-10-18T17:37:44.968116Z"
    }
   },
   "outputs": [],
   "source": [
    "table = document.tables[2]"
   ]
  },
  {
   "cell_type": "code",
   "execution_count": 291,
   "metadata": {
    "ExecuteTime": {
     "end_time": "2019-10-18T17:40:51.907500Z",
     "start_time": "2019-10-18T17:40:51.905209Z"
    }
   },
   "outputs": [],
   "source": [
    "# read_table(table)\n"
   ]
  },
  {
   "cell_type": "code",
   "execution_count": 286,
   "metadata": {
    "ExecuteTime": {
     "end_time": "2019-10-18T17:38:55.832431Z",
     "start_time": "2019-10-18T17:38:55.777104Z"
    }
   },
   "outputs": [],
   "source": [
    "data = read_table(table)\n",
    "val = any([data.iloc[:,j].str.contains('Коробка').any() or \n",
    "                   data.iloc[:,j].str.contains('коробка').any() or\n",
    "                   data.iloc[:,j].str.contains('Привод').any() or\n",
    "                   data.iloc[:,j].str.contains('привод').any() or\n",
    "                   data.iloc[:,j].str.contains('Ширина').any() or\n",
    "                   data.iloc[:,j].str.contains('ширина').any() or\n",
    "                   data.iloc[:,j].str.contains('Объем').any() or\n",
    "                   data.iloc[:,j].str.contains('объем').any() or\n",
    "                   data.iloc[:,j].str.contains('Длина').any() or\n",
    "                   data.iloc[:,j].str.contains('длина').any() or\n",
    "                   data.iloc[:,j].str.contains('Скорость').any() or\n",
    "                   data.iloc[:,j].str.contains('скорость').any() or\n",
    "                   data.iloc[:,j].str.contains('Масса').any() or\n",
    "                   data.iloc[:,j].str.contains('масса').any() or\n",
    "                   data.iloc[:,j].str.contains('выпуска').any() or\n",
    "                   data.iloc[:,j].str.contains('Мощность').any() or\n",
    "                   data.iloc[:,j].str.contains('мощность').any() or\n",
    "                   data.iloc[:,j].str.contains('Топлива').any() or\n",
    "                   data.iloc[:,j].str.contains('топлива').any()                            \n",
    "                   for j in range(data.shape[1]) ])\n"
   ]
  },
  {
   "cell_type": "code",
   "execution_count": 288,
   "metadata": {
    "ExecuteTime": {
     "end_time": "2019-10-18T17:39:03.227564Z",
     "start_time": "2019-10-18T17:39:03.224616Z"
    }
   },
   "outputs": [
    {
     "data": {
      "text/plain": [
       "True"
      ]
     },
     "execution_count": 288,
     "metadata": {},
     "output_type": "execute_result"
    }
   ],
   "source": [
    "val"
   ]
  },
  {
   "cell_type": "code",
   "execution_count": 209,
   "metadata": {
    "ExecuteTime": {
     "end_time": "2019-10-17T14:49:10.563198Z",
     "start_time": "2019-10-17T14:49:10.549323Z"
    }
   },
   "outputs": [
    {
     "data": {
      "text/html": [
       "<div>\n",
       "<style scoped>\n",
       "    .dataframe tbody tr th:only-of-type {\n",
       "        vertical-align: middle;\n",
       "    }\n",
       "\n",
       "    .dataframe tbody tr th {\n",
       "        vertical-align: top;\n",
       "    }\n",
       "\n",
       "    .dataframe thead th {\n",
       "        text-align: right;\n",
       "    }\n",
       "</style>\n",
       "<table border=\"1\" class=\"dataframe\">\n",
       "  <thead>\n",
       "    <tr style=\"text-align: right;\">\n",
       "      <th></th>\n",
       "    </tr>\n",
       "  </thead>\n",
       "  <tbody>\n",
       "  </tbody>\n",
       "</table>\n",
       "</div>"
      ],
      "text/plain": [
       "Empty DataFrame\n",
       "Columns: []\n",
       "Index: []"
      ]
     },
     "execution_count": 209,
     "metadata": {},
     "output_type": "execute_result"
    }
   ],
   "source": [
    "read_table(table)"
   ]
  },
  {
   "cell_type": "code",
   "execution_count": 75,
   "metadata": {
    "ExecuteTime": {
     "end_time": "2019-10-17T13:55:42.729983Z",
     "start_time": "2019-10-17T13:55:41.815370Z"
    }
   },
   "outputs": [],
   "source": [
    "table = document.tables[3]\n",
    "tab_list = []\n",
    "data = []\n",
    "\n",
    "keys = None\n",
    "for i, row in enumerate(table.rows):\n",
    "    text = (cell.text for cell in row.cells)\n",
    "\n",
    "    # Establish the mapping based on the first row\n",
    "    # headers; these will become the keys of our dictionary\n",
    "    if i == 0:\n",
    "        keys = tuple(text)\n",
    "        continue\n",
    "\n",
    "    # Construct a dictionary for this row, mapping\n",
    "    # keys to values for this row\n",
    "    row_data = dict(zip(keys, text))\n",
    "    data.append(row_data)\n",
    "    \n",
    "    \n",
    "    \n",
    "    \n",
    "    "
   ]
  },
  {
   "cell_type": "code",
   "execution_count": 102,
   "metadata": {
    "ExecuteTime": {
     "end_time": "2019-10-17T14:07:34.273642Z",
     "start_time": "2019-10-17T14:07:34.266489Z"
    }
   },
   "outputs": [],
   "source": [
    "# pd.DataFrame(data)"
   ]
  },
  {
   "cell_type": "code",
   "execution_count": 94,
   "metadata": {
    "ExecuteTime": {
     "end_time": "2019-10-17T14:03:14.782515Z",
     "start_time": "2019-10-17T14:03:14.775352Z"
    }
   },
   "outputs": [],
   "source": []
  },
  {
   "cell_type": "code",
   "execution_count": 97,
   "metadata": {
    "ExecuteTime": {
     "end_time": "2019-10-17T14:03:47.277021Z",
     "start_time": "2019-10-17T14:03:47.267111Z"
    }
   },
   "outputs": [
    {
     "data": {
      "text/plain": [
       "True"
      ]
     },
     "execution_count": 97,
     "metadata": {},
     "output_type": "execute_result"
    }
   ],
   "source": []
  },
  {
   "cell_type": "code",
   "execution_count": 100,
   "metadata": {
    "ExecuteTime": {
     "end_time": "2019-10-17T14:06:06.119185Z",
     "start_time": "2019-10-17T14:06:06.107134Z"
    }
   },
   "outputs": [
    {
     "data": {
      "text/html": [
       "<div>\n",
       "<style scoped>\n",
       "    .dataframe tbody tr th:only-of-type {\n",
       "        vertical-align: middle;\n",
       "    }\n",
       "\n",
       "    .dataframe tbody tr th {\n",
       "        vertical-align: top;\n",
       "    }\n",
       "\n",
       "    .dataframe thead th {\n",
       "        text-align: right;\n",
       "    }\n",
       "</style>\n",
       "<table border=\"1\" class=\"dataframe\">\n",
       "  <thead>\n",
       "    <tr style=\"text-align: right;\">\n",
       "      <th></th>\n",
       "      <th>№\\nп/п</th>\n",
       "      <th>Наименование товара</th>\n",
       "      <th>Товарный знак (его словесное обозначение),  знак обслуживания, фирменное наименование, патенты, полезные модели, промышленные образцы, наименование места происхождения товара или наименование производителя товара</th>\n",
       "      <th>№ показателя</th>\n",
       "      <th>Показатель (характеристика)\\nтовара</th>\n",
       "      <th>Требования к значениям показателей (характеристик) товара, или эквивалентности предлагаемого к поставке товара, товара используемого для выполнения работы, оказания услуги, позволяющие определить соответствие потребностям заказчика\\n</th>\n",
       "      <th>Единица измерения</th>\n",
       "      <th>Количество</th>\n",
       "    </tr>\n",
       "  </thead>\n",
       "  <tbody>\n",
       "    <tr>\n",
       "      <td>0</td>\n",
       "      <td>№\\nп/п</td>\n",
       "      <td>Наименование товара</td>\n",
       "      <td>Товарный знак (его словесное обозначение),  зн...</td>\n",
       "      <td>№ показателя</td>\n",
       "      <td>Показатель (характеристика)\\nтовара</td>\n",
       "      <td>Показатели, (характеристики) значения которых ...</td>\n",
       "      <td>Единица измерения</td>\n",
       "      <td>Количество</td>\n",
       "    </tr>\n",
       "    <tr>\n",
       "      <td>1</td>\n",
       "      <td>1</td>\n",
       "      <td>2</td>\n",
       "      <td>3</td>\n",
       "      <td>4</td>\n",
       "      <td>5</td>\n",
       "      <td>7</td>\n",
       "      <td>8</td>\n",
       "      <td>9</td>\n",
       "    </tr>\n",
       "    <tr>\n",
       "      <td>2</td>\n",
       "      <td>1</td>\n",
       "      <td>Легковой автомобиль</td>\n",
       "      <td></td>\n",
       "      <td>1</td>\n",
       "      <td>Двигатель</td>\n",
       "      <td></td>\n",
       "      <td>Шт.</td>\n",
       "      <td>1</td>\n",
       "    </tr>\n",
       "    <tr>\n",
       "      <td>3</td>\n",
       "      <td>1</td>\n",
       "      <td>Легковой автомобиль</td>\n",
       "      <td></td>\n",
       "      <td>1.1.</td>\n",
       "      <td>Рабочий объем цилиндров</td>\n",
       "      <td></td>\n",
       "      <td>Шт.</td>\n",
       "      <td>1</td>\n",
       "    </tr>\n",
       "    <tr>\n",
       "      <td>4</td>\n",
       "      <td>1</td>\n",
       "      <td>Легковой автомобиль</td>\n",
       "      <td></td>\n",
       "      <td>1.2.</td>\n",
       "      <td>Размер цилиндра на ход поршня</td>\n",
       "      <td></td>\n",
       "      <td>Шт.</td>\n",
       "      <td>1</td>\n",
       "    </tr>\n",
       "    <tr>\n",
       "      <td>...</td>\n",
       "      <td>...</td>\n",
       "      <td>...</td>\n",
       "      <td>...</td>\n",
       "      <td>...</td>\n",
       "      <td>...</td>\n",
       "      <td>...</td>\n",
       "      <td>...</td>\n",
       "      <td>...</td>\n",
       "    </tr>\n",
       "    <tr>\n",
       "      <td>72</td>\n",
       "      <td>1</td>\n",
       "      <td>Легковой автомобиль</td>\n",
       "      <td></td>\n",
       "      <td>11.30.</td>\n",
       "      <td>Адаптация двигателя к запуску в холодном климате</td>\n",
       "      <td>Наличие функции адаптации двигателя к запуску ...</td>\n",
       "      <td>Шт.</td>\n",
       "      <td>1</td>\n",
       "    </tr>\n",
       "    <tr>\n",
       "      <td>73</td>\n",
       "      <td>1</td>\n",
       "      <td>Легковой автомобиль</td>\n",
       "      <td></td>\n",
       "      <td>11.31.</td>\n",
       "      <td>Цвет корпуса</td>\n",
       "      <td>Светлых тонов</td>\n",
       "      <td>Шт.</td>\n",
       "      <td>1</td>\n",
       "    </tr>\n",
       "    <tr>\n",
       "      <td>74</td>\n",
       "      <td>1</td>\n",
       "      <td>Легковой автомобиль</td>\n",
       "      <td></td>\n",
       "      <td>11.32.</td>\n",
       "      <td>Зимние шипованные шины на дисках</td>\n",
       "      <td></td>\n",
       "      <td>Шт.</td>\n",
       "      <td>1</td>\n",
       "    </tr>\n",
       "    <tr>\n",
       "      <td>75</td>\n",
       "      <td>1</td>\n",
       "      <td>Легковой автомобиль</td>\n",
       "      <td></td>\n",
       "      <td>11.33.</td>\n",
       "      <td>Локеры</td>\n",
       "      <td>Задние локеры с установкой</td>\n",
       "      <td>Шт.</td>\n",
       "      <td>1</td>\n",
       "    </tr>\n",
       "    <tr>\n",
       "      <td>76</td>\n",
       "      <td>1</td>\n",
       "      <td>Легковой автомобиль</td>\n",
       "      <td></td>\n",
       "      <td>11.34.</td>\n",
       "      <td>Задние брызговики</td>\n",
       "      <td>Задние брызговики с установкой</td>\n",
       "      <td>Шт.</td>\n",
       "      <td>1</td>\n",
       "    </tr>\n",
       "  </tbody>\n",
       "</table>\n",
       "<p>77 rows × 8 columns</p>\n",
       "</div>"
      ],
      "text/plain": [
       "    №\\nп/п  Наименование товара  \\\n",
       "0   №\\nп/п  Наименование товара   \n",
       "1        1                    2   \n",
       "2        1  Легковой автомобиль   \n",
       "3        1  Легковой автомобиль   \n",
       "4        1  Легковой автомобиль   \n",
       "..     ...                  ...   \n",
       "72       1  Легковой автомобиль   \n",
       "73       1  Легковой автомобиль   \n",
       "74       1  Легковой автомобиль   \n",
       "75       1  Легковой автомобиль   \n",
       "76       1  Легковой автомобиль   \n",
       "\n",
       "   Товарный знак (его словесное обозначение),  знак обслуживания, фирменное наименование, патенты, полезные модели, промышленные образцы, наименование места происхождения товара или наименование производителя товара  \\\n",
       "0   Товарный знак (его словесное обозначение),  зн...                                                                                                                                                                     \n",
       "1                                                   3                                                                                                                                                                     \n",
       "2                                                                                                                                                                                                                         \n",
       "3                                                                                                                                                                                                                         \n",
       "4                                                                                                                                                                                                                         \n",
       "..                                                ...                                                                                                                                                                     \n",
       "72                                                                                                                                                                                                                        \n",
       "73                                                                                                                                                                                                                        \n",
       "74                                                                                                                                                                                                                        \n",
       "75                                                                                                                                                                                                                        \n",
       "76                                                                                                                                                                                                                        \n",
       "\n",
       "    № показателя               Показатель (характеристика)\\nтовара  \\\n",
       "0   № показателя               Показатель (характеристика)\\nтовара   \n",
       "1              4                                                 5   \n",
       "2              1                                         Двигатель   \n",
       "3           1.1.                           Рабочий объем цилиндров   \n",
       "4           1.2.                     Размер цилиндра на ход поршня   \n",
       "..           ...                                               ...   \n",
       "72        11.30.  Адаптация двигателя к запуску в холодном климате   \n",
       "73        11.31.                                      Цвет корпуса   \n",
       "74        11.32.                  Зимние шипованные шины на дисках   \n",
       "75        11.33.                                            Локеры   \n",
       "76        11.34.                                 Задние брызговики   \n",
       "\n",
       "   Требования к значениям показателей (характеристик) товара, или эквивалентности предлагаемого к поставке товара, товара используемого для выполнения работы, оказания услуги, позволяющие определить соответствие потребностям заказчика\\n  \\\n",
       "0   Показатели, (характеристики) значения которых ...                                                                                                                                                                                          \n",
       "1                                                   7                                                                                                                                                                                          \n",
       "2                                                                                                                                                                                                                                              \n",
       "3                                                                                                                                                                                                                                              \n",
       "4                                                                                                                                                                                                                                              \n",
       "..                                                ...                                                                                                                                                                                          \n",
       "72  Наличие функции адаптации двигателя к запуску ...                                                                                                                                                                                          \n",
       "73                                      Светлых тонов                                                                                                                                                                                          \n",
       "74                                                                                                                                                                                                                                             \n",
       "75                         Задние локеры с установкой                                                                                                                                                                                          \n",
       "76                     Задние брызговики с установкой                                                                                                                                                                                          \n",
       "\n",
       "    Единица измерения  Количество  \n",
       "0   Единица измерения  Количество  \n",
       "1                   8           9  \n",
       "2                 Шт.           1  \n",
       "3                 Шт.           1  \n",
       "4                 Шт.           1  \n",
       "..                ...         ...  \n",
       "72                Шт.           1  \n",
       "73                Шт.           1  \n",
       "74                Шт.           1  \n",
       "75                Шт.           1  \n",
       "76                Шт.           1  \n",
       "\n",
       "[77 rows x 8 columns]"
      ]
     },
     "execution_count": 100,
     "metadata": {},
     "output_type": "execute_result"
    }
   ],
   "source": []
  },
  {
   "cell_type": "code",
   "execution_count": null,
   "metadata": {},
   "outputs": [],
   "source": []
  }
 ],
 "metadata": {
  "hide_input": false,
  "kernelspec": {
   "display_name": "Python 3.6 (for geoplots)",
   "language": "python",
   "name": "geoplots3.6"
  },
  "language_info": {
   "codemirror_mode": {
    "name": "ipython",
    "version": 3
   },
   "file_extension": ".py",
   "mimetype": "text/x-python",
   "name": "python",
   "nbconvert_exporter": "python",
   "pygments_lexer": "ipython3",
   "version": "3.6.7"
  },
  "latex_envs": {
   "LaTeX_envs_menu_present": true,
   "autoclose": true,
   "autocomplete": true,
   "bibliofile": "biblio.bib",
   "cite_by": "apalike",
   "current_citInitial": 1,
   "eqLabelWithNumbers": true,
   "eqNumInitial": 1,
   "hotkeys": {
    "equation": "Ctrl-E",
    "itemize": "Ctrl-I"
   },
   "labels_anchors": false,
   "latex_user_defs": false,
   "report_style_numbering": false,
   "user_envs_cfg": false
  },
  "toc": {
   "base_numbering": 1,
   "nav_menu": {},
   "number_sections": true,
   "sideBar": true,
   "skip_h1_title": false,
   "title_cell": "Table of Contents",
   "title_sidebar": "Contents",
   "toc_cell": false,
   "toc_position": {},
   "toc_section_display": true,
   "toc_window_display": false
  },
  "varInspector": {
   "cols": {
    "lenName": 16,
    "lenType": 16,
    "lenVar": 40
   },
   "kernels_config": {
    "python": {
     "delete_cmd_postfix": "",
     "delete_cmd_prefix": "del ",
     "library": "var_list.py",
     "varRefreshCmd": "print(var_dic_list())"
    },
    "r": {
     "delete_cmd_postfix": ") ",
     "delete_cmd_prefix": "rm(",
     "library": "var_list.r",
     "varRefreshCmd": "cat(var_dic_list()) "
    }
   },
   "types_to_exclude": [
    "module",
    "function",
    "builtin_function_or_method",
    "instance",
    "_Feature"
   ],
   "window_display": false
  }
 },
 "nbformat": 4,
 "nbformat_minor": 2
}
