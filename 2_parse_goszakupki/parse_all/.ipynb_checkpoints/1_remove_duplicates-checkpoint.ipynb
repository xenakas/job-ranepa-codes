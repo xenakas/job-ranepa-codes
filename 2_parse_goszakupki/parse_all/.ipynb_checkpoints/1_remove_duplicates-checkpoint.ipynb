{
 "cells": [
  {
   "cell_type": "code",
   "execution_count": 2,
   "metadata": {
    "ExecuteTime": {
     "end_time": "2019-10-14T07:27:43.734342Z",
     "start_time": "2019-10-14T07:27:43.513Z"
    }
   },
   "outputs": [],
   "source": [
    "library(RSelenium)\n",
    "library(XML)\n",
    "library(janitor) \n",
    "library(lubridate)\n",
    "library(magrittr)\n",
    "library(dplyr)\n",
    "library(xlsx)"
   ]
  },
  {
   "cell_type": "code",
   "execution_count": 3,
   "metadata": {
    "ExecuteTime": {
     "end_time": "2019-10-14T07:27:52.098952Z",
     "start_time": "2019-10-14T07:27:52.070Z"
    }
   },
   "outputs": [],
   "source": [
    "library(\"readxl\")"
   ]
  },
  {
   "cell_type": "code",
   "execution_count": 17,
   "metadata": {
    "ExecuteTime": {
     "end_time": "2019-10-14T07:45:57.272552Z",
     "start_time": "2019-10-14T07:45:56.987Z"
    }
   },
   "outputs": [],
   "source": [
    "goszak_df = read_excel('small_goszakupki_3.xlsx') #, header=TRUE, colClasses=NA)"
   ]
  },
  {
   "cell_type": "code",
   "execution_count": 18,
   "metadata": {
    "ExecuteTime": {
     "end_time": "2019-10-14T07:46:01.880808Z",
     "start_time": "2019-10-14T07:45:58.225Z"
    }
   },
   "outputs": [],
   "source": [
    "goszak_df = goszak_df  %>% clean_names()"
   ]
  },
  {
   "cell_type": "code",
   "execution_count": 20,
   "metadata": {
    "ExecuteTime": {
     "end_time": "2019-10-14T07:46:11.888518Z",
     "start_time": "2019-10-14T07:46:00.941Z"
    }
   },
   "outputs": [],
   "source": [
    "goszak_df['all_indexes'] = goszak_df['index_name']"
   ]
  },
  {
   "cell_type": "code",
   "execution_count": 25,
   "metadata": {
    "ExecuteTime": {
     "end_time": "2019-10-14T07:46:46.697909Z",
     "start_time": "2019-10-14T07:46:45.921Z"
    }
   },
   "outputs": [],
   "source": [
    "# goszak_df"
   ]
  },
  {
   "cell_type": "code",
   "execution_count": 26,
   "metadata": {
    "ExecuteTime": {
     "end_time": "2019-10-14T07:46:54.552045Z",
     "start_time": "2019-10-14T07:46:54.401Z"
    },
    "scrolled": false
   },
   "outputs": [],
   "source": [
    "dupies  <-  goszak_df  %>% get_dupes(purchase_number)   %>%  select(purchase_number,dupe_count, index_name)"
   ]
  },
  {
   "cell_type": "code",
   "execution_count": 34,
   "metadata": {
    "ExecuteTime": {
     "end_time": "2019-10-14T07:53:40.095178Z",
     "start_time": "2019-10-14T07:53:40.084Z"
    }
   },
   "outputs": [
    {
     "data": {
      "text/html": [
       "<ol class=list-inline>\n",
       "\t<li>12898</li>\n",
       "\t<li>3</li>\n",
       "</ol>\n"
      ],
      "text/latex": [
       "\\begin{enumerate*}\n",
       "\\item 12898\n",
       "\\item 3\n",
       "\\end{enumerate*}\n"
      ],
      "text/markdown": [
       "1. 12898\n",
       "2. 3\n",
       "\n",
       "\n"
      ],
      "text/plain": [
       "[1] 12898     3"
      ]
     },
     "metadata": {},
     "output_type": "display_data"
    }
   ],
   "source": [
    "dupies  %>%  dim()"
   ]
  },
  {
   "cell_type": "code",
   "execution_count": 33,
   "metadata": {
    "ExecuteTime": {
     "end_time": "2019-10-14T07:52:29.244190Z",
     "start_time": "2019-10-14T07:50:33.075Z"
    }
   },
   "outputs": [],
   "source": [
    "# gos1  <-  goszak_df  %>% get_dupes(purchase_number) \n",
    "# write.xlsx(gos1, 'duplicates_small_goszakupki.xlsx')"
   ]
  },
  {
   "cell_type": "code",
   "execution_count": 42,
   "metadata": {
    "ExecuteTime": {
     "end_time": "2019-10-14T07:56:09.408108Z",
     "start_time": "2019-10-14T07:56:05.099Z"
    }
   },
   "outputs": [],
   "source": [
    "# dupies[,1]"
   ]
  },
  {
   "cell_type": "code",
   "execution_count": 35,
   "metadata": {
    "ExecuteTime": {
     "end_time": "2019-10-14T07:53:47.674530Z",
     "start_time": "2019-10-14T07:53:47.511Z"
    }
   },
   "outputs": [
    {
     "data": {
      "text/html": [
       "<ol class=list-inline>\n",
       "\t<li>2779</li>\n",
       "\t<li>16884</li>\n",
       "\t<li>21665</li>\n",
       "</ol>\n"
      ],
      "text/latex": [
       "\\begin{enumerate*}\n",
       "\\item 2779\n",
       "\\item 16884\n",
       "\\item 21665\n",
       "\\end{enumerate*}\n"
      ],
      "text/markdown": [
       "1. 2779\n",
       "2. 16884\n",
       "3. 21665\n",
       "\n",
       "\n"
      ],
      "text/plain": [
       "[1]  2779 16884 21665"
      ]
     },
     "metadata": {},
     "output_type": "display_data"
    }
   ],
   "source": [
    "dupies[dupies[,1] == unique(dupies$purchase_number)[1],]$index_name"
   ]
  },
  {
   "cell_type": "code",
   "execution_count": 36,
   "metadata": {
    "ExecuteTime": {
     "end_time": "2019-10-14T07:53:58.476663Z",
     "start_time": "2019-10-14T07:53:58.460Z"
    }
   },
   "outputs": [
    {
     "data": {
      "text/html": [
       "'2779, 16884, 21665'"
      ],
      "text/latex": [
       "'2779, 16884, 21665'"
      ],
      "text/markdown": [
       "'2779, 16884, 21665'"
      ],
      "text/plain": [
       "[1] \"2779, 16884, 21665\""
      ]
     },
     "metadata": {},
     "output_type": "display_data"
    }
   ],
   "source": [
    "paste0(dupies[dupies[,1] == unique(dupies$purchase_number)[1],]$index_name, collapse=\", \")"
   ]
  },
  {
   "cell_type": "code",
   "execution_count": 43,
   "metadata": {
    "ExecuteTime": {
     "end_time": "2019-10-14T07:56:19.941432Z",
     "start_time": "2019-10-14T07:56:19.927Z"
    }
   },
   "outputs": [],
   "source": [
    "# goszak_df[,'purchase_number']"
   ]
  },
  {
   "cell_type": "code",
   "execution_count": 44,
   "metadata": {
    "ExecuteTime": {
     "end_time": "2019-10-14T07:57:06.887974Z",
     "start_time": "2019-10-14T07:56:48.740Z"
    }
   },
   "outputs": [],
   "source": [
    "for (i in unique(dupies$purchase_number)){\n",
    "    goszak_df[goszak_df[,'purchase_number'] == i,]$all_indexes = paste0(dupies[dupies[,1] == i,]$index_name, collapse=\", \")\n",
    "}"
   ]
  },
  {
   "cell_type": "code",
   "execution_count": 48,
   "metadata": {
    "ExecuteTime": {
     "end_time": "2019-10-14T07:57:36.741042Z",
     "start_time": "2019-10-14T07:57:36.085Z"
    }
   },
   "outputs": [
    {
     "data": {
      "text/html": [
       "<ol class=list-inline>\n",
       "\t<li>'index_name'</li>\n",
       "\t<li>'price'</li>\n",
       "\t<li>'колич_авто_в_закупке'</li>\n",
       "\t<li>'коробка_передач'</li>\n",
       "\t<li>'date'</li>\n",
       "\t<li>'date2'</li>\n",
       "\t<li>'date3'</li>\n",
       "\t<li>'org_address'</li>\n",
       "\t<li>'марка'</li>\n",
       "\t<li>'модель'</li>\n",
       "\t<li>'коробка'</li>\n",
       "\t<li>'привод'</li>\n",
       "\t<li>'тип_привода'</li>\n",
       "\t<li>'ширина'</li>\n",
       "\t<li>'объем_двигателя'</li>\n",
       "\t<li>'длина'</li>\n",
       "\t<li>'объём'</li>\n",
       "\t<li>'макс_скорость'</li>\n",
       "\t<li>'масса_авто_снаряженная'</li>\n",
       "\t<li>'год_выпуска'</li>\n",
       "\t<li>'объем'</li>\n",
       "\t<li>'количество_опций'</li>\n",
       "\t<li>'объем_двигателя_см'</li>\n",
       "\t<li>'максимальная_скорость_км_ч'</li>\n",
       "\t<li>'версия'</li>\n",
       "\t<li>'описание'</li>\n",
       "\t<li>'мощность_л_с'</li>\n",
       "\t<li>'снаряженная_масса_кг'</li>\n",
       "\t<li>'потребление_топлива_городской_цикл_л_100км'</li>\n",
       "\t<li>'auction'</li>\n",
       "\t<li>'real_price'</li>\n",
       "\t<li>'numb_bidders'</li>\n",
       "\t<li>'purchase_number'</li>\n",
       "\t<li>'filename'</li>\n",
       "\t<li>'sha_id'</li>\n",
       "\t<li>'all_indexes'</li>\n",
       "</ol>\n"
      ],
      "text/latex": [
       "\\begin{enumerate*}\n",
       "\\item 'index\\_name'\n",
       "\\item 'price'\n",
       "\\item 'колич\\_авто\\_в\\_закупке'\n",
       "\\item 'коробка\\_передач'\n",
       "\\item 'date'\n",
       "\\item 'date2'\n",
       "\\item 'date3'\n",
       "\\item 'org\\_address'\n",
       "\\item 'марка'\n",
       "\\item 'модель'\n",
       "\\item 'коробка'\n",
       "\\item 'привод'\n",
       "\\item 'тип\\_привода'\n",
       "\\item 'ширина'\n",
       "\\item 'объем\\_двигателя'\n",
       "\\item 'длина'\n",
       "\\item 'объём'\n",
       "\\item 'макс\\_скорость'\n",
       "\\item 'масса\\_авто\\_снаряженная'\n",
       "\\item 'год\\_выпуска'\n",
       "\\item 'объем'\n",
       "\\item 'количество\\_опций'\n",
       "\\item 'объем\\_двигателя\\_см'\n",
       "\\item 'максимальная\\_скорость\\_км\\_ч'\n",
       "\\item 'версия'\n",
       "\\item 'описание'\n",
       "\\item 'мощность\\_л\\_с'\n",
       "\\item 'снаряженная\\_масса\\_кг'\n",
       "\\item 'потребление\\_топлива\\_городской\\_цикл\\_л\\_100км'\n",
       "\\item 'auction'\n",
       "\\item 'real\\_price'\n",
       "\\item 'numb\\_bidders'\n",
       "\\item 'purchase\\_number'\n",
       "\\item 'filename'\n",
       "\\item 'sha\\_id'\n",
       "\\item 'all\\_indexes'\n",
       "\\end{enumerate*}\n"
      ],
      "text/markdown": [
       "1. 'index_name'\n",
       "2. 'price'\n",
       "3. 'колич_авто_в_закупке'\n",
       "4. 'коробка_передач'\n",
       "5. 'date'\n",
       "6. 'date2'\n",
       "7. 'date3'\n",
       "8. 'org_address'\n",
       "9. 'марка'\n",
       "10. 'модель'\n",
       "11. 'коробка'\n",
       "12. 'привод'\n",
       "13. 'тип_привода'\n",
       "14. 'ширина'\n",
       "15. 'объем_двигателя'\n",
       "16. 'длина'\n",
       "17. 'объём'\n",
       "18. 'макс_скорость'\n",
       "19. 'масса_авто_снаряженная'\n",
       "20. 'год_выпуска'\n",
       "21. 'объем'\n",
       "22. 'количество_опций'\n",
       "23. 'объем_двигателя_см'\n",
       "24. 'максимальная_скорость_км_ч'\n",
       "25. 'версия'\n",
       "26. 'описание'\n",
       "27. 'мощность_л_с'\n",
       "28. 'снаряженная_масса_кг'\n",
       "29. 'потребление_топлива_городской_цикл_л_100км'\n",
       "30. 'auction'\n",
       "31. 'real_price'\n",
       "32. 'numb_bidders'\n",
       "33. 'purchase_number'\n",
       "34. 'filename'\n",
       "35. 'sha_id'\n",
       "36. 'all_indexes'\n",
       "\n",
       "\n"
      ],
      "text/plain": [
       " [1] \"index_name\"                                \n",
       " [2] \"price\"                                     \n",
       " [3] \"колич_авто_в_закупке\"                      \n",
       " [4] \"коробка_передач\"                           \n",
       " [5] \"date\"                                      \n",
       " [6] \"date2\"                                     \n",
       " [7] \"date3\"                                     \n",
       " [8] \"org_address\"                               \n",
       " [9] \"марка\"                                     \n",
       "[10] \"модель\"                                    \n",
       "[11] \"коробка\"                                   \n",
       "[12] \"привод\"                                    \n",
       "[13] \"тип_привода\"                               \n",
       "[14] \"ширина\"                                    \n",
       "[15] \"объем_двигателя\"                           \n",
       "[16] \"длина\"                                     \n",
       "[17] \"объём\"                                     \n",
       "[18] \"макс_скорость\"                             \n",
       "[19] \"масса_авто_снаряженная\"                    \n",
       "[20] \"год_выпуска\"                               \n",
       "[21] \"объем\"                                     \n",
       "[22] \"количество_опций\"                          \n",
       "[23] \"объем_двигателя_см\"                        \n",
       "[24] \"максимальная_скорость_км_ч\"                \n",
       "[25] \"версия\"                                    \n",
       "[26] \"описание\"                                  \n",
       "[27] \"мощность_л_с\"                              \n",
       "[28] \"снаряженная_масса_кг\"                      \n",
       "[29] \"потребление_топлива_городской_цикл_л_100км\"\n",
       "[30] \"auction\"                                   \n",
       "[31] \"real_price\"                                \n",
       "[32] \"numb_bidders\"                              \n",
       "[33] \"purchase_number\"                           \n",
       "[34] \"filename\"                                  \n",
       "[35] \"sha_id\"                                    \n",
       "[36] \"all_indexes\"                               "
      ]
     },
     "metadata": {},
     "output_type": "display_data"
    }
   ],
   "source": [
    "goszak_df  %>%  colnames()"
   ]
  },
  {
   "cell_type": "code",
   "execution_count": 47,
   "metadata": {
    "ExecuteTime": {
     "end_time": "2019-10-14T07:57:29.284074Z",
     "start_time": "2019-10-14T07:57:19.790Z"
    }
   },
   "outputs": [
    {
     "data": {
      "text/html": [
       "<ol class=list-inline>\n",
       "\t<li>24833</li>\n",
       "\t<li>36</li>\n",
       "</ol>\n"
      ],
      "text/latex": [
       "\\begin{enumerate*}\n",
       "\\item 24833\n",
       "\\item 36\n",
       "\\end{enumerate*}\n"
      ],
      "text/markdown": [
       "1. 24833\n",
       "2. 36\n",
       "\n",
       "\n"
      ],
      "text/plain": [
       "[1] 24833    36"
      ]
     },
     "metadata": {},
     "output_type": "display_data"
    }
   ],
   "source": [
    "goszak_df   %>%  dim()"
   ]
  },
  {
   "cell_type": "code",
   "execution_count": 49,
   "metadata": {
    "ExecuteTime": {
     "end_time": "2019-10-14T07:58:59.592089Z",
     "start_time": "2019-10-14T07:58:59.547Z"
    }
   },
   "outputs": [],
   "source": [
    "goszak_df  <-  goszak_df  %>%  distinct(purchase_number, price, колич_авто_в_закупке, коробка_передач, марка, модель, привод, ширина, объем_двигателя, длина, макс_скорость, масса_авто_снаряженная, год_выпуска, мощность_л_с, потребление_топлива_городской_цикл_л_100км,  .keep_all= TRUE)  "
   ]
  },
  {
   "cell_type": "code",
   "execution_count": 50,
   "metadata": {
    "ExecuteTime": {
     "end_time": "2019-10-14T07:59:05.904342Z",
     "start_time": "2019-10-14T07:59:00.568Z"
    }
   },
   "outputs": [
    {
     "data": {
      "text/html": [
       "<ol class=list-inline>\n",
       "\t<li>19542</li>\n",
       "\t<li>36</li>\n",
       "</ol>\n"
      ],
      "text/latex": [
       "\\begin{enumerate*}\n",
       "\\item 19542\n",
       "\\item 36\n",
       "\\end{enumerate*}\n"
      ],
      "text/markdown": [
       "1. 19542\n",
       "2. 36\n",
       "\n",
       "\n"
      ],
      "text/plain": [
       "[1] 19542    36"
      ]
     },
     "metadata": {},
     "output_type": "display_data"
    }
   ],
   "source": [
    "goszak_df  %>%  dim()"
   ]
  },
  {
   "cell_type": "code",
   "execution_count": 51,
   "metadata": {
    "ExecuteTime": {
     "end_time": "2019-10-14T07:59:14.621793Z",
     "start_time": "2019-10-14T07:59:14.512Z"
    }
   },
   "outputs": [],
   "source": [
    "dupies  <-  goszak_df %>% get_dupes(purchase_number) "
   ]
  },
  {
   "cell_type": "code",
   "execution_count": 53,
   "metadata": {
    "ExecuteTime": {
     "end_time": "2019-10-14T07:59:40.090409Z",
     "start_time": "2019-10-14T07:59:40.083Z"
    }
   },
   "outputs": [],
   "source": [
    "# dupies[dupies$purchase_number == unique(dupies$purchase_number)[1],][1,] %?% dupies[dupies$purchase_number == unique(dupies$purchase_number)[1],][1,]"
   ]
  },
  {
   "cell_type": "code",
   "execution_count": 54,
   "metadata": {
    "ExecuteTime": {
     "end_time": "2019-10-14T07:59:50.286151Z",
     "start_time": "2019-10-14T07:59:50.274Z"
    }
   },
   "outputs": [],
   "source": [
    "# coalesce(unname(unlist(a)), unname(unlist(b)), unname(unlist(b)), unname(unlist(a)))"
   ]
  },
  {
   "cell_type": "code",
   "execution_count": 203,
   "metadata": {
    "ExecuteTime": {
     "end_time": "2019-09-29T14:19:29.293529Z",
     "start_time": "2019-09-29T14:19:29.271Z"
    }
   },
   "outputs": [],
   "source": [
    "# unique(dupies$purchase_number)"
   ]
  },
  {
   "cell_type": "code",
   "execution_count": 55,
   "metadata": {
    "ExecuteTime": {
     "end_time": "2019-10-14T08:00:25.351360Z",
     "start_time": "2019-10-14T08:00:25.325Z"
    }
   },
   "outputs": [],
   "source": [
    "bb = goszak_df[goszak_df$purchase_number ==  unique(dupies$purchase_number)[1], ]  %>%  dim"
   ]
  },
  {
   "cell_type": "code",
   "execution_count": 58,
   "metadata": {
    "ExecuteTime": {
     "end_time": "2019-10-14T08:02:20.596203Z",
     "start_time": "2019-10-14T08:02:18.807Z"
    }
   },
   "outputs": [],
   "source": [
    "bb  <-  c()\n",
    "for (i in unique(dupies$purchase_number)){\n",
    "    k  <-  goszak_df[goszak_df$purchase_number ==  i, ]  %>%  dim\n",
    "    bb  <-  c(bb, k[1])\n",
    "    }"
   ]
  },
  {
   "cell_type": "code",
   "execution_count": 60,
   "metadata": {
    "ExecuteTime": {
     "end_time": "2019-10-14T08:02:35.342398Z",
     "start_time": "2019-10-14T08:02:29.757Z"
    }
   },
   "outputs": [
    {
     "data": {
      "text/html": [
       "<ol class=list-inline>\n",
       "\t<li>2</li>\n",
       "\t<li>3</li>\n",
       "\t<li>4</li>\n",
       "\t<li>6</li>\n",
       "\t<li>5</li>\n",
       "</ol>\n"
      ],
      "text/latex": [
       "\\begin{enumerate*}\n",
       "\\item 2\n",
       "\\item 3\n",
       "\\item 4\n",
       "\\item 6\n",
       "\\item 5\n",
       "\\end{enumerate*}\n"
      ],
      "text/markdown": [
       "1. 2\n",
       "2. 3\n",
       "3. 4\n",
       "4. 6\n",
       "5. 5\n",
       "\n",
       "\n"
      ],
      "text/plain": [
       "[1] 2 3 4 6 5"
      ]
     },
     "metadata": {},
     "output_type": "display_data"
    }
   ],
   "source": [
    "unique(bb)"
   ]
  },
  {
   "cell_type": "code",
   "execution_count": 61,
   "metadata": {
    "ExecuteTime": {
     "end_time": "2019-10-14T08:03:25.255505Z",
     "start_time": "2019-10-14T08:03:19.586Z"
    }
   },
   "outputs": [],
   "source": [
    "dims = c()\n",
    "coalesed  <-  list()\n",
    "coun  <- 0\n",
    "\n",
    "for (i in unique(dupies$purchase_number)){\n",
    "    \n",
    "    coun  <- coun + 1\n",
    "    \n",
    "    bb = goszak_df[goszak_df$purchase_number ==  i, ]  %>%  dim\n",
    "    \n",
    "    bb = bb[1]\n",
    "    \n",
    "    if (bb==2){\n",
    "        \n",
    "        coalesed[[coun]]  <-  coalesce(unname(unlist(goszak_df[goszak_df$purchase_number ==  i, ][1,])),\n",
    "         unname(unlist(goszak_df[goszak_df$purchase_number ==  i, ][2,]))\n",
    "        )\n",
    "    }\n",
    "\n",
    "    if (bb==3){\n",
    "        \n",
    "        coalesed[[coun]]  <-  coalesce(unname(unlist(goszak_df[goszak_df$purchase_number ==  i, ][1,])),\n",
    "         unname(unlist(goszak_df[goszak_df$purchase_number ==  i, ][2,])),\n",
    "         unname(unlist(goszak_df[goszak_df$purchase_number ==  i, ][3,]))\n",
    "         \n",
    "        )\n",
    "    }\n",
    "        \n",
    "    \n",
    "    \n",
    "    if (bb==4){\n",
    "        \n",
    "        coalesed[[coun]]  <-  coalesce(unname(unlist(goszak_df[goszak_df$purchase_number ==  i, ][1,])),\n",
    "         unname(unlist(goszak_df[goszak_df$purchase_number ==  i, ][2,])),\n",
    "         unname(unlist(goszak_df[goszak_df$purchase_number ==  i, ][3,])),\n",
    "         unname(unlist(goszak_df[goszak_df$purchase_number ==  i, ][4,]))\n",
    "        )\n",
    "    }\n",
    "    \n",
    "    \n",
    "    \n",
    "    if (bb==5){\n",
    "        \n",
    "        coalesed[[coun]]  <-  coalesce(unname(unlist(goszak_df[goszak_df$purchase_number ==  i, ][1,])),\n",
    "         unname(unlist(goszak_df[goszak_df$purchase_number ==  i, ][2,])),\n",
    "         unname(unlist(goszak_df[goszak_df$purchase_number ==  i, ][3,])),\n",
    "         unname(unlist(goszak_df[goszak_df$purchase_number ==  i, ][4,])),\n",
    "         unname(unlist(goszak_df[goszak_df$purchase_number ==  i, ][5,]))\n",
    "         \n",
    "        )\n",
    "    }\n",
    "\n",
    "    if (bb==6){\n",
    "        \n",
    "        coalesed[[coun]]  <-  coalesce(unname(unlist(goszak_df[goszak_df$purchase_number ==  i, ][1,])),\n",
    "         unname(unlist(goszak_df[goszak_df$purchase_number ==  i, ][2,])),\n",
    "         unname(unlist(goszak_df[goszak_df$purchase_number ==  i, ][3,])),\n",
    "         unname(unlist(goszak_df[goszak_df$purchase_number ==  i, ][4,])),\n",
    "         unname(unlist(goszak_df[goszak_df$purchase_number ==  i, ][5,])),\n",
    "         unname(unlist(goszak_df[goszak_df$purchase_number ==  i, ][6,]))\n",
    "        )\n",
    "    }\n",
    "\n",
    "    \n",
    "    dims = c(dims, bb)\n",
    "    \n",
    "}"
   ]
  },
  {
   "cell_type": "code",
   "execution_count": 62,
   "metadata": {
    "ExecuteTime": {
     "end_time": "2019-10-14T08:03:37.568318Z",
     "start_time": "2019-10-14T08:03:37.525Z"
    }
   },
   "outputs": [],
   "source": [
    "# data.frame(coalesed)\n",
    "\n",
    "df_coal <- data.frame(matrix(unlist(coalesed), nrow=length(coalesed), byrow=T))"
   ]
  },
  {
   "cell_type": "code",
   "execution_count": 63,
   "metadata": {
    "ExecuteTime": {
     "end_time": "2019-10-14T08:03:45.234580Z",
     "start_time": "2019-10-14T08:03:40.780Z"
    }
   },
   "outputs": [],
   "source": [
    "colnames(df_coal)  <-  colnames(goszak_df)"
   ]
  },
  {
   "cell_type": "code",
   "execution_count": 64,
   "metadata": {
    "ExecuteTime": {
     "end_time": "2019-10-14T08:03:52.297984Z",
     "start_time": "2019-10-14T08:03:49.069Z"
    }
   },
   "outputs": [
    {
     "data": {
      "text/html": [
       "<ol class=list-inline>\n",
       "\t<li>19542</li>\n",
       "\t<li>36</li>\n",
       "</ol>\n"
      ],
      "text/latex": [
       "\\begin{enumerate*}\n",
       "\\item 19542\n",
       "\\item 36\n",
       "\\end{enumerate*}\n"
      ],
      "text/markdown": [
       "1. 19542\n",
       "2. 36\n",
       "\n",
       "\n"
      ],
      "text/plain": [
       "[1] 19542    36"
      ]
     },
     "metadata": {},
     "output_type": "display_data"
    },
    {
     "data": {
      "text/html": [
       "<ol class=list-inline>\n",
       "\t<li>14690</li>\n",
       "\t<li>36</li>\n",
       "</ol>\n"
      ],
      "text/latex": [
       "\\begin{enumerate*}\n",
       "\\item 14690\n",
       "\\item 36\n",
       "\\end{enumerate*}\n"
      ],
      "text/markdown": [
       "1. 14690\n",
       "2. 36\n",
       "\n",
       "\n"
      ],
      "text/plain": [
       "[1] 14690    36"
      ]
     },
     "metadata": {},
     "output_type": "display_data"
    }
   ],
   "source": [
    "goszak_df  %>% dim()\n",
    "goszak_df[not(goszak_df$purchase_number %in% unique(dupies$purchase_number)),]  %>%  dim()"
   ]
  },
  {
   "cell_type": "code",
   "execution_count": 65,
   "metadata": {
    "ExecuteTime": {
     "end_time": "2019-10-14T08:04:00.176104Z",
     "start_time": "2019-10-14T08:04:00.153Z"
    }
   },
   "outputs": [],
   "source": [
    "goszak_df = goszak_df[not(goszak_df$purchase_number %in% unique(dupies$purchase_number)),] "
   ]
  },
  {
   "cell_type": "code",
   "execution_count": 66,
   "metadata": {
    "ExecuteTime": {
     "end_time": "2019-10-14T08:04:06.497336Z",
     "start_time": "2019-10-14T08:04:02.286Z"
    }
   },
   "outputs": [],
   "source": [
    "goszak_df = rbind(goszak_df,df_coal)  "
   ]
  },
  {
   "cell_type": "code",
   "execution_count": 67,
   "metadata": {
    "ExecuteTime": {
     "end_time": "2019-10-14T08:04:13.009202Z",
     "start_time": "2019-10-14T08:04:08.203Z"
    }
   },
   "outputs": [
    {
     "data": {
      "text/html": [
       "<ol class=list-inline>\n",
       "\t<li>4852</li>\n",
       "\t<li>37</li>\n",
       "</ol>\n"
      ],
      "text/latex": [
       "\\begin{enumerate*}\n",
       "\\item 4852\n",
       "\\item 37\n",
       "\\end{enumerate*}\n"
      ],
      "text/markdown": [
       "1. 4852\n",
       "2. 37\n",
       "\n",
       "\n"
      ],
      "text/plain": [
       "[1] 4852   37"
      ]
     },
     "metadata": {},
     "output_type": "display_data"
    },
    {
     "data": {
      "text/html": [
       "2264"
      ],
      "text/latex": [
       "2264"
      ],
      "text/markdown": [
       "2264"
      ],
      "text/plain": [
       "[1] 2264"
      ]
     },
     "metadata": {},
     "output_type": "display_data"
    }
   ],
   "source": [
    "dupies  %>%  dim()\n",
    "coalesed  %>%  length()"
   ]
  },
  {
   "cell_type": "code",
   "execution_count": 68,
   "metadata": {
    "ExecuteTime": {
     "end_time": "2019-10-14T08:04:24.353379Z",
     "start_time": "2019-10-14T08:04:24.336Z"
    }
   },
   "outputs": [],
   "source": [
    "goszak_df = goszak_df[order(as.numeric(goszak_df$index_name)), ]"
   ]
  },
  {
   "cell_type": "code",
   "execution_count": 71,
   "metadata": {
    "ExecuteTime": {
     "end_time": "2019-10-14T08:08:20.713526Z",
     "start_time": "2019-10-14T08:08:20.703Z"
    }
   },
   "outputs": [
    {
     "data": {
      "text/html": [
       "<ol class=list-inline>\n",
       "\t<li>16954</li>\n",
       "\t<li>36</li>\n",
       "</ol>\n"
      ],
      "text/latex": [
       "\\begin{enumerate*}\n",
       "\\item 16954\n",
       "\\item 36\n",
       "\\end{enumerate*}\n"
      ],
      "text/markdown": [
       "1. 16954\n",
       "2. 36\n",
       "\n",
       "\n"
      ],
      "text/plain": [
       "[1] 16954    36"
      ]
     },
     "metadata": {},
     "output_type": "display_data"
    }
   ],
   "source": [
    "goszak_df  %>%  dim()"
   ]
  },
  {
   "cell_type": "code",
   "execution_count": 73,
   "metadata": {
    "ExecuteTime": {
     "end_time": "2019-10-14T08:08:40.691359Z",
     "start_time": "2019-10-14T08:08:40.678Z"
    }
   },
   "outputs": [],
   "source": [
    "# goszak_df"
   ]
  },
  {
   "cell_type": "code",
   "execution_count": 76,
   "metadata": {
    "ExecuteTime": {
     "end_time": "2019-10-14T08:13:30.950781Z",
     "start_time": "2019-10-14T08:13:30.941Z"
    }
   },
   "outputs": [],
   "source": [
    "# options(java.parameters = \"-Xmx4000m\")"
   ]
  },
  {
   "cell_type": "code",
   "execution_count": 88,
   "metadata": {
    "ExecuteTime": {
     "end_time": "2019-10-14T08:25:12.102271Z",
     "start_time": "2019-10-14T08:25:11.775Z"
    }
   },
   "outputs": [],
   "source": [
    "saveRDS(goszak_df, 'small_df.rds')"
   ]
  },
  {
   "cell_type": "code",
   "execution_count": 89,
   "metadata": {
    "ExecuteTime": {
     "end_time": "2019-10-14T08:34:19.868597Z",
     "start_time": "2019-10-14T08:34:19.861Z"
    }
   },
   "outputs": [],
   "source": [
    "# write.xlsx(goszak_df, 'small_goszak_no_duplicates.xlsx')"
   ]
  },
  {
   "cell_type": "code",
   "execution_count": 81,
   "metadata": {
    "ExecuteTime": {
     "end_time": "2019-10-14T08:21:24.434673Z",
     "start_time": "2019-10-14T08:21:24.399Z"
    }
   },
   "outputs": [],
   "source": [
    "gos1  <-  goszak_df"
   ]
  },
  {
   "cell_type": "code",
   "execution_count": 82,
   "metadata": {
    "ExecuteTime": {
     "end_time": "2019-10-14T08:21:32.288803Z",
     "start_time": "2019-10-14T08:21:25.097Z"
    }
   },
   "outputs": [],
   "source": [
    "gos1[] <- lapply(gos1, as.character)"
   ]
  },
  {
   "cell_type": "code",
   "execution_count": 84,
   "metadata": {
    "ExecuteTime": {
     "end_time": "2019-10-14T08:21:48.427557Z",
     "start_time": "2019-10-14T08:21:45.589Z"
    }
   },
   "outputs": [],
   "source": [
    "# gos1"
   ]
  },
  {
   "cell_type": "code",
   "execution_count": 90,
   "metadata": {
    "ExecuteTime": {
     "end_time": "2019-10-14T08:34:27.924956Z",
     "start_time": "2019-10-14T08:34:27.852Z"
    }
   },
   "outputs": [],
   "source": [
    "# write.csv(gos1, 'small_goszak_no_duplicates.csv')"
   ]
  },
  {
   "cell_type": "code",
   "execution_count": null,
   "metadata": {},
   "outputs": [],
   "source": []
  }
 ],
 "metadata": {
  "hide_input": false,
  "kernelspec": {
   "display_name": "R 3.5.1",
   "language": "R",
   "name": "ir"
  },
  "language_info": {
   "codemirror_mode": "r",
   "file_extension": ".r",
   "mimetype": "text/x-r-source",
   "name": "R",
   "pygments_lexer": "r",
   "version": "3.5.2"
  },
  "latex_envs": {
   "LaTeX_envs_menu_present": true,
   "autoclose": true,
   "autocomplete": true,
   "bibliofile": "biblio.bib",
   "cite_by": "apalike",
   "current_citInitial": 1,
   "eqLabelWithNumbers": true,
   "eqNumInitial": 1,
   "hotkeys": {
    "equation": "Ctrl-E",
    "itemize": "Ctrl-I"
   },
   "labels_anchors": false,
   "latex_user_defs": false,
   "report_style_numbering": false,
   "user_envs_cfg": false
  },
  "toc": {
   "base_numbering": 1,
   "nav_menu": {},
   "number_sections": true,
   "sideBar": true,
   "skip_h1_title": false,
   "title_cell": "Table of Contents",
   "title_sidebar": "Contents",
   "toc_cell": false,
   "toc_position": {},
   "toc_section_display": true,
   "toc_window_display": false
  },
  "varInspector": {
   "cols": {
    "lenName": 16,
    "lenType": 16,
    "lenVar": 40
   },
   "kernels_config": {
    "python": {
     "delete_cmd_postfix": "",
     "delete_cmd_prefix": "del ",
     "library": "var_list.py",
     "varRefreshCmd": "print(var_dic_list())"
    },
    "r": {
     "delete_cmd_postfix": ") ",
     "delete_cmd_prefix": "rm(",
     "library": "var_list.r",
     "varRefreshCmd": "cat(var_dic_list()) "
    }
   },
   "types_to_exclude": [
    "module",
    "function",
    "builtin_function_or_method",
    "instance",
    "_Feature"
   ],
   "window_display": false
  }
 },
 "nbformat": 4,
 "nbformat_minor": 2
}
