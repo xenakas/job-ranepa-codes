{
 "cells": [
  {
   "cell_type": "code",
   "execution_count": 81,
   "metadata": {
    "ExecuteTime": {
     "end_time": "2019-10-14T09:42:44.373852Z",
     "start_time": "2019-10-14T09:42:44.336Z"
    }
   },
   "outputs": [],
   "source": [
    "library(RSelenium)\n",
    "library(XML)\n",
    "library(janitor) \n",
    "library(lubridate)\n",
    "library(magrittr)\n",
    "library(dplyr)\n",
    "library(xlsx)"
   ]
  },
  {
   "cell_type": "code",
   "execution_count": 90,
   "metadata": {
    "ExecuteTime": {
     "end_time": "2019-10-14T10:06:27.751122Z",
     "start_time": "2019-10-14T10:06:27.736Z"
    }
   },
   "outputs": [],
   "source": [
    "remDr <- remoteDriver(\n",
    "  port = 4445L\n",
    ")"
   ]
  },
  {
   "cell_type": "code",
   "execution_count": 259,
   "metadata": {
    "ExecuteTime": {
     "end_time": "2019-10-19T23:35:16.289691Z",
     "start_time": "2019-10-19T23:35:14.705Z"
    }
   },
   "outputs": [
    {
     "name": "stdout",
     "output_type": "stream",
     "text": [
      "[1] \"Connecting to remote server\"\n",
      "$applicationCacheEnabled\n",
      "[1] TRUE\n",
      "\n",
      "$rotatable\n",
      "[1] FALSE\n",
      "\n",
      "$handlesAlerts\n",
      "[1] TRUE\n",
      "\n",
      "$databaseEnabled\n",
      "[1] TRUE\n",
      "\n",
      "$version\n",
      "[1] \"45.0.2\"\n",
      "\n",
      "$platform\n",
      "[1] \"LINUX\"\n",
      "\n",
      "$nativeEvents\n",
      "[1] FALSE\n",
      "\n",
      "$acceptSslCerts\n",
      "[1] TRUE\n",
      "\n",
      "$webdriver.remote.sessionid\n",
      "[1] \"f3862aad-9a95-4ccb-8dd4-7caa8059bf27\"\n",
      "\n",
      "$webStorageEnabled\n",
      "[1] TRUE\n",
      "\n",
      "$locationContextEnabled\n",
      "[1] TRUE\n",
      "\n",
      "$browserName\n",
      "[1] \"firefox\"\n",
      "\n",
      "$takesScreenshot\n",
      "[1] TRUE\n",
      "\n",
      "$javascriptEnabled\n",
      "[1] TRUE\n",
      "\n",
      "$cssSelectorsEnabled\n",
      "[1] TRUE\n",
      "\n",
      "$id\n",
      "[1] \"f3862aad-9a95-4ccb-8dd4-7caa8059bf27\"\n",
      "\n"
     ]
    }
   ],
   "source": [
    "remDr$open()# Now open TightVNC to follow along with Selenium driving the browser. Set 192.168.99.100:5901 and password: secret# navigate to the main page\n",
    "# remDr$navigate(\"https://docs.google.com/spreadsheets/d/1o1PlLIQS8v-XSuEz1eqZB80kcJk9xg5lsbueB7mTg1U/pub?output=html&widget=true#gid=690408156\")# https://docs.google.com/spreadsheets/d/1o1PlLIQS8v-XSuEz1eqZB80kcJk9xg5lsbueB7mTg1U/pub?output=html&widget=true#gid=552987877# look for table element"
   ]
  },
  {
   "cell_type": "code",
   "execution_count": 5,
   "metadata": {
    "ExecuteTime": {
     "end_time": "2019-10-14T08:38:48.156463Z",
     "start_time": "2019-10-14T08:38:47.916Z"
    }
   },
   "outputs": [
    {
     "data": {
      "text/html": [
       "<ol>\n",
       "\t<li>NULL</li>\n",
       "\t<li>NULL</li>\n",
       "</ol>\n"
      ],
      "text/latex": [
       "\\begin{enumerate}\n",
       "\\item NULL\n",
       "\\item NULL\n",
       "\\end{enumerate}\n"
      ],
      "text/markdown": [
       "1. NULL\n",
       "2. NULL\n",
       "\n",
       "\n"
      ],
      "text/plain": [
       "[[1]]\n",
       "NULL\n",
       "\n",
       "[[2]]\n",
       "NULL\n"
      ]
     },
     "metadata": {},
     "output_type": "display_data"
    }
   ],
   "source": [
    "# remDr$closeall()"
   ]
  },
  {
   "cell_type": "code",
   "execution_count": 228,
   "metadata": {
    "ExecuteTime": {
     "end_time": "2019-10-19T14:45:34.228987Z",
     "start_time": "2019-10-19T14:45:32.973Z"
    }
   },
   "outputs": [],
   "source": [
    "remDr$navigate(\"http://zakupki.gov.ru/epz/main/public/home.html\")\n"
   ]
  },
  {
   "cell_type": "code",
   "execution_count": 8,
   "metadata": {
    "ExecuteTime": {
     "end_time": "2019-10-14T08:39:04.261005Z",
     "start_time": "2019-10-14T08:39:04.244Z"
    }
   },
   "outputs": [],
   "source": [
    "library(\"readxl\")"
   ]
  },
  {
   "cell_type": "code",
   "execution_count": 9,
   "metadata": {
    "ExecuteTime": {
     "end_time": "2019-10-14T08:39:16.215934Z",
     "start_time": "2019-10-14T08:39:15.604Z"
    }
   },
   "outputs": [],
   "source": [
    "goszak_df = read_excel('1_small_goszak_no_duplicates.xlsx') #, header=TRUE, colClasses=NA)"
   ]
  },
  {
   "cell_type": "code",
   "execution_count": 14,
   "metadata": {
    "ExecuteTime": {
     "end_time": "2019-10-14T08:43:11.616617Z",
     "start_time": "2019-10-14T08:43:11.596Z"
    }
   },
   "outputs": [],
   "source": [
    "goszak_df['completed_car_purchase']  <-  NA"
   ]
  },
  {
   "cell_type": "code",
   "execution_count": 16,
   "metadata": {
    "ExecuteTime": {
     "end_time": "2019-10-14T08:43:22.246212Z",
     "start_time": "2019-10-14T08:43:22.233Z"
    }
   },
   "outputs": [],
   "source": [
    "# goszak_df"
   ]
  },
  {
   "cell_type": "code",
   "execution_count": 17,
   "metadata": {
    "ExecuteTime": {
     "end_time": "2019-10-14T08:43:24.258450Z",
     "start_time": "2019-10-14T08:43:24.240Z"
    }
   },
   "outputs": [],
   "source": [
    "goszak_df_kolich = goszak_df  %>%  select('index_no_dupes', 'purchase_number', 'completed_car_purchase',  'price', 'auction',  'колич_авто_в_закупке')"
   ]
  },
  {
   "cell_type": "code",
   "execution_count": 18,
   "metadata": {
    "ExecuteTime": {
     "end_time": "2019-10-14T08:43:29.005603Z",
     "start_time": "2019-10-14T08:43:28.992Z"
    }
   },
   "outputs": [
    {
     "data": {
      "text/html": [
       "'character'"
      ],
      "text/latex": [
       "'character'"
      ],
      "text/markdown": [
       "'character'"
      ],
      "text/plain": [
       "[1] \"character\""
      ]
     },
     "metadata": {},
     "output_type": "display_data"
    }
   ],
   "source": [
    "typeof(goszak_df_kolich[[1,2]])"
   ]
  },
  {
   "cell_type": "code",
   "execution_count": 207,
   "metadata": {
    "ExecuteTime": {
     "end_time": "2019-10-19T14:21:57.112870Z",
     "start_time": "2019-10-19T14:21:57.093Z"
    }
   },
   "outputs": [],
   "source": [
    "# goszak_df"
   ]
  },
  {
   "cell_type": "markdown",
   "metadata": {},
   "source": [
    "#### Parse auction"
   ]
  },
  {
   "cell_type": "code",
   "execution_count": 19,
   "metadata": {
    "ExecuteTime": {
     "end_time": "2019-10-14T08:43:35.308836Z",
     "start_time": "2019-10-14T08:43:35.282Z"
    }
   },
   "outputs": [],
   "source": [
    "table_auction = data.frame(matrix(NA, nrow = 0, ncol = 3))\n",
    "colnames(table_auction) = c('V1','V2','V3') "
   ]
  },
  {
   "cell_type": "code",
   "execution_count": 20,
   "metadata": {
    "ExecuteTime": {
     "end_time": "2019-10-14T08:43:39.340223Z",
     "start_time": "2019-10-14T08:43:39.302Z"
    }
   },
   "outputs": [
    {
     "data": {
      "text/html": [
       "<table>\n",
       "<thead><tr><th scope=col>V1</th><th scope=col>V2</th><th scope=col>V3</th></tr></thead>\n",
       "<tbody>\n",
       "</tbody>\n",
       "</table>\n"
      ],
      "text/latex": [
       "\\begin{tabular}{r|lll}\n",
       " V1 & V2 & V3\\\\\n",
       "\\hline\n",
       "\\end{tabular}\n"
      ],
      "text/markdown": [
       "\n",
       "V1 | V2 | V3 | \n",
       "||\n",
       "\n",
       "\n"
      ],
      "text/plain": [
       "     V1 V2 V3"
      ]
     },
     "metadata": {},
     "output_type": "display_data"
    }
   ],
   "source": [
    "table_auction"
   ]
  },
  {
   "cell_type": "code",
   "execution_count": 21,
   "metadata": {
    "ExecuteTime": {
     "end_time": "2019-10-14T08:43:42.969946Z",
     "start_time": "2019-10-14T08:43:42.961Z"
    }
   },
   "outputs": [],
   "source": [
    "tables_list  <-  list()"
   ]
  },
  {
   "cell_type": "code",
   "execution_count": 22,
   "metadata": {
    "ExecuteTime": {
     "end_time": "2019-10-14T08:43:57.495704Z",
     "start_time": "2019-10-14T08:43:56.905Z"
    }
   },
   "outputs": [],
   "source": [
    "webElem <- remDr$findElement(using = \"css\", \"#quickSearchForm_header_searchString\")\n",
    "webElem$highlightElement()"
   ]
  },
  {
   "cell_type": "code",
   "execution_count": 54,
   "metadata": {
    "ExecuteTime": {
     "end_time": "2019-10-14T08:56:07.039949Z",
     "start_time": "2019-10-14T08:56:01.439Z"
    }
   },
   "outputs": [],
   "source": [
    "for (i in 1){\n",
    "    remDr$navigate(\"http://zakupki.gov.ru/epz/main/public/home.html\")\n",
    "    Sys.sleep(2)\n",
    "    webElem <- remDr$findElement(using = \"css\", \"#quickSearchForm_header_searchString\")\n",
    "    # webElem$highlightElement()\n",
    "    webElem$sendKeysToElement(list(goszak_df_kolich[[i,2]], key = \"enter\"))\n",
    "    \n",
    "    zak_desc  <-  list()\n",
    "    \n",
    "    zak_zav  <- remDr$findElement(using = \"css\", \".registry-entry__header-top__title\")\n",
    "#     zak_zav$highlightElement()\n",
    "    zak_desc[[1]]  <-  zak_zav$getElementText()[[1]]\n",
    "    \n",
    "    obj_type  <- remDr$findElement(using = \"css\", \".registry-entry__body-value\")\n",
    "#     obj_type$highlightElement()\n",
    "    zak_desc[[2]]  <-  obj_type$getElementText()[[1]]\n",
    "    \n",
    "#     doc <- htmlParse(remDr$getPageSource()[[1]])\n",
    "#     table_tmp <- readHTMLTable(doc)\n",
    "    tables_list[[i]] = zak_desc\n",
    "    Sys.sleep(2)\n",
    "}"
   ]
  },
  {
   "cell_type": "code",
   "execution_count": 57,
   "metadata": {
    "ExecuteTime": {
     "end_time": "2019-10-14T08:56:22.139205Z",
     "start_time": "2019-10-14T08:56:22.129Z"
    }
   },
   "outputs": [],
   "source": [
    "# tables_list"
   ]
  },
  {
   "cell_type": "code",
   "execution_count": 74,
   "metadata": {
    "ExecuteTime": {
     "end_time": "2019-10-14T09:10:45.186449Z",
     "start_time": "2019-10-14T09:10:45.177Z"
    }
   },
   "outputs": [],
   "source": [
    "collecting_auctions  <- function(tables_list){\n",
    "    if (length(tables_list)>dim(goszak_df_kolich)[1]){print(2500)}\n",
    "    else{\n",
    "    for (i in (length(tables_list) + 1):dim(goszak_df_kolich)[1]){\n",
    "        remDr$navigate(\"http://zakupki.gov.ru/epz/main/public/home.html\")\n",
    "        Sys.sleep(2)\n",
    "        webElem <- remDr$findElement(using = \"css\", \"#quickSearchForm_header_searchString\")\n",
    "        # webElem$highlightElement()\n",
    "        webElem$sendKeysToElement(list(goszak_df_kolich[[i,2]], key = \"enter\"))\n",
    "       \n",
    "        Sys.sleep(2)\n",
    "        \n",
    "        zak_desc  <-  list()\n",
    "    \n",
    "        zak_zav  <- remDr$findElement(using = \"css\", \".registry-entry__header-top__title\")\n",
    "    #     zak_zav$highlightElement()\n",
    "        zak_desc[[1]]  <-  zak_zav$getElementText()[[1]]\n",
    "\n",
    "        obj_type  <- remDr$findElement(using = \"css\", \".registry-entry__body-value\")\n",
    "    #     obj_type$highlightElement()\n",
    "        zak_desc[[2]]  <-  obj_type$getElementText()[[1]]\n",
    "\n",
    "    #     doc <- htmlParse(remDr$getPageSource()[[1]])\n",
    "    #     table_tmp <- readHTMLTable(doc)\n",
    "        tables_list[[i]] = zak_desc\n",
    "        \n",
    "        \n",
    "        \n",
    "        Sys.sleep(2)\n",
    "        return(tables_list)        \n",
    "        \n",
    "    }\n",
    "    }\n",
    "    \n",
    "    }"
   ]
  },
  {
   "cell_type": "code",
   "execution_count": 59,
   "metadata": {
    "ExecuteTime": {
     "end_time": "2019-10-14T08:57:52.842201Z",
     "start_time": "2019-10-14T08:57:52.831Z"
    }
   },
   "outputs": [
    {
     "data": {
      "text/html": [
       "16954"
      ],
      "text/latex": [
       "16954"
      ],
      "text/markdown": [
       "16954"
      ],
      "text/plain": [
       "[1] 16954"
      ]
     },
     "metadata": {},
     "output_type": "display_data"
    }
   ],
   "source": [
    "dim(goszak_df_kolich)[1]"
   ]
  },
  {
   "cell_type": "code",
   "execution_count": 208,
   "metadata": {
    "ExecuteTime": {
     "end_time": "2019-10-19T14:22:48.921779Z",
     "start_time": "2019-10-19T14:22:48.894Z"
    }
   },
   "outputs": [],
   "source": [
    "# goszak_df_kolich"
   ]
  },
  {
   "cell_type": "code",
   "execution_count": 214,
   "metadata": {
    "ExecuteTime": {
     "end_time": "2019-10-19T14:24:48.273688Z",
     "start_time": "2019-10-19T14:24:41.002Z"
    }
   },
   "outputs": [],
   "source": [
    "tables_list  <-  collecting_auctions(tables_list)"
   ]
  },
  {
   "cell_type": "code",
   "execution_count": 163,
   "metadata": {
    "ExecuteTime": {
     "end_time": "2019-10-18T17:31:13.495908Z",
     "start_time": "2019-10-18T17:31:13.482Z"
    }
   },
   "outputs": [],
   "source": [
    "n_12343  <-  list()"
   ]
  },
  {
   "cell_type": "code",
   "execution_count": 218,
   "metadata": {
    "ExecuteTime": {
     "end_time": "2019-10-19T14:38:28.535245Z",
     "start_time": "2019-10-19T14:38:28.521Z"
    }
   },
   "outputs": [],
   "source": [
    "n_12343[[1]]  <- 'Поиск не дал результатов'\n",
    "n_12343[[2]]  <- 'Процедура отменена'"
   ]
  },
  {
   "cell_type": "code",
   "execution_count": 241,
   "metadata": {
    "ExecuteTime": {
     "end_time": "2019-10-19T15:02:27.936995Z",
     "start_time": "2019-10-19T15:02:27.927Z"
    }
   },
   "outputs": [
    {
     "data": {
      "text/html": [
       "<ol>\n",
       "\t<li>'Поиск не дал результатов'</li>\n",
       "\t<li>'Процедура отменена'</li>\n",
       "</ol>\n"
      ],
      "text/latex": [
       "\\begin{enumerate}\n",
       "\\item 'Поиск не дал результатов'\n",
       "\\item 'Процедура отменена'\n",
       "\\end{enumerate}\n"
      ],
      "text/markdown": [
       "1. 'Поиск не дал результатов'\n",
       "2. 'Процедура отменена'\n",
       "\n",
       "\n"
      ],
      "text/plain": [
       "[[1]]\n",
       "[1] \"Поиск не дал результатов\"\n",
       "\n",
       "[[2]]\n",
       "[1] \"Процедура отменена\"\n"
      ]
     },
     "metadata": {},
     "output_type": "display_data"
    }
   ],
   "source": [
    "n_12343\n"
   ]
  },
  {
   "cell_type": "code",
   "execution_count": 161,
   "metadata": {
    "ExecuteTime": {
     "end_time": "2019-10-18T16:11:44.724269Z",
     "start_time": "2019-10-18T16:11:44.682Z"
    }
   },
   "outputs": [
    {
     "data": {
      "text/html": [
       "<ol>\n",
       "\t<li>'Закупка завершена'</li>\n",
       "\t<li>'Поставка автомобиля для нужд судов общей юрисдикции Карачаево-Черкесской Республики.'</li>\n",
       "</ol>\n"
      ],
      "text/latex": [
       "\\begin{enumerate}\n",
       "\\item 'Закупка завершена'\n",
       "\\item 'Поставка автомобиля для нужд судов общей юрисдикции Карачаево-Черкесской Республики.'\n",
       "\\end{enumerate}\n"
      ],
      "text/markdown": [
       "1. 'Закупка завершена'\n",
       "2. 'Поставка автомобиля для нужд судов общей юрисдикции Карачаево-Черкесской Республики.'\n",
       "\n",
       "\n"
      ],
      "text/plain": [
       "[[1]]\n",
       "[1] \"Закупка завершена\"\n",
       "\n",
       "[[2]]\n",
       "[1] \"Поставка автомобиля для нужд судов общей юрисдикции Карачаево-Черкесской Республики.\"\n"
      ]
     },
     "metadata": {},
     "output_type": "display_data"
    }
   ],
   "source": [
    "# tables_list[[60]]"
   ]
  },
  {
   "cell_type": "code",
   "execution_count": 215,
   "metadata": {
    "ExecuteTime": {
     "end_time": "2019-10-19T14:25:30.451788Z",
     "start_time": "2019-10-19T14:25:30.423Z"
    }
   },
   "outputs": [],
   "source": [
    "tables_list[[12883]] = n_12343"
   ]
  },
  {
   "cell_type": "code",
   "execution_count": 216,
   "metadata": {
    "ExecuteTime": {
     "end_time": "2019-10-19T14:25:32.308394Z",
     "start_time": "2019-10-19T14:25:32.280Z"
    }
   },
   "outputs": [
    {
     "data": {
      "text/html": [
       "12883"
      ],
      "text/latex": [
       "12883"
      ],
      "text/markdown": [
       "12883"
      ],
      "text/plain": [
       "[1] 12883"
      ]
     },
     "metadata": {},
     "output_type": "display_data"
    }
   ],
   "source": [
    "tables_list  %>%  length()"
   ]
  },
  {
   "cell_type": "code",
   "execution_count": 220,
   "metadata": {
    "ExecuteTime": {
     "end_time": "2019-10-19T14:39:30.869481Z",
     "start_time": "2019-10-19T14:39:30.820Z"
    },
    "scrolled": true
   },
   "outputs": [
    {
     "data": {
      "text/html": [
       "'Поиск не дал результатов'"
      ],
      "text/latex": [
       "'Поиск не дал результатов'"
      ],
      "text/markdown": [
       "'Поиск не дал результатов'"
      ],
      "text/plain": [
       "[1] \"Поиск не дал результатов\""
      ]
     },
     "metadata": {},
     "output_type": "display_data"
    }
   ],
   "source": [
    "\n",
    "obj_type$getElementText()[[1]]"
   ]
  },
  {
   "cell_type": "code",
   "execution_count": 245,
   "metadata": {
    "ExecuteTime": {
     "end_time": "2019-10-19T15:04:56.808247Z",
     "start_time": "2019-10-19T15:04:56.795Z"
    }
   },
   "outputs": [],
   "source": [
    "# 12898:12883"
   ]
  },
  {
   "cell_type": "code",
   "execution_count": 246,
   "metadata": {
    "ExecuteTime": {
     "end_time": "2019-10-19T15:05:14.004452Z",
     "start_time": "2019-10-19T15:05:13.993Z"
    }
   },
   "outputs": [],
   "source": [
    "for (i in 12898:12883){\n",
    "    tables_list[[i]]  <-  NULL\n",
    "}\n"
   ]
  },
  {
   "cell_type": "code",
   "execution_count": 247,
   "metadata": {
    "ExecuteTime": {
     "end_time": "2019-10-19T15:05:16.118532Z",
     "start_time": "2019-10-19T15:05:16.083Z"
    }
   },
   "outputs": [
    {
     "data": {
      "text/html": [
       "12882"
      ],
      "text/latex": [
       "12882"
      ],
      "text/markdown": [
       "12882"
      ],
      "text/plain": [
       "[1] 12882"
      ]
     },
     "metadata": {},
     "output_type": "display_data"
    }
   ],
   "source": [
    "tables_list  %>%  length()"
   ]
  },
  {
   "cell_type": "code",
   "execution_count": 237,
   "metadata": {
    "ExecuteTime": {
     "end_time": "2019-10-19T14:59:46.223697Z",
     "start_time": "2019-10-19T14:59:46.209Z"
    }
   },
   "outputs": [
    {
     "data": {
      "text/html": [
       "'character'"
      ],
      "text/latex": [
       "'character'"
      ],
      "text/markdown": [
       "'character'"
      ],
      "text/plain": [
       "[1] \"character\""
      ]
     },
     "metadata": {},
     "output_type": "display_data"
    }
   ],
   "source": [
    "\n",
    "cool  <- 'got'\n",
    "typeof(cool)"
   ]
  },
  {
   "cell_type": "code",
   "execution_count": 260,
   "metadata": {
    "ExecuteTime": {
     "end_time": "2019-10-20T04:17:07.593871Z",
     "start_time": "2019-10-19T23:35:40.907Z"
    }
   },
   "outputs": [
    {
     "name": "stderr",
     "output_type": "stream",
     "text": [
      "\n",
      "Selenium message:Unable to locate element: {\"method\":\"css selector\",\"selector\":\".registry-entry__header-top__title\"}\n",
      "For documentation on this error, please visit: http://seleniumhq.org/exceptions/no_such_element.html\n",
      "Build info: version: '2.53.1', revision: 'a36b8b1', time: '2016-06-30 17:37:03'\n",
      "System info: host: '3b93b79e6a32', ip: '172.17.0.2', os.name: 'Linux', os.arch: 'amd64', os.version: '4.15.0-1056-oem', java.version: '1.8.0_91'\n",
      "Driver info: driver.version: unknown\n",
      "\n",
      "\n",
      "Selenium message:Unable to locate element: {\"method\":\"css selector\",\"selector\":\".noRecords\"}\n",
      "For documentation on this error, please visit: http://seleniumhq.org/exceptions/no_such_element.html\n",
      "Build info: version: '2.53.1', revision: 'a36b8b1', time: '2016-06-30 17:37:03'\n",
      "System info: host: '3b93b79e6a32', ip: '172.17.0.2', os.name: 'Linux', os.arch: 'amd64', os.version: '4.15.0-1056-oem', java.version: '1.8.0_91'\n",
      "Driver info: driver.version: unknown\n",
      "\n",
      "stoped at length:  14852\n",
      "\n",
      "Selenium message:Unable to locate element: {\"method\":\"css selector\",\"selector\":\".registry-entry__header-top__title\"}\n",
      "For documentation on this error, please visit: http://seleniumhq.org/exceptions/no_such_element.html\n",
      "Build info: version: '2.53.1', revision: 'a36b8b1', time: '2016-06-30 17:37:03'\n",
      "System info: host: '3b93b79e6a32', ip: '172.17.0.2', os.name: 'Linux', os.arch: 'amd64', os.version: '4.15.0-1056-oem', java.version: '1.8.0_91'\n",
      "Driver info: driver.version: unknown\n",
      "\n",
      "\n",
      "Selenium message:Unable to locate element: {\"method\":\"css selector\",\"selector\":\".noRecords\"}\n",
      "For documentation on this error, please visit: http://seleniumhq.org/exceptions/no_such_element.html\n",
      "Build info: version: '2.53.1', revision: 'a36b8b1', time: '2016-06-30 17:37:03'\n",
      "System info: host: '3b93b79e6a32', ip: '172.17.0.2', os.name: 'Linux', os.arch: 'amd64', os.version: '4.15.0-1056-oem', java.version: '1.8.0_91'\n",
      "Driver info: driver.version: unknown\n",
      "\n",
      "stoped at length:  14994\n",
      "\n",
      "Selenium message:Unable to locate element: {\"method\":\"css selector\",\"selector\":\".registry-entry__header-top__title\"}\n",
      "For documentation on this error, please visit: http://seleniumhq.org/exceptions/no_such_element.html\n",
      "Build info: version: '2.53.1', revision: 'a36b8b1', time: '2016-06-30 17:37:03'\n",
      "System info: host: '3b93b79e6a32', ip: '172.17.0.2', os.name: 'Linux', os.arch: 'amd64', os.version: '4.15.0-1056-oem', java.version: '1.8.0_91'\n",
      "Driver info: driver.version: unknown\n",
      "\n",
      "\n",
      "Selenium message:Unable to locate element: {\"method\":\"css selector\",\"selector\":\".noRecords\"}\n",
      "For documentation on this error, please visit: http://seleniumhq.org/exceptions/no_such_element.html\n",
      "Build info: version: '2.53.1', revision: 'a36b8b1', time: '2016-06-30 17:37:03'\n",
      "System info: host: '3b93b79e6a32', ip: '172.17.0.2', os.name: 'Linux', os.arch: 'amd64', os.version: '4.15.0-1056-oem', java.version: '1.8.0_91'\n",
      "Driver info: driver.version: unknown\n",
      "\n",
      "stoped at length:  15260\n",
      "\n",
      "Selenium message:Unable to locate element: {\"method\":\"css selector\",\"selector\":\".registry-entry__header-top__title\"}\n",
      "For documentation on this error, please visit: http://seleniumhq.org/exceptions/no_such_element.html\n",
      "Build info: version: '2.53.1', revision: 'a36b8b1', time: '2016-06-30 17:37:03'\n",
      "System info: host: '3b93b79e6a32', ip: '172.17.0.2', os.name: 'Linux', os.arch: 'amd64', os.version: '4.15.0-1056-oem', java.version: '1.8.0_91'\n",
      "Driver info: driver.version: unknown\n",
      "\n",
      "\n",
      "Selenium message:Unable to locate element: {\"method\":\"css selector\",\"selector\":\".noRecords\"}\n",
      "For documentation on this error, please visit: http://seleniumhq.org/exceptions/no_such_element.html\n",
      "Build info: version: '2.53.1', revision: 'a36b8b1', time: '2016-06-30 17:37:03'\n",
      "System info: host: '3b93b79e6a32', ip: '172.17.0.2', os.name: 'Linux', os.arch: 'amd64', os.version: '4.15.0-1056-oem', java.version: '1.8.0_91'\n",
      "Driver info: driver.version: unknown\n",
      "\n",
      "stoped at length:  15285\n",
      "\n",
      "Selenium message:Unable to locate element: {\"method\":\"css selector\",\"selector\":\".registry-entry__header-top__title\"}\n",
      "For documentation on this error, please visit: http://seleniumhq.org/exceptions/no_such_element.html\n",
      "Build info: version: '2.53.1', revision: 'a36b8b1', time: '2016-06-30 17:37:03'\n",
      "System info: host: '3b93b79e6a32', ip: '172.17.0.2', os.name: 'Linux', os.arch: 'amd64', os.version: '4.15.0-1056-oem', java.version: '1.8.0_91'\n",
      "Driver info: driver.version: unknown\n",
      "\n",
      "\n",
      "Selenium message:Unable to locate element: {\"method\":\"css selector\",\"selector\":\".noRecords\"}\n",
      "For documentation on this error, please visit: http://seleniumhq.org/exceptions/no_such_element.html\n",
      "Build info: version: '2.53.1', revision: 'a36b8b1', time: '2016-06-30 17:37:03'\n",
      "System info: host: '3b93b79e6a32', ip: '172.17.0.2', os.name: 'Linux', os.arch: 'amd64', os.version: '4.15.0-1056-oem', java.version: '1.8.0_91'\n",
      "Driver info: driver.version: unknown\n",
      "\n",
      "stoped at length:  15435\n",
      "\n",
      "Selenium message:Unable to locate element: {\"method\":\"css selector\",\"selector\":\".registry-entry__header-top__title\"}\n",
      "For documentation on this error, please visit: http://seleniumhq.org/exceptions/no_such_element.html\n",
      "Build info: version: '2.53.1', revision: 'a36b8b1', time: '2016-06-30 17:37:03'\n",
      "System info: host: '3b93b79e6a32', ip: '172.17.0.2', os.name: 'Linux', os.arch: 'amd64', os.version: '4.15.0-1056-oem', java.version: '1.8.0_91'\n",
      "Driver info: driver.version: unknown\n",
      "\n",
      "\n",
      "Selenium message:Unable to locate element: {\"method\":\"css selector\",\"selector\":\".noRecords\"}\n",
      "For documentation on this error, please visit: http://seleniumhq.org/exceptions/no_such_element.html\n",
      "Build info: version: '2.53.1', revision: 'a36b8b1', time: '2016-06-30 17:37:03'\n",
      "System info: host: '3b93b79e6a32', ip: '172.17.0.2', os.name: 'Linux', os.arch: 'amd64', os.version: '4.15.0-1056-oem', java.version: '1.8.0_91'\n",
      "Driver info: driver.version: unknown\n",
      "\n",
      "stoped at length:  15475\n",
      "\n",
      "Selenium message:Unable to locate element: {\"method\":\"css selector\",\"selector\":\".registry-entry__header-top__title\"}\n",
      "For documentation on this error, please visit: http://seleniumhq.org/exceptions/no_such_element.html\n",
      "Build info: version: '2.53.1', revision: 'a36b8b1', time: '2016-06-30 17:37:03'\n",
      "System info: host: '3b93b79e6a32', ip: '172.17.0.2', os.name: 'Linux', os.arch: 'amd64', os.version: '4.15.0-1056-oem', java.version: '1.8.0_91'\n",
      "Driver info: driver.version: unknown\n",
      "\n",
      "\n",
      "Selenium message:Unable to locate element: {\"method\":\"css selector\",\"selector\":\".noRecords\"}\n",
      "For documentation on this error, please visit: http://seleniumhq.org/exceptions/no_such_element.html\n",
      "Build info: version: '2.53.1', revision: 'a36b8b1', time: '2016-06-30 17:37:03'\n",
      "System info: host: '3b93b79e6a32', ip: '172.17.0.2', os.name: 'Linux', os.arch: 'amd64', os.version: '4.15.0-1056-oem', java.version: '1.8.0_91'\n",
      "Driver info: driver.version: unknown\n",
      "\n",
      "stoped at length:  15510\n",
      "\n",
      "Selenium message:Unable to locate element: {\"method\":\"css selector\",\"selector\":\".registry-entry__header-top__title\"}\n",
      "For documentation on this error, please visit: http://seleniumhq.org/exceptions/no_such_element.html\n",
      "Build info: version: '2.53.1', revision: 'a36b8b1', time: '2016-06-30 17:37:03'\n",
      "System info: host: '3b93b79e6a32', ip: '172.17.0.2', os.name: 'Linux', os.arch: 'amd64', os.version: '4.15.0-1056-oem', java.version: '1.8.0_91'\n",
      "Driver info: driver.version: unknown\n",
      "\n",
      "\n",
      "Selenium message:Unable to locate element: {\"method\":\"css selector\",\"selector\":\".noRecords\"}\n",
      "For documentation on this error, please visit: http://seleniumhq.org/exceptions/no_such_element.html\n",
      "Build info: version: '2.53.1', revision: 'a36b8b1', time: '2016-06-30 17:37:03'\n",
      "System info: host: '3b93b79e6a32', ip: '172.17.0.2', os.name: 'Linux', os.arch: 'amd64', os.version: '4.15.0-1056-oem', java.version: '1.8.0_91'\n",
      "Driver info: driver.version: unknown\n",
      "\n",
      "stoped at length:  15542\n",
      "\n",
      "Selenium message:Unable to locate element: {\"method\":\"css selector\",\"selector\":\".registry-entry__header-top__title\"}\n",
      "For documentation on this error, please visit: http://seleniumhq.org/exceptions/no_such_element.html\n",
      "Build info: version: '2.53.1', revision: 'a36b8b1', time: '2016-06-30 17:37:03'\n",
      "System info: host: '3b93b79e6a32', ip: '172.17.0.2', os.name: 'Linux', os.arch: 'amd64', os.version: '4.15.0-1056-oem', java.version: '1.8.0_91'\n",
      "Driver info: driver.version: unknown\n",
      "\n"
     ]
    },
    {
     "name": "stderr",
     "output_type": "stream",
     "text": [
      "\n",
      "Selenium message:Unable to locate element: {\"method\":\"css selector\",\"selector\":\".noRecords\"}\n",
      "For documentation on this error, please visit: http://seleniumhq.org/exceptions/no_such_element.html\n",
      "Build info: version: '2.53.1', revision: 'a36b8b1', time: '2016-06-30 17:37:03'\n",
      "System info: host: '3b93b79e6a32', ip: '172.17.0.2', os.name: 'Linux', os.arch: 'amd64', os.version: '4.15.0-1056-oem', java.version: '1.8.0_91'\n",
      "Driver info: driver.version: unknown\n",
      "\n",
      "stoped at length:  15577\n",
      "\n",
      "Selenium message:Unable to locate element: {\"method\":\"css selector\",\"selector\":\".registry-entry__header-top__title\"}\n",
      "For documentation on this error, please visit: http://seleniumhq.org/exceptions/no_such_element.html\n",
      "Build info: version: '2.53.1', revision: 'a36b8b1', time: '2016-06-30 17:37:03'\n",
      "System info: host: '3b93b79e6a32', ip: '172.17.0.2', os.name: 'Linux', os.arch: 'amd64', os.version: '4.15.0-1056-oem', java.version: '1.8.0_91'\n",
      "Driver info: driver.version: unknown\n",
      "\n",
      "\n",
      "Selenium message:Unable to locate element: {\"method\":\"css selector\",\"selector\":\".noRecords\"}\n",
      "For documentation on this error, please visit: http://seleniumhq.org/exceptions/no_such_element.html\n",
      "Build info: version: '2.53.1', revision: 'a36b8b1', time: '2016-06-30 17:37:03'\n",
      "System info: host: '3b93b79e6a32', ip: '172.17.0.2', os.name: 'Linux', os.arch: 'amd64', os.version: '4.15.0-1056-oem', java.version: '1.8.0_91'\n",
      "Driver info: driver.version: unknown\n",
      "\n",
      "stoped at length:  15772\n",
      "\n",
      "Selenium message:Unable to locate element: {\"method\":\"css selector\",\"selector\":\".registry-entry__header-top__title\"}\n",
      "For documentation on this error, please visit: http://seleniumhq.org/exceptions/no_such_element.html\n",
      "Build info: version: '2.53.1', revision: 'a36b8b1', time: '2016-06-30 17:37:03'\n",
      "System info: host: '3b93b79e6a32', ip: '172.17.0.2', os.name: 'Linux', os.arch: 'amd64', os.version: '4.15.0-1056-oem', java.version: '1.8.0_91'\n",
      "Driver info: driver.version: unknown\n",
      "\n",
      "\n",
      "Selenium message:Unable to locate element: {\"method\":\"css selector\",\"selector\":\".noRecords\"}\n",
      "For documentation on this error, please visit: http://seleniumhq.org/exceptions/no_such_element.html\n",
      "Build info: version: '2.53.1', revision: 'a36b8b1', time: '2016-06-30 17:37:03'\n",
      "System info: host: '3b93b79e6a32', ip: '172.17.0.2', os.name: 'Linux', os.arch: 'amd64', os.version: '4.15.0-1056-oem', java.version: '1.8.0_91'\n",
      "Driver info: driver.version: unknown\n",
      "\n",
      "stoped at length:  15884\n",
      "\n",
      "Selenium message:Unable to locate element: {\"method\":\"css selector\",\"selector\":\".registry-entry__header-top__title\"}\n",
      "For documentation on this error, please visit: http://seleniumhq.org/exceptions/no_such_element.html\n",
      "Build info: version: '2.53.1', revision: 'a36b8b1', time: '2016-06-30 17:37:03'\n",
      "System info: host: '3b93b79e6a32', ip: '172.17.0.2', os.name: 'Linux', os.arch: 'amd64', os.version: '4.15.0-1056-oem', java.version: '1.8.0_91'\n",
      "Driver info: driver.version: unknown\n",
      "\n",
      "\n",
      "Selenium message:Unable to locate element: {\"method\":\"css selector\",\"selector\":\".noRecords\"}\n",
      "For documentation on this error, please visit: http://seleniumhq.org/exceptions/no_such_element.html\n",
      "Build info: version: '2.53.1', revision: 'a36b8b1', time: '2016-06-30 17:37:03'\n",
      "System info: host: '3b93b79e6a32', ip: '172.17.0.2', os.name: 'Linux', os.arch: 'amd64', os.version: '4.15.0-1056-oem', java.version: '1.8.0_91'\n",
      "Driver info: driver.version: unknown\n",
      "\n",
      "stoped at length:  15930\n",
      "\n",
      "Selenium message:Unable to locate element: {\"method\":\"css selector\",\"selector\":\".registry-entry__header-top__title\"}\n",
      "For documentation on this error, please visit: http://seleniumhq.org/exceptions/no_such_element.html\n",
      "Build info: version: '2.53.1', revision: 'a36b8b1', time: '2016-06-30 17:37:03'\n",
      "System info: host: '3b93b79e6a32', ip: '172.17.0.2', os.name: 'Linux', os.arch: 'amd64', os.version: '4.15.0-1056-oem', java.version: '1.8.0_91'\n",
      "Driver info: driver.version: unknown\n",
      "\n",
      "\n",
      "Selenium message:Unable to locate element: {\"method\":\"css selector\",\"selector\":\".noRecords\"}\n",
      "For documentation on this error, please visit: http://seleniumhq.org/exceptions/no_such_element.html\n",
      "Build info: version: '2.53.1', revision: 'a36b8b1', time: '2016-06-30 17:37:03'\n",
      "System info: host: '3b93b79e6a32', ip: '172.17.0.2', os.name: 'Linux', os.arch: 'amd64', os.version: '4.15.0-1056-oem', java.version: '1.8.0_91'\n",
      "Driver info: driver.version: unknown\n",
      "\n",
      "stoped at length:  16078\n",
      "\n",
      "Selenium message:Unable to locate element: {\"method\":\"css selector\",\"selector\":\".registry-entry__header-top__title\"}\n",
      "For documentation on this error, please visit: http://seleniumhq.org/exceptions/no_such_element.html\n",
      "Build info: version: '2.53.1', revision: 'a36b8b1', time: '2016-06-30 17:37:03'\n",
      "System info: host: '3b93b79e6a32', ip: '172.17.0.2', os.name: 'Linux', os.arch: 'amd64', os.version: '4.15.0-1056-oem', java.version: '1.8.0_91'\n",
      "Driver info: driver.version: unknown\n",
      "\n",
      "\n",
      "Selenium message:Unable to locate element: {\"method\":\"css selector\",\"selector\":\".noRecords\"}\n",
      "For documentation on this error, please visit: http://seleniumhq.org/exceptions/no_such_element.html\n",
      "Build info: version: '2.53.1', revision: 'a36b8b1', time: '2016-06-30 17:37:03'\n",
      "System info: host: '3b93b79e6a32', ip: '172.17.0.2', os.name: 'Linux', os.arch: 'amd64', os.version: '4.15.0-1056-oem', java.version: '1.8.0_91'\n",
      "Driver info: driver.version: unknown\n",
      "\n",
      "stoped at length:  16115\n",
      "\n",
      "Selenium message:Unable to locate element: {\"method\":\"css selector\",\"selector\":\".registry-entry__header-top__title\"}\n",
      "For documentation on this error, please visit: http://seleniumhq.org/exceptions/no_such_element.html\n",
      "Build info: version: '2.53.1', revision: 'a36b8b1', time: '2016-06-30 17:37:03'\n",
      "System info: host: '3b93b79e6a32', ip: '172.17.0.2', os.name: 'Linux', os.arch: 'amd64', os.version: '4.15.0-1056-oem', java.version: '1.8.0_91'\n",
      "Driver info: driver.version: unknown\n",
      "\n",
      "\n",
      "Selenium message:Unable to locate element: {\"method\":\"css selector\",\"selector\":\".noRecords\"}\n",
      "For documentation on this error, please visit: http://seleniumhq.org/exceptions/no_such_element.html\n",
      "Build info: version: '2.53.1', revision: 'a36b8b1', time: '2016-06-30 17:37:03'\n",
      "System info: host: '3b93b79e6a32', ip: '172.17.0.2', os.name: 'Linux', os.arch: 'amd64', os.version: '4.15.0-1056-oem', java.version: '1.8.0_91'\n",
      "Driver info: driver.version: unknown\n",
      "\n",
      "stoped at length:  16387\n",
      "\n",
      "Selenium message:Unable to locate element: {\"method\":\"css selector\",\"selector\":\".registry-entry__header-top__title\"}\n",
      "For documentation on this error, please visit: http://seleniumhq.org/exceptions/no_such_element.html\n",
      "Build info: version: '2.53.1', revision: 'a36b8b1', time: '2016-06-30 17:37:03'\n",
      "System info: host: '3b93b79e6a32', ip: '172.17.0.2', os.name: 'Linux', os.arch: 'amd64', os.version: '4.15.0-1056-oem', java.version: '1.8.0_91'\n",
      "Driver info: driver.version: unknown\n",
      "\n",
      "\n",
      "Selenium message:Unable to locate element: {\"method\":\"css selector\",\"selector\":\".noRecords\"}\n",
      "For documentation on this error, please visit: http://seleniumhq.org/exceptions/no_such_element.html\n",
      "Build info: version: '2.53.1', revision: 'a36b8b1', time: '2016-06-30 17:37:03'\n",
      "System info: host: '3b93b79e6a32', ip: '172.17.0.2', os.name: 'Linux', os.arch: 'amd64', os.version: '4.15.0-1056-oem', java.version: '1.8.0_91'\n",
      "Driver info: driver.version: unknown\n",
      "\n",
      "stoped at length:  16411\n",
      "\n",
      "Selenium message:Unable to locate element: {\"method\":\"css selector\",\"selector\":\".registry-entry__header-top__title\"}\n",
      "For documentation on this error, please visit: http://seleniumhq.org/exceptions/no_such_element.html\n",
      "Build info: version: '2.53.1', revision: 'a36b8b1', time: '2016-06-30 17:37:03'\n",
      "System info: host: '3b93b79e6a32', ip: '172.17.0.2', os.name: 'Linux', os.arch: 'amd64', os.version: '4.15.0-1056-oem', java.version: '1.8.0_91'\n",
      "Driver info: driver.version: unknown\n",
      "\n",
      "\n",
      "Selenium message:Unable to locate element: {\"method\":\"css selector\",\"selector\":\".noRecords\"}\n",
      "For documentation on this error, please visit: http://seleniumhq.org/exceptions/no_such_element.html\n",
      "Build info: version: '2.53.1', revision: 'a36b8b1', time: '2016-06-30 17:37:03'\n",
      "System info: host: '3b93b79e6a32', ip: '172.17.0.2', os.name: 'Linux', os.arch: 'amd64', os.version: '4.15.0-1056-oem', java.version: '1.8.0_91'\n",
      "Driver info: driver.version: unknown\n",
      "\n",
      "stoped at length:  16447\n"
     ]
    },
    {
     "name": "stderr",
     "output_type": "stream",
     "text": [
      "\n",
      "Selenium message:Unable to locate element: {\"method\":\"css selector\",\"selector\":\".registry-entry__header-top__title\"}\n",
      "For documentation on this error, please visit: http://seleniumhq.org/exceptions/no_such_element.html\n",
      "Build info: version: '2.53.1', revision: 'a36b8b1', time: '2016-06-30 17:37:03'\n",
      "System info: host: '3b93b79e6a32', ip: '172.17.0.2', os.name: 'Linux', os.arch: 'amd64', os.version: '4.15.0-1056-oem', java.version: '1.8.0_91'\n",
      "Driver info: driver.version: unknown\n",
      "\n",
      "\n",
      "Selenium message:Unable to locate element: {\"method\":\"css selector\",\"selector\":\".noRecords\"}\n",
      "For documentation on this error, please visit: http://seleniumhq.org/exceptions/no_such_element.html\n",
      "Build info: version: '2.53.1', revision: 'a36b8b1', time: '2016-06-30 17:37:03'\n",
      "System info: host: '3b93b79e6a32', ip: '172.17.0.2', os.name: 'Linux', os.arch: 'amd64', os.version: '4.15.0-1056-oem', java.version: '1.8.0_91'\n",
      "Driver info: driver.version: unknown\n",
      "\n",
      "stoped at length:  16469\n",
      "\n",
      "Selenium message:Unable to locate element: {\"method\":\"css selector\",\"selector\":\".registry-entry__header-top__title\"}\n",
      "For documentation on this error, please visit: http://seleniumhq.org/exceptions/no_such_element.html\n",
      "Build info: version: '2.53.1', revision: 'a36b8b1', time: '2016-06-30 17:37:03'\n",
      "System info: host: '3b93b79e6a32', ip: '172.17.0.2', os.name: 'Linux', os.arch: 'amd64', os.version: '4.15.0-1056-oem', java.version: '1.8.0_91'\n",
      "Driver info: driver.version: unknown\n",
      "\n",
      "\n",
      "Selenium message:Unable to locate element: {\"method\":\"css selector\",\"selector\":\".noRecords\"}\n",
      "For documentation on this error, please visit: http://seleniumhq.org/exceptions/no_such_element.html\n",
      "Build info: version: '2.53.1', revision: 'a36b8b1', time: '2016-06-30 17:37:03'\n",
      "System info: host: '3b93b79e6a32', ip: '172.17.0.2', os.name: 'Linux', os.arch: 'amd64', os.version: '4.15.0-1056-oem', java.version: '1.8.0_91'\n",
      "Driver info: driver.version: unknown\n",
      "\n",
      "stoped at length:  16755\n",
      "\n",
      "Selenium message:Unable to locate element: {\"method\":\"css selector\",\"selector\":\".registry-entry__header-top__title\"}\n",
      "For documentation on this error, please visit: http://seleniumhq.org/exceptions/no_such_element.html\n",
      "Build info: version: '2.53.1', revision: 'a36b8b1', time: '2016-06-30 17:37:03'\n",
      "System info: host: '3b93b79e6a32', ip: '172.17.0.2', os.name: 'Linux', os.arch: 'amd64', os.version: '4.15.0-1056-oem', java.version: '1.8.0_91'\n",
      "Driver info: driver.version: unknown\n",
      "\n",
      "\n",
      "Selenium message:Unable to locate element: {\"method\":\"css selector\",\"selector\":\".noRecords\"}\n",
      "For documentation on this error, please visit: http://seleniumhq.org/exceptions/no_such_element.html\n",
      "Build info: version: '2.53.1', revision: 'a36b8b1', time: '2016-06-30 17:37:03'\n",
      "System info: host: '3b93b79e6a32', ip: '172.17.0.2', os.name: 'Linux', os.arch: 'amd64', os.version: '4.15.0-1056-oem', java.version: '1.8.0_91'\n",
      "Driver info: driver.version: unknown\n",
      "\n",
      "stoped at length:  16813\n",
      "\n",
      "Selenium message:Unable to locate element: {\"method\":\"css selector\",\"selector\":\".registry-entry__header-top__title\"}\n",
      "For documentation on this error, please visit: http://seleniumhq.org/exceptions/no_such_element.html\n",
      "Build info: version: '2.53.1', revision: 'a36b8b1', time: '2016-06-30 17:37:03'\n",
      "System info: host: '3b93b79e6a32', ip: '172.17.0.2', os.name: 'Linux', os.arch: 'amd64', os.version: '4.15.0-1056-oem', java.version: '1.8.0_91'\n",
      "Driver info: driver.version: unknown\n",
      "\n",
      "\n",
      "Selenium message:Unable to locate element: {\"method\":\"css selector\",\"selector\":\".noRecords\"}\n",
      "For documentation on this error, please visit: http://seleniumhq.org/exceptions/no_such_element.html\n",
      "Build info: version: '2.53.1', revision: 'a36b8b1', time: '2016-06-30 17:37:03'\n",
      "System info: host: '3b93b79e6a32', ip: '172.17.0.2', os.name: 'Linux', os.arch: 'amd64', os.version: '4.15.0-1056-oem', java.version: '1.8.0_91'\n",
      "Driver info: driver.version: unknown\n",
      "\n",
      "stoped at length:  16864\n",
      "\n",
      "Selenium message:Unable to locate element: {\"method\":\"css selector\",\"selector\":\".registry-entry__header-top__title\"}\n",
      "For documentation on this error, please visit: http://seleniumhq.org/exceptions/no_such_element.html\n",
      "Build info: version: '2.53.1', revision: 'a36b8b1', time: '2016-06-30 17:37:03'\n",
      "System info: host: '3b93b79e6a32', ip: '172.17.0.2', os.name: 'Linux', os.arch: 'amd64', os.version: '4.15.0-1056-oem', java.version: '1.8.0_91'\n",
      "Driver info: driver.version: unknown\n",
      "\n",
      "\n",
      "Selenium message:Unable to locate element: {\"method\":\"css selector\",\"selector\":\".noRecords\"}\n",
      "For documentation on this error, please visit: http://seleniumhq.org/exceptions/no_such_element.html\n",
      "Build info: version: '2.53.1', revision: 'a36b8b1', time: '2016-06-30 17:37:03'\n",
      "System info: host: '3b93b79e6a32', ip: '172.17.0.2', os.name: 'Linux', os.arch: 'amd64', os.version: '4.15.0-1056-oem', java.version: '1.8.0_91'\n",
      "Driver info: driver.version: unknown\n",
      "\n",
      "stoped at length:  16950\n"
     ]
    }
   ],
   "source": [
    "while (length(tables_list) != dim(goszak_df_kolich)[1]) {\n",
    "    tables_list <- tryCatch({\n",
    "        collecting_auctions(tables_list)\n",
    "    }, error = function(cond) {\n",
    "        cool  <-  tryCatch({remDr$findElement(using = \"css\", \".noRecords\")}, error=function(cond){\n",
    "        return('got')\n",
    "        }) \n",
    "        \n",
    "        if (typeof(cool)=='character'){\n",
    "        message(paste(\"stoped at length: \", length(tables_list) ))\n",
    "        Sys.sleep(10)\n",
    "        return(tables_list)\n",
    "        }else{\n",
    "        message(paste(\"empty at length: \", length(tables_list) ))\n",
    "        tables_list[[length(tables_list)+1]]   <- n_12343\n",
    "        Sys.sleep(3)    \n",
    "        return(tables_list)\n",
    "    }}\n",
    "                           )\n",
    "    \n",
    "}"
   ]
  },
  {
   "cell_type": "code",
   "execution_count": 250,
   "metadata": {
    "ExecuteTime": {
     "end_time": "2019-10-19T15:06:34.172240Z",
     "start_time": "2019-10-19T15:06:34.146Z"
    }
   },
   "outputs": [
    {
     "data": {
      "text/html": [
       "<ol>\n",
       "\t<li>'Закупка завершена'</li>\n",
       "\t<li>'поставка автобуса для перевозки детей'</li>\n",
       "</ol>\n"
      ],
      "text/latex": [
       "\\begin{enumerate}\n",
       "\\item 'Закупка завершена'\n",
       "\\item 'поставка автобуса для перевозки детей'\n",
       "\\end{enumerate}\n"
      ],
      "text/markdown": [
       "1. 'Закупка завершена'\n",
       "2. 'поставка автобуса для перевозки детей'\n",
       "\n",
       "\n"
      ],
      "text/plain": [
       "[[1]]\n",
       "[1] \"Закупка завершена\"\n",
       "\n",
       "[[2]]\n",
       "[1] \"поставка автобуса для перевозки детей\"\n"
      ]
     },
     "metadata": {},
     "output_type": "display_data"
    }
   ],
   "source": [
    "tables_list[[12884]]"
   ]
  },
  {
   "cell_type": "code",
   "execution_count": 256,
   "metadata": {
    "ExecuteTime": {
     "end_time": "2019-10-19T19:41:19.403499Z",
     "start_time": "2019-10-19T19:41:19.296Z"
    }
   },
   "outputs": [],
   "source": [
    "saveRDS(tables_list, 'tables_list_6443.rds')"
   ]
  },
  {
   "cell_type": "code",
   "execution_count": 261,
   "metadata": {
    "ExecuteTime": {
     "end_time": "2019-10-20T07:29:36.823577Z",
     "start_time": "2019-10-20T07:29:36.814Z"
    }
   },
   "outputs": [
    {
     "data": {
      "text/html": [
       "16954"
      ],
      "text/latex": [
       "16954"
      ],
      "text/markdown": [
       "16954"
      ],
      "text/plain": [
       "[1] 16954"
      ]
     },
     "metadata": {},
     "output_type": "display_data"
    }
   ],
   "source": [
    "length(tables_list)"
   ]
  },
  {
   "cell_type": "code",
   "execution_count": 258,
   "metadata": {
    "ExecuteTime": {
     "end_time": "2019-10-19T19:41:26.148659Z",
     "start_time": "2019-10-19T19:41:26.141Z"
    }
   },
   "outputs": [],
   "source": [
    "# goszak_part1 = goszak_df_kolich[1:12882,]"
   ]
  },
  {
   "cell_type": "code",
   "execution_count": 262,
   "metadata": {
    "ExecuteTime": {
     "end_time": "2019-10-20T07:30:09.606001Z",
     "start_time": "2019-10-20T07:30:09.593Z"
    }
   },
   "outputs": [
    {
     "data": {
      "text/html": [
       "<ol class=list-inline>\n",
       "\t<li>16954</li>\n",
       "\t<li>6</li>\n",
       "</ol>\n"
      ],
      "text/latex": [
       "\\begin{enumerate*}\n",
       "\\item 16954\n",
       "\\item 6\n",
       "\\end{enumerate*}\n"
      ],
      "text/markdown": [
       "1. 16954\n",
       "2. 6\n",
       "\n",
       "\n"
      ],
      "text/plain": [
       "[1] 16954     6"
      ]
     },
     "metadata": {},
     "output_type": "display_data"
    }
   ],
   "source": [
    "dim(goszak_df_kolich)"
   ]
  },
  {
   "cell_type": "code",
   "execution_count": null,
   "metadata": {},
   "outputs": [],
   "source": [
    "goszak_df_kolich[12883:dim(goszak_df_kolich),]"
   ]
  },
  {
   "cell_type": "code",
   "execution_count": 263,
   "metadata": {
    "ExecuteTime": {
     "end_time": "2019-10-20T07:34:26.856128Z",
     "start_time": "2019-10-20T07:34:26.831Z"
    }
   },
   "outputs": [
    {
     "data": {
      "text/html": [
       "<ol>\n",
       "\t<li><ol>\n",
       "\t<li>'Работа комиссии'</li>\n",
       "\t<li>'АЭ-5240/14 на поставку автомобиля'</li>\n",
       "</ol>\n",
       "</li>\n",
       "</ol>\n"
      ],
      "text/latex": [
       "\\begin{enumerate}\n",
       "\\item \\begin{enumerate}\n",
       "\\item 'Работа комиссии'\n",
       "\\item 'АЭ-5240/14 на поставку автомобиля'\n",
       "\\end{enumerate}\n",
       "\n",
       "\\end{enumerate}\n"
      ],
      "text/markdown": [
       "1. 1. 'Работа комиссии'\n",
       "2. 'АЭ-5240/14 на поставку автомобиля'\n",
       "\n",
       "\n",
       "\n",
       "\n",
       "\n"
      ],
      "text/plain": [
       "[[1]]\n",
       "[[1]][[1]]\n",
       "[1] \"Работа комиссии\"\n",
       "\n",
       "[[1]][[2]]\n",
       "[1] \"АЭ-5240/14 на поставку автомобиля\"\n",
       "\n"
      ]
     },
     "metadata": {},
     "output_type": "display_data"
    }
   ],
   "source": [
    "tables_list[2498]"
   ]
  },
  {
   "cell_type": "code",
   "execution_count": 265,
   "metadata": {
    "ExecuteTime": {
     "end_time": "2019-10-20T07:34:47.902148Z",
     "start_time": "2019-10-20T07:34:47.885Z"
    }
   },
   "outputs": [
    {
     "data": {
      "text/html": [
       "'Работа комиссии'"
      ],
      "text/latex": [
       "'Работа комиссии'"
      ],
      "text/markdown": [
       "'Работа комиссии'"
      ],
      "text/plain": [
       "[1] \"Работа комиссии\""
      ]
     },
     "metadata": {},
     "output_type": "display_data"
    }
   ],
   "source": [
    "tables_list[[2498]][[1]]"
   ]
  },
  {
   "cell_type": "code",
   "execution_count": 251,
   "metadata": {
    "ExecuteTime": {
     "end_time": "2019-09-26T07:28:27.260866Z",
     "start_time": "2019-09-26T07:28:27.240Z"
    }
   },
   "outputs": [],
   "source": [
    "table_auction = data.frame(matrix(NA, nrow = 0, ncol = 3))\n",
    "colnames(table_auction) = c('V1','V2','V3') "
   ]
  },
  {
   "cell_type": "code",
   "execution_count": 267,
   "metadata": {
    "ExecuteTime": {
     "end_time": "2019-10-20T07:38:09.335383Z",
     "start_time": "2019-10-20T07:38:07.775Z"
    }
   },
   "outputs": [],
   "source": [
    "col1  <-  c()\n",
    "col2  <-  c()\n",
    "for (i in 1:length(tables_list)){\n",
    "    col1  <-  c(col1, tables_list[[i]][[1]])\n",
    "    col2  <-  c(col2, tables_list[[i]][[2]])\n",
    "    \n",
    "}"
   ]
  },
  {
   "cell_type": "code",
   "execution_count": 272,
   "metadata": {
    "ExecuteTime": {
     "end_time": "2019-10-20T07:44:43.079909Z",
     "start_time": "2019-10-20T07:44:43.059Z"
    }
   },
   "outputs": [],
   "source": [
    "# tables_list[[35]]"
   ]
  },
  {
   "cell_type": "code",
   "execution_count": 270,
   "metadata": {
    "ExecuteTime": {
     "end_time": "2019-10-20T07:41:54.286743Z",
     "start_time": "2019-10-20T07:41:54.119Z"
    }
   },
   "outputs": [],
   "source": [
    "write.csv(data.frame(col1,col2), 'check_selen.csv')"
   ]
  },
  {
   "cell_type": "code",
   "execution_count": null,
   "metadata": {},
   "outputs": [],
   "source": []
  }
 ],
 "metadata": {
  "hide_input": false,
  "kernelspec": {
   "display_name": "R 3.5.1",
   "language": "R",
   "name": "ir"
  },
  "language_info": {
   "codemirror_mode": "r",
   "file_extension": ".r",
   "mimetype": "text/x-r-source",
   "name": "R",
   "pygments_lexer": "r",
   "version": "3.5.2"
  },
  "latex_envs": {
   "LaTeX_envs_menu_present": true,
   "autoclose": true,
   "autocomplete": true,
   "bibliofile": "biblio.bib",
   "cite_by": "apalike",
   "current_citInitial": 1,
   "eqLabelWithNumbers": true,
   "eqNumInitial": 1,
   "hotkeys": {
    "equation": "Ctrl-E",
    "itemize": "Ctrl-I"
   },
   "labels_anchors": false,
   "latex_user_defs": false,
   "report_style_numbering": false,
   "user_envs_cfg": false
  },
  "toc": {
   "base_numbering": 1,
   "nav_menu": {},
   "number_sections": true,
   "sideBar": true,
   "skip_h1_title": false,
   "title_cell": "Table of Contents",
   "title_sidebar": "Contents",
   "toc_cell": false,
   "toc_position": {},
   "toc_section_display": true,
   "toc_window_display": false
  },
  "varInspector": {
   "cols": {
    "lenName": 16,
    "lenType": 16,
    "lenVar": 40
   },
   "kernels_config": {
    "python": {
     "delete_cmd_postfix": "",
     "delete_cmd_prefix": "del ",
     "library": "var_list.py",
     "varRefreshCmd": "print(var_dic_list())"
    },
    "r": {
     "delete_cmd_postfix": ") ",
     "delete_cmd_prefix": "rm(",
     "library": "var_list.r",
     "varRefreshCmd": "cat(var_dic_list()) "
    }
   },
   "types_to_exclude": [
    "module",
    "function",
    "builtin_function_or_method",
    "instance",
    "_Feature"
   ],
   "window_display": false
  }
 },
 "nbformat": 4,
 "nbformat_minor": 2
}
