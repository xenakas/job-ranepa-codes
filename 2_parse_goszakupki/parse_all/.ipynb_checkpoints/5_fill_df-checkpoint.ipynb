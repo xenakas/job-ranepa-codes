{
 "cells": [
  {
   "cell_type": "code",
   "execution_count": 2,
   "metadata": {
    "ExecuteTime": {
     "end_time": "2019-10-28T03:04:07.192595Z",
     "start_time": "2019-10-28T03:04:06.916976Z"
    }
   },
   "outputs": [],
   "source": [
    "from docx.api import Document\n",
    "import pandas as pd"
   ]
  },
  {
   "cell_type": "markdown",
   "metadata": {},
   "source": [
    "#### Converting to docx"
   ]
  },
  {
   "cell_type": "code",
   "execution_count": 3,
   "metadata": {
    "ExecuteTime": {
     "end_time": "2019-10-28T03:04:08.082470Z",
     "start_time": "2019-10-28T03:04:07.489550Z"
    }
   },
   "outputs": [],
   "source": [
    "df = pd.read_excel('clean_goszak_df.xlsx', dtype={'purchase_number':object})\n",
    "df['filenames'] = [ str(df.loc[i,'index_name']) + '.docx'    for i in range(df.shape[0])]"
   ]
  },
  {
   "cell_type": "code",
   "execution_count": 4,
   "metadata": {
    "ExecuteTime": {
     "end_time": "2019-10-28T02:49:55.358860Z",
     "start_time": "2019-10-28T02:49:54.292555Z"
    }
   },
   "outputs": [],
   "source": [
    "df_text = pd.read_excel('clean_text.xlsx',\n",
    "                           dtype={'purchase_number': object})\n",
    "df_text = df_text.fillna('')\n",
    "df_text = df_text[df_text['filetype'] == 'docx']\n"
   ]
  },
  {
   "cell_type": "code",
   "execution_count": 5,
   "metadata": {
    "ExecuteTime": {
     "end_time": "2019-10-28T03:04:23.223361Z",
     "start_time": "2019-10-28T03:04:23.203999Z"
    }
   },
   "outputs": [],
   "source": [
    "df_text = df.copy()\n",
    "df_text = df_text.fillna('')"
   ]
  },
  {
   "cell_type": "code",
   "execution_count": 6,
   "metadata": {
    "ExecuteTime": {
     "end_time": "2019-10-28T02:49:56.120854Z",
     "start_time": "2019-10-28T02:49:56.119234Z"
    }
   },
   "outputs": [],
   "source": [
    "# bbb = '/media/xenakas/ext4_drive/data_goszak/2_data_goszak_renamed'\n",
    "# for i in range(not_docx_df.shape[0]):\n",
    "#     aaa = bbb + '/' + not_docx_df.iloc[i,-1]\n",
    "#     !libreoffice --headless --convert-to docx $aaa --outdir $bbb"
   ]
  },
  {
   "cell_type": "markdown",
   "metadata": {},
   "source": [
    "#### Марка и модель"
   ]
  },
  {
   "cell_type": "code",
   "execution_count": 6,
   "metadata": {
    "ExecuteTime": {
     "end_time": "2019-10-28T03:04:25.812390Z",
     "start_time": "2019-10-28T03:04:25.807028Z"
    }
   },
   "outputs": [],
   "source": [
    "def read_table(table):\n",
    "    data = []\n",
    "    keys = None\n",
    "    for i, row in enumerate(table.rows):\n",
    "        text = (cell.text for cell in row.cells)\n",
    "        if i == 0:\n",
    "            keys = tuple(text)\n",
    "            continue\n",
    "        row_data = dict(zip(keys, text))\n",
    "        data.append(row_data)\n",
    "    return pd.DataFrame(data) "
   ]
  },
  {
   "cell_type": "code",
   "execution_count": 29,
   "metadata": {
    "ExecuteTime": {
     "end_time": "2019-10-28T03:01:56.322185Z",
     "start_time": "2019-10-28T03:01:56.319373Z"
    }
   },
   "outputs": [],
   "source": [
    "# df_text"
   ]
  },
  {
   "cell_type": "code",
   "execution_count": 18,
   "metadata": {
    "ExecuteTime": {
     "end_time": "2019-10-28T03:07:05.438472Z",
     "start_time": "2019-10-28T03:07:05.434873Z"
    }
   },
   "outputs": [],
   "source": [
    "keywords = [['выпуска', 'изготовления'], ['Коробка', 'коробка', 'трансмисси', 'Трансмисси'], ['Привод', 'привод'], ['Ширина', 'ширина'],\n",
    "            ['Длина', 'длина'],\n",
    " ['снаряженная', 'Снаряженная'], ['Объем двигателя', 'объем двигателя'],  ['Скорость', 'скорость'], ['Мощность', 'мощность'], \n",
    "            ['городской цикл', 'Городской цикл'] ]"
   ]
  },
  {
   "cell_type": "code",
   "execution_count": 10,
   "metadata": {
    "ExecuteTime": {
     "end_time": "2019-10-28T02:49:59.310946Z",
     "start_time": "2019-10-28T02:49:59.308314Z"
    }
   },
   "outputs": [
    {
     "data": {
      "text/plain": [
       "10"
      ]
     },
     "execution_count": 10,
     "metadata": {},
     "output_type": "execute_result"
    }
   ],
   "source": [
    "len(keywords)"
   ]
  },
  {
   "cell_type": "code",
   "execution_count": 11,
   "metadata": {
    "ExecuteTime": {
     "end_time": "2019-10-28T02:49:59.718607Z",
     "start_time": "2019-10-28T02:49:59.696272Z"
    }
   },
   "outputs": [],
   "source": [
    "fpath = '/media/xenakas/ext4_drive/data_goszak/2_data_goszak_renamed/' + df_text.iloc[4,-1]\n",
    "document = Document(fpath)"
   ]
  },
  {
   "cell_type": "code",
   "execution_count": 12,
   "metadata": {
    "ExecuteTime": {
     "end_time": "2019-10-28T02:50:01.027356Z",
     "start_time": "2019-10-28T02:50:01.020733Z"
    }
   },
   "outputs": [],
   "source": [
    "ddd =read_table(document.tables[0])"
   ]
  },
  {
   "cell_type": "code",
   "execution_count": 13,
   "metadata": {
    "ExecuteTime": {
     "end_time": "2019-10-28T02:50:01.467851Z",
     "start_time": "2019-10-28T02:50:01.466110Z"
    }
   },
   "outputs": [],
   "source": [
    "# df_text"
   ]
  },
  {
   "cell_type": "code",
   "execution_count": 14,
   "metadata": {
    "ExecuteTime": {
     "end_time": "2019-10-28T02:50:01.866379Z",
     "start_time": "2019-10-28T02:50:01.863568Z"
    }
   },
   "outputs": [
    {
     "data": {
      "text/plain": [
       "'s'"
      ]
     },
     "execution_count": 14,
     "metadata": {},
     "output_type": "execute_result"
    }
   ],
   "source": [
    "# ddd.loc[0,]\n",
    "df_text.iloc[0, 16] + 's'"
   ]
  },
  {
   "cell_type": "code",
   "execution_count": 15,
   "metadata": {
    "ExecuteTime": {
     "end_time": "2019-10-28T02:50:02.268432Z",
     "start_time": "2019-10-28T02:50:02.266427Z"
    }
   },
   "outputs": [],
   "source": [
    "# df_text.iloc[9,:]"
   ]
  },
  {
   "cell_type": "code",
   "execution_count": 16,
   "metadata": {
    "ExecuteTime": {
     "end_time": "2019-10-28T02:50:02.674631Z",
     "start_time": "2019-10-28T02:50:02.672991Z"
    }
   },
   "outputs": [],
   "source": [
    "# fpath = '/media/xenakas/ext4_drive/data_goszak/2_data_goszak_renamed/' + df_text.iloc[9,-1]\n",
    "# Document(fpath)"
   ]
  },
  {
   "cell_type": "code",
   "execution_count": 17,
   "metadata": {
    "ExecuteTime": {
     "end_time": "2019-10-28T02:50:03.079914Z",
     "start_time": "2019-10-28T02:50:03.077344Z"
    }
   },
   "outputs": [
    {
     "data": {
      "text/plain": [
       "'45.docx'"
      ]
     },
     "execution_count": 17,
     "metadata": {},
     "output_type": "execute_result"
    }
   ],
   "source": [
    "df_text.iloc[9, -1]"
   ]
  },
  {
   "cell_type": "code",
   "execution_count": 35,
   "metadata": {
    "ExecuteTime": {
     "end_time": "2019-10-28T03:11:50.811155Z",
     "start_time": "2019-10-28T03:11:50.792845Z"
    }
   },
   "outputs": [],
   "source": [
    "df_text = df.copy()\n",
    "df_text = df_text.fillna('')\n",
    "df_text.iloc[:, 14:24] = ''"
   ]
  },
  {
   "cell_type": "code",
   "execution_count": 36,
   "metadata": {
    "ExecuteTime": {
     "end_time": "2019-10-28T03:12:05.157063Z",
     "start_time": "2019-10-28T03:12:05.153500Z"
    }
   },
   "outputs": [
    {
     "data": {
      "text/plain": [
       "4439"
      ]
     },
     "execution_count": 36,
     "metadata": {},
     "output_type": "execute_result"
    }
   ],
   "source": [
    "df_text.shape[0]"
   ]
  },
  {
   "cell_type": "code",
   "execution_count": 37,
   "metadata": {
    "ExecuteTime": {
     "end_time": "2019-10-28T04:17:53.295183Z",
     "start_time": "2019-10-28T03:12:13.394079Z"
    },
    "scrolled": true
   },
   "outputs": [
    {
     "name": "stdout",
     "output_type": "stream",
     "text": [
      "0\n",
      "taberror 43 in 21\n",
      "taberror 7 in 31\n",
      "taberror 3 in 69\n",
      "taberror 4 in 148\n",
      "taberror 7 in 186\n",
      "taberror 6 in 192\n",
      "250\n",
      "taberror 5 in 260\n",
      "taberror 0 in 384\n",
      "taberror 11 in 400\n",
      "500\n",
      "taberror 5 in 564\n",
      "taberror 4 in 578\n",
      "taberror 4 in 618\n",
      "taberror 6 in 619\n",
      "taberror 10 in 680\n",
      "750\n",
      "taberror 6 in 792\n",
      "taberror 7 in 883\n",
      "1000\n",
      "taberror 5 in 1028\n",
      "taberror 11 in 1032\n",
      "taberror 5 in 1082\n",
      "taberror 3 in 1161\n",
      "taberror 4 in 1179\n",
      "taberror 4 in 1200\n",
      "taberror 5 in 1202\n",
      "taberror 2 in 1209\n",
      "taberror 3 in 1216\n",
      "1250\n",
      "taberror 0 in 1347\n",
      "taberror 1 in 1352\n",
      "taberror 1 in 1353\n",
      "taberror 3 in 1372\n",
      "taberror 3 in 1374\n",
      "1500\n",
      "taberror 8 in 1561\n",
      "taberror 5 in 1605\n",
      "taberror 0 in 1676\n",
      "taberror 3 in 1682\n",
      "1750\n",
      "taberror 2 in 1756\n",
      "taberror 8 in 1756\n",
      "taberror 14 in 1756\n",
      "taberror 6 in 1840\n",
      "taberror 5 in 1842\n",
      "taberror 4 in 1847\n",
      "taberror 4 in 1933\n",
      "taberror 8 in 1933\n",
      "taberror 5 in 1949\n",
      "taberror 0 in 1967\n",
      "taberror 3 in 1988\n",
      "2000\n",
      "taberror 11 in 2078\n",
      "taberror 4 in 2083\n",
      "taberror 2 in 2101\n",
      "taberror 5 in 2108\n",
      "taberror 12 in 2108\n",
      "readerror 2115\n",
      "readerror 2116\n",
      "taberror 10 in 2127\n",
      "taberror 11 in 2127\n",
      "taberror 0 in 2149\n",
      "taberror 3 in 2150\n",
      "taberror 4 in 2151\n",
      "taberror 4 in 2161\n",
      "taberror 1 in 2197\n",
      "taberror 5 in 2197\n",
      "taberror 4 in 2202\n",
      "taberror 5 in 2202\n",
      "taberror 6 in 2249\n",
      "taberror 7 in 2249\n",
      "2250\n",
      "readerror 2270\n",
      "taberror 5 in 2271\n",
      "taberror 0 in 2301\n",
      "taberror 5 in 2342\n",
      "taberror 5 in 2458\n",
      "taberror 5 in 2470\n",
      "2500\n",
      "readerror 2536\n",
      "taberror 5 in 2545\n",
      "readerror 2596\n",
      "taberror 12 in 2604\n",
      "taberror 5 in 2632\n",
      "taberror 4 in 2640\n",
      "taberror 8 in 2695\n",
      "2750\n",
      "taberror 6 in 2851\n",
      "taberror 5 in 2904\n",
      "3000\n",
      "taberror 7 in 3094\n",
      "taberror 6 in 3181\n",
      "taberror 7 in 3210\n",
      "3250\n",
      "taberror 5 in 3269\n",
      "taberror 4 in 3331\n",
      "taberror 5 in 3334\n",
      "taberror 5 in 3338\n",
      "taberror 5 in 3362\n",
      "3500\n",
      "taberror 3 in 3502\n",
      "taberror 2 in 3525\n",
      "taberror 3 in 3528\n",
      "taberror 4 in 3597\n",
      "taberror 6 in 3701\n",
      "taberror 2 in 3712\n",
      "taberror 2 in 3717\n",
      "3750\n",
      "taberror 5 in 3762\n",
      "taberror 7 in 3936\n",
      "taberror 11 in 3936\n",
      "taberror 10 in 3941\n",
      "taberror 8 in 3943\n",
      "taberror 1 in 3974\n",
      "4000\n",
      "taberror 5 in 4018\n",
      "taberror 4 in 4068\n",
      "taberror 4 in 4136\n",
      "4250\n",
      "taberror 6 in 4255\n",
      "taberror 6 in 4258\n",
      "taberror 10 in 4258\n",
      "taberror 6 in 4288\n",
      "taberror 0 in 4409\n",
      "taberror 6 in 4433\n"
     ]
    }
   ],
   "source": [
    "for l in range(df_text.shape[0]):\n",
    "# for l in range(2):    \n",
    "    if l%250 == 0:\n",
    "        print(l)\n",
    "    fpath = '/media/xenakas/ext4_drive/data_goszak/2_data_goszak_renamed/' + df_text.iloc[l,-1]\n",
    "    \n",
    "    try:\n",
    "        document = Document(fpath)\n",
    "    except:\n",
    "        print('readerror',  l)\n",
    "        continue \n",
    "\n",
    "    for k in range(len(document.tables)):\n",
    "        table = document.tables[k]\n",
    "        try: \n",
    "            data = read_table(table)\n",
    "            data = data.fillna('')\n",
    "    \n",
    "    \n",
    "            for s in range(data.shape[0]):\n",
    "                for i in range(len(keywords)):\n",
    "                    for j in range(len(keywords[i])):\n",
    "                        if any(data.iloc[s,:].str.contains(keywords[i][j])):\n",
    "                            dstr = ' '.join(data.iloc[s,:].values)\n",
    "                            df_text.iloc[l,14+i] = df_text.iloc[l,14+i] + dstr + '; '\n",
    "\n",
    "        except:\n",
    "            print('taberror', k, 'in', l)\n",
    "            continue\n",
    "    \n",
    "    \n",
    "                    "
   ]
  },
  {
   "cell_type": "code",
   "execution_count": 38,
   "metadata": {
    "ExecuteTime": {
     "end_time": "2019-10-28T04:18:39.371406Z",
     "start_time": "2019-10-28T04:18:33.435234Z"
    }
   },
   "outputs": [],
   "source": [
    "df_text.to_excel('text_df.xlsx')"
   ]
  },
  {
   "cell_type": "code",
   "execution_count": 75,
   "metadata": {
    "ExecuteTime": {
     "end_time": "2019-10-28T04:38:24.490049Z",
     "start_time": "2019-10-28T04:38:24.487239Z"
    }
   },
   "outputs": [],
   "source": [
    "# df_text.iloc[:,14:]"
   ]
  },
  {
   "cell_type": "markdown",
   "metadata": {},
   "source": [
    "##### God Vipuska"
   ]
  },
  {
   "cell_type": "code",
   "execution_count": 49,
   "metadata": {
    "ExecuteTime": {
     "end_time": "2019-10-28T04:28:00.139593Z",
     "start_time": "2019-10-28T04:28:00.136509Z"
    }
   },
   "outputs": [],
   "source": [
    "import re"
   ]
  },
  {
   "cell_type": "code",
   "execution_count": 2063,
   "metadata": {
    "ExecuteTime": {
     "end_time": "2019-10-28T17:12:17.058550Z",
     "start_time": "2019-10-28T17:12:14.567558Z"
    }
   },
   "outputs": [],
   "source": [
    "df_text = pd.read_excel('text_df.xlsx',\n",
    "                           dtype={'purchase_number': object})\n"
   ]
  },
  {
   "cell_type": "code",
   "execution_count": 2064,
   "metadata": {
    "ExecuteTime": {
     "end_time": "2019-10-28T17:12:17.735540Z",
     "start_time": "2019-10-28T17:12:17.724923Z"
    }
   },
   "outputs": [],
   "source": [
    "df_text = df_text.fillna('')"
   ]
  },
  {
   "cell_type": "code",
   "execution_count": 2083,
   "metadata": {
    "ExecuteTime": {
     "end_time": "2019-10-28T17:17:52.321467Z",
     "start_time": "2019-10-28T17:17:52.318806Z"
    }
   },
   "outputs": [],
   "source": [
    "df_text_2['potreb_gorod'] =  df_text['potreb_gorod']  \n",
    "# = df_text.copy()\n",
    "\n"
   ]
  },
  {
   "cell_type": "code",
   "execution_count": 2038,
   "metadata": {
    "ExecuteTime": {
     "end_time": "2019-10-28T17:04:39.543856Z",
     "start_time": "2019-10-28T17:04:39.539883Z"
    }
   },
   "outputs": [
    {
     "data": {
      "text/plain": [
       "0        \n",
       "1        \n",
       "2        \n",
       "3        \n",
       "4        \n",
       "       ..\n",
       "4434     \n",
       "4435     \n",
       "4436     \n",
       "4437     \n",
       "4438     \n",
       "Name: potreb_gorod, Length: 4439, dtype: object"
      ]
     },
     "execution_count": 2038,
     "metadata": {},
     "output_type": "execute_result"
    }
   ],
   "source": [
    "df_text_2.iloc[:, 24]\n",
    "\n",
    "# df_text_2['potreb_gorod'].unique()"
   ]
  },
  {
   "cell_type": "code",
   "execution_count": 424,
   "metadata": {
    "ExecuteTime": {
     "end_time": "2019-10-28T08:45:21.839178Z",
     "start_time": "2019-10-28T08:45:21.835514Z"
    }
   },
   "outputs": [],
   "source": [
    "# df_text_2 = df_text_2.drop(' korobka', axis=1)"
   ]
  },
  {
   "cell_type": "code",
   "execution_count": 178,
   "metadata": {
    "ExecuteTime": {
     "end_time": "2019-10-28T07:05:11.320490Z",
     "start_time": "2019-10-28T07:05:11.317771Z"
    }
   },
   "outputs": [],
   "source": [
    "keywords = [['выпуска', 'изготовления'], ['Коробка', 'коробка', 'трансмисси', 'Трансмисси'], ['Привод', 'привод'], ['Ширина', 'ширина'],\n",
    "            ['Длина', 'длина'],\n",
    " ['снаряженная', 'Снаряженная'], ['Объем двигателя', 'объем двигателя'],  ['Скорость', 'скорость'], ['Мощность', 'мощность'], \n",
    "            ['городской цикл', 'Городской цикл'] ]\n",
    "\n",
    "\n"
   ]
  },
  {
   "cell_type": "code",
   "execution_count": 530,
   "metadata": {
    "ExecuteTime": {
     "end_time": "2019-10-28T09:38:28.841111Z",
     "start_time": "2019-10-28T09:38:28.837915Z"
    }
   },
   "outputs": [],
   "source": [
    "# df_text_2['god_vipuska']"
   ]
  },
  {
   "cell_type": "code",
   "execution_count": 2084,
   "metadata": {
    "ExecuteTime": {
     "end_time": "2019-10-28T17:18:17.770706Z",
     "start_time": "2019-10-28T17:17:56.483641Z"
    }
   },
   "outputs": [],
   "source": [
    "for s in range(df_text_2.shape[0]):\n",
    "    for i in range(len(keywords)):\n",
    "        arr1 = df_text_2.iloc[s,15+i].split('\\n')\n",
    "        arr2 = [False] * len(arr1) \n",
    "        for j in range(1):\n",
    "            arr3 = [keywords[i][j] in k for k in arr1]\n",
    "            arr4 = np.logical_or(np.array(arr2), np.array(arr3))\n",
    "            \n",
    "        arr1 = np.array(arr1)\n",
    "        arr1 = arr1[arr4]\n",
    "        arr1 = '; '.join(arr1)\n",
    "        df_text_2.iloc[s,15+i] = arr1\n",
    "        \n",
    "#             any(data.iloc[s,:].str.contains(keywords[i][j]))\n",
    "            "
   ]
  },
  {
   "cell_type": "code",
   "execution_count": 2085,
   "metadata": {
    "ExecuteTime": {
     "end_time": "2019-10-28T17:18:38.468693Z",
     "start_time": "2019-10-28T17:18:18.465599Z"
    }
   },
   "outputs": [],
   "source": [
    "for s in range(df_text_2.shape[0]):\n",
    "    for i in range(len(keywords)):\n",
    "        sss = df_text_2.iloc[s,15+i]\n",
    "        sss = sss.lower()\n",
    "        sss = re.sub('[^0-9а-яА-Я]+', '', sss)\n",
    "        df_text_2.iloc[s,15+i] = sss"
   ]
  },
  {
   "cell_type": "code",
   "execution_count": 2029,
   "metadata": {
    "ExecuteTime": {
     "end_time": "2019-10-28T17:02:56.582734Z",
     "start_time": "2019-10-28T17:02:56.575802Z"
    }
   },
   "outputs": [
    {
     "data": {
      "text/plain": [
       "0        \n",
       "1        \n",
       "2        \n",
       "3        \n",
       "4        \n",
       "       ..\n",
       "4434     \n",
       "4435     \n",
       "4436     \n",
       "4437     \n",
       "4438     \n",
       "Name: potreb_gorod, Length: 4439, dtype: object"
      ]
     },
     "execution_count": 2029,
     "metadata": {},
     "output_type": "execute_result"
    }
   ],
   "source": [
    "df_text_2['potreb_gorod']"
   ]
  },
  {
   "cell_type": "code",
   "execution_count": null,
   "metadata": {},
   "outputs": [],
   "source": []
  },
  {
   "cell_type": "code",
   "execution_count": 648,
   "metadata": {
    "ExecuteTime": {
     "end_time": "2019-10-28T10:21:58.794291Z",
     "start_time": "2019-10-28T10:21:58.157132Z"
    }
   },
   "outputs": [],
   "source": [
    "for s in range(df_text_2.shape[0]):\n",
    "    for i in range(1):\n",
    "        sss = df_text_2.iloc[s,15+i]\n",
    "        sss = sss.split('выпуска')[-1][:4]\n",
    "#         sss = sss.split('выпуска')[-1][:4]\n",
    "        sss = re.sub('[^0-9]+', '', sss)\n",
    "        if len(sss) == 4:\n",
    "            df_text_2.iloc[s,15+i] = sss"
   ]
  },
  {
   "cell_type": "code",
   "execution_count": 614,
   "metadata": {
    "ExecuteTime": {
     "end_time": "2019-10-28T10:09:58.822208Z",
     "start_time": "2019-10-28T10:09:58.157748Z"
    }
   },
   "outputs": [],
   "source": [
    "for s in range(df_text_2.shape[0]):\n",
    "    for i in range(1):\n",
    "        sss = df_text_2.iloc[s,15+i]\n",
    "        sss = sss.split('гнеизм')[0][-4:]\n",
    "        sss = re.sub('[^0-9]+', '', sss)\n",
    "        if len(sss) == 4:\n",
    "            df_text_2.iloc[s,15+i] = sss"
   ]
  },
  {
   "cell_type": "code",
   "execution_count": 698,
   "metadata": {
    "ExecuteTime": {
     "end_time": "2019-10-28T10:35:37.838111Z",
     "start_time": "2019-10-28T10:35:37.789815Z"
    }
   },
   "outputs": [],
   "source": [
    "for s in range(df_text_2.shape[0]):\n",
    "    for i in range(1):\n",
    "        sss = df_text_2.iloc[s,15+i]\n",
    "#         sss = sss.split('г')[0][-4:]\n",
    "        sss = re.sub('[^0-9]+', '', sss)\n",
    "#         sss = sss[5:]\n",
    "#         if len(sss) < 4:\n",
    "#             df_text_2.iloc[s,15+i] = ''\n",
    "# # #         if sss == '0000':\n",
    "# #             df_text_2.iloc[s,15+i] = ''\n",
    "\n",
    "        if len(sss)>0 and int(sss)>2020:            \n",
    "            df_text_2.iloc[s,15+i] = ''\n",
    "            \n",
    "#         if ((sss == '2013')  or ( sss == '2014')  or ( sss == '2015') or              ( sss == '2016')  or ( sss == '2017')  or ( sss == '2018')  or ( sss == '2012')  or ( sss == '2011')  or ( sss == '2010')  or    ( sss == '2009')  or ( sss == '2008')  or ( sss == '2007')  or ( sss == '2006')):\n",
    "#             df_text_2.iloc[s,15+i] = sss   "
   ]
  },
  {
   "cell_type": "code",
   "execution_count": 699,
   "metadata": {
    "ExecuteTime": {
     "end_time": "2019-10-28T10:35:43.392430Z",
     "start_time": "2019-10-28T10:35:43.388669Z"
    }
   },
   "outputs": [
    {
     "data": {
      "text/plain": [
       "array(['', '2015', '2017', '2016', '2014', '2013', '2011', '2006', '2012',\n",
       "       '2010', '2007', '2003', '2000', '2008', '2009'], dtype=object)"
      ]
     },
     "execution_count": 699,
     "metadata": {},
     "output_type": "execute_result"
    }
   ],
   "source": [
    "df_text_2.iloc[:,15].unique()"
   ]
  },
  {
   "cell_type": "code",
   "execution_count": 569,
   "metadata": {
    "ExecuteTime": {
     "end_time": "2019-10-28T09:51:35.804106Z",
     "start_time": "2019-10-28T09:51:35.770915Z"
    }
   },
   "outputs": [],
   "source": [
    "for s in range(df_text_2.shape[0]):\n",
    "    for i in range(1):\n",
    "        sss = df_text_2.iloc[s,15+i]\n",
    "#         sss = sss.split('транспортногосредства')[-1][:5]\n",
    "#         sss = re.sub('[^0-9]+', '', sss)\n",
    "        if sss == 'новый':\n",
    "            df_text_2.iloc[s,15+i] = str(df_text_2.iloc[s,10])"
   ]
  },
  {
   "cell_type": "code",
   "execution_count": 571,
   "metadata": {
    "ExecuteTime": {
     "end_time": "2019-10-28T09:51:50.884520Z",
     "start_time": "2019-10-28T09:51:50.204495Z"
    }
   },
   "outputs": [],
   "source": [
    "for s in range(df_text_2.shape[0]):\n",
    "    for i in range(1):\n",
    "        sss = df_text_2.iloc[s,15+i]\n",
    "        sss = sss.split('год')[-1][-4:]\n",
    "        sss = re.sub('[^0-9]+', '', sss)\n",
    "        if len(sss) == 4:\n",
    "            df_text_2.iloc[s,15+i] = sss"
   ]
  },
  {
   "cell_type": "markdown",
   "metadata": {},
   "source": [
    "##### transmissia"
   ]
  },
  {
   "cell_type": "code",
   "execution_count": 762,
   "metadata": {
    "ExecuteTime": {
     "end_time": "2019-10-28T11:11:06.235285Z",
     "start_time": "2019-10-28T11:11:06.230694Z"
    }
   },
   "outputs": [
    {
     "data": {
      "text/plain": [
       "array(['5МКПП', '', 'вариатор', '6АКПП', 'МКПП', 'робот', 'АКПП', '6МКПП',\n",
       "       '5АКПП', 'гидро'], dtype=object)"
      ]
     },
     "execution_count": 762,
     "metadata": {},
     "output_type": "execute_result"
    }
   ],
   "source": [
    "df_text_2.iloc[:,16].unique()"
   ]
  },
  {
   "cell_type": "code",
   "execution_count": 763,
   "metadata": {
    "ExecuteTime": {
     "end_time": "2019-10-28T11:11:09.584017Z",
     "start_time": "2019-10-28T11:11:09.579829Z"
    }
   },
   "outputs": [
    {
     "data": {
      "text/plain": [
       "10"
      ]
     },
     "execution_count": 763,
     "metadata": {},
     "output_type": "execute_result"
    }
   ],
   "source": [
    "len(df_text_2.iloc[:,16].unique())"
   ]
  },
  {
   "cell_type": "code",
   "execution_count": 755,
   "metadata": {
    "ExecuteTime": {
     "end_time": "2019-10-28T11:08:15.827135Z",
     "start_time": "2019-10-28T11:08:15.754917Z"
    }
   },
   "outputs": [],
   "source": [
    "for s in range(df_text_2.shape[0]):\n",
    "    for i in range(1,2):\n",
    "        sss = df_text_2.iloc[s,15+i]\n",
    "        if (('5' in sss) or ('пяти' in sss)) and (('механи' in sss) or ('мкп' in sss)  or ('мт' in sss)): \n",
    "            df_text_2.iloc[s,15+i] = '5МКПП'\n",
    "            \n",
    "            \n",
    "        if (('5' in sss) or ('пяти' in sss)) and (('автома' in sss) or ('акп' in sss)  or ('ат' in sss)): \n",
    "            df_text_2.iloc[s,15+i] = '5АКПП'\n",
    "        if (('6' in sss) or ('шести' in sss)) and (('механи' in sss) or ('мкп' in sss)  or ('мт' in sss)): \n",
    "            df_text_2.iloc[s,15+i] = '6МКПП'\n",
    "        if (('6' in sss) or ('шести' in sss)) and (('автома' in sss) or ('акп' in sss)  or ('ат' in sss)): \n",
    "            df_text_2.iloc[s,15+i] = '6АКПП'\n",
    "#         if 'пятиступенчатая' in sss: \n",
    "#             df_text_2.iloc[s,15+i] = '5АКПП'\n",
    "#         if 'мт' in sss: \n",
    "#             df_text_2.iloc[s,15+i] = 'МКПП'\n",
    "#         if 'акпп' in sss: \n",
    "#             df_text_2.iloc[s,15+i] = 'АКПП'        \n",
    "        if 'вариатор' in sss: \n",
    "            df_text_2.iloc[s,15+i] = 'вариатор'\n",
    "        if 'робот' in sss: \n",
    "            df_text_2.iloc[s,15+i] = 'робот'\n",
    "        if 'гидро' in sss: \n",
    "            df_text_2.iloc[s,15+i] = 'гидро'            \n",
    "        if ('механи' in sss)  or  ('мкп' in sss): \n",
    "            df_text_2.iloc[s,15+i] = 'МКПП'\n",
    "        if ('автом' in sss)  or  ('акп' in sss): \n",
    "            df_text_2.iloc[s,15+i] = 'АКПП'\n",
    "        if 'мт' in sss: \n",
    "            df_text_2.iloc[s,15+i] = 'МКПП'\n",
    "        if 'раздаточная' in sss: \n",
    "            df_text_2.iloc[s,15+i] = 'раздаточная'\n",
    "\n",
    "        if (('5ст' in sss) or ('5мех' in sss)): \n",
    "            df_text_2.iloc[s,15+i] = '5МКПП'\n",
    "            \n",
    "            \n",
    "            \n",
    "#         if '5ступенчатая' in sss: \n",
    "#             df_text_2.iloc[s,15+i] = '5МКПП'"
   ]
  },
  {
   "cell_type": "code",
   "execution_count": 759,
   "metadata": {
    "ExecuteTime": {
     "end_time": "2019-10-28T11:09:19.410903Z",
     "start_time": "2019-10-28T11:09:17.471277Z"
    }
   },
   "outputs": [],
   "source": [
    "for s in range(df_text_2.shape[0]):\n",
    "    for i in range(1,2):\n",
    "        sss = df_text_2.iloc[s,15+i]\n",
    "        sss = sss.replace('неранее', '')\n",
    "        df_text_2.iloc[s,15+i] = sss"
   ]
  },
  {
   "cell_type": "code",
   "execution_count": 761,
   "metadata": {
    "ExecuteTime": {
     "end_time": "2019-10-28T11:11:03.239929Z",
     "start_time": "2019-10-28T11:11:01.832268Z"
    }
   },
   "outputs": [],
   "source": [
    "for s in range(df_text_2.shape[0]):\n",
    "    for i in range(1,2):\n",
    "        sss = df_text_2.iloc[s,15+i]\n",
    "        if not(('вариатор' in sss) or ('МКПП' in sss) or ('АКПП' in sss) or ('робот' in sss) or ('гидро' in sss)):\n",
    "            df_text_2.iloc[s,15+i] = ''"
   ]
  },
  {
   "cell_type": "code",
   "execution_count": 933,
   "metadata": {
    "ExecuteTime": {
     "end_time": "2019-10-28T12:24:47.379466Z",
     "start_time": "2019-10-28T12:24:44.887043Z"
    }
   },
   "outputs": [],
   "source": [
    "df_text_2.to_excel('ttt.xlsx')"
   ]
  },
  {
   "cell_type": "markdown",
   "metadata": {},
   "source": [
    "##### privod"
   ]
  },
  {
   "cell_type": "code",
   "execution_count": 932,
   "metadata": {
    "ExecuteTime": {
     "end_time": "2019-10-28T12:24:36.919057Z",
     "start_time": "2019-10-28T12:24:36.913355Z"
    }
   },
   "outputs": [
    {
     "data": {
      "text/plain": [
       "array(['жестко', '', 'передний', 'полный', 'гидравлический', 'пофул',\n",
       "       'задний', 'подфул', 'комбинированный', 'двухзонный'], dtype=object)"
      ]
     },
     "execution_count": 932,
     "metadata": {},
     "output_type": "execute_result"
    }
   ],
   "source": [
    "df_text_2.iloc[:,17].unique()"
   ]
  },
  {
   "cell_type": "code",
   "execution_count": 931,
   "metadata": {
    "ExecuteTime": {
     "end_time": "2019-10-28T12:24:34.360594Z",
     "start_time": "2019-10-28T12:24:34.356869Z"
    }
   },
   "outputs": [
    {
     "data": {
      "text/plain": [
       "10"
      ]
     },
     "execution_count": 931,
     "metadata": {},
     "output_type": "execute_result"
    }
   ],
   "source": [
    "len(df_text_2.iloc[:,17].unique())\n",
    "\n",
    "# sum(df_text_2.iloc[:,17] != '')"
   ]
  },
  {
   "cell_type": "code",
   "execution_count": 930,
   "metadata": {
    "ExecuteTime": {
     "end_time": "2019-10-28T12:24:31.195335Z",
     "start_time": "2019-10-28T12:24:30.852683Z"
    }
   },
   "outputs": [],
   "source": [
    "for s in range(df_text_2.shape[0]):\n",
    "    for i in range(2,3):\n",
    "        sss = df_text_2.iloc[s,15+i]\n",
    "        if ('жестко' in sss): \n",
    "            df_text_2.iloc[s,15+i] = 'жестко'\n",
    "            \n",
    "        if ('постоянный полный' in sss) or ('постоянныйнавсе' in sss): \n",
    "            df_text_2.iloc[s,15+i] = 'пофул'\n",
    "\n",
    "        if 'подключаем' in sss: \n",
    "            df_text_2.iloc[s,15+i] = 'подфул'\n",
    "            \n",
    "        if 'двухзонный' in sss: \n",
    "            df_text_2.iloc[s,15+i] = 'двухзонный'\n",
    "            \n",
    "        if 'комбинированный' in sss: \n",
    "            df_text_2.iloc[s,15+i] = 'комбинированный'\n",
    "\n",
    "        if 'гидр' in sss: \n",
    "            df_text_2.iloc[s,15+i] = 'гидравлический'\n",
    "            \n",
    "            \n",
    "        if ('перед' in sss)  : \n",
    "            df_text_2.iloc[s,15+i] = 'передний'\n",
    "            \n",
    "        if ('4х2' in sss)  or ('задн' in sss):  \n",
    "            df_text_2.iloc[s,15+i] = 'задний'            \n",
    "            \n",
    "        if  ('полн' in sss)  or ('4х4' in sss) :  \n",
    "            df_text_2.iloc[s,15+i] = 'полный'\n",
    "            \n",
    "\n",
    "        if ('на' in sss) or ('седан' in sss):  \n",
    "            df_text_2.iloc[s,15+i] = ''\n",
    "            \n",
    "    \n",
    "            \n",
    "            \n",
    "#         if 'робот' in sss: \n",
    "#             df_text_2.iloc[s,15+i] = 'робот'\n",
    "#         if 'гидро' in sss: \n",
    "#             df_text_2.iloc[s,15+i] = 'гидро'            \n",
    "#         if ('механи' in sss)  or  ('мкп' in sss): \n",
    "#             df_text_2.iloc[s,15+i] = 'МКПП'\n",
    "#         if ('автом' in sss)  or  ('акп' in sss): \n",
    "#             df_text_2.iloc[s,15+i] = 'АКПП'\n",
    "#         if 'мт' in sss: \n",
    "#             df_text_2.iloc[s,15+i] = 'МКПП'\n",
    "#         if 'раздаточная' in sss: \n",
    "#             df_text_2.iloc[s,15+i] = 'раздаточная'\n"
   ]
  },
  {
   "cell_type": "code",
   "execution_count": 927,
   "metadata": {
    "ExecuteTime": {
     "end_time": "2019-10-28T12:24:02.714378Z",
     "start_time": "2019-10-28T12:24:02.711167Z"
    }
   },
   "outputs": [],
   "source": [
    "# электрообогрев"
   ]
  },
  {
   "cell_type": "code",
   "execution_count": 913,
   "metadata": {
    "ExecuteTime": {
     "end_time": "2019-10-28T12:20:59.142348Z",
     "start_time": "2019-10-28T12:20:57.176704Z"
    }
   },
   "outputs": [],
   "source": [
    "for s in range(df_text_2.shape[0]):\n",
    "    for i in range(2,3):\n",
    "        sss = df_text_2.iloc[s,15+i]\n",
    "#         sss = sss.replace('привод', '')\n",
    "        sss = re.sub('[^а-я]+', '', sss)\n",
    "        df_text_2.iloc[s,15+i] = sss"
   ]
  },
  {
   "cell_type": "code",
   "execution_count": 850,
   "metadata": {
    "ExecuteTime": {
     "end_time": "2019-10-28T12:01:31.844253Z",
     "start_time": "2019-10-28T12:01:31.839110Z"
    }
   },
   "outputs": [
    {
     "data": {
      "text/plain": [
       "'арыоы'"
      ]
     },
     "execution_count": 850,
     "metadata": {},
     "output_type": "execute_result"
    }
   ],
   "source": [
    "sss = 'df.igfdjарыоыloc[17,17]'\n",
    "re.sub('[^а-я]+', '', sss)"
   ]
  },
  {
   "cell_type": "code",
   "execution_count": 761,
   "metadata": {
    "ExecuteTime": {
     "end_time": "2019-10-28T11:11:03.239929Z",
     "start_time": "2019-10-28T11:11:01.832268Z"
    }
   },
   "outputs": [],
   "source": [
    "# for s in range(df_text_2.shape[0]):\n",
    "#     for i in range(1,2):\n",
    "#         sss = df_text_2.iloc[s,15+i]\n",
    "#         if not(('вариатор' in sss) or ('МКПП' in sss) or ('АКПП' in sss) or ('робот' in sss) or ('гидро' in sss)):\n",
    "#             df_text_2.iloc[s,15+i] = ''"
   ]
  },
  {
   "cell_type": "code",
   "execution_count": 1419,
   "metadata": {
    "ExecuteTime": {
     "end_time": "2019-10-28T14:07:16.884366Z",
     "start_time": "2019-10-28T14:07:14.415712Z"
    }
   },
   "outputs": [],
   "source": [
    "df_text_2.to_excel('ttt.xlsx')"
   ]
  },
  {
   "cell_type": "code",
   "execution_count": 29,
   "metadata": {
    "ExecuteTime": {
     "end_time": "2019-10-28T03:10:01.422319Z",
     "start_time": "2019-10-28T03:09:59.650579Z"
    }
   },
   "outputs": [],
   "source": [
    "for k in range(len(document.tables)):\n",
    "    table = document.tables[k]\n",
    "    data = read_table(table)\n",
    "    data = data.fillna('')\n",
    "\n",
    "\n",
    "    for s in range(data.shape[0]):\n",
    "        for i in range(len(keywords)):\n",
    "            for j in range(len(keywords[i])):\n",
    "                if any(data.iloc[s,:].str.contains(keywords[i][j])):\n",
    "                    dstr = ' '.join(data.iloc[s,:].values)\n",
    "                    df_text.iloc[l,14+i] = df_text.iloc[l,14+i] + dstr + '; '\n",
    "\n",
    "       "
   ]
  },
  {
   "cell_type": "markdown",
   "metadata": {},
   "source": [
    "##### length"
   ]
  },
  {
   "cell_type": "code",
   "execution_count": null,
   "metadata": {},
   "outputs": [],
   "source": []
  },
  {
   "cell_type": "code",
   "execution_count": 932,
   "metadata": {
    "ExecuteTime": {
     "end_time": "2019-10-28T12:24:36.919057Z",
     "start_time": "2019-10-28T12:24:36.913355Z"
    }
   },
   "outputs": [
    {
     "data": {
      "text/plain": [
       "array(['жестко', '', 'передний', 'полный', 'гидравлический', 'пофул',\n",
       "       'задний', 'подфул', 'комбинированный', 'двухзонный'], dtype=object)"
      ]
     },
     "execution_count": 932,
     "metadata": {},
     "output_type": "execute_result"
    }
   ],
   "source": [
    "df_text_2.iloc[:,17].unique()"
   ]
  },
  {
   "cell_type": "code",
   "execution_count": 931,
   "metadata": {
    "ExecuteTime": {
     "end_time": "2019-10-28T12:24:34.360594Z",
     "start_time": "2019-10-28T12:24:34.356869Z"
    }
   },
   "outputs": [
    {
     "data": {
      "text/plain": [
       "10"
      ]
     },
     "execution_count": 931,
     "metadata": {},
     "output_type": "execute_result"
    }
   ],
   "source": [
    "len(df_text_2.iloc[:,17].unique())\n",
    "\n",
    "# sum(df_text_2.iloc[:,17] != '')"
   ]
  },
  {
   "cell_type": "code",
   "execution_count": 930,
   "metadata": {
    "ExecuteTime": {
     "end_time": "2019-10-28T12:24:31.195335Z",
     "start_time": "2019-10-28T12:24:30.852683Z"
    }
   },
   "outputs": [],
   "source": [
    "for s in range(df_text_2.shape[0]):\n",
    "    for i in range(2,3):\n",
    "        sss = df_text_2.iloc[s,15+i]\n",
    "        if ('жестко' in sss): \n",
    "            df_text_2.iloc[s,15+i] = 'жестко'\n",
    "            \n",
    "        if ('постоянный полный' in sss) or ('постоянныйнавсе' in sss): \n",
    "            df_text_2.iloc[s,15+i] = 'пофул'\n",
    "\n",
    "        if 'подключаем' in sss: \n",
    "            df_text_2.iloc[s,15+i] = 'подфул'\n",
    "            \n",
    "        if 'двухзонный' in sss: \n",
    "            df_text_2.iloc[s,15+i] = 'двухзонный'\n",
    "            \n",
    "        if 'комбинированный' in sss: \n",
    "            df_text_2.iloc[s,15+i] = 'комбинированный'\n",
    "\n",
    "        if 'гидр' in sss: \n",
    "            df_text_2.iloc[s,15+i] = 'гидравлический'\n",
    "            \n",
    "            \n",
    "        if ('перед' in sss)  : \n",
    "            df_text_2.iloc[s,15+i] = 'передний'\n",
    "            \n",
    "        if ('4х2' in sss)  or ('задн' in sss):  \n",
    "            df_text_2.iloc[s,15+i] = 'задний'            \n",
    "            \n",
    "        if  ('полн' in sss)  or ('4х4' in sss) :  \n",
    "            df_text_2.iloc[s,15+i] = 'полный'\n",
    "            \n",
    "\n",
    "        if ('на' in sss) or ('седан' in sss):  \n",
    "            df_text_2.iloc[s,15+i] = ''\n",
    "            \n",
    "    \n",
    "            \n",
    "            \n",
    "#         if 'робот' in sss: \n",
    "#             df_text_2.iloc[s,15+i] = 'робот'\n",
    "#         if 'гидро' in sss: \n",
    "#             df_text_2.iloc[s,15+i] = 'гидро'            \n",
    "#         if ('механи' in sss)  or  ('мкп' in sss): \n",
    "#             df_text_2.iloc[s,15+i] = 'МКПП'\n",
    "#         if ('автом' in sss)  or  ('акп' in sss): \n",
    "#             df_text_2.iloc[s,15+i] = 'АКПП'\n",
    "#         if 'мт' in sss: \n",
    "#             df_text_2.iloc[s,15+i] = 'МКПП'\n",
    "#         if 'раздаточная' in sss: \n",
    "#             df_text_2.iloc[s,15+i] = 'раздаточная'\n"
   ]
  },
  {
   "cell_type": "code",
   "execution_count": 927,
   "metadata": {
    "ExecuteTime": {
     "end_time": "2019-10-28T12:24:02.714378Z",
     "start_time": "2019-10-28T12:24:02.711167Z"
    }
   },
   "outputs": [],
   "source": [
    "# электрообогрев"
   ]
  },
  {
   "cell_type": "code",
   "execution_count": 913,
   "metadata": {
    "ExecuteTime": {
     "end_time": "2019-10-28T12:20:59.142348Z",
     "start_time": "2019-10-28T12:20:57.176704Z"
    }
   },
   "outputs": [],
   "source": [
    "for s in range(df_text_2.shape[0]):\n",
    "    for i in range(2,3):\n",
    "        sss = df_text_2.iloc[s,15+i]\n",
    "#         sss = sss.replace('привод', '')\n",
    "        sss = re.sub('[^а-я]+', '', sss)\n",
    "        df_text_2.iloc[s,15+i] = sss"
   ]
  },
  {
   "cell_type": "code",
   "execution_count": 850,
   "metadata": {
    "ExecuteTime": {
     "end_time": "2019-10-28T12:01:31.844253Z",
     "start_time": "2019-10-28T12:01:31.839110Z"
    }
   },
   "outputs": [
    {
     "data": {
      "text/plain": [
       "'арыоы'"
      ]
     },
     "execution_count": 850,
     "metadata": {},
     "output_type": "execute_result"
    }
   ],
   "source": [
    "sss = 'df.igfdjарыоыloc[17,17]'\n",
    "re.sub('[^а-я]+', '', sss)"
   ]
  },
  {
   "cell_type": "code",
   "execution_count": 761,
   "metadata": {
    "ExecuteTime": {
     "end_time": "2019-10-28T11:11:03.239929Z",
     "start_time": "2019-10-28T11:11:01.832268Z"
    }
   },
   "outputs": [],
   "source": [
    "# for s in range(df_text_2.shape[0]):\n",
    "#     for i in range(1,2):\n",
    "#         sss = df_text_2.iloc[s,15+i]\n",
    "#         if not(('вариатор' in sss) or ('МКПП' in sss) or ('АКПП' in sss) or ('робот' in sss) or ('гидро' in sss)):\n",
    "#             df_text_2.iloc[s,15+i] = ''"
   ]
  },
  {
   "cell_type": "code",
   "execution_count": 1419,
   "metadata": {
    "ExecuteTime": {
     "end_time": "2019-10-28T14:07:16.884366Z",
     "start_time": "2019-10-28T14:07:14.415712Z"
    }
   },
   "outputs": [],
   "source": [
    "df_text_2.to_excel('ttt.xlsx')"
   ]
  },
  {
   "cell_type": "code",
   "execution_count": 29,
   "metadata": {
    "ExecuteTime": {
     "end_time": "2019-10-28T03:10:01.422319Z",
     "start_time": "2019-10-28T03:09:59.650579Z"
    }
   },
   "outputs": [],
   "source": [
    "for k in range(len(document.tables)):\n",
    "    table = document.tables[k]\n",
    "    data = read_table(table)\n",
    "    data = data.fillna('')\n",
    "\n",
    "\n",
    "    for s in range(data.shape[0]):\n",
    "        for i in range(len(keywords)):\n",
    "            for j in range(len(keywords[i])):\n",
    "                if any(data.iloc[s,:].str.contains(keywords[i][j])):\n",
    "                    dstr = ' '.join(data.iloc[s,:].values)\n",
    "                    df_text.iloc[l,14+i] = df_text.iloc[l,14+i] + dstr + '; '\n",
    "\n",
    "       "
   ]
  },
  {
   "cell_type": "code",
   "execution_count": null,
   "metadata": {},
   "outputs": [],
   "source": []
  },
  {
   "cell_type": "markdown",
   "metadata": {},
   "source": [
    "#### mmm\n"
   ]
  },
  {
   "cell_type": "code",
   "execution_count": 1485,
   "metadata": {
    "ExecuteTime": {
     "end_time": "2019-10-28T14:23:45.666387Z",
     "start_time": "2019-10-28T14:23:45.654713Z"
    }
   },
   "outputs": [
    {
     "data": {
      "text/plain": [
       "array(['4700', '', '4620', '4346', '4785', '4440', '4750', '4640', '4645',\n",
       "       '5500', '4140', '4658', '4056', '4701', '4370', '4622', '4647',\n",
       "       '3740', '4520', '4360', '4850', '4863', '4680', '4780', '4295',\n",
       "       '4363', '4315', '4500', '4246', '2085', '4240', '4470', '4350',\n",
       "       '4260', '4390', '4990', '4039', '4656', '4600', '4825', '4300',\n",
       "       '4385', '5475', '4000', '4847', '5540', '4530', '4790', '4840',\n",
       "       '4441', '4333', '2146', '4900', '4200', '6700', '4410', '4659',\n",
       "       '2200', '5110', '4165', '4250', '4288', '4625', '4556', '7345',\n",
       "       '3640', '4265', '4270', '3919', '4100', '4800', '4904', '4135',\n",
       "       '3844', '5000', '4446', '4290', '2601', '4501', '4849', '4358',\n",
       "       '4400', '5446', '4940', '4630', '5424', '5523', '4426', '5040',\n",
       "       '4465', '6591', '4870', '4560', '7000', '4375', '4340', '4905',\n",
       "       '4972', '4871', '4835', '5700', '4483', '4570', '4342', '3421',\n",
       "       '4635', '4213', '3189', '7505', '7501', '4048', '2900', '6000',\n",
       "       '4060', '4045', '4845', '4605', '4101', '4644', '4810', '8128',\n",
       "       '4337', '3461', '3151', '4705', '6701', '2080', '3631', '4695',\n",
       "       '4120', '4650', '6200', '4104', '4050', '4084', '4255', '2020',\n",
       "       '4534', '4524', '4384', '4450', '2155', '4320', '4587', '4755',\n",
       "       '3893', '5800', '5421', '6790', '4880', '4377', '4540', '8924',\n",
       "       '4115', '4538', '4175', '5125', '4380', '4730', '4310', '3900',\n",
       "       '4621', '5470', '4245', '2910', '8631', '5680', '6412', '6470',\n",
       "       '4555', '8380', '2400', '4055', '4080', '4740', '5002', '4830',\n",
       "       '6594', '5183', '4405', '3901', '3720', '3410', '4154', '4550',\n",
       "       '4467', '5020', '4480', '3469', '4795', '4670', '5400', '5234',\n",
       "       '7850', '4374', '4479', '3152', '4378', '5120', '2144', '4220',\n",
       "       '4273', '4855', '3501', '7020', '5100', '4335', '6403', '4004',\n",
       "       '8405', '8501', '3500', '4770', '6501', '4763', '5095', '4345',\n",
       "       '8931', '4745', '5010', '3700', '2602', '2730', '4703', '6207',\n",
       "       '4559', '4685', '4655', '4820', '6062', '3032', '5001', '4860',\n",
       "       '4280', '4279', '3140', '5510', '4040', '5006', '1900', '4475',\n",
       "       '4180', '5440', '4505', '5200', '4660', '5445', '4415', '8770',\n",
       "       '3159', '4933'], dtype=object)"
      ]
     },
     "execution_count": 1485,
     "metadata": {},
     "output_type": "execute_result"
    }
   ],
   "source": [
    "df_text_2.iloc[:,19].unique()"
   ]
  },
  {
   "cell_type": "code",
   "execution_count": 1481,
   "metadata": {
    "ExecuteTime": {
     "end_time": "2019-10-28T14:21:34.471283Z",
     "start_time": "2019-10-28T14:21:34.467177Z"
    }
   },
   "outputs": [
    {
     "data": {
      "text/plain": [
       "389"
      ]
     },
     "execution_count": 1481,
     "metadata": {},
     "output_type": "execute_result"
    }
   ],
   "source": [
    "len(df_text_2.iloc[:,19].unique())\n",
    "\n",
    "# sum(df_text_2.iloc[:,17] != '')"
   ]
  },
  {
   "cell_type": "code",
   "execution_count": 1484,
   "metadata": {
    "ExecuteTime": {
     "end_time": "2019-10-28T14:23:43.231792Z",
     "start_time": "2019-10-28T14:23:43.176463Z"
    }
   },
   "outputs": [],
   "source": [
    "for s in range(df_text_2.shape[0]):\n",
    "    for i in range(4,5):\n",
    "        sss = df_text_2.iloc[s,15+i]\n",
    "        \n",
    "        \n",
    "#         sss = sss.split('линаширинавысотаммнеменее')[-1][:4]\n",
    "#         sss = sss.split('выпуска')[-1][:4]\n",
    "        sss = re.sub('[^0-9]+', '', sss)\n",
    "        \n",
    "    \n",
    "        if len(sss) > 0:\n",
    "            if int(sss[:4])<1900:\n",
    "                df_text_2.iloc[s,15+i] = ''\n",
    "        \n",
    "\n",
    "#         if len(sss) != 4:\n",
    "#             df_text_2.iloc[s,15+i] = ''\n",
    "   \n",
    "        "
   ]
  },
  {
   "cell_type": "code",
   "execution_count": 927,
   "metadata": {
    "ExecuteTime": {
     "end_time": "2019-10-28T12:24:02.714378Z",
     "start_time": "2019-10-28T12:24:02.711167Z"
    }
   },
   "outputs": [],
   "source": [
    "# электрообогрев"
   ]
  },
  {
   "cell_type": "code",
   "execution_count": 913,
   "metadata": {
    "ExecuteTime": {
     "end_time": "2019-10-28T12:20:59.142348Z",
     "start_time": "2019-10-28T12:20:57.176704Z"
    }
   },
   "outputs": [],
   "source": [
    "for s in range(df_text_2.shape[0]):\n",
    "    for i in range(2,3):\n",
    "        sss = df_text_2.iloc[s,15+i]\n",
    "#         sss = sss.replace('привод', '')\n",
    "        sss = re.sub('[^а-я]+', '', sss)\n",
    "        df_text_2.iloc[s,15+i] = sss"
   ]
  },
  {
   "cell_type": "code",
   "execution_count": 850,
   "metadata": {
    "ExecuteTime": {
     "end_time": "2019-10-28T12:01:31.844253Z",
     "start_time": "2019-10-28T12:01:31.839110Z"
    }
   },
   "outputs": [
    {
     "data": {
      "text/plain": [
       "'арыоы'"
      ]
     },
     "execution_count": 850,
     "metadata": {},
     "output_type": "execute_result"
    }
   ],
   "source": [
    "sss = 'df.igfdjарыоыloc[17,17]'\n",
    "re.sub('[^а-я]+', '', sss)"
   ]
  },
  {
   "cell_type": "code",
   "execution_count": 761,
   "metadata": {
    "ExecuteTime": {
     "end_time": "2019-10-28T11:11:03.239929Z",
     "start_time": "2019-10-28T11:11:01.832268Z"
    }
   },
   "outputs": [],
   "source": [
    "# for s in range(df_text_2.shape[0]):\n",
    "#     for i in range(1,2):\n",
    "#         sss = df_text_2.iloc[s,15+i]\n",
    "#         if not(('вариатор' in sss) or ('МКПП' in sss) or ('АКПП' in sss) or ('робот' in sss) or ('гидро' in sss)):\n",
    "#             df_text_2.iloc[s,15+i] = ''"
   ]
  },
  {
   "cell_type": "code",
   "execution_count": 1419,
   "metadata": {
    "ExecuteTime": {
     "end_time": "2019-10-28T14:07:16.884366Z",
     "start_time": "2019-10-28T14:07:14.415712Z"
    }
   },
   "outputs": [],
   "source": [
    "df_text_2.to_excel('ttt.xlsx')"
   ]
  },
  {
   "cell_type": "code",
   "execution_count": 29,
   "metadata": {
    "ExecuteTime": {
     "end_time": "2019-10-28T03:10:01.422319Z",
     "start_time": "2019-10-28T03:09:59.650579Z"
    }
   },
   "outputs": [],
   "source": [
    "for k in range(len(document.tables)):\n",
    "    table = document.tables[k]\n",
    "    data = read_table(table)\n",
    "    data = data.fillna('')\n",
    "\n",
    "\n",
    "    for s in range(data.shape[0]):\n",
    "        for i in range(len(keywords)):\n",
    "            for j in range(len(keywords[i])):\n",
    "                if any(data.iloc[s,:].str.contains(keywords[i][j])):\n",
    "                    dstr = ' '.join(data.iloc[s,:].values)\n",
    "                    df_text.iloc[l,14+i] = df_text.iloc[l,14+i] + dstr + '; '\n",
    "\n",
    "       "
   ]
  },
  {
   "cell_type": "code",
   "execution_count": 1563,
   "metadata": {
    "ExecuteTime": {
     "end_time": "2019-10-28T14:46:19.025949Z",
     "start_time": "2019-10-28T14:46:16.500364Z"
    }
   },
   "outputs": [],
   "source": [
    "df_text_2.to_excel('ttt.xlsx')"
   ]
  },
  {
   "cell_type": "code",
   "execution_count": 2007,
   "metadata": {
    "ExecuteTime": {
     "end_time": "2019-10-28T16:58:47.991828Z",
     "start_time": "2019-10-28T16:58:47.372452Z"
    }
   },
   "outputs": [],
   "source": [
    "df_text_2 = pd.read_excel('clean_goszak_df.xlsx',  dtype={'purchase_number':object})"
   ]
  },
  {
   "cell_type": "code",
   "execution_count": null,
   "metadata": {},
   "outputs": [],
   "source": []
  },
  {
   "cell_type": "code",
   "execution_count": null,
   "metadata": {},
   "outputs": [],
   "source": [
    "# for model in "
   ]
  },
  {
   "cell_type": "code",
   "execution_count": 2014,
   "metadata": {
    "ExecuteTime": {
     "end_time": "2019-10-28T16:59:46.622464Z",
     "start_time": "2019-10-28T16:59:46.584674Z"
    }
   },
   "outputs": [
    {
     "data": {
      "text/html": [
       "<div>\n",
       "<style scoped>\n",
       "    .dataframe tbody tr th:only-of-type {\n",
       "        vertical-align: middle;\n",
       "    }\n",
       "\n",
       "    .dataframe tbody tr th {\n",
       "        vertical-align: top;\n",
       "    }\n",
       "\n",
       "    .dataframe thead th {\n",
       "        text-align: right;\n",
       "    }\n",
       "</style>\n",
       "<table border=\"1\" class=\"dataframe\">\n",
       "  <thead>\n",
       "    <tr style=\"text-align: right;\">\n",
       "      <th></th>\n",
       "      <th>marka</th>\n",
       "      <th>model</th>\n",
       "      <th>god_vipuska</th>\n",
       "      <th>korobka</th>\n",
       "      <th>privod</th>\n",
       "      <th>width</th>\n",
       "      <th>length</th>\n",
       "      <th>mass_snar</th>\n",
       "      <th>vol_dvigatelya</th>\n",
       "      <th>max_speed</th>\n",
       "      <th>moschnost_lps</th>\n",
       "      <th>potreb_gorod</th>\n",
       "    </tr>\n",
       "  </thead>\n",
       "  <tbody>\n",
       "    <tr>\n",
       "      <td>0</td>\n",
       "      <td>uaz</td>\n",
       "      <td>patriot</td>\n",
       "      <td>NaN</td>\n",
       "      <td>5МКПП</td>\n",
       "      <td>постоянный задний с жестко подключаемым передним</td>\n",
       "      <td>1900.0</td>\n",
       "      <td>4700.0</td>\n",
       "      <td>NaN</td>\n",
       "      <td>NaN</td>\n",
       "      <td>NaN</td>\n",
       "      <td>NaN</td>\n",
       "      <td>NaN</td>\n",
       "    </tr>\n",
       "    <tr>\n",
       "      <td>1</td>\n",
       "      <td>NaN</td>\n",
       "      <td>NaN</td>\n",
       "      <td>NaN</td>\n",
       "      <td>МКПП</td>\n",
       "      <td>NaN</td>\n",
       "      <td>1750.0</td>\n",
       "      <td>4450.0</td>\n",
       "      <td>NaN</td>\n",
       "      <td>1598.0</td>\n",
       "      <td>165.0</td>\n",
       "      <td>NaN</td>\n",
       "      <td>NaN</td>\n",
       "    </tr>\n",
       "    <tr>\n",
       "      <td>2</td>\n",
       "      <td>NaN</td>\n",
       "      <td>NaN</td>\n",
       "      <td>NaN</td>\n",
       "      <td>NaN</td>\n",
       "      <td>NaN</td>\n",
       "      <td>NaN</td>\n",
       "      <td>NaN</td>\n",
       "      <td>NaN</td>\n",
       "      <td>1500.0</td>\n",
       "      <td>NaN</td>\n",
       "      <td>NaN</td>\n",
       "      <td>NaN</td>\n",
       "    </tr>\n",
       "    <tr>\n",
       "      <td>3</td>\n",
       "      <td>toyota</td>\n",
       "      <td>corolla</td>\n",
       "      <td>NaN</td>\n",
       "      <td>вариатор</td>\n",
       "      <td>передний</td>\n",
       "      <td>1775.0</td>\n",
       "      <td>4620.0</td>\n",
       "      <td>1260.0</td>\n",
       "      <td>1598.0</td>\n",
       "      <td>NaN</td>\n",
       "      <td>NaN</td>\n",
       "      <td>NaN</td>\n",
       "    </tr>\n",
       "    <tr>\n",
       "      <td>4</td>\n",
       "      <td>NaN</td>\n",
       "      <td>NaN</td>\n",
       "      <td>NaN</td>\n",
       "      <td>АКПП</td>\n",
       "      <td>NaN</td>\n",
       "      <td>NaN</td>\n",
       "      <td>NaN</td>\n",
       "      <td>NaN</td>\n",
       "      <td>NaN</td>\n",
       "      <td>NaN</td>\n",
       "      <td>NaN</td>\n",
       "      <td>NaN</td>\n",
       "    </tr>\n",
       "    <tr>\n",
       "      <td>...</td>\n",
       "      <td>...</td>\n",
       "      <td>...</td>\n",
       "      <td>...</td>\n",
       "      <td>...</td>\n",
       "      <td>...</td>\n",
       "      <td>...</td>\n",
       "      <td>...</td>\n",
       "      <td>...</td>\n",
       "      <td>...</td>\n",
       "      <td>...</td>\n",
       "      <td>...</td>\n",
       "      <td>...</td>\n",
       "    </tr>\n",
       "    <tr>\n",
       "      <td>4434</td>\n",
       "      <td>NaN</td>\n",
       "      <td>NaN</td>\n",
       "      <td>NaN</td>\n",
       "      <td>МКПП</td>\n",
       "      <td>NaN</td>\n",
       "      <td>NaN</td>\n",
       "      <td>NaN</td>\n",
       "      <td>NaN</td>\n",
       "      <td>1598.0</td>\n",
       "      <td>NaN</td>\n",
       "      <td>NaN</td>\n",
       "      <td>NaN</td>\n",
       "    </tr>\n",
       "    <tr>\n",
       "      <td>4435</td>\n",
       "      <td>vaz</td>\n",
       "      <td>granta</td>\n",
       "      <td>2017.0</td>\n",
       "      <td>5МКПП</td>\n",
       "      <td>передний</td>\n",
       "      <td>1700.0</td>\n",
       "      <td>NaN</td>\n",
       "      <td>1560.0</td>\n",
       "      <td>1596.0</td>\n",
       "      <td>NaN</td>\n",
       "      <td>NaN</td>\n",
       "      <td>NaN</td>\n",
       "    </tr>\n",
       "    <tr>\n",
       "      <td>4436</td>\n",
       "      <td>NaN</td>\n",
       "      <td>NaN</td>\n",
       "      <td>NaN</td>\n",
       "      <td>NaN</td>\n",
       "      <td>NaN</td>\n",
       "      <td>NaN</td>\n",
       "      <td>NaN</td>\n",
       "      <td>NaN</td>\n",
       "      <td>NaN</td>\n",
       "      <td>NaN</td>\n",
       "      <td>NaN</td>\n",
       "      <td>NaN</td>\n",
       "    </tr>\n",
       "    <tr>\n",
       "      <td>4437</td>\n",
       "      <td>kia</td>\n",
       "      <td>sorento</td>\n",
       "      <td>NaN</td>\n",
       "      <td>NaN</td>\n",
       "      <td>NaN</td>\n",
       "      <td>NaN</td>\n",
       "      <td>NaN</td>\n",
       "      <td>NaN</td>\n",
       "      <td>NaN</td>\n",
       "      <td>NaN</td>\n",
       "      <td>NaN</td>\n",
       "      <td>NaN</td>\n",
       "    </tr>\n",
       "    <tr>\n",
       "      <td>4438</td>\n",
       "      <td>NaN</td>\n",
       "      <td>NaN</td>\n",
       "      <td>2014.0</td>\n",
       "      <td>NaN</td>\n",
       "      <td>NaN</td>\n",
       "      <td>NaN</td>\n",
       "      <td>NaN</td>\n",
       "      <td>NaN</td>\n",
       "      <td>NaN</td>\n",
       "      <td>NaN</td>\n",
       "      <td>NaN</td>\n",
       "      <td>NaN</td>\n",
       "    </tr>\n",
       "  </tbody>\n",
       "</table>\n",
       "<p>4439 rows × 12 columns</p>\n",
       "</div>"
      ],
      "text/plain": [
       "       marka    model  god_vipuska   korobka  \\\n",
       "0        uaz  patriot          NaN     5МКПП   \n",
       "1        NaN      NaN          NaN      МКПП   \n",
       "2        NaN      NaN          NaN       NaN   \n",
       "3     toyota  corolla          NaN  вариатор   \n",
       "4        NaN      NaN          NaN      АКПП   \n",
       "...      ...      ...          ...       ...   \n",
       "4434     NaN      NaN          NaN      МКПП   \n",
       "4435     vaz   granta       2017.0     5МКПП   \n",
       "4436     NaN      NaN          NaN       NaN   \n",
       "4437     kia  sorento          NaN       NaN   \n",
       "4438     NaN      NaN       2014.0       NaN   \n",
       "\n",
       "                                                privod   width  length  \\\n",
       "0     постоянный задний с жестко подключаемым передним  1900.0  4700.0   \n",
       "1                                                  NaN  1750.0  4450.0   \n",
       "2                                                  NaN     NaN     NaN   \n",
       "3                                             передний  1775.0  4620.0   \n",
       "4                                                  NaN     NaN     NaN   \n",
       "...                                                ...     ...     ...   \n",
       "4434                                               NaN     NaN     NaN   \n",
       "4435                                          передний  1700.0     NaN   \n",
       "4436                                               NaN     NaN     NaN   \n",
       "4437                                               NaN     NaN     NaN   \n",
       "4438                                               NaN     NaN     NaN   \n",
       "\n",
       "      mass_snar  vol_dvigatelya  max_speed  moschnost_lps  potreb_gorod  \n",
       "0           NaN             NaN        NaN            NaN           NaN  \n",
       "1           NaN          1598.0      165.0            NaN           NaN  \n",
       "2           NaN          1500.0        NaN            NaN           NaN  \n",
       "3        1260.0          1598.0        NaN            NaN           NaN  \n",
       "4           NaN             NaN        NaN            NaN           NaN  \n",
       "...         ...             ...        ...            ...           ...  \n",
       "4434        NaN          1598.0        NaN            NaN           NaN  \n",
       "4435     1560.0          1596.0        NaN            NaN           NaN  \n",
       "4436        NaN             NaN        NaN            NaN           NaN  \n",
       "4437        NaN             NaN        NaN            NaN           NaN  \n",
       "4438        NaN             NaN        NaN            NaN           NaN  \n",
       "\n",
       "[4439 rows x 12 columns]"
      ]
     },
     "execution_count": 2014,
     "metadata": {},
     "output_type": "execute_result"
    }
   ],
   "source": [
    "# df_text_2.iloc['df_text_2',12:24]"
   ]
  },
  {
   "cell_type": "markdown",
   "metadata": {},
   "source": [
    "##### mass"
   ]
  },
  {
   "cell_type": "code",
   "execution_count": 1642,
   "metadata": {
    "ExecuteTime": {
     "end_time": "2019-10-28T15:03:24.755114Z",
     "start_time": "2019-10-28T15:03:24.751059Z"
    }
   },
   "outputs": [
    {
     "data": {
      "text/plain": [
       "1"
      ]
     },
     "execution_count": 1642,
     "metadata": {},
     "output_type": "execute_result"
    }
   ],
   "source": [
    "len(df_text_2.iloc[:,20].unique())\n",
    "\n",
    "# sum(df_text_2.iloc[:,17] != '')"
   ]
  },
  {
   "cell_type": "code",
   "execution_count": 1644,
   "metadata": {
    "ExecuteTime": {
     "end_time": "2019-10-28T15:03:31.583614Z",
     "start_time": "2019-10-28T15:03:31.579394Z"
    }
   },
   "outputs": [
    {
     "data": {
      "text/plain": [
       "array([''], dtype=object)"
      ]
     },
     "execution_count": 1644,
     "metadata": {},
     "output_type": "execute_result"
    }
   ],
   "source": [
    "df_text_2.iloc[:,20].unique()"
   ]
  },
  {
   "cell_type": "code",
   "execution_count": 1561,
   "metadata": {
    "ExecuteTime": {
     "end_time": "2019-10-28T14:45:57.990882Z",
     "start_time": "2019-10-28T14:45:56.053767Z"
    }
   },
   "outputs": [],
   "source": [
    "for s in range(df_text_2.shape[0]):\n",
    "    for i in range(5,6):\n",
    "        sss = df_text_2.iloc[s,15+i]\n",
    "        \n",
    "        \n",
    "#         sss = sss.split('массакг')[-1][:4]\n",
    "#         sss = sss.split('выпуска')[-1][:4]\n",
    "        sss = re.sub('[^0-9]+', '', sss)\n",
    "        \n",
    "    \n",
    "        if len(sss) != 4:\n",
    "#             if int(sss[:4])<1900:\n",
    "            df_text_2.iloc[s,15+i] = sss[4:8]\n",
    "        \n",
    "\n",
    "#         if sss == '7575':\n",
    "#             df_text_2.iloc[s,15+i] = ''\n",
    "   \n",
    "        "
   ]
  },
  {
   "cell_type": "code",
   "execution_count": 927,
   "metadata": {
    "ExecuteTime": {
     "end_time": "2019-10-28T12:24:02.714378Z",
     "start_time": "2019-10-28T12:24:02.711167Z"
    }
   },
   "outputs": [],
   "source": [
    "# электрообогрев"
   ]
  },
  {
   "cell_type": "markdown",
   "metadata": {},
   "source": [
    "##### vol"
   ]
  },
  {
   "cell_type": "code",
   "execution_count": 1658,
   "metadata": {
    "ExecuteTime": {
     "end_time": "2019-10-28T15:06:18.948433Z",
     "start_time": "2019-10-28T15:06:18.945137Z"
    }
   },
   "outputs": [
    {
     "data": {
      "text/plain": [
       "287"
      ]
     },
     "execution_count": 1658,
     "metadata": {},
     "output_type": "execute_result"
    }
   ],
   "source": [
    "len(df_text_2.iloc[:,21].unique())\n",
    "\n",
    "# sum(df_text_2.iloc[:,17] != '')"
   ]
  },
  {
   "cell_type": "code",
   "execution_count": 1708,
   "metadata": {
    "ExecuteTime": {
     "end_time": "2019-10-28T15:21:22.402244Z",
     "start_time": "2019-10-28T15:21:22.396378Z"
    }
   },
   "outputs": [
    {
     "data": {
      "text/plain": [
       "array(['', '1598', '1200', '2300', '2735', '1690', '1590', '1400', '1987',\n",
       "       '2000', '2890', '2600', '1000', '8000', '2494', '2700', '1998',\n",
       "       '3000', '1500', '2200', '1798', '1596', '1700', '1100', '2693',\n",
       "       '1795', '1600', '6000', '1968', '1680', '1060', '1591', '3100',\n",
       "       '2900', '2100', '3200', '9000', '2776', '1587', '1616', '1300',\n",
       "       '2350', '1396', '1800', '1610', '1599', '5000', '1774', '8700',\n",
       "       '1550', '1380', '1516', '2500', '1810', '3456', '2359', '2488',\n",
       "       '2400', '1615', '3500', '1580', '1390', '1997', '1586', '4650',\n",
       "       '2460', '1999', '1620', '1565', '1990', '1461', '5300', '1790',\n",
       "       '3300', '3450', '7000', '2690', '1597', '2998', '1611', '1995',\n",
       "       '1350', '8280', '2694', '1796', '1050', '2518', '1687', '1750',\n",
       "       '6100', '2529', '4500', '1900', '4000', '1733', '1430', '5983',\n",
       "       '1395', '1305', '1501', '1421', '2800', '9100'], dtype=object)"
      ]
     },
     "execution_count": 1708,
     "metadata": {},
     "output_type": "execute_result"
    }
   ],
   "source": [
    "df_text_2.iloc[:,21].unique()"
   ]
  },
  {
   "cell_type": "code",
   "execution_count": 1709,
   "metadata": {
    "ExecuteTime": {
     "end_time": "2019-10-28T15:21:49.192393Z",
     "start_time": "2019-10-28T15:21:46.738196Z"
    }
   },
   "outputs": [],
   "source": [
    "df_text_2.to_excel('ttt.xlsx')"
   ]
  },
  {
   "cell_type": "code",
   "execution_count": 1707,
   "metadata": {
    "ExecuteTime": {
     "end_time": "2019-10-28T15:21:19.471577Z",
     "start_time": "2019-10-28T15:21:19.435400Z"
    }
   },
   "outputs": [],
   "source": [
    "for s in range(df_text_2.shape[0]):\n",
    "    for i in range(6,7):\n",
    "        sss = df_text_2.iloc[s,15+i]\n",
    "        \n",
    "        \n",
    "#         sss = sss.split('легковойавтомобильобъемдвигателяхлегковойавтомобильобъемдвигателя')[-1][:4]\n",
    "# #         sss = sss.split('выпуска')[-1][:4]\n",
    "#         sss = re.sub('[^0-9]+', '', sss)\n",
    "        \n",
    "    \n",
    "#         if len(sss) == 4:\n",
    "# #             if int(sss[:4])<1900:\n",
    "#             df_text_2.iloc[s,15+i] = str(int(sss)) \n",
    "\n",
    "#         if (len(sss) != 4) & (len(sss) >0 ) &  (len(sss) == 2):\n",
    "# #             if int(sss[:4])<1900:\n",
    "#             df_text_2.iloc[s,15+i] = str(int(sss[:2])*100) \n",
    "        \n",
    "        \n",
    "#         if (len(sss) == 0) :\n",
    "# #             if int(sss[:4])<1900:\n",
    "#             df_text_2.iloc[s,15+i] = '' \n",
    "        \n",
    "        \n",
    "\n",
    "#         if (len(sss) == 4):\n",
    "# #             if int(sss[:4])<1900:\n",
    "#             df_text_2.iloc[s,15+i] = str(int(sss))  \n",
    "        \n",
    "        \n",
    "\n",
    "        \n",
    "\n",
    "        if 'вивал' in sss:\n",
    "            df_text_2.iloc[s,15+i] = ''\n",
    "   \n",
    "        "
   ]
  },
  {
   "cell_type": "code",
   "execution_count": null,
   "metadata": {},
   "outputs": [],
   "source": []
  },
  {
   "cell_type": "code",
   "execution_count": 2138,
   "metadata": {
    "ExecuteTime": {
     "end_time": "2019-10-28T17:29:56.223181Z",
     "start_time": "2019-10-28T17:29:53.886640Z"
    }
   },
   "outputs": [],
   "source": [
    "df_text_2.to_excel('ttt.xlsx')"
   ]
  },
  {
   "cell_type": "markdown",
   "metadata": {},
   "source": [
    "##### speed\n"
   ]
  },
  {
   "cell_type": "code",
   "execution_count": 1885,
   "metadata": {
    "ExecuteTime": {
     "end_time": "2019-10-28T16:28:49.948510Z",
     "start_time": "2019-10-28T16:28:49.945224Z"
    }
   },
   "outputs": [
    {
     "data": {
      "text/plain": [
       "150"
      ]
     },
     "execution_count": 1885,
     "metadata": {},
     "output_type": "execute_result"
    }
   ],
   "source": [
    "len(df_text_2.iloc[:,23].unique())\n",
    "\n",
    "# sum(df_text_2.iloc[:,17] != '')"
   ]
  },
  {
   "cell_type": "code",
   "execution_count": 1997,
   "metadata": {
    "ExecuteTime": {
     "end_time": "2019-10-28T16:53:23.293288Z",
     "start_time": "2019-10-28T16:53:23.289162Z"
    },
    "scrolled": true
   },
   "outputs": [
    {
     "data": {
      "text/plain": [
       "array(['', '33', '56', '101', '109', '58', '237', '38', '118', '107',\n",
       "       '113', '112', '114', '138', '339', '196', '102', '44', '34', '54',\n",
       "       '204', '149', '42', '143', '106.8', '135', '67', '68', '87', '45',\n",
       "       '122', '105', '39', '170', '130.0', '106', '30', '79', '35', '80',\n",
       "       '110', '139', '156', '95', '116', '84', '179', '125', '121', '82',\n",
       "       '75', '128', '134', '112.2', '123', '61', '86', '48', '99', '37',\n",
       "       '133', '241', '100', '65', '130', '92', '273', 46.8, '115', '124',\n",
       "       '122.5', '85', '31', '111', '150', '124.0', '131', '49', '132',\n",
       "       96.2, '163', '102.1', '159', '98', '46', '277', '81', '245', '41'],\n",
       "      dtype=object)"
      ]
     },
     "execution_count": 1997,
     "metadata": {},
     "output_type": "execute_result"
    }
   ],
   "source": [
    "df_text_2.iloc[:,23].unique()"
   ]
  },
  {
   "cell_type": "code",
   "execution_count": null,
   "metadata": {},
   "outputs": [],
   "source": []
  },
  {
   "cell_type": "code",
   "execution_count": 1996,
   "metadata": {
    "ExecuteTime": {
     "end_time": "2019-10-28T16:53:21.693040Z",
     "start_time": "2019-10-28T16:53:21.657721Z"
    }
   },
   "outputs": [],
   "source": [
    "for s in range(df_text_2.shape[0]):\n",
    "    for i in range(8,9):\n",
    "        sss = df_text_2.iloc[s,15+i]\n",
    "        \n",
    "        \n",
    "        if (len(sss)>0):\n",
    "        \n",
    "            if (float(sss) > 350):\n",
    "                 df_text_2.iloc[s,15+i] = float(sss)/10\n",
    "           \n",
    "        \n",
    "#         if sss[-2:]==\"лс\":\n",
    "#             sss  = sss[-5:-2]\n",
    "            \n",
    "\n",
    "#         sss = sss.split('ощностьдвигателянеменее')[-1][:3]\n",
    "# # #         sss = sss.split('выпуска')[-1][:4]\n",
    "        \n"
   ]
  },
  {
   "cell_type": "markdown",
   "metadata": {},
   "source": [
    "##### potr"
   ]
  },
  {
   "cell_type": "code",
   "execution_count": 2137,
   "metadata": {
    "ExecuteTime": {
     "end_time": "2019-10-28T17:29:17.443378Z",
     "start_time": "2019-10-28T17:29:17.438253Z"
    },
    "scrolled": false
   },
   "outputs": [
    {
     "data": {
      "text/plain": [
       "array(['', 9.8, 9.5, '15', '10', 8.2, '19', '12', 9.4, 10.0, '14', '11',\n",
       "       9.3, 6.3, '9', 13.2, '1', '23', '17', '13', 9.1, 8.7, 6.1, 7.6,\n",
       "       '21', 9.0, 8.8, 7.8, 10.3, '16', 9.2, 7.0, 10.1, 5.2, '18', 11.9,\n",
       "       8.5, 12.1, 6.4, 8.1, 8.9, 91.1, 7.2, 8.3, 7.1, 8.6, 13.5, 9.9,\n",
       "       '27', 14.1], dtype=object)"
      ]
     },
     "execution_count": 2137,
     "metadata": {},
     "output_type": "execute_result"
    }
   ],
   "source": [
    "df_text_2.iloc[:,24].unique()"
   ]
  },
  {
   "cell_type": "code",
   "execution_count": 2136,
   "metadata": {
    "ExecuteTime": {
     "end_time": "2019-10-28T17:29:11.675733Z",
     "start_time": "2019-10-28T17:29:11.625441Z"
    }
   },
   "outputs": [
    {
     "ename": "TypeError",
     "evalue": "object of type 'float' has no len()",
     "output_type": "error",
     "traceback": [
      "\u001b[0;31m---------------------------------------------------------------------------\u001b[0m",
      "\u001b[0;31mTypeError\u001b[0m                                 Traceback (most recent call last)",
      "\u001b[0;32m<ipython-input-2136-6c38c5154d8d>\u001b[0m in \u001b[0;36m<module>\u001b[0;34m\u001b[0m\n\u001b[1;32m      7\u001b[0m \u001b[0;31m#         sss = sss.replace('диапазонное', '')\u001b[0m\u001b[0;34m\u001b[0m\u001b[0;34m\u001b[0m\u001b[0;34m\u001b[0m\u001b[0m\n\u001b[1;32m      8\u001b[0m \u001b[0;31m#         sss = re.sub('[^0-9]+', '', sss)\u001b[0m\u001b[0;34m\u001b[0m\u001b[0;34m\u001b[0m\u001b[0;34m\u001b[0m\u001b[0m\n\u001b[0;32m----> 9\u001b[0;31m         \u001b[0;32mif\u001b[0m \u001b[0mlen\u001b[0m\u001b[0;34m(\u001b[0m\u001b[0msss\u001b[0m\u001b[0;34m)\u001b[0m\u001b[0;34m>\u001b[0m\u001b[0;36m0\u001b[0m\u001b[0;34m:\u001b[0m\u001b[0;34m\u001b[0m\u001b[0;34m\u001b[0m\u001b[0m\n\u001b[0m\u001b[1;32m     10\u001b[0m             \u001b[0;32mif\u001b[0m \u001b[0mint\u001b[0m\u001b[0;34m(\u001b[0m\u001b[0msss\u001b[0m\u001b[0;34m)\u001b[0m \u001b[0;34m>\u001b[0m \u001b[0;36m40\u001b[0m\u001b[0;34m:\u001b[0m\u001b[0;34m\u001b[0m\u001b[0;34m\u001b[0m\u001b[0m\n\u001b[1;32m     11\u001b[0m                 \u001b[0msss\u001b[0m \u001b[0;34m=\u001b[0m \u001b[0mint\u001b[0m\u001b[0;34m(\u001b[0m\u001b[0msss\u001b[0m\u001b[0;34m)\u001b[0m\u001b[0;34m/\u001b[0m\u001b[0;36m10\u001b[0m\u001b[0;34m\u001b[0m\u001b[0;34m\u001b[0m\u001b[0m\n",
      "\u001b[0;31mTypeError\u001b[0m: object of type 'float' has no len()"
     ]
    }
   ],
   "source": [
    "for s in range(df_text_2.shape[0]):\n",
    "    for i in range(9,10):\n",
    "        sss = df_text_2.iloc[s,15+i]\n",
    "        \n",
    "        \n",
    "#         sss = sss.split('легковойавтомобильобъемдвигателяхлегковойавтомобильобъемдвигателя')[-1][:4]\n",
    "#         sss = sss.replace('диапазонное', '')\n",
    "#         sss = re.sub('[^0-9]+', '', sss)    \n",
    "        if len(sss)>0:\n",
    "            if int(sss) > 40:\n",
    "                sss = int(sss)/10\n",
    "    # # # #             if int(sss[:4])<1900:\n",
    "        \n",
    "\n",
    "\n",
    "        df_text_2.iloc[s,15+i] = sss\n",
    "\n",
    "# #         if (len(sss) != 4) & (len(sss) >0 ) &  (len(sss) == 2):\n",
    "# # #             if int(sss[:4])<1900:\n",
    "#             df_text_2.iloc[s,15+i] = str(int(sss[:2])*100) \n",
    "        \n",
    "        \n",
    "#         if (len(sss) == 0) :\n",
    "# #             if int(sss[:4])<1900:\n",
    "#             df_text_2.iloc[s,15+i] = '' \n",
    "        \n",
    "        \n",
    "\n",
    "#         if (len(sss) == 4):\n",
    "# #             if int(sss[:4])<1900:\n",
    "#             df_text_2.iloc[s,15+i] = str(int(sss))  \n",
    "        \n",
    "        \n",
    "\n",
    "        \n",
    "\n",
    "#         if 'л100км92' in sss:\n",
    "#             df_text_2.iloc[s,15+i] = '9.2'\n",
    "   \n",
    "        "
   ]
  },
  {
   "cell_type": "code",
   "execution_count": null,
   "metadata": {},
   "outputs": [],
   "source": []
  },
  {
   "cell_type": "code",
   "execution_count": null,
   "metadata": {},
   "outputs": [],
   "source": [
    "неболее"
   ]
  },
  {
   "cell_type": "code",
   "execution_count": null,
   "metadata": {},
   "outputs": [],
   "source": []
  },
  {
   "cell_type": "code",
   "execution_count": null,
   "metadata": {},
   "outputs": [],
   "source": [
    "# sum(df_text_2.iloc[:,17] != '')\n",
    "\n",
    "executed in 3ms, finished 19:28:49 2019-10-28\n",
    "\n",
    "150\n",
    "\n",
    "df_text_2.iloc[:,23].unique()\n",
    "\n",
    "executed in 4ms, finished 19:53:23 2019-10-28\n",
    "\n",
    "array(['', '33', '56', '101', '109', '58', '237', '38', '118', '107',\n",
    "       '113', '112', '114', '138', '339', '196', '102', '44', '34', '54',\n",
    "       '204', '149', '42', '143', '106.8', '135', '67', '68', '87', '45',\n",
    "       '122', '105', '39', '170', '130.0', '106', '30', '79', '35', '80',\n",
    "       '110', '139', '156', '95', '116', '84', '179', '125', '121', '82',\n",
    "       '75', '128', '134', '112.2', '123', '61', '86', '48', '99', '37',\n",
    "       '133', '241', '100', '65', '130', '92', '273', 46.8, '115', '124',\n",
    "       '122.5', '85', '31', '111', '150', '124.0', '131', '49', '132',\n",
    "       96.2, '163', '102.1', '159', '98', '46', '277', '81', '245', '41'],\n",
    "      dtype=object)\n",
    "\n",
    "​"
   ]
  },
  {
   "cell_type": "code",
   "execution_count": null,
   "metadata": {},
   "outputs": [],
   "source": []
  },
  {
   "cell_type": "code",
   "execution_count": null,
   "metadata": {},
   "outputs": [],
   "source": []
  },
  {
   "cell_type": "code",
   "execution_count": null,
   "metadata": {},
   "outputs": [],
   "source": []
  },
  {
   "cell_type": "code",
   "execution_count": null,
   "metadata": {},
   "outputs": [],
   "source": []
  },
  {
   "cell_type": "code",
   "execution_count": 913,
   "metadata": {
    "ExecuteTime": {
     "end_time": "2019-10-28T12:20:59.142348Z",
     "start_time": "2019-10-28T12:20:57.176704Z"
    }
   },
   "outputs": [],
   "source": [
    "for s in range(df_text_2.shape[0]):\n",
    "    for i in range(2,3):\n",
    "        sss = df_text_2.iloc[s,15+i]\n",
    "#         sss = sss.replace('привод', '')\n",
    "        sss = re.sub('[^а-я]+', '', sss)\n",
    "        df_text_2.iloc[s,15+i] = sss"
   ]
  },
  {
   "cell_type": "code",
   "execution_count": 850,
   "metadata": {
    "ExecuteTime": {
     "end_time": "2019-10-28T12:01:31.844253Z",
     "start_time": "2019-10-28T12:01:31.839110Z"
    }
   },
   "outputs": [
    {
     "data": {
      "text/plain": [
       "'арыоы'"
      ]
     },
     "execution_count": 850,
     "metadata": {},
     "output_type": "execute_result"
    }
   ],
   "source": [
    "sss = 'df.igfdjарыоыloc[17,17]'\n",
    "re.sub('[^а-я]+', '', sss)"
   ]
  },
  {
   "cell_type": "code",
   "execution_count": 761,
   "metadata": {
    "ExecuteTime": {
     "end_time": "2019-10-28T11:11:03.239929Z",
     "start_time": "2019-10-28T11:11:01.832268Z"
    }
   },
   "outputs": [],
   "source": [
    "# for s in range(df_text_2.shape[0]):\n",
    "#     for i in range(1,2):\n",
    "#         sss = df_text_2.iloc[s,15+i]\n",
    "#         if not(('вариатор' in sss) or ('МКПП' in sss) or ('АКПП' in sss) or ('робот' in sss) or ('гидро' in sss)):\n",
    "#             df_text_2.iloc[s,15+i] = ''"
   ]
  },
  {
   "cell_type": "code",
   "execution_count": 1419,
   "metadata": {
    "ExecuteTime": {
     "end_time": "2019-10-28T14:07:16.884366Z",
     "start_time": "2019-10-28T14:07:14.415712Z"
    }
   },
   "outputs": [],
   "source": [
    "df_text_2.to_excel('ttt.xlsx')"
   ]
  },
  {
   "cell_type": "code",
   "execution_count": 29,
   "metadata": {
    "ExecuteTime": {
     "end_time": "2019-10-28T03:10:01.422319Z",
     "start_time": "2019-10-28T03:09:59.650579Z"
    }
   },
   "outputs": [],
   "source": [
    "for k in range(len(document.tables)):\n",
    "    table = document.tables[k]\n",
    "    data = read_table(table)\n",
    "    data = data.fillna('')\n",
    "\n",
    "\n",
    "    for s in range(data.shape[0]):\n",
    "        for i in range(len(keywords)):\n",
    "            for j in range(len(keywords[i])):\n",
    "                if any(data.iloc[s,:].str.contains(keywords[i][j])):\n",
    "                    dstr = ' '.join(data.iloc[s,:].values)\n",
    "                    df_text.iloc[l,14+i] = df_text.iloc[l,14+i] + dstr + '; '\n",
    "\n",
    "       "
   ]
  },
  {
   "cell_type": "code",
   "execution_count": 1486,
   "metadata": {
    "ExecuteTime": {
     "end_time": "2019-10-28T14:24:06.196498Z",
     "start_time": "2019-10-28T14:24:04.112779Z"
    }
   },
   "outputs": [],
   "source": [
    "df_text_2.to_excel('ttt.xlsx')"
   ]
  },
  {
   "cell_type": "code",
   "execution_count": null,
   "metadata": {},
   "outputs": [],
   "source": []
  },
  {
   "cell_type": "code",
   "execution_count": null,
   "metadata": {},
   "outputs": [],
   "source": []
  },
  {
   "cell_type": "code",
   "execution_count": null,
   "metadata": {},
   "outputs": [],
   "source": []
  },
  {
   "cell_type": "code",
   "execution_count": null,
   "metadata": {},
   "outputs": [],
   "source": []
  },
  {
   "cell_type": "code",
   "execution_count": null,
   "metadata": {},
   "outputs": [],
   "source": []
  },
  {
   "cell_type": "code",
   "execution_count": 106,
   "metadata": {
    "ExecuteTime": {
     "end_time": "2019-10-22T12:01:21.757404Z",
     "start_time": "2019-10-22T12:01:21.755160Z"
    }
   },
   "outputs": [],
   "source": [
    "import pandas as pd\n",
    "import re"
   ]
  },
  {
   "cell_type": "code",
   "execution_count": 107,
   "metadata": {
    "ExecuteTime": {
     "end_time": "2019-10-22T12:01:22.487620Z",
     "start_time": "2019-10-22T12:01:22.316972Z"
    }
   },
   "outputs": [],
   "source": [
    "df_docx = pd.read_excel('docx_final_df_2017.xlsx')"
   ]
  },
  {
   "cell_type": "code",
   "execution_count": 108,
   "metadata": {
    "ExecuteTime": {
     "end_time": "2019-10-22T12:01:24.122642Z",
     "start_time": "2019-10-22T12:01:24.070772Z"
    }
   },
   "outputs": [],
   "source": [
    "df_csv = pd.read_csv('0_check_selen.csv', index_col=0)"
   ]
  },
  {
   "cell_type": "code",
   "execution_count": 109,
   "metadata": {
    "ExecuteTime": {
     "end_time": "2019-10-22T12:01:25.919237Z",
     "start_time": "2019-10-22T12:01:25.916054Z"
    }
   },
   "outputs": [],
   "source": [
    "df_csv = df_csv.loc[df_docx['index_name'],]"
   ]
  },
  {
   "cell_type": "code",
   "execution_count": 110,
   "metadata": {
    "ExecuteTime": {
     "end_time": "2019-10-22T12:01:30.420304Z",
     "start_time": "2019-10-22T12:01:30.414396Z"
    }
   },
   "outputs": [],
   "source": [
    "df_docx = df_docx.set_index('index_name')"
   ]
  },
  {
   "cell_type": "code",
   "execution_count": 111,
   "metadata": {
    "ExecuteTime": {
     "end_time": "2019-10-22T12:01:34.698960Z",
     "start_time": "2019-10-22T12:01:34.696001Z"
    }
   },
   "outputs": [],
   "source": [
    "df_csv['V2'] = [i.replace('\\n', '') for i in df_csv['V2'].values]"
   ]
  },
  {
   "cell_type": "code",
   "execution_count": 88,
   "metadata": {
    "ExecuteTime": {
     "end_time": "2019-10-22T11:46:06.358874Z",
     "start_time": "2019-10-22T11:46:06.310490Z"
    }
   },
   "outputs": [],
   "source": [
    "df_csv['V2'] = [re.split('Поставк', i)[-1] for i in df_csv['V2'].values]\n",
    "df_csv['V2'] = [re.split('поставк', i)[-1] for i in df_csv['V2'].values]\n",
    "df_csv['V2'] = [re.split('Покупк', i)[-1] for i in df_csv['V2'].values]\n",
    "df_csv['V2'] = [re.split('Приобретение', i)[-1] for i in df_csv['V2'].values]\n",
    "df_csv['V2'] = [re.split('Автомобил', i)[-1] for i in df_csv['V2'].values]\n",
    "df_csv['V2'] = [re.split('Легков', i)[-1] for i in df_csv['V2'].values]\n",
    "df_csv['V2'] = [re.split('Средства', i)[-1] for i in df_csv['V2'].values]\n",
    "df_csv['V2'] = [re.split('Закупка', i)[-1] for i in df_csv['V2'].values]\n",
    "df_csv['V2'] = [re.split('Внедорожн', i)[-1] for i in df_csv['V2'].values]\n",
    "df_csv['V2'] = [re.split('приобретение', i)[-1] for i in df_csv['V2'].values]\n",
    "df_csv['V2'] = [re.split('закупк', i)[-1] for i in df_csv['V2'].values]\n",
    "df_csv['V2'] = [re.split('легков', i)[-1] for i in df_csv['V2'].values]\n",
    "df_csv['V2'] = [re.split('покупк', i)[-1] for i in df_csv['V2'].values]\n",
    "df_csv['V2'] = [re.split('автомобил', i)[-1] for i in df_csv['V2'].values]\n",
    "df_csv['V2'] = [re.split('транспортные средства', i)[-1] for i in df_csv['V2'].values]\n"
   ]
  },
  {
   "cell_type": "code",
   "execution_count": 49,
   "metadata": {
    "ExecuteTime": {
     "end_time": "2019-10-22T11:39:12.700436Z",
     "start_time": "2019-10-22T11:39:12.695900Z"
    }
   },
   "outputs": [],
   "source": [
    "df_csv['V2'] = [re.split('Идентификационный код', i)[0] for i in df_csv['V2'].values]\n",
    "df_csv['V2'] = [re.split('для', i)[0] for i in df_csv['V2'].values]"
   ]
  },
  {
   "cell_type": "code",
   "execution_count": 45,
   "metadata": {
    "ExecuteTime": {
     "end_time": "2019-10-22T11:36:48.831047Z",
     "start_time": "2019-10-22T11:36:48.827426Z"
    }
   },
   "outputs": [],
   "source": [
    "df_csv['V2'] = [i.replace('\\n', '') for i in df_csv['V2'].values]"
   ]
  },
  {
   "cell_type": "code",
   "execution_count": null,
   "metadata": {},
   "outputs": [],
   "source": [
    "df_csv['V2'] = [i.replace('\\n', '') for i in df_csv['V2'].values]"
   ]
  },
  {
   "cell_type": "code",
   "execution_count": 89,
   "metadata": {
    "ExecuteTime": {
     "end_time": "2019-10-22T11:46:08.222144Z",
     "start_time": "2019-10-22T11:46:08.210135Z"
    }
   },
   "outputs": [
    {
     "data": {
      "text/plain": [
       "array([], dtype=object)"
      ]
     },
     "execution_count": 89,
     "metadata": {},
     "output_type": "execute_result"
    }
   ],
   "source": [
    "df_csv['V2'].values[np.array([len(i) for i in df_csv['V2'].values]) > 1000]"
   ]
  },
  {
   "cell_type": "code",
   "execution_count": 94,
   "metadata": {
    "ExecuteTime": {
     "end_time": "2019-10-22T11:48:06.385030Z",
     "start_time": "2019-10-22T11:48:06.375482Z"
    }
   },
   "outputs": [],
   "source": [
    "df_docx['v2'] =  df_csv['V2']"
   ]
  },
  {
   "cell_type": "code",
   "execution_count": 95,
   "metadata": {
    "ExecuteTime": {
     "end_time": "2019-10-22T11:48:25.245241Z",
     "start_time": "2019-10-22T11:48:25.216722Z"
    }
   },
   "outputs": [],
   "source": [
    "df_docx.to_csv('check_name1.csv')"
   ]
  },
  {
   "cell_type": "code",
   "execution_count": 113,
   "metadata": {
    "ExecuteTime": {
     "end_time": "2019-10-22T12:02:00.519137Z",
     "start_time": "2019-10-22T12:02:00.484971Z"
    }
   },
   "outputs": [
    {
     "data": {
      "text/plain": [
       "array(['№ 0372200026816000053                                                                                                                                                                                                                                                                                                                                                                                                                                                                                                                            Заказчик:                                                                                                                                                                                                                                                                                                                                                                                САНКТ-ПЕТЕРБУРГСКОЕ ГОСУДАРСТВЕННОЕ БЮДЖЕТНОЕ УЧРЕЖДЕНИЕ ЗДРАВООХРАНЕНИЯ \"ДЕТСКАЯ ГОРОДСКАЯ ПОЛИКЛИНИКА № 35\"                                                                                                                                                                                                                                                                                                                                                                                                                                                                                    Поставка легкового автомобиля для СПб ГБУЗ \"Детская городская поликлиника № 35\" в 2017 году',\n",
       "       '№ 0832200006616001265                                                                                                                                                                                                                                                                                                                                                                                                                                                                                Организация, осуществляющая размещение:                                                                                                                                                                    ГОСУДАРСТВЕННОЕ КАЗЕННОЕ УЧРЕЖДЕНИЕ НИЖЕГОРОДСКОЙ ОБЛАСТИ \"ЦЕНТР РАЗМЕЩЕНИЯ ЗАКАЗА НИЖЕГОРОДСКОЙ ОБЛАСТИ\"                                                                                                                                                                                                                        1255ЭА-2-16. Поставка автомобиля для нужд ГБУЗ\\xa0НО\\xa0«Городскаяклиническая больница №39»',\n",
       "       '№ 0146300031216000008                                                                                                                                                                                                                                                                                                                                                                                                                                                                                                                            Заказчик:                                                                                                                                                                                                                                                                                                                                                                                АДМИНИСТРАЦИЯ СЕЛЬСКОГО ПОСЕЛЕНИЯ НИЖНЕВОРГОЛЬСКИЙ СЕЛЬСОВЕТ ЕЛЕЦКОГО МУНИЦИПАЛЬНОГО РАЙОНА ЛИПЕЦКОЙ ОБЛАСТИ РОССИЙСКОЙ ФЕДЕРАЦИИ                                                                                                                                                                                                                                                                                                                                                                                                                                                                                    Покупка автомобиля',\n",
       "       '№ 0328300015616000270                                                                                                                                                                                                                                                                                                                                                                                                                                                                                Организация, осуществляющая размещение:                                                                                                                                                                    КОМИТЕТ ПО УПРАВЛЕНИЮ ИМУЩЕСТВОМ МЕЛЕНКОВСКОГО РАЙОНА                                                                                                                                                                                                                        Поставка автомобиля Лада Гранта или эквивалент',\n",
       "       '№ 0845300015016000715                                                                                                                                                                                                                                                                                                                                                                                                                                                                                Организация, осуществляющая размещение:                                                                                                                                                                    МУНИЦИПАЛЬНОЕ КАЗЕННОЕ УЧРЕЖДЕНИЕ \"ЕДИНОЕ УПРАВЛЕНИЕ МУНИЦИПАЛЬНЫМИ ЗАКАЗАМИ\" МУНИЦИПАЛЬНОГО ОБРАЗОВАНИЯ \"ВЫБОРГСКИЙ РАЙОН\" ЛЕНИНГРАДСКОЙ ОБЛАСТИ                                                                                                                                                                                                                        Приобретение легкового автомобиля для нужд администрации МО «Приморское городское поселение»',\n",
       "       '№ 0173200024416000142                                                                                                                                                                                                                                                                                                                                                                                                                                                                                Организация, осуществляющая размещение:                                                                                                                                                                    ПРЕФЕКТУРА ТРОИЦКОГО И НОВОМОСКОВСКОГО АДМИНИСТРАТИВНЫХ ОКРУГОВ ГОРОДА МОСКВЫ                                                                                                                                                                                                                        Поставка легковых автомобилей для нужд ГБУ «Автомобильные дороги ТиНАО»',\n",
       "       '№ 0328300172416000002                                                                                                                                                                                                                                                                                                                                                                                                                                                                                                                            Заказчик:                                                                                                                                                                                                                                                                                                                                                                                МУНИЦИПАЛЬНОЕ БЮДЖЕТНОЕ УЧРЕЖДЕНИЕ КЛЯЗЬМИНСКОЕ СЕЛЬСКОЕ ПОСЕЛЕНИЕ КОВРОВСКОГО РАЙОНА \"КЛЯЗЬМИНСКОЕ\"                                                                                                                                                                                                                                                                                                                                                                                                                                                                                    Поставка легкового автомобиля для нужд МБУ Клязьминское».',\n",
       "       '№ 0151300046117000004                                                                                                                                                                                                                                                                                                                                                                                                                                                                                                                            Заказчик:                                                                                                                                                                                                                                                                                                                                                                                АДМИНИСТРАЦИЯ КРИВОДАНОВСКОГО СЕЛЬСОВЕТА НОВОСИБИРСКОГО РАЙОНА НОВОСИБИРСКОЙ ОБЛАСТИ                                                                                                                                                                                                                                                                                                                                                                                                                                                                                    Приобретение легкового автомобиля для нужд администрации Криводановского сельсовета Новосибирского района новосибирской ОБЛАСТИ                                                                                                                                Идентификационный код закупки(ИКЗ):                                                                                173543310789954330100100090092910244',\n",
       "       '№ 0142200001316016312                                                                                                                                                                                                                                                                                                                                                                                                                                                                                Организация, осуществляющая размещение:                                                                                                                                                                    ГЛАВНОЕ  УПРАВЛЕНИЕ  ОРГАНИЗАЦИИ  ТОРГОВ  САМАРСКОЙ ОБЛАСТИ                                                                                                                                                                                                                        Поставка автомобиля для нужд Государственного бюджетного учреждения здравоохранения Самарской области «Самарская медико-санитарная часть № 2 Промышленного района».',\n",
       "       '№ 0303300076016000012                                                                                                                                                                                                                                                                                                                                                                                                                                                                                                                            Заказчик:                                                                                                                                                                                                                                                                                                                                                                                АДМИНИСТРАЦИЯ МУНИЦИПАЛЬНОГО РАЙОНА \"ЛАКСКИЙ РАЙОН\"                                                                                                                                                                                                                                                                                                                                                                                                                                                                                    Поставка автомобиля для нужд Администрации муниципального района «Лакский район»',\n",
       "       '№ 0319300156216000034                                                                                                                                                                                                                                                                                                                                                                                                                                                                                                                            Заказчик:                                                                                                                                                                                                                                                                                                                                                                                АДМИНИСТРАЦИЯ БАЛАХТИНСКОГО РАЙОНА КРАСНОЯРСКОГО КРАЯ                                                                                                                                                                                                                                                                                                                                                                                                                                                                                    Поставка легкового автомобиля',\n",
       "       '№ 0151300016316000062                                                                                                                                                                                                                                                                                                                                                                                                                                                                                                                            Заказчик:                                                                                                                                                                                                                                                                                                                                                                                АДМИНИСТРАЦИЯ ГОРОДА ТАТАРСКА НОВОСИБИРСКОЙ ОБЛАСТИ                                                                                                                                                                                                                                                                                                                                                                                                                                                                                    Приобретение легкового автомобиля для нужд администрации города Татарска Новосибирской области',\n",
       "       '№ 0301300451916000335                                                                                                                                                                                                                                                                                                                                                                                                                                                                                Организация, осуществляющая размещение:                                                                                                                                                                    МУНИЦИПАЛЬНОЕ КАЗЕННОЕ УЧРЕЖДЕНИЕ \"УПРАВЛЕНИЕ МУНИЦИПАЛЬНЫМИ ЗАКАЗАМИ\" МУНИЦИПАЛЬНОГО РАЙОНА ЯНАУЛЬСКИЙ РАЙОН РЕСПУБЛИКИ БАШКОРТОСТАН                                                                                                                                                                                                                        Приобретение легкового автомобиля для нужд администрации муниципального района Янаульский район Республики Башкортостан, участие в котором могут принять только субъекты малого предпринимательства, социально ориентированные некоммерческие организации',\n",
       "       '№ 0338200008616000188                                                                                                                                                                                                                                                                                                                                                                                                                                                                                                                            Заказчик:                                                                                                                                                                                                                                                                                                                                                                                ГОСУДАРСТВЕННОЕ БЮДЖЕТНОЕ  УЧРЕЖДЕНИЕ ЗДРАВООХРАНЕНИЯ \"КАМЧАТСКАЯ КРАЕВАЯ ДЕТСКАЯ БОЛЬНИЦА\"                                                                                                                                                                                                                                                                                                                                                                                                                                                                                    Поставка автомобиля',\n",
       "       '№ 0332300263717000003                                                                                                                                                                                                                                                                                                                                                                                                                                                                                Организация, осуществляющая размещение:                                                                                                                                                                    АДМИНИСТРАЦИЯ ВАДСКОГО МУНИЦИПАЛЬНОГО РАЙОНА НИЖЕГОРОДСКОЙ ОБЛАСТИ                                                                                                                                                                                                                        Поставка легкового автомобиля                                                                                                                                Идентификационный код закупки(ИКЗ):                                                                                173520600075852060100100190192910244',\n",
       "       '№ 0166300021117000010                                                                                                                                                                                                                                                                                                                                                                                                                                                                                                                            Заказчик:                                                                                                                                                                                                                                                                                                                                                                                АДМИНИСТРАЦИЯ МУНИЦИПАЛЬНОГО ОБРАЗОВАНИЯ ЗАОКСКИЙ РАЙОН                                                                                                                                                                                                                                                                                                                                                                                                                                                                                    Поставка автомобиля аварийной службы                                                                                                                                Идентификационный код закупки(ИКЗ):                                                                                173712601303271260100100230012910244',\n",
       "       '№ 0263100000217000013                                                                                                                                                                                                                                                                                                                                                                                                                                                                                                                            Заказчик:                                                                                                                                                                                                                                                                                                                                                                                ГОСУДАРСТВЕННОЕ УЧРЕЖДЕНИЕ - СМОЛЕНСКОЕ РЕГИОНАЛЬНОЕ ОТДЕЛЕНИЕ ФОНДА СОЦИАЛЬНОГО СТРАХОВАНИЯ РОССИЙСКОЙ ФЕДЕРАЦИИ                                                                                                                                                                                                                                                                                                                                                                                                                                                                                    Поставка автомобилей с адаптированными органами управления для застрахованных лиц с ограниченными физическими возможностями, получивших повреждение здоровья вследствие несчастных случаев на производстве и профессиональных заболеваний, используемых для их реабилитации                                                                                                                                Идентификационный код закупки(ИКЗ):                                                                                171673001833067310100100090012910323',\n",
       "       '№ 0364300044317000006                                                                                                                                                                                                                                                                                                                                                                                                                                                                                                                            Заказчик:                                                                                                                                                                                                                                                                                                                                                                                МУНИЦИПАЛЬНОЕ КАЗЕННОЕ УЧРЕЖДЕНИЕ \"ХОЗЯЙСТВЕННО-ЭКСПЛУАТАЦИОННАЯ  ЧАСТЬ\" РЖАКСИНСКОГО РАЙОНА ТАМБОВСКОЙ ОБЛАСТИ                                                                                                                                                                                                                                                                                                                                                                                                                                                                                    Автомобиль легковой                                                                                                                                Идентификационный код закупки(ИКЗ):                                                                                173681600082468160100100070012910244',\n",
       "       '№ 0321100014517000012                                                                                                                                                                                                                                                                                                                                                                                                                                                                                                                            Заказчик:                                                                                                                                                                                                                                                                                                                                                                                ФЕДЕРАЛЬНОЕ КАЗЕННОЕ УЧРЕЖДЕНИЕ \"ГЛАВНОЕ БЮРО МЕДИКО-СОЦИАЛЬНОЙ ЭКСПЕРТИЗЫ ПО СТАВРОПОЛЬСКОМУ КРАЮ\" МИНИСТЕРСТВА ТРУДА И СОЦИАЛЬНОЙ ЗАЩИТЫ РОССИЙСКОЙ ФЕДЕРАЦИИ                                                                                                                                                                                                                                                                                                                                                                                                                                                                                    Поставка легковых автомобилей 7-местных                                                                                                                                Идентификационный код закупки(ИКЗ):                                                                                171263406395026340100100290012910244',\n",
       "       '№ 0337100017717000096                                                                                                                                                                                                                                                                                                                                                                                                                                                                                                                            Заказчик:                                                                                                                                                                                                                                                                                                                                                                                ФЕДЕРАЛЬНОЕ КАЗЕННОЕ УЧРЕЖДЕНИЕ \"НАЛОГ-СЕРВИС\" ФЕДЕРАЛЬНОЙ НАЛОГОВОЙ СЛУЖБЫ (Г. МОСКВА)                                                                                                                                                                                                                                                                                                                                                                                                                                                                                    Поставка автотранспортных средств (легковой автомобиль) для нужд ФКУ \"Налог-Сервис\" ФНС России                                                                                                                                 Идентификационный код закупки(ИКЗ):                                                                                171402506283177330100130440012910244',\n",
       "       '№ 0148300038317000005                                                                                                                                                                                                                                                                                                                                                                                                                                                                                                                            Заказчик:                                                                                                                                                                                                                                                                                                                                                                                АДМИНИСТРАЦИЯ ПОСЕЛЕНИЯ РЯЗАНОВСКОЕ                                                                                                                                                                                                                                                                                                                                                                                                                                                                                    Приобретение легкового автомобиля для нужд администрации поселения Рязановское в городе Москве                                                                                                                                Идентификационный код закупки(ИКЗ):                                                                                173507403198077510100100550552910244',\n",
       "       '№ 0332300263717000002                                                                                                                                                                                                                                                                                                                                                                                                                                                                                Организация, осуществляющая размещение:                                                                                                                                                                    АДМИНИСТРАЦИЯ ВАДСКОГО МУНИЦИПАЛЬНОГО РАЙОНА НИЖЕГОРОДСКОЙ ОБЛАСТИ                                                                                                                                                                                                                        Поставка легкового автомобиля для нужд финансового управления администрации Вадского муниципального района Нижегородской области                                                                                                                                Идентификационный код закупки(ИКЗ):                                                                                173520600081452060100100040042910244',\n",
       "       '№ 0139300032516003244                                                                                                                                                                                                                                                                                                                                                                                                                                                                                Организация, осуществляющая размещение:                                                                                                                                                                    Управление муниципального заказа администрации города Кемерово                                                                                                                                                                                                                        Поставка транспортного средства',\n",
       "       '№ 0862300042617000011                                                                                                                                                                                                                                                                                                                                                                                                                                                                                                                            Заказчик:                                                                                                                                                                                                                                                                                                                                                                                МУНИЦИПАЛЬНОЕ КАЗЕННОЕ УЧРЕЖДЕНИЕ АЧИТСКОГО ГОРОДСКОГО ОКРУГА \"СЛУЖБА ЗАКАЗЧИКА\"                                                                                                                                                                                                                                                                                                                                                                                                                                                                                    Приобретение нового легкового автомобиля                                                                                                                                Идентификационный код закупки(ИКЗ):                                                                                173661901675166190100100100102910244',\n",
       "       '№ 0530300001417000001                                                                                                                                                                                                                                                                                                                                                                                                                                                                                                                            Заказчик:                                                                                                                                                                                                                                                                                                                                                                                МУНИЦИПАЛЬНОЕ УНИТАРНОЕ ПРЕДПРИЯТИЕ ГОРОДА ЧЕРЕПОВЦА \"ТЕПЛОЭНЕРГИЯ\"                                                                                                                                                                                                                                                                                                                                                                                                                                                                                    Поставка легкового автомобиля                                                                                                                                Идентификационный код закупки(ИКЗ):                                                                                173352800535535280100100010012910244',\n",
       "       '№ 0848300051617000001                                                                                                                                                                                                                                                                                                                                                                                                                                                                                                                            Заказчик:                                                                                                                                                                                                                                                                                                                                                                                МУНИЦИПАЛЬНОЕ КАЗЕННОЕ УЧРЕЖДЕНИЕ \"ЦЕНТР ЗАКУПОК\" МУНИЦИПАЛЬНОГО ОБРАЗОВАНИЯ РАМЕНСКИЙ МУНИЦИПАЛЬНЫЙ РАЙОН МОСКОВСКОЙ ОБЛАСТИ                                                                                                                                                                                                                                                                                                                                                                                                                                                                                    Поставка легкового автомобиля для нужд МКУ \"ЦЗ\"                                                                                                                                Идентификационный код закупки(ИКЗ):                                                                                173504013668850400100100190332910244',\n",
       "       '№ 0552600008117000001                                                                                                                                                                                                                                                                                                                                                                                                                                                                                                                            Заказчик:                                                                                                                                                                                                                                                                                                                                                                                МУНИЦИПАЛЬНОЕ УНИТАРНОЕ ПРЕДПРИЯТИЕ \"СОЦИАЛЬНО-ТЕПЛОВОЙ СЕРВИС ОДЕССКОГО РАЙОНА\" ОДЕССКОГО МУНИЦИПАЛЬНОГО РАЙОНА ОМСКОЙ ОБЛАСТИ                                                                                                                                                                                                                                                                                                                                                                                                                                                                                    Средства автотранспортные                                                                                                                                Идентификационный код закупки(ИКЗ):                                                                                173552600650155260100100020022910000',\n",
       "       '№ 0313300005617000002                                                                                                                                                                                                                                                                                                                                                                                                                                                                                                                            Заказчик:                                                                                                                                                                                                                                                                                                                                                                                АДМИНИСТРАЦИЯ ГОРОДА САРАПУЛА                                                                                                                                                                                                                                                                                                                                                                                                                                                                                    Автомобили легковые                                                                                                                                Идентификационный код закупки(ИКЗ):                                                                                173182700864018380100100590592910244',\n",
       "       '№ 0169300025717000013                                                                                                                                                                                                                                                                                                                                                                                                                                                                                                                            Заказчик:                                                                                                                                                                                                                                                                                                                                                                                АДМИНИСТРАЦИЯ НАГАЙБАКСКОГО МУНИЦИПАЛЬНОГО РАЙОНА                                                                                                                                                                                                                                                                                                                                                                                                                                                                                    Поставка легкового автомобиля                                                                                                                                Идентификационный код закупки(ИКЗ):                                                                                173743500037674350100100270012910244',\n",
       "       '№ 0169300028117000011                                                                                                                                                                                                                                                                                                                                                                                                                                                                                Организация, осуществляющая размещение:                                                                                                                                                                    АДМИНИСТРАЦИЯ КАСЛИНСКОГО МУНИЦИПАЛЬНОГО РАЙОНА                                                                                                                                                                                                                        Приобретение автомобиля                                                                                                                                Идентификационный код закупки(ИКЗ):                                                                                173740900022874590100100030022910244',\n",
       "       '№ 0130300009717000051                                                                                                                                                                                                                                                                                                                                                                                                                                                                                Организация, осуществляющая размещение:                                                                                                                                                                    АДМИНИСТРАЦИЯ ВЕЛИКОУСТЮГСКОГО МУНИЦИПАЛЬНОГО РАЙОНА                                                                                                                                                                                                                        Поставка легкового автомобиля                                                                                                                                Идентификационный код закупки(ИКЗ):                                                                                173352601099135260100100100012910244',\n",
       "       '№ 0122300006117000102                                                                                                                                                                                                                                                                                                                                                                                                                                                                                Организация, осуществляющая размещение:                                                                                                                                                                    АДМИНИСТРАЦИЯ ГОРОДА ХАБАРОВСКА                                                                                                                                                                                                                        Поставка легкового автомобиля                                                                                                                                Идентификационный код закупки(ИКЗ):                                                                                173272414627027240100100010082910244',\n",
       "       '№ 0106200001317000020                                                                                                                                                                                                                                                                                                                                                                                                                                                                                                                            Заказчик:                                                                                                                                                                                                                                                                                                                                                                                МИНИСТЕРСТВО СЕЛЬСКОГО И РЫБНОГО ХОЗЯЙСТВА РЕСПУБЛИКИ КАРЕЛИЯ                                                                                                                                                                                                                                                                                                                                                                                                                                                                                    поставка автотранспортного средства повышенной проходимости с учетом программы по утилизации                                                                                                                                Идентификационный код закупки(ИКЗ):                                                                                172100104809210010100100070232910244',\n",
       "       '№ 0357200013017000003                                                                                                                                                                                                                                                                                                                                                                                                                                                                                                                            Заказчик:                                                                                                                                                                                                                                                                                                                                                                                ГОСУДАРСТВЕННОЕ БЮДЖЕТНОЕ ПРОФЕССИОНАЛЬНОЕ ОБРАЗОВАТЕЛЬНОЕ УЧРЕЖДЕНИЕ ПСКОВСКОЙ ОБЛАСТИ \"ВЕЛИКОЛУКСКИЙ МЕДИЦИНСКИЙ КОЛЛЕДЖ\"                                                                                                                                                                                                                                                                                                                                                                                                                                                                                    Поставка легкового автомобиля для нужд ГБПОУ ПО \"ВМК\"                                                                                                                                Идентификационный код закупки(ИКЗ):                                                                                172602500198460250100100090062910244',\n",
       "       '№ 0359100008017000002                                                                                                                                                                                                                                                                                                                                                                                                                                                                                                                            Заказчик:                                                                                                                                                                                                                                                                                                                                                                                ФЕДЕРАЛЬНОЕ ГОСУДАРСТВЕННОЕ БЮДЖЕТНОЕ УЧРЕЖДЕНИЕ \"ОКСКИЙ ГОСУДАРСТВЕННЫЙ ПРИРОДНЫЙ БИОСФЕРНЫЙ ЗАПОВЕДНИК\"                                                                                                                                                                                                                                                                                                                                                                                                                                                                                    Внедорожный автомобиль                                                                                                                                Идентификационный код закупки(ИКЗ):                                                                                171622000033562200100100070010000244',\n",
       "       '№ 0332300152417000006                                                                                                                                                                                                                                                                                                                                                                                                                                                                                                                            Заказчик:                                                                                                                                                                                                                                                                                                                                                                                КОМИТЕТ ПО УПРАВЛЕНИЮ МУНИЦИПАЛЬНЫМ ИМУЩЕСТВОМ И ЖИЛИЩНО-КОММУНАЛЬНЫМ ХОЗЯЙСТВОМ АДМИНИСТРАЦИИ СЕРГАЧСКОГО МУНИЦИПАЛЬНОГО РАЙОНА НИЖЕГОРОДСКОЙ ОБЛАСТИ                                                                                                                                                                                                                                                                                                                                                                                                                                                                                    Поставка автомобиля легкового                                                                                                                                Идентификационный код закупки(ИКЗ):                                                                                173522900402952290100100110112910412',\n",
       "       '№ 0122300006117000012                                                                                                                                                                                                                                                                                                                                                                                                                                                                                Организация, осуществляющая размещение:                                                                                                                                                                    АДМИНИСТРАЦИЯ ГОРОДА ХАБАРОВСКА                                                                                                                                                                                                                        Поставка легкового автомобиля                                                                                                                                Идентификационный код закупки(ИКЗ):                                                                                173272414627027240100100010072910244',\n",
       "       '№ 0358100000717000012                                                                                                                                                                                                                                                                                                                                                                                                                                                                                                                            Заказчик:                                                                                                                                                                                                                                                                                                                                                                                ФЕДЕРАЛЬНОЕ ГОСУДАРСТВЕННОЕ КАЗЕННОЕ УЧРЕЖДЕНИЕ КОМБИНАТ \"АТЛАС\" УПРАВЛЕНИЯ ФЕДЕРАЛЬНОГО АГЕНТСТВА ПО ГОСУДАРСТВЕННЫМ РЕЗЕРВАМ ПО ЮЖНОМУ ФЕДЕРАЛЬНОМУ ОКРУГУ                                                                                                                                                                                                                                                                                                                                                                                                                                                                                    Приобретение легкового автомобиля                                                                                                                                Идентификационный код закупки(ИКЗ):                                                                                171611400363061140100100500022910244',\n",
       "       '№ 0302100013517000034                                                                                                                                                                                                                                                                                                                                                                                                                                                                                                                            Заказчик:                                                                                                                                                                                                                                                                                                                                                                                ГОСУДАРСТВЕННОЕ УЧРЕЖДЕНИЕ-РЕГИОНАЛЬНОЕ ОТДЕЛЕНИЕ ФОНДА СОЦИАЛЬНОГО СТРАХОВАНИЯ РОССИЙСКОЙ ФЕДЕРАЦИИ ПО РЕСПУБЛИКЕ БУРЯТИЯ                                                                                                                                                                                                                                                                                                                                                                                                                                                                                    Поставка автомобилей с адаптированными органами управления, предназначенных для застрахованных лиц, получивших повреждение здоровья вследствие несчастных случаев на производстве и профессиональных заболевания, используемых для их реабилитации\\t                                                                                                                                Идентификационный код закупки(ИКЗ):                                                                                171032301257103260100100150042910323',\n",
       "       '№ 0801300012217000009                                                                                                                                                                                                                                                                                                                                                                                                                                                                                Организация, осуществляющая размещение:                                                                                                                                                                    МУНИЦИПАЛЬНОЕ КАЗЕННОЕ УЧРЕЖДЕНИЕ \"УПРАВЛЕНИЕ КООРДИНАЦИИ, ПРАВОВОЙ ЭКСПЕРТИЗЫ И РАЗМЕЩЕНИЯ ЗАКУПОК МУНИЦИПАЛЬНОГО РАЙОНА УЧАЛИНСКИЙ РАЙОН РЕСПУБЛИКИ БАШКОРТОСТАН\"                                                                                                                                                                                                                        Приобретение легкового автомобиля для нужд администрации сельского поселения Уразовский сельсовет МР Учалинский район РБ                                                                                                                                Идентификационный код закупки(ИКЗ):                                                                                173027000321002700100100060062910244',\n",
       "       '№ 0152300007817000005                                                                                                                                                                                                                                                                                                                                                                                                                                                                                Организация, осуществляющая размещение:                                                                                                                                                                    АДМИНИСТРАЦИЯ БОЛЬШЕРЕЧЕНСКОГО МУНИЦИПАЛЬНОГО РАЙОНА ОМСКОЙ ОБЛАСТИ                                                                                                                                                                                                                        приобретение легковых автомобилей                                                                                                                                Идентификационный код закупки(ИКЗ):                                                                                173551000910555100100100140112910244',\n",
       "       '№ 0121300017217000024                                                                                                                                                                                                                                                                                                                                                                                                                                                                                                                            Заказчик:                                                                                                                                                                                                                                                                                                                                                                                АДМИНИСТРАЦИЯ АРЗГИРСКОГО МУНИЦИПАЛЬНОГО РАЙОНА СТАВРОПОЛЬСКОГО КРАЯ                                                                                                                                                                                                                                                                                                                                                                                                                                                                                    Поставка автомобиля легкового для нужд администрации Арзгирского муниципального района Ставропольского края                                                                                                                                Идентификационный код закупки(ИКЗ):                                                                                173260400532626040100101000412910244',\n",
       "       '№ 0169300052917000001                                                                                                                                                                                                                                                                                                                                                                                                                                                                                                                            Заказчик:                                                                                                                                                                                                                                                                                                                                                                                СОБРАНИЕ ДЕПУТАТОВ ОКТЯБРЬСКОГО МУНИЦИПАЛЬНОГО РАЙОНА                                                                                                                                                                                                                                                                                                                                                                                                                                                                                    Приобретение легкового автомобиля                                                                                                                                 Идентификационный код закупки(ИКЗ):                                                                                173743000877374300100110000012910244',\n",
       "       '№ 0815300003217000048                                                                                                                                                                                                                                                                                                                                                                                                                                                                                Организация, осуществляющая размещение:                                                                                                                                                                    МУНИЦИПАЛЬНОЕ КАЗЁННОЕ УЧРЕЖДЕНИЕ \"ЦЕНТР ОРГАНИЗАЦИИ ЗАКУПОК\" ГОРОДА ЧЕБОКСАРЫ                                                                                                                                                                                                                        Поставка легкового автомобиля                                                                                                                                Идентификационный код закупки(ИКЗ):                                                                                173212903961821300100100020022910244',\n",
       "       '№ 0862300028717000007                                                                                                                                                                                                                                                                                                                                                                                                                                                                                                                            Заказчик:                                                                                                                                                                                                                                                                                                                                                                                МУНИЦИПАЛЬНОЕ КАЗЕННОЕ УЧРЕЖДЕНИЕ \"ЦЕНТР СОПРОВОЖДЕНИЯ УЧРЕЖДЕНИЙ, ПОДВЕДОМСТВЕННЫХ УПРАВЛЕНИЮ ОБРАЗОВАНИЯ АДМИНИСТРАЦИИ РЕЖЕВСКОГО ГОРОДСКОГО ОКРУГА\"                                                                                                                                                                                                                                                                                                                                                                                                                                                                                    Поставка автомобиля                                                                                                                                Идентификационный код закупки(ИКЗ):                                                                                173667700147266770100100040012910244',\n",
       "       '№ 0144300004017000026                                                                                                                                                                                                                                                                                                                                                                                                                                                                                Организация, осуществляющая размещение:                                                                                                                                                                    ДЕПАРТАМЕНТ ЗАКУПОК ДЛЯ МУНИЦИПАЛЬНЫХ НУЖД ГОРОДА КУРСКА                                                                                                                                                                                                                        Закупка легкового автомобиля                                                                                                                                Идентификационный код закупки(ИКЗ):                                                                                173463203640046320100100070062910000',\n",
       "       '№ 0394100002317000055                                                                                                                                                                                                                                                                                                                                                                                                                                                                                                                            Заказчик:                                                                                                                                                                                                                                                                                                                                                                                ГОСУДАРСТВЕННОЕ УЧРЕЖДЕНИЕ - РЕГИОНАЛЬНОЕ ОТДЕЛЕНИЕ ФОНДА СОЦИАЛЬНОГО СТРАХОВАНИЯ РОССИЙСКОЙ ФЕДЕРАЦИИ ПО ЧЕЧЕНСКОЙ РЕСПУБЛИКЕ                                                                                                                                                                                                                                                                                                                                                                                                                                                                                    Поставка  автомобиля для обеспечения застрахованных лиц, пострадавших вследствие несчастных случаев на производстве и профессиональных заболеваний                                                                                                                                Идентификационный код закупки(ИКЗ):                                                                                171202000017920140100100310012910323',\n",
       "       '№ 0164300031317000002                                                                                                                                                                                                                                                                                                                                                                                                                                                                                Организация, осуществляющая размещение:                                                                                                                                                                    АДМИНИСТРАЦИЯ ГОРОДА МОРШАНСКА ТАМБОВСКОЙ ОБЛАСТИ                                                                                                                                                                                                                        Легковой автомобиль                                                                                                                                Идентификационный код закупки(ИКЗ):                                                                                173682603284068260100100160162910244',\n",
       "       '№ 0846500000117000003                                                                                                                                                                                                                                                                                                                                                                                                                                                                                                                            Заказчик:                                                                                                                                                                                                                                                                                                                                                                                ОБЛАСТНОЕ КАЗЁННОЕ УЧРЕЖДЕНИЕ \"АГЕНТСТВО АВТОМОБИЛЬНОГО ТРАНСПОРТА ЛИПЕЦКОЙ ОБЛАСТИ\"                                                                                                                                                                                                                                                                                                                                                                                                                                                                                    Приобретение легкового автомобиля                                                                                                                                Идентификационный код закупки(ИКЗ):                                                                                172482406908648240100100290012910244',\n",
       "       '№ 0315100001117000009                                                                                                                                                                                                                                                                                                                                                                                                                                                                                                                            Заказчик:                                                                                                                                                                                                                                                                                                                                                                                ФЕДЕРАЛЬНОЕ КАЗЕННОЕ УЧРЕЖДЕНИЕ \"ИСПРАВИТЕЛЬНАЯ КОЛОНИЯ № 2 УПРАВЛЕНИЯ ФЕДЕРАЛЬНОЙ СЛУЖБЫ ИСПОЛНЕНИЯ НАКАЗАНИЙ ПО ЧУВАШСКОЙ РЕСПУБЛИКЕ - ЧУВАШИИ\"                                                                                                                                                                                                                                                                                                                                                                                                                                                                                    Грузопассажирский автомобиль                                                                                                                                Идентификационный код закупки(ИКЗ):                                                                                171212200368321220100100280010000244',\n",
       "       '№ 0573100016317000013                                                                                                                                                                                                                                                                                                                                                                                                                                                                                                                            Заказчик:                                                                                                                                                                                                                                                                                                                                                                                ФЕДЕРАЛЬНОЕ ГОСУДАРСТВЕННОЕ УНИТАРНОЕ ПРЕДПРИЯТИЕ \"ВОЕНИЗИРОВАННАЯ ГОРНОСПАСАТЕЛЬНАЯ ЧАСТЬ\"                                                                                                                                                                                                                                                                                                                                                                                                                                                                                    Поставка оперативного автомобиля для выезда командного состава и специалистов филиала «ВГСО Восточной Сибири» ФГУП «ВГСЧ»                                                                                                                                Идентификационный код закупки(ИКЗ):                                                                                171771703679777230100112343164511000',\n",
       "       '№ 0332300152417000005                                                                                                                                                                                                                                                                                                                                                                                                                                                                                                                            Заказчик:                                                                                                                                                                                                                                                                                                                                                                                КОМИТЕТ ПО УПРАВЛЕНИЮ МУНИЦИПАЛЬНЫМ ИМУЩЕСТВОМ И ЖИЛИЩНО-КОММУНАЛЬНЫМ ХОЗЯЙСТВОМ АДМИНИСТРАЦИИ СЕРГАЧСКОГО МУНИЦИПАЛЬНОГО РАЙОНА НИЖЕГОРОДСКОЙ ОБЛАСТИ                                                                                                                                                                                                                                                                                                                                                                                                                                                                                    Поставка трех автомобилей легковых                                                                                                                                Идентификационный код закупки(ИКЗ):                                                                                173522900402952290100100100102910412',\n",
       "       '№ 0575600015817000009                                                                                                                                                                                                                                                                                                                                                                                                                                                                                                                            Заказчик:                                                                                                                                                                                                                                                                                                                                                                                МУНИЦИПАЛЬНОЕ УНИТАРНОЕ ПРЕДПРИЯТИЕ \"КУРОРТТОРГСЕРВИС\" ГОРОДСКОГО ОКРУГА ЕВПАТОРИЯ РЕСПУБЛИКИ КРЫМ                                                                                                                                                                                                                                                                                                                                                                                                                                                                                    поставка легкового автомобиля                                                                                                                                Идентификационный код закупки(ИКЗ):                                                                                173911001159491100100117090092910000',\n",
       "       '№ 0167300017517000016                                                                                                                                                                                                                                                                                                                                                                                                                                                                                                                            Заказчик:                                                                                                                                                                                                                                                                                                                                                                                АДМИНИСТРАЦИЯ НИЖНЕТАВДИНСКОГО МУНИЦИПАЛЬНОГО РАЙОНА                                                                                                                                                                                                                                                                                                                                                                                                                                                                                    Приобретение автомобилейдля администраций сельских поселений.                                                                                                                                Идентификационный код закупки(ИКЗ):                                                                                173721900771572240100110250202910244',\n",
       "       '№ 0121300043817000005                                                                                                                                                                                                                                                                                                                                                                                                                                                                                                                            Заказчик:                                                                                                                                                                                                                                                                                                                                                                                УПРАВЛЕНИЕ ЖИЛИЩНО-КОММУНАЛЬНОГО ХОЗЯЙСТВА АДМИНИСТРАЦИИ ГЕОРГИЕВСКОГО ГОРОДСКОГО ОКРУГА СТАВРОПОЛЬСКОГО КРАЯ                                                                                                                                                                                                                                                                                                                                                                                                                                                                                    поставка легкового автомобиля                                                                                                                                Идентификационный код закупки(ИКЗ):                                                                                173262580194626250100100130182910244',\n",
       "       '№ 0121300028917000015                                                                                                                                                                                                                                                                                                                                                                                                                                                                                                                            Заказчик:                                                                                                                                                                                                                                                                                                                                                                                АДМИНИСТРАЦИЯ ГЕОРГИЕВСКОГО ГОРОДСКОГО ОКРУГА СТАВРОПОЛЬСКОГО КРАЯ                                                                                                                                                                                                                                                                                                                                                                                                                                                                                    поставка легкового автомобиля                                                                                                                                 Идентификационный код закупки(ИКЗ):                                                                                173262502196026250100100090092910244',\n",
       "       '№ 0146300030217000064                                                                                                                                                                                                                                                                                                                                                                                                                                                                                Организация, осуществляющая размещение:                                                                                                                                                                    УПРАВЛЕНИЕ МУНИЦИПАЛЬНОГО ЗАКАЗА АДМИНИСТРАЦИИ ГОРОДА ЛИПЕЦКА                                                                                                                                                                                                                        Автомобиль                                                                                                                                 Идентификационный код закупки(ИКЗ):                                                                                173482611274948260100100100102910244',\n",
       "       '№ 0817200000317000154                                                                                                                                                                                                                                                                                                                                                                                                                                                                                Организация, осуществляющая размещение:                                                                                                                                                                    КРАЕВОЕ ГОСУДАРСТВЕННОЕ КАЗЕННОЕ УЧРЕЖДЕНИЕ \"ЦЕНТР ГОСУДАРСТВЕННЫХ ЗАКУПОК АЛТАЙСКОГО КРАЯ\"                                                                                                                                                                                                                        Поставка легкового автомобиля                                                                                                                                Идентификационный код закупки(ИКЗ):                                                                                172222517162622250100100010042910244',\n",
       "       '№ 0372200039317000001                                                                                                                                                                                                                                                                                                                                                                                                                                                                                                                            Заказчик:                                                                                                                                                                                                                                                                                                                                                                                САНКТ-ПЕТЕРБУРГСКОЕ ГОСУДАРСТВЕННОЕ БЮДЖЕТНОЕ УЧРЕЖДЕНИЕ \"ДИРЕКЦИЯ ПО УПРАВЛЕНИЮ ОБЪЕКТАМИ ГОСУДАРСТВЕННОГО ЖИЛИЩНОГО ФОНДА САНКТ-ПЕТЕРБУРГА\"                                                                                                                                                                                                                                                                                                                                                                                                                                                                                    Поставка автомобиля для нужд СПб ГБУ \"ГосЖилФонд\"                                                                                                                                Идентификационный код закупки(ИКЗ):                                                                                172782510656178400100100260012910244',\n",
       "       '№ 0169300040417000017                                                                                                                                                                                                                                                                                                                                                                                                                                                                                                                            Заказчик:                                                                                                                                                                                                                                                                                                                                                                                АДМИНИСТРАЦИЯ ОКТЯБРЬСКОГО МУНИЦИПАЛЬНОГО РАЙОНА                                                                                                                                                                                                                                                                                                                                                                                                                                                                                    Поставку легковогоавтомобилядля нужд АдминистрацииОктябрьского муниципального районаЧелябинской области                                                                                                                                Идентификационный код закупки(ИКЗ):                                                                                173743700109374300100100640352910244',\n",
       "       '№ 0860200000817000551                                                                                                                                                                                                                                                                                                                                                                                                                                                                                Организация, осуществляющая размещение:                                                                                                                                                                    ГОСУДАРСТВЕННОЕ КАЗЕННОЕ УЧРЕЖДЕНИЕ САРАТОВСКОЙ ОБЛАСТИ \"ГОСУДАРСТВЕННОЕ АГЕНТСТВО ПО ЦЕНТРАЛИЗАЦИИ ЗАКУПОК\"                                                                                                                                                                                                                        Государственноеказенное учреждение Саратовской области \"Государственное агентство поцентрализации закупок\" объявляетаукцион в электронной форме длясубъектов малого предпринимательства, социально ориентированных некоммерческих организацийна определение поставщика товара «Поставка легкого автомобиля» для нуждГосударственного учреждения здравоохранения «Саратовская городская поликлиника№ 3»\\xa0 \\xa0                                                                                                                                Идентификационный код закупки(ИКЗ):                                                                                173645004174564500100100180182910244',\n",
       "       '№ 0138100004917000045                                                                                                                                                                                                                                                                                                                                                                                                                                                                                                                            Заказчик:                                                                                                                                                                                                                                                                                                                                                                                ПРОКУРАТУРА КАМЧАТСКОГО КРАЯ                                                                                                                                                                                                                                                                                                                                                                                                                                                                                    Закупка  легковых автомобилей  для прокуратуры Камчатского края                                                                                                                                Идентификационный код закупки(ИКЗ):                                                                                171410111814041010100100020012910244',\n",
       "       '№ 0373200307317000039                                                                                                                                                                                                                                                                                                                                                                                                                                                                                                                            Заказчик:                                                                                                                                                                                                                                                                                                                                                                                ГОСУДАРСТВЕННОЕ БЮДЖЕТНОЕ УЧРЕЖДЕНИЕ ГОРОДА МОСКВЫ \"АВТОМОБИЛЬНЫЕ ДОРОГИ\"                                                                                                                                                                                                                                                                                                                                                                                                                                                                                    Аукцион в электронной форме на право заключения контракта на поставку легкового автомобиля для нужд Управления по хранению и логистики строительных материалов                                                                                                                                Идентификационный код закупки(ИКЗ):                                                                                172772765679077140100108720012910244',\n",
       "       '№ 0313100000317000046                                                                                                                                                                                                                                                                                                                                                                                                                                                                                                                            Заказчик:                                                                                                                                                                                                                                                                                                                                                                                ФЕДЕРАЛЬНОЕ КАЗЕННОЕ УЧРЕЖДЕНИЕ \"ГЛАВНОЕ БЮРО МЕДИКО-СОЦИАЛЬНОЙ ЭКСПЕРТИЗЫ ПО УДМУРТСКОЙ РЕСПУБЛИКЕ\" МИНИСТЕРСТВА ТРУДА И СОЦИАЛЬНОЙ ЗАЩИТЫ РОССИЙСКОЙ ФЕДЕРАЦИИ                                                                                                                                                                                                                                                                                                                                                                                                                                                                                    Поставка легкового автомобиля                                                                                                                                Идентификационный код закупки(ИКЗ):                                                                                171183303422118410100100410022910244',\n",
       "       '№ 0848300059117000036                                                                                                                                                                                                                                                                                                                                                                                                                                                                                Организация, осуществляющая размещение:                                                                                                                                                                    МУНИЦИПАЛЬНОЕ КАЗЕННОЕ УЧРЕЖДЕНИЕ \"ЦЕНТР ЗАКУПОК РУЗСКОГО МУНИЦИПАЛЬНОГО РАЙОНА\"                                                                                                                                                                                                                        Приобретение автомобиля                                                                                                                                Идентификационный код закупки(ИКЗ):                                                                                173507502620650750100100760112910244',\n",
       "       '№ 0164300024417000001                                                                                                                                                                                                                                                                                                                                                                                                                                                                                                                            Заказчик:                                                                                                                                                                                                                                                                                                                                                                                АДМИНИСТРАЦИЯ ПОЛЕТАЕВСКОГО СЕЛЬСОВЕТА ТОКАРЕВСКОГО РАЙОНА ТАМБОВСКОЙ ОБЛАСТИ                                                                                                                                                                                                                                                                                                                                                                                                                                                                                    Поставка легкового автомобиля                                                                                                                                Идентификационный код закупки(ИКЗ):                                                                                173682150395068210100100010032910244',\n",
       "       '№ 0853300000517000003                                                                                                                                                                                                                                                                                                                                                                                                                                                                                Организация, осуществляющая размещение:                                                                                                                                                                    МУНИЦИПАЛЬНОЕ КАЗЕННОЕ УЧРЕЖДЕНИЕ \"ЕДИНАЯ ЦЕНТРАЛИЗОВАННАЯ СИСТЕМА УЧЕТА\" ПЕРВОМАЙСКОГО РАЙОНА ОРЕНБУРГСКОЙ ОБЛАСТИ                                                                                                                                                                                                                        Легковой автомобиль                                                                                                                                Идентификационный код закупки(ИКЗ):                                                                                173563900636556390100100050052910244',\n",
       "       '№ 0316100015217000078                                                                                                                                                                                                                                                                                                                                                                                                                                                                                                                            Заказчик:                                                                                                                                                                                                                                                                                                                                                                                ФЕДЕРАЛЬНОЕ БЮДЖЕТНОЕ УЧРЕЖДЕНИЕ \"АДМИНИСТРАЦИЯ ЛЕНСКОГО БАССЕЙНА ВНУТРЕННИХ ВОДНЫХ ПУТЕЙ\"                                                                                                                                                                                                                                                                                                                                                                                                                                                                                    Поставка полноприводного внедорожного легкового автомобиля                                                                                                                                Идентификационный код закупки(ИКЗ):                                                                                171143503369114350100101590042910244',\n",
       "       '№ 0151300023817000023                                                                                                                                                                                                                                                                                                                                                                                                                                                                                                                            Заказчик:                                                                                                                                                                                                                                                                                                                                                                                АДМИНИСТРАЦИЯ ЧЕРЕПАНОВСКОГО РАЙОНА НОВОСИБИРСКОЙ ОБЛАСТИ                                                                                                                                                                                                                                                                                                                                                                                                                                                                                    Поставка автомобиля для нужд администрации Черепановского района Новосибирской области                                                                                                                                Идентификационный код закупки(ИКЗ):                                                                                173544011267454400100140090022910244',\n",
       "       '№ 0351300115517000001                                                                                                                                                                                                                                                                                                                                                                                                                                                                                Организация, осуществляющая размещение:                                                                                                                                                                    МУНИЦИПАЛЬНОЕ КАЗЁННОЕ УЧРЕЖДЕНИЕ \"ЦЕНТР БУХГАЛТЕРСКОГО, ИНФОРМАЦИОННОГО ОБЕСПЕЧЕНИЯ И МУНИЦИПАЛЬНЫХ ЗАКУПОК БАГАНСКОГО РАЙОНА\"                                                                                                                                                                                                                        поставка легкового автомобиля                                                                                                                                Идентификационный код закупки(ИКЗ):                                                                                173541710550254170100100060022910244',\n",
       "       '№ 0373200557917000054                                                                                                                                                                                                                                                                                                                                                                                                                                                                                                                            Заказчик:                                                                                                                                                                                                                                                                                                                                                                                ГОСУДАРСТВЕННОЕ БЮДЖЕТНОЕ УЧРЕЖДЕНИЕ ГОРОДА МОСКВЫ ПО ЭКСПЛУАТАЦИИ И РЕМОНТУ ИНЖЕНЕРНЫХ СООРУЖЕНИЙ \"ГОРМОСТ\"                                                                                                                                                                                                                                                                                                                                                                                                                                                                                    Право заключения контракта на поставку легкового автомобиля (СМП и СОНО)                                                                                                                                Идентификационный код закупки(ИКЗ):                                                                                172772276542877220100103690012910244',\n",
       "       '№ 0372100009017000021                                                                                                                                                                                                                                                                                                                                                                                                                                                                                                                            Заказчик:                                                                                                                                                                                                                                                                                                                                                                                ГЛАВНОЕ СЛЕДСТВЕННОЕ УПРАВЛЕНИЕ СЛЕДСТВЕННОГО КОМИТЕТА РОССИЙСКОЙ ФЕДЕРАЦИИ ПО ГОРОДУ САНКТ-ПЕТЕРБУРГУ                                                                                                                                                                                                                                                                                                                                                                                                                                                                                    Поставка легкового автомобиля                                                                                                                                Идентификационный код закупки(ИКЗ):                                                                                171783845442178380100100510012910244',\n",
       "       '№ 0302100013517000030                                                                                                                                                                                                                                                                                                                                                                                                                                                                                                                            Заказчик:                                                                                                                                                                                                                                                                                                                                                                                ГОСУДАРСТВЕННОЕ УЧРЕЖДЕНИЕ-РЕГИОНАЛЬНОЕ ОТДЕЛЕНИЕ ФОНДА СОЦИАЛЬНОГО СТРАХОВАНИЯ РОССИЙСКОЙ ФЕДЕРАЦИИ ПО РЕСПУБЛИКЕ БУРЯТИЯ                                                                                                                                                                                                                                                                                                                                                                                                                                                                                    Поставка автомобиля, предназначенного для застрахованного лица, получившего повреждение здоровья вследствие профессионального заболевания, используемого для его реабилитации                                                                                                                                Идентификационный код закупки(ИКЗ):                                                                                171032301257103260100100150052910323',\n",
       "       '№ 0336100018117000007                                                                                                                                                                                                                                                                                                                                                                                                                                                                                                                            Заказчик:                                                                                                                                                                                                                                                                                                                                                                                ФЕДЕРАЛЬНОЕ ГОСУДАРСТВЕННОЕ КАЗЕННОЕ ВОЕННОЕ ОБРАЗОВАТЕЛЬНОЕ УЧРЕЖДЕНИЕ ВЫСШЕГО ОБРАЗОВАНИЯ \"ВОЕННАЯ АКАДЕМИЯ ВОЗДУШНО-КОСМИЧЕСКОЙ ОБОРОНЫ ИМЕНИ МАРШАЛА СОВЕТСКОГО СОЮЗА Г.К. ЖУКОВА\" МИНИСТЕРСТВА ОБОРОНЫ РОССИЙСКОЙ ФЕДЕРАЦИИ                                                                                                                                                                                                                                                                                                                                                                                                                                                                                    Легковой автомобиль                                                                                                                                Идентификационный код закупки(ИКЗ):                                                                                171690500499769050100100630632910244',\n",
       "       '№ 0318300259117000002                                                                                                                                                                                                                                                                                                                                                                                                                                                                                                                            Заказчик:                                                                                                                                                                                                                                                                                                                                                                                МУНИЦИПАЛЬНОЕ КАЗЕННОЕ  УЧРЕЖДЕНИЕ \"ЦЕНТРАЛИЗОВАННАЯ БУХГАЛТЕРИЯ ДЖУБГСКОГО ГОРОДСКОГО ПОСЕЛЕНИЯ ТУАПСИНСКОГО РАЙОНА\"                                                                                                                                                                                                                                                                                                                                                                                                                                                                                    Автомобиль  легковой                                                                                                                                 Идентификационный код закупки(ИКЗ):                                                                                173236501546523650100100030013099244',\n",
       "       '№ 0109200002417000236                                                                                                                                                                                                                                                                                                                                                                                                                                                                                Организация, осуществляющая размещение:                                                                                                                                                                    ГОСУДАРСТВЕННЫЙ КОМИТЕТ РЕСПУБЛИКИ МОРДОВИЯ ПО ОРГАНИЗАЦИИ ТОРГОВ И ЦЕНОВОЙ ПОЛИТИКЕ                                                                                                                                                                                                                        закупка автотранспортного средства                                                                                                                                Идентификационный код закупки(ИКЗ):                                                                                172132621398313260100100200012910612',\n",
       "       '№ 0302300058817000006                                                                                                                                                                                                                                                                                                                                                                                                                                                                                                                            Заказчик:                                                                                                                                                                                                                                                                                                                                                                                МУНИЦИПАЛЬНОЕ УЧРЕЖДЕНИЕ \"ХОЗЯЙСТВЕННО - ТРАНСПОРТНЫЙ ОТДЕЛ\"  АДМИНИСТРАЦИИ МУНИЦИПАЛЬНОГО ОБРАЗОВАНИЯ \"ИВОЛГИНСКИЙ РАЙОН\"                                                                                                                                                                                                                                                                                                                                                                                                                                                                                    Поставка легкового автомобиля                                                                                                                                Идентификационный код закупки(ИКЗ):                                                                                173030816117703080100100150182910244',\n",
       "       '№ 0311100013317000004                                                                                                                                                                                                                                                                                                                                                                                                                                                                                                                            Заказчик:                                                                                                                                                                                                                                                                                                                                                                                ФЕДЕРАЛЬНОЕ ГОСУДАРСТВЕННОЕ БЮДЖЕТНОЕ ПРОФЕССИОНАЛЬНОЕ ОБРАЗОВАТЕЛЬНОЕ  УЧРЕЖДЕНИЕ  \"РАИФСКОЕ СПЕЦИАЛЬНОЕ УЧЕБНО-ВОСПИТАТЕЛЬНОЕ УЧРЕЖДЕНИЕ ДЛЯ ОБУЧАЮЩИХСЯ С ДЕВИАНТНЫМ (ОБЩЕСТВЕННО ОПАСНЫМ) ПОВЕДЕНИЕМ  ЗАКРЫТОГО ТИПА\"                                                                                                                                                                                                                                                                                                                                                                                                                                                                                    Поставка легкового автомобиля для училища                                                                                                                                Идентификационный код закупки(ИКЗ):                                                                                171162000186316480100100090202910244',\n",
       "       '№ 0311100013317000003                                                                                                                                                                                                                                                                                                                                                                                                                                                                                                                            Заказчик:                                                                                                                                                                                                                                                                                                                                                                                ФЕДЕРАЛЬНОЕ ГОСУДАРСТВЕННОЕ БЮДЖЕТНОЕ ПРОФЕССИОНАЛЬНОЕ ОБРАЗОВАТЕЛЬНОЕ  УЧРЕЖДЕНИЕ  \"РАИФСКОЕ СПЕЦИАЛЬНОЕ УЧЕБНО-ВОСПИТАТЕЛЬНОЕ УЧРЕЖДЕНИЕ ДЛЯ ОБУЧАЮЩИХСЯ С ДЕВИАНТНЫМ (ОБЩЕСТВЕННО ОПАСНЫМ) ПОВЕДЕНИЕМ  ЗАКРЫТОГО ТИПА\"                                                                                                                                                                                                                                                                                                                                                                                                                                                                                    Автомобиль легковой                                                                                                                                Идентификационный код закупки(ИКЗ):                                                                                171162000186316480100100020022910244',\n",
       "       '№ 0557600002817000001                                                                                                                                                                                                                                                                                                                                                                                                                                                                                                                            Заказчик:                                                                                                                                                                                                                                                                                                                                                                                МУНИЦИПАЛЬНОЕ УНИТАРНОЕ ПРЕДПРИЯТИЕ ОПОЧЕЦКОГО РАЙОНА \"КОММУНСЕРВИС\"                                                                                                                                                                                                                                                                                                                                                                                                                                                                                    Покупка легкового автомобиля для нужд МУП \"Коммунсервис\"                                                                                                                                Идентификационный код закупки(ИКЗ):                                                                                173601200355060120100100080082910000',\n",
       "       '№ 0154300014617000086                                                                                                                                                                                                                                                                                                                                                                                                                                                                                Организация, осуществляющая размещение:                                                                                                                                                                    АДМИНИСТРАЦИЯ ГОРОДА ОРЛА                                                                                                                                                                                                                        Поставка легкового автомобиля                                                                                                                                Идентификационный код закупки(ИКЗ):                                                                                173570100036857530100100640012910000',\n",
       "       '№ 0117300095217000001                                                                                                                                                                                                                                                                                                                                                                                                                                                                                                                            Заказчик:                                                                                                                                                                                                                                                                                                                                                                                ГЛАВНОЕ УПРАВЛЕНИЕ ЭКОНОМИЧЕСКОГО РАЗВИТИЯ И АГРОПРОМЫШЛЕННОГО КОМПЛЕКСА АДМИНИСТРАЦИИ АЛТАЙСКОГО РАЙОНА АЛТАЙСКОГО КРАЯ                                                                                                                                                                                                                                                                                                                                                                                                                                                                                    Поставка автомобиля                                                                                                                                Идентификационный код закупки(ИКЗ):                                                                                173223201028122320100100180012910244',\n",
       "       '№ 0153300076717000011                                                                                                                                                                                                                                                                                                                                                                                                                                                                                                                            Заказчик:                                                                                                                                                                                                                                                                                                                                                                                АДМИНИСТРАЦИЯ БУГУРУСЛАНСКОГО РАЙОНА ОРЕНБУРГСКОЙ ОБЛАСТИ                                                                                                                                                                                                                                                                                                                                                                                                                                                                                    Поставка легкового автомобиля                                                                                                                                Идентификационный код закупки(ИКЗ):                                                                                173560200729956020100100080082910244',\n",
       "       '№ 0134200000117000149                                                                                                                                                                                                                                                                                                                                                                                                                                                                                Организация, осуществляющая размещение:                                                                                                                                                                    МИНИСТЕРСТВО ПО РЕГУЛИРОВАНИЮ КОНТРАКТНОЙ СИСТЕМЫ В СФЕРЕ ЗАКУПОК ИРКУТСКОЙ ОБЛАСТИ                                                                                                                                                                                                                        легковой автомобиль                                                                                                                                Идентификационный код закупки(ИКЗ):                                                                                172380810352438490100100060012910244',\n",
       "       '№ 0158300018017000022                                                                                                                                                                                                                                                                                                                                                                                                                                                                                                                            Заказчик:                                                                                                                                                                                                                                                                                                                                                                                АДМИНИСТРАЦИЯ КОНСТАНТИНОВСКОГО ГОРОДСКОГО ПОСЕЛЕНИЯ                                                                                                                                                                                                                                                                                                                                                                                                                                                                                    Приобретение автомобиля                                                                                                                                Идентификационный код закупки(ИКЗ):                                                                                173611600890961160100100530492910244',\n",
       "       '№ 0201200000117000004                                                                                                                                                                                                                                                                                                                                                                                                                                                                                                                            Заказчик:                                                                                                                                                                                                                                                                                                                                                                                ГОСУДАРСТВЕННОЕ УЧРЕЖДЕНИЕ ТЕРРИТОРИАЛЬНЫЙ ФОНД ОБЯЗАТЕЛЬНОГО МЕДИЦИНСКОГО СТРАХОВАНИЯ РЕСПУБЛИКИ БАШКОРТОСТАН                                                                                                                                                                                                                                                                                                                                                                                                                                                                                    Поставка автомашины для нужд ГУ ТФОМС РБ\\t\\t\\t\\t\\t\\t\\t\\t\\t\\t                                                                                                                                Идентификационный код закупки(ИКЗ):                                                                                172027402630702750100100340282910244',\n",
       "       '№ 0352300214117000005                                                                                                                                                                                                                                                                                                                                                                                                                                                                                                                            Заказчик:                                                                                                                                                                                                                                                                                                                                                                                МУНИЦИПАЛЬНОЕ КАЗЕННОЕ УЧРЕЖДЕНИЕ\"ЦЕНТР ХОЗЯЙСТВЕННОГО ОБЕСПЕЧЕНИЯ И ЕДДС ГОРЬКОВСКОГО МУНИЦИПАЛЬНОГО РАЙОНА ОМСКОЙ ОБЛАСТИ\"                                                                                                                                                                                                                                                                                                                                                                                                                                                                                    Поставка легкового автомобиля                                                                                                                                Идентификационный код закупки(ИКЗ):                                                                                173551220003355120100100120014511244',\n",
       "       '№ 0172100008517000012                                                                                                                                                                                                                                                                                                                                                                                                                                                                                                                            Заказчик:                                                                                                                                                                                                                                                                                                                                                                                СЕВЕРО-ЗАПАДНОЕ ТЕРРИТОРИАЛЬНОЕ УПРАВЛЕНИЕ ФЕДЕРАЛЬНОГО АГЕНТСТВА ПО РЫБОЛОВСТВУ                                                                                                                                                                                                                                                                                                                                                                                                                                                                                    Средства автотранспортные                                                                                                                                Идентификационный код закупки(ИКЗ):                                                                                171784136222778010100100010012910244',\n",
       "       '№ 0854300004017000004                                                                                                                                                                                                                                                                                                                                                                                                                                                                                                                            Заказчик:                                                                                                                                                                                                                                                                                                                                                                                МУНИЦИПАЛЬНОЕ КАЗЕННОЕ УЧРЕЖДЕНИЕ ПОКРОВСКОГО РАЙОНА \"АДМИНИСТРАТИВНО-ХОЗЯЙСТВЕННЫЙ ЦЕНТР\"                                                                                                                                                                                                                                                                                                                                                                                                                                                                                    Приобретение автомобиля Шевроле Нива 4x4 (Chevrolet Niva) комплектация \"LC\" или эквивалент                                                                                                                                Идентификационный код закупки(ИКЗ):                                                                                173572100309257210100100070072910244',\n",
       "       '№ 0169600001917000007                                                                                                                                                                                                                                                                                                                                                                                                                                                                                Организация, осуществляющая размещение:                                                                                                                                                                    УПРАВЛЕНИЕ ЗЕМЕЛЬНЫМИ И ИМУЩЕСТВЕННЫМИ ОТНОШЕНИЯМИ КУСИНСКОГО МУНИЦИПАЛЬНОГО РАЙОНА                                                                                                                                                                                                                        Средства транспортные с поршневым двигателем внутреннего сгорания с воспламенением от сжатия (дизелем или полудизелем), новые                                                                                                                                Идентификационный код закупки(ИКЗ):                                                                                173743400083174040100100640012910244',\n",
       "       '№ 0818300025017000003                                                                                                                                                                                                                                                                                                                                                                                                                                                                                                                            Заказчик:                                                                                                                                                                                                                                                                                                                                                                                МУНИЦИПАЛЬНОЕ КАЗЕННОЕ УЧРЕЖДЕНИЕ \"АДМИНИСТРАТИВНО-ХОЗЯЙСТВЕННОЕ УПРАВЛЕНИЕ МУНИЦИПАЛЬНОГО ОБРАЗОВАНИЯ КРЫМСКИЙ РАЙОН\"                                                                                                                                                                                                                                                                                                                                                                                                                                                                                    приобретение и поставка легкового автомобиля                                                                                                                                Идентификационный код закупки(ИКЗ):                                                                                173233704432023370100111180082910244',\n",
       "       '№ 0117100014117000028                                                                                                                                                                                                                                                                                                                                                                                                                                                                                                                            Заказчик:                                                                                                                                                                                                                                                                                                                                                                                ГОСУДАРСТВЕННАЯ ИНСПЕКЦИЯ ТРУДА В АЛТАЙСКОМ КРАЕ                                                                                                                                                                                                                                                                                                                                                                                                                                                                                    Автомобили легковые                                                                                                                                Идентификационный код закупки(ИКЗ):                                                                                171222102122822240100100300012910244',\n",
       "       '№ 0162300025817000007                                                                                                                                                                                                                                                                                                                                                                                                                                                                                                                            Заказчик:                                                                                                                                                                                                                                                                                                                                                                                МУНИЦИПАЛЬНОЕ КАЗЕННОЕ УЧРЕЖДЕНИЕ \"УПРАВЛЕНИЕ ОБРАЗОВАНИЯ ГОРОДСКОГО ОКРУГА ВЕРХНЯЯ ПЫШМА\"                                                                                                                                                                                                                                                                                                                                                                                                                                                                                    Приобретение легкового автомобиля                                                                                                                                Идентификационный код закупки(ИКЗ):                                                                                173660600545666860100100280282910244',\n",
       "       '№ 0324100005017000029                                                                                                                                                                                                                                                                                                                                                                                                                                                                                                                            Заказчик:                                                                                                                                                                                                                                                                                                                                                                                ФЕДЕРАЛЬНОЕ КАЗЕННОЕ УЧРЕЖДЕНИЕ \"ГЛАВНОЕ БЮРО МЕДИКО-СОЦИАЛЬНОЙ ЭКСПЕРТИЗЫ ПО АРХАНГЕЛЬСКОЙ ОБЛАСТИ И НЕНЕЦКОМУ АВТОНОМНОМУ ОКРУГУ\" МИНИСТЕРСТВА ТРУДА И СОЦИАЛЬНОЙ ЗАЩИТЫ РОССИЙСКОЙ ФЕДЕРАЦИИ                                                                                                                                                                                                                                                                                                                                                                                                                                                                                    Средства транспортные с двигателем с искровым зажиганием, с рабочим объемом цилиндров более 1500 см3, новые                                                                                                                                Идентификационный код закупки(ИКЗ):                                                                                171290113152429010100100380032910244',\n",
       "       '№ 0372100009017000024                                                                                                                                                                                                                                                                                                                                                                                                                                                                                                                            Заказчик:                                                                                                                                                                                                                                                                                                                                                                                ГЛАВНОЕ СЛЕДСТВЕННОЕ УПРАВЛЕНИЕ СЛЕДСТВЕННОГО КОМИТЕТА РОССИЙСКОЙ ФЕДЕРАЦИИ ПО ГОРОДУ САНКТ-ПЕТЕРБУРГУ                                                                                                                                                                                                                                                                                                                                                                                                                                                                                    Поставка легковых автомобилей                                                                                                                                Идентификационный код закупки(ИКЗ):                                                                                171783845442178380100100520012910244',\n",
       "       '№ 0166300021117000022                                                                                                                                                                                                                                                                                                                                                                                                                                                                                                                            Заказчик:                                                                                                                                                                                                                                                                                                                                                                                АДМИНИСТРАЦИЯ МУНИЦИПАЛЬНОГО ОБРАЗОВАНИЯ ЗАОКСКИЙ РАЙОН                                                                                                                                                                                                                                                                                                                                                                                                                                                                                    Поставка автомобиля повышенной проходимости                                                                                                                                Идентификационный код закупки(ИКЗ):                                                                                173712601303271260100100230032910244',\n",
       "       '№ 0552200001517000004                                                                                                                                                                                                                                                                                                                                                                                                                                                                                                                            Заказчик:                                                                                                                                                                                                                                                                                                                                                                                ГОСУДАРСТВЕННОЕ ПРЕДПРИЯТИЕ ОМСКОЙ ОБЛАСТИ \"БОЛЬШЕРЕЧЕНСКОЕ ДОРОЖНОЕ РЕМОНТНО-СТРОИТЕЛЬНОЕ УПРАВЛЕНИЕ\"                                                                                                                                                                                                                                                                                                                                                                                                                                                                                    Поставка автомобиля легкового                                                                                                                                Идентификационный код закупки(ИКЗ):                                                                                172551000663355100100100100012910244',\n",
       "       '№ 0373100017817000001                                                                                                                                                                                                                                                                                                                                                                                                                                                                                                                            Заказчик:                                                                                                                                                                                                                                                                                                                                                                                ФЕДЕРАЛЬНОЕ ГОСУДАРСТВЕННОЕ БЮДЖЕТНОЕ УЧРЕЖДЕНИЕ КУЛЬТУРЫ \"ГОСУДАРСТВЕННЫЙ МУЗЕЙНО-ВЫСТАВОЧНЫЙ ЦЕНТР \"РОСИЗО\"                                                                                                                                                                                                                                                                                                                                                                                                                                                                                    Средства транспортные с двигателем с искровым зажиганием, с рабочим объемом цилиндров более 1500 см3, новые                                                                                                                                Идентификационный код закупки(ИКЗ):                                                                                171770703973577230100100010012910244',\n",
       "       '№ 0859200001117001182                                                                                                                                                                                                                                                                                                                                                                                                                                                                                Организация, осуществляющая размещение:                                                                                                                                                                    ГОСУДАРСТВЕННОЕ КАЗЕННОЕ УЧРЕЖДЕНИЕ РЯЗАНСКОЙ ОБЛАСТИ \"ЦЕНТР ЗАКУПОК РЯЗАНСКОЙ ОБЛАСТИ\"                                                                                                                                                                                                                        Поставка автомобиля для обеспечения первой медицинской помощи                                                                                                                                Идентификационный код закупки(ИКЗ):                                                                                172620700098562070100100190012910244',\n",
       "       '№ 0121300036517000016                                                                                                                                                                                                                                                                                                                                                                                                                                                                                                                            Заказчик:                                                                                                                                                                                                                                                                                                                                                                                АДМИНИСТРАЦИЯ ГЕОРГИЕВСКОГО МУНИЦИПАЛЬНОГО РАЙОНА СТАВРОПОЛЬСКОГО КРАЯ                                                                                                                                                                                                                                                                                                                                                                                                                                                                                    право заключения муниципального контракта с администрацией Георгиевского муниципального района Ставропольского края на поставку автомобиля \\xa0для обеспечения муниципальных нужд \\xa0Георгиевского муниципального района Ставропольского края                                                                                                                                Идентификационный код закупки(ИКЗ):                                                                                173262503082026250100100200202910244',\n",
       "       '№ 0164300031317000004                                                                                                                                                                                                                                                                                                                                                                                                                                                                                Организация, осуществляющая размещение:                                                                                                                                                                    АДМИНИСТРАЦИЯ ГОРОДА МОРШАНСКА ТАМБОВСКОЙ ОБЛАСТИ                                                                                                                                                                                                                        Легковой автомобиль                                                                                                                                Идентификационный код закупки(ИКЗ):                                                                                173682603284068260100100170172910244',\n",
       "       '№ 0119300032317000001                                                                                                                                                                                                                                                                                                                                                                                                                                                                                                                            Заказчик:                                                                                                                                                                                                                                                                                                                                                                                АДМИНИСТРАЦИЯ КАЗАНЦЕВСКОГО СЕЛЬСОВЕТА                                                                                                                                                                                                                                                                                                                                                                                                                                                                                    Приобретение нового автомобиля для нужд администрации Казанцевского сельсовета                                                                                                                                Идентификационный код закупки(ИКЗ):                                                                                173244200677124420100100130132910244',\n",
       "       '№ 0244100000117000022                                                                                                                                                                                                                                                                                                                                                                                                                                                                                                                            Заказчик:                                                                                                                                                                                                                                                                                                                                                                                ГОСУДАРСТВЕННОЕ УЧРЕЖДЕНИЕ-КУРСКОЕ РЕГИОНАЛЬНОЕ ОТДЕЛЕНИЕ ФОНДА СОЦИАЛЬНОГО СТРАХОВАНИЯ РОССИЙСКОЙ ФЕДЕРАЦИИ                                                                                                                                                                                                                                                                                                                                                                                                                                                                                    Поставка в 2017 году автомобилей с  адаптированными органами управления, предназначенных для обеспечения  застрахованных лиц с ограниченными физическими возможностями, получивших повреждение здоровья вследствие несчастных случаев на производстве и профессиональных заболеваний, используемых для их реабилитации                                                                                                                                Идентификационный код закупки(ИКЗ):                                                                                171462902702946320100102350022910323',\n",
       "       '№ 0244100000117000021                                                                                                                                                                                                                                                                                                                                                                                                                                                                                                                            Заказчик:                                                                                                                                                                                                                                                                                                                                                                                ГОСУДАРСТВЕННОЕ УЧРЕЖДЕНИЕ-КУРСКОЕ РЕГИОНАЛЬНОЕ ОТДЕЛЕНИЕ ФОНДА СОЦИАЛЬНОГО СТРАХОВАНИЯ РОССИЙСКОЙ ФЕДЕРАЦИИ                                                                                                                                                                                                                                                                                                                                                                                                                                                                                    Поставка в 2017 году автомобиля с автоматической коробкой переключения передач для обеспечения застрахованного лица, получившего повреждение здоровья вследствие несчастного случая на производстве и профессионального заболевания.                                                                                                                                Идентификационный код закупки(ИКЗ):                                                                                171462902702946320100102350012910323',\n",
       "       '№ 0301300275517000028                                                                                                                                                                                                                                                                                                                                                                                                                                                                                                                            Заказчик:                                                                                                                                                                                                                                                                                                                                                                                ГОСУДАРСТВЕННОЕ БЮДЖЕТНОЕ УЧРЕЖДЕНИЕ ЗДРАВООХРАНЕНИЯ РЕСПУБЛИКИ БАШКОРТОСТАН ПОЛИКЛИНИКА № 32 ГОРОДА УФА                                                                                                                                                                                                                                                                                                                                                                                                                                                                                    Поставка легкового автомобиля                                                                                                                                Идентификационный код закупки(ИКЗ):                                                                                173027702822102770100101810010000244',\n",
       "       '№ 0361200015017000282                                                                                                                                                                                                                                                                                                                                                                                                                                                                                Организация, осуществляющая размещение:                                                                                                                                                                    ГОСУДАРСТВЕННОЕ КАЗЕННОЕ УЧРЕЖДЕНИЕ \"ЦЕНТР ГОСУДАРСТВЕННЫХ ЗАКУПОК САХАЛИНСКОЙ ОБЛАСТИ\"                                                                                                                                                                                                                        Поставка легкового автомобиля                                                                                                                                Идентификационный код закупки(ИКЗ):                                                                                172651800460865180100100020012910244',\n",
       "       '№ 0146300018317000003                                                                                                                                                                                                                                                                                                                                                                                                                                                                                                                            Заказчик:                                                                                                                                                                                                                                                                                                                                                                                АДМИНИСТРАЦИЯ СЕЛЬСКОГО ПОСЕЛЕНИЯ ПУШКИНСКИЙ СЕЛЬСОВЕТ ДОБРИНСКОГО МУНИЦИПАЛЬНОГО РАЙОНА ЛИПЕЦКОЙ ОБЛАСТИ РОССИЙСКОЙ ФЕДЕРАЦИИ                                                                                                                                                                                                                                                                                                                                                                                                                                                                                    Легковой автомобиль Нива-Шевроле                                                                                                                                Идентификационный код закупки(ИКЗ):                                                                                173480400298248040100100420022910244',\n",
       "       '№ 0166300021117000023                                                                                                                                                                                                                                                                                                                                                                                                                                                                                Организация, осуществляющая размещение:                                                                                                                                                                    АДМИНИСТРАЦИЯ МУНИЦИПАЛЬНОГО ОБРАЗОВАНИЯ ЗАОКСКИЙ РАЙОН                                                                                                                                                                                                                        Поставка автомобиля повышенной проходимости                                                                                                                                Идентификационный код закупки(ИКЗ):                                                                                173712601627371260100100100014511242',\n",
       "       '№ 0146200002117000004                                                                                                                                                                                                                                                                                                                                                                                                                                                                                                                            Заказчик:                                                                                                                                                                                                                                                                                                                                                                                ОБЛАСТНОЕ КАЗЕННОЕ УЧРЕЖДЕНИЕ \"УСМАНСКИЙ РАЙОННЫЙ ЦЕНТР ЗАНЯТОСТИ НАСЕЛЕНИЯ\"                                                                                                                                                                                                                                                                                                                                                                                                                                                                                    Автомобиль легковой                                                                                                                                Идентификационный код закупки(ИКЗ):                                                                                172481600196948160100100150032910244',\n",
       "       '№ 0860200000817000433                                                                                                                                                                                                                                                                                                                                                                                                                                                                                Организация, осуществляющая размещение:                                                                                                                                                                    ГОСУДАРСТВЕННОЕ КАЗЕННОЕ УЧРЕЖДЕНИЕ САРАТОВСКОЙ ОБЛАСТИ \"ГОСУДАРСТВЕННОЕ АГЕНТСТВО ПО ЦЕНТРАЛИЗАЦИИ ЗАКУПОК\"                                                                                                                                                                                                                        Государственноеказенное учреждение Саратовской области \"Государственное агентство поцентрализации закупок\" объявляет аукцион в электронной форме\\xa0 наопределение поставщика товара «Легковойавтомобиль» для нужд государственногоучреждения здравоохранения «Саратовская городская поликлиника № 6»                                                                                                                                 Идентификационный код закупки(ИКЗ):                                                                                173645111822164510100100670372910244',\n",
       "       '№ 0137300009317000015                                                                                                                                                                                                                                                                                                                                                                                                                                                                                                                            Заказчик:                                                                                                                                                                                                                                                                                                                                                                                АДМИНИСТРАЦИЯ МУНИЦИПАЛЬНОГО РАЙОНА \"ХВАСТОВИЧСКИЙ РАЙОН\"                                                                                                                                                                                                                                                                                                                                                                                                                                                                                    Поставка легкового автомобиля (Реестровый номер: 109Э-17/17сб)                                                                                                                                Идентификационный код закупки(ИКЗ):                                                                                173402100301740210100100230012910232',\n",
       "       '№ 0373200629917000001                                                                                                                                                                                                                                                                                                                                                                                                                                                                                                                            Заказчик:                                                                                                                                                                                                                                                                                                                                                                                ГОСУДАРСТВЕННОЕ БЮДЖЕТНОЕ УЧРЕЖДЕНИЕ ГОРОДА МОСКВЫ \"ДОРИНВЕСТ\"                                                                                                                                                                                                                                                                                                                                                                                                                                                                                    Поставка легковых автомобилей для нужд ГБУ «Доринвест»                                                                                                                                Идентификационный код закупки(ИКЗ):                                                                                172771095815077450100100670012910244',\n",
       "       '№ 0119300004317000006                                                                                                                                                                                                                                                                                                                                                                                                                                                                                                                            Заказчик:                                                                                                                                                                                                                                                                                                                                                                                АДМИНИСТРАЦИЯ КРАСНОГОРЬЕВСКОГО СЕЛЬСОВЕТА                                                                                                                                                                                                                                                                                                                                                                                                                                                                                    Средства транспортные с двигателем с искровым зажиганием, с рабочим объемом цилиндров более 1500 см3, новые                                                                                                                                Идентификационный код закупки(ИКЗ):                                                                                173240700495824070100100050052910244',\n",
       "       '№ 0139300000417000017                                                                                                                                                                                                                                                                                                                                                                                                                                                                                                                            Заказчик:                                                                                                                                                                                                                                                                                                                                                                                АДМИНИСТРАЦИЯ АНЖЕРО-СУДЖЕНСКОГО ГОРОДСКОГО ОКРУГА                                                                                                                                                                                                                                                                                                                                                                                                                                                                                    Приобретение автомобиля                                                                                                                                Идентификационный код закупки(ИКЗ):                                                                                173420100617642460100100200132910244',\n",
       "       '№ 0109200002417000196                                                                                                                                                                                                                                                                                                                                                                                                                                                                                Организация, осуществляющая размещение:                                                                                                                                                                    ГОСУДАРСТВЕННЫЙ КОМИТЕТ РЕСПУБЛИКИ МОРДОВИЯ ПО ОРГАНИЗАЦИИ ТОРГОВ И ЦЕНОВОЙ ПОЛИТИКЕ                                                                                                                                                                                                                        закупка автотранспортного средства                                                                                                                                Идентификационный код закупки(ИКЗ):                                                                                172132621398313260100100200022910612',\n",
       "       '№ 0866300029917000004                                                                                                                                                                                                                                                                                                                                                                                                                                                                                Организация, осуществляющая размещение:                                                                                                                                                                    МУНИЦИПАЛЬНОЕ КАЗЕННОЕ УЧРЕЖДЕНИЕ \"ЦЕНТРАЛИЗОВАННАЯ БУХГАЛТЕРИЯ ДУБЕНСКОГО РАЙОНА\"                                                                                                                                                                                                                        Поставка автомобилей                                                                                                                                Идентификационный код закупки(ИКЗ):                                                                                173712500599171250100101070022910244',\n",
       "       '№ 0169300020317000031                                                                                                                                                                                                                                                                                                                                                                                                                                                                                Организация, осуществляющая размещение:                                                                                                                                                                    АДМИНИСТРАЦИЯ НЯЗЕПЕТРОВСКОГО МУНИЦИПАЛЬНОГО РАЙОНА ЧЕЛЯБИНСКОЙ ОБЛАСТИ                                                                                                                                                                                                                        Поставка легкового автомобиля для нужд Администрации Нязепетровского муниципального района                                                                                                                                Идентификационный код закупки(ИКЗ):                                                                                173743600027374590100100380012910244',\n",
       "       '№ 0801300012217000057                                                                                                                                                                                                                                                                                                                                                                                                                                                                                Организация, осуществляющая размещение:                                                                                                                                                                    МУНИЦИПАЛЬНОЕ КАЗЕННОЕ УЧРЕЖДЕНИЕ \"УПРАВЛЕНИЕ КООРДИНАЦИИ, ПРАВОВОЙ ЭКСПЕРТИЗЫ И РАЗМЕЩЕНИЯ ЗАКУПОК МУНИЦИПАЛЬНОГО РАЙОНА УЧАЛИНСКИЙ РАЙОН РЕСПУБЛИКИ БАШКОРТОСТАН\"                                                                                                                                                                                                                        Приобретение легкового автомобиля для нужд администрации сельского поселения Ильчинский сельсовет МР Учалинский район РБ                                                                                                                                Идентификационный код закупки(ИКЗ):                                                                                173027000351702700100100060062910244',\n",
       "       '№ 0372100039717000005                                                                                                                                                                                                                                                                                                                                                                                                                                                                                                                            Заказчик:                                                                                                                                                                                                                                                                                                                                                                                ФЕДЕРАЛЬНОЕ ГОСУДАРСТВЕННОЕ БЮДЖЕТНОЕ НАУЧНОЕ УЧРЕЖДЕНИЕ \"ФЕДЕРАЛЬНЫЙ ИССЛЕДОВАТЕЛЬСКИЙ ЦЕНТР ВСЕРОССИЙСКИЙ ИНСТИТУТ ГЕНЕТИЧЕСКИХ РЕСУРСОВ РАСТЕНИЙ ИМЕНИ Н.И. ВАВИЛОВА\"                                                                                                                                                                                                                                                                                                                                                                                                                                                                                    Поставка легкового автомобиля для нужд ВИР                                                                                                                                Идентификационный код закупки(ИКЗ):                                                                                171781202940878380100100050052910244',\n",
       "       '№ 0128200000117002263                                                                                                                                                                                                                                                                                                                                                                                                                                                                                Организация, осуществляющая размещение:                                                                                                                                                                    ДЕПАРТАМЕНТ ИМУЩЕСТВЕННЫХ И ЗЕМЕЛЬНЫХ ОТНОШЕНИЙ АДМИНИСТРАЦИИ ВЛАДИМИРСКОЙ ОБЛАСТИ                                                                                                                                                                                                                        Поставка легкового автомобиля для нужд ГБУК ВО \"ВОБДМ\"                                                                                                                                Идентификационный код закупки(ИКЗ):                                                                                172332710663533270100100140142910244',\n",
       "       '№ 0133300001217000029                                                                                                                                                                                                                                                                                                                                                                                                                                                                                Организация, осуществляющая размещение:                                                                                                                                                                    АДМИНИСТРАЦИЯ ШУЙСКОГО МУНИЦИПАЛЬНОГО РАЙОНА                                                                                                                                                                                                                        Приобретение служебного легкового автомобиля для нужд Администрации Шуйского муниципального района                                                                                                                                Идентификационный код закупки(ИКЗ):                                                                                173372500258637060100100520012910244',\n",
       "       '№ 0128200000117001675                                                                                                                                                                                                                                                                                                                                                                                                                                                                                Организация, осуществляющая размещение:                                                                                                                                                                    ДЕПАРТАМЕНТ ИМУЩЕСТВЕННЫХ И ЗЕМЕЛЬНЫХ ОТНОШЕНИЙ АДМИНИСТРАЦИИ ВЛАДИМИРСКОЙ ОБЛАСТИ                                                                                                                                                                                                                        Закупка товара \"Автомобиль\"\"для нужд ГБУЗ ВО \"ГКБ №5 г.Владимира\"                                                                                                                                Идентификационный код закупки(ИКЗ):                                                                                172332900762233290100102041672910244',\n",
       "       '№ 0817200000317002228                                                                                                                                                                                                                                                                                                                                                                                                                                                                                Организация, осуществляющая размещение:                                                                                                                                                                    КРАЕВОЕ ГОСУДАРСТВЕННОЕ КАЗЕННОЕ УЧРЕЖДЕНИЕ \"ЦЕНТР ГОСУДАРСТВЕННЫХ ЗАКУПОК АЛТАЙСКОГО КРАЯ\"                                                                                                                                                                                                                        Поставка автомобиля легкового для нужд КГБУЗ \"АКОБ\"                                                                                                                                Идентификационный код закупки(ИКЗ):                                                                                172222400795122240100100550012910244',\n",
       "       '№ 0343100005217000037                                                                                                                                                                                                                                                                                                                                                                                                                                                                                                                            Заказчик:                                                                                                                                                                                                                                                                                                                                                                                ФЕДЕРАЛЬНОЕ ГОСУДАРСТВЕННОЕ БЮДЖЕТНОЕ ОБРАЗОВАТЕЛЬНОЕ УЧРЕЖДЕНИЕ ВЫСШЕГО ОБРАЗОВАНИЯ \"КУРГАНСКИЙ ГОСУДАРСТВЕННЫЙ УНИВЕРСИТЕТ\"                                                                                                                                                                                                                                                                                                                                                                                                                                                                                    Поставка легкового автомобиля                                                                                                                                Идентификационный код закупки(ИКЗ):                                                                                171450105090945010100100400022910244',\n",
       "       '№ 0279100000217000082                                                                                                                                                                                                                                                                                                                                                                                                                                                                                                                            Заказчик:                                                                                                                                                                                                                                                                                                                                                                                ГОСУДАРСТВЕННОЕ УЧРЕЖДЕНИЕ - РЕГИОНАЛЬНОЕ ОТДЕЛЕНИЕ ФОНДА СОЦИАЛЬНОГО СТРАХОВАНИЯ РОССИЙСКОЙ ФЕДЕРАЦИИ ПО КАРАЧАЕВО-ЧЕРКЕССКОЙ РЕСПУБЛИКЕ                                                                                                                                                                                                                                                                                                                                                                                                                                                                                    Поставка транспортных средств застрахованным лицам, пострадавшим вследствие несчастных случаев на производстве и профессиональных заболеваний                                                                                                                                Идентификационный код закупки(ИКЗ):                                                                                171090100339909010100100250012910323',\n",
       "       '№ 0307100001817000003                                                                                                                                                                                                                                                                                                                                                                                                                                                                                                                            Заказчик:                                                                                                                                                                                                                                                                                                                                                                                ФЕДЕРАЛЬНОЕ ГОСУДАРСТВЕННОЕ БЮДЖЕТНОЕ УЧРЕЖДЕНИЕ \"ПЕЧОРО-ИЛЫЧСКИЙ ГОСУДАРСТВЕННЫЙ ПРИРОДНЫЙ БИОСФЕРНЫЙ ЗАПОВЕДНИК\"                                                                                                                                                                                                                                                                                                                                                                                                                                                                                     Поставка средства транспортного с двигателем с искровым зажиганием, с рабочим объемом цилиндров более 1500 см3, нового                                                                                                                                Идентификационный код закупки(ИКЗ):                                                                                171111500133011150100100500060000244',\n",
       "       '№ 0166300014617000018                                                                                                                                                                                                                                                                                                                                                                                                                                                                                Организация, осуществляющая размещение:                                                                                                                                                                    АДМИНИСТРАЦИЯ МУНИЦИПАЛЬНОГО ОБРАЗОВАНИЯ ВОЛОВСКИЙ РАЙОН                                                                                                                                                                                                                        Поставка легкового автомобиля                                                                                                                                Идентификационный код закупки(ИКЗ):                                                                                173712450063371240100100270012910244',\n",
       "       '№ 0348300183617000017                                                                                                                                                                                                                                                                                                                                                                                                                                                                                                                            Заказчик:                                                                                                                                                                                                                                                                                                                                                                                ГОСУДАРСТВЕННОЕ БЮДЖЕТНОЕ УЧРЕЖДЕНИЕ ЗДРАВООХРАНЕНИЯ МОСКОВСКОЙ ОБЛАСТИ \"ЩЁЛКОВСКАЯ РАЙОННАЯ БОЛЬНИЦА №1\"                                                                                                                                                                                                                                                                                                                                                                                                                                                                                    Покупка легкового автомобиля для нужд ГБУЗ МО «ЩРБ №1»                                                                                                                                Идентификационный код закупки(ИКЗ):                                                                                173505000126350500100101170172910244',\n",
       "       '№ 0148300008317000031                                                                                                                                                                                                                                                                                                                                                                                                                                                                                                                            Заказчик:                                                                                                                                                                                                                                                                                                                                                                                АДМИНИСТРАЦИЯ ПОСЕЛЕНИЯ СОСЕНСКОЕ                                                                                                                                                                                                                                                                                                                                                                                                                                                                                    Поставка автомобиля для нужд администрации поселения Сосенское                                                                                                                                Идентификационный код закупки(ИКЗ):                                                                                173500305702977510100100910012910244',\n",
       "       '№ 0139100001517000092                                                                                                                                                                                                                                                                                                                                                                                                                                                                                                                            Заказчик:                                                                                                                                                                                                                                                                                                                                                                                УПРАВЛЕНИЕ СУДЕБНОГО ДЕПАРТАМЕНТА В КЕМЕРОВСКОЙ ОБЛАСТИ                                                                                                                                                                                                                                                                                                                                                                                                                                                                                    Поставка легкового автомобиля\\t\\t\\t\\t\\t\\t                                                                                                                                Идентификационный код закупки(ИКЗ):                                                                                171420705428942050100100360012910244',\n",
       "       '№ 0173100004517000136                                                                                                                                                                                                                                                                                                                                                                                                                                                                                                                            Заказчик:                                                                                                                                                                                                                                                                                                                                                                                МИНИСТЕРСТВО ОБОРОНЫ РОССИЙСКОЙ ФЕДЕРАЦИИ                                                                                                                                                                                                                                                                                                                                                                                                                                                                                    Поставка легковогопереднеприводного автомобиля бизнес класса (отечественного производства) дляобеспечения служебной деятельности                                                                                                                                Идентификационный код закупки(ИКЗ):                                                                                171770425226177040100150710012910211',\n",
       "       '№ 0145200000417000347                                                                                                                                                                                                                                                                                                                                                                                                                                                                                Организация, осуществляющая размещение:                                                                                                                                                                    КОМИТЕТ ГОСУДАРСТВЕННОГО ЗАКАЗА ЛЕНИНГРАДСКОЙ ОБЛАСТИ                                                                                                                                                                                                                        Поставка автомобиля для нужд ЛОГКУ «Сясьстройский ПНИ»                                                                                                                                Идентификационный код закупки(ИКЗ):                                                                                172471800409447020100101000012910244',\n",
       "       '№ 0165300010117000030                                                                                                                                                                                                                                                                                                                                                                                                                                                                                Организация, осуществляющая размещение:                                                                                                                                                                    АДМИНИСТРАЦИЯ ТОМСКОГО РАЙОНА                                                                                                                                                                                                                        Поставка легкового автомобиля для нужд МБУ \"ДК с.Рыбалово\"                                                                                                                                Идентификационный код закупки(ИКЗ):                                                                                173701401890070140100100040032910244',\n",
       "       '№ 0158300044817000087                                                                                                                                                                                                                                                                                                                                                                                                                                                                                Организация, осуществляющая размещение:                                                                                                                                                                    Администрация города Батайска                                                                                                                                                                                                                        Определение поставщика на приобретение автомобиля скорой медицинской помощи класса \"В\" для нужд МБУЗ \"ЦГБ\" г. Батайска РО в 2017 году                                                                                                                                Идентификационный код закупки(ИКЗ):                                                                                173614101369161410100100550632910244',\n",
       "       '№ 0167200003417000506                                                                                                                                                                                                                                                                                                                                                                                                                                                                                Организация, осуществляющая размещение:                                                                                                                                                                    УПРАВЛЕНИЕ ГОСУДАРСТВЕННЫХ ЗАКУПОК ТЮМЕНСКОЙ ОБЛАСТИ                                                                                                                                                                                                                        АЭ-0426/17 на поставку автомобилей.                                                                                                                                Идентификационный код закупки(ИКЗ):                                                                                172720213702572030100100530032910244',\n",
       "       '№ 0851300010217000003                                                                                                                                                                                                                                                                                                                                                                                                                                                                                                                            Заказчик:                                                                                                                                                                                                                                                                                                                                                                                МУНИЦИПАЛЬНОЕ КАЗЕННОЕ УЧРЕЖДЕНИЕ ОРДЫНСКОГО РАЙОНА НОВОСИБИРСКОЙ ОБЛАСТИ \"АДМИНИСТРАТИВНО-ХОЗЯЙСТВЕННЫЙ ЦЕНТР ОРДЫНСКОГО РАЙОНА\"                                                                                                                                                                                                                                                                                                                                                                                                                                                                                    поставка автомобильных запчастей                                                                                                                                Идентификационный код закупки(ИКЗ):                                                                                173543411774854340100100080024532244',\n",
       "       '№ 0572200002017000004                                                                                                                                                                                                                                                                                                                                                                                                                                                                                                                            Заказчик:                                                                                                                                                                                                                                                                                                                                                                                САНКТ-ПЕТЕРБУРГСКОЕ ГОСУДАРСТВЕННОЕ УНИТАРНОЕ ПРЕДПРИЯТИЕ ДАЧНОГО ОБСЛУЖИВАНИЯ \"ПРИГОРОДНОЕ\"                                                                                                                                                                                                                                                                                                                                                                                                                                                                                    Поставка легкового автомобиля                                                                                                                                Идентификационный код закупки(ИКЗ):                                                                                172782509631378130100100140132910000',\n",
       "       '№ 0358300126917000011                                                                                                                                                                                                                                                                                                                                                                                                                                                                                                                            Заказчик:                                                                                                                                                                                                                                                                                                                                                                                УПРАВЛЕНИЕ СОЦИАЛЬНОЙ ЗАЩИТЫ НАСЕЛЕНИЯ АДМИНИСТРАЦИИ БЕЛОКАЛИТВИНСКОГО РАЙОНА                                                                                                                                                                                                                                                                                                                                                                                                                                                                                    Приобретение легкового автомобиля                                                                                                                                Идентификационный код закупки(ИКЗ):                                                                                173614201213061420100100190192910244',\n",
       "       '№ 0145300003017000004                                                                                                                                                                                                                                                                                                                                                                                                                                                                                                                            Заказчик:                                                                                                                                                                                                                                                                                                                                                                                АДМИНИСТРАЦИЯ МУНИЦИПАЛЬНОГО ОБРАЗОВАНИЯ \"СЯСЬСТРОЙСКОЕ ГОРОДСКОЕ ПОСЕЛЕНИЕ\" ВОЛХОВСКОГО МУНИЦИПАЛЬНОГО РАЙОНА ЛЕНИНГРАДСКОЙ ОБЛАСТИ                                                                                                                                                                                                                                                                                                                                                                                                                                                                                    Приобретение легкового автомобиля                                                                                                                                Идентификационный код закупки(ИКЗ):                                                                                173471805517047020100100070012910244',\n",
       "       '№ 0139200000117002470                                                                                                                                                                                                                                                                                                                                                                                                                                                                                Организация, осуществляющая размещение:                                                                                                                                                                    ДЕПАРТАМЕНТ КОНТРАКТНОЙ СИСТЕМЫ КЕМЕРОВСКОЙ ОБЛАСТИ                                                                                                                                                                                                                        Поставка легкового автомобиля                                                                                                                                Идентификационный код закупки(ИКЗ):                                                                                172420504416542050100100010012910244',\n",
       "       '№ 0142300027117000044                                                                                                                                                                                                                                                                                                                                                                                                                                                                                Организация, осуществляющая размещение:                                                                                                                                                                    АДМИНИСТРАЦИЯ МУНИЦИПАЛЬНОГО РАЙОНА СТАВРОПОЛЬСКИЙ САМАРСКОЙ ОБЛАСТИ                                                                                                                                                                                                                        Поставка легкового автомобиля для нужд сельского поселения Тимофеевка муниципального района Ставропольский Самарской области.                                                                                                                                Идентификационный код закупки(ИКЗ):                                                                                173638205067563820100100190182910244',\n",
       "       '№ 0153300034817000001                                                                                                                                                                                                                                                                                                                                                                                                                                                                                                                            Заказчик:                                                                                                                                                                                                                                                                                                                                                                                АДМИНИСТРАЦИЯ МУНИЦИПАЛЬНОГО ОБРАЗОВАНИЯ ОЗЕРНЫЙ СЕЛЬСОВЕТ СВЕТЛИНСКОГО РАЙОНА ОРЕНБУРГСКОЙ ОБЛАСТИ                                                                                                                                                                                                                                                                                                                                                                                                                                                                                    Средства транспортные с двигателем с искровым зажиганием, с рабочим объемом цилиндров более 1500 см3, новые                                                                                                                                Идентификационный код закупки(ИКЗ):                                                                                173564400445156440100100030012910244',\n",
       "       '№ 0362300015217000026                                                                                                                                                                                                                                                                                                                                                                                                                                                                                                                            Заказчик:                                                                                                                                                                                                                                                                                                                                                                                ГОСУДАРСТВЕННОЕ БЮДЖЕТНОЕ УЧРЕЖДЕНИЕ ЗДРАВООХРАНЕНИЯ СВЕРДЛОВСКОЙ ОБЛАСТИ \"ГОРОДСКАЯ СТАНЦИЯ СКОРОЙ МЕДИЦИНСКОЙ ПОМОЩИ ГОРОД КАМЕНСК-УРАЛЬСКИЙ\"                                                                                                                                                                                                                                                                                                                                                                                                                                                                                    Покупка легкового автомобиля                                                                                                                                Идентификационный код закупки(ИКЗ):                                                                                172661200385966120100100770012910244',\n",
       "       '№ 0264100000117000060                                                                                                                                                                                                                                                                                                                                                                                                                                                                                                                            Заказчик:                                                                                                                                                                                                                                                                                                                                                                                ГОСУДАРСТВЕННОЕ УЧРЕЖДЕНИЕ - ТАМБОВСКОЕ РЕГИОНАЛЬНОЕ ОТДЕЛЕНИЕ ФОНДА СОЦИАЛЬНОГО СТРАХОВАНИЯ РОССИЙСКОЙ ФЕДЕРАЦИИ                                                                                                                                                                                                                                                                                                                                                                                                                                                                                    Поставка автомобилей с адаптированными органами управления, предназначенных для застрахованных лиц с ограниченными физическими возможностями, получивших повреждение здоровья вследствие несчастного  случая на производстве                                                                                                                                Идентификационный код закупки(ИКЗ):                                                                                171683202142068290100100280012910323',\n",
       "       '№ 0173100014117000016                                                                                                                                                                                                                                                                                                                                                                                                                                                                                                                            Заказчик:                                                                                                                                                                                                                                                                                                                                                                                ГЕНЕРАЛЬНАЯ ПРОКУРАТУРА РОССИЙСКОЙ ФЕДЕРАЦИИ                                                                                                                                                                                                                                                                                                                                                                                                                                                                                    Закупка легковых автомобилей                                                                                                                                Идентификационный код закупки(ИКЗ):                                                                                171771014610277100100102090012910244',\n",
       "       '№ 0860200000817001379                                                                                                                                                                                                                                                                                                                                                                                                                                                                                Организация, осуществляющая размещение:                                                                                                                                                                    ГОСУДАРСТВЕННОЕ КАЗЕННОЕ УЧРЕЖДЕНИЕ САРАТОВСКОЙ ОБЛАСТИ \"ГОСУДАРСТВЕННОЕ АГЕНТСТВО ПО ЦЕНТРАЛИЗАЦИИ ЗАКУПОК\"                                                                                                                                                                                                                        Государственноеказенное учреждение Саратовской области \"Государственное агентство поцентрализации закупок\" объявляет аукцион в электронной форме\\xa0 «Поставка легковогоавтомобиля» для нужд государственногоучреждения здравоохранения Саратовской области «Хвалынская районная больницаимени Бржозовского»\\xa0 \\xa0                                                                                                                                 Идентификационный код закупки(ИКЗ):                                                                                172644800847664480100100460012910244',\n",
       "       '№ 0155200002217000070                                                                                                                                                                                                                                                                                                                                                                                                                                                                                Организация, осуществляющая размещение:                                                                                                                                                                    УПРАВЛЕНИЕ ПО РЕГУЛИРОВАНИЮ КОНТРАКТНОЙ СИСТЕМЫ И ЗАКУПКАМ ПЕНЗЕНСКОЙ ОБЛАСТИ                                                                                                                                                                                                                        Поставка автомобилей                                                                                                                                Идентификационный код закупки(ИКЗ):                                                                                172583601246358360100100350012910244',\n",
       "       '№ 0846500000317000001                                                                                                                                                                                                                                                                                                                                                                                                                                                                                                                            Заказчик:                                                                                                                                                                                                                                                                                                                                                                                ОБЛАСТНОЕ КАЗЕННОЕ УЧРЕЖДЕНИЕ \"ДОРОЖНОЕ АГЕНТСТВО ЛИПЕЦКОЙ ОБЛАСТИ\"                                                                                                                                                                                                                                                                                                                                                                                                                                                                                    Поставка легковых автомобилей                                                                                                                                 Идентификационный код закупки(ИКЗ):                                                                                172482612972848260100100100010000244',\n",
       "       '№ 0372100015117000017                                                                                                                                                                                                                                                                                                                                                                                                                                                                                                                            Заказчик:                                                                                                                                                                                                                                                                                                                                                                                ФЕДЕРАЛЬНОЕ КАЗЕННОЕ УЧРЕЖДЕНИЕ \"ГЛАВНОЕ БЮРО МЕДИКО-СОЦИАЛЬНОЙ ЭКСПЕРТИЗЫ ПО Г. САНКТ-ПЕТЕРБУРГУ\" МИНИСТЕРСТВА ТРУДА И СОЦИАЛЬНОЙ ЗАЩИТЫ РОССИЙСКОЙ ФЕДЕРАЦИИ                                                                                                                                                                                                                                                                                                                                                                                                                                                                                    Поставка легкового автомобиля                                                                                                                                Идентификационный код закупки(ИКЗ):                                                                                171784130827678410100100590012910244',\n",
       "       '№ 0818300001917000007                                                                                                                                                                                                                                                                                                                                                                                                                                                                                Организация, осуществляющая размещение:                                                                                                                                                                    МУНИЦИПАЛЬНОЕ КАЗЕННОЕ УЧРЕЖДЕНИЕ \"ЦЕНТРАЛИЗОВАННАЯ БУХГАЛТЕРИЯ АБИНСКОГО ГОРОДСКОГО ПОСЕЛЕНИЯ\"                                                                                                                                                                                                                        Легковой автомобиль                                                                                                                                Идентификационный код закупки(ИКЗ):                                                                                173232302466923230100101531532910244',\n",
       "       '№ 0152300042117000003                                                                                                                                                                                                                                                                                                                                                                                                                                                                                                                            Заказчик:                                                                                                                                                                                                                                                                                                                                                                                АДМИНИСТРАЦИЯ ГОРЬКОВСКОГО ГОРОДСКОГО ПОСЕЛЕНИЯ                                                                                                                                                                                                                                                                                                                                                                                                                                                                                    Поставка легкового автомобиля для нужд администрации Горьковского городского поселения                                                                                                                                Идентификационный код закупки(ИКЗ):                                                                                173551200563555120100100090014511244',\n",
       "       '№ 0161300001117000094                                                                                                                                                                                                                                                                                                                                                                                                                                                                                Организация, осуществляющая размещение:                                                                                                                                                                    АДМИНИСТРАЦИЯ КОРСАКОВСКОГО ГОРОДСКОГО ОКРУГА                                                                                                                                                                                                                        Поставка полноприводного легкового автомобиля                                                                                                                                Идентификационный код закупки(ИКЗ):                                                                                173650401643465040100100100170000244',\n",
       "       '№ 0332300166817000001                                                                                                                                                                                                                                                                                                                                                                                                                                                                                                                            Заказчик:                                                                                                                                                                                                                                                                                                                                                                                ОТДЕЛ ОБРАЗОВАНИЯ АДМИНИСТРАЦИИ  КОВЕРНИНСКОГО МУНИЦИПАЛЬНОГО РАЙОНА НИЖЕГОРОДСКОЙ ОБЛАСТИ                                                                                                                                                                                                                                                                                                                                                                                                                                                                                    Поставка автомобиля для нужд отдела образования Администрации Ковернинского муниципального района Нижегородской области                                                                                                                                Идентификационный код закупки(ИКЗ):                                                                                173521800140352180100100060024511244',\n",
       "       '№ 0132200003017000022                                                                                                                                                                                                                                                                                                                                                                                                                                                                                Организация, осуществляющая размещение:                                                                                                                                                                    АДМИНИСТРАЦИЯ КСТОВСКОГО МУНИЦИПАЛЬНОГО РАЙОНА                                                                                                                                                                                                                        Приобретение автомобиля  для нужд администрации Большемокринского сельсовета                                                                                                                                 Идентификационный код закупки(ИКЗ):                                                                                173525000049052500100100090082910244',\n",
       "       '№ 0117100010717000039                                                                                                                                                                                                                                                                                                                                                                                                                                                                                                                            Заказчик:                                                                                                                                                                                                                                                                                                                                                                                УПРАВЛЕНИЕ СУДЕБНОГО ДЕПАРТАМЕНТА В АЛТАЙСКОМ КРАЕ                                                                                                                                                                                                                                                                                                                                                                                                                                                                                    Поставка автомобиля                                                                                                                                Идентификационный код закупки(ИКЗ):                                                                                171222504560722240100100710012910244',\n",
       "       '№ 0137200001217000704                                                                                                                                                                                                                                                                                                                                                                                                                                                                                Организация, осуществляющая размещение:                                                                                                                                                                    МИНИСТЕРСТВО КОНКУРЕНТНОЙ ПОЛИТИКИ КАЛУЖСКОЙ ОБЛАСТИ                                                                                                                                                                                                                        734-2/2017 сб. Поставка легкового автомобиля                                                                                                                                Идентификационный код закупки(ИКЗ):                                                                                172400303828940030100100010012910244',\n",
       "       '№ 0345200019817000002                                                                                                                                                                                                                                                                                                                                                                                                                                                                                                                            Заказчик:                                                                                                                                                                                                                                                                                                                                                                                ГОСУДАРСТВЕННОЕ БЮДЖЕТНОЕ УЧРЕЖДЕНИЕ ЛЕНИНГРАДСКОЙ ОБЛАСТИ \"МНОГОФУНКЦИОНАЛЬНЫЙ ЦЕНТР ПРЕДОСТАВЛЕНИЯ ГОСУДАРСТВЕННЫХ И МУНИЦИПАЛЬНЫХ УСЛУГ\"                                                                                                                                                                                                                                                                                                                                                                                                                                                                                    Поставка транспортного средства для филиала \"Всеволожский\"                                                                                                                                Идентификационный код закупки(ИКЗ):                                                                                172784245356547030100100690012910244',\n",
       "       '№ 0113300014217000050                                                                                                                                                                                                                                                                                                                                                                                                                                                                                Организация, осуществляющая размещение:                                                                                                                                                                    АДМИНИСТРАЦИЯ МУНИЦИПАЛЬНОГО ОБРАЗОВАНИЯ \"ЗАВЬЯЛОВСКИЙ РАЙОН\"                                                                                                                                                                                                                        Средства автотранспортные                                                                                                                                Идентификационный код закупки(ИКЗ):                                                                                173180820590018410100100080082910244',\n",
       "       '№ 0344300111417000002                                                                                                                                                                                                                                                                                                                                                                                                                                                                                                                            Заказчик:                                                                                                                                                                                                                                                                                                                                                                                МУНИЦИПАЛЬНОЕ КАЗЕННОЕ УЧРЕЖДЕНИЕ \"ЦЕНТРАЛИЗОВАННАЯ БУХГАЛТЕРИЯ  УЧРЕЖДЕНИЙ ОБРАЗОВАНИЯ\" СОВЕТСКОГО РАЙОНА КУРСКОЙ ОБЛАСТИ                                                                                                                                                                                                                                                                                                                                                                                                                                                                                    Приобретение легкового автомобиля                                                                                                                                 Идентификационный код закупки(ИКЗ):                                                                                173462100367546210100100030022910244',\n",
       "       '№ 0351300081517000007                                                                                                                                                                                                                                                                                                                                                                                                                                                                                                                            Заказчик:                                                                                                                                                                                                                                                                                                                                                                                МУНИЦИПАЛЬНОЕ КАЗЕННОЕ УЧРЕЖДЕНИЕ ГОРОДА НОВОСИБИРСКА \"ГОРОДСКОЙ ЦЕНТР НАРУЖНОЙ РЕКЛАМЫ\"                                                                                                                                                                                                                                                                                                                                                                                                                                                                                    Покупка легкового автомобиля для нужд МКУ \"ГЦНР\"                                                                                                                                Идентификационный код закупки(ИКЗ):                                                                                173540721653154070100100150012910244',\n",
       "       '№ 0139200000117002783                                                                                                                                                                                                                                                                                                                                                                                                                                                                                Организация, осуществляющая размещение:                                                                                                                                                                    ДЕПАРТАМЕНТ КОНТРАКТНОЙ СИСТЕМЫ КЕМЕРОВСКОЙ ОБЛАСТИ                                                                                                                                                                                                                        Поставка автотранспортных средств                                                                                                                                Идентификационный код закупки(ИКЗ):                                                                                173421801099942180100100340012910244',\n",
       "       '№ 0130200002417000631                                                                                                                                                                                                                                                                                                                                                                                                                                                                                Организация, осуществляющая размещение:                                                                                                                                                                    КОМИТЕТ ГОСУДАРСТВЕННОГО ЗАКАЗА ВОЛОГОДСКОЙ ОБЛАСТИ                                                                                                                                                                                                                        Поставка легкового автомобиля.                                                                                                                                Идентификационный код закупки(ИКЗ):                                                                                172352515504935250100100440022910244',\n",
       "       '№ 0169300013617000023                                                                                                                                                                                                                                                                                                                                                                                                                                                                                                                            Заказчик:                                                                                                                                                                                                                                                                                                                                                                                АДМИНИСТРАЦИЯ КУНАШАКСКОГО МУНИЦИПАЛЬНОГО РАЙОНА                                                                                                                                                                                                                                                                                                                                                                                                                                                                                    Приобретение автомобиля                                                                                                                                Идентификационный код закупки(ИКЗ):                                                                                173743300139974600100100700012910244',\n",
       "       '№ 0169600016017000037                                                                                                                                                                                                                                                                                                                                                                                                                                                                                                                            Заказчик:                                                                                                                                                                                                                                                                                                                                                                                АДМИНИСТРАЦИЯ УВЕЛЬСКОГО МУНИЦИПАЛЬНОГО РАЙОНА                                                                                                                                                                                                                                                                                                                                                                                                                                                                                    Приобретение автомобиля для нужд администрации Увельского муниципального района                                                                                                                                Идентификационный код закупки(ИКЗ):                                                                                173744000420074400100100520012910244',\n",
       "       '№ 0820200000617000005                                                                                                                                                                                                                                                                                                                                                                                                                                                                                                                            Заказчик:                                                                                                                                                                                                                                                                                                                                                                                КРАЕВОЕ ГОСУДАРСТВЕННОЕ КАЗЕННОЕ УЧРЕЖДЕНИЕ \"УПРАВЛЕНИЕ АВТОМОБИЛЬНЫХ ДОРОГ ПРИМОРСКОГО КРАЯ\"                                                                                                                                                                                                                                                                                                                                                                                                                                                                                    Поставка транспортного средства (автомобиль)                                                                                                                                Идентификационный код закупки(ИКЗ):                                                                                172254305997025430100100080084511244',\n",
       "       '№ 0832200006617000063                                                                                                                                                                                                                                                                                                                                                                                                                                                                                Организация, осуществляющая размещение:                                                                                                                                                                    ГОСУДАРСТВЕННОЕ КАЗЕННОЕ УЧРЕЖДЕНИЕ НИЖЕГОРОДСКОЙ ОБЛАСТИ \"ЦЕНТР РАЗМЕЩЕНИЯ ЗАКАЗА НИЖЕГОРОДСКОЙ ОБЛАСТИ\"                                                                                                                                                                                                                        Поставка легкового автомобиля                                                                                                                                Идентификационный код закупки(ИКЗ):                                                                                172526010571052600100120020012910244',\n",
       "       '№ 0817100000117000017                                                                                                                                                                                                                                                                                                                                                                                                                                                                                                                            Заказчик:                                                                                                                                                                                                                                                                                                                                                                                ФЕДЕРАЛЬНОЕ КАЗЕННОЕ ПРЕДПРИЯТИЕ \"БИЙСКИЙ ОЛЕУМНЫЙ ЗАВОД\"                                                                                                                                                                                                                                                                                                                                                                                                                                                                                    Поставка легковых автомобилей                                                                                                                                Идентификационный код закупки(ИКЗ):                                                                                171220400152822040100100310012910000',\n",
       "       '№ 0115300039217000009                                                                                                                                                                                                                                                                                                                                                                                                                                                                                Организация, осуществляющая размещение:                                                                                                                                                                    АДМИНИСТРАЦИЯ ЯНТИКОВСКОГО РАЙОНА ЧУВАШСКОЙ РЕСПУБЛИКИ                                                                                                                                                                                                                        Покупка легкового автомобиля                                                                                                                                Идентификационный код закупки(ИКЗ):                                                                                173212100261621210100100180052910244',\n",
       "       '№ 0852300006117000013                                                                                                                                                                                                                                                                                                                                                                                                                                                                                Организация, осуществляющая размещение:                                                                                                                                                                    МУНИЦИПАЛЬНОЕ КАЗЕННОЕ УЧРЕЖДЕНИЕ \"УПРАВЛЕНИЕ КАПИТАЛЬНОГО СТРОИТЕЛЬСТВА\" ОМСКОГО МУНИЦИПАЛЬНОГО РАЙОНА ОМСКОЙ ОБЛАСТИ                                                                                                                                                                                                                        Поставка легкового автомобиля                                                                                                                                Идентификационный код закупки(ИКЗ):                                                                                173552801726655280100100240312910244',\n",
       "       '№ 0345200019817000001                                                                                                                                                                                                                                                                                                                                                                                                                                                                                                                            Заказчик:                                                                                                                                                                                                                                                                                                                                                                                ГОСУДАРСТВЕННОЕ БЮДЖЕТНОЕ УЧРЕЖДЕНИЕ ЛЕНИНГРАДСКОЙ ОБЛАСТИ \"МНОГОФУНКЦИОНАЛЬНЫЙ ЦЕНТР ПРЕДОСТАВЛЕНИЯ ГОСУДАРСТВЕННЫХ И МУНИЦИПАЛЬНЫХ УСЛУГ\"                                                                                                                                                                                                                                                                                                                                                                                                                                                                                    Поставка транспортного средства для филиала \"Ломоносовский\"                                                                                                                                Идентификационный код закупки(ИКЗ):                                                                                172784245356547030100100690022910244',\n",
       "       '№ 0358100009317000004                                                                                                                                                                                                                                                                                                                                                                                                                                                                                                                            Заказчик:                                                                                                                                                                                                                                                                                                                                                                                ФЕДЕРАЛЬНОЕ КАЗЕННОЕ УЧРЕЖДЕНИЕ \"ЮЖНЫЙ АВИАЦИОННЫЙ ПОИСКОВО-СПАСАТЕЛЬНЫЙ ЦЕНТР\"                                                                                                                                                                                                                                                                                                                                                                                                                                                                                    Поставка автомобиля для нужд ФКУ \"Южный АПСЦ\"                                                                                                                                Идентификационный код закупки(ИКЗ):                                                                                171616709898961670100100050052910244',\n",
       "       '№ 0125300005517000004                                                                                                                                                                                                                                                                                                                                                                                                                                                                                                                            Заказчик:                                                                                                                                                                                                                                                                                                                                                                                АДМИНИСТРАЦИЯ МУНИЦИПАЛЬНОГО ОБРАЗОВАНИЯ \"КРАСНОЯРСКИЙ СЕЛЬСОВЕТ\"                                                                                                                                                                                                                                                                                                                                                                                                                                                                                    Приобретение легкового автомобиля                                                                                                                                 Идентификационный код закупки(ИКЗ):                                                                                173300600346930190100100060062910244',\n",
       "       '№ 0153300058017000001                                                                                                                                                                                                                                                                                                                                                                                                                                                                                                                            Заказчик:                                                                                                                                                                                                                                                                                                                                                                                АДМИНИСТРАЦИЯ МУНИЦИПАЛЬНОГО ОБРАЗОВАНИЯ ТИТОВСКИЙ СЕЛЬСОВЕТ ШАРЛЫКСКОГО РАЙОНА ОРЕНБУРГСКОЙ ОБЛАСТИ                                                                                                                                                                                                                                                                                                                                                                                                                                                                                    Поставка легкового автомобиля для нужд Титовского сельсовета Шарлыкского района                                                                                                                                Идентификационный код закупки(ИКЗ):                                                                                173565100510356510100100040042910244',\n",
       "       '№ 0573100004717000005                                                                                                                                                                                                                                                                                                                                                                                                                                                                                                                            Заказчик:                                                                                                                                                                                                                                                                                                                                                                                ФЕДЕРАЛЬНОЕ ГОСУДАРСТВЕННОЕ УНИТАРНОЕ ПРЕДПРИЯТИЕ \"ЦЕНТРАЛЬНЫЙ ИНСТИТУТ АВИАЦИОННОГО МОТОРОСТРОЕНИЯ ИМЕНИ П.И. БАРАНОВА\"                                                                                                                                                                                                                                                                                                                                                                                                                                                                                    Поставка лекгового автомобиля для нужд ФГУП \"ЦИАМ им. П.И. Баранова\"                                                                                                                                Идентификационный код закупки(ИКЗ):                                                                                171772201682077220100100050052910244',\n",
       "       '№ 0136200003617000689                                                                                                                                                                                                                                                                                                                                                                                                                                                                                Организация, осуществляющая размещение:                                                                                                                                                                    МИНИСТЕРСТВО ИМУЩЕСТВЕННЫХ И ЗЕМЕЛЬНЫХ ОТНОШЕНИЙ ТВЕРСКОЙ ОБЛАСТИ                                                                                                                                                                                                                        Поставка легкового автомобиля                                                                                                                                Идентификационный код закупки(ИКЗ):                                                                                172695003275669500100100280012910244',\n",
       "       '№ 0346500000217000001                                                                                                                                                                                                                                                                                                                                                                                                                                                                                                                            Заказчик:                                                                                                                                                                                                                                                                                                                                                                                ОБЛАСТНОЕ БЮДЖЕТНОЕ УЧРЕЖДЕНИЕ \"ЭКСПЛУАТАЦИЯ ЖИЛИЩНОГО ФОНДА\"                                                                                                                                                                                                                                                                                                                                                                                                                                                                                    Покупка автомобиля                                                                                                                                Идентификационный код закупки(ИКЗ):                                                                                172482612935848260100100190192910244',\n",
       "       '№ 0377100004017000009                                                                                                                                                                                                                                                                                                                                                                                                                                                                                                                            Заказчик:                                                                                                                                                                                                                                                                                                                                                                                ФЕДЕРАЛЬНОЕ КАЗЕННОЕ УЧРЕЖДЕНИЕ \"ГЛАВНОЕ БЮРО МЕДИКО-СОЦИАЛЬНОЙ ЭКСПЕРТИЗЫ ПО РЕСПУБЛИКЕ АЛТАЙ\" МИНИСТЕРСТВА ТРУДА И СОЦИАЛЬНОЙ ЗАЩИТЫ РОССИЙСКОЙ ФЕДЕРАЦИИ                                                                                                                                                                                                                                                                                                                                                                                                                                                                                    автомобиль                                                                                                                                Идентификационный код закупки(ИКЗ):                                                                                171041111663604110100100400022910244',\n",
       "       '№ 0848300051617000234                                                                                                                                                                                                                                                                                                                                                                                                                                                                                Организация, осуществляющая размещение:                                                                                                                                                                    МУНИЦИПАЛЬНОЕ КАЗЕННОЕ УЧРЕЖДЕНИЕ \"ЦЕНТР ЗАКУПОК\" МУНИЦИАЛЬНОГО ОБРАЗОВАНИЯ РАМЕНСКИЙ МУНИЦИПАЛЬНЫЙ РАЙОН МОСКОВСКОЙ ОБЛАСТИ                                                                                                                                                                                                                        Приобретение нового легкового автомобиля класса J                                                                                                                                Идентификационный код закупки(ИКЗ):                                                                                173504008706050400100100580032910244',\n",
       "       '№ 0136200003617000629                                                                                                                                                                                                                                                                                                                                                                                                                                                                                Организация, осуществляющая размещение:                                                                                                                                                                    МИНИСТЕРСТВО ИМУЩЕСТВЕННЫХ И ЗЕМЕЛЬНЫХ ОТНОШЕНИЙ ТВЕРСКОЙ ОБЛАСТИ                                                                                                                                                                                                                        Поставка автомобилей для нужд подразделений участковых уполномоченных Управления Министерства внутренних дел Российской Федерации по Тверской области                                                                                                                                Идентификационный код закупки(ИКЗ):                                                                                172695006140469520100100410012910244',\n",
       "       '№ 0144100005117000058                                                                                                                                                                                                                                                                                                                                                                                                                                                                                                                            Заказчик:                                                                                                                                                                                                                                                                                                                                                                                СЛЕДСТВЕННОЕ УПРАВЛЕНИЕ СЛЕДСТВЕННОГО КОМИТЕТА РОССИЙСКОЙ ФЕДЕРАЦИИ ПО КУРСКОЙ ОБЛАСТИ                                                                                                                                                                                                                                                                                                                                                                                                                                                                                    Поставка автомобиля легкового                                                                                                                                Идентификационный код закупки(ИКЗ):                                                                                171463212839446320100100370012910244',\n",
       "       '№ 0139300013017000234                                                                                                                                                                                                                                                                                                                                                                                                                                                                                Организация, осуществляющая размещение:                                                                                                                                                                    АДМИНИСТРАЦИЯ МЕЖДУРЕЧЕНСКОГО ГОРОДСКОГО ОКРУГА                                                                                                                                                                                                                        Автомобиль легковой повышенной проходимости для нужд МУП \"Надежда\"                                                                                                                                Идентификационный код закупки(ИКЗ):                                                                                173421401011642140100100250012910244',\n",
       "       '№ 0109200002417000475                                                                                                                                                                                                                                                                                                                                                                                                                                                                                Организация, осуществляющая размещение:                                                                                                                                                                    ГОСУДАРСТВЕННЫЙ КОМИТЕТ РЕСПУБЛИКИ МОРДОВИЯ ПО ОРГАНИЗАЦИИ ТОРГОВ И ЦЕНОВОЙ ПОЛИТИКЕ                                                                                                                                                                                                                        закупка автомобиля                                                                                                                                Идентификационный код закупки(ИКЗ):                                                                                172132715724113270100100050012910244',\n",
       "       '№ 0509600001717000002                                                                                                                                                                                                                                                                                                                                                                                                                                                                                                                            Заказчик:                                                                                                                                                                                                                                                                                                                                                                                МУНИЦИПАЛЬНОЕ ПРЕДПРИЯТИЕ ГОРОДСКОГО ОКРУГА САРАНСК \"ЖИЛИЩНОЕ РЕМОНТНО-СТРОИТЕЛЬНОЕ УПРАВЛЕНИЕ ОКТЯБРЬСКОГО РАЙОНА Г. САРАНСКА\"                                                                                                                                                                                                                                                                                                                                                                                                                                                                                    Закупка легкового автомобиля                                                                                                                                Идентификационный код закупки(ИКЗ):                                                                                173132890252313280100100030012910000',\n",
       "       '№ 0112200000817000558                                                                                                                                                                                                                                                                                                                                                                                                                                                                                Организация, осуществляющая размещение:                                                                                                                                                                    МИНИСТЕРСТВО РЕСПУБЛИКИ ТЫВА ПО РЕГУЛИРОВАНИЮ КОНТРАКТНОЙ СИСТЕМЫ В СФЕРЕ ЗАКУПОК                                                                                                                                                                                                                        Средства транспортные с двигателем с искровым зажиганием, с рабочим объемом цилиндров более 1500 см для нужд ГБУ \"Республиканский центр ветеринарии\"                                                                                                                                Идентификационный код закупки(ИКЗ):                                                                                172170104213817010100100010022910611',\n",
       "       '№ 0194200000517001010                                                                                                                                                                                                                                                                                                                                                                                                                                                                                Организация, осуществляющая размещение:                                                                                                                                                                    КОМИТЕТ ПРАВИТЕЛЬСТВА ЧЕЧЕНСКОЙ РЕСПУБЛИКИ ПО ГОСУДАРСТВЕННОМУ ЗАКАЗУ                                                                                                                                                                                                                        Приобретение автомобиля для нужд ГУ \"Департамент финансов г. Грозный\"                                                                                                                                Идентификационный код закупки(ИКЗ):                                                                                172201400010020140100100110112910244',\n",
       "       '№ 0139300013017000228                                                                                                                                                                                                                                                                                                                                                                                                                                                                                Организация, осуществляющая размещение:                                                                                                                                                                    АДМИНИСТРАЦИЯ МЕЖДУРЕЧЕНСКОГО ГОРОДСКОГО ОКРУГА                                                                                                                                                                                                                        Автомобиль легковой повышенной проходимости для нужд МГО                                                                                                                                Идентификационный код закупки(ИКЗ):                                                                                173421401011642140100100240022910244',\n",
       "       '№ 0139100002717000017                                                                                                                                                                                                                                                                                                                                                                                                                                                                                                                            Заказчик:                                                                                                                                                                                                                                                                                                                                                                                ГОСУДАРСТВЕННАЯ ИНСПЕКЦИЯ ТРУДА В КЕМЕРОВСКОЙ ОБЛАСТИ                                                                                                                                                                                                                                                                                                                                                                                                                                                                                    Поставка автомобиля                                                                                                                                Идентификационный код закупки(ИКЗ):                                                                                171420704053642050100100170012910244',\n",
       "       '№ 0572200002017000010                                                                                                                                                                                                                                                                                                                                                                                                                                                                                                                            Заказчик:                                                                                                                                                                                                                                                                                                                                                                                САНКТ-ПЕТЕРБУРГСКОЕ ГОСУДАРСТВЕННОЕ УНИТАРНОЕ ПРЕДПРИЯТИЕ ДАЧНОГО ОБСЛУЖИВАНИЯ \"ПРИГОРОДНОЕ\"                                                                                                                                                                                                                                                                                                                                                                                                                                                                                    Поставка легкового автомобиля.                                                                                                                                Идентификационный код закупки(ИКЗ):                                                                                172782509631378130100100590362910000',\n",
       "       '№ 0343100005417000012                                                                                                                                                                                                                                                                                                                                                                                                                                                                                                                            Заказчик:                                                                                                                                                                                                                                                                                                                                                                                ФЕДЕРАЛЬНОЕ КАЗЕННОЕ УЧРЕЖДЕНИЕ \"ГЛАВНОЕ БЮРО МЕДИКО-СОЦИАЛЬНОЙ ЭКСПЕРТИЗЫ ПО КУРГАНСКОЙ ОБЛАСТИ\" МИНИСТЕРСТВА ТРУДА И СОЦИАЛЬНОЙ ЗАЩИТЫ РОССИЙСКОЙ ФЕДЕРАЦИИ                                                                                                                                                                                                                                                                                                                                                                                                                                                                                    Поставка автомобилей                                                                                                                                Идентификационный код закупки(ИКЗ):                                                                                171450111195045010100100330012910244',\n",
       "       '№ 0208100000217000021                                                                                                                                                                                                                                                                                                                                                                                                                                                                                                                            Заказчик:                                                                                                                                                                                                                                                                                                                                                                                ТЕРРИТОРИАЛЬНЫЙ ФОНД ОБЯЗАТЕЛЬНОГО МЕДИЦИНСКОГО СТРАХОВАНИЯ РЕСПУБЛИКИ МАРИЙ ЭЛ                                                                                                                                                                                                                                                                                                                                                                                                                                                                                    Поставка автомобиля                                                                                                                                Идентификационный код закупки(ИКЗ):                                                                                172120000034512150100100220222910244',\n",
       "       '№ 0848300047117000110                                                                                                                                                                                                                                                                                                                                                                                                                                                                                Организация, осуществляющая размещение:                                                                                                                                                                    МУНИЦИПАЛЬНОЕ КАЗЕННОЕ УЧРЕЖДЕНИЕ ГОРОДСКОГО ОКРУГА ДОМОДЕДОВО \"ДИРЕКЦИЯ ЕДИНОГО ЗАКАЗЧИКА\"                                                                                                                                                                                                                        Поставка легкового автомобиля                                                                                                                                Идентификационный код закупки(ИКЗ):                                                                                173500902270650090100100020062910000',\n",
       "       '№ 0348300380717000072                                                                                                                                                                                                                                                                                                                                                                                                                                                                                Организация, осуществляющая размещение:                                                                                                                                                                    МУНИЦИПАЛЬНОЕ КАЗЕННОЕ УЧРЕЖДЕНИЕ \"ТЕНДЕРНЫЙ КОМИТЕТ ПУШКИНСКОГО МУНИЦИПАЛЬНОГО РАЙОНА\"                                                                                                                                                                                                                        Поставка легковых автомобилей C-класса                                                                                                                                Идентификационный код закупки(ИКЗ):                                                                                173503807703350380100101230892910244',\n",
       "       '№ 0309300015417000006                                                                                                                                                                                                                                                                                                                                                                                                                                                                                                                            Заказчик:                                                                                                                                                                                                                                                                                                                                                                                МУНИЦИПАЛЬНОЕ УЧРЕЖДЕНИЕ \"АВТОБАЗА АДМИНИСТРАЦИИ ГОРОДСКОГО ОКРУГА САРАНСК\"                                                                                                                                                                                                                                                                                                                                                                                                                                                                                    Закупка автомобиля для нужд МУ \"Автобаза Администрации городского округа Саранск\"                                                                                                                                Идентификационный код закупки(ИКЗ):                                                                                173132512880913260100100280282910244',\n",
       "       '№ 0321300026317000007                                                                                                                                                                                                                                                                                                                                                                                                                                                                                                                            Заказчик:                                                                                                                                                                                                                                                                                                                                                                                АДМИНИСТРАЦИЯ НОВОАЛЕКСАНДРОВСКОГО МУНИЦИПАЛЬНОГО РАЙОНА СТАВРОПОЛЬСКОГО КРАЯ                                                                                                                                                                                                                                                                                                                                                                                                                                                                                    Приобретение транспортного средства для нужд администрации Новоалександровского муниципального района Ставропольского края                                                                                                                                Идентификационный код закупки(ИКЗ):                                                                                173261500216526150100100490262910244',\n",
       "       '№ 0159300008717000002                                                                                                                                                                                                                                                                                                                                                                                                                                                                                                                            Заказчик:                                                                                                                                                                                                                                                                                                                                                                                ФИНАНСОВО - КАЗНАЧЕЙСКОЕ УПРАВЛЕНИЕ АДМИНИСТРАЦИИ МУНИЦИПАЛЬНОГО ОБРАЗОВАНИЯ - МИХАЙЛОВСКИЙ МУНИЦИПАЛЬНЫЙ РАЙОН РЯЗАНСКОЙ ОБЛАСТИ                                                                                                                                                                                                                                                                                                                                                                                                                                                                                    Автомобили легковые                                                                                                                                Идентификационный код закупки(ИКЗ):                                                                                173620800443962080100100050022910244',\n",
       "       '№ 0119300019817000116                                                                                                                                                                                                                                                                                                                                                                                                                                                                                Организация, осуществляющая размещение:                                                                                                                                                                    ДЕПАРТАМЕНТ МУНИЦИПАЛЬНОГО ЗАКАЗА АДМИНИСТРАЦИИ ГОРОДА КРАСНОЯРСКА                                                                                                                                                                                                                        Поставка с доставкой легковых автомобилей для администрации города Красноярска                                                                                                                                Идентификационный код закупки(ИКЗ):                                                                                173245100084024660100101000032910244',\n",
       "       '№ 0141000000117000005                                                                                                                                                                                                                                                                                                                                                                                                                                                                                                                            Заказчик:                                                                                                                                                                                                                                                                                                                                                                                ИЗБИРАТЕЛЬНАЯ КОМИССИЯ КОСТРОМСКОЙ ОБЛАСТИ                                                                                                                                                                                                                                                                                                                                                                                                                                                                                    Поставка легкового автомобиля для нужд избирательной комиссии Костромской области                                                                                                                                Идентификационный код закупки(ИКЗ):                                                                                174444302288244010100100070052910244',\n",
       "       '№ 0146200002017000296                                                                                                                                                                                                                                                                                                                                                                                                                                                                                Организация, осуществляющая размещение:                                                                                                                                                                    УПРАВЛЕНИЕ ПО РАЗМЕЩЕНИЮ ГОСЗАКАЗА ЛИПЕЦКОЙ ОБЛАСТИ                                                                                                                                                                                                                        №17 - ЭА2 - 304: автомобиль легковой                                                                                                                                Идентификационный код закупки(ИКЗ):                                                                                172482602737048260100100810012910244',\n",
       "       '№ 0563600001417000001                                                                                                                                                                                                                                                                                                                                                                                                                                                                                                                            Заказчик:                                                                                                                                                                                                                                                                                                                                                                                МУНИЦИПАЛЬНОЕ УНИТАРНОЕ ПРЕДПРИЯТИЕ \"ВОДОКАНАЛ\"                                                                                                                                                                                                                                                                                                                                                                                                                                                                                    Поставка легкового автомобиля (седан).                                                                                                                                Идентификационный код закупки(ИКЗ):                                                                                173672600993567260100100030032910000',\n",
       "       '№ 0187300003217000094                                                                                                                                                                                                                                                                                                                                                                                                                                                                                Организация, осуществляющая размещение:                                                                                                                                                                    АДМИНИСТРАЦИЯ ОКТЯБРЬСКОГО РАЙОНА                                                                                                                                                                                                                        Приобретение легкового автомобиля                                                                                                                                Идентификационный код закупки(ИКЗ):                                                                                173861400900086140100100210212910244',\n",
       "       '№ 0391100014017000018                                                                                                                                                                                                                                                                                                                                                                                                                                                                                                                            Заказчик:                                                                                                                                                                                                                                                                                                                                                                                ФЕДЕРАЛЬНОЕ КАЗЁННОЕ УЧРЕЖДЕНИЕ ЗДРАВООХРАНЕНИЯ \"ЧИТИНСКАЯ ПРОТИВОЧУМНАЯ СТАНЦИЯ\" ФЕДЕРАЛЬНОЙ СЛУЖБЫ ПО НАДЗОРУ В СФЕРЕ ЗАЩИТЫ ПРАВ ПОТРЕБИТЕЛЕЙ И БЛАГОПОЛУЧИЯ ЧЕЛОВЕКА                                                                                                                                                                                                                                                                                                                                                                                                                                                                                    Грузопассажирский автомобиль                                                                                                                                Идентификационный код закупки(ИКЗ):                                                                                171753500202475360100100260242910244',\n",
       "       '№ 0150300021517000005                                                                                                                                                                                                                                                                                                                                                                                                                                                                                                                            Заказчик:                                                                                                                                                                                                                                                                                                                                                                                АДМИНИСТРАЦИЯ ЕРМОЛИНСКОГО СЕЛЬСКОГО ПОСЕЛЕНИЯ                                                                                                                                                                                                                                                                                                                                                                                                                                                                                    Поставка легкового автомобиля                                                                                                                                Идентификационный код закупки(ИКЗ):                                                                                173531001964253100100100170072910244',\n",
       "       '№ 0146200002017000372                                                                                                                                                                                                                                                                                                                                                                                                                                                                                Организация, осуществляющая размещение:                                                                                                                                                                    УПРАВЛЕНИЕ ПО РАЗМЕЩЕНИЮ ГОСЗАКАЗА ЛИПЕЦКОЙ ОБЛАСТИ                                                                                                                                                                                                                        17 - ЭА1 - 374: легковые автомобили                                                                                                                                Идентификационный код закупки(ИКЗ):                                                                                172482305713748240100100640012910244',\n",
       "       '№ 0169300012317000390                                                                                                                                                                                                                                                                                                                                                                                                                                                                                Организация, осуществляющая размещение:                                                                                                                                                                    АДМИНИСТРАЦИЯ КАРТАЛИНСКОГО  МУНИЦИПАЛЬНОГО РАЙОНА                                                                                                                                                                                                                        Поставка санитарных автомобилей класса А                                                                                                                                Идентификационный код закупки(ИКЗ):                                                                                173740700056874580100100190192910244',\n",
       "       '№ 0160300007117000002                                                                                                                                                                                                                                                                                                                                                                                                                                                                                                                            Заказчик:                                                                                                                                                                                                                                                                                                                                                                                АДМИНИСТРАЦИЯ КРАСНОЯРСКОГО МУНИЦИПАЛЬНОГО ОБРАЗОВАНИЯ                                                                                                                                                                                                                                                                                                                                                                                                                                                                                    Поставка автомобиля легкового 7-ми местного для администрации Красноярского муниципального образования Энгельсского муниципального района Саратовской области                                                                                                                                Идентификационный код закупки(ИКЗ):                                                                                173644903713464490100100060012910244',\n",
       "       '№ 0109200002417000464                                                                                                                                                                                                                                                                                                                                                                                                                                                                                Организация, осуществляющая размещение:                                                                                                                                                                    ГОСУДАРСТВЕННЫЙ КОМИТЕТ РЕСПУБЛИКИ МОРДОВИЯ ПО ОРГАНИЗАЦИИ ТОРГОВ И ЦЕНОВОЙ ПОЛИТИКЕ                                                                                                                                                                                                                        закупка автотранспортного средства                                                                                                                                Идентификационный код закупки(ИКЗ):                                                                                172132621398313260100100200032910612',\n",
       "       '№ 0303300207517000001                                                                                                                                                                                                                                                                                                                                                                                                                                                                                                                            Заказчик:                                                                                                                                                                                                                                                                                                                                                                                МУНИЦИПАЛЬНОЕ БЮДЖЕТНОЕ УЧРЕЖДЕНИЕ \"МУНИЦИПАЛЬНАЯ ЦЕНТРАЛИЗОВАННАЯ БУХГАЛТЕРИЯ\" АДМИНИСТРАЦИИ МУНИЦИПАЛЬНОГО РАЙОНА \"СУЛЕЙМАН-СТАЛЬСКИЙ РАЙОН\"                                                                                                                                                                                                                                                                                                                                                                                                                                                                                    Поставка автомобиля                                                                                                                                Идентификационный код закупки(ИКЗ):                                                                                173052991153305290100100020012910244',\n",
       "       '№ 0344300130517000006                                                                                                                                                                                                                                                                                                                                                                                                                                                                                                                            Заказчик:                                                                                                                                                                                                                                                                                                                                                                                МУНИЦИПАЛЬНОЕ  КАЗЕННОЕ УЧРЕЖДЕНИЕ \" УПРАВЛЕНИЕ ХОЗЯЙСТВЕННОГО ОБСЛУЖИВАНИЯ\"                                                                                                                                                                                                                                                                                                                                                                                                                                                                                    Поставка легкового автомобиля                                                                                                                                Идентификационный код закупки(ИКЗ):                                                                                173460500629146050100100170012910244',\n",
       "       '№ 0338200000417000023                                                                                                                                                                                                                                                                                                                                                                                                                                                                                                                            Заказчик:                                                                                                                                                                                                                                                                                                                                                                                КРАЕВОЕ ГОСУДАРСТВЕННОЕ БЮДЖЕТНОЕ УЧРЕЖДЕНИЕ \"АВТОБАЗА ПРИ АППАРАТЕ ГУБЕРНАТОРА И ПРАВИТЕЛЬСТВА КАМЧАТСКОГО КРАЯ\"                                                                                                                                                                                                                                                                                                                                                                                                                                                                                    Поставка легковых автомобилей с рамной конструкцией и полным приводом                                                                                                                                Идентификационный код закупки(ИКЗ):                                                                                172410109739541010100100410012910244',\n",
       "       '№ 0372100015117000035                                                                                                                                                                                                                                                                                                                                                                                                                                                                                                                            Заказчик:                                                                                                                                                                                                                                                                                                                                                                                ФЕДЕРАЛЬНОЕ КАЗЕННОЕ УЧРЕЖДЕНИЕ \"ГЛАВНОЕ БЮРО МЕДИКО-СОЦИАЛЬНОЙ ЭКСПЕРТИЗЫ ПО Г. САНКТ-ПЕТЕРБУРГУ\" МИНИСТЕРСТВА ТРУДА И СОЦИАЛЬНОЙ ЗАЩИТЫ РОССИЙСКОЙ ФЕДЕРАЦИИ                                                                                                                                                                                                                                                                                                                                                                                                                                                                                    Поставка легкового автомобиля                                                                                                                                Идентификационный код закупки(ИКЗ):                                                                                171784130827678410100100590022910244',\n",
       "       '№ 0124300020517000032                                                                                                                                                                                                                                                                                                                                                                                                                                                                                                                            Заказчик:                                                                                                                                                                                                                                                                                                                                                                                АДМИНИСТРАЦИЯ МУНИЦИПАЛЬНОГО ОБРАЗОВАНИЯ \"НЯНДОМСКИЙ МУНИЦИПАЛЬНЫЙ РАЙОН\"                                                                                                                                                                                                                                                                                                                                                                                                                                                                                    Покупка автомобиля                                                                                                                                Идентификационный код закупки(ИКЗ):                                                                                173291800308729180100100250212910244',\n",
       "       '№ 0846500000317000003                                                                                                                                                                                                                                                                                                                                                                                                                                                                                                                            Заказчик:                                                                                                                                                                                                                                                                                                                                                                                ОБЛАСТНОЕ КАЗЕННОЕ УЧРЕЖДЕНИЕ \"ДОРОЖНОЕ АГЕНТСТВО ЛИПЕЦКОЙ ОБЛАСТИ\"                                                                                                                                                                                                                                                                                                                                                                                                                                                                                    Поставка легкового автомобиля                                                                                                                                 Идентификационный код закупки(ИКЗ):                                                                                172482612972848260100100100050000244',\n",
       "       '№ 0113100005817000004                                                                                                                                                                                                                                                                                                                                                                                                                                                                                                                            Заказчик:                                                                                                                                                                                                                                                                                                                                                                                ГОСУДАРСТВЕННАЯ ИНСПЕКЦИЯ ТРУДА В УДМУРТСКОЙ РЕСПУБЛИКЕ                                                                                                                                                                                                                                                                                                                                                                                                                                                                                    Поставка легкового автомобиля                                                                                                                                Идентификационный код закупки(ИКЗ):                                                                                171183105891818310100100070072910244',\n",
       "       '№ 0361200015017001121                                                                                                                                                                                                                                                                                                                                                                                                                                                                                Организация, осуществляющая размещение:                                                                                                                                                                    ГОСУДАРСТВЕННОЕ КАЗЕННОЕ УЧРЕЖДЕНИЕ \"ЦЕНТР ГОСУДАРСТВЕННЫХ ЗАКУПОК САХАЛИНСКОЙ ОБЛАСТИ\"                                                                                                                                                                                                                        Приобретение автомобиля для нужд ГБУК СО ММК \"Победа\"                                                                                                                                Идентификационный код закупки(ИКЗ):                                                                                172650128786065010100100110012910244',\n",
       "       '№ 0344300133717000005                                                                                                                                                                                                                                                                                                                                                                                                                                                                                                                            Заказчик:                                                                                                                                                                                                                                                                                                                                                                                МУНИЦИПАЛЬНОЕ КАЗЁННОЕ УЧРЕЖДЕНИЕ \"ПО ОБЕСПЕЧЕНИЮ  ДЕЯТЕЛЬНОСТИ АДМИНИСТРАЦИИ ГЛУШКОВСКОГО РАЙОНА КУРСКОЙ ОБЛАСТИ\"                                                                                                                                                                                                                                                                                                                                                                                                                                                                                    приобретение автомобиля                                                                                                                                Идентификационный код закупки(ИКЗ):                                                                                173460300869546030100100100012910244',\n",
       "       '№ 0859200001117001818                                                                                                                                                                                                                                                                                                                                                                                                                                                                                Организация, осуществляющая размещение:                                                                                                                                                                    ГОСУДАРСТВЕННОЕ КАЗЕННОЕ УЧРЕЖДЕНИЕ РЯЗАНСКОЙ ОБЛАСТИ \"ЦЕНТР ЗАКУПОК РЯЗАНСКОЙ ОБЛАСТИ\"                                                                                                                                                                                                                        покупка автомобилей                                                                                                                                Идентификационный код закупки(ИКЗ):                                                                                172621100697262110100100060012910244',\n",
       "       '№ 0103200008417000555                                                                                                                                                                                                                                                                                                                                                                                                                                                                                Организация, осуществляющая размещение:                                                                                                                                                                    КОМИТЕТ ПО ГОСУДАРСТВЕННЫМ ЗАКУПКАМ РЕСПУБЛИКИ ДАГЕСТАН                                                                                                                                                                                                                        Средства автотранспортные                                                                                                                                Идентификационный код закупки(ИКЗ):                                                                                172054601129005460100100030022910244',\n",
       "       '№ 0373100031117000001                                                                                                                                                                                                                                                                                                                                                                                                                                                                                                                            Заказчик:                                                                                                                                                                                                                                                                                                                                                                                ФЕДЕРАЛЬНОЕ ГОСУДАРСТВЕННОЕ БЮДЖЕТНОЕ ОБРАЗОВАТЕЛЬНОЕ УЧРЕЖДЕНИЕ ДОПОЛНИТЕЛЬНОГО ПРОФЕССИОНАЛЬНОГО ОБРАЗОВАНИЯ \"РОССИЙСКАЯ АКАДЕМИЯ КАДРОВОГО ОБЕСПЕЧЕНИЯ АГРОПРОМЫШЛЕННОГО КОМПЛЕКСА\"                                                                                                                                                                                                                                                                                                                                                                                                                                                                                    Автомобиль легковой                                                                                                                                Идентификационный код закупки(ИКЗ):                                                                                171772005820877200100100150152910244',\n",
       "       '№ 0167300027117000025                                                                                                                                                                                                                                                                                                                                                                                                                                                                                Организация, осуществляющая размещение:                                                                                                                                                                    АДМИНИСТРАЦИЯ УПОРОВСКОГО МУНИЦИПАЛЬНОГО РАЙОНА                                                                                                                                                                                                                        приобретение автомобилей                                                                                                                                Идентификационный код закупки(ИКЗ):                                                                                173722600458572070100100240172910244',\n",
       "       '№ 0375200017317000005                                                                                                                                                                                                                                                                                                                                                                                                                                                                                                                            Заказчик:                                                                                                                                                                                                                                                                                                                                                                                ГОСУДАРСТВЕННОЕ БЮДЖЕТНОЕ ПРОФЕССИОНАЛЬНОЕ ОБРАЗОВАТЕЛЬНОЕ УЧРЕЖДЕНИЕ РЕСПУБЛИКИ КРЫМ \"КРАСНОГВАРДЕЙСКИЙ АГРОПРОМЫШЛЕННЫЙ ТЕХНИКУМ\"                                                                                                                                                                                                                                                                                                                                                                                                                                                                                    приобретение учебного легкового автомобиля                                                                                                                                Идентификационный код закупки(ИКЗ):                                                                                172910500558891050100100140132910244',\n",
       "       '№ 0356200021117000002                                                                                                                                                                                                                                                                                                                                                                                                                                                                                                                            Заказчик:                                                                                                                                                                                                                                                                                                                                                                                ГОСУДАРСТВЕННОЕ БЮДЖЕТНОЕ ПРОФЕССИОНАЛЬНОЕ ОБРАЗОВАТЕЛЬНОЕ УЧРЕЖДЕНИЕ \"ВЕРЕЩАГИНСКИЙ МНОГОПРОФИЛЬНЫЙ ТЕХНИКУМ\"                                                                                                                                                                                                                                                                                                                                                                                                                                                                                    Поставка автомобиля легкового для нужд ГБПОУ «Верещагинский многопрофильный техникум»                                                                                                                                Идентификационный код закупки(ИКЗ):                                                                                172593316062959330100100090012910244',\n",
       "       '№ 0360200017917000031                                                                                                                                                                                                                                                                                                                                                                                                                                                                                                                            Заказчик:                                                                                                                                                                                                                                                                                                                                                                                ГОСУДАРСТВЕННОЕ УЧРЕЖДЕНИЕ ЗДРАВООХРАНЕНИЯ \"ОБЛАСТНОЙ ГОСПИТАЛЬ ДЛЯ ВЕТЕРАНОВ ВОЙН\"                                                                                                                                                                                                                                                                                                                                                                                                                                                                                    Поставка легкового автомобиля                                                                                                                                Идентификационный код закупки(ИКЗ):                                                                                172645001406864500100100340342910244',\n",
       "       '№ 0167300007817000026                                                                                                                                                                                                                                                                                                                                                                                                                                                                                Организация, осуществляющая размещение:                                                                                                                                                                    АДМИНИСТРАЦИЯ СЛАДКОВСКОГО МУНИЦИПАЛЬНОГО РАЙОНА                                                                                                                                                                                                                        Приобретение легкового автомобиля для администраций сельских поселений                                                                                                                                Идентификационный код закупки(ИКЗ):                                                                                173722100282772050100100880012910000',\n",
       "       '№ 0329300051817000001                                                                                                                                                                                                                                                                                                                                                                                                                                                                                                                            Заказчик:                                                                                                                                                                                                                                                                                                                                                                                МУНИЦИПАЛЬНОЕ КАЗЕННОЕ УЧРЕЖДЕНИЕ \"СЕРАФИМОВИЧСПЕЦСЕРВИС\"                                                                                                                                                                                                                                                                                                                                                                                                                                                                                    Поставка легкового автомобиля                                                                                                                                Идентификационный код закупки(ИКЗ):                                                                                173342700763834270100100020012910244',\n",
       "       '№ 0338200000417000022                                                                                                                                                                                                                                                                                                                                                                                                                                                                                                                            Заказчик:                                                                                                                                                                                                                                                                                                                                                                                КРАЕВОЕ ГОСУДАРСТВЕННОЕ БЮДЖЕТНОЕ УЧРЕЖДЕНИЕ \"АВТОБАЗА ПРИ АППАРАТЕ ГУБЕРНАТОРА И ПРАВИТЕЛЬСТВА КАМЧАТСКОГО КРАЯ\"                                                                                                                                                                                                                                                                                                                                                                                                                                                                                    Поставка легковых автомобилей с рамной конструкцией и полным приводом                                                                                                                                Идентификационный код закупки(ИКЗ):                                                                                172410109739541010100100410022910244',\n",
       "       '№ 0169300028417000028                                                                                                                                                                                                                                                                                                                                                                                                                                                                                Организация, осуществляющая размещение:                                                                                                                                                                    Администрация Кизильского муниципального района                                                                                                                                                                                                                        Поставка легкового автомобиля для нужд Собрания депутатовКизильского муниципального района.                                                                                                                                Идентификационный код закупки(ИКЗ):                                                                                173742500973274550100100030032910244',\n",
       "       '№ 0801300012817000011                                                                                                                                                                                                                                                                                                                                                                                                                                                                                Организация, осуществляющая размещение:                                                                                                                                                                    МУНИЦИПАЛЬНОЕ КАЗЕННОЕ УЧРЕЖДЕНИЕ \"УПРАВЛЕНИЕ ПО ЦЕНТРАЛИЗОВАННЫМ ЗАКУПКАМ\" МУНИЦИПАЛЬНОГО РАЙОНА УФИМСКИЙ РАЙОН РЕСПУБЛИКИ БАШКОРТОСТАН                                                                                                                                                                                                                        Поставка легкового автомобиля для нужд Управления по обеспечению деятельности учреждений Уфимский район Республики Башкортостан                                                                                                                                Идентификационный код закупки(ИКЗ):                                                                                173024595036002450100100190192910244',\n",
       "       '№ 0848300054817000089                                                                                                                                                                                                                                                                                                                                                                                                                                                                                Организация, осуществляющая размещение:                                                                                                                                                                    МУНИЦИПАЛЬНОЕ КАЗЕННОЕ УЧРЕЖДЕНИЕ КЛИНСКОГО МУНИЦИПАЛЬНОГО РАЙОНА \"ЦЕНТР ПРОВЕДЕНИЯ ТОРГОВ\"                                                                                                                                                                                                                        Приобретение легкового автомобиля                                                                                                                                Идентификационный код закупки(ИКЗ):                                                                                173502007498750200100101880012910244',\n",
       "       '№ 0194200000517000277                                                                                                                                                                                                                                                                                                                                                                                                                                                                                Организация, осуществляющая размещение:                                                                                                                                                                    КОМИТЕТ ПРАВИТЕЛЬСТВА ЧЕЧЕНСКОЙ РЕСПУБЛИКИ ПО ГОСУДАРСТВЕННОМУ ЗАКАЗУ                                                                                                                                                                                                                        Приобретение автотранспорта                                                                                                                                Идентификационный код закупки(ИКЗ):                                                                                172201426063720140100100040062910244',\n",
       "       '№ 0188300006517000013                                                                                                                                                                                                                                                                                                                                                                                                                                                                                                                            Заказчик:                                                                                                                                                                                                                                                                                                                                                                                АДМИНИСТРАЦИЯ МУНИЦИПАЛЬНОГО ОБРАЗОВАНИЯ ЧУКОТСКИЙ МУНИЦИПАЛЬНЫЙ РАЙОН                                                                                                                                                                                                                                                                                                                                                                                                                                                                                    Поставка легковогоавтомобиля для нужд Администрации муниципального образования Чукотскиймуниципальный район                                                                                                                                Идентификационный код закупки(ИКЗ):                                                                                173870700085087070100100290294511244',\n",
       "       '№ 0134300003417000005                                                                                                                                                                                                                                                                                                                                                                                                                                                                                                                            Заказчик:                                                                                                                                                                                                                                                                                                                                                                                АДМИНИСТРАЦИЯ ЛИСТВЯНСКОГО МУНИЦИПАЛЬНОГО ОБРАЗОВАНИЯ - АДМИНИСТРАЦИЯ ГОРОДСКОГО ПОСЕЛЕНИЯ                                                                                                                                                                                                                                                                                                                                                                                                                                                                                    Средства транспортные с двигателем с искровым зажиганием, с рабочим объемом цилиндров более 1500 см3, новые                                                                                                                                Идентификационный код закупки(ИКЗ):                                                                                173382702069738270100100100092910244',\n",
       "       '№ 0134200000117000691                                                                                                                                                                                                                                                                                                                                                                                                                                                                                Организация, осуществляющая размещение:                                                                                                                                                                    МИНИСТЕРСТВО ПО РЕГУЛИРОВАНИЮ КОНТРАКТНОЙ СИСТЕМЫ В СФЕРЕ ЗАКУПОК ИРКУТСКОЙ ОБЛАСТИ                                                                                                                                                                                                                        поставка легкового автомобиля                                                                                                                                Идентификационный код закупки(ИКЗ):                                                                                172380817240838080100100300012910244',\n",
       "       '№ 0169300061917000011                                                                                                                                                                                                                                                                                                                                                                                                                                                                                                                            Заказчик:                                                                                                                                                                                                                                                                                                                                                                                АДМИНИСТРАЦИЯ ТРАКТОРОЗАВОДСКОГО РАЙОНА ГОРОДА ЧЕЛЯБИНСКА                                                                                                                                                                                                                                                                                                                                                                                                                                                                                    Поставка легкового автомобиля                                                                                                                                Идентификационный код закупки(ИКЗ):                                                                                173745212166074520100100580012910244',\n",
       "       '№ 0530600004017000002                                                                                                                                                                                                                                                                                                                                                                                                                                                                                                                            Заказчик:                                                                                                                                                                                                                                                                                                                                                                                МУНИЦИПАЛЬНОЕ УНИТАРНОЕ ПРЕДПРИЯТИЕ \"УПРАВЛЕНИЕ ТУРИЗМА И НАРОДНЫХ ПРОМЫСЛОВ КИРИЛЛОВСКОГО МУНИЦИПАЛЬНОГО РАЙОНА\"                                                                                                                                                                                                                                                                                                                                                                                                                                                                                    Поставка легкового автомобиля                                                                                                                                Идентификационный код закупки(ИКЗ):                                                                                173351100363135110100100030022910000',\n",
       "       '№ 0173100004517000547                                                                                                                                                                                                                                                                                                                                                                                                                                                                                                                            Заказчик:                                                                                                                                                                                                                                                                                                                                                                                МИНИСТЕРСТВО ОБОРОНЫ РОССИЙСКОЙ ФЕДЕРАЦИИ                                                                                                                                                                                                                                                                                                                                                                                                                                                                                    Поставка легковогопереднеприводного автомобиля среднего класса (отечественного производства) дляобеспечения служебной деятельности.                                                                                                                                Идентификационный код закупки(ИКЗ):                                                                                171770425226177040100150870012910211',\n",
       "       '№ 0319100001017000030                                                                                                                                                                                                                                                                                                                                                                                                                                                                                                                            Заказчик:                                                                                                                                                                                                                                                                                                                                                                                ФЕДЕРАЛЬНОЕ БЮДЖЕТНОЕ УЧРЕЖДЕНИЕ \"АДМИНИСТРАЦИЯ ЕНИСЕЙСКОГО БАССЕЙНА ВНУТРЕННИХ ВОДНЫХ ПУТЕЙ\"                                                                                                                                                                                                                                                                                                                                                                                                                                                                                    Закупка автомобиля                                                                                                                                Идентификационный код закупки(ИКЗ):                                                                                171246601674724660100100520522910244',\n",
       "       '№ 0865200000317000868                                                                                                                                                                                                                                                                                                                                                                                                                                                                                Организация, осуществляющая размещение:                                                                                                                                                                    ОБЛАСТНОЕ ГОСУДАРСТВЕННОЕ КАЗЕННОЕ УЧРЕЖДЕНИЕ \"ЦЕНТР ГОСУДАРСТВЕННЫХ ЗАКУПОК ТОМСКОЙ ОБЛАСТИ\"                                                                                                                                                                                                                        Поставка автомобиля                                                                                                                                Идентификационный код закупки(ИКЗ):                                                                                172702102237570170100100120012910244',\n",
       "       '№ 0817200000317003000                                                                                                                                                                                                                                                                                                                                                                                                                                                                                Организация, осуществляющая размещение:                                                                                                                                                                    КРАЕВОЕ ГОСУДАРСТВЕННОЕ КАЗЕННОЕ УЧРЕЖДЕНИЕ \"ЦЕНТР ГОСУДАРСТВЕННЫХ ЗАКУПОК АЛТАЙСКОГО КРАЯ\"                                                                                                                                                                                                                        Поставка автомобиля для нужд КГКУ \"Региональное жилищное управление\"                                                                                                                                Идентификационный код закупки(ИКЗ):                                                                                172222122882522210100100330012910244',\n",
       "       '№ 0109300026517000001                                                                                                                                                                                                                                                                                                                                                                                                                                                                                                                            Заказчик:                                                                                                                                                                                                                                                                                                                                                                                АДМИНИСТРАЦИЯ КРАСНОМАЙСКОГО СЕЛЬСКОГО ПОСЕЛЕНИЯ КОЧКУРОВСКОГО МУНИЦИПАЛЬНОГО РАЙОНА РЕСПУБЛИКИ МОРДОВИЯ                                                                                                                                                                                                                                                                                                                                                                                                                                                                                    Приобретение легкового автомобиля.                                                                                                                                Идентификационный код закупки(ИКЗ):                                                                                173131309266813130100100010012910244',\n",
       "       '№ 0832200006617000158                                                                                                                                                                                                                                                                                                                                                                                                                                                                                Организация, осуществляющая размещение:                                                                                                                                                                    ГОСУДАРСТВЕННОЕ КАЗЕННОЕ УЧРЕЖДЕНИЕ НИЖЕГОРОДСКОЙ ОБЛАСТИ \"ЦЕНТР РАЗМЕЩЕНИЯ ЗАКАЗА НИЖЕГОРОДСКОЙ ОБЛАСТИ\"                                                                                                                                                                                                                        поставка лесопатрульного автомобиля с лесопожарным оборудованием.                                                                                                                                Идентификационный код закупки(ИКЗ):                                                                                172524600583352460100101300012910244',\n",
       "       '№ 0152300007817000008                                                                                                                                                                                                                                                                                                                                                                                                                                                                                Организация, осуществляющая размещение:                                                                                                                                                                    АДМИНИСТРАЦИЯ БОЛЬШЕРЕЧЕНСКОГО МУНИЦИПАЛЬНОГО РАЙОНА ОМСКОЙ ОБЛАСТИ                                                                                                                                                                                                                        приобретение легковых автомобилей                                                                                                                                Идентификационный код закупки(ИКЗ):                                                                                173551000910555100100100150122910244',\n",
       "       '№ 0319300170717000005                                                                                                                                                                                                                                                                                                                                                                                                                                                                                                                            Заказчик:                                                                                                                                                                                                                                                                                                                                                                                АДМИНИСТРАЦИЯ ИДРИНСКОГО РАЙОНА КРАСНОЯРСКОГО КРАЯ                                                                                                                                                                                                                                                                                                                                                                                                                                                                                    Средства транспортные с двигателем с искровым зажиганием, с рабочим объемом цилиндров более 1500 см3, новые                                                                                                                                Идентификационный код закупки(ИКЗ):                                                                                173241400062624140100100310312910244',\n",
       "       '№ 0101300013117000029                                                                                                                                                                                                                                                                                                                                                                                                                                                                                                                            Заказчик:                                                                                                                                                                                                                                                                                                                                                                                АДМИНИСТРАЦИЯ МУНИЦИПАЛЬНОГО РАЙОНА КРАСНОКАМСКИЙ РАЙОН РЕСПУБЛИКИ БАШКОРТОСТАН                                                                                                                                                                                                                                                                                                                                                                                                                                                                                    Приобретение легкового автомобиля для нужд Администрации муниципального района Краснокамский район Республики Башкортостан                                                                                                                                Идентификационный код закупки(ИКЗ):                                                                                173023100629602310100100610652910244',\n",
       "       '№ 0848300041117000100                                                                                                                                                                                                                                                                                                                                                                                                                                                                                Организация, осуществляющая размещение:                                                                                                                                                                    МУНИЦИПАЛЬНОЕ КАЗЁННОЕ УЧРЕЖДЕНИЕ ГОРОДСКОГО ОКРУГА ОЗЁРЫ \"ЦЕНТР КОНКУРЕНТНЫХ ЗАКУПОК\"                                                                                                                                                                                                                        Поставка легкового автомобиля                                                                                                                                Идентификационный код закупки(ИКЗ):                                                                                173503300233050330100100260252910244',\n",
       "       '№ 0345100003317000092                                                                                                                                                                                                                                                                                                                                                                                                                                                                                                                            Заказчик:                                                                                                                                                                                                                                                                                                                                                                                ФЕДЕРАЛЬНОЕ ГОСУДАРСТВЕННОЕ БЮДЖЕТНОЕ УЧРЕЖДЕНИЕ \"ПЕТЕРБУРГСКИЙ ИНСТИТУТ ЯДЕРНОЙ ФИЗИКИ ИМ.Б.П.КОНСТАНТИНОВА НАЦИОНАЛЬНОГО ИССЛЕДОВАТЕЛЬСКОГО ЦЕНТРА \"КУРЧАТОВСКИЙ ИНСТИТУТ\"                                                                                                                                                                                                                                                                                                                                                                                                                                                                                    Поставка двух легковых автомобилей                                                                                                                                Идентификационный код закупки(ИКЗ):                                                                                171470500185047050100100590052910244',\n",
       "       '№ 0345200017917000155                                                                                                                                                                                                                                                                                                                                                                                                                                                                                                                            Заказчик:                                                                                                                                                                                                                                                                                                                                                                                ГОСУДАРСТВЕННОЕ  КАЗЕННОЕ УЧРЕЖДЕНИЕ ЛЕНИНГРАДСКОЙ ОБЛАСТИ \"ЛЕНИНГРАДСКАЯ ОБЛАСТНАЯ ПРОТИВОПОЖАРНО-СПАСАТЕЛЬНАЯ СЛУЖБА\"                                                                                                                                                                                                                                                                                                                                                                                                                                                                                    Поставка легкового автомобиля                                                                                                                                Идентификационный код закупки(ИКЗ):                                                                                172470603110347060100100610042910244',\n",
       "       '№ 0167300030617000031                                                                                                                                                                                                                                                                                                                                                                                                                                                                                Организация, осуществляющая размещение:                                                                                                                                                                    АДМИНИСТРАЦИЯ ЗАВОДОУКОВСКОГО ГОРОДСКОГО ОКРУГА                                                                                                                                                                                                                        Поставка автотранспортных  средств                                                                                                                                Идентификационный код закупки(ИКЗ):                                                                                173721500390372070100100320012910244',\n",
       "       '№ 0349300046717000127                                                                                                                                                                                                                                                                                                                                                                                                                                                                                Организация, осуществляющая размещение:                                                                                                                                                                    МУНИЦИПАЛЬНОЕ УЧРЕЖДЕНИЕ \"ОТДЕЛ МУНИЦИПАЛЬНОГО ЗАКАЗА АДМИНИСТРАЦИИ КОЛЬСКОГО РАЙОНА\"                                                                                                                                                                                                                        Приобретение и поставка легкового автомобиля                                                                                                                                Идентификационный код закупки(ИКЗ):                                                                                173510503279251050100100620362910244',\n",
       "       '№ 0148300020417000012                                                                                                                                                                                                                                                                                                                                                                                                                                                                                                                            Заказчик:                                                                                                                                                                                                                                                                                                                                                                                АДМИНИСТРАЦИЯ СЕЛЬСКОГО ПОСЕЛЕНИЯ СТРЕМИЛОВСКОЕ ЧЕХОВСКОГО МУНИЦИПАЛЬНОГО РАЙОНА МОСКОВСКОЙ ОБЛАСТИ                                                                                                                                                                                                                                                                                                                                                                                                                                                                                    Поставка транспортного средства                                                                                                                                Идентификационный код закупки(ИКЗ):                                                                                173504805365950480100101100012910244',\n",
       "       '№ 0313100000317000069                                                                                                                                                                                                                                                                                                                                                                                                                                                                                                                            Заказчик:                                                                                                                                                                                                                                                                                                                                                                                ФЕДЕРАЛЬНОЕ КАЗЕННОЕ УЧРЕЖДЕНИЕ \"ГЛАВНОЕ БЮРО МЕДИКО-СОЦИАЛЬНОЙ ЭКСПЕРТИЗЫ ПО УДМУРТСКОЙ РЕСПУБЛИКЕ\" МИНИСТЕРСТВА ТРУДА И СОЦИАЛЬНОЙ ЗАЩИТЫ РОССИЙСКОЙ ФЕДЕРАЦИИ                                                                                                                                                                                                                                                                                                                                                                                                                                                                                    Поставка легкового автомобиля                                                                                                                                Идентификационный код закупки(ИКЗ):                                                                                171183303422118410100100410032910244',\n",
       "       '№ 0137300017517000036                                                                                                                                                                                                                                                                                                                                                                                                                                                                                Организация, осуществляющая размещение:                                                                                                                                                                    МАЛОЯРОСЛАВЕЦКАЯ РАЙОННАЯ АДМИНИСТРАЦИЯ МУНИЦИПАЛЬНОГО РАЙОНА \"МАЛОЯРОСЛАВЕЦКИЙ РАЙОН\"                                                                                                                                                                                                                        Поставка автомобиля для нужд администрации СП \"Село Головтеево\" (реестровый номер 441Э-10/17сб)                                                                                                                                Идентификационный код закупки(ИКЗ):                                                                                173401101690940110100100110092910244',\n",
       "       '№ 0349300046717000111                                                                                                                                                                                                                                                                                                                                                                                                                                                                                Организация, осуществляющая размещение:                                                                                                                                                                    МУНИЦИПАЛЬНОЕ УЧРЕЖДЕНИЕ \"ОТДЕЛ МУНИЦИПАЛЬНОГО ЗАКАЗА АДМИНИСТРАЦИИ КОЛЬСКОГО РАЙОНА\"                                                                                                                                                                                                                        Приобретение и поставка легкового автомобиля                                                                                                                                Идентификационный код закупки(ИКЗ):                                                                                173510503279251050100100630392910244',\n",
       "       '№ 0139200000117003756                                                                                                                                                                                                                                                                                                                                                                                                                                                                                Организация, осуществляющая размещение:                                                                                                                                                                    ДЕПАРТАМЕНТ КОНТРАКТНОЙ СИСТЕМЫ КЕМЕРОВСКОЙ ОБЛАСТИ                                                                                                                                                                                                                        Поставка автомобиля                                                                                                                                Идентификационный код закупки(ИКЗ):                                                                                172420201005542020100104590012910244',\n",
       "       '№ 0373100051917000020                                                                                                                                                                                                                                                                                                                                                                                                                                                                                                                            Заказчик:                                                                                                                                                                                                                                                                                                                                                                                ФЕДЕРАЛЬНОЕ КАЗЕННОЕ УЧРЕЖДЕНИЕ \"ГЛАВНОЕ БЮРО МЕДИКО-СОЦИАЛЬНОЙ ЭКСПЕРТИЗЫ ПО Г. МОСКВЕ\" МИНИСТЕРСТВА ТРУДА И СОЦИАЛЬНОЙ ЗАЩИТЫ РОССИЙСКОЙ ФЕДЕРАЦИИ                                                                                                                                                                                                                                                                                                                                                                                                                                                                                    Поставка легковых автомобилей для нужд ФКУ «ГБ МСЭ по г. Москве» Минтруда России                                                                                                                                 Идентификационный код закупки(ИКЗ):                                                                                171771458563077140100100660132910244',\n",
       "       '№ 0162200011817000516                                                                                                                                                                                                                                                                                                                                                                                                                                                                                Организация, осуществляющая размещение:                                                                                                                                                                    ДЕПАРТАМЕНТ ГОСУДАРСТВЕННЫХ ЗАКУПОК СВЕРДЛОВСКОЙ ОБЛАСТИ                                                                                                                                                                                                                        Поставка легковых автомобилей                                                                                                                                Идентификационный код закупки(ИКЗ):                                                                                172667020558066700100100070014511244',\n",
       "       '№ 0801300011517000024                                                                                                                                                                                                                                                                                                                                                                                                                                                                                Организация, осуществляющая размещение:                                                                                                                                                                    МУНИЦИПАЛЬНОЕ КАЗЕННОЕ УЧРЕЖДЕНИЕ \"УПРАВЛЕНИЕ МУНИЦИПАЛЬНЫМИ ЗАКАЗАМИ\" МУНИЦИПАЛЬНОГО РАЙОНА КАРМАСКАЛИНСКИЙ РАЙОН РЕСПУБЛИКИ БАШКОРТОСТАН                                                                                                                                                                                                                        Поставка легкового автомобиля                                                                                                                                Идентификационный код закупки(ИКЗ):                                                                                173022901019002290100100840412910244',\n",
       "       '№ 0348200081017000030                                                                                                                                                                                                                                                                                                                                                                                                                                                                                                                            Заказчик:                                                                                                                                                                                                                                                                                                                                                                                ГОСУДАРСТВЕННОЕ КАЗЕННОЕ УЧРЕЖДЕНИЕ МОСКОВСКОЙ ОБЛАСТИ \"ДИРЕКЦИЯ ЕДИНОГО ЗАКАЗЧИКА МИНИСТЕРСТВА ЗДРАВООХРАНЕНИЯ МОСКОВСКОЙ ОБЛАСТИ\"                                                                                                                                                                                                                                                                                                                                                                                                                                                                                    Поставка легковых автомобилей                                                                                                                                Идентификационный код закупки(ИКЗ):                                                                                172502406865650240100102160082910244',\n",
       "       '№ 0372200047117000021                                                                                                                                                                                                                                                                                                                                                                                                                                                                                                                            Заказчик:                                                                                                                                                                                                                                                                                                                                                                                САНКТ-ПЕТЕРБУРГСКОЕ ГОСУДАРСТВЕННОЕ КАЗЕННОЕ УЧРЕЖДЕНИЕ \"ГОРОДСКАЯ АВАРИЙНО-ВОССТАНОВИТЕЛЬНАЯ СЛУЖБА ЖИЛИЩНОГО ФОНДА САНКТ-ПЕТЕРБУРГА\"                                                                                                                                                                                                                                                                                                                                                                                                                                                                                    Поставка автомобиля в 2017 году                                                                                                                                Идентификационный код закупки(ИКЗ):                                                                                172784001162878400100100820012910244',\n",
       "       '№ 0315100007317000038                                                                                                                                                                                                                                                                                                                                                                                                                                                                                                                            Заказчик:                                                                                                                                                                                                                                                                                                                                                                                ФЕДЕРАЛЬНОЕ КАЗЕННОЕ УЧРЕЖДЕНИЕ \"ЛЕЧЕБНОЕ ИСПРАВИТЕЛЬНОЕ УЧРЕЖДЕНИЕ № 7 УПРАВЛЕНИЯ ФЕДЕРАЛЬНОЙ СЛУЖБЫ ИСПОЛНЕНИЯ НАКАЗАНИЙ ПО ЧУВАШСКОЙ РЕСПУБЛИКЕ - ЧУВАШИИ\"                                                                                                                                                                                                                                                                                                                                                                                                                                                                                    автомобиль                                                                                                                                Идентификационный код закупки(ИКЗ):                                                                                171211500366821150100100450012910244',\n",
       "       '№ 0142300027117000075                                                                                                                                                                                                                                                                                                                                                                                                                                                                                Организация, осуществляющая размещение:                                                                                                                                                                    АДМИНИСТРАЦИЯ МУНИЦИПАЛЬНОГО РАЙОНА СТАВРОПОЛЬСКИЙ САМАРСКОЙ ОБЛАСТИ                                                                                                                                                                                                                        Поставка легкового автомобиля                                                                                                                                Идентификационный код закупки(ИКЗ):                                                                                173638205052363820100100380382910244',\n",
       "       '№ 0332300331017000014                                                                                                                                                                                                                                                                                                                                                                                                                                                                                Организация, осуществляющая размещение:                                                                                                                                                                    АДМИНИСТРАЦИЯ ВЕТЛУЖСКОГО  МУНИЦИПАЛЬНОГО РАЙОНА НИЖЕГОРОДСКОЙ ОБЛАСТИ                                                                                                                                                                                                                        Средства транспортные с двигателем с искровым зажиганием, с рабочим объемом цилиндров более 1500 см3, новые                                                                                                                                Идентификационный код закупки(ИКЗ):                                                                                173520900431052090100100320012910244',\n",
       "       '№ 0352100001117000143                                                                                                                                                                                                                                                                                                                                                                                                                                                                                                                            Заказчик:                                                                                                                                                                                                                                                                                                                                                                                УПРАВЛЕНИЕ СУДЕБНОГО ДЕПАРТАМЕНТА В ОМСКОЙ ОБЛАСТИ                                                                                                                                                                                                                                                                                                                                                                                                                                                                                    поставка автомобиля                                                                                                                                Идентификационный код закупки(ИКЗ):                                                                                171550304367355030100100760022910244',\n",
       "       '№ 0139200000117005007                                                                                                                                                                                                                                                                                                                                                                                                                                                                                Организация, осуществляющая размещение:                                                                                                                                                                    ДЕПАРТАМЕНТ КОНТРАКТНОЙ СИСТЕМЫ КЕМЕРОВСКОЙ ОБЛАСТИ                                                                                                                                                                                                                        Поставка легкового автомобиля                                                                                                                                Идентификационный код закупки(ИКЗ):                                                                                172422302126642230100101380012910244',\n",
       "       '№ 0350100000617000013                                                                                                                                                                                                                                                                                                                                                                                                                                                                                                                            Заказчик:                                                                                                                                                                                                                                                                                                                                                                                ФЕДЕРАЛЬНОЕ КАЗЕННОЕ УЧРЕЖДЕНИЕ \"ГЛАВНОЕ БЮРО МЕДИКО-СОЦИАЛЬНОЙ ЭКСПЕРТИЗЫ ПО НОВГОРОДСКОЙ ОБЛАСТИ\" МИНИСТЕРСТВА ТРУДА И СОЦИАЛЬНОЙ ЗАЩИТЫ РОССИЙСКОЙ ФЕДЕРАЦИИ                                                                                                                                                                                                                                                                                                                                                                                                                                                                                    поставка служебных легковых автомобилей                                                                                                                                Идентификационный код закупки(ИКЗ):                                                                                171532110088853210100100200012910244',\n",
       "       '№ 0309100009217000049                                                                                                                                                                                                                                                                                                                                                                                                                                                                                                                            Заказчик:                                                                                                                                                                                                                                                                                                                                                                                ФЕДЕРАЛЬНОЕ КАЗЕННОЕ УЧРЕЖДЕНИЕ \"ГЛАВНОЕ БЮРО МЕДИКО-СОЦИАЛЬНОЙ ЭКСПЕРТИЗЫ ПО РЕСПУБЛИКЕ МОРДОВИЯ\" МИНИСТЕРСТВА ТРУДА И СОЦИАЛЬНОЙ ЗАЩИТЫ РОССИЙСКОЙ ФЕДЕРАЦИИ                                                                                                                                                                                                                                                                                                                                                                                                                                                                                    приобретение автомобиля                                                                                                                                 Идентификационный код закупки(ИКЗ):                                                                                171132619236313260100100570572910244',\n",
       "       '№ 0142100000217000007                                                                                                                                                                                                                                                                                                                                                                                                                                                                                                                            Заказчик:                                                                                                                                                                                                                                                                                                                                                                                УПРАВЛЕНИЕ  ФЕДЕРАЛЬНОЙ  АНТИМОНОПОЛЬНОЙ  СЛУЖБЫ  ПО  САМАРСКОЙ ОБЛАСТИ                                                                                                                                                                                                                                                                                                                                                                                                                                                                                    Средства транспортные с двигателем с искровым зажиганием, с рабочим объемом цилиндров не более 1500 см3, новые                                                                                                                                Идентификационный код закупки(ИКЗ):                                                                                171631580234463160100100100012910244',\n",
       "       '№ 0139200000117005001                                                                                                                                                                                                                                                                                                                                                                                                                                                                                Организация, осуществляющая размещение:                                                                                                                                                                    ДЕПАРТАМЕНТ КОНТРАКТНОЙ СИСТЕМЫ КЕМЕРОВСКОЙ ОБЛАСТИ                                                                                                                                                                                                                        Поставка автомобиля легкового                                                                                                                                Идентификационный код закупки(ИКЗ):                                                                                172422302104042230100100100012910244',\n",
       "       '№ 0801300012217000078                                                                                                                                                                                                                                                                                                                                                                                                                                                                                Организация, осуществляющая размещение:                                                                                                                                                                    МУНИЦИПАЛЬНОЕ КАЗЕННОЕ УЧРЕЖДЕНИЕ \"УПРАВЛЕНИЕ КООРДИНАЦИИ, ПРАВОВОЙ ЭКСПЕРТИЗЫ И РАЗМЕЩЕНИЯ ЗАКУПОК МУНИЦИПАЛЬНОГО РАЙОНА УЧАЛИНСКИЙ РАЙОН РЕСПУБЛИКИ БАШКОРТОСТАН\"                                                                                                                                                                                                                        Приобретение легкового автомобиля для нужд администрации сельского поселения Кунакбаевский сельсовет МР Учалинский район РБ                                                                                                                                Идентификационный код закупки(ИКЗ):                                                                                173027000373202700100100060062910244',\n",
       "       '№ 0136300011017000048                                                                                                                                                                                                                                                                                                                                                                                                                                                                                Организация, осуществляющая размещение:                                                                                                                                                                    АДМИНИСТРАЦИЯ КУВШИНОВСКОГО РАЙОНА                                                                                                                                                                                                                        Приобретение легкового автомобиля LADA 4x4 3D (1.7 л) для нужд Муниципального учрежденияАдминистрация Прямухинского сельского поселения                                                                                                                                Идентификационный код закупки(ИКЗ):                                                                                173692900418569290100100010012910244',\n",
       "       '№ 0134300090017000140                                                                                                                                                                                                                                                                                                                                                                                                                                                                                Организация, осуществляющая размещение:                                                                                                                                                                    АДМИНИСТРАЦИЯ ГОРОДА ИРКУТСКА                                                                                                                                                                                                                        Поставка автомобилей                                                                                                                                Идентификационный код закупки(ИКЗ):                                                                                173380813559738080100100910912910244',\n",
       "       '№ 0115200001117001284                                                                                                                                                                                                                                                                                                                                                                                                                                                                                Организация, осуществляющая размещение:                                                                                                                                                                    ГОСУДАРСТВЕННАЯ СЛУЖБА ЧУВАШСКОЙ РЕСПУБЛИКИ ПО КОНКУРЕНТНОЙ ПОЛИТИКЕ И ТАРИФАМ                                                                                                                                                                                                                        Поставка легкового автомобиля                                                                                                                                 Идентификационный код закупки(ИКЗ):                                                                                172213000352821300100100120122910244',\n",
       "       '№ 0130300045617000051                                                                                                                                                                                                                                                                                                                                                                                                                                                                                Организация, осуществляющая размещение:                                                                                                                                                                    УПРАВЛЕНИЕ ПО ЭКОНОМИЧЕСКОЙ ПОЛИТИКЕ И СЕЛЬСКОМУ ХОЗЯЙСТВУ АДМИНИСТРАЦИИ КИЧМЕНГСКО-ГОРОДЕЦКОГО МУНИЦИПАЛЬНОГО РАЙОНА                                                                                                                                                                                                                        покупка автомобиля                                                                                                                                Идентификационный код закупки(ИКЗ):                                                                                173351200594535120100100040042910244',\n",
       "       '№ 0855200000517000597                                                                                                                                                                                                                                                                                                                                                                                                                                                                                Организация, осуществляющая размещение:                                                                                                                                                                    ГОСУДАРСТВЕННОЕ КАЗЕННОЕ УЧРЕЖДЕНИЕ ПЕНЗЕНСКОЙ ОБЛАСТИ \"УПРАВЛЕНИЕ ПО ОСУЩЕСТВЛЕНИЮ ЗАКУПОК ПЕНЗЕНСКОЙ ОБЛАСТИ\"                                                                                                                                                                                                                        Поставка легкового автомобиля                                                                                                                                Идентификационный код закупки(ИКЗ):                                                                                172583601246358360100100710012910244',\n",
       "       '№ 0115200001117001111                                                                                                                                                                                                                                                                                                                                                                                                                                                                                Организация, осуществляющая размещение:                                                                                                                                                                    ГОСУДАРСТВЕННАЯ СЛУЖБА ЧУВАШСКОЙ РЕСПУБЛИКИ ПО КОНКУРЕНТНОЙ ПОЛИТИКЕ И ТАРИФАМ                                                                                                                                                                                                                        поставка легкового автомобиля                                                                                                                                Идентификационный код закупки(ИКЗ):                                                                                172212804581021300100100140082910244',\n",
       "       '№ 0391100014517000046                                                                                                                                                                                                                                                                                                                                                                                                                                                                                                                            Заказчик:                                                                                                                                                                                                                                                                                                                                                                                ПРОКУРАТУРА ЗАБАЙКАЛЬСКОГО КРАЯ                                                                                                                                                                                                                                                                                                                                                                                                                                                                                    Приобретение легковых автомобилей                                                                                                                                Идентификационный код закупки(ИКЗ):                                                                                171753609005575360100100360022910244',\n",
       "       '№ 0372200011717000047                                                                                                                                                                                                                                                                                                                                                                                                                                                                                                                            Заказчик:                                                                                                                                                                                                                                                                                                                                                                                САНКТ-ПЕТЕРБУРГСКОЕ ГОСУДАРСТВЕННОЕ БЮДЖЕТНОЕ УЧРЕЖДЕНИЕ ЗДРАВООХРАНЕНИЯ \"ГОРОДСКАЯ ПОЛИКЛИНИКА № 52\"                                                                                                                                                                                                                                                                                                                                                                                                                                                                                    Приобретение легкового автомобиля для нужд СПб ГБУЗ «Городская поликлиника №52» в 2017 году                                                                                                                                Идентификационный код закупки(ИКЗ):                                                                                172780206178778020100101430012910244',\n",
       "       '№ 0152300045417000012                                                                                                                                                                                                                                                                                                                                                                                                                                                                                Организация, осуществляющая размещение:                                                                                                                                                                    \"АДМИНИСТРАЦИЯ ЛЮБИНСКОГО МУНИЦИПАЛЬНОГО РАЙОНА ОМСКОЙ ОБЛАСТИ\"                                                                                                                                                                                                                        Поставка легкового автомобиля                                                                                                                                Идентификационный код закупки(ИКЗ):                                                                                173551920029755190100100080012910244',\n",
       "       '№ 0146100001217000003                                                                                                                                                                                                                                                                                                                                                                                                                                                                                                                            Заказчик:                                                                                                                                                                                                                                                                                                                                                                                ГОСУДАРСТВЕННАЯ ИНСПЕКЦИЯ ТРУДА В ЛИПЕЦКОЙ ОБЛАСТИ                                                                                                                                                                                                                                                                                                                                                                                                                                                                                    Средства транспортные с двигателем с искровым зажиганием, с рабочим объемом цилиндров более 1500 см3                                                                                                                                Идентификационный код закупки(ИКЗ):                                                                                171482601070848250100100060062910244',\n",
       "       '№ 0551300008117000001                                                                                                                                                                                                                                                                                                                                                                                                                                                                                                                            Заказчик:                                                                                                                                                                                                                                                                                                                                                                                МУНИЦИПАЛЬНОЕ УНИТАРНОЕ ПРЕДПРИЯТИЕ ЖИЛИЩНО-КОММУНАЛЬНОГО ХОЗЯЙСТВА Г. БАРАБИНСКА                                                                                                                                                                                                                                                                                                                                                                                                                                                                                    Средства транспортные с двигателем с искровым зажиганием, с рабочим объемом цилиндров более 1500 см3, новые                                                                                                                                Идентификационный код закупки(ИКЗ):                                                                                173545111078154510100100020022910244',\n",
       "       '№ 0301300451917000063                                                                                                                                                                                                                                                                                                                                                                                                                                                                                Организация, осуществляющая размещение:                                                                                                                                                                    МУНИЦИПАЛЬНОЕ КАЗЕННОЕ УЧРЕЖДЕНИЕ \"УПРАВЛЕНИЕ МУНИЦИПАЛЬНЫМИ ЗАКАЗАМИ\" МУНИЦИПАЛЬНОГО РАЙОНА ЯНАУЛЬСКИЙ РАЙОН РЕСПУБЛИКИ БАШКОРТОСТАН                                                                                                                                                                                                                        Поставка легкового автомобиля для нужд Муниципального казенного учреждения \"Управления образования муниципального района Янаульский район Республики Башкортостан\"                                                                                                                                Идентификационный код закупки(ИКЗ):                                                                                173027101059502710100100140012910244',\n",
       "       '№ 0153300066917000389                                                                                                                                                                                                                                                                                                                                                                                                                                                                                Организация, осуществляющая размещение:                                                                                                                                                                    АДМИНИСТРАЦИЯ ГОРОДА ОРЕНБУРГА                                                                                                                                                                                                                        Поставка легкового автомобиля                                                                                                                                Идентификационный код закупки(ИКЗ):                                                                                173561013830556100100100120012910244',\n",
       "       '№ 0142200001317004697                                                                                                                                                                                                                                                                                                                                                                                                                                                                                Организация, осуществляющая размещение:                                                                                                                                                                    ГЛАВНОЕ  УПРАВЛЕНИЕ  ОРГАНИЗАЦИИ  ТОРГОВ  САМАРСКОЙ ОБЛАСТИ                                                                                                                                                                                                                        Поставка легкового автомобиля  для нужд ГУП «Экология».                                                                                                                                Идентификационный код закупки(ИКЗ):                                                                                172631602944863160100100190012910000',\n",
       "       '№ 0133300006617000081                                                                                                                                                                                                                                                                                                                                                                                                                                                                                Организация, осуществляющая размещение:                                                                                                                                                                    АДМИНИСТРАЦИЯ ГОРОДСКОГО ОКРУГА ШУЯ                                                                                                                                                                                                                        Поставка легкового автомобиля                                                                                                                                 Идентификационный код закупки(ИКЗ):                                                                                173370601729837060100100250032910244',\n",
       "       '№ 0573100006917000012                                                                                                                                                                                                                                                                                                                                                                                                                                                                                                                            Заказчик:                                                                                                                                                                                                                                                                                                                                                                                ФЕДЕРАЛЬНОЕ ГОСУДАРСТВЕННОЕ УНИТАРНОЕ ПРЕДПРИЯТИЕ \"МОСКОВСКИЙ ЗАВОД ПО ОБРАБОТКЕ СПЕЦИАЛЬНЫХ СПЛАВОВ\"                                                                                                                                                                                                                                                                                                                                                                                                                                                                                    Приобретение легкового автомобиля для нужд ФГУП \"МЗСС\"                                                                                                                                 Идентификационный код закупки(ИКЗ):                                                                                171772801066377280100100230232910000',\n",
       "       '№ 0166200002617000015                                                                                                                                                                                                                                                                                                                                                                                                                                                                                                                            Заказчик:                                                                                                                                                                                                                                                                                                                                                                                ТУЛЬСКАЯ ОБЛАСТНАЯ ДУМА                                                                                                                                                                                                                                                                                                                                                                                                                                                                                    Приобретение легкового автомобиля в 2017 году                                                                                                                                Идентификационный код закупки(ИКЗ):                                                                                172710703236871070100100240192910244',\n",
       "       '№ 0112200000817000754                                                                                                                                                                                                                                                                                                                                                                                                                                                                                Организация, осуществляющая размещение:                                                                                                                                                                    МИНИСТЕРСТВО РЕСПУБЛИКИ ТЫВА ПО РЕГУЛИРОВАНИЮ КОНТРАКТНОЙ СИСТЕМЫ В СФЕРЕ ЗАКУПОК                                                                                                                                                                                                                        Поставка автомобиля для нужд РГБУ \"Природный парк \"Тыва\"                                                                                                                                Идентификационный код закупки(ИКЗ):                                                                                172170105010717010100100010022910611',\n",
       "       '№ 0358300431217000006                                                                                                                                                                                                                                                                                                                                                                                                                                                                                                                            Заказчик:                                                                                                                                                                                                                                                                                                                                                                                МУНИЦИПАЛЬНОЕ БЮДЖЕТНОЕ УЧРЕЖДЕНИЕ ТАЦИНСКОГО РАЙОНА  \"СТРОЙЗАКАЗЧИК\"                                                                                                                                                                                                                                                                                                                                                                                                                                                                                    Легковой автомобиль                                                                                                                                 Идентификационный код закупки(ИКЗ):                                                                                173613400839461340100100170072910244',\n",
       "       '№ 0112200000817000675                                                                                                                                                                                                                                                                                                                                                                                                                                                                                Организация, осуществляющая размещение:                                                                                                                                                                    МИНИСТЕРСТВО РЕСПУБЛИКИ ТЫВА ПО РЕГУЛИРОВАНИЮ КОНТРАКТНОЙ СИСТЕМЫ В СФЕРЕ ЗАКУПОК                                                                                                                                                                                                                        Покупка автотранспортных средств для нужд ГБУ РТ \"Автобаза по обеспечению деятельности исполнительных и законодательного органов государственной власти Республики Тыва\"                                                                                                                                Идентификационный код закупки(ИКЗ):                                                                                172170104107817010100100120032910244',\n",
       "       '№ 0112200000817000709                                                                                                                                                                                                                                                                                                                                                                                                                                                                                Организация, осуществляющая размещение:                                                                                                                                                                    МИНИСТЕРСТВО РЕСПУБЛИКИ ТЫВА ПО РЕГУЛИРОВАНИЮ КОНТРАКТНОЙ СИСТЕМЫ В СФЕРЕ ЗАКУПОК                                                                                                                                                                                                                        Покупка автотранспортных средств для нужд ГБУ РТ \"Автобаза по обеспечению деятельности исполнительных и законодательного органов государственной власти Республики Тыва\"                                                                                                                                Идентификационный код закупки(ИКЗ):                                                                                172170104107817010100100120012910244',\n",
       "       '№ 0356100010417000106                                                                                                                                                                                                                                                                                                                                                                                                                                                                                                                            Заказчик:                                                                                                                                                                                                                                                                                                                                                                                ФЕДЕРАЛЬНОЕ КАЗЕННОЕ УЧРЕЖДЕНИЕ \"ГЛАВНОЕ БЮРО МЕДИКО-СОЦИАЛЬНОЙ ЭКСПЕРТИЗЫ ПО ПЕРМСКОМУ КРАЮ\" МИНИСТЕРСТВА ТРУДА И СОЦИАЛЬНОЙ ЗАЩИТЫ РОССИЙСКОЙ ФЕДЕРАЦИИ                                                                                                                                                                                                                                                                                                                                                                                                                                                                                    Прочая закупка товара для обеспечения государственных нужд (легковые автомобили)                                                                                                                                Идентификационный код закупки(ИКЗ):                                                                                171590412346059040100101790012910244',\n",
       "       '№ 0117300067817000042                                                                                                                                                                                                                                                                                                                                                                                                                                                                                Организация, осуществляющая размещение:                                                                                                                                                                    АДМИНИСТРАЦИЯ ГОРОДА БИЙСКА                                                                                                                                                                                                                        Поставка автомобиля                                                                                                                                 Идентификационный код закупки(ИКЗ):                                                                                173220400054922040100100630272910000',\n",
       "       '№ 0115200001117001047                                                                                                                                                                                                                                                                                                                                                                                                                                                                                Организация, осуществляющая размещение:                                                                                                                                                                    ГОСУДАРСТВЕННАЯ СЛУЖБА ЧУВАШСКОЙ РЕСПУБЛИКИ ПО КОНКУРЕНТНОЙ ПОЛИТИКЕ И ТАРИФАМ                                                                                                                                                                                                                        поставка легкового автомобиля                                                                                                                                Идентификационный код закупки(ИКЗ):                                                                                172212804581021300100100160102910244',\n",
       "       '№ 0103200008417001655                                                                                                                                                                                                                                                                                                                                                                                                                                                                                Организация, осуществляющая размещение:                                                                                                                                                                    КОМИТЕТ ПО ГОСУДАРСТВЕННЫМ ЗАКУПКАМ РЕСПУБЛИКИ ДАГЕСТАН                                                                                                                                                                                                                        Автомобиль                                                                                                                                 Идентификационный код закупки(ИКЗ):                                                                                172056204588105720100100170172910244',\n",
       "       '№ 0865200000317000595                                                                                                                                                                                                                                                                                                                                                                                                                                                                                Организация, осуществляющая размещение:                                                                                                                                                                    ОБЛАСТНОЕ ГОСУДАРСТВЕННОЕ КАЗЕННОЕ УЧРЕЖДЕНИЕ \"ЦЕНТР ГОСУДАРСТВЕННЫХ ЗАКУПОК ТОМСКОЙ ОБЛАСТИ\"                                                                                                                                                                                                                        Поставка легкового автомобиля                                                                                                                                Идентификационный код закупки(ИКЗ):                                                                                172701706490470170100100080012910244',\n",
       "       '№ 0101300031717000010                                                                                                                                                                                                                                                                                                                                                                                                                                                                                                                            Заказчик:                                                                                                                                                                                                                                                                                                                                                                                АДМИНИСТРАЦИЯ МУНИЦИПАЛЬНОГО РАЙОНА КУГАРЧИНСКИЙ РАЙОН РЕСПУБЛИКИ БАШКОРТОСТАН                                                                                                                                                                                                                                                                                                                                                                                                                                                                                    Приобретение и поставка легкового автомобиля для нужд Администрации муниципального района Кугарчинский район Республики Башкортостан                                                                                                                                Идентификационный код закупки(ИКЗ):                                                                                173023200675702320100100150152910244',\n",
       "       '№ 0146300008817000001                                                                                                                                                                                                                                                                                                                                                                                                                                                                                                                            Заказчик:                                                                                                                                                                                                                                                                                                                                                                                АДМИНИСТРАЦИЯ ВОЛОВСКОГО МУНИЦИПАЛЬНОГО РАЙОНА ЛИПЕЦКОЙ ОБЛАСТИ РОССИЙСКОЙ ФЕДЕРАЦИИ                                                                                                                                                                                                                                                                                                                                                                                                                                                                                    Закупкалегкового автомобиля                                                                                                                                Идентификационный код закупки(ИКЗ):                                                                                173480100112348010100100090012910244',\n",
       "       '№ 0122300006117000347                                                                                                                                                                                                                                                                                                                                                                                                                                                                                Организация, осуществляющая размещение:                                                                                                                                                                    АДМИНИСТРАЦИЯ ГОРОДА ХАБАРОВСКА                                                                                                                                                                                                                        Поставка легкового автомобиля                                                                                                                                Идентификационный код закупки(ИКЗ):                                                                                173272414627027240100100010092910244',\n",
       "       '№ 0325100000417000009                                                                                                                                                                                                                                                                                                                                                                                                                                                                                                                            Заказчик:                                                                                                                                                                                                                                                                                                                                                                                ФЕДЕРАЛЬНОЕ КАЗЁННОЕ УЧРЕЖДЕНИЕ ЗДРАВООХРАНЕНИЯ \"АСТРАХАНСКАЯ ПРОТИВОЧУМНАЯ СТАНЦИЯ\" ФЕДЕРАЛЬНОЙ СЛУЖБЫ ПО НАДЗОРУ В СФЕРЕ ЗАЩИТЫ ПРАВ ПОТРЕБИТЕЛЕЙ И БЛАГОПОЛУЧИЯ ЧЕЛОВЕКА                                                                                                                                                                                                                                                                                                                                                                                                                                                                                    Поставка автомобиля                                                                                                                                Идентификационный код закупки(ИКЗ):                                                                                171301700248130250100100300212910244',\n",
       "       '№ 0258100000317000223                                                                                                                                                                                                                                                                                                                                                                                                                                                                                                                            Заказчик:                                                                                                                                                                                                                                                                                                                                                                                ГОСУДАРСТВЕННОЕ УЧРЕЖДЕНИЕ - РОСТОВСКОЕ РЕГИОНАЛЬНОЕ ОТДЕЛЕНИЕ ФОНДА СОЦИАЛЬНОГО СТРАХОВАНИЯ РОССИЙСКОЙ ФЕДЕРАЦИИ                                                                                                                                                                                                                                                                                                                                                                                                                                                                                    Средства автотранспортные. Поставка в  2017 году автомобилей с адаптированными органами управления, с механической трансмиссией, предназначенных  для застрахованных лиц с ограниченными физическими возможностями, получивших повреждение здоровья вследствие несчастного случая на производстве и (или) профессионального заболевания, используемых для их реабилитации.                                                                                                                                Идентификационный код закупки(ИКЗ):                                                                                171616501961461640100101640022910323',\n",
       "       '№ 0348200053517000041                                                                                                                                                                                                                                                                                                                                                                                                                                                                                                                            Заказчик:                                                                                                                                                                                                                                                                                                                                                                                ГОСУДАРСТВЕННОЕ БЮДЖЕТНОЕ УЧРЕЖДЕНИЕ ЗДРАВООХРАНЕНИЯ МОСКОВСКОЙ ОБЛАСТИ \"МОСКОВСКИЙ ОБЛАСТНОЙ ПРОТИВОТУБЕРКУЛЕЗНЫЙ ДИСПАНСЕР\"                                                                                                                                                                                                                                                                                                                                                                                                                                                                                    Поставка специализированного автотранспортного средства класса А для нужд ГБУЗ МО \"МОПТД\" в 2017 году                                                                                                                                Идентификационный код закупки(ИКЗ):                                                                                172771518673350500100101140032910244',\n",
       "       '№ 0131300000617000635                                                                                                                                                                                                                                                                                                                                                                                                                                                                                Организация, осуществляющая размещение:                                                                                                                                                                    АДМИНИСТРАЦИЯ ГОРОДСКОГО ОКРУГА ГОРОД ВОРОНЕЖ                                                                                                                                                                                                                        поставка легкового автомобиля                                                                                                                                Идентификационный код закупки(ИКЗ):                                                                                173365000223336660100100140012910244',\n",
       "       '№ 0118300018717000649                                                                                                                                                                                                                                                                                                                                                                                                                                                                                Организация, осуществляющая размещение:                                                                                                                                                                    АДМИНИСТРАЦИЯ ГОРОДА СОЧИ - ИСПОЛНИТЕЛЬНО-РАСПОРЯДИТЕЛЬНЫЙ ОРГАН МУНИЦИПАЛЬНОГО ОБРАЗОВАНИЯ ГОРОД-КУРОРТ СОЧИ                                                                                                                                                                                                                        Поставка автотранспортных средств для нужд МКУ \"По обеспечению деятельности администрации города Сочи\"                                                                                                                                Идентификационный код закупки(ИКЗ):                                                                                173232019396523200100100420422910244',\n",
       "       '№ 0320300034117000009                                                                                                                                                                                                                                                                                                                                                                                                                                                                                                                            Заказчик:                                                                                                                                                                                                                                                                                                                                                                                КРАЕВОЕ ГОСУДАРСТВЕННОЕ БЮДЖЕТНОЕ УЧРЕЖДЕНИЕ ЗДРАВООХРАНЕНИЯ \"ОЛЬГИНСКАЯ ЦЕНТРАЛЬНАЯ РАЙОННАЯ БОЛЬНИЦА\"                                                                                                                                                                                                                                                                                                                                                                                                                                                                                    Приобретение особо ценного и другого движимого имущества                                                                                                                                Идентификационный код закупки(ИКЗ):                                                                                172252300076025230100100330420000244',\n",
       "       '№ 0167200003417001735                                                                                                                                                                                                                                                                                                                                                                                                                                                                                Организация, осуществляющая размещение:                                                                                                                                                                    УПРАВЛЕНИЕ ГОСУДАРСТВЕННЫХ ЗАКУПОК ТЮМЕНСКОЙ ОБЛАСТИ                                                                                                                                                                                                                        АЭ-1480/17 на поставку автомобилей                                                                                                                                Идентификационный код закупки(ИКЗ):                                                                                172720213702572030100100210012910244',\n",
       "       '№ 0464100001017000011                                                                                                                                                                                                                                                                                                                                                                                                                                                                                                                            Заказчик:                                                                                                                                                                                                                                                                                                                                                                                ФЕДЕРАЛЬНОЕ ГОСУДАРСТВЕННОЕ УНИТАРНОЕ ПРЕДПРИЯТИЕ \"ПЛЕМЕННОЙ ЗАВОД \"ПРИГОРОДНЫЙ\"                                                                                                                                                                                                                                                                                                                                                                                                                                                                                    поставка легкового автомобиля                                                                                                                                Идентификационный код закупки(ИКЗ):                                                                                171682000252868200100100130132910000',\n",
       "       '№ 0563600004917000010                                                                                                                                                                                                                                                                                                                                                                                                                                                                                                                            Заказчик:                                                                                                                                                                                                                                                                                                                                                                                МУНИЦИПАЛЬНОЕ УНИТАРНОЕ СЕЛЬСКОХОЗЯЙСТВЕННОЕ ПРЕДПРИЯТИЕ \"РАДУГА\" МУНИЦИПАЛЬНОГО ОБРАЗОВАНИЯ \"РОСЛАВЛЬСКИЙ РАЙОН\" СМОЛЕНСКОЙ ОБЛАСТИ                                                                                                                                                                                                                                                                                                                                                                                                                                                                                    Поставка легкового автомобиля                                                                                                                                Идентификационный код закупки(ИКЗ):                                                                                173672501340067250100100120162910000',\n",
       "       '№ 0169300038717000257                                                                                                                                                                                                                                                                                                                                                                                                                                                                                Организация, осуществляющая размещение:                                                                                                                                                                    Администрация Ашинского муниципального района                                                                                                                                                                                                                        Поставка легкового автомобиля для нужд администрации Укского сельского поселения Ашинского муниципального района                                                                                                                                Идентификационный код закупки(ИКЗ):                                                                                173740100141374570100100050052910244',\n",
       "       '№ 0187300005817000108                                                                                                                                                                                                                                                                                                                                                                                                                                                                                Организация, осуществляющая размещение:                                                                                                                                                                    АДМИНИСТРАЦИЯ ГОРОДА ЮГОРСКА                                                                                                                                                                                                                        Поставка легкового автомобиля                                                                                                                                Идентификационный код закупки(ИКЗ):                                                                                173862201554386220100100280012910244',\n",
       "       '№ 0372100009017000074                                                                                                                                                                                                                                                                                                                                                                                                                                                                                                                            Заказчик:                                                                                                                                                                                                                                                                                                                                                                                ГЛАВНОЕ СЛЕДСТВЕННОЕ УПРАВЛЕНИЕ СЛЕДСТВЕННОГО КОМИТЕТА РОССИЙСКОЙ ФЕДЕРАЦИИ ПО ГОРОДУ САНКТ-ПЕТЕРБУРГУ                                                                                                                                                                                                                                                                                                                                                                                                                                                                                    Поставка легкового автомобиля                                                                                                                                Идентификационный код закупки(ИКЗ):                                                                                171783845442178380100100730012910244',\n",
       "       '№ 0225100000117000095                                                                                                                                                                                                                                                                                                                                                                                                                                                                                                                            Заказчик:                                                                                                                                                                                                                                                                                                                                                                                ГОСУДАРСТВЕННОЕ УЧРЕЖДЕНИЕ- АСТРАХАНСКОЕ РЕГИОНАЛЬНОЕ ОТДЕЛЕНИЕ ФОНДА СОЦИАЛЬНОГО СТРАХОВАНИЯ РОССИЙСКОЙ ФЕДЕРАЦИИ                                                                                                                                                                                                                                                                                                                                                                                                                                                                                    Средства транспортные с двигателем с искровым зажиганием, с рабочим объемом цилиндров более 1500 см3, новые                                                                                                                                Идентификационный код закупки(ИКЗ):                                                                                171301501094530150100100330042910323',\n",
       "       '№ 0115200001117001282                                                                                                                                                                                                                                                                                                                                                                                                                                                                                Организация, осуществляющая размещение:                                                                                                                                                                    ГОСУДАРСТВЕННАЯ СЛУЖБА ЧУВАШСКОЙ РЕСПУБЛИКИ ПО КОНКУРЕНТНОЙ ПОЛИТИКЕ И ТАРИФАМ                                                                                                                                                                                                                        Поставка легкового автомобиля                                                                                                                                Идентификационный код закупки(ИКЗ):                                                                                172213000352821300100100110112910244',\n",
       "       '№ 0360300310017000043                                                                                                                                                                                                                                                                                                                                                                                                                                                                                                                            Заказчик:                                                                                                                                                                                                                                                                                                                                                                                МУНИЦИПАЛЬНОЕ БЮДЖЕТНОЕ УЧРЕЖДЕНИЕ \"ГОРОДСКОЕ ХОЗЯЙСТВО МУНИЦИПАЛЬНОГО ОБРАЗОВАНИЯ ГОРОД ЭНГЕЛЬС ЭНГЕЛЬССКОГО МУНИЦИПАЛЬНОГО РАЙОНА САРАТОВСКОЙ ОБЛАСТИ\"                                                                                                                                                                                                                                                                                                                                                                                                                                                                                    Поставка легкового автомобиля Renault Duster (или эквивалент)                                                                                                                                Идентификационный код закупки(ИКЗ):                                                                                173644905142864490100100520012910244',\n",
       "       '№ 0157300006917000011                                                                                                                                                                                                                                                                                                                                                                                                                                                                                Организация, осуществляющая размещение:                                                                                                                                                                    АДМИНИСТРАЦИЯ ПСКОВСКОГО РАЙОНА                                                                                                                                                                                                                        Приобретение автомобиля                                                                                                                                Идентификационный код закупки(ИКЗ):                                                                                173603700486060370100100020012910612',\n",
       "       '№ 0301300246417000002                                                                                                                                                                                                                                                                                                                                                                                                                                                                                                                            Заказчик:                                                                                                                                                                                                                                                                                                                                                                                МУНИЦИПАЛЬНОЕ КАЗЕННОЕ УЧРЕЖДЕНИЕ \"ОТДЕЛ ОБРАЗОВАНИЯ АДМИНИСТРАЦИИ МУНИЦИПАЛЬНОГО РАЙОНА ЧЕКМАГУШЕВСКИЙ РАЙОН РЕСПУБЛИКИ БАШКОРТОСТАН\"                                                                                                                                                                                                                                                                                                                                                                                                                                                                                    Поставка легкового автомобиля для нужд Муниципального казенного учреждения \"Отдел образования муниципального района Чекмагушевский район Республики Башкортостан\"                                                                                                                                Идентификационный код закупки(ИКЗ):                                                                                173024900106602490100100160062910244',\n",
       "       '№ 0142200001317004918                                                                                                                                                                                                                                                                                                                                                                                                                                                                                Организация, осуществляющая размещение:                                                                                                                                                                    ГЛАВНОЕ  УПРАВЛЕНИЕ  ОРГАНИЗАЦИИ  ТОРГОВ  САМАРСКОЙ ОБЛАСТИ                                                                                                                                                                                                                        Поставка легкового автомобиля для нужд ГБУЗ СО \"Тольяттинский ПНД\"                                                                                                                                Идентификационный код закупки(ИКЗ):                                                                                172632000443963240100100510012910244',\n",
       "       '№ 0860200000817001805                                                                                                                                                                                                                                                                                                                                                                                                                                                                                Организация, осуществляющая размещение:                                                                                                                                                                    ГОСУДАРСТВЕННОЕ КАЗЕННОЕ УЧРЕЖДЕНИЕ САРАТОВСКОЙ ОБЛАСТИ \"ГОСУДАРСТВЕННОЕ АГЕНТСТВО ПО ЦЕНТРАЛИЗАЦИИ ЗАКУПОК\"                                                                                                                                                                                                                        Легковой автомобиль                                                                                                                                Идентификационный код закупки(ИКЗ):                                                                                172644000138064400100100260202910244',\n",
       "       '№ 0134200000117000824                                                                                                                                                                                                                                                                                                                                                                                                                                                                                Организация, осуществляющая размещение:                                                                                                                                                                    МИНИСТЕРСТВО ПО РЕГУЛИРОВАНИЮ КОНТРАКТНОЙ СИСТЕМЫ В СФЕРЕ ЗАКУПОК ИРКУТСКОЙ ОБЛАСТИ                                                                                                                                                                                                                        Поставка легковых автомобилей                                                                                                                                Идентификационный код закупки(ИКЗ):                                                                                172380817222138080100100110012910244',\n",
       "       '№ 0573100016517000058                                                                                                                                                                                                                                                                                                                                                                                                                                                                                                                            Заказчик:                                                                                                                                                                                                                                                                                                                                                                                ФЕДЕРАЛЬНОЕ ГОСУДАРСТВЕННОЕ УНИТАРНОЕ ПРЕДПРИЯТИЕ \"УПРАВЛЕНИЕ ВЕДОМСТВЕННОЙ ОХРАНЫ МИНИСТЕРСТВА ТРАНСПОРТА РОССИЙСКОЙ ФЕДЕРАЦИИ\"                                                                                                                                                                                                                                                                                                                                                                                                                                                                                    Поставка легковых автомобилей для нужд Центрального филиала                                                                                                                                Идентификационный код закупки(ИКЗ):                                                                                171770731136377250100101741742910244',\n",
       "       '№ 0374200000417000163                                                                                                                                                                                                                                                                                                                                                                                                                                                                                                                            Заказчик:                                                                                                                                                                                                                                                                                                                                                                                ГОСУДАРСТВЕННОЕ БЮДЖЕТНОЕ УЧРЕЖДЕНИЕ ЗДРАВООХРАНЕНИЯ СЕВАСТОПОЛЯ \"ГОРОДСКАЯ БОЛЬНИЦА № 1 ИМ. Н.И. ПИРОГОВА\"                                                                                                                                                                                                                                                                                                                                                                                                                                                                                    На поставку автомобиля                                                                                                                                Идентификационный код закупки(ИКЗ):                                                                                172920402213692040100101180012910244',\n",
       "       '№ 0119300004117000016                                                                                                                                                                                                                                                                                                                                                                                                                                                                                                                            Заказчик:                                                                                                                                                                                                                                                                                                                                                                                АДМИНИСТРАЦИЯ ГОРОДА ЗАОЗЕРНОГО РЫБИНСКОГО РАЙОНА КРАСНОЯРСКОГО КРАЯ                                                                                                                                                                                                                                                                                                                                                                                                                                                                                    Поставка легкового автомобиля                                                                                                                                 Идентификационный код закупки(ИКЗ):                                                                                173244800472424480100100380012910244',\n",
       "       '№ 0332300002117000046                                                                                                                                                                                                                                                                                                                                                                                                                                                                                Организация, осуществляющая размещение:                                                                                                                                                                    УПРАВЛЕНИЕ МУНИЦИПАЛЬНОГО ЗАКАЗА АДМИНИСТРАЦИИ ГОРОДЕЦКОГО МУНИЦИПАЛЬНОГО РАЙОНА НИЖЕГОРОДСКОЙ ОБЛАСТИ                                                                                                                                                                                                                        Приобретение легкового автомобиля для нужд городской Думы города Городца                                                                                                                                Идентификационный код закупки(ИКЗ):                                                                                173524802010752480100100030012910244',\n",
       "       '№ 0373200307317000160                                                                                                                                                                                                                                                                                                                                                                                                                                                                                                                            Заказчик:                                                                                                                                                                                                                                                                                                                                                                                ГОСУДАРСТВЕННОЕ БЮДЖЕТНОЕ УЧРЕЖДЕНИЕ ГОРОДА МОСКВЫ \"АВТОМОБИЛЬНЫЕ ДОРОГИ\"                                                                                                                                                                                                                                                                                                                                                                                                                                                                                    Аукцион в электронной форме на право заключения контракта на поставку аварийно-спасательного автомобиля для оснащения аварийно-спасательного формирования ГБУ \"Автомобильные дороги\" среди субъектов малого предпринимательства и социально ориентированных некоммерческих организаций                                                                                                                                Идентификационный код закупки(ИКЗ):                                                                                172772765679077140100101880012910244',\n",
       "       '№ 0851200000617001465                                                                                                                                                                                                                                                                                                                                                                                                                                                                                Организация, осуществляющая размещение:                                                                                                                                                                    ГОСУДАРСТВЕННОЕ КАЗЕННОЕ УЧРЕЖДЕНИЕ НОВОСИБИРСКОЙ ОБЛАСТИ \"УПРАВЛЕНИЕ КОНТРАКТНОЙ СИСТЕМЫ\"                                                                                                                                                                                                                        Поставка легковых автомобилей                                                                                                                                Идентификационный код закупки(ИКЗ):                                                                                172543313778054330100100810022910244',\n",
       "       '№ 0325100000417000010                                                                                                                                                                                                                                                                                                                                                                                                                                                                                                                            Заказчик:                                                                                                                                                                                                                                                                                                                                                                                ФЕДЕРАЛЬНОЕ КАЗЁННОЕ УЧРЕЖДЕНИЕ ЗДРАВООХРАНЕНИЯ \"АСТРАХАНСКАЯ ПРОТИВОЧУМНАЯ СТАНЦИЯ\" ФЕДЕРАЛЬНОЙ СЛУЖБЫ ПО НАДЗОРУ В СФЕРЕ ЗАЩИТЫ ПРАВ ПОТРЕБИТЕЛЕЙ И БЛАГОПОЛУЧИЯ ЧЕЛОВЕКА                                                                                                                                                                                                                                                                                                                                                                                                                                                                                    Поставка автомобиля                                                                                                                                Идентификационный код закупки(ИКЗ):                                                                                171301700248130250100100290222910244',\n",
       "       '№ 0508600002817000006                                                                                                                                                                                                                                                                                                                                                                                                                                                                                                                            Заказчик:                                                                                                                                                                                                                                                                                                                                                                                МУНИЦИПАЛЬНОЕ ПРЕДПРИЯТИЕ \"СИГНАЛ\" МУНИЦИПАЛЬНОГО ОБРАЗОВАНИЯ \"ГОРОД ЙОШКАР-ОЛА\"                                                                                                                                                                                                                                                                                                                                                                                                                                                                                    Средства транспортные с двигателем с искровым зажиганием, с рабочим объемом цилиндров более 1500 см3, новые                                                                                                                                Идентификационный код закупки(ИКЗ):                                                                                173121508143512150100100070012910244',\n",
       "       '№ 0116300005017000027                                                                                                                                                                                                                                                                                                                                                                                                                                                                                Организация, осуществляющая размещение:                                                                                                                                                                    РАЙОННАЯ АДМИНИСТРАЦИЯ МУНИЦИПАЛЬНОГО РАЙОНА \"МЕГИНО-КАНГАЛАССКИЙ УЛУС\"                                                                                                                                                                                                                        закупка транспортного средства                                                                                                                                Идентификационный код закупки(ИКЗ):                                                                                173141501274214150100100040012910244',\n",
       "       '№ 0145300016317000021                                                                                                                                                                                                                                                                                                                                                                                                                                                                                                                            Заказчик:                                                                                                                                                                                                                                                                                                                                                                                АДМИНИСТРАЦИЯ МУНИЦИПАЛЬНОГО ОБРАЗОВАНИЯ ВОЛОСОВСКИЙ МУНИЦИПАЛЬНЫЙ РАЙОН ЛЕНИНГРАДСКОЙ ОБЛАСТИ                                                                                                                                                                                                                                                                                                                                                                                                                                                                                    Поставка легкового автомобиля для нужд администрации МО Волосовский муниципальный район Ленинградской области                                                                                                                                Идентификационный код закупки(ИКЗ):                                                                                173471700833947050100100400372910244',\n",
       "       '№ 0142300027117000081                                                                                                                                                                                                                                                                                                                                                                                                                                                                                Организация, осуществляющая размещение:                                                                                                                                                                    АДМИНИСТРАЦИЯ МУНИЦИПАЛЬНОГО РАЙОНА СТАВРОПОЛЬСКИЙ САМАРСКОЙ ОБЛАСТИ                                                                                                                                                                                                                        Поставка легкового автомобиля для нужд сельского поселения Сосновый Солонец м.р. Ставропольский Самарской области                                                                                                                                Идентификационный код закупки(ИКЗ):                                                                                173638205054863820100100180192910244',\n",
       "       '№ 0122300006117000469                                                                                                                                                                                                                                                                                                                                                                                                                                                                                Организация, осуществляющая размещение:                                                                                                                                                                    АДМИНИСТРАЦИЯ ГОРОДА ХАБАРОВСКА                                                                                                                                                                                                                        Поставка легкового автомобиля                                                                                                                                Идентификационный код закупки(ИКЗ):                                                                                173272414627027240100100010102910244',\n",
       "       '№ 0169300052917000002                                                                                                                                                                                                                                                                                                                                                                                                                                                                                                                            Заказчик:                                                                                                                                                                                                                                                                                                                                                                                СОБРАНИЕ ДЕПУТАТОВ ОКТЯБРЬСКОГО МУНИЦИПАЛЬНОГО РАЙОНА                                                                                                                                                                                                                                                                                                                                                                                                                                                                                    Приобретение легкового автомобиля                                                                                                                                 Идентификационный код закупки(ИКЗ):                                                                                173743000877374300100110000012910244',\n",
       "       '№ 0134200000117000953                                                                                                                                                                                                                                                                                                                                                                                                                                                                                Организация, осуществляющая размещение:                                                                                                                                                                    МИНИСТЕРСТВО ПО РЕГУЛИРОВАНИЮ КОНТРАКТНОЙ СИСТЕМЫ В СФЕРЕ ЗАКУПОК ИРКУТСКОЙ ОБЛАСТИ                                                                                                                                                                                                                        Поставка автомобиля                                                                                                                                Идентификационный код закупки(ИКЗ):                                                                                172380805944138080100100270012910244',\n",
       "       '№ 0139200000117003379                                                                                                                                                                                                                                                                                                                                                                                                                                                                                Организация, осуществляющая размещение:                                                                                                                                                                    ДЕПАРТАМЕНТ КОНТРАКТНОЙ СИСТЕМЫ КЕМЕРОВСКОЙ ОБЛАСТИ                                                                                                                                                                                                                        Поставка легового автомобиля                                                                                                                                Идентификационный код закупки(ИКЗ):                                                                                172421801111042180100103040012910244',\n",
       "       '№ 0551600002717000109                                                                                                                                                                                                                                                                                                                                                                                                                                                                                                                            Заказчик:                                                                                                                                                                                                                                                                                                                                                                                МУНИЦИПАЛЬНОЕ УНИТАРНОЕ ПРЕДПРИЯТИЕ Г. НОВОСИБИРСКА  \" ГОРВОДОКАНАЛ \"                                                                                                                                                                                                                                                                                                                                                                                                                                                                                    Поставка автомобиля                                                                                                                                Идентификационный код закупки(ИКЗ):                                                                                173541110087554070100101000012910000',\n",
       "       '№ 0113300014217000055                                                                                                                                                                                                                                                                                                                                                                                                                                                                                Организация, осуществляющая размещение:                                                                                                                                                                    АДМИНИСТРАЦИЯ МУНИЦИПАЛЬНОГО ОБРАЗОВАНИЯ \"ЗАВЬЯЛОВСКИЙ РАЙОН\"                                                                                                                                                                                                                        Средство автотранспортноес учетом программы «Утилизация старых автомобилей»                                                                                                                                Идентификационный код закупки(ИКЗ):                                                                                173180820563518410100101061062910244',\n",
       "       '№ 0320300038817000003                                                                                                                                                                                                                                                                                                                                                                                                                                                                                                                            Заказчик:                                                                                                                                                                                                                                                                                                                                                                                УПРАВЛЕНИЕ ОБРАЗОВАНИЯ АДМИНИСТРАЦИИ ЛАЗОВСКОГО МУНИЦИПАЛЬНОГО РАЙОНА                                                                                                                                                                                                                                                                                                                                                                                                                                                                                    Автомобили легковые                                                                                                                                Идентификационный код закупки(ИКЗ):                                                                                173251800144825180100100030032910244',\n",
       "       '№ 0105200000217000477                                                                                                                                                                                                                                                                                                                                                                                                                                                                                Организация, осуществляющая размещение:                                                                                                                                                                    МИНИСТЕРСТВО ЭКОНОМИКИ И ТОРГОВЛИ РЕСПУБЛИКИ КАЛМЫКИЯ                                                                                                                                                                                                                        Поставка автомобиля                                                                                                                                Идентификационный код закупки(ИКЗ):                                                                                172081405546408160100100100112910244',\n",
       "       '№ 0345200017917000154                                                                                                                                                                                                                                                                                                                                                                                                                                                                                                                            Заказчик:                                                                                                                                                                                                                                                                                                                                                                                ГОСУДАРСТВЕННОЕ  КАЗЕННОЕ УЧРЕЖДЕНИЕ ЛЕНИНГРАДСКОЙ ОБЛАСТИ \"ЛЕНИНГРАДСКАЯ ОБЛАСТНАЯ ПРОТИВОПОЖАРНО-СПАСАТЕЛЬНАЯ СЛУЖБА\"                                                                                                                                                                                                                                                                                                                                                                                                                                                                                    Поставка легкового автомобиля                                                                                                                                Идентификационный код закупки(ИКЗ):                                                                                172470603110347060100100610062910244',\n",
       "       '№ 0545500000517000004                                                                                                                                                                                                                                                                                                                                                                                                                                                                                                                            Заказчик:                                                                                                                                                                                                                                                                                                                                                                                ЛЕНИНГРАДСКОЕ ОБЛАСТНОЕ ГОСУДАРСТВЕННОЕ ПРЕДПРИЯТИЕ \"ВСЕВОЛОЖСКОЕ ДОРОЖНОЕ РЕМОНТНО-СТРОИТЕЛЬНОЕ УПРАВЛЕНИЕ\"                                                                                                                                                                                                                                                                                                                                                                                                                                                                                    Средства транспортные с двигателем с искровым зажиганием, с рабочим объемом цилиндров более 1500 см3, новые                                                                                                                                Идентификационный код закупки(ИКЗ):                                                                                172470300664547030100100060012910000',\n",
       "       '№ 0128200000117003158                                                                                                                                                                                                                                                                                                                                                                                                                                                                                Организация, осуществляющая размещение:                                                                                                                                                                    ДЕПАРТАМЕНТ ИМУЩЕСТВЕННЫХ И ЗЕМЕЛЬНЫХ ОТНОШЕНИЙ АДМИНИСТРАЦИИ ВЛАДИМИРСКОЙ ОБЛАСТИ                                                                                                                                                                                                                        Поставка легкового автомобиля в кузове универсал для нужд ГУП\"ДСУ-3\"                                                                                                                                Идентификационный код закупки(ИКЗ):                                                                                172332900060233290100100260242910000',\n",
       "       '№ 0345200017917000156                                                                                                                                                                                                                                                                                                                                                                                                                                                                                                                            Заказчик:                                                                                                                                                                                                                                                                                                                                                                                ГОСУДАРСТВЕННОЕ  КАЗЕННОЕ УЧРЕЖДЕНИЕ ЛЕНИНГРАДСКОЙ ОБЛАСТИ \"ЛЕНИНГРАДСКАЯ ОБЛАСТНАЯ ПРОТИВОПОЖАРНО-СПАСАТЕЛЬНАЯ СЛУЖБА\"                                                                                                                                                                                                                                                                                                                                                                                                                                                                                    Поставка легкового автомобиля                                                                                                                                Идентификационный код закупки(ИКЗ):                                                                                172470603110347060100100610052910244',\n",
       "       '№ 0856300009317000019                                                                                                                                                                                                                                                                                                                                                                                                                                                                                Организация, осуществляющая размещение:                                                                                                                                                                    МУНИЦИПАЛЬНОЕ КАЗЕННОЕ УЧРЕЖДЕНИЕ \"АГЕНТСТВО ПО МУНИЦИПАЛЬНЫМ ЗАКУПКАМ\" АДМИНИСТРАЦИИ КРАСНОКАМСКОГО МУНИЦИПАЛЬНОГО РАЙОНА                                                                                                                                                                                                                        Приобретение автомобиля                                                                                                                                Идентификационный код закупки(ИКЗ):                                                                                173591602883959160100100070032910244',\n",
       "       '№ 0137300001117000021                                                                                                                                                                                                                                                                                                                                                                                                                                                                                Организация, осуществляющая размещение:                                                                                                                                                                    АДМИНИСТРАЦИЯ (ИСПОЛНИТЕЛЬНО-РАСПОРЯДИТЕЛЬНЫЙ ОРГАН) МУНИЦИПАЛЬНОГО РАЙОНА \"БАБЫНИНСКИЙ РАЙОН\"                                                                                                                                                                                                                        Приобретение легкового автомобиля для нужд Администрации СП \"Село Муромцево\" (Реестровый номер: 366Э-15/17сб)                                                                                                                                Идентификационный код закупки(ИКЗ):                                                                                173400100504840010100100080012910244',\n",
       "       '№ 0511300002017000002                                                                                                                                                                                                                                                                                                                                                                                                                                                                                                                            Заказчик:                                                                                                                                                                                                                                                                                                                                                                                МУНИЦИПАЛЬНОЕ УНИТАРНОЕ ПРЕДПРИЯТИЕ ГОРОДА КАЗАНИ \"ГОРОДСКИЕ МОСТЫ\"                                                                                                                                                                                                                                                                                                                                                                                                                                                                                    Легковой автомобиль седан                                                                                                                                Идентификационный код закупки(ИКЗ):                                                                                173165302094216600100100080022910000',\n",
       "       '№ 0338200007017000028                                                                                                                                                                                                                                                                                                                                                                                                                                                                                                                            Заказчик:                                                                                                                                                                                                                                                                                                                                                                                КРАЕВОЕ ГОСУДАРСТВЕННОЕ КАЗЕННОЕ УЧРЕЖДЕНИЕ \"КАМЧАТСКИЙ ЦЕНТР ПО ВЫПЛАТЕ ГОСУДАРСТВЕННЫХ И СОЦИАЛЬНЫХ ПОСОБИЙ\"                                                                                                                                                                                                                                                                                                                                                                                                                                                                                    Поставка автомобиля                                                                                                                                Идентификационный код закупки(ИКЗ):                                                                                172410001287141010100100590012910244',\n",
       "       '№ 0419000001217000012                                                                                                                                                                                                                                                                                                                                                                                                                                                                                                                            Заказчик:                                                                                                                                                                                                                                                                                                                                                                                ГОСУДАРСТВЕННОЕ ПРЕДПРИЯТИЕ КРАСНОЯРСКОГО КРАЯ \"ДОРОЖНОЕ РЕМОНТНО-СТРОИТЕЛЬНОЕ УПРАВЛЕНИЕ № 10\"                                                                                                                                                                                                                                                                                                                                                                                                                                                                                    Средства транспортные с двигателем с искровым зажиганием, с рабочим объемом цилиндров более 1500 см3, новые                                                                                                                                Идентификационный код закупки(ИКЗ):                                                                                172245501672024550100100130132910244',\n",
       "       '№ 0573100016517000046                                                                                                                                                                                                                                                                                                                                                                                                                                                                                                                            Заказчик:                                                                                                                                                                                                                                                                                                                                                                                ФЕДЕРАЛЬНОЕ ГОСУДАРСТВЕННОЕ УНИТАРНОЕ ПРЕДПРИЯТИЕ \"УПРАВЛЕНИЕ ВЕДОМСТВЕННОЙ ОХРАНЫ МИНИСТЕРСТВА ТРАНСПОРТА РОССИЙСКОЙ ФЕДЕРАЦИИ\"                                                                                                                                                                                                                                                                                                                                                                                                                                                                                    Поставка автотранспортных средств для нужд Северо-Западного филиала                                                                                                                                Идентификационный код закупки(ИКЗ):                                                                                171770731136377250100100180182910244',\n",
       "       '№ 0148200002617000025                                                                                                                                                                                                                                                                                                                                                                                                                                                                                                                            Заказчик:                                                                                                                                                                                                                                                                                                                                                                                ГЛАВНОЕ УПРАВЛЕНИЕ ГОСУДАРСТВЕННОГО АДМИНИСТРАТИВНО-ТЕХНИЧЕСКОГО НАДЗОРА МОСКОВСКОЙ ОБЛАСТИ                                                                                                                                                                                                                                                                                                                                                                                                                                                                                    Поставка служебных автомобилей для государственных нужд Госадмтехнадзора Московской области                                                                                                                                Идентификационный код закупки(ИКЗ):                                                                                172502405856050240100100200382910244',\n",
       "       '№ 0137300037717000151                                                                                                                                                                                                                                                                                                                                                                                                                                                                                Организация, осуществляющая размещение:                                                                                                                                                                    АДМИНИСТРАЦИЯ (ИСПОЛНИТЕЛЬНО-РАСПОРЯДИТЕЛЬНЫЙ ОРГАН) ГОРОДСКОГО ОКРУГА \"ГОРОД ОБНИНСК\"                                                                                                                                                                                                                        Поставка легкового автомобиля для нужд МП \"Полигон\"                                                                                                                                Идентификационный код закупки(ИКЗ):                                                                                173402507928940250100100200072910244',\n",
       "       '№ 0169300000117001142                                                                                                                                                                                                                                                                                                                                                                                                                                                                                Организация, осуществляющая размещение:                                                                                                                                                                    УПРАВЛЕНИЕ МУНИЦИПАЛЬНОГО ЗАКАЗА АДМИНИСТРАЦИИ ГОРОДА ЧЕЛЯБИНСКА                                                                                                                                                                                                                        17-42193Э поставка легкового автомобиля                                                                                                                                Идентификационный код закупки(ИКЗ):                                                                                173742100019074510100100340442910244',\n",
       "       '№ 0101300094917000001                                                                                                                                                                                                                                                                                                                                                                                                                                                                                                                            Заказчик:                                                                                                                                                                                                                                                                                                                                                                                СОВЕТ МУНИЦИПАЛЬНОГО РАЙОНА ЗИЛАИРСКИЙ РАЙОН РЕСПУБЛИКИ БАШКОРТОСТАН                                                                                                                                                                                                                                                                                                                                                                                                                                                                                    Поставка служебного легкового автомобиля                                                                                                                                Идентификационный код закупки(ИКЗ):                                                                                173022300352702230100100050012910244',\n",
       "       '№ 0556200000317000059                                                                                                                                                                                                                                                                                                                                                                                                                                                                                                                            Заказчик:                                                                                                                                                                                                                                                                                                                                                                                ГОСУДАРСТВЕННОЕ УНИТАРНОЕ ПРЕДПРИЯТИЕ \"ЦЕНТР ТЕХНИЧЕСКОЙ ИНВЕНТАРИЗАЦИИ ПЕРМСКОГО КРАЯ\"                                                                                                                                                                                                                                                                                                                                                                                                                                                                                    поставка автомобиля легкового нового                                                                                                                                Идентификационный код закупки(ИКЗ):                                                                                172590219274059020100101000012910000',\n",
       "       '№ 0851200000617001365                                                                                                                                                                                                                                                                                                                                                                                                                                                                                Организация, осуществляющая размещение:                                                                                                                                                                    ГОСУДАРСТВЕННОЕ КАЗЕННОЕ УЧРЕЖДЕНИЕ НОВОСИБИРСКОЙ ОБЛАСТИ \"УПРАВЛЕНИЕ КОНТРАКТНОЙ СИСТЕМЫ\"                                                                                                                                                                                                                        Поставка легковых автомобилей                                                                                                                                Идентификационный код закупки(ИКЗ):                                                                                172540651011454060100101390022910244',\n",
       "       '№ 0134300045917000015                                                                                                                                                                                                                                                                                                                                                                                                                                                                                                                            Заказчик:                                                                                                                                                                                                                                                                                                                                                                                АДМИНИСТРАЦИЯ МУНИЦИПАЛЬНОГО ОБРАЗОВАНИЯ \"БРАТСКИЙ РАЙОН\"                                                                                                                                                                                                                                                                                                                                                                                                                                                                                    Доставка легковых автомобилей                                                                                                                                Идентификационный код закупки(ИКЗ):                                                                                173382302873738230100100230212910244',\n",
       "       '№ 0348200049717000143                                                                                                                                                                                                                                                                                                                                                                                                                                                                                                                            Заказчик:                                                                                                                                                                                                                                                                                                                                                                                ГОСУДАРСТВЕННОЕ БЮДЖЕТНОЕ УЧРЕЖДЕНИЕ МОСКОВСКОЙ ОБЛАСТИ \"МОСАВТОДОР\"                                                                                                                                                                                                                                                                                                                                                                                                                                                                                    Поставка легкового автомобиля класса «С» для нужд ГБУ МО «Мосавтодор»                                                                                                                                Идентификационный код закупки(ИКЗ):                                                                                172500000152550240100115130012910244',\n",
       "       '№ 0375100003717000006                                                                                                                                                                                                                                                                                                                                                                                                                                                                                                                            Заказчик:                                                                                                                                                                                                                                                                                                                                                                                ФЕДЕРАЛЬНОЕ БЮДЖЕТНОЕ УЧРЕЖДЕНИЕ \"КРЫМСКАЯ ЛАБОРАТОРИЯ СУДЕБНОЙ ЭКСПЕРТИЗЫ МИНИСТЕРСТВА ЮСТИЦИИ РОССИЙСКОЙ ФЕДЕРАЦИИ\"                                                                                                                                                                                                                                                                                                                                                                                                                                                                                    приобретение автотранспортного средства                                                                                                                                Идентификационный код закупки(ИКЗ):                                                                                171910200844691020100100080012910244',\n",
       "       '№ 0134200000117000951                                                                                                                                                                                                                                                                                                                                                                                                                                                                                Организация, осуществляющая размещение:                                                                                                                                                                    МИНИСТЕРСТВО ПО РЕГУЛИРОВАНИЮ КОНТРАКТНОЙ СИСТЕМЫ В СФЕРЕ ЗАКУПОК ИРКУТСКОЙ ОБЛАСТИ                                                                                                                                                                                                                        Поставка автомобиля                                                                                                                                Идентификационный код закупки(ИКЗ):                                                                                172380805944138080100100270022910244',\n",
       "       '№ 0309200000217000042                                                                                                                                                                                                                                                                                                                                                                                                                                                                                                                            Заказчик:                                                                                                                                                                                                                                                                                                                                                                                ГОСУДАРСТВЕННОЕ КАЗЕННОЕ УЧРЕЖДЕНИЕ \"УПРАВЛЕНИЕ АВТОМОБИЛЬНЫХ ДОРОГ РЕСПУБЛИКИ МОРДОВИЯ\"                                                                                                                                                                                                                                                                                                                                                                                                                                                                                    Поставка  легкового     автомобиля                                                                                                                                Идентификационный код закупки(ИКЗ):                                                                                172132620854213260100100790012910244',\n",
       "       '№ 0865200000317000867                                                                                                                                                                                                                                                                                                                                                                                                                                                                                Организация, осуществляющая размещение:                                                                                                                                                                    ОБЛАСТНОЕ ГОСУДАРСТВЕННОЕ КАЗЕННОЕ УЧРЕЖДЕНИЕ \"ЦЕНТР ГОСУДАРСТВЕННЫХ ЗАКУПОК ТОМСКОЙ ОБЛАСТИ\"                                                                                                                                                                                                                        Поставка автомобиля                                                                                                                                Идентификационный код закупки(ИКЗ):                                                                                172701800270070170100100220012910244',\n",
       "       '№ 0254100000417000050                                                                                                                                                                                                                                                                                                                                                                                                                                                                                                                            Заказчик:                                                                                                                                                                                                                                                                                                                                                                                ГОСУДАРСТВЕННОЕ УЧРЕЖДЕНИЕ - ОРЛОВСКОЕ РЕГИОНАЛЬНОЕ ОТДЕЛЕНИЕ ФОНДА СОЦИАЛЬНОГО СТРАХОВАНИЯ РОССИЙСКОЙ ФЕДЕРАЦИИ                                                                                                                                                                                                                                                                                                                                                                                                                                                                                    Поставка для застрахованных лиц,получивших повреждение здоровья вследствие несчастных случаев на производстве и профессиональных заболеваний автомобилей                                                                                                                                Идентификационный код закупки(ИКЗ):                                                                                171575300760757510100100610022910323',\n",
       "       '№ 0158100015817000023                                                                                                                                                                                                                                                                                                                                                                                                                                                                                                                            Заказчик:                                                                                                                                                                                                                                                                                                                                                                                ГОСУДАРСТВЕННАЯ ИНСПЕКЦИЯ ТРУДА В РОСТОВСКОЙ ОБЛАСТИ                                                                                                                                                                                                                                                                                                                                                                                                                                                                                    Легковой автомобиль                                                                                                                                Идентификационный код закупки(ИКЗ):                                                                                171616304505561630100100570012910244',\n",
       "       '№ 0119300019617000045                                                                                                                                                                                                                                                                                                                                                                                                                                                                                                                            Заказчик:                                                                                                                                                                                                                                                                                                                                                                                АДМИНИСТРАЦИЯ СЕВЕРО-ЕНИСЕЙСКОГО РАЙОНА                                                                                                                                                                                                                                                                                                                                                                                                                                                                                    Автомобиль                                                                                                                                Идентификационный код закупки(ИКЗ):                                                                                173243400081824340100102922922910244',\n",
       "       '№ 0169100001417000030                                                                                                                                                                                                                                                                                                                                                                                                                                                                                                                            Заказчик:                                                                                                                                                                                                                                                                                                                                                                                МЕЖРЕГИОНАЛЬНОЕ ТЕРРИТОРИАЛЬНОЕ УПРАВЛЕНИЕ ФЕДЕРАЛЬНОГО АГЕНТСТВА ПО УПРАВЛЕНИЮ ГОСУДАРСТВЕННЫМ ИМУЩЕСТВОМ В ЧЕЛЯБИНСКОЙ И КУРГАНСКОЙ ОБЛАСТЯХ                                                                                                                                                                                                                                                                                                                                                                                                                                                                                    Поставка легкового автомобиля с дополнительным оборудованием                                                                                                                                 Идентификационный код закупки(ИКЗ):                                                                                171745321679474530100102000032910244',\n",
       "       '№ 0115200001117001283                                                                                                                                                                                                                                                                                                                                                                                                                                                                                Организация, осуществляющая размещение:                                                                                                                                                                    ГОСУДАРСТВЕННАЯ СЛУЖБА ЧУВАШСКОЙ РЕСПУБЛИКИ ПО КОНКУРЕНТНОЙ ПОЛИТИКЕ И ТАРИФАМ                                                                                                                                                                                                                        Поставка легкового автомобиля                                                                                                                                 Идентификационный код закупки(ИКЗ):                                                                                172213000352821300100100100102910244',\n",
       "       '№ 0101300034417000008                                                                                                                                                                                                                                                                                                                                                                                                                                                                                Организация, осуществляющая размещение:                                                                                                                                                                    АДМИНИСТРАЦИЯ МУНИЦИПАЛЬНОГО РАЙОНА БУРЗЯНСКИЙ РАЙОН РЕСПУБЛИКИ БАШКОРТОСТАН                                                                                                                                                                                                                        Поставка автомобиля Lada Granta седан (или эквивалент) для нужд Администрации сельского поселения Тимировский сельсовет муниципального района Бурзянский район Республики Башкортостан                                                                                                                                Идентификационный код закупки(ИКЗ):                                                                                173021800030502180100100240242910244',\n",
       "       '№ 0851600002317000001                                                                                                                                                                                                                                                                                                                                                                                                                                                                                Организация, осуществляющая размещение:                                                                                                                                                                    МУНИЦИПАЛЬНОЕ КАЗЕННОЕ УЧРЕЖДЕНИЕ ЧУЛЫМСКОГО РАЙОНА \"УПРАВЛЕНИЕ МУНИЦИПАЛЬНЫМИ ЗАКУПКАМИ\"                                                                                                                                                                                                                        Поставка легкового автомобиля                                                                                                                                Идентификационный код закупки(ИКЗ):                                                                                173544220006954420100100350022910244',\n",
       "       '№ 0139200000117005367                                                                                                                                                                                                                                                                                                                                                                                                                                                                                Организация, осуществляющая размещение:                                                                                                                                                                    ДЕПАРТАМЕНТ КОНТРАКТНОЙ СИСТЕМЫ КЕМЕРОВСКОЙ ОБЛАСТИ                                                                                                                                                                                                                        Поставка легкового автомобиля                                                                                                                                Идентификационный код закупки(ИКЗ):                                                                                173424000443042400100100440012910244',\n",
       "       '№ 0860200000817001664                                                                                                                                                                                                                                                                                                                                                                                                                                                                                Организация, осуществляющая размещение:                                                                                                                                                                    ГОСУДАРСТВЕННОЕ КАЗЕННОЕ УЧРЕЖДЕНИЕ САРАТОВСКОЙ ОБЛАСТИ \"ГОСУДАРСТВЕННОЕ АГЕНТСТВО ПО ЦЕНТРАЛИЗАЦИИ ЗАКУПОК\"                                                                                                                                                                                                                        Поставка легкового автомобиля для нужд ГУЗ \"Балаковский кожно-венерологический диспансер\"                                                                                                                                Идентификационный код закупки(ИКЗ):                                                                                172643903256064390100100200012910244',\n",
       "       '№ 0160300005717000004                                                                                                                                                                                                                                                                                                                                                                                                                                                                                                                            Заказчик:                                                                                                                                                                                                                                                                                                                                                                                АДМИНИСТРАЦИЯ ШИЛО-ГОЛИЦЫНСКОГО МУНИЦИПАЛЬНОГО ОБРАЗОВАНИЯ                                                                                                                                                                                                                                                                                                                                                                                                                                                                                    Автомобиль легковой повышенной проходимости с учетом программы «Утилизация»                                                                                                                                Идентификационный код закупки(ИКЗ):                                                                                173644611582864460100100070072910244',\n",
       "       '№ 0139300020917000130                                                                                                                                                                                                                                                                                                                                                                                                                                                                                Организация, осуществляющая размещение:                                                                                                                                                                    АДМИНИСТРАЦИЯ ПРОКОПЬЕВСКОГО МУНИЦИПАЛЬНОГО РАЙОНА                                                                                                                                                                                                                        Автомобиль легковой полноприводный                                                                                                                                Идентификационный код закупки(ИКЗ):                                                                                173423900661942230100100280282910244',\n",
       "       '№ 0145300008617000012                                                                                                                                                                                                                                                                                                                                                                                                                                                                                                                            Заказчик:                                                                                                                                                                                                                                                                                                                                                                                АДМИНИСТРАЦИЯ МУНИЦИПАЛЬНОГО ОБРАЗОВАНИЯ \"СИВЕРСКОЕ ГОРОДСКОЕ ПОСЕЛЕНИЕ ГАТЧИНСКОГО МУНИЦИПАЛЬНОГО РАЙОНА ЛЕНИНГРАДСКОЙ ОБЛАСТИ\"                                                                                                                                                                                                                                                                                                                                                                                                                                                                                    Поставка легкового автомобиля                                                                                                                                Идентификационный код закупки(ИКЗ):                                                                                173470503102047050100100280492910244',\n",
       "       '№ 0105200000217000464                                                                                                                                                                                                                                                                                                                                                                                                                                                                                Организация, осуществляющая размещение:                                                                                                                                                                    МИНИСТЕРСТВО ЭКОНОМИКИ И ТОРГОВЛИ РЕСПУБЛИКИ КАЛМЫКИЯ                                                                                                                                                                                                                        поставка (приобретение) легкового автомобиля                                                                                                                                Идентификационный код закупки(ИКЗ):                                                                                172081405567208160100100250012910244',\n",
       "       '№ 0375200014017000021                                                                                                                                                                                                                                                                                                                                                                                                                                                                                                                            Заказчик:                                                                                                                                                                                                                                                                                                                                                                                ГОСУДАРСТВЕННОЕ БЮДЖЕТНОЕ ОБЩЕОБРАЗОВАТЕЛЬНОЕ УЧРЕЖДЕНИЕ РЕСПУБЛИКИ КРЫМ \"ЛИВАДИЙСКАЯ САНАТОРНАЯ ШКОЛА-ИНТЕРНАТ\"                                                                                                                                                                                                                                                                                                                                                                                                                                                                                    Поставка автомобиля                                                                                                                                Идентификационный код закупки(ИКЗ):                                                                                172910301693091030100100050010000244',\n",
       "       '№ 0803300224217000013                                                                                                                                                                                                                                                                                                                                                                                                                                                                                                                            Заказчик:                                                                                                                                                                                                                                                                                                                                                                                МУНИЦИПАЛЬНОЕ КАЗЕННОЕ УЧРЕЖДЕНИЕ \"АДМИНИСТРАТИВНО-ХОЗЯЙСТВЕННЫЙ ЦЕНТР ОБЕСПЕЧЕНИЯ ДЕЯТЕЛЬНОСТИ ОРГАНОВ МЕСТНОГО САМОУПРАВЛЕНИЯ\" МР \"КАЗБЕКОВСКИЙ РАЙОН\"                                                                                                                                                                                                                                                                                                                                                                                                                                                                                    Легковой автомобиль                                                                                                                                Идентификационный код закупки(ИКЗ):                                                                                173051300194805130100100920012910244',\n",
       "       '№ 0358100009717000007                                                                                                                                                                                                                                                                                                                                                                                                                                                                                                                            Заказчик:                                                                                                                                                                                                                                                                                                                                                                                ГОСУДАРСТВЕННОЕ БЮДЖЕТНОЕ ПРОФЕССИОНАЛЬНОЕ ОБРАЗОВАТЕЛЬНОЕ УЧРЕЖДЕНИЕ РОСТОВСКОЙ ОБЛАСТИ \"РОСТОВСКИЙ-НА-ДОНУ АВТОДОРОЖНЫЙ КОЛЛЕДЖ\"                                                                                                                                                                                                                                                                                                                                                                                                                                                                                    Автомобили легковые                                                                                                                                Идентификационный код закупки(ИКЗ):                                                                                172616410169761640100100070072910244',\n",
       "       '№ 0859200001117002731                                                                                                                                                                                                                                                                                                                                                                                                                                                                                Организация, осуществляющая размещение:                                                                                                                                                                    ГОСУДАРСТВЕННОЕ КАЗЕННОЕ УЧРЕЖДЕНИЕ РЯЗАНСКОЙ ОБЛАСТИ \"ЦЕНТР ЗАКУПОК РЯЗАНСКОЙ ОБЛАСТИ\"                                                                                                                                                                                                                        Поставка автомобиля                                                                                                                                Идентификационный код закупки(ИКЗ):                                                                                172623000105662300100102440012910000',\n",
       "       '№ 0865200000317001007                                                                                                                                                                                                                                                                                                                                                                                                                                                                                Организация, осуществляющая размещение:                                                                                                                                                                    ОБЛАСТНОЕ ГОСУДАРСТВЕННОЕ КАЗЕННОЕ УЧРЕЖДЕНИЕ \"ЦЕНТР ГОСУДАРСТВЕННЫХ ЗАКУПОК ТОМСКОЙ ОБЛАСТИ\"                                                                                                                                                                                                                        Поставка автомобиля                                                                                                                                Идентификационный код закупки(ИКЗ):                                                                                172700800545170080100100110012910244',\n",
       "       '№ 0836300015117000023                                                                                                                                                                                                                                                                                                                                                                                                                                                                                                                            Заказчик:                                                                                                                                                                                                                                                                                                                                                                                МУНИЦИПАЛЬНОЕ КАЗЕННОЕ УЧРЕЖДЕНИЕ \"ОРГАНИЗАЦИЯ АДМИНИСТРАТИВНОГО ОБСЛУЖИВАНИЯ\" МУНИЦИПАЛЬНОГО ОБРАЗОВАНИЯ \"КОНАКОВСКИЙ РАЙОН\" ТВЕРСКОЙ ОБЛАСТИ                                                                                                                                                                                                                                                                                                                                                                                                                                                                                    Поставка легкового автомобиля                                                                                                                                Идентификационный код закупки(ИКЗ):                                                                                173694901242769490100100320322910244',\n",
       "       '№ 0159300007617000010                                                                                                                                                                                                                                                                                                                                                                                                                                                                                Организация, осуществляющая размещение:                                                                                                                                                                    АДМИНИСТРАЦИЯ МУНИЦИПАЛЬНОГО ОБРАЗОВАНИЯ - САСОВСКИЙ МУНИЦИПАЛЬНЫЙ РАЙОН РЯЗАНСКОЙ ОБЛАСТИ                                                                                                                                                                                                                        Поставка легкового автомобиля                                                                                                                                Идентификационный код закупки(ИКЗ):                                                                                173621800535062180100100010012910244',\n",
       "       '№ 0153300066917000490                                                                                                                                                                                                                                                                                                                                                                                                                                                                                Организация, осуществляющая размещение:                                                                                                                                                                    АДМИНИСТРАЦИЯ ГОРОДА ОРЕНБУРГА                                                                                                                                                                                                                        Поставка легкового автомобиля для нужд муниципального казенного учреждения «Жилищно-коммунальное хозяйство»                                                                                                                                Идентификационный код закупки(ИКЗ):                                                                                173561106829856120100100060022910244',\n",
       "       '№ 0860200000817002603                                                                                                                                                                                                                                                                                                                                                                                                                                                                                Организация, осуществляющая размещение:                                                                                                                                                                    ГОСУДАРСТВЕННОЕ КАЗЕННОЕ УЧРЕЖДЕНИЕ САРАТОВСКОЙ ОБЛАСТИ \"ГОСУДАРСТВЕННОЕ АГЕНТСТВО ПО ЦЕНТРАЛИЗАЦИИ ЗАКУПОК\"                                                                                                                                                                                                                        Поставка автомобиля легкового                                                                                                                                Идентификационный код закупки(ИКЗ):                                                                                172645303264364510100102240012910244',\n",
       "       '№ 0573100016517000107                                                                                                                                                                                                                                                                                                                                                                                                                                                                                                                            Заказчик:                                                                                                                                                                                                                                                                                                                                                                                ФЕДЕРАЛЬНОЕ ГОСУДАРСТВЕННОЕ УНИТАРНОЕ ПРЕДПРИЯТИЕ \"УПРАВЛЕНИЕ ВЕДОМСТВЕННОЙ ОХРАНЫ МИНИСТЕРСТВА ТРАНСПОРТА РОССИЙСКОЙ ФЕДЕРАЦИИ\"                                                                                                                                                                                                                                                                                                                                                                                                                                                                                    Поставка автомобилей для нужд Средневолжского филиала ФГУП \"УВО Минтранса России\"                                                                                                                                Идентификационный код закупки(ИКЗ):                                                                                171770731136377250100102232262910244',\n",
       "       '№ 0369200028017000009                                                                                                                                                                                                                                                                                                                                                                                                                                                                                                                            Заказчик:                                                                                                                                                                                                                                                                                                                                                                                ОБЛАСТНОЕ ГОСУДАРСТВЕННОЕ УЧРЕЖДЕНИЕ \"ОСОБО ОХРАНЯЕМЫЕ ПРИРОДНЫЕ ТЕРРИТОРИИ ЧЕЛЯБИНСКОЙ ОБЛАСТИ\"                                                                                                                                                                                                                                                                                                                                                                                                                                                                                    Поставка легкового автомобиля                                                                                                                                Идентификационный код закупки(ИКЗ):                                                                                172745315094574530100100220232910244',\n",
       "       '№ 0849300004917000453                                                                                                                                                                                                                                                                                                                                                                                                                                                                                Организация, осуществляющая размещение:                                                                                                                                                                    МУРМАНСКОЕ МУНИЦИПАЛЬНОЕ КАЗЕННОЕ УЧРЕЖДЕНИЕ \"УПРАВЛЕНИЕ ЗАКУПОК\"                                                                                                                                                                                                                        поставка легкового автомобиля                                                                                                                                Идентификационный код закупки(ИКЗ):                                                                                173519000004451900100100310022910244',\n",
       "       '№ 0112200000817001303                                                                                                                                                                                                                                                                                                                                                                                                                                                                                Организация, осуществляющая размещение:                                                                                                                                                                    МИНИСТЕРСТВО РЕСПУБЛИКИ ТЫВА ПО РЕГУЛИРОВАНИЮ КОНТРАКТНОЙ СИСТЕМЫ В СФЕРЕ ЗАКУПОК                                                                                                                                                                                                                        Поставка легкового автомобиля для нужд ГБУЗ РТ \"Чаа-Хольская ЦКБ\"                                                                                                                                Идентификационный код закупки(ИКЗ):                                                                                172170105270717010100100030012910244',\n",
       "       '№ 0548200002217000025                                                                                                                                                                                                                                                                                                                                                                                                                                                                                                                            Заказчик:                                                                                                                                                                                                                                                                                                                                                                                ГОСУДАРСТВЕННОЕ УНИТАРНОЕ ПРЕДПРИЯТИЕ МОСКОВСКОЙ ОБЛАСТИ \"МОСКОВСКОЕ ОБЛАСТНОЕ БЮРО ТЕХНИЧЕСКОЙ ИНВЕНТАРИЗАЦИИ\"                                                                                                                                                                                                                                                                                                                                                                                                                                                                                    Электронный аукцион на право заключения контракта на поставку легкового автомобиля бизнес-класса российской сборки для выполнения производственных задач ГУП МО «МОБТИ»                                                                                                                                Идентификационный код закупки(ИКЗ):                                                                                172500000138850240100100390312910000',\n",
       "       '№ 0131300000617000864                                                                                                                                                                                                                                                                                                                                                                                                                                                                                Организация, осуществляющая размещение:                                                                                                                                                                    АДМИНИСТРАЦИЯ ГОРОДСКОГО ОКРУГА ГОРОД ВОРОНЕЖ                                                                                                                                                                                                                        Поставка автомобиля                                                                                                                                Идентификационный код закупки(ИКЗ):                                                                                173365000197736620100100120012910000',\n",
       "       '№ 0860200000817002505                                                                                                                                                                                                                                                                                                                                                                                                                                                                                Организация, осуществляющая размещение:                                                                                                                                                                    ГОСУДАРСТВЕННОЕ КАЗЕННОЕ УЧРЕЖДЕНИЕ САРАТОВСКОЙ ОБЛАСТИ \"ГОСУДАРСТВЕННОЕ АГЕНТСТВО ПО ЦЕНТРАЛИЗАЦИИ ЗАКУПОК\"                                                                                                                                                                                                                        Поставка товара \"Легковой автомобиль\" для нужд ГУЗ \"СГП №9\"                                                                                                                                Идентификационный код закупки(ИКЗ):                                                                                173645305295364530100100310312910244',\n",
       "       '№ 0832200006617000202                                                                                                                                                                                                                                                                                                                                                                                                                                                                                Организация, осуществляющая размещение:                                                                                                                                                                    ГОСУДАРСТВЕННОЕ КАЗЕННОЕ УЧРЕЖДЕНИЕ НИЖЕГОРОДСКОЙ ОБЛАСТИ \"ЦЕНТР РАЗМЕЩЕНИЯ ЗАКАЗА НИЖЕГОРОДСКОЙ ОБЛАСТИ\"                                                                                                                                                                                                                         Легковой автомобиль                                                                                                                                 Идентификационный код закупки(ИКЗ):                                                                                172526041810252600100100040012910244',\n",
       "       '№ 0302100013517000135                                                                                                                                                                                                                                                                                                                                                                                                                                                                                                                            Заказчик:                                                                                                                                                                                                                                                                                                                                                                                ГОСУДАРСТВЕННОЕ УЧРЕЖДЕНИЕ-РЕГИОНАЛЬНОЕ ОТДЕЛЕНИЕ ФОНДА СОЦИАЛЬНОГО СТРАХОВАНИЯ РОССИЙСКОЙ ФЕДЕРАЦИИ ПО РЕСПУБЛИКЕ БУРЯТИЯ                                                                                                                                                                                                                                                                                                                                                                                                                                                                                    Поставка автомобилей с адаптированными органами управления, предназначенных для застрахованных лиц, получивших повреждение здоровья вследствие несчастных случаев на производстве, используемых для их реабилитации\\t                                                                                                                                Идентификационный код закупки(ИКЗ):                                                                                171032301257103260100100150062910323',\n",
       "       '№ 0167200003417002349                                                                                                                                                                                                                                                                                                                                                                                                                                                                                Организация, осуществляющая размещение:                                                                                                                                                                    УПРАВЛЕНИЕ ГОСУДАРСТВЕННЫХ ЗАКУПОК ТЮМЕНСКОЙ ОБЛАСТИ                                                                                                                                                                                                                        АЭ-1912/17 на поставку автомобилей.                                                                                                                                Идентификационный код закупки(ИКЗ):                                                                                172720213702572030100100660012910244',\n",
       "       '№ 0151300024817000003                                                                                                                                                                                                                                                                                                                                                                                                                                                                                                                            Заказчик:                                                                                                                                                                                                                                                                                                                                                                                АДМИНИСТРАЦИЯ ВАССИНСКОГО СЕЛЬСОВЕТА ТОГУЧИНСКОГО РАЙОНА НОВОСИБИРСКОЙ ОБЛАСТИ                                                                                                                                                                                                                                                                                                                                                                                                                                                                                    Поставка легкового автомобиля                                                                                                                                Идентификационный код закупки(ИКЗ):                                                                                173543810294354380100100070012910244',\n",
       "       '№ 0320300111617000064                                                                                                                                                                                                                                                                                                                                                                                                                                                                                                                            Заказчик:                                                                                                                                                                                                                                                                                                                                                                                МУНИЦИПАЛЬНОЕ КАЗЕННОЕ УЧРЕЖДЕНИЕ \"ХОЗЯЙСТВЕННОЕ УПРАВЛЕНИЕ АДМИНИСТРАЦИИ ГОРОДА ВЛАДИВОСТОКА\"                                                                                                                                                                                                                                                                                                                                                                                                                                                                                    транспортные средства                                                                                                                                Идентификационный код закупки(ИКЗ):                                                                                173253812795325380100102410012910244',\n",
       "       '№ 0573100006917000017                                                                                                                                                                                                                                                                                                                                                                                                                                                                                                                            Заказчик:                                                                                                                                                                                                                                                                                                                                                                                ФЕДЕРАЛЬНОЕ ГОСУДАРСТВЕННОЕ УНИТАРНОЕ ПРЕДПРИЯТИЕ \"МОСКОВСКИЙ ЗАВОД ПО ОБРАБОТКЕ СПЕЦИАЛЬНЫХ СПЛАВОВ\"                                                                                                                                                                                                                                                                                                                                                                                                                                                                                    Приобретение легковых автомобилей в количестве 2 шт. для нужд ФГУП \"МЗСС\"                                                                                                                                 Идентификационный код закупки(ИКЗ):                                                                                171772801066377280100100110112910000',\n",
       "       '№ 0153300048517000001                                                                                                                                                                                                                                                                                                                                                                                                                                                                                                                            Заказчик:                                                                                                                                                                                                                                                                                                                                                                                АДМИНИСТРАЦИЯ МУНИЦИПАЛЬНОГО ОБРАЗОВАНИЯ ВОСТОЧНЫЙ СЕЛЬСОВЕТ СВЕТЛИНСКОГО РАЙОНА ОРЕНБУРГСКОЙ ОБЛАСТИ                                                                                                                                                                                                                                                                                                                                                                                                                                                                                    Приобретение легкового автомобиля для нужд администрации Восточный сельсовет Светлинского района Оренбургской области.                                                                                                                                 Идентификационный код закупки(ИКЗ):                                                                                173564400442056440100100020012910244',\n",
       "       '№ 0142300027117000104                                                                                                                                                                                                                                                                                                                                                                                                                                                                                Организация, осуществляющая размещение:                                                                                                                                                                    АДМИНИСТРАЦИЯ МУНИЦИПАЛЬНОГО РАЙОНА СТАВРОПОЛЬСКИЙ САМАРСКОЙ ОБЛАСТИ                                                                                                                                                                                                                        Поставка легкового автомобиля для нужд сельского поселения Бахилово муниципального района Ставропольский Самарской области                                                                                                                                Идентификационный код закупки(ИКЗ):                                                                                173638205046763820100100330332910244',\n",
       "       '№ 0574500000117000041                                                                                                                                                                                                                                                                                                                                                                                                                                                                                                                            Заказчик:                                                                                                                                                                                                                                                                                                                                                                                ГОСУДАРСТВЕННОЕ УНИТАРНОЕ ПРЕДПРИЯТИЕ ГОРОДА СЕВАСТОПОЛЯ \"СЕВЭЛЕКТРОАВТОТРАНС ИМ. А.С.КРУПОДЁРОВА\"                                                                                                                                                                                                                                                                                                                                                                                                                                                                                    Поставка автомобиля                                                                                                                                Идентификационный код закупки(ИКЗ):                                                                                172920400144092040100100210042910000',\n",
       "       '№ 0159300007617000011                                                                                                                                                                                                                                                                                                                                                                                                                                                                                Организация, осуществляющая размещение:                                                                                                                                                                    АДМИНИСТРАЦИЯ МУНИЦИПАЛЬНОГО ОБРАЗОВАНИЯ - САСОВСКИЙ МУНИЦИПАЛЬНЫЙ РАЙОН РЯЗАНСКОЙ ОБЛАСТИ                                                                                                                                                                                                                        Поставка легкового автомобиля                                                                                                                                Идентификационный код закупки(ИКЗ):                                                                                173621800523062180100100010012910244',\n",
       "       '№ 0128100000517000019                                                                                                                                                                                                                                                                                                                                                                                                                                                                                                                            Заказчик:                                                                                                                                                                                                                                                                                                                                                                                УПРАВЛЕНИЕ ФЕДЕРАЛЬНОЙ СЛУЖБЫ ПО ВЕТЕРИНАРНОМУ И ФИТОСАНИТАРНОМУ НАДЗОРУ ПО ВЛАДИМИРСКОЙ ОБЛАСТИ                                                                                                                                                                                                                                                                                                                                                                                                                                                                                    Закупка автомобиля                                                                                                                                Идентификационный код закупки(ИКЗ):                                                                                171332810325033270100100230182910244',\n",
       "       '№ 0172200001617000063                                                                                                                                                                                                                                                                                                                                                                                                                                                                                                                            Заказчик:                                                                                                                                                                                                                                                                                                                                                                                КОМИТЕТ ПО ПРИРОДОПОЛЬЗОВАНИЮ, ОХРАНЕ ОКРУЖАЮЩЕЙ СРЕДЫ И ОБЕСПЕЧЕНИЮ ЭКОЛОГИЧЕСКОЙ БЕЗОПАСНОСТИ                                                                                                                                                                                                                                                                                                                                                                                                                                                                                    Поставка автомобиля повышенной проходимости для оснащения его оборудованием мониторинга скважин подземных вод                                                                                                                                Идентификационный код закупки(ИКЗ):                                                                                172781501552378410100101420012910244',\n",
       "       '№ 0373200003117000181                                                                                                                                                                                                                                                                                                                                                                                                                                                                                Организация, осуществляющая размещение:                                                                                                                                                                    ГОСУДАРСТВЕННОЕ КАЗЕННОЕ УЧРЕЖДЕНИЕ ГОРОДА МОСКВЫ \"ДИРЕКЦИЯ ДЕПАРТАМЕНТА ПРИРОДОПОЛЬЗОВАНИЯ И ОХРАНЫ ОКРУЖАЮЩЕЙ СРЕДЫ ГОРОДА МОСКВЫ\"                                                                                                                                                                                                                        Электронный аукцион на право заключения государственного контракта на приобретение автомобилей                                                                                                                                Идентификационный код закупки(ИКЗ):                                                                                172770451733477290100101420012910244',\n",
       "       '№ 0548200002217000023                                                                                                                                                                                                                                                                                                                                                                                                                                                                                                                            Заказчик:                                                                                                                                                                                                                                                                                                                                                                                ГОСУДАРСТВЕННОЕ УНИТАРНОЕ ПРЕДПРИЯТИЕ МОСКОВСКОЙ ОБЛАСТИ \"МОСКОВСКОЕ ОБЛАСТНОЕ БЮРО ТЕХНИЧЕСКОЙ ИНВЕНТАРИЗАЦИИ\"                                                                                                                                                                                                                                                                                                                                                                                                                                                                                    Электронный аукцион на право заключения контракта на поставку шести легковых автомобилей эконом-класса российской сборки для выполнения производственных задач ГУП МО «МОБТИ»                                                                                                                                Идентификационный код закупки(ИКЗ):                                                                                172500000138850240100100510332910000',\n",
       "       '№ 0137300021317000073                                                                                                                                                                                                                                                                                                                                                                                                                                                                                Организация, осуществляющая размещение:                                                                                                                                                                    АДМИНИСТРАЦИЯ МУНИЦИПАЛЬНОГО РАЙОНА \"ЖУКОВСКИЙ РАЙОН\"                                                                                                                                                                                                                        Поставка автомобиля (Реестровый номер: 540Э-21/17сб)                                                                                                                                Идентификационный код закупки(ИКЗ):                                                                                173400701655040070100100030012910244',\n",
       "       '№ 0139300013017000535                                                                                                                                                                                                                                                                                                                                                                                                                                                                                Организация, осуществляющая размещение:                                                                                                                                                                    АДМИНИСТРАЦИЯ МЕЖДУРЕЧЕНСКОГО ГОРОДСКОГО ОКРУГА                                                                                                                                                                                                                        Приобретение автомобиля                                                                                                                                Идентификационный код закупки(ИКЗ):                                                                                173421401063842140100100960012910244',\n",
       "       '№ 0573100012217000122                                                                                                                                                                                                                                                                                                                                                                                                                                                                                                                            Заказчик:                                                                                                                                                                                                                                                                                                                                                                                ФЕДЕРАЛЬНОЕ ГОСУДАРСТВЕННОЕ УНИТАРНОЕ ПРЕДПРИЯТИЕ \"СВЯЗЬ - БЕЗОПАСНОСТЬ\"                                                                                                                                                                                                                                                                                                                                                                                                                                                                                    Поставка легкового автомобиля для нужд ФГУП «СВЯЗЬ-безопасность» в г. Казань                                                                                                                                Идентификационный код закупки(ИКЗ):                                                                                171772423216877070100100320032910000',\n",
       "       '№ 0150100006017000033                                                                                                                                                                                                                                                                                                                                                                                                                                                                                                                            Заказчик:                                                                                                                                                                                                                                                                                                                                                                                УПРАВЛЕНИЕ ФЕДЕРАЛЬНОЙ СЛУЖБЫ ПО ВЕТЕРИНАРНОМУ И ФИТОСАНИТАРНОМУ НАДЗОРУ ПО НОВГОРОДСКОЙ И ВОЛОГОДСКОЙ ОБЛАСТЯМ                                                                                                                                                                                                                                                                                                                                                                                                                                                                                    Приобретение автотранспортного средства                                                                                                                                 Идентификационный код закупки(ИКЗ):                                                                                171532110159253210100100340342910244',\n",
       "       '№ 0301200067817000002                                                                                                                                                                                                                                                                                                                                                                                                                                                                                                                            Заказчик:                                                                                                                                                                                                                                                                                                                                                                                ГОСУДАРСТВЕННОЕ БЮДЖЕТНОЕ УЧРЕЖДЕНИЕ ВЕТЕРИНАРНАЯ СТАНЦИЯ БАЙМАКСКОГО РАЙОНА И ГОРОДА СИБАЯ РЕСПУБЛИКИ БАШКОРТОСТАН                                                                                                                                                                                                                                                                                                                                                                                                                                                                                    Приобретение автомобиля                                                                                                                                Идентификационный код закупки(ИКЗ):                                                                                172025400150502540100100440442910244',\n",
       "       '№ 0327100006017000036                                                                                                                                                                                                                                                                                                                                                                                                                                                                                                                            Заказчик:                                                                                                                                                                                                                                                                                                                                                                                ФЕДЕРАЛЬНОЕ КАЗЕННОЕ УЧРЕЖДЕНИЕ \"ГЛАВНОЕ БЮРО МЕДИКО-СОЦИАЛЬНОЙ ЭКСПЕРТИЗЫ ПО БРЯНСКОЙ ОБЛАСТИ\" МИНИСТЕРСТВА ТРУДА И СОЦИАЛЬНОЙ ЗАЩИТЫ РОССИЙСКОЙ ФЕДЕРАЦИИ                                                                                                                                                                                                                                                                                                                                                                                                                                                                                    Легковой автомобиль                                                                                                                                Идентификационный код закупки(ИКЗ):                                                                                171325005757332570100130470012910244',\n",
       "       '№ 0324100005017000056                                                                                                                                                                                                                                                                                                                                                                                                                                                                                                                            Заказчик:                                                                                                                                                                                                                                                                                                                                                                                ФЕДЕРАЛЬНОЕ КАЗЕННОЕ УЧРЕЖДЕНИЕ \"ГЛАВНОЕ БЮРО МЕДИКО-СОЦИАЛЬНОЙ ЭКСПЕРТИЗЫ ПО АРХАНГЕЛЬСКОЙ ОБЛАСТИ И НЕНЕЦКОМУ АВТОНОМНОМУ ОКРУГУ\" МИНИСТЕРСТВА ТРУДА И СОЦИАЛЬНОЙ ЗАЩИТЫ РОССИЙСКОЙ ФЕДЕРАЦИИ                                                                                                                                                                                                                                                                                                                                                                                                                                                                                    Средства транспортные с двигателем с искровым зажиганием, с рабочим объемом цилиндров более 1500 см3, новые                                                                                                                                Идентификационный код закупки(ИКЗ):                                                                                171290113152429010100100380042910244',\n",
       "       '№ 0160300002917000002                                                                                                                                                                                                                                                                                                                                                                                                                                                                                                                            Заказчик:                                                                                                                                                                                                                                                                                                                                                                                АДМИНИСТРАЦИЯ БЕЗЫМЯНСКОГО МУНИЦИПАЛЬНОГО ОБРАЗОВАНИЯ                                                                                                                                                                                                                                                                                                                                                                                                                                                                                    Поставка автомобиля для администрации Безымянского муниципального образования Энгельсского муниципального района Саратовской области                                                                                                                                Идентификационный код закупки(ИКЗ):                                                                                173644903714164490100100050012910244',\n",
       "       '№ 0320200013217000034                                                                                                                                                                                                                                                                                                                                                                                                                                                                                                                            Заказчик:                                                                                                                                                                                                                                                                                                                                                                                КРАЕВОЕ ГОСУДАРСТВЕННОЕ БЮДЖЕТНОЕ УЧРЕЖДЕНИЕ СОЦИАЛЬНОГО ОБСЛУЖИВАНИЯ \"АРТЁМОВСКИЙ СОЦИАЛЬНО-РЕАБИЛИТАЦИОННЫЙ ЦЕНТР ДЛЯ НЕСОВЕРШЕННОЛЕТНИХ\"                                                                                                                                                                                                                                                                                                                                                                                                                                                                                    Поставка легкого автомобиля Lada Largus или эквивалент                                                                                                                                Идентификационный код закупки(ИКЗ):                                                                                172250202835625020100117750292910244',\n",
       "       '№ 0832200006617000270                                                                                                                                                                                                                                                                                                                                                                                                                                                                                Организация, осуществляющая размещение:                                                                                                                                                                    ГОСУДАРСТВЕННОЕ КАЗЕННОЕ УЧРЕЖДЕНИЕ НИЖЕГОРОДСКОЙ ОБЛАСТИ \"ЦЕНТР РАЗМЕЩЕНИЯ ЗАКАЗА НИЖЕГОРОДСКОЙ ОБЛАСТИ\"                                                                                                                                                                                                                        Поставка легкового автомобиля                                                                                                                                Идентификационный код закупки(ИКЗ):                                                                                172524302981152430100100650012910244',\n",
       "       '№ 0832200006617000203                                                                                                                                                                                                                                                                                                                                                                                                                                                                                Организация, осуществляющая размещение:                                                                                                                                                                    ГОСУДАРСТВЕННОЕ КАЗЕННОЕ УЧРЕЖДЕНИЕ НИЖЕГОРОДСКОЙ ОБЛАСТИ \"ЦЕНТР РАЗМЕЩЕНИЯ ЗАКАЗА НИЖЕГОРОДСКОЙ ОБЛАСТИ\"                                                                                                                                                                                                                        Поставка автомобиля                                                                                                                                Идентификационный код закупки(ИКЗ):                                                                                172523500672252350100100090012910244',\n",
       "       '№ 0150200000617000331                                                                                                                                                                                                                                                                                                                                                                                                                                                                                Организация, осуществляющая размещение:                                                                                                                                                                    ДЕПАРТАМЕНТ ИМУЩЕСТВЕННЫХ ОТНОШЕНИЙ И ГОСУДАРСТВЕННЫХ ЗАКУПОК НОВГОРОДСКОЙ ОБЛАСТИ                                                                                                                                                                                                                        Поставка автомобилей Лада 4*4 (или эквивалент) с дополнительной комплектацией                                                                                                                                 Идентификационный код закупки(ИКЗ):                                                                                172532110262053210100100300332910244',\n",
       "       '№ 0166300004217000034                                                                                                                                                                                                                                                                                                                                                                                                                                                                                Организация, осуществляющая размещение:                                                                                                                                                                    АДМИНИСТРАЦИЯ МУНИЦИПАЛЬНОГО ОБРАЗОВАНИЯ КИМОВСКИЙ РАЙОН                                                                                                                                                                                                                        Поставка автомобиля повышенной проходимости                                                                                                                                Идентификационный код закупки(ИКЗ):                                                                                173711550158171150100100170022910244',\n",
       "       '№ 0373100064617000426                                                                                                                                                                                                                                                                                                                                                                                                                                                                                                                            Заказчик:                                                                                                                                                                                                                                                                                                                                                                                ФЕДЕРАЛЬНОЕ ГОСУДАРСТВЕННОЕ КАЗЕННОЕ УЧРЕЖДЕНИЕ \"ВОЙСКОВАЯ ЧАСТЬ 55056\"                                                                                                                                                                                                                                                                                                                                                                                                                                                                                    Легковые автомобили                                                                                                                                Идентификационный код закупки(ИКЗ):                                                                                171770236131477020100103176330000211',\n",
       "       '№ 0324100005017000057                                                                                                                                                                                                                                                                                                                                                                                                                                                                                                                            Заказчик:                                                                                                                                                                                                                                                                                                                                                                                ФЕДЕРАЛЬНОЕ КАЗЕННОЕ УЧРЕЖДЕНИЕ \"ГЛАВНОЕ БЮРО МЕДИКО-СОЦИАЛЬНОЙ ЭКСПЕРТИЗЫ ПО АРХАНГЕЛЬСКОЙ ОБЛАСТИ И НЕНЕЦКОМУ АВТОНОМНОМУ ОКРУГУ\" МИНИСТЕРСТВА ТРУДА И СОЦИАЛЬНОЙ ЗАЩИТЫ РОССИЙСКОЙ ФЕДЕРАЦИИ                                                                                                                                                                                                                                                                                                                                                                                                                                                                                    Средства транспортные с двигателем с искровым зажиганием, с рабочим объемом цилиндров более 1500 см3, новые                                                                                                                                Идентификационный код закупки(ИКЗ):                                                                                171290113152429010100100380052910244',\n",
       "       '№ 0360100032817000028                                                                                                                                                                                                                                                                                                                                                                                                                                                                                                                            Заказчик:                                                                                                                                                                                                                                                                                                                                                                                БАЛАКОВСКИЙ РАЙОН ГИДРОТЕХНИЧЕСКИХ СООРУЖЕНИЙ И СУДОХОДСТВА - ФИЛИАЛ ФЕДЕРАЛЬНОГО БЮДЖЕТНОГО УЧРЕЖДЕНИЯ \"АДМИНИСТРАЦИЯ ВОЛЖСКОГО БАССЕЙНА ВНУТРЕННИХ ВОДНЫХ ПУТЕЙ\"                                                                                                                                                                                                                                                                                                                                                                                                                                                                                    Поставка легкового автомобиля                                                                                                                                Идентификационный код закупки(ИКЗ):                                                                                171526090187064390200100350014511244',\n",
       "       '№ 0143300023417000018                                                                                                                                                                                                                                                                                                                                                                                                                                                                                Организация, осуществляющая размещение:                                                                                                                                                                    АДМИНИСТРАЦИЯ КЕТОВСКОГО РАЙОНА КУРГАНСКОЙ ОБЛАСТИ                                                                                                                                                                                                                        Поставка легкового автомобиля по программе утилизации                                                                                                                                Идентификационный код закупки(ИКЗ):                                                                                173451000530045100100100030022910244',\n",
       "       '№ 0848500002617000016                                                                                                                                                                                                                                                                                                                                                                                                                                                                                                                            Заказчик:                                                                                                                                                                                                                                                                                                                                                                                ГОСУДАРСТВЕННОЕ КАЗЕННОЕ УЧРЕЖДЕНИЕ МОСКОВСКОЙ ОБЛАСТИ \"ЦЕНТРАЛИЗОВАННАЯ БУХГАЛТЕРИЯ МОСКОВСКОЙ ОБЛАСТИ\"                                                                                                                                                                                                                                                                                                                                                                                                                                                                                    Средства автотранспортные                                                                                                                                Идентификационный код закупки(ИКЗ):                                                                                172504014619650400100100050022910244',\n",
       "       '№ 0142200001317006285                                                                                                                                                                                                                                                                                                                                                                                                                                                                                Организация, осуществляющая размещение:                                                                                                                                                                    ГЛАВНОЕ  УПРАВЛЕНИЕ  ОРГАНИЗАЦИИ  ТОРГОВ  САМАРСКОЙ ОБЛАСТИ                                                                                                                                                                                                                        Поставка легкового автомобиля для нужд государственного бюджетного учреждения дополнительного профессионального образования Самарской области «Чапаевский ресурсный центр»                                                                                                                                Идентификационный код закупки(ИКЗ):                                                                                172633500958163300100100180012910000',\n",
       "       '№ 0373100087417000041                                                                                                                                                                                                                                                                                                                                                                                                                                                                                                                            Заказчик:                                                                                                                                                                                                                                                                                                                                                                                ФЕДЕРАЛЬНОЕ ГОСУДАРСТВЕННОЕ БЮДЖЕТНОЕ УЧРЕЖДЕНИЕ \"ФЕДЕРАЛЬНЫЙ ИНСТИТУТ ПРОМЫШЛЕННОЙ СОБСТВЕННОСТИ\"                                                                                                                                                                                                                                                                                                                                                                                                                                                                                    Поставка легкового автомобиля                                                                                                                                Идентификационный код закупки(ИКЗ):                                                                                171773003607377300100100730732910244',\n",
       "       '№ 0373100090917000045                                                                                                                                                                                                                                                                                                                                                                                                                                                                                                                            Заказчик:                                                                                                                                                                                                                                                                                                                                                                                ФЕДЕРАЛЬНОЕ ГОСУДАРСТВЕННОЕ УНИТАРНОЕ ПРЕДПРИЯТИЕ \"АДМИНИСТРАЦИЯ ГРАЖДАНСКИХ АЭРОПОРТОВ (АЭРОДРОМОВ)\"                                                                                                                                                                                                                                                                                                                                                                                                                                                                                    Поставка легковых автомобилей                                                                                                                                Идентификационный код закупки(ИКЗ):                                                                                171771427690677430100101271412910000',\n",
       "       '№ 0306200019417000022                                                                                                                                                                                                                                                                                                                                                                                                                                                                                                                            Заказчик:                                                                                                                                                                                                                                                                                                                                                                                ГОСУДАРСТВЕННОЕ БЮДЖЕТНОЕ УЧРЕЖДЕНИЕ РЕСПУБЛИКИ КАРЕЛИЯ \"РЕСПУБЛИКАНСКАЯ СТАНЦИЯ ПО БОРЬБЕ С БОЛЕЗНЯМИ ЖИВОТНЫХ\"                                                                                                                                                                                                                                                                                                                                                                                                                                                                                    Приобретение автомобильного транспорта                                                                                                                                Идентификационный код закупки(ИКЗ):                                                                                172100130667410010100100050012910244',\n",
       "       '№ 0574500000117000042                                                                                                                                                                                                                                                                                                                                                                                                                                                                                                                            Заказчик:                                                                                                                                                                                                                                                                                                                                                                                ГОСУДАРСТВЕННОЕ УНИТАРНОЕ ПРЕДПРИЯТИЕ ГОРОДА СЕВАСТОПОЛЯ \"СЕВЭЛЕКТРОАВТОТРАНС ИМ. А.С.КРУПОДЁРОВА\"                                                                                                                                                                                                                                                                                                                                                                                                                                                                                    Поставка пассажирского автомобиля                                                                                                                                Идентификационный код закупки(ИКЗ):                                                                                172920400144092040100100210032910000',\n",
       "       '№ 0165300020117000003                                                                                                                                                                                                                                                                                                                                                                                                                                                                                                                            Заказчик:                                                                                                                                                                                                                                                                                                                                                                                МУНИЦИПАЛЬНОЕ  КАЗЕННОЕ УЧРЕЖДЕНИЕ ОТДЕЛ ОБРАЗОВАНИЯ АДМИНИСТРАЦИИ ПАРАБЕЛЬСКОГО РАЙОНА                                                                                                                                                                                                                                                                                                                                                                                                                                                                                    Поставка автомобиля                                                                                                                                Идентификационный код закупки(ИКЗ):                                                                                173701100168070110100100050062910244',\n",
       "       '№ 0372100039717000014                                                                                                                                                                                                                                                                                                                                                                                                                                                                                                                            Заказчик:                                                                                                                                                                                                                                                                                                                                                                                ФЕДЕРАЛЬНОЕ ГОСУДАРСТВЕННОЕ БЮДЖЕТНОЕ НАУЧНОЕ УЧРЕЖДЕНИЕ \"ФЕДЕРАЛЬНЫЙ ИССЛЕДОВАТЕЛЬСКИЙ ЦЕНТР ВСЕРОССИЙСКИЙ ИНСТИТУТ ГЕНЕТИЧЕСКИХ РЕСУРСОВ РАСТЕНИЙ ИМЕНИ Н.И. ВАВИЛОВА\"                                                                                                                                                                                                                                                                                                                                                                                                                                                                                    Поставка автомобиля для нужд ВИР                                                                                                                                Идентификационный код закупки(ИКЗ):                                                                                171781202940878380100100170172910244',\n",
       "       '№ 0832200006617000286                                                                                                                                                                                                                                                                                                                                                                                                                                                                                Организация, осуществляющая размещение:                                                                                                                                                                    ГОСУДАРСТВЕННОЕ КАЗЕННОЕ УЧРЕЖДЕНИЕ НИЖЕГОРОДСКОЙ ОБЛАСТИ \"ЦЕНТР РАЗМЕЩЕНИЯ ЗАКАЗА НИЖЕГОРОДСКОЙ ОБЛАСТИ\"                                                                                                                                                                                                                        Поставка легкового автомобиля для нужд государственного бюджетного учреждения здравоохранения Нижегородской области «Городская больница № 28 Московского района г. Нижнего Новгорода»                                                                                                                                Идентификационный код закупки(ИКЗ):                                                                                172525901152052590100189190012910244',\n",
       "       '№ 0148300050717000302                                                                                                                                                                                                                                                                                                                                                                                                                                                                                Организация, осуществляющая размещение:                                                                                                                                                                    МУНИЦИПАЛЬНОЕ КАЗЕННОЕ УЧРЕЖДЕНИЕ \"ЦЕНТР ЗАКУПОК\"                                                                                                                                                                                                                        Поставка автомобиля                                                                                                                                Идентификационный код закупки(ИКЗ):                                                                                173501703451150170100100720012910000',\n",
       "       '№ 0858300002817000002                                                                                                                                                                                                                                                                                                                                                                                                                                                                                                                            Заказчик:                                                                                                                                                                                                                                                                                                                                                                                МУНИЦИПАЛЬНОЕ КАЗЕННОЕ УЧРЕЖДЕНИЕ ТАЦИНСКОГО РАЙОНА \"УПРАВЛЕНИЕ ПО ДЕЛАМ ГРАЖДАНСКОЙ ОБОРОНЫ И ЧРЕЗВЫЧАЙНЫХ СИТУАЦИЙ\"                                                                                                                                                                                                                                                                                                                                                                                                                                                                                    Средства транспортные с двигателем с искровым зажиганием, с рабочим объемом цилиндров более 1500 см3, новые                                                                                                                                Идентификационный код закупки(ИКЗ):                                                                                173613401226361340100100020012910244',\n",
       "       '№ 0152300010217000011                                                                                                                                                                                                                                                                                                                                                                                                                                                                                Организация, осуществляющая размещение:                                                                                                                                                                    АДМИНИСТРАЦИЯ АЗОВСКОГО НЕМЕЦКОГО НАЦИОНАЛЬНОГО МУНИЦИПАЛЬНОГО РАЙОНА ОМСКОЙ ОБЛАСТИ                                                                                                                                                                                                                        Поставка легкового автомобиля                                                                                                                                Идентификационный код закупки(ИКЗ):                                                                                173550900703055090100100040042910244',\n",
       "       '№ 0130200002417001321                                                                                                                                                                                                                                                                                                                                                                                                                                                                                Организация, осуществляющая размещение:                                                                                                                                                                    КОМИТЕТ ГОСУДАРСТВЕННОГО ЗАКАЗА ВОЛОГОДСКОЙ ОБЛАСТИ                                                                                                                                                                                                                        Поставка автомобиля                                                                                                                                 Идентификационный код закупки(ИКЗ):                                                                                172352600857635260100100630012910244',\n",
       "       '№ 0846500000317000009                                                                                                                                                                                                                                                                                                                                                                                                                                                                                                                            Заказчик:                                                                                                                                                                                                                                                                                                                                                                                ОБЛАСТНОЕ КАЗЕННОЕ УЧРЕЖДЕНИЕ \"ДОРОЖНОЕ АГЕНТСТВО ЛИПЕЦКОЙ ОБЛАСТИ\"                                                                                                                                                                                                                                                                                                                                                                                                                                                                                    Поставка легкового автомобиля                                                                                                                                 Идентификационный код закупки(ИКЗ):                                                                                172482612972848260100100100080000244',\n",
       "       '№ 0142200001317006286                                                                                                                                                                                                                                                                                                                                                                                                                                                                                Организация, осуществляющая размещение:                                                                                                                                                                    ГЛАВНОЕ  УПРАВЛЕНИЕ  ОРГАНИЗАЦИИ  ТОРГОВ  САМАРСКОЙ ОБЛАСТИ                                                                                                                                                                                                                        Поставка легковых автомобилей с мощностью двигателя до 100 лошадиных сил включительно в соответствии с Законом Самарской области от 03.07.2002  № 45-ГД «Об обеспечении автотранспортными средствами детей-инвалидов и инвалидов с детства»                                                                                                                                Идентификационный код закупки(ИКЗ):                                                                                172631617629863160100100050012910323',\n",
       "       '№ 0832200006617000277                                                                                                                                                                                                                                                                                                                                                                                                                                                                                Организация, осуществляющая размещение:                                                                                                                                                                    ГОСУДАРСТВЕННОЕ КАЗЕННОЕ УЧРЕЖДЕНИЕ НИЖЕГОРОДСКОЙ ОБЛАСТИ \"ЦЕНТР РАЗМЕЩЕНИЯ ЗАКАЗА НИЖЕГОРОДСКОЙ ОБЛАСТИ\"                                                                                                                                                                                                                        Поставка легковых автомобилей                                                                                                                                Идентификационный код закупки(ИКЗ):                                                                                172526003389652600100102400012910244',\n",
       "       '№ 0130200002417001169                                                                                                                                                                                                                                                                                                                                                                                                                                                                                Организация, осуществляющая размещение:                                                                                                                                                                    КОМИТЕТ ГОСУДАРСТВЕННОГО ЗАКАЗА ВОЛОГОДСКОЙ ОБЛАСТИ                                                                                                                                                                                                                        Поставка легковых автомобилей.                                                                                                                                Идентификационный код закупки(ИКЗ):                                                                                172352515504935250100100440052910244',\n",
       "       '№ 0112200000817001565                                                                                                                                                                                                                                                                                                                                                                                                                                                                                Организация, осуществляющая размещение:                                                                                                                                                                    МИНИСТЕРСТВО РЕСПУБЛИКИ ТЫВА ПО РЕГУЛИРОВАНИЮ КОНТРАКТНОЙ СИСТЕМЫ В СФЕРЕ ЗАКУПОК                                                                                                                                                                                                                        Закупка автомобиля для нужд ГБУЗ РТ \"Тере-Хольская ЦКБ\"                                                                                                                                Идентификационный код закупки(ИКЗ):                                                                                172170105270717010100100030052910244',\n",
       "       '№ 0865200000317001133                                                                                                                                                                                                                                                                                                                                                                                                                                                                                Организация, осуществляющая размещение:                                                                                                                                                                    ОБЛАСТНОЕ ГОСУДАРСТВЕННОЕ КАЗЕННОЕ УЧРЕЖДЕНИЕ \"ЦЕНТР ГОСУДАРСТВЕННЫХ ЗАКУПОК ТОМСКОЙ ОБЛАСТИ\"                                                                                                                                                                                                                        Поставка легкового автомобиля                                                                                                                                Идентификационный код закупки(ИКЗ):                                                                                172701716958370170100100510012910244',\n",
       "       '№ 0232000000117000074                                                                                                                                                                                                                                                                                                                                                                                                                                                                                                                            Заказчик:                                                                                                                                                                                                                                                                                                                                                                                ГОСУДАРСТВЕННОЕ УЧРЕЖДЕНИЕ-НИЖЕГОРОДСКОЕ РЕГИОНАЛЬНОЕ ОТДЕЛЕНИЕ ФОНДА СОЦИАЛЬНОГО СТРАХОВАНИЯ РОССИЙСКОЙ ФЕДЕРАЦИИ                                                                                                                                                                                                                                                                                                                                                                                                                                                                                    Поставка в 2017 году автомобилей с адаптированными органами управления, предназначенных для застрахованных лиц с ограниченными физическими возможностями, получивших повреждение здоровья вследствие несчастного случая на производстве и (или) профессионального заболевания, используемых для их реабилитации \\t\\t\\t                                                                                                                                Идентификационный код закупки(ИКЗ):                                                                                174526001988452600100100390012910323',\n",
       "       '№ 0352300219517000038                                                                                                                                                                                                                                                                                                                                                                                                                                                                                                                            Заказчик:                                                                                                                                                                                                                                                                                                                                                                                МУНИЦИПАЛЬНОЕ КАЗЕННОЕ УЧРЕЖДЕНИЕ \"ХОЗЯЙСТВЕННОЕ УПРАВЛЕНИЕ АДМИНИСТРАЦИИ ОМСКОГО МУНИЦИПАЛЬНОГО РАЙОНА ОМСКОЙ ОБЛАСТИ\"                                                                                                                                                                                                                                                                                                                                                                                                                                                                                    Поставка легкового автомобиля                                                                                                                                Идентификационный код закупки(ИКЗ):                                                                                173552801726655280100100250682910244',\n",
       "       '№ 0152200004717000384                                                                                                                                                                                                                                                                                                                                                                                                                                                                                Организация, осуществляющая размещение:                                                                                                                                                                    ГЛАВНОЕ УПРАВЛЕНИЕ КОНТРАКТНОЙ СИСТЕМЫ ОМСКОЙ ОБЛАСТИ                                                                                                                                                                                                                        Поставка автомобилей                                                                                                                                Идентификационный код закупки(ИКЗ):                                                                                172550422716955040100100630022910000',\n",
       "       '№ 0254100000417000062                                                                                                                                                                                                                                                                                                                                                                                                                                                                                                                            Заказчик:                                                                                                                                                                                                                                                                                                                                                                                ГОСУДАРСТВЕННОЕ УЧРЕЖДЕНИЕ - ОРЛОВСКОЕ РЕГИОНАЛЬНОЕ ОТДЕЛЕНИЕ ФОНДА СОЦИАЛЬНОГО СТРАХОВАНИЯ РОССИЙСКОЙ ФЕДЕРАЦИИ                                                                                                                                                                                                                                                                                                                                                                                                                                                                                    Поставка легкового автомобиля                                                                                                                                 Идентификационный код закупки(ИКЗ):                                                                                171575300760757510100100760012910244',\n",
       "       '№ 0120100010117000174                                                                                                                                                                                                                                                                                                                                                                                                                                                                                                                            Заказчик:                                                                                                                                                                                                                                                                                                                                                                                УПРАВЛЕНИЕ ФЕДЕРАЛЬНОЙ СЛУЖБЫ БЕЗОПАСНОСТИ РОССИЙСКОЙ ФЕДЕРАЦИИ ПО ПРИМОРСКОМУ КРАЮ                                                                                                                                                                                                                                                                                                                                                                                                                                                                                    Поставка транспортного средства для нужд УФСБ России по Приморскому краю в рамках государственного оборонного заказа                                                                                                                                Идентификационный код закупки(ИКЗ):                                                                                171254001248425400100101861652910211',\n",
       "       '№ 0169300010317000154                                                                                                                                                                                                                                                                                                                                                                                                                                                                                Организация, осуществляющая размещение:                                                                                                                                                                    АДМИНИСТРАЦИЯ АРГАЯШСКОГО МУНИЦИПАЛЬНОГО РАЙОНА                                                                                                                                                                                                                        легковой автомобиль для МБУ Комитет по культуре Аргаяшского муниципального района                                                                                                                                Идентификационный код закупки(ИКЗ):                                                                                173742600208874600100100100032910244',\n",
       "       '№ 0137300007517000017                                                                                                                                                                                                                                                                                                                                                                                                                                                                                Организация, осуществляющая размещение:                                                                                                                                                                    АДМИНИСТРАЦИЯ (ИСПОЛНИТЕЛЬНО-РАСПОРЯДИТЕЛЬНЫЙ ОРГАН) МУНИЦИПАЛЬНОГО РАЙОНА \"ПЕРЕМЫШЛЬСКИЙ РАЙОН\"                                                                                                                                                                                                                        Поставка легкового автомобиля (Реестровый номер: 498Э-11/17сб)                                                                                                                                Идентификационный код закупки(ИКЗ):                                                                                173401500200840150100100010012910244',\n",
       "       '№ 0305200007117000009                                                                                                                                                                                                                                                                                                                                                                                                                                                                                                                            Заказчик:                                                                                                                                                                                                                                                                                                                                                                                БЮДЖЕТНОЕ УЧРЕЖДЕНИЕ РЕСПУБЛИКИ КАЛМЫКИЯ \"МАЛОДЕРБЕТОВСКИЙ ДОМ-ИНТЕРНАТ ДЛЯ ПРЕСТАРЕЛЫХ И ИНВАЛИДОВ\"                                                                                                                                                                                                                                                                                                                                                                                                                                                                                    Поставка автомобиля                                                                                                                                Идентификационный код закупки(ИКЗ):                                                                                172080500425508050100100100012910244',\n",
       "       '№ 0116300010717000060                                                                                                                                                                                                                                                                                                                                                                                                                                                                                                                            Заказчик:                                                                                                                                                                                                                                                                                                                                                                                АДМИНИСТРАЦИЯ МУНИЦИПАЛЬНОГО ОБРАЗОВАНИЯ \"ПОСЕЛОК АЙХАЛ\" МИРНИНСКОГО РАЙОНА РЕСПУБЛИКИ САХА (ЯКУТИЯ)                                                                                                                                                                                                                                                                                                                                                                                                                                                                                    поставка легкового автомобиля                                                                                                                                Идентификационный код закупки(ИКЗ):                                                                                173143302033714330100100800012910244',\n",
       "       '№ 0361200015017002090                                                                                                                                                                                                                                                                                                                                                                                                                                                                                Организация, осуществляющая размещение:                                                                                                                                                                    ГОСУДАРСТВЕННОЕ КАЗЕННОЕ УЧРЕЖДЕНИЕ \"ЦЕНТР ГОСУДАРСТВЕННЫХ ЗАКУПОК САХАЛИНСКОЙ ОБЛАСТИ\"                                                                                                                                                                                                                        Поставка легкового автомобиля                                                                                                                                Идентификационный код закупки(ИКЗ):                                                                                172650124739165010100100240012910000',\n",
       "       '№ 0165100008117000119                                                                                                                                                                                                                                                                                                                                                                                                                                                                                                                            Заказчик:                                                                                                                                                                                                                                                                                                                                                                                УПРАВЛЕНИЕ СУДЕБНОГО ДЕПАРТАМЕНТА В ТОМСКОЙ ОБЛАСТИ                                                                                                                                                                                                                                                                                                                                                                                                                                                                                    Поставка автомобилей для обеспечения нужд федеральных судов обще юрисдикции Томской области                                                                                                                                Идентификационный код закупки(ИКЗ):                                                                                171702105550070170100101111112910244',\n",
       "       '№ 0145300016317000042                                                                                                                                                                                                                                                                                                                                                                                                                                                                                                                            Заказчик:                                                                                                                                                                                                                                                                                                                                                                                АДМИНИСТРАЦИЯ МУНИЦИПАЛЬНОГО ОБРАЗОВАНИЯ ВОЛОСОВСКИЙ МУНИЦИПАЛЬНЫЙ РАЙОН ЛЕНИНГРАДСКОЙ ОБЛАСТИ                                                                                                                                                                                                                                                                                                                                                                                                                                                                                    Поставка легкового автомобиля для нужд администрации МО Волосовский муниципальный район Ленинградской области                                                                                                                                Идентификационный код закупки(ИКЗ):                                                                                173471700833947050100100410012910244',\n",
       "       '№ 0333300049717000003                                                                                                                                                                                                                                                                                                                                                                                                                                                                                                                            Заказчик:                                                                                                                                                                                                                                                                                                                                                                                МУНИЦИПАЛЬНОЕ КАЗЕННОЕ УЧРЕЖДЕНИЕ \"КУЛЬТУРНО-ДОСУГОВЫЙ ЦЕНТР ОСТАПОВСКОГО СЕЛЬСКОГО ПОСЕЛЕНИЯ\"                                                                                                                                                                                                                                                                                                                                                                                                                                                                                    Поставка автомобиля Нива Шевроле или эквивалент                                                                                                                                Идентификационный код закупки(ИКЗ):                                                                                173372500753837250100100120012910244',\n",
       "       '№ 0139300008117000087                                                                                                                                                                                                                                                                                                                                                                                                                                                                                Организация, осуществляющая размещение:                                                                                                                                                                    АДМИНИСТРАЦИЯ ГУРЬЕВСКОГО МУНИЦИПАЛЬНОГО РАЙОНА                                                                                                                                                                                                                        Приобретение легкового автомобиля RENAULT LOGAN (или эквивалент)                                                                                                                                Идентификационный код закупки(ИКЗ):                                                                                173420400195542040100100380012910244',\n",
       "       '№ 0573100016517000081                                                                                                                                                                                                                                                                                                                                                                                                                                                                                                                            Заказчик:                                                                                                                                                                                                                                                                                                                                                                                ФЕДЕРАЛЬНОЕ ГОСУДАРСТВЕННОЕ УНИТАРНОЕ ПРЕДПРИЯТИЕ \"УПРАВЛЕНИЕ ВЕДОМСТВЕННОЙ ОХРАНЫ МИНИСТЕРСТВА ТРАНСПОРТА РОССИЙСКОЙ ФЕДЕРАЦИИ\"                                                                                                                                                                                                                                                                                                                                                                                                                                                                                    Поставка легковых автомобилей для нужд Сибирского филиала                                                                                                                                Идентификационный код закупки(ИКЗ):                                                                                171770731136377250100101122172910244',\n",
       "       '№ 0811100001017000070                                                                                                                                                                                                                                                                                                                                                                                                                                                                                                                            Заказчик:                                                                                                                                                                                                                                                                                                                                                                                ФЕДЕРАЛЬНОЕ КАЗЕННОЕ УЧРЕЖДЕНИЕ \"ЦЕНТР ХОЗЯЙСТВЕННОГО И СЕРВИСНОГО ОБЕСПЕЧЕНИЯ МИНИСТЕРСТВА ВНУТРЕННИХ ДЕЛ ПО РЕСПУБЛИКЕ ТАТАРСТАН (ТАТАРСТАН)\"                                                                                                                                                                                                                                                                                                                                                                                                                                                                                    Поставка легковых автомобилей для нужд МВД по Республике Татарстан                                                                                                                                Идентификационный код закупки(ИКЗ):                                                                                171165524931116550100100670012910244',\n",
       "       '№ 0132200003017000067                                                                                                                                                                                                                                                                                                                                                                                                                                                                                Организация, осуществляющая размещение:                                                                                                                                                                    АДМИНИСТРАЦИЯ КСТОВСКОГО МУНИЦИПАЛЬНОГО РАЙОНА                                                                                                                                                                                                                        Приобретение легкового автомобиля                                                                                                                                Идентификационный код закупки(ИКЗ):                                                                                173525003480552500100114000012910244',\n",
       "       '№ 0554600003217000003                                                                                                                                                                                                                                                                                                                                                                                                                                                                                                                            Заказчик:                                                                                                                                                                                                                                                                                                                                                                                МУНИЦИПАЛЬНОЕ УНИТАРНОЕ ТОРГОВОЕ ПРЕДПРИЯТИЕ \"ЛИВЕНСКОЕ\"                                                                                                                                                                                                                                                                                                                                                                                                                                                                                    Средства транспортные с двигателем с искровым зажиганием, с рабочим объемом цилиндров более 1500 см3, новые                                                                                                                                Идентификационный код закупки(ИКЗ):                                                                                173570200596157020100100080012910244',\n",
       "       '№ 0518200001617000012                                                                                                                                                                                                                                                                                                                                                                                                                                                                                                                            Заказчик:                                                                                                                                                                                                                                                                                                                                                                                ГОСУДАРСТВЕННОЕ УНИТАРНОЕ ПРЕДПРИЯТИЕ КРАСНОДАРСКОГО КРАЯ \"КРАЕВАЯ ТЕХНИЧЕСКАЯ ИНВЕНТАРИЗАЦИЯ - КРАЕВОЕ БТИ\"                                                                                                                                                                                                                                                                                                                                                                                                                                                                                    Поставка легкового автомобиля                                                                                                                                Идентификационный код закупки(ИКЗ):                                                                                172230805871223080100100410412910000',\n",
       "       '№ 0148300015517000429                                                                                                                                                                                                                                                                                                                                                                                                                                                                                Организация, осуществляющая размещение:                                                                                                                                                                    МУНИЦИПАЛЬНОЕ УЧРЕЖДЕНИЕ \"АДМИНИСТРАЦИЯ ВОСКРЕСЕНСКОГО МУНИЦИПАЛЬНОГО РАЙОНА МОСКОВСКОЙ ОБЛАСТИ\"                                                                                                                                                                                                                        Автомобиль легковой                                                                                                                                Идентификационный код закупки(ИКЗ):                                                                                173500505831750050100101550332910244',\n",
       "       '№ 0353300019117000018                                                                                                                                                                                                                                                                                                                                                                                                                                                                                                                            Заказчик:                                                                                                                                                                                                                                                                                                                                                                                МУНИЦИПАЛЬНОЕ КАЗЕННОЕ УЧРЕЖДЕНИЕ \"ХОЗЯЙСТВЕННЫЙ ОТДЕЛ АДМИНИСТРАЦИИ ШАРЛЫКСКОГО РАЙОНА\"                                                                                                                                                                                                                                                                                                                                                                                                                                                                                    Приобретение легкового автомобиля для нужд МКУ\" Хозяйственный отдел\"                                                                                                                                Идентификационный код закупки(ИКЗ):                                                                                173565102040856510100100290012910244',\n",
       "       '№ 0855200000517000959                                                                                                                                                                                                                                                                                                                                                                                                                                                                                Организация, осуществляющая размещение:                                                                                                                                                                    ГОСУДАРСТВЕННОЕ КАЗЕННОЕ УЧРЕЖДЕНИЕ ПЕНЗЕНСКОЙ ОБЛАСТИ \"УПРАВЛЕНИЕ ПО ОСУЩЕСТВЛЕНИЮ ЗАКУПОК ПЕНЗЕНСКОЙ ОБЛАСТИ\"                                                                                                                                                                                                                        Поставка транспортного средства                                                                                                                                Идентификационный код закупки(ИКЗ):                                                                                172583601144558370100100130012910244',\n",
       "       '№ 0156300049017000014                                                                                                                                                                                                                                                                                                                                                                                                                                                                                                                            Заказчик:                                                                                                                                                                                                                                                                                                                                                                                АДМИНИСТРАЦИЯ ИЛЬИНСКОГО МУНИЦИПАЛЬНОГО РАЙОНА ПЕРМСКОГО КРАЯ                                                                                                                                                                                                                                                                                                                                                                                                                                                                                    Приобретение легкового автомобиля для нужд администрации                                                                                                                                Идентификационный код закупки(ИКЗ):                                                                                173593600040859360100100250242910244',\n",
       "       '№ 0151300035117000006                                                                                                                                                                                                                                                                                                                                                                                                                                                                                                                            Заказчик:                                                                                                                                                                                                                                                                                                                                                                                АДМИНИСТРАЦИЯ ГОРОДА КУПИНО КУПИНСКОГО РАЙОНА НОВОСИБИРСКОЙ ОБЛАСТИ                                                                                                                                                                                                                                                                                                                                                                                                                                                                                    Поставка легкового автомобиля для нужд администрации города Купино Купинского района Новосибирской области.                                                                                                                                Идентификационный код закупки(ИКЗ):                                                                                173542910064354290100100110010000244',\n",
       "       '№ 0573100016517000110                                                                                                                                                                                                                                                                                                                                                                                                                                                                                                                            Заказчик:                                                                                                                                                                                                                                                                                                                                                                                ФЕДЕРАЛЬНОЕ ГОСУДАРСТВЕННОЕ УНИТАРНОЕ ПРЕДПРИЯТИЕ \"УПРАВЛЕНИЕ ВЕДОМСТВЕННОЙ ОХРАНЫ МИНИСТЕРСТВА ТРАНСПОРТА РОССИЙСКОЙ ФЕДЕРАЦИИ\"                                                                                                                                                                                                                                                                                                                                                                                                                                                                                    Поставка автомобиля для нужд Мурманского филиала                                                                                                                                Идентификационный код закупки(ИКЗ):                                                                                171770731136377250100100790792910244',\n",
       "       '№ 0573500001317000020                                                                                                                                                                                                                                                                                                                                                                                                                                                                                                                            Заказчик:                                                                                                                                                                                                                                                                                                                                                                                КАЗЕННОЕ ПРЕДПРИЯТИЕ ГОРОДА МОСКВЫ \"БОЛЬШАЯ СПОРТИВНАЯ АРЕНА \"ЛУЖНИКИ\"                                                                                                                                                                                                                                                                                                                                                                                                                                                                                    Легковой Автомобиль                                                                                                                                Идентификационный код закупки(ИКЗ):                                                                                172770484454077040100100190012910000',\n",
       "       '№ 0301300367917000007                                                                                                                                                                                                                                                                                                                                                                                                                                                                                                                            Заказчик:                                                                                                                                                                                                                                                                                                                                                                                МУНИЦИПАЛЬНОЕ УЧРЕЖДЕНИЕ ОТДЕЛ ОБРАЗОВАНИЯ АДМИНИСТРАЦИИ МУНИЦИПАЛЬНОГО РАЙОНА СТЕРЛИТАМАКСКИЙ РАЙОН РЕСПУБЛИКИ БАШКОРТОСТАН                                                                                                                                                                                                                                                                                                                                                                                                                                                                                    Приобретение служебного легкового автомобиля для нужд отдела образования Администрации муниципального района Стерлитамакский район Республики Башкортостан                                                                                                                                Идентификационный код закупки(ИКЗ):                                                                                173024200106702420100100110012910244',\n",
       "       '№ 0122300006117000648                                                                                                                                                                                                                                                                                                                                                                                                                                                                                Организация, осуществляющая размещение:                                                                                                                                                                    АДМИНИСТРАЦИЯ ГОРОДА ХАБАРОВСКА                                                                                                                                                                                                                        Поставка легкового автомобиля                                                                                                                                Идентификационный код закупки(ИКЗ):                                                                                173272414627027240100100010112910244',\n",
       "       '№ 0548200002217000024                                                                                                                                                                                                                                                                                                                                                                                                                                                                                                                            Заказчик:                                                                                                                                                                                                                                                                                                                                                                                ГОСУДАРСТВЕННОЕ УНИТАРНОЕ ПРЕДПРИЯТИЕ МОСКОВСКОЙ ОБЛАСТИ \"МОСКОВСКОЕ ОБЛАСТНОЕ БЮРО ТЕХНИЧЕСКОЙ ИНВЕНТАРИЗАЦИИ\"                                                                                                                                                                                                                                                                                                                                                                                                                                                                                    Электронный аукцион на право заключения контракта на поставку трех легковых автомобилей эконом-класса российской сборки для выполнения производственных задач ГУП МО «МОБТИ»                                                                                                                                Идентификационный код закупки(ИКЗ):                                                                                172500000138850240100100600322910000',\n",
       "       '№ 0137200001217002015                                                                                                                                                                                                                                                                                                                                                                                                                                                                                Организация, осуществляющая размещение:                                                                                                                                                                    МИНИСТЕРСТВО КОНКУРЕНТНОЙ ПОЛИТИКИ КАЛУЖСКОЙ ОБЛАСТИ                                                                                                                                                                                                                        Поставка легкового автомобиля                                                                                                                                Идентификационный код закупки(ИКЗ):                                                                                172402707413440270100100490522910244',\n",
       "       '№ 0373100064617000376                                                                                                                                                                                                                                                                                                                                                                                                                                                                                                                            Заказчик:                                                                                                                                                                                                                                                                                                                                                                                ФЕДЕРАЛЬНОЕ ГОСУДАРСТВЕННОЕ КАЗЕННОЕ УЧРЕЖДЕНИЕ \"ВОЙСКОВАЯ ЧАСТЬ 55056\"                                                                                                                                                                                                                                                                                                                                                                                                                                                                                    Легковой автомобиль с колесной формулой 4х2                                                                                                                                Идентификационный код закупки(ИКЗ):                                                                                171770236131477020100103172940000211',\n",
       "       '№ 0369300124617000058                                                                                                                                                                                                                                                                                                                                                                                                                                                                                                                            Заказчик:                                                                                                                                                                                                                                                                                                                                                                                ГОСУДАРСТВЕННОЕ БЮДЖЕТНОЕ УЧРЕЖДЕНИЕ ЗДРАВООХРАНЕНИЯ \"РАЙОННАЯ БОЛЬНИЦА С. ФЕРШАМПЕНУАЗ\"                                                                                                                                                                                                                                                                                                                                                                                                                                                                                    Поставка легкового автомобиля                                                                                                                                Идентификационный код закупки(ИКЗ):                                                                                173743500163774580100101130012910244',\n",
       "       '№ 0134300031717000007                                                                                                                                                                                                                                                                                                                                                                                                                                                                                                                            Заказчик:                                                                                                                                                                                                                                                                                                                                                                                АДМИНИСТРАЦИЯ  КРОПОТКИНСКОГО  ГОРОДСКОГО ПОСЕЛЕНИЯ                                                                                                                                                                                                                                                                                                                                                                                                                                                                                    поставка автомобиля УАЗ-Патриот Комфорт или эквивалент                                                                                                                                Идентификационный код закупки(ИКЗ):                                                                                173380201045738020100100790002910244',\n",
       "       '№ 0156300010117000002                                                                                                                                                                                                                                                                                                                                                                                                                                                                                                                            Заказчик:                                                                                                                                                                                                                                                                                                                                                                                АДМИНИСТРАЦИЯ ГАЙНСКОГО СЕЛЬСКОГО ПОСЕЛЕНИЯ                                                                                                                                                                                                                                                                                                                                                                                                                                                                                    Поставка автомобиля УАЗ Патриот в комплектации Комфорт  (или эквивалент) по программе утилизации                                                                                                                                 Идентификационный код закупки(ИКЗ):                                                                                173810701235681070100100290292910244',\n",
       "       '№ 0116100001917000030                                                                                                                                                                                                                                                                                                                                                                                                                                                                                                                            Заказчик:                                                                                                                                                                                                                                                                                                                                                                                ПРОКУРАТУРА РЕСПУБЛИКИ САХА (ЯКУТИЯ)                                                                                                                                                                                                                                                                                                                                                                                                                                                                                    Поставка автомобилей российского производства марки УАЗ Патриот или эквивалент для нужд Прокуратуры Республики Саха (Якутия)                                                                                                                                Идентификационный код закупки(ИКЗ):                                                                                171143505828714350100100350012910244',\n",
       "       '№ 0169300037017000001                                                                                                                                                                                                                                                                                                                                                                                                                                                                                                                            Заказчик:                                                                                                                                                                                                                                                                                                                                                                                АДМИНИСТРАЦИЯ ФЕРШАМПЕНУАЗСКОГО СЕЛЬСКОГО ПОСЕЛЕНИЯ                                                                                                                                                                                                                                                                                                                                                                                                                                                                                    Поставка автомобиля                                                                                                                                Идентификационный код закупки(ИКЗ):                                                                                173743500059174580100100050052910244',\n",
       "       '№ 0166300003217000032                                                                                                                                                                                                                                                                                                                                                                                                                                                                                                                            Заказчик:                                                                                                                                                                                                                                                                                                                                                                                АДМИНИСТРАЦИЯ МУНИЦИПАЛЬНОГО ОБРАЗОВАНИЯ ТЕПЛО-ОГАРЕВСКИЙ РАЙОН                                                                                                                                                                                                                                                                                                                                                                                                                                                                                    Поставка автомобиля УАЗ Патриот ( или эквивалент)                                                                                                                                Идентификационный код закупки(ИКЗ):                                                                                173713400079971340100101250032910244',\n",
       "       '№ 0151300032417000001                                                                                                                                                                                                                                                                                                                                                                                                                                                                                                                            Заказчик:                                                                                                                                                                                                                                                                                                                                                                                АДМИНИСТРАЦИЯ ПРОКУДСКОГО СЕЛЬСОВЕТА КОЧЕНЕВСКОГО РАЙОНА НОВОСИБИРСКОЙ ОБЛАСТИ                                                                                                                                                                                                                                                                                                                                                                                                                                                                                    Поставка автомобиля повышенной проходимости УАЗ-3163-475(или эквивалент) для нужд администрации Прокудского сельсовета Коченевского района Новосибирской области                                                                                                                                Идентификационный код закупки(ИКЗ):                                                                                173542510669054250100100050012910244',\n",
       "       '№ 0367100001217000008                                                                                                                                                                                                                                                                                                                                                                                                                                                                                                                            Заказчик:                                                                                                                                                                                                                                                                                                                                                                                ФЕДЕРАЛЬНОЕ ГОСУДАРСТВЕННОЕ БЮДЖЕТНОЕ УЧРЕЖДЕНИЕ \"УПРАВЛЕНИЕ МЕЛИОРАЦИИ ЗЕМЕЛЬ И СЕЛЬСКОХОЗЯЙСТВЕННОГО ВОДОСНАБЖЕНИЯ ПО ТЮМЕНСКОЙ ОБЛАСТИ\"                                                                                                                                                                                                                                                                                                                                                                                                                                                                                    Поставка автомобиля УАЗ-Пикап (или эквивалент)                                                                                                                                Идентификационный код закупки(ИКЗ):                                                                                171720207753872030100100120142910244',\n",
       "       '№ 0191300022017000003                                                                                                                                                                                                                                                                                                                                                                                                                                                                                                                            Заказчик:                                                                                                                                                                                                                                                                                                                                                                                АДМИНИСТРАЦИЯ СЕЛЬСКОГО ПОСЕЛЕНИЯ \"НУРИНСК\"                                                                                                                                                                                                                                                                                                                                                                                                                                                                                    поставка автомобиля марки УАЗ Патриот или эквивалента                                                                                                                                Идентификационный код закупки(ИКЗ):                                                                                173800302195980030100100050052910244'],\n",
       "      dtype=object)"
      ]
     },
     "execution_count": 113,
     "metadata": {},
     "output_type": "execute_result"
    }
   ],
   "source": [
    "df_csv['V2'].values"
   ]
  },
  {
   "cell_type": "code",
   "execution_count": null,
   "metadata": {},
   "outputs": [],
   "source": []
  },
  {
   "cell_type": "code",
   "execution_count": null,
   "metadata": {},
   "outputs": [],
   "source": []
  },
  {
   "cell_type": "code",
   "execution_count": null,
   "metadata": {},
   "outputs": [],
   "source": []
  },
  {
   "cell_type": "code",
   "execution_count": null,
   "metadata": {},
   "outputs": [],
   "source": []
  },
  {
   "cell_type": "code",
   "execution_count": 207,
   "metadata": {
    "ExecuteTime": {
     "end_time": "2019-10-27T22:45:35.349096Z",
     "start_time": "2019-10-27T22:45:35.346200Z"
    }
   },
   "outputs": [],
   "source": [
    "# [text, down1]\n",
    "marka  =  []\n",
    "model  =  []\n",
    "\n",
    "# text, name, right1, right2, right3 \n",
    "year =  []\n",
    "korobka =  []\n",
    "privod =  []\n",
    "width =  []\n",
    "length =  []\n",
    "mass =  []\n",
    "volume =  []\n",
    "speed =  []\n",
    "power =  []\n",
    "potrebl =  []"
   ]
  },
  {
   "cell_type": "code",
   "execution_count": 232,
   "metadata": {
    "ExecuteTime": {
     "end_time": "2019-10-27T23:11:33.655603Z",
     "start_time": "2019-10-27T23:11:33.653652Z"
    }
   },
   "outputs": [],
   "source": [
    "text_arr = []"
   ]
  },
  {
   "cell_type": "code",
   "execution_count": 246,
   "metadata": {
    "ExecuteTime": {
     "end_time": "2019-10-27T23:13:28.738344Z",
     "start_time": "2019-10-27T23:13:28.734662Z"
    }
   },
   "outputs": [],
   "source": [
    "text_arr.append('NA')"
   ]
  },
  {
   "cell_type": "code",
   "execution_count": 247,
   "metadata": {
    "ExecuteTime": {
     "end_time": "2019-10-27T23:13:28.981788Z",
     "start_time": "2019-10-27T23:13:28.977672Z"
    }
   },
   "outputs": [
    {
     "data": {
      "text/plain": [
       "['NA', 'NA']"
      ]
     },
     "execution_count": 247,
     "metadata": {},
     "output_type": "execute_result"
    }
   ],
   "source": [
    "text_arr\n"
   ]
  },
  {
   "cell_type": "code",
   "execution_count": 258,
   "metadata": {
    "ExecuteTime": {
     "end_time": "2019-10-27T23:17:19.989737Z",
     "start_time": "2019-10-27T23:17:19.985578Z"
    }
   },
   "outputs": [],
   "source": [
    "\n",
    "text_arr = []"
   ]
  },
  {
   "cell_type": "code",
   "execution_count": 261,
   "metadata": {
    "ExecuteTime": {
     "end_time": "2019-10-27T23:17:51.457765Z",
     "start_time": "2019-10-27T23:17:51.455439Z"
    }
   },
   "outputs": [],
   "source": [
    "# df_text"
   ]
  },
  {
   "cell_type": "code",
   "execution_count": null,
   "metadata": {
    "ExecuteTime": {
     "start_time": "2019-10-27T23:23:07.401Z"
    }
   },
   "outputs": [
    {
     "name": "stdout",
     "output_type": "stream",
     "text": [
      "327\n",
      "330\n",
      "334\n",
      "336\n",
      "341\n",
      "342\n",
      "353\n",
      "359\n",
      "360\n",
      "364\n",
      "395\n",
      "398\n",
      "401\n",
      "402\n",
      "404\n",
      "424\n",
      "449\n",
      "450\n",
      "451\n",
      "453\n",
      "522\n",
      "523\n",
      "527\n",
      "530\n",
      "568\n",
      "570\n",
      "1076\n",
      "1746\n",
      "2558\n",
      "2565\n",
      "2566\n",
      "2768\n",
      "3160\n",
      "3162\n",
      "3254\n",
      "3262\n",
      "3403\n"
     ]
    }
   ],
   "source": [
    "all_tstore = {}\n",
    "for l in range(df_text.shape[0]):\n",
    "    if l%%250 == 0:\n",
    "        print(l)\n",
    "    fpath = '/media/xenakas/ext4_drive/data_goszak/2_data_goszak_renamed/' + df_text.iloc[l,-1]\n",
    "    try:\n",
    "        document = Document(fpath)\n",
    "        \n",
    "        tstore = 'NA'\n",
    "        \n",
    "        year = korobka  = privod = width = length = mass = volume = speed = power = potrebl =  'NA\n",
    "        \n",
    "        k = 0\n",
    "        while (k <= len(document.paragraphs)-1) and ((year == 'NA' ) or (korobka == 'NA' ) \n",
    "                                                     or (privod == 'NA' ) \n",
    "                                                     or (width == 'NA' ) or (length == 'NA' ) \n",
    "                                                     or (mass == 'NA' ) or (volume == 'NA' ) \n",
    "                                                     or (speed == 'NA' ) or (power == 'NA' ) \n",
    "                                                     or (potrebl == 'NA' )):\n",
    "            tata = document.paragraphs[k].text\n",
    "            \n",
    "            val = ('Год выпуска' in tata) or ('год выпуска' in tata) or ('Года выпуска' in tata) or ('года выпуска' in tata)\n",
    "            if val:\n",
    "                year = tata \n",
    "                \n",
    "            val = ('Коробка' in tata) or ('коробка' in tata) or ('трансмисс' in tata) or ('Трансмисс' in tata)\n",
    "            if val:\n",
    "                korobka = tata \n",
    "            \n",
    "            val = ('Привод' in tata) or ('привод' in tata) \n",
    "            if val:\n",
    "                privod = tata \n",
    "                \n",
    "            val = ('Ширина' in tata) or ('ширина' in tata) \n",
    "            if val:\n",
    "                width = tata \n",
    "\n",
    "            val = ('Длина' in tata) or ('длина' in tata)  \n",
    "            if val:\n",
    "                length = tata \n",
    "                \n",
    "            val = ('Масса' in tata) or ('масса' in tata)\n",
    "            if val:\n",
    "                mass = tata \n",
    "\n",
    "            val = ('Объем' in tata) or ('объем' in tata) or ('объём' in tata) or ('Объём' in tata)\n",
    "            if val:\n",
    "                volume = tata \n",
    "                \n",
    "            val = ('скорость' in tata) or ('Скорость' in tata) \n",
    "            if val:\n",
    "                speed = tata \n",
    " \n",
    "            val = ('Мощность' in tata) or ('мощность' in tata) \n",
    "            if val:\n",
    "                power = tata \n",
    "                \n",
    "            val = ('Потребление' in tata) or ('потребление' in tata) \n",
    "            if val:\n",
    "                potrebl = tata       \n",
    "            \n",
    "            k += 1\n",
    "#         text_arr\n",
    "#         text_arr = text_arr.append(tstore)\n",
    "    except:\n",
    "        print(l)\n",
    "#         tstore = 'NAN'\n",
    "#         text_arr\n",
    "#         text_arr = text_arr.append('problem')\n",
    "    all_tstore[l]  = tstore\n",
    "#     text_arr = text_arr.append(tstore)"
   ]
  },
  {
   "cell_type": "code",
   "execution_count": 270,
   "metadata": {
    "ExecuteTime": {
     "end_time": "2019-10-27T23:22:27.146323Z",
     "start_time": "2019-10-27T23:22:27.134616Z"
    }
   },
   "outputs": [],
   "source": [
    "l=2\n",
    "fpath = '/media/xenakas/ext4_drive/data_goszak/2_data_goszak_renamed/' + df_text.iloc[l,-1]\n",
    "document = Document(fpath)\n",
    "tstore = 'NA'\n",
    "k = 0\n",
    "while (k <= len(document.paragraphs)-1) and (tstore == 'NA' ):\n",
    "    tata = document.paragraphs[k].text\n",
    "    val = ('Год выпуска' in tata) or ('год выпуска' in tata) or ('Года выпуска' in tata) or ('года выпуска' in tata)\n",
    "    if val:\n",
    "        tstore = tata \n",
    "    k += 1\n",
    "#         text_arr\n",
    "#         text_arr = text_arr.append(tstore)\n"
   ]
  },
  {
   "cell_type": "code",
   "execution_count": 271,
   "metadata": {
    "ExecuteTime": {
     "end_time": "2019-10-27T23:22:28.072310Z",
     "start_time": "2019-10-27T23:22:28.066263Z"
    }
   },
   "outputs": [
    {
     "data": {
      "text/plain": [
       "'Извещение о проведении электронного аукциона'"
      ]
     },
     "execution_count": 271,
     "metadata": {},
     "output_type": "execute_result"
    }
   ],
   "source": [
    "document.paragraphs[0].text"
   ]
  },
  {
   "cell_type": "code",
   "execution_count": 213,
   "metadata": {
    "ExecuteTime": {
     "end_time": "2019-10-27T23:02:52.120798Z",
     "start_time": "2019-10-27T23:02:52.115763Z"
    }
   },
   "outputs": [],
   "source": [
    "tata = document.paragraphs[5].text"
   ]
  },
  {
   "cell_type": "code",
   "execution_count": 215,
   "metadata": {
    "ExecuteTime": {
     "end_time": "2019-10-27T23:03:13.392216Z",
     "start_time": "2019-10-27T23:03:13.386925Z"
    }
   },
   "outputs": [
    {
     "data": {
      "text/plain": [
       "True"
      ]
     },
     "execution_count": 215,
     "metadata": {},
     "output_type": "execute_result"
    }
   ],
   "source": [
    "'Кам' in tata"
   ]
  },
  {
   "cell_type": "code",
   "execution_count": 212,
   "metadata": {
    "ExecuteTime": {
     "end_time": "2019-10-27T23:01:59.368617Z",
     "start_time": "2019-10-27T23:01:59.365650Z"
    }
   },
   "outputs": [],
   "source": [
    "# document.paragraphs[0].text"
   ]
  },
  {
   "cell_type": "code",
   "execution_count": null,
   "metadata": {},
   "outputs": [],
   "source": [
    "year =  []\n",
    "for l in range(df_text.iloc[:10, :].shape[0]):\n",
    "    fpath = '/media/xenakas/ext4_drive/data_goszak/2_data_goszak_renamed/' + df_text.iloc[l,-1]\n",
    "    try:\n",
    "        document = Document(fpath)\n",
    "        tab_list_meh = {}\n",
    "        print(l)\n",
    "        \n",
    "        year_arr = []\n",
    "        \n",
    "           \n",
    "        \n",
    "        \n",
    "        for k in range(len(document.tables)):\n",
    "            table = document.tables[k]\n",
    "            try:\n",
    "                data = read_table(table)\n",
    "                val = any([\n",
    "                    data.iloc[:, j].str.contains('Год выпуска').any()\n",
    "                    or data.iloc[:, j].str.contains('год выпуска').any()\n",
    "                    or data.iloc[:, j].str.contains('Года выпуска').any()\n",
    "                    or data.iloc[:, j].str.contains('года выпуска').any()                    \n",
    "                    for j in range(data.shape[1])\n",
    "                ])\n",
    "                \n",
    "#                 cols = data.columns.values                \n",
    "#                 val2 =  ('Год выпуска' in cols) or ('ГОД ВЫПУСКА' in cols) \n",
    "                if val:\n",
    "                    tab_list_meh[k] = data\n",
    "            except:\n",
    "                year.append(['nothing', 'nothing','nothing','nothing','nothing' ])               \n",
    "                print(\"An exception occurred\")\n",
    "\n",
    "    #         keys = None\n",
    "    #         for i, row in enumerate(table.rows):\n",
    "    #             text = (cell.text for cell in row.cells)\n",
    "    #             if i == 0:\n",
    "    #                 keys = tuple(text)\n",
    "    #                 continue\n",
    "    #             row_data = dict(zip(keys, text))\n",
    "    #             data.append(row_data)\n",
    "\n",
    "    #         data = pd.DataFrame(data)\n",
    "\n",
    "        all_tabs[l] = tab_list_meh\n",
    "    except:\n",
    "        print(\"An exception occurred\")"
   ]
  },
  {
   "cell_type": "code",
   "execution_count": null,
   "metadata": {},
   "outputs": [],
   "source": [
    "fpath = '/media/xenakas/ext4_drive/data_goszak/2_data_goszak_renamed/' + df_text.iloc[0,-1]\n",
    "document = Document(fpath)\n",
    "tab_list_meh = {}\n",
    "# print(l)\n",
    "for k in range(len(document.tables)):\n",
    "    table = document.tables[k]\n",
    "    try:\n",
    "        data = read_table(table)\n",
    "#         val = any([\n",
    "#             data.iloc[:, j].str.contains('Наименование предмета закупки').any()\n",
    "#             or data.iloc[:, j].str.contains('Предмет контракта').any()\n",
    "#             for j in range(data.shape[1])\n",
    "#         ])\n",
    "\n",
    "#         if val:\n",
    "        tab_list_meh[k] = data\n",
    "    except:\n",
    "        print(l)"
   ]
  },
  {
   "cell_type": "code",
   "execution_count": null,
   "metadata": {},
   "outputs": [],
   "source": []
  },
  {
   "cell_type": "code",
   "execution_count": null,
   "metadata": {},
   "outputs": [],
   "source": []
  },
  {
   "cell_type": "code",
   "execution_count": 154,
   "metadata": {
    "ExecuteTime": {
     "end_time": "2019-10-26T02:08:57.780172Z",
     "start_time": "2019-10-26T02:08:54.635810Z"
    }
   },
   "outputs": [
    {
     "name": "stdout",
     "output_type": "stream",
     "text": [
      "0\n",
      "1\n",
      "2\n",
      "3\n",
      "4\n",
      "5\n",
      "6\n",
      "7\n",
      "8\n",
      "9\n"
     ]
    }
   ],
   "source": [
    "all_tabs = {}\n",
    "for l in range(df_text.iloc[:10, :].shape[0]):\n",
    "    fpath = '/media/xenakas/ext4_drive/data_goszak/2_data_goszak_renamed/' + df_text.iloc[l,-1]\n",
    "    try:\n",
    "        document = Document(fpath)\n",
    "        tab_list_meh = {}\n",
    "        print(l)\n",
    "        for k in range(len(document.tables)):\n",
    "            table = document.tables[k]\n",
    "            try:\n",
    "                data = read_table(table)\n",
    "                val = any([\n",
    "                    data.iloc[:, j].str.contains('Год выпуска').any()\n",
    "                    or data.iloc[:, j].str.contains('год выпуска').any()\n",
    "                    for j in range(data.shape[1])\n",
    "                ])\n",
    "                \n",
    "                cols = data.columns.values\n",
    "                \n",
    "                val2 =  ('Год выпуска' in cols) or ('ГОД ВЫПУСКА' in cols) \n",
    "\n",
    "\n",
    "                if val or val2:\n",
    "                    tab_list_meh[k] = data\n",
    "\n",
    "            except:\n",
    "                print(\"An exception occurred\")\n",
    "\n",
    "    #         keys = None\n",
    "    #         for i, row in enumerate(table.rows):\n",
    "    #             text = (cell.text for cell in row.cells)\n",
    "    #             if i == 0:\n",
    "    #                 keys = tuple(text)\n",
    "    #                 continue\n",
    "    #             row_data = dict(zip(keys, text))\n",
    "    #             data.append(row_data)\n",
    "\n",
    "    #         data = pd.DataFrame(data)\n",
    "\n",
    "        all_tabs[l] = tab_list_meh\n",
    "    except:\n",
    "        print(\"An exception occurred\")"
   ]
  },
  {
   "cell_type": "code",
   "execution_count": 2158,
   "metadata": {
    "ExecuteTime": {
     "end_time": "2019-10-28T17:47:34.800587Z",
     "start_time": "2019-10-28T17:47:34.310579Z"
    }
   },
   "outputs": [],
   "source": [
    "final_df = pd.read_excel('clean_goszak_df.xlsx',\n",
    "                           dtype={'purchase_number': object})\n"
   ]
  },
  {
   "cell_type": "code",
   "execution_count": 2161,
   "metadata": {
    "ExecuteTime": {
     "end_time": "2019-10-28T17:47:43.196788Z",
     "start_time": "2019-10-28T17:47:43.171717Z"
    }
   },
   "outputs": [
    {
     "data": {
      "text/html": [
       "<div>\n",
       "<style scoped>\n",
       "    .dataframe tbody tr th:only-of-type {\n",
       "        vertical-align: middle;\n",
       "    }\n",
       "\n",
       "    .dataframe tbody tr th {\n",
       "        vertical-align: top;\n",
       "    }\n",
       "\n",
       "    .dataframe thead th {\n",
       "        text-align: right;\n",
       "    }\n",
       "</style>\n",
       "<table border=\"1\" class=\"dataframe\">\n",
       "  <thead>\n",
       "    <tr style=\"text-align: right;\">\n",
       "      <th></th>\n",
       "      <th>index_name</th>\n",
       "      <th>all_indexes</th>\n",
       "      <th>purchase_number</th>\n",
       "      <th>price</th>\n",
       "      <th>real_price</th>\n",
       "      <th>auction</th>\n",
       "      <th>numb_bidders</th>\n",
       "      <th>kolichestvo_avto_v_zakupke</th>\n",
       "      <th>org_address</th>\n",
       "      <th>date</th>\n",
       "      <th>...</th>\n",
       "      <th>privod</th>\n",
       "      <th>width</th>\n",
       "      <th>length</th>\n",
       "      <th>mass_snar</th>\n",
       "      <th>vol_dvigatelya</th>\n",
       "      <th>max_speed</th>\n",
       "      <th>moschnost_lps</th>\n",
       "      <th>potreb_gorod</th>\n",
       "      <th>filename</th>\n",
       "      <th>filetype</th>\n",
       "    </tr>\n",
       "  </thead>\n",
       "  <tbody>\n",
       "    <tr>\n",
       "      <td>0</td>\n",
       "      <td>3</td>\n",
       "      <td>3</td>\n",
       "      <td>0372200026816000053</td>\n",
       "      <td>607902.33</td>\n",
       "      <td>607902.33</td>\n",
       "      <td>1</td>\n",
       "      <td>1</td>\n",
       "      <td>1</td>\n",
       "      <td>NaN</td>\n",
       "      <td>NaN</td>\n",
       "      <td>...</td>\n",
       "      <td>передний</td>\n",
       "      <td>1733</td>\n",
       "      <td>4346</td>\n",
       "      <td>1545</td>\n",
       "      <td>NaN</td>\n",
       "      <td>172</td>\n",
       "      <td>90</td>\n",
       "      <td>9.8</td>\n",
       "      <td>1ba23d353bf63fb0a234f2b6a9d14e1037f4a60148f3f5...</td>\n",
       "      <td>docx</td>\n",
       "    </tr>\n",
       "    <tr>\n",
       "      <td>1</td>\n",
       "      <td>5</td>\n",
       "      <td>5, 25</td>\n",
       "      <td>0832200006616001265</td>\n",
       "      <td>999833.33</td>\n",
       "      <td>999833.32</td>\n",
       "      <td>1</td>\n",
       "      <td>1</td>\n",
       "      <td>1</td>\n",
       "      <td>NaN</td>\n",
       "      <td>NaN</td>\n",
       "      <td>...</td>\n",
       "      <td>задний</td>\n",
       "      <td>NaN</td>\n",
       "      <td>NaN</td>\n",
       "      <td>NaN</td>\n",
       "      <td>NaN</td>\n",
       "      <td>NaN</td>\n",
       "      <td>NaN</td>\n",
       "      <td>NaN</td>\n",
       "      <td>024c72855e2fba691b939d0086663ad1443796412de9f3...</td>\n",
       "      <td>docx</td>\n",
       "    </tr>\n",
       "    <tr>\n",
       "      <td>2</td>\n",
       "      <td>6</td>\n",
       "      <td>6</td>\n",
       "      <td>0146300031216000008</td>\n",
       "      <td>685000.00</td>\n",
       "      <td>684000.00</td>\n",
       "      <td>1</td>\n",
       "      <td>1</td>\n",
       "      <td>1</td>\n",
       "      <td>NaN</td>\n",
       "      <td>NaN</td>\n",
       "      <td>...</td>\n",
       "      <td>передний</td>\n",
       "      <td>1800</td>\n",
       "      <td>4056</td>\n",
       "      <td>NaN</td>\n",
       "      <td>1700</td>\n",
       "      <td>NaN</td>\n",
       "      <td>80</td>\n",
       "      <td>14.1</td>\n",
       "      <td>ca66aceb8b70fb06cf8baf7a97d241f4840f2d595544e4...</td>\n",
       "      <td>docx</td>\n",
       "    </tr>\n",
       "    <tr>\n",
       "      <td>3</td>\n",
       "      <td>8</td>\n",
       "      <td>8, 36</td>\n",
       "      <td>0328300015616000270</td>\n",
       "      <td>383900.00</td>\n",
       "      <td>383900.00</td>\n",
       "      <td>1</td>\n",
       "      <td>2</td>\n",
       "      <td>1</td>\n",
       "      <td>NaN</td>\n",
       "      <td>NaN</td>\n",
       "      <td>...</td>\n",
       "      <td>передний</td>\n",
       "      <td>1700</td>\n",
       "      <td>4260</td>\n",
       "      <td>1160</td>\n",
       "      <td>NaN</td>\n",
       "      <td>165</td>\n",
       "      <td>87</td>\n",
       "      <td>not_stated</td>\n",
       "      <td>f4a04f18a5305d9b15eb45bae4532fdaa9f4360660e24e...</td>\n",
       "      <td>docx</td>\n",
       "    </tr>\n",
       "    <tr>\n",
       "      <td>4</td>\n",
       "      <td>12</td>\n",
       "      <td>12</td>\n",
       "      <td>0845300015016000715</td>\n",
       "      <td>998456.00</td>\n",
       "      <td>998456.00</td>\n",
       "      <td>1</td>\n",
       "      <td>1</td>\n",
       "      <td>1</td>\n",
       "      <td>NaN</td>\n",
       "      <td>NaN</td>\n",
       "      <td>...</td>\n",
       "      <td>NaN</td>\n",
       "      <td>NaN</td>\n",
       "      <td>NaN</td>\n",
       "      <td>NaN</td>\n",
       "      <td>1998</td>\n",
       "      <td>NaN</td>\n",
       "      <td>NaN</td>\n",
       "      <td>NaN</td>\n",
       "      <td>da80d318cb1666e928232bc3833f0aff402d841c732486...</td>\n",
       "      <td>docx</td>\n",
       "    </tr>\n",
       "    <tr>\n",
       "      <td>...</td>\n",
       "      <td>...</td>\n",
       "      <td>...</td>\n",
       "      <td>...</td>\n",
       "      <td>...</td>\n",
       "      <td>...</td>\n",
       "      <td>...</td>\n",
       "      <td>...</td>\n",
       "      <td>...</td>\n",
       "      <td>...</td>\n",
       "      <td>...</td>\n",
       "      <td>...</td>\n",
       "      <td>...</td>\n",
       "      <td>...</td>\n",
       "      <td>...</td>\n",
       "      <td>...</td>\n",
       "      <td>...</td>\n",
       "      <td>...</td>\n",
       "      <td>...</td>\n",
       "      <td>...</td>\n",
       "      <td>...</td>\n",
       "      <td>...</td>\n",
       "    </tr>\n",
       "    <tr>\n",
       "      <td>470</td>\n",
       "      <td>1262</td>\n",
       "      <td>1262, 1277, 1336</td>\n",
       "      <td>0169300037017000001</td>\n",
       "      <td>1263313.34</td>\n",
       "      <td>1200147.64</td>\n",
       "      <td>1</td>\n",
       "      <td>2</td>\n",
       "      <td>2</td>\n",
       "      <td>NaN</td>\n",
       "      <td>NaN</td>\n",
       "      <td>...</td>\n",
       "      <td>полный подключаемый</td>\n",
       "      <td>NaN</td>\n",
       "      <td>NaN</td>\n",
       "      <td>NaN</td>\n",
       "      <td>NaN</td>\n",
       "      <td>127</td>\n",
       "      <td>NaN</td>\n",
       "      <td>NaN</td>\n",
       "      <td>54dd6eb2af07c9c6e0db10cd5153b61a8acb78ebd93610...</td>\n",
       "      <td>docx</td>\n",
       "    </tr>\n",
       "    <tr>\n",
       "      <td>471</td>\n",
       "      <td>1419</td>\n",
       "      <td>1419, 1623, 1630, 1972</td>\n",
       "      <td>0166300003217000032</td>\n",
       "      <td>1133000.00</td>\n",
       "      <td>1110340.00</td>\n",
       "      <td>1</td>\n",
       "      <td>2</td>\n",
       "      <td>1</td>\n",
       "      <td>NaN</td>\n",
       "      <td>NaN</td>\n",
       "      <td>...</td>\n",
       "      <td>NaN</td>\n",
       "      <td>1900</td>\n",
       "      <td>4780</td>\n",
       "      <td>NaN</td>\n",
       "      <td>NaN</td>\n",
       "      <td>150</td>\n",
       "      <td>NaN</td>\n",
       "      <td>NaN</td>\n",
       "      <td>690a0c9d4c67b88c659ecfca8214c179b20bbfb6301089...</td>\n",
       "      <td>docx</td>\n",
       "    </tr>\n",
       "    <tr>\n",
       "      <td>472</td>\n",
       "      <td>1500</td>\n",
       "      <td>1500, 1811</td>\n",
       "      <td>0151300032417000001</td>\n",
       "      <td>1000000.00</td>\n",
       "      <td>1000000.00</td>\n",
       "      <td>1</td>\n",
       "      <td>1</td>\n",
       "      <td>1</td>\n",
       "      <td>NaN</td>\n",
       "      <td>NaN</td>\n",
       "      <td>...</td>\n",
       "      <td>полный</td>\n",
       "      <td>2005</td>\n",
       "      <td>2760</td>\n",
       "      <td>2125</td>\n",
       "      <td>1610</td>\n",
       "      <td>150</td>\n",
       "      <td>134.6</td>\n",
       "      <td>14</td>\n",
       "      <td>153abbe97319ec1f68a41f88f861bd060533f87412b0eb...</td>\n",
       "      <td>docx</td>\n",
       "    </tr>\n",
       "    <tr>\n",
       "      <td>473</td>\n",
       "      <td>1716</td>\n",
       "      <td>1716, 1843, 1851</td>\n",
       "      <td>0367100001217000008</td>\n",
       "      <td>1220000.00</td>\n",
       "      <td>1220000.00</td>\n",
       "      <td>1</td>\n",
       "      <td>1</td>\n",
       "      <td>1</td>\n",
       "      <td>NaN</td>\n",
       "      <td>NaN</td>\n",
       "      <td>...</td>\n",
       "      <td>передний</td>\n",
       "      <td>NaN</td>\n",
       "      <td>NaN</td>\n",
       "      <td>2135</td>\n",
       "      <td>2693</td>\n",
       "      <td>NaN</td>\n",
       "      <td>NaN</td>\n",
       "      <td>NaN</td>\n",
       "      <td>5515c7ebe0091c8aed81983cdcc6282cf2e74ac5d10908...</td>\n",
       "      <td>docx</td>\n",
       "    </tr>\n",
       "    <tr>\n",
       "      <td>474</td>\n",
       "      <td>2299</td>\n",
       "      <td>2299</td>\n",
       "      <td>0191300022017000003</td>\n",
       "      <td>1023996.67</td>\n",
       "      <td>1023996.67</td>\n",
       "      <td>1</td>\n",
       "      <td>1</td>\n",
       "      <td>1</td>\n",
       "      <td>NaN</td>\n",
       "      <td>NaN</td>\n",
       "      <td>...</td>\n",
       "      <td>передний</td>\n",
       "      <td>NaN</td>\n",
       "      <td>NaN</td>\n",
       "      <td>2125</td>\n",
       "      <td>1610</td>\n",
       "      <td>NaN</td>\n",
       "      <td>NaN</td>\n",
       "      <td>NaN</td>\n",
       "      <td>a7e4be81b28b55f231e058e37725ad271f78a7ff74d411...</td>\n",
       "      <td>docx</td>\n",
       "    </tr>\n",
       "  </tbody>\n",
       "</table>\n",
       "<p>475 rows × 26 columns</p>\n",
       "</div>"
      ],
      "text/plain": [
       "     index_name             all_indexes      purchase_number       price  \\\n",
       "0             3                       3  0372200026816000053   607902.33   \n",
       "1             5                   5, 25  0832200006616001265   999833.33   \n",
       "2             6                       6  0146300031216000008   685000.00   \n",
       "3             8                   8, 36  0328300015616000270   383900.00   \n",
       "4            12                      12  0845300015016000715   998456.00   \n",
       "..          ...                     ...                  ...         ...   \n",
       "470        1262        1262, 1277, 1336  0169300037017000001  1263313.34   \n",
       "471        1419  1419, 1623, 1630, 1972  0166300003217000032  1133000.00   \n",
       "472        1500              1500, 1811  0151300032417000001  1000000.00   \n",
       "473        1716        1716, 1843, 1851  0367100001217000008  1220000.00   \n",
       "474        2299                    2299  0191300022017000003  1023996.67   \n",
       "\n",
       "     real_price  auction  numb_bidders  kolichestvo_avto_v_zakupke  \\\n",
       "0     607902.33        1             1                           1   \n",
       "1     999833.32        1             1                           1   \n",
       "2     684000.00        1             1                           1   \n",
       "3     383900.00        1             2                           1   \n",
       "4     998456.00        1             1                           1   \n",
       "..          ...      ...           ...                         ...   \n",
       "470  1200147.64        1             2                           2   \n",
       "471  1110340.00        1             2                           1   \n",
       "472  1000000.00        1             1                           1   \n",
       "473  1220000.00        1             1                           1   \n",
       "474  1023996.67        1             1                           1   \n",
       "\n",
       "     org_address  date  ...               privod  width length mass_snar  \\\n",
       "0            NaN   NaN  ...             передний   1733   4346      1545   \n",
       "1            NaN   NaN  ...               задний    NaN    NaN       NaN   \n",
       "2            NaN   NaN  ...             передний   1800   4056       NaN   \n",
       "3            NaN   NaN  ...             передний   1700   4260      1160   \n",
       "4            NaN   NaN  ...                  NaN    NaN    NaN       NaN   \n",
       "..           ...   ...  ...                  ...    ...    ...       ...   \n",
       "470          NaN   NaN  ...  полный подключаемый    NaN    NaN       NaN   \n",
       "471          NaN   NaN  ...                  NaN   1900   4780       NaN   \n",
       "472          NaN   NaN  ...               полный   2005   2760      2125   \n",
       "473          NaN   NaN  ...             передний    NaN    NaN      2135   \n",
       "474          NaN   NaN  ...             передний    NaN    NaN      2125   \n",
       "\n",
       "    vol_dvigatelya max_speed moschnost_lps potreb_gorod  \\\n",
       "0              NaN       172            90          9.8   \n",
       "1              NaN       NaN           NaN          NaN   \n",
       "2             1700       NaN            80         14.1   \n",
       "3              NaN       165            87   not_stated   \n",
       "4             1998       NaN           NaN          NaN   \n",
       "..             ...       ...           ...          ...   \n",
       "470            NaN       127           NaN          NaN   \n",
       "471            NaN       150           NaN          NaN   \n",
       "472           1610       150         134.6           14   \n",
       "473           2693       NaN           NaN          NaN   \n",
       "474           1610       NaN           NaN          NaN   \n",
       "\n",
       "                                              filename filetype  \n",
       "0    1ba23d353bf63fb0a234f2b6a9d14e1037f4a60148f3f5...     docx  \n",
       "1    024c72855e2fba691b939d0086663ad1443796412de9f3...     docx  \n",
       "2    ca66aceb8b70fb06cf8baf7a97d241f4840f2d595544e4...     docx  \n",
       "3    f4a04f18a5305d9b15eb45bae4532fdaa9f4360660e24e...     docx  \n",
       "4    da80d318cb1666e928232bc3833f0aff402d841c732486...     docx  \n",
       "..                                                 ...      ...  \n",
       "470  54dd6eb2af07c9c6e0db10cd5153b61a8acb78ebd93610...     docx  \n",
       "471  690a0c9d4c67b88c659ecfca8214c179b20bbfb6301089...     docx  \n",
       "472  153abbe97319ec1f68a41f88f861bd060533f87412b0eb...     docx  \n",
       "473  5515c7ebe0091c8aed81983cdcc6282cf2e74ac5d10908...     docx  \n",
       "474  a7e4be81b28b55f231e058e37725ad271f78a7ff74d411...     docx  \n",
       "\n",
       "[475 rows x 26 columns]"
      ]
     },
     "execution_count": 2161,
     "metadata": {},
     "output_type": "execute_result"
    }
   ],
   "source": [
    "final_2017"
   ]
  },
  {
   "cell_type": "code",
   "execution_count": 2160,
   "metadata": {
    "ExecuteTime": {
     "end_time": "2019-10-28T17:47:41.703351Z",
     "start_time": "2019-10-28T17:47:41.614149Z"
    }
   },
   "outputs": [],
   "source": [
    "final_2017 = pd.read_excel('2017_docx_final.xlsx',\n",
    "                           dtype={'purchase_number': object})"
   ]
  },
  {
   "cell_type": "code",
   "execution_count": 2165,
   "metadata": {
    "ExecuteTime": {
     "end_time": "2019-10-28T17:49:07.489605Z",
     "start_time": "2019-10-28T17:49:07.418851Z"
    }
   },
   "outputs": [],
   "source": [
    "final_df_part17 =  final_df.loc[[ i in final_2017['purchase_number'].values for i in final_df['purchase_number']], :]"
   ]
  },
  {
   "cell_type": "code",
   "execution_count": 2169,
   "metadata": {
    "ExecuteTime": {
     "end_time": "2019-10-28T17:50:34.988185Z",
     "start_time": "2019-10-28T17:50:34.921449Z"
    }
   },
   "outputs": [],
   "source": [
    "final_df_partno17 =  final_df.loc[[ not(i in final_2017['purchase_number'].values) for i in final_df['purchase_number']], :]"
   ]
  },
  {
   "cell_type": "code",
   "execution_count": 2174,
   "metadata": {
    "ExecuteTime": {
     "end_time": "2019-10-28T17:51:33.876301Z",
     "start_time": "2019-10-28T17:51:33.873456Z"
    }
   },
   "outputs": [
    {
     "data": {
      "text/plain": [
       "(336, 26)"
      ]
     },
     "execution_count": 2174,
     "metadata": {},
     "output_type": "execute_result"
    }
   ],
   "source": [
    "final_2017.shape\n",
    "final_df_part17.shape"
   ]
  },
  {
   "cell_type": "code",
   "execution_count": 2178,
   "metadata": {
    "ExecuteTime": {
     "end_time": "2019-10-28T17:52:59.409044Z",
     "start_time": "2019-10-28T17:52:59.402421Z"
    }
   },
   "outputs": [],
   "source": [
    "fdf1 = final_2017.set_index('purchase_number').loc[final_df_part17['purchase_number'].values, :]"
   ]
  },
  {
   "cell_type": "code",
   "execution_count": 2167,
   "metadata": {
    "ExecuteTime": {
     "end_time": "2019-10-28T17:49:27.047885Z",
     "start_time": "2019-10-28T17:49:27.044719Z"
    }
   },
   "outputs": [
    {
     "data": {
      "text/plain": [
       "(475, 26)"
      ]
     },
     "execution_count": 2167,
     "metadata": {},
     "output_type": "execute_result"
    }
   ],
   "source": [
    "final_df_part17.shape\n",
    "final_2017.shape"
   ]
  },
  {
   "cell_type": "code",
   "execution_count": 2186,
   "metadata": {
    "ExecuteTime": {
     "end_time": "2019-10-28T17:56:27.755852Z",
     "start_time": "2019-10-28T17:56:27.752533Z"
    }
   },
   "outputs": [],
   "source": [
    "final_df_part17 = final_df_part17.set_index('purchase_number')"
   ]
  },
  {
   "cell_type": "code",
   "execution_count": 2181,
   "metadata": {
    "ExecuteTime": {
     "end_time": "2019-10-28T17:54:26.558726Z",
     "start_time": "2019-10-28T17:54:26.532453Z"
    }
   },
   "outputs": [
    {
     "data": {
      "text/html": [
       "<div>\n",
       "<style scoped>\n",
       "    .dataframe tbody tr th:only-of-type {\n",
       "        vertical-align: middle;\n",
       "    }\n",
       "\n",
       "    .dataframe tbody tr th {\n",
       "        vertical-align: top;\n",
       "    }\n",
       "\n",
       "    .dataframe thead th {\n",
       "        text-align: right;\n",
       "    }\n",
       "</style>\n",
       "<table border=\"1\" class=\"dataframe\">\n",
       "  <thead>\n",
       "    <tr style=\"text-align: right;\">\n",
       "      <th></th>\n",
       "      <th>index_name</th>\n",
       "      <th>all_indexes</th>\n",
       "      <th>price</th>\n",
       "      <th>real_price</th>\n",
       "      <th>auction</th>\n",
       "      <th>numb_bidders</th>\n",
       "      <th>kolichestvo_avto_v_zakupke</th>\n",
       "      <th>org_address</th>\n",
       "      <th>date</th>\n",
       "      <th>date2</th>\n",
       "      <th>...</th>\n",
       "      <th>privod</th>\n",
       "      <th>width</th>\n",
       "      <th>length</th>\n",
       "      <th>mass_snar</th>\n",
       "      <th>vol_dvigatelya</th>\n",
       "      <th>max_speed</th>\n",
       "      <th>moschnost_lps</th>\n",
       "      <th>potreb_gorod</th>\n",
       "      <th>filename</th>\n",
       "      <th>filetype</th>\n",
       "    </tr>\n",
       "    <tr>\n",
       "      <th>purchase_number</th>\n",
       "      <th></th>\n",
       "      <th></th>\n",
       "      <th></th>\n",
       "      <th></th>\n",
       "      <th></th>\n",
       "      <th></th>\n",
       "      <th></th>\n",
       "      <th></th>\n",
       "      <th></th>\n",
       "      <th></th>\n",
       "      <th></th>\n",
       "      <th></th>\n",
       "      <th></th>\n",
       "      <th></th>\n",
       "      <th></th>\n",
       "      <th></th>\n",
       "      <th></th>\n",
       "      <th></th>\n",
       "      <th></th>\n",
       "      <th></th>\n",
       "      <th></th>\n",
       "    </tr>\n",
       "  </thead>\n",
       "  <tbody>\n",
       "    <tr>\n",
       "      <td>0122300006117000102</td>\n",
       "      <td>204</td>\n",
       "      <td>204, 469</td>\n",
       "      <td>1499000.00</td>\n",
       "      <td>1499000.00</td>\n",
       "      <td>1</td>\n",
       "      <td>1</td>\n",
       "      <td>1</td>\n",
       "      <td>NaN</td>\n",
       "      <td>NaN</td>\n",
       "      <td>NaN</td>\n",
       "      <td>...</td>\n",
       "      <td>полный</td>\n",
       "      <td>1815</td>\n",
       "      <td>4635</td>\n",
       "      <td>1650</td>\n",
       "      <td>1570</td>\n",
       "      <td>175</td>\n",
       "      <td>143</td>\n",
       "      <td>NaN</td>\n",
       "      <td>cf6ef33ee7aef1d8990d2c033b5634f0ad53d4d2dca04f...</td>\n",
       "      <td>docx</td>\n",
       "    </tr>\n",
       "    <tr>\n",
       "      <td>0866300029917000004</td>\n",
       "      <td>661</td>\n",
       "      <td>661</td>\n",
       "      <td>1858000.00</td>\n",
       "      <td>1774390.00</td>\n",
       "      <td>1</td>\n",
       "      <td>2</td>\n",
       "      <td>2</td>\n",
       "      <td>NaN</td>\n",
       "      <td>NaN</td>\n",
       "      <td>NaN</td>\n",
       "      <td>...</td>\n",
       "      <td>NaN</td>\n",
       "      <td>1900</td>\n",
       "      <td>4785</td>\n",
       "      <td>NaN</td>\n",
       "      <td>2700</td>\n",
       "      <td>150</td>\n",
       "      <td>134.6</td>\n",
       "      <td>11.5</td>\n",
       "      <td>a6dda03124f2f7600a28c1cdaebd6176dc4fc21a825e18...</td>\n",
       "      <td>docx</td>\n",
       "    </tr>\n",
       "    <tr>\n",
       "      <td>0332300263717000003</td>\n",
       "      <td>85</td>\n",
       "      <td>85</td>\n",
       "      <td>995000.00</td>\n",
       "      <td>995000.00</td>\n",
       "      <td>1</td>\n",
       "      <td>1</td>\n",
       "      <td>1</td>\n",
       "      <td>NaN</td>\n",
       "      <td>NaN</td>\n",
       "      <td>NaN</td>\n",
       "      <td>...</td>\n",
       "      <td>передний</td>\n",
       "      <td>1814</td>\n",
       "      <td>4658</td>\n",
       "      <td>NaN</td>\n",
       "      <td>1598</td>\n",
       "      <td>191</td>\n",
       "      <td>NaN</td>\n",
       "      <td>NaN</td>\n",
       "      <td>58da1c17ab74a34c1a816152c0443237eabd661b1fef89...</td>\n",
       "      <td>docx</td>\n",
       "    </tr>\n",
       "    <tr>\n",
       "      <td>0169300020317000031</td>\n",
       "      <td>666</td>\n",
       "      <td>666, 1047</td>\n",
       "      <td>1500000.00</td>\n",
       "      <td>1500000.00</td>\n",
       "      <td>1</td>\n",
       "      <td>1</td>\n",
       "      <td>1</td>\n",
       "      <td>NaN</td>\n",
       "      <td>NaN</td>\n",
       "      <td>NaN</td>\n",
       "      <td>...</td>\n",
       "      <td>полный</td>\n",
       "      <td>1825</td>\n",
       "      <td>4850</td>\n",
       "      <td>NaN</td>\n",
       "      <td>1790</td>\n",
       "      <td>NaN</td>\n",
       "      <td>135</td>\n",
       "      <td>NaN</td>\n",
       "      <td>495d2406cde8a6b949494bc1c6d8a8ccf2f3aa4d603cc5...</td>\n",
       "      <td>docx</td>\n",
       "    </tr>\n",
       "    <tr>\n",
       "      <td>0357200013017000003</td>\n",
       "      <td>208</td>\n",
       "      <td>208</td>\n",
       "      <td>389900.00</td>\n",
       "      <td>382050.00</td>\n",
       "      <td>1</td>\n",
       "      <td>2</td>\n",
       "      <td>1</td>\n",
       "      <td>NaN</td>\n",
       "      <td>NaN</td>\n",
       "      <td>NaN</td>\n",
       "      <td>...</td>\n",
       "      <td>передний</td>\n",
       "      <td>1700</td>\n",
       "      <td>4260</td>\n",
       "      <td>1560</td>\n",
       "      <td>1590</td>\n",
       "      <td>177</td>\n",
       "      <td>106</td>\n",
       "      <td>8.6</td>\n",
       "      <td>a561a2bb65eec3da00337a27fe514dcbb58baa4f508951...</td>\n",
       "      <td>docx</td>\n",
       "    </tr>\n",
       "    <tr>\n",
       "      <td>...</td>\n",
       "      <td>...</td>\n",
       "      <td>...</td>\n",
       "      <td>...</td>\n",
       "      <td>...</td>\n",
       "      <td>...</td>\n",
       "      <td>...</td>\n",
       "      <td>...</td>\n",
       "      <td>...</td>\n",
       "      <td>...</td>\n",
       "      <td>...</td>\n",
       "      <td>...</td>\n",
       "      <td>...</td>\n",
       "      <td>...</td>\n",
       "      <td>...</td>\n",
       "      <td>...</td>\n",
       "      <td>...</td>\n",
       "      <td>...</td>\n",
       "      <td>...</td>\n",
       "      <td>...</td>\n",
       "      <td>...</td>\n",
       "      <td>...</td>\n",
       "    </tr>\n",
       "    <tr>\n",
       "      <td>0358100009717000007</td>\n",
       "      <td>1985</td>\n",
       "      <td>1985</td>\n",
       "      <td>1371600.00</td>\n",
       "      <td>1309878.00</td>\n",
       "      <td>1</td>\n",
       "      <td>2</td>\n",
       "      <td>3</td>\n",
       "      <td>NaN</td>\n",
       "      <td>NaN</td>\n",
       "      <td>NaN</td>\n",
       "      <td>...</td>\n",
       "      <td>передний</td>\n",
       "      <td>1700</td>\n",
       "      <td>4260</td>\n",
       "      <td>1560</td>\n",
       "      <td>1596</td>\n",
       "      <td>180</td>\n",
       "      <td>106</td>\n",
       "      <td>9</td>\n",
       "      <td>67a21b3d5aa8648789cae0f09c1d736aadde833edc7e87...</td>\n",
       "      <td>docx</td>\n",
       "    </tr>\n",
       "    <tr>\n",
       "      <td>0109200002417000196</td>\n",
       "      <td>638</td>\n",
       "      <td>638</td>\n",
       "      <td>1697000.00</td>\n",
       "      <td>1533515.00</td>\n",
       "      <td>1</td>\n",
       "      <td>2</td>\n",
       "      <td>1</td>\n",
       "      <td>NaN</td>\n",
       "      <td>NaN</td>\n",
       "      <td>NaN</td>\n",
       "      <td>...</td>\n",
       "      <td>передний</td>\n",
       "      <td>1525</td>\n",
       "      <td>2080</td>\n",
       "      <td>NaN</td>\n",
       "      <td>2494</td>\n",
       "      <td>NaN</td>\n",
       "      <td>181</td>\n",
       "      <td>11</td>\n",
       "      <td>0135a567824b22c28e119a286af5b1c86ed64e45563fe7...</td>\n",
       "      <td>docx</td>\n",
       "    </tr>\n",
       "    <tr>\n",
       "      <td>0130300009717000051</td>\n",
       "      <td>197</td>\n",
       "      <td>197</td>\n",
       "      <td>1500000.00</td>\n",
       "      <td>1485000.00</td>\n",
       "      <td>1</td>\n",
       "      <td>2</td>\n",
       "      <td>1</td>\n",
       "      <td>NaN</td>\n",
       "      <td>NaN</td>\n",
       "      <td>NaN</td>\n",
       "      <td>...</td>\n",
       "      <td>задний</td>\n",
       "      <td>1800</td>\n",
       "      <td>5200</td>\n",
       "      <td>2300</td>\n",
       "      <td>2490</td>\n",
       "      <td>200</td>\n",
       "      <td>not_stated</td>\n",
       "      <td>not_stated</td>\n",
       "      <td>a71c0008e904db9528fc2b6210ca189012d6c6c717fc8e...</td>\n",
       "      <td>docx</td>\n",
       "    </tr>\n",
       "    <tr>\n",
       "      <td>0169300061917000011</td>\n",
       "      <td>1241</td>\n",
       "      <td>1241</td>\n",
       "      <td>1700000.00</td>\n",
       "      <td>1608380.00</td>\n",
       "      <td>1</td>\n",
       "      <td>2</td>\n",
       "      <td>1</td>\n",
       "      <td>NaN</td>\n",
       "      <td>NaN</td>\n",
       "      <td>NaN</td>\n",
       "      <td>...</td>\n",
       "      <td>передний</td>\n",
       "      <td>1800</td>\n",
       "      <td>4800</td>\n",
       "      <td>NaN</td>\n",
       "      <td>NaN</td>\n",
       "      <td>NaN</td>\n",
       "      <td>NaN</td>\n",
       "      <td>NaN</td>\n",
       "      <td>cc1040d957a8985b7d050008b4c3610550d16ef899da8f...</td>\n",
       "      <td>docx</td>\n",
       "    </tr>\n",
       "    <tr>\n",
       "      <td>0859200001117002731</td>\n",
       "      <td>2003</td>\n",
       "      <td>2003</td>\n",
       "      <td>741333.33</td>\n",
       "      <td>741333.33</td>\n",
       "      <td>1</td>\n",
       "      <td>1</td>\n",
       "      <td>1</td>\n",
       "      <td>NaN</td>\n",
       "      <td>NaN</td>\n",
       "      <td>NaN</td>\n",
       "      <td>...</td>\n",
       "      <td>полный</td>\n",
       "      <td>NaN</td>\n",
       "      <td>NaN</td>\n",
       "      <td>NaN</td>\n",
       "      <td>NaN</td>\n",
       "      <td>NaN</td>\n",
       "      <td>NaN</td>\n",
       "      <td>NaN</td>\n",
       "      <td>0f42ec184b3206373a17e59cb67f46e12cffaa7137b8fc...</td>\n",
       "      <td>docx</td>\n",
       "    </tr>\n",
       "  </tbody>\n",
       "</table>\n",
       "<p>336 rows × 25 columns</p>\n",
       "</div>"
      ],
      "text/plain": [
       "                     index_name all_indexes       price  real_price  auction  \\\n",
       "purchase_number                                                                \n",
       "0122300006117000102         204    204, 469  1499000.00  1499000.00        1   \n",
       "0866300029917000004         661         661  1858000.00  1774390.00        1   \n",
       "0332300263717000003          85          85   995000.00   995000.00        1   \n",
       "0169300020317000031         666   666, 1047  1500000.00  1500000.00        1   \n",
       "0357200013017000003         208         208   389900.00   382050.00        1   \n",
       "...                         ...         ...         ...         ...      ...   \n",
       "0358100009717000007        1985        1985  1371600.00  1309878.00        1   \n",
       "0109200002417000196         638         638  1697000.00  1533515.00        1   \n",
       "0130300009717000051         197         197  1500000.00  1485000.00        1   \n",
       "0169300061917000011        1241        1241  1700000.00  1608380.00        1   \n",
       "0859200001117002731        2003        2003   741333.33   741333.33        1   \n",
       "\n",
       "                     numb_bidders  kolichestvo_avto_v_zakupke  org_address  \\\n",
       "purchase_number                                                              \n",
       "0122300006117000102             1                           1          NaN   \n",
       "0866300029917000004             2                           2          NaN   \n",
       "0332300263717000003             1                           1          NaN   \n",
       "0169300020317000031             1                           1          NaN   \n",
       "0357200013017000003             2                           1          NaN   \n",
       "...                           ...                         ...          ...   \n",
       "0358100009717000007             2                           3          NaN   \n",
       "0109200002417000196             2                           1          NaN   \n",
       "0130300009717000051             2                           1          NaN   \n",
       "0169300061917000011             2                           1          NaN   \n",
       "0859200001117002731             1                           1          NaN   \n",
       "\n",
       "                     date  date2  ...    privod width length mass_snar  \\\n",
       "purchase_number                   ...                                    \n",
       "0122300006117000102   NaN    NaN  ...    полный  1815   4635      1650   \n",
       "0866300029917000004   NaN    NaN  ...       NaN  1900   4785       NaN   \n",
       "0332300263717000003   NaN    NaN  ...  передний  1814   4658       NaN   \n",
       "0169300020317000031   NaN    NaN  ...    полный  1825   4850       NaN   \n",
       "0357200013017000003   NaN    NaN  ...  передний  1700   4260      1560   \n",
       "...                   ...    ...  ...       ...   ...    ...       ...   \n",
       "0358100009717000007   NaN    NaN  ...  передний  1700   4260      1560   \n",
       "0109200002417000196   NaN    NaN  ...  передний  1525   2080       NaN   \n",
       "0130300009717000051   NaN    NaN  ...    задний  1800   5200      2300   \n",
       "0169300061917000011   NaN    NaN  ...  передний  1800   4800       NaN   \n",
       "0859200001117002731   NaN    NaN  ...    полный   NaN    NaN       NaN   \n",
       "\n",
       "                    vol_dvigatelya max_speed moschnost_lps potreb_gorod  \\\n",
       "purchase_number                                                           \n",
       "0122300006117000102           1570       175           143          NaN   \n",
       "0866300029917000004           2700       150         134.6         11.5   \n",
       "0332300263717000003           1598       191           NaN          NaN   \n",
       "0169300020317000031           1790       NaN           135          NaN   \n",
       "0357200013017000003           1590       177           106          8.6   \n",
       "...                            ...       ...           ...          ...   \n",
       "0358100009717000007           1596       180           106            9   \n",
       "0109200002417000196           2494       NaN           181           11   \n",
       "0130300009717000051           2490       200    not_stated   not_stated   \n",
       "0169300061917000011            NaN       NaN           NaN          NaN   \n",
       "0859200001117002731            NaN       NaN           NaN          NaN   \n",
       "\n",
       "                                                              filename  \\\n",
       "purchase_number                                                          \n",
       "0122300006117000102  cf6ef33ee7aef1d8990d2c033b5634f0ad53d4d2dca04f...   \n",
       "0866300029917000004  a6dda03124f2f7600a28c1cdaebd6176dc4fc21a825e18...   \n",
       "0332300263717000003  58da1c17ab74a34c1a816152c0443237eabd661b1fef89...   \n",
       "0169300020317000031  495d2406cde8a6b949494bc1c6d8a8ccf2f3aa4d603cc5...   \n",
       "0357200013017000003  a561a2bb65eec3da00337a27fe514dcbb58baa4f508951...   \n",
       "...                                                                ...   \n",
       "0358100009717000007  67a21b3d5aa8648789cae0f09c1d736aadde833edc7e87...   \n",
       "0109200002417000196  0135a567824b22c28e119a286af5b1c86ed64e45563fe7...   \n",
       "0130300009717000051  a71c0008e904db9528fc2b6210ca189012d6c6c717fc8e...   \n",
       "0169300061917000011  cc1040d957a8985b7d050008b4c3610550d16ef899da8f...   \n",
       "0859200001117002731  0f42ec184b3206373a17e59cb67f46e12cffaa7137b8fc...   \n",
       "\n",
       "                    filetype  \n",
       "purchase_number               \n",
       "0122300006117000102     docx  \n",
       "0866300029917000004     docx  \n",
       "0332300263717000003     docx  \n",
       "0169300020317000031     docx  \n",
       "0357200013017000003     docx  \n",
       "...                      ...  \n",
       "0358100009717000007     docx  \n",
       "0109200002417000196     docx  \n",
       "0130300009717000051     docx  \n",
       "0169300061917000011     docx  \n",
       "0859200001117002731     docx  \n",
       "\n",
       "[336 rows x 25 columns]"
      ]
     },
     "execution_count": 2181,
     "metadata": {},
     "output_type": "execute_result"
    }
   ],
   "source": [
    "fdf1.fillna(np.nan)"
   ]
  },
  {
   "cell_type": "code",
   "execution_count": 2188,
   "metadata": {
    "ExecuteTime": {
     "end_time": "2019-10-28T17:56:51.048135Z",
     "start_time": "2019-10-28T17:56:51.031278Z"
    }
   },
   "outputs": [],
   "source": [
    "final_df_part17 = final_df_part17.combine_first(fdf1)"
   ]
  },
  {
   "cell_type": "code",
   "execution_count": 2192,
   "metadata": {
    "ExecuteTime": {
     "end_time": "2019-10-28T17:59:06.359206Z",
     "start_time": "2019-10-28T17:59:06.349505Z"
    }
   },
   "outputs": [],
   "source": [
    "final_df_all17 = final_df_part17.reset_index().append(final_df_partno17, sort = False)"
   ]
  },
  {
   "cell_type": "code",
   "execution_count": 2193,
   "metadata": {
    "ExecuteTime": {
     "end_time": "2019-10-28T17:59:29.753099Z",
     "start_time": "2019-10-28T17:59:27.351133Z"
    }
   },
   "outputs": [],
   "source": [
    "final_df_all17.to_excel('data123.xlsx')"
   ]
  },
  {
   "cell_type": "code",
   "execution_count": 2269,
   "metadata": {
    "ExecuteTime": {
     "end_time": "2019-10-28T18:28:12.364288Z",
     "start_time": "2019-10-28T18:28:12.361462Z"
    }
   },
   "outputs": [],
   "source": [
    "final_df = final_df_all17.copy()"
   ]
  },
  {
   "cell_type": "code",
   "execution_count": 2217,
   "metadata": {
    "ExecuteTime": {
     "end_time": "2019-10-28T18:07:22.607274Z",
     "start_time": "2019-10-28T18:07:22.604267Z"
    }
   },
   "outputs": [
    {
     "data": {
      "text/plain": [
       "'width'"
      ]
     },
     "execution_count": 2217,
     "metadata": {},
     "output_type": "execute_result"
    }
   ],
   "source": [
    "final_df.columns[17]"
   ]
  },
  {
   "cell_type": "code",
   "execution_count": 2237,
   "metadata": {
    "ExecuteTime": {
     "end_time": "2019-10-28T18:14:40.580971Z",
     "start_time": "2019-10-28T18:14:40.570570Z"
    }
   },
   "outputs": [
    {
     "data": {
      "text/plain": [
       "[False,\n",
       " False,\n",
       " False,\n",
       " False,\n",
       " False,\n",
       " False,\n",
       " False,\n",
       " False,\n",
       " False,\n",
       " False,\n",
       " False,\n",
       " False,\n",
       " False,\n",
       " False,\n",
       " False,\n",
       " False,\n",
       " False,\n",
       " False,\n",
       " False,\n",
       " False,\n",
       " False,\n",
       " False,\n",
       " False,\n",
       " False,\n",
       " False,\n",
       " False,\n",
       " False,\n",
       " False,\n",
       " False,\n",
       " False,\n",
       " False,\n",
       " False,\n",
       " False,\n",
       " False,\n",
       " False,\n",
       " False,\n",
       " False,\n",
       " False,\n",
       " False,\n",
       " False,\n",
       " False,\n",
       " False,\n",
       " False,\n",
       " False,\n",
       " False,\n",
       " False,\n",
       " False,\n",
       " False,\n",
       " False,\n",
       " False,\n",
       " False,\n",
       " False,\n",
       " False,\n",
       " False,\n",
       " False,\n",
       " False,\n",
       " False,\n",
       " False,\n",
       " False,\n",
       " False,\n",
       " False,\n",
       " False,\n",
       " False,\n",
       " False,\n",
       " False,\n",
       " False,\n",
       " False,\n",
       " False,\n",
       " False,\n",
       " False,\n",
       " False,\n",
       " False,\n",
       " False,\n",
       " False,\n",
       " False,\n",
       " False,\n",
       " False,\n",
       " False,\n",
       " False,\n",
       " False,\n",
       " False,\n",
       " False,\n",
       " False,\n",
       " False,\n",
       " False,\n",
       " False,\n",
       " False,\n",
       " False,\n",
       " False,\n",
       " False,\n",
       " False,\n",
       " False,\n",
       " False,\n",
       " False,\n",
       " False,\n",
       " False,\n",
       " False,\n",
       " False,\n",
       " False,\n",
       " False,\n",
       " False,\n",
       " False,\n",
       " False,\n",
       " False,\n",
       " False,\n",
       " False,\n",
       " False,\n",
       " False,\n",
       " False,\n",
       " False,\n",
       " False,\n",
       " False,\n",
       " False,\n",
       " False,\n",
       " False,\n",
       " False,\n",
       " False,\n",
       " False,\n",
       " False,\n",
       " False,\n",
       " False,\n",
       " False,\n",
       " False,\n",
       " False,\n",
       " False,\n",
       " False,\n",
       " False,\n",
       " False,\n",
       " False,\n",
       " False,\n",
       " False,\n",
       " False,\n",
       " False,\n",
       " False,\n",
       " False,\n",
       " False,\n",
       " False,\n",
       " False,\n",
       " False,\n",
       " False,\n",
       " False,\n",
       " False,\n",
       " False,\n",
       " False,\n",
       " False,\n",
       " False,\n",
       " False,\n",
       " False,\n",
       " False,\n",
       " False,\n",
       " False,\n",
       " False,\n",
       " False,\n",
       " False,\n",
       " False,\n",
       " False,\n",
       " False,\n",
       " False,\n",
       " False,\n",
       " False,\n",
       " False,\n",
       " False,\n",
       " False,\n",
       " False,\n",
       " False,\n",
       " False,\n",
       " False,\n",
       " False,\n",
       " False,\n",
       " False,\n",
       " False,\n",
       " False,\n",
       " False,\n",
       " False,\n",
       " False,\n",
       " False,\n",
       " False,\n",
       " False,\n",
       " False,\n",
       " False,\n",
       " False,\n",
       " False,\n",
       " False,\n",
       " False,\n",
       " False,\n",
       " False,\n",
       " False,\n",
       " False,\n",
       " False,\n",
       " False,\n",
       " False,\n",
       " False,\n",
       " False,\n",
       " False,\n",
       " False,\n",
       " False,\n",
       " False,\n",
       " False,\n",
       " False,\n",
       " False,\n",
       " False,\n",
       " False,\n",
       " False,\n",
       " False,\n",
       " False,\n",
       " False,\n",
       " False,\n",
       " False,\n",
       " False,\n",
       " False,\n",
       " False,\n",
       " False,\n",
       " False,\n",
       " False,\n",
       " False,\n",
       " False,\n",
       " False,\n",
       " False,\n",
       " False,\n",
       " False,\n",
       " False,\n",
       " False,\n",
       " False,\n",
       " False,\n",
       " False,\n",
       " False,\n",
       " False,\n",
       " False,\n",
       " False,\n",
       " False,\n",
       " False,\n",
       " False,\n",
       " False,\n",
       " False,\n",
       " False,\n",
       " False,\n",
       " False,\n",
       " False,\n",
       " False,\n",
       " False,\n",
       " False,\n",
       " False,\n",
       " False,\n",
       " False,\n",
       " False,\n",
       " False,\n",
       " False,\n",
       " False,\n",
       " False,\n",
       " False,\n",
       " False,\n",
       " False,\n",
       " False,\n",
       " False,\n",
       " False,\n",
       " False,\n",
       " False,\n",
       " False,\n",
       " False,\n",
       " False,\n",
       " False,\n",
       " False,\n",
       " False,\n",
       " False,\n",
       " False,\n",
       " False,\n",
       " False,\n",
       " False,\n",
       " False,\n",
       " False,\n",
       " False,\n",
       " False,\n",
       " False,\n",
       " False,\n",
       " False,\n",
       " False,\n",
       " False,\n",
       " False,\n",
       " False,\n",
       " False,\n",
       " False,\n",
       " False,\n",
       " False,\n",
       " False,\n",
       " False,\n",
       " False,\n",
       " False,\n",
       " False,\n",
       " False,\n",
       " False,\n",
       " False,\n",
       " False,\n",
       " False,\n",
       " False,\n",
       " False,\n",
       " False,\n",
       " False,\n",
       " False,\n",
       " False,\n",
       " False,\n",
       " False,\n",
       " False,\n",
       " False,\n",
       " False,\n",
       " False,\n",
       " False,\n",
       " False,\n",
       " False,\n",
       " False,\n",
       " False,\n",
       " False,\n",
       " False,\n",
       " False,\n",
       " False,\n",
       " False,\n",
       " False,\n",
       " False,\n",
       " False,\n",
       " False,\n",
       " False,\n",
       " False,\n",
       " False,\n",
       " False,\n",
       " False,\n",
       " False,\n",
       " False,\n",
       " False,\n",
       " False,\n",
       " False,\n",
       " False,\n",
       " False,\n",
       " False,\n",
       " False,\n",
       " False,\n",
       " False,\n",
       " False,\n",
       " False,\n",
       " False,\n",
       " False,\n",
       " True,\n",
       " False,\n",
       " False,\n",
       " False,\n",
       " False,\n",
       " False,\n",
       " False,\n",
       " False,\n",
       " False,\n",
       " False,\n",
       " False,\n",
       " False,\n",
       " False,\n",
       " False,\n",
       " False,\n",
       " False,\n",
       " False,\n",
       " False,\n",
       " False,\n",
       " False,\n",
       " False,\n",
       " False,\n",
       " False,\n",
       " False,\n",
       " False,\n",
       " False,\n",
       " False,\n",
       " False,\n",
       " False,\n",
       " False,\n",
       " False,\n",
       " False,\n",
       " False,\n",
       " False,\n",
       " False,\n",
       " False,\n",
       " False,\n",
       " False,\n",
       " False,\n",
       " False,\n",
       " False,\n",
       " False,\n",
       " False,\n",
       " False,\n",
       " False,\n",
       " False,\n",
       " False,\n",
       " False,\n",
       " False,\n",
       " False,\n",
       " False,\n",
       " False,\n",
       " False,\n",
       " False,\n",
       " False,\n",
       " False,\n",
       " False,\n",
       " False,\n",
       " False,\n",
       " False,\n",
       " False,\n",
       " False,\n",
       " False,\n",
       " False,\n",
       " False,\n",
       " False,\n",
       " False,\n",
       " False,\n",
       " False,\n",
       " False,\n",
       " False,\n",
       " False,\n",
       " False,\n",
       " False,\n",
       " False,\n",
       " False,\n",
       " False,\n",
       " False,\n",
       " False,\n",
       " False,\n",
       " False,\n",
       " False,\n",
       " False,\n",
       " False,\n",
       " False,\n",
       " False,\n",
       " False,\n",
       " False,\n",
       " False,\n",
       " False,\n",
       " False,\n",
       " False,\n",
       " False,\n",
       " False,\n",
       " False,\n",
       " False,\n",
       " False,\n",
       " False,\n",
       " False,\n",
       " False,\n",
       " False,\n",
       " False,\n",
       " False,\n",
       " False,\n",
       " False,\n",
       " False,\n",
       " False,\n",
       " False,\n",
       " False,\n",
       " False,\n",
       " False,\n",
       " False,\n",
       " False,\n",
       " False,\n",
       " False,\n",
       " False,\n",
       " False,\n",
       " False,\n",
       " False,\n",
       " False,\n",
       " False,\n",
       " False,\n",
       " False,\n",
       " False,\n",
       " False,\n",
       " False,\n",
       " False,\n",
       " False,\n",
       " False,\n",
       " False,\n",
       " False,\n",
       " False,\n",
       " False,\n",
       " False,\n",
       " False,\n",
       " False,\n",
       " False,\n",
       " False,\n",
       " False,\n",
       " False,\n",
       " False,\n",
       " False,\n",
       " False,\n",
       " False,\n",
       " False,\n",
       " False,\n",
       " False,\n",
       " False,\n",
       " False,\n",
       " False,\n",
       " False,\n",
       " False,\n",
       " False,\n",
       " False,\n",
       " False,\n",
       " False,\n",
       " False,\n",
       " False,\n",
       " False,\n",
       " False,\n",
       " False,\n",
       " False,\n",
       " False,\n",
       " False,\n",
       " False,\n",
       " False,\n",
       " False,\n",
       " False,\n",
       " False,\n",
       " False,\n",
       " False,\n",
       " False,\n",
       " False,\n",
       " False,\n",
       " False,\n",
       " False,\n",
       " False,\n",
       " False,\n",
       " False,\n",
       " False,\n",
       " False,\n",
       " False,\n",
       " False,\n",
       " False,\n",
       " False,\n",
       " False,\n",
       " False,\n",
       " False,\n",
       " False,\n",
       " False,\n",
       " False,\n",
       " False,\n",
       " False,\n",
       " False,\n",
       " False,\n",
       " False,\n",
       " False,\n",
       " False,\n",
       " False,\n",
       " False,\n",
       " False,\n",
       " False,\n",
       " False,\n",
       " False,\n",
       " False,\n",
       " False,\n",
       " False,\n",
       " False,\n",
       " False,\n",
       " False,\n",
       " False,\n",
       " False,\n",
       " False,\n",
       " False,\n",
       " False,\n",
       " False,\n",
       " False,\n",
       " False,\n",
       " False,\n",
       " False,\n",
       " False,\n",
       " False,\n",
       " False,\n",
       " False,\n",
       " False,\n",
       " False,\n",
       " False,\n",
       " False,\n",
       " False,\n",
       " False,\n",
       " False,\n",
       " False,\n",
       " False,\n",
       " False,\n",
       " False,\n",
       " False,\n",
       " False,\n",
       " False,\n",
       " False,\n",
       " False,\n",
       " False,\n",
       " False,\n",
       " False,\n",
       " False,\n",
       " False,\n",
       " False,\n",
       " False,\n",
       " False,\n",
       " False,\n",
       " False,\n",
       " False,\n",
       " False,\n",
       " False,\n",
       " False,\n",
       " False,\n",
       " False,\n",
       " False,\n",
       " False,\n",
       " False,\n",
       " False,\n",
       " False,\n",
       " False,\n",
       " False,\n",
       " False,\n",
       " False,\n",
       " False,\n",
       " False,\n",
       " False,\n",
       " False,\n",
       " False,\n",
       " False,\n",
       " False,\n",
       " False,\n",
       " False,\n",
       " False,\n",
       " False,\n",
       " False,\n",
       " False,\n",
       " False,\n",
       " False,\n",
       " False,\n",
       " False,\n",
       " False,\n",
       " False,\n",
       " False,\n",
       " False,\n",
       " False,\n",
       " False,\n",
       " False,\n",
       " False,\n",
       " False,\n",
       " False,\n",
       " False,\n",
       " False,\n",
       " False,\n",
       " False,\n",
       " False,\n",
       " False,\n",
       " False,\n",
       " False,\n",
       " False,\n",
       " False,\n",
       " False,\n",
       " False,\n",
       " False,\n",
       " False,\n",
       " False,\n",
       " False,\n",
       " False,\n",
       " False,\n",
       " False,\n",
       " False,\n",
       " False,\n",
       " False,\n",
       " False,\n",
       " False,\n",
       " False,\n",
       " False,\n",
       " False,\n",
       " False,\n",
       " False,\n",
       " False,\n",
       " False,\n",
       " False,\n",
       " False,\n",
       " False,\n",
       " False,\n",
       " False,\n",
       " False,\n",
       " False,\n",
       " False,\n",
       " False,\n",
       " False,\n",
       " False,\n",
       " False,\n",
       " False,\n",
       " False,\n",
       " False,\n",
       " False,\n",
       " False,\n",
       " False,\n",
       " False,\n",
       " False,\n",
       " False,\n",
       " False,\n",
       " False,\n",
       " False,\n",
       " False,\n",
       " False,\n",
       " False,\n",
       " False,\n",
       " False,\n",
       " False,\n",
       " False,\n",
       " False,\n",
       " False,\n",
       " False,\n",
       " False,\n",
       " False,\n",
       " False,\n",
       " False,\n",
       " False,\n",
       " False,\n",
       " False,\n",
       " False,\n",
       " False,\n",
       " False,\n",
       " False,\n",
       " False,\n",
       " False,\n",
       " False,\n",
       " False,\n",
       " False,\n",
       " False,\n",
       " False,\n",
       " False,\n",
       " False,\n",
       " False,\n",
       " False,\n",
       " False,\n",
       " False,\n",
       " False,\n",
       " False,\n",
       " False,\n",
       " False,\n",
       " False,\n",
       " False,\n",
       " False,\n",
       " False,\n",
       " False,\n",
       " False,\n",
       " False,\n",
       " False,\n",
       " False,\n",
       " False,\n",
       " False,\n",
       " False,\n",
       " False,\n",
       " False,\n",
       " False,\n",
       " False,\n",
       " False,\n",
       " False,\n",
       " False,\n",
       " False,\n",
       " False,\n",
       " False,\n",
       " False,\n",
       " False,\n",
       " False,\n",
       " False,\n",
       " False,\n",
       " False,\n",
       " False,\n",
       " False,\n",
       " False,\n",
       " False,\n",
       " False,\n",
       " False,\n",
       " False,\n",
       " False,\n",
       " False,\n",
       " False,\n",
       " False,\n",
       " False,\n",
       " False,\n",
       " False,\n",
       " False,\n",
       " False,\n",
       " False,\n",
       " False,\n",
       " False,\n",
       " False,\n",
       " False,\n",
       " False,\n",
       " False,\n",
       " False,\n",
       " False,\n",
       " False,\n",
       " False,\n",
       " False,\n",
       " False,\n",
       " False,\n",
       " False,\n",
       " False,\n",
       " False,\n",
       " False,\n",
       " False,\n",
       " False,\n",
       " False,\n",
       " False,\n",
       " False,\n",
       " False,\n",
       " False,\n",
       " False,\n",
       " False,\n",
       " False,\n",
       " False,\n",
       " False,\n",
       " False,\n",
       " False,\n",
       " False,\n",
       " False,\n",
       " False,\n",
       " False,\n",
       " False,\n",
       " False,\n",
       " False,\n",
       " False,\n",
       " False,\n",
       " False,\n",
       " False,\n",
       " False,\n",
       " False,\n",
       " False,\n",
       " False,\n",
       " False,\n",
       " False,\n",
       " False,\n",
       " False,\n",
       " False,\n",
       " False,\n",
       " False,\n",
       " False,\n",
       " False,\n",
       " False,\n",
       " False,\n",
       " False,\n",
       " False,\n",
       " False,\n",
       " False,\n",
       " False,\n",
       " False,\n",
       " False,\n",
       " False,\n",
       " False,\n",
       " False,\n",
       " False,\n",
       " False,\n",
       " False,\n",
       " False,\n",
       " False,\n",
       " False,\n",
       " False,\n",
       " False,\n",
       " False,\n",
       " False,\n",
       " False,\n",
       " False,\n",
       " False,\n",
       " False,\n",
       " False,\n",
       " False,\n",
       " False,\n",
       " False,\n",
       " False,\n",
       " False,\n",
       " False,\n",
       " False,\n",
       " False,\n",
       " False,\n",
       " False,\n",
       " False,\n",
       " False,\n",
       " False,\n",
       " False,\n",
       " False,\n",
       " False,\n",
       " False,\n",
       " False,\n",
       " False,\n",
       " False,\n",
       " False,\n",
       " False,\n",
       " False,\n",
       " False,\n",
       " False,\n",
       " False,\n",
       " False,\n",
       " False,\n",
       " False,\n",
       " False,\n",
       " False,\n",
       " False,\n",
       " False,\n",
       " False,\n",
       " False,\n",
       " False,\n",
       " False,\n",
       " False,\n",
       " False,\n",
       " False,\n",
       " False,\n",
       " False,\n",
       " False,\n",
       " False,\n",
       " False,\n",
       " False,\n",
       " False,\n",
       " False,\n",
       " False,\n",
       " False,\n",
       " False,\n",
       " False,\n",
       " False,\n",
       " False,\n",
       " False,\n",
       " False,\n",
       " False,\n",
       " False,\n",
       " False,\n",
       " False,\n",
       " False,\n",
       " False,\n",
       " False,\n",
       " False,\n",
       " False,\n",
       " False,\n",
       " False,\n",
       " False,\n",
       " False,\n",
       " False,\n",
       " False,\n",
       " False,\n",
       " False,\n",
       " False,\n",
       " False,\n",
       " False,\n",
       " False,\n",
       " False,\n",
       " False,\n",
       " False,\n",
       " False,\n",
       " False,\n",
       " False,\n",
       " False,\n",
       " False,\n",
       " False,\n",
       " False,\n",
       " False,\n",
       " False,\n",
       " False,\n",
       " False,\n",
       " False,\n",
       " False,\n",
       " False,\n",
       " False,\n",
       " False,\n",
       " False,\n",
       " False,\n",
       " False,\n",
       " False,\n",
       " False,\n",
       " False,\n",
       " False,\n",
       " False,\n",
       " False,\n",
       " False,\n",
       " False,\n",
       " False,\n",
       " False,\n",
       " False,\n",
       " False,\n",
       " False,\n",
       " False,\n",
       " False,\n",
       " False,\n",
       " False,\n",
       " False,\n",
       " False,\n",
       " False,\n",
       " False,\n",
       " False,\n",
       " False,\n",
       " False,\n",
       " False,\n",
       " False,\n",
       " False,\n",
       " False,\n",
       " False,\n",
       " False,\n",
       " False,\n",
       " False,\n",
       " False,\n",
       " False,\n",
       " False,\n",
       " False,\n",
       " False,\n",
       " False,\n",
       " False,\n",
       " False,\n",
       " False,\n",
       " False,\n",
       " False,\n",
       " False,\n",
       " False,\n",
       " False,\n",
       " False,\n",
       " False,\n",
       " False,\n",
       " False,\n",
       " ...]"
      ]
     },
     "execution_count": 2237,
     "metadata": {},
     "output_type": "execute_result"
    }
   ],
   "source": [
    " [i == 'corolla' for i in final_df['model'].values]"
   ]
  },
  {
   "cell_type": "code",
   "execution_count": null,
   "metadata": {
    "ExecuteTime": {
     "end_time": "2019-10-28T18:21:03.201795Z",
     "start_time": "2019-10-28T18:21:03.188960Z"
    }
   },
   "outputs": [],
   "source": [
    "# final_df.loc[ , final_df.columns[17] ]\n",
    "\n",
    "final_df.loc[~final_df['model'].isna(), :]['model'].unique().values()"
   ]
  },
  {
   "cell_type": "code",
   "execution_count": 2265,
   "metadata": {
    "ExecuteTime": {
     "end_time": "2019-10-28T18:27:25.546711Z",
     "start_time": "2019-10-28T18:27:25.537978Z"
    }
   },
   "outputs": [
    {
     "data": {
      "text/plain": [
       "'granta'"
      ]
     },
     "execution_count": 2265,
     "metadata": {},
     "output_type": "execute_result"
    }
   ],
   "source": [
    "final_df.loc[~final_df['model'].isna(), :]['model'].unique()[1]"
   ]
  },
  {
   "cell_type": "code",
   "execution_count": null,
   "metadata": {},
   "outputs": [],
   "source": []
  },
  {
   "cell_type": "code",
   "execution_count": 2296,
   "metadata": {
    "ExecuteTime": {
     "end_time": "2019-10-28T18:40:40.418932Z",
     "start_time": "2019-10-28T18:40:40.411701Z"
    }
   },
   "outputs": [
    {
     "data": {
      "text/plain": [
       "0"
      ]
     },
     "execution_count": 2296,
     "metadata": {},
     "output_type": "execute_result"
    }
   ],
   "source": [
    "len(final_df.loc[[i == k for k in final_df['model'].values], final_df.columns[j] ].mode())"
   ]
  },
  {
   "cell_type": "code",
   "execution_count": 2298,
   "metadata": {
    "ExecuteTime": {
     "end_time": "2019-10-28T18:41:53.758326Z",
     "start_time": "2019-10-28T18:41:52.284515Z"
    }
   },
   "outputs": [
    {
     "name": "stderr",
     "output_type": "stream",
     "text": [
      "/home/xenakas/anaconda3/envs/geoplots3.6/lib/python3.6/site-packages/pandas/core/algorithms.py:881: UserWarning: Unable to sort modes: '<' not supported between instances of 'str' and 'float'\n",
      "  warn(\"Unable to sort modes: {error}\".format(error=e))\n",
      "/home/xenakas/anaconda3/envs/geoplots3.6/lib/python3.6/site-packages/pandas/core/algorithms.py:881: UserWarning: Unable to sort modes: '<' not supported between instances of 'str' and 'int'\n",
      "  warn(\"Unable to sort modes: {error}\".format(error=e))\n"
     ]
    }
   ],
   "source": [
    "for i in final_df.loc[~final_df['model'].isna(), :]['model'].unique():\n",
    "    for j in range(17,24):\n",
    "        \n",
    "        if len(final_df.loc[[i == k for k in final_df['model'].values], final_df.columns[j] ].mode()) !=0:         \n",
    "            final_df.loc[  [i == k for k in final_df['model'].values], final_df.columns[j] ] =  final_df.loc[[i == k for k in final_df['model'].values], final_df.columns[j] ].fillna(final_df.loc[[i == k for k in final_df['model'].values], final_df.columns[j] ].mode().values[0])"
   ]
  },
  {
   "cell_type": "code",
   "execution_count": 2300,
   "metadata": {
    "ExecuteTime": {
     "end_time": "2019-10-28T18:42:28.452747Z",
     "start_time": "2019-10-28T18:42:26.238819Z"
    }
   },
   "outputs": [],
   "source": [
    "final_df.to_excel('1345.xlsx')\n",
    "\n",
    "# .loc[final_df['model'] == 'granta', final_df.columns[17]].mode().values[0]\n"
   ]
  },
  {
   "cell_type": "code",
   "execution_count": 2261,
   "metadata": {
    "ExecuteTime": {
     "end_time": "2019-10-28T18:22:52.917364Z",
     "start_time": "2019-10-28T18:22:51.466521Z"
    }
   },
   "outputs": [
    {
     "name": "stderr",
     "output_type": "stream",
     "text": [
      "/home/xenakas/anaconda3/envs/geoplots3.6/lib/python3.6/site-packages/pandas/core/algorithms.py:881: UserWarning: Unable to sort modes: '<' not supported between instances of 'str' and 'int'\n",
      "  warn(\"Unable to sort modes: {error}\".format(error=e))\n"
     ]
    }
   ],
   "source": [
    "for j in range(17,24):\n",
    "    \n",
    "        \n",
    "        final_df.loc[  [i == k for k in final_df['model'].values], final_df.columns[j] ] = final_df.loc[[i == k for k in final_df['model'].values], final_df.columns[j] ].fillna(final_df.loc[[i == k for k in final_df['model'].values], final_df.columns[j] ].mode())"
   ]
  },
  {
   "cell_type": "code",
   "execution_count": 2263,
   "metadata": {
    "ExecuteTime": {
     "end_time": "2019-10-28T18:23:20.091317Z",
     "start_time": "2019-10-28T18:23:18.041710Z"
    }
   },
   "outputs": [],
   "source": [
    "final_df.to_excel('1231245.xlsx')"
   ]
  },
  {
   "cell_type": "code",
   "execution_count": 2216,
   "metadata": {
    "ExecuteTime": {
     "end_time": "2019-10-28T18:07:05.038745Z",
     "start_time": "2019-10-28T18:07:05.032766Z"
    },
    "scrolled": true
   },
   "outputs": [
    {
     "data": {
      "text/plain": [
       "3       1775.0\n",
       "1409    1775.0\n",
       "1451    1775.0\n",
       "1534    1775.0\n",
       "3472    1775.0\n",
       "3735    1775.0\n",
       "3982    1775.0\n",
       "Name: width, dtype: float64"
      ]
     },
     "execution_count": 2216,
     "metadata": {},
     "output_type": "execute_result"
    }
   ],
   "source": [
    "final_df.loc[final_df['model'] == 'corolla', 'width'].fillna(final_df.loc[final_df['model'] == 'corolla', 'width'].mode()[0])"
   ]
  },
  {
   "cell_type": "code",
   "execution_count": 2199,
   "metadata": {
    "ExecuteTime": {
     "end_time": "2019-10-28T18:02:51.326521Z",
     "start_time": "2019-10-28T18:02:51.312355Z"
    }
   },
   "outputs": [
    {
     "ename": "TypeError",
     "evalue": "'(0       False\n1       False\n2       False\n3       False\n4       False\n        ...  \n4434    False\n4435    False\n4436    False\n4437    False\n4438    False\nName: model, Length: 4439, dtype: bool, 17)' is an invalid key",
     "output_type": "error",
     "traceback": [
      "\u001b[0;31m---------------------------------------------------------------------------\u001b[0m",
      "\u001b[0;31mTypeError\u001b[0m                                 Traceback (most recent call last)",
      "\u001b[0;32m<ipython-input-2199-5eafb11ff142>\u001b[0m in \u001b[0;36m<module>\u001b[0;34m\u001b[0m\n\u001b[0;32m----> 1\u001b[0;31m \u001b[0mfinal_df\u001b[0m\u001b[0;34m[\u001b[0m\u001b[0mfinal_df\u001b[0m\u001b[0;34m[\u001b[0m\u001b[0;34m'model'\u001b[0m\u001b[0;34m]\u001b[0m \u001b[0;34m==\u001b[0m \u001b[0;34m'corolla'\u001b[0m\u001b[0;34m,\u001b[0m \u001b[0;36m17\u001b[0m\u001b[0;34m]\u001b[0m\u001b[0;34m.\u001b[0m\u001b[0mfillna\u001b[0m\u001b[0;34m(\u001b[0m\u001b[0mfinal_df\u001b[0m\u001b[0;34m.\u001b[0m\u001b[0mmode\u001b[0m\u001b[0;34m(\u001b[0m\u001b[0mfinal_df\u001b[0m\u001b[0;34m[\u001b[0m\u001b[0mfinal_df\u001b[0m\u001b[0;34m[\u001b[0m\u001b[0;34m'model'\u001b[0m\u001b[0;34m]\u001b[0m \u001b[0;34m==\u001b[0m \u001b[0;34m'corolla'\u001b[0m\u001b[0;34m,\u001b[0m \u001b[0;36m17\u001b[0m\u001b[0;34m]\u001b[0m\u001b[0;34m)\u001b[0m\u001b[0;34m)\u001b[0m\u001b[0;34m\u001b[0m\u001b[0;34m\u001b[0m\u001b[0m\n\u001b[0m",
      "\u001b[0;32m~/anaconda3/envs/geoplots3.6/lib/python3.6/site-packages/pandas/core/frame.py\u001b[0m in \u001b[0;36m__getitem__\u001b[0;34m(self, key)\u001b[0m\n\u001b[1;32m   2978\u001b[0m             \u001b[0;32mif\u001b[0m \u001b[0mself\u001b[0m\u001b[0;34m.\u001b[0m\u001b[0mcolumns\u001b[0m\u001b[0;34m.\u001b[0m\u001b[0mnlevels\u001b[0m \u001b[0;34m>\u001b[0m \u001b[0;36m1\u001b[0m\u001b[0;34m:\u001b[0m\u001b[0;34m\u001b[0m\u001b[0;34m\u001b[0m\u001b[0m\n\u001b[1;32m   2979\u001b[0m                 \u001b[0;32mreturn\u001b[0m \u001b[0mself\u001b[0m\u001b[0;34m.\u001b[0m\u001b[0m_getitem_multilevel\u001b[0m\u001b[0;34m(\u001b[0m\u001b[0mkey\u001b[0m\u001b[0;34m)\u001b[0m\u001b[0;34m\u001b[0m\u001b[0;34m\u001b[0m\u001b[0m\n\u001b[0;32m-> 2980\u001b[0;31m             \u001b[0mindexer\u001b[0m \u001b[0;34m=\u001b[0m \u001b[0mself\u001b[0m\u001b[0;34m.\u001b[0m\u001b[0mcolumns\u001b[0m\u001b[0;34m.\u001b[0m\u001b[0mget_loc\u001b[0m\u001b[0;34m(\u001b[0m\u001b[0mkey\u001b[0m\u001b[0;34m)\u001b[0m\u001b[0;34m\u001b[0m\u001b[0;34m\u001b[0m\u001b[0m\n\u001b[0m\u001b[1;32m   2981\u001b[0m             \u001b[0;32mif\u001b[0m \u001b[0mis_integer\u001b[0m\u001b[0;34m(\u001b[0m\u001b[0mindexer\u001b[0m\u001b[0;34m)\u001b[0m\u001b[0;34m:\u001b[0m\u001b[0;34m\u001b[0m\u001b[0;34m\u001b[0m\u001b[0m\n\u001b[1;32m   2982\u001b[0m                 \u001b[0mindexer\u001b[0m \u001b[0;34m=\u001b[0m \u001b[0;34m[\u001b[0m\u001b[0mindexer\u001b[0m\u001b[0;34m]\u001b[0m\u001b[0;34m\u001b[0m\u001b[0;34m\u001b[0m\u001b[0m\n",
      "\u001b[0;32m~/anaconda3/envs/geoplots3.6/lib/python3.6/site-packages/pandas/core/indexes/base.py\u001b[0m in \u001b[0;36mget_loc\u001b[0;34m(self, key, method, tolerance)\u001b[0m\n\u001b[1;32m   2895\u001b[0m                 )\n\u001b[1;32m   2896\u001b[0m             \u001b[0;32mtry\u001b[0m\u001b[0;34m:\u001b[0m\u001b[0;34m\u001b[0m\u001b[0;34m\u001b[0m\u001b[0m\n\u001b[0;32m-> 2897\u001b[0;31m                 \u001b[0;32mreturn\u001b[0m \u001b[0mself\u001b[0m\u001b[0;34m.\u001b[0m\u001b[0m_engine\u001b[0m\u001b[0;34m.\u001b[0m\u001b[0mget_loc\u001b[0m\u001b[0;34m(\u001b[0m\u001b[0mkey\u001b[0m\u001b[0;34m)\u001b[0m\u001b[0;34m\u001b[0m\u001b[0;34m\u001b[0m\u001b[0m\n\u001b[0m\u001b[1;32m   2898\u001b[0m             \u001b[0;32mexcept\u001b[0m \u001b[0mKeyError\u001b[0m\u001b[0;34m:\u001b[0m\u001b[0;34m\u001b[0m\u001b[0;34m\u001b[0m\u001b[0m\n\u001b[1;32m   2899\u001b[0m                 \u001b[0;32mreturn\u001b[0m \u001b[0mself\u001b[0m\u001b[0;34m.\u001b[0m\u001b[0m_engine\u001b[0m\u001b[0;34m.\u001b[0m\u001b[0mget_loc\u001b[0m\u001b[0;34m(\u001b[0m\u001b[0mself\u001b[0m\u001b[0;34m.\u001b[0m\u001b[0m_maybe_cast_indexer\u001b[0m\u001b[0;34m(\u001b[0m\u001b[0mkey\u001b[0m\u001b[0;34m)\u001b[0m\u001b[0;34m)\u001b[0m\u001b[0;34m\u001b[0m\u001b[0;34m\u001b[0m\u001b[0m\n",
      "\u001b[0;32mpandas/_libs/index.pyx\u001b[0m in \u001b[0;36mpandas._libs.index.IndexEngine.get_loc\u001b[0;34m()\u001b[0m\n",
      "\u001b[0;32mpandas/_libs/index.pyx\u001b[0m in \u001b[0;36mpandas._libs.index.IndexEngine.get_loc\u001b[0;34m()\u001b[0m\n",
      "\u001b[0;31mTypeError\u001b[0m: '(0       False\n1       False\n2       False\n3       False\n4       False\n        ...  \n4434    False\n4435    False\n4436    False\n4437    False\n4438    False\nName: model, Length: 4439, dtype: bool, 17)' is an invalid key"
     ]
    }
   ],
   "source": [
    "final_df[final_df['model'] == 'corolla', 17].fillna(\n",
    "    final_df.mode(final_df[final_df['model'] == 'corolla', 17]))"
   ]
  },
  {
   "cell_type": "code",
   "execution_count": 2198,
   "metadata": {
    "ExecuteTime": {
     "end_time": "2019-10-28T18:01:05.243218Z",
     "start_time": "2019-10-28T18:01:05.190346Z"
    },
    "scrolled": false
   },
   "outputs": [
    {
     "data": {
      "text/html": [
       "<div>\n",
       "<style scoped>\n",
       "    .dataframe tbody tr th:only-of-type {\n",
       "        vertical-align: middle;\n",
       "    }\n",
       "\n",
       "    .dataframe tbody tr th {\n",
       "        vertical-align: top;\n",
       "    }\n",
       "\n",
       "    .dataframe thead th {\n",
       "        text-align: right;\n",
       "    }\n",
       "</style>\n",
       "<table border=\"1\" class=\"dataframe\">\n",
       "  <thead>\n",
       "    <tr style=\"text-align: right;\">\n",
       "      <th></th>\n",
       "      <th>purchase_number</th>\n",
       "      <th>index_name</th>\n",
       "      <th>all_indexes</th>\n",
       "      <th>price</th>\n",
       "      <th>real_price</th>\n",
       "      <th>auction</th>\n",
       "      <th>numb_bidders</th>\n",
       "      <th>kolichestvo_avto_v_zakupke</th>\n",
       "      <th>org_address</th>\n",
       "      <th>date</th>\n",
       "      <th>...</th>\n",
       "      <th>privod</th>\n",
       "      <th>width</th>\n",
       "      <th>length</th>\n",
       "      <th>mass_snar</th>\n",
       "      <th>vol_dvigatelya</th>\n",
       "      <th>max_speed</th>\n",
       "      <th>moschnost_lps</th>\n",
       "      <th>potreb_gorod</th>\n",
       "      <th>filename</th>\n",
       "      <th>filetype</th>\n",
       "    </tr>\n",
       "  </thead>\n",
       "  <tbody>\n",
       "    <tr>\n",
       "      <td>0</td>\n",
       "      <td>0101100000614000127</td>\n",
       "      <td>1</td>\n",
       "      <td>1</td>\n",
       "      <td>1500000.0</td>\n",
       "      <td>1500000.0</td>\n",
       "      <td>1.0</td>\n",
       "      <td>1.0</td>\n",
       "      <td>1.0</td>\n",
       "      <td>Москва</td>\n",
       "      <td>2016.0</td>\n",
       "      <td>...</td>\n",
       "      <td>передний</td>\n",
       "      <td>1700</td>\n",
       "      <td>4470</td>\n",
       "      <td>1560</td>\n",
       "      <td>1598.0</td>\n",
       "      <td>140</td>\n",
       "      <td>109</td>\n",
       "      <td>11</td>\n",
       "      <td>0003c2d0db5d1698a66c534ed31ff864a7b8428d66e118...</td>\n",
       "      <td>docx</td>\n",
       "    </tr>\n",
       "    <tr>\n",
       "      <td>1</td>\n",
       "      <td>0101100007116000134</td>\n",
       "      <td>4</td>\n",
       "      <td>10003</td>\n",
       "      <td>NaN</td>\n",
       "      <td>NaN</td>\n",
       "      <td>NaN</td>\n",
       "      <td>NaN</td>\n",
       "      <td>NaN</td>\n",
       "      <td>NaN</td>\n",
       "      <td>NaN</td>\n",
       "      <td>...</td>\n",
       "      <td>NaN</td>\n",
       "      <td>NaN</td>\n",
       "      <td>NaN</td>\n",
       "      <td>NaN</td>\n",
       "      <td>NaN</td>\n",
       "      <td>NaN</td>\n",
       "      <td>NaN</td>\n",
       "      <td>NaN</td>\n",
       "      <td>0009f56a74d4bea37e167edc3c889013d119fe2eab6da0...</td>\n",
       "      <td>NaN</td>\n",
       "    </tr>\n",
       "    <tr>\n",
       "      <td>2</td>\n",
       "      <td>0101200002315000434</td>\n",
       "      <td>6</td>\n",
       "      <td>10016</td>\n",
       "      <td>NaN</td>\n",
       "      <td>NaN</td>\n",
       "      <td>NaN</td>\n",
       "      <td>NaN</td>\n",
       "      <td>NaN</td>\n",
       "      <td>NaN</td>\n",
       "      <td>NaN</td>\n",
       "      <td>...</td>\n",
       "      <td>NaN</td>\n",
       "      <td>NaN</td>\n",
       "      <td>NaN</td>\n",
       "      <td>NaN</td>\n",
       "      <td>NaN</td>\n",
       "      <td>NaN</td>\n",
       "      <td>NaN</td>\n",
       "      <td>NaN</td>\n",
       "      <td>00198b58b5214f38767374a9af6692df96591dfe3dff98...</td>\n",
       "      <td>NaN</td>\n",
       "    </tr>\n",
       "    <tr>\n",
       "      <td>3</td>\n",
       "      <td>0101200002315000436</td>\n",
       "      <td>7</td>\n",
       "      <td>10019</td>\n",
       "      <td>NaN</td>\n",
       "      <td>NaN</td>\n",
       "      <td>NaN</td>\n",
       "      <td>NaN</td>\n",
       "      <td>NaN</td>\n",
       "      <td>NaN</td>\n",
       "      <td>NaN</td>\n",
       "      <td>...</td>\n",
       "      <td>NaN</td>\n",
       "      <td>NaN</td>\n",
       "      <td>NaN</td>\n",
       "      <td>NaN</td>\n",
       "      <td>NaN</td>\n",
       "      <td>NaN</td>\n",
       "      <td>NaN</td>\n",
       "      <td>NaN</td>\n",
       "      <td>0060a0b74a558a0db0f7ac4f122bd009d6f0a11e283629...</td>\n",
       "      <td>NaN</td>\n",
       "    </tr>\n",
       "    <tr>\n",
       "      <td>4</td>\n",
       "      <td>0101200002315000437</td>\n",
       "      <td>17</td>\n",
       "      <td>10021</td>\n",
       "      <td>NaN</td>\n",
       "      <td>NaN</td>\n",
       "      <td>NaN</td>\n",
       "      <td>NaN</td>\n",
       "      <td>NaN</td>\n",
       "      <td>NaN</td>\n",
       "      <td>NaN</td>\n",
       "      <td>...</td>\n",
       "      <td>NaN</td>\n",
       "      <td>NaN</td>\n",
       "      <td>NaN</td>\n",
       "      <td>NaN</td>\n",
       "      <td>NaN</td>\n",
       "      <td>NaN</td>\n",
       "      <td>NaN</td>\n",
       "      <td>NaN</td>\n",
       "      <td>0066214798c208456e062c300db82e35a2345834761f0e...</td>\n",
       "      <td>NaN</td>\n",
       "    </tr>\n",
       "    <tr>\n",
       "      <td>...</td>\n",
       "      <td>...</td>\n",
       "      <td>...</td>\n",
       "      <td>...</td>\n",
       "      <td>...</td>\n",
       "      <td>...</td>\n",
       "      <td>...</td>\n",
       "      <td>...</td>\n",
       "      <td>...</td>\n",
       "      <td>...</td>\n",
       "      <td>...</td>\n",
       "      <td>...</td>\n",
       "      <td>...</td>\n",
       "      <td>...</td>\n",
       "      <td>...</td>\n",
       "      <td>...</td>\n",
       "      <td>...</td>\n",
       "      <td>...</td>\n",
       "      <td>...</td>\n",
       "      <td>...</td>\n",
       "      <td>...</td>\n",
       "      <td>...</td>\n",
       "    </tr>\n",
       "    <tr>\n",
       "      <td>4434</td>\n",
       "      <td>1079200000416000001</td>\n",
       "      <td>25545</td>\n",
       "      <td>9976, 9981</td>\n",
       "      <td>NaN</td>\n",
       "      <td>NaN</td>\n",
       "      <td>NaN</td>\n",
       "      <td>NaN</td>\n",
       "      <td>NaN</td>\n",
       "      <td>NaN</td>\n",
       "      <td>NaN</td>\n",
       "      <td>...</td>\n",
       "      <td>NaN</td>\n",
       "      <td>NaN</td>\n",
       "      <td>NaN</td>\n",
       "      <td>NaN</td>\n",
       "      <td>NaN</td>\n",
       "      <td>NaN</td>\n",
       "      <td>NaN</td>\n",
       "      <td>NaN</td>\n",
       "      <td>ff9093d3287d24d09a95595fef9158214761f2bc2e0015...</td>\n",
       "      <td>NaN</td>\n",
       "    </tr>\n",
       "    <tr>\n",
       "      <td>4435</td>\n",
       "      <td>2001500000117000021</td>\n",
       "      <td>25546</td>\n",
       "      <td>9982</td>\n",
       "      <td>NaN</td>\n",
       "      <td>NaN</td>\n",
       "      <td>NaN</td>\n",
       "      <td>NaN</td>\n",
       "      <td>NaN</td>\n",
       "      <td>NaN</td>\n",
       "      <td>NaN</td>\n",
       "      <td>...</td>\n",
       "      <td>NaN</td>\n",
       "      <td>NaN</td>\n",
       "      <td>NaN</td>\n",
       "      <td>NaN</td>\n",
       "      <td>NaN</td>\n",
       "      <td>NaN</td>\n",
       "      <td>NaN</td>\n",
       "      <td>NaN</td>\n",
       "      <td>ffa373dc986e2214c109bbbfb8f5ee0bb93318b1a3f7d9...</td>\n",
       "      <td>NaN</td>\n",
       "    </tr>\n",
       "    <tr>\n",
       "      <td>4436</td>\n",
       "      <td>2061700000117000022</td>\n",
       "      <td>25581</td>\n",
       "      <td>9990</td>\n",
       "      <td>NaN</td>\n",
       "      <td>NaN</td>\n",
       "      <td>NaN</td>\n",
       "      <td>NaN</td>\n",
       "      <td>NaN</td>\n",
       "      <td>NaN</td>\n",
       "      <td>NaN</td>\n",
       "      <td>...</td>\n",
       "      <td>NaN</td>\n",
       "      <td>NaN</td>\n",
       "      <td>NaN</td>\n",
       "      <td>NaN</td>\n",
       "      <td>NaN</td>\n",
       "      <td>NaN</td>\n",
       "      <td>NaN</td>\n",
       "      <td>NaN</td>\n",
       "      <td>ffab2d4efef0a32db82ac8f193f815cc80cf8900a3c330...</td>\n",
       "      <td>NaN</td>\n",
       "    </tr>\n",
       "    <tr>\n",
       "      <td>4437</td>\n",
       "      <td>2065200000117000003</td>\n",
       "      <td>25582</td>\n",
       "      <td>9991</td>\n",
       "      <td>NaN</td>\n",
       "      <td>NaN</td>\n",
       "      <td>NaN</td>\n",
       "      <td>NaN</td>\n",
       "      <td>NaN</td>\n",
       "      <td>NaN</td>\n",
       "      <td>NaN</td>\n",
       "      <td>...</td>\n",
       "      <td>NaN</td>\n",
       "      <td>NaN</td>\n",
       "      <td>NaN</td>\n",
       "      <td>NaN</td>\n",
       "      <td>NaN</td>\n",
       "      <td>NaN</td>\n",
       "      <td>NaN</td>\n",
       "      <td>NaN</td>\n",
       "      <td>ffc52c3b2b589b670a838602d736e6aa9a41b973eb5481...</td>\n",
       "      <td>NaN</td>\n",
       "    </tr>\n",
       "    <tr>\n",
       "      <td>4438</td>\n",
       "      <td>2065200000117000004</td>\n",
       "      <td>25595</td>\n",
       "      <td>9997</td>\n",
       "      <td>NaN</td>\n",
       "      <td>NaN</td>\n",
       "      <td>NaN</td>\n",
       "      <td>NaN</td>\n",
       "      <td>NaN</td>\n",
       "      <td>NaN</td>\n",
       "      <td>NaN</td>\n",
       "      <td>...</td>\n",
       "      <td>NaN</td>\n",
       "      <td>NaN</td>\n",
       "      <td>NaN</td>\n",
       "      <td>NaN</td>\n",
       "      <td>NaN</td>\n",
       "      <td>NaN</td>\n",
       "      <td>NaN</td>\n",
       "      <td>NaN</td>\n",
       "      <td>ffcf6e5e725fa656af31d168ca7aba5bb57bab2378e70f...</td>\n",
       "      <td>NaN</td>\n",
       "    </tr>\n",
       "  </tbody>\n",
       "</table>\n",
       "<p>4439 rows × 26 columns</p>\n",
       "</div>"
      ],
      "text/plain": [
       "          purchase_number  index_name all_indexes      price  real_price  \\\n",
       "0     0101100000614000127           1           1  1500000.0   1500000.0   \n",
       "1     0101100007116000134           4       10003        NaN         NaN   \n",
       "2     0101200002315000434           6       10016        NaN         NaN   \n",
       "3     0101200002315000436           7       10019        NaN         NaN   \n",
       "4     0101200002315000437          17       10021        NaN         NaN   \n",
       "...                   ...         ...         ...        ...         ...   \n",
       "4434  1079200000416000001       25545  9976, 9981        NaN         NaN   \n",
       "4435  2001500000117000021       25546        9982        NaN         NaN   \n",
       "4436  2061700000117000022       25581        9990        NaN         NaN   \n",
       "4437  2065200000117000003       25582        9991        NaN         NaN   \n",
       "4438  2065200000117000004       25595        9997        NaN         NaN   \n",
       "\n",
       "      auction  numb_bidders  kolichestvo_avto_v_zakupke org_address    date  \\\n",
       "0         1.0           1.0                         1.0      Москва  2016.0   \n",
       "1         NaN           NaN                         NaN         NaN     NaN   \n",
       "2         NaN           NaN                         NaN         NaN     NaN   \n",
       "3         NaN           NaN                         NaN         NaN     NaN   \n",
       "4         NaN           NaN                         NaN         NaN     NaN   \n",
       "...       ...           ...                         ...         ...     ...   \n",
       "4434      NaN           NaN                         NaN         NaN     NaN   \n",
       "4435      NaN           NaN                         NaN         NaN     NaN   \n",
       "4436      NaN           NaN                         NaN         NaN     NaN   \n",
       "4437      NaN           NaN                         NaN         NaN     NaN   \n",
       "4438      NaN           NaN                         NaN         NaN     NaN   \n",
       "\n",
       "      ...    privod width length mass_snar  vol_dvigatelya max_speed  \\\n",
       "0     ...  передний  1700   4470      1560          1598.0       140   \n",
       "1     ...       NaN   NaN    NaN       NaN             NaN       NaN   \n",
       "2     ...       NaN   NaN    NaN       NaN             NaN       NaN   \n",
       "3     ...       NaN   NaN    NaN       NaN             NaN       NaN   \n",
       "4     ...       NaN   NaN    NaN       NaN             NaN       NaN   \n",
       "...   ...       ...   ...    ...       ...             ...       ...   \n",
       "4434  ...       NaN   NaN    NaN       NaN             NaN       NaN   \n",
       "4435  ...       NaN   NaN    NaN       NaN             NaN       NaN   \n",
       "4436  ...       NaN   NaN    NaN       NaN             NaN       NaN   \n",
       "4437  ...       NaN   NaN    NaN       NaN             NaN       NaN   \n",
       "4438  ...       NaN   NaN    NaN       NaN             NaN       NaN   \n",
       "\n",
       "     moschnost_lps potreb_gorod  \\\n",
       "0              109           11   \n",
       "1              NaN          NaN   \n",
       "2              NaN          NaN   \n",
       "3              NaN          NaN   \n",
       "4              NaN          NaN   \n",
       "...            ...          ...   \n",
       "4434           NaN          NaN   \n",
       "4435           NaN          NaN   \n",
       "4436           NaN          NaN   \n",
       "4437           NaN          NaN   \n",
       "4438           NaN          NaN   \n",
       "\n",
       "                                               filename filetype  \n",
       "0     0003c2d0db5d1698a66c534ed31ff864a7b8428d66e118...     docx  \n",
       "1     0009f56a74d4bea37e167edc3c889013d119fe2eab6da0...      NaN  \n",
       "2     00198b58b5214f38767374a9af6692df96591dfe3dff98...      NaN  \n",
       "3     0060a0b74a558a0db0f7ac4f122bd009d6f0a11e283629...      NaN  \n",
       "4     0066214798c208456e062c300db82e35a2345834761f0e...      NaN  \n",
       "...                                                 ...      ...  \n",
       "4434  ff9093d3287d24d09a95595fef9158214761f2bc2e0015...      NaN  \n",
       "4435  ffa373dc986e2214c109bbbfb8f5ee0bb93318b1a3f7d9...      NaN  \n",
       "4436  ffab2d4efef0a32db82ac8f193f815cc80cf8900a3c330...      NaN  \n",
       "4437  ffc52c3b2b589b670a838602d736e6aa9a41b973eb5481...      NaN  \n",
       "4438  ffcf6e5e725fa656af31d168ca7aba5bb57bab2378e70f...      NaN  \n",
       "\n",
       "[4439 rows x 26 columns]"
      ]
     },
     "execution_count": 2198,
     "metadata": {},
     "output_type": "execute_result"
    }
   ],
   "source": [
    "final_df.mode()\n"
   ]
  },
  {
   "cell_type": "code",
   "execution_count": null,
   "metadata": {},
   "outputs": [],
   "source": [
    "df.fillna(df.mode().iloc[0])"
   ]
  },
  {
   "cell_type": "code",
   "execution_count": 2146,
   "metadata": {
    "ExecuteTime": {
     "end_time": "2019-10-28T17:34:52.687283Z",
     "start_time": "2019-10-28T17:34:52.680549Z"
    }
   },
   "outputs": [
    {
     "data": {
      "text/plain": [
       "array(['patriot', nan, 'corolla', 'x_trail', 'camry', '3163', 'hiace',\n",
       "       'duster', 'twelve', 'chevrolet', 'solaris', 'sportage', 'transit',\n",
       "       'jetta', '110', 'octavia', 'granta', 'mondeo', 'rio', 'optima',\n",
       "       'rapid', 'logan', 'largus', 'bd_132j', 'kalina', '2170', 'cerato',\n",
       "       'x-trail', 'veneno', 'terrano', 'almera', 'sandero', 'niva',\n",
       "       'rav_4', 'pickup', 'polo', 'sentra', 'hunter', 'teana', 'fortwo',\n",
       "       'focus', 'vesta', 'creta', 'tiguan', 'multivan', 'elantra',\n",
       "       'sorento', 'hover', 'on_do', 'priora', 'superb', 'land', 'on-do',\n",
       "       'xray', 'eighty_eight', 'corsa', '2129', 'i40', 'outlander',\n",
       "       'cruiser', '390945'], dtype=object)"
      ]
     },
     "execution_count": 2146,
     "metadata": {},
     "output_type": "execute_result"
    }
   ],
   "source": [
    "final_df['model'].unique()"
   ]
  },
  {
   "cell_type": "code",
   "execution_count": 2149,
   "metadata": {
    "ExecuteTime": {
     "end_time": "2019-10-28T17:36:18.985553Z",
     "start_time": "2019-10-28T17:36:18.972663Z"
    }
   },
   "outputs": [
    {
     "data": {
      "text/html": [
       "<div>\n",
       "<style scoped>\n",
       "    .dataframe tbody tr th:only-of-type {\n",
       "        vertical-align: middle;\n",
       "    }\n",
       "\n",
       "    .dataframe tbody tr th {\n",
       "        vertical-align: top;\n",
       "    }\n",
       "\n",
       "    .dataframe thead th {\n",
       "        text-align: right;\n",
       "    }\n",
       "</style>\n",
       "<table border=\"1\" class=\"dataframe\">\n",
       "  <thead>\n",
       "    <tr style=\"text-align: right;\">\n",
       "      <th></th>\n",
       "      <th>width</th>\n",
       "      <th>length</th>\n",
       "      <th>mass_snar</th>\n",
       "      <th>vol_dvigatelya</th>\n",
       "      <th>max_speed</th>\n",
       "      <th>moschnost_lps</th>\n",
       "      <th>potreb_gorod</th>\n",
       "    </tr>\n",
       "  </thead>\n",
       "  <tbody>\n",
       "    <tr>\n",
       "      <td>0</td>\n",
       "      <td>1900.0</td>\n",
       "      <td>4700.0</td>\n",
       "      <td>NaN</td>\n",
       "      <td>NaN</td>\n",
       "      <td>NaN</td>\n",
       "      <td>NaN</td>\n",
       "      <td>NaN</td>\n",
       "    </tr>\n",
       "    <tr>\n",
       "      <td>1</td>\n",
       "      <td>1750.0</td>\n",
       "      <td>4450.0</td>\n",
       "      <td>NaN</td>\n",
       "      <td>1598.0</td>\n",
       "      <td>165.0</td>\n",
       "      <td>NaN</td>\n",
       "      <td>NaN</td>\n",
       "    </tr>\n",
       "    <tr>\n",
       "      <td>2</td>\n",
       "      <td>NaN</td>\n",
       "      <td>NaN</td>\n",
       "      <td>NaN</td>\n",
       "      <td>1500.0</td>\n",
       "      <td>NaN</td>\n",
       "      <td>NaN</td>\n",
       "      <td>NaN</td>\n",
       "    </tr>\n",
       "    <tr>\n",
       "      <td>3</td>\n",
       "      <td>1775.0</td>\n",
       "      <td>4620.0</td>\n",
       "      <td>1260.0</td>\n",
       "      <td>1598.0</td>\n",
       "      <td>NaN</td>\n",
       "      <td>NaN</td>\n",
       "      <td>NaN</td>\n",
       "    </tr>\n",
       "    <tr>\n",
       "      <td>4</td>\n",
       "      <td>NaN</td>\n",
       "      <td>NaN</td>\n",
       "      <td>NaN</td>\n",
       "      <td>NaN</td>\n",
       "      <td>NaN</td>\n",
       "      <td>NaN</td>\n",
       "      <td>NaN</td>\n",
       "    </tr>\n",
       "    <tr>\n",
       "      <td>...</td>\n",
       "      <td>...</td>\n",
       "      <td>...</td>\n",
       "      <td>...</td>\n",
       "      <td>...</td>\n",
       "      <td>...</td>\n",
       "      <td>...</td>\n",
       "      <td>...</td>\n",
       "    </tr>\n",
       "    <tr>\n",
       "      <td>4434</td>\n",
       "      <td>NaN</td>\n",
       "      <td>NaN</td>\n",
       "      <td>NaN</td>\n",
       "      <td>1598.0</td>\n",
       "      <td>NaN</td>\n",
       "      <td>NaN</td>\n",
       "      <td>NaN</td>\n",
       "    </tr>\n",
       "    <tr>\n",
       "      <td>4435</td>\n",
       "      <td>1700.0</td>\n",
       "      <td>NaN</td>\n",
       "      <td>1560.0</td>\n",
       "      <td>1596.0</td>\n",
       "      <td>NaN</td>\n",
       "      <td>NaN</td>\n",
       "      <td>NaN</td>\n",
       "    </tr>\n",
       "    <tr>\n",
       "      <td>4436</td>\n",
       "      <td>NaN</td>\n",
       "      <td>NaN</td>\n",
       "      <td>NaN</td>\n",
       "      <td>NaN</td>\n",
       "      <td>NaN</td>\n",
       "      <td>NaN</td>\n",
       "      <td>NaN</td>\n",
       "    </tr>\n",
       "    <tr>\n",
       "      <td>4437</td>\n",
       "      <td>NaN</td>\n",
       "      <td>NaN</td>\n",
       "      <td>NaN</td>\n",
       "      <td>NaN</td>\n",
       "      <td>NaN</td>\n",
       "      <td>NaN</td>\n",
       "      <td>NaN</td>\n",
       "    </tr>\n",
       "    <tr>\n",
       "      <td>4438</td>\n",
       "      <td>NaN</td>\n",
       "      <td>NaN</td>\n",
       "      <td>NaN</td>\n",
       "      <td>NaN</td>\n",
       "      <td>NaN</td>\n",
       "      <td>NaN</td>\n",
       "      <td>NaN</td>\n",
       "    </tr>\n",
       "  </tbody>\n",
       "</table>\n",
       "<p>4439 rows × 7 columns</p>\n",
       "</div>"
      ],
      "text/plain": [
       "       width  length  mass_snar  vol_dvigatelya  max_speed  moschnost_lps  \\\n",
       "0     1900.0  4700.0        NaN             NaN        NaN            NaN   \n",
       "1     1750.0  4450.0        NaN          1598.0      165.0            NaN   \n",
       "2        NaN     NaN        NaN          1500.0        NaN            NaN   \n",
       "3     1775.0  4620.0     1260.0          1598.0        NaN            NaN   \n",
       "4        NaN     NaN        NaN             NaN        NaN            NaN   \n",
       "...      ...     ...        ...             ...        ...            ...   \n",
       "4434     NaN     NaN        NaN          1598.0        NaN            NaN   \n",
       "4435  1700.0     NaN     1560.0          1596.0        NaN            NaN   \n",
       "4436     NaN     NaN        NaN             NaN        NaN            NaN   \n",
       "4437     NaN     NaN        NaN             NaN        NaN            NaN   \n",
       "4438     NaN     NaN        NaN             NaN        NaN            NaN   \n",
       "\n",
       "      potreb_gorod  \n",
       "0              NaN  \n",
       "1              NaN  \n",
       "2              NaN  \n",
       "3              NaN  \n",
       "4              NaN  \n",
       "...            ...  \n",
       "4434           NaN  \n",
       "4435           NaN  \n",
       "4436           NaN  \n",
       "4437           NaN  \n",
       "4438           NaN  \n",
       "\n",
       "[4439 rows x 7 columns]"
      ]
     },
     "execution_count": 2149,
     "metadata": {},
     "output_type": "execute_result"
    }
   ],
   "source": [
    "final_df.iloc[:,17:24]"
   ]
  },
  {
   "cell_type": "code",
   "execution_count": 2307,
   "metadata": {
    "ExecuteTime": {
     "end_time": "2019-10-28T18:45:22.370713Z",
     "start_time": "2019-10-28T18:45:22.348059Z"
    }
   },
   "outputs": [
    {
     "data": {
      "text/html": [
       "<div>\n",
       "<style scoped>\n",
       "    .dataframe tbody tr th:only-of-type {\n",
       "        vertical-align: middle;\n",
       "    }\n",
       "\n",
       "    .dataframe tbody tr th {\n",
       "        vertical-align: top;\n",
       "    }\n",
       "\n",
       "    .dataframe thead th {\n",
       "        text-align: right;\n",
       "    }\n",
       "</style>\n",
       "<table border=\"1\" class=\"dataframe\">\n",
       "  <thead>\n",
       "    <tr style=\"text-align: right;\">\n",
       "      <th></th>\n",
       "      <th>god_vipuska</th>\n",
       "      <th>korobka</th>\n",
       "      <th>privod</th>\n",
       "      <th>width</th>\n",
       "      <th>length</th>\n",
       "      <th>mass_snar</th>\n",
       "      <th>vol_dvigatelya</th>\n",
       "      <th>max_speed</th>\n",
       "      <th>moschnost_lps</th>\n",
       "      <th>potreb_gorod</th>\n",
       "    </tr>\n",
       "  </thead>\n",
       "  <tbody>\n",
       "    <tr>\n",
       "      <td>4</td>\n",
       "      <td>2016.0</td>\n",
       "      <td>МКПП</td>\n",
       "      <td>передний</td>\n",
       "      <td>1700</td>\n",
       "      <td>4260</td>\n",
       "      <td>1560</td>\n",
       "      <td>1590.0</td>\n",
       "      <td>177</td>\n",
       "      <td>106</td>\n",
       "      <td>8.6</td>\n",
       "    </tr>\n",
       "    <tr>\n",
       "      <td>5</td>\n",
       "      <td>2016.0</td>\n",
       "      <td>6МКПП</td>\n",
       "      <td>передний</td>\n",
       "      <td>1822</td>\n",
       "      <td>4315</td>\n",
       "      <td>1370</td>\n",
       "      <td>1998.0</td>\n",
       "      <td>180</td>\n",
       "      <td>143</td>\n",
       "      <td>11.3</td>\n",
       "    </tr>\n",
       "    <tr>\n",
       "      <td>7</td>\n",
       "      <td>2017.0</td>\n",
       "      <td>МКПП</td>\n",
       "      <td>передний</td>\n",
       "      <td>1466</td>\n",
       "      <td>4470</td>\n",
       "      <td>1260</td>\n",
       "      <td>1598.0</td>\n",
       "      <td>165</td>\n",
       "      <td>102</td>\n",
       "      <td>10.1</td>\n",
       "    </tr>\n",
       "    <tr>\n",
       "      <td>8</td>\n",
       "      <td>2016.0</td>\n",
       "      <td>АКПП</td>\n",
       "      <td>передний</td>\n",
       "      <td>1021</td>\n",
       "      <td>4346</td>\n",
       "      <td>1545</td>\n",
       "      <td>8980.0</td>\n",
       "      <td>172</td>\n",
       "      <td>90</td>\n",
       "      <td>9.8</td>\n",
       "    </tr>\n",
       "    <tr>\n",
       "      <td>22</td>\n",
       "      <td>2017.0</td>\n",
       "      <td>6АКПП</td>\n",
       "      <td>передний</td>\n",
       "      <td>1769</td>\n",
       "      <td>4500</td>\n",
       "      <td>1250</td>\n",
       "      <td>1595.0</td>\n",
       "      <td>185</td>\n",
       "      <td>110</td>\n",
       "      <td>not_stated</td>\n",
       "    </tr>\n",
       "    <tr>\n",
       "      <td>...</td>\n",
       "      <td>...</td>\n",
       "      <td>...</td>\n",
       "      <td>...</td>\n",
       "      <td>...</td>\n",
       "      <td>...</td>\n",
       "      <td>...</td>\n",
       "      <td>...</td>\n",
       "      <td>...</td>\n",
       "      <td>...</td>\n",
       "      <td>...</td>\n",
       "    </tr>\n",
       "    <tr>\n",
       "      <td>4392</td>\n",
       "      <td>2014.0</td>\n",
       "      <td>5МКПП</td>\n",
       "      <td>постоянный задний с жестко подключаемым передним</td>\n",
       "      <td>2100</td>\n",
       "      <td>4700</td>\n",
       "      <td>2125</td>\n",
       "      <td>2693.0</td>\n",
       "      <td>150</td>\n",
       "      <td>134.6</td>\n",
       "      <td>11.5</td>\n",
       "    </tr>\n",
       "    <tr>\n",
       "      <td>4400</td>\n",
       "      <td>2015.0</td>\n",
       "      <td>5МКПП</td>\n",
       "      <td>постоянный задний с жестко подключаемым передним</td>\n",
       "      <td>1900</td>\n",
       "      <td>4785</td>\n",
       "      <td>2125</td>\n",
       "      <td>2693.0</td>\n",
       "      <td>150</td>\n",
       "      <td>134.6</td>\n",
       "      <td>11.5</td>\n",
       "    </tr>\n",
       "    <tr>\n",
       "      <td>4421</td>\n",
       "      <td>2014.0</td>\n",
       "      <td>МКПП</td>\n",
       "      <td>полный</td>\n",
       "      <td>1770</td>\n",
       "      <td>4048</td>\n",
       "      <td>1410</td>\n",
       "      <td>1690.0</td>\n",
       "      <td>140</td>\n",
       "      <td>80</td>\n",
       "      <td>13.2</td>\n",
       "    </tr>\n",
       "    <tr>\n",
       "      <td>4426</td>\n",
       "      <td>2015.0</td>\n",
       "      <td>МКПП</td>\n",
       "      <td>полный</td>\n",
       "      <td>1770</td>\n",
       "      <td>4048</td>\n",
       "      <td>1410</td>\n",
       "      <td>1690.0</td>\n",
       "      <td>140</td>\n",
       "      <td>102</td>\n",
       "      <td>13.2</td>\n",
       "    </tr>\n",
       "    <tr>\n",
       "      <td>4435</td>\n",
       "      <td>2017.0</td>\n",
       "      <td>5МКПП</td>\n",
       "      <td>передний</td>\n",
       "      <td>1700</td>\n",
       "      <td>4260</td>\n",
       "      <td>1560</td>\n",
       "      <td>1596.0</td>\n",
       "      <td>167</td>\n",
       "      <td>118</td>\n",
       "      <td>9</td>\n",
       "    </tr>\n",
       "  </tbody>\n",
       "</table>\n",
       "<p>331 rows × 10 columns</p>\n",
       "</div>"
      ],
      "text/plain": [
       "      god_vipuska korobka                                            privod  \\\n",
       "4          2016.0    МКПП                                          передний   \n",
       "5          2016.0   6МКПП                                          передний   \n",
       "7          2017.0    МКПП                                          передний   \n",
       "8          2016.0    АКПП                                          передний   \n",
       "22         2017.0   6АКПП                                          передний   \n",
       "...           ...     ...                                               ...   \n",
       "4392       2014.0   5МКПП  постоянный задний с жестко подключаемым передним   \n",
       "4400       2015.0   5МКПП  постоянный задний с жестко подключаемым передним   \n",
       "4421       2014.0    МКПП                                            полный   \n",
       "4426       2015.0    МКПП                                            полный   \n",
       "4435       2017.0   5МКПП                                          передний   \n",
       "\n",
       "     width length mass_snar  vol_dvigatelya max_speed moschnost_lps  \\\n",
       "4     1700   4260      1560          1590.0       177           106   \n",
       "5     1822   4315      1370          1998.0       180           143   \n",
       "7     1466   4470      1260          1598.0       165           102   \n",
       "8     1021   4346      1545          8980.0       172            90   \n",
       "22    1769   4500      1250          1595.0       185           110   \n",
       "...    ...    ...       ...             ...       ...           ...   \n",
       "4392  2100   4700      2125          2693.0       150         134.6   \n",
       "4400  1900   4785      2125          2693.0       150         134.6   \n",
       "4421  1770   4048      1410          1690.0       140            80   \n",
       "4426  1770   4048      1410          1690.0       140           102   \n",
       "4435  1700   4260      1560          1596.0       167           118   \n",
       "\n",
       "     potreb_gorod  \n",
       "4             8.6  \n",
       "5            11.3  \n",
       "7            10.1  \n",
       "8             9.8  \n",
       "22     not_stated  \n",
       "...           ...  \n",
       "4392         11.5  \n",
       "4400         11.5  \n",
       "4421         13.2  \n",
       "4426         13.2  \n",
       "4435            9  \n",
       "\n",
       "[331 rows x 10 columns]"
      ]
     },
     "execution_count": 2307,
     "metadata": {},
     "output_type": "execute_result"
    }
   ],
   "source": [
    "final_df.iloc[:,14:24].dropna(axis=0)"
   ]
  },
  {
   "cell_type": "code",
   "execution_count": null,
   "metadata": {},
   "outputs": [],
   "source": []
  }
 ],
 "metadata": {
  "hide_input": false,
  "kernelspec": {
   "display_name": "Python 3.6 (for geoplots)",
   "language": "python",
   "name": "geoplots3.6"
  },
  "language_info": {
   "codemirror_mode": {
    "name": "ipython",
    "version": 3
   },
   "file_extension": ".py",
   "mimetype": "text/x-python",
   "name": "python",
   "nbconvert_exporter": "python",
   "pygments_lexer": "ipython3",
   "version": "3.6.7"
  },
  "latex_envs": {
   "LaTeX_envs_menu_present": true,
   "autoclose": true,
   "autocomplete": true,
   "bibliofile": "biblio.bib",
   "cite_by": "apalike",
   "current_citInitial": 1,
   "eqLabelWithNumbers": true,
   "eqNumInitial": 1,
   "hotkeys": {
    "equation": "Ctrl-E",
    "itemize": "Ctrl-I"
   },
   "labels_anchors": false,
   "latex_user_defs": false,
   "report_style_numbering": false,
   "user_envs_cfg": false
  },
  "toc": {
   "base_numbering": 1,
   "nav_menu": {},
   "number_sections": true,
   "sideBar": true,
   "skip_h1_title": false,
   "title_cell": "Table of Contents",
   "title_sidebar": "Contents",
   "toc_cell": false,
   "toc_position": {},
   "toc_section_display": true,
   "toc_window_display": false
  },
  "varInspector": {
   "cols": {
    "lenName": 16,
    "lenType": 16,
    "lenVar": 40
   },
   "kernels_config": {
    "python": {
     "delete_cmd_postfix": "",
     "delete_cmd_prefix": "del ",
     "library": "var_list.py",
     "varRefreshCmd": "print(var_dic_list())"
    },
    "r": {
     "delete_cmd_postfix": ") ",
     "delete_cmd_prefix": "rm(",
     "library": "var_list.r",
     "varRefreshCmd": "cat(var_dic_list()) "
    }
   },
   "types_to_exclude": [
    "module",
    "function",
    "builtin_function_or_method",
    "instance",
    "_Feature"
   ],
   "window_display": false
  }
 },
 "nbformat": 4,
 "nbformat_minor": 2
}
