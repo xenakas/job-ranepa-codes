{
 "cells": [
  {
   "cell_type": "code",
   "execution_count": 340,
   "metadata": {
    "ExecuteTime": {
     "end_time": "2019-10-24T22:54:25.004937Z",
     "start_time": "2019-10-24T22:54:24.984Z"
    }
   },
   "outputs": [],
   "source": [
    "library(RSelenium)\n",
    "library(XML)\n",
    "library(janitor) \n",
    "library(lubridate)\n",
    "library(magrittr)\n",
    "library(dplyr)\n",
    "library(xlsx)\n",
    "library(readxl)"
   ]
  },
  {
   "cell_type": "code",
   "execution_count": 5,
   "metadata": {
    "ExecuteTime": {
     "end_time": "2019-10-22T09:43:49.852673Z",
     "start_time": "2019-10-22T09:43:49.785Z"
    }
   },
   "outputs": [],
   "source": [
    "remDr <- remoteDriver(\n",
    "  port = 4445L\n",
    ")"
   ]
  },
  {
   "cell_type": "code",
   "execution_count": 40,
   "metadata": {
    "ExecuteTime": {
     "end_time": "2019-10-23T11:42:25.432751Z",
     "start_time": "2019-10-23T11:42:24.073Z"
    }
   },
   "outputs": [
    {
     "name": "stdout",
     "output_type": "stream",
     "text": [
      "[1] \"Connecting to remote server\"\n",
      "$applicationCacheEnabled\n",
      "[1] TRUE\n",
      "\n",
      "$rotatable\n",
      "[1] FALSE\n",
      "\n",
      "$handlesAlerts\n",
      "[1] TRUE\n",
      "\n",
      "$databaseEnabled\n",
      "[1] TRUE\n",
      "\n",
      "$version\n",
      "[1] \"45.0.2\"\n",
      "\n",
      "$platform\n",
      "[1] \"LINUX\"\n",
      "\n",
      "$nativeEvents\n",
      "[1] FALSE\n",
      "\n",
      "$acceptSslCerts\n",
      "[1] TRUE\n",
      "\n",
      "$webdriver.remote.sessionid\n",
      "[1] \"5d5a1908-0b39-431f-8e3e-ade69e930a6b\"\n",
      "\n",
      "$webStorageEnabled\n",
      "[1] TRUE\n",
      "\n",
      "$locationContextEnabled\n",
      "[1] TRUE\n",
      "\n",
      "$browserName\n",
      "[1] \"firefox\"\n",
      "\n",
      "$takesScreenshot\n",
      "[1] TRUE\n",
      "\n",
      "$javascriptEnabled\n",
      "[1] TRUE\n",
      "\n",
      "$cssSelectorsEnabled\n",
      "[1] TRUE\n",
      "\n",
      "$id\n",
      "[1] \"5d5a1908-0b39-431f-8e3e-ade69e930a6b\"\n",
      "\n"
     ]
    }
   ],
   "source": [
    "remDr$open()# Now open TightVNC to follow along with Selenium driving the browser. Set 192.168.99.100:5901 and password: secret# navigate to the main page\n",
    "# remDr$navigate(\"https://docs.google.com/spreadsheets/d/1o1PlLIQS8v-XSuEz1eqZB80kcJk9xg5lsbueB7mTg1U/pub?output=html&widget=true#gid=690408156\")# https://docs.google.com/spreadsheets/d/1o1PlLIQS8v-XSuEz1eqZB80kcJk9xg5lsbueB7mTg1U/pub?output=html&widget=true#gid=552987877# look for table element"
   ]
  },
  {
   "cell_type": "code",
   "execution_count": 7,
   "metadata": {
    "ExecuteTime": {
     "end_time": "2019-10-22T09:43:59.251001Z",
     "start_time": "2019-10-22T09:43:58.773Z"
    }
   },
   "outputs": [],
   "source": [
    "goszak_df_kolich = read_excel('3_goszak_complete.xlsx')\n",
    "# goszak_df = goszak_df  %>% clean_names()\n",
    "# goszak_df['all_indexes'] = goszak_df['index_name']"
   ]
  },
  {
   "cell_type": "code",
   "execution_count": 8,
   "metadata": {
    "ExecuteTime": {
     "end_time": "2019-10-22T09:44:03.166236Z",
     "start_time": "2019-10-22T09:44:03.148Z"
    }
   },
   "outputs": [
    {
     "data": {
      "text/html": [
       "<ol class=list-inline>\n",
       "\t<li>12220</li>\n",
       "\t<li>40</li>\n",
       "</ol>\n"
      ],
      "text/latex": [
       "\\begin{enumerate*}\n",
       "\\item 12220\n",
       "\\item 40\n",
       "\\end{enumerate*}\n"
      ],
      "text/markdown": [
       "1. 12220\n",
       "2. 40\n",
       "\n",
       "\n"
      ],
      "text/plain": [
       "[1] 12220    40"
      ]
     },
     "metadata": {},
     "output_type": "display_data"
    }
   ],
   "source": [
    "goszak_df_kolich   %>%  dim()"
   ]
  },
  {
   "cell_type": "code",
   "execution_count": 30,
   "metadata": {
    "ExecuteTime": {
     "end_time": "2019-10-21T14:51:48.613494Z",
     "start_time": "2019-10-21T14:49:43.712Z"
    }
   },
   "outputs": [],
   "source": [
    "# write.xlsx(goszak_df_kolich, '3_goszak_complete.xlsx')"
   ]
  },
  {
   "cell_type": "markdown",
   "metadata": {},
   "source": [
    "#### Parse Kolichestvo"
   ]
  },
  {
   "cell_type": "code",
   "execution_count": 14,
   "metadata": {
    "ExecuteTime": {
     "end_time": "2019-10-21T14:55:49.960659Z",
     "start_time": "2019-10-21T14:55:49.942Z"
    }
   },
   "outputs": [
    {
     "data": {
      "text/html": [
       "'http://zakupki.gov.ru/epz/order/notice/ea44/view/common-info.html?regNumber=0354300048517000002'"
      ],
      "text/latex": [
       "'http://zakupki.gov.ru/epz/order/notice/ea44/view/common-info.html?regNumber=0354300048517000002'"
      ],
      "text/markdown": [
       "'http://zakupki.gov.ru/epz/order/notice/ea44/view/common-info.html?regNumber=0354300048517000002'"
      ],
      "text/plain": [
       "[1] \"http://zakupki.gov.ru/epz/order/notice/ea44/view/common-info.html?regNumber=0354300048517000002\""
      ]
     },
     "metadata": {},
     "output_type": "display_data"
    }
   ],
   "source": [
    "paste('http://zakupki.gov.ru/epz/order/notice/ea44/view/common-info.html?regNumber=', goszak_df_kolich[[52,4]], sep=\"\")"
   ]
  },
  {
   "cell_type": "code",
   "execution_count": 52,
   "metadata": {
    "ExecuteTime": {
     "end_time": "2019-10-23T13:50:45.409835Z",
     "start_time": "2019-10-23T13:50:45.401Z"
    }
   },
   "outputs": [],
   "source": [
    "collecting_auctions  <- function(tables_list){\n",
    "    if (length(tables_list)>dim(goszak_df_kolich)[1]){print(2500)}\n",
    "    else{\n",
    "    for (i in (length(tables_list) + 1):dim(goszak_df_kolich)[1]){\n",
    "        \n",
    "        \n",
    "        zak_path  <- paste('http://zakupki.gov.ru/epz/order/notice/ea44/view/common-info.html?regNumber=', goszak_df_kolich[[i,4]], sep=\"\")\n",
    "        \n",
    "        remDr$navigate(zak_path)\n",
    "        doc <- htmlParse(remDr$getPageSource()[[1]])\n",
    "        table_tmp <- readHTMLTable(doc)        \n",
    "        \n",
    "        \n",
    "        all_pages  <- list()\n",
    "        \n",
    "        all_pages[[1]]  <- table_tmp\n",
    "        \n",
    "        webElem <- remDr$findElement(using = \"css\", \".currentTab+ td .td-content span\")\n",
    "        webElem$clickElement() \n",
    "        \n",
    "        doc <- htmlParse(remDr$getPageSource()[[1]])\n",
    "        table_tmp <- readHTMLTable(doc)        \n",
    "        \n",
    "        all_pages[[2]]  <- table_tmp\n",
    "        \n",
    "        webElem <- remDr$findElement(using = \"css\", \".currentTab+ td .td-content span\")\n",
    "        webElem$clickElement() \n",
    "        \n",
    "        doc <- htmlParse(remDr$getPageSource()[[1]])\n",
    "        table_tmp <- readHTMLTable(doc)        \n",
    "        \n",
    "        all_pages[[3]]  <- table_tmp\n",
    "        \n",
    "        tables_list[[i]]  <- all_pages\n",
    "        \n",
    "\n",
    "        return(tables_list)\n",
    "        Sys.sleep(0.1)\n",
    "                \n",
    "    }\n",
    "    }\n",
    "    \n",
    "    }"
   ]
  },
  {
   "cell_type": "code",
   "execution_count": 10,
   "metadata": {
    "ExecuteTime": {
     "end_time": "2019-10-22T09:44:36.219770Z",
     "start_time": "2019-10-22T09:44:36.205Z"
    }
   },
   "outputs": [],
   "source": [
    "tables_list  <-  list()"
   ]
  },
  {
   "cell_type": "code",
   "execution_count": 11,
   "metadata": {
    "ExecuteTime": {
     "end_time": "2019-10-22T09:44:52.367775Z",
     "start_time": "2019-10-22T09:44:39.800Z"
    }
   },
   "outputs": [],
   "source": [
    "tables_list  <-  collecting_auctions(tables_list)"
   ]
  },
  {
   "cell_type": "code",
   "execution_count": 56,
   "metadata": {
    "ExecuteTime": {
     "end_time": "2019-10-23T18:47:03.333145Z",
     "start_time": "2019-10-23T18:47:03.298Z"
    }
   },
   "outputs": [
    {
     "data": {
      "text/html": [
       "12220"
      ],
      "text/latex": [
       "12220"
      ],
      "text/markdown": [
       "12220"
      ],
      "text/plain": [
       "[1] 12220"
      ]
     },
     "metadata": {},
     "output_type": "display_data"
    }
   ],
   "source": [
    "length(tables_list)"
   ]
  },
  {
   "cell_type": "code",
   "execution_count": 59,
   "metadata": {
    "ExecuteTime": {
     "end_time": "2019-10-23T18:47:21.544289Z",
     "start_time": "2019-10-23T18:47:21.505Z"
    }
   },
   "outputs": [
    {
     "data": {
      "text/html": [
       "12220"
      ],
      "text/latex": [
       "12220"
      ],
      "text/markdown": [
       "12220"
      ],
      "text/plain": [
       "[1] 12220"
      ]
     },
     "metadata": {},
     "output_type": "display_data"
    }
   ],
   "source": [
    "# mod(13,10)\n",
    "\n",
    "dim(goszak_df_kolich)[1]"
   ]
  },
  {
   "cell_type": "code",
   "execution_count": 58,
   "metadata": {
    "ExecuteTime": {
     "end_time": "2019-10-23T18:47:12.621042Z",
     "start_time": "2019-10-23T18:47:12.567Z"
    }
   },
   "outputs": [],
   "source": [
    "while (length(tables_list) != dim(goszak_df_kolich)[1]) {\n",
    "    tables_list <- tryCatch({\n",
    "        collecting_auctions(tables_list)\n",
    "    }, error = function(cond) {\n",
    "        message(paste(\"stoped at length: \", length(tables_list) ))\n",
    "        Sys.sleep(10)\n",
    "        \n",
    "        windows <- remDr$getWindowHandles()\n",
    "        \n",
    "        \n",
    "#         tables_list[[length(tables_list)+1]]  <- 'Houston, we have a problem' \n",
    "        \n",
    "        return(tables_list)\n",
    "        }\n",
    "                           )\n",
    "    \n",
    "    if (mod(length(tables_list), 100) == 0){\n",
    "        saveRDS(tables_list, 'all_goszak_pages.rds')\n",
    "\n",
    "    }\n",
    "    \n",
    "    \n",
    "    \n",
    "}"
   ]
  },
  {
   "cell_type": "code",
   "execution_count": 60,
   "metadata": {
    "ExecuteTime": {
     "end_time": "2019-10-24T08:26:48.651550Z",
     "start_time": "2019-10-24T08:26:48.631Z"
    }
   },
   "outputs": [],
   "source": [
    "tables_list_copy <- tables_list"
   ]
  },
  {
   "cell_type": "markdown",
   "metadata": {},
   "source": [
    "#### check if car"
   ]
  },
  {
   "cell_type": "code",
   "execution_count": 68,
   "metadata": {
    "ExecuteTime": {
     "end_time": "2019-10-24T08:34:17.646847Z",
     "start_time": "2019-10-24T08:34:17.217Z"
    }
   },
   "outputs": [],
   "source": [
    "goszak_df_kolich = read_excel('3_goszak_complete.xlsx') #, header=TRUE, colClasses=NA)\n"
   ]
  },
  {
   "cell_type": "code",
   "execution_count": 67,
   "metadata": {
    "ExecuteTime": {
     "end_time": "2019-10-24T08:33:22.568715Z",
     "start_time": "2019-10-24T08:33:22.559Z"
    }
   },
   "outputs": [
    {
     "data": {
      "text/html": [
       "'auto_dummy'"
      ],
      "text/latex": [
       "'auto\\_dummy'"
      ],
      "text/markdown": [
       "'auto_dummy'"
      ],
      "text/plain": [
       "[1] \"auto_dummy\""
      ]
     },
     "metadata": {},
     "output_type": "display_data"
    }
   ],
   "source": [
    "# colnames(goszak_df_kolich)[40] = \n",
    "# nas  <- goszak_df_kolich[ is.na(goszak_df_kolich$completed_car_purchase), ]$X__1"
   ]
  },
  {
   "cell_type": "code",
   "execution_count": 70,
   "metadata": {
    "ExecuteTime": {
     "end_time": "2019-10-24T08:35:01.845397Z",
     "start_time": "2019-10-24T08:35:01.836Z"
    }
   },
   "outputs": [],
   "source": [
    "# goszak_df_kolich"
   ]
  },
  {
   "cell_type": "code",
   "execution_count": 71,
   "metadata": {
    "ExecuteTime": {
     "end_time": "2019-10-24T08:35:16.373817Z",
     "start_time": "2019-10-24T08:35:15.776Z"
    }
   },
   "outputs": [],
   "source": [
    "gru  <- c()\n",
    "\n",
    "for (i in as.integer(goszak_df_kolich$X__1)){\n",
    "    gru  <-  c(gru, as.character(tables_list[[i]][[1]][[8]][2,2]))\n",
    "}\n",
    "\n"
   ]
  },
  {
   "cell_type": "code",
   "execution_count": 72,
   "metadata": {
    "ExecuteTime": {
     "end_time": "2019-10-24T08:35:21.195507Z",
     "start_time": "2019-10-24T08:35:21.154Z"
    }
   },
   "outputs": [
    {
     "data": {
      "text/html": [
       "12220"
      ],
      "text/latex": [
       "12220"
      ],
      "text/markdown": [
       "12220"
      ],
      "text/plain": [
       "[1] 12220"
      ]
     },
     "metadata": {},
     "output_type": "display_data"
    }
   ],
   "source": [
    "length(gru)"
   ]
  },
  {
   "cell_type": "code",
   "execution_count": 73,
   "metadata": {
    "ExecuteTime": {
     "end_time": "2019-10-24T08:35:23.925283Z",
     "start_time": "2019-10-24T08:35:23.904Z"
    }
   },
   "outputs": [],
   "source": [
    "library(stringr)"
   ]
  },
  {
   "cell_type": "code",
   "execution_count": 74,
   "metadata": {
    "ExecuteTime": {
     "end_time": "2019-10-24T08:35:34.803244Z",
     "start_time": "2019-10-24T08:35:34.793Z"
    }
   },
   "outputs": [
    {
     "data": {
      "text/html": [
       "<ol class=list-inline>\n",
       "\t<li>NA</li>\n",
       "\t<li>NA</li>\n",
       "\t<li>NA</li>\n",
       "\t<li>NA</li>\n",
       "\t<li>NA</li>\n",
       "\t<li>NA</li>\n",
       "\t<li>NA</li>\n",
       "\t<li>NA</li>\n",
       "\t<li>NA</li>\n",
       "\t<li>NA</li>\n",
       "\t<li>NA</li>\n",
       "\t<li>NA</li>\n",
       "\t<li>NA</li>\n",
       "\t<li>NA</li>\n",
       "\t<li>NA</li>\n",
       "\t<li>NA</li>\n",
       "\t<li>NA</li>\n",
       "\t<li>NA</li>\n",
       "\t<li>NA</li>\n",
       "\t<li>NA</li>\n",
       "\t<li>NA</li>\n",
       "\t<li>NA</li>\n",
       "\t<li>NA</li>\n",
       "\t<li>NA</li>\n",
       "\t<li>NA</li>\n",
       "\t<li>NA</li>\n",
       "\t<li>NA</li>\n",
       "\t<li>NA</li>\n",
       "\t<li>NA</li>\n",
       "\t<li>NA</li>\n",
       "\t<li>NA</li>\n",
       "\t<li>NA</li>\n",
       "\t<li>NA</li>\n",
       "\t<li>NA</li>\n",
       "\t<li>NA</li>\n",
       "\t<li>NA</li>\n",
       "\t<li>NA</li>\n",
       "\t<li>NA</li>\n",
       "\t<li>NA</li>\n",
       "\t<li>NA</li>\n",
       "\t<li>NA</li>\n",
       "\t<li>NA</li>\n",
       "\t<li>NA</li>\n",
       "\t<li>NA</li>\n",
       "\t<li>NA</li>\n",
       "\t<li>NA</li>\n",
       "\t<li>NA</li>\n",
       "\t<li>NA</li>\n",
       "\t<li>NA</li>\n",
       "\t<li>NA</li>\n",
       "\t<li>NA</li>\n",
       "\t<li>NA</li>\n",
       "\t<li>NA</li>\n",
       "\t<li>NA</li>\n",
       "\t<li>NA</li>\n",
       "\t<li>NA</li>\n",
       "\t<li>NA</li>\n",
       "\t<li>NA</li>\n",
       "\t<li>NA</li>\n",
       "\t<li>NA</li>\n",
       "\t<li>NA</li>\n",
       "\t<li>NA</li>\n",
       "\t<li>NA</li>\n",
       "\t<li>NA</li>\n",
       "\t<li>NA</li>\n",
       "\t<li>NA</li>\n",
       "\t<li>NA</li>\n",
       "\t<li>NA</li>\n",
       "\t<li>NA</li>\n",
       "</ol>\n"
      ],
      "text/latex": [
       "\\begin{enumerate*}\n",
       "\\item NA\n",
       "\\item NA\n",
       "\\item NA\n",
       "\\item NA\n",
       "\\item NA\n",
       "\\item NA\n",
       "\\item NA\n",
       "\\item NA\n",
       "\\item NA\n",
       "\\item NA\n",
       "\\item NA\n",
       "\\item NA\n",
       "\\item NA\n",
       "\\item NA\n",
       "\\item NA\n",
       "\\item NA\n",
       "\\item NA\n",
       "\\item NA\n",
       "\\item NA\n",
       "\\item NA\n",
       "\\item NA\n",
       "\\item NA\n",
       "\\item NA\n",
       "\\item NA\n",
       "\\item NA\n",
       "\\item NA\n",
       "\\item NA\n",
       "\\item NA\n",
       "\\item NA\n",
       "\\item NA\n",
       "\\item NA\n",
       "\\item NA\n",
       "\\item NA\n",
       "\\item NA\n",
       "\\item NA\n",
       "\\item NA\n",
       "\\item NA\n",
       "\\item NA\n",
       "\\item NA\n",
       "\\item NA\n",
       "\\item NA\n",
       "\\item NA\n",
       "\\item NA\n",
       "\\item NA\n",
       "\\item NA\n",
       "\\item NA\n",
       "\\item NA\n",
       "\\item NA\n",
       "\\item NA\n",
       "\\item NA\n",
       "\\item NA\n",
       "\\item NA\n",
       "\\item NA\n",
       "\\item NA\n",
       "\\item NA\n",
       "\\item NA\n",
       "\\item NA\n",
       "\\item NA\n",
       "\\item NA\n",
       "\\item NA\n",
       "\\item NA\n",
       "\\item NA\n",
       "\\item NA\n",
       "\\item NA\n",
       "\\item NA\n",
       "\\item NA\n",
       "\\item NA\n",
       "\\item NA\n",
       "\\item NA\n",
       "\\end{enumerate*}\n"
      ],
      "text/markdown": [
       "1. NA\n",
       "2. NA\n",
       "3. NA\n",
       "4. NA\n",
       "5. NA\n",
       "6. NA\n",
       "7. NA\n",
       "8. NA\n",
       "9. NA\n",
       "10. NA\n",
       "11. NA\n",
       "12. NA\n",
       "13. NA\n",
       "14. NA\n",
       "15. NA\n",
       "16. NA\n",
       "17. NA\n",
       "18. NA\n",
       "19. NA\n",
       "20. NA\n",
       "21. NA\n",
       "22. NA\n",
       "23. NA\n",
       "24. NA\n",
       "25. NA\n",
       "26. NA\n",
       "27. NA\n",
       "28. NA\n",
       "29. NA\n",
       "30. NA\n",
       "31. NA\n",
       "32. NA\n",
       "33. NA\n",
       "34. NA\n",
       "35. NA\n",
       "36. NA\n",
       "37. NA\n",
       "38. NA\n",
       "39. NA\n",
       "40. NA\n",
       "41. NA\n",
       "42. NA\n",
       "43. NA\n",
       "44. NA\n",
       "45. NA\n",
       "46. NA\n",
       "47. NA\n",
       "48. NA\n",
       "49. NA\n",
       "50. NA\n",
       "51. NA\n",
       "52. NA\n",
       "53. NA\n",
       "54. NA\n",
       "55. NA\n",
       "56. NA\n",
       "57. NA\n",
       "58. NA\n",
       "59. NA\n",
       "60. NA\n",
       "61. NA\n",
       "62. NA\n",
       "63. NA\n",
       "64. NA\n",
       "65. NA\n",
       "66. NA\n",
       "67. NA\n",
       "68. NA\n",
       "69. NA\n",
       "\n",
       "\n"
      ],
      "text/plain": [
       " [1] NA NA NA NA NA NA NA NA NA NA NA NA NA NA NA NA NA NA NA NA NA NA NA NA NA\n",
       "[26] NA NA NA NA NA NA NA NA NA NA NA NA NA NA NA NA NA NA NA NA NA NA NA NA NA\n",
       "[51] NA NA NA NA NA NA NA NA NA NA NA NA NA NA NA NA NA NA NA"
      ]
     },
     "metadata": {},
     "output_type": "display_data"
    }
   ],
   "source": [
    "gru[is.na(gru)] "
   ]
  },
  {
   "cell_type": "code",
   "execution_count": 75,
   "metadata": {
    "ExecuteTime": {
     "end_time": "2019-10-24T08:35:50.689029Z",
     "start_time": "2019-10-24T08:35:50.665Z"
    }
   },
   "outputs": [],
   "source": [
    "gru[is.na(gru)] = 'im nan'"
   ]
  },
  {
   "cell_type": "code",
   "execution_count": 77,
   "metadata": {
    "ExecuteTime": {
     "end_time": "2019-10-24T08:37:29.796835Z",
     "start_time": "2019-10-24T08:37:29.789Z"
    }
   },
   "outputs": [],
   "source": [
    "# gru"
   ]
  },
  {
   "cell_type": "code",
   "execution_count": 95,
   "metadata": {
    "ExecuteTime": {
     "end_time": "2019-10-24T08:48:15.827758Z",
     "start_time": "2019-10-24T08:48:13.213Z"
    }
   },
   "outputs": [],
   "source": [
    "gru_ch  <-  c()\n",
    "for (i in  gru){\n",
    "    \n",
    "    if (str_detect(i,'грузов')|str_detect(i,'Грузов') |  str_detect(i,'Автобус')  |  \n",
    "        str_detect(i,'автобус')  |  str_detect(i,'пассажирские') | \n",
    "        str_detect(i,'перевозк') |  str_detect(i,'более 3000 см') |  \n",
    "        str_detect(i,'свыше 12 т') | str_detect(i,'специально предназначенные') | \n",
    "       str_detect(i,'Троллейбусы') | str_detect(i,'более 2500 см') | \n",
    "       str_detect(i,'Бойки') | str_detect(i,'тягач')  | str_detect(i,'для автотранспортных') ){\n",
    "        gru_ch  <-  c(gru_ch, '0.0')\n",
    "    }else if( str_detect(i,'не более' ) |  str_detect(i,'легков' ) |  str_detect(i,'более 1000' )  ){\n",
    "        gru_ch  <-  c(gru_ch, '1.0')\n",
    "    }else if( str_detect(i,'цилиндров более 1500 см' ) | str_detect(i,'im nan' )  | str_detect(i,'с поршневым двигателем' )  ){\n",
    "        gru_ch  <-  c(gru_ch, 'replace_me')\n",
    "    }else{\n",
    "        gru_ch  <-  c(gru_ch, '0.0')\n",
    "    }   \n",
    "    \n",
    "}"
   ]
  },
  {
   "cell_type": "code",
   "execution_count": 112,
   "metadata": {
    "ExecuteTime": {
     "end_time": "2019-10-24T08:56:28.598432Z",
     "start_time": "2019-10-24T08:56:28.583Z"
    }
   },
   "outputs": [
    {
     "data": {
      "text/html": [
       "6583"
      ],
      "text/latex": [
       "6583"
      ],
      "text/markdown": [
       "6583"
      ],
      "text/plain": [
       "[1] 6583"
      ]
     },
     "metadata": {},
     "output_type": "display_data"
    }
   ],
   "source": [
    "length(gru[gru_ch!='0.0'])"
   ]
  },
  {
   "cell_type": "code",
   "execution_count": 97,
   "metadata": {
    "ExecuteTime": {
     "end_time": "2019-10-24T08:49:20.208704Z",
     "start_time": "2019-10-24T08:49:20.193Z"
    }
   },
   "outputs": [],
   "source": [
    "goszak_df_kolich['gruz_check'] = gru_ch"
   ]
  },
  {
   "cell_type": "code",
   "execution_count": 106,
   "metadata": {
    "ExecuteTime": {
     "end_time": "2019-10-24T08:53:47.588111Z",
     "start_time": "2019-10-24T08:53:47.563Z"
    }
   },
   "outputs": [
    {
     "data": {
      "text/html": [
       "<ol class=list-inline>\n",
       "\t<li>'X__1'</li>\n",
       "\t<li>'index_no_dupes'</li>\n",
       "\t<li>'index_name'</li>\n",
       "\t<li>'purchase_number'</li>\n",
       "\t<li>'price'</li>\n",
       "\t<li>'колич_авто_в_закупке'</li>\n",
       "\t<li>'коробка_передач'</li>\n",
       "\t<li>'date'</li>\n",
       "\t<li>'date2'</li>\n",
       "\t<li>'date3'</li>\n",
       "\t<li>'org_address'</li>\n",
       "\t<li>'марка'</li>\n",
       "\t<li>'модель'</li>\n",
       "\t<li>'коробка'</li>\n",
       "\t<li>'привод'</li>\n",
       "\t<li>'тип_привода'</li>\n",
       "\t<li>'ширина'</li>\n",
       "\t<li>'объем_двигателя'</li>\n",
       "\t<li>'длина'</li>\n",
       "\t<li>'объём'</li>\n",
       "\t<li>'макс_скорость'</li>\n",
       "\t<li>'масса_авто_снаряженная'</li>\n",
       "\t<li>'год_выпуска'</li>\n",
       "\t<li>'объем'</li>\n",
       "\t<li>'количество_опций'</li>\n",
       "\t<li>'объем_двигателя_см'</li>\n",
       "\t<li>'максимальная_скорость_км_ч'</li>\n",
       "\t<li>'версия'</li>\n",
       "\t<li>'описание'</li>\n",
       "\t<li>'мощность_л_с'</li>\n",
       "\t<li>'снаряженная_масса_кг'</li>\n",
       "\t<li>'потребление_топлива_городской_цикл_л_100км'</li>\n",
       "\t<li>'auction'</li>\n",
       "\t<li>'real_price'</li>\n",
       "\t<li>'numb_bidders'</li>\n",
       "\t<li>'filename'</li>\n",
       "\t<li>'sha_id'</li>\n",
       "\t<li>'all_indexes'</li>\n",
       "\t<li>'zav_dummy'</li>\n",
       "\t<li>'auto_dummy'</li>\n",
       "\t<li>'gruz_check'</li>\n",
       "</ol>\n"
      ],
      "text/latex": [
       "\\begin{enumerate*}\n",
       "\\item 'X\\_\\_1'\n",
       "\\item 'index\\_no\\_dupes'\n",
       "\\item 'index\\_name'\n",
       "\\item 'purchase\\_number'\n",
       "\\item 'price'\n",
       "\\item 'колич\\_авто\\_в\\_закупке'\n",
       "\\item 'коробка\\_передач'\n",
       "\\item 'date'\n",
       "\\item 'date2'\n",
       "\\item 'date3'\n",
       "\\item 'org\\_address'\n",
       "\\item 'марка'\n",
       "\\item 'модель'\n",
       "\\item 'коробка'\n",
       "\\item 'привод'\n",
       "\\item 'тип\\_привода'\n",
       "\\item 'ширина'\n",
       "\\item 'объем\\_двигателя'\n",
       "\\item 'длина'\n",
       "\\item 'объём'\n",
       "\\item 'макс\\_скорость'\n",
       "\\item 'масса\\_авто\\_снаряженная'\n",
       "\\item 'год\\_выпуска'\n",
       "\\item 'объем'\n",
       "\\item 'количество\\_опций'\n",
       "\\item 'объем\\_двигателя\\_см'\n",
       "\\item 'максимальная\\_скорость\\_км\\_ч'\n",
       "\\item 'версия'\n",
       "\\item 'описание'\n",
       "\\item 'мощность\\_л\\_с'\n",
       "\\item 'снаряженная\\_масса\\_кг'\n",
       "\\item 'потребление\\_топлива\\_городской\\_цикл\\_л\\_100км'\n",
       "\\item 'auction'\n",
       "\\item 'real\\_price'\n",
       "\\item 'numb\\_bidders'\n",
       "\\item 'filename'\n",
       "\\item 'sha\\_id'\n",
       "\\item 'all\\_indexes'\n",
       "\\item 'zav\\_dummy'\n",
       "\\item 'auto\\_dummy'\n",
       "\\item 'gruz\\_check'\n",
       "\\end{enumerate*}\n"
      ],
      "text/markdown": [
       "1. 'X__1'\n",
       "2. 'index_no_dupes'\n",
       "3. 'index_name'\n",
       "4. 'purchase_number'\n",
       "5. 'price'\n",
       "6. 'колич_авто_в_закупке'\n",
       "7. 'коробка_передач'\n",
       "8. 'date'\n",
       "9. 'date2'\n",
       "10. 'date3'\n",
       "11. 'org_address'\n",
       "12. 'марка'\n",
       "13. 'модель'\n",
       "14. 'коробка'\n",
       "15. 'привод'\n",
       "16. 'тип_привода'\n",
       "17. 'ширина'\n",
       "18. 'объем_двигателя'\n",
       "19. 'длина'\n",
       "20. 'объём'\n",
       "21. 'макс_скорость'\n",
       "22. 'масса_авто_снаряженная'\n",
       "23. 'год_выпуска'\n",
       "24. 'объем'\n",
       "25. 'количество_опций'\n",
       "26. 'объем_двигателя_см'\n",
       "27. 'максимальная_скорость_км_ч'\n",
       "28. 'версия'\n",
       "29. 'описание'\n",
       "30. 'мощность_л_с'\n",
       "31. 'снаряженная_масса_кг'\n",
       "32. 'потребление_топлива_городской_цикл_л_100км'\n",
       "33. 'auction'\n",
       "34. 'real_price'\n",
       "35. 'numb_bidders'\n",
       "36. 'filename'\n",
       "37. 'sha_id'\n",
       "38. 'all_indexes'\n",
       "39. 'zav_dummy'\n",
       "40. 'auto_dummy'\n",
       "41. 'gruz_check'\n",
       "\n",
       "\n"
      ],
      "text/plain": [
       " [1] \"X__1\"                                      \n",
       " [2] \"index_no_dupes\"                            \n",
       " [3] \"index_name\"                                \n",
       " [4] \"purchase_number\"                           \n",
       " [5] \"price\"                                     \n",
       " [6] \"колич_авто_в_закупке\"                      \n",
       " [7] \"коробка_передач\"                           \n",
       " [8] \"date\"                                      \n",
       " [9] \"date2\"                                     \n",
       "[10] \"date3\"                                     \n",
       "[11] \"org_address\"                               \n",
       "[12] \"марка\"                                     \n",
       "[13] \"модель\"                                    \n",
       "[14] \"коробка\"                                   \n",
       "[15] \"привод\"                                    \n",
       "[16] \"тип_привода\"                               \n",
       "[17] \"ширина\"                                    \n",
       "[18] \"объем_двигателя\"                           \n",
       "[19] \"длина\"                                     \n",
       "[20] \"объём\"                                     \n",
       "[21] \"макс_скорость\"                             \n",
       "[22] \"масса_авто_снаряженная\"                    \n",
       "[23] \"год_выпуска\"                               \n",
       "[24] \"объем\"                                     \n",
       "[25] \"количество_опций\"                          \n",
       "[26] \"объем_двигателя_см\"                        \n",
       "[27] \"максимальная_скорость_км_ч\"                \n",
       "[28] \"версия\"                                    \n",
       "[29] \"описание\"                                  \n",
       "[30] \"мощность_л_с\"                              \n",
       "[31] \"снаряженная_масса_кг\"                      \n",
       "[32] \"потребление_топлива_городской_цикл_л_100км\"\n",
       "[33] \"auction\"                                   \n",
       "[34] \"real_price\"                                \n",
       "[35] \"numb_bidders\"                              \n",
       "[36] \"filename\"                                  \n",
       "[37] \"sha_id\"                                    \n",
       "[38] \"all_indexes\"                               \n",
       "[39] \"zav_dummy\"                                 \n",
       "[40] \"auto_dummy\"                                \n",
       "[41] \"gruz_check\"                                "
      ]
     },
     "metadata": {},
     "output_type": "display_data"
    }
   ],
   "source": [
    "goszak_df_kolich"
   ]
  },
  {
   "cell_type": "code",
   "execution_count": 118,
   "metadata": {
    "ExecuteTime": {
     "end_time": "2019-10-24T08:59:17.406855Z",
     "start_time": "2019-10-24T08:59:17.388Z"
    }
   },
   "outputs": [
    {
     "data": {
      "text/html": [
       "<ol class=list-inline>\n",
       "\t<li>'1'</li>\n",
       "\t<li>'is_nan'</li>\n",
       "</ol>\n"
      ],
      "text/latex": [
       "\\begin{enumerate*}\n",
       "\\item '1'\n",
       "\\item 'is\\_nan'\n",
       "\\end{enumerate*}\n"
      ],
      "text/markdown": [
       "1. '1'\n",
       "2. 'is_nan'\n",
       "\n",
       "\n"
      ],
      "text/plain": [
       "[1] \"1\"      \"is_nan\""
      ]
     },
     "metadata": {},
     "output_type": "display_data"
    }
   ],
   "source": [
    "# unique(goszak_df_kolich$auto_dummy)"
   ]
  },
  {
   "cell_type": "code",
   "execution_count": 115,
   "metadata": {
    "ExecuteTime": {
     "end_time": "2019-10-24T08:58:13.709697Z",
     "start_time": "2019-10-24T08:58:13.685Z"
    }
   },
   "outputs": [
    {
     "data": {
      "text/html": [
       "<ol class=list-inline>\n",
       "\t<li>12220</li>\n",
       "\t<li>41</li>\n",
       "</ol>\n"
      ],
      "text/latex": [
       "\\begin{enumerate*}\n",
       "\\item 12220\n",
       "\\item 41\n",
       "\\end{enumerate*}\n"
      ],
      "text/markdown": [
       "1. 12220\n",
       "2. 41\n",
       "\n",
       "\n"
      ],
      "text/plain": [
       "[1] 12220    41"
      ]
     },
     "metadata": {},
     "output_type": "display_data"
    }
   ],
   "source": [
    "goszak_df_kolich  %>%  dim()"
   ]
  },
  {
   "cell_type": "code",
   "execution_count": 113,
   "metadata": {
    "ExecuteTime": {
     "end_time": "2019-10-24T08:56:49.580504Z",
     "start_time": "2019-10-24T08:56:49.558Z"
    }
   },
   "outputs": [
    {
     "data": {
      "text/html": [
       "<ol class=list-inline>\n",
       "\t<li>7392</li>\n",
       "\t<li>41</li>\n",
       "</ol>\n"
      ],
      "text/latex": [
       "\\begin{enumerate*}\n",
       "\\item 7392\n",
       "\\item 41\n",
       "\\end{enumerate*}\n"
      ],
      "text/markdown": [
       "1. 7392\n",
       "2. 41\n",
       "\n",
       "\n"
      ],
      "text/plain": [
       "[1] 7392   41"
      ]
     },
     "metadata": {},
     "output_type": "display_data"
    }
   ],
   "source": [
    "goszak_df_kolich[(goszak_df_kolich['gruz_check'] != '0.0'),]  %>%  dim()"
   ]
  },
  {
   "cell_type": "code",
   "execution_count": 128,
   "metadata": {
    "ExecuteTime": {
     "end_time": "2019-10-24T09:15:44.494646Z",
     "start_time": "2019-10-24T09:15:44.480Z"
    }
   },
   "outputs": [],
   "source": [
    "goszak_df_kolich_2 = goszak_df_kolich[goszak_df_kolich$gruz_check != '0.0', ]  "
   ]
  },
  {
   "cell_type": "code",
   "execution_count": 129,
   "metadata": {
    "ExecuteTime": {
     "end_time": "2019-10-24T09:16:07.055922Z",
     "start_time": "2019-10-24T09:16:07.042Z"
    }
   },
   "outputs": [],
   "source": [
    "goszak_df_kolich_2[(goszak_df_kolich_2['gruz_check'] == 'replace_me') & (goszak_df_kolich_2['auto_dummy'] == 1), 'gruz_check' ] = '1.0'"
   ]
  },
  {
   "cell_type": "code",
   "execution_count": 130,
   "metadata": {
    "ExecuteTime": {
     "end_time": "2019-10-24T09:17:32.706973Z",
     "start_time": "2019-10-24T09:16:11.358Z"
    }
   },
   "outputs": [],
   "source": [
    "write.xlsx(goszak_df_kolich_2, 'goszak_tmp.xlsx')"
   ]
  },
  {
   "cell_type": "code",
   "execution_count": 189,
   "metadata": {
    "ExecuteTime": {
     "end_time": "2019-10-24T09:50:54.828684Z",
     "start_time": "2019-10-24T09:50:54.812Z"
    }
   },
   "outputs": [],
   "source": [
    "goszak_df_kolich_2 = goszak_df_kolich_2[!((check != 'Количество') | (is.na(check)) ) , ] "
   ]
  },
  {
   "cell_type": "code",
   "execution_count": 218,
   "metadata": {
    "ExecuteTime": {
     "end_time": "2019-10-24T10:01:41.845271Z",
     "start_time": "2019-10-24T10:01:41.822Z"
    }
   },
   "outputs": [],
   "source": [
    "goszak_df_kolich_2 = goszak_df_kolich_2[check_price != '', ]"
   ]
  },
  {
   "cell_type": "code",
   "execution_count": 219,
   "metadata": {
    "ExecuteTime": {
     "end_time": "2019-10-24T10:01:46.548523Z",
     "start_time": "2019-10-24T10:01:46.533Z"
    }
   },
   "outputs": [
    {
     "data": {
      "text/html": [
       "<ol class=list-inline>\n",
       "\t<li>7269</li>\n",
       "\t<li>42</li>\n",
       "</ol>\n"
      ],
      "text/latex": [
       "\\begin{enumerate*}\n",
       "\\item 7269\n",
       "\\item 42\n",
       "\\end{enumerate*}\n"
      ],
      "text/markdown": [
       "1. 7269\n",
       "2. 42\n",
       "\n",
       "\n"
      ],
      "text/plain": [
       "[1] 7269   42"
      ]
     },
     "metadata": {},
     "output_type": "display_data"
    }
   ],
   "source": [
    "dim(goszak_df_kolich_2)"
   ]
  },
  {
   "cell_type": "code",
   "execution_count": 220,
   "metadata": {
    "ExecuteTime": {
     "end_time": "2019-10-24T10:01:50.879308Z",
     "start_time": "2019-10-24T10:01:50.728Z"
    }
   },
   "outputs": [],
   "source": [
    "tables_list_1  <- list()\n",
    "jj = 0\n",
    "for (i in as.integer(goszak_df_kolich_2$X__1)){\n",
    "    jj = jj+1\n",
    "    tables_list_1[[jj]]  <-  tables_list[[i]]\n",
    "}"
   ]
  },
  {
   "cell_type": "code",
   "execution_count": null,
   "metadata": {},
   "outputs": [],
   "source": []
  },
  {
   "cell_type": "code",
   "execution_count": null,
   "metadata": {
    "ExecuteTime": {
     "end_time": "2019-10-24T10:01:52.888928Z",
     "start_time": "2019-10-24T10:01:52.528Z"
    }
   },
   "outputs": [],
   "source": [
    "goszak_df_kolich_2['new_index'] = 1:dim(goszak_df_kolich_2)[1]"
   ]
  },
  {
   "cell_type": "code",
   "execution_count": 221,
   "metadata": {
    "ExecuteTime": {
     "end_time": "2019-10-24T10:01:53.530755Z",
     "start_time": "2019-10-24T10:01:53.513Z"
    }
   },
   "outputs": [
    {
     "data": {
      "text/html": [
       "'1082800.00'"
      ],
      "text/latex": [
       "'1082800.00'"
      ],
      "text/markdown": [
       "'1082800.00'"
      ],
      "text/plain": [
       "[1] \"1082800.00\""
      ]
     },
     "metadata": {},
     "output_type": "display_data"
    }
   ],
   "source": [
    "tab_tmp = tables_list_1[[50]][[1]][[8]] \n",
    "gsub(\"[^0-9.-]\",\"\",gsub(\",\",\".\", as.character(tab_tmp[dim(tab_tmp)[1],2]), fixed = TRUE))"
   ]
  },
  {
   "cell_type": "code",
   "execution_count": 222,
   "metadata": {
    "ExecuteTime": {
     "end_time": "2019-10-24T10:01:57.491250Z",
     "start_time": "2019-10-24T10:01:57.476Z"
    }
   },
   "outputs": [
    {
     "data": {
      "text/html": [
       "Электронный аукцион\n",
       "<details>\n",
       "\t<summary style=display:list-item;cursor:pointer>\n",
       "\t\t<strong>Levels</strong>:\n",
       "\t</summary>\n",
       "\t<ol class=list-inline>\n",
       "\t\t<li>'http://www.sberbank-ast.ru'</li>\n",
       "\t\t<li>'ЗАО «Сбербанк-АСТ»'</li>\n",
       "\t\t<li>'Определение поставщика завершено'</li>\n",
       "\t\t<li>'П44201608163000229001000005'</li>\n",
       "\t\t<li>'Поставка автомашины'</li>\n",
       "\t\t<li>'Связь с типовым контрактом, типовыми условиями контракта не установлена'</li>\n",
       "\t\t<li>'Уполномоченный органМУНИЦИПАЛЬНОЕ КАЗЕННОЕ УЧРЕЖДЕНИЕ \"КОМИТЕТ ИМУЩЕСТВЕННЫХ ОТНОШЕНИЙ И МУНИЦИПАЛЬНЫХ ЗАКУПОК\" НЮРБИНСКОГО РАЙОНА РЕСПУБЛИКИ САХА (ЯКУТИЯ)'</li>\n",
       "\t\t<li>'Электронный аукцион'</li>\n",
       "\t</ol>\n",
       "</details>"
      ],
      "text/latex": [
       "Электронный аукцион\n",
       "\\emph{Levels}: \\begin{enumerate*}\n",
       "\\item 'http://www.sberbank-ast.ru'\n",
       "\\item 'ЗАО «Сбербанк-АСТ»'\n",
       "\\item 'Определение поставщика завершено'\n",
       "\\item 'П44201608163000229001000005'\n",
       "\\item 'Поставка автомашины'\n",
       "\\item 'Связь с типовым контрактом, типовыми условиями контракта не установлена'\n",
       "\\item 'Уполномоченный органМУНИЦИПАЛЬНОЕ КАЗЕННОЕ УЧРЕЖДЕНИЕ \"КОМИТЕТ ИМУЩЕСТВЕННЫХ ОТНОШЕНИЙ И МУНИЦИПАЛЬНЫХ ЗАКУПОК\" НЮРБИНСКОГО РАЙОНА РЕСПУБЛИКИ САХА (ЯКУТИЯ)'\n",
       "\\item 'Электронный аукцион'\n",
       "\\end{enumerate*}\n"
      ],
      "text/markdown": [
       "Электронный аукцион\n",
       "**Levels**: 1. 'http://www.sberbank-ast.ru'\n",
       "2. 'ЗАО «Сбербанк-АСТ»'\n",
       "3. 'Определение поставщика завершено'\n",
       "4. 'П44201608163000229001000005'\n",
       "5. 'Поставка автомашины'\n",
       "6. 'Связь с типовым контрактом, типовыми условиями контракта не установлена'\n",
       "7. 'Уполномоченный органМУНИЦИПАЛЬНОЕ КАЗЕННОЕ УЧРЕЖДЕНИЕ \"КОМИТЕТ ИМУЩЕСТВЕННЫХ ОТНОШЕНИЙ И МУНИЦИПАЛЬНЫХ ЗАКУПОК\" НЮРБИНСКОГО РАЙОНА РЕСПУБЛИКИ САХА (ЯКУТИЯ)'\n",
       "8. 'Электронный аукцион'\n",
       "\n",
       "\n"
      ],
      "text/plain": [
       "[1] Электронный аукцион\n",
       "8 Levels: http://www.sberbank-ast.ru ... Электронный аукцион"
      ]
     },
     "metadata": {},
     "output_type": "display_data"
    }
   ],
   "source": [
    "tables_list_1[[50]][[1]][[2]][1,2]"
   ]
  },
  {
   "cell_type": "code",
   "execution_count": 223,
   "metadata": {
    "ExecuteTime": {
     "end_time": "2019-10-24T10:02:02.658172Z",
     "start_time": "2019-10-24T10:02:00.992Z"
    }
   },
   "outputs": [
    {
     "name": "stderr",
     "output_type": "stream",
     "text": [
      "Warning message in eval(expr, envir, enclos):\n",
      "“NAs introduced by coercion”Warning message in eval(expr, envir, enclos):\n",
      "“NAs introduced by coercion”Warning message in eval(expr, envir, enclos):\n",
      "“NAs introduced by coercion”Warning message in eval(expr, envir, enclos):\n",
      "“NAs introduced by coercion”Warning message in eval(expr, envir, enclos):\n",
      "“NAs introduced by coercion”Warning message in eval(expr, envir, enclos):\n",
      "“NAs introduced by coercion”Warning message in eval(expr, envir, enclos):\n",
      "“NAs introduced by coercion”Warning message in eval(expr, envir, enclos):\n",
      "“NAs introduced by coercion”Warning message in eval(expr, envir, enclos):\n",
      "“NAs introduced by coercion”Warning message in eval(expr, envir, enclos):\n",
      "“NAs introduced by coercion”Warning message in eval(expr, envir, enclos):\n",
      "“NAs introduced by coercion”Warning message in eval(expr, envir, enclos):\n",
      "“NAs introduced by coercion”Warning message in eval(expr, envir, enclos):\n",
      "“NAs introduced by coercion”Warning message in eval(expr, envir, enclos):\n",
      "“NAs introduced by coercion”Warning message in eval(expr, envir, enclos):\n",
      "“NAs introduced by coercion”Warning message in eval(expr, envir, enclos):\n",
      "“NAs introduced by coercion”Warning message in eval(expr, envir, enclos):\n",
      "“NAs introduced by coercion”"
     ]
    }
   ],
   "source": [
    "kol  <- c()\n",
    "auc  <-  c()\n",
    "check  <- c()\n",
    "car  <-  c()\n",
    "check_price  <-  c()\n",
    "price   <-  c()\n",
    "lll  <- length(tables_list_1)\n",
    "# lll <- 3\n",
    "for (i in 1:lll){\n",
    "    \n",
    "    tab_tmp = tables_list_1[[i]][[1]][[8]]\n",
    "    sum_1  <-  sum(as.integer(as.character(tab_tmp[2:dim(tab_tmp)[1], 4])), na.rm = TRUE) \n",
    "    kol  <-  c(kol, sum_1 )\n",
    "    \n",
    "    ch_tmp  <-  as.character(tab_tmp[1, 4])\n",
    "    if (length(as.character(tab_tmp[1, 4])) == 0){\n",
    "            ch_tmp  <- NA\n",
    "    }\n",
    "    \n",
    "    check  <-  c(check, ch_tmp)\n",
    "    check_price  <-  c(check_price, as.character(tab_tmp[dim(tab_tmp)[1], 1]))\n",
    "    price  <- c(price, gsub(\"[^0-9.-]\",\"\",gsub(\",\",\".\", as.character(tab_tmp[dim(tab_tmp)[1],2]), fixed = TRUE)))\n",
    "\n",
    "    tab_tmp = tables_list_1[[50]][[1]][[2]]\n",
    "    auc  <-  c(auc, as.character(tab_tmp[1,2]))\n",
    "}\n",
    "\n"
   ]
  },
  {
   "cell_type": "code",
   "execution_count": 224,
   "metadata": {
    "ExecuteTime": {
     "end_time": "2019-10-24T10:02:06.247267Z",
     "start_time": "2019-10-24T10:02:06.228Z"
    }
   },
   "outputs": [
    {
     "data": {
      "text/html": [
       "7269"
      ],
      "text/latex": [
       "7269"
      ],
      "text/markdown": [
       "7269"
      ],
      "text/plain": [
       "[1] 7269"
      ]
     },
     "metadata": {},
     "output_type": "display_data"
    },
    {
     "data": {
      "text/html": [
       "7269"
      ],
      "text/latex": [
       "7269"
      ],
      "text/markdown": [
       "7269"
      ],
      "text/plain": [
       "[1] 7269"
      ]
     },
     "metadata": {},
     "output_type": "display_data"
    },
    {
     "data": {
      "text/html": [
       "7269"
      ],
      "text/latex": [
       "7269"
      ],
      "text/markdown": [
       "7269"
      ],
      "text/plain": [
       "[1] 7269"
      ]
     },
     "metadata": {},
     "output_type": "display_data"
    },
    {
     "data": {
      "text/html": [
       "7269"
      ],
      "text/latex": [
       "7269"
      ],
      "text/markdown": [
       "7269"
      ],
      "text/plain": [
       "[1] 7269"
      ]
     },
     "metadata": {},
     "output_type": "display_data"
    },
    {
     "data": {
      "text/html": [
       "7269"
      ],
      "text/latex": [
       "7269"
      ],
      "text/markdown": [
       "7269"
      ],
      "text/plain": [
       "[1] 7269"
      ]
     },
     "metadata": {},
     "output_type": "display_data"
    }
   ],
   "source": [
    "length(kol) \n",
    "length(check) # all Kolichestvo\n",
    "length(auc) # all Auction\n",
    "length(check_price) # all same \n",
    "length(price) "
   ]
  },
  {
   "cell_type": "code",
   "execution_count": 225,
   "metadata": {
    "ExecuteTime": {
     "end_time": "2019-10-24T10:02:31.023893Z",
     "start_time": "2019-10-24T10:02:31.013Z"
    }
   },
   "outputs": [
    {
     "data": {
      "text/html": [
       "<ol class=list-inline>\n",
       "\t<li>'Итого:'</li>\n",
       "\t<li>'Начальная сумма цен единиц товара, работы, услуги:'</li>\n",
       "</ol>\n"
      ],
      "text/latex": [
       "\\begin{enumerate*}\n",
       "\\item 'Итого:'\n",
       "\\item 'Начальная сумма цен единиц товара, работы, услуги:'\n",
       "\\end{enumerate*}\n"
      ],
      "text/markdown": [
       "1. 'Итого:'\n",
       "2. 'Начальная сумма цен единиц товара, работы, услуги:'\n",
       "\n",
       "\n"
      ],
      "text/plain": [
       "[1] \"Итого:\"                                            \n",
       "[2] \"Начальная сумма цен единиц товара, работы, услуги:\""
      ]
     },
     "metadata": {},
     "output_type": "display_data"
    }
   ],
   "source": [
    "unique(check_price)"
   ]
  },
  {
   "cell_type": "code",
   "execution_count": 207,
   "metadata": {
    "ExecuteTime": {
     "end_time": "2019-10-24T09:53:02.531335Z",
     "start_time": "2019-10-24T09:53:02.519Z"
    }
   },
   "outputs": [
    {
     "data": {
      "text/html": [
       "'Электронный аукцион'"
      ],
      "text/latex": [
       "'Электронный аукцион'"
      ],
      "text/markdown": [
       "'Электронный аукцион'"
      ],
      "text/plain": [
       "[1] \"Электронный аукцион\""
      ]
     },
     "metadata": {},
     "output_type": "display_data"
    }
   ],
   "source": [
    "goszak_df_kolich_2[,'auction'] = 1\n",
    "unique(auc)"
   ]
  },
  {
   "cell_type": "code",
   "execution_count": 566,
   "metadata": {
    "ExecuteTime": {
     "end_time": "2019-09-30T18:19:05.929211Z",
     "start_time": "2019-09-30T18:19:05.898Z"
    }
   },
   "outputs": [
    {
     "data": {
      "text/html": [
       "21 024 000,00\n",
       "<details>\n",
       "\t<summary style=display:list-item;cursor:pointer>\n",
       "\t\t<strong>Levels</strong>:\n",
       "\t</summary>\n",
       "\t<ol class=list-inline>\n",
       "\t\t<li>'21 024 000,00'</li>\n",
       "\t\t<li>'Стоимость'</li>\n",
       "\t</ol>\n",
       "</details>"
      ],
      "text/latex": [
       "21 024 000,00\n",
       "\\emph{Levels}: \\begin{enumerate*}\n",
       "\\item '21 024 000,00'\n",
       "\\item 'Стоимость'\n",
       "\\end{enumerate*}\n"
      ],
      "text/markdown": [
       "21 024 000,00\n",
       "**Levels**: 1. '21 024 000,00'\n",
       "2. 'Стоимость'\n",
       "\n",
       "\n"
      ],
      "text/plain": [
       "[1] 21 024 000,00\n",
       "Levels: 21 024 000,00 Стоимость"
      ]
     },
     "metadata": {},
     "output_type": "display_data"
    },
    {
     "data": {
      "text/html": [
       "1 339 944,00\n",
       "<details>\n",
       "\t<summary style=display:list-item;cursor:pointer>\n",
       "\t\t<strong>Levels</strong>:\n",
       "\t</summary>\n",
       "\t<ol class=list-inline>\n",
       "\t\t<li>'1 339 944,00'</li>\n",
       "\t\t<li>'2 679 888,00'</li>\n",
       "\t\t<li>'669 772,00'</li>\n",
       "\t\t<li>'Стоимость'</li>\n",
       "\t</ol>\n",
       "</details>"
      ],
      "text/latex": [
       "1 339 944,00\n",
       "\\emph{Levels}: \\begin{enumerate*}\n",
       "\\item '1 339 944,00'\n",
       "\\item '2 679 888,00'\n",
       "\\item '669 772,00'\n",
       "\\item 'Стоимость'\n",
       "\\end{enumerate*}\n"
      ],
      "text/markdown": [
       "1 339 944,00\n",
       "**Levels**: 1. '1 339 944,00'\n",
       "2. '2 679 888,00'\n",
       "3. '669 772,00'\n",
       "4. 'Стоимость'\n",
       "\n",
       "\n"
      ],
      "text/plain": [
       "[1] 1 339 944,00\n",
       "Levels: 1 339 944,00 2 679 888,00 669 772,00 Стоимость"
      ]
     },
     "metadata": {},
     "output_type": "display_data"
    },
    {
     "data": {
      "text/html": [
       "26 864 000,00\n",
       "<details>\n",
       "\t<summary style=display:list-item;cursor:pointer>\n",
       "\t\t<strong>Levels</strong>:\n",
       "\t</summary>\n",
       "\t<ol class=list-inline>\n",
       "\t\t<li>'26 864 000,00'</li>\n",
       "\t\t<li>'Стоимость'</li>\n",
       "\t</ol>\n",
       "</details>"
      ],
      "text/latex": [
       "26 864 000,00\n",
       "\\emph{Levels}: \\begin{enumerate*}\n",
       "\\item '26 864 000,00'\n",
       "\\item 'Стоимость'\n",
       "\\end{enumerate*}\n"
      ],
      "text/markdown": [
       "26 864 000,00\n",
       "**Levels**: 1. '26 864 000,00'\n",
       "2. 'Стоимость'\n",
       "\n",
       "\n"
      ],
      "text/plain": [
       "[1] 26 864 000,00\n",
       "Levels: 26 864 000,00 Стоимость"
      ]
     },
     "metadata": {},
     "output_type": "display_data"
    }
   ],
   "source": [
    "tables_list_1[[69]][[1]][[7]][2,6]\n",
    "tables_list_1[[74]][[1]][[7]][2,6]\n",
    "tables_list_1[[90]][[1]][[7]][2,6]"
   ]
  },
  {
   "cell_type": "code",
   "execution_count": 232,
   "metadata": {
    "ExecuteTime": {
     "end_time": "2019-10-24T10:11:04.536215Z",
     "start_time": "2019-10-24T10:11:04.512Z"
    }
   },
   "outputs": [],
   "source": [
    "goszak_df_kolich_2['kolichestvo'] = kol"
   ]
  },
  {
   "cell_type": "code",
   "execution_count": 233,
   "metadata": {
    "ExecuteTime": {
     "end_time": "2019-10-24T10:11:11.462966Z",
     "start_time": "2019-10-24T10:11:11.454Z"
    }
   },
   "outputs": [],
   "source": [
    "goszak_df_kolich_2['price_gos'] = price"
   ]
  },
  {
   "cell_type": "code",
   "execution_count": 234,
   "metadata": {
    "ExecuteTime": {
     "end_time": "2019-10-24T10:12:58.377974Z",
     "start_time": "2019-10-24T10:11:47.604Z"
    }
   },
   "outputs": [],
   "source": [
    "write.xlsx(goszak_df_kolich_2, 'goszak_tmp2.xlsx')"
   ]
  },
  {
   "cell_type": "code",
   "execution_count": 235,
   "metadata": {
    "ExecuteTime": {
     "end_time": "2019-10-24T10:31:42.302747Z",
     "start_time": "2019-10-24T10:31:42.111Z"
    }
   },
   "outputs": [],
   "source": [
    "goszak_df_kolich_3  <-  read_excel('4_goszak_with_kol.xlsx') #, header=TRUE, colClasses=NA)"
   ]
  },
  {
   "cell_type": "code",
   "execution_count": 236,
   "metadata": {
    "ExecuteTime": {
     "end_time": "2019-10-24T10:31:47.769675Z",
     "start_time": "2019-10-24T10:31:47.757Z"
    }
   },
   "outputs": [
    {
     "data": {
      "text/html": [
       "<ol class=list-inline>\n",
       "\t<li>7269</li>\n",
       "\t<li>30</li>\n",
       "</ol>\n"
      ],
      "text/latex": [
       "\\begin{enumerate*}\n",
       "\\item 7269\n",
       "\\item 30\n",
       "\\end{enumerate*}\n"
      ],
      "text/markdown": [
       "1. 7269\n",
       "2. 30\n",
       "\n",
       "\n"
      ],
      "text/plain": [
       "[1] 7269   30"
      ]
     },
     "metadata": {},
     "output_type": "display_data"
    }
   ],
   "source": [
    "goszak_df_kolich_3  %>%  dim()"
   ]
  },
  {
   "cell_type": "code",
   "execution_count": 237,
   "metadata": {
    "ExecuteTime": {
     "end_time": "2019-10-24T10:32:29.247791Z",
     "start_time": "2019-10-24T10:32:29.098Z"
    }
   },
   "outputs": [],
   "source": [
    "tables_list_2  <- list()\n",
    "jj = 0\n",
    "for (i in as.integer(goszak_df_kolich_3$X__1)){\n",
    "    jj = jj+1\n",
    "    tables_list_2[[jj]]  <-  tables_list[[i]]\n",
    "}"
   ]
  },
  {
   "cell_type": "code",
   "execution_count": 254,
   "metadata": {
    "ExecuteTime": {
     "end_time": "2019-10-24T10:36:18.145795Z",
     "start_time": "2019-10-24T10:36:18.131Z"
    }
   },
   "outputs": [],
   "source": [
    "# goszak_df_kolich_3"
   ]
  },
  {
   "cell_type": "code",
   "execution_count": 274,
   "metadata": {
    "ExecuteTime": {
     "end_time": "2019-10-24T10:44:28.123046Z",
     "start_time": "2019-10-24T10:44:27.518Z"
    }
   },
   "outputs": [],
   "source": [
    "zakaz  <-  c()\n",
    "\n",
    "for (i in 1:length(tables_list_2)){\n",
    "    \n",
    "    tab_tmp = tables_list_2[[i]][[2]][[length(tables_list_2[[i]][[2]])]]\n",
    "    tmp = as.character(tab_tmp[1, 2])\n",
    "    if (length(as.character(tab_tmp[1, 2])) == 0 ){\n",
    "        tmp = 'NA'\n",
    "    }\n",
    "        \n",
    "    zakaz  <-  c(zakaz, tmp)\n",
    "}\n",
    "\n"
   ]
  },
  {
   "cell_type": "code",
   "execution_count": 275,
   "metadata": {
    "ExecuteTime": {
     "end_time": "2019-10-24T10:44:33.309912Z",
     "start_time": "2019-10-24T10:44:33.300Z"
    }
   },
   "outputs": [
    {
     "data": {
      "text/html": [
       "7269"
      ],
      "text/latex": [
       "7269"
      ],
      "text/markdown": [
       "7269"
      ],
      "text/plain": [
       "[1] 7269"
      ]
     },
     "metadata": {},
     "output_type": "display_data"
    }
   ],
   "source": [
    "length(zakaz)"
   ]
  },
  {
   "cell_type": "code",
   "execution_count": 281,
   "metadata": {
    "ExecuteTime": {
     "end_time": "2019-10-24T10:49:11.301771Z",
     "start_time": "2019-10-24T10:49:10.853Z"
    }
   },
   "outputs": [],
   "source": [
    "gru_ch  <-  c()\n",
    "for (i in  zakaz){\n",
    "    if (str_detect(i,'единственной заявки')){\n",
    "        gru_ch  <-  c(gru_ch, '1')\n",
    "    }else if( str_detect(i,'заявок' )){\n",
    "        gru_ch  <-  c(gru_ch, 'не одна')\n",
    "    }else if( str_detect(i,'несостоявшимся' )){\n",
    "        gru_ch  <-  c(gru_ch, '0')\n",
    "    }else if( str_detect(i,'проведения электронного' )){\n",
    "        gru_ch  <-  c(gru_ch, 'не одна')\n",
    "    }else{\n",
    "        gru_ch  <-  c(gru_ch, '0')\n",
    "    }   \n",
    "    \n",
    "}"
   ]
  },
  {
   "cell_type": "code",
   "execution_count": 293,
   "metadata": {
    "ExecuteTime": {
     "end_time": "2019-10-24T10:52:19.526002Z",
     "start_time": "2019-10-24T10:52:19.513Z"
    }
   },
   "outputs": [
    {
     "data": {
      "text/html": [
       "<ol class=list-inline>\n",
       "\t<li>6373</li>\n",
       "\t<li>31</li>\n",
       "</ol>\n"
      ],
      "text/latex": [
       "\\begin{enumerate*}\n",
       "\\item 6373\n",
       "\\item 31\n",
       "\\end{enumerate*}\n"
      ],
      "text/markdown": [
       "1. 6373\n",
       "2. 31\n",
       "\n",
       "\n"
      ],
      "text/plain": [
       "[1] 6373   31"
      ]
     },
     "metadata": {},
     "output_type": "display_data"
    }
   ],
   "source": [
    "goszak_df_kolich_3[gru_ch != '0', ]  %>%  dim()"
   ]
  },
  {
   "cell_type": "code",
   "execution_count": 284,
   "metadata": {
    "ExecuteTime": {
     "end_time": "2019-10-24T10:49:37.352517Z",
     "start_time": "2019-10-24T10:49:37.344Z"
    }
   },
   "outputs": [],
   "source": [
    "goszak_df_kolich_3['kolichetvo_uch'] = gru_ch"
   ]
  },
  {
   "cell_type": "code",
   "execution_count": 296,
   "metadata": {
    "ExecuteTime": {
     "end_time": "2019-10-24T10:52:37.015435Z",
     "start_time": "2019-10-24T10:52:37.000Z"
    }
   },
   "outputs": [],
   "source": [
    "goszak_df_kolich_3 = goszak_df_kolich_3[goszak_df_kolich_3['kolichetvo_uch'] != '0', ] "
   ]
  },
  {
   "cell_type": "code",
   "execution_count": 325,
   "metadata": {
    "ExecuteTime": {
     "end_time": "2019-10-24T22:27:46.831872Z",
     "start_time": "2019-10-24T22:27:46.793Z"
    }
   },
   "outputs": [],
   "source": [
    "goszak_df_kolich_3 = goszak_df_kolich_3[(realprice != 'NA') & (realprice != 'no_tab') , ] "
   ]
  },
  {
   "cell_type": "code",
   "execution_count": 326,
   "metadata": {
    "ExecuteTime": {
     "end_time": "2019-10-24T22:27:52.372822Z",
     "start_time": "2019-10-24T22:27:52.170Z"
    }
   },
   "outputs": [],
   "source": [
    "tables_list_2  <- list()\n",
    "jj = 0\n",
    "for (i in as.integer(goszak_df_kolich_3$X__1)){\n",
    "    jj = jj+1\n",
    "    tables_list_2[[jj]]  <-  tables_list[[i]]\n",
    "}"
   ]
  },
  {
   "cell_type": "code",
   "execution_count": 327,
   "metadata": {
    "ExecuteTime": {
     "end_time": "2019-10-24T22:27:58.173961Z",
     "start_time": "2019-10-24T22:27:58.124Z"
    }
   },
   "outputs": [
    {
     "data": {
      "text/html": [
       "4719"
      ],
      "text/latex": [
       "4719"
      ],
      "text/markdown": [
       "4719"
      ],
      "text/plain": [
       "[1] 4719"
      ]
     },
     "metadata": {},
     "output_type": "display_data"
    }
   ],
   "source": [
    "length(tables_list_2)"
   ]
  },
  {
   "cell_type": "code",
   "execution_count": 380,
   "metadata": {
    "ExecuteTime": {
     "end_time": "2019-10-24T23:24:34.053008Z",
     "start_time": "2019-10-24T23:24:34.038Z"
    }
   },
   "outputs": [],
   "source": [
    "i = 40 \n",
    "# tables_list_2[[i]][[3]]\n"
   ]
  },
  {
   "cell_type": "code",
   "execution_count": 329,
   "metadata": {
    "ExecuteTime": {
     "end_time": "2019-10-24T22:28:13.644557Z",
     "start_time": "2019-10-24T22:28:12.698Z"
    }
   },
   "outputs": [],
   "source": [
    "numbid  <- c()\n",
    "smth  <-  c()\n",
    "realprice  <-  c()\n",
    "\n",
    "for (i in 1:length(tables_list_2)){\n",
    "    \n",
    "    numbid  <- c(numbid, dim(tables_list_2[[i]][[3]][[2]])[1]-2 )\n",
    "    \n",
    "    tab_tmp  <-  tables_list_2[[i]][[3]][[2]]\n",
    "    \n",
    "    tmp = as.character(tab_tmp[3,3])\n",
    "    if (length(as.character(tab_tmp[3,3])) == 0 ){\n",
    "        tmp = 'NA'\n",
    "    }\n",
    "    \n",
    "    \n",
    "    \n",
    "    smth  <-  c(smth, tmp )\n",
    "    \n",
    "#     tryCatch()\n",
    "    if (length(tables_list_2[[i]][[3]])>2){\n",
    "        tab_tmp  <-  tables_list_2[[i]][[3]][[3]]\n",
    "\n",
    "        if ( length(as.character(tab_tmp[1, 4]) !=0)){\n",
    "            realprice  <-  c(realprice, as.character(tab_tmp[1, 4]))\n",
    "        }else{\n",
    "            realprice  <-  c(realprice, 'NA')\n",
    "        }\n",
    " }else{\n",
    "           realprice  <-  c(realprice, 'no_tab')\n",
    "    }\n",
    "}\n"
   ]
  },
  {
   "cell_type": "code",
   "execution_count": 330,
   "metadata": {
    "ExecuteTime": {
     "end_time": "2019-10-24T22:28:18.474110Z",
     "start_time": "2019-10-24T22:28:18.428Z"
    }
   },
   "outputs": [
    {
     "data": {
      "text/html": [
       "4719"
      ],
      "text/latex": [
       "4719"
      ],
      "text/markdown": [
       "4719"
      ],
      "text/plain": [
       "[1] 4719"
      ]
     },
     "metadata": {},
     "output_type": "display_data"
    },
    {
     "data": {
      "text/html": [
       "4719"
      ],
      "text/latex": [
       "4719"
      ],
      "text/markdown": [
       "4719"
      ],
      "text/plain": [
       "[1] 4719"
      ]
     },
     "metadata": {},
     "output_type": "display_data"
    }
   ],
   "source": [
    "length(tables_list_2)\n",
    "length(numbid)"
   ]
  },
  {
   "cell_type": "code",
   "execution_count": 344,
   "metadata": {
    "ExecuteTime": {
     "end_time": "2019-10-24T22:56:27.252770Z",
     "start_time": "2019-10-24T22:56:27.231Z"
    }
   },
   "outputs": [
    {
     "data": {
      "text/html": [
       "4719"
      ],
      "text/latex": [
       "4719"
      ],
      "text/markdown": [
       "4719"
      ],
      "text/plain": [
       "[1] 4719"
      ]
     },
     "metadata": {},
     "output_type": "display_data"
    }
   ],
   "source": [
    "length(smth) #- 1536 - 118"
   ]
  },
  {
   "cell_type": "code",
   "execution_count": 322,
   "metadata": {
    "ExecuteTime": {
     "end_time": "2019-10-24T22:26:51.405231Z",
     "start_time": "2019-10-24T22:26:51.332Z"
    }
   },
   "outputs": [
    {
     "data": {
      "text/html": [
       "<ol class=list-inline>\n",
       "\t<li>1536</li>\n",
       "\t<li>31</li>\n",
       "</ol>\n"
      ],
      "text/latex": [
       "\\begin{enumerate*}\n",
       "\\item 1536\n",
       "\\item 31\n",
       "\\end{enumerate*}\n"
      ],
      "text/markdown": [
       "1. 1536\n",
       "2. 31\n",
       "\n",
       "\n"
      ],
      "text/plain": [
       "[1] 1536   31"
      ]
     },
     "metadata": {},
     "output_type": "display_data"
    },
    {
     "data": {
      "text/html": [
       "<ol class=list-inline>\n",
       "\t<li>118</li>\n",
       "\t<li>31</li>\n",
       "</ol>\n"
      ],
      "text/latex": [
       "\\begin{enumerate*}\n",
       "\\item 118\n",
       "\\item 31\n",
       "\\end{enumerate*}\n"
      ],
      "text/markdown": [
       "1. 118\n",
       "2. 31\n",
       "\n",
       "\n"
      ],
      "text/plain": [
       "[1] 118  31"
      ]
     },
     "metadata": {},
     "output_type": "display_data"
    },
    {
     "data": {
      "text/html": [
       "<ol class=list-inline>\n",
       "\t<li>4719</li>\n",
       "\t<li>31</li>\n",
       "</ol>\n"
      ],
      "text/latex": [
       "\\begin{enumerate*}\n",
       "\\item 4719\n",
       "\\item 31\n",
       "\\end{enumerate*}\n"
      ],
      "text/markdown": [
       "1. 4719\n",
       "2. 31\n",
       "\n",
       "\n"
      ],
      "text/plain": [
       "[1] 4719   31"
      ]
     },
     "metadata": {},
     "output_type": "display_data"
    }
   ],
   "source": [
    "goszak_df_kolich_3[(realprice == 'NA'), ]  %>%  dim() \n",
    "goszak_df_kolich_3[(realprice == 'no_tab') , ]  %>%  dim() \n",
    "goszak_df_kolich_3[(realprice != 'NA') & (realprice != 'no_tab') , ]  %>%  dim() "
   ]
  },
  {
   "cell_type": "code",
   "execution_count": 331,
   "metadata": {
    "ExecuteTime": {
     "end_time": "2019-10-24T22:28:36.554343Z",
     "start_time": "2019-10-24T22:28:36.519Z"
    }
   },
   "outputs": [],
   "source": [
    "goszak_df_kolich_3['number_of_bids'] = numbid\n"
   ]
  },
  {
   "cell_type": "code",
   "execution_count": 334,
   "metadata": {
    "ExecuteTime": {
     "end_time": "2019-10-24T22:29:22.320725Z",
     "start_time": "2019-10-24T22:29:22.289Z"
    }
   },
   "outputs": [],
   "source": [
    "# goszak_df_kolich_3"
   ]
  },
  {
   "cell_type": "code",
   "execution_count": 370,
   "metadata": {
    "ExecuteTime": {
     "end_time": "2019-10-24T23:20:57.496783Z",
     "start_time": "2019-10-24T23:20:57.486Z"
    }
   },
   "outputs": [
    {
     "data": {
      "text/html": [
       "<table>\n",
       "<thead><tr><th scope=col>number_of_bids</th></tr></thead>\n",
       "<tbody>\n",
       "\t<tr><td>1</td></tr>\n",
       "</tbody>\n",
       "</table>\n"
      ],
      "text/latex": [
       "\\begin{tabular}{r|l}\n",
       " number\\_of\\_bids\\\\\n",
       "\\hline\n",
       "\t 1\\\\\n",
       "\\end{tabular}\n"
      ],
      "text/markdown": [
       "\n",
       "number_of_bids | \n",
       "|---|\n",
       "| 1 | \n",
       "\n",
       "\n"
      ],
      "text/plain": [
       "  number_of_bids\n",
       "1 1             "
      ]
     },
     "metadata": {},
     "output_type": "display_data"
    }
   ],
   "source": [
    "unique(goszak_df_kolich_3[smth == '', 'number_of_bids'])"
   ]
  },
  {
   "cell_type": "code",
   "execution_count": 367,
   "metadata": {
    "ExecuteTime": {
     "end_time": "2019-10-24T23:20:17.933871Z",
     "start_time": "2019-10-24T23:20:17.770Z"
    }
   },
   "outputs": [],
   "source": [
    "smsms  <-  c()\n",
    "for (i in smth){\n",
    "    if(str_detect(i,'Принято решение о признании' )|str_detect(i,'всех вторых частей заявок на участие' )){\n",
    "        smsms  <- c(smsms, 1)        \n",
    "    }else{\n",
    "        smsms  <- c(smsms, 0)\n",
    "    }\n",
    "}"
   ]
  },
  {
   "cell_type": "code",
   "execution_count": 368,
   "metadata": {
    "ExecuteTime": {
     "end_time": "2019-10-24T23:20:28.363154Z",
     "start_time": "2019-10-24T23:20:28.348Z"
    }
   },
   "outputs": [
    {
     "data": {
      "text/html": [
       "4719"
      ],
      "text/latex": [
       "4719"
      ],
      "text/markdown": [
       "4719"
      ],
      "text/plain": [
       "[1] 4719"
      ]
     },
     "metadata": {},
     "output_type": "display_data"
    }
   ],
   "source": [
    "length(smsms)"
   ]
  },
  {
   "cell_type": "code",
   "execution_count": 339,
   "metadata": {
    "ExecuteTime": {
     "end_time": "2019-10-24T22:54:20.982882Z",
     "start_time": "2019-10-24T22:54:20.961Z"
    }
   },
   "outputs": [],
   "source": [
    "# library(plyr)"
   ]
  },
  {
   "cell_type": "code",
   "execution_count": 345,
   "metadata": {
    "ExecuteTime": {
     "end_time": "2019-10-24T22:57:18.048140Z",
     "start_time": "2019-10-24T22:57:18.026Z"
    }
   },
   "outputs": [],
   "source": [
    "dffreq = as.data.frame(table(smth))"
   ]
  },
  {
   "cell_type": "code",
   "execution_count": 350,
   "metadata": {
    "ExecuteTime": {
     "end_time": "2019-10-24T23:00:46.599471Z",
     "start_time": "2019-10-24T23:00:46.578Z"
    }
   },
   "outputs": [
    {
     "data": {
      "text/html": [
       "<table>\n",
       "<thead><tr><th></th><th scope=col>smth</th><th scope=col>Freq</th></tr></thead>\n",
       "<tbody>\n",
       "\t<tr><th scope=row>1</th><td>                                                                                                                                                                                                                                                                                                                         </td><td> 43                                                                                                                                                                                                                                                                                                                      </td></tr>\n",
       "\t<tr><th scope=row>16</th><td>«Автомир-тендер» Общество с ограниченной ответственностью(1-Победитель)                                                                                                                                                                                                                                                  </td><td> 63                                                                                                                                                                                                                                                                                                                      </td></tr>\n",
       "\t<tr><th scope=row>17</th><td>NA                                                                                                                                                                                                                                                                                                                       </td><td>170                                                                                                                                                                                                                                                                                                                      </td></tr>\n",
       "\t<tr><th scope=row>385</th><td>Общество с ограниченной ответственностью \"Влада-авто\"(1-Победитель)                                                                                                                                                                                                                                                      </td><td>118                                                                                                                                                                                                                                                                                                                      </td></tr>\n",
       "\t<tr><th scope=row>1332</th><td>По окончании срока подачи заявок на участие в электронном аукционе подана только одна заявка на участие в нем (п. 3 ч.1 ст. 71)                                                                                                                                                                                          </td><td>533                                                                                                                                                                                                                                                                                                                      </td></tr>\n",
       "\t<tr><th scope=row>1333</th><td>По результатам рассмотрения вторых частей заявок принято решение о несоответствии требованиям, установленным документацией об электронном аукционе, всех вторых частей заявок на участие в нем или о соответствии указанным требованиям только одной второй части заявки на участие в нем (ч.13 ст.69 44-ФЗ)             </td><td>309                                                                                                                                                                                                                                                                                                                      </td></tr>\n",
       "\t<tr><th scope=row>1336</th><td>Принято решение о признании только одного участника закупки, подавшего заявку на участие в электронном аукционе, его участником. По результатам рассмотрения заявки единственного участника, данная заявка признана соответствующей требованиям Федерального закона № 44-ФЗ и документации об аукционе. (п. 3 ч.2 ст. 71)</td><td>190                                                                                                                                                                                                                                                                                                                      </td></tr>\n",
       "</tbody>\n",
       "</table>\n"
      ],
      "text/latex": [
       "\\begin{tabular}{r|ll}\n",
       "  & smth & Freq\\\\\n",
       "\\hline\n",
       "\t1 &                                                                                                                                                                                                                                                                                                                           &  43                                                                                                                                                                                                                                                                                                                      \\\\\n",
       "\t16 & «Автомир-тендер» Общество с ограниченной ответственностью(1-Победитель)                                                                                                                                                                                                                                                   &  63                                                                                                                                                                                                                                                                                                                      \\\\\n",
       "\t17 & NA                                                                                                                                                                                                                                                                                                                        & 170                                                                                                                                                                                                                                                                                                                      \\\\\n",
       "\t385 & Общество с ограниченной ответственностью \"Влада-авто\"(1-Победитель)                                                                                                                                                                                                                                                       & 118                                                                                                                                                                                                                                                                                                                      \\\\\n",
       "\t1332 & По окончании срока подачи заявок на участие в электронном аукционе подана только одна заявка на участие в нем (п. 3 ч.1 ст. 71)                                                                                                                                                                                           & 533                                                                                                                                                                                                                                                                                                                      \\\\\n",
       "\t1333 & По результатам рассмотрения вторых частей заявок принято решение о несоответствии требованиям, установленным документацией об электронном аукционе, всех вторых частей заявок на участие в нем или о соответствии указанным требованиям только одной второй части заявки на участие в нем (ч.13 ст.69 44-ФЗ)              & 309                                                                                                                                                                                                                                                                                                                      \\\\\n",
       "\t1336 & Принято решение о признании только одного участника закупки, подавшего заявку на участие в электронном аукционе, его участником. По результатам рассмотрения заявки единственного участника, данная заявка признана соответствующей требованиям Федерального закона № 44-ФЗ и документации об аукционе. (п. 3 ч.2 ст. 71) & 190                                                                                                                                                                                                                                                                                                                      \\\\\n",
       "\\end{tabular}\n"
      ],
      "text/markdown": [
       "\n",
       "| <!--/--> | smth | Freq | \n",
       "|---|---|---|---|---|---|---|\n",
       "| 1 |                                                                                                                                                                                                                                                                                                                           |  43                                                                                                                                                                                                                                                                                                                       | \n",
       "| 16 | «Автомир-тендер» Общество с ограниченной ответственностью(1-Победитель)                                                                                                                                                                                                                                                   |  63                                                                                                                                                                                                                                                                                                                       | \n",
       "| 17 | NA                                                                                                                                                                                                                                                                                                                        | 170                                                                                                                                                                                                                                                                                                                       | \n",
       "| 385 | Общество с ограниченной ответственностью \"Влада-авто\"(1-Победитель)                                                                                                                                                                                                                                                       | 118                                                                                                                                                                                                                                                                                                                       | \n",
       "| 1332 | По окончании срока подачи заявок на участие в электронном аукционе подана только одна заявка на участие в нем (п. 3 ч.1 ст. 71)                                                                                                                                                                                           | 533                                                                                                                                                                                                                                                                                                                       | \n",
       "| 1333 | По результатам рассмотрения вторых частей заявок принято решение о несоответствии требованиям, установленным документацией об электронном аукционе, всех вторых частей заявок на участие в нем или о соответствии указанным требованиям только одной второй части заявки на участие в нем (ч.13 ст.69 44-ФЗ)              | 309                                                                                                                                                                                                                                                                                                                       | \n",
       "| 1336 | Принято решение о признании только одного участника закупки, подавшего заявку на участие в электронном аукционе, его участником. По результатам рассмотрения заявки единственного участника, данная заявка признана соответствующей требованиям Федерального закона № 44-ФЗ и документации об аукционе. (п. 3 ч.2 ст. 71) | 190                                                                                                                                                                                                                                                                                                                       | \n",
       "\n",
       "\n"
      ],
      "text/plain": [
       "     smth                                                                                                                                                                                                                                                                                                                     \n",
       "1                                                                                                                                                                                                                                                                                                                             \n",
       "16   «Автомир-тендер» Общество с ограниченной ответственностью(1-Победитель)                                                                                                                                                                                                                                                  \n",
       "17   NA                                                                                                                                                                                                                                                                                                                       \n",
       "385  Общество с ограниченной ответственностью \"Влада-авто\"(1-Победитель)                                                                                                                                                                                                                                                      \n",
       "1332 По окончании срока подачи заявок на участие в электронном аукционе подана только одна заявка на участие в нем (п. 3 ч.1 ст. 71)                                                                                                                                                                                          \n",
       "1333 По результатам рассмотрения вторых частей заявок принято решение о несоответствии требованиям, установленным документацией об электронном аукционе, всех вторых частей заявок на участие в нем или о соответствии указанным требованиям только одной второй части заявки на участие в нем (ч.13 ст.69 44-ФЗ)             \n",
       "1336 Принято решение о признании только одного участника закупки, подавшего заявку на участие в электронном аукционе, его участником. По результатам рассмотрения заявки единственного участника, данная заявка признана соответствующей требованиям Федерального закона № 44-ФЗ и документации об аукционе. (п. 3 ч.2 ст. 71)\n",
       "     Freq\n",
       "1     43 \n",
       "16    63 \n",
       "17   170 \n",
       "385  118 \n",
       "1332 533 \n",
       "1333 309 \n",
       "1336 190 "
      ]
     },
     "metadata": {},
     "output_type": "display_data"
    }
   ],
   "source": [
    "dffreq[dffreq[,2] > 40, ]"
   ]
  },
  {
   "cell_type": "code",
   "execution_count": 376,
   "metadata": {
    "ExecuteTime": {
     "end_time": "2019-10-24T23:23:35.496101Z",
     "start_time": "2019-10-24T23:23:35.355Z"
    }
   },
   "outputs": [],
   "source": [
    "re_price  <-  c()\n",
    "\n",
    "for (i in realprice){\n",
    "    k = gsub(\"[^0-9.]\",\"\",gsub(\",\",\".\", as.character(i), fixed = TRUE))\n",
    "    re_price  <-  c(re_price, k)\n",
    "\n",
    "}\n"
   ]
  },
  {
   "cell_type": "code",
   "execution_count": 378,
   "metadata": {
    "ExecuteTime": {
     "end_time": "2019-10-24T23:24:06.298286Z",
     "start_time": "2019-10-24T23:24:06.290Z"
    }
   },
   "outputs": [],
   "source": [
    "# re_price"
   ]
  },
  {
   "cell_type": "code",
   "execution_count": 381,
   "metadata": {
    "ExecuteTime": {
     "end_time": "2019-10-24T23:24:50.559902Z",
     "start_time": "2019-10-24T23:24:50.551Z"
    }
   },
   "outputs": [],
   "source": [
    "goszak_df_kolich_3['the_real_price'] = re_price\n"
   ]
  },
  {
   "cell_type": "code",
   "execution_count": 382,
   "metadata": {
    "ExecuteTime": {
     "end_time": "2019-10-24T23:24:55.878021Z",
     "start_time": "2019-10-24T23:24:55.867Z"
    }
   },
   "outputs": [
    {
     "data": {
      "text/html": [
       "<ol class=list-inline>\n",
       "\t<li>4719</li>\n",
       "\t<li>33</li>\n",
       "</ol>\n"
      ],
      "text/latex": [
       "\\begin{enumerate*}\n",
       "\\item 4719\n",
       "\\item 33\n",
       "\\end{enumerate*}\n"
      ],
      "text/markdown": [
       "1. 4719\n",
       "2. 33\n",
       "\n",
       "\n"
      ],
      "text/plain": [
       "[1] 4719   33"
      ]
     },
     "metadata": {},
     "output_type": "display_data"
    }
   ],
   "source": [
    "goszak_df_kolich_3  %>%  dim()"
   ]
  },
  {
   "cell_type": "code",
   "execution_count": 930,
   "metadata": {
    "ExecuteTime": {
     "end_time": "2019-10-01T17:50:32.350060Z",
     "start_time": "2019-10-01T17:50:32.311Z"
    }
   },
   "outputs": [],
   "source": [
    "# goszak_df_kolich_3[is.na(goszak_df_kolich_3['the_real_price'] ) , ]$completed_car_purchase = rep(0,223)"
   ]
  },
  {
   "cell_type": "code",
   "execution_count": 384,
   "metadata": {
    "ExecuteTime": {
     "end_time": "2019-10-24T23:26:20.261272Z",
     "start_time": "2019-10-24T23:26:20.252Z"
    }
   },
   "outputs": [],
   "source": [
    "# goszak_df_kolich_3\n",
    "\n",
    "goszak_df_kolich_3['number_of_bids'] = goszak_df_kolich_3['number_of_bids'] - smsms "
   ]
  },
  {
   "cell_type": "code",
   "execution_count": 391,
   "metadata": {
    "ExecuteTime": {
     "end_time": "2019-10-24T23:32:57.520377Z",
     "start_time": "2019-10-24T23:32:26.169Z"
    }
   },
   "outputs": [],
   "source": [
    "write.xlsx(goszak_df_kolich_3, '4_goszak_with_price.xlsx')"
   ]
  },
  {
   "cell_type": "code",
   "execution_count": 426,
   "metadata": {
    "ExecuteTime": {
     "end_time": "2019-10-24T23:45:51.563146Z",
     "start_time": "2019-10-24T23:45:51.533Z"
    }
   },
   "outputs": [],
   "source": [
    "goszak_df_kolich  <-  goszak_df_kolich_3\n",
    "# tables_list  <-  tables_list_2"
   ]
  },
  {
   "cell_type": "code",
   "execution_count": 398,
   "metadata": {
    "ExecuteTime": {
     "end_time": "2019-10-24T23:37:09.960047Z",
     "start_time": "2019-10-24T23:37:09.946Z"
    }
   },
   "outputs": [],
   "source": [
    "tables_list_2  <- tables_list_2"
   ]
  },
  {
   "cell_type": "code",
   "execution_count": 428,
   "metadata": {
    "ExecuteTime": {
     "end_time": "2019-10-24T23:46:21.251302Z",
     "start_time": "2019-10-24T23:46:21.222Z"
    }
   },
   "outputs": [
    {
     "data": {
      "text/html": [
       "4719"
      ],
      "text/latex": [
       "4719"
      ],
      "text/markdown": [
       "4719"
      ],
      "text/plain": [
       "[1] 4719"
      ]
     },
     "metadata": {},
     "output_type": "display_data"
    },
    {
     "data": {
      "text/html": [
       "<ol class=list-inline>\n",
       "\t<li>4719</li>\n",
       "\t<li>33</li>\n",
       "</ol>\n"
      ],
      "text/latex": [
       "\\begin{enumerate*}\n",
       "\\item 4719\n",
       "\\item 33\n",
       "\\end{enumerate*}\n"
      ],
      "text/markdown": [
       "1. 4719\n",
       "2. 33\n",
       "\n",
       "\n"
      ],
      "text/plain": [
       "[1] 4719   33"
      ]
     },
     "metadata": {},
     "output_type": "display_data"
    }
   ],
   "source": [
    "tables_list_2  %>% length()\n",
    "goszak_df_kolich  %>%  dim()"
   ]
  },
  {
   "cell_type": "code",
   "execution_count": 406,
   "metadata": {
    "ExecuteTime": {
     "end_time": "2019-10-24T23:39:30.185981Z",
     "start_time": "2019-10-24T23:39:29.919Z"
    }
   },
   "outputs": [],
   "source": [
    "gru  <- c()\n",
    "\n",
    "for (i in 1:length(tables_list_2)){\n",
    "    \n",
    "    le  <-  dim(tables_list_2[[i]][[2]][[2]])[1] \n",
    "    gru  <-  c(gru, as.character(tables_list_2[[i]][[2]][[2]][le,3]))\n",
    "\n",
    "    \n",
    "}\n",
    "\n"
   ]
  },
  {
   "cell_type": "code",
   "execution_count": 408,
   "metadata": {
    "ExecuteTime": {
     "end_time": "2019-10-24T23:40:02.259641Z",
     "start_time": "2019-10-24T23:40:02.020Z"
    }
   },
   "outputs": [],
   "source": [
    "# gru"
   ]
  },
  {
   "cell_type": "code",
   "execution_count": 409,
   "metadata": {
    "ExecuteTime": {
     "end_time": "2019-10-24T23:40:05.006843Z",
     "start_time": "2019-10-24T23:40:04.997Z"
    }
   },
   "outputs": [],
   "source": [
    "gru[gru != 'Не пройден контроль по ч. 5. ст. 99 44-ФЗ'] = 1\n",
    "gru[gru == 'Не пройден контроль по ч. 5. ст. 99 44-ФЗ'] = 0"
   ]
  },
  {
   "cell_type": "code",
   "execution_count": 411,
   "metadata": {
    "ExecuteTime": {
     "end_time": "2019-10-24T23:40:26.638102Z",
     "start_time": "2019-10-24T23:40:26.629Z"
    }
   },
   "outputs": [
    {
     "data": {
      "text/html": [
       "31"
      ],
      "text/latex": [
       "31"
      ],
      "text/markdown": [
       "31"
      ],
      "text/plain": [
       "[1] 31"
      ]
     },
     "metadata": {},
     "output_type": "display_data"
    }
   ],
   "source": [
    "sum(gru == 0)"
   ]
  },
  {
   "cell_type": "code",
   "execution_count": 429,
   "metadata": {
    "ExecuteTime": {
     "end_time": "2019-10-24T23:46:26.138683Z",
     "start_time": "2019-10-24T23:46:26.130Z"
    }
   },
   "outputs": [],
   "source": [
    "goszak_df_kolich['control'] = gru "
   ]
  },
  {
   "cell_type": "code",
   "execution_count": 329,
   "metadata": {
    "ExecuteTime": {
     "end_time": "2019-09-30T16:39:53.228419Z",
     "start_time": "2019-09-30T16:39:53.219Z"
    }
   },
   "outputs": [],
   "source": [
    "library(stringr)"
   ]
  },
  {
   "cell_type": "code",
   "execution_count": 98,
   "metadata": {
    "ExecuteTime": {
     "end_time": "2019-10-17T10:08:58.933336Z",
     "start_time": "2019-10-17T10:08:58.924Z"
    }
   },
   "outputs": [],
   "source": [
    "i = 502\n",
    "tab_tmp = tables_list_2[[i]][[1]][[8]]\n"
   ]
  },
  {
   "cell_type": "code",
   "execution_count": 101,
   "metadata": {
    "ExecuteTime": {
     "end_time": "2019-10-17T10:09:50.088875Z",
     "start_time": "2019-10-17T10:09:49.263Z"
    }
   },
   "outputs": [
    {
     "name": "stderr",
     "output_type": "stream",
     "text": [
      "Warning message in 2:dim(tab_tmp):\n",
      "“numerical expression has 2 elements: only the first used”"
     ]
    },
    {
     "data": {
      "text/html": [
       "<ol class=list-inline>\n",
       "\t<li>'984 653,33'</li>\n",
       "\t<li>NA</li>\n",
       "</ol>\n"
      ],
      "text/latex": [
       "\\begin{enumerate*}\n",
       "\\item '984 653,33'\n",
       "\\item NA\n",
       "\\end{enumerate*}\n"
      ],
      "text/markdown": [
       "1. '984 653,33'\n",
       "2. NA\n",
       "\n",
       "\n"
      ],
      "text/plain": [
       "[1] \"984 653,33\" NA          "
      ]
     },
     "metadata": {},
     "output_type": "display_data"
    }
   ],
   "source": [
    "# sum_1  <-  \n",
    "unique(as.character(tab_tmp[2:dim(tab_tmp), 4])) "
   ]
  },
  {
   "cell_type": "code",
   "execution_count": 414,
   "metadata": {
    "ExecuteTime": {
     "end_time": "2019-10-24T23:41:31.030387Z",
     "start_time": "2019-10-24T23:41:30.619Z"
    }
   },
   "outputs": [
    {
     "name": "stderr",
     "output_type": "stream",
     "text": [
      "Warning message in which(!is.na(as.integer(as.character(tab_tmp[2:dim(tab_tmp)[1], :\n",
      "“NAs introduced by coercion”Warning message in which(!is.na(as.integer(as.character(tab_tmp[2:dim(tab_tmp)[1], :\n",
      "“NAs introduced by coercion”Warning message in which(!is.na(as.integer(as.character(tab_tmp[2:dim(tab_tmp)[1], :\n",
      "“NAs introduced by coercion”Warning message in which(!is.na(as.integer(as.character(tab_tmp[2:dim(tab_tmp)[1], :\n",
      "“NAs introduced by coercion”Warning message in which(!is.na(as.integer(as.character(tab_tmp[2:dim(tab_tmp)[1], :\n",
      "“NAs introduced by coercion”Warning message in which(!is.na(as.integer(as.character(tab_tmp[2:dim(tab_tmp)[1], :\n",
      "“NAs introduced by coercion”Warning message in which(!is.na(as.integer(as.character(tab_tmp[2:dim(tab_tmp)[1], :\n",
      "“NAs introduced by coercion”Warning message in which(!is.na(as.integer(as.character(tab_tmp[2:dim(tab_tmp)[1], :\n",
      "“NAs introduced by coercion”Warning message in which(!is.na(as.integer(as.character(tab_tmp[2:dim(tab_tmp)[1], :\n",
      "“NAs introduced by coercion”Warning message in which(!is.na(as.integer(as.character(tab_tmp[2:dim(tab_tmp)[1], :\n",
      "“NAs introduced by coercion”Warning message in which(!is.na(as.integer(as.character(tab_tmp[2:dim(tab_tmp)[1], :\n",
      "“NAs introduced by coercion”Warning message in which(!is.na(as.integer(as.character(tab_tmp[2:dim(tab_tmp)[1], :\n",
      "“NAs introduced by coercion”"
     ]
    }
   ],
   "source": [
    "kol  <- c()\n",
    "check  <- c()\n",
    "# car  <-  c()\n",
    "# check_price  <-  c()\n",
    "# price   <-  c()\n",
    "lll  <- length(tables_list_2)\n",
    "# lll <- 3\n",
    "for (i in 1:lll){\n",
    "    \n",
    "    tab_tmp = tables_list_2[[i]][[1]][[8]]\n",
    "    if (dim(tab_tmp)[1] ==1){\n",
    "        tab_tmp = tables_list_2[[i]][[1]][[7]]\n",
    "    }\n",
    "    sum_1  <-  length(which(!is.na(as.integer(as.character(tab_tmp[2:dim(tab_tmp)[1], 4]))))) \n",
    "\n",
    "    nn_1  <-  length(which(!is.na(unique(as.character(tab_tmp[2:dim(tab_tmp)[1], 5]))))) \n",
    "\n",
    "    kol  <-  c(kol, sum_1 )\n",
    "    check  <-  c(check, nn_1)\n",
    "#     check  <-  c(check, as.character(tab_tmp[1, 4]))\n",
    "#     check_price  <-  c(check_price, as.character(tab_tmp[dim(tab_tmp)[1], 1]))\n",
    "#     price  <- c(price, gsub(\"[^0-9.-]\",\"\",gsub(\",\",\".\", as.character(tab_tmp[dim(tab_tmp)[1],2]), fixed = TRUE)))\n",
    "}\n"
   ]
  },
  {
   "cell_type": "code",
   "execution_count": 418,
   "metadata": {
    "ExecuteTime": {
     "end_time": "2019-10-24T23:43:35.277931Z",
     "start_time": "2019-10-24T23:43:35.262Z"
    }
   },
   "outputs": [
    {
     "data": {
      "text/html": [
       "4719"
      ],
      "text/latex": [
       "4719"
      ],
      "text/markdown": [
       "4719"
      ],
      "text/plain": [
       "[1] 4719"
      ]
     },
     "metadata": {},
     "output_type": "display_data"
    },
    {
     "data": {
      "text/html": [
       "4719"
      ],
      "text/latex": [
       "4719"
      ],
      "text/markdown": [
       "4719"
      ],
      "text/plain": [
       "[1] 4719"
      ]
     },
     "metadata": {},
     "output_type": "display_data"
    },
    {
     "data": {
      "text/html": [
       "4719"
      ],
      "text/latex": [
       "4719"
      ],
      "text/markdown": [
       "4719"
      ],
      "text/plain": [
       "[1] 4719"
      ]
     },
     "metadata": {},
     "output_type": "display_data"
    }
   ],
   "source": [
    "lll\n",
    "length(kol)\n",
    "length(check)"
   ]
  },
  {
   "cell_type": "code",
   "execution_count": 430,
   "metadata": {
    "ExecuteTime": {
     "end_time": "2019-10-24T23:46:32.031432Z",
     "start_time": "2019-10-24T23:46:32.023Z"
    }
   },
   "outputs": [],
   "source": [
    "goszak_df_kolich['check'] = check"
   ]
  },
  {
   "cell_type": "code",
   "execution_count": 419,
   "metadata": {
    "ExecuteTime": {
     "end_time": "2019-10-24T23:44:23.029528Z",
     "start_time": "2019-10-24T23:44:23.019Z"
    }
   },
   "outputs": [],
   "source": [
    "kol[kol==0] = 1\n",
    "kol[kol>1] = 0"
   ]
  },
  {
   "cell_type": "code",
   "execution_count": 431,
   "metadata": {
    "ExecuteTime": {
     "end_time": "2019-10-24T23:46:34.503996Z",
     "start_time": "2019-10-24T23:46:34.490Z"
    }
   },
   "outputs": [],
   "source": [
    "goszak_df_kolich['diff'] = kol"
   ]
  },
  {
   "cell_type": "code",
   "execution_count": 440,
   "metadata": {
    "ExecuteTime": {
     "end_time": "2019-10-24T23:47:53.362118Z",
     "start_time": "2019-10-24T23:47:53.345Z"
    }
   },
   "outputs": [
    {
     "data": {
      "text/html": [
       "<ol class=list-inline>\n",
       "\t<li>4502</li>\n",
       "\t<li>36</li>\n",
       "</ol>\n"
      ],
      "text/latex": [
       "\\begin{enumerate*}\n",
       "\\item 4502\n",
       "\\item 36\n",
       "\\end{enumerate*}\n"
      ],
      "text/markdown": [
       "1. 4502\n",
       "2. 36\n",
       "\n",
       "\n"
      ],
      "text/plain": [
       "[1] 4502   36"
      ]
     },
     "metadata": {},
     "output_type": "display_data"
    }
   ],
   "source": [
    "goszak_df_kolich  %>%  dim()"
   ]
  },
  {
   "cell_type": "code",
   "execution_count": 436,
   "metadata": {
    "ExecuteTime": {
     "end_time": "2019-10-24T23:47:12.753156Z",
     "start_time": "2019-10-24T23:47:12.659Z"
    }
   },
   "outputs": [],
   "source": [
    "goszak_df_kolich = goszak_df_kolich[goszak_df_kolich['control'] != 0, ]"
   ]
  },
  {
   "cell_type": "code",
   "execution_count": 127,
   "metadata": {
    "ExecuteTime": {
     "end_time": "2019-10-17T10:28:22.267694Z",
     "start_time": "2019-10-17T10:28:22.256Z"
    }
   },
   "outputs": [],
   "source": [
    "# goszak_df_kolich[((goszak_df_kolich['diff'] == 0) & (goszak_df_kolich['check'] == 1)) , ]   "
   ]
  },
  {
   "cell_type": "code",
   "execution_count": 438,
   "metadata": {
    "ExecuteTime": {
     "end_time": "2019-10-24T23:47:21.230325Z",
     "start_time": "2019-10-24T23:47:21.201Z"
    }
   },
   "outputs": [
    {
     "data": {
      "text/html": [
       "<ol class=list-inline>\n",
       "\t<li>4481</li>\n",
       "\t<li>36</li>\n",
       "</ol>\n"
      ],
      "text/latex": [
       "\\begin{enumerate*}\n",
       "\\item 4481\n",
       "\\item 36\n",
       "\\end{enumerate*}\n"
      ],
      "text/markdown": [
       "1. 4481\n",
       "2. 36\n",
       "\n",
       "\n"
      ],
      "text/plain": [
       "[1] 4481   36"
      ]
     },
     "metadata": {},
     "output_type": "display_data"
    },
    {
     "data": {
      "text/html": [
       "<ol class=list-inline>\n",
       "\t<li>4502</li>\n",
       "\t<li>36</li>\n",
       "</ol>\n"
      ],
      "text/latex": [
       "\\begin{enumerate*}\n",
       "\\item 4502\n",
       "\\item 36\n",
       "\\end{enumerate*}\n"
      ],
      "text/markdown": [
       "1. 4502\n",
       "2. 36\n",
       "\n",
       "\n"
      ],
      "text/plain": [
       "[1] 4502   36"
      ]
     },
     "metadata": {},
     "output_type": "display_data"
    },
    {
     "data": {
      "text/html": [
       "<ol class=list-inline>\n",
       "\t<li>4688</li>\n",
       "\t<li>36</li>\n",
       "</ol>\n"
      ],
      "text/latex": [
       "\\begin{enumerate*}\n",
       "\\item 4688\n",
       "\\item 36\n",
       "\\end{enumerate*}\n"
      ],
      "text/markdown": [
       "1. 4688\n",
       "2. 36\n",
       "\n",
       "\n"
      ],
      "text/plain": [
       "[1] 4688   36"
      ]
     },
     "metadata": {},
     "output_type": "display_data"
    }
   ],
   "source": [
    "goszak_df_kolich[(goszak_df_kolich['diff'] != 0)  , ]   %>%  dim()\n",
    "goszak_df_kolich[(goszak_df_kolich['diff'] != 0) | ((goszak_df_kolich['diff'] == 0) & (goszak_df_kolich['check'] == 1)) , ]   %>%  dim()\n",
    "goszak_df_kolich  %>%  dim()"
   ]
  },
  {
   "cell_type": "code",
   "execution_count": 439,
   "metadata": {
    "ExecuteTime": {
     "end_time": "2019-10-24T23:47:45.357731Z",
     "start_time": "2019-10-24T23:47:45.332Z"
    }
   },
   "outputs": [],
   "source": [
    "goszak_df_kolich = goszak_df_kolich[(goszak_df_kolich['diff'] != 0) | ((goszak_df_kolich['diff'] == 0) & (goszak_df_kolich['check'] == 1)) , ]  "
   ]
  },
  {
   "cell_type": "code",
   "execution_count": 441,
   "metadata": {
    "ExecuteTime": {
     "end_time": "2019-10-24T23:49:22.301524Z",
     "start_time": "2019-10-24T23:48:47.929Z"
    }
   },
   "outputs": [],
   "source": [
    "write.xlsx(goszak_df_kolich, '4_clean_goszak_df.xlsx')"
   ]
  }
 ],
 "metadata": {
  "hide_input": false,
  "kernelspec": {
   "display_name": "R 3.5.1",
   "language": "R",
   "name": "ir"
  },
  "language_info": {
   "codemirror_mode": "r",
   "file_extension": ".r",
   "mimetype": "text/x-r-source",
   "name": "R",
   "pygments_lexer": "r",
   "version": "3.5.2"
  },
  "latex_envs": {
   "LaTeX_envs_menu_present": true,
   "autoclose": true,
   "autocomplete": true,
   "bibliofile": "biblio.bib",
   "cite_by": "apalike",
   "current_citInitial": 1,
   "eqLabelWithNumbers": true,
   "eqNumInitial": 1,
   "hotkeys": {
    "equation": "Ctrl-E",
    "itemize": "Ctrl-I"
   },
   "labels_anchors": false,
   "latex_user_defs": false,
   "report_style_numbering": false,
   "user_envs_cfg": false
  },
  "toc": {
   "base_numbering": 1,
   "nav_menu": {},
   "number_sections": true,
   "sideBar": true,
   "skip_h1_title": false,
   "title_cell": "Table of Contents",
   "title_sidebar": "Contents",
   "toc_cell": false,
   "toc_position": {},
   "toc_section_display": true,
   "toc_window_display": false
  },
  "varInspector": {
   "cols": {
    "lenName": 16,
    "lenType": 16,
    "lenVar": 40
   },
   "kernels_config": {
    "python": {
     "delete_cmd_postfix": "",
     "delete_cmd_prefix": "del ",
     "library": "var_list.py",
     "varRefreshCmd": "print(var_dic_list())"
    },
    "r": {
     "delete_cmd_postfix": ") ",
     "delete_cmd_prefix": "rm(",
     "library": "var_list.r",
     "varRefreshCmd": "cat(var_dic_list()) "
    }
   },
   "types_to_exclude": [
    "module",
    "function",
    "builtin_function_or_method",
    "instance",
    "_Feature"
   ],
   "window_display": false
  }
 },
 "nbformat": 4,
 "nbformat_minor": 2
}
