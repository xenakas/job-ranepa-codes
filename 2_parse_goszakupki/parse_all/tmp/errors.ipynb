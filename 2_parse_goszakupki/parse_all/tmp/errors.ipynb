{
 "cells": [
  {
   "cell_type": "code",
   "execution_count": 1,
   "metadata": {
    "ExecuteTime": {
     "end_time": "2019-11-06T18:31:31.617969Z",
     "start_time": "2019-11-06T18:31:31.398936Z"
    }
   },
   "outputs": [],
   "source": [
    "import pandas as pd\n",
    "df =  pd.read_csv('tmp_errors.csv')"
   ]
  },
  {
   "cell_type": "code",
   "execution_count": 7,
   "metadata": {
    "ExecuteTime": {
     "end_time": "2019-11-06T18:34:53.153321Z",
     "start_time": "2019-11-06T18:34:53.148830Z"
    }
   },
   "outputs": [],
   "source": [
    "arr = []\n",
    "for k, i in enumerate(df['0'].values):\n",
    "    if i == 'taberror':\n",
    "        arr.append(str(df.iloc[k-1,0]) + '.docx')\n",
    "        \n"
   ]
  },
  {
   "cell_type": "code",
   "execution_count": 12,
   "metadata": {
    "ExecuteTime": {
     "end_time": "2019-11-06T18:35:56.202011Z",
     "start_time": "2019-11-06T18:35:56.195388Z"
    }
   },
   "outputs": [
    {
     "data": {
      "text/plain": [
       "'10046.docx 10147.docx 10152.docx 10153.docx 10202.docx 10361.docx 10385.docx 10635.docx 10743.docx 10873.docx 1093.docx 10994.docx 11105.docx 11107.docx 11182.docx 11778.docx 11826.docx 12044.docx 121.docx 12295.docx 12605.docx 12700.docx 12725.docx 12862.docx 12915.docx 13238.docx 13548.docx 14199.docx 14307.docx 14483.docx 14878.docx 1548.docx 15635.docx 15903.docx 16246.docx 1637.docx 16413.docx 16440.docx 16615.docx 17011.docx 17170.docx 17191.docx 17427.docx 17448.docx 17486.docx 17653.docx 17922.docx 18195.docx 18536.docx 18558.docx 18570.docx 18674.docx 18691.docx 18727.docx 18982.docx 19205.docx 19379.docx 19856.docx 19970.docx 20034.docx 20097.docx 20439.docx 20678.docx 20761.docx 20833.docx 20916.docx 21281.docx 21340.docx 21424.docx 21646.docx 21673.docx 21720.docx 21934.docx 22201.docx 22284.docx 22332.docx 22666.docx 22802.docx 2295.docx 23133.docx 23186.docx 2330.docx 23361.docx 23486.docx 24091.docx 24096.docx 24252.docx 2484.docx 2487.docx 24942.docx 24958.docx 25208.docx 25264.docx 25304.docx 25403.docx 25502.docx 25516.docx 267.docx 2773.docx 3303.docx 3694.docx 4358.docx 4376.docx 4608.docx 5044.docx 5141.docx 5266.docx 5268.docx 5298.docx 5335.docx 5901.docx 5920.docx 5923.docx 5995.docx 600.docx 6025.docx 6118.docx 7027.docx 7244.docx 7574.docx 7595.docx 766.docx 788.docx 7943.docx 8331.docx 8345.docx 8366.docx 8861.docx 89.docx 8951.docx 9030.docx 9165.docx 9169.docx 9503.docx 9674.docx 9728.docx 9854.docx 9896.docx'"
      ]
     },
     "execution_count": 12,
     "metadata": {},
     "output_type": "execute_result"
    }
   ],
   "source": [
    "' '.join(np.unique(np.array(arr))[:-1])\n"
   ]
  }
 ],
 "metadata": {
  "hide_input": false,
  "kernelspec": {
   "display_name": "Python 3.6 (for geoplots)",
   "language": "python",
   "name": "geoplots3.6"
  },
  "language_info": {
   "codemirror_mode": {
    "name": "ipython",
    "version": 3
   },
   "file_extension": ".py",
   "mimetype": "text/x-python",
   "name": "python",
   "nbconvert_exporter": "python",
   "pygments_lexer": "ipython3",
   "version": "3.6.7"
  },
  "latex_envs": {
   "LaTeX_envs_menu_present": true,
   "autoclose": true,
   "autocomplete": true,
   "bibliofile": "biblio.bib",
   "cite_by": "apalike",
   "current_citInitial": 1,
   "eqLabelWithNumbers": true,
   "eqNumInitial": 1,
   "hotkeys": {
    "equation": "Ctrl-E",
    "itemize": "Ctrl-I"
   },
   "labels_anchors": false,
   "latex_user_defs": false,
   "report_style_numbering": false,
   "user_envs_cfg": false
  },
  "toc": {
   "base_numbering": 1,
   "nav_menu": {},
   "number_sections": true,
   "sideBar": true,
   "skip_h1_title": false,
   "title_cell": "Table of Contents",
   "title_sidebar": "Contents",
   "toc_cell": false,
   "toc_position": {},
   "toc_section_display": true,
   "toc_window_display": false
  },
  "varInspector": {
   "cols": {
    "lenName": 16,
    "lenType": 16,
    "lenVar": 40
   },
   "kernels_config": {
    "python": {
     "delete_cmd_postfix": "",
     "delete_cmd_prefix": "del ",
     "library": "var_list.py",
     "varRefreshCmd": "print(var_dic_list())"
    },
    "r": {
     "delete_cmd_postfix": ") ",
     "delete_cmd_prefix": "rm(",
     "library": "var_list.r",
     "varRefreshCmd": "cat(var_dic_list()) "
    }
   },
   "types_to_exclude": [
    "module",
    "function",
    "builtin_function_or_method",
    "instance",
    "_Feature"
   ],
   "window_display": false
  }
 },
 "nbformat": 4,
 "nbformat_minor": 2
}
