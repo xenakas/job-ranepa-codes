{
 "cells": [
  {
   "cell_type": "code",
   "execution_count": 3,
   "metadata": {
    "ExecuteTime": {
     "end_time": "2019-10-13T17:15:25.193318Z",
     "start_time": "2019-10-13T17:15:25.169Z"
    }
   },
   "outputs": [],
   "source": [
    "library(RSelenium)\n",
    "library(XML)\n",
    "library(janitor) \n",
    "library(lubridate)\n",
    "library(magrittr)\n",
    "library(dplyr)\n",
    "library(xlsx)\n",
    "library(readxl)"
   ]
  },
  {
   "cell_type": "code",
   "execution_count": 6,
   "metadata": {
    "ExecuteTime": {
     "end_time": "2019-10-13T17:18:25.763814Z",
     "start_time": "2019-10-13T17:18:17.466Z"
    }
   },
   "outputs": [],
   "source": [
    "goszak_df_kolich = read_excel('goszak_complete.xlsx') #, header=TRUE, colClasses=NA)\n",
    "\n",
    "# goszak_df = goszak_df  %>% clean_names()\n",
    "# goszak_df['all_indexes'] = goszak_df['index_name']"
   ]
  },
  {
   "cell_type": "code",
   "execution_count": 5,
   "metadata": {
    "ExecuteTime": {
     "end_time": "2019-10-13T17:18:15.590584Z",
     "start_time": "2019-10-13T17:18:15.108Z"
    }
   },
   "outputs": [],
   "source": [
    "tables_list  <-  readRDS('all_goszak_pages.rds')"
   ]
  },
  {
   "cell_type": "code",
   "execution_count": 10,
   "metadata": {
    "ExecuteTime": {
     "end_time": "2019-10-13T17:26:34.291902Z",
     "start_time": "2019-10-13T17:26:29.629Z"
    }
   },
   "outputs": [
    {
     "data": {
      "text/html": [
       "<ol class=list-inline>\n",
       "\t<li>784</li>\n",
       "\t<li>34</li>\n",
       "</ol>\n"
      ],
      "text/latex": [
       "\\begin{enumerate*}\n",
       "\\item 784\n",
       "\\item 34\n",
       "\\end{enumerate*}\n"
      ],
      "text/markdown": [
       "1. 784\n",
       "2. 34\n",
       "\n",
       "\n"
      ],
      "text/plain": [
       "[1] 784  34"
      ]
     },
     "metadata": {},
     "output_type": "display_data"
    }
   ],
   "source": [
    "goszak_df_kolich  %>%  dim()"
   ]
  },
  {
   "cell_type": "code",
   "execution_count": 11,
   "metadata": {
    "ExecuteTime": {
     "end_time": "2019-10-13T17:26:44.237732Z",
     "start_time": "2019-10-13T17:26:34.111Z"
    }
   },
   "outputs": [
    {
     "data": {
      "text/html": [
       "<table>\n",
       "<thead><tr><th scope=col>X__2</th><th scope=col>new_index</th><th scope=col>X__1</th><th scope=col>n</th><th scope=col>index_name</th><th scope=col>all_indexes</th><th scope=col>purchase_number</th><th scope=col>done</th><th scope=col>completed_car_purchase</th><th scope=col>price</th><th scope=col>⋯</th><th scope=col>год_выпуска</th><th scope=col>мощность_л_с</th><th scope=col>потребление_топлива_городской_цикл_л_100км</th><th scope=col>filename</th><th scope=col>sha_id</th><th scope=col>kolichetvo_uch</th><th scope=col>zaversch</th><th scope=col>number_of_bids</th><th scope=col>the_real_price</th><th scope=col>num_of_bb</th></tr></thead>\n",
       "<tbody>\n",
       "\t<tr><td>1                                                                    </td><td> 1                                                                   </td><td>1                                                                    </td><td>366                                                                  </td><td>3                                                                    </td><td>3                                                                    </td><td>0372200026816000053                                                  </td><td>1                                                                    </td><td>1.0                                                                  </td><td>607902.33                                                            </td><td>⋯                                                                    </td><td>2016                                                                 </td><td>90 л.с.                                                              </td><td>9.8                                                                  </td><td>1ba23d353bf63fb0a234f2b6a9d14e1037f4a60148f3f585a9b702dc5c14a630.docx</td><td>1ba23d353bf63fb0a234f2b6a9d14e1037f4a60148f3f585a9b702dc5c14a630     </td><td>1                                                                    </td><td>1                                                                    </td><td>1                                                                    </td><td>607902.33                                                            </td><td>1                                                                    </td></tr>\n",
       "\t<tr><td>2                                                                    </td><td> 2                                                                   </td><td>2                                                                    </td><td>1158                                                                 </td><td>5                                                                    </td><td>5, 25                                                                </td><td>0832200006616001265                                                  </td><td>NA                                                                   </td><td>1.0                                                                  </td><td>999833.33                                                            </td><td>⋯                                                                    </td><td>NA                                                                   </td><td>NA                                                                   </td><td>NA                                                                   </td><td>024c72855e2fba691b939d0086663ad1443796412de9f317246cfc16f7b101b5.docx</td><td>024c72855e2fba691b939d0086663ad1443796412de9f317246cfc16f7b101b5     </td><td>не одна                                                              </td><td>1                                                                    </td><td>2                                                                    </td><td>999833.32                                                            </td><td>1                                                                    </td></tr>\n",
       "\t<tr><td>3                                                                    </td><td> 3                                                                   </td><td>3                                                                    </td><td>1361                                                                 </td><td>6                                                                    </td><td>6                                                                    </td><td>0146300031216000008                                                  </td><td>NA                                                                   </td><td>1.0                                                                  </td><td>685000                                                               </td><td>⋯                                                                    </td><td>NA                                                                   </td><td>NA                                                                   </td><td>NA                                                                   </td><td>ca66aceb8b70fb06cf8baf7a97d241f4840f2d595544e42bd6c6baec29dcc7bc.docx</td><td>ca66aceb8b70fb06cf8baf7a97d241f4840f2d595544e42bd6c6baec29dcc7bc     </td><td>1                                                                    </td><td>1                                                                    </td><td>1                                                                    </td><td>684000.00                                                            </td><td>1                                                                    </td></tr>\n",
       "\t<tr><td>4                                                                    </td><td> 4                                                                   </td><td>4                                                                    </td><td>2680                                                                 </td><td>8                                                                    </td><td>8, 36                                                                </td><td>0328300015616000270                                                  </td><td>NA                                                                   </td><td>1.0                                                                  </td><td>383900                                                               </td><td>⋯                                                                    </td><td>2016                                                                 </td><td>NA                                                                   </td><td>NA                                                                   </td><td>f4a04f18a5305d9b15eb45bae4532fdaa9f4360660e24ec382148c70fba137db.docx</td><td>f4a04f18a5305d9b15eb45bae4532fdaa9f4360660e24ec382148c70fba137db     </td><td>не одна                                                              </td><td>1                                                                    </td><td>2                                                                    </td><td>383900.00                                                            </td><td>2                                                                    </td></tr>\n",
       "\t<tr><td>5                                                                    </td><td> 5                                                                   </td><td>6                                                                    </td><td>4168                                                                 </td><td>12                                                                   </td><td>12                                                                   </td><td>0845300015016000715                                                  </td><td>NA                                                                   </td><td>1.0                                                                  </td><td>998456                                                               </td><td>⋯                                                                    </td><td>2016                                                                 </td><td>NA                                                                   </td><td>NA                                                                   </td><td>da80d318cb1666e928232bc3833f0aff402d841c732486c0c0c15ede407c96e3.docx</td><td>da80d318cb1666e928232bc3833f0aff402d841c732486c0c0c15ede407c96e3     </td><td>1                                                                    </td><td>1                                                                    </td><td>1                                                                    </td><td>998456.00                                                            </td><td>1                                                                    </td></tr>\n",
       "\t<tr><td>6                                                                    </td><td> 6                                                                   </td><td>7                                                                    </td><td>4450                                                                 </td><td>13                                                                   </td><td>13, 28, 40                                                           </td><td>0173200024416000142                                                  </td><td>NA                                                                   </td><td>1.0                                                                  </td><td>2999666.66                                                           </td><td>⋯                                                                    </td><td>2016                                                                 </td><td>NA                                                                   </td><td>NA                                                                   </td><td>382dfe4e26eb371045ae699256a2c174518fa9a97c8b714986a3ae5775693714.docx</td><td>382dfe4e26eb371045ae699256a2c174518fa9a97c8b714986a3ae5775693714     </td><td>не одна                                                              </td><td>1                                                                    </td><td>2                                                                    </td><td>2939673.33                                                           </td><td>1                                                                    </td></tr>\n",
       "\t<tr><td>7                                                                    </td><td> 8                                                                   </td><td>9                                                                    </td><td>4616                                                                 </td><td>16                                                                   </td><td>16, 62                                                               </td><td>0328300172416000002                                                  </td><td>NA                                                                   </td><td>1.0                                                                  </td><td>599666.66                                                            </td><td>⋯                                                                    </td><td>NA                                                                   </td><td>NA                                                                   </td><td>NA                                                                   </td><td>9ecb011bc06b0b10f17d419b1ecc68e59f6ae68c0fdb61a9f85ff1faa0585dcf.docx</td><td>9ecb011bc06b0b10f17d419b1ecc68e59f6ae68c0fdb61a9f85ff1faa0585dcf     </td><td>не одна                                                              </td><td>1                                                                    </td><td>2                                                                    </td><td>557690.04                                                            </td><td>2                                                                    </td></tr>\n",
       "\t<tr><td>8                                                                    </td><td> 9                                                                   </td><td>10                                                                   </td><td>5298                                                                 </td><td>17                                                                   </td><td>17                                                                   </td><td>0151300046117000004                                                  </td><td>NA                                                                   </td><td>1.0                                                                  </td><td>1e+06                                                                </td><td>⋯                                                                    </td><td>NA                                                                   </td><td>NA                                                                   </td><td>NA                                                                   </td><td>2d4041698e59ada41cc9ab6b56c8c9da72cd8bc190e96cb100e65620e36615fc.docx</td><td>2d4041698e59ada41cc9ab6b56c8c9da72cd8bc190e96cb100e65620e36615fc     </td><td>1                                                                    </td><td>1                                                                    </td><td>1                                                                    </td><td>1000000.00                                                           </td><td>1                                                                    </td></tr>\n",
       "\t<tr><td>9                                                                    </td><td>10                                                                   </td><td>11                                                                   </td><td>5329                                                                 </td><td>18                                                                   </td><td>18, 54                                                               </td><td>0142200001316016312                                                  </td><td>NA                                                                   </td><td>1.0                                                                  </td><td>1315000                                                              </td><td>⋯                                                                    </td><td>NA                                                                   </td><td>NA                                                                   </td><td>NA                                                                   </td><td>0db5c8f6f0314793cc8b93cf7211471637b5e058a603a95c97b96bdf13c3096e.docx</td><td>0db5c8f6f0314793cc8b93cf7211471637b5e058a603a95c97b96bdf13c3096e     </td><td>не одна                                                              </td><td>1                                                                    </td><td>2                                                                    </td><td>1308425.00                                                           </td><td>1                                                                    </td></tr>\n",
       "\t<tr><td>10                                                                   </td><td>11                                                                   </td><td>12                                                                   </td><td>5586                                                                 </td><td>20                                                                   </td><td>20                                                                   </td><td>0303300076016000012                                                  </td><td>NA                                                                   </td><td>1.0                                                                  </td><td>1e+06                                                                </td><td>⋯                                                                    </td><td>2016                                                                 </td><td>NA                                                                   </td><td>NA                                                                   </td><td>6ba44c495d16297120b6114fec7e498b3ab76f2592b1f0dbeb38a1f345bef7bf.docx</td><td>6ba44c495d16297120b6114fec7e498b3ab76f2592b1f0dbeb38a1f345bef7bf     </td><td>1                                                                    </td><td>1                                                                    </td><td>1                                                                    </td><td>1000000.00                                                           </td><td>1                                                                    </td></tr>\n",
       "\t<tr><td>11                                                                   </td><td>12                                                                   </td><td>13                                                                   </td><td>6317                                                                 </td><td>21                                                                   </td><td>21, 23                                                               </td><td>0319300156216000034                                                  </td><td>NA                                                                   </td><td>1.0                                                                  </td><td>1500000                                                              </td><td>⋯                                                                    </td><td>NA                                                                   </td><td>NA                                                                   </td><td>NA                                                                   </td><td>a8ca860f6751f573ed129d0f4ad805c2165a80d920e9b309de1da4dc64ccf436.docx</td><td>a8ca860f6751f573ed129d0f4ad805c2165a80d920e9b309de1da4dc64ccf436     </td><td>1                                                                    </td><td>1                                                                    </td><td>1                                                                    </td><td>1500000.00                                                           </td><td>1                                                                    </td></tr>\n",
       "\t<tr><td>12                                                                   </td><td>14                                                                   </td><td>17                                                                   </td><td>8187                                                                 </td><td>30                                                                   </td><td>30                                                                   </td><td>0227100000316000110                                                  </td><td>NA                                                                   </td><td>1.0                                                                  </td><td>8936400.06                                                           </td><td>⋯                                                                    </td><td>NA                                                                   </td><td>NA                                                                   </td><td>NA                                                                   </td><td>6901dffb49ed541999a2b76c9bdb6b934e6e96855980a2e59cb1e444c111182c.doc </td><td>6901dffb49ed541999a2b76c9bdb6b934e6e96855980a2e59cb1e444c111182c     </td><td>1                                                                    </td><td>1                                                                    </td><td>1                                                                    </td><td>8936400.06                                                           </td><td>1                                                                    </td></tr>\n",
       "\t<tr><td>13                                                                   </td><td>15                                                                   </td><td>18                                                                   </td><td>8350                                                                 </td><td>32                                                                   </td><td>32                                                                   </td><td>0301300502616000006                                                  </td><td>NA                                                                   </td><td>1.0                                                                  </td><td>727000                                                               </td><td>⋯                                                                    </td><td>NA                                                                   </td><td>NA                                                                   </td><td>NA                                                                   </td><td>204dd5464c3f69a2e92e780a480a6736555a9dae52a4b1bec819210835e23b6b.doc </td><td>204dd5464c3f69a2e92e780a480a6736555a9dae52a4b1bec819210835e23b6b     </td><td>не одна                                                              </td><td>1                                                                    </td><td>2                                                                    </td><td>687015.00                                                            </td><td>2                                                                    </td></tr>\n",
       "\t<tr><td>14                                                                   </td><td>16                                                                   </td><td>19                                                                   </td><td>8473                                                                 </td><td>33                                                                   </td><td>33, 37                                                               </td><td>0146300018716000003                                                  </td><td>NA                                                                   </td><td>1.0                                                                  </td><td>415000                                                               </td><td>⋯                                                                    </td><td>NA                                                                   </td><td>NA                                                                   </td><td>NA                                                                   </td><td>fb87a2cb1709ad9f3254a78203097612b743a71452c249f13eb40b9e3d9919ee.doc </td><td>fb87a2cb1709ad9f3254a78203097612b743a71452c249f13eb40b9e3d9919ee     </td><td>не одна                                                              </td><td>1                                                                    </td><td>2                                                                    </td><td>392260.00                                                            </td><td>2                                                                    </td></tr>\n",
       "\t<tr><td>15                                                                   </td><td>17                                                                   </td><td>20                                                                   </td><td>8760                                                                 </td><td>34                                                                   </td><td>34, 48, 60, 70                                                       </td><td>0236100000116000347                                                  </td><td>NA                                                                   </td><td>1.0                                                                  </td><td>6803020                                                              </td><td>⋯                                                                    </td><td>NA                                                                   </td><td>NA                                                                   </td><td>NA                                                                   </td><td>c62ec8f85afdebdbc5061361d391b0878ee30a0658ac6c9a49c20973f3b5d969.docx</td><td>c62ec8f85afdebdbc5061361d391b0878ee30a0658ac6c9a49c20973f3b5d969     </td><td>не одна                                                              </td><td>1                                                                    </td><td>2                                                                    </td><td>6632944.50                                                           </td><td>2                                                                    </td></tr>\n",
       "\t<tr><td>16                                                                   </td><td>19                                                                   </td><td>22                                                                   </td><td>9858                                                                 </td><td>39                                                                   </td><td>39                                                                   </td><td>0311200046516000118                                                  </td><td>NA                                                                   </td><td>1.0                                                                  </td><td>2049333.33                                                           </td><td>⋯                                                                    </td><td>NA                                                                   </td><td>NA                                                                   </td><td>NA                                                                   </td><td>c69092c6f98c6e94c86cc1929bdb32ebd35c26e3f703090d3cb23225bae9aacb.doc </td><td>c69092c6f98c6e94c86cc1929bdb32ebd35c26e3f703090d3cb23225bae9aacb     </td><td>не одна                                                              </td><td>1                                                                    </td><td>2                                                                    </td><td>1982759.33                                                           </td><td>2                                                                    </td></tr>\n",
       "\t<tr><td>17                                                                   </td><td>21                                                                   </td><td>24                                                                   </td><td>11407                                                                </td><td>44                                                                   </td><td>44                                                                   </td><td>0101300069916000006                                                  </td><td>NA                                                                   </td><td>1.0                                                                  </td><td>970387                                                               </td><td>⋯                                                                    </td><td>NA                                                                   </td><td>NA                                                                   </td><td>NA                                                                   </td><td>bb684aa80ff134de3d9ca2a48282b85ec483d678728e6d9729ed515e4a82c8aa.doc </td><td>bb684aa80ff134de3d9ca2a48282b85ec483d678728e6d9729ed515e4a82c8aa     </td><td>не одна                                                              </td><td>1                                                                    </td><td>2                                                                    </td><td>892294.06                                                            </td><td>2                                                                    </td></tr>\n",
       "\t<tr><td>18                                                                   </td><td>22                                                                   </td><td>25                                                                   </td><td>12402                                                                </td><td>46                                                                   </td><td>46                                                                   </td><td>0350300003216000056                                                  </td><td>NA                                                                   </td><td>NA                                                                   </td><td>986285.71                                                            </td><td>⋯                                                                    </td><td>NA                                                                   </td><td>NA                                                                   </td><td>NA                                                                   </td><td>68ddca582629a5f2346dafe0333a0f14f92d03ffbf6ada271f00c3dd4cfa7cc4.docx</td><td>68ddca582629a5f2346dafe0333a0f14f92d03ffbf6ada271f00c3dd4cfa7cc4     </td><td>1                                                                    </td><td>1                                                                    </td><td>1                                                                    </td><td>986285.71                                                            </td><td>1                                                                    </td></tr>\n",
       "\t<tr><td>19                                                                   </td><td>24                                                                   </td><td>27                                                                   </td><td>13737                                                                </td><td>50                                                                   </td><td>50, 72                                                               </td><td>0151300016316000062                                                  </td><td>NA                                                                   </td><td>1.0                                                                  </td><td>1013333.33                                                           </td><td>⋯                                                                    </td><td>2016                                                                 </td><td>NA                                                                   </td><td>NA                                                                   </td><td>3a39d8673b7de47a8a009d22daf8d31c61132e140e2266e9c2fd7e26d550f639.docx</td><td>3a39d8673b7de47a8a009d22daf8d31c61132e140e2266e9c2fd7e26d550f639     </td><td>1                                                                    </td><td>1                                                                    </td><td>1                                                                    </td><td>1013333.33                                                           </td><td>1                                                                    </td></tr>\n",
       "\t<tr><td>20                                                                   </td><td>25                                                                   </td><td>28                                                                   </td><td>15280                                                                </td><td>55                                                                   </td><td>55, 63                                                               </td><td>0156200010016000033                                                  </td><td>NA                                                                   </td><td>1.0                                                                  </td><td>1897000                                                              </td><td>⋯                                                                    </td><td>NA                                                                   </td><td>NA                                                                   </td><td>NA                                                                   </td><td>baed780b894d355433641d3a427229c9d00b5034dde90671f2a75cef595f3406.doc </td><td>baed780b894d355433641d3a427229c9d00b5034dde90671f2a75cef595f3406     </td><td>не одна                                                              </td><td>1                                                                    </td><td>2                                                                    </td><td>1897000.00                                                           </td><td>1                                                                    </td></tr>\n",
       "\t<tr><td>21                                                                   </td><td>27                                                                   </td><td>30                                                                   </td><td>15507                                                                </td><td>58                                                                   </td><td>58                                                                   </td><td>0301300451916000335                                                  </td><td>NA                                                                   </td><td>1.0                                                                  </td><td>1076666.67                                                           </td><td>⋯                                                                    </td><td>NA                                                                   </td><td>NA                                                                   </td><td>NA                                                                   </td><td>ce41a70c9ed23128987160cc5734c97f42c654283287d83600ad76c6114286ab.docx</td><td>ce41a70c9ed23128987160cc5734c97f42c654283287d83600ad76c6114286ab     </td><td>не одна                                                              </td><td>1                                                                    </td><td>2                                                                    </td><td>1012058.67                                                           </td><td>2                                                                    </td></tr>\n",
       "\t<tr><td>22                                                                   </td><td>28                                                                   </td><td>31                                                                   </td><td>17676                                                                </td><td>65                                                                   </td><td>65, 66                                                               </td><td>0113200000116004351                                                  </td><td>NA                                                                   </td><td>1.0                                                                  </td><td>692300                                                               </td><td>⋯                                                                    </td><td>NA                                                                   </td><td>NA                                                                   </td><td>NA                                                                   </td><td>b8521297486584fe99eb4f275973a8cbe2ffc55dceed16d63a24151a62206f83.doc </td><td>b8521297486584fe99eb4f275973a8cbe2ffc55dceed16d63a24151a62206f83     </td><td>не одна                                                              </td><td>1                                                                    </td><td>2                                                                    </td><td>665753.50                                                            </td><td>2                                                                    </td></tr>\n",
       "\t<tr><td>23                                                                   </td><td>29                                                                   </td><td>32                                                                   </td><td>20193                                                                </td><td>68                                                                   </td><td>68                                                                   </td><td>0338200008616000188                                                  </td><td>NA                                                                   </td><td>1.0                                                                  </td><td>1102100                                                              </td><td>⋯                                                                    </td><td>NA                                                                   </td><td>NA                                                                   </td><td>NA                                                                   </td><td>cb56b7dc68a7c58de18f62a9d890f2ef8d3a648fd4c21fbc109d9d0a2cbf1df8.docx</td><td>cb56b7dc68a7c58de18f62a9d890f2ef8d3a648fd4c21fbc109d9d0a2cbf1df8     </td><td>не одна                                                              </td><td>1                                                                    </td><td>2                                                                    </td><td>1026995.00                                                           </td><td>2                                                                    </td></tr>\n",
       "\t<tr><td>24                                                                   </td><td>33                                                                   </td><td>36                                                                   </td><td>21724                                                                </td><td>74                                                                   </td><td>74                                                                   </td><td>0151300020216000007                                                  </td><td>NA                                                                   </td><td>1.0                                                                  </td><td>583000                                                               </td><td>⋯                                                                    </td><td>NA                                                                   </td><td>NA                                                                   </td><td>NA                                                                   </td><td>4234a2249ce8e7757a71a457fcdd8bb718b3e9bf003685b5ab011df2e1ee1b38.doc </td><td>4234a2249ce8e7757a71a457fcdd8bb718b3e9bf003685b5ab011df2e1ee1b38     </td><td>1                                                                    </td><td>1                                                                    </td><td>1                                                                    </td><td>583000.00                                                            </td><td>1                                                                    </td></tr>\n",
       "\t<tr><td>25                                                                   </td><td>35                                                                   </td><td>38                                                                   </td><td>23465                                                                </td><td>77                                                                   </td><td>77                                                                   </td><td>0221100000116000404                                                  </td><td>NA                                                                   </td><td>1.0                                                                  </td><td>5802843.96                                                           </td><td>⋯                                                                    </td><td>2016                                                                 </td><td>NA                                                                   </td><td>NA                                                                   </td><td>6b6b5de93666b23b81f06f0fb759cb6de46d4811a381cc6cebf496f0f7aed08b.doc </td><td>6b6b5de93666b23b81f06f0fb759cb6de46d4811a381cc6cebf496f0f7aed08b     </td><td>1                                                                    </td><td>1                                                                    </td><td>1                                                                    </td><td>5802843.96                                                           </td><td>1                                                                    </td></tr>\n",
       "\t<tr><td>26                                                                   </td><td>36                                                                   </td><td>39                                                                   </td><td>23883                                                                </td><td>78                                                                   </td><td>78                                                                   </td><td>0153300060616000375                                                  </td><td>NA                                                                   </td><td>1.0                                                                  </td><td>972996.67                                                            </td><td>⋯                                                                    </td><td>NA                                                                   </td><td>NA                                                                   </td><td>NA                                                                   </td><td>b03d409c4c4ff84f8a3cfcc78a94cd627ed601991bb47ba244277b1b1de117cf.doc </td><td>b03d409c4c4ff84f8a3cfcc78a94cd627ed601991bb47ba244277b1b1de117cf     </td><td>не одна                                                              </td><td>1                                                                    </td><td>2                                                                    </td><td>972996.67                                                            </td><td>1                                                                    </td></tr>\n",
       "\t<tr><td>27                                                                   </td><td>39                                                                   </td><td>43                                                                   </td><td>24981                                                                </td><td>82                                                                   </td><td>82                                                                   </td><td>0142200001316016160                                                  </td><td>NA                                                                   </td><td>1.0                                                                  </td><td>18830000                                                             </td><td>⋯                                                                    </td><td>2017                                                                 </td><td>NA                                                                   </td><td>NA                                                                   </td><td>e9f0d0d05052df8dadc698e5928b14f4a5a4ccfdeeded24c3cfb51d4cfb893d7.doc </td><td>e9f0d0d05052df8dadc698e5928b14f4a5a4ccfdeeded24c3cfb51d4cfb893d7     </td><td>не одна                                                              </td><td>1                                                                    </td><td>2                                                                    </td><td>17982650.00                                                          </td><td>2                                                                    </td></tr>\n",
       "\t<tr><td>28                                                                   </td><td>41                                                                   </td><td>46                                                                   </td><td>94                                                                   </td><td>85                                                                   </td><td>85                                                                   </td><td>0332300263717000003                                                  </td><td>NA                                                                   </td><td>1.0                                                                  </td><td>995000                                                               </td><td>⋯                                                                    </td><td>NA                                                                   </td><td>NA                                                                   </td><td>NA                                                                   </td><td>58da1c17ab74a34c1a816152c0443237eabd661b1fef89686b83ace73e9f67c5.docx</td><td>58da1c17ab74a34c1a816152c0443237eabd661b1fef89686b83ace73e9f67c5     </td><td>1                                                                    </td><td>1                                                                    </td><td>1                                                                    </td><td>995000.00                                                            </td><td>1                                                                    </td></tr>\n",
       "\t<tr><td>29                                                                   </td><td>43                                                                   </td><td>48                                                                   </td><td>334                                                                  </td><td>87                                                                   </td><td>87, 145, 163                                                         </td><td>0166300021117000010                                                  </td><td>NA                                                                   </td><td>1.0                                                                  </td><td>924000                                                               </td><td>⋯                                                                    </td><td>NA                                                                   </td><td>NA                                                                   </td><td>NA                                                                   </td><td>c3efcd062802911acce094dad3ad60900255510edf4b30578af114b65976dd23.docx</td><td>c3efcd062802911acce094dad3ad60900255510edf4b30578af114b65976dd23     </td><td>не одна                                                              </td><td>1                                                                    </td><td>2                                                                    </td><td>919380.00                                                            </td><td>2                                                                    </td></tr>\n",
       "\t<tr><td>30                                                                   </td><td>44                                                                   </td><td>50                                                                   </td><td>658                                                                  </td><td>91                                                                   </td><td>91, 94, 169, 175                                                     </td><td>0848300051717000020                                                  </td><td>NA                                                                   </td><td>NA                                                                   </td><td>947200                                                               </td><td>⋯                                                                    </td><td>NA                                                                   </td><td>NA                                                                   </td><td>NA                                                                   </td><td>bda08d2e1d45551db7709baaa0bc7129c2afd5af735929a822a4585fc1473ba3.doc </td><td>bda08d2e1d45551db7709baaa0bc7129c2afd5af735929a822a4585fc1473ba3     </td><td>не одна                                                              </td><td>1                                                                    </td><td>2                                                                    </td><td>795648.00                                                            </td><td>2                                                                    </td></tr>\n",
       "\t<tr><td>⋮</td><td>⋮</td><td>⋮</td><td>⋮</td><td>⋮</td><td>⋮</td><td>⋮</td><td>⋮</td><td>⋮</td><td>⋮</td><td>⋱</td><td>⋮</td><td>⋮</td><td>⋮</td><td>⋮</td><td>⋮</td><td>⋮</td><td>⋮</td><td>⋮</td><td>⋮</td><td>⋮</td></tr>\n",
       "\t<tr><td>755                                                                  </td><td>1020                                                                 </td><td>1221                                                                 </td><td>11767                                                                </td><td>2387                                                                 </td><td>2387                                                                 </td><td>0333300049717000003                                                  </td><td>NA                                                                   </td><td>1.0                                                                  </td><td>650000                                                               </td><td>⋯                                                                    </td><td>NA                                                                   </td><td>NA                                                                   </td><td>NA                                                                   </td><td>265a64d99ab097709d94a5b4800cb9268680e5f0f55667f7b1941e8eb98a77bb.docx</td><td>265a64d99ab097709d94a5b4800cb9268680e5f0f55667f7b1941e8eb98a77bb     </td><td>1                                                                    </td><td>1                                                                    </td><td>1                                                                    </td><td>650000.00                                                            </td><td>1                                                                    </td></tr>\n",
       "\t<tr><td>756                                                                  </td><td>1021                                                                 </td><td>1222                                                                 </td><td>11816                                                                </td><td>2388                                                                 </td><td>2388                                                                 </td><td>0145300001917000185                                                  </td><td>NA                                                                   </td><td>1.0                                                                  </td><td>1300000                                                              </td><td>⋯                                                                    </td><td>NA                                                                   </td><td>NA                                                                   </td><td>NA                                                                   </td><td>cf2ab7bb69bcf6cf5b7c728270a12cdab611e42f930579ef414405ef92daf14a.doc </td><td>cf2ab7bb69bcf6cf5b7c728270a12cdab611e42f930579ef414405ef92daf14a     </td><td>не одна                                                              </td><td>1                                                                    </td><td>2                                                                    </td><td>1138500.00                                                           </td><td>2                                                                    </td></tr>\n",
       "\t<tr><td>757                                                                  </td><td>1022                                                                 </td><td>1223                                                                 </td><td>11817                                                                </td><td>2389                                                                 </td><td>2389, 2449                                                           </td><td>0139300008117000087                                                  </td><td>NA                                                                   </td><td>1.0                                                                  </td><td>658710                                                               </td><td>⋯                                                                    </td><td>NA                                                                   </td><td>NA                                                                   </td><td>NA                                                                   </td><td>472f89cee3c8fd31246670829662b493f6e449c73d9470518b681204f8d7a0aa.docx</td><td>472f89cee3c8fd31246670829662b493f6e449c73d9470518b681204f8d7a0aa     </td><td>не одна                                                              </td><td>1                                                                    </td><td>2                                                                    </td><td>633181.00                                                            </td><td>1                                                                    </td></tr>\n",
       "\t<tr><td>758                                                                  </td><td>1024                                                                 </td><td>1226                                                                 </td><td>12332                                                                </td><td>2405                                                                 </td><td>2405                                                                 </td><td>0558400000117000001                                                  </td><td>NA                                                                   </td><td>1.0                                                                  </td><td>1320000                                                              </td><td>⋯                                                                    </td><td>NA                                                                   </td><td>NA                                                                   </td><td>NA                                                                   </td><td>eb4a4192d863bc25e2168cee35c48e27e4e2c7a92791dad31884c4b425f47037.doc </td><td>eb4a4192d863bc25e2168cee35c48e27e4e2c7a92791dad31884c4b425f47037     </td><td>1                                                                    </td><td>1                                                                    </td><td>1                                                                    </td><td>1320000.00                                                           </td><td>1                                                                    </td></tr>\n",
       "\t<tr><td>759                                                                  </td><td>1026                                                                 </td><td>1228                                                                 </td><td>12423                                                                </td><td>2407                                                                 </td><td>2407                                                                 </td><td>0573100016517000081                                                  </td><td>NA                                                                   </td><td>1.0                                                                  </td><td>1460000                                                              </td><td>⋯                                                                    </td><td>NA                                                                   </td><td>NA                                                                   </td><td>NA                                                                   </td><td>1118e21c43b2f220daf058a262483d55830c5acb1d0e0405c085cac9ad48f7d3.docx</td><td>1118e21c43b2f220daf058a262483d55830c5acb1d0e0405c085cac9ad48f7d3     </td><td>1                                                                    </td><td>1                                                                    </td><td>1                                                                    </td><td>1460000.00                                                           </td><td>1                                                                    </td></tr>\n",
       "\t<tr><td>760                                                                  </td><td>1027                                                                 </td><td>1229                                                                 </td><td>12534                                                                </td><td>2412                                                                 </td><td>2412                                                                 </td><td>0136200003617004134                                                  </td><td>NA                                                                   </td><td>1.0                                                                  </td><td>855558.33                                                            </td><td>⋯                                                                    </td><td>NA                                                                   </td><td>NA                                                                   </td><td>NA                                                                   </td><td>d038c18f962a1b333abb94f3719712a300706245ce00ef6937cbf9a40c0f19ba.doc </td><td>d038c18f962a1b333abb94f3719712a300706245ce00ef6937cbf9a40c0f19ba     </td><td>не одна                                                              </td><td>1                                                                    </td><td>2                                                                    </td><td>812776.80                                                            </td><td>2                                                                    </td></tr>\n",
       "\t<tr><td>761                                                                  </td><td>1028                                                                 </td><td>1230                                                                 </td><td>12574                                                                </td><td>2414                                                                 </td><td>2414                                                                 </td><td>0811100001017000070                                                  </td><td>NA                                                                   </td><td>1.0                                                                  </td><td>1740000                                                              </td><td>⋯                                                                    </td><td>NA                                                                   </td><td>NA                                                                   </td><td>NA                                                                   </td><td>0b2a7159e9b8f0e13ac9b4a18e624905ee93983a08e8bd10e99060c8e31bdbc2.docx</td><td>0b2a7159e9b8f0e13ac9b4a18e624905ee93983a08e8bd10e99060c8e31bdbc2     </td><td>1                                                                    </td><td>1                                                                    </td><td>1                                                                    </td><td>1740000.00                                                           </td><td>1                                                                    </td></tr>\n",
       "\t<tr><td>762                                                                  </td><td>1030                                                                 </td><td>1232                                                                 </td><td>12948                                                                </td><td>2422                                                                 </td><td>2422                                                                 </td><td>0132200003017000067                                                  </td><td>NA                                                                   </td><td>1.0                                                                  </td><td>720000                                                               </td><td>⋯                                                                    </td><td>NA                                                                   </td><td>NA                                                                   </td><td>NA                                                                   </td><td>79a97699391fe975089739ade47dee3275d0cb4633edf54dc4c55a37530fbb29.docx</td><td>79a97699391fe975089739ade47dee3275d0cb4633edf54dc4c55a37530fbb29     </td><td>не одна                                                              </td><td>1                                                                    </td><td>2                                                                    </td><td>673200.00                                                            </td><td>2                                                                    </td></tr>\n",
       "\t<tr><td>763                                                                  </td><td>1031                                                                 </td><td>1233                                                                 </td><td>13041                                                                </td><td>2425                                                                 </td><td>2425                                                                 </td><td>0554600003217000003                                                  </td><td>NA                                                                   </td><td>NA                                                                   </td><td>678933                                                               </td><td>⋯                                                                    </td><td>2017                                                                 </td><td>NA                                                                   </td><td>NA                                                                   </td><td>4298883512f0a355ea14bbf95fb1287ac6255abba26ee08d0fc6aea33b8dcb13.docx</td><td>4298883512f0a355ea14bbf95fb1287ac6255abba26ee08d0fc6aea33b8dcb13     </td><td>не одна                                                              </td><td>1                                                                    </td><td>2                                                                    </td><td>658505.33                                                            </td><td>2                                                                    </td></tr>\n",
       "\t<tr><td>764                                                                  </td><td>1032                                                                 </td><td>1234                                                                 </td><td>13099                                                                </td><td>2429                                                                 </td><td>2429                                                                 </td><td>0817200000317003740                                                  </td><td>NA                                                                   </td><td>NA                                                                   </td><td>1163800                                                              </td><td>⋯                                                                    </td><td>2016                                                                 </td><td>NA                                                                   </td><td>NA                                                                   </td><td>cecb4947939d2b935a2e09902ed87fcf5758de204f82c6aaa3c63029a410c2c9.doc </td><td>cecb4947939d2b935a2e09902ed87fcf5758de204f82c6aaa3c63029a410c2c9     </td><td>не одна                                                              </td><td>1                                                                    </td><td>2                                                                    </td><td>1117248.00                                                           </td><td>2                                                                    </td></tr>\n",
       "\t<tr><td>765                                                                  </td><td>1034                                                                 </td><td>1236                                                                 </td><td>13200                                                                </td><td>2435                                                                 </td><td>2435                                                                 </td><td>0194200000517003346                                                  </td><td>NA                                                                   </td><td>NA                                                                   </td><td>2810000                                                              </td><td>⋯                                                                    </td><td>NA                                                                   </td><td>NA                                                                   </td><td>NA                                                                   </td><td>6b7c5daa1a02d457f09e439dfab2c23ac3a0ae0126110553c139169daf0e1c2b.docx</td><td>6b7c5daa1a02d457f09e439dfab2c23ac3a0ae0126110553c139169daf0e1c2b     </td><td>1                                                                    </td><td>1                                                                    </td><td>1                                                                    </td><td>2810000.00                                                           </td><td>1                                                                    </td></tr>\n",
       "\t<tr><td>766                                                                  </td><td>1035                                                                 </td><td>1237                                                                 </td><td>13255                                                                </td><td>2437                                                                 </td><td>2437                                                                 </td><td>0195400000217000139                                                  </td><td>NA                                                                   </td><td>1.0                                                                  </td><td>35637000                                                             </td><td>⋯                                                                    </td><td>NA                                                                   </td><td>NA                                                                   </td><td>NA                                                                   </td><td>31c7f435c5d6eb1e1d34729a06b411d317407ae4a39f3435ebbd0479db706f1c.doc </td><td>31c7f435c5d6eb1e1d34729a06b411d317407ae4a39f3435ebbd0479db706f1c     </td><td>не одна                                                              </td><td>1                                                                    </td><td>1                                                                    </td><td>35637000.00                                                          </td><td>1                                                                    </td></tr>\n",
       "\t<tr><td>767                                                                  </td><td>1036                                                                 </td><td>1238                                                                 </td><td>13308                                                                </td><td>2439                                                                 </td><td>2439                                                                 </td><td>0518200001617000012                                                  </td><td>NA                                                                   </td><td>1.0                                                                  </td><td>1998000                                                              </td><td>⋯                                                                    </td><td>NA                                                                   </td><td>NA                                                                   </td><td>NA                                                                   </td><td>373f641bc13f879f232fb45380ed91b7e9a619c0a102cd13c2978400e17a9df2.docx</td><td>373f641bc13f879f232fb45380ed91b7e9a619c0a102cd13c2978400e17a9df2     </td><td>1                                                                    </td><td>1                                                                    </td><td>1                                                                    </td><td>1998000.00                                                           </td><td>1                                                                    </td></tr>\n",
       "\t<tr><td>768                                                                  </td><td>1038                                                                 </td><td>1240                                                                 </td><td>13326                                                                </td><td>2442                                                                 </td><td>2442, 2481                                                           </td><td>0148300015517000429                                                  </td><td>NA                                                                   </td><td>1.0                                                                  </td><td>581646.66                                                            </td><td>⋯                                                                    </td><td>2017                                                                 </td><td>NA                                                                   </td><td>NA                                                                   </td><td>4a13f5d888da428bde589c56670d42cac9e42993602cc7db7e7892d460c7d845.docx</td><td>4a13f5d888da428bde589c56670d42cac9e42993602cc7db7e7892d460c7d845     </td><td>не одна                                                              </td><td>1                                                                    </td><td>2                                                                    </td><td>558081.00                                                            </td><td>2                                                                    </td></tr>\n",
       "\t<tr><td>769                                                                  </td><td>1039                                                                 </td><td>1241                                                                 </td><td>13362                                                                </td><td>2444                                                                 </td><td>2444                                                                 </td><td>0353300019117000018                                                  </td><td>NA                                                                   </td><td>1.0                                                                  </td><td>964900                                                               </td><td>⋯                                                                    </td><td>NA                                                                   </td><td>NA                                                                   </td><td>NA                                                                   </td><td>78c93fb14a145910cbb8607e20e0dc7509a119b9c5cbc06599c339593b86f081.docx</td><td>78c93fb14a145910cbb8607e20e0dc7509a119b9c5cbc06599c339593b86f081     </td><td>1                                                                    </td><td>1                                                                    </td><td>1                                                                    </td><td>964900.00                                                            </td><td>1                                                                    </td></tr>\n",
       "\t<tr><td>770                                                                  </td><td>1042                                                                 </td><td>1245                                                                 </td><td>13598                                                                </td><td>2453                                                                 </td><td>2453                                                                 </td><td>0225100000217000024                                                  </td><td>NA                                                                   </td><td>1.0                                                                  </td><td>969900                                                               </td><td>⋯                                                                    </td><td>NA                                                                   </td><td>NA                                                                   </td><td>NA                                                                   </td><td>13689eeb4813949fad1c4b00c66ea702312358e0722dd69af6c25af5a6612d5b.doc </td><td>13689eeb4813949fad1c4b00c66ea702312358e0722dd69af6c25af5a6612d5b     </td><td>1                                                                    </td><td>1                                                                    </td><td>1                                                                    </td><td>969900.00                                                            </td><td>1                                                                    </td></tr>\n",
       "\t<tr><td>771                                                                  </td><td>1044                                                                 </td><td>1247                                                                 </td><td>13687                                                                </td><td>2456                                                                 </td><td>2456                                                                 </td><td>0855200000517000959                                                  </td><td>NA                                                                   </td><td>NA                                                                   </td><td>901000                                                               </td><td>⋯                                                                    </td><td>NA                                                                   </td><td>NA                                                                   </td><td>NA                                                                   </td><td>1073e12e8875473f7f53cc3002f6df9def98e3bad09d272d148b266c243d8b59.docx</td><td>1073e12e8875473f7f53cc3002f6df9def98e3bad09d272d148b266c243d8b59     </td><td>не одна                                                              </td><td>1                                                                    </td><td>2                                                                    </td><td>846940.00                                                            </td><td>2                                                                    </td></tr>\n",
       "\t<tr><td>772                                                                  </td><td>1045                                                                 </td><td>1248                                                                 </td><td>13716                                                                </td><td>2457                                                                 </td><td>2457                                                                 </td><td>0156300049017000014                                                  </td><td>NA                                                                   </td><td>1.0                                                                  </td><td>1300000                                                              </td><td>⋯                                                                    </td><td>NA                                                                   </td><td>NA                                                                   </td><td>NA                                                                   </td><td>03d1b41083d747ded3d48beac5bf7ee8593b353720bcd114753468bbf535e4ed.docx</td><td>03d1b41083d747ded3d48beac5bf7ee8593b353720bcd114753468bbf535e4ed     </td><td>1                                                                    </td><td>1                                                                    </td><td>1                                                                    </td><td>1300000.00                                                           </td><td>1                                                                    </td></tr>\n",
       "\t<tr><td>773                                                                  </td><td>1046                                                                 </td><td>1249                                                                 </td><td>13760                                                                </td><td>2461                                                                 </td><td>2461                                                                 </td><td>0151300035117000006                                                  </td><td>NA                                                                   </td><td>1.0                                                                  </td><td>493226.67                                                            </td><td>⋯                                                                    </td><td>NA                                                                   </td><td>NA                                                                   </td><td>NA                                                                   </td><td>970ea22c852cc288e6165976735ca5f3a32fddfc20dd4e2b86bcb98522e86f34.docx</td><td>970ea22c852cc288e6165976735ca5f3a32fddfc20dd4e2b86bcb98522e86f34     </td><td>не одна                                                              </td><td>1                                                                    </td><td>2                                                                    </td><td>483362.15                                                            </td><td>2                                                                    </td></tr>\n",
       "\t<tr><td>774                                                                  </td><td>1047                                                                 </td><td>1250                                                                 </td><td>13820                                                                </td><td>2464                                                                 </td><td>2464                                                                 </td><td>0129300046617000018                                                  </td><td>NA                                                                   </td><td>1.0                                                                  </td><td>449366.67                                                            </td><td>⋯                                                                    </td><td>NA                                                                   </td><td>NA                                                                   </td><td>NA                                                                   </td><td>769645a97681415ca3fb92d9ef80cc634014ddcd85d22ddef09eb6102d2279d3.doc </td><td>769645a97681415ca3fb92d9ef80cc634014ddcd85d22ddef09eb6102d2279d3     </td><td>1                                                                    </td><td>1                                                                    </td><td>1                                                                    </td><td>449366.67                                                            </td><td>1                                                                    </td></tr>\n",
       "\t<tr><td>775                                                                  </td><td>1048                                                                 </td><td>1252                                                                 </td><td>13835                                                                </td><td>2466                                                                 </td><td>2466                                                                 </td><td>0573100016517000110                                                  </td><td>NA                                                                   </td><td>1.0                                                                  </td><td>1500000                                                              </td><td>⋯                                                                    </td><td>NA                                                                   </td><td>NA                                                                   </td><td>NA                                                                   </td><td>995f0fd2a280dcdb8063d2fa29fffe35136e44b403913b1d42ee1b52f47925a6.docx</td><td>995f0fd2a280dcdb8063d2fa29fffe35136e44b403913b1d42ee1b52f47925a6     </td><td>1                                                                    </td><td>1                                                                    </td><td>1                                                                    </td><td>1500000.00                                                           </td><td>1                                                                    </td></tr>\n",
       "\t<tr><td>776                                                                  </td><td>1049                                                                 </td><td>1254                                                                 </td><td>13947                                                                </td><td>2469                                                                 </td><td>2469                                                                 </td><td>0573500001317000020                                                  </td><td>NA                                                                   </td><td>1.0                                                                  </td><td>1500000                                                              </td><td>⋯                                                                    </td><td>NA                                                                   </td><td>NA                                                                   </td><td>NA                                                                   </td><td>19c0bbde5bc37634a7aa6cea5fe33d31638ba6b4786ad88f9dcf8e27c2fa088d.docx</td><td>19c0bbde5bc37634a7aa6cea5fe33d31638ba6b4786ad88f9dcf8e27c2fa088d     </td><td>не одна                                                              </td><td>1                                                                    </td><td>2                                                                    </td><td>1485000.00                                                           </td><td>2                                                                    </td></tr>\n",
       "\t<tr><td>777                                                                  </td><td>1052                                                                 </td><td>1257                                                                 </td><td>13997                                                                </td><td>2473                                                                 </td><td>2473                                                                 </td><td>0301300367917000007                                                  </td><td>NA                                                                   </td><td>1.0                                                                  </td><td>644400                                                               </td><td>⋯                                                                    </td><td>NA                                                                   </td><td>NA                                                                   </td><td>NA                                                                   </td><td>f0701d9c224c3d1022306afc27fe8ff48f1fc8055172942b26a23836138fb687.docx</td><td>f0701d9c224c3d1022306afc27fe8ff48f1fc8055172942b26a23836138fb687     </td><td>не одна                                                              </td><td>1                                                                    </td><td>2                                                                    </td><td>644400.00                                                            </td><td>2                                                                    </td></tr>\n",
       "\t<tr><td>778                                                                  </td><td>1053                                                                 </td><td>1258                                                                 </td><td>14014                                                                </td><td>2474                                                                 </td><td>2474                                                                 </td><td>0122300006117000648                                                  </td><td>NA                                                                   </td><td>1.0                                                                  </td><td>1499000                                                              </td><td>⋯                                                                    </td><td>NA                                                                   </td><td>NA                                                                   </td><td>NA                                                                   </td><td>988790db2b013c59c99f72b7ee9525d3810100c3f5290446c85653408c66a636.docx</td><td>988790db2b013c59c99f72b7ee9525d3810100c3f5290446c85653408c66a636     </td><td>1                                                                    </td><td>1                                                                    </td><td>1                                                                    </td><td>1499000.00                                                           </td><td>1                                                                    </td></tr>\n",
       "\t<tr><td>779                                                                  </td><td>1054                                                                 </td><td>1259                                                                 </td><td>14110                                                                </td><td>2477                                                                 </td><td>2477                                                                 </td><td>0557300003917000040                                                  </td><td>NA                                                                   </td><td>1.0                                                                  </td><td>710000                                                               </td><td>⋯                                                                    </td><td>NA                                                                   </td><td>NA                                                                   </td><td>NA                                                                   </td><td>0d178cc0f2637ce4d79518c3bd290847eccdf517e128a3a05714fab0e762d288.doc </td><td>0d178cc0f2637ce4d79518c3bd290847eccdf517e128a3a05714fab0e762d288     </td><td>1                                                                    </td><td>1                                                                    </td><td>1                                                                    </td><td>709000.00                                                            </td><td>1                                                                    </td></tr>\n",
       "\t<tr><td>780                                                                  </td><td>1055                                                                 </td><td>1262                                                                 </td><td>14199                                                                </td><td>2483                                                                 </td><td>2483                                                                 </td><td>0132300007517000161                                                  </td><td>NA                                                                   </td><td>1.0                                                                  </td><td>3e+06                                                                </td><td>⋯                                                                    </td><td>NA                                                                   </td><td>NA                                                                   </td><td>NA                                                                   </td><td>54c5b93e9a287dbac0bae635c29d30f03d5ab5ba315a66f511583853ea00256d.doc </td><td>54c5b93e9a287dbac0bae635c29d30f03d5ab5ba315a66f511583853ea00256d     </td><td>1                                                                    </td><td>1                                                                    </td><td>1                                                                    </td><td>3000000.00                                                           </td><td>1                                                                    </td></tr>\n",
       "\t<tr><td>781                                                                  </td><td>1056                                                                 </td><td>1263                                                                 </td><td>14252                                                                </td><td>2484                                                                 </td><td>2484                                                                 </td><td>0548200002217000024                                                  </td><td>NA                                                                   </td><td>1.0                                                                  </td><td>2360778                                                              </td><td>⋯                                                                    </td><td>2017                                                                 </td><td>NA                                                                   </td><td>NA                                                                   </td><td>80e678664ecec3754e83cc6ab215dc60ec7824fda1468caa4387f0ca767c91ee.docx</td><td>80e678664ecec3754e83cc6ab215dc60ec7824fda1468caa4387f0ca767c91ee     </td><td>1                                                                    </td><td>1                                                                    </td><td>1                                                                    </td><td>2360778.00                                                           </td><td>1                                                                    </td></tr>\n",
       "\t<tr><td>782                                                                  </td><td>1057                                                                 </td><td>1264                                                                 </td><td>14289                                                                </td><td>2485                                                                 </td><td>2485                                                                 </td><td>0137200001217002015                                                  </td><td>NA                                                                   </td><td>1.0                                                                  </td><td>789700                                                               </td><td>⋯                                                                    </td><td>NA                                                                   </td><td>NA                                                                   </td><td>NA                                                                   </td><td>192d8f63f4b04fee9c2a1385b65f782bf992fb8f7d2a52089e65a035b2b196c0.docx</td><td>192d8f63f4b04fee9c2a1385b65f782bf992fb8f7d2a52089e65a035b2b196c0     </td><td>1                                                                    </td><td>1                                                                    </td><td>1                                                                    </td><td>789700.00                                                            </td><td>1                                                                    </td></tr>\n",
       "\t<tr><td>783                                                                  </td><td>1058                                                                 </td><td>1265                                                                 </td><td>14474                                                                </td><td>2495                                                                 </td><td>2495                                                                 </td><td>0373100064617000376                                                  </td><td>NA                                                                   </td><td>1.0                                                                  </td><td>729300                                                               </td><td>⋯                                                                    </td><td>NA                                                                   </td><td>NA                                                                   </td><td>NA                                                                   </td><td>89d2f1dac5229811f3850378e2ac18969420ac83345dc7e8a07484a331383b7e.docx</td><td>89d2f1dac5229811f3850378e2ac18969420ac83345dc7e8a07484a331383b7e     </td><td>1                                                                    </td><td>1                                                                    </td><td>1                                                                    </td><td>729300.00                                                            </td><td>1                                                                    </td></tr>\n",
       "\t<tr><td>784                                                                  </td><td>1059                                                                 </td><td>1266                                                                 </td><td>14542                                                                </td><td>2497                                                                 </td><td>2497                                                                 </td><td>0891200000617003531                                                  </td><td>NA                                                                   </td><td>1.0                                                                  </td><td>481900                                                               </td><td>⋯                                                                    </td><td>NA                                                                   </td><td>NA                                                                   </td><td>NA                                                                   </td><td>488a4b31e7f1e862aa5e15d3599c31e1c894b7d19e70517ceda25a44350b6e77.doc </td><td>488a4b31e7f1e862aa5e15d3599c31e1c894b7d19e70517ceda25a44350b6e77     </td><td>1                                                                    </td><td>1                                                                    </td><td>1                                                                    </td><td>481900.00                                                            </td><td>1                                                                    </td></tr>\n",
       "</tbody>\n",
       "</table>\n"
      ],
      "text/latex": [
       "\\begin{tabular}{r|llllllllllllllllllllllllllllllllll}\n",
       " X\\_\\_2 & new\\_index & X\\_\\_1 & n & index\\_name & all\\_indexes & purchase\\_number & done & completed\\_car\\_purchase & price & ⋯ & год\\_выпуска & мощность\\_л\\_с & потребление\\_топлива\\_городской\\_цикл\\_л\\_100км & filename & sha\\_id & kolichetvo\\_uch & zaversch & number\\_of\\_bids & the\\_real\\_price & num\\_of\\_bb\\\\\n",
       "\\hline\n",
       "\t 1                                                                     &  1                                                                    & 1                                                                     & 366                                                                   & 3                                                                     & 3                                                                     & 0372200026816000053                                                   & 1                                                                     & 1.0                                                                   & 607902.33                                                             & ⋯                                                                     & 2016                                                                  & 90 л.с.                                                               & 9.8                                                                   & 1ba23d353bf63fb0a234f2b6a9d14e1037f4a60148f3f585a9b702dc5c14a630.docx & 1ba23d353bf63fb0a234f2b6a9d14e1037f4a60148f3f585a9b702dc5c14a630      & 1                                                                     & 1                                                                     & 1                                                                     & 607902.33                                                             & 1                                                                    \\\\\n",
       "\t 2                                                                     &  2                                                                    & 2                                                                     & 1158                                                                  & 5                                                                     & 5, 25                                                                 & 0832200006616001265                                                   & NA                                                                    & 1.0                                                                   & 999833.33                                                             & ⋯                                                                     & NA                                                                    & NA                                                                    & NA                                                                    & 024c72855e2fba691b939d0086663ad1443796412de9f317246cfc16f7b101b5.docx & 024c72855e2fba691b939d0086663ad1443796412de9f317246cfc16f7b101b5      & не одна                                                               & 1                                                                     & 2                                                                     & 999833.32                                                             & 1                                                                    \\\\\n",
       "\t 3                                                                     &  3                                                                    & 3                                                                     & 1361                                                                  & 6                                                                     & 6                                                                     & 0146300031216000008                                                   & NA                                                                    & 1.0                                                                   & 685000                                                                & ⋯                                                                     & NA                                                                    & NA                                                                    & NA                                                                    & ca66aceb8b70fb06cf8baf7a97d241f4840f2d595544e42bd6c6baec29dcc7bc.docx & ca66aceb8b70fb06cf8baf7a97d241f4840f2d595544e42bd6c6baec29dcc7bc      & 1                                                                     & 1                                                                     & 1                                                                     & 684000.00                                                             & 1                                                                    \\\\\n",
       "\t 4                                                                     &  4                                                                    & 4                                                                     & 2680                                                                  & 8                                                                     & 8, 36                                                                 & 0328300015616000270                                                   & NA                                                                    & 1.0                                                                   & 383900                                                                & ⋯                                                                     & 2016                                                                  & NA                                                                    & NA                                                                    & f4a04f18a5305d9b15eb45bae4532fdaa9f4360660e24ec382148c70fba137db.docx & f4a04f18a5305d9b15eb45bae4532fdaa9f4360660e24ec382148c70fba137db      & не одна                                                               & 1                                                                     & 2                                                                     & 383900.00                                                             & 2                                                                    \\\\\n",
       "\t 5                                                                     &  5                                                                    & 6                                                                     & 4168                                                                  & 12                                                                    & 12                                                                    & 0845300015016000715                                                   & NA                                                                    & 1.0                                                                   & 998456                                                                & ⋯                                                                     & 2016                                                                  & NA                                                                    & NA                                                                    & da80d318cb1666e928232bc3833f0aff402d841c732486c0c0c15ede407c96e3.docx & da80d318cb1666e928232bc3833f0aff402d841c732486c0c0c15ede407c96e3      & 1                                                                     & 1                                                                     & 1                                                                     & 998456.00                                                             & 1                                                                    \\\\\n",
       "\t 6                                                                     &  6                                                                    & 7                                                                     & 4450                                                                  & 13                                                                    & 13, 28, 40                                                            & 0173200024416000142                                                   & NA                                                                    & 1.0                                                                   & 2999666.66                                                            & ⋯                                                                     & 2016                                                                  & NA                                                                    & NA                                                                    & 382dfe4e26eb371045ae699256a2c174518fa9a97c8b714986a3ae5775693714.docx & 382dfe4e26eb371045ae699256a2c174518fa9a97c8b714986a3ae5775693714      & не одна                                                               & 1                                                                     & 2                                                                     & 2939673.33                                                            & 1                                                                    \\\\\n",
       "\t 7                                                                     &  8                                                                    & 9                                                                     & 4616                                                                  & 16                                                                    & 16, 62                                                                & 0328300172416000002                                                   & NA                                                                    & 1.0                                                                   & 599666.66                                                             & ⋯                                                                     & NA                                                                    & NA                                                                    & NA                                                                    & 9ecb011bc06b0b10f17d419b1ecc68e59f6ae68c0fdb61a9f85ff1faa0585dcf.docx & 9ecb011bc06b0b10f17d419b1ecc68e59f6ae68c0fdb61a9f85ff1faa0585dcf      & не одна                                                               & 1                                                                     & 2                                                                     & 557690.04                                                             & 2                                                                    \\\\\n",
       "\t 8                                                                     &  9                                                                    & 10                                                                    & 5298                                                                  & 17                                                                    & 17                                                                    & 0151300046117000004                                                   & NA                                                                    & 1.0                                                                   & 1e+06                                                                 & ⋯                                                                     & NA                                                                    & NA                                                                    & NA                                                                    & 2d4041698e59ada41cc9ab6b56c8c9da72cd8bc190e96cb100e65620e36615fc.docx & 2d4041698e59ada41cc9ab6b56c8c9da72cd8bc190e96cb100e65620e36615fc      & 1                                                                     & 1                                                                     & 1                                                                     & 1000000.00                                                            & 1                                                                    \\\\\n",
       "\t 9                                                                     & 10                                                                    & 11                                                                    & 5329                                                                  & 18                                                                    & 18, 54                                                                & 0142200001316016312                                                   & NA                                                                    & 1.0                                                                   & 1315000                                                               & ⋯                                                                     & NA                                                                    & NA                                                                    & NA                                                                    & 0db5c8f6f0314793cc8b93cf7211471637b5e058a603a95c97b96bdf13c3096e.docx & 0db5c8f6f0314793cc8b93cf7211471637b5e058a603a95c97b96bdf13c3096e      & не одна                                                               & 1                                                                     & 2                                                                     & 1308425.00                                                            & 1                                                                    \\\\\n",
       "\t 10                                                                    & 11                                                                    & 12                                                                    & 5586                                                                  & 20                                                                    & 20                                                                    & 0303300076016000012                                                   & NA                                                                    & 1.0                                                                   & 1e+06                                                                 & ⋯                                                                     & 2016                                                                  & NA                                                                    & NA                                                                    & 6ba44c495d16297120b6114fec7e498b3ab76f2592b1f0dbeb38a1f345bef7bf.docx & 6ba44c495d16297120b6114fec7e498b3ab76f2592b1f0dbeb38a1f345bef7bf      & 1                                                                     & 1                                                                     & 1                                                                     & 1000000.00                                                            & 1                                                                    \\\\\n",
       "\t 11                                                                    & 12                                                                    & 13                                                                    & 6317                                                                  & 21                                                                    & 21, 23                                                                & 0319300156216000034                                                   & NA                                                                    & 1.0                                                                   & 1500000                                                               & ⋯                                                                     & NA                                                                    & NA                                                                    & NA                                                                    & a8ca860f6751f573ed129d0f4ad805c2165a80d920e9b309de1da4dc64ccf436.docx & a8ca860f6751f573ed129d0f4ad805c2165a80d920e9b309de1da4dc64ccf436      & 1                                                                     & 1                                                                     & 1                                                                     & 1500000.00                                                            & 1                                                                    \\\\\n",
       "\t 12                                                                    & 14                                                                    & 17                                                                    & 8187                                                                  & 30                                                                    & 30                                                                    & 0227100000316000110                                                   & NA                                                                    & 1.0                                                                   & 8936400.06                                                            & ⋯                                                                     & NA                                                                    & NA                                                                    & NA                                                                    & 6901dffb49ed541999a2b76c9bdb6b934e6e96855980a2e59cb1e444c111182c.doc  & 6901dffb49ed541999a2b76c9bdb6b934e6e96855980a2e59cb1e444c111182c      & 1                                                                     & 1                                                                     & 1                                                                     & 8936400.06                                                            & 1                                                                    \\\\\n",
       "\t 13                                                                    & 15                                                                    & 18                                                                    & 8350                                                                  & 32                                                                    & 32                                                                    & 0301300502616000006                                                   & NA                                                                    & 1.0                                                                   & 727000                                                                & ⋯                                                                     & NA                                                                    & NA                                                                    & NA                                                                    & 204dd5464c3f69a2e92e780a480a6736555a9dae52a4b1bec819210835e23b6b.doc  & 204dd5464c3f69a2e92e780a480a6736555a9dae52a4b1bec819210835e23b6b      & не одна                                                               & 1                                                                     & 2                                                                     & 687015.00                                                             & 2                                                                    \\\\\n",
       "\t 14                                                                    & 16                                                                    & 19                                                                    & 8473                                                                  & 33                                                                    & 33, 37                                                                & 0146300018716000003                                                   & NA                                                                    & 1.0                                                                   & 415000                                                                & ⋯                                                                     & NA                                                                    & NA                                                                    & NA                                                                    & fb87a2cb1709ad9f3254a78203097612b743a71452c249f13eb40b9e3d9919ee.doc  & fb87a2cb1709ad9f3254a78203097612b743a71452c249f13eb40b9e3d9919ee      & не одна                                                               & 1                                                                     & 2                                                                     & 392260.00                                                             & 2                                                                    \\\\\n",
       "\t 15                                                                    & 17                                                                    & 20                                                                    & 8760                                                                  & 34                                                                    & 34, 48, 60, 70                                                        & 0236100000116000347                                                   & NA                                                                    & 1.0                                                                   & 6803020                                                               & ⋯                                                                     & NA                                                                    & NA                                                                    & NA                                                                    & c62ec8f85afdebdbc5061361d391b0878ee30a0658ac6c9a49c20973f3b5d969.docx & c62ec8f85afdebdbc5061361d391b0878ee30a0658ac6c9a49c20973f3b5d969      & не одна                                                               & 1                                                                     & 2                                                                     & 6632944.50                                                            & 2                                                                    \\\\\n",
       "\t 16                                                                    & 19                                                                    & 22                                                                    & 9858                                                                  & 39                                                                    & 39                                                                    & 0311200046516000118                                                   & NA                                                                    & 1.0                                                                   & 2049333.33                                                            & ⋯                                                                     & NA                                                                    & NA                                                                    & NA                                                                    & c69092c6f98c6e94c86cc1929bdb32ebd35c26e3f703090d3cb23225bae9aacb.doc  & c69092c6f98c6e94c86cc1929bdb32ebd35c26e3f703090d3cb23225bae9aacb      & не одна                                                               & 1                                                                     & 2                                                                     & 1982759.33                                                            & 2                                                                    \\\\\n",
       "\t 17                                                                    & 21                                                                    & 24                                                                    & 11407                                                                 & 44                                                                    & 44                                                                    & 0101300069916000006                                                   & NA                                                                    & 1.0                                                                   & 970387                                                                & ⋯                                                                     & NA                                                                    & NA                                                                    & NA                                                                    & bb684aa80ff134de3d9ca2a48282b85ec483d678728e6d9729ed515e4a82c8aa.doc  & bb684aa80ff134de3d9ca2a48282b85ec483d678728e6d9729ed515e4a82c8aa      & не одна                                                               & 1                                                                     & 2                                                                     & 892294.06                                                             & 2                                                                    \\\\\n",
       "\t 18                                                                    & 22                                                                    & 25                                                                    & 12402                                                                 & 46                                                                    & 46                                                                    & 0350300003216000056                                                   & NA                                                                    & NA                                                                    & 986285.71                                                             & ⋯                                                                     & NA                                                                    & NA                                                                    & NA                                                                    & 68ddca582629a5f2346dafe0333a0f14f92d03ffbf6ada271f00c3dd4cfa7cc4.docx & 68ddca582629a5f2346dafe0333a0f14f92d03ffbf6ada271f00c3dd4cfa7cc4      & 1                                                                     & 1                                                                     & 1                                                                     & 986285.71                                                             & 1                                                                    \\\\\n",
       "\t 19                                                                    & 24                                                                    & 27                                                                    & 13737                                                                 & 50                                                                    & 50, 72                                                                & 0151300016316000062                                                   & NA                                                                    & 1.0                                                                   & 1013333.33                                                            & ⋯                                                                     & 2016                                                                  & NA                                                                    & NA                                                                    & 3a39d8673b7de47a8a009d22daf8d31c61132e140e2266e9c2fd7e26d550f639.docx & 3a39d8673b7de47a8a009d22daf8d31c61132e140e2266e9c2fd7e26d550f639      & 1                                                                     & 1                                                                     & 1                                                                     & 1013333.33                                                            & 1                                                                    \\\\\n",
       "\t 20                                                                    & 25                                                                    & 28                                                                    & 15280                                                                 & 55                                                                    & 55, 63                                                                & 0156200010016000033                                                   & NA                                                                    & 1.0                                                                   & 1897000                                                               & ⋯                                                                     & NA                                                                    & NA                                                                    & NA                                                                    & baed780b894d355433641d3a427229c9d00b5034dde90671f2a75cef595f3406.doc  & baed780b894d355433641d3a427229c9d00b5034dde90671f2a75cef595f3406      & не одна                                                               & 1                                                                     & 2                                                                     & 1897000.00                                                            & 1                                                                    \\\\\n",
       "\t 21                                                                    & 27                                                                    & 30                                                                    & 15507                                                                 & 58                                                                    & 58                                                                    & 0301300451916000335                                                   & NA                                                                    & 1.0                                                                   & 1076666.67                                                            & ⋯                                                                     & NA                                                                    & NA                                                                    & NA                                                                    & ce41a70c9ed23128987160cc5734c97f42c654283287d83600ad76c6114286ab.docx & ce41a70c9ed23128987160cc5734c97f42c654283287d83600ad76c6114286ab      & не одна                                                               & 1                                                                     & 2                                                                     & 1012058.67                                                            & 2                                                                    \\\\\n",
       "\t 22                                                                    & 28                                                                    & 31                                                                    & 17676                                                                 & 65                                                                    & 65, 66                                                                & 0113200000116004351                                                   & NA                                                                    & 1.0                                                                   & 692300                                                                & ⋯                                                                     & NA                                                                    & NA                                                                    & NA                                                                    & b8521297486584fe99eb4f275973a8cbe2ffc55dceed16d63a24151a62206f83.doc  & b8521297486584fe99eb4f275973a8cbe2ffc55dceed16d63a24151a62206f83      & не одна                                                               & 1                                                                     & 2                                                                     & 665753.50                                                             & 2                                                                    \\\\\n",
       "\t 23                                                                    & 29                                                                    & 32                                                                    & 20193                                                                 & 68                                                                    & 68                                                                    & 0338200008616000188                                                   & NA                                                                    & 1.0                                                                   & 1102100                                                               & ⋯                                                                     & NA                                                                    & NA                                                                    & NA                                                                    & cb56b7dc68a7c58de18f62a9d890f2ef8d3a648fd4c21fbc109d9d0a2cbf1df8.docx & cb56b7dc68a7c58de18f62a9d890f2ef8d3a648fd4c21fbc109d9d0a2cbf1df8      & не одна                                                               & 1                                                                     & 2                                                                     & 1026995.00                                                            & 2                                                                    \\\\\n",
       "\t 24                                                                    & 33                                                                    & 36                                                                    & 21724                                                                 & 74                                                                    & 74                                                                    & 0151300020216000007                                                   & NA                                                                    & 1.0                                                                   & 583000                                                                & ⋯                                                                     & NA                                                                    & NA                                                                    & NA                                                                    & 4234a2249ce8e7757a71a457fcdd8bb718b3e9bf003685b5ab011df2e1ee1b38.doc  & 4234a2249ce8e7757a71a457fcdd8bb718b3e9bf003685b5ab011df2e1ee1b38      & 1                                                                     & 1                                                                     & 1                                                                     & 583000.00                                                             & 1                                                                    \\\\\n",
       "\t 25                                                                    & 35                                                                    & 38                                                                    & 23465                                                                 & 77                                                                    & 77                                                                    & 0221100000116000404                                                   & NA                                                                    & 1.0                                                                   & 5802843.96                                                            & ⋯                                                                     & 2016                                                                  & NA                                                                    & NA                                                                    & 6b6b5de93666b23b81f06f0fb759cb6de46d4811a381cc6cebf496f0f7aed08b.doc  & 6b6b5de93666b23b81f06f0fb759cb6de46d4811a381cc6cebf496f0f7aed08b      & 1                                                                     & 1                                                                     & 1                                                                     & 5802843.96                                                            & 1                                                                    \\\\\n",
       "\t 26                                                                    & 36                                                                    & 39                                                                    & 23883                                                                 & 78                                                                    & 78                                                                    & 0153300060616000375                                                   & NA                                                                    & 1.0                                                                   & 972996.67                                                             & ⋯                                                                     & NA                                                                    & NA                                                                    & NA                                                                    & b03d409c4c4ff84f8a3cfcc78a94cd627ed601991bb47ba244277b1b1de117cf.doc  & b03d409c4c4ff84f8a3cfcc78a94cd627ed601991bb47ba244277b1b1de117cf      & не одна                                                               & 1                                                                     & 2                                                                     & 972996.67                                                             & 1                                                                    \\\\\n",
       "\t 27                                                                    & 39                                                                    & 43                                                                    & 24981                                                                 & 82                                                                    & 82                                                                    & 0142200001316016160                                                   & NA                                                                    & 1.0                                                                   & 18830000                                                              & ⋯                                                                     & 2017                                                                  & NA                                                                    & NA                                                                    & e9f0d0d05052df8dadc698e5928b14f4a5a4ccfdeeded24c3cfb51d4cfb893d7.doc  & e9f0d0d05052df8dadc698e5928b14f4a5a4ccfdeeded24c3cfb51d4cfb893d7      & не одна                                                               & 1                                                                     & 2                                                                     & 17982650.00                                                           & 2                                                                    \\\\\n",
       "\t 28                                                                    & 41                                                                    & 46                                                                    & 94                                                                    & 85                                                                    & 85                                                                    & 0332300263717000003                                                   & NA                                                                    & 1.0                                                                   & 995000                                                                & ⋯                                                                     & NA                                                                    & NA                                                                    & NA                                                                    & 58da1c17ab74a34c1a816152c0443237eabd661b1fef89686b83ace73e9f67c5.docx & 58da1c17ab74a34c1a816152c0443237eabd661b1fef89686b83ace73e9f67c5      & 1                                                                     & 1                                                                     & 1                                                                     & 995000.00                                                             & 1                                                                    \\\\\n",
       "\t 29                                                                    & 43                                                                    & 48                                                                    & 334                                                                   & 87                                                                    & 87, 145, 163                                                          & 0166300021117000010                                                   & NA                                                                    & 1.0                                                                   & 924000                                                                & ⋯                                                                     & NA                                                                    & NA                                                                    & NA                                                                    & c3efcd062802911acce094dad3ad60900255510edf4b30578af114b65976dd23.docx & c3efcd062802911acce094dad3ad60900255510edf4b30578af114b65976dd23      & не одна                                                               & 1                                                                     & 2                                                                     & 919380.00                                                             & 2                                                                    \\\\\n",
       "\t 30                                                                    & 44                                                                    & 50                                                                    & 658                                                                   & 91                                                                    & 91, 94, 169, 175                                                      & 0848300051717000020                                                   & NA                                                                    & NA                                                                    & 947200                                                                & ⋯                                                                     & NA                                                                    & NA                                                                    & NA                                                                    & bda08d2e1d45551db7709baaa0bc7129c2afd5af735929a822a4585fc1473ba3.doc  & bda08d2e1d45551db7709baaa0bc7129c2afd5af735929a822a4585fc1473ba3      & не одна                                                               & 1                                                                     & 2                                                                     & 795648.00                                                             & 2                                                                    \\\\\n",
       "\t ⋮ & ⋮ & ⋮ & ⋮ & ⋮ & ⋮ & ⋮ & ⋮ & ⋮ & ⋮ & ⋱ & ⋮ & ⋮ & ⋮ & ⋮ & ⋮ & ⋮ & ⋮ & ⋮ & ⋮ & ⋮\\\\\n",
       "\t 755                                                                   & 1020                                                                  & 1221                                                                  & 11767                                                                 & 2387                                                                  & 2387                                                                  & 0333300049717000003                                                   & NA                                                                    & 1.0                                                                   & 650000                                                                & ⋯                                                                     & NA                                                                    & NA                                                                    & NA                                                                    & 265a64d99ab097709d94a5b4800cb9268680e5f0f55667f7b1941e8eb98a77bb.docx & 265a64d99ab097709d94a5b4800cb9268680e5f0f55667f7b1941e8eb98a77bb      & 1                                                                     & 1                                                                     & 1                                                                     & 650000.00                                                             & 1                                                                    \\\\\n",
       "\t 756                                                                   & 1021                                                                  & 1222                                                                  & 11816                                                                 & 2388                                                                  & 2388                                                                  & 0145300001917000185                                                   & NA                                                                    & 1.0                                                                   & 1300000                                                               & ⋯                                                                     & NA                                                                    & NA                                                                    & NA                                                                    & cf2ab7bb69bcf6cf5b7c728270a12cdab611e42f930579ef414405ef92daf14a.doc  & cf2ab7bb69bcf6cf5b7c728270a12cdab611e42f930579ef414405ef92daf14a      & не одна                                                               & 1                                                                     & 2                                                                     & 1138500.00                                                            & 2                                                                    \\\\\n",
       "\t 757                                                                   & 1022                                                                  & 1223                                                                  & 11817                                                                 & 2389                                                                  & 2389, 2449                                                            & 0139300008117000087                                                   & NA                                                                    & 1.0                                                                   & 658710                                                                & ⋯                                                                     & NA                                                                    & NA                                                                    & NA                                                                    & 472f89cee3c8fd31246670829662b493f6e449c73d9470518b681204f8d7a0aa.docx & 472f89cee3c8fd31246670829662b493f6e449c73d9470518b681204f8d7a0aa      & не одна                                                               & 1                                                                     & 2                                                                     & 633181.00                                                             & 1                                                                    \\\\\n",
       "\t 758                                                                   & 1024                                                                  & 1226                                                                  & 12332                                                                 & 2405                                                                  & 2405                                                                  & 0558400000117000001                                                   & NA                                                                    & 1.0                                                                   & 1320000                                                               & ⋯                                                                     & NA                                                                    & NA                                                                    & NA                                                                    & eb4a4192d863bc25e2168cee35c48e27e4e2c7a92791dad31884c4b425f47037.doc  & eb4a4192d863bc25e2168cee35c48e27e4e2c7a92791dad31884c4b425f47037      & 1                                                                     & 1                                                                     & 1                                                                     & 1320000.00                                                            & 1                                                                    \\\\\n",
       "\t 759                                                                   & 1026                                                                  & 1228                                                                  & 12423                                                                 & 2407                                                                  & 2407                                                                  & 0573100016517000081                                                   & NA                                                                    & 1.0                                                                   & 1460000                                                               & ⋯                                                                     & NA                                                                    & NA                                                                    & NA                                                                    & 1118e21c43b2f220daf058a262483d55830c5acb1d0e0405c085cac9ad48f7d3.docx & 1118e21c43b2f220daf058a262483d55830c5acb1d0e0405c085cac9ad48f7d3      & 1                                                                     & 1                                                                     & 1                                                                     & 1460000.00                                                            & 1                                                                    \\\\\n",
       "\t 760                                                                   & 1027                                                                  & 1229                                                                  & 12534                                                                 & 2412                                                                  & 2412                                                                  & 0136200003617004134                                                   & NA                                                                    & 1.0                                                                   & 855558.33                                                             & ⋯                                                                     & NA                                                                    & NA                                                                    & NA                                                                    & d038c18f962a1b333abb94f3719712a300706245ce00ef6937cbf9a40c0f19ba.doc  & d038c18f962a1b333abb94f3719712a300706245ce00ef6937cbf9a40c0f19ba      & не одна                                                               & 1                                                                     & 2                                                                     & 812776.80                                                             & 2                                                                    \\\\\n",
       "\t 761                                                                   & 1028                                                                  & 1230                                                                  & 12574                                                                 & 2414                                                                  & 2414                                                                  & 0811100001017000070                                                   & NA                                                                    & 1.0                                                                   & 1740000                                                               & ⋯                                                                     & NA                                                                    & NA                                                                    & NA                                                                    & 0b2a7159e9b8f0e13ac9b4a18e624905ee93983a08e8bd10e99060c8e31bdbc2.docx & 0b2a7159e9b8f0e13ac9b4a18e624905ee93983a08e8bd10e99060c8e31bdbc2      & 1                                                                     & 1                                                                     & 1                                                                     & 1740000.00                                                            & 1                                                                    \\\\\n",
       "\t 762                                                                   & 1030                                                                  & 1232                                                                  & 12948                                                                 & 2422                                                                  & 2422                                                                  & 0132200003017000067                                                   & NA                                                                    & 1.0                                                                   & 720000                                                                & ⋯                                                                     & NA                                                                    & NA                                                                    & NA                                                                    & 79a97699391fe975089739ade47dee3275d0cb4633edf54dc4c55a37530fbb29.docx & 79a97699391fe975089739ade47dee3275d0cb4633edf54dc4c55a37530fbb29      & не одна                                                               & 1                                                                     & 2                                                                     & 673200.00                                                             & 2                                                                    \\\\\n",
       "\t 763                                                                   & 1031                                                                  & 1233                                                                  & 13041                                                                 & 2425                                                                  & 2425                                                                  & 0554600003217000003                                                   & NA                                                                    & NA                                                                    & 678933                                                                & ⋯                                                                     & 2017                                                                  & NA                                                                    & NA                                                                    & 4298883512f0a355ea14bbf95fb1287ac6255abba26ee08d0fc6aea33b8dcb13.docx & 4298883512f0a355ea14bbf95fb1287ac6255abba26ee08d0fc6aea33b8dcb13      & не одна                                                               & 1                                                                     & 2                                                                     & 658505.33                                                             & 2                                                                    \\\\\n",
       "\t 764                                                                   & 1032                                                                  & 1234                                                                  & 13099                                                                 & 2429                                                                  & 2429                                                                  & 0817200000317003740                                                   & NA                                                                    & NA                                                                    & 1163800                                                               & ⋯                                                                     & 2016                                                                  & NA                                                                    & NA                                                                    & cecb4947939d2b935a2e09902ed87fcf5758de204f82c6aaa3c63029a410c2c9.doc  & cecb4947939d2b935a2e09902ed87fcf5758de204f82c6aaa3c63029a410c2c9      & не одна                                                               & 1                                                                     & 2                                                                     & 1117248.00                                                            & 2                                                                    \\\\\n",
       "\t 765                                                                   & 1034                                                                  & 1236                                                                  & 13200                                                                 & 2435                                                                  & 2435                                                                  & 0194200000517003346                                                   & NA                                                                    & NA                                                                    & 2810000                                                               & ⋯                                                                     & NA                                                                    & NA                                                                    & NA                                                                    & 6b7c5daa1a02d457f09e439dfab2c23ac3a0ae0126110553c139169daf0e1c2b.docx & 6b7c5daa1a02d457f09e439dfab2c23ac3a0ae0126110553c139169daf0e1c2b      & 1                                                                     & 1                                                                     & 1                                                                     & 2810000.00                                                            & 1                                                                    \\\\\n",
       "\t 766                                                                   & 1035                                                                  & 1237                                                                  & 13255                                                                 & 2437                                                                  & 2437                                                                  & 0195400000217000139                                                   & NA                                                                    & 1.0                                                                   & 35637000                                                              & ⋯                                                                     & NA                                                                    & NA                                                                    & NA                                                                    & 31c7f435c5d6eb1e1d34729a06b411d317407ae4a39f3435ebbd0479db706f1c.doc  & 31c7f435c5d6eb1e1d34729a06b411d317407ae4a39f3435ebbd0479db706f1c      & не одна                                                               & 1                                                                     & 1                                                                     & 35637000.00                                                           & 1                                                                    \\\\\n",
       "\t 767                                                                   & 1036                                                                  & 1238                                                                  & 13308                                                                 & 2439                                                                  & 2439                                                                  & 0518200001617000012                                                   & NA                                                                    & 1.0                                                                   & 1998000                                                               & ⋯                                                                     & NA                                                                    & NA                                                                    & NA                                                                    & 373f641bc13f879f232fb45380ed91b7e9a619c0a102cd13c2978400e17a9df2.docx & 373f641bc13f879f232fb45380ed91b7e9a619c0a102cd13c2978400e17a9df2      & 1                                                                     & 1                                                                     & 1                                                                     & 1998000.00                                                            & 1                                                                    \\\\\n",
       "\t 768                                                                   & 1038                                                                  & 1240                                                                  & 13326                                                                 & 2442                                                                  & 2442, 2481                                                            & 0148300015517000429                                                   & NA                                                                    & 1.0                                                                   & 581646.66                                                             & ⋯                                                                     & 2017                                                                  & NA                                                                    & NA                                                                    & 4a13f5d888da428bde589c56670d42cac9e42993602cc7db7e7892d460c7d845.docx & 4a13f5d888da428bde589c56670d42cac9e42993602cc7db7e7892d460c7d845      & не одна                                                               & 1                                                                     & 2                                                                     & 558081.00                                                             & 2                                                                    \\\\\n",
       "\t 769                                                                   & 1039                                                                  & 1241                                                                  & 13362                                                                 & 2444                                                                  & 2444                                                                  & 0353300019117000018                                                   & NA                                                                    & 1.0                                                                   & 964900                                                                & ⋯                                                                     & NA                                                                    & NA                                                                    & NA                                                                    & 78c93fb14a145910cbb8607e20e0dc7509a119b9c5cbc06599c339593b86f081.docx & 78c93fb14a145910cbb8607e20e0dc7509a119b9c5cbc06599c339593b86f081      & 1                                                                     & 1                                                                     & 1                                                                     & 964900.00                                                             & 1                                                                    \\\\\n",
       "\t 770                                                                   & 1042                                                                  & 1245                                                                  & 13598                                                                 & 2453                                                                  & 2453                                                                  & 0225100000217000024                                                   & NA                                                                    & 1.0                                                                   & 969900                                                                & ⋯                                                                     & NA                                                                    & NA                                                                    & NA                                                                    & 13689eeb4813949fad1c4b00c66ea702312358e0722dd69af6c25af5a6612d5b.doc  & 13689eeb4813949fad1c4b00c66ea702312358e0722dd69af6c25af5a6612d5b      & 1                                                                     & 1                                                                     & 1                                                                     & 969900.00                                                             & 1                                                                    \\\\\n",
       "\t 771                                                                   & 1044                                                                  & 1247                                                                  & 13687                                                                 & 2456                                                                  & 2456                                                                  & 0855200000517000959                                                   & NA                                                                    & NA                                                                    & 901000                                                                & ⋯                                                                     & NA                                                                    & NA                                                                    & NA                                                                    & 1073e12e8875473f7f53cc3002f6df9def98e3bad09d272d148b266c243d8b59.docx & 1073e12e8875473f7f53cc3002f6df9def98e3bad09d272d148b266c243d8b59      & не одна                                                               & 1                                                                     & 2                                                                     & 846940.00                                                             & 2                                                                    \\\\\n",
       "\t 772                                                                   & 1045                                                                  & 1248                                                                  & 13716                                                                 & 2457                                                                  & 2457                                                                  & 0156300049017000014                                                   & NA                                                                    & 1.0                                                                   & 1300000                                                               & ⋯                                                                     & NA                                                                    & NA                                                                    & NA                                                                    & 03d1b41083d747ded3d48beac5bf7ee8593b353720bcd114753468bbf535e4ed.docx & 03d1b41083d747ded3d48beac5bf7ee8593b353720bcd114753468bbf535e4ed      & 1                                                                     & 1                                                                     & 1                                                                     & 1300000.00                                                            & 1                                                                    \\\\\n",
       "\t 773                                                                   & 1046                                                                  & 1249                                                                  & 13760                                                                 & 2461                                                                  & 2461                                                                  & 0151300035117000006                                                   & NA                                                                    & 1.0                                                                   & 493226.67                                                             & ⋯                                                                     & NA                                                                    & NA                                                                    & NA                                                                    & 970ea22c852cc288e6165976735ca5f3a32fddfc20dd4e2b86bcb98522e86f34.docx & 970ea22c852cc288e6165976735ca5f3a32fddfc20dd4e2b86bcb98522e86f34      & не одна                                                               & 1                                                                     & 2                                                                     & 483362.15                                                             & 2                                                                    \\\\\n",
       "\t 774                                                                   & 1047                                                                  & 1250                                                                  & 13820                                                                 & 2464                                                                  & 2464                                                                  & 0129300046617000018                                                   & NA                                                                    & 1.0                                                                   & 449366.67                                                             & ⋯                                                                     & NA                                                                    & NA                                                                    & NA                                                                    & 769645a97681415ca3fb92d9ef80cc634014ddcd85d22ddef09eb6102d2279d3.doc  & 769645a97681415ca3fb92d9ef80cc634014ddcd85d22ddef09eb6102d2279d3      & 1                                                                     & 1                                                                     & 1                                                                     & 449366.67                                                             & 1                                                                    \\\\\n",
       "\t 775                                                                   & 1048                                                                  & 1252                                                                  & 13835                                                                 & 2466                                                                  & 2466                                                                  & 0573100016517000110                                                   & NA                                                                    & 1.0                                                                   & 1500000                                                               & ⋯                                                                     & NA                                                                    & NA                                                                    & NA                                                                    & 995f0fd2a280dcdb8063d2fa29fffe35136e44b403913b1d42ee1b52f47925a6.docx & 995f0fd2a280dcdb8063d2fa29fffe35136e44b403913b1d42ee1b52f47925a6      & 1                                                                     & 1                                                                     & 1                                                                     & 1500000.00                                                            & 1                                                                    \\\\\n",
       "\t 776                                                                   & 1049                                                                  & 1254                                                                  & 13947                                                                 & 2469                                                                  & 2469                                                                  & 0573500001317000020                                                   & NA                                                                    & 1.0                                                                   & 1500000                                                               & ⋯                                                                     & NA                                                                    & NA                                                                    & NA                                                                    & 19c0bbde5bc37634a7aa6cea5fe33d31638ba6b4786ad88f9dcf8e27c2fa088d.docx & 19c0bbde5bc37634a7aa6cea5fe33d31638ba6b4786ad88f9dcf8e27c2fa088d      & не одна                                                               & 1                                                                     & 2                                                                     & 1485000.00                                                            & 2                                                                    \\\\\n",
       "\t 777                                                                   & 1052                                                                  & 1257                                                                  & 13997                                                                 & 2473                                                                  & 2473                                                                  & 0301300367917000007                                                   & NA                                                                    & 1.0                                                                   & 644400                                                                & ⋯                                                                     & NA                                                                    & NA                                                                    & NA                                                                    & f0701d9c224c3d1022306afc27fe8ff48f1fc8055172942b26a23836138fb687.docx & f0701d9c224c3d1022306afc27fe8ff48f1fc8055172942b26a23836138fb687      & не одна                                                               & 1                                                                     & 2                                                                     & 644400.00                                                             & 2                                                                    \\\\\n",
       "\t 778                                                                   & 1053                                                                  & 1258                                                                  & 14014                                                                 & 2474                                                                  & 2474                                                                  & 0122300006117000648                                                   & NA                                                                    & 1.0                                                                   & 1499000                                                               & ⋯                                                                     & NA                                                                    & NA                                                                    & NA                                                                    & 988790db2b013c59c99f72b7ee9525d3810100c3f5290446c85653408c66a636.docx & 988790db2b013c59c99f72b7ee9525d3810100c3f5290446c85653408c66a636      & 1                                                                     & 1                                                                     & 1                                                                     & 1499000.00                                                            & 1                                                                    \\\\\n",
       "\t 779                                                                   & 1054                                                                  & 1259                                                                  & 14110                                                                 & 2477                                                                  & 2477                                                                  & 0557300003917000040                                                   & NA                                                                    & 1.0                                                                   & 710000                                                                & ⋯                                                                     & NA                                                                    & NA                                                                    & NA                                                                    & 0d178cc0f2637ce4d79518c3bd290847eccdf517e128a3a05714fab0e762d288.doc  & 0d178cc0f2637ce4d79518c3bd290847eccdf517e128a3a05714fab0e762d288      & 1                                                                     & 1                                                                     & 1                                                                     & 709000.00                                                             & 1                                                                    \\\\\n",
       "\t 780                                                                   & 1055                                                                  & 1262                                                                  & 14199                                                                 & 2483                                                                  & 2483                                                                  & 0132300007517000161                                                   & NA                                                                    & 1.0                                                                   & 3e+06                                                                 & ⋯                                                                     & NA                                                                    & NA                                                                    & NA                                                                    & 54c5b93e9a287dbac0bae635c29d30f03d5ab5ba315a66f511583853ea00256d.doc  & 54c5b93e9a287dbac0bae635c29d30f03d5ab5ba315a66f511583853ea00256d      & 1                                                                     & 1                                                                     & 1                                                                     & 3000000.00                                                            & 1                                                                    \\\\\n",
       "\t 781                                                                   & 1056                                                                  & 1263                                                                  & 14252                                                                 & 2484                                                                  & 2484                                                                  & 0548200002217000024                                                   & NA                                                                    & 1.0                                                                   & 2360778                                                               & ⋯                                                                     & 2017                                                                  & NA                                                                    & NA                                                                    & 80e678664ecec3754e83cc6ab215dc60ec7824fda1468caa4387f0ca767c91ee.docx & 80e678664ecec3754e83cc6ab215dc60ec7824fda1468caa4387f0ca767c91ee      & 1                                                                     & 1                                                                     & 1                                                                     & 2360778.00                                                            & 1                                                                    \\\\\n",
       "\t 782                                                                   & 1057                                                                  & 1264                                                                  & 14289                                                                 & 2485                                                                  & 2485                                                                  & 0137200001217002015                                                   & NA                                                                    & 1.0                                                                   & 789700                                                                & ⋯                                                                     & NA                                                                    & NA                                                                    & NA                                                                    & 192d8f63f4b04fee9c2a1385b65f782bf992fb8f7d2a52089e65a035b2b196c0.docx & 192d8f63f4b04fee9c2a1385b65f782bf992fb8f7d2a52089e65a035b2b196c0      & 1                                                                     & 1                                                                     & 1                                                                     & 789700.00                                                             & 1                                                                    \\\\\n",
       "\t 783                                                                   & 1058                                                                  & 1265                                                                  & 14474                                                                 & 2495                                                                  & 2495                                                                  & 0373100064617000376                                                   & NA                                                                    & 1.0                                                                   & 729300                                                                & ⋯                                                                     & NA                                                                    & NA                                                                    & NA                                                                    & 89d2f1dac5229811f3850378e2ac18969420ac83345dc7e8a07484a331383b7e.docx & 89d2f1dac5229811f3850378e2ac18969420ac83345dc7e8a07484a331383b7e      & 1                                                                     & 1                                                                     & 1                                                                     & 729300.00                                                             & 1                                                                    \\\\\n",
       "\t 784                                                                   & 1059                                                                  & 1266                                                                  & 14542                                                                 & 2497                                                                  & 2497                                                                  & 0891200000617003531                                                   & NA                                                                    & 1.0                                                                   & 481900                                                                & ⋯                                                                     & NA                                                                    & NA                                                                    & NA                                                                    & 488a4b31e7f1e862aa5e15d3599c31e1c894b7d19e70517ceda25a44350b6e77.doc  & 488a4b31e7f1e862aa5e15d3599c31e1c894b7d19e70517ceda25a44350b6e77      & 1                                                                     & 1                                                                     & 1                                                                     & 481900.00                                                             & 1                                                                    \\\\\n",
       "\\end{tabular}\n"
      ],
      "text/markdown": [
       "\n",
       "X__2 | new_index | X__1 | n | index_name | all_indexes | purchase_number | done | completed_car_purchase | price | ⋯ | год_выпуска | мощность_л_с | потребление_топлива_городской_цикл_л_100км | filename | sha_id | kolichetvo_uch | zaversch | number_of_bids | the_real_price | num_of_bb | \n",
       "|---|---|---|---|---|---|---|---|---|---|---|---|---|---|---|---|---|---|---|---|---|---|---|---|---|---|---|---|---|---|---|---|---|---|---|---|---|---|---|---|---|---|---|---|---|---|---|---|---|---|---|---|---|---|---|---|---|---|---|---|---|\n",
       "| 1                                                                     |  1                                                                    | 1                                                                     | 366                                                                   | 3                                                                     | 3                                                                     | 0372200026816000053                                                   | 1                                                                     | 1.0                                                                   | 607902.33                                                             | ⋯                                                                     | 2016                                                                  | 90 л.с.                                                               | 9.8                                                                   | 1ba23d353bf63fb0a234f2b6a9d14e1037f4a60148f3f585a9b702dc5c14a630.docx | 1ba23d353bf63fb0a234f2b6a9d14e1037f4a60148f3f585a9b702dc5c14a630      | 1                                                                     | 1                                                                     | 1                                                                     | 607902.33                                                             | 1                                                                     | \n",
       "| 2                                                                     |  2                                                                    | 2                                                                     | 1158                                                                  | 5                                                                     | 5, 25                                                                 | 0832200006616001265                                                   | NA                                                                    | 1.0                                                                   | 999833.33                                                             | ⋯                                                                     | NA                                                                    | NA                                                                    | NA                                                                    | 024c72855e2fba691b939d0086663ad1443796412de9f317246cfc16f7b101b5.docx | 024c72855e2fba691b939d0086663ad1443796412de9f317246cfc16f7b101b5      | не одна                                                               | 1                                                                     | 2                                                                     | 999833.32                                                             | 1                                                                     | \n",
       "| 3                                                                     |  3                                                                    | 3                                                                     | 1361                                                                  | 6                                                                     | 6                                                                     | 0146300031216000008                                                   | NA                                                                    | 1.0                                                                   | 685000                                                                | ⋯                                                                     | NA                                                                    | NA                                                                    | NA                                                                    | ca66aceb8b70fb06cf8baf7a97d241f4840f2d595544e42bd6c6baec29dcc7bc.docx | ca66aceb8b70fb06cf8baf7a97d241f4840f2d595544e42bd6c6baec29dcc7bc      | 1                                                                     | 1                                                                     | 1                                                                     | 684000.00                                                             | 1                                                                     | \n",
       "| 4                                                                     |  4                                                                    | 4                                                                     | 2680                                                                  | 8                                                                     | 8, 36                                                                 | 0328300015616000270                                                   | NA                                                                    | 1.0                                                                   | 383900                                                                | ⋯                                                                     | 2016                                                                  | NA                                                                    | NA                                                                    | f4a04f18a5305d9b15eb45bae4532fdaa9f4360660e24ec382148c70fba137db.docx | f4a04f18a5305d9b15eb45bae4532fdaa9f4360660e24ec382148c70fba137db      | не одна                                                               | 1                                                                     | 2                                                                     | 383900.00                                                             | 2                                                                     | \n",
       "| 5                                                                     |  5                                                                    | 6                                                                     | 4168                                                                  | 12                                                                    | 12                                                                    | 0845300015016000715                                                   | NA                                                                    | 1.0                                                                   | 998456                                                                | ⋯                                                                     | 2016                                                                  | NA                                                                    | NA                                                                    | da80d318cb1666e928232bc3833f0aff402d841c732486c0c0c15ede407c96e3.docx | da80d318cb1666e928232bc3833f0aff402d841c732486c0c0c15ede407c96e3      | 1                                                                     | 1                                                                     | 1                                                                     | 998456.00                                                             | 1                                                                     | \n",
       "| 6                                                                     |  6                                                                    | 7                                                                     | 4450                                                                  | 13                                                                    | 13, 28, 40                                                            | 0173200024416000142                                                   | NA                                                                    | 1.0                                                                   | 2999666.66                                                            | ⋯                                                                     | 2016                                                                  | NA                                                                    | NA                                                                    | 382dfe4e26eb371045ae699256a2c174518fa9a97c8b714986a3ae5775693714.docx | 382dfe4e26eb371045ae699256a2c174518fa9a97c8b714986a3ae5775693714      | не одна                                                               | 1                                                                     | 2                                                                     | 2939673.33                                                            | 1                                                                     | \n",
       "| 7                                                                     |  8                                                                    | 9                                                                     | 4616                                                                  | 16                                                                    | 16, 62                                                                | 0328300172416000002                                                   | NA                                                                    | 1.0                                                                   | 599666.66                                                             | ⋯                                                                     | NA                                                                    | NA                                                                    | NA                                                                    | 9ecb011bc06b0b10f17d419b1ecc68e59f6ae68c0fdb61a9f85ff1faa0585dcf.docx | 9ecb011bc06b0b10f17d419b1ecc68e59f6ae68c0fdb61a9f85ff1faa0585dcf      | не одна                                                               | 1                                                                     | 2                                                                     | 557690.04                                                             | 2                                                                     | \n",
       "| 8                                                                     |  9                                                                    | 10                                                                    | 5298                                                                  | 17                                                                    | 17                                                                    | 0151300046117000004                                                   | NA                                                                    | 1.0                                                                   | 1e+06                                                                 | ⋯                                                                     | NA                                                                    | NA                                                                    | NA                                                                    | 2d4041698e59ada41cc9ab6b56c8c9da72cd8bc190e96cb100e65620e36615fc.docx | 2d4041698e59ada41cc9ab6b56c8c9da72cd8bc190e96cb100e65620e36615fc      | 1                                                                     | 1                                                                     | 1                                                                     | 1000000.00                                                            | 1                                                                     | \n",
       "| 9                                                                     | 10                                                                    | 11                                                                    | 5329                                                                  | 18                                                                    | 18, 54                                                                | 0142200001316016312                                                   | NA                                                                    | 1.0                                                                   | 1315000                                                               | ⋯                                                                     | NA                                                                    | NA                                                                    | NA                                                                    | 0db5c8f6f0314793cc8b93cf7211471637b5e058a603a95c97b96bdf13c3096e.docx | 0db5c8f6f0314793cc8b93cf7211471637b5e058a603a95c97b96bdf13c3096e      | не одна                                                               | 1                                                                     | 2                                                                     | 1308425.00                                                            | 1                                                                     | \n",
       "| 10                                                                    | 11                                                                    | 12                                                                    | 5586                                                                  | 20                                                                    | 20                                                                    | 0303300076016000012                                                   | NA                                                                    | 1.0                                                                   | 1e+06                                                                 | ⋯                                                                     | 2016                                                                  | NA                                                                    | NA                                                                    | 6ba44c495d16297120b6114fec7e498b3ab76f2592b1f0dbeb38a1f345bef7bf.docx | 6ba44c495d16297120b6114fec7e498b3ab76f2592b1f0dbeb38a1f345bef7bf      | 1                                                                     | 1                                                                     | 1                                                                     | 1000000.00                                                            | 1                                                                     | \n",
       "| 11                                                                    | 12                                                                    | 13                                                                    | 6317                                                                  | 21                                                                    | 21, 23                                                                | 0319300156216000034                                                   | NA                                                                    | 1.0                                                                   | 1500000                                                               | ⋯                                                                     | NA                                                                    | NA                                                                    | NA                                                                    | a8ca860f6751f573ed129d0f4ad805c2165a80d920e9b309de1da4dc64ccf436.docx | a8ca860f6751f573ed129d0f4ad805c2165a80d920e9b309de1da4dc64ccf436      | 1                                                                     | 1                                                                     | 1                                                                     | 1500000.00                                                            | 1                                                                     | \n",
       "| 12                                                                    | 14                                                                    | 17                                                                    | 8187                                                                  | 30                                                                    | 30                                                                    | 0227100000316000110                                                   | NA                                                                    | 1.0                                                                   | 8936400.06                                                            | ⋯                                                                     | NA                                                                    | NA                                                                    | NA                                                                    | 6901dffb49ed541999a2b76c9bdb6b934e6e96855980a2e59cb1e444c111182c.doc  | 6901dffb49ed541999a2b76c9bdb6b934e6e96855980a2e59cb1e444c111182c      | 1                                                                     | 1                                                                     | 1                                                                     | 8936400.06                                                            | 1                                                                     | \n",
       "| 13                                                                    | 15                                                                    | 18                                                                    | 8350                                                                  | 32                                                                    | 32                                                                    | 0301300502616000006                                                   | NA                                                                    | 1.0                                                                   | 727000                                                                | ⋯                                                                     | NA                                                                    | NA                                                                    | NA                                                                    | 204dd5464c3f69a2e92e780a480a6736555a9dae52a4b1bec819210835e23b6b.doc  | 204dd5464c3f69a2e92e780a480a6736555a9dae52a4b1bec819210835e23b6b      | не одна                                                               | 1                                                                     | 2                                                                     | 687015.00                                                             | 2                                                                     | \n",
       "| 14                                                                    | 16                                                                    | 19                                                                    | 8473                                                                  | 33                                                                    | 33, 37                                                                | 0146300018716000003                                                   | NA                                                                    | 1.0                                                                   | 415000                                                                | ⋯                                                                     | NA                                                                    | NA                                                                    | NA                                                                    | fb87a2cb1709ad9f3254a78203097612b743a71452c249f13eb40b9e3d9919ee.doc  | fb87a2cb1709ad9f3254a78203097612b743a71452c249f13eb40b9e3d9919ee      | не одна                                                               | 1                                                                     | 2                                                                     | 392260.00                                                             | 2                                                                     | \n",
       "| 15                                                                    | 17                                                                    | 20                                                                    | 8760                                                                  | 34                                                                    | 34, 48, 60, 70                                                        | 0236100000116000347                                                   | NA                                                                    | 1.0                                                                   | 6803020                                                               | ⋯                                                                     | NA                                                                    | NA                                                                    | NA                                                                    | c62ec8f85afdebdbc5061361d391b0878ee30a0658ac6c9a49c20973f3b5d969.docx | c62ec8f85afdebdbc5061361d391b0878ee30a0658ac6c9a49c20973f3b5d969      | не одна                                                               | 1                                                                     | 2                                                                     | 6632944.50                                                            | 2                                                                     | \n",
       "| 16                                                                    | 19                                                                    | 22                                                                    | 9858                                                                  | 39                                                                    | 39                                                                    | 0311200046516000118                                                   | NA                                                                    | 1.0                                                                   | 2049333.33                                                            | ⋯                                                                     | NA                                                                    | NA                                                                    | NA                                                                    | c69092c6f98c6e94c86cc1929bdb32ebd35c26e3f703090d3cb23225bae9aacb.doc  | c69092c6f98c6e94c86cc1929bdb32ebd35c26e3f703090d3cb23225bae9aacb      | не одна                                                               | 1                                                                     | 2                                                                     | 1982759.33                                                            | 2                                                                     | \n",
       "| 17                                                                    | 21                                                                    | 24                                                                    | 11407                                                                 | 44                                                                    | 44                                                                    | 0101300069916000006                                                   | NA                                                                    | 1.0                                                                   | 970387                                                                | ⋯                                                                     | NA                                                                    | NA                                                                    | NA                                                                    | bb684aa80ff134de3d9ca2a48282b85ec483d678728e6d9729ed515e4a82c8aa.doc  | bb684aa80ff134de3d9ca2a48282b85ec483d678728e6d9729ed515e4a82c8aa      | не одна                                                               | 1                                                                     | 2                                                                     | 892294.06                                                             | 2                                                                     | \n",
       "| 18                                                                    | 22                                                                    | 25                                                                    | 12402                                                                 | 46                                                                    | 46                                                                    | 0350300003216000056                                                   | NA                                                                    | NA                                                                    | 986285.71                                                             | ⋯                                                                     | NA                                                                    | NA                                                                    | NA                                                                    | 68ddca582629a5f2346dafe0333a0f14f92d03ffbf6ada271f00c3dd4cfa7cc4.docx | 68ddca582629a5f2346dafe0333a0f14f92d03ffbf6ada271f00c3dd4cfa7cc4      | 1                                                                     | 1                                                                     | 1                                                                     | 986285.71                                                             | 1                                                                     | \n",
       "| 19                                                                    | 24                                                                    | 27                                                                    | 13737                                                                 | 50                                                                    | 50, 72                                                                | 0151300016316000062                                                   | NA                                                                    | 1.0                                                                   | 1013333.33                                                            | ⋯                                                                     | 2016                                                                  | NA                                                                    | NA                                                                    | 3a39d8673b7de47a8a009d22daf8d31c61132e140e2266e9c2fd7e26d550f639.docx | 3a39d8673b7de47a8a009d22daf8d31c61132e140e2266e9c2fd7e26d550f639      | 1                                                                     | 1                                                                     | 1                                                                     | 1013333.33                                                            | 1                                                                     | \n",
       "| 20                                                                    | 25                                                                    | 28                                                                    | 15280                                                                 | 55                                                                    | 55, 63                                                                | 0156200010016000033                                                   | NA                                                                    | 1.0                                                                   | 1897000                                                               | ⋯                                                                     | NA                                                                    | NA                                                                    | NA                                                                    | baed780b894d355433641d3a427229c9d00b5034dde90671f2a75cef595f3406.doc  | baed780b894d355433641d3a427229c9d00b5034dde90671f2a75cef595f3406      | не одна                                                               | 1                                                                     | 2                                                                     | 1897000.00                                                            | 1                                                                     | \n",
       "| 21                                                                    | 27                                                                    | 30                                                                    | 15507                                                                 | 58                                                                    | 58                                                                    | 0301300451916000335                                                   | NA                                                                    | 1.0                                                                   | 1076666.67                                                            | ⋯                                                                     | NA                                                                    | NA                                                                    | NA                                                                    | ce41a70c9ed23128987160cc5734c97f42c654283287d83600ad76c6114286ab.docx | ce41a70c9ed23128987160cc5734c97f42c654283287d83600ad76c6114286ab      | не одна                                                               | 1                                                                     | 2                                                                     | 1012058.67                                                            | 2                                                                     | \n",
       "| 22                                                                    | 28                                                                    | 31                                                                    | 17676                                                                 | 65                                                                    | 65, 66                                                                | 0113200000116004351                                                   | NA                                                                    | 1.0                                                                   | 692300                                                                | ⋯                                                                     | NA                                                                    | NA                                                                    | NA                                                                    | b8521297486584fe99eb4f275973a8cbe2ffc55dceed16d63a24151a62206f83.doc  | b8521297486584fe99eb4f275973a8cbe2ffc55dceed16d63a24151a62206f83      | не одна                                                               | 1                                                                     | 2                                                                     | 665753.50                                                             | 2                                                                     | \n",
       "| 23                                                                    | 29                                                                    | 32                                                                    | 20193                                                                 | 68                                                                    | 68                                                                    | 0338200008616000188                                                   | NA                                                                    | 1.0                                                                   | 1102100                                                               | ⋯                                                                     | NA                                                                    | NA                                                                    | NA                                                                    | cb56b7dc68a7c58de18f62a9d890f2ef8d3a648fd4c21fbc109d9d0a2cbf1df8.docx | cb56b7dc68a7c58de18f62a9d890f2ef8d3a648fd4c21fbc109d9d0a2cbf1df8      | не одна                                                               | 1                                                                     | 2                                                                     | 1026995.00                                                            | 2                                                                     | \n",
       "| 24                                                                    | 33                                                                    | 36                                                                    | 21724                                                                 | 74                                                                    | 74                                                                    | 0151300020216000007                                                   | NA                                                                    | 1.0                                                                   | 583000                                                                | ⋯                                                                     | NA                                                                    | NA                                                                    | NA                                                                    | 4234a2249ce8e7757a71a457fcdd8bb718b3e9bf003685b5ab011df2e1ee1b38.doc  | 4234a2249ce8e7757a71a457fcdd8bb718b3e9bf003685b5ab011df2e1ee1b38      | 1                                                                     | 1                                                                     | 1                                                                     | 583000.00                                                             | 1                                                                     | \n",
       "| 25                                                                    | 35                                                                    | 38                                                                    | 23465                                                                 | 77                                                                    | 77                                                                    | 0221100000116000404                                                   | NA                                                                    | 1.0                                                                   | 5802843.96                                                            | ⋯                                                                     | 2016                                                                  | NA                                                                    | NA                                                                    | 6b6b5de93666b23b81f06f0fb759cb6de46d4811a381cc6cebf496f0f7aed08b.doc  | 6b6b5de93666b23b81f06f0fb759cb6de46d4811a381cc6cebf496f0f7aed08b      | 1                                                                     | 1                                                                     | 1                                                                     | 5802843.96                                                            | 1                                                                     | \n",
       "| 26                                                                    | 36                                                                    | 39                                                                    | 23883                                                                 | 78                                                                    | 78                                                                    | 0153300060616000375                                                   | NA                                                                    | 1.0                                                                   | 972996.67                                                             | ⋯                                                                     | NA                                                                    | NA                                                                    | NA                                                                    | b03d409c4c4ff84f8a3cfcc78a94cd627ed601991bb47ba244277b1b1de117cf.doc  | b03d409c4c4ff84f8a3cfcc78a94cd627ed601991bb47ba244277b1b1de117cf      | не одна                                                               | 1                                                                     | 2                                                                     | 972996.67                                                             | 1                                                                     | \n",
       "| 27                                                                    | 39                                                                    | 43                                                                    | 24981                                                                 | 82                                                                    | 82                                                                    | 0142200001316016160                                                   | NA                                                                    | 1.0                                                                   | 18830000                                                              | ⋯                                                                     | 2017                                                                  | NA                                                                    | NA                                                                    | e9f0d0d05052df8dadc698e5928b14f4a5a4ccfdeeded24c3cfb51d4cfb893d7.doc  | e9f0d0d05052df8dadc698e5928b14f4a5a4ccfdeeded24c3cfb51d4cfb893d7      | не одна                                                               | 1                                                                     | 2                                                                     | 17982650.00                                                           | 2                                                                     | \n",
       "| 28                                                                    | 41                                                                    | 46                                                                    | 94                                                                    | 85                                                                    | 85                                                                    | 0332300263717000003                                                   | NA                                                                    | 1.0                                                                   | 995000                                                                | ⋯                                                                     | NA                                                                    | NA                                                                    | NA                                                                    | 58da1c17ab74a34c1a816152c0443237eabd661b1fef89686b83ace73e9f67c5.docx | 58da1c17ab74a34c1a816152c0443237eabd661b1fef89686b83ace73e9f67c5      | 1                                                                     | 1                                                                     | 1                                                                     | 995000.00                                                             | 1                                                                     | \n",
       "| 29                                                                    | 43                                                                    | 48                                                                    | 334                                                                   | 87                                                                    | 87, 145, 163                                                          | 0166300021117000010                                                   | NA                                                                    | 1.0                                                                   | 924000                                                                | ⋯                                                                     | NA                                                                    | NA                                                                    | NA                                                                    | c3efcd062802911acce094dad3ad60900255510edf4b30578af114b65976dd23.docx | c3efcd062802911acce094dad3ad60900255510edf4b30578af114b65976dd23      | не одна                                                               | 1                                                                     | 2                                                                     | 919380.00                                                             | 2                                                                     | \n",
       "| 30                                                                    | 44                                                                    | 50                                                                    | 658                                                                   | 91                                                                    | 91, 94, 169, 175                                                      | 0848300051717000020                                                   | NA                                                                    | NA                                                                    | 947200                                                                | ⋯                                                                     | NA                                                                    | NA                                                                    | NA                                                                    | bda08d2e1d45551db7709baaa0bc7129c2afd5af735929a822a4585fc1473ba3.doc  | bda08d2e1d45551db7709baaa0bc7129c2afd5af735929a822a4585fc1473ba3      | не одна                                                               | 1                                                                     | 2                                                                     | 795648.00                                                             | 2                                                                     | \n",
       "| ⋮ | ⋮ | ⋮ | ⋮ | ⋮ | ⋮ | ⋮ | ⋮ | ⋮ | ⋮ | ⋱ | ⋮ | ⋮ | ⋮ | ⋮ | ⋮ | ⋮ | ⋮ | ⋮ | ⋮ | ⋮ | \n",
       "| 755                                                                   | 1020                                                                  | 1221                                                                  | 11767                                                                 | 2387                                                                  | 2387                                                                  | 0333300049717000003                                                   | NA                                                                    | 1.0                                                                   | 650000                                                                | ⋯                                                                     | NA                                                                    | NA                                                                    | NA                                                                    | 265a64d99ab097709d94a5b4800cb9268680e5f0f55667f7b1941e8eb98a77bb.docx | 265a64d99ab097709d94a5b4800cb9268680e5f0f55667f7b1941e8eb98a77bb      | 1                                                                     | 1                                                                     | 1                                                                     | 650000.00                                                             | 1                                                                     | \n",
       "| 756                                                                   | 1021                                                                  | 1222                                                                  | 11816                                                                 | 2388                                                                  | 2388                                                                  | 0145300001917000185                                                   | NA                                                                    | 1.0                                                                   | 1300000                                                               | ⋯                                                                     | NA                                                                    | NA                                                                    | NA                                                                    | cf2ab7bb69bcf6cf5b7c728270a12cdab611e42f930579ef414405ef92daf14a.doc  | cf2ab7bb69bcf6cf5b7c728270a12cdab611e42f930579ef414405ef92daf14a      | не одна                                                               | 1                                                                     | 2                                                                     | 1138500.00                                                            | 2                                                                     | \n",
       "| 757                                                                   | 1022                                                                  | 1223                                                                  | 11817                                                                 | 2389                                                                  | 2389, 2449                                                            | 0139300008117000087                                                   | NA                                                                    | 1.0                                                                   | 658710                                                                | ⋯                                                                     | NA                                                                    | NA                                                                    | NA                                                                    | 472f89cee3c8fd31246670829662b493f6e449c73d9470518b681204f8d7a0aa.docx | 472f89cee3c8fd31246670829662b493f6e449c73d9470518b681204f8d7a0aa      | не одна                                                               | 1                                                                     | 2                                                                     | 633181.00                                                             | 1                                                                     | \n",
       "| 758                                                                   | 1024                                                                  | 1226                                                                  | 12332                                                                 | 2405                                                                  | 2405                                                                  | 0558400000117000001                                                   | NA                                                                    | 1.0                                                                   | 1320000                                                               | ⋯                                                                     | NA                                                                    | NA                                                                    | NA                                                                    | eb4a4192d863bc25e2168cee35c48e27e4e2c7a92791dad31884c4b425f47037.doc  | eb4a4192d863bc25e2168cee35c48e27e4e2c7a92791dad31884c4b425f47037      | 1                                                                     | 1                                                                     | 1                                                                     | 1320000.00                                                            | 1                                                                     | \n",
       "| 759                                                                   | 1026                                                                  | 1228                                                                  | 12423                                                                 | 2407                                                                  | 2407                                                                  | 0573100016517000081                                                   | NA                                                                    | 1.0                                                                   | 1460000                                                               | ⋯                                                                     | NA                                                                    | NA                                                                    | NA                                                                    | 1118e21c43b2f220daf058a262483d55830c5acb1d0e0405c085cac9ad48f7d3.docx | 1118e21c43b2f220daf058a262483d55830c5acb1d0e0405c085cac9ad48f7d3      | 1                                                                     | 1                                                                     | 1                                                                     | 1460000.00                                                            | 1                                                                     | \n",
       "| 760                                                                   | 1027                                                                  | 1229                                                                  | 12534                                                                 | 2412                                                                  | 2412                                                                  | 0136200003617004134                                                   | NA                                                                    | 1.0                                                                   | 855558.33                                                             | ⋯                                                                     | NA                                                                    | NA                                                                    | NA                                                                    | d038c18f962a1b333abb94f3719712a300706245ce00ef6937cbf9a40c0f19ba.doc  | d038c18f962a1b333abb94f3719712a300706245ce00ef6937cbf9a40c0f19ba      | не одна                                                               | 1                                                                     | 2                                                                     | 812776.80                                                             | 2                                                                     | \n",
       "| 761                                                                   | 1028                                                                  | 1230                                                                  | 12574                                                                 | 2414                                                                  | 2414                                                                  | 0811100001017000070                                                   | NA                                                                    | 1.0                                                                   | 1740000                                                               | ⋯                                                                     | NA                                                                    | NA                                                                    | NA                                                                    | 0b2a7159e9b8f0e13ac9b4a18e624905ee93983a08e8bd10e99060c8e31bdbc2.docx | 0b2a7159e9b8f0e13ac9b4a18e624905ee93983a08e8bd10e99060c8e31bdbc2      | 1                                                                     | 1                                                                     | 1                                                                     | 1740000.00                                                            | 1                                                                     | \n",
       "| 762                                                                   | 1030                                                                  | 1232                                                                  | 12948                                                                 | 2422                                                                  | 2422                                                                  | 0132200003017000067                                                   | NA                                                                    | 1.0                                                                   | 720000                                                                | ⋯                                                                     | NA                                                                    | NA                                                                    | NA                                                                    | 79a97699391fe975089739ade47dee3275d0cb4633edf54dc4c55a37530fbb29.docx | 79a97699391fe975089739ade47dee3275d0cb4633edf54dc4c55a37530fbb29      | не одна                                                               | 1                                                                     | 2                                                                     | 673200.00                                                             | 2                                                                     | \n",
       "| 763                                                                   | 1031                                                                  | 1233                                                                  | 13041                                                                 | 2425                                                                  | 2425                                                                  | 0554600003217000003                                                   | NA                                                                    | NA                                                                    | 678933                                                                | ⋯                                                                     | 2017                                                                  | NA                                                                    | NA                                                                    | 4298883512f0a355ea14bbf95fb1287ac6255abba26ee08d0fc6aea33b8dcb13.docx | 4298883512f0a355ea14bbf95fb1287ac6255abba26ee08d0fc6aea33b8dcb13      | не одна                                                               | 1                                                                     | 2                                                                     | 658505.33                                                             | 2                                                                     | \n",
       "| 764                                                                   | 1032                                                                  | 1234                                                                  | 13099                                                                 | 2429                                                                  | 2429                                                                  | 0817200000317003740                                                   | NA                                                                    | NA                                                                    | 1163800                                                               | ⋯                                                                     | 2016                                                                  | NA                                                                    | NA                                                                    | cecb4947939d2b935a2e09902ed87fcf5758de204f82c6aaa3c63029a410c2c9.doc  | cecb4947939d2b935a2e09902ed87fcf5758de204f82c6aaa3c63029a410c2c9      | не одна                                                               | 1                                                                     | 2                                                                     | 1117248.00                                                            | 2                                                                     | \n",
       "| 765                                                                   | 1034                                                                  | 1236                                                                  | 13200                                                                 | 2435                                                                  | 2435                                                                  | 0194200000517003346                                                   | NA                                                                    | NA                                                                    | 2810000                                                               | ⋯                                                                     | NA                                                                    | NA                                                                    | NA                                                                    | 6b7c5daa1a02d457f09e439dfab2c23ac3a0ae0126110553c139169daf0e1c2b.docx | 6b7c5daa1a02d457f09e439dfab2c23ac3a0ae0126110553c139169daf0e1c2b      | 1                                                                     | 1                                                                     | 1                                                                     | 2810000.00                                                            | 1                                                                     | \n",
       "| 766                                                                   | 1035                                                                  | 1237                                                                  | 13255                                                                 | 2437                                                                  | 2437                                                                  | 0195400000217000139                                                   | NA                                                                    | 1.0                                                                   | 35637000                                                              | ⋯                                                                     | NA                                                                    | NA                                                                    | NA                                                                    | 31c7f435c5d6eb1e1d34729a06b411d317407ae4a39f3435ebbd0479db706f1c.doc  | 31c7f435c5d6eb1e1d34729a06b411d317407ae4a39f3435ebbd0479db706f1c      | не одна                                                               | 1                                                                     | 1                                                                     | 35637000.00                                                           | 1                                                                     | \n",
       "| 767                                                                   | 1036                                                                  | 1238                                                                  | 13308                                                                 | 2439                                                                  | 2439                                                                  | 0518200001617000012                                                   | NA                                                                    | 1.0                                                                   | 1998000                                                               | ⋯                                                                     | NA                                                                    | NA                                                                    | NA                                                                    | 373f641bc13f879f232fb45380ed91b7e9a619c0a102cd13c2978400e17a9df2.docx | 373f641bc13f879f232fb45380ed91b7e9a619c0a102cd13c2978400e17a9df2      | 1                                                                     | 1                                                                     | 1                                                                     | 1998000.00                                                            | 1                                                                     | \n",
       "| 768                                                                   | 1038                                                                  | 1240                                                                  | 13326                                                                 | 2442                                                                  | 2442, 2481                                                            | 0148300015517000429                                                   | NA                                                                    | 1.0                                                                   | 581646.66                                                             | ⋯                                                                     | 2017                                                                  | NA                                                                    | NA                                                                    | 4a13f5d888da428bde589c56670d42cac9e42993602cc7db7e7892d460c7d845.docx | 4a13f5d888da428bde589c56670d42cac9e42993602cc7db7e7892d460c7d845      | не одна                                                               | 1                                                                     | 2                                                                     | 558081.00                                                             | 2                                                                     | \n",
       "| 769                                                                   | 1039                                                                  | 1241                                                                  | 13362                                                                 | 2444                                                                  | 2444                                                                  | 0353300019117000018                                                   | NA                                                                    | 1.0                                                                   | 964900                                                                | ⋯                                                                     | NA                                                                    | NA                                                                    | NA                                                                    | 78c93fb14a145910cbb8607e20e0dc7509a119b9c5cbc06599c339593b86f081.docx | 78c93fb14a145910cbb8607e20e0dc7509a119b9c5cbc06599c339593b86f081      | 1                                                                     | 1                                                                     | 1                                                                     | 964900.00                                                             | 1                                                                     | \n",
       "| 770                                                                   | 1042                                                                  | 1245                                                                  | 13598                                                                 | 2453                                                                  | 2453                                                                  | 0225100000217000024                                                   | NA                                                                    | 1.0                                                                   | 969900                                                                | ⋯                                                                     | NA                                                                    | NA                                                                    | NA                                                                    | 13689eeb4813949fad1c4b00c66ea702312358e0722dd69af6c25af5a6612d5b.doc  | 13689eeb4813949fad1c4b00c66ea702312358e0722dd69af6c25af5a6612d5b      | 1                                                                     | 1                                                                     | 1                                                                     | 969900.00                                                             | 1                                                                     | \n",
       "| 771                                                                   | 1044                                                                  | 1247                                                                  | 13687                                                                 | 2456                                                                  | 2456                                                                  | 0855200000517000959                                                   | NA                                                                    | NA                                                                    | 901000                                                                | ⋯                                                                     | NA                                                                    | NA                                                                    | NA                                                                    | 1073e12e8875473f7f53cc3002f6df9def98e3bad09d272d148b266c243d8b59.docx | 1073e12e8875473f7f53cc3002f6df9def98e3bad09d272d148b266c243d8b59      | не одна                                                               | 1                                                                     | 2                                                                     | 846940.00                                                             | 2                                                                     | \n",
       "| 772                                                                   | 1045                                                                  | 1248                                                                  | 13716                                                                 | 2457                                                                  | 2457                                                                  | 0156300049017000014                                                   | NA                                                                    | 1.0                                                                   | 1300000                                                               | ⋯                                                                     | NA                                                                    | NA                                                                    | NA                                                                    | 03d1b41083d747ded3d48beac5bf7ee8593b353720bcd114753468bbf535e4ed.docx | 03d1b41083d747ded3d48beac5bf7ee8593b353720bcd114753468bbf535e4ed      | 1                                                                     | 1                                                                     | 1                                                                     | 1300000.00                                                            | 1                                                                     | \n",
       "| 773                                                                   | 1046                                                                  | 1249                                                                  | 13760                                                                 | 2461                                                                  | 2461                                                                  | 0151300035117000006                                                   | NA                                                                    | 1.0                                                                   | 493226.67                                                             | ⋯                                                                     | NA                                                                    | NA                                                                    | NA                                                                    | 970ea22c852cc288e6165976735ca5f3a32fddfc20dd4e2b86bcb98522e86f34.docx | 970ea22c852cc288e6165976735ca5f3a32fddfc20dd4e2b86bcb98522e86f34      | не одна                                                               | 1                                                                     | 2                                                                     | 483362.15                                                             | 2                                                                     | \n",
       "| 774                                                                   | 1047                                                                  | 1250                                                                  | 13820                                                                 | 2464                                                                  | 2464                                                                  | 0129300046617000018                                                   | NA                                                                    | 1.0                                                                   | 449366.67                                                             | ⋯                                                                     | NA                                                                    | NA                                                                    | NA                                                                    | 769645a97681415ca3fb92d9ef80cc634014ddcd85d22ddef09eb6102d2279d3.doc  | 769645a97681415ca3fb92d9ef80cc634014ddcd85d22ddef09eb6102d2279d3      | 1                                                                     | 1                                                                     | 1                                                                     | 449366.67                                                             | 1                                                                     | \n",
       "| 775                                                                   | 1048                                                                  | 1252                                                                  | 13835                                                                 | 2466                                                                  | 2466                                                                  | 0573100016517000110                                                   | NA                                                                    | 1.0                                                                   | 1500000                                                               | ⋯                                                                     | NA                                                                    | NA                                                                    | NA                                                                    | 995f0fd2a280dcdb8063d2fa29fffe35136e44b403913b1d42ee1b52f47925a6.docx | 995f0fd2a280dcdb8063d2fa29fffe35136e44b403913b1d42ee1b52f47925a6      | 1                                                                     | 1                                                                     | 1                                                                     | 1500000.00                                                            | 1                                                                     | \n",
       "| 776                                                                   | 1049                                                                  | 1254                                                                  | 13947                                                                 | 2469                                                                  | 2469                                                                  | 0573500001317000020                                                   | NA                                                                    | 1.0                                                                   | 1500000                                                               | ⋯                                                                     | NA                                                                    | NA                                                                    | NA                                                                    | 19c0bbde5bc37634a7aa6cea5fe33d31638ba6b4786ad88f9dcf8e27c2fa088d.docx | 19c0bbde5bc37634a7aa6cea5fe33d31638ba6b4786ad88f9dcf8e27c2fa088d      | не одна                                                               | 1                                                                     | 2                                                                     | 1485000.00                                                            | 2                                                                     | \n",
       "| 777                                                                   | 1052                                                                  | 1257                                                                  | 13997                                                                 | 2473                                                                  | 2473                                                                  | 0301300367917000007                                                   | NA                                                                    | 1.0                                                                   | 644400                                                                | ⋯                                                                     | NA                                                                    | NA                                                                    | NA                                                                    | f0701d9c224c3d1022306afc27fe8ff48f1fc8055172942b26a23836138fb687.docx | f0701d9c224c3d1022306afc27fe8ff48f1fc8055172942b26a23836138fb687      | не одна                                                               | 1                                                                     | 2                                                                     | 644400.00                                                             | 2                                                                     | \n",
       "| 778                                                                   | 1053                                                                  | 1258                                                                  | 14014                                                                 | 2474                                                                  | 2474                                                                  | 0122300006117000648                                                   | NA                                                                    | 1.0                                                                   | 1499000                                                               | ⋯                                                                     | NA                                                                    | NA                                                                    | NA                                                                    | 988790db2b013c59c99f72b7ee9525d3810100c3f5290446c85653408c66a636.docx | 988790db2b013c59c99f72b7ee9525d3810100c3f5290446c85653408c66a636      | 1                                                                     | 1                                                                     | 1                                                                     | 1499000.00                                                            | 1                                                                     | \n",
       "| 779                                                                   | 1054                                                                  | 1259                                                                  | 14110                                                                 | 2477                                                                  | 2477                                                                  | 0557300003917000040                                                   | NA                                                                    | 1.0                                                                   | 710000                                                                | ⋯                                                                     | NA                                                                    | NA                                                                    | NA                                                                    | 0d178cc0f2637ce4d79518c3bd290847eccdf517e128a3a05714fab0e762d288.doc  | 0d178cc0f2637ce4d79518c3bd290847eccdf517e128a3a05714fab0e762d288      | 1                                                                     | 1                                                                     | 1                                                                     | 709000.00                                                             | 1                                                                     | \n",
       "| 780                                                                   | 1055                                                                  | 1262                                                                  | 14199                                                                 | 2483                                                                  | 2483                                                                  | 0132300007517000161                                                   | NA                                                                    | 1.0                                                                   | 3e+06                                                                 | ⋯                                                                     | NA                                                                    | NA                                                                    | NA                                                                    | 54c5b93e9a287dbac0bae635c29d30f03d5ab5ba315a66f511583853ea00256d.doc  | 54c5b93e9a287dbac0bae635c29d30f03d5ab5ba315a66f511583853ea00256d      | 1                                                                     | 1                                                                     | 1                                                                     | 3000000.00                                                            | 1                                                                     | \n",
       "| 781                                                                   | 1056                                                                  | 1263                                                                  | 14252                                                                 | 2484                                                                  | 2484                                                                  | 0548200002217000024                                                   | NA                                                                    | 1.0                                                                   | 2360778                                                               | ⋯                                                                     | 2017                                                                  | NA                                                                    | NA                                                                    | 80e678664ecec3754e83cc6ab215dc60ec7824fda1468caa4387f0ca767c91ee.docx | 80e678664ecec3754e83cc6ab215dc60ec7824fda1468caa4387f0ca767c91ee      | 1                                                                     | 1                                                                     | 1                                                                     | 2360778.00                                                            | 1                                                                     | \n",
       "| 782                                                                   | 1057                                                                  | 1264                                                                  | 14289                                                                 | 2485                                                                  | 2485                                                                  | 0137200001217002015                                                   | NA                                                                    | 1.0                                                                   | 789700                                                                | ⋯                                                                     | NA                                                                    | NA                                                                    | NA                                                                    | 192d8f63f4b04fee9c2a1385b65f782bf992fb8f7d2a52089e65a035b2b196c0.docx | 192d8f63f4b04fee9c2a1385b65f782bf992fb8f7d2a52089e65a035b2b196c0      | 1                                                                     | 1                                                                     | 1                                                                     | 789700.00                                                             | 1                                                                     | \n",
       "| 783                                                                   | 1058                                                                  | 1265                                                                  | 14474                                                                 | 2495                                                                  | 2495                                                                  | 0373100064617000376                                                   | NA                                                                    | 1.0                                                                   | 729300                                                                | ⋯                                                                     | NA                                                                    | NA                                                                    | NA                                                                    | 89d2f1dac5229811f3850378e2ac18969420ac83345dc7e8a07484a331383b7e.docx | 89d2f1dac5229811f3850378e2ac18969420ac83345dc7e8a07484a331383b7e      | 1                                                                     | 1                                                                     | 1                                                                     | 729300.00                                                             | 1                                                                     | \n",
       "| 784                                                                   | 1059                                                                  | 1266                                                                  | 14542                                                                 | 2497                                                                  | 2497                                                                  | 0891200000617003531                                                   | NA                                                                    | 1.0                                                                   | 481900                                                                | ⋯                                                                     | NA                                                                    | NA                                                                    | NA                                                                    | 488a4b31e7f1e862aa5e15d3599c31e1c894b7d19e70517ceda25a44350b6e77.doc  | 488a4b31e7f1e862aa5e15d3599c31e1c894b7d19e70517ceda25a44350b6e77      | 1                                                                     | 1                                                                     | 1                                                                     | 481900.00                                                             | 1                                                                     | \n",
       "\n",
       "\n"
      ],
      "text/plain": [
       "    X__2 new_index X__1 n     index_name all_indexes      purchase_number    \n",
       "1   1     1        1    366   3          3                0372200026816000053\n",
       "2   2     2        2    1158  5          5, 25            0832200006616001265\n",
       "3   3     3        3    1361  6          6                0146300031216000008\n",
       "4   4     4        4    2680  8          8, 36            0328300015616000270\n",
       "5   5     5        6    4168  12         12               0845300015016000715\n",
       "6   6     6        7    4450  13         13, 28, 40       0173200024416000142\n",
       "7   7     8        9    4616  16         16, 62           0328300172416000002\n",
       "8   8     9        10   5298  17         17               0151300046117000004\n",
       "9   9    10        11   5329  18         18, 54           0142200001316016312\n",
       "10  10   11        12   5586  20         20               0303300076016000012\n",
       "11  11   12        13   6317  21         21, 23           0319300156216000034\n",
       "12  12   14        17   8187  30         30               0227100000316000110\n",
       "13  13   15        18   8350  32         32               0301300502616000006\n",
       "14  14   16        19   8473  33         33, 37           0146300018716000003\n",
       "15  15   17        20   8760  34         34, 48, 60, 70   0236100000116000347\n",
       "16  16   19        22   9858  39         39               0311200046516000118\n",
       "17  17   21        24   11407 44         44               0101300069916000006\n",
       "18  18   22        25   12402 46         46               0350300003216000056\n",
       "19  19   24        27   13737 50         50, 72           0151300016316000062\n",
       "20  20   25        28   15280 55         55, 63           0156200010016000033\n",
       "21  21   27        30   15507 58         58               0301300451916000335\n",
       "22  22   28        31   17676 65         65, 66           0113200000116004351\n",
       "23  23   29        32   20193 68         68               0338200008616000188\n",
       "24  24   33        36   21724 74         74               0151300020216000007\n",
       "25  25   35        38   23465 77         77               0221100000116000404\n",
       "26  26   36        39   23883 78         78               0153300060616000375\n",
       "27  27   39        43   24981 82         82               0142200001316016160\n",
       "28  28   41        46   94    85         85               0332300263717000003\n",
       "29  29   43        48   334   87         87, 145, 163     0166300021117000010\n",
       "30  30   44        50   658   91         91, 94, 169, 175 0848300051717000020\n",
       "⋮   ⋮    ⋮         ⋮    ⋮     ⋮          ⋮                ⋮                  \n",
       "755 755  1020      1221 11767 2387       2387             0333300049717000003\n",
       "756 756  1021      1222 11816 2388       2388             0145300001917000185\n",
       "757 757  1022      1223 11817 2389       2389, 2449       0139300008117000087\n",
       "758 758  1024      1226 12332 2405       2405             0558400000117000001\n",
       "759 759  1026      1228 12423 2407       2407             0573100016517000081\n",
       "760 760  1027      1229 12534 2412       2412             0136200003617004134\n",
       "761 761  1028      1230 12574 2414       2414             0811100001017000070\n",
       "762 762  1030      1232 12948 2422       2422             0132200003017000067\n",
       "763 763  1031      1233 13041 2425       2425             0554600003217000003\n",
       "764 764  1032      1234 13099 2429       2429             0817200000317003740\n",
       "765 765  1034      1236 13200 2435       2435             0194200000517003346\n",
       "766 766  1035      1237 13255 2437       2437             0195400000217000139\n",
       "767 767  1036      1238 13308 2439       2439             0518200001617000012\n",
       "768 768  1038      1240 13326 2442       2442, 2481       0148300015517000429\n",
       "769 769  1039      1241 13362 2444       2444             0353300019117000018\n",
       "770 770  1042      1245 13598 2453       2453             0225100000217000024\n",
       "771 771  1044      1247 13687 2456       2456             0855200000517000959\n",
       "772 772  1045      1248 13716 2457       2457             0156300049017000014\n",
       "773 773  1046      1249 13760 2461       2461             0151300035117000006\n",
       "774 774  1047      1250 13820 2464       2464             0129300046617000018\n",
       "775 775  1048      1252 13835 2466       2466             0573100016517000110\n",
       "776 776  1049      1254 13947 2469       2469             0573500001317000020\n",
       "777 777  1052      1257 13997 2473       2473             0301300367917000007\n",
       "778 778  1053      1258 14014 2474       2474             0122300006117000648\n",
       "779 779  1054      1259 14110 2477       2477             0557300003917000040\n",
       "780 780  1055      1262 14199 2483       2483             0132300007517000161\n",
       "781 781  1056      1263 14252 2484       2484             0548200002217000024\n",
       "782 782  1057      1264 14289 2485       2485             0137200001217002015\n",
       "783 783  1058      1265 14474 2495       2495             0373100064617000376\n",
       "784 784  1059      1266 14542 2497       2497             0891200000617003531\n",
       "    done completed_car_purchase price      ⋯ год_выпуска мощность_л_с\n",
       "1   1    1.0                    607902.33  ⋯ 2016        90 л.с.     \n",
       "2   NA   1.0                    999833.33  ⋯ NA          NA          \n",
       "3   NA   1.0                    685000     ⋯ NA          NA          \n",
       "4   NA   1.0                    383900     ⋯ 2016        NA          \n",
       "5   NA   1.0                    998456     ⋯ 2016        NA          \n",
       "6   NA   1.0                    2999666.66 ⋯ 2016        NA          \n",
       "7   NA   1.0                    599666.66  ⋯ NA          NA          \n",
       "8   NA   1.0                    1e+06      ⋯ NA          NA          \n",
       "9   NA   1.0                    1315000    ⋯ NA          NA          \n",
       "10  NA   1.0                    1e+06      ⋯ 2016        NA          \n",
       "11  NA   1.0                    1500000    ⋯ NA          NA          \n",
       "12  NA   1.0                    8936400.06 ⋯ NA          NA          \n",
       "13  NA   1.0                    727000     ⋯ NA          NA          \n",
       "14  NA   1.0                    415000     ⋯ NA          NA          \n",
       "15  NA   1.0                    6803020    ⋯ NA          NA          \n",
       "16  NA   1.0                    2049333.33 ⋯ NA          NA          \n",
       "17  NA   1.0                    970387     ⋯ NA          NA          \n",
       "18  NA   NA                     986285.71  ⋯ NA          NA          \n",
       "19  NA   1.0                    1013333.33 ⋯ 2016        NA          \n",
       "20  NA   1.0                    1897000    ⋯ NA          NA          \n",
       "21  NA   1.0                    1076666.67 ⋯ NA          NA          \n",
       "22  NA   1.0                    692300     ⋯ NA          NA          \n",
       "23  NA   1.0                    1102100    ⋯ NA          NA          \n",
       "24  NA   1.0                    583000     ⋯ NA          NA          \n",
       "25  NA   1.0                    5802843.96 ⋯ 2016        NA          \n",
       "26  NA   1.0                    972996.67  ⋯ NA          NA          \n",
       "27  NA   1.0                    18830000   ⋯ 2017        NA          \n",
       "28  NA   1.0                    995000     ⋯ NA          NA          \n",
       "29  NA   1.0                    924000     ⋯ NA          NA          \n",
       "30  NA   NA                     947200     ⋯ NA          NA          \n",
       "⋮   ⋮    ⋮                      ⋮          ⋱ ⋮           ⋮           \n",
       "755 NA   1.0                    650000     ⋯ NA          NA          \n",
       "756 NA   1.0                    1300000    ⋯ NA          NA          \n",
       "757 NA   1.0                    658710     ⋯ NA          NA          \n",
       "758 NA   1.0                    1320000    ⋯ NA          NA          \n",
       "759 NA   1.0                    1460000    ⋯ NA          NA          \n",
       "760 NA   1.0                    855558.33  ⋯ NA          NA          \n",
       "761 NA   1.0                    1740000    ⋯ NA          NA          \n",
       "762 NA   1.0                    720000     ⋯ NA          NA          \n",
       "763 NA   NA                     678933     ⋯ 2017        NA          \n",
       "764 NA   NA                     1163800    ⋯ 2016        NA          \n",
       "765 NA   NA                     2810000    ⋯ NA          NA          \n",
       "766 NA   1.0                    35637000   ⋯ NA          NA          \n",
       "767 NA   1.0                    1998000    ⋯ NA          NA          \n",
       "768 NA   1.0                    581646.66  ⋯ 2017        NA          \n",
       "769 NA   1.0                    964900     ⋯ NA          NA          \n",
       "770 NA   1.0                    969900     ⋯ NA          NA          \n",
       "771 NA   NA                     901000     ⋯ NA          NA          \n",
       "772 NA   1.0                    1300000    ⋯ NA          NA          \n",
       "773 NA   1.0                    493226.67  ⋯ NA          NA          \n",
       "774 NA   1.0                    449366.67  ⋯ NA          NA          \n",
       "775 NA   1.0                    1500000    ⋯ NA          NA          \n",
       "776 NA   1.0                    1500000    ⋯ NA          NA          \n",
       "777 NA   1.0                    644400     ⋯ NA          NA          \n",
       "778 NA   1.0                    1499000    ⋯ NA          NA          \n",
       "779 NA   1.0                    710000     ⋯ NA          NA          \n",
       "780 NA   1.0                    3e+06      ⋯ NA          NA          \n",
       "781 NA   1.0                    2360778    ⋯ 2017        NA          \n",
       "782 NA   1.0                    789700     ⋯ NA          NA          \n",
       "783 NA   1.0                    729300     ⋯ NA          NA          \n",
       "784 NA   1.0                    481900     ⋯ NA          NA          \n",
       "    потребление_топлива_городской_цикл_л_100км\n",
       "1   9.8                                       \n",
       "2   NA                                        \n",
       "3   NA                                        \n",
       "4   NA                                        \n",
       "5   NA                                        \n",
       "6   NA                                        \n",
       "7   NA                                        \n",
       "8   NA                                        \n",
       "9   NA                                        \n",
       "10  NA                                        \n",
       "11  NA                                        \n",
       "12  NA                                        \n",
       "13  NA                                        \n",
       "14  NA                                        \n",
       "15  NA                                        \n",
       "16  NA                                        \n",
       "17  NA                                        \n",
       "18  NA                                        \n",
       "19  NA                                        \n",
       "20  NA                                        \n",
       "21  NA                                        \n",
       "22  NA                                        \n",
       "23  NA                                        \n",
       "24  NA                                        \n",
       "25  NA                                        \n",
       "26  NA                                        \n",
       "27  NA                                        \n",
       "28  NA                                        \n",
       "29  NA                                        \n",
       "30  NA                                        \n",
       "⋮   ⋮                                         \n",
       "755 NA                                        \n",
       "756 NA                                        \n",
       "757 NA                                        \n",
       "758 NA                                        \n",
       "759 NA                                        \n",
       "760 NA                                        \n",
       "761 NA                                        \n",
       "762 NA                                        \n",
       "763 NA                                        \n",
       "764 NA                                        \n",
       "765 NA                                        \n",
       "766 NA                                        \n",
       "767 NA                                        \n",
       "768 NA                                        \n",
       "769 NA                                        \n",
       "770 NA                                        \n",
       "771 NA                                        \n",
       "772 NA                                        \n",
       "773 NA                                        \n",
       "774 NA                                        \n",
       "775 NA                                        \n",
       "776 NA                                        \n",
       "777 NA                                        \n",
       "778 NA                                        \n",
       "779 NA                                        \n",
       "780 NA                                        \n",
       "781 NA                                        \n",
       "782 NA                                        \n",
       "783 NA                                        \n",
       "784 NA                                        \n",
       "    filename                                                             \n",
       "1   1ba23d353bf63fb0a234f2b6a9d14e1037f4a60148f3f585a9b702dc5c14a630.docx\n",
       "2   024c72855e2fba691b939d0086663ad1443796412de9f317246cfc16f7b101b5.docx\n",
       "3   ca66aceb8b70fb06cf8baf7a97d241f4840f2d595544e42bd6c6baec29dcc7bc.docx\n",
       "4   f4a04f18a5305d9b15eb45bae4532fdaa9f4360660e24ec382148c70fba137db.docx\n",
       "5   da80d318cb1666e928232bc3833f0aff402d841c732486c0c0c15ede407c96e3.docx\n",
       "6   382dfe4e26eb371045ae699256a2c174518fa9a97c8b714986a3ae5775693714.docx\n",
       "7   9ecb011bc06b0b10f17d419b1ecc68e59f6ae68c0fdb61a9f85ff1faa0585dcf.docx\n",
       "8   2d4041698e59ada41cc9ab6b56c8c9da72cd8bc190e96cb100e65620e36615fc.docx\n",
       "9   0db5c8f6f0314793cc8b93cf7211471637b5e058a603a95c97b96bdf13c3096e.docx\n",
       "10  6ba44c495d16297120b6114fec7e498b3ab76f2592b1f0dbeb38a1f345bef7bf.docx\n",
       "11  a8ca860f6751f573ed129d0f4ad805c2165a80d920e9b309de1da4dc64ccf436.docx\n",
       "12  6901dffb49ed541999a2b76c9bdb6b934e6e96855980a2e59cb1e444c111182c.doc \n",
       "13  204dd5464c3f69a2e92e780a480a6736555a9dae52a4b1bec819210835e23b6b.doc \n",
       "14  fb87a2cb1709ad9f3254a78203097612b743a71452c249f13eb40b9e3d9919ee.doc \n",
       "15  c62ec8f85afdebdbc5061361d391b0878ee30a0658ac6c9a49c20973f3b5d969.docx\n",
       "16  c69092c6f98c6e94c86cc1929bdb32ebd35c26e3f703090d3cb23225bae9aacb.doc \n",
       "17  bb684aa80ff134de3d9ca2a48282b85ec483d678728e6d9729ed515e4a82c8aa.doc \n",
       "18  68ddca582629a5f2346dafe0333a0f14f92d03ffbf6ada271f00c3dd4cfa7cc4.docx\n",
       "19  3a39d8673b7de47a8a009d22daf8d31c61132e140e2266e9c2fd7e26d550f639.docx\n",
       "20  baed780b894d355433641d3a427229c9d00b5034dde90671f2a75cef595f3406.doc \n",
       "21  ce41a70c9ed23128987160cc5734c97f42c654283287d83600ad76c6114286ab.docx\n",
       "22  b8521297486584fe99eb4f275973a8cbe2ffc55dceed16d63a24151a62206f83.doc \n",
       "23  cb56b7dc68a7c58de18f62a9d890f2ef8d3a648fd4c21fbc109d9d0a2cbf1df8.docx\n",
       "24  4234a2249ce8e7757a71a457fcdd8bb718b3e9bf003685b5ab011df2e1ee1b38.doc \n",
       "25  6b6b5de93666b23b81f06f0fb759cb6de46d4811a381cc6cebf496f0f7aed08b.doc \n",
       "26  b03d409c4c4ff84f8a3cfcc78a94cd627ed601991bb47ba244277b1b1de117cf.doc \n",
       "27  e9f0d0d05052df8dadc698e5928b14f4a5a4ccfdeeded24c3cfb51d4cfb893d7.doc \n",
       "28  58da1c17ab74a34c1a816152c0443237eabd661b1fef89686b83ace73e9f67c5.docx\n",
       "29  c3efcd062802911acce094dad3ad60900255510edf4b30578af114b65976dd23.docx\n",
       "30  bda08d2e1d45551db7709baaa0bc7129c2afd5af735929a822a4585fc1473ba3.doc \n",
       "⋮   ⋮                                                                    \n",
       "755 265a64d99ab097709d94a5b4800cb9268680e5f0f55667f7b1941e8eb98a77bb.docx\n",
       "756 cf2ab7bb69bcf6cf5b7c728270a12cdab611e42f930579ef414405ef92daf14a.doc \n",
       "757 472f89cee3c8fd31246670829662b493f6e449c73d9470518b681204f8d7a0aa.docx\n",
       "758 eb4a4192d863bc25e2168cee35c48e27e4e2c7a92791dad31884c4b425f47037.doc \n",
       "759 1118e21c43b2f220daf058a262483d55830c5acb1d0e0405c085cac9ad48f7d3.docx\n",
       "760 d038c18f962a1b333abb94f3719712a300706245ce00ef6937cbf9a40c0f19ba.doc \n",
       "761 0b2a7159e9b8f0e13ac9b4a18e624905ee93983a08e8bd10e99060c8e31bdbc2.docx\n",
       "762 79a97699391fe975089739ade47dee3275d0cb4633edf54dc4c55a37530fbb29.docx\n",
       "763 4298883512f0a355ea14bbf95fb1287ac6255abba26ee08d0fc6aea33b8dcb13.docx\n",
       "764 cecb4947939d2b935a2e09902ed87fcf5758de204f82c6aaa3c63029a410c2c9.doc \n",
       "765 6b7c5daa1a02d457f09e439dfab2c23ac3a0ae0126110553c139169daf0e1c2b.docx\n",
       "766 31c7f435c5d6eb1e1d34729a06b411d317407ae4a39f3435ebbd0479db706f1c.doc \n",
       "767 373f641bc13f879f232fb45380ed91b7e9a619c0a102cd13c2978400e17a9df2.docx\n",
       "768 4a13f5d888da428bde589c56670d42cac9e42993602cc7db7e7892d460c7d845.docx\n",
       "769 78c93fb14a145910cbb8607e20e0dc7509a119b9c5cbc06599c339593b86f081.docx\n",
       "770 13689eeb4813949fad1c4b00c66ea702312358e0722dd69af6c25af5a6612d5b.doc \n",
       "771 1073e12e8875473f7f53cc3002f6df9def98e3bad09d272d148b266c243d8b59.docx\n",
       "772 03d1b41083d747ded3d48beac5bf7ee8593b353720bcd114753468bbf535e4ed.docx\n",
       "773 970ea22c852cc288e6165976735ca5f3a32fddfc20dd4e2b86bcb98522e86f34.docx\n",
       "774 769645a97681415ca3fb92d9ef80cc634014ddcd85d22ddef09eb6102d2279d3.doc \n",
       "775 995f0fd2a280dcdb8063d2fa29fffe35136e44b403913b1d42ee1b52f47925a6.docx\n",
       "776 19c0bbde5bc37634a7aa6cea5fe33d31638ba6b4786ad88f9dcf8e27c2fa088d.docx\n",
       "777 f0701d9c224c3d1022306afc27fe8ff48f1fc8055172942b26a23836138fb687.docx\n",
       "778 988790db2b013c59c99f72b7ee9525d3810100c3f5290446c85653408c66a636.docx\n",
       "779 0d178cc0f2637ce4d79518c3bd290847eccdf517e128a3a05714fab0e762d288.doc \n",
       "780 54c5b93e9a287dbac0bae635c29d30f03d5ab5ba315a66f511583853ea00256d.doc \n",
       "781 80e678664ecec3754e83cc6ab215dc60ec7824fda1468caa4387f0ca767c91ee.docx\n",
       "782 192d8f63f4b04fee9c2a1385b65f782bf992fb8f7d2a52089e65a035b2b196c0.docx\n",
       "783 89d2f1dac5229811f3850378e2ac18969420ac83345dc7e8a07484a331383b7e.docx\n",
       "784 488a4b31e7f1e862aa5e15d3599c31e1c894b7d19e70517ceda25a44350b6e77.doc \n",
       "    sha_id                                                          \n",
       "1   1ba23d353bf63fb0a234f2b6a9d14e1037f4a60148f3f585a9b702dc5c14a630\n",
       "2   024c72855e2fba691b939d0086663ad1443796412de9f317246cfc16f7b101b5\n",
       "3   ca66aceb8b70fb06cf8baf7a97d241f4840f2d595544e42bd6c6baec29dcc7bc\n",
       "4   f4a04f18a5305d9b15eb45bae4532fdaa9f4360660e24ec382148c70fba137db\n",
       "5   da80d318cb1666e928232bc3833f0aff402d841c732486c0c0c15ede407c96e3\n",
       "6   382dfe4e26eb371045ae699256a2c174518fa9a97c8b714986a3ae5775693714\n",
       "7   9ecb011bc06b0b10f17d419b1ecc68e59f6ae68c0fdb61a9f85ff1faa0585dcf\n",
       "8   2d4041698e59ada41cc9ab6b56c8c9da72cd8bc190e96cb100e65620e36615fc\n",
       "9   0db5c8f6f0314793cc8b93cf7211471637b5e058a603a95c97b96bdf13c3096e\n",
       "10  6ba44c495d16297120b6114fec7e498b3ab76f2592b1f0dbeb38a1f345bef7bf\n",
       "11  a8ca860f6751f573ed129d0f4ad805c2165a80d920e9b309de1da4dc64ccf436\n",
       "12  6901dffb49ed541999a2b76c9bdb6b934e6e96855980a2e59cb1e444c111182c\n",
       "13  204dd5464c3f69a2e92e780a480a6736555a9dae52a4b1bec819210835e23b6b\n",
       "14  fb87a2cb1709ad9f3254a78203097612b743a71452c249f13eb40b9e3d9919ee\n",
       "15  c62ec8f85afdebdbc5061361d391b0878ee30a0658ac6c9a49c20973f3b5d969\n",
       "16  c69092c6f98c6e94c86cc1929bdb32ebd35c26e3f703090d3cb23225bae9aacb\n",
       "17  bb684aa80ff134de3d9ca2a48282b85ec483d678728e6d9729ed515e4a82c8aa\n",
       "18  68ddca582629a5f2346dafe0333a0f14f92d03ffbf6ada271f00c3dd4cfa7cc4\n",
       "19  3a39d8673b7de47a8a009d22daf8d31c61132e140e2266e9c2fd7e26d550f639\n",
       "20  baed780b894d355433641d3a427229c9d00b5034dde90671f2a75cef595f3406\n",
       "21  ce41a70c9ed23128987160cc5734c97f42c654283287d83600ad76c6114286ab\n",
       "22  b8521297486584fe99eb4f275973a8cbe2ffc55dceed16d63a24151a62206f83\n",
       "23  cb56b7dc68a7c58de18f62a9d890f2ef8d3a648fd4c21fbc109d9d0a2cbf1df8\n",
       "24  4234a2249ce8e7757a71a457fcdd8bb718b3e9bf003685b5ab011df2e1ee1b38\n",
       "25  6b6b5de93666b23b81f06f0fb759cb6de46d4811a381cc6cebf496f0f7aed08b\n",
       "26  b03d409c4c4ff84f8a3cfcc78a94cd627ed601991bb47ba244277b1b1de117cf\n",
       "27  e9f0d0d05052df8dadc698e5928b14f4a5a4ccfdeeded24c3cfb51d4cfb893d7\n",
       "28  58da1c17ab74a34c1a816152c0443237eabd661b1fef89686b83ace73e9f67c5\n",
       "29  c3efcd062802911acce094dad3ad60900255510edf4b30578af114b65976dd23\n",
       "30  bda08d2e1d45551db7709baaa0bc7129c2afd5af735929a822a4585fc1473ba3\n",
       "⋮   ⋮                                                               \n",
       "755 265a64d99ab097709d94a5b4800cb9268680e5f0f55667f7b1941e8eb98a77bb\n",
       "756 cf2ab7bb69bcf6cf5b7c728270a12cdab611e42f930579ef414405ef92daf14a\n",
       "757 472f89cee3c8fd31246670829662b493f6e449c73d9470518b681204f8d7a0aa\n",
       "758 eb4a4192d863bc25e2168cee35c48e27e4e2c7a92791dad31884c4b425f47037\n",
       "759 1118e21c43b2f220daf058a262483d55830c5acb1d0e0405c085cac9ad48f7d3\n",
       "760 d038c18f962a1b333abb94f3719712a300706245ce00ef6937cbf9a40c0f19ba\n",
       "761 0b2a7159e9b8f0e13ac9b4a18e624905ee93983a08e8bd10e99060c8e31bdbc2\n",
       "762 79a97699391fe975089739ade47dee3275d0cb4633edf54dc4c55a37530fbb29\n",
       "763 4298883512f0a355ea14bbf95fb1287ac6255abba26ee08d0fc6aea33b8dcb13\n",
       "764 cecb4947939d2b935a2e09902ed87fcf5758de204f82c6aaa3c63029a410c2c9\n",
       "765 6b7c5daa1a02d457f09e439dfab2c23ac3a0ae0126110553c139169daf0e1c2b\n",
       "766 31c7f435c5d6eb1e1d34729a06b411d317407ae4a39f3435ebbd0479db706f1c\n",
       "767 373f641bc13f879f232fb45380ed91b7e9a619c0a102cd13c2978400e17a9df2\n",
       "768 4a13f5d888da428bde589c56670d42cac9e42993602cc7db7e7892d460c7d845\n",
       "769 78c93fb14a145910cbb8607e20e0dc7509a119b9c5cbc06599c339593b86f081\n",
       "770 13689eeb4813949fad1c4b00c66ea702312358e0722dd69af6c25af5a6612d5b\n",
       "771 1073e12e8875473f7f53cc3002f6df9def98e3bad09d272d148b266c243d8b59\n",
       "772 03d1b41083d747ded3d48beac5bf7ee8593b353720bcd114753468bbf535e4ed\n",
       "773 970ea22c852cc288e6165976735ca5f3a32fddfc20dd4e2b86bcb98522e86f34\n",
       "774 769645a97681415ca3fb92d9ef80cc634014ddcd85d22ddef09eb6102d2279d3\n",
       "775 995f0fd2a280dcdb8063d2fa29fffe35136e44b403913b1d42ee1b52f47925a6\n",
       "776 19c0bbde5bc37634a7aa6cea5fe33d31638ba6b4786ad88f9dcf8e27c2fa088d\n",
       "777 f0701d9c224c3d1022306afc27fe8ff48f1fc8055172942b26a23836138fb687\n",
       "778 988790db2b013c59c99f72b7ee9525d3810100c3f5290446c85653408c66a636\n",
       "779 0d178cc0f2637ce4d79518c3bd290847eccdf517e128a3a05714fab0e762d288\n",
       "780 54c5b93e9a287dbac0bae635c29d30f03d5ab5ba315a66f511583853ea00256d\n",
       "781 80e678664ecec3754e83cc6ab215dc60ec7824fda1468caa4387f0ca767c91ee\n",
       "782 192d8f63f4b04fee9c2a1385b65f782bf992fb8f7d2a52089e65a035b2b196c0\n",
       "783 89d2f1dac5229811f3850378e2ac18969420ac83345dc7e8a07484a331383b7e\n",
       "784 488a4b31e7f1e862aa5e15d3599c31e1c894b7d19e70517ceda25a44350b6e77\n",
       "    kolichetvo_uch zaversch number_of_bids the_real_price num_of_bb\n",
       "1   1              1        1              607902.33      1        \n",
       "2   не одна        1        2              999833.32      1        \n",
       "3   1              1        1              684000.00      1        \n",
       "4   не одна        1        2              383900.00      2        \n",
       "5   1              1        1              998456.00      1        \n",
       "6   не одна        1        2              2939673.33     1        \n",
       "7   не одна        1        2              557690.04      2        \n",
       "8   1              1        1              1000000.00     1        \n",
       "9   не одна        1        2              1308425.00     1        \n",
       "10  1              1        1              1000000.00     1        \n",
       "11  1              1        1              1500000.00     1        \n",
       "12  1              1        1              8936400.06     1        \n",
       "13  не одна        1        2              687015.00      2        \n",
       "14  не одна        1        2              392260.00      2        \n",
       "15  не одна        1        2              6632944.50     2        \n",
       "16  не одна        1        2              1982759.33     2        \n",
       "17  не одна        1        2              892294.06      2        \n",
       "18  1              1        1              986285.71      1        \n",
       "19  1              1        1              1013333.33     1        \n",
       "20  не одна        1        2              1897000.00     1        \n",
       "21  не одна        1        2              1012058.67     2        \n",
       "22  не одна        1        2              665753.50      2        \n",
       "23  не одна        1        2              1026995.00     2        \n",
       "24  1              1        1              583000.00      1        \n",
       "25  1              1        1              5802843.96     1        \n",
       "26  не одна        1        2              972996.67      1        \n",
       "27  не одна        1        2              17982650.00    2        \n",
       "28  1              1        1              995000.00      1        \n",
       "29  не одна        1        2              919380.00      2        \n",
       "30  не одна        1        2              795648.00      2        \n",
       "⋮   ⋮              ⋮        ⋮              ⋮              ⋮        \n",
       "755 1              1        1              650000.00      1        \n",
       "756 не одна        1        2              1138500.00     2        \n",
       "757 не одна        1        2              633181.00      1        \n",
       "758 1              1        1              1320000.00     1        \n",
       "759 1              1        1              1460000.00     1        \n",
       "760 не одна        1        2              812776.80      2        \n",
       "761 1              1        1              1740000.00     1        \n",
       "762 не одна        1        2              673200.00      2        \n",
       "763 не одна        1        2              658505.33      2        \n",
       "764 не одна        1        2              1117248.00     2        \n",
       "765 1              1        1              2810000.00     1        \n",
       "766 не одна        1        1              35637000.00    1        \n",
       "767 1              1        1              1998000.00     1        \n",
       "768 не одна        1        2              558081.00      2        \n",
       "769 1              1        1              964900.00      1        \n",
       "770 1              1        1              969900.00      1        \n",
       "771 не одна        1        2              846940.00      2        \n",
       "772 1              1        1              1300000.00     1        \n",
       "773 не одна        1        2              483362.15      2        \n",
       "774 1              1        1              449366.67      1        \n",
       "775 1              1        1              1500000.00     1        \n",
       "776 не одна        1        2              1485000.00     2        \n",
       "777 не одна        1        2              644400.00      2        \n",
       "778 1              1        1              1499000.00     1        \n",
       "779 1              1        1              709000.00      1        \n",
       "780 1              1        1              3000000.00     1        \n",
       "781 1              1        1              2360778.00     1        \n",
       "782 1              1        1              789700.00      1        \n",
       "783 1              1        1              729300.00      1        \n",
       "784 1              1        1              481900.00      1        "
      ]
     },
     "metadata": {},
     "output_type": "display_data"
    }
   ],
   "source": [
    "goszak_df_kolich"
   ]
  },
  {
   "cell_type": "code",
   "execution_count": 8,
   "metadata": {
    "ExecuteTime": {
     "end_time": "2019-10-13T17:26:14.446845Z",
     "start_time": "2019-10-13T17:26:14.434Z"
    }
   },
   "outputs": [
    {
     "data": {
      "text/html": [
       "1266"
      ],
      "text/latex": [
       "1266"
      ],
      "text/markdown": [
       "1266"
      ],
      "text/plain": [
       "[1] 1266"
      ]
     },
     "metadata": {},
     "output_type": "display_data"
    }
   ],
   "source": [
    "tables_list  %>%  length()"
   ]
  },
  {
   "cell_type": "code",
   "execution_count": 12,
   "metadata": {
    "ExecuteTime": {
     "end_time": "2019-10-13T17:31:36.776330Z",
     "start_time": "2019-10-13T17:31:36.758Z"
    }
   },
   "outputs": [],
   "source": [
    "tables_list_2  <- list()\n",
    "jj = 0\n",
    "for (i in as.integer(goszak_df_kolich$X__1)){\n",
    "    jj = jj+1\n",
    "    tables_list_2[[jj]]  <-  tables_list[[i]]\n",
    "}"
   ]
  },
  {
   "cell_type": "code",
   "execution_count": 14,
   "metadata": {
    "ExecuteTime": {
     "end_time": "2019-10-13T17:32:16.742087Z",
     "start_time": "2019-10-13T17:32:01.243Z"
    }
   },
   "outputs": [
    {
     "data": {
      "text/html": [
       "784"
      ],
      "text/latex": [
       "784"
      ],
      "text/markdown": [
       "784"
      ],
      "text/plain": [
       "[1] 784"
      ]
     },
     "metadata": {},
     "output_type": "display_data"
    }
   ],
   "source": [
    "tables_list_2  %>% length()"
   ]
  },
  {
   "cell_type": "code",
   "execution_count": null,
   "metadata": {
    "ExecuteTime": {
     "end_time": "2019-10-13T17:45:05.003148Z",
     "start_time": "2019-10-13T17:44:49.873Z"
    }
   },
   "outputs": [],
   "source": [
    "tables_list_2[[1]][[2]][[2]]"
   ]
  },
  {
   "cell_type": "code",
   "execution_count": null,
   "metadata": {},
   "outputs": [],
   "source": []
  },
  {
   "cell_type": "markdown",
   "metadata": {},
   "source": [
    "#### check if car"
   ]
  },
  {
   "cell_type": "code",
   "execution_count": 334,
   "metadata": {
    "ExecuteTime": {
     "end_time": "2019-09-30T16:40:31.548478Z",
     "start_time": "2019-09-30T16:40:31.493Z"
    }
   },
   "outputs": [],
   "source": [
    "goszak_df_kolich = read_excel('/media/xenakas/ext4_drive/data_goszak/goszak_df_cars_no_duplicates.xlsx') #, header=TRUE, colClasses=NA)\n"
   ]
  },
  {
   "cell_type": "code",
   "execution_count": 335,
   "metadata": {
    "ExecuteTime": {
     "end_time": "2019-09-30T16:40:31.870343Z",
     "start_time": "2019-09-30T16:40:31.850Z"
    }
   },
   "outputs": [],
   "source": [
    "nas  <- goszak_df_kolich[ is.na(goszak_df_kolich$completed_car_purchase), ]$X__1"
   ]
  },
  {
   "cell_type": "code",
   "execution_count": 336,
   "metadata": {
    "ExecuteTime": {
     "end_time": "2019-09-30T16:40:32.144506Z",
     "start_time": "2019-09-30T16:40:32.127Z"
    }
   },
   "outputs": [
    {
     "data": {
      "text/html": [
       "16"
      ],
      "text/latex": [
       "16"
      ],
      "text/markdown": [
       "16"
      ],
      "text/plain": [
       "[1] 16"
      ]
     },
     "metadata": {},
     "output_type": "display_data"
    }
   ],
   "source": [
    "as.integer(nas[2])"
   ]
  },
  {
   "cell_type": "code",
   "execution_count": 338,
   "metadata": {
    "ExecuteTime": {
     "end_time": "2019-09-30T16:40:37.139157Z",
     "start_time": "2019-09-30T16:40:37.131Z"
    }
   },
   "outputs": [],
   "source": [
    "# goszak_df_kolich[ is.na(goszak_df_kolich$completed_car_purchase), ]"
   ]
  },
  {
   "cell_type": "code",
   "execution_count": 452,
   "metadata": {
    "ExecuteTime": {
     "end_time": "2019-09-30T17:26:25.916955Z",
     "start_time": "2019-09-30T17:26:25.906Z"
    }
   },
   "outputs": [],
   "source": [
    "# goszak_df_kolich$X__1"
   ]
  },
  {
   "cell_type": "code",
   "execution_count": 464,
   "metadata": {
    "ExecuteTime": {
     "end_time": "2019-09-30T17:32:21.708732Z",
     "start_time": "2019-09-30T17:32:21.642Z"
    }
   },
   "outputs": [],
   "source": [
    "gru  <- c()\n",
    "\n",
    "for (i in as.integer(goszak_df_kolich$X__1)){\n",
    "    gru  <-  c(gru, as.character(tables_list[[i]][[1]][[8]][2,2]))\n",
    "}\n",
    "\n"
   ]
  },
  {
   "cell_type": "code",
   "execution_count": 523,
   "metadata": {
    "ExecuteTime": {
     "end_time": "2019-09-30T17:57:32.586990Z",
     "start_time": "2019-09-30T17:57:32.560Z"
    }
   },
   "outputs": [
    {
     "data": {
      "text/html": [
       "1266"
      ],
      "text/latex": [
       "1266"
      ],
      "text/markdown": [
       "1266"
      ],
      "text/plain": [
       "[1] 1266"
      ]
     },
     "metadata": {},
     "output_type": "display_data"
    }
   ],
   "source": [
    "length(gru)"
   ]
  },
  {
   "cell_type": "code",
   "execution_count": 329,
   "metadata": {
    "ExecuteTime": {
     "end_time": "2019-09-30T16:39:53.228419Z",
     "start_time": "2019-09-30T16:39:53.219Z"
    }
   },
   "outputs": [],
   "source": [
    "library(stringr)"
   ]
  },
  {
   "cell_type": "code",
   "execution_count": 524,
   "metadata": {
    "ExecuteTime": {
     "end_time": "2019-09-30T17:57:35.548797Z",
     "start_time": "2019-09-30T17:57:35.535Z"
    }
   },
   "outputs": [],
   "source": [
    "gru[is.na(gru)] = 'im nan'"
   ]
  },
  {
   "cell_type": "code",
   "execution_count": 535,
   "metadata": {
    "ExecuteTime": {
     "end_time": "2019-09-30T18:01:02.107487Z",
     "start_time": "2019-09-30T18:01:01.966Z"
    }
   },
   "outputs": [],
   "source": [
    "gru_ch  <-  c()\n",
    "for (i in  gru){\n",
    "    \n",
    "    if (str_detect(i,'грузов')|str_detect(i,'Грузов') |  str_detect(i,'Автобус')  |  str_detect(i,'автобус')  |  str_detect(i,'пассажирские') |  str_detect(i,'перевозк')){\n",
    "        gru_ch  <-  c(gru_ch, '0.0')\n",
    "    }else if( str_detect(i,'не более 1500 см3' )){\n",
    "        gru_ch  <-  c(gru_ch, '1.0')\n",
    "    }else if( str_detect(i,'цилиндров более 1500 см3' )){\n",
    "        gru_ch  <-  c(gru_ch, 'replace_me')\n",
    "    }else{\n",
    "        gru_ch  <-  c(gru_ch, 'replace_me')\n",
    "    }   \n",
    "    \n",
    "}"
   ]
  },
  {
   "cell_type": "code",
   "execution_count": 537,
   "metadata": {
    "ExecuteTime": {
     "end_time": "2019-09-30T18:01:22.846104Z",
     "start_time": "2019-09-30T18:01:22.824Z"
    }
   },
   "outputs": [],
   "source": [
    "goszak_df_kolich['gruz_check'] = gru_ch"
   ]
  },
  {
   "cell_type": "code",
   "execution_count": 538,
   "metadata": {
    "ExecuteTime": {
     "end_time": "2019-09-30T18:02:16.131253Z",
     "start_time": "2019-09-30T18:02:16.106Z"
    }
   },
   "outputs": [
    {
     "name": "stderr",
     "output_type": "stream",
     "text": [
      "Warning message in cbind(parts$left, ellip_h, parts$right, deparse.level = 0L):\n",
      "“number of rows of result is not a multiple of vector length (arg 2)”Warning message in cbind(parts$left, ellip_h, parts$right, deparse.level = 0L):\n",
      "“number of rows of result is not a multiple of vector length (arg 2)”Warning message in cbind(parts$left, ellip_h, parts$right, deparse.level = 0L):\n",
      "“number of rows of result is not a multiple of vector length (arg 2)”Warning message in cbind(parts$left, ellip_h, parts$right, deparse.level = 0L):\n",
      "“number of rows of result is not a multiple of vector length (arg 2)”"
     ]
    },
    {
     "data": {
      "text/html": [
       "<table>\n",
       "<thead><tr><th scope=col>X__1</th><th scope=col>n</th><th scope=col>index_name</th><th scope=col>purchase_number</th><th scope=col>done</th><th scope=col>completed_car_purchase</th><th scope=col>price</th><th scope=col>price_per_one</th><th scope=col>auction</th><th scope=col>real_price</th><th scope=col>⋯</th><th scope=col>длина</th><th scope=col>максимальная_скорость</th><th scope=col>масса_авто_снаряженная</th><th scope=col>год_выпуска</th><th scope=col>мощность_л_с</th><th scope=col>потребление_топлива_городской_цикл_л_100км</th><th scope=col>filename</th><th scope=col>sha_id</th><th scope=col>all_indexes</th><th scope=col>gruz_check</th></tr></thead>\n",
       "<tbody>\n",
       "</tbody>\n",
       "</table>\n"
      ],
      "text/latex": [
       "\\begin{tabular}{r|llllllllllllllllllllllllllll}\n",
       " X\\_\\_1 & n & index\\_name & purchase\\_number & done & completed\\_car\\_purchase & price & price\\_per\\_one & auction & real\\_price & ⋯ & длина & максимальная\\_скорость & масса\\_авто\\_снаряженная & год\\_выпуска & мощность\\_л\\_с & потребление\\_топлива\\_городской\\_цикл\\_л\\_100км & filename & sha\\_id & all\\_indexes & gruz\\_check\\\\\n",
       "\\hline\n",
       "\\end{tabular}\n"
      ],
      "text/markdown": [
       "\n",
       "X__1 | n | index_name | purchase_number | done | completed_car_purchase | price | price_per_one | auction | real_price | ⋯ | длина | максимальная_скорость | масса_авто_снаряженная | год_выпуска | мощность_л_с | потребление_топлива_городской_цикл_л_100км | filename | sha_id | all_indexes | gruz_check | \n",
       "||\n",
       "\n",
       "\n"
      ],
      "text/plain": [
       "     X__1 n index_name purchase_number done completed_car_purchase price\n",
       "     price_per_one auction real_price ⋯ длина максимальная_скорость\n",
       "     масса_авто_снаряженная год_выпуска мощность_л_с\n",
       "     потребление_топлива_городской_цикл_л_100км filename sha_id all_indexes\n",
       "     gruz_check"
      ]
     },
     "metadata": {},
     "output_type": "display_data"
    }
   ],
   "source": [
    "goszak_df_kolich[goszak_df_kolich$gruz_check == '0.0' & goszak_df_kolich$completed_car_purchase != '0.0' , ]"
   ]
  },
  {
   "cell_type": "code",
   "execution_count": 534,
   "metadata": {
    "ExecuteTime": {
     "end_time": "2019-09-30T18:00:51.065682Z",
     "start_time": "2019-09-30T18:00:51.051Z"
    }
   },
   "outputs": [],
   "source": [
    "gru_ch"
   ]
  },
  {
   "cell_type": "code",
   "execution_count": 489,
   "metadata": {
    "ExecuteTime": {
     "end_time": "2019-09-30T17:45:11.323008Z",
     "start_time": "2019-09-30T17:45:11.300Z"
    }
   },
   "outputs": [],
   "source": [
    "goszak_df_kolich_2 = goszak_df_kolich[goszak_df_kolich$completed_car_purchase != '0.0', ]"
   ]
  },
  {
   "cell_type": "code",
   "execution_count": 342,
   "metadata": {
    "ExecuteTime": {
     "end_time": "2019-09-30T16:41:35.000349Z",
     "start_time": "2019-09-30T16:41:34.985Z"
    }
   },
   "outputs": [],
   "source": [
    "goszak_df_kolich[ is.na(goszak_df_kolich$completed_car_purchase), ]$completed_car_purchase = gru_ch   "
   ]
  },
  {
   "cell_type": "code",
   "execution_count": 346,
   "metadata": {
    "ExecuteTime": {
     "end_time": "2019-09-30T16:42:15.694363Z",
     "start_time": "2019-09-30T16:42:15.542Z"
    }
   },
   "outputs": [
    {
     "data": {
      "text/html": [
       "<table>\n",
       "<thead><tr><th scope=col>X__1</th><th scope=col>n</th><th scope=col>index_name</th><th scope=col>purchase_number</th><th scope=col>done</th><th scope=col>completed_car_purchase</th><th scope=col>price</th><th scope=col>price_per_one</th><th scope=col>auction</th><th scope=col>real_price</th><th scope=col>⋯</th><th scope=col>объем_двигателя_куб_см</th><th scope=col>длина</th><th scope=col>максимальная_скорость</th><th scope=col>масса_авто_снаряженная</th><th scope=col>год_выпуска</th><th scope=col>мощность_л_с</th><th scope=col>потребление_топлива_городской_цикл_л_100км</th><th scope=col>filename</th><th scope=col>sha_id</th><th scope=col>all_indexes</th></tr></thead>\n",
       "<tbody>\n",
       "\t<tr><td>25                                                                   </td><td>12402                                                                </td><td>46                                                                   </td><td>0350300003216000056                                                  </td><td>NA                                                                   </td><td>replace_me                                                           </td><td>986285.71                                                            </td><td>986285.71                                                            </td><td>1                                                                    </td><td>NA                                                                   </td><td>⋯                                                                    </td><td>NA                                                                   </td><td>NA                                                                   </td><td>NA                                                                   </td><td>NA                                                                   </td><td>NA                                                                   </td><td>NA                                                                   </td><td>NA                                                                   </td><td>68ddca582629a5f2346dafe0333a0f14f92d03ffbf6ada271f00c3dd4cfa7cc4.docx</td><td>68ddca582629a5f2346dafe0333a0f14f92d03ffbf6ada271f00c3dd4cfa7cc4     </td><td>46                                                                   </td></tr>\n",
       "\t<tr><td>29                                                                   </td><td>15322                                                                </td><td>56                                                                   </td><td>0130300032716000071                                                  </td><td>NA                                                                   </td><td>replace_me                                                           </td><td>632900                                                               </td><td>632900                                                               </td><td>1                                                                    </td><td>NA                                                                   </td><td>⋯                                                                    </td><td>NA                                                                   </td><td>4470                                                                 </td><td>NA                                                                   </td><td>NA                                                                   </td><td>NA                                                                   </td><td>NA                                                                   </td><td>NA                                                                   </td><td>3a12297e624f5aa526082ff616ced87ab59ba35a70f6de2b483caa1990560ea8.doc </td><td>3a12297e624f5aa526082ff616ced87ab59ba35a70f6de2b483caa1990560ea8     </td><td>56                                                                   </td></tr>\n",
       "\t<tr><td>50                                                                   </td><td>658                                                                  </td><td>91                                                                   </td><td>0848300051717000020                                                  </td><td>NA                                                                   </td><td>replace_me                                                           </td><td>947200                                                               </td><td>947200                                                               </td><td>1                                                                    </td><td>NA                                                                   </td><td>⋯                                                                    </td><td>1500                                                                 </td><td>5475                                                                 </td><td>NA                                                                   </td><td>NA                                                                   </td><td>NA                                                                   </td><td>NA                                                                   </td><td>NA                                                                   </td><td>bda08d2e1d45551db7709baaa0bc7129c2afd5af735929a822a4585fc1473ba3.doc </td><td>bda08d2e1d45551db7709baaa0bc7129c2afd5af735929a822a4585fc1473ba3     </td><td>91, 94, 169, 175                                                     </td></tr>\n",
       "\t<tr><td>54                                                                   </td><td>2264                                                                 </td><td>96                                                                   </td><td>0164300035917000001                                                  </td><td>NA                                                                   </td><td>replace_me                                                           </td><td>452600                                                               </td><td>NA                                                                   </td><td>1                                                                    </td><td>NA                                                                   </td><td>⋯                                                                    </td><td>1596                                                                 </td><td>NA                                                                   </td><td>NA                                                                   </td><td>1560                                                                 </td><td>NA                                                                   </td><td>NA                                                                   </td><td>NA                                                                   </td><td>b668b28c1ead6dfa8921be41a14d74653bc4aec727bdd6fa76a3d0e4365d872c.doc </td><td>b668b28c1ead6dfa8921be41a14d74653bc4aec727bdd6fa76a3d0e4365d872c     </td><td>96, 185                                                              </td></tr>\n",
       "\t<tr><td>57                                                                   </td><td>3939                                                                 </td><td>102                                                                  </td><td>0124200000617000051                                                  </td><td>NA                                                                   </td><td>replace_me                                                           </td><td>7e+06                                                                </td><td>1750000                                                              </td><td>1                                                                    </td><td>NA                                                                   </td><td>⋯                                                                    </td><td>NA                                                                   </td><td>4605                                                                 </td><td>210                                                                  </td><td>1610                                                                 </td><td>NA                                                                   </td><td>NA                                                                   </td><td>NA                                                                   </td><td>1e18bf866e47818408b9ae1a7b956bba1d29794d2bc51dac58de059089a618bf.docx</td><td>1e18bf866e47818408b9ae1a7b956bba1d29794d2bc51dac58de059089a618bf     </td><td>102, 110, 177                                                        </td></tr>\n",
       "\t<tr><td>77                                                                   </td><td>11824                                                                </td><td>137                                                                  </td><td>0337100017717000096                                                  </td><td>NA                                                                   </td><td>replace_me                                                           </td><td>691372.75                                                            </td><td>NA                                                                   </td><td>1                                                                    </td><td>NA                                                                   </td><td>⋯                                                                    </td><td>NA                                                                   </td><td>4470                                                                 </td><td>NA                                                                   </td><td>1260                                                                 </td><td>NA                                                                   </td><td>NA                                                                   </td><td>NA                                                                   </td><td>b843939d9f86e0967ac3acbee7fb6c1d5cb0f0269187d9c824dda8f111f50c5c.docx</td><td>b843939d9f86e0967ac3acbee7fb6c1d5cb0f0269187d9c824dda8f111f50c5c     </td><td>137                                                                  </td></tr>\n",
       "\t<tr><td>82                                                                   </td><td>13869                                                                </td><td>147                                                                  </td><td>0154300024517000001                                                  </td><td>NA                                                                   </td><td>replace_me                                                           </td><td>435600                                                               </td><td>NA                                                                   </td><td>1                                                                    </td><td>NA                                                                   </td><td>⋯                                                                    </td><td>1596                                                                 </td><td>NA                                                                   </td><td>NA                                                                   </td><td>1560                                                                 </td><td>NA                                                                   </td><td>NA                                                                   </td><td>NA                                                                   </td><td>3a428bef9970d315445c85c47f39fb38d4aac024eaf75bbbe9a02e83cbf0c2f6.doc </td><td>3a428bef9970d315445c85c47f39fb38d4aac024eaf75bbbe9a02e83cbf0c2f6     </td><td>147                                                                  </td></tr>\n",
       "\t<tr><td>84                                                                   </td><td>14261                                                                </td><td>150                                                                  </td><td>0139300032516003244                                                  </td><td>NA                                                                   </td><td>replace_me                                                           </td><td>639990                                                               </td><td>639990                                                               </td><td>1                                                                    </td><td>NA                                                                   </td><td>⋯                                                                    </td><td>NA                                                                   </td><td>1940                                                                 </td><td>120                                                                  </td><td>NA                                                                   </td><td>NA                                                                   </td><td>NA                                                                   </td><td>NA                                                                   </td><td>062c75c22ad86b1bc28cef6f254e0fc61b778c60572f692620fa9deaae5d3920.docx</td><td>062c75c22ad86b1bc28cef6f254e0fc61b778c60572f692620fa9deaae5d3920     </td><td>150, 200                                                             </td></tr>\n",
       "\t<tr><td>92                                                                   </td><td>18489                                                                </td><td>172                                                                  </td><td>0552600008117000001                                                  </td><td>NA                                                                   </td><td>replace_me                                                           </td><td>592000                                                               </td><td>NA                                                                   </td><td>1                                                                    </td><td>NA                                                                   </td><td>⋯                                                                    </td><td>NA                                                                   </td><td>NA                                                                   </td><td>NA                                                                   </td><td>NA                                                                   </td><td>NA                                                                   </td><td>NA                                                                   </td><td>NA                                                                   </td><td>b0fbc3d4b637ee1ce3db64be6a6a1eba2cd69528a7726d97a0620b98cbd6689d.docx</td><td>b0fbc3d4b637ee1ce3db64be6a6a1eba2cd69528a7726d97a0620b98cbd6689d     </td><td>172                                                                  </td></tr>\n",
       "\t<tr><td>106                                                                  </td><td>103                                                                  </td><td>205                                                                  </td><td>0106200001317000020                                                  </td><td>NA                                                                   </td><td>replace_me                                                           </td><td>595000                                                               </td><td>NA                                                                   </td><td>1                                                                    </td><td>NA                                                                   </td><td>⋯                                                                    </td><td>1.9                                                                  </td><td>4056                                                                 </td><td>NA                                                                   </td><td>NA                                                                   </td><td>NA                                                                   </td><td>NA                                                                   </td><td>NA                                                                   </td><td>a3212fe3008f8585adcfbe33fd37f3f9119b9490cab00e4ba51d60f184f26401.docx</td><td>a3212fe3008f8585adcfbe33fd37f3f9119b9490cab00e4ba51d60f184f26401     </td><td>205                                                                  </td></tr>\n",
       "\t<tr><td>114                                                                  </td><td>456                                                                  </td><td>214                                                                  </td><td>0169300011917000012                                                  </td><td>NA                                                                   </td><td>replace_me                                                           </td><td>679993.33                                                            </td><td>679993.33                                                            </td><td>1                                                                    </td><td>NA                                                                   </td><td>⋯                                                                    </td><td>1598                                                                 </td><td>NA                                                                   </td><td>NA                                                                   </td><td>NA                                                                   </td><td>NA                                                                   </td><td>NA                                                                   </td><td>NA                                                                   </td><td>b6a3446b5b60ffe250e961ff0182acd9acb6d2a0b23188da4d323ec5d71f0384.doc </td><td>b6a3446b5b60ffe250e961ff0182acd9acb6d2a0b23188da4d323ec5d71f0384     </td><td>214                                                                  </td></tr>\n",
       "\t<tr><td>137                                                                  </td><td>2470                                                                 </td><td>245                                                                  </td><td>0116300021817000036                                                  </td><td>NA                                                                   </td><td>replace_me                                                           </td><td>9e+05                                                                </td><td>9e+05                                                                </td><td>1                                                                    </td><td>NA                                                                   </td><td>⋯                                                                    </td><td>NA                                                                   </td><td>NA                                                                   </td><td>NA                                                                   </td><td>NA                                                                   </td><td>NA                                                                   </td><td>NA                                                                   </td><td>NA                                                                   </td><td>64be649de2940b6a79a111ef99107afbf7701478d076efa93677253ed502372c.doc </td><td>64be649de2940b6a79a111ef99107afbf7701478d076efa93677253ed502372c     </td><td>245, 417                                                             </td></tr>\n",
       "\t<tr><td>147                                                                  </td><td>3131                                                                 </td><td>257                                                                  </td><td>0354100005317000006                                                  </td><td>NA                                                                   </td><td>replace_me                                                           </td><td>700220                                                               </td><td>NA                                                                   </td><td>1                                                                    </td><td>NA                                                                   </td><td>⋯                                                                    </td><td>NA                                                                   </td><td>NA                                                                   </td><td>NA                                                                   </td><td>NA                                                                   </td><td>NA                                                                   </td><td>NA                                                                   </td><td>NA                                                                   </td><td>a547835e2a85007122e2b358f40ba4a28451c3cf73edfdd7c121e33a892942ac.docx</td><td>a547835e2a85007122e2b358f40ba4a28451c3cf73edfdd7c121e33a892942ac     </td><td>257                                                                  </td></tr>\n",
       "\t<tr><td>189                                                                  </td><td>6669                                                                 </td><td>322                                                                  </td><td>0116300005217000023                                                  </td><td>NA                                                                   </td><td>replace_me                                                           </td><td>850000                                                               </td><td>850000                                                               </td><td>1                                                                    </td><td>NA                                                                   </td><td>⋯                                                                    </td><td>NA                                                                   </td><td>NA                                                                   </td><td>NA                                                                   </td><td>NA                                                                   </td><td>NA                                                                   </td><td>NA                                                                   </td><td>NA                                                                   </td><td>4cdbdb3a35cc675b4a953a21e78bf6b4d9fa17c52008eaa1744ba1db6ce66a45.doc </td><td>4cdbdb3a35cc675b4a953a21e78bf6b4d9fa17c52008eaa1744ba1db6ce66a45     </td><td>322, 354, 404                                                        </td></tr>\n",
       "\t<tr><td>219                                                                  </td><td>9569                                                                 </td><td>380                                                                  </td><td>0820200000617000003                                                  </td><td>NA                                                                   </td><td>replace_me                                                           </td><td>905800                                                               </td><td>NA                                                                   </td><td>1                                                                    </td><td>NA                                                                   </td><td>⋯                                                                    </td><td>NA                                                                   </td><td>NA                                                                   </td><td>NA                                                                   </td><td>NA                                                                   </td><td>2016                                                                 </td><td>NA                                                                   </td><td>NA                                                                   </td><td>362530dce782570795071c443cff85b5dc68fd92c852d02f6c913bf0d3f0c0f2.docx</td><td>362530dce782570795071c443cff85b5dc68fd92c852d02f6c913bf0d3f0c0f2     </td><td>380                                                                  </td></tr>\n",
       "\t<tr><td>230                                                                  </td><td>10504                                                                </td><td>399                                                                  </td><td>0142300038317000032                                                  </td><td>NA                                                                   </td><td>replace_me                                                           </td><td>647090                                                               </td><td>647090                                                               </td><td>1                                                                    </td><td>NA                                                                   </td><td>⋯                                                                    </td><td>NA                                                                   </td><td>4048                                                                 </td><td>NA                                                                   </td><td>NA                                                                   </td><td>NA                                                                   </td><td>NA                                                                   </td><td>NA                                                                   </td><td>780012b41774da8b8bc12f7f394b74051cc79f4a36ca1ccbe4bc0f240cd91d8b.doc </td><td>780012b41774da8b8bc12f7f394b74051cc79f4a36ca1ccbe4bc0f240cd91d8b     </td><td>399                                                                  </td></tr>\n",
       "\t<tr><td>239                                                                  </td><td>12464                                                                </td><td>424                                                                  </td><td>0369300069917000006                                                  </td><td>NA                                                                   </td><td>replace_me                                                           </td><td>1499000                                                              </td><td>1499000                                                              </td><td>1                                                                    </td><td>NA                                                                   </td><td>⋯                                                                    </td><td>NA                                                                   </td><td>NA                                                                   </td><td>NA                                                                   </td><td>NA                                                                   </td><td>NA                                                                   </td><td>NA                                                                   </td><td>NA                                                                   </td><td>55fde30c02ad1e70d79e25ddeada51ada719607e2321b8f5d80269df82bbf11a.doc </td><td>55fde30c02ad1e70d79e25ddeada51ada719607e2321b8f5d80269df82bbf11a     </td><td>424                                                                  </td></tr>\n",
       "\t<tr><td>250                                                                  </td><td>13537                                                                </td><td>439                                                                  </td><td>0169300011917000016                                                  </td><td>NA                                                                   </td><td>replace_me                                                           </td><td>679993.33                                                            </td><td>679993.33                                                            </td><td>1                                                                    </td><td>NA                                                                   </td><td>⋯                                                                    </td><td>1598                                                                 </td><td>NA                                                                   </td><td>NA                                                                   </td><td>NA                                                                   </td><td>NA                                                                   </td><td>NA                                                                   </td><td>NA                                                                   </td><td>d21a24041e9c9d7c46197c61bd95387a562f3e644f1adf0e6cdab1a65517788f.doc </td><td>d21a24041e9c9d7c46197c61bd95387a562f3e644f1adf0e6cdab1a65517788f     </td><td>439, 595                                                             </td></tr>\n",
       "\t<tr><td>262                                                                  </td><td>15175                                                                </td><td>462                                                                  </td><td>0130300032717000001                                                  </td><td>NA                                                                   </td><td>replace_me                                                           </td><td>661064                                                               </td><td>661064                                                               </td><td>1                                                                    </td><td>NA                                                                   </td><td>⋯                                                                    </td><td>NA                                                                   </td><td>4470                                                                 </td><td>NA                                                                   </td><td>NA                                                                   </td><td>NA                                                                   </td><td>NA                                                                   </td><td>NA                                                                   </td><td>bb3d0f4da7747305f27bde6af816e5b8330ddb13a0aa9176849244d4c4351a20.doc </td><td>bb3d0f4da7747305f27bde6af816e5b8330ddb13a0aa9176849244d4c4351a20     </td><td>462                                                                  </td></tr>\n",
       "\t<tr><td>265                                                                  </td><td>15341                                                                </td><td>466                                                                  </td><td>0201200000117000004                                                  </td><td>NA                                                                   </td><td>replace_me                                                           </td><td>1437900                                                              </td><td>NA                                                                   </td><td>1                                                                    </td><td>NA                                                                   </td><td>⋯                                                                    </td><td>1596                                                                 </td><td>4250                                                                 </td><td>NA                                                                   </td><td>NA                                                                   </td><td>2016                                                                 </td><td>NA                                                                   </td><td>NA                                                                   </td><td>8e39be2621d8d098a1ebd49b887bb5f69a1dd6d4c63b19cdf9aa9f060ead9aa6.docx</td><td>8e39be2621d8d098a1ebd49b887bb5f69a1dd6d4c63b19cdf9aa9f060ead9aa6     </td><td>466                                                                  </td></tr>\n",
       "\t<tr><td>267                                                                  </td><td>15769                                                                </td><td>474                                                                  </td><td>0172100008517000012                                                  </td><td>NA                                                                   </td><td>replace_me                                                           </td><td>1500000                                                              </td><td>NA                                                                   </td><td>1                                                                    </td><td>NA                                                                   </td><td>⋯                                                                    </td><td>NA                                                                   </td><td>NA                                                                   </td><td>NA                                                                   </td><td>NA                                                                   </td><td>NA                                                                   </td><td>NA                                                                   </td><td>NA                                                                   </td><td>75b0fcdf663e5de8af93ec3fac6d2a893194f5679a91ad038ec2425e0017cd7f.docx</td><td>75b0fcdf663e5de8af93ec3fac6d2a893194f5679a91ad038ec2425e0017cd7f     </td><td>474                                                                  </td></tr>\n",
       "\t<tr><td>271                                                                  </td><td>16171                                                                </td><td>483                                                                  </td><td>0169600001917000007                                                  </td><td>NA                                                                   </td><td>replace_me                                                           </td><td>1300836                                                              </td><td>1300836                                                              </td><td>1                                                                    </td><td>NA                                                                   </td><td>⋯                                                                    </td><td>1999                                                                 </td><td>4470                                                                 </td><td>NA                                                                   </td><td>NA                                                                   </td><td>2017                                                                 </td><td>NA                                                                   </td><td>NA                                                                   </td><td>81aa951bdd9a218314b19f8f5c889d6aa82d90d7fbb63fadd9fb34c83a17feef.docx</td><td>81aa951bdd9a218314b19f8f5c889d6aa82d90d7fbb63fadd9fb34c83a17feef     </td><td>483                                                                  </td></tr>\n",
       "\t<tr><td>279                                                                  </td><td>17132                                                                </td><td>498                                                                  </td><td>0324100005017000029                                                  </td><td>NA                                                                   </td><td>replace_me                                                           </td><td>1432000                                                              </td><td>NA                                                                   </td><td>1                                                                    </td><td>NA                                                                   </td><td>⋯                                                                    </td><td>1900                                                                 </td><td>4600                                                                 </td><td>NA                                                                   </td><td>NA                                                                   </td><td>NA                                                                   </td><td>NA                                                                   </td><td>NA                                                                   </td><td>5a79641518f9d3262182d24de68c446e4b955aca3507d67689776799c84810a4.docx</td><td>5a79641518f9d3262182d24de68c446e4b955aca3507d67689776799c84810a4     </td><td>498, 535                                                             </td></tr>\n",
       "\t<tr><td>284                                                                  </td><td>17791                                                                </td><td>507                                                                  </td><td>0310200000317000137                                                  </td><td>NA                                                                   </td><td>replace_me                                                           </td><td>12706666.67                                                          </td><td>1588333.33375                                                        </td><td>1                                                                    </td><td>NA                                                                   </td><td>⋯                                                                    </td><td>NA                                                                   </td><td>NA                                                                   </td><td>NA                                                                   </td><td>NA                                                                   </td><td>NA                                                                   </td><td>NA                                                                   </td><td>NA                                                                   </td><td>ee2f794d39a9763c84ad39b587c948b1a95380a89e7143ea2ec9a2547ceb6f9b.doc </td><td>ee2f794d39a9763c84ad39b587c948b1a95380a89e7143ea2ec9a2547ceb6f9b     </td><td>507                                                                  </td></tr>\n",
       "\t<tr><td>285                                                                  </td><td>17967                                                                </td><td>508                                                                  </td><td>0109100007717000007                                                  </td><td>NA                                                                   </td><td>replace_me                                                           </td><td>954000                                                               </td><td>NA                                                                   </td><td>1                                                                    </td><td>NA                                                                   </td><td>⋯                                                                    </td><td>NA                                                                   </td><td>NA                                                                   </td><td>NA                                                                   </td><td>NA                                                                   </td><td>NA                                                                   </td><td>NA                                                                   </td><td>NA                                                                   </td><td>05b13fce30d4365d94b92e5dd30bb2badba502001e2e201a71c2173c14308da3.doc </td><td>05b13fce30d4365d94b92e5dd30bb2badba502001e2e201a71c2173c14308da3     </td><td>508                                                                  </td></tr>\n",
       "\t<tr><td>295                                                                  </td><td>19021                                                                </td><td>530                                                                  </td><td>0373100017817000001                                                  </td><td>NA                                                                   </td><td>replace_me                                                           </td><td>4e+06                                                                </td><td>NA                                                                   </td><td>1                                                                    </td><td>NA                                                                   </td><td>⋯                                                                    </td><td>NA                                                                   </td><td>4850                                                                 </td><td>210                                                                  </td><td>NA                                                                   </td><td>NA                                                                   </td><td>NA                                                                   </td><td>NA                                                                   </td><td>d8d550e08faa4921f8acd0f99f112543bd961bb269ed0fddfa107d696a608186.docx</td><td>d8d550e08faa4921f8acd0f99f112543bd961bb269ed0fddfa107d696a608186     </td><td>530                                                                  </td></tr>\n",
       "\t<tr><td>333                                                                  </td><td>23978                                                                </td><td>633                                                                  </td><td>0158300030017000012                                                  </td><td>NA                                                                   </td><td>replace_me                                                           </td><td>598900                                                               </td><td>598900                                                               </td><td>1                                                                    </td><td>NA                                                                   </td><td>⋯                                                                    </td><td>NA                                                                   </td><td>NA                                                                   </td><td>NA                                                                   </td><td>NA                                                                   </td><td>NA                                                                   </td><td>NA                                                                   </td><td>NA                                                                   </td><td>9817a31aed41a57e4e2ebe81a2dd9c5a2f47d06cb98b6bcfd59b860ec309dcd5.doc </td><td>9817a31aed41a57e4e2ebe81a2dd9c5a2f47d06cb98b6bcfd59b860ec309dcd5     </td><td>633                                                                  </td></tr>\n",
       "\t<tr><td>334                                                                  </td><td>24033                                                                </td><td>634                                                                  </td><td>0119300004317000006                                                  </td><td>NA                                                                   </td><td>replace_me                                                           </td><td>698990                                                               </td><td>NA                                                                   </td><td>1                                                                    </td><td>NA                                                                   </td><td>⋯                                                                    </td><td>NA                                                                   </td><td>NA                                                                   </td><td>NA                                                                   </td><td>NA                                                                   </td><td>2016                                                                 </td><td>NA                                                                   </td><td>NA                                                                   </td><td>e237a0a973c2c3c54779f045370c6a079713448c322d34d0823cde9051ae4d66.docx</td><td>e237a0a973c2c3c54779f045370c6a079713448c322d34d0823cde9051ae4d66     </td><td>634                                                                  </td></tr>\n",
       "\t<tr><td>337                                                                  </td><td>24338                                                                </td><td>638                                                                  </td><td>0109200002417000196                                                  </td><td>NA                                                                   </td><td>replace_me                                                           </td><td>1697000                                                              </td><td>1697000                                                              </td><td>1                                                                    </td><td>NA                                                                   </td><td>⋯                                                                    </td><td>NA                                                                   </td><td>1210                                                                 </td><td>NA                                                                   </td><td>NA                                                                   </td><td>NA                                                                   </td><td>NA                                                                   </td><td>NA                                                                   </td><td>0135a567824b22c28e119a286af5b1c86ed64e45563fe7ee8d17f9c54b2da2c0.docx</td><td>0135a567824b22c28e119a286af5b1c86ed64e45563fe7ee8d17f9c54b2da2c0     </td><td>638                                                                  </td></tr>\n",
       "\t<tr><td>365                                                                  </td><td>1129                                                                 </td><td>684                                                                  </td><td>0279100000217000082                                                  </td><td>NA                                                                   </td><td>replace_me                                                           </td><td>977146.2                                                             </td><td>NA                                                                   </td><td>1                                                                    </td><td>NA                                                                   </td><td>⋯                                                                    </td><td>NA                                                                   </td><td>NA                                                                   </td><td>NA                                                                   </td><td>NA                                                                   </td><td>NA                                                                   </td><td>NA                                                                   </td><td>NA                                                                   </td><td>dcebc52ef46a5def89f955d7e3fcdf85c3211b9989bda659772a0751ecbf4349.docx</td><td>dcebc52ef46a5def89f955d7e3fcdf85c3211b9989bda659772a0751ecbf4349     </td><td>684                                                                  </td></tr>\n",
       "\t<tr><td>⋮</td><td>⋮</td><td>⋮</td><td>⋮</td><td>⋮</td><td>⋮</td><td>⋮</td><td>⋮</td><td>⋮</td><td>⋮</td><td>⋱</td><td>⋮</td><td>⋮</td><td>⋮</td><td>⋮</td><td>⋮</td><td>⋮</td><td>⋮</td><td>⋮</td><td>⋮</td><td>⋮</td></tr>\n",
       "\t<tr><td>994                                                                  </td><td>22960                                                                </td><td>1944                                                                 </td><td>0500400000317000082                                                  </td><td>NA                                                                   </td><td>replace_me                                                           </td><td>20933074                                                             </td><td>NA                                                                   </td><td>1                                                                    </td><td>NA                                                                   </td><td>⋯                                                                    </td><td>1598                                                                 </td><td>NA                                                                   </td><td>NA                                                                   </td><td>NA                                                                   </td><td>NA                                                                   </td><td>NA                                                                   </td><td>NA                                                                   </td><td>0ec31fa36279bd839983f92882b4f388112d8cc9a8c15960edc281b062f701fd.doc </td><td>0ec31fa36279bd839983f92882b4f388112d8cc9a8c15960edc281b062f701fd     </td><td>1944, 1978                                                           </td></tr>\n",
       "\t<tr><td>999                                                                  </td><td>23200                                                                </td><td>1954                                                                 </td><td>0258100000317000220                                                  </td><td>NA                                                                   </td><td>replace_me                                                           </td><td>16943447.5                                                           </td><td>NA                                                                   </td><td>1                                                                    </td><td>NA                                                                   </td><td>⋯                                                                    </td><td>NA                                                                   </td><td>NA                                                                   </td><td>NA                                                                   </td><td>NA                                                                   </td><td>NA                                                                   </td><td>NA                                                                   </td><td>NA                                                                   </td><td>ccd05476c245fa8b93276793b729996ba2dab2b2fe5a6bb8b46048729225bdac.docx</td><td>ccd05476c245fa8b93276793b729996ba2dab2b2fe5a6bb8b46048729225bdac     </td><td>1954                                                                 </td></tr>\n",
       "\t<tr><td>1004                                                                 </td><td>23954                                                                </td><td>1977                                                                 </td><td>0535100000217000032                                                  </td><td>NA                                                                   </td><td>replace_me                                                           </td><td>1447500                                                              </td><td>NA                                                                   </td><td>1                                                                    </td><td>NA                                                                   </td><td>⋯                                                                    </td><td>NA                                                                   </td><td>NA                                                                   </td><td>NA                                                                   </td><td>NA                                                                   </td><td>NA                                                                   </td><td>NA                                                                   </td><td>NA                                                                   </td><td>64c132ad5043cfe027f28eb3110a604038ff9bb64dd3c27d184b0afab578f299.docx</td><td>64c132ad5043cfe027f28eb3110a604038ff9bb64dd3c27d184b0afab578f299     </td><td>1977                                                                 </td></tr>\n",
       "\t<tr><td>1025                                                                 </td><td>712                                                                  </td><td>2036                                                                 </td><td>0373100040817000010                                                  </td><td>NA                                                                   </td><td>replace_me                                                           </td><td>2500000                                                              </td><td>NA                                                                   </td><td>1                                                                    </td><td>NA                                                                   </td><td>⋯                                                                    </td><td>NA                                                                   </td><td>NA                                                                   </td><td>NA                                                                   </td><td>NA                                                                   </td><td>2016                                                                 </td><td>NA                                                                   </td><td>NA                                                                   </td><td>97bcd378e2717979b350bde854c9ba5e651525c737691af3a0d89da514e2cd5a.docx</td><td>97bcd378e2717979b350bde854c9ba5e651525c737691af3a0d89da514e2cd5a     </td><td>2036                                                                 </td></tr>\n",
       "\t<tr><td>1033                                                                 </td><td>1018                                                                 </td><td>2051                                                                 </td><td>0105300004717000011                                                  </td><td>NA                                                                   </td><td>replace_me                                                           </td><td>1350600                                                              </td><td>NA                                                                   </td><td>1                                                                    </td><td>NA                                                                   </td><td>⋯                                                                    </td><td>NA                                                                   </td><td>NA                                                                   </td><td>NA                                                                   </td><td>NA                                                                   </td><td>NA                                                                   </td><td>NA                                                                   </td><td>NA                                                                   </td><td>dfa0035e993edc12fc6a1af5ad17ef6bd6cb007ec2fd71c36598618d6a1ddbc4.doc </td><td>dfa0035e993edc12fc6a1af5ad17ef6bd6cb007ec2fd71c36598618d6a1ddbc4     </td><td>2051                                                                 </td></tr>\n",
       "\t<tr><td>1048                                                                 </td><td>2028                                                                 </td><td>2073                                                                 </td><td>0361200015017002427                                                  </td><td>NA                                                                   </td><td>replace_me                                                           </td><td>3100000                                                              </td><td>3100000                                                              </td><td>1                                                                    </td><td>NA                                                                   </td><td>⋯                                                                    </td><td>NA                                                                   </td><td>2059                                                                 </td><td>NA                                                                   </td><td>NA                                                                   </td><td>NA                                                                   </td><td>NA                                                                   </td><td>NA                                                                   </td><td>ce6ca102a27a1391625271bb2d3c46912cc73c286f17a470ca1d76b8e07b25f1.docx</td><td>ce6ca102a27a1391625271bb2d3c46912cc73c286f17a470ca1d76b8e07b25f1     </td><td>2073, 2102, 2203                                                     </td></tr>\n",
       "\t<tr><td>1057                                                                 </td><td>2312                                                                 </td><td>2084                                                                 </td><td>0135300007617000063                                                  </td><td>NA                                                                   </td><td>replace_me                                                           </td><td>759600                                                               </td><td>759600                                                               </td><td>1                                                                    </td><td>NA                                                                   </td><td>⋯                                                                    </td><td>NA                                                                   </td><td>NA                                                                   </td><td>NA                                                                   </td><td>NA                                                                   </td><td>NA                                                                   </td><td>NA                                                                   </td><td>NA                                                                   </td><td>ee2debbb346d62222a56a66daf1b23aa4b6c26c9f9fdb16abf4f6f743d82dfd4.doc </td><td>ee2debbb346d62222a56a66daf1b23aa4b6c26c9f9fdb16abf4f6f743d82dfd4     </td><td>2084                                                                 </td></tr>\n",
       "\t<tr><td>1061                                                                 </td><td>2604                                                                 </td><td>2094                                                                 </td><td>0320300111617000064                                                  </td><td>NA                                                                   </td><td>replace_me                                                           </td><td>2253000                                                              </td><td>1126500                                                              </td><td>1                                                                    </td><td>NA                                                                   </td><td>⋯                                                                    </td><td>NA                                                                   </td><td>NA                                                                   </td><td>NA                                                                   </td><td>NA                                                                   </td><td>NA                                                                   </td><td>NA                                                                   </td><td>NA                                                                   </td><td>c0e189d242de702bf4514292811523361188411d907d0b6ab36f9ba8daa91c51.docx</td><td>c0e189d242de702bf4514292811523361188411d907d0b6ab36f9ba8daa91c51     </td><td>2094, 2141                                                           </td></tr>\n",
       "\t<tr><td>1087                                                                 </td><td>3933                                                                 </td><td>2135                                                                 </td><td>0133200001717001354                                                  </td><td>NA                                                                   </td><td>replace_me                                                           </td><td>6e+05                                                                </td><td>6e+05                                                                </td><td>1                                                                    </td><td>NA                                                                   </td><td>⋯                                                                    </td><td>NA                                                                   </td><td>NA                                                                   </td><td>NA                                                                   </td><td>NA                                                                   </td><td>NA                                                                   </td><td>NA                                                                   </td><td>NA                                                                   </td><td>aa5554cdac36309c780a08952d504f6b522d1348c78b95ff131901de876d6f36.doc </td><td>aa5554cdac36309c780a08952d504f6b522d1348c78b95ff131901de876d6f36     </td><td>2135                                                                 </td></tr>\n",
       "\t<tr><td>1088                                                                 </td><td>3941                                                                 </td><td>2136                                                                 </td><td>0875200001017000003                                                  </td><td>NA                                                                   </td><td>replace_me                                                           </td><td>1529700                                                              </td><td>NA                                                                   </td><td>1                                                                    </td><td>NA                                                                   </td><td>⋯                                                                    </td><td>1690                                                                 </td><td>NA                                                                   </td><td>NA                                                                   </td><td>NA                                                                   </td><td>NA                                                                   </td><td>NA                                                                   </td><td>NA                                                                   </td><td>586f77b48969cb4467578d1c73b326fe4972e0a32cf0d34f03f84642b9561da4.docx</td><td>586f77b48969cb4467578d1c73b326fe4972e0a32cf0d34f03f84642b9561da4     </td><td>2136, 2170, 2254, 2424, 2489                                         </td></tr>\n",
       "\t<tr><td>1098                                                                 </td><td>4513                                                                 </td><td>2152                                                                 </td><td>0150100006017000033                                                  </td><td>NA                                                                   </td><td>replace_me                                                           </td><td>2000266.67                                                           </td><td>NA                                                                   </td><td>1                                                                    </td><td>NA                                                                   </td><td>⋯                                                                    </td><td>NA                                                                   </td><td>NA                                                                   </td><td>NA                                                                   </td><td>NA                                                                   </td><td>NA                                                                   </td><td>NA                                                                   </td><td>NA                                                                   </td><td>3be43eeeaf2b9f727dfebe832113e19554c339745d068236bca251c8d504e970.docx</td><td>3be43eeeaf2b9f727dfebe832113e19554c339745d068236bca251c8d504e970     </td><td>2152                                                                 </td></tr>\n",
       "\t<tr><td>1108                                                                 </td><td>4846                                                                 </td><td>2166                                                                 </td><td>0324100005017000056                                                  </td><td>NA                                                                   </td><td>replace_me                                                           </td><td>1455760                                                              </td><td>NA                                                                   </td><td>1                                                                    </td><td>NA                                                                   </td><td>⋯                                                                    </td><td>1590                                                                 </td><td>4040                                                                 </td><td>NA                                                                   </td><td>NA                                                                   </td><td>NA                                                                   </td><td>NA                                                                   </td><td>NA                                                                   </td><td>51912649146dc8d5b4c123eeb23bebcb8d49bf642e4f1b5dde4f97dc267ebf63.docx</td><td>51912649146dc8d5b4c123eeb23bebcb8d49bf642e4f1b5dde4f97dc267ebf63     </td><td>2166                                                                 </td></tr>\n",
       "\t<tr><td>1116                                                                 </td><td>5406                                                                 </td><td>2184                                                                 </td><td>0119300040017000072                                                  </td><td>NA                                                                   </td><td>replace_me                                                           </td><td>6e+05                                                                </td><td>6e+05                                                                </td><td>1                                                                    </td><td>NA                                                                   </td><td>⋯                                                                    </td><td>NA                                                                   </td><td>NA                                                                   </td><td>NA                                                                   </td><td>NA                                                                   </td><td>NA                                                                   </td><td>NA                                                                   </td><td>NA                                                                   </td><td>8bf99845471deeb7c2c258c2926eda7048243399dc2a5562adcbc1b4a763ea48.docx</td><td>8bf99845471deeb7c2c258c2926eda7048243399dc2a5562adcbc1b4a763ea48     </td><td>2184                                                                 </td></tr>\n",
       "\t<tr><td>1122                                                                 </td><td>5574                                                                 </td><td>2190                                                                 </td><td>0324100005017000057                                                  </td><td>NA                                                                   </td><td>replace_me                                                           </td><td>1342533.33                                                           </td><td>NA                                                                   </td><td>1                                                                    </td><td>NA                                                                   </td><td>⋯                                                                    </td><td>1596                                                                 </td><td>4470                                                                 </td><td>NA                                                                   </td><td>NA                                                                   </td><td>NA                                                                   </td><td>NA                                                                   </td><td>NA                                                                   </td><td>d9720dd03ef341cec7fe19d8515104fc95a84efc58d56416a2cfa150f80ed9ac.docx</td><td>d9720dd03ef341cec7fe19d8515104fc95a84efc58d56416a2cfa150f80ed9ac     </td><td>2190                                                                 </td></tr>\n",
       "\t<tr><td>1125                                                                 </td><td>5870                                                                 </td><td>2199                                                                 </td><td>0865200000317000996                                                  </td><td>NA                                                                   </td><td>replace_me                                                           </td><td>1499966.67                                                           </td><td>NA                                                                   </td><td>1                                                                    </td><td>NA                                                                   </td><td>⋯                                                                    </td><td>2000                                                                 </td><td>4480                                                                 </td><td>NA                                                                   </td><td>NA                                                                   </td><td>NA                                                                   </td><td>NA                                                                   </td><td>NA                                                                   </td><td>87ea367dae867952266ead6e99d72a3884c260150bea9465ec5fa393265375b6.docx</td><td>87ea367dae867952266ead6e99d72a3884c260150bea9465ec5fa393265375b6     </td><td>2199                                                                 </td></tr>\n",
       "\t<tr><td>1136                                                                 </td><td>6368                                                                 </td><td>2218                                                                 </td><td>0848500002617000016                                                  </td><td>NA                                                                   </td><td>replace_me                                                           </td><td>5486000                                                              </td><td>NA                                                                   </td><td>1                                                                    </td><td>NA                                                                   </td><td>⋯                                                                    </td><td>1598                                                                 </td><td>NA                                                                   </td><td>NA                                                                   </td><td>NA                                                                   </td><td>NA                                                                   </td><td>NA                                                                   </td><td>NA                                                                   </td><td>6678539a1a0f7967a43cfa16270ea87de14eed58b69376b66a313c4d1a6919ba.docx</td><td>6678539a1a0f7967a43cfa16270ea87de14eed58b69376b66a313c4d1a6919ba     </td><td>2218, 2344                                                           </td></tr>\n",
       "\t<tr><td>1137                                                                 </td><td>6432                                                                 </td><td>2220                                                                 </td><td>0817200000317003697                                                  </td><td>NA                                                                   </td><td>replace_me                                                           </td><td>1745700                                                              </td><td>581900                                                               </td><td>1                                                                    </td><td>NA                                                                   </td><td>⋯                                                                    </td><td>NA                                                                   </td><td>NA                                                                   </td><td>NA                                                                   </td><td>1466                                                                 </td><td>2016                                                                 </td><td>NA                                                                   </td><td>NA                                                                   </td><td>40a9932750bb2c7e3bb5c6e067f46ab30d872683bd3044c9a6b1db8df51b186a.doc </td><td>40a9932750bb2c7e3bb5c6e067f46ab30d872683bd3044c9a6b1db8df51b186a     </td><td>2220, 2381                                                           </td></tr>\n",
       "\t<tr><td>1138                                                                 </td><td>6475                                                                 </td><td>2221                                                                 </td><td>0136300033517000047                                                  </td><td>NA                                                                   </td><td>replace_me                                                           </td><td>924990                                                               </td><td>924990                                                               </td><td>1                                                                    </td><td>NA                                                                   </td><td>⋯                                                                    </td><td>NA                                                                   </td><td>NA                                                                   </td><td>NA                                                                   </td><td>NA                                                                   </td><td>NA                                                                   </td><td>NA                                                                   </td><td>NA                                                                   </td><td>2189230654dd224efa24c418033d4bff4342879e4800666005ba26e659e2f316.doc </td><td>2189230654dd224efa24c418033d4bff4342879e4800666005ba26e659e2f316     </td><td>2221                                                                 </td></tr>\n",
       "\t<tr><td>1167                                                                 </td><td>8153                                                                 </td><td>2275                                                                 </td><td>0105200000217000642                                                  </td><td>NA                                                                   </td><td>replace_me                                                           </td><td>7e+05                                                                </td><td>7e+05                                                                </td><td>1                                                                    </td><td>NA                                                                   </td><td>⋯                                                                    </td><td>NA                                                                   </td><td>NA                                                                   </td><td>NA                                                                   </td><td>NA                                                                   </td><td>NA                                                                   </td><td>NA                                                                   </td><td>NA                                                                   </td><td>f666b014526fe8e5be0886bf339eab043f7a8c94a2f2ad3c6911312d2b3b8357.docx</td><td>f666b014526fe8e5be0886bf339eab043f7a8c94a2f2ad3c6911312d2b3b8357     </td><td>2275                                                                 </td></tr>\n",
       "\t<tr><td>1173                                                                 </td><td>8358                                                                 </td><td>2282                                                                 </td><td>0858300002817000002                                                  </td><td>NA                                                                   </td><td>replace_me                                                           </td><td>598900                                                               </td><td>NA                                                                   </td><td>1                                                                    </td><td>NA                                                                   </td><td>⋯                                                                    </td><td>NA                                                                   </td><td>NA                                                                   </td><td>175                                                                  </td><td>1670                                                                 </td><td>NA                                                                   </td><td>NA                                                                   </td><td>NA                                                                   </td><td>f238d77707ad24f7681dc6d21e872691e75d3aa675d1efb75cfe2dd1af8a8b0e.docx</td><td>f238d77707ad24f7681dc6d21e872691e75d3aa675d1efb75cfe2dd1af8a8b0e     </td><td>2282                                                                 </td></tr>\n",
       "\t<tr><td>1180                                                                 </td><td>8826                                                                 </td><td>2298                                                                 </td><td>0142200001317006286                                                  </td><td>NA                                                                   </td><td>replace_me                                                           </td><td>24173800                                                             </td><td>389900                                                               </td><td>1                                                                    </td><td>NA                                                                   </td><td>⋯                                                                    </td><td>1500                                                                 </td><td>4260                                                                 </td><td>NA                                                                   </td><td>NA                                                                   </td><td>2017                                                                 </td><td>NA                                                                   </td><td>NA                                                                   </td><td>47443915abb1803252bfd0f6de754ab172ddf1b5b6b29539f6f4008bba7447a0.docx</td><td>47443915abb1803252bfd0f6de754ab172ddf1b5b6b29539f6f4008bba7447a0     </td><td>2298, 2306                                                           </td></tr>\n",
       "\t<tr><td>1192                                                                 </td><td>9617                                                                 </td><td>2322                                                                 </td><td>0365300043817000004                                                  </td><td>NA                                                                   </td><td>replace_me                                                           </td><td>570900                                                               </td><td>NA                                                                   </td><td>1                                                                    </td><td>NA                                                                   </td><td>⋯                                                                    </td><td>NA                                                                   </td><td>NA                                                                   </td><td>NA                                                                   </td><td>NA                                                                   </td><td>NA                                                                   </td><td>NA                                                                   </td><td>NA                                                                   </td><td>38d696d9edc947d410f93b7c49734fde296c41709102f5cc147137d05b07e5f6.doc </td><td>38d696d9edc947d410f93b7c49734fde296c41709102f5cc147137d05b07e5f6     </td><td>2322                                                                 </td></tr>\n",
       "\t<tr><td>1193                                                                 </td><td>9935                                                                 </td><td>2328                                                                 </td><td>0188300006517000075                                                  </td><td>NA                                                                   </td><td>replace_me                                                           </td><td>5700000                                                              </td><td>NA                                                                   </td><td>1                                                                    </td><td>NA                                                                   </td><td>⋯                                                                    </td><td>NA                                                                   </td><td>NA                                                                   </td><td>NA                                                                   </td><td>NA                                                                   </td><td>NA                                                                   </td><td>NA                                                                   </td><td>NA                                                                   </td><td>e16947ebbc9ee95a6fd7cbaaf21f22f990e0e6d529790ef290b38709124a7ba7.docx</td><td>e16947ebbc9ee95a6fd7cbaaf21f22f990e0e6d529790ef290b38709124a7ba7     </td><td>2328                                                                 </td></tr>\n",
       "\t<tr><td>1202                                                                 </td><td>10718                                                                </td><td>2348                                                                 </td><td>0120100010117000174                                                  </td><td>NA                                                                   </td><td>replace_me                                                           </td><td>2994330                                                              </td><td>NA                                                                   </td><td>1                                                                    </td><td>NA                                                                   </td><td>⋯                                                                    </td><td>NA                                                                   </td><td>NA                                                                   </td><td>NA                                                                   </td><td>NA                                                                   </td><td>NA                                                                   </td><td>NA                                                                   </td><td>NA                                                                   </td><td>6eb30473c2fc56b5dc9999445106c68b94cfb939b0cca59be8b75196bf14054e.docx</td><td>6eb30473c2fc56b5dc9999445106c68b94cfb939b0cca59be8b75196bf14054e     </td><td>2348                                                                 </td></tr>\n",
       "\t<tr><td>1213                                                                 </td><td>11293                                                                </td><td>2369                                                                 </td><td>0103200008417003264                                                  </td><td>NA                                                                   </td><td>replace_me                                                           </td><td>1992666.68                                                           </td><td>498166.67                                                            </td><td>1                                                                    </td><td>NA                                                                   </td><td>⋯                                                                    </td><td>1420                                                                 </td><td>3740                                                                 </td><td>142                                                                  </td><td>NA                                                                   </td><td>NA                                                                   </td><td>NA                                                                   </td><td>NA                                                                   </td><td>f3bbbcedacce0237bed60ad0c8ace84db42ecae22c2a73f7037f5ebe7799b655.docx</td><td>f3bbbcedacce0237bed60ad0c8ace84db42ecae22c2a73f7037f5ebe7799b655     </td><td>2369                                                                 </td></tr>\n",
       "\t<tr><td>1233                                                                 </td><td>13041                                                                </td><td>2425                                                                 </td><td>0554600003217000003                                                  </td><td>NA                                                                   </td><td>replace_me                                                           </td><td>678933                                                               </td><td>NA                                                                   </td><td>1                                                                    </td><td>NA                                                                   </td><td>⋯                                                                    </td><td>1510                                                                 </td><td>NA                                                                   </td><td>NA                                                                   </td><td>1497                                                                 </td><td>2017                                                                 </td><td>NA                                                                   </td><td>NA                                                                   </td><td>4298883512f0a355ea14bbf95fb1287ac6255abba26ee08d0fc6aea33b8dcb13.docx</td><td>4298883512f0a355ea14bbf95fb1287ac6255abba26ee08d0fc6aea33b8dcb13     </td><td>2425                                                                 </td></tr>\n",
       "\t<tr><td>1234                                                                 </td><td>13099                                                                </td><td>2429                                                                 </td><td>0817200000317003740                                                  </td><td>NA                                                                   </td><td>replace_me                                                           </td><td>1163800                                                              </td><td>581900                                                               </td><td>1                                                                    </td><td>NA                                                                   </td><td>⋯                                                                    </td><td>NA                                                                   </td><td>NA                                                                   </td><td>NA                                                                   </td><td>1466                                                                 </td><td>2016                                                                 </td><td>NA                                                                   </td><td>NA                                                                   </td><td>cecb4947939d2b935a2e09902ed87fcf5758de204f82c6aaa3c63029a410c2c9.doc </td><td>cecb4947939d2b935a2e09902ed87fcf5758de204f82c6aaa3c63029a410c2c9     </td><td>2429                                                                 </td></tr>\n",
       "\t<tr><td>1236                                                                 </td><td>13200                                                                </td><td>2435                                                                 </td><td>0194200000517003346                                                  </td><td>NA                                                                   </td><td>replace_me                                                           </td><td>2810000                                                              </td><td>2810000                                                              </td><td>1                                                                    </td><td>NA                                                                   </td><td>⋯                                                                    </td><td>1591                                                                 </td><td>NA                                                                   </td><td>NA                                                                   </td><td>NA                                                                   </td><td>NA                                                                   </td><td>NA                                                                   </td><td>NA                                                                   </td><td>6b7c5daa1a02d457f09e439dfab2c23ac3a0ae0126110553c139169daf0e1c2b.docx</td><td>6b7c5daa1a02d457f09e439dfab2c23ac3a0ae0126110553c139169daf0e1c2b     </td><td>2435                                                                 </td></tr>\n",
       "\t<tr><td>1244                                                                 </td><td>13447                                                                </td><td>2447                                                                 </td><td>0165300003717000036                                                  </td><td>NA                                                                   </td><td>replace_me                                                           </td><td>612300                                                               </td><td>612300                                                               </td><td>1                                                                    </td><td>NA                                                                   </td><td>⋯                                                                    </td><td>NA                                                                   </td><td>NA                                                                   </td><td>NA                                                                   </td><td>NA                                                                   </td><td>NA                                                                   </td><td>NA                                                                   </td><td>NA                                                                   </td><td>0d6881497b4ad12c76c36332e1e83a1b1167677049e3e736d162de8dad60246b.doc </td><td>0d6881497b4ad12c76c36332e1e83a1b1167677049e3e736d162de8dad60246b     </td><td>2447                                                                 </td></tr>\n",
       "\t<tr><td>1247                                                                 </td><td>13687                                                                </td><td>2456                                                                 </td><td>0855200000517000959                                                  </td><td>NA                                                                   </td><td>replace_me                                                           </td><td>901000                                                               </td><td>NA                                                                   </td><td>1                                                                    </td><td>NA                                                                   </td><td>⋯                                                                    </td><td>NA                                                                   </td><td>NA                                                                   </td><td>NA                                                                   </td><td>NA                                                                   </td><td>NA                                                                   </td><td>NA                                                                   </td><td>NA                                                                   </td><td>1073e12e8875473f7f53cc3002f6df9def98e3bad09d272d148b266c243d8b59.docx</td><td>1073e12e8875473f7f53cc3002f6df9def98e3bad09d272d148b266c243d8b59     </td><td>2456                                                                 </td></tr>\n",
       "</tbody>\n",
       "</table>\n"
      ],
      "text/latex": [
       "\\begin{tabular}{r|lllllllllllllllllllllllllll}\n",
       " X\\_\\_1 & n & index\\_name & purchase\\_number & done & completed\\_car\\_purchase & price & price\\_per\\_one & auction & real\\_price & ⋯ & объем\\_двигателя\\_куб\\_см & длина & максимальная\\_скорость & масса\\_авто\\_снаряженная & год\\_выпуска & мощность\\_л\\_с & потребление\\_топлива\\_городской\\_цикл\\_л\\_100км & filename & sha\\_id & all\\_indexes\\\\\n",
       "\\hline\n",
       "\t 25                                                                    & 12402                                                                 & 46                                                                    & 0350300003216000056                                                   & NA                                                                    & replace\\_me                                                          & 986285.71                                                             & 986285.71                                                             & 1                                                                     & NA                                                                    & ⋯                                                                     & NA                                                                    & NA                                                                    & NA                                                                    & NA                                                                    & NA                                                                    & NA                                                                    & NA                                                                    & 68ddca582629a5f2346dafe0333a0f14f92d03ffbf6ada271f00c3dd4cfa7cc4.docx & 68ddca582629a5f2346dafe0333a0f14f92d03ffbf6ada271f00c3dd4cfa7cc4      & 46                                                                   \\\\\n",
       "\t 29                                                                    & 15322                                                                 & 56                                                                    & 0130300032716000071                                                   & NA                                                                    & replace\\_me                                                          & 632900                                                                & 632900                                                                & 1                                                                     & NA                                                                    & ⋯                                                                     & NA                                                                    & 4470                                                                  & NA                                                                    & NA                                                                    & NA                                                                    & NA                                                                    & NA                                                                    & 3a12297e624f5aa526082ff616ced87ab59ba35a70f6de2b483caa1990560ea8.doc  & 3a12297e624f5aa526082ff616ced87ab59ba35a70f6de2b483caa1990560ea8      & 56                                                                   \\\\\n",
       "\t 50                                                                    & 658                                                                   & 91                                                                    & 0848300051717000020                                                   & NA                                                                    & replace\\_me                                                          & 947200                                                                & 947200                                                                & 1                                                                     & NA                                                                    & ⋯                                                                     & 1500                                                                  & 5475                                                                  & NA                                                                    & NA                                                                    & NA                                                                    & NA                                                                    & NA                                                                    & bda08d2e1d45551db7709baaa0bc7129c2afd5af735929a822a4585fc1473ba3.doc  & bda08d2e1d45551db7709baaa0bc7129c2afd5af735929a822a4585fc1473ba3      & 91, 94, 169, 175                                                     \\\\\n",
       "\t 54                                                                    & 2264                                                                  & 96                                                                    & 0164300035917000001                                                   & NA                                                                    & replace\\_me                                                          & 452600                                                                & NA                                                                    & 1                                                                     & NA                                                                    & ⋯                                                                     & 1596                                                                  & NA                                                                    & NA                                                                    & 1560                                                                  & NA                                                                    & NA                                                                    & NA                                                                    & b668b28c1ead6dfa8921be41a14d74653bc4aec727bdd6fa76a3d0e4365d872c.doc  & b668b28c1ead6dfa8921be41a14d74653bc4aec727bdd6fa76a3d0e4365d872c      & 96, 185                                                              \\\\\n",
       "\t 57                                                                    & 3939                                                                  & 102                                                                   & 0124200000617000051                                                   & NA                                                                    & replace\\_me                                                          & 7e+06                                                                 & 1750000                                                               & 1                                                                     & NA                                                                    & ⋯                                                                     & NA                                                                    & 4605                                                                  & 210                                                                   & 1610                                                                  & NA                                                                    & NA                                                                    & NA                                                                    & 1e18bf866e47818408b9ae1a7b956bba1d29794d2bc51dac58de059089a618bf.docx & 1e18bf866e47818408b9ae1a7b956bba1d29794d2bc51dac58de059089a618bf      & 102, 110, 177                                                        \\\\\n",
       "\t 77                                                                    & 11824                                                                 & 137                                                                   & 0337100017717000096                                                   & NA                                                                    & replace\\_me                                                          & 691372.75                                                             & NA                                                                    & 1                                                                     & NA                                                                    & ⋯                                                                     & NA                                                                    & 4470                                                                  & NA                                                                    & 1260                                                                  & NA                                                                    & NA                                                                    & NA                                                                    & b843939d9f86e0967ac3acbee7fb6c1d5cb0f0269187d9c824dda8f111f50c5c.docx & b843939d9f86e0967ac3acbee7fb6c1d5cb0f0269187d9c824dda8f111f50c5c      & 137                                                                  \\\\\n",
       "\t 82                                                                    & 13869                                                                 & 147                                                                   & 0154300024517000001                                                   & NA                                                                    & replace\\_me                                                          & 435600                                                                & NA                                                                    & 1                                                                     & NA                                                                    & ⋯                                                                     & 1596                                                                  & NA                                                                    & NA                                                                    & 1560                                                                  & NA                                                                    & NA                                                                    & NA                                                                    & 3a428bef9970d315445c85c47f39fb38d4aac024eaf75bbbe9a02e83cbf0c2f6.doc  & 3a428bef9970d315445c85c47f39fb38d4aac024eaf75bbbe9a02e83cbf0c2f6      & 147                                                                  \\\\\n",
       "\t 84                                                                    & 14261                                                                 & 150                                                                   & 0139300032516003244                                                   & NA                                                                    & replace\\_me                                                          & 639990                                                                & 639990                                                                & 1                                                                     & NA                                                                    & ⋯                                                                     & NA                                                                    & 1940                                                                  & 120                                                                   & NA                                                                    & NA                                                                    & NA                                                                    & NA                                                                    & 062c75c22ad86b1bc28cef6f254e0fc61b778c60572f692620fa9deaae5d3920.docx & 062c75c22ad86b1bc28cef6f254e0fc61b778c60572f692620fa9deaae5d3920      & 150, 200                                                             \\\\\n",
       "\t 92                                                                    & 18489                                                                 & 172                                                                   & 0552600008117000001                                                   & NA                                                                    & replace\\_me                                                          & 592000                                                                & NA                                                                    & 1                                                                     & NA                                                                    & ⋯                                                                     & NA                                                                    & NA                                                                    & NA                                                                    & NA                                                                    & NA                                                                    & NA                                                                    & NA                                                                    & b0fbc3d4b637ee1ce3db64be6a6a1eba2cd69528a7726d97a0620b98cbd6689d.docx & b0fbc3d4b637ee1ce3db64be6a6a1eba2cd69528a7726d97a0620b98cbd6689d      & 172                                                                  \\\\\n",
       "\t 106                                                                   & 103                                                                   & 205                                                                   & 0106200001317000020                                                   & NA                                                                    & replace\\_me                                                          & 595000                                                                & NA                                                                    & 1                                                                     & NA                                                                    & ⋯                                                                     & 1.9                                                                   & 4056                                                                  & NA                                                                    & NA                                                                    & NA                                                                    & NA                                                                    & NA                                                                    & a3212fe3008f8585adcfbe33fd37f3f9119b9490cab00e4ba51d60f184f26401.docx & a3212fe3008f8585adcfbe33fd37f3f9119b9490cab00e4ba51d60f184f26401      & 205                                                                  \\\\\n",
       "\t 114                                                                   & 456                                                                   & 214                                                                   & 0169300011917000012                                                   & NA                                                                    & replace\\_me                                                          & 679993.33                                                             & 679993.33                                                             & 1                                                                     & NA                                                                    & ⋯                                                                     & 1598                                                                  & NA                                                                    & NA                                                                    & NA                                                                    & NA                                                                    & NA                                                                    & NA                                                                    & b6a3446b5b60ffe250e961ff0182acd9acb6d2a0b23188da4d323ec5d71f0384.doc  & b6a3446b5b60ffe250e961ff0182acd9acb6d2a0b23188da4d323ec5d71f0384      & 214                                                                  \\\\\n",
       "\t 137                                                                   & 2470                                                                  & 245                                                                   & 0116300021817000036                                                   & NA                                                                    & replace\\_me                                                          & 9e+05                                                                 & 9e+05                                                                 & 1                                                                     & NA                                                                    & ⋯                                                                     & NA                                                                    & NA                                                                    & NA                                                                    & NA                                                                    & NA                                                                    & NA                                                                    & NA                                                                    & 64be649de2940b6a79a111ef99107afbf7701478d076efa93677253ed502372c.doc  & 64be649de2940b6a79a111ef99107afbf7701478d076efa93677253ed502372c      & 245, 417                                                             \\\\\n",
       "\t 147                                                                   & 3131                                                                  & 257                                                                   & 0354100005317000006                                                   & NA                                                                    & replace\\_me                                                          & 700220                                                                & NA                                                                    & 1                                                                     & NA                                                                    & ⋯                                                                     & NA                                                                    & NA                                                                    & NA                                                                    & NA                                                                    & NA                                                                    & NA                                                                    & NA                                                                    & a547835e2a85007122e2b358f40ba4a28451c3cf73edfdd7c121e33a892942ac.docx & a547835e2a85007122e2b358f40ba4a28451c3cf73edfdd7c121e33a892942ac      & 257                                                                  \\\\\n",
       "\t 189                                                                   & 6669                                                                  & 322                                                                   & 0116300005217000023                                                   & NA                                                                    & replace\\_me                                                          & 850000                                                                & 850000                                                                & 1                                                                     & NA                                                                    & ⋯                                                                     & NA                                                                    & NA                                                                    & NA                                                                    & NA                                                                    & NA                                                                    & NA                                                                    & NA                                                                    & 4cdbdb3a35cc675b4a953a21e78bf6b4d9fa17c52008eaa1744ba1db6ce66a45.doc  & 4cdbdb3a35cc675b4a953a21e78bf6b4d9fa17c52008eaa1744ba1db6ce66a45      & 322, 354, 404                                                        \\\\\n",
       "\t 219                                                                   & 9569                                                                  & 380                                                                   & 0820200000617000003                                                   & NA                                                                    & replace\\_me                                                          & 905800                                                                & NA                                                                    & 1                                                                     & NA                                                                    & ⋯                                                                     & NA                                                                    & NA                                                                    & NA                                                                    & NA                                                                    & 2016                                                                  & NA                                                                    & NA                                                                    & 362530dce782570795071c443cff85b5dc68fd92c852d02f6c913bf0d3f0c0f2.docx & 362530dce782570795071c443cff85b5dc68fd92c852d02f6c913bf0d3f0c0f2      & 380                                                                  \\\\\n",
       "\t 230                                                                   & 10504                                                                 & 399                                                                   & 0142300038317000032                                                   & NA                                                                    & replace\\_me                                                          & 647090                                                                & 647090                                                                & 1                                                                     & NA                                                                    & ⋯                                                                     & NA                                                                    & 4048                                                                  & NA                                                                    & NA                                                                    & NA                                                                    & NA                                                                    & NA                                                                    & 780012b41774da8b8bc12f7f394b74051cc79f4a36ca1ccbe4bc0f240cd91d8b.doc  & 780012b41774da8b8bc12f7f394b74051cc79f4a36ca1ccbe4bc0f240cd91d8b      & 399                                                                  \\\\\n",
       "\t 239                                                                   & 12464                                                                 & 424                                                                   & 0369300069917000006                                                   & NA                                                                    & replace\\_me                                                          & 1499000                                                               & 1499000                                                               & 1                                                                     & NA                                                                    & ⋯                                                                     & NA                                                                    & NA                                                                    & NA                                                                    & NA                                                                    & NA                                                                    & NA                                                                    & NA                                                                    & 55fde30c02ad1e70d79e25ddeada51ada719607e2321b8f5d80269df82bbf11a.doc  & 55fde30c02ad1e70d79e25ddeada51ada719607e2321b8f5d80269df82bbf11a      & 424                                                                  \\\\\n",
       "\t 250                                                                   & 13537                                                                 & 439                                                                   & 0169300011917000016                                                   & NA                                                                    & replace\\_me                                                          & 679993.33                                                             & 679993.33                                                             & 1                                                                     & NA                                                                    & ⋯                                                                     & 1598                                                                  & NA                                                                    & NA                                                                    & NA                                                                    & NA                                                                    & NA                                                                    & NA                                                                    & d21a24041e9c9d7c46197c61bd95387a562f3e644f1adf0e6cdab1a65517788f.doc  & d21a24041e9c9d7c46197c61bd95387a562f3e644f1adf0e6cdab1a65517788f      & 439, 595                                                             \\\\\n",
       "\t 262                                                                   & 15175                                                                 & 462                                                                   & 0130300032717000001                                                   & NA                                                                    & replace\\_me                                                          & 661064                                                                & 661064                                                                & 1                                                                     & NA                                                                    & ⋯                                                                     & NA                                                                    & 4470                                                                  & NA                                                                    & NA                                                                    & NA                                                                    & NA                                                                    & NA                                                                    & bb3d0f4da7747305f27bde6af816e5b8330ddb13a0aa9176849244d4c4351a20.doc  & bb3d0f4da7747305f27bde6af816e5b8330ddb13a0aa9176849244d4c4351a20      & 462                                                                  \\\\\n",
       "\t 265                                                                   & 15341                                                                 & 466                                                                   & 0201200000117000004                                                   & NA                                                                    & replace\\_me                                                          & 1437900                                                               & NA                                                                    & 1                                                                     & NA                                                                    & ⋯                                                                     & 1596                                                                  & 4250                                                                  & NA                                                                    & NA                                                                    & 2016                                                                  & NA                                                                    & NA                                                                    & 8e39be2621d8d098a1ebd49b887bb5f69a1dd6d4c63b19cdf9aa9f060ead9aa6.docx & 8e39be2621d8d098a1ebd49b887bb5f69a1dd6d4c63b19cdf9aa9f060ead9aa6      & 466                                                                  \\\\\n",
       "\t 267                                                                   & 15769                                                                 & 474                                                                   & 0172100008517000012                                                   & NA                                                                    & replace\\_me                                                          & 1500000                                                               & NA                                                                    & 1                                                                     & NA                                                                    & ⋯                                                                     & NA                                                                    & NA                                                                    & NA                                                                    & NA                                                                    & NA                                                                    & NA                                                                    & NA                                                                    & 75b0fcdf663e5de8af93ec3fac6d2a893194f5679a91ad038ec2425e0017cd7f.docx & 75b0fcdf663e5de8af93ec3fac6d2a893194f5679a91ad038ec2425e0017cd7f      & 474                                                                  \\\\\n",
       "\t 271                                                                   & 16171                                                                 & 483                                                                   & 0169600001917000007                                                   & NA                                                                    & replace\\_me                                                          & 1300836                                                               & 1300836                                                               & 1                                                                     & NA                                                                    & ⋯                                                                     & 1999                                                                  & 4470                                                                  & NA                                                                    & NA                                                                    & 2017                                                                  & NA                                                                    & NA                                                                    & 81aa951bdd9a218314b19f8f5c889d6aa82d90d7fbb63fadd9fb34c83a17feef.docx & 81aa951bdd9a218314b19f8f5c889d6aa82d90d7fbb63fadd9fb34c83a17feef      & 483                                                                  \\\\\n",
       "\t 279                                                                   & 17132                                                                 & 498                                                                   & 0324100005017000029                                                   & NA                                                                    & replace\\_me                                                          & 1432000                                                               & NA                                                                    & 1                                                                     & NA                                                                    & ⋯                                                                     & 1900                                                                  & 4600                                                                  & NA                                                                    & NA                                                                    & NA                                                                    & NA                                                                    & NA                                                                    & 5a79641518f9d3262182d24de68c446e4b955aca3507d67689776799c84810a4.docx & 5a79641518f9d3262182d24de68c446e4b955aca3507d67689776799c84810a4      & 498, 535                                                             \\\\\n",
       "\t 284                                                                   & 17791                                                                 & 507                                                                   & 0310200000317000137                                                   & NA                                                                    & replace\\_me                                                          & 12706666.67                                                           & 1588333.33375                                                         & 1                                                                     & NA                                                                    & ⋯                                                                     & NA                                                                    & NA                                                                    & NA                                                                    & NA                                                                    & NA                                                                    & NA                                                                    & NA                                                                    & ee2f794d39a9763c84ad39b587c948b1a95380a89e7143ea2ec9a2547ceb6f9b.doc  & ee2f794d39a9763c84ad39b587c948b1a95380a89e7143ea2ec9a2547ceb6f9b      & 507                                                                  \\\\\n",
       "\t 285                                                                   & 17967                                                                 & 508                                                                   & 0109100007717000007                                                   & NA                                                                    & replace\\_me                                                          & 954000                                                                & NA                                                                    & 1                                                                     & NA                                                                    & ⋯                                                                     & NA                                                                    & NA                                                                    & NA                                                                    & NA                                                                    & NA                                                                    & NA                                                                    & NA                                                                    & 05b13fce30d4365d94b92e5dd30bb2badba502001e2e201a71c2173c14308da3.doc  & 05b13fce30d4365d94b92e5dd30bb2badba502001e2e201a71c2173c14308da3      & 508                                                                  \\\\\n",
       "\t 295                                                                   & 19021                                                                 & 530                                                                   & 0373100017817000001                                                   & NA                                                                    & replace\\_me                                                          & 4e+06                                                                 & NA                                                                    & 1                                                                     & NA                                                                    & ⋯                                                                     & NA                                                                    & 4850                                                                  & 210                                                                   & NA                                                                    & NA                                                                    & NA                                                                    & NA                                                                    & d8d550e08faa4921f8acd0f99f112543bd961bb269ed0fddfa107d696a608186.docx & d8d550e08faa4921f8acd0f99f112543bd961bb269ed0fddfa107d696a608186      & 530                                                                  \\\\\n",
       "\t 333                                                                   & 23978                                                                 & 633                                                                   & 0158300030017000012                                                   & NA                                                                    & replace\\_me                                                          & 598900                                                                & 598900                                                                & 1                                                                     & NA                                                                    & ⋯                                                                     & NA                                                                    & NA                                                                    & NA                                                                    & NA                                                                    & NA                                                                    & NA                                                                    & NA                                                                    & 9817a31aed41a57e4e2ebe81a2dd9c5a2f47d06cb98b6bcfd59b860ec309dcd5.doc  & 9817a31aed41a57e4e2ebe81a2dd9c5a2f47d06cb98b6bcfd59b860ec309dcd5      & 633                                                                  \\\\\n",
       "\t 334                                                                   & 24033                                                                 & 634                                                                   & 0119300004317000006                                                   & NA                                                                    & replace\\_me                                                          & 698990                                                                & NA                                                                    & 1                                                                     & NA                                                                    & ⋯                                                                     & NA                                                                    & NA                                                                    & NA                                                                    & NA                                                                    & 2016                                                                  & NA                                                                    & NA                                                                    & e237a0a973c2c3c54779f045370c6a079713448c322d34d0823cde9051ae4d66.docx & e237a0a973c2c3c54779f045370c6a079713448c322d34d0823cde9051ae4d66      & 634                                                                  \\\\\n",
       "\t 337                                                                   & 24338                                                                 & 638                                                                   & 0109200002417000196                                                   & NA                                                                    & replace\\_me                                                          & 1697000                                                               & 1697000                                                               & 1                                                                     & NA                                                                    & ⋯                                                                     & NA                                                                    & 1210                                                                  & NA                                                                    & NA                                                                    & NA                                                                    & NA                                                                    & NA                                                                    & 0135a567824b22c28e119a286af5b1c86ed64e45563fe7ee8d17f9c54b2da2c0.docx & 0135a567824b22c28e119a286af5b1c86ed64e45563fe7ee8d17f9c54b2da2c0      & 638                                                                  \\\\\n",
       "\t 365                                                                   & 1129                                                                  & 684                                                                   & 0279100000217000082                                                   & NA                                                                    & replace\\_me                                                          & 977146.2                                                              & NA                                                                    & 1                                                                     & NA                                                                    & ⋯                                                                     & NA                                                                    & NA                                                                    & NA                                                                    & NA                                                                    & NA                                                                    & NA                                                                    & NA                                                                    & dcebc52ef46a5def89f955d7e3fcdf85c3211b9989bda659772a0751ecbf4349.docx & dcebc52ef46a5def89f955d7e3fcdf85c3211b9989bda659772a0751ecbf4349      & 684                                                                  \\\\\n",
       "\t ⋮ & ⋮ & ⋮ & ⋮ & ⋮ & ⋮ & ⋮ & ⋮ & ⋮ & ⋮ & ⋱ & ⋮ & ⋮ & ⋮ & ⋮ & ⋮ & ⋮ & ⋮ & ⋮ & ⋮ & ⋮\\\\\n",
       "\t 994                                                                   & 22960                                                                 & 1944                                                                  & 0500400000317000082                                                   & NA                                                                    & replace\\_me                                                          & 20933074                                                              & NA                                                                    & 1                                                                     & NA                                                                    & ⋯                                                                     & 1598                                                                  & NA                                                                    & NA                                                                    & NA                                                                    & NA                                                                    & NA                                                                    & NA                                                                    & 0ec31fa36279bd839983f92882b4f388112d8cc9a8c15960edc281b062f701fd.doc  & 0ec31fa36279bd839983f92882b4f388112d8cc9a8c15960edc281b062f701fd      & 1944, 1978                                                           \\\\\n",
       "\t 999                                                                   & 23200                                                                 & 1954                                                                  & 0258100000317000220                                                   & NA                                                                    & replace\\_me                                                          & 16943447.5                                                            & NA                                                                    & 1                                                                     & NA                                                                    & ⋯                                                                     & NA                                                                    & NA                                                                    & NA                                                                    & NA                                                                    & NA                                                                    & NA                                                                    & NA                                                                    & ccd05476c245fa8b93276793b729996ba2dab2b2fe5a6bb8b46048729225bdac.docx & ccd05476c245fa8b93276793b729996ba2dab2b2fe5a6bb8b46048729225bdac      & 1954                                                                 \\\\\n",
       "\t 1004                                                                  & 23954                                                                 & 1977                                                                  & 0535100000217000032                                                   & NA                                                                    & replace\\_me                                                          & 1447500                                                               & NA                                                                    & 1                                                                     & NA                                                                    & ⋯                                                                     & NA                                                                    & NA                                                                    & NA                                                                    & NA                                                                    & NA                                                                    & NA                                                                    & NA                                                                    & 64c132ad5043cfe027f28eb3110a604038ff9bb64dd3c27d184b0afab578f299.docx & 64c132ad5043cfe027f28eb3110a604038ff9bb64dd3c27d184b0afab578f299      & 1977                                                                 \\\\\n",
       "\t 1025                                                                  & 712                                                                   & 2036                                                                  & 0373100040817000010                                                   & NA                                                                    & replace\\_me                                                          & 2500000                                                               & NA                                                                    & 1                                                                     & NA                                                                    & ⋯                                                                     & NA                                                                    & NA                                                                    & NA                                                                    & NA                                                                    & 2016                                                                  & NA                                                                    & NA                                                                    & 97bcd378e2717979b350bde854c9ba5e651525c737691af3a0d89da514e2cd5a.docx & 97bcd378e2717979b350bde854c9ba5e651525c737691af3a0d89da514e2cd5a      & 2036                                                                 \\\\\n",
       "\t 1033                                                                  & 1018                                                                  & 2051                                                                  & 0105300004717000011                                                   & NA                                                                    & replace\\_me                                                          & 1350600                                                               & NA                                                                    & 1                                                                     & NA                                                                    & ⋯                                                                     & NA                                                                    & NA                                                                    & NA                                                                    & NA                                                                    & NA                                                                    & NA                                                                    & NA                                                                    & dfa0035e993edc12fc6a1af5ad17ef6bd6cb007ec2fd71c36598618d6a1ddbc4.doc  & dfa0035e993edc12fc6a1af5ad17ef6bd6cb007ec2fd71c36598618d6a1ddbc4      & 2051                                                                 \\\\\n",
       "\t 1048                                                                  & 2028                                                                  & 2073                                                                  & 0361200015017002427                                                   & NA                                                                    & replace\\_me                                                          & 3100000                                                               & 3100000                                                               & 1                                                                     & NA                                                                    & ⋯                                                                     & NA                                                                    & 2059                                                                  & NA                                                                    & NA                                                                    & NA                                                                    & NA                                                                    & NA                                                                    & ce6ca102a27a1391625271bb2d3c46912cc73c286f17a470ca1d76b8e07b25f1.docx & ce6ca102a27a1391625271bb2d3c46912cc73c286f17a470ca1d76b8e07b25f1      & 2073, 2102, 2203                                                     \\\\\n",
       "\t 1057                                                                  & 2312                                                                  & 2084                                                                  & 0135300007617000063                                                   & NA                                                                    & replace\\_me                                                          & 759600                                                                & 759600                                                                & 1                                                                     & NA                                                                    & ⋯                                                                     & NA                                                                    & NA                                                                    & NA                                                                    & NA                                                                    & NA                                                                    & NA                                                                    & NA                                                                    & ee2debbb346d62222a56a66daf1b23aa4b6c26c9f9fdb16abf4f6f743d82dfd4.doc  & ee2debbb346d62222a56a66daf1b23aa4b6c26c9f9fdb16abf4f6f743d82dfd4      & 2084                                                                 \\\\\n",
       "\t 1061                                                                  & 2604                                                                  & 2094                                                                  & 0320300111617000064                                                   & NA                                                                    & replace\\_me                                                          & 2253000                                                               & 1126500                                                               & 1                                                                     & NA                                                                    & ⋯                                                                     & NA                                                                    & NA                                                                    & NA                                                                    & NA                                                                    & NA                                                                    & NA                                                                    & NA                                                                    & c0e189d242de702bf4514292811523361188411d907d0b6ab36f9ba8daa91c51.docx & c0e189d242de702bf4514292811523361188411d907d0b6ab36f9ba8daa91c51      & 2094, 2141                                                           \\\\\n",
       "\t 1087                                                                  & 3933                                                                  & 2135                                                                  & 0133200001717001354                                                   & NA                                                                    & replace\\_me                                                          & 6e+05                                                                 & 6e+05                                                                 & 1                                                                     & NA                                                                    & ⋯                                                                     & NA                                                                    & NA                                                                    & NA                                                                    & NA                                                                    & NA                                                                    & NA                                                                    & NA                                                                    & aa5554cdac36309c780a08952d504f6b522d1348c78b95ff131901de876d6f36.doc  & aa5554cdac36309c780a08952d504f6b522d1348c78b95ff131901de876d6f36      & 2135                                                                 \\\\\n",
       "\t 1088                                                                  & 3941                                                                  & 2136                                                                  & 0875200001017000003                                                   & NA                                                                    & replace\\_me                                                          & 1529700                                                               & NA                                                                    & 1                                                                     & NA                                                                    & ⋯                                                                     & 1690                                                                  & NA                                                                    & NA                                                                    & NA                                                                    & NA                                                                    & NA                                                                    & NA                                                                    & 586f77b48969cb4467578d1c73b326fe4972e0a32cf0d34f03f84642b9561da4.docx & 586f77b48969cb4467578d1c73b326fe4972e0a32cf0d34f03f84642b9561da4      & 2136, 2170, 2254, 2424, 2489                                         \\\\\n",
       "\t 1098                                                                  & 4513                                                                  & 2152                                                                  & 0150100006017000033                                                   & NA                                                                    & replace\\_me                                                          & 2000266.67                                                            & NA                                                                    & 1                                                                     & NA                                                                    & ⋯                                                                     & NA                                                                    & NA                                                                    & NA                                                                    & NA                                                                    & NA                                                                    & NA                                                                    & NA                                                                    & 3be43eeeaf2b9f727dfebe832113e19554c339745d068236bca251c8d504e970.docx & 3be43eeeaf2b9f727dfebe832113e19554c339745d068236bca251c8d504e970      & 2152                                                                 \\\\\n",
       "\t 1108                                                                  & 4846                                                                  & 2166                                                                  & 0324100005017000056                                                   & NA                                                                    & replace\\_me                                                          & 1455760                                                               & NA                                                                    & 1                                                                     & NA                                                                    & ⋯                                                                     & 1590                                                                  & 4040                                                                  & NA                                                                    & NA                                                                    & NA                                                                    & NA                                                                    & NA                                                                    & 51912649146dc8d5b4c123eeb23bebcb8d49bf642e4f1b5dde4f97dc267ebf63.docx & 51912649146dc8d5b4c123eeb23bebcb8d49bf642e4f1b5dde4f97dc267ebf63      & 2166                                                                 \\\\\n",
       "\t 1116                                                                  & 5406                                                                  & 2184                                                                  & 0119300040017000072                                                   & NA                                                                    & replace\\_me                                                          & 6e+05                                                                 & 6e+05                                                                 & 1                                                                     & NA                                                                    & ⋯                                                                     & NA                                                                    & NA                                                                    & NA                                                                    & NA                                                                    & NA                                                                    & NA                                                                    & NA                                                                    & 8bf99845471deeb7c2c258c2926eda7048243399dc2a5562adcbc1b4a763ea48.docx & 8bf99845471deeb7c2c258c2926eda7048243399dc2a5562adcbc1b4a763ea48      & 2184                                                                 \\\\\n",
       "\t 1122                                                                  & 5574                                                                  & 2190                                                                  & 0324100005017000057                                                   & NA                                                                    & replace\\_me                                                          & 1342533.33                                                            & NA                                                                    & 1                                                                     & NA                                                                    & ⋯                                                                     & 1596                                                                  & 4470                                                                  & NA                                                                    & NA                                                                    & NA                                                                    & NA                                                                    & NA                                                                    & d9720dd03ef341cec7fe19d8515104fc95a84efc58d56416a2cfa150f80ed9ac.docx & d9720dd03ef341cec7fe19d8515104fc95a84efc58d56416a2cfa150f80ed9ac      & 2190                                                                 \\\\\n",
       "\t 1125                                                                  & 5870                                                                  & 2199                                                                  & 0865200000317000996                                                   & NA                                                                    & replace\\_me                                                          & 1499966.67                                                            & NA                                                                    & 1                                                                     & NA                                                                    & ⋯                                                                     & 2000                                                                  & 4480                                                                  & NA                                                                    & NA                                                                    & NA                                                                    & NA                                                                    & NA                                                                    & 87ea367dae867952266ead6e99d72a3884c260150bea9465ec5fa393265375b6.docx & 87ea367dae867952266ead6e99d72a3884c260150bea9465ec5fa393265375b6      & 2199                                                                 \\\\\n",
       "\t 1136                                                                  & 6368                                                                  & 2218                                                                  & 0848500002617000016                                                   & NA                                                                    & replace\\_me                                                          & 5486000                                                               & NA                                                                    & 1                                                                     & NA                                                                    & ⋯                                                                     & 1598                                                                  & NA                                                                    & NA                                                                    & NA                                                                    & NA                                                                    & NA                                                                    & NA                                                                    & 6678539a1a0f7967a43cfa16270ea87de14eed58b69376b66a313c4d1a6919ba.docx & 6678539a1a0f7967a43cfa16270ea87de14eed58b69376b66a313c4d1a6919ba      & 2218, 2344                                                           \\\\\n",
       "\t 1137                                                                  & 6432                                                                  & 2220                                                                  & 0817200000317003697                                                   & NA                                                                    & replace\\_me                                                          & 1745700                                                               & 581900                                                                & 1                                                                     & NA                                                                    & ⋯                                                                     & NA                                                                    & NA                                                                    & NA                                                                    & 1466                                                                  & 2016                                                                  & NA                                                                    & NA                                                                    & 40a9932750bb2c7e3bb5c6e067f46ab30d872683bd3044c9a6b1db8df51b186a.doc  & 40a9932750bb2c7e3bb5c6e067f46ab30d872683bd3044c9a6b1db8df51b186a      & 2220, 2381                                                           \\\\\n",
       "\t 1138                                                                  & 6475                                                                  & 2221                                                                  & 0136300033517000047                                                   & NA                                                                    & replace\\_me                                                          & 924990                                                                & 924990                                                                & 1                                                                     & NA                                                                    & ⋯                                                                     & NA                                                                    & NA                                                                    & NA                                                                    & NA                                                                    & NA                                                                    & NA                                                                    & NA                                                                    & 2189230654dd224efa24c418033d4bff4342879e4800666005ba26e659e2f316.doc  & 2189230654dd224efa24c418033d4bff4342879e4800666005ba26e659e2f316      & 2221                                                                 \\\\\n",
       "\t 1167                                                                  & 8153                                                                  & 2275                                                                  & 0105200000217000642                                                   & NA                                                                    & replace\\_me                                                          & 7e+05                                                                 & 7e+05                                                                 & 1                                                                     & NA                                                                    & ⋯                                                                     & NA                                                                    & NA                                                                    & NA                                                                    & NA                                                                    & NA                                                                    & NA                                                                    & NA                                                                    & f666b014526fe8e5be0886bf339eab043f7a8c94a2f2ad3c6911312d2b3b8357.docx & f666b014526fe8e5be0886bf339eab043f7a8c94a2f2ad3c6911312d2b3b8357      & 2275                                                                 \\\\\n",
       "\t 1173                                                                  & 8358                                                                  & 2282                                                                  & 0858300002817000002                                                   & NA                                                                    & replace\\_me                                                          & 598900                                                                & NA                                                                    & 1                                                                     & NA                                                                    & ⋯                                                                     & NA                                                                    & NA                                                                    & 175                                                                   & 1670                                                                  & NA                                                                    & NA                                                                    & NA                                                                    & f238d77707ad24f7681dc6d21e872691e75d3aa675d1efb75cfe2dd1af8a8b0e.docx & f238d77707ad24f7681dc6d21e872691e75d3aa675d1efb75cfe2dd1af8a8b0e      & 2282                                                                 \\\\\n",
       "\t 1180                                                                  & 8826                                                                  & 2298                                                                  & 0142200001317006286                                                   & NA                                                                    & replace\\_me                                                          & 24173800                                                              & 389900                                                                & 1                                                                     & NA                                                                    & ⋯                                                                     & 1500                                                                  & 4260                                                                  & NA                                                                    & NA                                                                    & 2017                                                                  & NA                                                                    & NA                                                                    & 47443915abb1803252bfd0f6de754ab172ddf1b5b6b29539f6f4008bba7447a0.docx & 47443915abb1803252bfd0f6de754ab172ddf1b5b6b29539f6f4008bba7447a0      & 2298, 2306                                                           \\\\\n",
       "\t 1192                                                                  & 9617                                                                  & 2322                                                                  & 0365300043817000004                                                   & NA                                                                    & replace\\_me                                                          & 570900                                                                & NA                                                                    & 1                                                                     & NA                                                                    & ⋯                                                                     & NA                                                                    & NA                                                                    & NA                                                                    & NA                                                                    & NA                                                                    & NA                                                                    & NA                                                                    & 38d696d9edc947d410f93b7c49734fde296c41709102f5cc147137d05b07e5f6.doc  & 38d696d9edc947d410f93b7c49734fde296c41709102f5cc147137d05b07e5f6      & 2322                                                                 \\\\\n",
       "\t 1193                                                                  & 9935                                                                  & 2328                                                                  & 0188300006517000075                                                   & NA                                                                    & replace\\_me                                                          & 5700000                                                               & NA                                                                    & 1                                                                     & NA                                                                    & ⋯                                                                     & NA                                                                    & NA                                                                    & NA                                                                    & NA                                                                    & NA                                                                    & NA                                                                    & NA                                                                    & e16947ebbc9ee95a6fd7cbaaf21f22f990e0e6d529790ef290b38709124a7ba7.docx & e16947ebbc9ee95a6fd7cbaaf21f22f990e0e6d529790ef290b38709124a7ba7      & 2328                                                                 \\\\\n",
       "\t 1202                                                                  & 10718                                                                 & 2348                                                                  & 0120100010117000174                                                   & NA                                                                    & replace\\_me                                                          & 2994330                                                               & NA                                                                    & 1                                                                     & NA                                                                    & ⋯                                                                     & NA                                                                    & NA                                                                    & NA                                                                    & NA                                                                    & NA                                                                    & NA                                                                    & NA                                                                    & 6eb30473c2fc56b5dc9999445106c68b94cfb939b0cca59be8b75196bf14054e.docx & 6eb30473c2fc56b5dc9999445106c68b94cfb939b0cca59be8b75196bf14054e      & 2348                                                                 \\\\\n",
       "\t 1213                                                                  & 11293                                                                 & 2369                                                                  & 0103200008417003264                                                   & NA                                                                    & replace\\_me                                                          & 1992666.68                                                            & 498166.67                                                             & 1                                                                     & NA                                                                    & ⋯                                                                     & 1420                                                                  & 3740                                                                  & 142                                                                   & NA                                                                    & NA                                                                    & NA                                                                    & NA                                                                    & f3bbbcedacce0237bed60ad0c8ace84db42ecae22c2a73f7037f5ebe7799b655.docx & f3bbbcedacce0237bed60ad0c8ace84db42ecae22c2a73f7037f5ebe7799b655      & 2369                                                                 \\\\\n",
       "\t 1233                                                                  & 13041                                                                 & 2425                                                                  & 0554600003217000003                                                   & NA                                                                    & replace\\_me                                                          & 678933                                                                & NA                                                                    & 1                                                                     & NA                                                                    & ⋯                                                                     & 1510                                                                  & NA                                                                    & NA                                                                    & 1497                                                                  & 2017                                                                  & NA                                                                    & NA                                                                    & 4298883512f0a355ea14bbf95fb1287ac6255abba26ee08d0fc6aea33b8dcb13.docx & 4298883512f0a355ea14bbf95fb1287ac6255abba26ee08d0fc6aea33b8dcb13      & 2425                                                                 \\\\\n",
       "\t 1234                                                                  & 13099                                                                 & 2429                                                                  & 0817200000317003740                                                   & NA                                                                    & replace\\_me                                                          & 1163800                                                               & 581900                                                                & 1                                                                     & NA                                                                    & ⋯                                                                     & NA                                                                    & NA                                                                    & NA                                                                    & 1466                                                                  & 2016                                                                  & NA                                                                    & NA                                                                    & cecb4947939d2b935a2e09902ed87fcf5758de204f82c6aaa3c63029a410c2c9.doc  & cecb4947939d2b935a2e09902ed87fcf5758de204f82c6aaa3c63029a410c2c9      & 2429                                                                 \\\\\n",
       "\t 1236                                                                  & 13200                                                                 & 2435                                                                  & 0194200000517003346                                                   & NA                                                                    & replace\\_me                                                          & 2810000                                                               & 2810000                                                               & 1                                                                     & NA                                                                    & ⋯                                                                     & 1591                                                                  & NA                                                                    & NA                                                                    & NA                                                                    & NA                                                                    & NA                                                                    & NA                                                                    & 6b7c5daa1a02d457f09e439dfab2c23ac3a0ae0126110553c139169daf0e1c2b.docx & 6b7c5daa1a02d457f09e439dfab2c23ac3a0ae0126110553c139169daf0e1c2b      & 2435                                                                 \\\\\n",
       "\t 1244                                                                  & 13447                                                                 & 2447                                                                  & 0165300003717000036                                                   & NA                                                                    & replace\\_me                                                          & 612300                                                                & 612300                                                                & 1                                                                     & NA                                                                    & ⋯                                                                     & NA                                                                    & NA                                                                    & NA                                                                    & NA                                                                    & NA                                                                    & NA                                                                    & NA                                                                    & 0d6881497b4ad12c76c36332e1e83a1b1167677049e3e736d162de8dad60246b.doc  & 0d6881497b4ad12c76c36332e1e83a1b1167677049e3e736d162de8dad60246b      & 2447                                                                 \\\\\n",
       "\t 1247                                                                  & 13687                                                                 & 2456                                                                  & 0855200000517000959                                                   & NA                                                                    & replace\\_me                                                          & 901000                                                                & NA                                                                    & 1                                                                     & NA                                                                    & ⋯                                                                     & NA                                                                    & NA                                                                    & NA                                                                    & NA                                                                    & NA                                                                    & NA                                                                    & NA                                                                    & 1073e12e8875473f7f53cc3002f6df9def98e3bad09d272d148b266c243d8b59.docx & 1073e12e8875473f7f53cc3002f6df9def98e3bad09d272d148b266c243d8b59      & 2456                                                                 \\\\\n",
       "\\end{tabular}\n"
      ],
      "text/markdown": [
       "\n",
       "X__1 | n | index_name | purchase_number | done | completed_car_purchase | price | price_per_one | auction | real_price | ⋯ | объем_двигателя_куб_см | длина | максимальная_скорость | масса_авто_снаряженная | год_выпуска | мощность_л_с | потребление_топлива_городской_цикл_л_100км | filename | sha_id | all_indexes | \n",
       "|---|---|---|---|---|---|---|---|---|---|---|---|---|---|---|---|---|---|---|---|---|---|---|---|---|---|---|---|---|---|---|---|---|---|---|---|---|---|---|---|---|---|---|---|---|---|---|---|---|---|---|---|---|---|---|---|---|---|---|---|---|\n",
       "| 25                                                                    | 12402                                                                 | 46                                                                    | 0350300003216000056                                                   | NA                                                                    | replace_me                                                            | 986285.71                                                             | 986285.71                                                             | 1                                                                     | NA                                                                    | ⋯                                                                     | NA                                                                    | NA                                                                    | NA                                                                    | NA                                                                    | NA                                                                    | NA                                                                    | NA                                                                    | 68ddca582629a5f2346dafe0333a0f14f92d03ffbf6ada271f00c3dd4cfa7cc4.docx | 68ddca582629a5f2346dafe0333a0f14f92d03ffbf6ada271f00c3dd4cfa7cc4      | 46                                                                    | \n",
       "| 29                                                                    | 15322                                                                 | 56                                                                    | 0130300032716000071                                                   | NA                                                                    | replace_me                                                            | 632900                                                                | 632900                                                                | 1                                                                     | NA                                                                    | ⋯                                                                     | NA                                                                    | 4470                                                                  | NA                                                                    | NA                                                                    | NA                                                                    | NA                                                                    | NA                                                                    | 3a12297e624f5aa526082ff616ced87ab59ba35a70f6de2b483caa1990560ea8.doc  | 3a12297e624f5aa526082ff616ced87ab59ba35a70f6de2b483caa1990560ea8      | 56                                                                    | \n",
       "| 50                                                                    | 658                                                                   | 91                                                                    | 0848300051717000020                                                   | NA                                                                    | replace_me                                                            | 947200                                                                | 947200                                                                | 1                                                                     | NA                                                                    | ⋯                                                                     | 1500                                                                  | 5475                                                                  | NA                                                                    | NA                                                                    | NA                                                                    | NA                                                                    | NA                                                                    | bda08d2e1d45551db7709baaa0bc7129c2afd5af735929a822a4585fc1473ba3.doc  | bda08d2e1d45551db7709baaa0bc7129c2afd5af735929a822a4585fc1473ba3      | 91, 94, 169, 175                                                      | \n",
       "| 54                                                                    | 2264                                                                  | 96                                                                    | 0164300035917000001                                                   | NA                                                                    | replace_me                                                            | 452600                                                                | NA                                                                    | 1                                                                     | NA                                                                    | ⋯                                                                     | 1596                                                                  | NA                                                                    | NA                                                                    | 1560                                                                  | NA                                                                    | NA                                                                    | NA                                                                    | b668b28c1ead6dfa8921be41a14d74653bc4aec727bdd6fa76a3d0e4365d872c.doc  | b668b28c1ead6dfa8921be41a14d74653bc4aec727bdd6fa76a3d0e4365d872c      | 96, 185                                                               | \n",
       "| 57                                                                    | 3939                                                                  | 102                                                                   | 0124200000617000051                                                   | NA                                                                    | replace_me                                                            | 7e+06                                                                 | 1750000                                                               | 1                                                                     | NA                                                                    | ⋯                                                                     | NA                                                                    | 4605                                                                  | 210                                                                   | 1610                                                                  | NA                                                                    | NA                                                                    | NA                                                                    | 1e18bf866e47818408b9ae1a7b956bba1d29794d2bc51dac58de059089a618bf.docx | 1e18bf866e47818408b9ae1a7b956bba1d29794d2bc51dac58de059089a618bf      | 102, 110, 177                                                         | \n",
       "| 77                                                                    | 11824                                                                 | 137                                                                   | 0337100017717000096                                                   | NA                                                                    | replace_me                                                            | 691372.75                                                             | NA                                                                    | 1                                                                     | NA                                                                    | ⋯                                                                     | NA                                                                    | 4470                                                                  | NA                                                                    | 1260                                                                  | NA                                                                    | NA                                                                    | NA                                                                    | b843939d9f86e0967ac3acbee7fb6c1d5cb0f0269187d9c824dda8f111f50c5c.docx | b843939d9f86e0967ac3acbee7fb6c1d5cb0f0269187d9c824dda8f111f50c5c      | 137                                                                   | \n",
       "| 82                                                                    | 13869                                                                 | 147                                                                   | 0154300024517000001                                                   | NA                                                                    | replace_me                                                            | 435600                                                                | NA                                                                    | 1                                                                     | NA                                                                    | ⋯                                                                     | 1596                                                                  | NA                                                                    | NA                                                                    | 1560                                                                  | NA                                                                    | NA                                                                    | NA                                                                    | 3a428bef9970d315445c85c47f39fb38d4aac024eaf75bbbe9a02e83cbf0c2f6.doc  | 3a428bef9970d315445c85c47f39fb38d4aac024eaf75bbbe9a02e83cbf0c2f6      | 147                                                                   | \n",
       "| 84                                                                    | 14261                                                                 | 150                                                                   | 0139300032516003244                                                   | NA                                                                    | replace_me                                                            | 639990                                                                | 639990                                                                | 1                                                                     | NA                                                                    | ⋯                                                                     | NA                                                                    | 1940                                                                  | 120                                                                   | NA                                                                    | NA                                                                    | NA                                                                    | NA                                                                    | 062c75c22ad86b1bc28cef6f254e0fc61b778c60572f692620fa9deaae5d3920.docx | 062c75c22ad86b1bc28cef6f254e0fc61b778c60572f692620fa9deaae5d3920      | 150, 200                                                              | \n",
       "| 92                                                                    | 18489                                                                 | 172                                                                   | 0552600008117000001                                                   | NA                                                                    | replace_me                                                            | 592000                                                                | NA                                                                    | 1                                                                     | NA                                                                    | ⋯                                                                     | NA                                                                    | NA                                                                    | NA                                                                    | NA                                                                    | NA                                                                    | NA                                                                    | NA                                                                    | b0fbc3d4b637ee1ce3db64be6a6a1eba2cd69528a7726d97a0620b98cbd6689d.docx | b0fbc3d4b637ee1ce3db64be6a6a1eba2cd69528a7726d97a0620b98cbd6689d      | 172                                                                   | \n",
       "| 106                                                                   | 103                                                                   | 205                                                                   | 0106200001317000020                                                   | NA                                                                    | replace_me                                                            | 595000                                                                | NA                                                                    | 1                                                                     | NA                                                                    | ⋯                                                                     | 1.9                                                                   | 4056                                                                  | NA                                                                    | NA                                                                    | NA                                                                    | NA                                                                    | NA                                                                    | a3212fe3008f8585adcfbe33fd37f3f9119b9490cab00e4ba51d60f184f26401.docx | a3212fe3008f8585adcfbe33fd37f3f9119b9490cab00e4ba51d60f184f26401      | 205                                                                   | \n",
       "| 114                                                                   | 456                                                                   | 214                                                                   | 0169300011917000012                                                   | NA                                                                    | replace_me                                                            | 679993.33                                                             | 679993.33                                                             | 1                                                                     | NA                                                                    | ⋯                                                                     | 1598                                                                  | NA                                                                    | NA                                                                    | NA                                                                    | NA                                                                    | NA                                                                    | NA                                                                    | b6a3446b5b60ffe250e961ff0182acd9acb6d2a0b23188da4d323ec5d71f0384.doc  | b6a3446b5b60ffe250e961ff0182acd9acb6d2a0b23188da4d323ec5d71f0384      | 214                                                                   | \n",
       "| 137                                                                   | 2470                                                                  | 245                                                                   | 0116300021817000036                                                   | NA                                                                    | replace_me                                                            | 9e+05                                                                 | 9e+05                                                                 | 1                                                                     | NA                                                                    | ⋯                                                                     | NA                                                                    | NA                                                                    | NA                                                                    | NA                                                                    | NA                                                                    | NA                                                                    | NA                                                                    | 64be649de2940b6a79a111ef99107afbf7701478d076efa93677253ed502372c.doc  | 64be649de2940b6a79a111ef99107afbf7701478d076efa93677253ed502372c      | 245, 417                                                              | \n",
       "| 147                                                                   | 3131                                                                  | 257                                                                   | 0354100005317000006                                                   | NA                                                                    | replace_me                                                            | 700220                                                                | NA                                                                    | 1                                                                     | NA                                                                    | ⋯                                                                     | NA                                                                    | NA                                                                    | NA                                                                    | NA                                                                    | NA                                                                    | NA                                                                    | NA                                                                    | a547835e2a85007122e2b358f40ba4a28451c3cf73edfdd7c121e33a892942ac.docx | a547835e2a85007122e2b358f40ba4a28451c3cf73edfdd7c121e33a892942ac      | 257                                                                   | \n",
       "| 189                                                                   | 6669                                                                  | 322                                                                   | 0116300005217000023                                                   | NA                                                                    | replace_me                                                            | 850000                                                                | 850000                                                                | 1                                                                     | NA                                                                    | ⋯                                                                     | NA                                                                    | NA                                                                    | NA                                                                    | NA                                                                    | NA                                                                    | NA                                                                    | NA                                                                    | 4cdbdb3a35cc675b4a953a21e78bf6b4d9fa17c52008eaa1744ba1db6ce66a45.doc  | 4cdbdb3a35cc675b4a953a21e78bf6b4d9fa17c52008eaa1744ba1db6ce66a45      | 322, 354, 404                                                         | \n",
       "| 219                                                                   | 9569                                                                  | 380                                                                   | 0820200000617000003                                                   | NA                                                                    | replace_me                                                            | 905800                                                                | NA                                                                    | 1                                                                     | NA                                                                    | ⋯                                                                     | NA                                                                    | NA                                                                    | NA                                                                    | NA                                                                    | 2016                                                                  | NA                                                                    | NA                                                                    | 362530dce782570795071c443cff85b5dc68fd92c852d02f6c913bf0d3f0c0f2.docx | 362530dce782570795071c443cff85b5dc68fd92c852d02f6c913bf0d3f0c0f2      | 380                                                                   | \n",
       "| 230                                                                   | 10504                                                                 | 399                                                                   | 0142300038317000032                                                   | NA                                                                    | replace_me                                                            | 647090                                                                | 647090                                                                | 1                                                                     | NA                                                                    | ⋯                                                                     | NA                                                                    | 4048                                                                  | NA                                                                    | NA                                                                    | NA                                                                    | NA                                                                    | NA                                                                    | 780012b41774da8b8bc12f7f394b74051cc79f4a36ca1ccbe4bc0f240cd91d8b.doc  | 780012b41774da8b8bc12f7f394b74051cc79f4a36ca1ccbe4bc0f240cd91d8b      | 399                                                                   | \n",
       "| 239                                                                   | 12464                                                                 | 424                                                                   | 0369300069917000006                                                   | NA                                                                    | replace_me                                                            | 1499000                                                               | 1499000                                                               | 1                                                                     | NA                                                                    | ⋯                                                                     | NA                                                                    | NA                                                                    | NA                                                                    | NA                                                                    | NA                                                                    | NA                                                                    | NA                                                                    | 55fde30c02ad1e70d79e25ddeada51ada719607e2321b8f5d80269df82bbf11a.doc  | 55fde30c02ad1e70d79e25ddeada51ada719607e2321b8f5d80269df82bbf11a      | 424                                                                   | \n",
       "| 250                                                                   | 13537                                                                 | 439                                                                   | 0169300011917000016                                                   | NA                                                                    | replace_me                                                            | 679993.33                                                             | 679993.33                                                             | 1                                                                     | NA                                                                    | ⋯                                                                     | 1598                                                                  | NA                                                                    | NA                                                                    | NA                                                                    | NA                                                                    | NA                                                                    | NA                                                                    | d21a24041e9c9d7c46197c61bd95387a562f3e644f1adf0e6cdab1a65517788f.doc  | d21a24041e9c9d7c46197c61bd95387a562f3e644f1adf0e6cdab1a65517788f      | 439, 595                                                              | \n",
       "| 262                                                                   | 15175                                                                 | 462                                                                   | 0130300032717000001                                                   | NA                                                                    | replace_me                                                            | 661064                                                                | 661064                                                                | 1                                                                     | NA                                                                    | ⋯                                                                     | NA                                                                    | 4470                                                                  | NA                                                                    | NA                                                                    | NA                                                                    | NA                                                                    | NA                                                                    | bb3d0f4da7747305f27bde6af816e5b8330ddb13a0aa9176849244d4c4351a20.doc  | bb3d0f4da7747305f27bde6af816e5b8330ddb13a0aa9176849244d4c4351a20      | 462                                                                   | \n",
       "| 265                                                                   | 15341                                                                 | 466                                                                   | 0201200000117000004                                                   | NA                                                                    | replace_me                                                            | 1437900                                                               | NA                                                                    | 1                                                                     | NA                                                                    | ⋯                                                                     | 1596                                                                  | 4250                                                                  | NA                                                                    | NA                                                                    | 2016                                                                  | NA                                                                    | NA                                                                    | 8e39be2621d8d098a1ebd49b887bb5f69a1dd6d4c63b19cdf9aa9f060ead9aa6.docx | 8e39be2621d8d098a1ebd49b887bb5f69a1dd6d4c63b19cdf9aa9f060ead9aa6      | 466                                                                   | \n",
       "| 267                                                                   | 15769                                                                 | 474                                                                   | 0172100008517000012                                                   | NA                                                                    | replace_me                                                            | 1500000                                                               | NA                                                                    | 1                                                                     | NA                                                                    | ⋯                                                                     | NA                                                                    | NA                                                                    | NA                                                                    | NA                                                                    | NA                                                                    | NA                                                                    | NA                                                                    | 75b0fcdf663e5de8af93ec3fac6d2a893194f5679a91ad038ec2425e0017cd7f.docx | 75b0fcdf663e5de8af93ec3fac6d2a893194f5679a91ad038ec2425e0017cd7f      | 474                                                                   | \n",
       "| 271                                                                   | 16171                                                                 | 483                                                                   | 0169600001917000007                                                   | NA                                                                    | replace_me                                                            | 1300836                                                               | 1300836                                                               | 1                                                                     | NA                                                                    | ⋯                                                                     | 1999                                                                  | 4470                                                                  | NA                                                                    | NA                                                                    | 2017                                                                  | NA                                                                    | NA                                                                    | 81aa951bdd9a218314b19f8f5c889d6aa82d90d7fbb63fadd9fb34c83a17feef.docx | 81aa951bdd9a218314b19f8f5c889d6aa82d90d7fbb63fadd9fb34c83a17feef      | 483                                                                   | \n",
       "| 279                                                                   | 17132                                                                 | 498                                                                   | 0324100005017000029                                                   | NA                                                                    | replace_me                                                            | 1432000                                                               | NA                                                                    | 1                                                                     | NA                                                                    | ⋯                                                                     | 1900                                                                  | 4600                                                                  | NA                                                                    | NA                                                                    | NA                                                                    | NA                                                                    | NA                                                                    | 5a79641518f9d3262182d24de68c446e4b955aca3507d67689776799c84810a4.docx | 5a79641518f9d3262182d24de68c446e4b955aca3507d67689776799c84810a4      | 498, 535                                                              | \n",
       "| 284                                                                   | 17791                                                                 | 507                                                                   | 0310200000317000137                                                   | NA                                                                    | replace_me                                                            | 12706666.67                                                           | 1588333.33375                                                         | 1                                                                     | NA                                                                    | ⋯                                                                     | NA                                                                    | NA                                                                    | NA                                                                    | NA                                                                    | NA                                                                    | NA                                                                    | NA                                                                    | ee2f794d39a9763c84ad39b587c948b1a95380a89e7143ea2ec9a2547ceb6f9b.doc  | ee2f794d39a9763c84ad39b587c948b1a95380a89e7143ea2ec9a2547ceb6f9b      | 507                                                                   | \n",
       "| 285                                                                   | 17967                                                                 | 508                                                                   | 0109100007717000007                                                   | NA                                                                    | replace_me                                                            | 954000                                                                | NA                                                                    | 1                                                                     | NA                                                                    | ⋯                                                                     | NA                                                                    | NA                                                                    | NA                                                                    | NA                                                                    | NA                                                                    | NA                                                                    | NA                                                                    | 05b13fce30d4365d94b92e5dd30bb2badba502001e2e201a71c2173c14308da3.doc  | 05b13fce30d4365d94b92e5dd30bb2badba502001e2e201a71c2173c14308da3      | 508                                                                   | \n",
       "| 295                                                                   | 19021                                                                 | 530                                                                   | 0373100017817000001                                                   | NA                                                                    | replace_me                                                            | 4e+06                                                                 | NA                                                                    | 1                                                                     | NA                                                                    | ⋯                                                                     | NA                                                                    | 4850                                                                  | 210                                                                   | NA                                                                    | NA                                                                    | NA                                                                    | NA                                                                    | d8d550e08faa4921f8acd0f99f112543bd961bb269ed0fddfa107d696a608186.docx | d8d550e08faa4921f8acd0f99f112543bd961bb269ed0fddfa107d696a608186      | 530                                                                   | \n",
       "| 333                                                                   | 23978                                                                 | 633                                                                   | 0158300030017000012                                                   | NA                                                                    | replace_me                                                            | 598900                                                                | 598900                                                                | 1                                                                     | NA                                                                    | ⋯                                                                     | NA                                                                    | NA                                                                    | NA                                                                    | NA                                                                    | NA                                                                    | NA                                                                    | NA                                                                    | 9817a31aed41a57e4e2ebe81a2dd9c5a2f47d06cb98b6bcfd59b860ec309dcd5.doc  | 9817a31aed41a57e4e2ebe81a2dd9c5a2f47d06cb98b6bcfd59b860ec309dcd5      | 633                                                                   | \n",
       "| 334                                                                   | 24033                                                                 | 634                                                                   | 0119300004317000006                                                   | NA                                                                    | replace_me                                                            | 698990                                                                | NA                                                                    | 1                                                                     | NA                                                                    | ⋯                                                                     | NA                                                                    | NA                                                                    | NA                                                                    | NA                                                                    | 2016                                                                  | NA                                                                    | NA                                                                    | e237a0a973c2c3c54779f045370c6a079713448c322d34d0823cde9051ae4d66.docx | e237a0a973c2c3c54779f045370c6a079713448c322d34d0823cde9051ae4d66      | 634                                                                   | \n",
       "| 337                                                                   | 24338                                                                 | 638                                                                   | 0109200002417000196                                                   | NA                                                                    | replace_me                                                            | 1697000                                                               | 1697000                                                               | 1                                                                     | NA                                                                    | ⋯                                                                     | NA                                                                    | 1210                                                                  | NA                                                                    | NA                                                                    | NA                                                                    | NA                                                                    | NA                                                                    | 0135a567824b22c28e119a286af5b1c86ed64e45563fe7ee8d17f9c54b2da2c0.docx | 0135a567824b22c28e119a286af5b1c86ed64e45563fe7ee8d17f9c54b2da2c0      | 638                                                                   | \n",
       "| 365                                                                   | 1129                                                                  | 684                                                                   | 0279100000217000082                                                   | NA                                                                    | replace_me                                                            | 977146.2                                                              | NA                                                                    | 1                                                                     | NA                                                                    | ⋯                                                                     | NA                                                                    | NA                                                                    | NA                                                                    | NA                                                                    | NA                                                                    | NA                                                                    | NA                                                                    | dcebc52ef46a5def89f955d7e3fcdf85c3211b9989bda659772a0751ecbf4349.docx | dcebc52ef46a5def89f955d7e3fcdf85c3211b9989bda659772a0751ecbf4349      | 684                                                                   | \n",
       "| ⋮ | ⋮ | ⋮ | ⋮ | ⋮ | ⋮ | ⋮ | ⋮ | ⋮ | ⋮ | ⋱ | ⋮ | ⋮ | ⋮ | ⋮ | ⋮ | ⋮ | ⋮ | ⋮ | ⋮ | ⋮ | \n",
       "| 994                                                                   | 22960                                                                 | 1944                                                                  | 0500400000317000082                                                   | NA                                                                    | replace_me                                                            | 20933074                                                              | NA                                                                    | 1                                                                     | NA                                                                    | ⋯                                                                     | 1598                                                                  | NA                                                                    | NA                                                                    | NA                                                                    | NA                                                                    | NA                                                                    | NA                                                                    | 0ec31fa36279bd839983f92882b4f388112d8cc9a8c15960edc281b062f701fd.doc  | 0ec31fa36279bd839983f92882b4f388112d8cc9a8c15960edc281b062f701fd      | 1944, 1978                                                            | \n",
       "| 999                                                                   | 23200                                                                 | 1954                                                                  | 0258100000317000220                                                   | NA                                                                    | replace_me                                                            | 16943447.5                                                            | NA                                                                    | 1                                                                     | NA                                                                    | ⋯                                                                     | NA                                                                    | NA                                                                    | NA                                                                    | NA                                                                    | NA                                                                    | NA                                                                    | NA                                                                    | ccd05476c245fa8b93276793b729996ba2dab2b2fe5a6bb8b46048729225bdac.docx | ccd05476c245fa8b93276793b729996ba2dab2b2fe5a6bb8b46048729225bdac      | 1954                                                                  | \n",
       "| 1004                                                                  | 23954                                                                 | 1977                                                                  | 0535100000217000032                                                   | NA                                                                    | replace_me                                                            | 1447500                                                               | NA                                                                    | 1                                                                     | NA                                                                    | ⋯                                                                     | NA                                                                    | NA                                                                    | NA                                                                    | NA                                                                    | NA                                                                    | NA                                                                    | NA                                                                    | 64c132ad5043cfe027f28eb3110a604038ff9bb64dd3c27d184b0afab578f299.docx | 64c132ad5043cfe027f28eb3110a604038ff9bb64dd3c27d184b0afab578f299      | 1977                                                                  | \n",
       "| 1025                                                                  | 712                                                                   | 2036                                                                  | 0373100040817000010                                                   | NA                                                                    | replace_me                                                            | 2500000                                                               | NA                                                                    | 1                                                                     | NA                                                                    | ⋯                                                                     | NA                                                                    | NA                                                                    | NA                                                                    | NA                                                                    | 2016                                                                  | NA                                                                    | NA                                                                    | 97bcd378e2717979b350bde854c9ba5e651525c737691af3a0d89da514e2cd5a.docx | 97bcd378e2717979b350bde854c9ba5e651525c737691af3a0d89da514e2cd5a      | 2036                                                                  | \n",
       "| 1033                                                                  | 1018                                                                  | 2051                                                                  | 0105300004717000011                                                   | NA                                                                    | replace_me                                                            | 1350600                                                               | NA                                                                    | 1                                                                     | NA                                                                    | ⋯                                                                     | NA                                                                    | NA                                                                    | NA                                                                    | NA                                                                    | NA                                                                    | NA                                                                    | NA                                                                    | dfa0035e993edc12fc6a1af5ad17ef6bd6cb007ec2fd71c36598618d6a1ddbc4.doc  | dfa0035e993edc12fc6a1af5ad17ef6bd6cb007ec2fd71c36598618d6a1ddbc4      | 2051                                                                  | \n",
       "| 1048                                                                  | 2028                                                                  | 2073                                                                  | 0361200015017002427                                                   | NA                                                                    | replace_me                                                            | 3100000                                                               | 3100000                                                               | 1                                                                     | NA                                                                    | ⋯                                                                     | NA                                                                    | 2059                                                                  | NA                                                                    | NA                                                                    | NA                                                                    | NA                                                                    | NA                                                                    | ce6ca102a27a1391625271bb2d3c46912cc73c286f17a470ca1d76b8e07b25f1.docx | ce6ca102a27a1391625271bb2d3c46912cc73c286f17a470ca1d76b8e07b25f1      | 2073, 2102, 2203                                                      | \n",
       "| 1057                                                                  | 2312                                                                  | 2084                                                                  | 0135300007617000063                                                   | NA                                                                    | replace_me                                                            | 759600                                                                | 759600                                                                | 1                                                                     | NA                                                                    | ⋯                                                                     | NA                                                                    | NA                                                                    | NA                                                                    | NA                                                                    | NA                                                                    | NA                                                                    | NA                                                                    | ee2debbb346d62222a56a66daf1b23aa4b6c26c9f9fdb16abf4f6f743d82dfd4.doc  | ee2debbb346d62222a56a66daf1b23aa4b6c26c9f9fdb16abf4f6f743d82dfd4      | 2084                                                                  | \n",
       "| 1061                                                                  | 2604                                                                  | 2094                                                                  | 0320300111617000064                                                   | NA                                                                    | replace_me                                                            | 2253000                                                               | 1126500                                                               | 1                                                                     | NA                                                                    | ⋯                                                                     | NA                                                                    | NA                                                                    | NA                                                                    | NA                                                                    | NA                                                                    | NA                                                                    | NA                                                                    | c0e189d242de702bf4514292811523361188411d907d0b6ab36f9ba8daa91c51.docx | c0e189d242de702bf4514292811523361188411d907d0b6ab36f9ba8daa91c51      | 2094, 2141                                                            | \n",
       "| 1087                                                                  | 3933                                                                  | 2135                                                                  | 0133200001717001354                                                   | NA                                                                    | replace_me                                                            | 6e+05                                                                 | 6e+05                                                                 | 1                                                                     | NA                                                                    | ⋯                                                                     | NA                                                                    | NA                                                                    | NA                                                                    | NA                                                                    | NA                                                                    | NA                                                                    | NA                                                                    | aa5554cdac36309c780a08952d504f6b522d1348c78b95ff131901de876d6f36.doc  | aa5554cdac36309c780a08952d504f6b522d1348c78b95ff131901de876d6f36      | 2135                                                                  | \n",
       "| 1088                                                                  | 3941                                                                  | 2136                                                                  | 0875200001017000003                                                   | NA                                                                    | replace_me                                                            | 1529700                                                               | NA                                                                    | 1                                                                     | NA                                                                    | ⋯                                                                     | 1690                                                                  | NA                                                                    | NA                                                                    | NA                                                                    | NA                                                                    | NA                                                                    | NA                                                                    | 586f77b48969cb4467578d1c73b326fe4972e0a32cf0d34f03f84642b9561da4.docx | 586f77b48969cb4467578d1c73b326fe4972e0a32cf0d34f03f84642b9561da4      | 2136, 2170, 2254, 2424, 2489                                          | \n",
       "| 1098                                                                  | 4513                                                                  | 2152                                                                  | 0150100006017000033                                                   | NA                                                                    | replace_me                                                            | 2000266.67                                                            | NA                                                                    | 1                                                                     | NA                                                                    | ⋯                                                                     | NA                                                                    | NA                                                                    | NA                                                                    | NA                                                                    | NA                                                                    | NA                                                                    | NA                                                                    | 3be43eeeaf2b9f727dfebe832113e19554c339745d068236bca251c8d504e970.docx | 3be43eeeaf2b9f727dfebe832113e19554c339745d068236bca251c8d504e970      | 2152                                                                  | \n",
       "| 1108                                                                  | 4846                                                                  | 2166                                                                  | 0324100005017000056                                                   | NA                                                                    | replace_me                                                            | 1455760                                                               | NA                                                                    | 1                                                                     | NA                                                                    | ⋯                                                                     | 1590                                                                  | 4040                                                                  | NA                                                                    | NA                                                                    | NA                                                                    | NA                                                                    | NA                                                                    | 51912649146dc8d5b4c123eeb23bebcb8d49bf642e4f1b5dde4f97dc267ebf63.docx | 51912649146dc8d5b4c123eeb23bebcb8d49bf642e4f1b5dde4f97dc267ebf63      | 2166                                                                  | \n",
       "| 1116                                                                  | 5406                                                                  | 2184                                                                  | 0119300040017000072                                                   | NA                                                                    | replace_me                                                            | 6e+05                                                                 | 6e+05                                                                 | 1                                                                     | NA                                                                    | ⋯                                                                     | NA                                                                    | NA                                                                    | NA                                                                    | NA                                                                    | NA                                                                    | NA                                                                    | NA                                                                    | 8bf99845471deeb7c2c258c2926eda7048243399dc2a5562adcbc1b4a763ea48.docx | 8bf99845471deeb7c2c258c2926eda7048243399dc2a5562adcbc1b4a763ea48      | 2184                                                                  | \n",
       "| 1122                                                                  | 5574                                                                  | 2190                                                                  | 0324100005017000057                                                   | NA                                                                    | replace_me                                                            | 1342533.33                                                            | NA                                                                    | 1                                                                     | NA                                                                    | ⋯                                                                     | 1596                                                                  | 4470                                                                  | NA                                                                    | NA                                                                    | NA                                                                    | NA                                                                    | NA                                                                    | d9720dd03ef341cec7fe19d8515104fc95a84efc58d56416a2cfa150f80ed9ac.docx | d9720dd03ef341cec7fe19d8515104fc95a84efc58d56416a2cfa150f80ed9ac      | 2190                                                                  | \n",
       "| 1125                                                                  | 5870                                                                  | 2199                                                                  | 0865200000317000996                                                   | NA                                                                    | replace_me                                                            | 1499966.67                                                            | NA                                                                    | 1                                                                     | NA                                                                    | ⋯                                                                     | 2000                                                                  | 4480                                                                  | NA                                                                    | NA                                                                    | NA                                                                    | NA                                                                    | NA                                                                    | 87ea367dae867952266ead6e99d72a3884c260150bea9465ec5fa393265375b6.docx | 87ea367dae867952266ead6e99d72a3884c260150bea9465ec5fa393265375b6      | 2199                                                                  | \n",
       "| 1136                                                                  | 6368                                                                  | 2218                                                                  | 0848500002617000016                                                   | NA                                                                    | replace_me                                                            | 5486000                                                               | NA                                                                    | 1                                                                     | NA                                                                    | ⋯                                                                     | 1598                                                                  | NA                                                                    | NA                                                                    | NA                                                                    | NA                                                                    | NA                                                                    | NA                                                                    | 6678539a1a0f7967a43cfa16270ea87de14eed58b69376b66a313c4d1a6919ba.docx | 6678539a1a0f7967a43cfa16270ea87de14eed58b69376b66a313c4d1a6919ba      | 2218, 2344                                                            | \n",
       "| 1137                                                                  | 6432                                                                  | 2220                                                                  | 0817200000317003697                                                   | NA                                                                    | replace_me                                                            | 1745700                                                               | 581900                                                                | 1                                                                     | NA                                                                    | ⋯                                                                     | NA                                                                    | NA                                                                    | NA                                                                    | 1466                                                                  | 2016                                                                  | NA                                                                    | NA                                                                    | 40a9932750bb2c7e3bb5c6e067f46ab30d872683bd3044c9a6b1db8df51b186a.doc  | 40a9932750bb2c7e3bb5c6e067f46ab30d872683bd3044c9a6b1db8df51b186a      | 2220, 2381                                                            | \n",
       "| 1138                                                                  | 6475                                                                  | 2221                                                                  | 0136300033517000047                                                   | NA                                                                    | replace_me                                                            | 924990                                                                | 924990                                                                | 1                                                                     | NA                                                                    | ⋯                                                                     | NA                                                                    | NA                                                                    | NA                                                                    | NA                                                                    | NA                                                                    | NA                                                                    | NA                                                                    | 2189230654dd224efa24c418033d4bff4342879e4800666005ba26e659e2f316.doc  | 2189230654dd224efa24c418033d4bff4342879e4800666005ba26e659e2f316      | 2221                                                                  | \n",
       "| 1167                                                                  | 8153                                                                  | 2275                                                                  | 0105200000217000642                                                   | NA                                                                    | replace_me                                                            | 7e+05                                                                 | 7e+05                                                                 | 1                                                                     | NA                                                                    | ⋯                                                                     | NA                                                                    | NA                                                                    | NA                                                                    | NA                                                                    | NA                                                                    | NA                                                                    | NA                                                                    | f666b014526fe8e5be0886bf339eab043f7a8c94a2f2ad3c6911312d2b3b8357.docx | f666b014526fe8e5be0886bf339eab043f7a8c94a2f2ad3c6911312d2b3b8357      | 2275                                                                  | \n",
       "| 1173                                                                  | 8358                                                                  | 2282                                                                  | 0858300002817000002                                                   | NA                                                                    | replace_me                                                            | 598900                                                                | NA                                                                    | 1                                                                     | NA                                                                    | ⋯                                                                     | NA                                                                    | NA                                                                    | 175                                                                   | 1670                                                                  | NA                                                                    | NA                                                                    | NA                                                                    | f238d77707ad24f7681dc6d21e872691e75d3aa675d1efb75cfe2dd1af8a8b0e.docx | f238d77707ad24f7681dc6d21e872691e75d3aa675d1efb75cfe2dd1af8a8b0e      | 2282                                                                  | \n",
       "| 1180                                                                  | 8826                                                                  | 2298                                                                  | 0142200001317006286                                                   | NA                                                                    | replace_me                                                            | 24173800                                                              | 389900                                                                | 1                                                                     | NA                                                                    | ⋯                                                                     | 1500                                                                  | 4260                                                                  | NA                                                                    | NA                                                                    | 2017                                                                  | NA                                                                    | NA                                                                    | 47443915abb1803252bfd0f6de754ab172ddf1b5b6b29539f6f4008bba7447a0.docx | 47443915abb1803252bfd0f6de754ab172ddf1b5b6b29539f6f4008bba7447a0      | 2298, 2306                                                            | \n",
       "| 1192                                                                  | 9617                                                                  | 2322                                                                  | 0365300043817000004                                                   | NA                                                                    | replace_me                                                            | 570900                                                                | NA                                                                    | 1                                                                     | NA                                                                    | ⋯                                                                     | NA                                                                    | NA                                                                    | NA                                                                    | NA                                                                    | NA                                                                    | NA                                                                    | NA                                                                    | 38d696d9edc947d410f93b7c49734fde296c41709102f5cc147137d05b07e5f6.doc  | 38d696d9edc947d410f93b7c49734fde296c41709102f5cc147137d05b07e5f6      | 2322                                                                  | \n",
       "| 1193                                                                  | 9935                                                                  | 2328                                                                  | 0188300006517000075                                                   | NA                                                                    | replace_me                                                            | 5700000                                                               | NA                                                                    | 1                                                                     | NA                                                                    | ⋯                                                                     | NA                                                                    | NA                                                                    | NA                                                                    | NA                                                                    | NA                                                                    | NA                                                                    | NA                                                                    | e16947ebbc9ee95a6fd7cbaaf21f22f990e0e6d529790ef290b38709124a7ba7.docx | e16947ebbc9ee95a6fd7cbaaf21f22f990e0e6d529790ef290b38709124a7ba7      | 2328                                                                  | \n",
       "| 1202                                                                  | 10718                                                                 | 2348                                                                  | 0120100010117000174                                                   | NA                                                                    | replace_me                                                            | 2994330                                                               | NA                                                                    | 1                                                                     | NA                                                                    | ⋯                                                                     | NA                                                                    | NA                                                                    | NA                                                                    | NA                                                                    | NA                                                                    | NA                                                                    | NA                                                                    | 6eb30473c2fc56b5dc9999445106c68b94cfb939b0cca59be8b75196bf14054e.docx | 6eb30473c2fc56b5dc9999445106c68b94cfb939b0cca59be8b75196bf14054e      | 2348                                                                  | \n",
       "| 1213                                                                  | 11293                                                                 | 2369                                                                  | 0103200008417003264                                                   | NA                                                                    | replace_me                                                            | 1992666.68                                                            | 498166.67                                                             | 1                                                                     | NA                                                                    | ⋯                                                                     | 1420                                                                  | 3740                                                                  | 142                                                                   | NA                                                                    | NA                                                                    | NA                                                                    | NA                                                                    | f3bbbcedacce0237bed60ad0c8ace84db42ecae22c2a73f7037f5ebe7799b655.docx | f3bbbcedacce0237bed60ad0c8ace84db42ecae22c2a73f7037f5ebe7799b655      | 2369                                                                  | \n",
       "| 1233                                                                  | 13041                                                                 | 2425                                                                  | 0554600003217000003                                                   | NA                                                                    | replace_me                                                            | 678933                                                                | NA                                                                    | 1                                                                     | NA                                                                    | ⋯                                                                     | 1510                                                                  | NA                                                                    | NA                                                                    | 1497                                                                  | 2017                                                                  | NA                                                                    | NA                                                                    | 4298883512f0a355ea14bbf95fb1287ac6255abba26ee08d0fc6aea33b8dcb13.docx | 4298883512f0a355ea14bbf95fb1287ac6255abba26ee08d0fc6aea33b8dcb13      | 2425                                                                  | \n",
       "| 1234                                                                  | 13099                                                                 | 2429                                                                  | 0817200000317003740                                                   | NA                                                                    | replace_me                                                            | 1163800                                                               | 581900                                                                | 1                                                                     | NA                                                                    | ⋯                                                                     | NA                                                                    | NA                                                                    | NA                                                                    | 1466                                                                  | 2016                                                                  | NA                                                                    | NA                                                                    | cecb4947939d2b935a2e09902ed87fcf5758de204f82c6aaa3c63029a410c2c9.doc  | cecb4947939d2b935a2e09902ed87fcf5758de204f82c6aaa3c63029a410c2c9      | 2429                                                                  | \n",
       "| 1236                                                                  | 13200                                                                 | 2435                                                                  | 0194200000517003346                                                   | NA                                                                    | replace_me                                                            | 2810000                                                               | 2810000                                                               | 1                                                                     | NA                                                                    | ⋯                                                                     | 1591                                                                  | NA                                                                    | NA                                                                    | NA                                                                    | NA                                                                    | NA                                                                    | NA                                                                    | 6b7c5daa1a02d457f09e439dfab2c23ac3a0ae0126110553c139169daf0e1c2b.docx | 6b7c5daa1a02d457f09e439dfab2c23ac3a0ae0126110553c139169daf0e1c2b      | 2435                                                                  | \n",
       "| 1244                                                                  | 13447                                                                 | 2447                                                                  | 0165300003717000036                                                   | NA                                                                    | replace_me                                                            | 612300                                                                | 612300                                                                | 1                                                                     | NA                                                                    | ⋯                                                                     | NA                                                                    | NA                                                                    | NA                                                                    | NA                                                                    | NA                                                                    | NA                                                                    | NA                                                                    | 0d6881497b4ad12c76c36332e1e83a1b1167677049e3e736d162de8dad60246b.doc  | 0d6881497b4ad12c76c36332e1e83a1b1167677049e3e736d162de8dad60246b      | 2447                                                                  | \n",
       "| 1247                                                                  | 13687                                                                 | 2456                                                                  | 0855200000517000959                                                   | NA                                                                    | replace_me                                                            | 901000                                                                | NA                                                                    | 1                                                                     | NA                                                                    | ⋯                                                                     | NA                                                                    | NA                                                                    | NA                                                                    | NA                                                                    | NA                                                                    | NA                                                                    | NA                                                                    | 1073e12e8875473f7f53cc3002f6df9def98e3bad09d272d148b266c243d8b59.docx | 1073e12e8875473f7f53cc3002f6df9def98e3bad09d272d148b266c243d8b59      | 2456                                                                  | \n",
       "\n",
       "\n"
      ],
      "text/plain": [
       "    X__1 n     index_name purchase_number     done completed_car_purchase\n",
       "1   25   12402 46         0350300003216000056 NA   replace_me            \n",
       "2   29   15322 56         0130300032716000071 NA   replace_me            \n",
       "3   50   658   91         0848300051717000020 NA   replace_me            \n",
       "4   54   2264  96         0164300035917000001 NA   replace_me            \n",
       "5   57   3939  102        0124200000617000051 NA   replace_me            \n",
       "6   77   11824 137        0337100017717000096 NA   replace_me            \n",
       "7   82   13869 147        0154300024517000001 NA   replace_me            \n",
       "8   84   14261 150        0139300032516003244 NA   replace_me            \n",
       "9   92   18489 172        0552600008117000001 NA   replace_me            \n",
       "10  106  103   205        0106200001317000020 NA   replace_me            \n",
       "11  114  456   214        0169300011917000012 NA   replace_me            \n",
       "12  137  2470  245        0116300021817000036 NA   replace_me            \n",
       "13  147  3131  257        0354100005317000006 NA   replace_me            \n",
       "14  189  6669  322        0116300005217000023 NA   replace_me            \n",
       "15  219  9569  380        0820200000617000003 NA   replace_me            \n",
       "16  230  10504 399        0142300038317000032 NA   replace_me            \n",
       "17  239  12464 424        0369300069917000006 NA   replace_me            \n",
       "18  250  13537 439        0169300011917000016 NA   replace_me            \n",
       "19  262  15175 462        0130300032717000001 NA   replace_me            \n",
       "20  265  15341 466        0201200000117000004 NA   replace_me            \n",
       "21  267  15769 474        0172100008517000012 NA   replace_me            \n",
       "22  271  16171 483        0169600001917000007 NA   replace_me            \n",
       "23  279  17132 498        0324100005017000029 NA   replace_me            \n",
       "24  284  17791 507        0310200000317000137 NA   replace_me            \n",
       "25  285  17967 508        0109100007717000007 NA   replace_me            \n",
       "26  295  19021 530        0373100017817000001 NA   replace_me            \n",
       "27  333  23978 633        0158300030017000012 NA   replace_me            \n",
       "28  334  24033 634        0119300004317000006 NA   replace_me            \n",
       "29  337  24338 638        0109200002417000196 NA   replace_me            \n",
       "30  365  1129  684        0279100000217000082 NA   replace_me            \n",
       "⋮   ⋮    ⋮     ⋮          ⋮                   ⋮    ⋮                     \n",
       "100 994  22960 1944       0500400000317000082 NA   replace_me            \n",
       "101 999  23200 1954       0258100000317000220 NA   replace_me            \n",
       "102 1004 23954 1977       0535100000217000032 NA   replace_me            \n",
       "103 1025 712   2036       0373100040817000010 NA   replace_me            \n",
       "104 1033 1018  2051       0105300004717000011 NA   replace_me            \n",
       "105 1048 2028  2073       0361200015017002427 NA   replace_me            \n",
       "106 1057 2312  2084       0135300007617000063 NA   replace_me            \n",
       "107 1061 2604  2094       0320300111617000064 NA   replace_me            \n",
       "108 1087 3933  2135       0133200001717001354 NA   replace_me            \n",
       "109 1088 3941  2136       0875200001017000003 NA   replace_me            \n",
       "110 1098 4513  2152       0150100006017000033 NA   replace_me            \n",
       "111 1108 4846  2166       0324100005017000056 NA   replace_me            \n",
       "112 1116 5406  2184       0119300040017000072 NA   replace_me            \n",
       "113 1122 5574  2190       0324100005017000057 NA   replace_me            \n",
       "114 1125 5870  2199       0865200000317000996 NA   replace_me            \n",
       "115 1136 6368  2218       0848500002617000016 NA   replace_me            \n",
       "116 1137 6432  2220       0817200000317003697 NA   replace_me            \n",
       "117 1138 6475  2221       0136300033517000047 NA   replace_me            \n",
       "118 1167 8153  2275       0105200000217000642 NA   replace_me            \n",
       "119 1173 8358  2282       0858300002817000002 NA   replace_me            \n",
       "120 1180 8826  2298       0142200001317006286 NA   replace_me            \n",
       "121 1192 9617  2322       0365300043817000004 NA   replace_me            \n",
       "122 1193 9935  2328       0188300006517000075 NA   replace_me            \n",
       "123 1202 10718 2348       0120100010117000174 NA   replace_me            \n",
       "124 1213 11293 2369       0103200008417003264 NA   replace_me            \n",
       "125 1233 13041 2425       0554600003217000003 NA   replace_me            \n",
       "126 1234 13099 2429       0817200000317003740 NA   replace_me            \n",
       "127 1236 13200 2435       0194200000517003346 NA   replace_me            \n",
       "128 1244 13447 2447       0165300003717000036 NA   replace_me            \n",
       "129 1247 13687 2456       0855200000517000959 NA   replace_me            \n",
       "    price       price_per_one auction real_price ⋯ объем_двигателя_куб_см длина\n",
       "1   986285.71   986285.71     1       NA         ⋯ NA                     NA   \n",
       "2   632900      632900        1       NA         ⋯ NA                     4470 \n",
       "3   947200      947200        1       NA         ⋯ 1500                   5475 \n",
       "4   452600      NA            1       NA         ⋯ 1596                   NA   \n",
       "5   7e+06       1750000       1       NA         ⋯ NA                     4605 \n",
       "6   691372.75   NA            1       NA         ⋯ NA                     4470 \n",
       "7   435600      NA            1       NA         ⋯ 1596                   NA   \n",
       "8   639990      639990        1       NA         ⋯ NA                     1940 \n",
       "9   592000      NA            1       NA         ⋯ NA                     NA   \n",
       "10  595000      NA            1       NA         ⋯ 1.9                    4056 \n",
       "11  679993.33   679993.33     1       NA         ⋯ 1598                   NA   \n",
       "12  9e+05       9e+05         1       NA         ⋯ NA                     NA   \n",
       "13  700220      NA            1       NA         ⋯ NA                     NA   \n",
       "14  850000      850000        1       NA         ⋯ NA                     NA   \n",
       "15  905800      NA            1       NA         ⋯ NA                     NA   \n",
       "16  647090      647090        1       NA         ⋯ NA                     4048 \n",
       "17  1499000     1499000       1       NA         ⋯ NA                     NA   \n",
       "18  679993.33   679993.33     1       NA         ⋯ 1598                   NA   \n",
       "19  661064      661064        1       NA         ⋯ NA                     4470 \n",
       "20  1437900     NA            1       NA         ⋯ 1596                   4250 \n",
       "21  1500000     NA            1       NA         ⋯ NA                     NA   \n",
       "22  1300836     1300836       1       NA         ⋯ 1999                   4470 \n",
       "23  1432000     NA            1       NA         ⋯ 1900                   4600 \n",
       "24  12706666.67 1588333.33375 1       NA         ⋯ NA                     NA   \n",
       "25  954000      NA            1       NA         ⋯ NA                     NA   \n",
       "26  4e+06       NA            1       NA         ⋯ NA                     4850 \n",
       "27  598900      598900        1       NA         ⋯ NA                     NA   \n",
       "28  698990      NA            1       NA         ⋯ NA                     NA   \n",
       "29  1697000     1697000       1       NA         ⋯ NA                     1210 \n",
       "30  977146.2    NA            1       NA         ⋯ NA                     NA   \n",
       "⋮   ⋮           ⋮             ⋮       ⋮          ⋱ ⋮                      ⋮    \n",
       "100 20933074    NA            1       NA         ⋯ 1598                   NA   \n",
       "101 16943447.5  NA            1       NA         ⋯ NA                     NA   \n",
       "102 1447500     NA            1       NA         ⋯ NA                     NA   \n",
       "103 2500000     NA            1       NA         ⋯ NA                     NA   \n",
       "104 1350600     NA            1       NA         ⋯ NA                     NA   \n",
       "105 3100000     3100000       1       NA         ⋯ NA                     2059 \n",
       "106 759600      759600        1       NA         ⋯ NA                     NA   \n",
       "107 2253000     1126500       1       NA         ⋯ NA                     NA   \n",
       "108 6e+05       6e+05         1       NA         ⋯ NA                     NA   \n",
       "109 1529700     NA            1       NA         ⋯ 1690                   NA   \n",
       "110 2000266.67  NA            1       NA         ⋯ NA                     NA   \n",
       "111 1455760     NA            1       NA         ⋯ 1590                   4040 \n",
       "112 6e+05       6e+05         1       NA         ⋯ NA                     NA   \n",
       "113 1342533.33  NA            1       NA         ⋯ 1596                   4470 \n",
       "114 1499966.67  NA            1       NA         ⋯ 2000                   4480 \n",
       "115 5486000     NA            1       NA         ⋯ 1598                   NA   \n",
       "116 1745700     581900        1       NA         ⋯ NA                     NA   \n",
       "117 924990      924990        1       NA         ⋯ NA                     NA   \n",
       "118 7e+05       7e+05         1       NA         ⋯ NA                     NA   \n",
       "119 598900      NA            1       NA         ⋯ NA                     NA   \n",
       "120 24173800    389900        1       NA         ⋯ 1500                   4260 \n",
       "121 570900      NA            1       NA         ⋯ NA                     NA   \n",
       "122 5700000     NA            1       NA         ⋯ NA                     NA   \n",
       "123 2994330     NA            1       NA         ⋯ NA                     NA   \n",
       "124 1992666.68  498166.67     1       NA         ⋯ 1420                   3740 \n",
       "125 678933      NA            1       NA         ⋯ 1510                   NA   \n",
       "126 1163800     581900        1       NA         ⋯ NA                     NA   \n",
       "127 2810000     2810000       1       NA         ⋯ 1591                   NA   \n",
       "128 612300      612300        1       NA         ⋯ NA                     NA   \n",
       "129 901000      NA            1       NA         ⋯ NA                     NA   \n",
       "    максимальная_скорость масса_авто_снаряженная год_выпуска мощность_л_с\n",
       "1   NA                    NA                     NA          NA          \n",
       "2   NA                    NA                     NA          NA          \n",
       "3   NA                    NA                     NA          NA          \n",
       "4   NA                    1560                   NA          NA          \n",
       "5   210                   1610                   NA          NA          \n",
       "6   NA                    1260                   NA          NA          \n",
       "7   NA                    1560                   NA          NA          \n",
       "8   120                   NA                     NA          NA          \n",
       "9   NA                    NA                     NA          NA          \n",
       "10  NA                    NA                     NA          NA          \n",
       "11  NA                    NA                     NA          NA          \n",
       "12  NA                    NA                     NA          NA          \n",
       "13  NA                    NA                     NA          NA          \n",
       "14  NA                    NA                     NA          NA          \n",
       "15  NA                    NA                     2016        NA          \n",
       "16  NA                    NA                     NA          NA          \n",
       "17  NA                    NA                     NA          NA          \n",
       "18  NA                    NA                     NA          NA          \n",
       "19  NA                    NA                     NA          NA          \n",
       "20  NA                    NA                     2016        NA          \n",
       "21  NA                    NA                     NA          NA          \n",
       "22  NA                    NA                     2017        NA          \n",
       "23  NA                    NA                     NA          NA          \n",
       "24  NA                    NA                     NA          NA          \n",
       "25  NA                    NA                     NA          NA          \n",
       "26  210                   NA                     NA          NA          \n",
       "27  NA                    NA                     NA          NA          \n",
       "28  NA                    NA                     2016        NA          \n",
       "29  NA                    NA                     NA          NA          \n",
       "30  NA                    NA                     NA          NA          \n",
       "⋮   ⋮                     ⋮                      ⋮           ⋮           \n",
       "100 NA                    NA                     NA          NA          \n",
       "101 NA                    NA                     NA          NA          \n",
       "102 NA                    NA                     NA          NA          \n",
       "103 NA                    NA                     2016        NA          \n",
       "104 NA                    NA                     NA          NA          \n",
       "105 NA                    NA                     NA          NA          \n",
       "106 NA                    NA                     NA          NA          \n",
       "107 NA                    NA                     NA          NA          \n",
       "108 NA                    NA                     NA          NA          \n",
       "109 NA                    NA                     NA          NA          \n",
       "110 NA                    NA                     NA          NA          \n",
       "111 NA                    NA                     NA          NA          \n",
       "112 NA                    NA                     NA          NA          \n",
       "113 NA                    NA                     NA          NA          \n",
       "114 NA                    NA                     NA          NA          \n",
       "115 NA                    NA                     NA          NA          \n",
       "116 NA                    1466                   2016        NA          \n",
       "117 NA                    NA                     NA          NA          \n",
       "118 NA                    NA                     NA          NA          \n",
       "119 175                   1670                   NA          NA          \n",
       "120 NA                    NA                     2017        NA          \n",
       "121 NA                    NA                     NA          NA          \n",
       "122 NA                    NA                     NA          NA          \n",
       "123 NA                    NA                     NA          NA          \n",
       "124 142                   NA                     NA          NA          \n",
       "125 NA                    1497                   2017        NA          \n",
       "126 NA                    1466                   2016        NA          \n",
       "127 NA                    NA                     NA          NA          \n",
       "128 NA                    NA                     NA          NA          \n",
       "129 NA                    NA                     NA          NA          \n",
       "    потребление_топлива_городской_цикл_л_100км\n",
       "1   NA                                        \n",
       "2   NA                                        \n",
       "3   NA                                        \n",
       "4   NA                                        \n",
       "5   NA                                        \n",
       "6   NA                                        \n",
       "7   NA                                        \n",
       "8   NA                                        \n",
       "9   NA                                        \n",
       "10  NA                                        \n",
       "11  NA                                        \n",
       "12  NA                                        \n",
       "13  NA                                        \n",
       "14  NA                                        \n",
       "15  NA                                        \n",
       "16  NA                                        \n",
       "17  NA                                        \n",
       "18  NA                                        \n",
       "19  NA                                        \n",
       "20  NA                                        \n",
       "21  NA                                        \n",
       "22  NA                                        \n",
       "23  NA                                        \n",
       "24  NA                                        \n",
       "25  NA                                        \n",
       "26  NA                                        \n",
       "27  NA                                        \n",
       "28  NA                                        \n",
       "29  NA                                        \n",
       "30  NA                                        \n",
       "⋮   ⋮                                         \n",
       "100 NA                                        \n",
       "101 NA                                        \n",
       "102 NA                                        \n",
       "103 NA                                        \n",
       "104 NA                                        \n",
       "105 NA                                        \n",
       "106 NA                                        \n",
       "107 NA                                        \n",
       "108 NA                                        \n",
       "109 NA                                        \n",
       "110 NA                                        \n",
       "111 NA                                        \n",
       "112 NA                                        \n",
       "113 NA                                        \n",
       "114 NA                                        \n",
       "115 NA                                        \n",
       "116 NA                                        \n",
       "117 NA                                        \n",
       "118 NA                                        \n",
       "119 NA                                        \n",
       "120 NA                                        \n",
       "121 NA                                        \n",
       "122 NA                                        \n",
       "123 NA                                        \n",
       "124 NA                                        \n",
       "125 NA                                        \n",
       "126 NA                                        \n",
       "127 NA                                        \n",
       "128 NA                                        \n",
       "129 NA                                        \n",
       "    filename                                                             \n",
       "1   68ddca582629a5f2346dafe0333a0f14f92d03ffbf6ada271f00c3dd4cfa7cc4.docx\n",
       "2   3a12297e624f5aa526082ff616ced87ab59ba35a70f6de2b483caa1990560ea8.doc \n",
       "3   bda08d2e1d45551db7709baaa0bc7129c2afd5af735929a822a4585fc1473ba3.doc \n",
       "4   b668b28c1ead6dfa8921be41a14d74653bc4aec727bdd6fa76a3d0e4365d872c.doc \n",
       "5   1e18bf866e47818408b9ae1a7b956bba1d29794d2bc51dac58de059089a618bf.docx\n",
       "6   b843939d9f86e0967ac3acbee7fb6c1d5cb0f0269187d9c824dda8f111f50c5c.docx\n",
       "7   3a428bef9970d315445c85c47f39fb38d4aac024eaf75bbbe9a02e83cbf0c2f6.doc \n",
       "8   062c75c22ad86b1bc28cef6f254e0fc61b778c60572f692620fa9deaae5d3920.docx\n",
       "9   b0fbc3d4b637ee1ce3db64be6a6a1eba2cd69528a7726d97a0620b98cbd6689d.docx\n",
       "10  a3212fe3008f8585adcfbe33fd37f3f9119b9490cab00e4ba51d60f184f26401.docx\n",
       "11  b6a3446b5b60ffe250e961ff0182acd9acb6d2a0b23188da4d323ec5d71f0384.doc \n",
       "12  64be649de2940b6a79a111ef99107afbf7701478d076efa93677253ed502372c.doc \n",
       "13  a547835e2a85007122e2b358f40ba4a28451c3cf73edfdd7c121e33a892942ac.docx\n",
       "14  4cdbdb3a35cc675b4a953a21e78bf6b4d9fa17c52008eaa1744ba1db6ce66a45.doc \n",
       "15  362530dce782570795071c443cff85b5dc68fd92c852d02f6c913bf0d3f0c0f2.docx\n",
       "16  780012b41774da8b8bc12f7f394b74051cc79f4a36ca1ccbe4bc0f240cd91d8b.doc \n",
       "17  55fde30c02ad1e70d79e25ddeada51ada719607e2321b8f5d80269df82bbf11a.doc \n",
       "18  d21a24041e9c9d7c46197c61bd95387a562f3e644f1adf0e6cdab1a65517788f.doc \n",
       "19  bb3d0f4da7747305f27bde6af816e5b8330ddb13a0aa9176849244d4c4351a20.doc \n",
       "20  8e39be2621d8d098a1ebd49b887bb5f69a1dd6d4c63b19cdf9aa9f060ead9aa6.docx\n",
       "21  75b0fcdf663e5de8af93ec3fac6d2a893194f5679a91ad038ec2425e0017cd7f.docx\n",
       "22  81aa951bdd9a218314b19f8f5c889d6aa82d90d7fbb63fadd9fb34c83a17feef.docx\n",
       "23  5a79641518f9d3262182d24de68c446e4b955aca3507d67689776799c84810a4.docx\n",
       "24  ee2f794d39a9763c84ad39b587c948b1a95380a89e7143ea2ec9a2547ceb6f9b.doc \n",
       "25  05b13fce30d4365d94b92e5dd30bb2badba502001e2e201a71c2173c14308da3.doc \n",
       "26  d8d550e08faa4921f8acd0f99f112543bd961bb269ed0fddfa107d696a608186.docx\n",
       "27  9817a31aed41a57e4e2ebe81a2dd9c5a2f47d06cb98b6bcfd59b860ec309dcd5.doc \n",
       "28  e237a0a973c2c3c54779f045370c6a079713448c322d34d0823cde9051ae4d66.docx\n",
       "29  0135a567824b22c28e119a286af5b1c86ed64e45563fe7ee8d17f9c54b2da2c0.docx\n",
       "30  dcebc52ef46a5def89f955d7e3fcdf85c3211b9989bda659772a0751ecbf4349.docx\n",
       "⋮   ⋮                                                                    \n",
       "100 0ec31fa36279bd839983f92882b4f388112d8cc9a8c15960edc281b062f701fd.doc \n",
       "101 ccd05476c245fa8b93276793b729996ba2dab2b2fe5a6bb8b46048729225bdac.docx\n",
       "102 64c132ad5043cfe027f28eb3110a604038ff9bb64dd3c27d184b0afab578f299.docx\n",
       "103 97bcd378e2717979b350bde854c9ba5e651525c737691af3a0d89da514e2cd5a.docx\n",
       "104 dfa0035e993edc12fc6a1af5ad17ef6bd6cb007ec2fd71c36598618d6a1ddbc4.doc \n",
       "105 ce6ca102a27a1391625271bb2d3c46912cc73c286f17a470ca1d76b8e07b25f1.docx\n",
       "106 ee2debbb346d62222a56a66daf1b23aa4b6c26c9f9fdb16abf4f6f743d82dfd4.doc \n",
       "107 c0e189d242de702bf4514292811523361188411d907d0b6ab36f9ba8daa91c51.docx\n",
       "108 aa5554cdac36309c780a08952d504f6b522d1348c78b95ff131901de876d6f36.doc \n",
       "109 586f77b48969cb4467578d1c73b326fe4972e0a32cf0d34f03f84642b9561da4.docx\n",
       "110 3be43eeeaf2b9f727dfebe832113e19554c339745d068236bca251c8d504e970.docx\n",
       "111 51912649146dc8d5b4c123eeb23bebcb8d49bf642e4f1b5dde4f97dc267ebf63.docx\n",
       "112 8bf99845471deeb7c2c258c2926eda7048243399dc2a5562adcbc1b4a763ea48.docx\n",
       "113 d9720dd03ef341cec7fe19d8515104fc95a84efc58d56416a2cfa150f80ed9ac.docx\n",
       "114 87ea367dae867952266ead6e99d72a3884c260150bea9465ec5fa393265375b6.docx\n",
       "115 6678539a1a0f7967a43cfa16270ea87de14eed58b69376b66a313c4d1a6919ba.docx\n",
       "116 40a9932750bb2c7e3bb5c6e067f46ab30d872683bd3044c9a6b1db8df51b186a.doc \n",
       "117 2189230654dd224efa24c418033d4bff4342879e4800666005ba26e659e2f316.doc \n",
       "118 f666b014526fe8e5be0886bf339eab043f7a8c94a2f2ad3c6911312d2b3b8357.docx\n",
       "119 f238d77707ad24f7681dc6d21e872691e75d3aa675d1efb75cfe2dd1af8a8b0e.docx\n",
       "120 47443915abb1803252bfd0f6de754ab172ddf1b5b6b29539f6f4008bba7447a0.docx\n",
       "121 38d696d9edc947d410f93b7c49734fde296c41709102f5cc147137d05b07e5f6.doc \n",
       "122 e16947ebbc9ee95a6fd7cbaaf21f22f990e0e6d529790ef290b38709124a7ba7.docx\n",
       "123 6eb30473c2fc56b5dc9999445106c68b94cfb939b0cca59be8b75196bf14054e.docx\n",
       "124 f3bbbcedacce0237bed60ad0c8ace84db42ecae22c2a73f7037f5ebe7799b655.docx\n",
       "125 4298883512f0a355ea14bbf95fb1287ac6255abba26ee08d0fc6aea33b8dcb13.docx\n",
       "126 cecb4947939d2b935a2e09902ed87fcf5758de204f82c6aaa3c63029a410c2c9.doc \n",
       "127 6b7c5daa1a02d457f09e439dfab2c23ac3a0ae0126110553c139169daf0e1c2b.docx\n",
       "128 0d6881497b4ad12c76c36332e1e83a1b1167677049e3e736d162de8dad60246b.doc \n",
       "129 1073e12e8875473f7f53cc3002f6df9def98e3bad09d272d148b266c243d8b59.docx\n",
       "    sha_id                                                          \n",
       "1   68ddca582629a5f2346dafe0333a0f14f92d03ffbf6ada271f00c3dd4cfa7cc4\n",
       "2   3a12297e624f5aa526082ff616ced87ab59ba35a70f6de2b483caa1990560ea8\n",
       "3   bda08d2e1d45551db7709baaa0bc7129c2afd5af735929a822a4585fc1473ba3\n",
       "4   b668b28c1ead6dfa8921be41a14d74653bc4aec727bdd6fa76a3d0e4365d872c\n",
       "5   1e18bf866e47818408b9ae1a7b956bba1d29794d2bc51dac58de059089a618bf\n",
       "6   b843939d9f86e0967ac3acbee7fb6c1d5cb0f0269187d9c824dda8f111f50c5c\n",
       "7   3a428bef9970d315445c85c47f39fb38d4aac024eaf75bbbe9a02e83cbf0c2f6\n",
       "8   062c75c22ad86b1bc28cef6f254e0fc61b778c60572f692620fa9deaae5d3920\n",
       "9   b0fbc3d4b637ee1ce3db64be6a6a1eba2cd69528a7726d97a0620b98cbd6689d\n",
       "10  a3212fe3008f8585adcfbe33fd37f3f9119b9490cab00e4ba51d60f184f26401\n",
       "11  b6a3446b5b60ffe250e961ff0182acd9acb6d2a0b23188da4d323ec5d71f0384\n",
       "12  64be649de2940b6a79a111ef99107afbf7701478d076efa93677253ed502372c\n",
       "13  a547835e2a85007122e2b358f40ba4a28451c3cf73edfdd7c121e33a892942ac\n",
       "14  4cdbdb3a35cc675b4a953a21e78bf6b4d9fa17c52008eaa1744ba1db6ce66a45\n",
       "15  362530dce782570795071c443cff85b5dc68fd92c852d02f6c913bf0d3f0c0f2\n",
       "16  780012b41774da8b8bc12f7f394b74051cc79f4a36ca1ccbe4bc0f240cd91d8b\n",
       "17  55fde30c02ad1e70d79e25ddeada51ada719607e2321b8f5d80269df82bbf11a\n",
       "18  d21a24041e9c9d7c46197c61bd95387a562f3e644f1adf0e6cdab1a65517788f\n",
       "19  bb3d0f4da7747305f27bde6af816e5b8330ddb13a0aa9176849244d4c4351a20\n",
       "20  8e39be2621d8d098a1ebd49b887bb5f69a1dd6d4c63b19cdf9aa9f060ead9aa6\n",
       "21  75b0fcdf663e5de8af93ec3fac6d2a893194f5679a91ad038ec2425e0017cd7f\n",
       "22  81aa951bdd9a218314b19f8f5c889d6aa82d90d7fbb63fadd9fb34c83a17feef\n",
       "23  5a79641518f9d3262182d24de68c446e4b955aca3507d67689776799c84810a4\n",
       "24  ee2f794d39a9763c84ad39b587c948b1a95380a89e7143ea2ec9a2547ceb6f9b\n",
       "25  05b13fce30d4365d94b92e5dd30bb2badba502001e2e201a71c2173c14308da3\n",
       "26  d8d550e08faa4921f8acd0f99f112543bd961bb269ed0fddfa107d696a608186\n",
       "27  9817a31aed41a57e4e2ebe81a2dd9c5a2f47d06cb98b6bcfd59b860ec309dcd5\n",
       "28  e237a0a973c2c3c54779f045370c6a079713448c322d34d0823cde9051ae4d66\n",
       "29  0135a567824b22c28e119a286af5b1c86ed64e45563fe7ee8d17f9c54b2da2c0\n",
       "30  dcebc52ef46a5def89f955d7e3fcdf85c3211b9989bda659772a0751ecbf4349\n",
       "⋮   ⋮                                                               \n",
       "100 0ec31fa36279bd839983f92882b4f388112d8cc9a8c15960edc281b062f701fd\n",
       "101 ccd05476c245fa8b93276793b729996ba2dab2b2fe5a6bb8b46048729225bdac\n",
       "102 64c132ad5043cfe027f28eb3110a604038ff9bb64dd3c27d184b0afab578f299\n",
       "103 97bcd378e2717979b350bde854c9ba5e651525c737691af3a0d89da514e2cd5a\n",
       "104 dfa0035e993edc12fc6a1af5ad17ef6bd6cb007ec2fd71c36598618d6a1ddbc4\n",
       "105 ce6ca102a27a1391625271bb2d3c46912cc73c286f17a470ca1d76b8e07b25f1\n",
       "106 ee2debbb346d62222a56a66daf1b23aa4b6c26c9f9fdb16abf4f6f743d82dfd4\n",
       "107 c0e189d242de702bf4514292811523361188411d907d0b6ab36f9ba8daa91c51\n",
       "108 aa5554cdac36309c780a08952d504f6b522d1348c78b95ff131901de876d6f36\n",
       "109 586f77b48969cb4467578d1c73b326fe4972e0a32cf0d34f03f84642b9561da4\n",
       "110 3be43eeeaf2b9f727dfebe832113e19554c339745d068236bca251c8d504e970\n",
       "111 51912649146dc8d5b4c123eeb23bebcb8d49bf642e4f1b5dde4f97dc267ebf63\n",
       "112 8bf99845471deeb7c2c258c2926eda7048243399dc2a5562adcbc1b4a763ea48\n",
       "113 d9720dd03ef341cec7fe19d8515104fc95a84efc58d56416a2cfa150f80ed9ac\n",
       "114 87ea367dae867952266ead6e99d72a3884c260150bea9465ec5fa393265375b6\n",
       "115 6678539a1a0f7967a43cfa16270ea87de14eed58b69376b66a313c4d1a6919ba\n",
       "116 40a9932750bb2c7e3bb5c6e067f46ab30d872683bd3044c9a6b1db8df51b186a\n",
       "117 2189230654dd224efa24c418033d4bff4342879e4800666005ba26e659e2f316\n",
       "118 f666b014526fe8e5be0886bf339eab043f7a8c94a2f2ad3c6911312d2b3b8357\n",
       "119 f238d77707ad24f7681dc6d21e872691e75d3aa675d1efb75cfe2dd1af8a8b0e\n",
       "120 47443915abb1803252bfd0f6de754ab172ddf1b5b6b29539f6f4008bba7447a0\n",
       "121 38d696d9edc947d410f93b7c49734fde296c41709102f5cc147137d05b07e5f6\n",
       "122 e16947ebbc9ee95a6fd7cbaaf21f22f990e0e6d529790ef290b38709124a7ba7\n",
       "123 6eb30473c2fc56b5dc9999445106c68b94cfb939b0cca59be8b75196bf14054e\n",
       "124 f3bbbcedacce0237bed60ad0c8ace84db42ecae22c2a73f7037f5ebe7799b655\n",
       "125 4298883512f0a355ea14bbf95fb1287ac6255abba26ee08d0fc6aea33b8dcb13\n",
       "126 cecb4947939d2b935a2e09902ed87fcf5758de204f82c6aaa3c63029a410c2c9\n",
       "127 6b7c5daa1a02d457f09e439dfab2c23ac3a0ae0126110553c139169daf0e1c2b\n",
       "128 0d6881497b4ad12c76c36332e1e83a1b1167677049e3e736d162de8dad60246b\n",
       "129 1073e12e8875473f7f53cc3002f6df9def98e3bad09d272d148b266c243d8b59\n",
       "    all_indexes                 \n",
       "1   46                          \n",
       "2   56                          \n",
       "3   91, 94, 169, 175            \n",
       "4   96, 185                     \n",
       "5   102, 110, 177               \n",
       "6   137                         \n",
       "7   147                         \n",
       "8   150, 200                    \n",
       "9   172                         \n",
       "10  205                         \n",
       "11  214                         \n",
       "12  245, 417                    \n",
       "13  257                         \n",
       "14  322, 354, 404               \n",
       "15  380                         \n",
       "16  399                         \n",
       "17  424                         \n",
       "18  439, 595                    \n",
       "19  462                         \n",
       "20  466                         \n",
       "21  474                         \n",
       "22  483                         \n",
       "23  498, 535                    \n",
       "24  507                         \n",
       "25  508                         \n",
       "26  530                         \n",
       "27  633                         \n",
       "28  634                         \n",
       "29  638                         \n",
       "30  684                         \n",
       "⋮   ⋮                           \n",
       "100 1944, 1978                  \n",
       "101 1954                        \n",
       "102 1977                        \n",
       "103 2036                        \n",
       "104 2051                        \n",
       "105 2073, 2102, 2203            \n",
       "106 2084                        \n",
       "107 2094, 2141                  \n",
       "108 2135                        \n",
       "109 2136, 2170, 2254, 2424, 2489\n",
       "110 2152                        \n",
       "111 2166                        \n",
       "112 2184                        \n",
       "113 2190                        \n",
       "114 2199                        \n",
       "115 2218, 2344                  \n",
       "116 2220, 2381                  \n",
       "117 2221                        \n",
       "118 2275                        \n",
       "119 2282                        \n",
       "120 2298, 2306                  \n",
       "121 2322                        \n",
       "122 2328                        \n",
       "123 2348                        \n",
       "124 2369                        \n",
       "125 2425                        \n",
       "126 2429                        \n",
       "127 2435                        \n",
       "128 2447                        \n",
       "129 2456                        "
      ]
     },
     "metadata": {},
     "output_type": "display_data"
    }
   ],
   "source": [
    "# goszak_df_kolich[ goszak_df_kolich$completed_car_purchase=='replace_me', ]   "
   ]
  },
  {
   "cell_type": "code",
   "execution_count": 347,
   "metadata": {
    "ExecuteTime": {
     "end_time": "2019-09-30T16:44:37.394332Z",
     "start_time": "2019-09-30T16:44:28.362Z"
    }
   },
   "outputs": [],
   "source": [
    "write.xlsx(goszak_df_kolich, 'goszak_tmp.xlsx')"
   ]
  },
  {
   "cell_type": "code",
   "execution_count": 442,
   "metadata": {
    "ExecuteTime": {
     "end_time": "2019-09-30T17:23:08.210039Z",
     "start_time": "2019-09-30T17:23:08.193Z"
    }
   },
   "outputs": [],
   "source": [
    "# goszak_df_kolich[goszak_df_kolich$index_name==943,  6]  = 0"
   ]
  },
  {
   "cell_type": "code",
   "execution_count": 493,
   "metadata": {
    "ExecuteTime": {
     "end_time": "2019-09-30T17:46:30.863345Z",
     "start_time": "2019-09-30T17:46:30.850Z"
    }
   },
   "outputs": [],
   "source": [
    "# "
   ]
  },
  {
   "cell_type": "code",
   "execution_count": 500,
   "metadata": {
    "ExecuteTime": {
     "end_time": "2019-09-30T17:49:59.271986Z",
     "start_time": "2019-09-30T17:49:59.239Z"
    }
   },
   "outputs": [],
   "source": [
    "tables_list_1  <- list()\n",
    "jj = 0\n",
    "for (i in as.integer(goszak_df_kolich_2$X__1)){\n",
    "    jj = jj+1\n",
    "    tables_list_1[[jj]]  <-  tables_list[[i]]\n",
    "}"
   ]
  },
  {
   "cell_type": "code",
   "execution_count": 503,
   "metadata": {
    "ExecuteTime": {
     "end_time": "2019-09-30T17:52:36.955830Z",
     "start_time": "2019-09-30T17:52:36.940Z"
    }
   },
   "outputs": [],
   "source": [
    "goszak_df_kolich_2['new_index'] = 1:dim(goszak_df_kolich_2)[1]"
   ]
  },
  {
   "cell_type": "code",
   "execution_count": 653,
   "metadata": {
    "ExecuteTime": {
     "end_time": "2019-09-30T20:21:37.001845Z",
     "start_time": "2019-09-30T20:21:36.970Z"
    }
   },
   "outputs": [],
   "source": [
    "# tables_list_1[[i]][[1]][[8]]"
   ]
  },
  {
   "cell_type": "code",
   "execution_count": 656,
   "metadata": {
    "ExecuteTime": {
     "end_time": "2019-09-30T20:27:29.970142Z",
     "start_time": "2019-09-30T20:27:29.926Z"
    }
   },
   "outputs": [
    {
     "data": {
      "text/html": [
       "'481900.00'"
      ],
      "text/latex": [
       "'481900.00'"
      ],
      "text/markdown": [
       "'481900.00'"
      ],
      "text/plain": [
       "[1] \"481900.00\""
      ]
     },
     "metadata": {},
     "output_type": "display_data"
    }
   ],
   "source": [
    "tab_tmp = tables_list_1[[i]][[1]][[8]] \n",
    "gsub(\"[^0-9.-]\",\"\",gsub(\",\",\".\", as.character(tab_tmp[dim(tab_tmp)[1],2]), fixed = TRUE))"
   ]
  },
  {
   "cell_type": "code",
   "execution_count": null,
   "metadata": {},
   "outputs": [],
   "source": [
    "(Российский рубль)"
   ]
  },
  {
   "cell_type": "code",
   "execution_count": 657,
   "metadata": {
    "ExecuteTime": {
     "end_time": "2019-09-30T20:32:47.432077Z",
     "start_time": "2019-09-30T20:32:42.999Z"
    }
   },
   "outputs": [
    {
     "name": "stderr",
     "output_type": "stream",
     "text": [
      "Warning message in 2:dim(tab_tmp):\n",
      "“numerical expression has 2 elements: only the first used”Warning message in 2:dim(tab_tmp):\n",
      "“numerical expression has 2 elements: only the first used”Warning message in 2:dim(tab_tmp):\n",
      "“numerical expression has 2 elements: only the first used”Warning message in 2:dim(tab_tmp):\n",
      "“numerical expression has 2 elements: only the first used”Warning message in 2:dim(tab_tmp):\n",
      "“numerical expression has 2 elements: only the first used”Warning message in 2:dim(tab_tmp):\n",
      "“numerical expression has 2 elements: only the first used”Warning message in 2:dim(tab_tmp):\n",
      "“numerical expression has 2 elements: only the first used”Warning message in 2:dim(tab_tmp):\n",
      "“numerical expression has 2 elements: only the first used”Warning message in 2:dim(tab_tmp):\n",
      "“numerical expression has 2 elements: only the first used”Warning message in 2:dim(tab_tmp):\n",
      "“numerical expression has 2 elements: only the first used”Warning message in 2:dim(tab_tmp):\n",
      "“numerical expression has 2 elements: only the first used”Warning message in 2:dim(tab_tmp):\n",
      "“numerical expression has 2 elements: only the first used”Warning message in 2:dim(tab_tmp):\n",
      "“numerical expression has 2 elements: only the first used”Warning message in 2:dim(tab_tmp):\n",
      "“numerical expression has 2 elements: only the first used”Warning message in 2:dim(tab_tmp):\n",
      "“numerical expression has 2 elements: only the first used”Warning message in 2:dim(tab_tmp):\n",
      "“numerical expression has 2 elements: only the first used”Warning message in 2:dim(tab_tmp):\n",
      "“numerical expression has 2 elements: only the first used”Warning message in 2:dim(tab_tmp):\n",
      "“numerical expression has 2 elements: only the first used”Warning message in 2:dim(tab_tmp):\n",
      "“numerical expression has 2 elements: only the first used”Warning message in 2:dim(tab_tmp):\n",
      "“numerical expression has 2 elements: only the first used”Warning message in 2:dim(tab_tmp):\n",
      "“numerical expression has 2 elements: only the first used”Warning message in 2:dim(tab_tmp):\n",
      "“numerical expression has 2 elements: only the first used”Warning message in 2:dim(tab_tmp):\n",
      "“numerical expression has 2 elements: only the first used”Warning message in 2:dim(tab_tmp):\n",
      "“numerical expression has 2 elements: only the first used”Warning message in 2:dim(tab_tmp):\n",
      "“numerical expression has 2 elements: only the first used”Warning message in 2:dim(tab_tmp):\n",
      "“numerical expression has 2 elements: only the first used”Warning message in 2:dim(tab_tmp):\n",
      "“numerical expression has 2 elements: only the first used”Warning message in 2:dim(tab_tmp):\n",
      "“numerical expression has 2 elements: only the first used”Warning message in 2:dim(tab_tmp):\n",
      "“numerical expression has 2 elements: only the first used”Warning message in 2:dim(tab_tmp):\n",
      "“numerical expression has 2 elements: only the first used”Warning message in 2:dim(tab_tmp):\n",
      "“numerical expression has 2 elements: only the first used”Warning message in 2:dim(tab_tmp):\n",
      "“numerical expression has 2 elements: only the first used”Warning message in 2:dim(tab_tmp):\n",
      "“numerical expression has 2 elements: only the first used”Warning message in 2:dim(tab_tmp):\n",
      "“numerical expression has 2 elements: only the first used”Warning message in 2:dim(tab_tmp):\n",
      "“numerical expression has 2 elements: only the first used”Warning message in 2:dim(tab_tmp):\n",
      "“numerical expression has 2 elements: only the first used”Warning message in 2:dim(tab_tmp):\n",
      "“numerical expression has 2 elements: only the first used”Warning message in 2:dim(tab_tmp):\n",
      "“numerical expression has 2 elements: only the first used”Warning message in 2:dim(tab_tmp):\n",
      "“numerical expression has 2 elements: only the first used”Warning message in 2:dim(tab_tmp):\n",
      "“numerical expression has 2 elements: only the first used”Warning message in 2:dim(tab_tmp):\n",
      "“numerical expression has 2 elements: only the first used”Warning message in 2:dim(tab_tmp):\n",
      "“numerical expression has 2 elements: only the first used”Warning message in 2:dim(tab_tmp):\n",
      "“numerical expression has 2 elements: only the first used”Warning message in 2:dim(tab_tmp):\n",
      "“numerical expression has 2 elements: only the first used”Warning message in 2:dim(tab_tmp):\n",
      "“numerical expression has 2 elements: only the first used”Warning message in 2:dim(tab_tmp):\n",
      "“numerical expression has 2 elements: only the first used”Warning message in 2:dim(tab_tmp):\n",
      "“numerical expression has 2 elements: only the first used”Warning message in 2:dim(tab_tmp):\n",
      "“numerical expression has 2 elements: only the first used”Warning message in 2:dim(tab_tmp):\n",
      "“numerical expression has 2 elements: only the first used”Warning message in 2:dim(tab_tmp):\n",
      "“numerical expression has 2 elements: only the first used”Warning message in 2:dim(tab_tmp):\n",
      "“numerical expression has 2 elements: only the first used”Warning message in 2:dim(tab_tmp):\n",
      "“numerical expression has 2 elements: only the first used”Warning message in 2:dim(tab_tmp):\n",
      "“numerical expression has 2 elements: only the first used”Warning message in 2:dim(tab_tmp):\n",
      "“numerical expression has 2 elements: only the first used”Warning message in 2:dim(tab_tmp):\n",
      "“numerical expression has 2 elements: only the first used”Warning message in 2:dim(tab_tmp):\n",
      "“numerical expression has 2 elements: only the first used”Warning message in 2:dim(tab_tmp):\n",
      "“numerical expression has 2 elements: only the first used”Warning message in 2:dim(tab_tmp):\n",
      "“numerical expression has 2 elements: only the first used”Warning message in 2:dim(tab_tmp):\n",
      "“numerical expression has 2 elements: only the first used”Warning message in 2:dim(tab_tmp):\n",
      "“numerical expression has 2 elements: only the first used”Warning message in 2:dim(tab_tmp):\n",
      "“numerical expression has 2 elements: only the first used”Warning message in 2:dim(tab_tmp):\n",
      "“numerical expression has 2 elements: only the first used”Warning message in 2:dim(tab_tmp):\n",
      "“numerical expression has 2 elements: only the first used”Warning message in 2:dim(tab_tmp):\n",
      "“numerical expression has 2 elements: only the first used”Warning message in 2:dim(tab_tmp):\n",
      "“numerical expression has 2 elements: only the first used”Warning message in 2:dim(tab_tmp):\n",
      "“numerical expression has 2 elements: only the first used”Warning message in 2:dim(tab_tmp):\n",
      "“numerical expression has 2 elements: only the first used”Warning message in 2:dim(tab_tmp):\n",
      "“numerical expression has 2 elements: only the first used”Warning message in 2:dim(tab_tmp):\n",
      "“numerical expression has 2 elements: only the first used”Warning message in 2:dim(tab_tmp):\n",
      "“numerical expression has 2 elements: only the first used”Warning message in 2:dim(tab_tmp):\n",
      "“numerical expression has 2 elements: only the first used”Warning message in 2:dim(tab_tmp):\n",
      "“numerical expression has 2 elements: only the first used”Warning message in 2:dim(tab_tmp):\n",
      "“numerical expression has 2 elements: only the first used”Warning message in 2:dim(tab_tmp):\n",
      "“numerical expression has 2 elements: only the first used”Warning message in 2:dim(tab_tmp):\n",
      "“numerical expression has 2 elements: only the first used”Warning message in 2:dim(tab_tmp):\n",
      "“numerical expression has 2 elements: only the first used”Warning message in 2:dim(tab_tmp):\n",
      "“numerical expression has 2 elements: only the first used”Warning message in 2:dim(tab_tmp):\n",
      "“numerical expression has 2 elements: only the first used”Warning message in 2:dim(tab_tmp):\n",
      "“numerical expression has 2 elements: only the first used”Warning message in 2:dim(tab_tmp):\n",
      "“numerical expression has 2 elements: only the first used”Warning message in 2:dim(tab_tmp):\n",
      "“numerical expression has 2 elements: only the first used”Warning message in 2:dim(tab_tmp):\n",
      "“numerical expression has 2 elements: only the first used”Warning message in 2:dim(tab_tmp):\n",
      "“numerical expression has 2 elements: only the first used”Warning message in 2:dim(tab_tmp):\n",
      "“numerical expression has 2 elements: only the first used”Warning message in 2:dim(tab_tmp):\n",
      "“numerical expression has 2 elements: only the first used”Warning message in 2:dim(tab_tmp):\n",
      "“numerical expression has 2 elements: only the first used”Warning message in 2:dim(tab_tmp):\n",
      "“numerical expression has 2 elements: only the first used”Warning message in 2:dim(tab_tmp):\n",
      "“numerical expression has 2 elements: only the first used”Warning message in 2:dim(tab_tmp):\n"
     ]
    },
    {
     "name": "stderr",
     "output_type": "stream",
     "text": [
      "“numerical expression has 2 elements: only the first used”Warning message in 2:dim(tab_tmp):\n",
      "“numerical expression has 2 elements: only the first used”Warning message in 2:dim(tab_tmp):\n",
      "“numerical expression has 2 elements: only the first used”Warning message in 2:dim(tab_tmp):\n",
      "“numerical expression has 2 elements: only the first used”Warning message in 2:dim(tab_tmp):\n",
      "“numerical expression has 2 elements: only the first used”Warning message in 2:dim(tab_tmp):\n",
      "“numerical expression has 2 elements: only the first used”Warning message in 2:dim(tab_tmp):\n",
      "“numerical expression has 2 elements: only the first used”Warning message in 2:dim(tab_tmp):\n",
      "“numerical expression has 2 elements: only the first used”Warning message in 2:dim(tab_tmp):\n",
      "“numerical expression has 2 elements: only the first used”Warning message in 2:dim(tab_tmp):\n",
      "“numerical expression has 2 elements: only the first used”Warning message in 2:dim(tab_tmp):\n",
      "“numerical expression has 2 elements: only the first used”Warning message in 2:dim(tab_tmp):\n",
      "“numerical expression has 2 elements: only the first used”Warning message in 2:dim(tab_tmp):\n",
      "“numerical expression has 2 elements: only the first used”Warning message in 2:dim(tab_tmp):\n",
      "“numerical expression has 2 elements: only the first used”Warning message in 2:dim(tab_tmp):\n",
      "“numerical expression has 2 elements: only the first used”Warning message in 2:dim(tab_tmp):\n",
      "“numerical expression has 2 elements: only the first used”Warning message in 2:dim(tab_tmp):\n",
      "“numerical expression has 2 elements: only the first used”Warning message in 2:dim(tab_tmp):\n",
      "“numerical expression has 2 elements: only the first used”Warning message in 2:dim(tab_tmp):\n",
      "“numerical expression has 2 elements: only the first used”Warning message in 2:dim(tab_tmp):\n",
      "“numerical expression has 2 elements: only the first used”Warning message in 2:dim(tab_tmp):\n",
      "“numerical expression has 2 elements: only the first used”Warning message in 2:dim(tab_tmp):\n",
      "“numerical expression has 2 elements: only the first used”Warning message in 2:dim(tab_tmp):\n",
      "“numerical expression has 2 elements: only the first used”Warning message in 2:dim(tab_tmp):\n",
      "“numerical expression has 2 elements: only the first used”Warning message in 2:dim(tab_tmp):\n",
      "“numerical expression has 2 elements: only the first used”Warning message in 2:dim(tab_tmp):\n",
      "“numerical expression has 2 elements: only the first used”Warning message in 2:dim(tab_tmp):\n",
      "“numerical expression has 2 elements: only the first used”Warning message in 2:dim(tab_tmp):\n",
      "“numerical expression has 2 elements: only the first used”Warning message in 2:dim(tab_tmp):\n",
      "“numerical expression has 2 elements: only the first used”Warning message in 2:dim(tab_tmp):\n",
      "“numerical expression has 2 elements: only the first used”Warning message in 2:dim(tab_tmp):\n",
      "“numerical expression has 2 elements: only the first used”Warning message in 2:dim(tab_tmp):\n",
      "“numerical expression has 2 elements: only the first used”Warning message in 2:dim(tab_tmp):\n",
      "“numerical expression has 2 elements: only the first used”Warning message in 2:dim(tab_tmp):\n",
      "“numerical expression has 2 elements: only the first used”Warning message in 2:dim(tab_tmp):\n",
      "“numerical expression has 2 elements: only the first used”Warning message in 2:dim(tab_tmp):\n",
      "“numerical expression has 2 elements: only the first used”Warning message in 2:dim(tab_tmp):\n",
      "“numerical expression has 2 elements: only the first used”Warning message in 2:dim(tab_tmp):\n",
      "“numerical expression has 2 elements: only the first used”Warning message in 2:dim(tab_tmp):\n",
      "“numerical expression has 2 elements: only the first used”Warning message in 2:dim(tab_tmp):\n",
      "“numerical expression has 2 elements: only the first used”Warning message in 2:dim(tab_tmp):\n",
      "“numerical expression has 2 elements: only the first used”Warning message in 2:dim(tab_tmp):\n",
      "“numerical expression has 2 elements: only the first used”Warning message in 2:dim(tab_tmp):\n",
      "“numerical expression has 2 elements: only the first used”Warning message in 2:dim(tab_tmp):\n",
      "“numerical expression has 2 elements: only the first used”Warning message in 2:dim(tab_tmp):\n",
      "“numerical expression has 2 elements: only the first used”Warning message in 2:dim(tab_tmp):\n",
      "“numerical expression has 2 elements: only the first used”Warning message in 2:dim(tab_tmp):\n",
      "“numerical expression has 2 elements: only the first used”Warning message in 2:dim(tab_tmp):\n",
      "“numerical expression has 2 elements: only the first used”Warning message in 2:dim(tab_tmp):\n",
      "“numerical expression has 2 elements: only the first used”Warning message in 2:dim(tab_tmp):\n",
      "“numerical expression has 2 elements: only the first used”Warning message in 2:dim(tab_tmp):\n",
      "“numerical expression has 2 elements: only the first used”Warning message in 2:dim(tab_tmp):\n",
      "“numerical expression has 2 elements: only the first used”Warning message in 2:dim(tab_tmp):\n",
      "“numerical expression has 2 elements: only the first used”Warning message in 2:dim(tab_tmp):\n",
      "“numerical expression has 2 elements: only the first used”Warning message in 2:dim(tab_tmp):\n",
      "“numerical expression has 2 elements: only the first used”Warning message in 2:dim(tab_tmp):\n",
      "“numerical expression has 2 elements: only the first used”Warning message in 2:dim(tab_tmp):\n",
      "“numerical expression has 2 elements: only the first used”Warning message in 2:dim(tab_tmp):\n",
      "“numerical expression has 2 elements: only the first used”Warning message in 2:dim(tab_tmp):\n",
      "“numerical expression has 2 elements: only the first used”Warning message in 2:dim(tab_tmp):\n",
      "“numerical expression has 2 elements: only the first used”Warning message in 2:dim(tab_tmp):\n",
      "“numerical expression has 2 elements: only the first used”Warning message in 2:dim(tab_tmp):\n",
      "“numerical expression has 2 elements: only the first used”Warning message in 2:dim(tab_tmp):\n",
      "“numerical expression has 2 elements: only the first used”Warning message in 2:dim(tab_tmp):\n",
      "“numerical expression has 2 elements: only the first used”Warning message in 2:dim(tab_tmp):\n",
      "“numerical expression has 2 elements: only the first used”Warning message in 2:dim(tab_tmp):\n",
      "“numerical expression has 2 elements: only the first used”Warning message in 2:dim(tab_tmp):\n",
      "“numerical expression has 2 elements: only the first used”Warning message in 2:dim(tab_tmp):\n",
      "“numerical expression has 2 elements: only the first used”Warning message in 2:dim(tab_tmp):\n",
      "“numerical expression has 2 elements: only the first used”Warning message in 2:dim(tab_tmp):\n",
      "“numerical expression has 2 elements: only the first used”Warning message in 2:dim(tab_tmp):\n",
      "“numerical expression has 2 elements: only the first used”Warning message in 2:dim(tab_tmp):\n",
      "“numerical expression has 2 elements: only the first used”Warning message in 2:dim(tab_tmp):\n",
      "“numerical expression has 2 elements: only the first used”Warning message in 2:dim(tab_tmp):\n",
      "“numerical expression has 2 elements: only the first used”Warning message in 2:dim(tab_tmp):\n",
      "“numerical expression has 2 elements: only the first used”Warning message in 2:dim(tab_tmp):\n",
      "“numerical expression has 2 elements: only the first used”Warning message in 2:dim(tab_tmp):\n",
      "“numerical expression has 2 elements: only the first used”Warning message in 2:dim(tab_tmp):\n",
      "“numerical expression has 2 elements: only the first used”Warning message in 2:dim(tab_tmp):\n",
      "“numerical expression has 2 elements: only the first used”Warning message in 2:dim(tab_tmp):\n",
      "“numerical expression has 2 elements: only the first used”Warning message in 2:dim(tab_tmp):\n",
      "“numerical expression has 2 elements: only the first used”Warning message in 2:dim(tab_tmp):\n",
      "“numerical expression has 2 elements: only the first used”Warning message in 2:dim(tab_tmp):\n",
      "“numerical expression has 2 elements: only the first used”Warning message in 2:dim(tab_tmp):\n",
      "“numerical expression has 2 elements: only the first used”Warning message in 2:dim(tab_tmp):\n",
      "“numerical expression has 2 elements: only the first used”Warning message in 2:dim(tab_tmp):\n",
      "“numerical expression has 2 elements: only the first used”Warning message in 2:dim(tab_tmp):\n",
      "“numerical expression has 2 elements: only the first used”Warning message in 2:dim(tab_tmp):\n",
      "“numerical expression has 2 elements: only the first used”Warning message in 2:dim(tab_tmp):\n",
      "“numerical expression has 2 elements: only the first used”Warning message in 2:dim(tab_tmp):\n",
      "“numerical expression has 2 elements: only the first used”Warning message in 2:dim(tab_tmp):\n",
      "“numerical expression has 2 elements: only the first used”Warning message in 2:dim(tab_tmp):\n",
      "“numerical expression has 2 elements: only the first used”Warning message in 2:dim(tab_tmp):\n",
      "“numerical expression has 2 elements: only the first used”Warning message in 2:dim(tab_tmp):\n",
      "“numerical expression has 2 elements: only the first used”Warning message in 2:dim(tab_tmp):\n",
      "“numerical expression has 2 elements: only the first used”Warning message in 2:dim(tab_tmp):\n",
      "“numerical expression has 2 elements: only the first used”Warning message in 2:dim(tab_tmp):\n",
      "“numerical expression has 2 elements: only the first used”Warning message in 2:dim(tab_tmp):\n",
      "“numerical expression has 2 elements: only the first used”Warning message in 2:dim(tab_tmp):\n",
      "“numerical expression has 2 elements: only the first used”Warning message in 2:dim(tab_tmp):\n",
      "“numerical expression has 2 elements: only the first used”Warning message in 2:dim(tab_tmp):\n",
      "“numerical expression has 2 elements: only the first used”Warning message in 2:dim(tab_tmp):\n",
      "“numerical expression has 2 elements: only the first used”Warning message in 2:dim(tab_tmp):\n",
      "“numerical expression has 2 elements: only the first used”Warning message in 2:dim(tab_tmp):\n",
      "“numerical expression has 2 elements: only the first used”Warning message in 2:dim(tab_tmp):\n",
      "“numerical expression has 2 elements: only the first used”Warning message in 2:dim(tab_tmp):\n",
      "“numerical expression has 2 elements: only the first used”Warning message in 2:dim(tab_tmp):\n",
      "“numerical expression has 2 elements: only the first used”Warning message in 2:dim(tab_tmp):\n",
      "“numerical expression has 2 elements: only the first used”Warning message in 2:dim(tab_tmp):\n",
      "“numerical expression has 2 elements: only the first used”Warning message in 2:dim(tab_tmp):\n",
      "“numerical expression has 2 elements: only the first used”Warning message in 2:dim(tab_tmp):\n",
      "“numerical expression has 2 elements: only the first used”Warning message in 2:dim(tab_tmp):\n",
      "“numerical expression has 2 elements: only the first used”Warning message in 2:dim(tab_tmp):\n",
      "“numerical expression has 2 elements: only the first used”Warning message in 2:dim(tab_tmp):\n",
      "“numerical expression has 2 elements: only the first used”Warning message in 2:dim(tab_tmp):\n",
      "“numerical expression has 2 elements: only the first used”Warning message in 2:dim(tab_tmp):\n",
      "“numerical expression has 2 elements: only the first used”Warning message in 2:dim(tab_tmp):\n",
      "“numerical expression has 2 elements: only the first used”Warning message in 2:dim(tab_tmp):\n",
      "“numerical expression has 2 elements: only the first used”Warning message in 2:dim(tab_tmp):\n",
      "“numerical expression has 2 elements: only the first used”Warning message in 2:dim(tab_tmp):\n",
      "“numerical expression has 2 elements: only the first used”Warning message in 2:dim(tab_tmp):\n",
      "“numerical expression has 2 elements: only the first used”Warning message in 2:dim(tab_tmp):\n",
      "“numerical expression has 2 elements: only the first used”Warning message in 2:dim(tab_tmp):\n",
      "“numerical expression has 2 elements: only the first used”Warning message in 2:dim(tab_tmp):\n",
      "“numerical expression has 2 elements: only the first used”Warning message in 2:dim(tab_tmp):\n",
      "“numerical expression has 2 elements: only the first used”Warning message in 2:dim(tab_tmp):\n",
      "“numerical expression has 2 elements: only the first used”Warning message in 2:dim(tab_tmp):\n",
      "“numerical expression has 2 elements: only the first used”Warning message in 2:dim(tab_tmp):\n",
      "“numerical expression has 2 elements: only the first used”Warning message in 2:dim(tab_tmp):\n",
      "“numerical expression has 2 elements: only the first used”Warning message in 2:dim(tab_tmp):\n",
      "“numerical expression has 2 elements: only the first used”Warning message in 2:dim(tab_tmp):\n",
      "“numerical expression has 2 elements: only the first used”Warning message in 2:dim(tab_tmp):\n",
      "“numerical expression has 2 elements: only the first used”Warning message in 2:dim(tab_tmp):\n",
      "“numerical expression has 2 elements: only the first used”Warning message in 2:dim(tab_tmp):\n",
      "“numerical expression has 2 elements: only the first used”Warning message in 2:dim(tab_tmp):\n",
      "“numerical expression has 2 elements: only the first used”Warning message in 2:dim(tab_tmp):\n",
      "“numerical expression has 2 elements: only the first used”Warning message in 2:dim(tab_tmp):\n",
      "“numerical expression has 2 elements: only the first used”Warning message in 2:dim(tab_tmp):\n",
      "“numerical expression has 2 elements: only the first used”Warning message in 2:dim(tab_tmp):\n",
      "“numerical expression has 2 elements: only the first used”Warning message in 2:dim(tab_tmp):\n",
      "“numerical expression has 2 elements: only the first used”Warning message in 2:dim(tab_tmp):\n",
      "“numerical expression has 2 elements: only the first used”Warning message in 2:dim(tab_tmp):\n",
      "“numerical expression has 2 elements: only the first used”Warning message in 2:dim(tab_tmp):\n",
      "“numerical expression has 2 elements: only the first used”Warning message in 2:dim(tab_tmp):\n",
      "“numerical expression has 2 elements: only the first used”Warning message in 2:dim(tab_tmp):\n",
      "“numerical expression has 2 elements: only the first used”Warning message in 2:dim(tab_tmp):\n",
      "“numerical expression has 2 elements: only the first used”Warning message in 2:dim(tab_tmp):\n",
      "“numerical expression has 2 elements: only the first used”Warning message in 2:dim(tab_tmp):\n",
      "“numerical expression has 2 elements: only the first used”Warning message in 2:dim(tab_tmp):\n",
      "“numerical expression has 2 elements: only the first used”Warning message in 2:dim(tab_tmp):\n",
      "“numerical expression has 2 elements: only the first used”Warning message in 2:dim(tab_tmp):\n",
      "“numerical expression has 2 elements: only the first used”Warning message in 2:dim(tab_tmp):\n",
      "“numerical expression has 2 elements: only the first used”Warning message in 2:dim(tab_tmp):\n",
      "“numerical expression has 2 elements: only the first used”Warning message in 2:dim(tab_tmp):\n",
      "“numerical expression has 2 elements: only the first used”Warning message in 2:dim(tab_tmp):\n",
      "“numerical expression has 2 elements: only the first used”Warning message in 2:dim(tab_tmp):\n",
      "“numerical expression has 2 elements: only the first used”Warning message in 2:dim(tab_tmp):\n",
      "“numerical expression has 2 elements: only the first used”Warning message in 2:dim(tab_tmp):\n",
      "“numerical expression has 2 elements: only the first used”Warning message in 2:dim(tab_tmp):\n",
      "“numerical expression has 2 elements: only the first used”Warning message in 2:dim(tab_tmp):\n",
      "“numerical expression has 2 elements: only the first used”Warning message in 2:dim(tab_tmp):\n",
      "“numerical expression has 2 elements: only the first used”Warning message in 2:dim(tab_tmp):\n",
      "“numerical expression has 2 elements: only the first used”Warning message in 2:dim(tab_tmp):\n",
      "“numerical expression has 2 elements: only the first used”Warning message in 2:dim(tab_tmp):\n",
      "“numerical expression has 2 elements: only the first used”Warning message in 2:dim(tab_tmp):\n",
      "“numerical expression has 2 elements: only the first used”Warning message in 2:dim(tab_tmp):\n",
      "“numerical expression has 2 elements: only the first used”Warning message in 2:dim(tab_tmp):\n",
      "“numerical expression has 2 elements: only the first used”Warning message in 2:dim(tab_tmp):\n",
      "“numerical expression has 2 elements: only the first used”Warning message in 2:dim(tab_tmp):\n",
      "“numerical expression has 2 elements: only the first used”Warning message in 2:dim(tab_tmp):\n",
      "“numerical expression has 2 elements: only the first used”Warning message in 2:dim(tab_tmp):\n",
      "“numerical expression has 2 elements: only the first used”Warning message in 2:dim(tab_tmp):\n",
      "“numerical expression has 2 elements: only the first used”Warning message in 2:dim(tab_tmp):\n",
      "“numerical expression has 2 elements: only the first used”Warning message in 2:dim(tab_tmp):\n",
      "“numerical expression has 2 elements: only the first used”Warning message in 2:dim(tab_tmp):\n",
      "“numerical expression has 2 elements: only the first used”Warning message in 2:dim(tab_tmp):\n",
      "“numerical expression has 2 elements: only the first used”Warning message in 2:dim(tab_tmp):\n"
     ]
    },
    {
     "name": "stderr",
     "output_type": "stream",
     "text": [
      "“numerical expression has 2 elements: only the first used”Warning message in 2:dim(tab_tmp):\n",
      "“numerical expression has 2 elements: only the first used”Warning message in 2:dim(tab_tmp):\n",
      "“numerical expression has 2 elements: only the first used”Warning message in 2:dim(tab_tmp):\n",
      "“numerical expression has 2 elements: only the first used”Warning message in 2:dim(tab_tmp):\n",
      "“numerical expression has 2 elements: only the first used”Warning message in 2:dim(tab_tmp):\n",
      "“numerical expression has 2 elements: only the first used”Warning message in 2:dim(tab_tmp):\n",
      "“numerical expression has 2 elements: only the first used”Warning message in 2:dim(tab_tmp):\n",
      "“numerical expression has 2 elements: only the first used”Warning message in 2:dim(tab_tmp):\n",
      "“numerical expression has 2 elements: only the first used”Warning message in 2:dim(tab_tmp):\n",
      "“numerical expression has 2 elements: only the first used”Warning message in 2:dim(tab_tmp):\n",
      "“numerical expression has 2 elements: only the first used”Warning message in 2:dim(tab_tmp):\n",
      "“numerical expression has 2 elements: only the first used”Warning message in 2:dim(tab_tmp):\n",
      "“numerical expression has 2 elements: only the first used”Warning message in 2:dim(tab_tmp):\n",
      "“numerical expression has 2 elements: only the first used”Warning message in 2:dim(tab_tmp):\n",
      "“numerical expression has 2 elements: only the first used”Warning message in 2:dim(tab_tmp):\n",
      "“numerical expression has 2 elements: only the first used”Warning message in 2:dim(tab_tmp):\n",
      "“numerical expression has 2 elements: only the first used”Warning message in 2:dim(tab_tmp):\n",
      "“numerical expression has 2 elements: only the first used”Warning message in 2:dim(tab_tmp):\n",
      "“numerical expression has 2 elements: only the first used”Warning message in 2:dim(tab_tmp):\n",
      "“numerical expression has 2 elements: only the first used”Warning message in 2:dim(tab_tmp):\n",
      "“numerical expression has 2 elements: only the first used”Warning message in 2:dim(tab_tmp):\n",
      "“numerical expression has 2 elements: only the first used”Warning message in 2:dim(tab_tmp):\n",
      "“numerical expression has 2 elements: only the first used”Warning message in 2:dim(tab_tmp):\n",
      "“numerical expression has 2 elements: only the first used”Warning message in 2:dim(tab_tmp):\n",
      "“numerical expression has 2 elements: only the first used”Warning message in 2:dim(tab_tmp):\n",
      "“numerical expression has 2 elements: only the first used”Warning message in 2:dim(tab_tmp):\n",
      "“numerical expression has 2 elements: only the first used”Warning message in 2:dim(tab_tmp):\n",
      "“numerical expression has 2 elements: only the first used”Warning message in 2:dim(tab_tmp):\n",
      "“numerical expression has 2 elements: only the first used”Warning message in 2:dim(tab_tmp):\n",
      "“numerical expression has 2 elements: only the first used”Warning message in 2:dim(tab_tmp):\n",
      "“numerical expression has 2 elements: only the first used”Warning message in 2:dim(tab_tmp):\n",
      "“numerical expression has 2 elements: only the first used”Warning message in 2:dim(tab_tmp):\n",
      "“numerical expression has 2 elements: only the first used”Warning message in 2:dim(tab_tmp):\n",
      "“numerical expression has 2 elements: only the first used”Warning message in 2:dim(tab_tmp):\n",
      "“numerical expression has 2 elements: only the first used”Warning message in 2:dim(tab_tmp):\n",
      "“numerical expression has 2 elements: only the first used”Warning message in 2:dim(tab_tmp):\n",
      "“numerical expression has 2 elements: only the first used”Warning message in 2:dim(tab_tmp):\n",
      "“numerical expression has 2 elements: only the first used”Warning message in 2:dim(tab_tmp):\n",
      "“numerical expression has 2 elements: only the first used”Warning message in 2:dim(tab_tmp):\n",
      "“numerical expression has 2 elements: only the first used”Warning message in 2:dim(tab_tmp):\n",
      "“numerical expression has 2 elements: only the first used”Warning message in 2:dim(tab_tmp):\n",
      "“numerical expression has 2 elements: only the first used”Warning message in 2:dim(tab_tmp):\n",
      "“numerical expression has 2 elements: only the first used”Warning message in 2:dim(tab_tmp):\n",
      "“numerical expression has 2 elements: only the first used”Warning message in 2:dim(tab_tmp):\n",
      "“numerical expression has 2 elements: only the first used”Warning message in 2:dim(tab_tmp):\n",
      "“numerical expression has 2 elements: only the first used”Warning message in 2:dim(tab_tmp):\n",
      "“numerical expression has 2 elements: only the first used”Warning message in 2:dim(tab_tmp):\n",
      "“numerical expression has 2 elements: only the first used”Warning message in 2:dim(tab_tmp):\n",
      "“numerical expression has 2 elements: only the first used”Warning message in 2:dim(tab_tmp):\n",
      "“numerical expression has 2 elements: only the first used”Warning message in 2:dim(tab_tmp):\n",
      "“numerical expression has 2 elements: only the first used”Warning message in 2:dim(tab_tmp):\n",
      "“numerical expression has 2 elements: only the first used”Warning message in 2:dim(tab_tmp):\n",
      "“numerical expression has 2 elements: only the first used”Warning message in 2:dim(tab_tmp):\n",
      "“numerical expression has 2 elements: only the first used”Warning message in 2:dim(tab_tmp):\n",
      "“numerical expression has 2 elements: only the first used”Warning message in 2:dim(tab_tmp):\n",
      "“numerical expression has 2 elements: only the first used”Warning message in 2:dim(tab_tmp):\n",
      "“numerical expression has 2 elements: only the first used”Warning message in 2:dim(tab_tmp):\n",
      "“numerical expression has 2 elements: only the first used”Warning message in 2:dim(tab_tmp):\n",
      "“numerical expression has 2 elements: only the first used”Warning message in 2:dim(tab_tmp):\n",
      "“numerical expression has 2 elements: only the first used”Warning message in 2:dim(tab_tmp):\n",
      "“numerical expression has 2 elements: only the first used”Warning message in 2:dim(tab_tmp):\n",
      "“numerical expression has 2 elements: only the first used”Warning message in 2:dim(tab_tmp):\n",
      "“numerical expression has 2 elements: only the first used”Warning message in 2:dim(tab_tmp):\n",
      "“numerical expression has 2 elements: only the first used”Warning message in 2:dim(tab_tmp):\n",
      "“numerical expression has 2 elements: only the first used”Warning message in 2:dim(tab_tmp):\n",
      "“numerical expression has 2 elements: only the first used”Warning message in 2:dim(tab_tmp):\n",
      "“numerical expression has 2 elements: only the first used”Warning message in 2:dim(tab_tmp):\n",
      "“numerical expression has 2 elements: only the first used”Warning message in 2:dim(tab_tmp):\n",
      "“numerical expression has 2 elements: only the first used”Warning message in 2:dim(tab_tmp):\n",
      "“numerical expression has 2 elements: only the first used”Warning message in 2:dim(tab_tmp):\n",
      "“numerical expression has 2 elements: only the first used”Warning message in 2:dim(tab_tmp):\n",
      "“numerical expression has 2 elements: only the first used”Warning message in 2:dim(tab_tmp):\n",
      "“numerical expression has 2 elements: only the first used”Warning message in 2:dim(tab_tmp):\n",
      "“numerical expression has 2 elements: only the first used”Warning message in 2:dim(tab_tmp):\n",
      "“numerical expression has 2 elements: only the first used”Warning message in 2:dim(tab_tmp):\n",
      "“numerical expression has 2 elements: only the first used”Warning message in 2:dim(tab_tmp):\n",
      "“numerical expression has 2 elements: only the first used”Warning message in 2:dim(tab_tmp):\n",
      "“numerical expression has 2 elements: only the first used”Warning message in 2:dim(tab_tmp):\n",
      "“numerical expression has 2 elements: only the first used”Warning message in 2:dim(tab_tmp):\n",
      "“numerical expression has 2 elements: only the first used”Warning message in 2:dim(tab_tmp):\n",
      "“numerical expression has 2 elements: only the first used”Warning message in 2:dim(tab_tmp):\n",
      "“numerical expression has 2 elements: only the first used”Warning message in 2:dim(tab_tmp):\n",
      "“numerical expression has 2 elements: only the first used”Warning message in 2:dim(tab_tmp):\n",
      "“numerical expression has 2 elements: only the first used”Warning message in 2:dim(tab_tmp):\n",
      "“numerical expression has 2 elements: only the first used”Warning message in 2:dim(tab_tmp):\n",
      "“numerical expression has 2 elements: only the first used”Warning message in 2:dim(tab_tmp):\n",
      "“numerical expression has 2 elements: only the first used”Warning message in 2:dim(tab_tmp):\n",
      "“numerical expression has 2 elements: only the first used”Warning message in 2:dim(tab_tmp):\n",
      "“numerical expression has 2 elements: only the first used”Warning message in 2:dim(tab_tmp):\n",
      "“numerical expression has 2 elements: only the first used”Warning message in 2:dim(tab_tmp):\n",
      "“numerical expression has 2 elements: only the first used”Warning message in 2:dim(tab_tmp):\n",
      "“numerical expression has 2 elements: only the first used”Warning message in 2:dim(tab_tmp):\n",
      "“numerical expression has 2 elements: only the first used”Warning message in 2:dim(tab_tmp):\n",
      "“numerical expression has 2 elements: only the first used”Warning message in 2:dim(tab_tmp):\n",
      "“numerical expression has 2 elements: only the first used”Warning message in 2:dim(tab_tmp):\n",
      "“numerical expression has 2 elements: only the first used”Warning message in 2:dim(tab_tmp):\n",
      "“numerical expression has 2 elements: only the first used”Warning message in 2:dim(tab_tmp):\n",
      "“numerical expression has 2 elements: only the first used”Warning message in 2:dim(tab_tmp):\n",
      "“numerical expression has 2 elements: only the first used”Warning message in 2:dim(tab_tmp):\n",
      "“numerical expression has 2 elements: only the first used”Warning message in 2:dim(tab_tmp):\n",
      "“numerical expression has 2 elements: only the first used”Warning message in 2:dim(tab_tmp):\n",
      "“numerical expression has 2 elements: only the first used”Warning message in 2:dim(tab_tmp):\n",
      "“numerical expression has 2 elements: only the first used”Warning message in 2:dim(tab_tmp):\n",
      "“numerical expression has 2 elements: only the first used”Warning message in 2:dim(tab_tmp):\n",
      "“numerical expression has 2 elements: only the first used”Warning message in 2:dim(tab_tmp):\n",
      "“numerical expression has 2 elements: only the first used”Warning message in 2:dim(tab_tmp):\n",
      "“numerical expression has 2 elements: only the first used”Warning message in 2:dim(tab_tmp):\n",
      "“numerical expression has 2 elements: only the first used”Warning message in 2:dim(tab_tmp):\n",
      "“numerical expression has 2 elements: only the first used”Warning message in 2:dim(tab_tmp):\n",
      "“numerical expression has 2 elements: only the first used”Warning message in 2:dim(tab_tmp):\n",
      "“numerical expression has 2 elements: only the first used”Warning message in 2:dim(tab_tmp):\n",
      "“numerical expression has 2 elements: only the first used”Warning message in 2:dim(tab_tmp):\n",
      "“numerical expression has 2 elements: only the first used”Warning message in 2:dim(tab_tmp):\n",
      "“numerical expression has 2 elements: only the first used”Warning message in 2:dim(tab_tmp):\n",
      "“numerical expression has 2 elements: only the first used”Warning message in 2:dim(tab_tmp):\n",
      "“numerical expression has 2 elements: only the first used”Warning message in 2:dim(tab_tmp):\n",
      "“numerical expression has 2 elements: only the first used”Warning message in 2:dim(tab_tmp):\n",
      "“numerical expression has 2 elements: only the first used”Warning message in 2:dim(tab_tmp):\n",
      "“numerical expression has 2 elements: only the first used”Warning message in 2:dim(tab_tmp):\n",
      "“numerical expression has 2 elements: only the first used”Warning message in 2:dim(tab_tmp):\n",
      "“numerical expression has 2 elements: only the first used”Warning message in 2:dim(tab_tmp):\n",
      "“numerical expression has 2 elements: only the first used”Warning message in 2:dim(tab_tmp):\n",
      "“numerical expression has 2 elements: only the first used”Warning message in 2:dim(tab_tmp):\n",
      "“numerical expression has 2 elements: only the first used”Warning message in 2:dim(tab_tmp):\n",
      "“numerical expression has 2 elements: only the first used”Warning message in 2:dim(tab_tmp):\n",
      "“numerical expression has 2 elements: only the first used”Warning message in 2:dim(tab_tmp):\n",
      "“numerical expression has 2 elements: only the first used”Warning message in 2:dim(tab_tmp):\n",
      "“numerical expression has 2 elements: only the first used”Warning message in 2:dim(tab_tmp):\n",
      "“numerical expression has 2 elements: only the first used”Warning message in 2:dim(tab_tmp):\n",
      "“numerical expression has 2 elements: only the first used”Warning message in 2:dim(tab_tmp):\n",
      "“numerical expression has 2 elements: only the first used”Warning message in 2:dim(tab_tmp):\n",
      "“numerical expression has 2 elements: only the first used”Warning message in 2:dim(tab_tmp):\n",
      "“numerical expression has 2 elements: only the first used”Warning message in 2:dim(tab_tmp):\n",
      "“numerical expression has 2 elements: only the first used”Warning message in 2:dim(tab_tmp):\n",
      "“numerical expression has 2 elements: only the first used”Warning message in 2:dim(tab_tmp):\n",
      "“numerical expression has 2 elements: only the first used”Warning message in 2:dim(tab_tmp):\n",
      "“numerical expression has 2 elements: only the first used”Warning message in 2:dim(tab_tmp):\n",
      "“numerical expression has 2 elements: only the first used”Warning message in 2:dim(tab_tmp):\n",
      "“numerical expression has 2 elements: only the first used”Warning message in 2:dim(tab_tmp):\n",
      "“numerical expression has 2 elements: only the first used”Warning message in 2:dim(tab_tmp):\n",
      "“numerical expression has 2 elements: only the first used”Warning message in 2:dim(tab_tmp):\n",
      "“numerical expression has 2 elements: only the first used”Warning message in 2:dim(tab_tmp):\n",
      "“numerical expression has 2 elements: only the first used”Warning message in 2:dim(tab_tmp):\n",
      "“numerical expression has 2 elements: only the first used”Warning message in 2:dim(tab_tmp):\n",
      "“numerical expression has 2 elements: only the first used”Warning message in 2:dim(tab_tmp):\n",
      "“numerical expression has 2 elements: only the first used”Warning message in 2:dim(tab_tmp):\n",
      "“numerical expression has 2 elements: only the first used”Warning message in 2:dim(tab_tmp):\n",
      "“numerical expression has 2 elements: only the first used”Warning message in 2:dim(tab_tmp):\n",
      "“numerical expression has 2 elements: only the first used”Warning message in 2:dim(tab_tmp):\n",
      "“numerical expression has 2 elements: only the first used”Warning message in 2:dim(tab_tmp):\n",
      "“numerical expression has 2 elements: only the first used”Warning message in 2:dim(tab_tmp):\n",
      "“numerical expression has 2 elements: only the first used”Warning message in 2:dim(tab_tmp):\n",
      "“numerical expression has 2 elements: only the first used”Warning message in 2:dim(tab_tmp):\n",
      "“numerical expression has 2 elements: only the first used”Warning message in 2:dim(tab_tmp):\n",
      "“numerical expression has 2 elements: only the first used”Warning message in 2:dim(tab_tmp):\n",
      "“numerical expression has 2 elements: only the first used”Warning message in 2:dim(tab_tmp):\n",
      "“numerical expression has 2 elements: only the first used”Warning message in 2:dim(tab_tmp):\n",
      "“numerical expression has 2 elements: only the first used”Warning message in 2:dim(tab_tmp):\n",
      "“numerical expression has 2 elements: only the first used”Warning message in 2:dim(tab_tmp):\n",
      "“numerical expression has 2 elements: only the first used”Warning message in 2:dim(tab_tmp):\n",
      "“numerical expression has 2 elements: only the first used”Warning message in 2:dim(tab_tmp):\n",
      "“numerical expression has 2 elements: only the first used”Warning message in 2:dim(tab_tmp):\n",
      "“numerical expression has 2 elements: only the first used”Warning message in 2:dim(tab_tmp):\n",
      "“numerical expression has 2 elements: only the first used”Warning message in 2:dim(tab_tmp):\n",
      "“numerical expression has 2 elements: only the first used”Warning message in 2:dim(tab_tmp):\n",
      "“numerical expression has 2 elements: only the first used”Warning message in 2:dim(tab_tmp):\n",
      "“numerical expression has 2 elements: only the first used”Warning message in 2:dim(tab_tmp):\n",
      "“numerical expression has 2 elements: only the first used”Warning message in 2:dim(tab_tmp):\n",
      "“numerical expression has 2 elements: only the first used”Warning message in 2:dim(tab_tmp):\n",
      "“numerical expression has 2 elements: only the first used”Warning message in 2:dim(tab_tmp):\n",
      "“numerical expression has 2 elements: only the first used”Warning message in 2:dim(tab_tmp):\n",
      "“numerical expression has 2 elements: only the first used”Warning message in 2:dim(tab_tmp):\n",
      "“numerical expression has 2 elements: only the first used”Warning message in 2:dim(tab_tmp):\n",
      "“numerical expression has 2 elements: only the first used”Warning message in 2:dim(tab_tmp):\n",
      "“numerical expression has 2 elements: only the first used”Warning message in 2:dim(tab_tmp):\n",
      "“numerical expression has 2 elements: only the first used”Warning message in 2:dim(tab_tmp):\n"
     ]
    },
    {
     "name": "stderr",
     "output_type": "stream",
     "text": [
      "“numerical expression has 2 elements: only the first used”Warning message in 2:dim(tab_tmp):\n",
      "“numerical expression has 2 elements: only the first used”Warning message in 2:dim(tab_tmp):\n",
      "“numerical expression has 2 elements: only the first used”Warning message in 2:dim(tab_tmp):\n",
      "“numerical expression has 2 elements: only the first used”Warning message in 2:dim(tab_tmp):\n",
      "“numerical expression has 2 elements: only the first used”Warning message in 2:dim(tab_tmp):\n",
      "“numerical expression has 2 elements: only the first used”Warning message in 2:dim(tab_tmp):\n",
      "“numerical expression has 2 elements: only the first used”Warning message in 2:dim(tab_tmp):\n",
      "“numerical expression has 2 elements: only the first used”Warning message in 2:dim(tab_tmp):\n",
      "“numerical expression has 2 elements: only the first used”Warning message in 2:dim(tab_tmp):\n",
      "“numerical expression has 2 elements: only the first used”Warning message in 2:dim(tab_tmp):\n",
      "“numerical expression has 2 elements: only the first used”Warning message in 2:dim(tab_tmp):\n",
      "“numerical expression has 2 elements: only the first used”Warning message in 2:dim(tab_tmp):\n",
      "“numerical expression has 2 elements: only the first used”Warning message in 2:dim(tab_tmp):\n",
      "“numerical expression has 2 elements: only the first used”Warning message in 2:dim(tab_tmp):\n",
      "“numerical expression has 2 elements: only the first used”Warning message in 2:dim(tab_tmp):\n",
      "“numerical expression has 2 elements: only the first used”Warning message in 2:dim(tab_tmp):\n",
      "“numerical expression has 2 elements: only the first used”Warning message in 2:dim(tab_tmp):\n",
      "“numerical expression has 2 elements: only the first used”Warning message in 2:dim(tab_tmp):\n",
      "“numerical expression has 2 elements: only the first used”Warning message in 2:dim(tab_tmp):\n",
      "“numerical expression has 2 elements: only the first used”Warning message in 2:dim(tab_tmp):\n",
      "“numerical expression has 2 elements: only the first used”Warning message in 2:dim(tab_tmp):\n",
      "“numerical expression has 2 elements: only the first used”Warning message in 2:dim(tab_tmp):\n",
      "“numerical expression has 2 elements: only the first used”Warning message in 2:dim(tab_tmp):\n",
      "“numerical expression has 2 elements: only the first used”Warning message in 2:dim(tab_tmp):\n",
      "“numerical expression has 2 elements: only the first used”Warning message in 2:dim(tab_tmp):\n",
      "“numerical expression has 2 elements: only the first used”Warning message in 2:dim(tab_tmp):\n",
      "“numerical expression has 2 elements: only the first used”Warning message in 2:dim(tab_tmp):\n",
      "“numerical expression has 2 elements: only the first used”Warning message in 2:dim(tab_tmp):\n",
      "“numerical expression has 2 elements: only the first used”Warning message in 2:dim(tab_tmp):\n",
      "“numerical expression has 2 elements: only the first used”Warning message in 2:dim(tab_tmp):\n",
      "“numerical expression has 2 elements: only the first used”Warning message in 2:dim(tab_tmp):\n",
      "“numerical expression has 2 elements: only the first used”Warning message in 2:dim(tab_tmp):\n",
      "“numerical expression has 2 elements: only the first used”Warning message in 2:dim(tab_tmp):\n",
      "“numerical expression has 2 elements: only the first used”Warning message in 2:dim(tab_tmp):\n",
      "“numerical expression has 2 elements: only the first used”Warning message in 2:dim(tab_tmp):\n",
      "“numerical expression has 2 elements: only the first used”Warning message in 2:dim(tab_tmp):\n",
      "“numerical expression has 2 elements: only the first used”Warning message in 2:dim(tab_tmp):\n",
      "“numerical expression has 2 elements: only the first used”Warning message in 2:dim(tab_tmp):\n",
      "“numerical expression has 2 elements: only the first used”Warning message in 2:dim(tab_tmp):\n",
      "“numerical expression has 2 elements: only the first used”Warning message in 2:dim(tab_tmp):\n",
      "“numerical expression has 2 elements: only the first used”Warning message in 2:dim(tab_tmp):\n",
      "“numerical expression has 2 elements: only the first used”Warning message in 2:dim(tab_tmp):\n",
      "“numerical expression has 2 elements: only the first used”Warning message in 2:dim(tab_tmp):\n",
      "“numerical expression has 2 elements: only the first used”Warning message in 2:dim(tab_tmp):\n",
      "“numerical expression has 2 elements: only the first used”Warning message in 2:dim(tab_tmp):\n",
      "“numerical expression has 2 elements: only the first used”Warning message in 2:dim(tab_tmp):\n",
      "“numerical expression has 2 elements: only the first used”Warning message in 2:dim(tab_tmp):\n",
      "“numerical expression has 2 elements: only the first used”Warning message in 2:dim(tab_tmp):\n",
      "“numerical expression has 2 elements: only the first used”Warning message in 2:dim(tab_tmp):\n",
      "“numerical expression has 2 elements: only the first used”Warning message in 2:dim(tab_tmp):\n",
      "“numerical expression has 2 elements: only the first used”Warning message in 2:dim(tab_tmp):\n",
      "“numerical expression has 2 elements: only the first used”Warning message in 2:dim(tab_tmp):\n",
      "“numerical expression has 2 elements: only the first used”Warning message in 2:dim(tab_tmp):\n",
      "“numerical expression has 2 elements: only the first used”Warning message in 2:dim(tab_tmp):\n",
      "“numerical expression has 2 elements: only the first used”Warning message in 2:dim(tab_tmp):\n",
      "“numerical expression has 2 elements: only the first used”Warning message in 2:dim(tab_tmp):\n",
      "“numerical expression has 2 elements: only the first used”Warning message in 2:dim(tab_tmp):\n",
      "“numerical expression has 2 elements: only the first used”Warning message in 2:dim(tab_tmp):\n",
      "“numerical expression has 2 elements: only the first used”Warning message in 2:dim(tab_tmp):\n",
      "“numerical expression has 2 elements: only the first used”Warning message in 2:dim(tab_tmp):\n",
      "“numerical expression has 2 elements: only the first used”Warning message in 2:dim(tab_tmp):\n",
      "“numerical expression has 2 elements: only the first used”Warning message in 2:dim(tab_tmp):\n",
      "“numerical expression has 2 elements: only the first used”Warning message in 2:dim(tab_tmp):\n",
      "“numerical expression has 2 elements: only the first used”Warning message in 2:dim(tab_tmp):\n",
      "“numerical expression has 2 elements: only the first used”Warning message in 2:dim(tab_tmp):\n",
      "“numerical expression has 2 elements: only the first used”Warning message in 2:dim(tab_tmp):\n",
      "“numerical expression has 2 elements: only the first used”Warning message in 2:dim(tab_tmp):\n",
      "“numerical expression has 2 elements: only the first used”Warning message in 2:dim(tab_tmp):\n",
      "“numerical expression has 2 elements: only the first used”Warning message in 2:dim(tab_tmp):\n",
      "“numerical expression has 2 elements: only the first used”Warning message in 2:dim(tab_tmp):\n",
      "“numerical expression has 2 elements: only the first used”Warning message in 2:dim(tab_tmp):\n",
      "“numerical expression has 2 elements: only the first used”Warning message in 2:dim(tab_tmp):\n",
      "“numerical expression has 2 elements: only the first used”Warning message in 2:dim(tab_tmp):\n",
      "“numerical expression has 2 elements: only the first used”Warning message in 2:dim(tab_tmp):\n",
      "“numerical expression has 2 elements: only the first used”Warning message in 2:dim(tab_tmp):\n",
      "“numerical expression has 2 elements: only the first used”Warning message in 2:dim(tab_tmp):\n",
      "“numerical expression has 2 elements: only the first used”Warning message in 2:dim(tab_tmp):\n",
      "“numerical expression has 2 elements: only the first used”Warning message in 2:dim(tab_tmp):\n",
      "“numerical expression has 2 elements: only the first used”Warning message in 2:dim(tab_tmp):\n",
      "“numerical expression has 2 elements: only the first used”Warning message in 2:dim(tab_tmp):\n",
      "“numerical expression has 2 elements: only the first used”Warning message in 2:dim(tab_tmp):\n",
      "“numerical expression has 2 elements: only the first used”Warning message in 2:dim(tab_tmp):\n",
      "“numerical expression has 2 elements: only the first used”Warning message in 2:dim(tab_tmp):\n",
      "“numerical expression has 2 elements: only the first used”Warning message in 2:dim(tab_tmp):\n",
      "“numerical expression has 2 elements: only the first used”Warning message in 2:dim(tab_tmp):\n",
      "“numerical expression has 2 elements: only the first used”Warning message in 2:dim(tab_tmp):\n",
      "“numerical expression has 2 elements: only the first used”Warning message in 2:dim(tab_tmp):\n",
      "“numerical expression has 2 elements: only the first used”Warning message in 2:dim(tab_tmp):\n",
      "“numerical expression has 2 elements: only the first used”Warning message in 2:dim(tab_tmp):\n",
      "“numerical expression has 2 elements: only the first used”Warning message in 2:dim(tab_tmp):\n",
      "“numerical expression has 2 elements: only the first used”Warning message in 2:dim(tab_tmp):\n",
      "“numerical expression has 2 elements: only the first used”Warning message in 2:dim(tab_tmp):\n",
      "“numerical expression has 2 elements: only the first used”Warning message in 2:dim(tab_tmp):\n",
      "“numerical expression has 2 elements: only the first used”Warning message in 2:dim(tab_tmp):\n",
      "“numerical expression has 2 elements: only the first used”Warning message in 2:dim(tab_tmp):\n",
      "“numerical expression has 2 elements: only the first used”Warning message in 2:dim(tab_tmp):\n",
      "“numerical expression has 2 elements: only the first used”Warning message in 2:dim(tab_tmp):\n",
      "“numerical expression has 2 elements: only the first used”Warning message in 2:dim(tab_tmp):\n",
      "“numerical expression has 2 elements: only the first used”Warning message in 2:dim(tab_tmp):\n",
      "“numerical expression has 2 elements: only the first used”Warning message in 2:dim(tab_tmp):\n",
      "“numerical expression has 2 elements: only the first used”Warning message in 2:dim(tab_tmp):\n",
      "“numerical expression has 2 elements: only the first used”Warning message in 2:dim(tab_tmp):\n",
      "“numerical expression has 2 elements: only the first used”Warning message in 2:dim(tab_tmp):\n",
      "“numerical expression has 2 elements: only the first used”Warning message in 2:dim(tab_tmp):\n",
      "“numerical expression has 2 elements: only the first used”Warning message in 2:dim(tab_tmp):\n",
      "“numerical expression has 2 elements: only the first used”Warning message in 2:dim(tab_tmp):\n",
      "“numerical expression has 2 elements: only the first used”Warning message in 2:dim(tab_tmp):\n",
      "“numerical expression has 2 elements: only the first used”Warning message in 2:dim(tab_tmp):\n",
      "“numerical expression has 2 elements: only the first used”Warning message in 2:dim(tab_tmp):\n",
      "“numerical expression has 2 elements: only the first used”Warning message in 2:dim(tab_tmp):\n",
      "“numerical expression has 2 elements: only the first used”Warning message in 2:dim(tab_tmp):\n",
      "“numerical expression has 2 elements: only the first used”Warning message in 2:dim(tab_tmp):\n",
      "“numerical expression has 2 elements: only the first used”Warning message in 2:dim(tab_tmp):\n",
      "“numerical expression has 2 elements: only the first used”Warning message in 2:dim(tab_tmp):\n",
      "“numerical expression has 2 elements: only the first used”Warning message in 2:dim(tab_tmp):\n",
      "“numerical expression has 2 elements: only the first used”Warning message in 2:dim(tab_tmp):\n",
      "“numerical expression has 2 elements: only the first used”Warning message in 2:dim(tab_tmp):\n",
      "“numerical expression has 2 elements: only the first used”Warning message in 2:dim(tab_tmp):\n",
      "“numerical expression has 2 elements: only the first used”Warning message in 2:dim(tab_tmp):\n",
      "“numerical expression has 2 elements: only the first used”Warning message in 2:dim(tab_tmp):\n",
      "“numerical expression has 2 elements: only the first used”Warning message in 2:dim(tab_tmp):\n",
      "“numerical expression has 2 elements: only the first used”Warning message in 2:dim(tab_tmp):\n",
      "“numerical expression has 2 elements: only the first used”Warning message in 2:dim(tab_tmp):\n",
      "“numerical expression has 2 elements: only the first used”Warning message in 2:dim(tab_tmp):\n",
      "“numerical expression has 2 elements: only the first used”Warning message in 2:dim(tab_tmp):\n",
      "“numerical expression has 2 elements: only the first used”Warning message in 2:dim(tab_tmp):\n",
      "“numerical expression has 2 elements: only the first used”Warning message in 2:dim(tab_tmp):\n",
      "“numerical expression has 2 elements: only the first used”Warning message in 2:dim(tab_tmp):\n",
      "“numerical expression has 2 elements: only the first used”Warning message in 2:dim(tab_tmp):\n",
      "“numerical expression has 2 elements: only the first used”Warning message in 2:dim(tab_tmp):\n",
      "“numerical expression has 2 elements: only the first used”Warning message in 2:dim(tab_tmp):\n",
      "“numerical expression has 2 elements: only the first used”Warning message in 2:dim(tab_tmp):\n",
      "“numerical expression has 2 elements: only the first used”Warning message in 2:dim(tab_tmp):\n",
      "“numerical expression has 2 elements: only the first used”Warning message in 2:dim(tab_tmp):\n",
      "“numerical expression has 2 elements: only the first used”Warning message in 2:dim(tab_tmp):\n",
      "“numerical expression has 2 elements: only the first used”Warning message in 2:dim(tab_tmp):\n",
      "“numerical expression has 2 elements: only the first used”Warning message in 2:dim(tab_tmp):\n",
      "“numerical expression has 2 elements: only the first used”Warning message in 2:dim(tab_tmp):\n",
      "“numerical expression has 2 elements: only the first used”Warning message in 2:dim(tab_tmp):\n",
      "“numerical expression has 2 elements: only the first used”Warning message in 2:dim(tab_tmp):\n",
      "“numerical expression has 2 elements: only the first used”Warning message in 2:dim(tab_tmp):\n",
      "“numerical expression has 2 elements: only the first used”Warning message in 2:dim(tab_tmp):\n",
      "“numerical expression has 2 elements: only the first used”Warning message in 2:dim(tab_tmp):\n",
      "“numerical expression has 2 elements: only the first used”Warning message in 2:dim(tab_tmp):\n",
      "“numerical expression has 2 elements: only the first used”Warning message in 2:dim(tab_tmp):\n",
      "“numerical expression has 2 elements: only the first used”Warning message in 2:dim(tab_tmp):\n",
      "“numerical expression has 2 elements: only the first used”Warning message in 2:dim(tab_tmp):\n",
      "“numerical expression has 2 elements: only the first used”Warning message in 2:dim(tab_tmp):\n",
      "“numerical expression has 2 elements: only the first used”Warning message in 2:dim(tab_tmp):\n",
      "“numerical expression has 2 elements: only the first used”Warning message in 2:dim(tab_tmp):\n",
      "“numerical expression has 2 elements: only the first used”Warning message in 2:dim(tab_tmp):\n",
      "“numerical expression has 2 elements: only the first used”Warning message in 2:dim(tab_tmp):\n",
      "“numerical expression has 2 elements: only the first used”Warning message in 2:dim(tab_tmp):\n",
      "“numerical expression has 2 elements: only the first used”Warning message in 2:dim(tab_tmp):\n",
      "“numerical expression has 2 elements: only the first used”Warning message in 2:dim(tab_tmp):\n",
      "“numerical expression has 2 elements: only the first used”Warning message in 2:dim(tab_tmp):\n",
      "“numerical expression has 2 elements: only the first used”Warning message in 2:dim(tab_tmp):\n",
      "“numerical expression has 2 elements: only the first used”Warning message in 2:dim(tab_tmp):\n",
      "“numerical expression has 2 elements: only the first used”Warning message in 2:dim(tab_tmp):\n",
      "“numerical expression has 2 elements: only the first used”Warning message in 2:dim(tab_tmp):\n",
      "“numerical expression has 2 elements: only the first used”Warning message in 2:dim(tab_tmp):\n",
      "“numerical expression has 2 elements: only the first used”Warning message in 2:dim(tab_tmp):\n",
      "“numerical expression has 2 elements: only the first used”Warning message in 2:dim(tab_tmp):\n",
      "“numerical expression has 2 elements: only the first used”Warning message in 2:dim(tab_tmp):\n",
      "“numerical expression has 2 elements: only the first used”Warning message in 2:dim(tab_tmp):\n",
      "“numerical expression has 2 elements: only the first used”Warning message in 2:dim(tab_tmp):\n",
      "“numerical expression has 2 elements: only the first used”Warning message in 2:dim(tab_tmp):\n",
      "“numerical expression has 2 elements: only the first used”Warning message in 2:dim(tab_tmp):\n",
      "“numerical expression has 2 elements: only the first used”Warning message in 2:dim(tab_tmp):\n",
      "“numerical expression has 2 elements: only the first used”Warning message in 2:dim(tab_tmp):\n",
      "“numerical expression has 2 elements: only the first used”Warning message in 2:dim(tab_tmp):\n",
      "“numerical expression has 2 elements: only the first used”Warning message in 2:dim(tab_tmp):\n",
      "“numerical expression has 2 elements: only the first used”Warning message in 2:dim(tab_tmp):\n",
      "“numerical expression has 2 elements: only the first used”Warning message in 2:dim(tab_tmp):\n",
      "“numerical expression has 2 elements: only the first used”Warning message in 2:dim(tab_tmp):\n",
      "“numerical expression has 2 elements: only the first used”Warning message in 2:dim(tab_tmp):\n"
     ]
    },
    {
     "name": "stderr",
     "output_type": "stream",
     "text": [
      "“numerical expression has 2 elements: only the first used”Warning message in 2:dim(tab_tmp):\n",
      "“numerical expression has 2 elements: only the first used”Warning message in 2:dim(tab_tmp):\n",
      "“numerical expression has 2 elements: only the first used”Warning message in 2:dim(tab_tmp):\n",
      "“numerical expression has 2 elements: only the first used”Warning message in 2:dim(tab_tmp):\n",
      "“numerical expression has 2 elements: only the first used”Warning message in 2:dim(tab_tmp):\n",
      "“numerical expression has 2 elements: only the first used”Warning message in 2:dim(tab_tmp):\n",
      "“numerical expression has 2 elements: only the first used”Warning message in 2:dim(tab_tmp):\n",
      "“numerical expression has 2 elements: only the first used”Warning message in 2:dim(tab_tmp):\n",
      "“numerical expression has 2 elements: only the first used”Warning message in 2:dim(tab_tmp):\n",
      "“numerical expression has 2 elements: only the first used”Warning message in 2:dim(tab_tmp):\n",
      "“numerical expression has 2 elements: only the first used”Warning message in 2:dim(tab_tmp):\n",
      "“numerical expression has 2 elements: only the first used”Warning message in 2:dim(tab_tmp):\n",
      "“numerical expression has 2 elements: only the first used”Warning message in 2:dim(tab_tmp):\n",
      "“numerical expression has 2 elements: only the first used”Warning message in 2:dim(tab_tmp):\n",
      "“numerical expression has 2 elements: only the first used”Warning message in 2:dim(tab_tmp):\n",
      "“numerical expression has 2 elements: only the first used”Warning message in 2:dim(tab_tmp):\n",
      "“numerical expression has 2 elements: only the first used”Warning message in 2:dim(tab_tmp):\n",
      "“numerical expression has 2 elements: only the first used”Warning message in 2:dim(tab_tmp):\n",
      "“numerical expression has 2 elements: only the first used”Warning message in 2:dim(tab_tmp):\n",
      "“numerical expression has 2 elements: only the first used”Warning message in 2:dim(tab_tmp):\n",
      "“numerical expression has 2 elements: only the first used”Warning message in 2:dim(tab_tmp):\n",
      "“numerical expression has 2 elements: only the first used”Warning message in 2:dim(tab_tmp):\n",
      "“numerical expression has 2 elements: only the first used”Warning message in 2:dim(tab_tmp):\n",
      "“numerical expression has 2 elements: only the first used”Warning message in 2:dim(tab_tmp):\n",
      "“numerical expression has 2 elements: only the first used”Warning message in 2:dim(tab_tmp):\n",
      "“numerical expression has 2 elements: only the first used”Warning message in 2:dim(tab_tmp):\n",
      "“numerical expression has 2 elements: only the first used”Warning message in 2:dim(tab_tmp):\n",
      "“numerical expression has 2 elements: only the first used”Warning message in 2:dim(tab_tmp):\n",
      "“numerical expression has 2 elements: only the first used”Warning message in 2:dim(tab_tmp):\n",
      "“numerical expression has 2 elements: only the first used”Warning message in 2:dim(tab_tmp):\n",
      "“numerical expression has 2 elements: only the first used”Warning message in 2:dim(tab_tmp):\n",
      "“numerical expression has 2 elements: only the first used”Warning message in 2:dim(tab_tmp):\n",
      "“numerical expression has 2 elements: only the first used”Warning message in 2:dim(tab_tmp):\n",
      "“numerical expression has 2 elements: only the first used”Warning message in 2:dim(tab_tmp):\n",
      "“numerical expression has 2 elements: only the first used”Warning message in 2:dim(tab_tmp):\n",
      "“numerical expression has 2 elements: only the first used”Warning message in 2:dim(tab_tmp):\n",
      "“numerical expression has 2 elements: only the first used”Warning message in 2:dim(tab_tmp):\n",
      "“numerical expression has 2 elements: only the first used”Warning message in 2:dim(tab_tmp):\n",
      "“numerical expression has 2 elements: only the first used”Warning message in 2:dim(tab_tmp):\n",
      "“numerical expression has 2 elements: only the first used”Warning message in 2:dim(tab_tmp):\n",
      "“numerical expression has 2 elements: only the first used”Warning message in 2:dim(tab_tmp):\n",
      "“numerical expression has 2 elements: only the first used”Warning message in 2:dim(tab_tmp):\n",
      "“numerical expression has 2 elements: only the first used”Warning message in 2:dim(tab_tmp):\n",
      "“numerical expression has 2 elements: only the first used”Warning message in 2:dim(tab_tmp):\n",
      "“numerical expression has 2 elements: only the first used”Warning message in 2:dim(tab_tmp):\n",
      "“numerical expression has 2 elements: only the first used”Warning message in 2:dim(tab_tmp):\n",
      "“numerical expression has 2 elements: only the first used”Warning message in 2:dim(tab_tmp):\n",
      "“numerical expression has 2 elements: only the first used”Warning message in 2:dim(tab_tmp):\n",
      "“numerical expression has 2 elements: only the first used”Warning message in 2:dim(tab_tmp):\n",
      "“numerical expression has 2 elements: only the first used”Warning message in 2:dim(tab_tmp):\n",
      "“numerical expression has 2 elements: only the first used”Warning message in 2:dim(tab_tmp):\n",
      "“numerical expression has 2 elements: only the first used”Warning message in eval(expr, envir, enclos):\n",
      "“NAs introduced by coercion”Warning message in 2:dim(tab_tmp):\n",
      "“numerical expression has 2 elements: only the first used”Warning message in 2:dim(tab_tmp):\n",
      "“numerical expression has 2 elements: only the first used”Warning message in 2:dim(tab_tmp):\n",
      "“numerical expression has 2 elements: only the first used”Warning message in 2:dim(tab_tmp):\n",
      "“numerical expression has 2 elements: only the first used”Warning message in 2:dim(tab_tmp):\n",
      "“numerical expression has 2 elements: only the first used”Warning message in 2:dim(tab_tmp):\n",
      "“numerical expression has 2 elements: only the first used”Warning message in eval(expr, envir, enclos):\n",
      "“NAs introduced by coercion”Warning message in 2:dim(tab_tmp):\n",
      "“numerical expression has 2 elements: only the first used”Warning message in 2:dim(tab_tmp):\n",
      "“numerical expression has 2 elements: only the first used”Warning message in 2:dim(tab_tmp):\n",
      "“numerical expression has 2 elements: only the first used”Warning message in 2:dim(tab_tmp):\n",
      "“numerical expression has 2 elements: only the first used”Warning message in 2:dim(tab_tmp):\n",
      "“numerical expression has 2 elements: only the first used”Warning message in 2:dim(tab_tmp):\n",
      "“numerical expression has 2 elements: only the first used”Warning message in 2:dim(tab_tmp):\n",
      "“numerical expression has 2 elements: only the first used”Warning message in 2:dim(tab_tmp):\n",
      "“numerical expression has 2 elements: only the first used”Warning message in 2:dim(tab_tmp):\n",
      "“numerical expression has 2 elements: only the first used”Warning message in 2:dim(tab_tmp):\n",
      "“numerical expression has 2 elements: only the first used”Warning message in 2:dim(tab_tmp):\n",
      "“numerical expression has 2 elements: only the first used”Warning message in 2:dim(tab_tmp):\n",
      "“numerical expression has 2 elements: only the first used”Warning message in 2:dim(tab_tmp):\n",
      "“numerical expression has 2 elements: only the first used”Warning message in 2:dim(tab_tmp):\n",
      "“numerical expression has 2 elements: only the first used”Warning message in 2:dim(tab_tmp):\n",
      "“numerical expression has 2 elements: only the first used”Warning message in 2:dim(tab_tmp):\n",
      "“numerical expression has 2 elements: only the first used”Warning message in 2:dim(tab_tmp):\n",
      "“numerical expression has 2 elements: only the first used”Warning message in 2:dim(tab_tmp):\n",
      "“numerical expression has 2 elements: only the first used”Warning message in 2:dim(tab_tmp):\n",
      "“numerical expression has 2 elements: only the first used”Warning message in 2:dim(tab_tmp):\n",
      "“numerical expression has 2 elements: only the first used”Warning message in 2:dim(tab_tmp):\n",
      "“numerical expression has 2 elements: only the first used”Warning message in 2:dim(tab_tmp):\n",
      "“numerical expression has 2 elements: only the first used”Warning message in 2:dim(tab_tmp):\n",
      "“numerical expression has 2 elements: only the first used”Warning message in 2:dim(tab_tmp):\n",
      "“numerical expression has 2 elements: only the first used”Warning message in 2:dim(tab_tmp):\n",
      "“numerical expression has 2 elements: only the first used”Warning message in 2:dim(tab_tmp):\n",
      "“numerical expression has 2 elements: only the first used”Warning message in 2:dim(tab_tmp):\n",
      "“numerical expression has 2 elements: only the first used”Warning message in 2:dim(tab_tmp):\n",
      "“numerical expression has 2 elements: only the first used”Warning message in 2:dim(tab_tmp):\n",
      "“numerical expression has 2 elements: only the first used”Warning message in 2:dim(tab_tmp):\n",
      "“numerical expression has 2 elements: only the first used”Warning message in 2:dim(tab_tmp):\n",
      "“numerical expression has 2 elements: only the first used”Warning message in 2:dim(tab_tmp):\n",
      "“numerical expression has 2 elements: only the first used”Warning message in 2:dim(tab_tmp):\n",
      "“numerical expression has 2 elements: only the first used”Warning message in 2:dim(tab_tmp):\n",
      "“numerical expression has 2 elements: only the first used”Warning message in 2:dim(tab_tmp):\n",
      "“numerical expression has 2 elements: only the first used”Warning message in 2:dim(tab_tmp):\n",
      "“numerical expression has 2 elements: only the first used”Warning message in 2:dim(tab_tmp):\n",
      "“numerical expression has 2 elements: only the first used”Warning message in 2:dim(tab_tmp):\n",
      "“numerical expression has 2 elements: only the first used”Warning message in 2:dim(tab_tmp):\n",
      "“numerical expression has 2 elements: only the first used”Warning message in 2:dim(tab_tmp):\n",
      "“numerical expression has 2 elements: only the first used”Warning message in 2:dim(tab_tmp):\n",
      "“numerical expression has 2 elements: only the first used”Warning message in 2:dim(tab_tmp):\n",
      "“numerical expression has 2 elements: only the first used”Warning message in 2:dim(tab_tmp):\n",
      "“numerical expression has 2 elements: only the first used”Warning message in 2:dim(tab_tmp):\n",
      "“numerical expression has 2 elements: only the first used”Warning message in 2:dim(tab_tmp):\n",
      "“numerical expression has 2 elements: only the first used”Warning message in 2:dim(tab_tmp):\n",
      "“numerical expression has 2 elements: only the first used”Warning message in 2:dim(tab_tmp):\n",
      "“numerical expression has 2 elements: only the first used”Warning message in 2:dim(tab_tmp):\n",
      "“numerical expression has 2 elements: only the first used”Warning message in 2:dim(tab_tmp):\n",
      "“numerical expression has 2 elements: only the first used”Warning message in 2:dim(tab_tmp):\n",
      "“numerical expression has 2 elements: only the first used”Warning message in 2:dim(tab_tmp):\n",
      "“numerical expression has 2 elements: only the first used”Warning message in 2:dim(tab_tmp):\n",
      "“numerical expression has 2 elements: only the first used”Warning message in 2:dim(tab_tmp):\n",
      "“numerical expression has 2 elements: only the first used”Warning message in 2:dim(tab_tmp):\n",
      "“numerical expression has 2 elements: only the first used”Warning message in 2:dim(tab_tmp):\n",
      "“numerical expression has 2 elements: only the first used”Warning message in 2:dim(tab_tmp):\n",
      "“numerical expression has 2 elements: only the first used”Warning message in 2:dim(tab_tmp):\n",
      "“numerical expression has 2 elements: only the first used”Warning message in 2:dim(tab_tmp):\n",
      "“numerical expression has 2 elements: only the first used”Warning message in 2:dim(tab_tmp):\n",
      "“numerical expression has 2 elements: only the first used”Warning message in 2:dim(tab_tmp):\n",
      "“numerical expression has 2 elements: only the first used”Warning message in 2:dim(tab_tmp):\n",
      "“numerical expression has 2 elements: only the first used”Warning message in 2:dim(tab_tmp):\n",
      "“numerical expression has 2 elements: only the first used”Warning message in 2:dim(tab_tmp):\n",
      "“numerical expression has 2 elements: only the first used”Warning message in 2:dim(tab_tmp):\n",
      "“numerical expression has 2 elements: only the first used”Warning message in 2:dim(tab_tmp):\n",
      "“numerical expression has 2 elements: only the first used”Warning message in 2:dim(tab_tmp):\n",
      "“numerical expression has 2 elements: only the first used”Warning message in 2:dim(tab_tmp):\n",
      "“numerical expression has 2 elements: only the first used”Warning message in 2:dim(tab_tmp):\n",
      "“numerical expression has 2 elements: only the first used”Warning message in 2:dim(tab_tmp):\n",
      "“numerical expression has 2 elements: only the first used”Warning message in 2:dim(tab_tmp):\n",
      "“numerical expression has 2 elements: only the first used”Warning message in 2:dim(tab_tmp):\n",
      "“numerical expression has 2 elements: only the first used”Warning message in 2:dim(tab_tmp):\n",
      "“numerical expression has 2 elements: only the first used”Warning message in 2:dim(tab_tmp):\n",
      "“numerical expression has 2 elements: only the first used”Warning message in 2:dim(tab_tmp):\n",
      "“numerical expression has 2 elements: only the first used”Warning message in 2:dim(tab_tmp):\n",
      "“numerical expression has 2 elements: only the first used”Warning message in 2:dim(tab_tmp):\n",
      "“numerical expression has 2 elements: only the first used”Warning message in 2:dim(tab_tmp):\n",
      "“numerical expression has 2 elements: only the first used”Warning message in 2:dim(tab_tmp):\n",
      "“numerical expression has 2 elements: only the first used”Warning message in 2:dim(tab_tmp):\n",
      "“numerical expression has 2 elements: only the first used”Warning message in 2:dim(tab_tmp):\n",
      "“numerical expression has 2 elements: only the first used”Warning message in 2:dim(tab_tmp):\n",
      "“numerical expression has 2 elements: only the first used”Warning message in 2:dim(tab_tmp):\n",
      "“numerical expression has 2 elements: only the first used”Warning message in 2:dim(tab_tmp):\n",
      "“numerical expression has 2 elements: only the first used”Warning message in 2:dim(tab_tmp):\n",
      "“numerical expression has 2 elements: only the first used”Warning message in 2:dim(tab_tmp):\n",
      "“numerical expression has 2 elements: only the first used”Warning message in 2:dim(tab_tmp):\n",
      "“numerical expression has 2 elements: only the first used”Warning message in 2:dim(tab_tmp):\n",
      "“numerical expression has 2 elements: only the first used”Warning message in 2:dim(tab_tmp):\n",
      "“numerical expression has 2 elements: only the first used”Warning message in 2:dim(tab_tmp):\n",
      "“numerical expression has 2 elements: only the first used”Warning message in 2:dim(tab_tmp):\n",
      "“numerical expression has 2 elements: only the first used”Warning message in 2:dim(tab_tmp):\n",
      "“numerical expression has 2 elements: only the first used”Warning message in 2:dim(tab_tmp):\n",
      "“numerical expression has 2 elements: only the first used”Warning message in 2:dim(tab_tmp):\n",
      "“numerical expression has 2 elements: only the first used”Warning message in 2:dim(tab_tmp):\n",
      "“numerical expression has 2 elements: only the first used”Warning message in 2:dim(tab_tmp):\n",
      "“numerical expression has 2 elements: only the first used”Warning message in 2:dim(tab_tmp):\n",
      "“numerical expression has 2 elements: only the first used”Warning message in 2:dim(tab_tmp):\n",
      "“numerical expression has 2 elements: only the first used”Warning message in 2:dim(tab_tmp):\n",
      "“numerical expression has 2 elements: only the first used”Warning message in 2:dim(tab_tmp):\n",
      "“numerical expression has 2 elements: only the first used”Warning message in 2:dim(tab_tmp):\n",
      "“numerical expression has 2 elements: only the first used”Warning message in 2:dim(tab_tmp):\n",
      "“numerical expression has 2 elements: only the first used”Warning message in 2:dim(tab_tmp):\n",
      "“numerical expression has 2 elements: only the first used”Warning message in 2:dim(tab_tmp):\n",
      "“numerical expression has 2 elements: only the first used”Warning message in 2:dim(tab_tmp):\n",
      "“numerical expression has 2 elements: only the first used”Warning message in 2:dim(tab_tmp):\n",
      "“numerical expression has 2 elements: only the first used”Warning message in 2:dim(tab_tmp):\n",
      "“numerical expression has 2 elements: only the first used”Warning message in 2:dim(tab_tmp):\n",
      "“numerical expression has 2 elements: only the first used”Warning message in 2:dim(tab_tmp):\n",
      "“numerical expression has 2 elements: only the first used”Warning message in 2:dim(tab_tmp):\n",
      "“numerical expression has 2 elements: only the first used”Warning message in 2:dim(tab_tmp):\n",
      "“numerical expression has 2 elements: only the first used”Warning message in 2:dim(tab_tmp):\n",
      "“numerical expression has 2 elements: only the first used”Warning message in 2:dim(tab_tmp):\n",
      "“numerical expression has 2 elements: only the first used”Warning message in 2:dim(tab_tmp):\n",
      "“numerical expression has 2 elements: only the first used”Warning message in 2:dim(tab_tmp):\n",
      "“numerical expression has 2 elements: only the first used”Warning message in 2:dim(tab_tmp):\n",
      "“numerical expression has 2 elements: only the first used”Warning message in 2:dim(tab_tmp):\n",
      "“numerical expression has 2 elements: only the first used”Warning message in 2:dim(tab_tmp):\n"
     ]
    },
    {
     "name": "stderr",
     "output_type": "stream",
     "text": [
      "“numerical expression has 2 elements: only the first used”Warning message in 2:dim(tab_tmp):\n",
      "“numerical expression has 2 elements: only the first used”Warning message in 2:dim(tab_tmp):\n",
      "“numerical expression has 2 elements: only the first used”Warning message in 2:dim(tab_tmp):\n",
      "“numerical expression has 2 elements: only the first used”Warning message in 2:dim(tab_tmp):\n",
      "“numerical expression has 2 elements: only the first used”Warning message in 2:dim(tab_tmp):\n",
      "“numerical expression has 2 elements: only the first used”Warning message in 2:dim(tab_tmp):\n",
      "“numerical expression has 2 elements: only the first used”Warning message in 2:dim(tab_tmp):\n",
      "“numerical expression has 2 elements: only the first used”Warning message in 2:dim(tab_tmp):\n",
      "“numerical expression has 2 elements: only the first used”Warning message in 2:dim(tab_tmp):\n",
      "“numerical expression has 2 elements: only the first used”Warning message in 2:dim(tab_tmp):\n",
      "“numerical expression has 2 elements: only the first used”Warning message in 2:dim(tab_tmp):\n",
      "“numerical expression has 2 elements: only the first used”Warning message in 2:dim(tab_tmp):\n",
      "“numerical expression has 2 elements: only the first used”Warning message in 2:dim(tab_tmp):\n",
      "“numerical expression has 2 elements: only the first used”Warning message in 2:dim(tab_tmp):\n",
      "“numerical expression has 2 elements: only the first used”Warning message in 2:dim(tab_tmp):\n",
      "“numerical expression has 2 elements: only the first used”Warning message in 2:dim(tab_tmp):\n",
      "“numerical expression has 2 elements: only the first used”Warning message in 2:dim(tab_tmp):\n",
      "“numerical expression has 2 elements: only the first used”Warning message in 2:dim(tab_tmp):\n",
      "“numerical expression has 2 elements: only the first used”Warning message in 2:dim(tab_tmp):\n",
      "“numerical expression has 2 elements: only the first used”Warning message in 2:dim(tab_tmp):\n",
      "“numerical expression has 2 elements: only the first used”Warning message in 2:dim(tab_tmp):\n",
      "“numerical expression has 2 elements: only the first used”Warning message in 2:dim(tab_tmp):\n",
      "“numerical expression has 2 elements: only the first used”Warning message in 2:dim(tab_tmp):\n",
      "“numerical expression has 2 elements: only the first used”Warning message in 2:dim(tab_tmp):\n",
      "“numerical expression has 2 elements: only the first used”Warning message in 2:dim(tab_tmp):\n",
      "“numerical expression has 2 elements: only the first used”Warning message in 2:dim(tab_tmp):\n",
      "“numerical expression has 2 elements: only the first used”Warning message in 2:dim(tab_tmp):\n",
      "“numerical expression has 2 elements: only the first used”Warning message in 2:dim(tab_tmp):\n",
      "“numerical expression has 2 elements: only the first used”Warning message in 2:dim(tab_tmp):\n",
      "“numerical expression has 2 elements: only the first used”Warning message in 2:dim(tab_tmp):\n",
      "“numerical expression has 2 elements: only the first used”Warning message in 2:dim(tab_tmp):\n",
      "“numerical expression has 2 elements: only the first used”Warning message in 2:dim(tab_tmp):\n",
      "“numerical expression has 2 elements: only the first used”Warning message in 2:dim(tab_tmp):\n",
      "“numerical expression has 2 elements: only the first used”Warning message in 2:dim(tab_tmp):\n",
      "“numerical expression has 2 elements: only the first used”Warning message in 2:dim(tab_tmp):\n",
      "“numerical expression has 2 elements: only the first used”Warning message in 2:dim(tab_tmp):\n",
      "“numerical expression has 2 elements: only the first used”Warning message in 2:dim(tab_tmp):\n",
      "“numerical expression has 2 elements: only the first used”Warning message in 2:dim(tab_tmp):\n",
      "“numerical expression has 2 elements: only the first used”Warning message in 2:dim(tab_tmp):\n",
      "“numerical expression has 2 elements: only the first used”Warning message in 2:dim(tab_tmp):\n",
      "“numerical expression has 2 elements: only the first used”Warning message in 2:dim(tab_tmp):\n",
      "“numerical expression has 2 elements: only the first used”Warning message in 2:dim(tab_tmp):\n",
      "“numerical expression has 2 elements: only the first used”Warning message in 2:dim(tab_tmp):\n",
      "“numerical expression has 2 elements: only the first used”Warning message in 2:dim(tab_tmp):\n",
      "“numerical expression has 2 elements: only the first used”Warning message in 2:dim(tab_tmp):\n",
      "“numerical expression has 2 elements: only the first used”Warning message in 2:dim(tab_tmp):\n",
      "“numerical expression has 2 elements: only the first used”Warning message in 2:dim(tab_tmp):\n",
      "“numerical expression has 2 elements: only the first used”Warning message in 2:dim(tab_tmp):\n",
      "“numerical expression has 2 elements: only the first used”Warning message in 2:dim(tab_tmp):\n",
      "“numerical expression has 2 elements: only the first used”Warning message in 2:dim(tab_tmp):\n",
      "“numerical expression has 2 elements: only the first used”Warning message in 2:dim(tab_tmp):\n",
      "“numerical expression has 2 elements: only the first used”Warning message in 2:dim(tab_tmp):\n",
      "“numerical expression has 2 elements: only the first used”Warning message in 2:dim(tab_tmp):\n",
      "“numerical expression has 2 elements: only the first used”Warning message in 2:dim(tab_tmp):\n",
      "“numerical expression has 2 elements: only the first used”Warning message in 2:dim(tab_tmp):\n",
      "“numerical expression has 2 elements: only the first used”Warning message in 2:dim(tab_tmp):\n",
      "“numerical expression has 2 elements: only the first used”Warning message in 2:dim(tab_tmp):\n",
      "“numerical expression has 2 elements: only the first used”Warning message in 2:dim(tab_tmp):\n",
      "“numerical expression has 2 elements: only the first used”Warning message in 2:dim(tab_tmp):\n",
      "“numerical expression has 2 elements: only the first used”Warning message in 2:dim(tab_tmp):\n",
      "“numerical expression has 2 elements: only the first used”Warning message in 2:dim(tab_tmp):\n",
      "“numerical expression has 2 elements: only the first used”Warning message in 2:dim(tab_tmp):\n",
      "“numerical expression has 2 elements: only the first used”Warning message in 2:dim(tab_tmp):\n",
      "“numerical expression has 2 elements: only the first used”Warning message in 2:dim(tab_tmp):\n",
      "“numerical expression has 2 elements: only the first used”Warning message in 2:dim(tab_tmp):\n",
      "“numerical expression has 2 elements: only the first used”Warning message in 2:dim(tab_tmp):\n",
      "“numerical expression has 2 elements: only the first used”Warning message in 2:dim(tab_tmp):\n",
      "“numerical expression has 2 elements: only the first used”Warning message in 2:dim(tab_tmp):\n",
      "“numerical expression has 2 elements: only the first used”Warning message in 2:dim(tab_tmp):\n",
      "“numerical expression has 2 elements: only the first used”Warning message in 2:dim(tab_tmp):\n",
      "“numerical expression has 2 elements: only the first used”Warning message in 2:dim(tab_tmp):\n",
      "“numerical expression has 2 elements: only the first used”Warning message in 2:dim(tab_tmp):\n",
      "“numerical expression has 2 elements: only the first used”Warning message in 2:dim(tab_tmp):\n",
      "“numerical expression has 2 elements: only the first used”Warning message in 2:dim(tab_tmp):\n",
      "“numerical expression has 2 elements: only the first used”Warning message in 2:dim(tab_tmp):\n",
      "“numerical expression has 2 elements: only the first used”Warning message in 2:dim(tab_tmp):\n",
      "“numerical expression has 2 elements: only the first used”Warning message in 2:dim(tab_tmp):\n",
      "“numerical expression has 2 elements: only the first used”Warning message in 2:dim(tab_tmp):\n",
      "“numerical expression has 2 elements: only the first used”Warning message in 2:dim(tab_tmp):\n",
      "“numerical expression has 2 elements: only the first used”Warning message in 2:dim(tab_tmp):\n",
      "“numerical expression has 2 elements: only the first used”Warning message in 2:dim(tab_tmp):\n",
      "“numerical expression has 2 elements: only the first used”Warning message in 2:dim(tab_tmp):\n",
      "“numerical expression has 2 elements: only the first used”Warning message in 2:dim(tab_tmp):\n",
      "“numerical expression has 2 elements: only the first used”Warning message in 2:dim(tab_tmp):\n",
      "“numerical expression has 2 elements: only the first used”Warning message in 2:dim(tab_tmp):\n",
      "“numerical expression has 2 elements: only the first used”Warning message in 2:dim(tab_tmp):\n",
      "“numerical expression has 2 elements: only the first used”Warning message in 2:dim(tab_tmp):\n",
      "“numerical expression has 2 elements: only the first used”Warning message in eval(expr, envir, enclos):\n"
     ]
    },
    {
     "name": "stderr",
     "output_type": "stream",
     "text": [
      "“NAs introduced by coercion”Warning message in 2:dim(tab_tmp):\n",
      "“numerical expression has 2 elements: only the first used”Warning message in 2:dim(tab_tmp):\n",
      "“numerical expression has 2 elements: only the first used”Warning message in 2:dim(tab_tmp):\n",
      "“numerical expression has 2 elements: only the first used”Warning message in 2:dim(tab_tmp):\n",
      "“numerical expression has 2 elements: only the first used”Warning message in 2:dim(tab_tmp):\n",
      "“numerical expression has 2 elements: only the first used”Warning message in 2:dim(tab_tmp):\n",
      "“numerical expression has 2 elements: only the first used”Warning message in 2:dim(tab_tmp):\n",
      "“numerical expression has 2 elements: only the first used”Warning message in 2:dim(tab_tmp):\n",
      "“numerical expression has 2 elements: only the first used”Warning message in 2:dim(tab_tmp):\n",
      "“numerical expression has 2 elements: only the first used”Warning message in 2:dim(tab_tmp):\n",
      "“numerical expression has 2 elements: only the first used”Warning message in 2:dim(tab_tmp):\n",
      "“numerical expression has 2 elements: only the first used”Warning message in 2:dim(tab_tmp):\n",
      "“numerical expression has 2 elements: only the first used”Warning message in 2:dim(tab_tmp):\n",
      "“numerical expression has 2 elements: only the first used”Warning message in 2:dim(tab_tmp):\n",
      "“numerical expression has 2 elements: only the first used”Warning message in 2:dim(tab_tmp):\n",
      "“numerical expression has 2 elements: only the first used”Warning message in 2:dim(tab_tmp):\n",
      "“numerical expression has 2 elements: only the first used”Warning message in 2:dim(tab_tmp):\n",
      "“numerical expression has 2 elements: only the first used”Warning message in 2:dim(tab_tmp):\n",
      "“numerical expression has 2 elements: only the first used”Warning message in 2:dim(tab_tmp):\n",
      "“numerical expression has 2 elements: only the first used”Warning message in 2:dim(tab_tmp):\n",
      "“numerical expression has 2 elements: only the first used”Warning message in 2:dim(tab_tmp):\n",
      "“numerical expression has 2 elements: only the first used”Warning message in 2:dim(tab_tmp):\n",
      "“numerical expression has 2 elements: only the first used”Warning message in 2:dim(tab_tmp):\n",
      "“numerical expression has 2 elements: only the first used”Warning message in 2:dim(tab_tmp):\n",
      "“numerical expression has 2 elements: only the first used”Warning message in 2:dim(tab_tmp):\n",
      "“numerical expression has 2 elements: only the first used”Warning message in 2:dim(tab_tmp):\n",
      "“numerical expression has 2 elements: only the first used”Warning message in 2:dim(tab_tmp):\n",
      "“numerical expression has 2 elements: only the first used”Warning message in 2:dim(tab_tmp):\n",
      "“numerical expression has 2 elements: only the first used”Warning message in 2:dim(tab_tmp):\n",
      "“numerical expression has 2 elements: only the first used”Warning message in 2:dim(tab_tmp):\n",
      "“numerical expression has 2 elements: only the first used”Warning message in 2:dim(tab_tmp):\n",
      "“numerical expression has 2 elements: only the first used”Warning message in 2:dim(tab_tmp):\n",
      "“numerical expression has 2 elements: only the first used”Warning message in 2:dim(tab_tmp):\n",
      "“numerical expression has 2 elements: only the first used”Warning message in 2:dim(tab_tmp):\n",
      "“numerical expression has 2 elements: only the first used”Warning message in 2:dim(tab_tmp):\n",
      "“numerical expression has 2 elements: only the first used”Warning message in 2:dim(tab_tmp):\n",
      "“numerical expression has 2 elements: only the first used”Warning message in 2:dim(tab_tmp):\n",
      "“numerical expression has 2 elements: only the first used”Warning message in 2:dim(tab_tmp):\n",
      "“numerical expression has 2 elements: only the first used”Warning message in 2:dim(tab_tmp):\n",
      "“numerical expression has 2 elements: only the first used”Warning message in 2:dim(tab_tmp):\n",
      "“numerical expression has 2 elements: only the first used”Warning message in 2:dim(tab_tmp):\n",
      "“numerical expression has 2 elements: only the first used”Warning message in 2:dim(tab_tmp):\n",
      "“numerical expression has 2 elements: only the first used”Warning message in 2:dim(tab_tmp):\n",
      "“numerical expression has 2 elements: only the first used”Warning message in 2:dim(tab_tmp):\n",
      "“numerical expression has 2 elements: only the first used”Warning message in 2:dim(tab_tmp):\n",
      "“numerical expression has 2 elements: only the first used”Warning message in 2:dim(tab_tmp):\n",
      "“numerical expression has 2 elements: only the first used”Warning message in 2:dim(tab_tmp):\n",
      "“numerical expression has 2 elements: only the first used”Warning message in 2:dim(tab_tmp):\n",
      "“numerical expression has 2 elements: only the first used”Warning message in 2:dim(tab_tmp):\n",
      "“numerical expression has 2 elements: only the first used”Warning message in 2:dim(tab_tmp):\n",
      "“numerical expression has 2 elements: only the first used”Warning message in 2:dim(tab_tmp):\n",
      "“numerical expression has 2 elements: only the first used”Warning message in 2:dim(tab_tmp):\n",
      "“numerical expression has 2 elements: only the first used”Warning message in 2:dim(tab_tmp):\n",
      "“numerical expression has 2 elements: only the first used”Warning message in 2:dim(tab_tmp):\n",
      "“numerical expression has 2 elements: only the first used”Warning message in 2:dim(tab_tmp):\n",
      "“numerical expression has 2 elements: only the first used”Warning message in 2:dim(tab_tmp):\n",
      "“numerical expression has 2 elements: only the first used”Warning message in 2:dim(tab_tmp):\n",
      "“numerical expression has 2 elements: only the first used”Warning message in 2:dim(tab_tmp):\n",
      "“numerical expression has 2 elements: only the first used”Warning message in 2:dim(tab_tmp):\n",
      "“numerical expression has 2 elements: only the first used”Warning message in 2:dim(tab_tmp):\n",
      "“numerical expression has 2 elements: only the first used”Warning message in 2:dim(tab_tmp):\n",
      "“numerical expression has 2 elements: only the first used”Warning message in 2:dim(tab_tmp):\n",
      "“numerical expression has 2 elements: only the first used”Warning message in 2:dim(tab_tmp):\n",
      "“numerical expression has 2 elements: only the first used”Warning message in 2:dim(tab_tmp):\n",
      "“numerical expression has 2 elements: only the first used”Warning message in 2:dim(tab_tmp):\n",
      "“numerical expression has 2 elements: only the first used”Warning message in 2:dim(tab_tmp):\n",
      "“numerical expression has 2 elements: only the first used”Warning message in 2:dim(tab_tmp):\n",
      "“numerical expression has 2 elements: only the first used”Warning message in 2:dim(tab_tmp):\n",
      "“numerical expression has 2 elements: only the first used”Warning message in 2:dim(tab_tmp):\n",
      "“numerical expression has 2 elements: only the first used”Warning message in 2:dim(tab_tmp):\n",
      "“numerical expression has 2 elements: only the first used”Warning message in 2:dim(tab_tmp):\n",
      "“numerical expression has 2 elements: only the first used”Warning message in 2:dim(tab_tmp):\n",
      "“numerical expression has 2 elements: only the first used”Warning message in 2:dim(tab_tmp):\n",
      "“numerical expression has 2 elements: only the first used”Warning message in 2:dim(tab_tmp):\n",
      "“numerical expression has 2 elements: only the first used”Warning message in 2:dim(tab_tmp):\n",
      "“numerical expression has 2 elements: only the first used”Warning message in 2:dim(tab_tmp):\n",
      "“numerical expression has 2 elements: only the first used”Warning message in 2:dim(tab_tmp):\n",
      "“numerical expression has 2 elements: only the first used”Warning message in 2:dim(tab_tmp):\n",
      "“numerical expression has 2 elements: only the first used”Warning message in 2:dim(tab_tmp):\n",
      "“numerical expression has 2 elements: only the first used”Warning message in 2:dim(tab_tmp):\n",
      "“numerical expression has 2 elements: only the first used”Warning message in 2:dim(tab_tmp):\n",
      "“numerical expression has 2 elements: only the first used”Warning message in 2:dim(tab_tmp):\n",
      "“numerical expression has 2 elements: only the first used”Warning message in 2:dim(tab_tmp):\n",
      "“numerical expression has 2 elements: only the first used”Warning message in 2:dim(tab_tmp):\n",
      "“numerical expression has 2 elements: only the first used”Warning message in 2:dim(tab_tmp):\n",
      "“numerical expression has 2 elements: only the first used”Warning message in 2:dim(tab_tmp):\n",
      "“numerical expression has 2 elements: only the first used”Warning message in 2:dim(tab_tmp):\n",
      "“numerical expression has 2 elements: only the first used”Warning message in 2:dim(tab_tmp):\n",
      "“numerical expression has 2 elements: only the first used”Warning message in 2:dim(tab_tmp):\n",
      "“numerical expression has 2 elements: only the first used”Warning message in 2:dim(tab_tmp):\n",
      "“numerical expression has 2 elements: only the first used”Warning message in 2:dim(tab_tmp):\n",
      "“numerical expression has 2 elements: only the first used”Warning message in 2:dim(tab_tmp):\n",
      "“numerical expression has 2 elements: only the first used”Warning message in 2:dim(tab_tmp):\n",
      "“numerical expression has 2 elements: only the first used”Warning message in 2:dim(tab_tmp):\n",
      "“numerical expression has 2 elements: only the first used”Warning message in 2:dim(tab_tmp):\n",
      "“numerical expression has 2 elements: only the first used”Warning message in 2:dim(tab_tmp):\n",
      "“numerical expression has 2 elements: only the first used”Warning message in 2:dim(tab_tmp):\n",
      "“numerical expression has 2 elements: only the first used”Warning message in 2:dim(tab_tmp):\n",
      "“numerical expression has 2 elements: only the first used”Warning message in 2:dim(tab_tmp):\n",
      "“numerical expression has 2 elements: only the first used”Warning message in 2:dim(tab_tmp):\n",
      "“numerical expression has 2 elements: only the first used”Warning message in 2:dim(tab_tmp):\n",
      "“numerical expression has 2 elements: only the first used”Warning message in 2:dim(tab_tmp):\n",
      "“numerical expression has 2 elements: only the first used”Warning message in 2:dim(tab_tmp):\n",
      "“numerical expression has 2 elements: only the first used”Warning message in 2:dim(tab_tmp):\n",
      "“numerical expression has 2 elements: only the first used”Warning message in 2:dim(tab_tmp):\n",
      "“numerical expression has 2 elements: only the first used”Warning message in 2:dim(tab_tmp):\n",
      "“numerical expression has 2 elements: only the first used”Warning message in 2:dim(tab_tmp):\n",
      "“numerical expression has 2 elements: only the first used”Warning message in 2:dim(tab_tmp):\n",
      "“numerical expression has 2 elements: only the first used”Warning message in 2:dim(tab_tmp):\n",
      "“numerical expression has 2 elements: only the first used”Warning message in 2:dim(tab_tmp):\n",
      "“numerical expression has 2 elements: only the first used”Warning message in 2:dim(tab_tmp):\n",
      "“numerical expression has 2 elements: only the first used”Warning message in 2:dim(tab_tmp):\n",
      "“numerical expression has 2 elements: only the first used”Warning message in 2:dim(tab_tmp):\n",
      "“numerical expression has 2 elements: only the first used”Warning message in 2:dim(tab_tmp):\n",
      "“numerical expression has 2 elements: only the first used”Warning message in 2:dim(tab_tmp):\n",
      "“numerical expression has 2 elements: only the first used”Warning message in 2:dim(tab_tmp):\n",
      "“numerical expression has 2 elements: only the first used”Warning message in 2:dim(tab_tmp):\n",
      "“numerical expression has 2 elements: only the first used”Warning message in 2:dim(tab_tmp):\n",
      "“numerical expression has 2 elements: only the first used”Warning message in 2:dim(tab_tmp):\n",
      "“numerical expression has 2 elements: only the first used”Warning message in 2:dim(tab_tmp):\n",
      "“numerical expression has 2 elements: only the first used”Warning message in 2:dim(tab_tmp):\n",
      "“numerical expression has 2 elements: only the first used”Warning message in 2:dim(tab_tmp):\n",
      "“numerical expression has 2 elements: only the first used”Warning message in 2:dim(tab_tmp):\n",
      "“numerical expression has 2 elements: only the first used”Warning message in 2:dim(tab_tmp):\n",
      "“numerical expression has 2 elements: only the first used”Warning message in 2:dim(tab_tmp):\n",
      "“numerical expression has 2 elements: only the first used”Warning message in 2:dim(tab_tmp):\n",
      "“numerical expression has 2 elements: only the first used”Warning message in 2:dim(tab_tmp):\n",
      "“numerical expression has 2 elements: only the first used”Warning message in 2:dim(tab_tmp):\n",
      "“numerical expression has 2 elements: only the first used”Warning message in 2:dim(tab_tmp):\n",
      "“numerical expression has 2 elements: only the first used”Warning message in 2:dim(tab_tmp):\n",
      "“numerical expression has 2 elements: only the first used”Warning message in 2:dim(tab_tmp):\n",
      "“numerical expression has 2 elements: only the first used”Warning message in 2:dim(tab_tmp):\n",
      "“numerical expression has 2 elements: only the first used”Warning message in 2:dim(tab_tmp):\n",
      "“numerical expression has 2 elements: only the first used”Warning message in 2:dim(tab_tmp):\n",
      "“numerical expression has 2 elements: only the first used”Warning message in 2:dim(tab_tmp):\n",
      "“numerical expression has 2 elements: only the first used”Warning message in 2:dim(tab_tmp):\n",
      "“numerical expression has 2 elements: only the first used”Warning message in 2:dim(tab_tmp):\n",
      "“numerical expression has 2 elements: only the first used”Warning message in 2:dim(tab_tmp):\n",
      "“numerical expression has 2 elements: only the first used”Warning message in 2:dim(tab_tmp):\n",
      "“numerical expression has 2 elements: only the first used”Warning message in 2:dim(tab_tmp):\n",
      "“numerical expression has 2 elements: only the first used”Warning message in 2:dim(tab_tmp):\n",
      "“numerical expression has 2 elements: only the first used”Warning message in 2:dim(tab_tmp):\n",
      "“numerical expression has 2 elements: only the first used”Warning message in 2:dim(tab_tmp):\n",
      "“numerical expression has 2 elements: only the first used”Warning message in 2:dim(tab_tmp):\n",
      "“numerical expression has 2 elements: only the first used”Warning message in 2:dim(tab_tmp):\n",
      "“numerical expression has 2 elements: only the first used”Warning message in 2:dim(tab_tmp):\n",
      "“numerical expression has 2 elements: only the first used”Warning message in 2:dim(tab_tmp):\n",
      "“numerical expression has 2 elements: only the first used”Warning message in 2:dim(tab_tmp):\n",
      "“numerical expression has 2 elements: only the first used”Warning message in 2:dim(tab_tmp):\n",
      "“numerical expression has 2 elements: only the first used”Warning message in 2:dim(tab_tmp):\n",
      "“numerical expression has 2 elements: only the first used”Warning message in 2:dim(tab_tmp):\n",
      "“numerical expression has 2 elements: only the first used”Warning message in 2:dim(tab_tmp):\n",
      "“numerical expression has 2 elements: only the first used”Warning message in 2:dim(tab_tmp):\n",
      "“numerical expression has 2 elements: only the first used”Warning message in 2:dim(tab_tmp):\n",
      "“numerical expression has 2 elements: only the first used”Warning message in 2:dim(tab_tmp):\n",
      "“numerical expression has 2 elements: only the first used”Warning message in 2:dim(tab_tmp):\n",
      "“numerical expression has 2 elements: only the first used”Warning message in 2:dim(tab_tmp):\n",
      "“numerical expression has 2 elements: only the first used”Warning message in 2:dim(tab_tmp):\n",
      "“numerical expression has 2 elements: only the first used”Warning message in 2:dim(tab_tmp):\n",
      "“numerical expression has 2 elements: only the first used”Warning message in 2:dim(tab_tmp):\n",
      "“numerical expression has 2 elements: only the first used”Warning message in 2:dim(tab_tmp):\n",
      "“numerical expression has 2 elements: only the first used”Warning message in 2:dim(tab_tmp):\n",
      "“numerical expression has 2 elements: only the first used”Warning message in 2:dim(tab_tmp):\n",
      "“numerical expression has 2 elements: only the first used”Warning message in 2:dim(tab_tmp):\n",
      "“numerical expression has 2 elements: only the first used”Warning message in 2:dim(tab_tmp):\n",
      "“numerical expression has 2 elements: only the first used”Warning message in 2:dim(tab_tmp):\n",
      "“numerical expression has 2 elements: only the first used”Warning message in 2:dim(tab_tmp):\n",
      "“numerical expression has 2 elements: only the first used”Warning message in 2:dim(tab_tmp):\n",
      "“numerical expression has 2 elements: only the first used”Warning message in 2:dim(tab_tmp):\n",
      "“numerical expression has 2 elements: only the first used”Warning message in 2:dim(tab_tmp):\n",
      "“numerical expression has 2 elements: only the first used”Warning message in 2:dim(tab_tmp):\n",
      "“numerical expression has 2 elements: only the first used”Warning message in 2:dim(tab_tmp):\n",
      "“numerical expression has 2 elements: only the first used”Warning message in 2:dim(tab_tmp):\n",
      "“numerical expression has 2 elements: only the first used”Warning message in 2:dim(tab_tmp):\n",
      "“numerical expression has 2 elements: only the first used”Warning message in 2:dim(tab_tmp):\n",
      "“numerical expression has 2 elements: only the first used”Warning message in 2:dim(tab_tmp):\n"
     ]
    },
    {
     "name": "stderr",
     "output_type": "stream",
     "text": [
      "“numerical expression has 2 elements: only the first used”Warning message in 2:dim(tab_tmp):\n",
      "“numerical expression has 2 elements: only the first used”Warning message in 2:dim(tab_tmp):\n",
      "“numerical expression has 2 elements: only the first used”Warning message in 2:dim(tab_tmp):\n",
      "“numerical expression has 2 elements: only the first used”Warning message in 2:dim(tab_tmp):\n",
      "“numerical expression has 2 elements: only the first used”Warning message in 2:dim(tab_tmp):\n",
      "“numerical expression has 2 elements: only the first used”"
     ]
    }
   ],
   "source": [
    "kol  <- c()\n",
    "check  <- c()\n",
    "car  <-  c()\n",
    "check_price  <-  c()\n",
    "price   <-  c()\n",
    "lll  <- length(tables_list_1)\n",
    "# lll <- 3\n",
    "for (i in 1:lll){\n",
    "    \n",
    "    tab_tmp = tables_list_1[[i]][[1]][[8]]\n",
    "    sum_1  <-  sum(as.integer(as.character(tab_tmp[2:dim(tab_tmp), 4])), na.rm = TRUE) \n",
    "    kol  <-  c(kol, sum_1 )\n",
    "    check  <-  c(check, as.character(tab_tmp[1, 4]))\n",
    "    check_price  <-  c(check_price, as.character(tab_tmp[dim(tab_tmp)[1], 1]))\n",
    "    price  <- c(price, gsub(\"[^0-9.-]\",\"\",gsub(\",\",\".\", as.character(tab_tmp[dim(tab_tmp)[1],2]), fixed = TRUE)))\n",
    "}\n",
    "\n"
   ]
  },
  {
   "cell_type": "code",
   "execution_count": 658,
   "metadata": {
    "ExecuteTime": {
     "end_time": "2019-09-30T20:33:01.766374Z",
     "start_time": "2019-09-30T20:33:01.716Z"
    }
   },
   "outputs": [
    {
     "data": {
      "text/html": [
       "1059"
      ],
      "text/latex": [
       "1059"
      ],
      "text/markdown": [
       "1059"
      ],
      "text/plain": [
       "[1] 1059"
      ]
     },
     "metadata": {},
     "output_type": "display_data"
    },
    {
     "data": {
      "text/html": [
       "1056"
      ],
      "text/latex": [
       "1056"
      ],
      "text/markdown": [
       "1056"
      ],
      "text/plain": [
       "[1] 1056"
      ]
     },
     "metadata": {},
     "output_type": "display_data"
    }
   ],
   "source": [
    "length(kol) \n",
    "length(check)"
   ]
  },
  {
   "cell_type": "code",
   "execution_count": 659,
   "metadata": {
    "ExecuteTime": {
     "end_time": "2019-09-30T20:33:05.129026Z",
     "start_time": "2019-09-30T20:33:05.097Z"
    }
   },
   "outputs": [],
   "source": [
    "# check[check != 'Количество']"
   ]
  },
  {
   "cell_type": "code",
   "execution_count": 677,
   "metadata": {
    "ExecuteTime": {
     "end_time": "2019-09-30T20:38:09.777371Z",
     "start_time": "2019-09-30T20:38:09.720Z"
    }
   },
   "outputs": [],
   "source": [
    "kol[69] = 36\n",
    "kol[74] = 2\n",
    "kol[90] = 46\n",
    "kol[668] = 1\n",
    "kol[674] = 1\n",
    "kol[878] = 1\n",
    "kol[633] = 1\n"
   ]
  },
  {
   "cell_type": "code",
   "execution_count": 675,
   "metadata": {
    "ExecuteTime": {
     "end_time": "2019-09-30T20:37:10.708639Z",
     "start_time": "2019-09-30T20:37:10.658Z"
    }
   },
   "outputs": [
    {
     "data": {
      "text/html": [
       "<ol class=list-inline>\n",
       "\t<li>'Итого:'</li>\n",
       "\t<li>''</li>\n",
       "\t<li>'Начальная сумма цен единиц товара, работы, услуги:'</li>\n",
       "\t<li>'Наименование товара, работы, услуги'</li>\n",
       "</ol>\n"
      ],
      "text/latex": [
       "\\begin{enumerate*}\n",
       "\\item 'Итого:'\n",
       "\\item ''\n",
       "\\item 'Начальная сумма цен единиц товара, работы, услуги:'\n",
       "\\item 'Наименование товара, работы, услуги'\n",
       "\\end{enumerate*}\n"
      ],
      "text/markdown": [
       "1. 'Итого:'\n",
       "2. ''\n",
       "3. 'Начальная сумма цен единиц товара, работы, услуги:'\n",
       "4. 'Наименование товара, работы, услуги'\n",
       "\n",
       "\n"
      ],
      "text/plain": [
       "[1] \"Итого:\"                                            \n",
       "[2] \"\"                                                  \n",
       "[3] \"Начальная сумма цен единиц товара, работы, услуги:\"\n",
       "[4] \"Наименование товара, работы, услуги\"               "
      ]
     },
     "metadata": {},
     "output_type": "display_data"
    }
   ],
   "source": [
    "unique(check_price)"
   ]
  },
  {
   "cell_type": "code",
   "execution_count": 676,
   "metadata": {
    "ExecuteTime": {
     "end_time": "2019-09-30T20:37:28.483378Z",
     "start_time": "2019-09-30T20:37:28.464Z"
    }
   },
   "outputs": [
    {
     "data": {
      "text/html": [
       "20"
      ],
      "text/latex": [
       "20"
      ],
      "text/markdown": [
       "20"
      ],
      "text/plain": [
       "[1] 20"
      ]
     },
     "metadata": {},
     "output_type": "display_data"
    }
   ],
   "source": [
    "sum(check_price == 'Начальная сумма цен единиц товара, работы, услуги:')+ sum(check_price == 'Начальная сумма цен единиц товара, работы, услуги:')+sum(check_price == '')"
   ]
  },
  {
   "cell_type": "code",
   "execution_count": 673,
   "metadata": {
    "ExecuteTime": {
     "end_time": "2019-09-30T20:36:44.018650Z",
     "start_time": "2019-09-30T20:36:43.978Z"
    }
   },
   "outputs": [
    {
     "data": {
      "text/html": [
       "12"
      ],
      "text/latex": [
       "12"
      ],
      "text/markdown": [
       "12"
      ],
      "text/plain": [
       "[1] 12"
      ]
     },
     "metadata": {},
     "output_type": "display_data"
    }
   ],
   "source": [
    "sum(is.na(price))"
   ]
  },
  {
   "cell_type": "code",
   "execution_count": 672,
   "metadata": {
    "ExecuteTime": {
     "end_time": "2019-09-30T20:36:09.848421Z",
     "start_time": "2019-09-30T20:36:09.803Z"
    }
   },
   "outputs": [
    {
     "data": {
      "text/html": [
       "0"
      ],
      "text/latex": [
       "0"
      ],
      "text/markdown": [
       "0"
      ],
      "text/plain": [
       "[1] 0"
      ]
     },
     "metadata": {},
     "output_type": "display_data"
    }
   ],
   "source": [
    "lll - length(check_price)\n"
   ]
  },
  {
   "cell_type": "code",
   "execution_count": 561,
   "metadata": {
    "ExecuteTime": {
     "end_time": "2019-09-30T18:11:59.100700Z",
     "start_time": "2019-09-30T18:11:59.081Z"
    }
   },
   "outputs": [
    {
     "data": {
      "text/html": [],
      "text/latex": [],
      "text/markdown": [],
      "text/plain": [
       "integer(0)"
      ]
     },
     "metadata": {},
     "output_type": "display_data"
    },
    {
     "data": {
      "text/html": [
       "<ol class=list-inline>\n",
       "\t<li>90</li>\n",
       "\t<li>985</li>\n",
       "</ol>\n"
      ],
      "text/latex": [
       "\\begin{enumerate*}\n",
       "\\item 90\n",
       "\\item 985\n",
       "\\end{enumerate*}\n"
      ],
      "text/markdown": [
       "1. 90\n",
       "2. 985\n",
       "\n",
       "\n"
      ],
      "text/plain": [
       "[1]  90 985"
      ]
     },
     "metadata": {},
     "output_type": "display_data"
    }
   ],
   "source": [
    "which( kol==0 )\n",
    "which( kol>40 )"
   ]
  },
  {
   "cell_type": "code",
   "execution_count": 566,
   "metadata": {
    "ExecuteTime": {
     "end_time": "2019-09-30T18:19:05.929211Z",
     "start_time": "2019-09-30T18:19:05.898Z"
    }
   },
   "outputs": [
    {
     "data": {
      "text/html": [
       "21 024 000,00\n",
       "<details>\n",
       "\t<summary style=display:list-item;cursor:pointer>\n",
       "\t\t<strong>Levels</strong>:\n",
       "\t</summary>\n",
       "\t<ol class=list-inline>\n",
       "\t\t<li>'21 024 000,00'</li>\n",
       "\t\t<li>'Стоимость'</li>\n",
       "\t</ol>\n",
       "</details>"
      ],
      "text/latex": [
       "21 024 000,00\n",
       "\\emph{Levels}: \\begin{enumerate*}\n",
       "\\item '21 024 000,00'\n",
       "\\item 'Стоимость'\n",
       "\\end{enumerate*}\n"
      ],
      "text/markdown": [
       "21 024 000,00\n",
       "**Levels**: 1. '21 024 000,00'\n",
       "2. 'Стоимость'\n",
       "\n",
       "\n"
      ],
      "text/plain": [
       "[1] 21 024 000,00\n",
       "Levels: 21 024 000,00 Стоимость"
      ]
     },
     "metadata": {},
     "output_type": "display_data"
    },
    {
     "data": {
      "text/html": [
       "1 339 944,00\n",
       "<details>\n",
       "\t<summary style=display:list-item;cursor:pointer>\n",
       "\t\t<strong>Levels</strong>:\n",
       "\t</summary>\n",
       "\t<ol class=list-inline>\n",
       "\t\t<li>'1 339 944,00'</li>\n",
       "\t\t<li>'2 679 888,00'</li>\n",
       "\t\t<li>'669 772,00'</li>\n",
       "\t\t<li>'Стоимость'</li>\n",
       "\t</ol>\n",
       "</details>"
      ],
      "text/latex": [
       "1 339 944,00\n",
       "\\emph{Levels}: \\begin{enumerate*}\n",
       "\\item '1 339 944,00'\n",
       "\\item '2 679 888,00'\n",
       "\\item '669 772,00'\n",
       "\\item 'Стоимость'\n",
       "\\end{enumerate*}\n"
      ],
      "text/markdown": [
       "1 339 944,00\n",
       "**Levels**: 1. '1 339 944,00'\n",
       "2. '2 679 888,00'\n",
       "3. '669 772,00'\n",
       "4. 'Стоимость'\n",
       "\n",
       "\n"
      ],
      "text/plain": [
       "[1] 1 339 944,00\n",
       "Levels: 1 339 944,00 2 679 888,00 669 772,00 Стоимость"
      ]
     },
     "metadata": {},
     "output_type": "display_data"
    },
    {
     "data": {
      "text/html": [
       "26 864 000,00\n",
       "<details>\n",
       "\t<summary style=display:list-item;cursor:pointer>\n",
       "\t\t<strong>Levels</strong>:\n",
       "\t</summary>\n",
       "\t<ol class=list-inline>\n",
       "\t\t<li>'26 864 000,00'</li>\n",
       "\t\t<li>'Стоимость'</li>\n",
       "\t</ol>\n",
       "</details>"
      ],
      "text/latex": [
       "26 864 000,00\n",
       "\\emph{Levels}: \\begin{enumerate*}\n",
       "\\item '26 864 000,00'\n",
       "\\item 'Стоимость'\n",
       "\\end{enumerate*}\n"
      ],
      "text/markdown": [
       "26 864 000,00\n",
       "**Levels**: 1. '26 864 000,00'\n",
       "2. 'Стоимость'\n",
       "\n",
       "\n"
      ],
      "text/plain": [
       "[1] 26 864 000,00\n",
       "Levels: 26 864 000,00 Стоимость"
      ]
     },
     "metadata": {},
     "output_type": "display_data"
    }
   ],
   "source": [
    "tables_list_1[[69]][[1]][[7]][2,6]\n",
    "tables_list_1[[74]][[1]][[7]][2,6]\n",
    "tables_list_1[[90]][[1]][[7]][2,6]"
   ]
  },
  {
   "cell_type": "code",
   "execution_count": null,
   "metadata": {
    "ExecuteTime": {
     "end_time": "2019-09-30T20:38:20.517683Z",
     "start_time": "2019-09-30T20:38:20.456Z"
    }
   },
   "outputs": [],
   "source": []
  },
  {
   "cell_type": "code",
   "execution_count": 648,
   "metadata": {
    "ExecuteTime": {
     "end_time": "2019-09-30T20:20:34.475879Z",
     "start_time": "2019-09-30T20:20:34.455Z"
    }
   },
   "outputs": [],
   "source": [
    "# tables_list_1[[633]][[1]][[8]]"
   ]
  },
  {
   "cell_type": "code",
   "execution_count": 649,
   "metadata": {
    "ExecuteTime": {
     "end_time": "2019-09-30T20:20:34.919395Z",
     "start_time": "2019-09-30T20:20:34.889Z"
    }
   },
   "outputs": [],
   "source": [
    "# tables_list_1[[674]][[1]][[8]]"
   ]
  },
  {
   "cell_type": "code",
   "execution_count": 377,
   "metadata": {
    "ExecuteTime": {
     "end_time": "2019-09-30T16:58:31.948328Z",
     "start_time": "2019-09-30T16:58:31.923Z"
    }
   },
   "outputs": [
    {
     "name": "stderr",
     "output_type": "stream",
     "text": [
      "Warning message in 2:dim(tab_tmp):\n",
      "“numerical expression has 2 elements: only the first used”"
     ]
    },
    {
     "data": {
      "text/html": [
       "<ol class=list-inline>\n",
       "\t<li>1</li>\n",
       "\t<li>&lt;NA&gt;</li>\n",
       "\t<li>&lt;NA&gt;</li>\n",
       "\t<li>&lt;NA&gt;</li>\n",
       "\t<li>&lt;NA&gt;</li>\n",
       "\t<li>&lt;NA&gt;</li>\n",
       "</ol>\n"
      ],
      "text/latex": [
       "\\begin{enumerate*}\n",
       "\\item 1\n",
       "\\item <NA>\n",
       "\\item <NA>\n",
       "\\item <NA>\n",
       "\\item <NA>\n",
       "\\item <NA>\n",
       "\\end{enumerate*}\n"
      ],
      "text/markdown": [
       "1. 1\n",
       "2. &lt;NA&gt;\n",
       "3. &lt;NA&gt;\n",
       "4. &lt;NA&gt;\n",
       "5. &lt;NA&gt;\n",
       "6. &lt;NA&gt;\n",
       "\n",
       "\n"
      ],
      "text/plain": [
       "[1]  1 NA NA NA NA NA"
      ]
     },
     "metadata": {},
     "output_type": "display_data"
    }
   ],
   "source": [
    "# as.integer(as.character(tab_tmp[2:dim(tab_tmp), 4]))"
   ]
  },
  {
   "cell_type": "code",
   "execution_count": 376,
   "metadata": {
    "ExecuteTime": {
     "end_time": "2019-09-30T16:58:08.132330Z",
     "start_time": "2019-09-30T16:58:08.119Z"
    }
   },
   "outputs": [
    {
     "name": "stderr",
     "output_type": "stream",
     "text": [
      "Warning message in 2:dim(tab_tmp):\n",
      "“numerical expression has 2 elements: only the first used”"
     ]
    },
    {
     "data": {
      "text/html": [
       "1"
      ],
      "text/latex": [
       "1"
      ],
      "text/markdown": [
       "1"
      ],
      "text/plain": [
       "[1] 1"
      ]
     },
     "metadata": {},
     "output_type": "display_data"
    }
   ],
   "source": [
    "sum(as.integer(as.character(tab_tmp[2:dim(tab_tmp), 4])), na.rm = TRUE)"
   ]
  },
  {
   "cell_type": "code",
   "execution_count": 650,
   "metadata": {
    "ExecuteTime": {
     "end_time": "2019-09-30T20:20:43.160613Z",
     "start_time": "2019-09-30T20:20:43.131Z"
    }
   },
   "outputs": [],
   "source": [
    "# tables_list[[1]][[1]][[8]]"
   ]
  },
  {
   "cell_type": "code",
   "execution_count": 651,
   "metadata": {
    "ExecuteTime": {
     "end_time": "2019-09-30T20:20:45.317791Z",
     "start_time": "2019-09-30T20:20:45.282Z"
    }
   },
   "outputs": [],
   "source": [
    "# tables_list[[17]][[1]][[8]]"
   ]
  },
  {
   "cell_type": "code",
   "execution_count": 359,
   "metadata": {
    "ExecuteTime": {
     "end_time": "2019-09-30T16:52:13.935626Z",
     "start_time": "2019-09-30T16:52:13.925Z"
    }
   },
   "outputs": [],
   "source": [
    "# tab_tmp"
   ]
  },
  {
   "cell_type": "code",
   "execution_count": 356,
   "metadata": {
    "ExecuteTime": {
     "end_time": "2019-09-30T16:51:04.769424Z",
     "start_time": "2019-09-30T16:51:04.748Z"
    }
   },
   "outputs": [],
   "source": []
  },
  {
   "cell_type": "code",
   "execution_count": 679,
   "metadata": {
    "ExecuteTime": {
     "end_time": "2019-09-30T20:39:10.150760Z",
     "start_time": "2019-09-30T20:39:10.118Z"
    }
   },
   "outputs": [],
   "source": [
    "goszak_df_kolich_2['kolichestvo'] = kol"
   ]
  },
  {
   "cell_type": "code",
   "execution_count": 680,
   "metadata": {
    "ExecuteTime": {
     "end_time": "2019-09-30T20:39:45.082096Z",
     "start_time": "2019-09-30T20:39:45.044Z"
    }
   },
   "outputs": [],
   "source": [
    "goszak_df_kolich_2['price_gos'] = price\n",
    "goszak_df_kolich_2['price_check'] = check_price"
   ]
  },
  {
   "cell_type": "code",
   "execution_count": 681,
   "metadata": {
    "ExecuteTime": {
     "end_time": "2019-09-30T20:40:38.715352Z",
     "start_time": "2019-09-30T20:40:24.574Z"
    }
   },
   "outputs": [],
   "source": [
    "write.xlsx(goszak_df_kolich_2, 'goszak_df_tmp_wo_gruz.xlsx')"
   ]
  },
  {
   "cell_type": "code",
   "execution_count": 686,
   "metadata": {
    "ExecuteTime": {
     "end_time": "2019-10-01T13:38:31.052769Z",
     "start_time": "2019-10-01T13:38:31.000Z"
    }
   },
   "outputs": [],
   "source": [
    "goszak_df_kolich_3  <-  read_excel('/media/xenakas/ext4_drive/data_goszak/goszak_df_tmp_wo_gruz.xlsx') #, header=TRUE, colClasses=NA)\n"
   ]
  },
  {
   "cell_type": "code",
   "execution_count": 747,
   "metadata": {
    "ExecuteTime": {
     "end_time": "2019-10-01T14:39:45.519507Z",
     "start_time": "2019-10-01T14:39:38.006Z"
    }
   },
   "outputs": [],
   "source": [
    "# write.xlsx(goszak_df_kolich_3, 'goszak_df_tmp_wo_gruz_2.xlsx')"
   ]
  },
  {
   "cell_type": "code",
   "execution_count": 908,
   "metadata": {
    "ExecuteTime": {
     "end_time": "2019-10-01T17:49:01.531447Z",
     "start_time": "2019-10-01T17:49:01.415Z"
    }
   },
   "outputs": [],
   "source": [
    "goszak_df_kolich_3  <-  read_excel('/media/xenakas/ext4_drive/data_goszak/goszak_df_tmp_wo_gruz_2.xlsx') #, header=TRUE, colClasses=NA)"
   ]
  },
  {
   "cell_type": "code",
   "execution_count": 909,
   "metadata": {
    "ExecuteTime": {
     "end_time": "2019-10-01T17:49:01.829062Z",
     "start_time": "2019-10-01T17:49:01.798Z"
    }
   },
   "outputs": [
    {
     "data": {
      "text/html": [
       "<ol class=list-inline>\n",
       "\t<li>1007</li>\n",
       "\t<li>30</li>\n",
       "</ol>\n"
      ],
      "text/latex": [
       "\\begin{enumerate*}\n",
       "\\item 1007\n",
       "\\item 30\n",
       "\\end{enumerate*}\n"
      ],
      "text/markdown": [
       "1. 1007\n",
       "2. 30\n",
       "\n",
       "\n"
      ],
      "text/plain": [
       "[1] 1007   30"
      ]
     },
     "metadata": {},
     "output_type": "display_data"
    }
   ],
   "source": [
    "goszak_df_kolich_3  %>%  dim()"
   ]
  },
  {
   "cell_type": "code",
   "execution_count": 912,
   "metadata": {
    "ExecuteTime": {
     "end_time": "2019-10-01T17:49:44.880994Z",
     "start_time": "2019-10-01T17:49:44.845Z"
    }
   },
   "outputs": [],
   "source": [
    "# goszak_df_kolich_3[goszak_df_kolich_3$completed_car_purchase !=0|is.na(goszak_df_kolich_3$completed_car_purchase), ]"
   ]
  },
  {
   "cell_type": "code",
   "execution_count": 900,
   "metadata": {
    "ExecuteTime": {
     "end_time": "2019-10-01T17:47:32.001570Z",
     "start_time": "2019-10-01T17:47:31.934Z"
    }
   },
   "outputs": [],
   "source": [
    "# saveRDS(tables_list, 'all_goszak_pages.rds')"
   ]
  },
  {
   "cell_type": "code",
   "execution_count": 913,
   "metadata": {
    "ExecuteTime": {
     "end_time": "2019-10-01T17:49:49.437555Z",
     "start_time": "2019-10-01T17:49:49.344Z"
    }
   },
   "outputs": [],
   "source": [
    "tables_list_2  <- list()\n",
    "jj = 0\n",
    "for (i in as.integer(goszak_df_kolich_3$X__1)){\n",
    "    jj = jj+1\n",
    "    tables_list_2[[jj]]  <-  tables_list[[i]]\n",
    "}"
   ]
  },
  {
   "cell_type": "code",
   "execution_count": 914,
   "metadata": {
    "ExecuteTime": {
     "end_time": "2019-10-01T17:49:50.084659Z",
     "start_time": "2019-10-01T17:49:49.888Z"
    }
   },
   "outputs": [],
   "source": [
    "zakaz  <-  c()\n",
    "\n",
    "for (i in 1:length(tables_list_2)){\n",
    "    \n",
    "    tab_tmp = tables_list_2[[i]][[2]][[length(tables_list_2[[i]][[2]])]]\n",
    "    zakaz  <-  c(zakaz, as.character(tab_tmp[1, 1]))\n",
    "}\n",
    "\n"
   ]
  },
  {
   "cell_type": "code",
   "execution_count": 915,
   "metadata": {
    "ExecuteTime": {
     "end_time": "2019-10-01T17:49:55.193274Z",
     "start_time": "2019-10-01T17:49:55.113Z"
    }
   },
   "outputs": [],
   "source": [
    "# zakaz\n"
   ]
  },
  {
   "cell_type": "code",
   "execution_count": 916,
   "metadata": {
    "ExecuteTime": {
     "end_time": "2019-10-01T17:49:55.558611Z",
     "start_time": "2019-10-01T17:49:55.469Z"
    }
   },
   "outputs": [],
   "source": [
    "gru_ch  <-  c()\n",
    "for (i in  zakaz){\n",
    "    if (str_detect(i,'единственной заявки')){\n",
    "        gru_ch  <-  c(gru_ch, '1')\n",
    "    }else if( str_detect(i,'заявок' )){\n",
    "        gru_ch  <-  c(gru_ch, 'не одна')\n",
    "    }else if( str_detect(i,'несостоявшимся' )){\n",
    "        gru_ch  <-  c(gru_ch, '0')\n",
    "    }else{\n",
    "        gru_ch  <-  c(gru_ch, '0')\n",
    "    }   \n",
    "    \n",
    "}"
   ]
  },
  {
   "cell_type": "code",
   "execution_count": 917,
   "metadata": {
    "ExecuteTime": {
     "end_time": "2019-10-01T17:49:55.835661Z",
     "start_time": "2019-10-01T17:49:55.799Z"
    }
   },
   "outputs": [],
   "source": [
    "goszak_df_kolich_3['kolichetvo_uch'] = gru_ch"
   ]
  },
  {
   "cell_type": "code",
   "execution_count": null,
   "metadata": {},
   "outputs": [],
   "source": []
  },
  {
   "cell_type": "code",
   "execution_count": 918,
   "metadata": {
    "ExecuteTime": {
     "end_time": "2019-10-01T17:49:59.629875Z",
     "start_time": "2019-10-01T17:49:59.578Z"
    }
   },
   "outputs": [
    {
     "data": {
      "text/html": [
       "<table>\n",
       "<thead><tr><th scope=col>Информация о контракте</th><th scope=col>Заказчик, с которым заключен контракт</th><th scope=col>Поставщик, с которым заключен контракт</th><th scope=col>Цена контракта</th><th scope=col>Дата и время получения в ЕИС</th></tr></thead>\n",
       "<tbody>\n",
       "\t<tr><td>Сведения о заключении контракта на электронной площадке от 28.02.2017 № 0328300172416000002_302193\n",
       "                                \n",
       "                                на основании документа:\n",
       "                                0328300172416000002-3</td><td>МУНИЦИПАЛЬНОЕ БЮДЖЕТНОЕ УЧРЕЖДЕНИЕ КЛЯЗЬМИНСКОЕ СЕЛЬСКОЕ ПОСЕЛЕНИЕ КОВРОВСКОГО РАЙОНА \"КЛЯЗЬМИНСКОЕ\"                                                                                                                                                </td><td>общество с ограниченной ответственностью \"СВОЕ ВРЕМЯ\"                                                                                                                                                                                               </td><td>557 690,04 Российский рубль                                                                                                                                                                                                                         </td><td>28.02.2017 11:18 (МСК)                                                                                                                                                                                                                              </td></tr>\n",
       "</tbody>\n",
       "</table>\n"
      ],
      "text/latex": [
       "\\begin{tabular}{r|lllll}\n",
       " Информация о контракте & Заказчик, с которым заключен контракт & Поставщик, с которым заключен контракт & Цена контракта & Дата и время получения в ЕИС\\\\\n",
       "\\hline\n",
       "\t Сведения о заключении контракта на электронной площадке от 28.02.2017 № 0328300172416000002\\_302193\n",
       "                                \n",
       "                                на основании документа:\n",
       "                                0328300172416000002-3 & МУНИЦИПАЛЬНОЕ БЮДЖЕТНОЕ УЧРЕЖДЕНИЕ КЛЯЗЬМИНСКОЕ СЕЛЬСКОЕ ПОСЕЛЕНИЕ КОВРОВСКОГО РАЙОНА \"КЛЯЗЬМИНСКОЕ\"                                                                                                                                                   & общество с ограниченной ответственностью \"СВОЕ ВРЕМЯ\"                                                                                                                                                                                                  & 557 690,04 Российский рубль                                                                                                                                                                                                                            & 28.02.2017 11:18 (МСК)                                                                                                                                                                                                                                \\\\\n",
       "\\end{tabular}\n"
      ],
      "text/markdown": [
       "\n",
       "Информация о контракте | Заказчик, с которым заключен контракт | Поставщик, с которым заключен контракт | Цена контракта | Дата и время получения в ЕИС | \n",
       "|---|\n",
       "| Сведения о заключении контракта на электронной площадке от 28.02.2017 № 0328300172416000002_302193\n",
       "                                \n",
       "                                на основании документа:\n",
       "                                0328300172416000002-3 | МУНИЦИПАЛЬНОЕ БЮДЖЕТНОЕ УЧРЕЖДЕНИЕ КЛЯЗЬМИНСКОЕ СЕЛЬСКОЕ ПОСЕЛЕНИЕ КОВРОВСКОГО РАЙОНА \"КЛЯЗЬМИНСКОЕ\"                                                                                                                                                 | общество с ограниченной ответственностью \"СВОЕ ВРЕМЯ\"                                                                                                                                                                                                | 557 690,04 Российский рубль                                                                                                                                                                                                                          | 28.02.2017 11:18 (МСК)                                                                                                                                                                                                                               | \n",
       "\n",
       "\n"
      ],
      "text/plain": [
       "  Информация о контракте                                                                                                                                                                                                                              \n",
       "1 Сведения о заключении контракта на электронной площадке от 28.02.2017 № 0328300172416000002_302193\\n                                \\n                                на основании документа:\\n                                0328300172416000002-3\n",
       "  Заказчик, с которым заключен контракт                                                               \n",
       "1 МУНИЦИПАЛЬНОЕ БЮДЖЕТНОЕ УЧРЕЖДЕНИЕ КЛЯЗЬМИНСКОЕ СЕЛЬСКОЕ ПОСЕЛЕНИЕ КОВРОВСКОГО РАЙОНА \"КЛЯЗЬМИНСКОЕ\"\n",
       "  Поставщик, с которым заключен контракт               \n",
       "1 общество с ограниченной ответственностью \"СВОЕ ВРЕМЯ\"\n",
       "  Цена контракта              Дата и время получения в ЕИС\n",
       "1 557 690,04 Российский рубль 28.02.2017 11:18 (МСК)      "
      ]
     },
     "metadata": {},
     "output_type": "display_data"
    }
   ],
   "source": [
    "tables_list_2[[8]][[3]][[3]]"
   ]
  },
  {
   "cell_type": "code",
   "execution_count": 919,
   "metadata": {
    "ExecuteTime": {
     "end_time": "2019-10-01T17:50:00.018580Z",
     "start_time": "2019-10-01T17:49:59.936Z"
    }
   },
   "outputs": [
    {
     "data": {
      "text/html": [
       "Общество с ограниченной ответственностью «Авто-Тракт Коммерческий Транспорт»(2)\n",
       "<details>\n",
       "\t<summary style=display:list-item;cursor:pointer>\n",
       "\t\t<strong>Levels</strong>:\n",
       "\t</summary>\n",
       "\t'Общество с ограниченной ответственностью «Авто-Тракт Коммерческий Транспорт»(2)'\n",
       "</details>"
      ],
      "text/latex": [
       "Общество с ограниченной ответственностью «Авто-Тракт Коммерческий Транспорт»(2)\n",
       "\\emph{Levels}: 'Общество с ограниченной ответственностью «Авто-Тракт Коммерческий Транспорт»(2)'"
      ],
      "text/markdown": [
       "Общество с ограниченной ответственностью «Авто-Тракт Коммерческий Транспорт»(2)\n",
       "**Levels**: 'Общество с ограниченной ответственностью «Авто-Тракт Коммерческий Транспорт»(2)'"
      ],
      "text/plain": [
       "[1] Общество с ограниченной ответственностью «Авто-Тракт Коммерческий Транспорт»(2)\n",
       "Levels: Общество с ограниченной ответственностью «Авто-Тракт Коммерческий Транспорт»(2)"
      ]
     },
     "metadata": {},
     "output_type": "display_data"
    }
   ],
   "source": [
    "tables_list_2[[4]][[3]][[2]][3,3]"
   ]
  },
  {
   "cell_type": "code",
   "execution_count": 920,
   "metadata": {
    "ExecuteTime": {
     "end_time": "2019-10-01T17:50:05.750223Z",
     "start_time": "2019-10-01T17:50:05.542Z"
    }
   },
   "outputs": [],
   "source": [
    "numbid  <- c()\n",
    "smth  <-  c()\n",
    "realprice  <-  c()\n",
    "\n",
    "for (i in 1:length(tables_list_2)){\n",
    "    \n",
    "    numbid  <- c(numbid, dim(tables_list_2[[i]][[3]][[2]])[1]-2 )\n",
    "    \n",
    "    tab_tmp  <-  tables_list_2[[i]][[3]][[2]]\n",
    "    \n",
    "    smth  <-  c(smth, as.character(tab_tmp[3,3]) )\n",
    "    \n",
    "\n",
    "    tab_tmp  <-  tables_list_2[[i]][[3]][[3]]\n",
    "    \n",
    "    if ( length(as.character(tab_tmp[1, 4]) !=0)){\n",
    "        realprice  <-  c(realprice, as.character(tab_tmp[1, 4]))\n",
    "    }else{\n",
    "        realprice  <-  c(realprice, NA)\n",
    "    }\n",
    " \n",
    "}\n"
   ]
  },
  {
   "cell_type": "code",
   "execution_count": 921,
   "metadata": {
    "ExecuteTime": {
     "end_time": "2019-10-01T17:50:06.206545Z",
     "start_time": "2019-10-01T17:50:06.165Z"
    }
   },
   "outputs": [],
   "source": [
    "goszak_df_kolich_3['number_of_bids'] = numbid\n"
   ]
  },
  {
   "cell_type": "code",
   "execution_count": 922,
   "metadata": {
    "ExecuteTime": {
     "end_time": "2019-10-01T17:50:08.952979Z",
     "start_time": "2019-10-01T17:50:08.806Z"
    }
   },
   "outputs": [],
   "source": [
    "smsms  <-  c()\n",
    "for (i in smth){\n",
    "    if(str_detect(i,'ни одной заявки' )){\n",
    "        smsms  <- c(smsms, 0)\n",
    "        \n",
    "    }else if (str_detect(i,'только одного участника закупки' )|str_detect(i,'несоответствии требованиям' )){\n",
    "        smsms  <- c(smsms, 1)\n",
    "    }else{\n",
    "        smsms  <- c(smsms, 0)\n",
    "    }\n",
    "}"
   ]
  },
  {
   "cell_type": "code",
   "execution_count": null,
   "metadata": {
    "ExecuteTime": {
     "end_time": "2019-10-01T17:42:49.827299Z",
     "start_time": "2019-10-01T17:42:49.761Z"
    }
   },
   "outputs": [],
   "source": []
  },
  {
   "cell_type": "code",
   "execution_count": 923,
   "metadata": {
    "ExecuteTime": {
     "end_time": "2019-10-01T17:50:12.990548Z",
     "start_time": "2019-10-01T17:50:12.957Z"
    }
   },
   "outputs": [],
   "source": [
    "goszak_df_kolich_3[which(smth == 'По результатам рассмотрения первых частей заявок к участию в аукционе не допущено ни одной заявки (ч. 8 ст. 67)'), ]$completed_car_purchase = rep(0,3)"
   ]
  },
  {
   "cell_type": "code",
   "execution_count": 924,
   "metadata": {
    "ExecuteTime": {
     "end_time": "2019-10-01T17:50:14.050364Z",
     "start_time": "2019-10-01T17:50:14.029Z"
    }
   },
   "outputs": [],
   "source": [
    "goszak_df_kolich_3[which(smth == 'По окончании срока подачи заявок не подано ни одной заявки (ч. 16 ст. 66 44-ФЗ)'), ]$completed_car_purchase = rep(0,162)"
   ]
  },
  {
   "cell_type": "code",
   "execution_count": 925,
   "metadata": {
    "ExecuteTime": {
     "end_time": "2019-10-01T17:50:18.344838Z",
     "start_time": "2019-10-01T17:50:18.290Z"
    }
   },
   "outputs": [
    {
     "data": {
      "text/html": [
       "<table>\n",
       "<thead><tr><th scope=col>new_index</th><th scope=col>X__1</th><th scope=col>n</th><th scope=col>index_name</th><th scope=col>all_indexes</th><th scope=col>purchase_number</th><th scope=col>done</th><th scope=col>completed_car_purchase</th><th scope=col>price</th><th scope=col>price_per_one</th><th scope=col>⋯</th><th scope=col>максимальная_скорость</th><th scope=col>масса_авто_снаряженная</th><th scope=col>год_выпуска</th><th scope=col>мощность_л_с</th><th scope=col>потребление_топлива_городской_цикл_л_100км</th><th scope=col>filename</th><th scope=col>sha_id</th><th scope=col>kolichetvo_uch</th><th scope=col>zaversch</th><th scope=col>number_of_bids</th></tr></thead>\n",
       "<tbody>\n",
       "\t<tr><td>377                                                                 </td><td>453                                                                 </td><td>7642                                                                </td><td>829                                                                 </td><td>829                                                                 </td><td>0179200001917000063                                                 </td><td>NA                                                                  </td><td>1.0                                                                 </td><td>1500000                                                             </td><td>1500000                                                             </td><td>⋯                                                                   </td><td>NA                                                                  </td><td>NA                                                                  </td><td>NA                                                                  </td><td>NA                                                                  </td><td>NA                                                                  </td><td>32965a6e9ee7ddf55e8e2b1311269939dccebf148c4c33097afd6ade39f6c2a4.doc</td><td>32965a6e9ee7ddf55e8e2b1311269939dccebf148c4c33097afd6ade39f6c2a4    </td><td>1                                                                   </td><td>1                                                                   </td><td>2                                                                   </td></tr>\n",
       "</tbody>\n",
       "</table>\n"
      ],
      "text/latex": [
       "\\begin{tabular}{r|lllllllllllllllllllllllllllllll}\n",
       " new\\_index & X\\_\\_1 & n & index\\_name & all\\_indexes & purchase\\_number & done & completed\\_car\\_purchase & price & price\\_per\\_one & ⋯ & максимальная\\_скорость & масса\\_авто\\_снаряженная & год\\_выпуска & мощность\\_л\\_с & потребление\\_топлива\\_городской\\_цикл\\_л\\_100км & filename & sha\\_id & kolichetvo\\_uch & zaversch & number\\_of\\_bids\\\\\n",
       "\\hline\n",
       "\t 377                                                                  & 453                                                                  & 7642                                                                 & 829                                                                  & 829                                                                  & 0179200001917000063                                                  & NA                                                                   & 1.0                                                                  & 1500000                                                              & 1500000                                                              & ⋯                                                                    & NA                                                                   & NA                                                                   & NA                                                                   & NA                                                                   & NA                                                                   & 32965a6e9ee7ddf55e8e2b1311269939dccebf148c4c33097afd6ade39f6c2a4.doc & 32965a6e9ee7ddf55e8e2b1311269939dccebf148c4c33097afd6ade39f6c2a4     & 1                                                                    & 1                                                                    & 2                                                                   \\\\\n",
       "\\end{tabular}\n"
      ],
      "text/markdown": [
       "\n",
       "new_index | X__1 | n | index_name | all_indexes | purchase_number | done | completed_car_purchase | price | price_per_one | ⋯ | максимальная_скорость | масса_авто_снаряженная | год_выпуска | мощность_л_с | потребление_топлива_городской_цикл_л_100км | filename | sha_id | kolichetvo_uch | zaversch | number_of_bids | \n",
       "|---|\n",
       "| 377                                                                  | 453                                                                  | 7642                                                                 | 829                                                                  | 829                                                                  | 0179200001917000063                                                  | NA                                                                   | 1.0                                                                  | 1500000                                                              | 1500000                                                              | ⋯                                                                    | NA                                                                   | NA                                                                   | NA                                                                   | NA                                                                   | NA                                                                   | 32965a6e9ee7ddf55e8e2b1311269939dccebf148c4c33097afd6ade39f6c2a4.doc | 32965a6e9ee7ddf55e8e2b1311269939dccebf148c4c33097afd6ade39f6c2a4     | 1                                                                    | 1                                                                    | 2                                                                    | \n",
       "\n",
       "\n"
      ],
      "text/plain": [
       "  new_index X__1 n    index_name all_indexes purchase_number     done\n",
       "1 377       453  7642 829        829         0179200001917000063 NA  \n",
       "  completed_car_purchase price   price_per_one ⋯ максимальная_скорость\n",
       "1 1.0                    1500000 1500000       ⋯ NA                   \n",
       "  масса_авто_снаряженная год_выпуска мощность_л_с\n",
       "1 NA                     NA          NA          \n",
       "  потребление_топлива_городской_цикл_л_100км\n",
       "1 NA                                        \n",
       "  filename                                                            \n",
       "1 32965a6e9ee7ddf55e8e2b1311269939dccebf148c4c33097afd6ade39f6c2a4.doc\n",
       "  sha_id                                                          \n",
       "1 32965a6e9ee7ddf55e8e2b1311269939dccebf148c4c33097afd6ade39f6c2a4\n",
       "  kolichetvo_uch zaversch number_of_bids\n",
       "1 1              1        2             "
      ]
     },
     "metadata": {},
     "output_type": "display_data"
    }
   ],
   "source": [
    "goszak_df_kolich_3[goszak_df_kolich_3['kolichetvo_uch'] == 1 & goszak_df_kolich_3['number_of_bids']!=1, ]"
   ]
  },
  {
   "cell_type": "code",
   "execution_count": 926,
   "metadata": {
    "ExecuteTime": {
     "end_time": "2019-10-01T17:50:21.843244Z",
     "start_time": "2019-10-01T17:50:21.742Z"
    }
   },
   "outputs": [],
   "source": [
    "re_price  <-  c()\n",
    "\n",
    "for (i in realprice){\n",
    "    k = gsub(\"[^0-9.-]\",\"\",gsub(\",\",\".\", as.character(i), fixed = TRUE))\n",
    "    re_price  <-  c(re_price, k)\n",
    "\n",
    "}\n"
   ]
  },
  {
   "cell_type": "code",
   "execution_count": 927,
   "metadata": {
    "ExecuteTime": {
     "end_time": "2019-10-01T17:50:23.476811Z",
     "start_time": "2019-10-01T17:50:23.448Z"
    }
   },
   "outputs": [],
   "source": [
    "# goszak_df_kolich_3  "
   ]
  },
  {
   "cell_type": "code",
   "execution_count": 928,
   "metadata": {
    "ExecuteTime": {
     "end_time": "2019-10-01T17:50:24.647695Z",
     "start_time": "2019-10-01T17:50:24.607Z"
    }
   },
   "outputs": [],
   "source": [
    "goszak_df_kolich_3['the_real_price'] = re_price\n"
   ]
  },
  {
   "cell_type": "code",
   "execution_count": 929,
   "metadata": {
    "ExecuteTime": {
     "end_time": "2019-10-01T17:50:25.769887Z",
     "start_time": "2019-10-01T17:50:25.722Z"
    }
   },
   "outputs": [
    {
     "data": {
      "text/html": [
       "<ol class=list-inline>\n",
       "\t<li>1007</li>\n",
       "\t<li>32</li>\n",
       "</ol>\n"
      ],
      "text/latex": [
       "\\begin{enumerate*}\n",
       "\\item 1007\n",
       "\\item 32\n",
       "\\end{enumerate*}\n"
      ],
      "text/markdown": [
       "1. 1007\n",
       "2. 32\n",
       "\n",
       "\n"
      ],
      "text/plain": [
       "[1] 1007   32"
      ]
     },
     "metadata": {},
     "output_type": "display_data"
    }
   ],
   "source": [
    "goszak_df_kolich_3  %>%  dim()"
   ]
  },
  {
   "cell_type": "code",
   "execution_count": null,
   "metadata": {},
   "outputs": [],
   "source": []
  },
  {
   "cell_type": "code",
   "execution_count": 930,
   "metadata": {
    "ExecuteTime": {
     "end_time": "2019-10-01T17:50:32.350060Z",
     "start_time": "2019-10-01T17:50:32.311Z"
    }
   },
   "outputs": [],
   "source": [
    "goszak_df_kolich_3[is.na(goszak_df_kolich_3['the_real_price'] ) , ]$completed_car_purchase = rep(0,223)"
   ]
  },
  {
   "cell_type": "code",
   "execution_count": 944,
   "metadata": {
    "ExecuteTime": {
     "end_time": "2019-10-01T17:56:01.657761Z",
     "start_time": "2019-10-01T17:56:01.618Z"
    }
   },
   "outputs": [],
   "source": [
    "# goszak_df_kolich_3\n",
    "\n",
    "goszak_df_kolich_3['num_of_bb'] = goszak_df_kolich_3['number_of_bids'] - smsms "
   ]
  },
  {
   "cell_type": "code",
   "execution_count": 945,
   "metadata": {
    "ExecuteTime": {
     "end_time": "2019-10-01T17:56:04.825410Z",
     "start_time": "2019-10-01T17:56:04.795Z"
    }
   },
   "outputs": [],
   "source": [
    "goszak_df_kolich_4 = goszak_df_kolich_3[goszak_df_kolich_3$completed_car_purchase !=0|is.na(goszak_df_kolich_3$completed_car_purchase), ] "
   ]
  },
  {
   "cell_type": "code",
   "execution_count": 948,
   "metadata": {
    "ExecuteTime": {
     "end_time": "2019-10-01T17:56:31.514991Z",
     "start_time": "2019-10-01T17:56:31.482Z"
    }
   },
   "outputs": [],
   "source": [
    "# goszak_df_kolich_4[goszak_df_kolich_4['num_of_bb'] == 0, ]"
   ]
  },
  {
   "cell_type": "code",
   "execution_count": 939,
   "metadata": {
    "ExecuteTime": {
     "end_time": "2019-10-01T17:53:55.133003Z",
     "start_time": "2019-10-01T17:53:55.092Z"
    }
   },
   "outputs": [
    {
     "data": {
      "text/html": [
       "<ol class=list-inline>\n",
       "\t<li>784</li>\n",
       "\t<li>32</li>\n",
       "</ol>\n"
      ],
      "text/latex": [
       "\\begin{enumerate*}\n",
       "\\item 784\n",
       "\\item 32\n",
       "\\end{enumerate*}\n"
      ],
      "text/markdown": [
       "1. 784\n",
       "2. 32\n",
       "\n",
       "\n"
      ],
      "text/plain": [
       "[1] 784  32"
      ]
     },
     "metadata": {},
     "output_type": "display_data"
    }
   ],
   "source": [
    "# goszak_df_kolich_3[goszak_df_kolich_3$completed_car_purchase =='1.0'|is.na(goszak_df_kolich_3$completed_car_purchase), ]  %>%  dim"
   ]
  },
  {
   "cell_type": "code",
   "execution_count": 950,
   "metadata": {
    "ExecuteTime": {
     "end_time": "2019-10-01T17:56:58.513955Z",
     "start_time": "2019-10-01T17:56:58.485Z"
    }
   },
   "outputs": [],
   "source": [
    "# goszak_df_kolich_3[goszak_df_kolich_3['number_of_bids'] ==2 & goszak_df_kolich_3['num_of_bb'] ==1 , ]"
   ]
  },
  {
   "cell_type": "code",
   "execution_count": 952,
   "metadata": {
    "ExecuteTime": {
     "end_time": "2019-10-01T17:57:34.622676Z",
     "start_time": "2019-10-01T17:57:34.577Z"
    }
   },
   "outputs": [
    {
     "data": {
      "text/html": [
       "0.423038728897716"
      ],
      "text/latex": [
       "0.423038728897716"
      ],
      "text/markdown": [
       "0.423038728897716"
      ],
      "text/plain": [
       "[1] 0.4230387"
      ]
     },
     "metadata": {},
     "output_type": "display_data"
    }
   ],
   "source": [
    "length(zakaz[gru_ch == '1']) / length(gru_ch)"
   ]
  },
  {
   "cell_type": "code",
   "execution_count": 953,
   "metadata": {
    "ExecuteTime": {
     "end_time": "2019-10-01T17:59:29.742949Z",
     "start_time": "2019-10-01T17:59:29.702Z"
    }
   },
   "outputs": [
    {
     "data": {
      "text/html": [
       "<ol class=list-inline>\n",
       "\t<li>784</li>\n",
       "\t<li>33</li>\n",
       "</ol>\n"
      ],
      "text/latex": [
       "\\begin{enumerate*}\n",
       "\\item 784\n",
       "\\item 33\n",
       "\\end{enumerate*}\n"
      ],
      "text/markdown": [
       "1. 784\n",
       "2. 33\n",
       "\n",
       "\n"
      ],
      "text/plain": [
       "[1] 784  33"
      ]
     },
     "metadata": {},
     "output_type": "display_data"
    }
   ],
   "source": [
    "goszak_df_kolich_4  %>%  dim()"
   ]
  },
  {
   "cell_type": "code",
   "execution_count": 956,
   "metadata": {
    "ExecuteTime": {
     "end_time": "2019-10-01T18:04:25.333944Z",
     "start_time": "2019-10-01T18:04:25.299Z"
    }
   },
   "outputs": [],
   "source": [
    "# goszak_df_kolich_4"
   ]
  },
  {
   "cell_type": "code",
   "execution_count": 954,
   "metadata": {
    "ExecuteTime": {
     "end_time": "2019-10-01T17:59:57.095379Z",
     "start_time": "2019-10-01T17:59:45.255Z"
    }
   },
   "outputs": [],
   "source": [
    "write.xlsx(goszak_df_kolich_4, 'goszak_complete.xlsx')"
   ]
  },
  {
   "cell_type": "code",
   "execution_count": null,
   "metadata": {},
   "outputs": [],
   "source": []
  }
 ],
 "metadata": {
  "hide_input": false,
  "kernelspec": {
   "display_name": "R 3.5.1",
   "language": "R",
   "name": "ir"
  },
  "language_info": {
   "codemirror_mode": "r",
   "file_extension": ".r",
   "mimetype": "text/x-r-source",
   "name": "R",
   "pygments_lexer": "r",
   "version": "3.5.2"
  },
  "latex_envs": {
   "LaTeX_envs_menu_present": true,
   "autoclose": true,
   "autocomplete": true,
   "bibliofile": "biblio.bib",
   "cite_by": "apalike",
   "current_citInitial": 1,
   "eqLabelWithNumbers": true,
   "eqNumInitial": 1,
   "hotkeys": {
    "equation": "Ctrl-E",
    "itemize": "Ctrl-I"
   },
   "labels_anchors": false,
   "latex_user_defs": false,
   "report_style_numbering": false,
   "user_envs_cfg": false
  },
  "toc": {
   "base_numbering": 1,
   "nav_menu": {},
   "number_sections": true,
   "sideBar": true,
   "skip_h1_title": false,
   "title_cell": "Table of Contents",
   "title_sidebar": "Contents",
   "toc_cell": false,
   "toc_position": {},
   "toc_section_display": true,
   "toc_window_display": false
  },
  "varInspector": {
   "cols": {
    "lenName": 16,
    "lenType": 16,
    "lenVar": 40
   },
   "kernels_config": {
    "python": {
     "delete_cmd_postfix": "",
     "delete_cmd_prefix": "del ",
     "library": "var_list.py",
     "varRefreshCmd": "print(var_dic_list())"
    },
    "r": {
     "delete_cmd_postfix": ") ",
     "delete_cmd_prefix": "rm(",
     "library": "var_list.r",
     "varRefreshCmd": "cat(var_dic_list()) "
    }
   },
   "types_to_exclude": [
    "module",
    "function",
    "builtin_function_or_method",
    "instance",
    "_Feature"
   ],
   "window_display": false
  }
 },
 "nbformat": 4,
 "nbformat_minor": 2
}
