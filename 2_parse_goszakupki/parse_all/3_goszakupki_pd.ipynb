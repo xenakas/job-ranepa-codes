{
 "cells": [
  {
   "cell_type": "code",
   "execution_count": 1,
   "metadata": {
    "ExecuteTime": {
     "end_time": "2019-10-21T14:22:47.785116Z",
     "start_time": "2019-10-21T14:22:47.317360Z"
    }
   },
   "outputs": [],
   "source": [
    "import pandas as pd"
   ]
  },
  {
   "cell_type": "code",
   "execution_count": 2,
   "metadata": {
    "ExecuteTime": {
     "end_time": "2019-10-21T14:22:47.835012Z",
     "start_time": "2019-10-21T14:22:47.789940Z"
    }
   },
   "outputs": [],
   "source": [
    "df_auc = pd.read_csv('check_selen.csv', index_col=0)"
   ]
  },
  {
   "cell_type": "code",
   "execution_count": 3,
   "metadata": {
    "ExecuteTime": {
     "end_time": "2019-10-21T14:22:52.444219Z",
     "start_time": "2019-10-21T14:22:48.264191Z"
    }
   },
   "outputs": [],
   "source": [
    "df_all = pd.read_excel('1_small_goszak_no_duplicates.xlsx')"
   ]
  },
  {
   "cell_type": "code",
   "execution_count": 4,
   "metadata": {
    "ExecuteTime": {
     "end_time": "2019-10-21T14:22:52.487219Z",
     "start_time": "2019-10-21T14:22:52.471319Z"
    }
   },
   "outputs": [],
   "source": [
    "df_auc['col1'] = df_auc['col1'].replace('nan', np.nan)\n",
    "df_auc['col1'] = df_auc['col1'].replace('Закупка завершена', 1)\n",
    "df_auc['col1'] = df_auc['col1'].replace('Работа комиссии', 1)\n",
    "df_auc['col1'] = df_auc['col1'].replace('Закупка отменена', 0)\n",
    "df_auc['col1'] = df_auc['col1'].replace('Процедура отменена', 0)\n",
    "df_auc['col1'] = df_auc['col1'].replace('Поиск не дал результатов', np.nan)"
   ]
  },
  {
   "cell_type": "code",
   "execution_count": 5,
   "metadata": {
    "ExecuteTime": {
     "end_time": "2019-10-21T14:22:52.513621Z",
     "start_time": "2019-10-21T14:22:52.511891Z"
    }
   },
   "outputs": [],
   "source": [
    "# df_auc.iloc[30:40,:]"
   ]
  },
  {
   "cell_type": "code",
   "execution_count": 6,
   "metadata": {
    "ExecuteTime": {
     "end_time": "2019-10-21T14:22:52.547290Z",
     "start_time": "2019-10-21T14:22:52.538186Z"
    }
   },
   "outputs": [
    {
     "data": {
      "text/plain": [
       "array([ 1., nan,  0.])"
      ]
     },
     "execution_count": 6,
     "metadata": {},
     "output_type": "execute_result"
    }
   ],
   "source": [
    "df_auc['col1'].unique()"
   ]
  },
  {
   "cell_type": "code",
   "execution_count": 7,
   "metadata": {
    "ExecuteTime": {
     "end_time": "2019-10-21T14:22:52.585272Z",
     "start_time": "2019-10-21T14:22:52.573836Z"
    }
   },
   "outputs": [],
   "source": [
    "df_all['zaversh_auc'] = df_auc['col1']"
   ]
  },
  {
   "cell_type": "code",
   "execution_count": 8,
   "metadata": {
    "ExecuteTime": {
     "end_time": "2019-10-21T14:22:52.614360Z",
     "start_time": "2019-10-21T14:22:52.611283Z"
    }
   },
   "outputs": [
    {
     "data": {
      "text/plain": [
       "(16954, 38)"
      ]
     },
     "execution_count": 8,
     "metadata": {},
     "output_type": "execute_result"
    }
   ],
   "source": [
    "df_all.shape"
   ]
  },
  {
   "cell_type": "code",
   "execution_count": 9,
   "metadata": {
    "ExecuteTime": {
     "end_time": "2019-10-21T14:22:52.655418Z",
     "start_time": "2019-10-21T14:22:52.639881Z"
    }
   },
   "outputs": [
    {
     "data": {
      "text/plain": [
       "(16350, 38)"
      ]
     },
     "execution_count": 9,
     "metadata": {},
     "output_type": "execute_result"
    }
   ],
   "source": [
    "df_all[df_all['zaversh_auc'] != 0].shape"
   ]
  },
  {
   "cell_type": "code",
   "execution_count": 10,
   "metadata": {
    "ExecuteTime": {
     "end_time": "2019-10-21T14:22:52.689029Z",
     "start_time": "2019-10-21T14:22:52.682080Z"
    }
   },
   "outputs": [],
   "source": [
    "df_all = df_all[df_all['zaversh_auc'] != 0]"
   ]
  },
  {
   "cell_type": "code",
   "execution_count": 11,
   "metadata": {
    "ExecuteTime": {
     "end_time": "2019-10-21T14:22:52.717727Z",
     "start_time": "2019-10-21T14:22:52.713656Z"
    }
   },
   "outputs": [],
   "source": [
    "df_auc = df_auc[df_auc['col1'] != 0]\n"
   ]
  },
  {
   "cell_type": "code",
   "execution_count": 12,
   "metadata": {
    "ExecuteTime": {
     "end_time": "2019-10-21T14:22:52.745314Z",
     "start_time": "2019-10-21T14:22:52.742646Z"
    }
   },
   "outputs": [],
   "source": [
    "df_auc = df_auc.copy()"
   ]
  },
  {
   "cell_type": "code",
   "execution_count": 13,
   "metadata": {
    "ExecuteTime": {
     "end_time": "2019-10-21T14:22:52.784590Z",
     "start_time": "2019-10-21T14:22:52.782981Z"
    }
   },
   "outputs": [],
   "source": [
    "# df_auc"
   ]
  },
  {
   "cell_type": "code",
   "execution_count": 14,
   "metadata": {
    "ExecuteTime": {
     "end_time": "2019-10-21T14:22:52.824021Z",
     "start_time": "2019-10-21T14:22:52.821573Z"
    }
   },
   "outputs": [],
   "source": [
    "df_auc['auto_dummy'] = np.nan"
   ]
  },
  {
   "cell_type": "code",
   "execution_count": 15,
   "metadata": {
    "ExecuteTime": {
     "end_time": "2019-10-21T14:22:52.856569Z",
     "start_time": "2019-10-21T14:22:52.850493Z"
    }
   },
   "outputs": [],
   "source": [
    "df_auc.iloc[:,1] = df_auc.iloc[:,1].fillna('check_again')"
   ]
  },
  {
   "cell_type": "code",
   "execution_count": 16,
   "metadata": {
    "ExecuteTime": {
     "end_time": "2019-10-21T14:22:52.889470Z",
     "start_time": "2019-10-21T14:22:52.882335Z"
    }
   },
   "outputs": [],
   "source": [
    "df_auc.loc[df_auc['col2']=='check_again', 'auto_dummy'] = 'is_nan'"
   ]
  },
  {
   "cell_type": "code",
   "execution_count": 17,
   "metadata": {
    "ExecuteTime": {
     "end_time": "2019-10-21T14:22:52.917953Z",
     "start_time": "2019-10-21T14:22:52.915912Z"
    }
   },
   "outputs": [],
   "source": [
    "# df_auc['auto_dummy'].unique()"
   ]
  },
  {
   "cell_type": "code",
   "execution_count": 18,
   "metadata": {
    "ExecuteTime": {
     "end_time": "2019-10-21T14:22:52.949699Z",
     "start_time": "2019-10-21T14:22:52.947599Z"
    }
   },
   "outputs": [],
   "source": [
    "# df_auc[~df_auc['auto_dummy'].isna()]"
   ]
  },
  {
   "cell_type": "code",
   "execution_count": 19,
   "metadata": {
    "ExecuteTime": {
     "end_time": "2019-10-21T14:22:52.984430Z",
     "start_time": "2019-10-21T14:22:52.978206Z"
    }
   },
   "outputs": [],
   "source": [
    "df_auc['auto2'] = [('услу' in i) for i in df_auc.iloc[:,1]]\n"
   ]
  },
  {
   "cell_type": "code",
   "execution_count": 20,
   "metadata": {
    "ExecuteTime": {
     "end_time": "2019-10-21T14:22:53.548886Z",
     "start_time": "2019-10-21T14:22:53.533601Z"
    }
   },
   "outputs": [],
   "source": [
    "df_auc.loc[df_auc['auto2']==True,  'auto_dummy'] = 0"
   ]
  },
  {
   "cell_type": "code",
   "execution_count": 21,
   "metadata": {
    "ExecuteTime": {
     "end_time": "2019-10-21T14:22:53.823641Z",
     "start_time": "2019-10-21T14:22:53.790507Z"
    }
   },
   "outputs": [],
   "source": [
    "df_auc['auto1'] = [(('Largus' in i) or   ('Octavia' in i)  or   ('пикап' in i)  or   ('Renau' in i) or   ('Лада' in i)  or ('Lada' in i)  or ('Duster' in i)  or ('DUSTER' in i)  or   ('электромобил' in i) or  ('фургон' in i)  or ('Фургон' in i)  or  ('Хантер' in i)  or   ('седан' in i) or ('внедорожн' in i) or ('Priora' in i) or  ('Hyundai' in i) or   ('кроссовер' in i) or ('легков' in i)  or ('ЛЕГКОВ' in i)  or ('Патриот' in i)  or ('ПАТРИОТ' in i)  or ('Patriot' in i)  or ('PATRIOT' in i)  or ('минивэн' in i)    ) for i in df_auc.iloc[:,1]]"
   ]
  },
  {
   "cell_type": "code",
   "execution_count": 22,
   "metadata": {
    "ExecuteTime": {
     "end_time": "2019-10-21T14:22:54.138906Z",
     "start_time": "2019-10-21T14:22:54.122010Z"
    }
   },
   "outputs": [],
   "source": [
    "df_auc.loc[(df_auc['auto_dummy'].isna()) & (df_auc['auto1']==True),  'auto_dummy'] = 1"
   ]
  },
  {
   "cell_type": "code",
   "execution_count": 23,
   "metadata": {
    "ExecuteTime": {
     "end_time": "2019-10-21T14:22:54.483480Z",
     "start_time": "2019-10-21T14:22:54.389961Z"
    }
   },
   "outputs": [],
   "source": [
    "df_auc['auto3'] = [(('автобус' in i) or ('Автобус' in i) or ('Микроавтобус' in i) or ('микроавтобус' in i)\n",
    "                    or ('Самосвалов' in i) or ('самосвал' in i)  or ('тягач' in i)   \n",
    "                    or ('фургон' in i) or ('грузопассажир' in i)  or ('грузо' in i)  or ('Грузо' in i) or   ('подъемн' in i) \n",
    "                    or ('осуществлять перевозку' in i)  or ('вакуумной' in i) or ('цистерна' in i) or   ('технологиче' in i) \n",
    "                    or ('снегоболотоход' in i) or ('водовоз' in i) or ('троллейб' in i)  or ('Троллейб' in i)  or ('УАЗ' in i) \n",
    "                    or ('осуществлять перевозку' in i) or ('комплекс' in i)  or ('обслуживани' in i)  or   ('реанимо' in i) \n",
    "                    or ('специал' in i) or ('лаборатор' in i)  or ('мобильного' in i)  or ('техники' in i)  or ('трактор' in i) \n",
    "                    or ('ГАЗ' in i) or ('автопоезд' in i)  or ('картинг' in i)  or ('лизинг' in i)  or ('Самосвал' in i)   or ('перевоз' in i) \n",
    "                    or ('авобуса' in i) or ('рефриж' in i) or ('КАМАЗ' in i)  or ('дорожной машины' in i)  or ('пассажиров' in i) \n",
    "                    or ('Газели' in i) or ('АВТОБУС' in i) or ('пакетов' in i) or ('мусоровоз' in i)  or ('автовышк' in i) \n",
    "                    or ('ГАЗели' in i)   or ('фермер' in i)  or ('Фермер' in i) or ('спецтехн' in i)  or ('топливо' in i)  or ('Техническ' in i) \n",
    "                    or ('экскаватора' in i) or ('технические сред' in i) or ('ассенизац' in i) or ('инвалид' in i)  or ('спасательной' in i) \n",
    "                    or ('эвакуатора' in i) or ('бункер' in i)  or ('мазут' in i)  or ('технического' in i)  or ('платформы' in i) \n",
    "                    or ('СТЕНДА' in i) or ('инвентаря' in i) or ('запчаст' in i) or ('Строительств' in i)  or ('Реанимо' in i) \n",
    "                    or ('трактора' in i) or ('Тягач' in i) or ('вездеход' in i) or ('Карт в сборе' in i) or ('дорожной техники' in i)\n",
    "                    or ('дезинфекционного пункта' in i)) for i in df_auc.iloc[:,1]]"
   ]
  },
  {
   "cell_type": "code",
   "execution_count": 24,
   "metadata": {
    "ExecuteTime": {
     "end_time": "2019-10-21T14:22:54.916228Z",
     "start_time": "2019-10-21T14:22:54.904550Z"
    }
   },
   "outputs": [],
   "source": [
    "df_auc.loc[(df_auc['auto_dummy'].isna()) & (df_auc['auto3']==True),  'auto_dummy'] = 0"
   ]
  },
  {
   "cell_type": "code",
   "execution_count": 25,
   "metadata": {
    "ExecuteTime": {
     "end_time": "2019-10-21T14:22:55.391862Z",
     "start_time": "2019-10-21T14:22:55.386762Z"
    }
   },
   "outputs": [],
   "source": [
    "# df_auc.loc[(df_auc['auto_dummy'] == 'is_nan') & (df_auc['auto3']==True),  'auto_dummy']  = 0"
   ]
  },
  {
   "cell_type": "code",
   "execution_count": 26,
   "metadata": {
    "ExecuteTime": {
     "end_time": "2019-10-21T14:22:55.912292Z",
     "start_time": "2019-10-21T14:22:55.867015Z"
    }
   },
   "outputs": [],
   "source": [
    "df_auc['auto4'] = [(('транспортных средств' in i) or ('транспортного средства' in i)\n",
    "                   or ('искровым зажиганием' in i) or ('искровым зажиганием' in i)\n",
    "                   or ('автотранспорт' in i) or ('АВТОТРАНСПОРТ' in i) or ('Автотранспорт' in i) or ('автомобил' in i) or ('Автомобил' in i) \n",
    "                   or ('автомашин' in i)   or ('АВТОМОБИЛ' in i)  \n",
    "                   or ('Средства транспортные' in i) or ('авторанспортного' in i)   or ('ТРАНСПОРТНОГО' in i)  \n",
    "                   or ('транспортные средства' in i) or ('оперативной' in i)  \n",
    "                   or ('Транспортное средство' in i)  or ('Процедура отменена' in i) \n",
    "                    or ('движимого имущества' in i)                    \n",
    "                   ) for i in df_auc.iloc[:,1]]"
   ]
  },
  {
   "cell_type": "code",
   "execution_count": 27,
   "metadata": {
    "ExecuteTime": {
     "end_time": "2019-10-21T14:22:56.289996Z",
     "start_time": "2019-10-21T14:22:56.272679Z"
    }
   },
   "outputs": [],
   "source": [
    "df_auc.loc[(df_auc['auto_dummy'].isna()) & (df_auc['auto4']==True),  'auto_dummy'] = 'is_nan'"
   ]
  },
  {
   "cell_type": "code",
   "execution_count": 28,
   "metadata": {
    "ExecuteTime": {
     "end_time": "2019-10-21T14:22:56.663800Z",
     "start_time": "2019-10-21T14:22:56.654681Z"
    }
   },
   "outputs": [],
   "source": [
    "df_auc.loc[(df_auc['auto_dummy'].isna()), 'auto_dummy'] = 0"
   ]
  },
  {
   "cell_type": "code",
   "execution_count": 29,
   "metadata": {
    "ExecuteTime": {
     "end_time": "2019-10-21T14:22:57.012313Z",
     "start_time": "2019-10-21T14:22:57.005892Z"
    }
   },
   "outputs": [
    {
     "data": {
      "text/plain": [
       "array([1, 0, 'is_nan'], dtype=object)"
      ]
     },
     "execution_count": 29,
     "metadata": {},
     "output_type": "execute_result"
    }
   ],
   "source": [
    "df_auc['auto_dummy'].unique()"
   ]
  },
  {
   "cell_type": "code",
   "execution_count": 30,
   "metadata": {
    "ExecuteTime": {
     "end_time": "2019-10-21T14:22:57.789124Z",
     "start_time": "2019-10-21T14:22:57.785620Z"
    }
   },
   "outputs": [],
   "source": [
    "df_all['auto_dummy'] = df_auc['auto_dummy']"
   ]
  },
  {
   "cell_type": "code",
   "execution_count": 31,
   "metadata": {
    "ExecuteTime": {
     "end_time": "2019-10-21T14:22:58.461628Z",
     "start_time": "2019-10-21T14:22:58.447693Z"
    }
   },
   "outputs": [],
   "source": [
    "df_all = df_all.loc[(df_all['auto_dummy'] == 1 ) | (df_all['auto_dummy'] == 'is_nan' ) , :]"
   ]
  },
  {
   "cell_type": "code",
   "execution_count": 32,
   "metadata": {
    "ExecuteTime": {
     "end_time": "2019-10-21T14:22:59.244140Z",
     "start_time": "2019-10-21T14:22:59.242289Z"
    }
   },
   "outputs": [],
   "source": [
    "# import xlwt"
   ]
  },
  {
   "cell_type": "code",
   "execution_count": null,
   "metadata": {},
   "outputs": [],
   "source": []
  },
  {
   "cell_type": "code",
   "execution_count": 33,
   "metadata": {
    "ExecuteTime": {
     "end_time": "2019-10-21T14:23:08.216694Z",
     "start_time": "2019-10-21T14:23:08.169302Z"
    }
   },
   "outputs": [
    {
     "data": {
      "text/html": [
       "<div>\n",
       "<style scoped>\n",
       "    .dataframe tbody tr th:only-of-type {\n",
       "        vertical-align: middle;\n",
       "    }\n",
       "\n",
       "    .dataframe tbody tr th {\n",
       "        vertical-align: top;\n",
       "    }\n",
       "\n",
       "    .dataframe thead th {\n",
       "        text-align: right;\n",
       "    }\n",
       "</style>\n",
       "<table border=\"1\" class=\"dataframe\">\n",
       "  <thead>\n",
       "    <tr style=\"text-align: right;\">\n",
       "      <th></th>\n",
       "      <th>index_no_dupes</th>\n",
       "      <th>index_name</th>\n",
       "      <th>price</th>\n",
       "      <th>колич_авто_в_закупке</th>\n",
       "      <th>коробка_передач</th>\n",
       "      <th>date</th>\n",
       "      <th>date2</th>\n",
       "      <th>date3</th>\n",
       "      <th>org_address</th>\n",
       "      <th>марка</th>\n",
       "      <th>...</th>\n",
       "      <th>потребление_топлива_городской_цикл_л_100км</th>\n",
       "      <th>auction</th>\n",
       "      <th>real_price</th>\n",
       "      <th>numb_bidders</th>\n",
       "      <th>purchase_number</th>\n",
       "      <th>filename</th>\n",
       "      <th>sha_id</th>\n",
       "      <th>all_indexes</th>\n",
       "      <th>zaversh_auc</th>\n",
       "      <th>auto_dummy</th>\n",
       "    </tr>\n",
       "  </thead>\n",
       "  <tbody>\n",
       "    <tr>\n",
       "      <td>1</td>\n",
       "      <td>2</td>\n",
       "      <td>1</td>\n",
       "      <td>915000.00</td>\n",
       "      <td>NaN</td>\n",
       "      <td>механика</td>\n",
       "      <td>2015</td>\n",
       "      <td>7</td>\n",
       "      <td>30T00:00:00Z</td>\n",
       "      <td>Камчатский край</td>\n",
       "      <td>uaz</td>\n",
       "      <td>...</td>\n",
       "      <td>NaN</td>\n",
       "      <td>NaN</td>\n",
       "      <td>NaN</td>\n",
       "      <td>NaN</td>\n",
       "      <td>338100005715000042</td>\n",
       "      <td>0a389ee2ad88111a10b3d5c856bbd193118c1aa3c4fd59...</td>\n",
       "      <td>0a389ee2ad88111a10b3d5c856bbd193118c1aa3c4fd59...</td>\n",
       "      <td>1</td>\n",
       "      <td>1.0</td>\n",
       "      <td>1</td>\n",
       "    </tr>\n",
       "    <tr>\n",
       "      <td>2</td>\n",
       "      <td>3</td>\n",
       "      <td>2</td>\n",
       "      <td>1163641.67</td>\n",
       "      <td>1.0</td>\n",
       "      <td>микропроцессорная</td>\n",
       "      <td>2015</td>\n",
       "      <td>4</td>\n",
       "      <td>06T00:00:00Z</td>\n",
       "      <td>Московская обл</td>\n",
       "      <td>NaN</td>\n",
       "      <td>...</td>\n",
       "      <td>NaN</td>\n",
       "      <td>NaN</td>\n",
       "      <td>NaN</td>\n",
       "      <td>NaN</td>\n",
       "      <td>148300015515000054</td>\n",
       "      <td>a5f6618a5e50eecab14373aa9d9908929adf7c281ac203...</td>\n",
       "      <td>a5f6618a5e50eecab14373aa9d9908929adf7c281ac203...</td>\n",
       "      <td>2, 22712</td>\n",
       "      <td>1.0</td>\n",
       "      <td>1</td>\n",
       "    </tr>\n",
       "    <tr>\n",
       "      <td>4</td>\n",
       "      <td>5</td>\n",
       "      <td>4</td>\n",
       "      <td>690000.00</td>\n",
       "      <td>1.0</td>\n",
       "      <td>механическая</td>\n",
       "      <td>2017</td>\n",
       "      <td>9</td>\n",
       "      <td>12T00:00:00+05:00</td>\n",
       "      <td>Башкортостан Респ</td>\n",
       "      <td>NaN</td>\n",
       "      <td>...</td>\n",
       "      <td>NaN</td>\n",
       "      <td>NaN</td>\n",
       "      <td>NaN</td>\n",
       "      <td>NaN</td>\n",
       "      <td>801300012817000114</td>\n",
       "      <td>f55d93499d9ad810771d351847759cef5700ce1771fa99...</td>\n",
       "      <td>f55d93499d9ad810771d351847759cef5700ce1771fa99...</td>\n",
       "      <td>4, 10251</td>\n",
       "      <td>1.0</td>\n",
       "      <td>is_nan</td>\n",
       "    </tr>\n",
       "    <tr>\n",
       "      <td>5</td>\n",
       "      <td>6</td>\n",
       "      <td>5</td>\n",
       "      <td>659990.00</td>\n",
       "      <td>1.0</td>\n",
       "      <td>механическая</td>\n",
       "      <td>2014</td>\n",
       "      <td>11</td>\n",
       "      <td>19T00:00:00+03:00</td>\n",
       "      <td>Ульяновская обл</td>\n",
       "      <td>уаз</td>\n",
       "      <td>...</td>\n",
       "      <td>NaN</td>\n",
       "      <td>NaN</td>\n",
       "      <td>NaN</td>\n",
       "      <td>NaN</td>\n",
       "      <td>168300002514000081</td>\n",
       "      <td>dc97c1a239109977eb74c084243d2e247395e4794011cb...</td>\n",
       "      <td>dc97c1a239109977eb74c084243d2e247395e4794011cb...</td>\n",
       "      <td>5, 13734, 19338</td>\n",
       "      <td>1.0</td>\n",
       "      <td>1</td>\n",
       "    </tr>\n",
       "    <tr>\n",
       "      <td>6</td>\n",
       "      <td>7</td>\n",
       "      <td>6</td>\n",
       "      <td>642000.00</td>\n",
       "      <td>1.0</td>\n",
       "      <td>NaN</td>\n",
       "      <td>2015</td>\n",
       "      <td>12</td>\n",
       "      <td>15T00:00:00Z</td>\n",
       "      <td>Нижегородская обл</td>\n",
       "      <td>NaN</td>\n",
       "      <td>...</td>\n",
       "      <td>NaN</td>\n",
       "      <td>NaN</td>\n",
       "      <td>NaN</td>\n",
       "      <td>NaN</td>\n",
       "      <td>832200006615000874</td>\n",
       "      <td>66319334ce0658b3880d87ca981c878811e93432886345...</td>\n",
       "      <td>66319334ce0658b3880d87ca981c878811e93432886345...</td>\n",
       "      <td>6, 13568, 16862, 19091, 24114</td>\n",
       "      <td>1.0</td>\n",
       "      <td>is_nan</td>\n",
       "    </tr>\n",
       "    <tr>\n",
       "      <td>...</td>\n",
       "      <td>...</td>\n",
       "      <td>...</td>\n",
       "      <td>...</td>\n",
       "      <td>...</td>\n",
       "      <td>...</td>\n",
       "      <td>...</td>\n",
       "      <td>...</td>\n",
       "      <td>...</td>\n",
       "      <td>...</td>\n",
       "      <td>...</td>\n",
       "      <td>...</td>\n",
       "      <td>...</td>\n",
       "      <td>...</td>\n",
       "      <td>...</td>\n",
       "      <td>...</td>\n",
       "      <td>...</td>\n",
       "      <td>...</td>\n",
       "      <td>...</td>\n",
       "      <td>...</td>\n",
       "      <td>...</td>\n",
       "      <td>...</td>\n",
       "    </tr>\n",
       "    <tr>\n",
       "      <td>16946</td>\n",
       "      <td>16947</td>\n",
       "      <td>25595</td>\n",
       "      <td>808000.00</td>\n",
       "      <td>NaN</td>\n",
       "      <td>NaN</td>\n",
       "      <td>2014</td>\n",
       "      <td>12</td>\n",
       "      <td>09T00:00:00+03:00</td>\n",
       "      <td>Адыгея Респ</td>\n",
       "      <td>NaN</td>\n",
       "      <td>...</td>\n",
       "      <td>NaN</td>\n",
       "      <td>NaN</td>\n",
       "      <td>NaN</td>\n",
       "      <td>NaN</td>\n",
       "      <td>176100004214000025</td>\n",
       "      <td>d9c246690ccbb26b7e0fc1c4cfad50a7911394310c9dbb...</td>\n",
       "      <td>d9c246690ccbb26b7e0fc1c4cfad50a7911394310c9dbb...</td>\n",
       "      <td>25595</td>\n",
       "      <td>1.0</td>\n",
       "      <td>1</td>\n",
       "    </tr>\n",
       "    <tr>\n",
       "      <td>16947</td>\n",
       "      <td>16948</td>\n",
       "      <td>25599</td>\n",
       "      <td>32054000.00</td>\n",
       "      <td>11.0</td>\n",
       "      <td>NaN</td>\n",
       "      <td>2015</td>\n",
       "      <td>5</td>\n",
       "      <td>15T00:00:00Z</td>\n",
       "      <td>Сахалинская обл</td>\n",
       "      <td>NaN</td>\n",
       "      <td>...</td>\n",
       "      <td>NaN</td>\n",
       "      <td>NaN</td>\n",
       "      <td>NaN</td>\n",
       "      <td>NaN</td>\n",
       "      <td>161200001715000235</td>\n",
       "      <td>7c9d53d8f21ca56b94eeb7adb1df1cfdc9043bad62819b...</td>\n",
       "      <td>7c9d53d8f21ca56b94eeb7adb1df1cfdc9043bad62819b...</td>\n",
       "      <td>25599</td>\n",
       "      <td>1.0</td>\n",
       "      <td>1</td>\n",
       "    </tr>\n",
       "    <tr>\n",
       "      <td>16948</td>\n",
       "      <td>16949</td>\n",
       "      <td>25603</td>\n",
       "      <td>1740233.00</td>\n",
       "      <td>1.0</td>\n",
       "      <td>NaN</td>\n",
       "      <td>2014</td>\n",
       "      <td>9</td>\n",
       "      <td>12T00:00:00+11:00</td>\n",
       "      <td>Сахалинская обл</td>\n",
       "      <td>NaN</td>\n",
       "      <td>...</td>\n",
       "      <td>NaN</td>\n",
       "      <td>NaN</td>\n",
       "      <td>NaN</td>\n",
       "      <td>NaN</td>\n",
       "      <td>161200001714000364</td>\n",
       "      <td>7fe0061609719f0b6a5bf2462f51d3f6eb0626229f0432...</td>\n",
       "      <td>7fe0061609719f0b6a5bf2462f51d3f6eb0626229f0432...</td>\n",
       "      <td>25603</td>\n",
       "      <td>1.0</td>\n",
       "      <td>is_nan</td>\n",
       "    </tr>\n",
       "    <tr>\n",
       "      <td>16951</td>\n",
       "      <td>16952</td>\n",
       "      <td>25607</td>\n",
       "      <td>2039666.67</td>\n",
       "      <td>1.0</td>\n",
       "      <td>NaN</td>\n",
       "      <td>2015</td>\n",
       "      <td>12</td>\n",
       "      <td>25T00:00:00Z</td>\n",
       "      <td>Москва</td>\n",
       "      <td>NaN</td>\n",
       "      <td>...</td>\n",
       "      <td>NaN</td>\n",
       "      <td>NaN</td>\n",
       "      <td>NaN</td>\n",
       "      <td>NaN</td>\n",
       "      <td>373200014215001182</td>\n",
       "      <td>f0277dc944575fcae6878ad4f3916ea841bb4c9a185d05...</td>\n",
       "      <td>f0277dc944575fcae6878ad4f3916ea841bb4c9a185d05...</td>\n",
       "      <td>25607</td>\n",
       "      <td>1.0</td>\n",
       "      <td>is_nan</td>\n",
       "    </tr>\n",
       "    <tr>\n",
       "      <td>16953</td>\n",
       "      <td>16954</td>\n",
       "      <td>25610</td>\n",
       "      <td>2181333.34</td>\n",
       "      <td>2.0</td>\n",
       "      <td>NaN</td>\n",
       "      <td>2015</td>\n",
       "      <td>12</td>\n",
       "      <td>14T00:00:00Z</td>\n",
       "      <td>Москва</td>\n",
       "      <td>NaN</td>\n",
       "      <td>...</td>\n",
       "      <td>NaN</td>\n",
       "      <td>NaN</td>\n",
       "      <td>NaN</td>\n",
       "      <td>NaN</td>\n",
       "      <td>373200067115000706</td>\n",
       "      <td>9f85a8c87b4d5464440cacc9dab68edf819f0a488c5335...</td>\n",
       "      <td>9f85a8c87b4d5464440cacc9dab68edf819f0a488c5335...</td>\n",
       "      <td>25610</td>\n",
       "      <td>1.0</td>\n",
       "      <td>1</td>\n",
       "    </tr>\n",
       "  </tbody>\n",
       "</table>\n",
       "<p>12220 rows × 39 columns</p>\n",
       "</div>"
      ],
      "text/plain": [
       "       index_no_dupes  index_name        price  колич_авто_в_закупке  \\\n",
       "1                   2           1    915000.00                   NaN   \n",
       "2                   3           2   1163641.67                   1.0   \n",
       "4                   5           4    690000.00                   1.0   \n",
       "5                   6           5    659990.00                   1.0   \n",
       "6                   7           6    642000.00                   1.0   \n",
       "...               ...         ...          ...                   ...   \n",
       "16946           16947       25595    808000.00                   NaN   \n",
       "16947           16948       25599  32054000.00                  11.0   \n",
       "16948           16949       25603   1740233.00                   1.0   \n",
       "16951           16952       25607   2039666.67                   1.0   \n",
       "16953           16954       25610   2181333.34                   2.0   \n",
       "\n",
       "         коробка_передач  date  date2              date3        org_address  \\\n",
       "1               механика  2015      7       30T00:00:00Z    Камчатский край   \n",
       "2      микропроцессорная  2015      4       06T00:00:00Z     Московская обл   \n",
       "4           механическая  2017      9  12T00:00:00+05:00  Башкортостан Респ   \n",
       "5           механическая  2014     11  19T00:00:00+03:00    Ульяновская обл   \n",
       "6                    NaN  2015     12       15T00:00:00Z  Нижегородская обл   \n",
       "...                  ...   ...    ...                ...                ...   \n",
       "16946                NaN  2014     12  09T00:00:00+03:00        Адыгея Респ   \n",
       "16947                NaN  2015      5       15T00:00:00Z    Сахалинская обл   \n",
       "16948                NaN  2014      9  12T00:00:00+11:00    Сахалинская обл   \n",
       "16951                NaN  2015     12       25T00:00:00Z             Москва   \n",
       "16953                NaN  2015     12       14T00:00:00Z             Москва   \n",
       "\n",
       "      марка  ... потребление_топлива_городской_цикл_л_100км auction  \\\n",
       "1       uaz  ...                                        NaN     NaN   \n",
       "2       NaN  ...                                        NaN     NaN   \n",
       "4       NaN  ...                                        NaN     NaN   \n",
       "5       уаз  ...                                        NaN     NaN   \n",
       "6       NaN  ...                                        NaN     NaN   \n",
       "...     ...  ...                                        ...     ...   \n",
       "16946   NaN  ...                                        NaN     NaN   \n",
       "16947   NaN  ...                                        NaN     NaN   \n",
       "16948   NaN  ...                                        NaN     NaN   \n",
       "16951   NaN  ...                                        NaN     NaN   \n",
       "16953   NaN  ...                                        NaN     NaN   \n",
       "\n",
       "      real_price numb_bidders     purchase_number  \\\n",
       "1            NaN          NaN  338100005715000042   \n",
       "2            NaN          NaN  148300015515000054   \n",
       "4            NaN          NaN  801300012817000114   \n",
       "5            NaN          NaN  168300002514000081   \n",
       "6            NaN          NaN  832200006615000874   \n",
       "...          ...          ...                 ...   \n",
       "16946        NaN          NaN  176100004214000025   \n",
       "16947        NaN          NaN  161200001715000235   \n",
       "16948        NaN          NaN  161200001714000364   \n",
       "16951        NaN          NaN  373200014215001182   \n",
       "16953        NaN          NaN  373200067115000706   \n",
       "\n",
       "                                                filename  \\\n",
       "1      0a389ee2ad88111a10b3d5c856bbd193118c1aa3c4fd59...   \n",
       "2      a5f6618a5e50eecab14373aa9d9908929adf7c281ac203...   \n",
       "4      f55d93499d9ad810771d351847759cef5700ce1771fa99...   \n",
       "5      dc97c1a239109977eb74c084243d2e247395e4794011cb...   \n",
       "6      66319334ce0658b3880d87ca981c878811e93432886345...   \n",
       "...                                                  ...   \n",
       "16946  d9c246690ccbb26b7e0fc1c4cfad50a7911394310c9dbb...   \n",
       "16947  7c9d53d8f21ca56b94eeb7adb1df1cfdc9043bad62819b...   \n",
       "16948  7fe0061609719f0b6a5bf2462f51d3f6eb0626229f0432...   \n",
       "16951  f0277dc944575fcae6878ad4f3916ea841bb4c9a185d05...   \n",
       "16953  9f85a8c87b4d5464440cacc9dab68edf819f0a488c5335...   \n",
       "\n",
       "                                                  sha_id  \\\n",
       "1      0a389ee2ad88111a10b3d5c856bbd193118c1aa3c4fd59...   \n",
       "2      a5f6618a5e50eecab14373aa9d9908929adf7c281ac203...   \n",
       "4      f55d93499d9ad810771d351847759cef5700ce1771fa99...   \n",
       "5      dc97c1a239109977eb74c084243d2e247395e4794011cb...   \n",
       "6      66319334ce0658b3880d87ca981c878811e93432886345...   \n",
       "...                                                  ...   \n",
       "16946  d9c246690ccbb26b7e0fc1c4cfad50a7911394310c9dbb...   \n",
       "16947  7c9d53d8f21ca56b94eeb7adb1df1cfdc9043bad62819b...   \n",
       "16948  7fe0061609719f0b6a5bf2462f51d3f6eb0626229f0432...   \n",
       "16951  f0277dc944575fcae6878ad4f3916ea841bb4c9a185d05...   \n",
       "16953  9f85a8c87b4d5464440cacc9dab68edf819f0a488c5335...   \n",
       "\n",
       "                         all_indexes  zaversh_auc  auto_dummy  \n",
       "1                                  1          1.0           1  \n",
       "2                           2, 22712          1.0           1  \n",
       "4                           4, 10251          1.0      is_nan  \n",
       "5                    5, 13734, 19338          1.0           1  \n",
       "6      6, 13568, 16862, 19091, 24114          1.0      is_nan  \n",
       "...                              ...          ...         ...  \n",
       "16946                          25595          1.0           1  \n",
       "16947                          25599          1.0           1  \n",
       "16948                          25603          1.0      is_nan  \n",
       "16951                          25607          1.0      is_nan  \n",
       "16953                          25610          1.0           1  \n",
       "\n",
       "[12220 rows x 39 columns]"
      ]
     },
     "execution_count": 33,
     "metadata": {},
     "output_type": "execute_result"
    }
   ],
   "source": [
    "df_all"
   ]
  },
  {
   "cell_type": "code",
   "execution_count": 48,
   "metadata": {
    "ExecuteTime": {
     "end_time": "2019-10-21T14:36:43.466811Z",
     "start_time": "2019-10-21T14:36:35.843314Z"
    }
   },
   "outputs": [],
   "source": [
    "df_all.to_excel('3_goszak_auto.xlsx')\n"
   ]
  },
  {
   "cell_type": "code",
   "execution_count": 34,
   "metadata": {
    "ExecuteTime": {
     "end_time": "2019-10-21T14:24:17.815427Z",
     "start_time": "2019-10-21T14:24:13.561357Z"
    }
   },
   "outputs": [],
   "source": [
    "df_all2 = pd.read_excel('1_small_goszak_no_duplicates.xlsx')"
   ]
  },
  {
   "cell_type": "code",
   "execution_count": 37,
   "metadata": {
    "ExecuteTime": {
     "end_time": "2019-10-21T14:25:06.955016Z",
     "start_time": "2019-10-21T14:25:06.951863Z"
    }
   },
   "outputs": [],
   "source": [
    "df_all2['zav_dummy'] = np.nan"
   ]
  },
  {
   "cell_type": "code",
   "execution_count": 41,
   "metadata": {
    "ExecuteTime": {
     "end_time": "2019-10-21T14:25:39.462516Z",
     "start_time": "2019-10-21T14:25:39.452303Z"
    }
   },
   "outputs": [
    {
     "data": {
      "text/plain": [
       "Int64Index([    1,     2,     4,     5,     6,     7,     8,     9,    11,\n",
       "               15,\n",
       "            ...\n",
       "            16939, 16940, 16941, 16942, 16943, 16946, 16947, 16948, 16951,\n",
       "            16953],\n",
       "           dtype='int64', length=12220)"
      ]
     },
     "execution_count": 41,
     "metadata": {},
     "output_type": "execute_result"
    }
   ],
   "source": [
    "\n"
   ]
  },
  {
   "cell_type": "code",
   "execution_count": 45,
   "metadata": {
    "ExecuteTime": {
     "end_time": "2019-10-21T14:26:19.009746Z",
     "start_time": "2019-10-21T14:26:19.006351Z"
    }
   },
   "outputs": [],
   "source": [
    "df_all2.iloc[df_all.index, -1] = 1"
   ]
  },
  {
   "cell_type": "code",
   "execution_count": 47,
   "metadata": {
    "ExecuteTime": {
     "end_time": "2019-10-21T14:27:14.963001Z",
     "start_time": "2019-10-21T14:27:04.639725Z"
    }
   },
   "outputs": [],
   "source": [
    "df_all2.to_excel('3_goszak_auto_2.xlsx')"
   ]
  },
  {
   "cell_type": "code",
   "execution_count": null,
   "metadata": {},
   "outputs": [],
   "source": []
  }
 ],
 "metadata": {
  "hide_input": false,
  "kernelspec": {
   "display_name": "Python 3.6 (for geoplots)",
   "language": "python",
   "name": "geoplots3.6"
  },
  "language_info": {
   "codemirror_mode": {
    "name": "ipython",
    "version": 3
   },
   "file_extension": ".py",
   "mimetype": "text/x-python",
   "name": "python",
   "nbconvert_exporter": "python",
   "pygments_lexer": "ipython3",
   "version": "3.6.7"
  },
  "latex_envs": {
   "LaTeX_envs_menu_present": true,
   "autoclose": true,
   "autocomplete": true,
   "bibliofile": "biblio.bib",
   "cite_by": "apalike",
   "current_citInitial": 1,
   "eqLabelWithNumbers": true,
   "eqNumInitial": 1,
   "hotkeys": {
    "equation": "Ctrl-E",
    "itemize": "Ctrl-I"
   },
   "labels_anchors": false,
   "latex_user_defs": false,
   "report_style_numbering": false,
   "user_envs_cfg": false
  },
  "toc": {
   "base_numbering": 1,
   "nav_menu": {},
   "number_sections": true,
   "sideBar": true,
   "skip_h1_title": false,
   "title_cell": "Table of Contents",
   "title_sidebar": "Contents",
   "toc_cell": false,
   "toc_position": {},
   "toc_section_display": true,
   "toc_window_display": false
  },
  "varInspector": {
   "cols": {
    "lenName": 16,
    "lenType": 16,
    "lenVar": 40
   },
   "kernels_config": {
    "python": {
     "delete_cmd_postfix": "",
     "delete_cmd_prefix": "del ",
     "library": "var_list.py",
     "varRefreshCmd": "print(var_dic_list())"
    },
    "r": {
     "delete_cmd_postfix": ") ",
     "delete_cmd_prefix": "rm(",
     "library": "var_list.r",
     "varRefreshCmd": "cat(var_dic_list()) "
    }
   },
   "types_to_exclude": [
    "module",
    "function",
    "builtin_function_or_method",
    "instance",
    "_Feature"
   ],
   "window_display": false
  }
 },
 "nbformat": 4,
 "nbformat_minor": 2
}
