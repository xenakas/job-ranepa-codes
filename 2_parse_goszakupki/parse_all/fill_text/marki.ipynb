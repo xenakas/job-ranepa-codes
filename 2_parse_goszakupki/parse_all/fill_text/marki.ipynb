{
 "cells": [
  {
   "cell_type": "code",
   "execution_count": 13,
   "metadata": {
    "ExecuteTime": {
     "end_time": "2019-11-11T05:47:25.636002Z",
     "start_time": "2019-11-11T05:47:25.624Z"
    }
   },
   "outputs": [],
   "source": [
    "df = read.csv('marki.csv')"
   ]
  },
  {
   "cell_type": "code",
   "execution_count": 14,
   "metadata": {
    "ExecuteTime": {
     "end_time": "2019-11-11T05:47:28.299441Z",
     "start_time": "2019-11-11T05:47:28.283Z"
    }
   },
   "outputs": [],
   "source": [
    "library(RSelenium)\n",
    "library(XML)\n",
    "library(janitor) \n",
    "library(lubridate)\n",
    "library(magrittr)\n",
    "library(dplyr)\n",
    "library(xlsx)"
   ]
  },
  {
   "cell_type": "code",
   "execution_count": 6,
   "metadata": {
    "ExecuteTime": {
     "end_time": "2019-11-07T03:13:42.466346Z",
     "start_time": "2019-11-07T03:13:42.436Z"
    }
   },
   "outputs": [],
   "source": [
    "df = df  %>%  distinct()  "
   ]
  },
  {
   "cell_type": "code",
   "execution_count": 11,
   "metadata": {
    "ExecuteTime": {
     "end_time": "2019-11-07T03:16:11.507046Z",
     "start_time": "2019-11-07T03:16:11.495Z"
    }
   },
   "outputs": [],
   "source": [
    "df = with(df, df[order(marka, model) , ])\n"
   ]
  },
  {
   "cell_type": "code",
   "execution_count": 12,
   "metadata": {
    "ExecuteTime": {
     "end_time": "2019-11-07T03:16:12.751320Z",
     "start_time": "2019-11-07T03:16:12.736Z"
    }
   },
   "outputs": [],
   "source": [
    "write.csv(df, 'marki.csv')"
   ]
  },
  {
   "cell_type": "code",
   "execution_count": null,
   "metadata": {},
   "outputs": [],
   "source": [
    "goszak_df  %>%  distinct(purchase_number, price, колич_авто_в_закупке, коробка_передач, марка, модель, привод, ширина, объем_двигателя_куб_см, длина, максимальная_скорость, масса_авто_снаряженная, год_выпуска, мощность_л_с, потребление_топлива_городской_цикл_л_100км,  .keep_all= TRUE)  "
   ]
  }
 ],
 "metadata": {
  "hide_input": false,
  "kernelspec": {
   "display_name": "R 3.5.1",
   "language": "R",
   "name": "ir"
  },
  "language_info": {
   "codemirror_mode": "r",
   "file_extension": ".r",
   "mimetype": "text/x-r-source",
   "name": "R",
   "pygments_lexer": "r",
   "version": "3.5.2"
  },
  "latex_envs": {
   "LaTeX_envs_menu_present": true,
   "autoclose": true,
   "autocomplete": true,
   "bibliofile": "biblio.bib",
   "cite_by": "apalike",
   "current_citInitial": 1,
   "eqLabelWithNumbers": true,
   "eqNumInitial": 1,
   "hotkeys": {
    "equation": "Ctrl-E",
    "itemize": "Ctrl-I"
   },
   "labels_anchors": false,
   "latex_user_defs": false,
   "report_style_numbering": false,
   "user_envs_cfg": false
  },
  "toc": {
   "base_numbering": 1,
   "nav_menu": {},
   "number_sections": true,
   "sideBar": true,
   "skip_h1_title": false,
   "title_cell": "Table of Contents",
   "title_sidebar": "Contents",
   "toc_cell": false,
   "toc_position": {},
   "toc_section_display": true,
   "toc_window_display": false
  },
  "varInspector": {
   "cols": {
    "lenName": 16,
    "lenType": 16,
    "lenVar": 40
   },
   "kernels_config": {
    "python": {
     "delete_cmd_postfix": "",
     "delete_cmd_prefix": "del ",
     "library": "var_list.py",
     "varRefreshCmd": "print(var_dic_list())"
    },
    "r": {
     "delete_cmd_postfix": ") ",
     "delete_cmd_prefix": "rm(",
     "library": "var_list.r",
     "varRefreshCmd": "cat(var_dic_list()) "
    }
   },
   "types_to_exclude": [
    "module",
    "function",
    "builtin_function_or_method",
    "instance",
    "_Feature"
   ],
   "window_display": false
  }
 },
 "nbformat": 4,
 "nbformat_minor": 2
}
