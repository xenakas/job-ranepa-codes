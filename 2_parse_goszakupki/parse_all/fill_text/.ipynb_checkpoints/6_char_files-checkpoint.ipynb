{
 "cells": [
  {
   "cell_type": "code",
   "execution_count": 2,
   "metadata": {
    "ExecuteTime": {
     "end_time": "2019-11-17T14:29:22.904843Z",
     "start_time": "2019-11-17T14:29:21.806462Z"
    }
   },
   "outputs": [],
   "source": [
    "import re\n",
    "import pandas as pd"
   ]
  },
  {
   "cell_type": "markdown",
   "metadata": {},
   "source": [
    "### write char files"
   ]
  },
  {
   "cell_type": "code",
   "execution_count": 207,
   "metadata": {
    "ExecuteTime": {
     "end_time": "2019-11-10T20:37:11.878643Z",
     "start_time": "2019-11-10T20:37:10.593494Z"
    }
   },
   "outputs": [],
   "source": [
    "df_marki = pd.read_excel('text_df.xlsx',\n",
    "                           dtype={'purchase_number': object})"
   ]
  },
  {
   "cell_type": "code",
   "execution_count": 208,
   "metadata": {
    "ExecuteTime": {
     "end_time": "2019-11-10T20:37:14.217483Z",
     "start_time": "2019-11-10T20:37:12.275351Z"
    }
   },
   "outputs": [],
   "source": [
    "df_tabs = pd.read_excel('text_df_all_tables.xlsx',\n",
    "                           dtype={'purchase_number': object})"
   ]
  },
  {
   "cell_type": "code",
   "execution_count": 222,
   "metadata": {
    "ExecuteTime": {
     "end_time": "2019-11-10T20:40:27.158527Z",
     "start_time": "2019-11-10T20:40:25.818866Z"
    }
   },
   "outputs": [],
   "source": [
    "df_vals = pd.read_excel('text_df_got_values.xlsx',\n",
    "                           dtype={'purchase_number': object})"
   ]
  },
  {
   "cell_type": "code",
   "execution_count": 210,
   "metadata": {
    "ExecuteTime": {
     "end_time": "2019-11-10T20:37:17.785440Z",
     "start_time": "2019-11-10T20:37:16.035983Z"
    }
   },
   "outputs": [],
   "source": [
    "df_text = pd.read_excel('text_df_text_only.xlsx',\n",
    "                           dtype={'purchase_number': object})"
   ]
  },
  {
   "cell_type": "code",
   "execution_count": 220,
   "metadata": {
    "ExecuteTime": {
     "end_time": "2019-11-10T20:40:11.988122Z",
     "start_time": "2019-11-10T20:40:11.102010Z"
    }
   },
   "outputs": [],
   "source": [
    "df_original =  pd.read_excel('compare.xlsx',\n",
    "                           dtype={'purchase_number': object}, index_col='index_name')\n",
    "df_original = df_original.loc[df_vals.index,:]"
   ]
  },
  {
   "cell_type": "code",
   "execution_count": 221,
   "metadata": {
    "ExecuteTime": {
     "end_time": "2019-11-10T20:40:14.283230Z",
     "start_time": "2019-11-10T20:40:14.271289Z"
    }
   },
   "outputs": [
    {
     "data": {
      "text/plain": [
       "[(4434, 26), (4434, 27), (4434, 27), (4434, 27), (4434, 25)]"
      ]
     },
     "execution_count": 221,
     "metadata": {},
     "output_type": "execute_result"
    }
   ],
   "source": [
    "[df_vals.shape, df_tabs.shape, df_text.shape, df_marki.shape, df_original.shape]"
   ]
  },
  {
   "cell_type": "code",
   "execution_count": 223,
   "metadata": {
    "ExecuteTime": {
     "end_time": "2019-11-10T20:40:55.169523Z",
     "start_time": "2019-11-10T20:40:55.162776Z"
    }
   },
   "outputs": [],
   "source": [
    "df_original.index = df_text.index"
   ]
  },
  {
   "cell_type": "code",
   "execution_count": 228,
   "metadata": {
    "ExecuteTime": {
     "end_time": "2019-11-10T20:41:23.023265Z",
     "start_time": "2019-11-10T20:41:23.010959Z"
    }
   },
   "outputs": [
    {
     "data": {
      "text/plain": [
       "(4434, 12)"
      ]
     },
     "execution_count": 228,
     "metadata": {},
     "output_type": "execute_result"
    }
   ],
   "source": [
    "df_vals.iloc[:,12:-3].shape"
   ]
  },
  {
   "cell_type": "code",
   "execution_count": 305,
   "metadata": {
    "ExecuteTime": {
     "end_time": "2019-11-11T06:19:24.228182Z",
     "start_time": "2019-11-11T06:19:24.214256Z"
    }
   },
   "outputs": [],
   "source": [
    "df_char = pd.concat([df_vals.iloc[:,12:14], df_tabs.iloc[:,12:14], df_text.iloc[:,12:14], df_marki.iloc[:,12:14],  df_original.iloc[:,11:13]], axis=1)"
   ]
  },
  {
   "cell_type": "code",
   "execution_count": 306,
   "metadata": {
    "ExecuteTime": {
     "end_time": "2019-11-11T06:19:24.451838Z",
     "start_time": "2019-11-11T06:19:24.439919Z"
    }
   },
   "outputs": [
    {
     "data": {
      "text/html": [
       "<div>\n",
       "<style scoped>\n",
       "    .dataframe tbody tr th:only-of-type {\n",
       "        vertical-align: middle;\n",
       "    }\n",
       "\n",
       "    .dataframe tbody tr th {\n",
       "        vertical-align: top;\n",
       "    }\n",
       "\n",
       "    .dataframe thead th {\n",
       "        text-align: right;\n",
       "    }\n",
       "</style>\n",
       "<table border=\"1\" class=\"dataframe\">\n",
       "  <thead>\n",
       "    <tr style=\"text-align: right;\">\n",
       "      <th></th>\n",
       "      <th>marka</th>\n",
       "      <th>model</th>\n",
       "    </tr>\n",
       "  </thead>\n",
       "  <tbody>\n",
       "    <tr>\n",
       "      <td>0</td>\n",
       "      <td>uaz</td>\n",
       "      <td>patriot</td>\n",
       "    </tr>\n",
       "    <tr>\n",
       "      <td>1</td>\n",
       "      <td>NaN</td>\n",
       "      <td>NaN</td>\n",
       "    </tr>\n",
       "    <tr>\n",
       "      <td>2</td>\n",
       "      <td>NaN</td>\n",
       "      <td>NaN</td>\n",
       "    </tr>\n",
       "    <tr>\n",
       "      <td>3</td>\n",
       "      <td>toyota</td>\n",
       "      <td>corolla</td>\n",
       "    </tr>\n",
       "    <tr>\n",
       "      <td>4</td>\n",
       "      <td>NaN</td>\n",
       "      <td>NaN</td>\n",
       "    </tr>\n",
       "    <tr>\n",
       "      <td>...</td>\n",
       "      <td>...</td>\n",
       "      <td>...</td>\n",
       "    </tr>\n",
       "    <tr>\n",
       "      <td>4429</td>\n",
       "      <td>NaN</td>\n",
       "      <td>NaN</td>\n",
       "    </tr>\n",
       "    <tr>\n",
       "      <td>4430</td>\n",
       "      <td>vaz</td>\n",
       "      <td>granta</td>\n",
       "    </tr>\n",
       "    <tr>\n",
       "      <td>4431</td>\n",
       "      <td>NaN</td>\n",
       "      <td>NaN</td>\n",
       "    </tr>\n",
       "    <tr>\n",
       "      <td>4432</td>\n",
       "      <td>kia</td>\n",
       "      <td>sorento</td>\n",
       "    </tr>\n",
       "    <tr>\n",
       "      <td>4433</td>\n",
       "      <td>NaN</td>\n",
       "      <td>NaN</td>\n",
       "    </tr>\n",
       "  </tbody>\n",
       "</table>\n",
       "<p>4434 rows × 2 columns</p>\n",
       "</div>"
      ],
      "text/plain": [
       "       marka    model\n",
       "0        uaz  patriot\n",
       "1        NaN      NaN\n",
       "2        NaN      NaN\n",
       "3     toyota  corolla\n",
       "4        NaN      NaN\n",
       "...      ...      ...\n",
       "4429     NaN      NaN\n",
       "4430     vaz   granta\n",
       "4431     NaN      NaN\n",
       "4432     kia  sorento\n",
       "4433     NaN      NaN\n",
       "\n",
       "[4434 rows x 2 columns]"
      ]
     },
     "execution_count": 306,
     "metadata": {},
     "output_type": "execute_result"
    }
   ],
   "source": [
    "# df_marki.iloc[:,12:14]\n",
    "# df_original.iloc[:,11:13]"
   ]
  },
  {
   "cell_type": "code",
   "execution_count": 321,
   "metadata": {
    "ExecuteTime": {
     "end_time": "2019-11-11T07:45:32.163628Z",
     "start_time": "2019-11-11T07:45:32.156058Z"
    }
   },
   "outputs": [],
   "source": [
    "df_char = df_char.set_index(df_vals['index_name'].values)"
   ]
  },
  {
   "cell_type": "code",
   "execution_count": 322,
   "metadata": {
    "ExecuteTime": {
     "end_time": "2019-11-11T07:45:32.364303Z",
     "start_time": "2019-11-11T07:45:32.361431Z"
    }
   },
   "outputs": [],
   "source": [
    "df_char.columns = ['marka', 'model', 'marka_tabs', 'model_tabs', 'marka_text', 'model_text', 'marka_mar',\n",
    "       'model_mar', 'marka_orig', 'model_orig']"
   ]
  },
  {
   "cell_type": "code",
   "execution_count": 323,
   "metadata": {
    "ExecuteTime": {
     "end_time": "2019-11-11T07:45:43.602277Z",
     "start_time": "2019-11-11T07:45:32.871338Z"
    }
   },
   "outputs": [],
   "source": [
    "df_char.to_excel('charachteristics/char_2.xlsx')"
   ]
  },
  {
   "cell_type": "code",
   "execution_count": 286,
   "metadata": {
    "ExecuteTime": {
     "end_time": "2019-11-11T06:09:41.996605Z",
     "start_time": "2019-11-11T06:09:28.383420Z"
    }
   },
   "outputs": [],
   "source": [
    "for numnum in range(3,13):\n",
    "    num = 11+numnum\n",
    "    df_char = pd.concat([df_vals.iloc[:,num], df_tabs.iloc[:,num], df_text.iloc[:,num],  df_original.iloc[:,num-1]], axis=1)\n",
    "\n",
    "    df_char = df_char.set_index(df_vals['index_name'].values)\n",
    "\n",
    "    inns = ['', '_tabs', '_text', '_orig']\n",
    "    df_char.columns = [df_char.columns.values[0] + i for i in inns]\n",
    "\n",
    "    # df_char\n",
    "\n",
    "    df_char.to_excel('charachteristics/char_'+str(numnum)+'.xlsx')"
   ]
  },
  {
   "cell_type": "code",
   "execution_count": 234,
   "metadata": {
    "ExecuteTime": {
     "end_time": "2019-11-10T21:28:24.362651Z",
     "start_time": "2019-11-10T21:28:24.352311Z"
    }
   },
   "outputs": [],
   "source": [
    "numnum = 12\n",
    "num = 11+numnum\n",
    "df_char = pd.concat([df_vals.iloc[:,num], df_tabs.iloc[:,num], df_text.iloc[:,num],  df_original.iloc[:,num]], axis=1)\n"
   ]
  },
  {
   "cell_type": "markdown",
   "metadata": {},
   "source": [
    "###  marki\n"
   ]
  },
  {
   "cell_type": "code",
   "execution_count": 324,
   "metadata": {
    "ExecuteTime": {
     "end_time": "2019-11-11T07:45:46.091495Z",
     "start_time": "2019-11-11T07:45:46.077187Z"
    }
   },
   "outputs": [],
   "source": [
    "df_mar = pd.read_csv('marki_un.csv')"
   ]
  },
  {
   "cell_type": "code",
   "execution_count": 325,
   "metadata": {
    "ExecuteTime": {
     "end_time": "2019-11-11T07:45:46.294312Z",
     "start_time": "2019-11-11T07:45:46.291806Z"
    }
   },
   "outputs": [],
   "source": [
    "# pd.DataFrame([df_mar['marka'].unique(), df_mar['model'].unique()]).T.to_csv('marki_un.csv')"
   ]
  },
  {
   "cell_type": "code",
   "execution_count": 326,
   "metadata": {
    "ExecuteTime": {
     "end_time": "2019-11-11T07:45:46.489396Z",
     "start_time": "2019-11-11T07:45:46.486390Z"
    }
   },
   "outputs": [],
   "source": [
    "df_mar = df_mar.fillna('bmw')"
   ]
  },
  {
   "cell_type": "code",
   "execution_count": 327,
   "metadata": {
    "ExecuteTime": {
     "end_time": "2019-11-11T07:45:51.348707Z",
     "start_time": "2019-11-11T07:45:46.678773Z"
    }
   },
   "outputs": [],
   "source": [
    "df_char2 = pd.read_excel('charachteristics/char_2.xlsx', index_col=0)"
   ]
  },
  {
   "cell_type": "code",
   "execution_count": 328,
   "metadata": {
    "ExecuteTime": {
     "end_time": "2019-11-11T07:45:51.565370Z",
     "start_time": "2019-11-11T07:45:51.552391Z"
    }
   },
   "outputs": [],
   "source": [
    "df_char2 = df_char2.fillna('')"
   ]
  },
  {
   "cell_type": "code",
   "execution_count": 329,
   "metadata": {
    "ExecuteTime": {
     "end_time": "2019-11-11T07:45:51.780136Z",
     "start_time": "2019-11-11T07:45:51.774047Z"
    }
   },
   "outputs": [
    {
     "data": {
      "text/plain": [
       "marka_tabs    3.1. Состав Единой комиссии по осуществлению з...\n",
       "model_tabs    а) согласие участника такого аукциона на поста...\n",
       "marka_text    09T00:00:00+03:00на поставку легкового автомоб...\n",
       "model_text                      Марка (модель) ______________  \n",
       "marka_mar                                                      \n",
       "model_mar                                                      \n",
       "Name: 25595, dtype: object"
      ]
     },
     "execution_count": 329,
     "metadata": {},
     "output_type": "execute_result"
    }
   ],
   "source": [
    "df_char2.iloc[i,2:8]"
   ]
  },
  {
   "cell_type": "code",
   "execution_count": 330,
   "metadata": {
    "ExecuteTime": {
     "end_time": "2019-11-11T07:46:40.894152Z",
     "start_time": "2019-11-11T07:45:51.995973Z"
    }
   },
   "outputs": [],
   "source": [
    "for i in range(df_char2.shape[0]):\n",
    "    for j in df_mar['marka'].unique():\n",
    "        if (j in '\\n '.join(df_char2.iloc[i,2:8].values).lower()):\n",
    "                df_char2.iloc[i,0] = df_char2.iloc[i,0] + j + ' '\n",
    "#                 df_char2.iloc[i,1:] = ''\n",
    "\n"
   ]
  },
  {
   "cell_type": "code",
   "execution_count": 331,
   "metadata": {
    "ExecuteTime": {
     "end_time": "2019-11-11T07:48:02.120013Z",
     "start_time": "2019-11-11T07:46:41.088830Z"
    }
   },
   "outputs": [],
   "source": [
    "\n",
    "for i in range(df_char2.shape[0]):\n",
    "    for j in df_mar['model'].unique():\n",
    "        if (j in '\\n '.join(df_char2.iloc[i,2:8].values).lower()):\n",
    "                df_char2.iloc[i,1] = df_char2.iloc[i,1] + j + ' '\n",
    "#                 df_char2.iloc[i,1:] = ''"
   ]
  },
  {
   "cell_type": "code",
   "execution_count": 332,
   "metadata": {
    "ExecuteTime": {
     "end_time": "2019-11-11T07:48:05.941645Z",
     "start_time": "2019-11-11T07:48:02.315659Z"
    }
   },
   "outputs": [],
   "source": [
    "for i in range(df_char2.shape[0]):\n",
    "    \n",
    "    if ('микроавтобус' in '\\n '.join(df_char2.iloc[i,2:8].values)) or ('Микроавтобус' in '\\n '.join(df_char2.iloc[i,2:6].values)):\n",
    "            df_char2.iloc[i,0] = 'delete'\n",
    "#             df_char2.iloc[i,1:] = ''\n",
    "\n",
    "    if ('ГАЗель' in '\\n '.join(df_char2.iloc[i,2:8].values)):\n",
    "            df_char2.iloc[i,0] = 'delete'\n",
    "#             df_char2.iloc[i,1:] = ''\n",
    "\n",
    "\n",
    "#     if ('ГАЗ' in '\\n '.join(df_char2.iloc[i,2:6].values)):\n",
    "#             df_char2.iloc[i,0] = 'delete'\n",
    "#             df_char2.iloc[i,1:] = 'газ'\n",
    "            \n",
    "    if ('поставку автомобильных запчастей' in '\\n '.join(df_char2.iloc[i,2:8].values)):\n",
    "            df_char2.iloc[i,0] = 'delete'\n",
    "#             df_char2.iloc[i,1:] = 'газ'\n",
    "            \n",
    "#     ['запчаст',  'легков', 'грузов'], ['модел', 'марк'] "
   ]
  },
  {
   "cell_type": "code",
   "execution_count": 333,
   "metadata": {
    "ExecuteTime": {
     "end_time": "2019-11-11T07:48:06.134177Z",
     "start_time": "2019-11-11T07:48:06.131969Z"
    }
   },
   "outputs": [],
   "source": [
    "# df_char2 = df_char2[df_char2.iloc[:,0]!='автобус']\n",
    "# df_char2 "
   ]
  },
  {
   "cell_type": "code",
   "execution_count": 334,
   "metadata": {
    "ExecuteTime": {
     "end_time": "2019-11-11T07:48:17.310309Z",
     "start_time": "2019-11-11T07:48:06.317267Z"
    }
   },
   "outputs": [],
   "source": [
    "df_char2.to_excel('charachteristics/char_2.xlsx')"
   ]
  },
  {
   "cell_type": "markdown",
   "metadata": {},
   "source": [
    "### God Vipuska"
   ]
  },
  {
   "cell_type": "code",
   "execution_count": 336,
   "metadata": {
    "ExecuteTime": {
     "end_time": "2019-11-11T12:23:01.118299Z",
     "start_time": "2019-11-11T12:23:00.543531Z"
    }
   },
   "outputs": [],
   "source": [
    "df_char2 = pd.read_excel('charachteristics/char_3.xlsx', index_col=0)"
   ]
  },
  {
   "cell_type": "code",
   "execution_count": 337,
   "metadata": {
    "ExecuteTime": {
     "end_time": "2019-11-11T12:23:04.179988Z",
     "start_time": "2019-11-11T12:23:04.174879Z"
    }
   },
   "outputs": [],
   "source": [
    "df_char2 = df_char2.fillna('')"
   ]
  },
  {
   "cell_type": "code",
   "execution_count": 345,
   "metadata": {
    "ExecuteTime": {
     "end_time": "2019-11-11T12:27:04.526863Z",
     "start_time": "2019-11-11T12:27:04.524993Z"
    }
   },
   "outputs": [],
   "source": [
    "# df_char2.iloc[:,1:3]"
   ]
  },
  {
   "cell_type": "code",
   "execution_count": 383,
   "metadata": {
    "ExecuteTime": {
     "end_time": "2019-11-11T12:56:57.202220Z",
     "start_time": "2019-11-11T12:56:40.913708Z"
    }
   },
   "outputs": [],
   "source": [
    "for i in range(df_char2.shape[0]):\n",
    "    for j in range(2000,2020):\n",
    "#     for j in range(2016,2017):\n",
    "\n",
    "#         if ('ранее'+str(j)  in ' '.join(df_char2.iloc[i,1:3].values).lower()):\n",
    "#                 df_char2.iloc[i,0] = df_char2.iloc[i,0] + str(j) + ' '\n",
    "#                 df_char2.iloc[i,1:] = ''\n",
    "\n",
    "        if ('выпуска'+str(j)  in ' '.join(df_char2.iloc[i,1:3].values).lower()):\n",
    "                df_char2.iloc[i,0] = df_char2.iloc[i,0] + str(j) + ' '\n",
    "                df_char2.iloc[i,1:] = ''\n",
    "\n",
    "\n",
    "#         if (('ранее' in ' '.join(df_char2.iloc[i,1:3].values).lower()) and  (str(j) in ' '.join(df_char2.iloc[i,1:3].values).lower())):\n",
    "#                 df_char2.iloc[i,0] = df_char2.iloc[i,0] + str(j) + ' '\n",
    "#                 df_char2.iloc[i,1:] = ''\n",
    "\n",
    "\n",
    "\n",
    "                \n",
    "#         if ('позднее'+str(j)  in ' '.join(df_char2.iloc[i,1:3].values).lower()):\n",
    "#                 df_char2.iloc[i,0] = df_char2.iloc[i,0] + str(j) + ' '\n",
    "#                 df_char2.iloc[i,1:] = ''\n",
    "                \n",
    "#         if ('выпуска'+str(j)  in ' '.join(df_char2.iloc[i,1:3].values).lower()):\n",
    "#             df_char2.iloc[i,0] = df_char2.iloc[i,0] + str(j) + ' '\n",
    "#             df_char2.iloc[i,1:] = ''            \n",
    "\n",
    "#         if ('изготовления'+str(j)  in ' '.join(df_char2.iloc[i,1:3].values).lower()):\n",
    "#             df_char2.iloc[i,0] = df_char2.iloc[i,0] + str(j) + ' '\n",
    "#             df_char2.iloc[i,1:] = ''            \n",
    "\n",
    "#         if (str(j)+'годаизготовления'  in ' '.join(df_char2.iloc[i,1:3].values).lower()):\n",
    "#             df_char2.iloc[i,0] = df_char2.iloc[i,0] + str(j) + ' '\n",
    "#             df_char2.iloc[i,1:] = ''            \n",
    "\n",
    "            \n",
    "#         if ('без пробега '+str(j)  in ' '.join(df_char2.iloc[i,1:3].values).lower()):\n",
    "#             df_char2.iloc[i,0] = df_char2.iloc[i,0] + str(j) + ' '\n",
    "#             df_char2.iloc[i,1:] = ''            \n",
    "            \n",
    "            \n"
   ]
  },
  {
   "cell_type": "code",
   "execution_count": 384,
   "metadata": {
    "ExecuteTime": {
     "end_time": "2019-11-11T12:56:58.161391Z",
     "start_time": "2019-11-11T12:56:57.364937Z"
    }
   },
   "outputs": [],
   "source": [
    "df_char2.to_excel('charachteristics/char_31.xlsx')"
   ]
  },
  {
   "cell_type": "code",
   "execution_count": null,
   "metadata": {},
   "outputs": [],
   "source": [
    "for s in range(df_char2.shape[0]):\n",
    "    for i in range(1,3):\n",
    "        sss = df_char2.iloc[s,i]\n",
    "        sss = sss.lower()\n",
    "        sss = re.sub('[^0-9а-яА-Я]+', '', sss)\n",
    "        df_char2.iloc[s,i] = sss"
   ]
  },
  {
   "cell_type": "markdown",
   "metadata": {},
   "source": [
    "### transmissia"
   ]
  },
  {
   "cell_type": "code",
   "execution_count": 68,
   "metadata": {
    "ExecuteTime": {
     "end_time": "2019-11-17T15:19:31.607039Z",
     "start_time": "2019-11-17T15:19:31.173434Z"
    }
   },
   "outputs": [],
   "source": [
    "df_char2 = pd.read_excel('charachteristics/char_4.xlsx', index_col=0)\n",
    "df_char2 = df_char2.fillna('')"
   ]
  },
  {
   "cell_type": "code",
   "execution_count": 70,
   "metadata": {
    "ExecuteTime": {
     "end_time": "2019-11-17T15:19:38.967535Z",
     "start_time": "2019-11-17T15:19:31.745409Z"
    }
   },
   "outputs": [],
   "source": [
    "for s in range(df_char2.shape[0]):\n",
    "    for i in range(2,4):\n",
    "        sss = df_char2.iloc[s,i]\n",
    "        sss = sss.lower()\n",
    "        sss = re.sub('[^0-9а-яА-Я]+', '', sss)\n",
    "        df_char2.iloc[s,i] = sss"
   ]
  },
  {
   "cell_type": "code",
   "execution_count": 86,
   "metadata": {
    "ExecuteTime": {
     "end_time": "2019-11-17T15:25:46.421224Z",
     "start_time": "2019-11-17T15:25:43.971005Z"
    }
   },
   "outputs": [],
   "source": [
    "for i in range(df_char2.shape[0]):\n",
    "#     if ('вариатор'  in ' '.join(df_char2.iloc[i,2:4].values)):\n",
    "#         df_char2.iloc[i,0] = df_char2.iloc[i,0] + 'вариатор'\n",
    "#         df_char2.iloc[i,1:] = ''\n",
    "#     if ('гидромех'  in ' '.join(df_char2.iloc[i,2:4].values)):\n",
    "#         df_char2.iloc[i,0] = df_char2.iloc[i,0] + 'гидромеханическая'\n",
    "#         df_char2.iloc[i,1:] = ''\n",
    "#     if ('робот'  in ' '.join(df_char2.iloc[i,2:4].values)):\n",
    "#         df_char2.iloc[i,0] = df_char2.iloc[i,0] + 'робот'\n",
    "#         df_char2.iloc[i,1:] = ''\n",
    "#     if ('электрическ'  in ' '.join(df_char2.iloc[i,2:4].values)):\n",
    "#         df_char2.iloc[i,0] = df_char2.iloc[i,0] + 'электрическая'\n",
    "#         df_char2.iloc[i,1:] = ''\n",
    "#     if ('мех'  in ' '.join(df_char2.iloc[i,2:4].values)):\n",
    "#         df_char2.iloc[i,0] = df_char2.iloc[i,0] + 'мкпп'\n",
    "#         df_char2.iloc[i,1:] = ''\n",
    "#     if ('автомат'  in ' '.join(df_char2.iloc[i,2:4].values)):\n",
    "#         df_char2.iloc[i,0] = df_char2.iloc[i,0] + 'акпп'\n",
    "#         df_char2.iloc[i,1:] = ''\n",
    "#     if ('мкп'  in ' '.join(df_char2.iloc[i,2:4].values)):\n",
    "#         df_char2.iloc[i,0] = df_char2.iloc[i,0] + 'мкпп'\n",
    "#         df_char2.iloc[i,1:] = ''\n",
    "#     if ('акп'  in ' '.join(df_char2.iloc[i,2:4].values)):\n",
    "#         df_char2.iloc[i,0] = df_char2.iloc[i,0] + 'акпп'\n",
    "#         df_char2.iloc[i,1:] = ''\n",
    "#     if ('ручн'  in ' '.join(df_char2.iloc[i,2:4].values)):\n",
    "#         df_char2.iloc[i,0] = df_char2.iloc[i,0] + 'мкпп'\n",
    "#         df_char2.iloc[i,1:] = ''\n",
    "\n",
    "    sss = ' '.join(df_char2.iloc[i,2: 4].values)\n",
    "\n",
    "    if (('мкп' in sss) or ('мт' in sss)):\n",
    "        df_char2.iloc[i,0] = df_char2.iloc[i,0] + 'МКПП'\n",
    "        df_char2.iloc[i,1:] = ''\n",
    "    if (('акп' in sss) or ('ат' in sss)):\n",
    "        df_char2.iloc[i,0] = df_char2.iloc[i,0] + 'АКПП'\n",
    "        df_char2.iloc[i,1:] = ''\n"
   ]
  },
  {
   "cell_type": "code",
   "execution_count": 88,
   "metadata": {
    "ExecuteTime": {
     "end_time": "2019-11-17T15:27:39.350803Z",
     "start_time": "2019-11-17T15:27:38.831537Z"
    }
   },
   "outputs": [],
   "source": []
  },
  {
   "cell_type": "markdown",
   "metadata": {},
   "source": [
    "### privod"
   ]
  },
  {
   "cell_type": "code",
   "execution_count": 116,
   "metadata": {
    "ExecuteTime": {
     "end_time": "2019-11-18T07:01:32.049305Z",
     "start_time": "2019-11-18T07:01:31.887934Z"
    }
   },
   "outputs": [],
   "source": [
    "df_char2 = pd.read_excel('charachteristics/char_5.xlsx', index_col=0)\n",
    "df_char2 = df_char2.fillna('')"
   ]
  },
  {
   "cell_type": "code",
   "execution_count": 117,
   "metadata": {
    "ExecuteTime": {
     "end_time": "2019-11-18T07:01:38.718491Z",
     "start_time": "2019-11-18T07:01:32.196518Z"
    }
   },
   "outputs": [],
   "source": [
    "for s in range(df_char2.shape[0]):\n",
    "    for i in range(2,4):\n",
    "        sss = df_char2.iloc[s,i]\n",
    "        sss = sss.lower()\n",
    "        sss = re.sub('[^0-9а-яА-Я]+', '', sss)\n",
    "        df_char2.iloc[s,i] = sss"
   ]
  },
  {
   "cell_type": "code",
   "execution_count": 120,
   "metadata": {
    "ExecuteTime": {
     "end_time": "2019-11-18T07:06:44.124586Z",
     "start_time": "2019-11-18T07:06:42.094301Z"
    }
   },
   "outputs": [],
   "source": [
    "for i in range(df_char2.shape[0]):\n",
    "#     if ('жестко'  in ' '.join(df_char2.iloc[i,2:4].values)):\n",
    "#         df_char2.iloc[i,0] = df_char2.iloc[i,0] + 'постоянный задний, с жестко подключаемым передним'\n",
    "#         df_char2.iloc[i,1:] = ''\n",
    "#     if ('постоянныйполный'  in ' '.join(df_char2.iloc[i,2:4].values)):\n",
    "#         df_char2.iloc[i,0] = df_char2.iloc[i,0] + 'постоянный полный'\n",
    "#         df_char2.iloc[i,1:] = ''\n",
    "#     if ('постоянныйнавсе'  in ' '.join(df_char2.iloc[i,2:4].values)):\n",
    "#         df_char2.iloc[i,0] = df_char2.iloc[i,0] + 'постоянный полный'\n",
    "#         df_char2.iloc[i,1:] = ''\n",
    "#     if ('подключаем'  in ' '.join(df_char2.iloc[i,2:4].values)):\n",
    "#         df_char2.iloc[i,0] = df_char2.iloc[i,0] + 'подключаемый полный'\n",
    "#         df_char2.iloc[i,1:] = ''\n",
    "\n",
    "#     if ('задн'  in ' '.join(df_char2.iloc[i,2:4].values)):\n",
    "#         df_char2.iloc[i,0] = df_char2.iloc[i,0] + 'задний'\n",
    "#         df_char2.iloc[i,1:] = ''\n",
    "#     if ('передн'  in ' '.join(df_char2.iloc[i,2:4].values)):\n",
    "#         df_char2.iloc[i,0] = df_char2.iloc[i,0] + 'передний'\n",
    "#         df_char2.iloc[i,1:] = ''\n",
    "#     if ('полн'  in ' '.join(df_char2.iloc[i,2:4].values)):\n",
    "#         df_char2.iloc[i,0] = df_char2.iloc[i,0] + 'полный'\n",
    "#         df_char2.iloc[i,1:] = ''\n",
    "\n",
    "    if ('4x2'  in ' '.join(df_char2.iloc[i,2:4].values)):\n",
    "        df_char2.iloc[i,0] = df_char2.iloc[i,0] + 'задний'\n",
    "        df_char2.iloc[i,1:] = ''\n",
    "#     if ('4х4'  in ' '.join(df_char2.iloc[i,2:4].values)):\n",
    "#         df_char2.iloc[i,0] = df_char2.iloc[i,0] + 'полный'\n",
    "#         df_char2.iloc[i,1:] = ''\n",
    "\n",
    "#     if ('двухзонный'  in ' '.join(df_char2.iloc[i,2:4].values)):\n",
    "#         df_char2.iloc[i,0] = df_char2.iloc[i,0] + 'двухзонный'\n",
    "#         df_char2.iloc[i,1:] = ''\n",
    "#     if ('комбинированный'  in ' '.join(df_char2.iloc[i,2:4].values)):\n",
    "#         df_char2.iloc[i,0] = df_char2.iloc[i,0] + 'комбинированный'\n",
    "#         df_char2.iloc[i,1:] = ''\n",
    "#     if ('гидрав'  in ' '.join(df_char2.iloc[i,2:4].values)):\n",
    "#         df_char2.iloc[i,0] = df_char2.iloc[i,0] + 'гидравлический'\n",
    "#         df_char2.iloc[i,1:] = ''\n",
    "#     if ('гидро'  in ' '.join(df_char2.iloc[i,2:4].values)):\n",
    "#         df_char2.iloc[i,0] = df_char2.iloc[i,0] + 'гидравлический'\n",
    "#         df_char2.iloc[i,1:] = ''\n",
    "#     if ('тросов'  in ' '.join(df_char2.iloc[i,2:4].values)):\n",
    "#         df_char2.iloc[i,0] = df_char2.iloc[i,0] + 'тросовый'\n",
    "#         df_char2.iloc[i,1:] = ''\n",
    "\n",
    "    if ('электро'  in ' '.join(df_char2.iloc[i,2:4].values)) and ('зеркал'  in ' '.join(df_char2.iloc[i,2:4].values)):\n",
    "        df_char2.iloc[i,0] = df_char2.iloc[i,0] + ''\n",
    "        df_char2.iloc[i,1:-1] = ''\n",
    "\n",
    "\n",
    "#     sss = ' '.join(df_char2.iloc[i,2: 4].values)\n",
    "\n",
    "#     if (('мкп' in sss) or ('мт' in sss)):\n",
    "#         df_char2.iloc[i,0] = df_char2.iloc[i,0] + 'МКПП'\n",
    "#         df_char2.iloc[i,1:] = ''\n",
    "#     if (('акп' in sss) or ('ат' in sss)):\n",
    "#         df_char2.iloc[i,0] = df_char2.iloc[i,0] + 'АКПП'\n",
    "#         df_char2.iloc[i,1:] = ''\n"
   ]
  },
  {
   "cell_type": "code",
   "execution_count": 121,
   "metadata": {
    "ExecuteTime": {
     "end_time": "2019-11-18T07:06:44.748040Z",
     "start_time": "2019-11-18T07:06:44.132975Z"
    }
   },
   "outputs": [],
   "source": [
    "df_char2.to_excel('charachteristics/char_51.xlsx')"
   ]
  },
  {
   "cell_type": "markdown",
   "metadata": {},
   "source": [
    "### width"
   ]
  },
  {
   "cell_type": "code",
   "execution_count": 193,
   "metadata": {
    "ExecuteTime": {
     "end_time": "2019-11-18T11:13:59.816864Z",
     "start_time": "2019-11-18T11:13:59.712538Z"
    }
   },
   "outputs": [],
   "source": [
    "df_char2 = pd.read_excel('charachteristics/char_61.xlsx', index_col=0)\n",
    "df_char2 = df_char2.fillna('')"
   ]
  },
  {
   "cell_type": "code",
   "execution_count": 153,
   "metadata": {
    "ExecuteTime": {
     "end_time": "2019-11-18T09:22:25.324929Z",
     "start_time": "2019-11-18T09:22:22.377275Z"
    }
   },
   "outputs": [],
   "source": [
    "for s in range(df_char2.shape[0]):\n",
    "    for i in range(2,4):\n",
    "        sss = df_char2.iloc[s,i]\n",
    "        sss = sss.lower()\n",
    "        sss = re.sub('[^0-9а-яА-Я]+', '', sss)\n",
    "        df_char2.iloc[s,i] = sss"
   ]
  },
  {
   "cell_type": "code",
   "execution_count": 194,
   "metadata": {
    "ExecuteTime": {
     "end_time": "2019-11-18T11:14:01.179198Z",
     "start_time": "2019-11-18T11:14:01.175132Z"
    }
   },
   "outputs": [],
   "source": [
    "# df_char2"
   ]
  },
  {
   "cell_type": "code",
   "execution_count": 195,
   "metadata": {
    "ExecuteTime": {
     "end_time": "2019-11-18T11:14:02.272362Z",
     "start_time": "2019-11-18T11:14:01.437793Z"
    }
   },
   "outputs": [],
   "source": [
    "for i in range(df_char2.shape[0]):\n",
    "    sss = ' '.join(df_char2.iloc[i,2:4].values)\n",
    "#     if ('неменее' in sss) and not('длина' in sss):\n",
    "#         df_char2.iloc[i,1] = sss.split('неменее')[1][:4]\n",
    "#     if ('безбоковыхзеркал' in sss) and not('длина' in sss):\n",
    "#         df_char2.iloc[i,1] = sss.split('безбоковыхзеркал')[1][:4]\n",
    "\n",
    "#     if ('ширинаммот' in sss) and not('длина' in sss):\n",
    "#         df_char2.iloc[i,1] = sss.split('ширинаммот')[1][:4]\n",
    "#     if ('автобус' in sss):\n",
    "#         df_char2.iloc[i,1] = df_char2.iloc[i,0] + 'delete'\n",
    "#     if ('длина' in sss):\n",
    "#         df_char2.iloc[i,1] = 'дл'\n",
    "\n",
    "    if ('ирина' in sss) :\n",
    "        df_char2.iloc[i,1] = sss.split('ирина')[1][:4]\n",
    "\n",
    "    \n",
    "#     if ('жестко'  in ' '.join(df_char2.iloc[i,2:4].values)):\n",
    "#         df_char2.iloc[i,0] = df_char2.iloc[i,0] + 'постоянный задний, с жестко подключаемым передним'\n",
    "#         df_char2.iloc[i,1:] = ''\n",
    "#     if ('постоянныйполный'  in ' '.join(df_char2.iloc[i,2:4].values)):\n",
    "#         df_char2.iloc[i,0] = df_char2.iloc[i,0] + 'постоянный полный'\n",
    "#         df_char2.iloc[i,1:] = ''\n",
    "#     if ('постоянныйнавсе'  in ' '.join(df_char2.iloc[i,2:4].values)):\n",
    "#         df_char2.iloc[i,0] = df_char2.iloc[i,0] + 'постоянный полный'\n",
    "#         df_char2.iloc[i,1:] = ''\n",
    "#     if ('подключаем'  in ' '.join(df_char2.iloc[i,2:4].values)):\n",
    "#         df_char2.iloc[i,0] = df_char2.iloc[i,0] + 'подключаемый полный'\n",
    "#         df_char2.iloc[i,1:] = ''\n",
    "\n",
    "#     if ('задн'  in ' '.join(df_char2.iloc[i,2:4].values)):\n",
    "#         df_char2.iloc[i,0] = df_char2.iloc[i,0] + 'задний'\n",
    "#         df_char2.iloc[i,1:] = ''\n",
    "#     if ('передн'  in ' '.join(df_char2.iloc[i,2:4].values)):\n",
    "#         df_char2.iloc[i,0] = df_char2.iloc[i,0] + 'передний'\n",
    "#         df_char2.iloc[i,1:] = ''\n",
    "#     if ('полн'  in ' '.join(df_char2.iloc[i,2:4].values)):\n",
    "#         df_char2.iloc[i,0] = df_char2.iloc[i,0] + 'полный'\n",
    "#         df_char2.iloc[i,1:] = ''\n",
    "\n",
    "#     if ('4x2'  in ' '.join(df_char2.iloc[i,2:4].values)):\n",
    "#         df_char2.iloc[i,0] = df_char2.iloc[i,0] + 'задний'\n",
    "#         df_char2.iloc[i,1:] = ''\n",
    "#     if ('4х4'  in ' '.join(df_char2.iloc[i,2:4].values)):\n",
    "#         df_char2.iloc[i,0] = df_char2.iloc[i,0] + 'полный'\n",
    "#         df_char2.iloc[i,1:] = ''\n",
    "\n",
    "#     if ('двухзонный'  in ' '.join(df_char2.iloc[i,2:4].values)):\n",
    "#         df_char2.iloc[i,0] = df_char2.iloc[i,0] + 'двухзонный'\n",
    "#         df_char2.iloc[i,1:] = ''\n",
    "#     if ('комбинированный'  in ' '.join(df_char2.iloc[i,2:4].values)):\n",
    "#         df_char2.iloc[i,0] = df_char2.iloc[i,0] + 'комбинированный'\n",
    "#         df_char2.iloc[i,1:] = ''\n",
    "#     if ('гидрав'  in ' '.join(df_char2.iloc[i,2:4].values)):\n",
    "#         df_char2.iloc[i,0] = df_char2.iloc[i,0] + 'гидравлический'\n",
    "#         df_char2.iloc[i,1:] = ''\n",
    "#     if ('гидро'  in ' '.join(df_char2.iloc[i,2:4].values)):\n",
    "#         df_char2.iloc[i,0] = df_char2.iloc[i,0] + 'гидравлический'\n",
    "#         df_char2.iloc[i,1:] = ''\n",
    "#     if ('тросов'  in ' '.join(df_char2.iloc[i,2:4].values)):\n",
    "#         df_char2.iloc[i,0] = df_char2.iloc[i,0] + 'тросовый'\n",
    "#         df_char2.iloc[i,1:] = ''\n",
    "\n",
    "#     if ('электро'  in ' '.join(df_char2.iloc[i,2:4].values)) and ('зеркал'  in ' '.join(df_char2.iloc[i,2:4].values)):\n",
    "#         df_char2.iloc[i,0] = df_char2.iloc[i,0] + ''\n",
    "#         df_char2.iloc[i,1:-1] = ''\n",
    "\n",
    "\n",
    "#     sss = ' '.join(df_char2.iloc[i,2: 4].values)\n",
    "\n",
    "#     if (('мкп' in sss) or ('мт' in sss)):\n",
    "#         df_char2.iloc[i,0] = df_char2.iloc[i,0] + 'МКПП'\n",
    "#         df_char2.iloc[i,1:] = ''\n",
    "#     if (('акп' in sss) or ('ат' in sss)):\n",
    "#         df_char2.iloc[i,0] = df_char2.iloc[i,0] + 'АКПП'\n",
    "#         df_char2.iloc[i,1:] = ''\n"
   ]
  },
  {
   "cell_type": "code",
   "execution_count": 196,
   "metadata": {
    "ExecuteTime": {
     "end_time": "2019-11-18T11:14:02.804330Z",
     "start_time": "2019-11-18T11:14:02.281911Z"
    }
   },
   "outputs": [],
   "source": [
    "df_char2.to_excel('charachteristics/char_61.xlsx')"
   ]
  },
  {
   "cell_type": "markdown",
   "metadata": {},
   "source": [
    "### length\n"
   ]
  },
  {
   "cell_type": "code",
   "execution_count": 217,
   "metadata": {
    "ExecuteTime": {
     "end_time": "2019-11-18T14:05:21.514201Z",
     "start_time": "2019-11-18T14:05:21.375120Z"
    }
   },
   "outputs": [],
   "source": [
    "df_char2 = pd.read_excel('charachteristics/char_71.xlsx', index_col=0)\n",
    "df_char2 = df_char2.fillna('')"
   ]
  },
  {
   "cell_type": "code",
   "execution_count": 198,
   "metadata": {
    "ExecuteTime": {
     "end_time": "2019-11-18T11:54:54.057891Z",
     "start_time": "2019-11-18T11:54:48.431884Z"
    }
   },
   "outputs": [],
   "source": [
    "for s in range(df_char2.shape[0]):\n",
    "    for i in range(2,4):\n",
    "        sss = df_char2.iloc[s,i]\n",
    "        sss = sss.lower()\n",
    "        sss = re.sub('[^0-9а-яА-Я]+', '', sss)\n",
    "        df_char2.iloc[s,i] = sss"
   ]
  },
  {
   "cell_type": "code",
   "execution_count": 211,
   "metadata": {
    "ExecuteTime": {
     "end_time": "2019-11-18T13:52:37.213267Z",
     "start_time": "2019-11-18T13:52:37.210949Z"
    }
   },
   "outputs": [],
   "source": [
    "# df_char2"
   ]
  },
  {
   "cell_type": "code",
   "execution_count": 218,
   "metadata": {
    "ExecuteTime": {
     "end_time": "2019-11-18T14:05:23.736056Z",
     "start_time": "2019-11-18T14:05:22.802266Z"
    }
   },
   "outputs": [],
   "source": [
    "for i in range(df_char2.shape[0]):\n",
    "    sss = ' '.join(df_char2.iloc[i,2:4].values)\n",
    "#     if ('ширина' in sss):\n",
    "#         df_char2.iloc[i,1] = 'шир'\n",
    "#     if ('автобус' in sss):\n",
    "#         df_char2.iloc[i,1] = df_char2.iloc[i,0] + 'delete'\n",
    "#     if ('линаот' in sss):\n",
    "#         df_char2.iloc[i,1] = sss.split('линаот')[1][:4]\n",
    "#     if ('линаммот' in sss):\n",
    "#         df_char2.iloc[i,1] = sss.split('линаммот')[1][:4]\n",
    "\n",
    "    if ('лина' in sss):\n",
    "        df_char2.iloc[i,1] = sss.split('лина')[1][:4]\n",
    "#     if ('ирина' in sss) :\n",
    "#         df_char2.iloc[i,1] = sss.split('ирина')[1][:4]\n",
    "\n",
    "    \n",
    "#     sss = ' '.join(df_char2.iloc[i,2: 4].values)\n",
    "\n",
    "#     if (('мкп' in sss) or ('мт' in sss)):\n",
    "#         df_char2.iloc[i,0] = df_char2.iloc[i,0] + 'МКПП'\n",
    "#         df_char2.iloc[i,1:] = ''\n",
    "#     if (('акп' in sss) or ('ат' in sss)):\n",
    "#         df_char2.iloc[i,0] = df_char2.iloc[i,0] + 'АКПП'\n",
    "#         df_char2.iloc[i,1:] = ''\n"
   ]
  },
  {
   "cell_type": "code",
   "execution_count": 219,
   "metadata": {
    "ExecuteTime": {
     "end_time": "2019-11-18T14:05:24.358291Z",
     "start_time": "2019-11-18T14:05:23.744528Z"
    }
   },
   "outputs": [],
   "source": [
    "df_char2.to_excel('charachteristics/char_71.xlsx')"
   ]
  },
  {
   "cell_type": "markdown",
   "metadata": {},
   "source": [
    "### mass\n",
    "\n"
   ]
  },
  {
   "cell_type": "code",
   "execution_count": 252,
   "metadata": {
    "ExecuteTime": {
     "end_time": "2019-11-18T18:07:55.522918Z",
     "start_time": "2019-11-18T18:07:55.265212Z"
    }
   },
   "outputs": [],
   "source": [
    "df_char2 = pd.read_excel('charachteristics/char_81.xlsx', index_col=0)\n",
    "df_char2 = df_char2.fillna('')"
   ]
  },
  {
   "cell_type": "code",
   "execution_count": 253,
   "metadata": {
    "ExecuteTime": {
     "end_time": "2019-11-18T18:08:06.700395Z",
     "start_time": "2019-11-18T18:07:55.806922Z"
    }
   },
   "outputs": [],
   "source": [
    "for s in range(df_char2.shape[0]):\n",
    "    for i in range(2,4):\n",
    "        sss = df_char2.iloc[s,i]\n",
    "        sss = sss.lower()\n",
    "        sss = re.sub('[^0-9а-яА-Я]+', '', sss)\n",
    "        df_char2.iloc[s,i] = sss"
   ]
  },
  {
   "cell_type": "code",
   "execution_count": 243,
   "metadata": {
    "ExecuteTime": {
     "end_time": "2019-11-18T14:36:27.706006Z",
     "start_time": "2019-11-18T14:36:27.704009Z"
    }
   },
   "outputs": [],
   "source": [
    "# df_char2"
   ]
  },
  {
   "cell_type": "code",
   "execution_count": 250,
   "metadata": {
    "ExecuteTime": {
     "end_time": "2019-11-18T18:02:13.431155Z",
     "start_time": "2019-11-18T18:02:11.878023Z"
    }
   },
   "outputs": [],
   "source": [
    "for i in range(df_char2.shape[0]):\n",
    "    sss = ' '.join(df_char2.iloc[i,2:4].values)\n",
    "#     if ('ширина' in sss):\n",
    "#         df_char2.iloc[i,1] = 'шир'\n",
    "#     if ('автобус' in sss):\n",
    "#         df_char2.iloc[i,1] = df_char2.iloc[i,0] + 'delete'\n",
    "#     if ('линаот' in sss):\n",
    "#         df_char2.iloc[i,1] = sss.split('линаот')[1][:4]\n",
    "#     if ('линаммот' in sss):\n",
    "#         df_char2.iloc[i,1] = sss.split('линаммот')[1][:4]\n",
    "\n",
    "    if ('наряженнаянеменее' in sss):\n",
    "        df_char2.iloc[i,1] = sss.split('наряженнаянеменее')[1][:4]\n",
    "#     if ('ирина' in sss) :\n",
    "#         df_char2.iloc[i,1] = sss.split('ирина')[1][:4]\n",
    "\n",
    "    \n",
    "#     sss = ' '.join(df_char2.iloc[i,2: 4].values)\n",
    "\n",
    "#     if (('мкп' in sss) or ('мт' in sss)):\n",
    "#         df_char2.iloc[i,0] = df_char2.iloc[i,0] + 'МКПП'\n",
    "#         df_char2.iloc[i,1:] = ''\n",
    "#     if (('акп' in sss) or ('ат' in sss)):\n",
    "#         df_char2.iloc[i,0] = df_char2.iloc[i,0] + 'АКПП'\n",
    "#         df_char2.iloc[i,1:] = ''\n"
   ]
  },
  {
   "cell_type": "code",
   "execution_count": 254,
   "metadata": {
    "ExecuteTime": {
     "end_time": "2019-11-18T18:08:07.830547Z",
     "start_time": "2019-11-18T18:08:06.720469Z"
    }
   },
   "outputs": [],
   "source": [
    "df_char2.to_excel('charachteristics/char_81.xlsx')"
   ]
  },
  {
   "cell_type": "markdown",
   "metadata": {},
   "source": [
    "### mass\n",
    "\n"
   ]
  },
  {
   "cell_type": "code",
   "execution_count": 272,
   "metadata": {
    "ExecuteTime": {
     "end_time": "2019-11-19T02:55:23.864589Z",
     "start_time": "2019-11-19T02:55:23.786579Z"
    }
   },
   "outputs": [],
   "source": [
    "df_char2 = pd.read_excel('charachteristics/char_91.xlsx', index_col=0)\n",
    "df_char2 = df_char2.fillna('')"
   ]
  },
  {
   "cell_type": "code",
   "execution_count": 253,
   "metadata": {
    "ExecuteTime": {
     "end_time": "2019-11-18T18:08:06.700395Z",
     "start_time": "2019-11-18T18:07:55.806922Z"
    }
   },
   "outputs": [],
   "source": [
    "for s in range(df_char2.shape[0]):\n",
    "    for i in range(2,4):\n",
    "        sss = df_char2.iloc[s,i]\n",
    "        sss = sss.lower()\n",
    "        sss = re.sub('[^0-9а-яА-Я]+', '', sss)\n",
    "        df_char2.iloc[s,i] = sss"
   ]
  },
  {
   "cell_type": "code",
   "execution_count": 265,
   "metadata": {
    "ExecuteTime": {
     "end_time": "2019-11-19T02:49:16.191039Z",
     "start_time": "2019-11-19T02:49:16.189250Z"
    }
   },
   "outputs": [],
   "source": [
    "# df_char2"
   ]
  },
  {
   "cell_type": "code",
   "execution_count": 273,
   "metadata": {
    "ExecuteTime": {
     "end_time": "2019-11-19T02:55:33.205737Z",
     "start_time": "2019-11-19T02:55:32.287525Z"
    }
   },
   "outputs": [],
   "source": [
    "for i in range(df_char2.shape[0]):\n",
    "    sss = ' '.join(df_char2.iloc[i,2:4].values)\n",
    "#     if ('ширина' in sss):\n",
    "#         df_char2.iloc[i,1] = 'шир'\n",
    "#     if ('автобус' in sss):\n",
    "#         df_char2.iloc[i,1] = df_char2.iloc[i,0] + 'delete'\n",
    "#     if ('линаот' in sss):\n",
    "#         df_char2.iloc[i,1] = sss.split('линаот')[1][:4]\n",
    "#     if ('линаммот' in sss):\n",
    "#         df_char2.iloc[i,1] = sss.split('линаммот')[1][:4]\n",
    "\n",
    "    if ('ъемдвигателя' in sss):\n",
    "        df_char2.iloc[i,1] = sss.split('ъемдвигателя')[1][:4]\n",
    "#     if ('ирина' in sss) :\n",
    "#         df_char2.iloc[i,1] = sss.split('ирина')[1][:4]\n",
    "\n",
    "    \n",
    "#     sss = ' '.join(df_char2.iloc[i,2: 4].values)\n",
    "\n",
    "#     if (('мкп' in sss) or ('мт' in sss)):\n",
    "#         df_char2.iloc[i,0] = df_char2.iloc[i,0] + 'МКПП'\n",
    "#         df_char2.iloc[i,1:] = ''\n",
    "#     if (('акп' in sss) or ('ат' in sss)):\n",
    "#         df_char2.iloc[i,0] = df_char2.iloc[i,0] + 'АКПП'\n",
    "#         df_char2.iloc[i,1:] = ''\n"
   ]
  },
  {
   "cell_type": "code",
   "execution_count": 274,
   "metadata": {
    "ExecuteTime": {
     "end_time": "2019-11-19T02:55:33.809728Z",
     "start_time": "2019-11-19T02:55:33.214598Z"
    }
   },
   "outputs": [],
   "source": [
    "df_char2.to_excel('charachteristics/char_91.xlsx')"
   ]
  },
  {
   "cell_type": "markdown",
   "metadata": {},
   "source": [
    "### speed\n",
    "\n",
    "\n"
   ]
  },
  {
   "cell_type": "code",
   "execution_count": 288,
   "metadata": {
    "ExecuteTime": {
     "end_time": "2019-11-19T03:27:12.275063Z",
     "start_time": "2019-11-19T03:27:12.172050Z"
    }
   },
   "outputs": [],
   "source": [
    "df_char2 = pd.read_excel('charachteristics/char_101.xlsx', index_col=0)\n",
    "df_char2 = df_char2.fillna('')"
   ]
  },
  {
   "cell_type": "code",
   "execution_count": 283,
   "metadata": {
    "ExecuteTime": {
     "end_time": "2019-11-19T03:13:51.127906Z",
     "start_time": "2019-11-19T03:13:44.816060Z"
    }
   },
   "outputs": [],
   "source": [
    "for s in range(df_char2.shape[0]):\n",
    "    for i in range(2,4):\n",
    "        sss = df_char2.iloc[s,i]\n",
    "        sss = sss.lower()\n",
    "        sss = re.sub('[^0-9а-яА-Я]+', '', sss)\n",
    "        df_char2.iloc[s,i] = sss"
   ]
  },
  {
   "cell_type": "code",
   "execution_count": 284,
   "metadata": {
    "ExecuteTime": {
     "end_time": "2019-11-19T03:13:51.141627Z",
     "start_time": "2019-11-19T03:13:51.139238Z"
    }
   },
   "outputs": [],
   "source": [
    "# df_char2"
   ]
  },
  {
   "cell_type": "code",
   "execution_count": 292,
   "metadata": {
    "ExecuteTime": {
     "end_time": "2019-11-19T03:27:59.885428Z",
     "start_time": "2019-11-19T03:27:59.093014Z"
    }
   },
   "outputs": [],
   "source": [
    "for i in range(df_char2.shape[0]):\n",
    "    sss = ' '.join(df_char2.iloc[i,2:4].values)\n",
    "#     if ('ширина' in sss):\n",
    "#         df_char2.iloc[i,1] = 'шир'\n",
    "#     if ('автобус' in sss):\n",
    "#         df_char2.iloc[i,1] = df_char2.iloc[i,0] + 'delete'\n",
    "#     if ('линаот' in sss):\n",
    "#         df_char2.iloc[i,1] = sss.split('линаот')[1][:4]\n",
    "#     if ('линаммот' in sss):\n",
    "#         df_char2.iloc[i,1] = sss.split('линаммот')[1][:4]\n",
    "\n",
    "    if ('неболее' in sss):\n",
    "        df_char2.iloc[i,1] = sss.split('неболее')[1][:3]\n",
    "#     if ('ирина' in sss) :\n",
    "#         df_char2.iloc[i,1] = sss.split('ирина')[1][:4]\n",
    "\n",
    "    \n",
    "#     sss = ' '.join(df_char2.iloc[i,2: 4].values)\n",
    "\n",
    "#     if (('мкп' in sss) or ('мт' in sss)):\n",
    "#         df_char2.iloc[i,0] = df_char2.iloc[i,0] + 'МКПП'\n",
    "#         df_char2.iloc[i,1:] = ''\n",
    "#     if (('акп' in sss) or ('ат' in sss)):\n",
    "#         df_char2.iloc[i,0] = df_char2.iloc[i,0] + 'АКПП'\n",
    "#         df_char2.iloc[i,1:] = ''\n"
   ]
  },
  {
   "cell_type": "code",
   "execution_count": 293,
   "metadata": {
    "ExecuteTime": {
     "end_time": "2019-11-19T03:28:00.489875Z",
     "start_time": "2019-11-19T03:27:59.894142Z"
    }
   },
   "outputs": [],
   "source": [
    "df_char2.to_excel('charachteristics/char_101.xlsx')"
   ]
  },
  {
   "cell_type": "markdown",
   "metadata": {},
   "source": [
    "### mosch\n",
    "\n",
    "\n",
    "\n"
   ]
  },
  {
   "cell_type": "code",
   "execution_count": 430,
   "metadata": {
    "ExecuteTime": {
     "end_time": "2019-11-19T08:07:07.688069Z",
     "start_time": "2019-11-19T08:07:07.589351Z"
    }
   },
   "outputs": [],
   "source": [
    "df_char2 = pd.read_excel('charachteristics/char_101.xlsx', index_col=0)\n",
    "df_char2 = df_char2.fillna('')"
   ]
  },
  {
   "cell_type": "code",
   "execution_count": 297,
   "metadata": {
    "ExecuteTime": {
     "end_time": "2019-11-19T03:44:09.841879Z",
     "start_time": "2019-11-19T03:44:03.362699Z"
    }
   },
   "outputs": [],
   "source": [
    "for s in range(df_char2.shape[0]):\n",
    "    for i in range(2,4):\n",
    "        sss = df_char2.iloc[s,i]\n",
    "        sss = sss.lower()\n",
    "        sss = re.sub('[^0-9а-яА-Я]+', '', sss)\n",
    "        df_char2.iloc[s,i] = sss"
   ]
  },
  {
   "cell_type": "code",
   "execution_count": 308,
   "metadata": {
    "ExecuteTime": {
     "end_time": "2019-11-19T04:05:18.323952Z",
     "start_time": "2019-11-19T04:05:18.321927Z"
    }
   },
   "outputs": [],
   "source": [
    "# df_char2"
   ]
  },
  {
   "cell_type": "code",
   "execution_count": 431,
   "metadata": {
    "ExecuteTime": {
     "end_time": "2019-11-19T08:07:15.603485Z",
     "start_time": "2019-11-19T08:07:14.714363Z"
    }
   },
   "outputs": [],
   "source": [
    "for i in range(df_char2.shape[0]):\n",
    "    sss = ' '.join(df_char2.iloc[i,2:4].values)\n",
    "#     if ('квт' in sss):\n",
    "#         df_char2.iloc[i,1] = 'квт'\n",
    "# #     if ('автобус' in sss):\n",
    "#         df_char2.iloc[i,1] = df_char2.iloc[i,0] + 'delete'\n",
    "#     if ('линаот' in sss):\n",
    "#         df_char2.iloc[i,1] = sss.split('линаот')[1][:4]\n",
    "#     if ('линаммот' in sss):\n",
    "#         df_char2.iloc[i,1] = sss.split('линаммот')[1][:4]\n",
    "\n",
    "#     if ('ощностьлснеменее' in sss):\n",
    "#         df_char2.iloc[i,1] = sss.split('ощностьлснеменее')[1][:2]\n",
    "\n",
    "    if ('неменее' in sss):\n",
    "        df_char2.iloc[i,1] = sss.split('неменее')[1][:2]\n",
    "#     if ('ощностьлсквтобминнеменее' in sss):\n",
    "#         df_char2.iloc[i,1] = sss.split('ощностьлсквтобминнеменее')[1][:2]\n",
    "\n",
    "#     if ('лс' in sss):\n",
    "#         df_char2.iloc[i,1] = sss.split('лс')[0][-2:]\n",
    "        \n",
    "        \n",
    "    \n",
    "#     sss = ' '.join(df_char2.iloc[i,2: 4].values)\n",
    "\n",
    "#     if (('мкп' in sss) or ('мт' in sss)):\n",
    "#         df_char2.iloc[i,0] = df_char2.iloc[i,0] + 'МКПП'\n",
    "#         df_char2.iloc[i,1:] = ''\n",
    "#     if (('акп' in sss) or ('ат' in sss)):\n",
    "#         df_char2.iloc[i,0] = df_char2.iloc[i,0] + 'АКПП'\n",
    "#         df_char2.iloc[i,1:] = ''\n"
   ]
  },
  {
   "cell_type": "code",
   "execution_count": 432,
   "metadata": {
    "ExecuteTime": {
     "end_time": "2019-11-19T08:07:16.197713Z",
     "start_time": "2019-11-19T08:07:15.613419Z"
    }
   },
   "outputs": [],
   "source": [
    "df_char2.to_excel('charachteristics/char_101.xlsx')"
   ]
  },
  {
   "cell_type": "markdown",
   "metadata": {},
   "source": [
    "### potr\n",
    "\n",
    "\n",
    "\n",
    "\n"
   ]
  },
  {
   "cell_type": "code",
   "execution_count": 380,
   "metadata": {
    "ExecuteTime": {
     "end_time": "2019-11-19T06:05:12.845420Z",
     "start_time": "2019-11-19T06:05:12.728302Z"
    }
   },
   "outputs": [],
   "source": [
    "df_char2 = pd.read_excel('charachteristics/char_102.xlsx', index_col=0)\n",
    "df_char2 = df_char2.fillna('')"
   ]
  },
  {
   "cell_type": "code",
   "execution_count": 357,
   "metadata": {
    "ExecuteTime": {
     "end_time": "2019-11-19T05:40:33.787715Z",
     "start_time": "2019-11-19T05:40:27.613378Z"
    }
   },
   "outputs": [],
   "source": [
    "for s in range(df_char2.shape[0]):\n",
    "    for i in range(2,4):\n",
    "        sss = df_char2.iloc[s,i]\n",
    "        sss = sss.lower()\n",
    "        sss = re.sub('[^0-9а-яА-Я]+', '', sss)\n",
    "        df_char2.iloc[s,i] = sss"
   ]
  },
  {
   "cell_type": "code",
   "execution_count": 362,
   "metadata": {
    "ExecuteTime": {
     "end_time": "2019-11-19T05:45:47.057697Z",
     "start_time": "2019-11-19T05:45:47.055756Z"
    }
   },
   "outputs": [],
   "source": [
    "# df_char2"
   ]
  },
  {
   "cell_type": "code",
   "execution_count": 381,
   "metadata": {
    "ExecuteTime": {
     "end_time": "2019-11-19T06:05:14.700392Z",
     "start_time": "2019-11-19T06:05:13.900267Z"
    }
   },
   "outputs": [],
   "source": [
    "for i in range(df_char2.shape[0]):\n",
    "    sss = ' '.join(df_char2.iloc[i,2:4].values)\n",
    "#     if ('ширина' in sss):\n",
    "#         df_char2.iloc[i,1] = 'шир'\n",
    "#     if ('автобус' in sss):\n",
    "#         df_char2.iloc[i,1] = df_char2.iloc[i,0] + 'delete'\n",
    "#     if ('линаот' in sss):\n",
    "#         df_char2.iloc[i,1] = sss.split('линаот')[1][:4]\n",
    "#     if ('линаммот' in sss):\n",
    "#         df_char2.iloc[i,1] = sss.split('линаммот')[1][:4]\n",
    "\n",
    "#     if ('ощностьлснеменее' in sss):\n",
    "#         df_char2.iloc[i,1] = sss.split('ощностьлснеменее')[1][:2]\n",
    "\n",
    "    if ('ородскойцикл' in sss):\n",
    "        df_char2.iloc[i,1] = sss.split('ородскойцикл')[1][:2]\n",
    "#     if ('ощностьлсквтобминнеменее' in sss):\n",
    "#         df_char2.iloc[i,1] = sss.split('ощностьлсквтобминнеменее')[1][:2]\n",
    "\n",
    "#     if ('не' in sss):\n",
    "#         df_char2.iloc[i,1] = sss.split('лс')[0][-2:]\n",
    "        \n",
    "        \n",
    "    \n",
    "#     sss = ' '.join(df_char2.iloc[i,2: 4].values)\n",
    "\n",
    "#     if (('мкп' in sss) or ('мт' in sss)):\n",
    "#         df_char2.iloc[i,0] = df_char2.iloc[i,0] + 'МКПП'\n",
    "#         df_char2.iloc[i,1:] = ''\n",
    "#     if (('акп' in sss) or ('ат' in sss)):\n",
    "#         df_char2.iloc[i,0] = df_char2.iloc[i,0] + 'АКПП'\n",
    "#         df_char2.iloc[i,1:] = ''\n"
   ]
  },
  {
   "cell_type": "code",
   "execution_count": 382,
   "metadata": {
    "ExecuteTime": {
     "end_time": "2019-11-19T06:05:15.241377Z",
     "start_time": "2019-11-19T06:05:14.709011Z"
    }
   },
   "outputs": [],
   "source": [
    "df_char2.to_excel('charachteristics/char_102.xlsx')"
   ]
  },
  {
   "cell_type": "code",
   "execution_count": null,
   "metadata": {},
   "outputs": [],
   "source": []
  },
  {
   "cell_type": "markdown",
   "metadata": {},
   "source": [
    "### other stuff"
   ]
  },
  {
   "cell_type": "code",
   "execution_count": null,
   "metadata": {},
   "outputs": [],
   "source": []
  },
  {
   "cell_type": "code",
   "execution_count": 1484,
   "metadata": {
    "ExecuteTime": {
     "end_time": "2019-10-28T14:23:43.231792Z",
     "start_time": "2019-10-28T14:23:43.176463Z"
    }
   },
   "outputs": [],
   "source": [
    "for s in range(df_text_2.shape[0]):\n",
    "    for i in range(4,5):\n",
    "        sss = df_text_2.iloc[s,15+i]\n",
    "        \n",
    "        \n",
    "#         sss = sss.split('линаширинавысотаммнеменее')[-1][:4]\n",
    "#         sss = sss.split('выпуска')[-1][:4]\n",
    "        sss = re.sub('[^0-9]+', '', sss)\n",
    "        \n",
    "    \n",
    "        if len(sss) > 0:\n",
    "            if int(sss[:4])<1900:\n",
    "                df_text_2.iloc[s,15+i] = ''\n",
    "        \n",
    "\n",
    "#         if len(sss) != 4:\n",
    "#             df_text_2.iloc[s,15+i] = ''\n",
    "   \n",
    "        "
   ]
  },
  {
   "cell_type": "code",
   "execution_count": 927,
   "metadata": {
    "ExecuteTime": {
     "end_time": "2019-10-28T12:24:02.714378Z",
     "start_time": "2019-10-28T12:24:02.711167Z"
    }
   },
   "outputs": [],
   "source": [
    "# электрообогрев"
   ]
  },
  {
   "cell_type": "code",
   "execution_count": 913,
   "metadata": {
    "ExecuteTime": {
     "end_time": "2019-10-28T12:20:59.142348Z",
     "start_time": "2019-10-28T12:20:57.176704Z"
    }
   },
   "outputs": [],
   "source": [
    "for s in range(df_text_2.shape[0]):\n",
    "    for i in range(2,3):\n",
    "        sss = df_text_2.iloc[s,15+i]\n",
    "#         sss = sss.replace('привод', '')\n",
    "        sss = re.sub('[^а-я]+', '', sss)\n",
    "        df_text_2.iloc[s,15+i] = sss"
   ]
  },
  {
   "cell_type": "code",
   "execution_count": 850,
   "metadata": {
    "ExecuteTime": {
     "end_time": "2019-10-28T12:01:31.844253Z",
     "start_time": "2019-10-28T12:01:31.839110Z"
    }
   },
   "outputs": [
    {
     "data": {
      "text/plain": [
       "'арыоы'"
      ]
     },
     "execution_count": 850,
     "metadata": {},
     "output_type": "execute_result"
    }
   ],
   "source": [
    "sss = 'df.igfdjарыоыloc[17,17]'\n",
    "re.sub('[^а-я]+', '', sss)"
   ]
  },
  {
   "cell_type": "code",
   "execution_count": 761,
   "metadata": {
    "ExecuteTime": {
     "end_time": "2019-10-28T11:11:03.239929Z",
     "start_time": "2019-10-28T11:11:01.832268Z"
    }
   },
   "outputs": [],
   "source": [
    "# for s in range(df_text_2.shape[0]):\n",
    "#     for i in range(1,2):\n",
    "#         sss = df_text_2.iloc[s,15+i]\n",
    "#         if not(('вариатор' in sss) or ('МКПП' in sss) or ('АКПП' in sss) or ('робот' in sss) or ('гидро' in sss)):\n",
    "#             df_text_2.iloc[s,15+i] = ''"
   ]
  },
  {
   "cell_type": "code",
   "execution_count": 1419,
   "metadata": {
    "ExecuteTime": {
     "end_time": "2019-10-28T14:07:16.884366Z",
     "start_time": "2019-10-28T14:07:14.415712Z"
    }
   },
   "outputs": [],
   "source": [
    "df_text_2.to_excel('ttt.xlsx')"
   ]
  },
  {
   "cell_type": "code",
   "execution_count": 29,
   "metadata": {
    "ExecuteTime": {
     "end_time": "2019-10-28T03:10:01.422319Z",
     "start_time": "2019-10-28T03:09:59.650579Z"
    }
   },
   "outputs": [],
   "source": [
    "for k in range(len(document.tables)):\n",
    "    table = document.tables[k]\n",
    "    data = read_table(table)\n",
    "    data = data.fillna('')\n",
    "\n",
    "\n",
    "    for s in range(data.shape[0]):\n",
    "        for i in range(len(keywords)):\n",
    "            for j in range(len(keywords[i])):\n",
    "                if any(data.iloc[s,:].str.contains(keywords[i][j])):\n",
    "                    dstr = ' '.join(data.iloc[s,:].values)\n",
    "                    df_text.iloc[l,14+i] = df_text.iloc[l,14+i] + dstr + '; '\n",
    "\n",
    "       "
   ]
  },
  {
   "cell_type": "code",
   "execution_count": 1563,
   "metadata": {
    "ExecuteTime": {
     "end_time": "2019-10-28T14:46:19.025949Z",
     "start_time": "2019-10-28T14:46:16.500364Z"
    }
   },
   "outputs": [],
   "source": [
    "df_text_2.to_excel('ttt.xlsx')"
   ]
  },
  {
   "cell_type": "code",
   "execution_count": 2007,
   "metadata": {
    "ExecuteTime": {
     "end_time": "2019-10-28T16:58:47.991828Z",
     "start_time": "2019-10-28T16:58:47.372452Z"
    }
   },
   "outputs": [],
   "source": [
    "df_text_2 = pd.read_excel('clean_goszak_df.xlsx',  dtype={'purchase_number':object})"
   ]
  },
  {
   "cell_type": "code",
   "execution_count": null,
   "metadata": {},
   "outputs": [],
   "source": []
  },
  {
   "cell_type": "code",
   "execution_count": 106,
   "metadata": {
    "ExecuteTime": {
     "end_time": "2019-10-22T12:01:21.757404Z",
     "start_time": "2019-10-22T12:01:21.755160Z"
    }
   },
   "outputs": [],
   "source": [
    "import pandas as pd\n",
    "import re"
   ]
  },
  {
   "cell_type": "code",
   "execution_count": 107,
   "metadata": {
    "ExecuteTime": {
     "end_time": "2019-10-22T12:01:22.487620Z",
     "start_time": "2019-10-22T12:01:22.316972Z"
    }
   },
   "outputs": [],
   "source": [
    "df_docx = pd.read_excel('docx_final_df_2017.xlsx')"
   ]
  },
  {
   "cell_type": "code",
   "execution_count": 108,
   "metadata": {
    "ExecuteTime": {
     "end_time": "2019-10-22T12:01:24.122642Z",
     "start_time": "2019-10-22T12:01:24.070772Z"
    }
   },
   "outputs": [],
   "source": [
    "df_csv = pd.read_csv('0_check_selen.csv', index_col=0)"
   ]
  },
  {
   "cell_type": "code",
   "execution_count": 109,
   "metadata": {
    "ExecuteTime": {
     "end_time": "2019-10-22T12:01:25.919237Z",
     "start_time": "2019-10-22T12:01:25.916054Z"
    }
   },
   "outputs": [],
   "source": [
    "df_csv = df_csv.loc[df_docx['index_name'],]"
   ]
  },
  {
   "cell_type": "code",
   "execution_count": 110,
   "metadata": {
    "ExecuteTime": {
     "end_time": "2019-10-22T12:01:30.420304Z",
     "start_time": "2019-10-22T12:01:30.414396Z"
    }
   },
   "outputs": [],
   "source": [
    "df_docx = df_docx.set_index('index_name')"
   ]
  },
  {
   "cell_type": "code",
   "execution_count": 111,
   "metadata": {
    "ExecuteTime": {
     "end_time": "2019-10-22T12:01:34.698960Z",
     "start_time": "2019-10-22T12:01:34.696001Z"
    }
   },
   "outputs": [],
   "source": [
    "df_csv['V2'] = [i.replace('\\n', '') for i in df_csv['V2'].values]"
   ]
  },
  {
   "cell_type": "code",
   "execution_count": 88,
   "metadata": {
    "ExecuteTime": {
     "end_time": "2019-10-22T11:46:06.358874Z",
     "start_time": "2019-10-22T11:46:06.310490Z"
    }
   },
   "outputs": [],
   "source": [
    "df_csv['V2'] = [re.split('Поставк', i)[-1] for i in df_csv['V2'].values]\n",
    "df_csv['V2'] = [re.split('поставк', i)[-1] for i in df_csv['V2'].values]\n",
    "df_csv['V2'] = [re.split('Покупк', i)[-1] for i in df_csv['V2'].values]\n",
    "df_csv['V2'] = [re.split('Приобретение', i)[-1] for i in df_csv['V2'].values]\n",
    "df_csv['V2'] = [re.split('Автомобил', i)[-1] for i in df_csv['V2'].values]\n",
    "df_csv['V2'] = [re.split('Легков', i)[-1] for i in df_csv['V2'].values]\n",
    "df_csv['V2'] = [re.split('Средства', i)[-1] for i in df_csv['V2'].values]\n",
    "df_csv['V2'] = [re.split('Закупка', i)[-1] for i in df_csv['V2'].values]\n",
    "df_csv['V2'] = [re.split('Внедорожн', i)[-1] for i in df_csv['V2'].values]\n",
    "df_csv['V2'] = [re.split('приобретение', i)[-1] for i in df_csv['V2'].values]\n",
    "df_csv['V2'] = [re.split('закупк', i)[-1] for i in df_csv['V2'].values]\n",
    "df_csv['V2'] = [re.split('легков', i)[-1] for i in df_csv['V2'].values]\n",
    "df_csv['V2'] = [re.split('покупк', i)[-1] for i in df_csv['V2'].values]\n",
    "df_csv['V2'] = [re.split('автомобил', i)[-1] for i in df_csv['V2'].values]\n",
    "df_csv['V2'] = [re.split('транспортные средства', i)[-1] for i in df_csv['V2'].values]\n"
   ]
  },
  {
   "cell_type": "code",
   "execution_count": 49,
   "metadata": {
    "ExecuteTime": {
     "end_time": "2019-10-22T11:39:12.700436Z",
     "start_time": "2019-10-22T11:39:12.695900Z"
    }
   },
   "outputs": [],
   "source": [
    "df_csv['V2'] = [re.split('Идентификационный код', i)[0] for i in df_csv['V2'].values]\n",
    "df_csv['V2'] = [re.split('для', i)[0] for i in df_csv['V2'].values]"
   ]
  },
  {
   "cell_type": "code",
   "execution_count": 45,
   "metadata": {
    "ExecuteTime": {
     "end_time": "2019-10-22T11:36:48.831047Z",
     "start_time": "2019-10-22T11:36:48.827426Z"
    }
   },
   "outputs": [],
   "source": [
    "df_csv['V2'] = [i.replace('\\n', '') for i in df_csv['V2'].values]"
   ]
  },
  {
   "cell_type": "code",
   "execution_count": null,
   "metadata": {},
   "outputs": [],
   "source": [
    "df_csv['V2'] = [i.replace('\\n', '') for i in df_csv['V2'].values]"
   ]
  },
  {
   "cell_type": "code",
   "execution_count": 89,
   "metadata": {
    "ExecuteTime": {
     "end_time": "2019-10-22T11:46:08.222144Z",
     "start_time": "2019-10-22T11:46:08.210135Z"
    }
   },
   "outputs": [
    {
     "data": {
      "text/plain": [
       "array([], dtype=object)"
      ]
     },
     "execution_count": 89,
     "metadata": {},
     "output_type": "execute_result"
    }
   ],
   "source": [
    "df_csv['V2'].values[np.array([len(i) for i in df_csv['V2'].values]) > 1000]"
   ]
  },
  {
   "cell_type": "code",
   "execution_count": 94,
   "metadata": {
    "ExecuteTime": {
     "end_time": "2019-10-22T11:48:06.385030Z",
     "start_time": "2019-10-22T11:48:06.375482Z"
    }
   },
   "outputs": [],
   "source": [
    "df_docx['v2'] =  df_csv['V2']"
   ]
  },
  {
   "cell_type": "code",
   "execution_count": 95,
   "metadata": {
    "ExecuteTime": {
     "end_time": "2019-10-22T11:48:25.245241Z",
     "start_time": "2019-10-22T11:48:25.216722Z"
    }
   },
   "outputs": [],
   "source": [
    "df_docx.to_csv('check_name1.csv')"
   ]
  },
  {
   "cell_type": "code",
   "execution_count": null,
   "metadata": {},
   "outputs": [],
   "source": []
  },
  {
   "cell_type": "code",
   "execution_count": 207,
   "metadata": {
    "ExecuteTime": {
     "end_time": "2019-10-27T22:45:35.349096Z",
     "start_time": "2019-10-27T22:45:35.346200Z"
    }
   },
   "outputs": [],
   "source": [
    "# [text, down1]\n",
    "marka  =  []\n",
    "model  =  []\n",
    "\n",
    "# text, name, right1, right2, right3 \n",
    "year =  []\n",
    "korobka =  []\n",
    "privod =  []\n",
    "width =  []\n",
    "length =  []\n",
    "mass =  []\n",
    "volume =  []\n",
    "speed =  []\n",
    "power =  []\n",
    "potrebl =  []"
   ]
  },
  {
   "cell_type": "code",
   "execution_count": 232,
   "metadata": {
    "ExecuteTime": {
     "end_time": "2019-10-27T23:11:33.655603Z",
     "start_time": "2019-10-27T23:11:33.653652Z"
    }
   },
   "outputs": [],
   "source": [
    "text_arr = []"
   ]
  },
  {
   "cell_type": "code",
   "execution_count": 246,
   "metadata": {
    "ExecuteTime": {
     "end_time": "2019-10-27T23:13:28.738344Z",
     "start_time": "2019-10-27T23:13:28.734662Z"
    }
   },
   "outputs": [],
   "source": [
    "text_arr.append('NA')"
   ]
  },
  {
   "cell_type": "code",
   "execution_count": 247,
   "metadata": {
    "ExecuteTime": {
     "end_time": "2019-10-27T23:13:28.981788Z",
     "start_time": "2019-10-27T23:13:28.977672Z"
    }
   },
   "outputs": [
    {
     "data": {
      "text/plain": [
       "['NA', 'NA']"
      ]
     },
     "execution_count": 247,
     "metadata": {},
     "output_type": "execute_result"
    }
   ],
   "source": [
    "text_arr\n"
   ]
  },
  {
   "cell_type": "code",
   "execution_count": 258,
   "metadata": {
    "ExecuteTime": {
     "end_time": "2019-10-27T23:17:19.989737Z",
     "start_time": "2019-10-27T23:17:19.985578Z"
    }
   },
   "outputs": [],
   "source": [
    "\n",
    "text_arr = []"
   ]
  },
  {
   "cell_type": "code",
   "execution_count": 261,
   "metadata": {
    "ExecuteTime": {
     "end_time": "2019-10-27T23:17:51.457765Z",
     "start_time": "2019-10-27T23:17:51.455439Z"
    }
   },
   "outputs": [],
   "source": [
    "# df_text"
   ]
  },
  {
   "cell_type": "code",
   "execution_count": null,
   "metadata": {
    "ExecuteTime": {
     "start_time": "2019-10-27T23:23:07.401Z"
    }
   },
   "outputs": [
    {
     "name": "stdout",
     "output_type": "stream",
     "text": [
      "327\n",
      "330\n",
      "334\n",
      "336\n",
      "341\n",
      "342\n",
      "353\n",
      "359\n",
      "360\n",
      "364\n",
      "395\n",
      "398\n",
      "401\n",
      "402\n",
      "404\n",
      "424\n",
      "449\n",
      "450\n",
      "451\n",
      "453\n",
      "522\n",
      "523\n",
      "527\n",
      "530\n",
      "568\n",
      "570\n",
      "1076\n",
      "1746\n",
      "2558\n",
      "2565\n",
      "2566\n",
      "2768\n",
      "3160\n",
      "3162\n",
      "3254\n",
      "3262\n",
      "3403\n"
     ]
    }
   ],
   "source": [
    "all_tstore = {}\n",
    "for l in range(df_text.shape[0]):\n",
    "    if l%%250 == 0:\n",
    "        print(l)\n",
    "    fpath = '/media/xenakas/ext4_drive/data_goszak/2_data_goszak_renamed/' + df_text.iloc[l,-1]\n",
    "    try:\n",
    "        document = Document(fpath)\n",
    "        \n",
    "        tstore = 'NA'\n",
    "        \n",
    "        year = korobka  = privod = width = length = mass = volume = speed = power = potrebl =  'NA\n",
    "        \n",
    "        k = 0\n",
    "        while (k <= len(document.paragraphs)-1) and ((year == 'NA' ) or (korobka == 'NA' ) \n",
    "                                                     or (privod == 'NA' ) \n",
    "                                                     or (width == 'NA' ) or (length == 'NA' ) \n",
    "                                                     or (mass == 'NA' ) or (volume == 'NA' ) \n",
    "                                                     or (speed == 'NA' ) or (power == 'NA' ) \n",
    "                                                     or (potrebl == 'NA' )):\n",
    "            tata = document.paragraphs[k].text\n",
    "            \n",
    "            val = ('Год выпуска' in tata) or ('год выпуска' in tata) or ('Года выпуска' in tata) or ('года выпуска' in tata)\n",
    "            if val:\n",
    "                year = tata \n",
    "                \n",
    "            val = ('Коробка' in tata) or ('коробка' in tata) or ('трансмисс' in tata) or ('Трансмисс' in tata)\n",
    "            if val:\n",
    "                korobka = tata \n",
    "            \n",
    "            val = ('Привод' in tata) or ('привод' in tata) \n",
    "            if val:\n",
    "                privod = tata \n",
    "                \n",
    "            val = ('Ширина' in tata) or ('ширина' in tata) \n",
    "            if val:\n",
    "                width = tata \n",
    "\n",
    "            val = ('Длина' in tata) or ('длина' in tata)  \n",
    "            if val:\n",
    "                length = tata \n",
    "                \n",
    "            val = ('Масса' in tata) or ('масса' in tata)\n",
    "            if val:\n",
    "                mass = tata \n",
    "\n",
    "            val = ('Объем' in tata) or ('объем' in tata) or ('объём' in tata) or ('Объём' in tata)\n",
    "            if val:\n",
    "                volume = tata \n",
    "                \n",
    "            val = ('скорость' in tata) or ('Скорость' in tata) \n",
    "            if val:\n",
    "                speed = tata \n",
    " \n",
    "            val = ('Мощность' in tata) or ('мощность' in tata) \n",
    "            if val:\n",
    "                power = tata \n",
    "                \n",
    "            val = ('Потребление' in tata) or ('потребление' in tata) \n",
    "            if val:\n",
    "                potrebl = tata       \n",
    "            \n",
    "            k += 1\n",
    "#         text_arr\n",
    "#         text_arr = text_arr.append(tstore)\n",
    "    except:\n",
    "        print(l)\n",
    "#         tstore = 'NAN'\n",
    "#         text_arr\n",
    "#         text_arr = text_arr.append('problem')\n",
    "    all_tstore[l]  = tstore\n",
    "#     text_arr = text_arr.append(tstore)"
   ]
  },
  {
   "cell_type": "code",
   "execution_count": 270,
   "metadata": {
    "ExecuteTime": {
     "end_time": "2019-10-27T23:22:27.146323Z",
     "start_time": "2019-10-27T23:22:27.134616Z"
    }
   },
   "outputs": [],
   "source": [
    "l=2\n",
    "fpath = '/media/xenakas/ext4_drive/data_goszak/2_data_goszak_renamed/' + df_text.iloc[l,-1]\n",
    "document = Document(fpath)\n",
    "tstore = 'NA'\n",
    "k = 0\n",
    "while (k <= len(document.paragraphs)-1) and (tstore == 'NA' ):\n",
    "    tata = document.paragraphs[k].text\n",
    "    val = ('Год выпуска' in tata) or ('год выпуска' in tata) or ('Года выпуска' in tata) or ('года выпуска' in tata)\n",
    "    if val:\n",
    "        tstore = tata \n",
    "    k += 1\n",
    "#         text_arr\n",
    "#         text_arr = text_arr.append(tstore)\n"
   ]
  },
  {
   "cell_type": "code",
   "execution_count": 271,
   "metadata": {
    "ExecuteTime": {
     "end_time": "2019-10-27T23:22:28.072310Z",
     "start_time": "2019-10-27T23:22:28.066263Z"
    }
   },
   "outputs": [
    {
     "data": {
      "text/plain": [
       "'Извещение о проведении электронного аукциона'"
      ]
     },
     "execution_count": 271,
     "metadata": {},
     "output_type": "execute_result"
    }
   ],
   "source": [
    "document.paragraphs[0].text"
   ]
  },
  {
   "cell_type": "code",
   "execution_count": 213,
   "metadata": {
    "ExecuteTime": {
     "end_time": "2019-10-27T23:02:52.120798Z",
     "start_time": "2019-10-27T23:02:52.115763Z"
    }
   },
   "outputs": [],
   "source": [
    "tata = document.paragraphs[5].text"
   ]
  },
  {
   "cell_type": "code",
   "execution_count": 215,
   "metadata": {
    "ExecuteTime": {
     "end_time": "2019-10-27T23:03:13.392216Z",
     "start_time": "2019-10-27T23:03:13.386925Z"
    }
   },
   "outputs": [
    {
     "data": {
      "text/plain": [
       "True"
      ]
     },
     "execution_count": 215,
     "metadata": {},
     "output_type": "execute_result"
    }
   ],
   "source": [
    "'Кам' in tata"
   ]
  },
  {
   "cell_type": "code",
   "execution_count": 212,
   "metadata": {
    "ExecuteTime": {
     "end_time": "2019-10-27T23:01:59.368617Z",
     "start_time": "2019-10-27T23:01:59.365650Z"
    }
   },
   "outputs": [],
   "source": [
    "# document.paragraphs[0].text"
   ]
  },
  {
   "cell_type": "code",
   "execution_count": null,
   "metadata": {},
   "outputs": [],
   "source": [
    "year =  []\n",
    "for l in range(df_text.iloc[:10, :].shape[0]):\n",
    "    fpath = '/media/xenakas/ext4_drive/data_goszak/2_data_goszak_renamed/' + df_text.iloc[l,-1]\n",
    "    try:\n",
    "        document = Document(fpath)\n",
    "        tab_list_meh = {}\n",
    "        print(l)\n",
    "        \n",
    "        year_arr = []\n",
    "        \n",
    "           \n",
    "        \n",
    "        \n",
    "        for k in range(len(document.tables)):\n",
    "            table = document.tables[k]\n",
    "            try:\n",
    "                data = read_table(table)\n",
    "                val = any([\n",
    "                    data.iloc[:, j].str.contains('Год выпуска').any()\n",
    "                    or data.iloc[:, j].str.contains('год выпуска').any()\n",
    "                    or data.iloc[:, j].str.contains('Года выпуска').any()\n",
    "                    or data.iloc[:, j].str.contains('года выпуска').any()                    \n",
    "                    for j in range(data.shape[1])\n",
    "                ])\n",
    "                \n",
    "#                 cols = data.columns.values                \n",
    "#                 val2 =  ('Год выпуска' in cols) or ('ГОД ВЫПУСКА' in cols) \n",
    "                if val:\n",
    "                    tab_list_meh[k] = data\n",
    "            except:\n",
    "                year.append(['nothing', 'nothing','nothing','nothing','nothing' ])               \n",
    "                print(\"An exception occurred\")\n",
    "\n",
    "    #         keys = None\n",
    "    #         for i, row in enumerate(table.rows):\n",
    "    #             text = (cell.text for cell in row.cells)\n",
    "    #             if i == 0:\n",
    "    #                 keys = tuple(text)\n",
    "    #                 continue\n",
    "    #             row_data = dict(zip(keys, text))\n",
    "    #             data.append(row_data)\n",
    "\n",
    "    #         data = pd.DataFrame(data)\n",
    "\n",
    "        all_tabs[l] = tab_list_meh\n",
    "    except:\n",
    "        print(\"An exception occurred\")"
   ]
  },
  {
   "cell_type": "code",
   "execution_count": null,
   "metadata": {},
   "outputs": [],
   "source": [
    "fpath = '/media/xenakas/ext4_drive/data_goszak/2_data_goszak_renamed/' + df_text.iloc[0,-1]\n",
    "document = Document(fpath)\n",
    "tab_list_meh = {}\n",
    "# print(l)\n",
    "for k in range(len(document.tables)):\n",
    "    table = document.tables[k]\n",
    "    try:\n",
    "        data = read_table(table)\n",
    "#         val = any([\n",
    "#             data.iloc[:, j].str.contains('Наименование предмета закупки').any()\n",
    "#             or data.iloc[:, j].str.contains('Предмет контракта').any()\n",
    "#             for j in range(data.shape[1])\n",
    "#         ])\n",
    "\n",
    "#         if val:\n",
    "        tab_list_meh[k] = data\n",
    "    except:\n",
    "        print(l)"
   ]
  },
  {
   "cell_type": "code",
   "execution_count": null,
   "metadata": {},
   "outputs": [],
   "source": []
  },
  {
   "cell_type": "code",
   "execution_count": null,
   "metadata": {},
   "outputs": [],
   "source": []
  },
  {
   "cell_type": "code",
   "execution_count": 154,
   "metadata": {
    "ExecuteTime": {
     "end_time": "2019-10-26T02:08:57.780172Z",
     "start_time": "2019-10-26T02:08:54.635810Z"
    }
   },
   "outputs": [
    {
     "name": "stdout",
     "output_type": "stream",
     "text": [
      "0\n",
      "1\n",
      "2\n",
      "3\n",
      "4\n",
      "5\n",
      "6\n",
      "7\n",
      "8\n",
      "9\n"
     ]
    }
   ],
   "source": [
    "all_tabs = {}\n",
    "for l in range(df_text.iloc[:10, :].shape[0]):\n",
    "    fpath = '/media/xenakas/ext4_drive/data_goszak/2_data_goszak_renamed/' + df_text.iloc[l,-1]\n",
    "    try:\n",
    "        document = Document(fpath)\n",
    "        tab_list_meh = {}\n",
    "        print(l)\n",
    "        for k in range(len(document.tables)):\n",
    "            table = document.tables[k]\n",
    "            try:\n",
    "                data = read_table(table)\n",
    "                val = any([\n",
    "                    data.iloc[:, j].str.contains('Год выпуска').any()\n",
    "                    or data.iloc[:, j].str.contains('год выпуска').any()\n",
    "                    for j in range(data.shape[1])\n",
    "                ])\n",
    "                \n",
    "                cols = data.columns.values\n",
    "                \n",
    "                val2 =  ('Год выпуска' in cols) or ('ГОД ВЫПУСКА' in cols) \n",
    "\n",
    "\n",
    "                if val or val2:\n",
    "                    tab_list_meh[k] = data\n",
    "\n",
    "            except:\n",
    "                print(\"An exception occurred\")\n",
    "\n",
    "    #         keys = None\n",
    "    #         for i, row in enumerate(table.rows):\n",
    "    #             text = (cell.text for cell in row.cells)\n",
    "    #             if i == 0:\n",
    "    #                 keys = tuple(text)\n",
    "    #                 continue\n",
    "    #             row_data = dict(zip(keys, text))\n",
    "    #             data.append(row_data)\n",
    "\n",
    "    #         data = pd.DataFrame(data)\n",
    "\n",
    "        all_tabs[l] = tab_list_meh\n",
    "    except:\n",
    "        print(\"An exception occurred\")"
   ]
  },
  {
   "cell_type": "code",
   "execution_count": 2158,
   "metadata": {
    "ExecuteTime": {
     "end_time": "2019-10-28T17:47:34.800587Z",
     "start_time": "2019-10-28T17:47:34.310579Z"
    }
   },
   "outputs": [],
   "source": [
    "final_df = pd.read_excel('clean_goszak_df.xlsx',\n",
    "                           dtype={'purchase_number': object})\n"
   ]
  },
  {
   "cell_type": "code",
   "execution_count": 2161,
   "metadata": {
    "ExecuteTime": {
     "end_time": "2019-10-28T17:47:43.196788Z",
     "start_time": "2019-10-28T17:47:43.171717Z"
    }
   },
   "outputs": [
    {
     "data": {
      "text/html": [
       "<div>\n",
       "<style scoped>\n",
       "    .dataframe tbody tr th:only-of-type {\n",
       "        vertical-align: middle;\n",
       "    }\n",
       "\n",
       "    .dataframe tbody tr th {\n",
       "        vertical-align: top;\n",
       "    }\n",
       "\n",
       "    .dataframe thead th {\n",
       "        text-align: right;\n",
       "    }\n",
       "</style>\n",
       "<table border=\"1\" class=\"dataframe\">\n",
       "  <thead>\n",
       "    <tr style=\"text-align: right;\">\n",
       "      <th></th>\n",
       "      <th>index_name</th>\n",
       "      <th>all_indexes</th>\n",
       "      <th>purchase_number</th>\n",
       "      <th>price</th>\n",
       "      <th>real_price</th>\n",
       "      <th>auction</th>\n",
       "      <th>numb_bidders</th>\n",
       "      <th>kolichestvo_avto_v_zakupke</th>\n",
       "      <th>org_address</th>\n",
       "      <th>date</th>\n",
       "      <th>...</th>\n",
       "      <th>privod</th>\n",
       "      <th>width</th>\n",
       "      <th>length</th>\n",
       "      <th>mass_snar</th>\n",
       "      <th>vol_dvigatelya</th>\n",
       "      <th>max_speed</th>\n",
       "      <th>moschnost_lps</th>\n",
       "      <th>potreb_gorod</th>\n",
       "      <th>filename</th>\n",
       "      <th>filetype</th>\n",
       "    </tr>\n",
       "  </thead>\n",
       "  <tbody>\n",
       "    <tr>\n",
       "      <td>0</td>\n",
       "      <td>3</td>\n",
       "      <td>3</td>\n",
       "      <td>0372200026816000053</td>\n",
       "      <td>607902.33</td>\n",
       "      <td>607902.33</td>\n",
       "      <td>1</td>\n",
       "      <td>1</td>\n",
       "      <td>1</td>\n",
       "      <td>NaN</td>\n",
       "      <td>NaN</td>\n",
       "      <td>...</td>\n",
       "      <td>передний</td>\n",
       "      <td>1733</td>\n",
       "      <td>4346</td>\n",
       "      <td>1545</td>\n",
       "      <td>NaN</td>\n",
       "      <td>172</td>\n",
       "      <td>90</td>\n",
       "      <td>9.8</td>\n",
       "      <td>1ba23d353bf63fb0a234f2b6a9d14e1037f4a60148f3f5...</td>\n",
       "      <td>docx</td>\n",
       "    </tr>\n",
       "    <tr>\n",
       "      <td>1</td>\n",
       "      <td>5</td>\n",
       "      <td>5, 25</td>\n",
       "      <td>0832200006616001265</td>\n",
       "      <td>999833.33</td>\n",
       "      <td>999833.32</td>\n",
       "      <td>1</td>\n",
       "      <td>1</td>\n",
       "      <td>1</td>\n",
       "      <td>NaN</td>\n",
       "      <td>NaN</td>\n",
       "      <td>...</td>\n",
       "      <td>задний</td>\n",
       "      <td>NaN</td>\n",
       "      <td>NaN</td>\n",
       "      <td>NaN</td>\n",
       "      <td>NaN</td>\n",
       "      <td>NaN</td>\n",
       "      <td>NaN</td>\n",
       "      <td>NaN</td>\n",
       "      <td>024c72855e2fba691b939d0086663ad1443796412de9f3...</td>\n",
       "      <td>docx</td>\n",
       "    </tr>\n",
       "    <tr>\n",
       "      <td>2</td>\n",
       "      <td>6</td>\n",
       "      <td>6</td>\n",
       "      <td>0146300031216000008</td>\n",
       "      <td>685000.00</td>\n",
       "      <td>684000.00</td>\n",
       "      <td>1</td>\n",
       "      <td>1</td>\n",
       "      <td>1</td>\n",
       "      <td>NaN</td>\n",
       "      <td>NaN</td>\n",
       "      <td>...</td>\n",
       "      <td>передний</td>\n",
       "      <td>1800</td>\n",
       "      <td>4056</td>\n",
       "      <td>NaN</td>\n",
       "      <td>1700</td>\n",
       "      <td>NaN</td>\n",
       "      <td>80</td>\n",
       "      <td>14.1</td>\n",
       "      <td>ca66aceb8b70fb06cf8baf7a97d241f4840f2d595544e4...</td>\n",
       "      <td>docx</td>\n",
       "    </tr>\n",
       "    <tr>\n",
       "      <td>3</td>\n",
       "      <td>8</td>\n",
       "      <td>8, 36</td>\n",
       "      <td>0328300015616000270</td>\n",
       "      <td>383900.00</td>\n",
       "      <td>383900.00</td>\n",
       "      <td>1</td>\n",
       "      <td>2</td>\n",
       "      <td>1</td>\n",
       "      <td>NaN</td>\n",
       "      <td>NaN</td>\n",
       "      <td>...</td>\n",
       "      <td>передний</td>\n",
       "      <td>1700</td>\n",
       "      <td>4260</td>\n",
       "      <td>1160</td>\n",
       "      <td>NaN</td>\n",
       "      <td>165</td>\n",
       "      <td>87</td>\n",
       "      <td>not_stated</td>\n",
       "      <td>f4a04f18a5305d9b15eb45bae4532fdaa9f4360660e24e...</td>\n",
       "      <td>docx</td>\n",
       "    </tr>\n",
       "    <tr>\n",
       "      <td>4</td>\n",
       "      <td>12</td>\n",
       "      <td>12</td>\n",
       "      <td>0845300015016000715</td>\n",
       "      <td>998456.00</td>\n",
       "      <td>998456.00</td>\n",
       "      <td>1</td>\n",
       "      <td>1</td>\n",
       "      <td>1</td>\n",
       "      <td>NaN</td>\n",
       "      <td>NaN</td>\n",
       "      <td>...</td>\n",
       "      <td>NaN</td>\n",
       "      <td>NaN</td>\n",
       "      <td>NaN</td>\n",
       "      <td>NaN</td>\n",
       "      <td>1998</td>\n",
       "      <td>NaN</td>\n",
       "      <td>NaN</td>\n",
       "      <td>NaN</td>\n",
       "      <td>da80d318cb1666e928232bc3833f0aff402d841c732486...</td>\n",
       "      <td>docx</td>\n",
       "    </tr>\n",
       "    <tr>\n",
       "      <td>...</td>\n",
       "      <td>...</td>\n",
       "      <td>...</td>\n",
       "      <td>...</td>\n",
       "      <td>...</td>\n",
       "      <td>...</td>\n",
       "      <td>...</td>\n",
       "      <td>...</td>\n",
       "      <td>...</td>\n",
       "      <td>...</td>\n",
       "      <td>...</td>\n",
       "      <td>...</td>\n",
       "      <td>...</td>\n",
       "      <td>...</td>\n",
       "      <td>...</td>\n",
       "      <td>...</td>\n",
       "      <td>...</td>\n",
       "      <td>...</td>\n",
       "      <td>...</td>\n",
       "      <td>...</td>\n",
       "      <td>...</td>\n",
       "      <td>...</td>\n",
       "    </tr>\n",
       "    <tr>\n",
       "      <td>470</td>\n",
       "      <td>1262</td>\n",
       "      <td>1262, 1277, 1336</td>\n",
       "      <td>0169300037017000001</td>\n",
       "      <td>1263313.34</td>\n",
       "      <td>1200147.64</td>\n",
       "      <td>1</td>\n",
       "      <td>2</td>\n",
       "      <td>2</td>\n",
       "      <td>NaN</td>\n",
       "      <td>NaN</td>\n",
       "      <td>...</td>\n",
       "      <td>полный подключаемый</td>\n",
       "      <td>NaN</td>\n",
       "      <td>NaN</td>\n",
       "      <td>NaN</td>\n",
       "      <td>NaN</td>\n",
       "      <td>127</td>\n",
       "      <td>NaN</td>\n",
       "      <td>NaN</td>\n",
       "      <td>54dd6eb2af07c9c6e0db10cd5153b61a8acb78ebd93610...</td>\n",
       "      <td>docx</td>\n",
       "    </tr>\n",
       "    <tr>\n",
       "      <td>471</td>\n",
       "      <td>1419</td>\n",
       "      <td>1419, 1623, 1630, 1972</td>\n",
       "      <td>0166300003217000032</td>\n",
       "      <td>1133000.00</td>\n",
       "      <td>1110340.00</td>\n",
       "      <td>1</td>\n",
       "      <td>2</td>\n",
       "      <td>1</td>\n",
       "      <td>NaN</td>\n",
       "      <td>NaN</td>\n",
       "      <td>...</td>\n",
       "      <td>NaN</td>\n",
       "      <td>1900</td>\n",
       "      <td>4780</td>\n",
       "      <td>NaN</td>\n",
       "      <td>NaN</td>\n",
       "      <td>150</td>\n",
       "      <td>NaN</td>\n",
       "      <td>NaN</td>\n",
       "      <td>690a0c9d4c67b88c659ecfca8214c179b20bbfb6301089...</td>\n",
       "      <td>docx</td>\n",
       "    </tr>\n",
       "    <tr>\n",
       "      <td>472</td>\n",
       "      <td>1500</td>\n",
       "      <td>1500, 1811</td>\n",
       "      <td>0151300032417000001</td>\n",
       "      <td>1000000.00</td>\n",
       "      <td>1000000.00</td>\n",
       "      <td>1</td>\n",
       "      <td>1</td>\n",
       "      <td>1</td>\n",
       "      <td>NaN</td>\n",
       "      <td>NaN</td>\n",
       "      <td>...</td>\n",
       "      <td>полный</td>\n",
       "      <td>2005</td>\n",
       "      <td>2760</td>\n",
       "      <td>2125</td>\n",
       "      <td>1610</td>\n",
       "      <td>150</td>\n",
       "      <td>134.6</td>\n",
       "      <td>14</td>\n",
       "      <td>153abbe97319ec1f68a41f88f861bd060533f87412b0eb...</td>\n",
       "      <td>docx</td>\n",
       "    </tr>\n",
       "    <tr>\n",
       "      <td>473</td>\n",
       "      <td>1716</td>\n",
       "      <td>1716, 1843, 1851</td>\n",
       "      <td>0367100001217000008</td>\n",
       "      <td>1220000.00</td>\n",
       "      <td>1220000.00</td>\n",
       "      <td>1</td>\n",
       "      <td>1</td>\n",
       "      <td>1</td>\n",
       "      <td>NaN</td>\n",
       "      <td>NaN</td>\n",
       "      <td>...</td>\n",
       "      <td>передний</td>\n",
       "      <td>NaN</td>\n",
       "      <td>NaN</td>\n",
       "      <td>2135</td>\n",
       "      <td>2693</td>\n",
       "      <td>NaN</td>\n",
       "      <td>NaN</td>\n",
       "      <td>NaN</td>\n",
       "      <td>5515c7ebe0091c8aed81983cdcc6282cf2e74ac5d10908...</td>\n",
       "      <td>docx</td>\n",
       "    </tr>\n",
       "    <tr>\n",
       "      <td>474</td>\n",
       "      <td>2299</td>\n",
       "      <td>2299</td>\n",
       "      <td>0191300022017000003</td>\n",
       "      <td>1023996.67</td>\n",
       "      <td>1023996.67</td>\n",
       "      <td>1</td>\n",
       "      <td>1</td>\n",
       "      <td>1</td>\n",
       "      <td>NaN</td>\n",
       "      <td>NaN</td>\n",
       "      <td>...</td>\n",
       "      <td>передний</td>\n",
       "      <td>NaN</td>\n",
       "      <td>NaN</td>\n",
       "      <td>2125</td>\n",
       "      <td>1610</td>\n",
       "      <td>NaN</td>\n",
       "      <td>NaN</td>\n",
       "      <td>NaN</td>\n",
       "      <td>a7e4be81b28b55f231e058e37725ad271f78a7ff74d411...</td>\n",
       "      <td>docx</td>\n",
       "    </tr>\n",
       "  </tbody>\n",
       "</table>\n",
       "<p>475 rows × 26 columns</p>\n",
       "</div>"
      ],
      "text/plain": [
       "     index_name             all_indexes      purchase_number       price  \\\n",
       "0             3                       3  0372200026816000053   607902.33   \n",
       "1             5                   5, 25  0832200006616001265   999833.33   \n",
       "2             6                       6  0146300031216000008   685000.00   \n",
       "3             8                   8, 36  0328300015616000270   383900.00   \n",
       "4            12                      12  0845300015016000715   998456.00   \n",
       "..          ...                     ...                  ...         ...   \n",
       "470        1262        1262, 1277, 1336  0169300037017000001  1263313.34   \n",
       "471        1419  1419, 1623, 1630, 1972  0166300003217000032  1133000.00   \n",
       "472        1500              1500, 1811  0151300032417000001  1000000.00   \n",
       "473        1716        1716, 1843, 1851  0367100001217000008  1220000.00   \n",
       "474        2299                    2299  0191300022017000003  1023996.67   \n",
       "\n",
       "     real_price  auction  numb_bidders  kolichestvo_avto_v_zakupke  \\\n",
       "0     607902.33        1             1                           1   \n",
       "1     999833.32        1             1                           1   \n",
       "2     684000.00        1             1                           1   \n",
       "3     383900.00        1             2                           1   \n",
       "4     998456.00        1             1                           1   \n",
       "..          ...      ...           ...                         ...   \n",
       "470  1200147.64        1             2                           2   \n",
       "471  1110340.00        1             2                           1   \n",
       "472  1000000.00        1             1                           1   \n",
       "473  1220000.00        1             1                           1   \n",
       "474  1023996.67        1             1                           1   \n",
       "\n",
       "     org_address  date  ...               privod  width length mass_snar  \\\n",
       "0            NaN   NaN  ...             передний   1733   4346      1545   \n",
       "1            NaN   NaN  ...               задний    NaN    NaN       NaN   \n",
       "2            NaN   NaN  ...             передний   1800   4056       NaN   \n",
       "3            NaN   NaN  ...             передний   1700   4260      1160   \n",
       "4            NaN   NaN  ...                  NaN    NaN    NaN       NaN   \n",
       "..           ...   ...  ...                  ...    ...    ...       ...   \n",
       "470          NaN   NaN  ...  полный подключаемый    NaN    NaN       NaN   \n",
       "471          NaN   NaN  ...                  NaN   1900   4780       NaN   \n",
       "472          NaN   NaN  ...               полный   2005   2760      2125   \n",
       "473          NaN   NaN  ...             передний    NaN    NaN      2135   \n",
       "474          NaN   NaN  ...             передний    NaN    NaN      2125   \n",
       "\n",
       "    vol_dvigatelya max_speed moschnost_lps potreb_gorod  \\\n",
       "0              NaN       172            90          9.8   \n",
       "1              NaN       NaN           NaN          NaN   \n",
       "2             1700       NaN            80         14.1   \n",
       "3              NaN       165            87   not_stated   \n",
       "4             1998       NaN           NaN          NaN   \n",
       "..             ...       ...           ...          ...   \n",
       "470            NaN       127           NaN          NaN   \n",
       "471            NaN       150           NaN          NaN   \n",
       "472           1610       150         134.6           14   \n",
       "473           2693       NaN           NaN          NaN   \n",
       "474           1610       NaN           NaN          NaN   \n",
       "\n",
       "                                              filename filetype  \n",
       "0    1ba23d353bf63fb0a234f2b6a9d14e1037f4a60148f3f5...     docx  \n",
       "1    024c72855e2fba691b939d0086663ad1443796412de9f3...     docx  \n",
       "2    ca66aceb8b70fb06cf8baf7a97d241f4840f2d595544e4...     docx  \n",
       "3    f4a04f18a5305d9b15eb45bae4532fdaa9f4360660e24e...     docx  \n",
       "4    da80d318cb1666e928232bc3833f0aff402d841c732486...     docx  \n",
       "..                                                 ...      ...  \n",
       "470  54dd6eb2af07c9c6e0db10cd5153b61a8acb78ebd93610...     docx  \n",
       "471  690a0c9d4c67b88c659ecfca8214c179b20bbfb6301089...     docx  \n",
       "472  153abbe97319ec1f68a41f88f861bd060533f87412b0eb...     docx  \n",
       "473  5515c7ebe0091c8aed81983cdcc6282cf2e74ac5d10908...     docx  \n",
       "474  a7e4be81b28b55f231e058e37725ad271f78a7ff74d411...     docx  \n",
       "\n",
       "[475 rows x 26 columns]"
      ]
     },
     "execution_count": 2161,
     "metadata": {},
     "output_type": "execute_result"
    }
   ],
   "source": [
    "final_2017"
   ]
  },
  {
   "cell_type": "code",
   "execution_count": 2160,
   "metadata": {
    "ExecuteTime": {
     "end_time": "2019-10-28T17:47:41.703351Z",
     "start_time": "2019-10-28T17:47:41.614149Z"
    }
   },
   "outputs": [],
   "source": [
    "final_2017 = pd.read_excel('2017_docx_final.xlsx',\n",
    "                           dtype={'purchase_number': object})"
   ]
  },
  {
   "cell_type": "code",
   "execution_count": 2165,
   "metadata": {
    "ExecuteTime": {
     "end_time": "2019-10-28T17:49:07.489605Z",
     "start_time": "2019-10-28T17:49:07.418851Z"
    }
   },
   "outputs": [],
   "source": [
    "final_df_part17 =  final_df.loc[[ i in final_2017['purchase_number'].values for i in final_df['purchase_number']], :]"
   ]
  },
  {
   "cell_type": "code",
   "execution_count": 2169,
   "metadata": {
    "ExecuteTime": {
     "end_time": "2019-10-28T17:50:34.988185Z",
     "start_time": "2019-10-28T17:50:34.921449Z"
    }
   },
   "outputs": [],
   "source": [
    "final_df_partno17 =  final_df.loc[[ not(i in final_2017['purchase_number'].values) for i in final_df['purchase_number']], :]"
   ]
  },
  {
   "cell_type": "code",
   "execution_count": 2174,
   "metadata": {
    "ExecuteTime": {
     "end_time": "2019-10-28T17:51:33.876301Z",
     "start_time": "2019-10-28T17:51:33.873456Z"
    }
   },
   "outputs": [
    {
     "data": {
      "text/plain": [
       "(336, 26)"
      ]
     },
     "execution_count": 2174,
     "metadata": {},
     "output_type": "execute_result"
    }
   ],
   "source": [
    "final_2017.shape\n",
    "final_df_part17.shape"
   ]
  },
  {
   "cell_type": "code",
   "execution_count": 2178,
   "metadata": {
    "ExecuteTime": {
     "end_time": "2019-10-28T17:52:59.409044Z",
     "start_time": "2019-10-28T17:52:59.402421Z"
    }
   },
   "outputs": [],
   "source": [
    "fdf1 = final_2017.set_index('purchase_number').loc[final_df_part17['purchase_number'].values, :]"
   ]
  },
  {
   "cell_type": "code",
   "execution_count": 2167,
   "metadata": {
    "ExecuteTime": {
     "end_time": "2019-10-28T17:49:27.047885Z",
     "start_time": "2019-10-28T17:49:27.044719Z"
    }
   },
   "outputs": [
    {
     "data": {
      "text/plain": [
       "(475, 26)"
      ]
     },
     "execution_count": 2167,
     "metadata": {},
     "output_type": "execute_result"
    }
   ],
   "source": [
    "final_df_part17.shape\n",
    "final_2017.shape"
   ]
  },
  {
   "cell_type": "code",
   "execution_count": 2186,
   "metadata": {
    "ExecuteTime": {
     "end_time": "2019-10-28T17:56:27.755852Z",
     "start_time": "2019-10-28T17:56:27.752533Z"
    }
   },
   "outputs": [],
   "source": [
    "final_df_part17 = final_df_part17.set_index('purchase_number')"
   ]
  },
  {
   "cell_type": "code",
   "execution_count": 2181,
   "metadata": {
    "ExecuteTime": {
     "end_time": "2019-10-28T17:54:26.558726Z",
     "start_time": "2019-10-28T17:54:26.532453Z"
    }
   },
   "outputs": [
    {
     "data": {
      "text/html": [
       "<div>\n",
       "<style scoped>\n",
       "    .dataframe tbody tr th:only-of-type {\n",
       "        vertical-align: middle;\n",
       "    }\n",
       "\n",
       "    .dataframe tbody tr th {\n",
       "        vertical-align: top;\n",
       "    }\n",
       "\n",
       "    .dataframe thead th {\n",
       "        text-align: right;\n",
       "    }\n",
       "</style>\n",
       "<table border=\"1\" class=\"dataframe\">\n",
       "  <thead>\n",
       "    <tr style=\"text-align: right;\">\n",
       "      <th></th>\n",
       "      <th>index_name</th>\n",
       "      <th>all_indexes</th>\n",
       "      <th>price</th>\n",
       "      <th>real_price</th>\n",
       "      <th>auction</th>\n",
       "      <th>numb_bidders</th>\n",
       "      <th>kolichestvo_avto_v_zakupke</th>\n",
       "      <th>org_address</th>\n",
       "      <th>date</th>\n",
       "      <th>date2</th>\n",
       "      <th>...</th>\n",
       "      <th>privod</th>\n",
       "      <th>width</th>\n",
       "      <th>length</th>\n",
       "      <th>mass_snar</th>\n",
       "      <th>vol_dvigatelya</th>\n",
       "      <th>max_speed</th>\n",
       "      <th>moschnost_lps</th>\n",
       "      <th>potreb_gorod</th>\n",
       "      <th>filename</th>\n",
       "      <th>filetype</th>\n",
       "    </tr>\n",
       "    <tr>\n",
       "      <th>purchase_number</th>\n",
       "      <th></th>\n",
       "      <th></th>\n",
       "      <th></th>\n",
       "      <th></th>\n",
       "      <th></th>\n",
       "      <th></th>\n",
       "      <th></th>\n",
       "      <th></th>\n",
       "      <th></th>\n",
       "      <th></th>\n",
       "      <th></th>\n",
       "      <th></th>\n",
       "      <th></th>\n",
       "      <th></th>\n",
       "      <th></th>\n",
       "      <th></th>\n",
       "      <th></th>\n",
       "      <th></th>\n",
       "      <th></th>\n",
       "      <th></th>\n",
       "      <th></th>\n",
       "    </tr>\n",
       "  </thead>\n",
       "  <tbody>\n",
       "    <tr>\n",
       "      <td>0122300006117000102</td>\n",
       "      <td>204</td>\n",
       "      <td>204, 469</td>\n",
       "      <td>1499000.00</td>\n",
       "      <td>1499000.00</td>\n",
       "      <td>1</td>\n",
       "      <td>1</td>\n",
       "      <td>1</td>\n",
       "      <td>NaN</td>\n",
       "      <td>NaN</td>\n",
       "      <td>NaN</td>\n",
       "      <td>...</td>\n",
       "      <td>полный</td>\n",
       "      <td>1815</td>\n",
       "      <td>4635</td>\n",
       "      <td>1650</td>\n",
       "      <td>1570</td>\n",
       "      <td>175</td>\n",
       "      <td>143</td>\n",
       "      <td>NaN</td>\n",
       "      <td>cf6ef33ee7aef1d8990d2c033b5634f0ad53d4d2dca04f...</td>\n",
       "      <td>docx</td>\n",
       "    </tr>\n",
       "    <tr>\n",
       "      <td>0866300029917000004</td>\n",
       "      <td>661</td>\n",
       "      <td>661</td>\n",
       "      <td>1858000.00</td>\n",
       "      <td>1774390.00</td>\n",
       "      <td>1</td>\n",
       "      <td>2</td>\n",
       "      <td>2</td>\n",
       "      <td>NaN</td>\n",
       "      <td>NaN</td>\n",
       "      <td>NaN</td>\n",
       "      <td>...</td>\n",
       "      <td>NaN</td>\n",
       "      <td>1900</td>\n",
       "      <td>4785</td>\n",
       "      <td>NaN</td>\n",
       "      <td>2700</td>\n",
       "      <td>150</td>\n",
       "      <td>134.6</td>\n",
       "      <td>11.5</td>\n",
       "      <td>a6dda03124f2f7600a28c1cdaebd6176dc4fc21a825e18...</td>\n",
       "      <td>docx</td>\n",
       "    </tr>\n",
       "    <tr>\n",
       "      <td>0332300263717000003</td>\n",
       "      <td>85</td>\n",
       "      <td>85</td>\n",
       "      <td>995000.00</td>\n",
       "      <td>995000.00</td>\n",
       "      <td>1</td>\n",
       "      <td>1</td>\n",
       "      <td>1</td>\n",
       "      <td>NaN</td>\n",
       "      <td>NaN</td>\n",
       "      <td>NaN</td>\n",
       "      <td>...</td>\n",
       "      <td>передний</td>\n",
       "      <td>1814</td>\n",
       "      <td>4658</td>\n",
       "      <td>NaN</td>\n",
       "      <td>1598</td>\n",
       "      <td>191</td>\n",
       "      <td>NaN</td>\n",
       "      <td>NaN</td>\n",
       "      <td>58da1c17ab74a34c1a816152c0443237eabd661b1fef89...</td>\n",
       "      <td>docx</td>\n",
       "    </tr>\n",
       "    <tr>\n",
       "      <td>0169300020317000031</td>\n",
       "      <td>666</td>\n",
       "      <td>666, 1047</td>\n",
       "      <td>1500000.00</td>\n",
       "      <td>1500000.00</td>\n",
       "      <td>1</td>\n",
       "      <td>1</td>\n",
       "      <td>1</td>\n",
       "      <td>NaN</td>\n",
       "      <td>NaN</td>\n",
       "      <td>NaN</td>\n",
       "      <td>...</td>\n",
       "      <td>полный</td>\n",
       "      <td>1825</td>\n",
       "      <td>4850</td>\n",
       "      <td>NaN</td>\n",
       "      <td>1790</td>\n",
       "      <td>NaN</td>\n",
       "      <td>135</td>\n",
       "      <td>NaN</td>\n",
       "      <td>495d2406cde8a6b949494bc1c6d8a8ccf2f3aa4d603cc5...</td>\n",
       "      <td>docx</td>\n",
       "    </tr>\n",
       "    <tr>\n",
       "      <td>0357200013017000003</td>\n",
       "      <td>208</td>\n",
       "      <td>208</td>\n",
       "      <td>389900.00</td>\n",
       "      <td>382050.00</td>\n",
       "      <td>1</td>\n",
       "      <td>2</td>\n",
       "      <td>1</td>\n",
       "      <td>NaN</td>\n",
       "      <td>NaN</td>\n",
       "      <td>NaN</td>\n",
       "      <td>...</td>\n",
       "      <td>передний</td>\n",
       "      <td>1700</td>\n",
       "      <td>4260</td>\n",
       "      <td>1560</td>\n",
       "      <td>1590</td>\n",
       "      <td>177</td>\n",
       "      <td>106</td>\n",
       "      <td>8.6</td>\n",
       "      <td>a561a2bb65eec3da00337a27fe514dcbb58baa4f508951...</td>\n",
       "      <td>docx</td>\n",
       "    </tr>\n",
       "    <tr>\n",
       "      <td>...</td>\n",
       "      <td>...</td>\n",
       "      <td>...</td>\n",
       "      <td>...</td>\n",
       "      <td>...</td>\n",
       "      <td>...</td>\n",
       "      <td>...</td>\n",
       "      <td>...</td>\n",
       "      <td>...</td>\n",
       "      <td>...</td>\n",
       "      <td>...</td>\n",
       "      <td>...</td>\n",
       "      <td>...</td>\n",
       "      <td>...</td>\n",
       "      <td>...</td>\n",
       "      <td>...</td>\n",
       "      <td>...</td>\n",
       "      <td>...</td>\n",
       "      <td>...</td>\n",
       "      <td>...</td>\n",
       "      <td>...</td>\n",
       "      <td>...</td>\n",
       "    </tr>\n",
       "    <tr>\n",
       "      <td>0358100009717000007</td>\n",
       "      <td>1985</td>\n",
       "      <td>1985</td>\n",
       "      <td>1371600.00</td>\n",
       "      <td>1309878.00</td>\n",
       "      <td>1</td>\n",
       "      <td>2</td>\n",
       "      <td>3</td>\n",
       "      <td>NaN</td>\n",
       "      <td>NaN</td>\n",
       "      <td>NaN</td>\n",
       "      <td>...</td>\n",
       "      <td>передний</td>\n",
       "      <td>1700</td>\n",
       "      <td>4260</td>\n",
       "      <td>1560</td>\n",
       "      <td>1596</td>\n",
       "      <td>180</td>\n",
       "      <td>106</td>\n",
       "      <td>9</td>\n",
       "      <td>67a21b3d5aa8648789cae0f09c1d736aadde833edc7e87...</td>\n",
       "      <td>docx</td>\n",
       "    </tr>\n",
       "    <tr>\n",
       "      <td>0109200002417000196</td>\n",
       "      <td>638</td>\n",
       "      <td>638</td>\n",
       "      <td>1697000.00</td>\n",
       "      <td>1533515.00</td>\n",
       "      <td>1</td>\n",
       "      <td>2</td>\n",
       "      <td>1</td>\n",
       "      <td>NaN</td>\n",
       "      <td>NaN</td>\n",
       "      <td>NaN</td>\n",
       "      <td>...</td>\n",
       "      <td>передний</td>\n",
       "      <td>1525</td>\n",
       "      <td>2080</td>\n",
       "      <td>NaN</td>\n",
       "      <td>2494</td>\n",
       "      <td>NaN</td>\n",
       "      <td>181</td>\n",
       "      <td>11</td>\n",
       "      <td>0135a567824b22c28e119a286af5b1c86ed64e45563fe7...</td>\n",
       "      <td>docx</td>\n",
       "    </tr>\n",
       "    <tr>\n",
       "      <td>0130300009717000051</td>\n",
       "      <td>197</td>\n",
       "      <td>197</td>\n",
       "      <td>1500000.00</td>\n",
       "      <td>1485000.00</td>\n",
       "      <td>1</td>\n",
       "      <td>2</td>\n",
       "      <td>1</td>\n",
       "      <td>NaN</td>\n",
       "      <td>NaN</td>\n",
       "      <td>NaN</td>\n",
       "      <td>...</td>\n",
       "      <td>задний</td>\n",
       "      <td>1800</td>\n",
       "      <td>5200</td>\n",
       "      <td>2300</td>\n",
       "      <td>2490</td>\n",
       "      <td>200</td>\n",
       "      <td>not_stated</td>\n",
       "      <td>not_stated</td>\n",
       "      <td>a71c0008e904db9528fc2b6210ca189012d6c6c717fc8e...</td>\n",
       "      <td>docx</td>\n",
       "    </tr>\n",
       "    <tr>\n",
       "      <td>0169300061917000011</td>\n",
       "      <td>1241</td>\n",
       "      <td>1241</td>\n",
       "      <td>1700000.00</td>\n",
       "      <td>1608380.00</td>\n",
       "      <td>1</td>\n",
       "      <td>2</td>\n",
       "      <td>1</td>\n",
       "      <td>NaN</td>\n",
       "      <td>NaN</td>\n",
       "      <td>NaN</td>\n",
       "      <td>...</td>\n",
       "      <td>передний</td>\n",
       "      <td>1800</td>\n",
       "      <td>4800</td>\n",
       "      <td>NaN</td>\n",
       "      <td>NaN</td>\n",
       "      <td>NaN</td>\n",
       "      <td>NaN</td>\n",
       "      <td>NaN</td>\n",
       "      <td>cc1040d957a8985b7d050008b4c3610550d16ef899da8f...</td>\n",
       "      <td>docx</td>\n",
       "    </tr>\n",
       "    <tr>\n",
       "      <td>0859200001117002731</td>\n",
       "      <td>2003</td>\n",
       "      <td>2003</td>\n",
       "      <td>741333.33</td>\n",
       "      <td>741333.33</td>\n",
       "      <td>1</td>\n",
       "      <td>1</td>\n",
       "      <td>1</td>\n",
       "      <td>NaN</td>\n",
       "      <td>NaN</td>\n",
       "      <td>NaN</td>\n",
       "      <td>...</td>\n",
       "      <td>полный</td>\n",
       "      <td>NaN</td>\n",
       "      <td>NaN</td>\n",
       "      <td>NaN</td>\n",
       "      <td>NaN</td>\n",
       "      <td>NaN</td>\n",
       "      <td>NaN</td>\n",
       "      <td>NaN</td>\n",
       "      <td>0f42ec184b3206373a17e59cb67f46e12cffaa7137b8fc...</td>\n",
       "      <td>docx</td>\n",
       "    </tr>\n",
       "  </tbody>\n",
       "</table>\n",
       "<p>336 rows × 25 columns</p>\n",
       "</div>"
      ],
      "text/plain": [
       "                     index_name all_indexes       price  real_price  auction  \\\n",
       "purchase_number                                                                \n",
       "0122300006117000102         204    204, 469  1499000.00  1499000.00        1   \n",
       "0866300029917000004         661         661  1858000.00  1774390.00        1   \n",
       "0332300263717000003          85          85   995000.00   995000.00        1   \n",
       "0169300020317000031         666   666, 1047  1500000.00  1500000.00        1   \n",
       "0357200013017000003         208         208   389900.00   382050.00        1   \n",
       "...                         ...         ...         ...         ...      ...   \n",
       "0358100009717000007        1985        1985  1371600.00  1309878.00        1   \n",
       "0109200002417000196         638         638  1697000.00  1533515.00        1   \n",
       "0130300009717000051         197         197  1500000.00  1485000.00        1   \n",
       "0169300061917000011        1241        1241  1700000.00  1608380.00        1   \n",
       "0859200001117002731        2003        2003   741333.33   741333.33        1   \n",
       "\n",
       "                     numb_bidders  kolichestvo_avto_v_zakupke  org_address  \\\n",
       "purchase_number                                                              \n",
       "0122300006117000102             1                           1          NaN   \n",
       "0866300029917000004             2                           2          NaN   \n",
       "0332300263717000003             1                           1          NaN   \n",
       "0169300020317000031             1                           1          NaN   \n",
       "0357200013017000003             2                           1          NaN   \n",
       "...                           ...                         ...          ...   \n",
       "0358100009717000007             2                           3          NaN   \n",
       "0109200002417000196             2                           1          NaN   \n",
       "0130300009717000051             2                           1          NaN   \n",
       "0169300061917000011             2                           1          NaN   \n",
       "0859200001117002731             1                           1          NaN   \n",
       "\n",
       "                     date  date2  ...    privod width length mass_snar  \\\n",
       "purchase_number                   ...                                    \n",
       "0122300006117000102   NaN    NaN  ...    полный  1815   4635      1650   \n",
       "0866300029917000004   NaN    NaN  ...       NaN  1900   4785       NaN   \n",
       "0332300263717000003   NaN    NaN  ...  передний  1814   4658       NaN   \n",
       "0169300020317000031   NaN    NaN  ...    полный  1825   4850       NaN   \n",
       "0357200013017000003   NaN    NaN  ...  передний  1700   4260      1560   \n",
       "...                   ...    ...  ...       ...   ...    ...       ...   \n",
       "0358100009717000007   NaN    NaN  ...  передний  1700   4260      1560   \n",
       "0109200002417000196   NaN    NaN  ...  передний  1525   2080       NaN   \n",
       "0130300009717000051   NaN    NaN  ...    задний  1800   5200      2300   \n",
       "0169300061917000011   NaN    NaN  ...  передний  1800   4800       NaN   \n",
       "0859200001117002731   NaN    NaN  ...    полный   NaN    NaN       NaN   \n",
       "\n",
       "                    vol_dvigatelya max_speed moschnost_lps potreb_gorod  \\\n",
       "purchase_number                                                           \n",
       "0122300006117000102           1570       175           143          NaN   \n",
       "0866300029917000004           2700       150         134.6         11.5   \n",
       "0332300263717000003           1598       191           NaN          NaN   \n",
       "0169300020317000031           1790       NaN           135          NaN   \n",
       "0357200013017000003           1590       177           106          8.6   \n",
       "...                            ...       ...           ...          ...   \n",
       "0358100009717000007           1596       180           106            9   \n",
       "0109200002417000196           2494       NaN           181           11   \n",
       "0130300009717000051           2490       200    not_stated   not_stated   \n",
       "0169300061917000011            NaN       NaN           NaN          NaN   \n",
       "0859200001117002731            NaN       NaN           NaN          NaN   \n",
       "\n",
       "                                                              filename  \\\n",
       "purchase_number                                                          \n",
       "0122300006117000102  cf6ef33ee7aef1d8990d2c033b5634f0ad53d4d2dca04f...   \n",
       "0866300029917000004  a6dda03124f2f7600a28c1cdaebd6176dc4fc21a825e18...   \n",
       "0332300263717000003  58da1c17ab74a34c1a816152c0443237eabd661b1fef89...   \n",
       "0169300020317000031  495d2406cde8a6b949494bc1c6d8a8ccf2f3aa4d603cc5...   \n",
       "0357200013017000003  a561a2bb65eec3da00337a27fe514dcbb58baa4f508951...   \n",
       "...                                                                ...   \n",
       "0358100009717000007  67a21b3d5aa8648789cae0f09c1d736aadde833edc7e87...   \n",
       "0109200002417000196  0135a567824b22c28e119a286af5b1c86ed64e45563fe7...   \n",
       "0130300009717000051  a71c0008e904db9528fc2b6210ca189012d6c6c717fc8e...   \n",
       "0169300061917000011  cc1040d957a8985b7d050008b4c3610550d16ef899da8f...   \n",
       "0859200001117002731  0f42ec184b3206373a17e59cb67f46e12cffaa7137b8fc...   \n",
       "\n",
       "                    filetype  \n",
       "purchase_number               \n",
       "0122300006117000102     docx  \n",
       "0866300029917000004     docx  \n",
       "0332300263717000003     docx  \n",
       "0169300020317000031     docx  \n",
       "0357200013017000003     docx  \n",
       "...                      ...  \n",
       "0358100009717000007     docx  \n",
       "0109200002417000196     docx  \n",
       "0130300009717000051     docx  \n",
       "0169300061917000011     docx  \n",
       "0859200001117002731     docx  \n",
       "\n",
       "[336 rows x 25 columns]"
      ]
     },
     "execution_count": 2181,
     "metadata": {},
     "output_type": "execute_result"
    }
   ],
   "source": [
    "fdf1.fillna(np.nan)"
   ]
  },
  {
   "cell_type": "code",
   "execution_count": 2188,
   "metadata": {
    "ExecuteTime": {
     "end_time": "2019-10-28T17:56:51.048135Z",
     "start_time": "2019-10-28T17:56:51.031278Z"
    }
   },
   "outputs": [],
   "source": [
    "final_df_part17 = final_df_part17.combine_first(fdf1)"
   ]
  },
  {
   "cell_type": "code",
   "execution_count": 2192,
   "metadata": {
    "ExecuteTime": {
     "end_time": "2019-10-28T17:59:06.359206Z",
     "start_time": "2019-10-28T17:59:06.349505Z"
    }
   },
   "outputs": [],
   "source": [
    "final_df_all17 = final_df_part17.reset_index().append(final_df_partno17, sort = False)"
   ]
  },
  {
   "cell_type": "code",
   "execution_count": 2193,
   "metadata": {
    "ExecuteTime": {
     "end_time": "2019-10-28T17:59:29.753099Z",
     "start_time": "2019-10-28T17:59:27.351133Z"
    }
   },
   "outputs": [],
   "source": [
    "final_df_all17.to_excel('data123.xlsx')"
   ]
  },
  {
   "cell_type": "code",
   "execution_count": 2269,
   "metadata": {
    "ExecuteTime": {
     "end_time": "2019-10-28T18:28:12.364288Z",
     "start_time": "2019-10-28T18:28:12.361462Z"
    }
   },
   "outputs": [],
   "source": [
    "final_df = final_df_all17.copy()"
   ]
  },
  {
   "cell_type": "code",
   "execution_count": 2217,
   "metadata": {
    "ExecuteTime": {
     "end_time": "2019-10-28T18:07:22.607274Z",
     "start_time": "2019-10-28T18:07:22.604267Z"
    }
   },
   "outputs": [
    {
     "data": {
      "text/plain": [
       "'width'"
      ]
     },
     "execution_count": 2217,
     "metadata": {},
     "output_type": "execute_result"
    }
   ],
   "source": [
    "final_df.columns[17]"
   ]
  },
  {
   "cell_type": "code",
   "execution_count": 2237,
   "metadata": {
    "ExecuteTime": {
     "end_time": "2019-10-28T18:14:40.580971Z",
     "start_time": "2019-10-28T18:14:40.570570Z"
    }
   },
   "outputs": [
    {
     "data": {
      "text/plain": [
       "[False,\n",
       " False,\n",
       " False,\n",
       " False,\n",
       " False,\n",
       " False,\n",
       " False,\n",
       " False,\n",
       " False,\n",
       " False,\n",
       " False,\n",
       " False,\n",
       " False,\n",
       " False,\n",
       " False,\n",
       " False,\n",
       " False,\n",
       " False,\n",
       " False,\n",
       " False,\n",
       " False,\n",
       " False,\n",
       " False,\n",
       " False,\n",
       " False,\n",
       " False,\n",
       " False,\n",
       " False,\n",
       " False,\n",
       " False,\n",
       " False,\n",
       " False,\n",
       " False,\n",
       " False,\n",
       " False,\n",
       " False,\n",
       " False,\n",
       " False,\n",
       " False,\n",
       " False,\n",
       " False,\n",
       " False,\n",
       " False,\n",
       " False,\n",
       " False,\n",
       " False,\n",
       " False,\n",
       " False,\n",
       " False,\n",
       " False,\n",
       " False,\n",
       " False,\n",
       " False,\n",
       " False,\n",
       " False,\n",
       " False,\n",
       " False,\n",
       " False,\n",
       " False,\n",
       " False,\n",
       " False,\n",
       " False,\n",
       " False,\n",
       " False,\n",
       " False,\n",
       " False,\n",
       " False,\n",
       " False,\n",
       " False,\n",
       " False,\n",
       " False,\n",
       " False,\n",
       " False,\n",
       " False,\n",
       " False,\n",
       " False,\n",
       " False,\n",
       " False,\n",
       " False,\n",
       " False,\n",
       " False,\n",
       " False,\n",
       " False,\n",
       " False,\n",
       " False,\n",
       " False,\n",
       " False,\n",
       " False,\n",
       " False,\n",
       " False,\n",
       " False,\n",
       " False,\n",
       " False,\n",
       " False,\n",
       " False,\n",
       " False,\n",
       " False,\n",
       " False,\n",
       " False,\n",
       " False,\n",
       " False,\n",
       " False,\n",
       " False,\n",
       " False,\n",
       " False,\n",
       " False,\n",
       " False,\n",
       " False,\n",
       " False,\n",
       " False,\n",
       " False,\n",
       " False,\n",
       " False,\n",
       " False,\n",
       " False,\n",
       " False,\n",
       " False,\n",
       " False,\n",
       " False,\n",
       " False,\n",
       " False,\n",
       " False,\n",
       " False,\n",
       " False,\n",
       " False,\n",
       " False,\n",
       " False,\n",
       " False,\n",
       " False,\n",
       " False,\n",
       " False,\n",
       " False,\n",
       " False,\n",
       " False,\n",
       " False,\n",
       " False,\n",
       " False,\n",
       " False,\n",
       " False,\n",
       " False,\n",
       " False,\n",
       " False,\n",
       " False,\n",
       " False,\n",
       " False,\n",
       " False,\n",
       " False,\n",
       " False,\n",
       " False,\n",
       " False,\n",
       " False,\n",
       " False,\n",
       " False,\n",
       " False,\n",
       " False,\n",
       " False,\n",
       " False,\n",
       " False,\n",
       " False,\n",
       " False,\n",
       " False,\n",
       " False,\n",
       " False,\n",
       " False,\n",
       " False,\n",
       " False,\n",
       " False,\n",
       " False,\n",
       " False,\n",
       " False,\n",
       " False,\n",
       " False,\n",
       " False,\n",
       " False,\n",
       " False,\n",
       " False,\n",
       " False,\n",
       " False,\n",
       " False,\n",
       " False,\n",
       " False,\n",
       " False,\n",
       " False,\n",
       " False,\n",
       " False,\n",
       " False,\n",
       " False,\n",
       " False,\n",
       " False,\n",
       " False,\n",
       " False,\n",
       " False,\n",
       " False,\n",
       " False,\n",
       " False,\n",
       " False,\n",
       " False,\n",
       " False,\n",
       " False,\n",
       " False,\n",
       " False,\n",
       " False,\n",
       " False,\n",
       " False,\n",
       " False,\n",
       " False,\n",
       " False,\n",
       " False,\n",
       " False,\n",
       " False,\n",
       " False,\n",
       " False,\n",
       " False,\n",
       " False,\n",
       " False,\n",
       " False,\n",
       " False,\n",
       " False,\n",
       " False,\n",
       " False,\n",
       " False,\n",
       " False,\n",
       " False,\n",
       " False,\n",
       " False,\n",
       " False,\n",
       " False,\n",
       " False,\n",
       " False,\n",
       " False,\n",
       " False,\n",
       " False,\n",
       " False,\n",
       " False,\n",
       " False,\n",
       " False,\n",
       " False,\n",
       " False,\n",
       " False,\n",
       " False,\n",
       " False,\n",
       " False,\n",
       " False,\n",
       " False,\n",
       " False,\n",
       " False,\n",
       " False,\n",
       " False,\n",
       " False,\n",
       " False,\n",
       " False,\n",
       " False,\n",
       " False,\n",
       " False,\n",
       " False,\n",
       " False,\n",
       " False,\n",
       " False,\n",
       " False,\n",
       " False,\n",
       " False,\n",
       " False,\n",
       " False,\n",
       " False,\n",
       " False,\n",
       " False,\n",
       " False,\n",
       " False,\n",
       " False,\n",
       " False,\n",
       " False,\n",
       " False,\n",
       " False,\n",
       " False,\n",
       " False,\n",
       " False,\n",
       " False,\n",
       " False,\n",
       " False,\n",
       " False,\n",
       " False,\n",
       " False,\n",
       " False,\n",
       " False,\n",
       " False,\n",
       " False,\n",
       " False,\n",
       " False,\n",
       " False,\n",
       " False,\n",
       " False,\n",
       " False,\n",
       " False,\n",
       " False,\n",
       " False,\n",
       " False,\n",
       " False,\n",
       " False,\n",
       " False,\n",
       " False,\n",
       " False,\n",
       " False,\n",
       " False,\n",
       " False,\n",
       " False,\n",
       " False,\n",
       " False,\n",
       " False,\n",
       " False,\n",
       " False,\n",
       " False,\n",
       " False,\n",
       " False,\n",
       " False,\n",
       " False,\n",
       " False,\n",
       " False,\n",
       " False,\n",
       " False,\n",
       " False,\n",
       " False,\n",
       " False,\n",
       " False,\n",
       " False,\n",
       " False,\n",
       " False,\n",
       " False,\n",
       " False,\n",
       " False,\n",
       " False,\n",
       " False,\n",
       " False,\n",
       " False,\n",
       " False,\n",
       " False,\n",
       " False,\n",
       " False,\n",
       " False,\n",
       " False,\n",
       " True,\n",
       " False,\n",
       " False,\n",
       " False,\n",
       " False,\n",
       " False,\n",
       " False,\n",
       " False,\n",
       " False,\n",
       " False,\n",
       " False,\n",
       " False,\n",
       " False,\n",
       " False,\n",
       " False,\n",
       " False,\n",
       " False,\n",
       " False,\n",
       " False,\n",
       " False,\n",
       " False,\n",
       " False,\n",
       " False,\n",
       " False,\n",
       " False,\n",
       " False,\n",
       " False,\n",
       " False,\n",
       " False,\n",
       " False,\n",
       " False,\n",
       " False,\n",
       " False,\n",
       " False,\n",
       " False,\n",
       " False,\n",
       " False,\n",
       " False,\n",
       " False,\n",
       " False,\n",
       " False,\n",
       " False,\n",
       " False,\n",
       " False,\n",
       " False,\n",
       " False,\n",
       " False,\n",
       " False,\n",
       " False,\n",
       " False,\n",
       " False,\n",
       " False,\n",
       " False,\n",
       " False,\n",
       " False,\n",
       " False,\n",
       " False,\n",
       " False,\n",
       " False,\n",
       " False,\n",
       " False,\n",
       " False,\n",
       " False,\n",
       " False,\n",
       " False,\n",
       " False,\n",
       " False,\n",
       " False,\n",
       " False,\n",
       " False,\n",
       " False,\n",
       " False,\n",
       " False,\n",
       " False,\n",
       " False,\n",
       " False,\n",
       " False,\n",
       " False,\n",
       " False,\n",
       " False,\n",
       " False,\n",
       " False,\n",
       " False,\n",
       " False,\n",
       " False,\n",
       " False,\n",
       " False,\n",
       " False,\n",
       " False,\n",
       " False,\n",
       " False,\n",
       " False,\n",
       " False,\n",
       " False,\n",
       " False,\n",
       " False,\n",
       " False,\n",
       " False,\n",
       " False,\n",
       " False,\n",
       " False,\n",
       " False,\n",
       " False,\n",
       " False,\n",
       " False,\n",
       " False,\n",
       " False,\n",
       " False,\n",
       " False,\n",
       " False,\n",
       " False,\n",
       " False,\n",
       " False,\n",
       " False,\n",
       " False,\n",
       " False,\n",
       " False,\n",
       " False,\n",
       " False,\n",
       " False,\n",
       " False,\n",
       " False,\n",
       " False,\n",
       " False,\n",
       " False,\n",
       " False,\n",
       " False,\n",
       " False,\n",
       " False,\n",
       " False,\n",
       " False,\n",
       " False,\n",
       " False,\n",
       " False,\n",
       " False,\n",
       " False,\n",
       " False,\n",
       " False,\n",
       " False,\n",
       " False,\n",
       " False,\n",
       " False,\n",
       " False,\n",
       " False,\n",
       " False,\n",
       " False,\n",
       " False,\n",
       " False,\n",
       " False,\n",
       " False,\n",
       " False,\n",
       " False,\n",
       " False,\n",
       " False,\n",
       " False,\n",
       " False,\n",
       " False,\n",
       " False,\n",
       " False,\n",
       " False,\n",
       " False,\n",
       " False,\n",
       " False,\n",
       " False,\n",
       " False,\n",
       " False,\n",
       " False,\n",
       " False,\n",
       " False,\n",
       " False,\n",
       " False,\n",
       " False,\n",
       " False,\n",
       " False,\n",
       " False,\n",
       " False,\n",
       " False,\n",
       " False,\n",
       " False,\n",
       " False,\n",
       " False,\n",
       " False,\n",
       " False,\n",
       " False,\n",
       " False,\n",
       " False,\n",
       " False,\n",
       " False,\n",
       " False,\n",
       " False,\n",
       " False,\n",
       " False,\n",
       " False,\n",
       " False,\n",
       " False,\n",
       " False,\n",
       " False,\n",
       " False,\n",
       " False,\n",
       " False,\n",
       " False,\n",
       " False,\n",
       " False,\n",
       " False,\n",
       " False,\n",
       " False,\n",
       " False,\n",
       " False,\n",
       " False,\n",
       " False,\n",
       " False,\n",
       " False,\n",
       " False,\n",
       " False,\n",
       " False,\n",
       " False,\n",
       " False,\n",
       " False,\n",
       " False,\n",
       " False,\n",
       " False,\n",
       " False,\n",
       " False,\n",
       " False,\n",
       " False,\n",
       " False,\n",
       " False,\n",
       " False,\n",
       " False,\n",
       " False,\n",
       " False,\n",
       " False,\n",
       " False,\n",
       " False,\n",
       " False,\n",
       " False,\n",
       " False,\n",
       " False,\n",
       " False,\n",
       " False,\n",
       " False,\n",
       " False,\n",
       " False,\n",
       " False,\n",
       " False,\n",
       " False,\n",
       " False,\n",
       " False,\n",
       " False,\n",
       " False,\n",
       " False,\n",
       " False,\n",
       " False,\n",
       " False,\n",
       " False,\n",
       " False,\n",
       " False,\n",
       " False,\n",
       " False,\n",
       " False,\n",
       " False,\n",
       " False,\n",
       " False,\n",
       " False,\n",
       " False,\n",
       " False,\n",
       " False,\n",
       " False,\n",
       " False,\n",
       " False,\n",
       " False,\n",
       " False,\n",
       " False,\n",
       " False,\n",
       " False,\n",
       " False,\n",
       " False,\n",
       " False,\n",
       " False,\n",
       " False,\n",
       " False,\n",
       " False,\n",
       " False,\n",
       " False,\n",
       " False,\n",
       " False,\n",
       " False,\n",
       " False,\n",
       " False,\n",
       " False,\n",
       " False,\n",
       " False,\n",
       " False,\n",
       " False,\n",
       " False,\n",
       " False,\n",
       " False,\n",
       " False,\n",
       " False,\n",
       " False,\n",
       " False,\n",
       " False,\n",
       " False,\n",
       " False,\n",
       " False,\n",
       " False,\n",
       " False,\n",
       " False,\n",
       " False,\n",
       " False,\n",
       " False,\n",
       " False,\n",
       " False,\n",
       " False,\n",
       " False,\n",
       " False,\n",
       " False,\n",
       " False,\n",
       " False,\n",
       " False,\n",
       " False,\n",
       " False,\n",
       " False,\n",
       " False,\n",
       " False,\n",
       " False,\n",
       " False,\n",
       " False,\n",
       " False,\n",
       " False,\n",
       " False,\n",
       " False,\n",
       " False,\n",
       " False,\n",
       " False,\n",
       " False,\n",
       " False,\n",
       " False,\n",
       " False,\n",
       " False,\n",
       " False,\n",
       " False,\n",
       " False,\n",
       " False,\n",
       " False,\n",
       " False,\n",
       " False,\n",
       " False,\n",
       " False,\n",
       " False,\n",
       " False,\n",
       " False,\n",
       " False,\n",
       " False,\n",
       " False,\n",
       " False,\n",
       " False,\n",
       " False,\n",
       " False,\n",
       " False,\n",
       " False,\n",
       " False,\n",
       " False,\n",
       " False,\n",
       " False,\n",
       " False,\n",
       " False,\n",
       " False,\n",
       " False,\n",
       " False,\n",
       " False,\n",
       " False,\n",
       " False,\n",
       " False,\n",
       " False,\n",
       " False,\n",
       " False,\n",
       " False,\n",
       " False,\n",
       " False,\n",
       " False,\n",
       " False,\n",
       " False,\n",
       " False,\n",
       " False,\n",
       " False,\n",
       " False,\n",
       " False,\n",
       " False,\n",
       " False,\n",
       " False,\n",
       " False,\n",
       " False,\n",
       " False,\n",
       " False,\n",
       " False,\n",
       " False,\n",
       " False,\n",
       " False,\n",
       " False,\n",
       " False,\n",
       " False,\n",
       " False,\n",
       " False,\n",
       " False,\n",
       " False,\n",
       " False,\n",
       " False,\n",
       " False,\n",
       " False,\n",
       " False,\n",
       " False,\n",
       " False,\n",
       " False,\n",
       " False,\n",
       " False,\n",
       " False,\n",
       " False,\n",
       " False,\n",
       " False,\n",
       " False,\n",
       " False,\n",
       " False,\n",
       " False,\n",
       " False,\n",
       " False,\n",
       " False,\n",
       " False,\n",
       " False,\n",
       " False,\n",
       " False,\n",
       " False,\n",
       " False,\n",
       " False,\n",
       " False,\n",
       " False,\n",
       " False,\n",
       " False,\n",
       " False,\n",
       " False,\n",
       " False,\n",
       " False,\n",
       " False,\n",
       " False,\n",
       " False,\n",
       " False,\n",
       " False,\n",
       " False,\n",
       " False,\n",
       " False,\n",
       " False,\n",
       " False,\n",
       " False,\n",
       " False,\n",
       " False,\n",
       " False,\n",
       " False,\n",
       " False,\n",
       " False,\n",
       " False,\n",
       " False,\n",
       " False,\n",
       " False,\n",
       " False,\n",
       " False,\n",
       " False,\n",
       " False,\n",
       " False,\n",
       " False,\n",
       " False,\n",
       " False,\n",
       " False,\n",
       " False,\n",
       " False,\n",
       " False,\n",
       " False,\n",
       " False,\n",
       " False,\n",
       " False,\n",
       " False,\n",
       " False,\n",
       " False,\n",
       " False,\n",
       " False,\n",
       " False,\n",
       " False,\n",
       " False,\n",
       " False,\n",
       " False,\n",
       " False,\n",
       " False,\n",
       " False,\n",
       " False,\n",
       " False,\n",
       " False,\n",
       " False,\n",
       " False,\n",
       " False,\n",
       " False,\n",
       " False,\n",
       " False,\n",
       " False,\n",
       " False,\n",
       " False,\n",
       " False,\n",
       " False,\n",
       " False,\n",
       " False,\n",
       " False,\n",
       " False,\n",
       " False,\n",
       " False,\n",
       " False,\n",
       " False,\n",
       " False,\n",
       " False,\n",
       " False,\n",
       " False,\n",
       " False,\n",
       " False,\n",
       " False,\n",
       " False,\n",
       " False,\n",
       " False,\n",
       " False,\n",
       " False,\n",
       " False,\n",
       " False,\n",
       " False,\n",
       " False,\n",
       " False,\n",
       " False,\n",
       " False,\n",
       " False,\n",
       " False,\n",
       " False,\n",
       " False,\n",
       " False,\n",
       " False,\n",
       " False,\n",
       " False,\n",
       " False,\n",
       " False,\n",
       " False,\n",
       " False,\n",
       " False,\n",
       " False,\n",
       " False,\n",
       " False,\n",
       " False,\n",
       " False,\n",
       " False,\n",
       " False,\n",
       " False,\n",
       " False,\n",
       " False,\n",
       " False,\n",
       " False,\n",
       " False,\n",
       " False,\n",
       " False,\n",
       " False,\n",
       " False,\n",
       " False,\n",
       " False,\n",
       " False,\n",
       " False,\n",
       " False,\n",
       " False,\n",
       " False,\n",
       " False,\n",
       " False,\n",
       " False,\n",
       " False,\n",
       " False,\n",
       " False,\n",
       " False,\n",
       " False,\n",
       " False,\n",
       " False,\n",
       " False,\n",
       " False,\n",
       " False,\n",
       " False,\n",
       " False,\n",
       " False,\n",
       " False,\n",
       " False,\n",
       " False,\n",
       " False,\n",
       " False,\n",
       " False,\n",
       " False,\n",
       " False,\n",
       " False,\n",
       " False,\n",
       " False,\n",
       " False,\n",
       " False,\n",
       " False,\n",
       " False,\n",
       " False,\n",
       " False,\n",
       " False,\n",
       " False,\n",
       " False,\n",
       " False,\n",
       " False,\n",
       " False,\n",
       " False,\n",
       " False,\n",
       " False,\n",
       " False,\n",
       " False,\n",
       " False,\n",
       " False,\n",
       " False,\n",
       " False,\n",
       " False,\n",
       " False,\n",
       " False,\n",
       " False,\n",
       " False,\n",
       " False,\n",
       " False,\n",
       " False,\n",
       " False,\n",
       " False,\n",
       " False,\n",
       " False,\n",
       " False,\n",
       " False,\n",
       " False,\n",
       " False,\n",
       " False,\n",
       " False,\n",
       " False,\n",
       " False,\n",
       " False,\n",
       " False,\n",
       " False,\n",
       " False,\n",
       " False,\n",
       " False,\n",
       " False,\n",
       " False,\n",
       " False,\n",
       " False,\n",
       " False,\n",
       " False,\n",
       " False,\n",
       " False,\n",
       " False,\n",
       " False,\n",
       " False,\n",
       " False,\n",
       " False,\n",
       " False,\n",
       " False,\n",
       " False,\n",
       " False,\n",
       " ...]"
      ]
     },
     "execution_count": 2237,
     "metadata": {},
     "output_type": "execute_result"
    }
   ],
   "source": [
    " [i == 'corolla' for i in final_df['model'].values]"
   ]
  },
  {
   "cell_type": "code",
   "execution_count": null,
   "metadata": {
    "ExecuteTime": {
     "end_time": "2019-10-28T18:21:03.201795Z",
     "start_time": "2019-10-28T18:21:03.188960Z"
    }
   },
   "outputs": [],
   "source": [
    "# final_df.loc[ , final_df.columns[17] ]\n",
    "\n",
    "final_df.loc[~final_df['model'].isna(), :]['model'].unique().values()"
   ]
  },
  {
   "cell_type": "code",
   "execution_count": 2265,
   "metadata": {
    "ExecuteTime": {
     "end_time": "2019-10-28T18:27:25.546711Z",
     "start_time": "2019-10-28T18:27:25.537978Z"
    }
   },
   "outputs": [
    {
     "data": {
      "text/plain": [
       "'granta'"
      ]
     },
     "execution_count": 2265,
     "metadata": {},
     "output_type": "execute_result"
    }
   ],
   "source": [
    "final_df.loc[~final_df['model'].isna(), :]['model'].unique()[1]"
   ]
  },
  {
   "cell_type": "code",
   "execution_count": null,
   "metadata": {},
   "outputs": [],
   "source": []
  },
  {
   "cell_type": "code",
   "execution_count": 2296,
   "metadata": {
    "ExecuteTime": {
     "end_time": "2019-10-28T18:40:40.418932Z",
     "start_time": "2019-10-28T18:40:40.411701Z"
    }
   },
   "outputs": [
    {
     "data": {
      "text/plain": [
       "0"
      ]
     },
     "execution_count": 2296,
     "metadata": {},
     "output_type": "execute_result"
    }
   ],
   "source": [
    "len(final_df.loc[[i == k for k in final_df['model'].values], final_df.columns[j] ].mode())"
   ]
  },
  {
   "cell_type": "code",
   "execution_count": 2298,
   "metadata": {
    "ExecuteTime": {
     "end_time": "2019-10-28T18:41:53.758326Z",
     "start_time": "2019-10-28T18:41:52.284515Z"
    }
   },
   "outputs": [
    {
     "name": "stderr",
     "output_type": "stream",
     "text": [
      "/home/xenakas/anaconda3/envs/geoplots3.6/lib/python3.6/site-packages/pandas/core/algorithms.py:881: UserWarning: Unable to sort modes: '<' not supported between instances of 'str' and 'float'\n",
      "  warn(\"Unable to sort modes: {error}\".format(error=e))\n",
      "/home/xenakas/anaconda3/envs/geoplots3.6/lib/python3.6/site-packages/pandas/core/algorithms.py:881: UserWarning: Unable to sort modes: '<' not supported between instances of 'str' and 'int'\n",
      "  warn(\"Unable to sort modes: {error}\".format(error=e))\n"
     ]
    }
   ],
   "source": [
    "for i in final_df.loc[~final_df['model'].isna(), :]['model'].unique():\n",
    "    for j in range(17,24):\n",
    "        \n",
    "        if len(final_df.loc[[i == k for k in final_df['model'].values], final_df.columns[j] ].mode()) !=0:         \n",
    "            final_df.loc[  [i == k for k in final_df['model'].values], final_df.columns[j] ] =  final_df.loc[[i == k for k in final_df['model'].values], final_df.columns[j] ].fillna(final_df.loc[[i == k for k in final_df['model'].values], final_df.columns[j] ].mode().values[0])"
   ]
  },
  {
   "cell_type": "code",
   "execution_count": 2300,
   "metadata": {
    "ExecuteTime": {
     "end_time": "2019-10-28T18:42:28.452747Z",
     "start_time": "2019-10-28T18:42:26.238819Z"
    }
   },
   "outputs": [],
   "source": [
    "final_df.to_excel('1345.xlsx')\n",
    "\n",
    "# .loc[final_df['model'] == 'granta', final_df.columns[17]].mode().values[0]\n"
   ]
  },
  {
   "cell_type": "code",
   "execution_count": 2261,
   "metadata": {
    "ExecuteTime": {
     "end_time": "2019-10-28T18:22:52.917364Z",
     "start_time": "2019-10-28T18:22:51.466521Z"
    }
   },
   "outputs": [
    {
     "name": "stderr",
     "output_type": "stream",
     "text": [
      "/home/xenakas/anaconda3/envs/geoplots3.6/lib/python3.6/site-packages/pandas/core/algorithms.py:881: UserWarning: Unable to sort modes: '<' not supported between instances of 'str' and 'int'\n",
      "  warn(\"Unable to sort modes: {error}\".format(error=e))\n"
     ]
    }
   ],
   "source": [
    "for j in range(17,24):\n",
    "    \n",
    "        \n",
    "        final_df.loc[  [i == k for k in final_df['model'].values], final_df.columns[j] ] = final_df.loc[[i == k for k in final_df['model'].values], final_df.columns[j] ].fillna(final_df.loc[[i == k for k in final_df['model'].values], final_df.columns[j] ].mode())"
   ]
  },
  {
   "cell_type": "code",
   "execution_count": 2263,
   "metadata": {
    "ExecuteTime": {
     "end_time": "2019-10-28T18:23:20.091317Z",
     "start_time": "2019-10-28T18:23:18.041710Z"
    }
   },
   "outputs": [],
   "source": [
    "final_df.to_excel('1231245.xlsx')"
   ]
  },
  {
   "cell_type": "code",
   "execution_count": 2216,
   "metadata": {
    "ExecuteTime": {
     "end_time": "2019-10-28T18:07:05.038745Z",
     "start_time": "2019-10-28T18:07:05.032766Z"
    },
    "scrolled": true
   },
   "outputs": [
    {
     "data": {
      "text/plain": [
       "3       1775.0\n",
       "1409    1775.0\n",
       "1451    1775.0\n",
       "1534    1775.0\n",
       "3472    1775.0\n",
       "3735    1775.0\n",
       "3982    1775.0\n",
       "Name: width, dtype: float64"
      ]
     },
     "execution_count": 2216,
     "metadata": {},
     "output_type": "execute_result"
    }
   ],
   "source": [
    "final_df.loc[final_df['model'] == 'corolla', 'width'].fillna(final_df.loc[final_df['model'] == 'corolla', 'width'].mode()[0])"
   ]
  },
  {
   "cell_type": "code",
   "execution_count": 2199,
   "metadata": {
    "ExecuteTime": {
     "end_time": "2019-10-28T18:02:51.326521Z",
     "start_time": "2019-10-28T18:02:51.312355Z"
    }
   },
   "outputs": [
    {
     "ename": "TypeError",
     "evalue": "'(0       False\n1       False\n2       False\n3       False\n4       False\n        ...  \n4434    False\n4435    False\n4436    False\n4437    False\n4438    False\nName: model, Length: 4439, dtype: bool, 17)' is an invalid key",
     "output_type": "error",
     "traceback": [
      "\u001b[0;31m---------------------------------------------------------------------------\u001b[0m",
      "\u001b[0;31mTypeError\u001b[0m                                 Traceback (most recent call last)",
      "\u001b[0;32m<ipython-input-2199-5eafb11ff142>\u001b[0m in \u001b[0;36m<module>\u001b[0;34m\u001b[0m\n\u001b[0;32m----> 1\u001b[0;31m \u001b[0mfinal_df\u001b[0m\u001b[0;34m[\u001b[0m\u001b[0mfinal_df\u001b[0m\u001b[0;34m[\u001b[0m\u001b[0;34m'model'\u001b[0m\u001b[0;34m]\u001b[0m \u001b[0;34m==\u001b[0m \u001b[0;34m'corolla'\u001b[0m\u001b[0;34m,\u001b[0m \u001b[0;36m17\u001b[0m\u001b[0;34m]\u001b[0m\u001b[0;34m.\u001b[0m\u001b[0mfillna\u001b[0m\u001b[0;34m(\u001b[0m\u001b[0mfinal_df\u001b[0m\u001b[0;34m.\u001b[0m\u001b[0mmode\u001b[0m\u001b[0;34m(\u001b[0m\u001b[0mfinal_df\u001b[0m\u001b[0;34m[\u001b[0m\u001b[0mfinal_df\u001b[0m\u001b[0;34m[\u001b[0m\u001b[0;34m'model'\u001b[0m\u001b[0;34m]\u001b[0m \u001b[0;34m==\u001b[0m \u001b[0;34m'corolla'\u001b[0m\u001b[0;34m,\u001b[0m \u001b[0;36m17\u001b[0m\u001b[0;34m]\u001b[0m\u001b[0;34m)\u001b[0m\u001b[0;34m)\u001b[0m\u001b[0;34m\u001b[0m\u001b[0;34m\u001b[0m\u001b[0m\n\u001b[0m",
      "\u001b[0;32m~/anaconda3/envs/geoplots3.6/lib/python3.6/site-packages/pandas/core/frame.py\u001b[0m in \u001b[0;36m__getitem__\u001b[0;34m(self, key)\u001b[0m\n\u001b[1;32m   2978\u001b[0m             \u001b[0;32mif\u001b[0m \u001b[0mself\u001b[0m\u001b[0;34m.\u001b[0m\u001b[0mcolumns\u001b[0m\u001b[0;34m.\u001b[0m\u001b[0mnlevels\u001b[0m \u001b[0;34m>\u001b[0m \u001b[0;36m1\u001b[0m\u001b[0;34m:\u001b[0m\u001b[0;34m\u001b[0m\u001b[0;34m\u001b[0m\u001b[0m\n\u001b[1;32m   2979\u001b[0m                 \u001b[0;32mreturn\u001b[0m \u001b[0mself\u001b[0m\u001b[0;34m.\u001b[0m\u001b[0m_getitem_multilevel\u001b[0m\u001b[0;34m(\u001b[0m\u001b[0mkey\u001b[0m\u001b[0;34m)\u001b[0m\u001b[0;34m\u001b[0m\u001b[0;34m\u001b[0m\u001b[0m\n\u001b[0;32m-> 2980\u001b[0;31m             \u001b[0mindexer\u001b[0m \u001b[0;34m=\u001b[0m \u001b[0mself\u001b[0m\u001b[0;34m.\u001b[0m\u001b[0mcolumns\u001b[0m\u001b[0;34m.\u001b[0m\u001b[0mget_loc\u001b[0m\u001b[0;34m(\u001b[0m\u001b[0mkey\u001b[0m\u001b[0;34m)\u001b[0m\u001b[0;34m\u001b[0m\u001b[0;34m\u001b[0m\u001b[0m\n\u001b[0m\u001b[1;32m   2981\u001b[0m             \u001b[0;32mif\u001b[0m \u001b[0mis_integer\u001b[0m\u001b[0;34m(\u001b[0m\u001b[0mindexer\u001b[0m\u001b[0;34m)\u001b[0m\u001b[0;34m:\u001b[0m\u001b[0;34m\u001b[0m\u001b[0;34m\u001b[0m\u001b[0m\n\u001b[1;32m   2982\u001b[0m                 \u001b[0mindexer\u001b[0m \u001b[0;34m=\u001b[0m \u001b[0;34m[\u001b[0m\u001b[0mindexer\u001b[0m\u001b[0;34m]\u001b[0m\u001b[0;34m\u001b[0m\u001b[0;34m\u001b[0m\u001b[0m\n",
      "\u001b[0;32m~/anaconda3/envs/geoplots3.6/lib/python3.6/site-packages/pandas/core/indexes/base.py\u001b[0m in \u001b[0;36mget_loc\u001b[0;34m(self, key, method, tolerance)\u001b[0m\n\u001b[1;32m   2895\u001b[0m                 )\n\u001b[1;32m   2896\u001b[0m             \u001b[0;32mtry\u001b[0m\u001b[0;34m:\u001b[0m\u001b[0;34m\u001b[0m\u001b[0;34m\u001b[0m\u001b[0m\n\u001b[0;32m-> 2897\u001b[0;31m                 \u001b[0;32mreturn\u001b[0m \u001b[0mself\u001b[0m\u001b[0;34m.\u001b[0m\u001b[0m_engine\u001b[0m\u001b[0;34m.\u001b[0m\u001b[0mget_loc\u001b[0m\u001b[0;34m(\u001b[0m\u001b[0mkey\u001b[0m\u001b[0;34m)\u001b[0m\u001b[0;34m\u001b[0m\u001b[0;34m\u001b[0m\u001b[0m\n\u001b[0m\u001b[1;32m   2898\u001b[0m             \u001b[0;32mexcept\u001b[0m \u001b[0mKeyError\u001b[0m\u001b[0;34m:\u001b[0m\u001b[0;34m\u001b[0m\u001b[0;34m\u001b[0m\u001b[0m\n\u001b[1;32m   2899\u001b[0m                 \u001b[0;32mreturn\u001b[0m \u001b[0mself\u001b[0m\u001b[0;34m.\u001b[0m\u001b[0m_engine\u001b[0m\u001b[0;34m.\u001b[0m\u001b[0mget_loc\u001b[0m\u001b[0;34m(\u001b[0m\u001b[0mself\u001b[0m\u001b[0;34m.\u001b[0m\u001b[0m_maybe_cast_indexer\u001b[0m\u001b[0;34m(\u001b[0m\u001b[0mkey\u001b[0m\u001b[0;34m)\u001b[0m\u001b[0;34m)\u001b[0m\u001b[0;34m\u001b[0m\u001b[0;34m\u001b[0m\u001b[0m\n",
      "\u001b[0;32mpandas/_libs/index.pyx\u001b[0m in \u001b[0;36mpandas._libs.index.IndexEngine.get_loc\u001b[0;34m()\u001b[0m\n",
      "\u001b[0;32mpandas/_libs/index.pyx\u001b[0m in \u001b[0;36mpandas._libs.index.IndexEngine.get_loc\u001b[0;34m()\u001b[0m\n",
      "\u001b[0;31mTypeError\u001b[0m: '(0       False\n1       False\n2       False\n3       False\n4       False\n        ...  \n4434    False\n4435    False\n4436    False\n4437    False\n4438    False\nName: model, Length: 4439, dtype: bool, 17)' is an invalid key"
     ]
    }
   ],
   "source": [
    "final_df[final_df['model'] == 'corolla', 17].fillna(\n",
    "    final_df.mode(final_df[final_df['model'] == 'corolla', 17]))"
   ]
  },
  {
   "cell_type": "code",
   "execution_count": 2198,
   "metadata": {
    "ExecuteTime": {
     "end_time": "2019-10-28T18:01:05.243218Z",
     "start_time": "2019-10-28T18:01:05.190346Z"
    },
    "scrolled": false
   },
   "outputs": [
    {
     "data": {
      "text/html": [
       "<div>\n",
       "<style scoped>\n",
       "    .dataframe tbody tr th:only-of-type {\n",
       "        vertical-align: middle;\n",
       "    }\n",
       "\n",
       "    .dataframe tbody tr th {\n",
       "        vertical-align: top;\n",
       "    }\n",
       "\n",
       "    .dataframe thead th {\n",
       "        text-align: right;\n",
       "    }\n",
       "</style>\n",
       "<table border=\"1\" class=\"dataframe\">\n",
       "  <thead>\n",
       "    <tr style=\"text-align: right;\">\n",
       "      <th></th>\n",
       "      <th>purchase_number</th>\n",
       "      <th>index_name</th>\n",
       "      <th>all_indexes</th>\n",
       "      <th>price</th>\n",
       "      <th>real_price</th>\n",
       "      <th>auction</th>\n",
       "      <th>numb_bidders</th>\n",
       "      <th>kolichestvo_avto_v_zakupke</th>\n",
       "      <th>org_address</th>\n",
       "      <th>date</th>\n",
       "      <th>...</th>\n",
       "      <th>privod</th>\n",
       "      <th>width</th>\n",
       "      <th>length</th>\n",
       "      <th>mass_snar</th>\n",
       "      <th>vol_dvigatelya</th>\n",
       "      <th>max_speed</th>\n",
       "      <th>moschnost_lps</th>\n",
       "      <th>potreb_gorod</th>\n",
       "      <th>filename</th>\n",
       "      <th>filetype</th>\n",
       "    </tr>\n",
       "  </thead>\n",
       "  <tbody>\n",
       "    <tr>\n",
       "      <td>0</td>\n",
       "      <td>0101100000614000127</td>\n",
       "      <td>1</td>\n",
       "      <td>1</td>\n",
       "      <td>1500000.0</td>\n",
       "      <td>1500000.0</td>\n",
       "      <td>1.0</td>\n",
       "      <td>1.0</td>\n",
       "      <td>1.0</td>\n",
       "      <td>Москва</td>\n",
       "      <td>2016.0</td>\n",
       "      <td>...</td>\n",
       "      <td>передний</td>\n",
       "      <td>1700</td>\n",
       "      <td>4470</td>\n",
       "      <td>1560</td>\n",
       "      <td>1598.0</td>\n",
       "      <td>140</td>\n",
       "      <td>109</td>\n",
       "      <td>11</td>\n",
       "      <td>0003c2d0db5d1698a66c534ed31ff864a7b8428d66e118...</td>\n",
       "      <td>docx</td>\n",
       "    </tr>\n",
       "    <tr>\n",
       "      <td>1</td>\n",
       "      <td>0101100007116000134</td>\n",
       "      <td>4</td>\n",
       "      <td>10003</td>\n",
       "      <td>NaN</td>\n",
       "      <td>NaN</td>\n",
       "      <td>NaN</td>\n",
       "      <td>NaN</td>\n",
       "      <td>NaN</td>\n",
       "      <td>NaN</td>\n",
       "      <td>NaN</td>\n",
       "      <td>...</td>\n",
       "      <td>NaN</td>\n",
       "      <td>NaN</td>\n",
       "      <td>NaN</td>\n",
       "      <td>NaN</td>\n",
       "      <td>NaN</td>\n",
       "      <td>NaN</td>\n",
       "      <td>NaN</td>\n",
       "      <td>NaN</td>\n",
       "      <td>0009f56a74d4bea37e167edc3c889013d119fe2eab6da0...</td>\n",
       "      <td>NaN</td>\n",
       "    </tr>\n",
       "    <tr>\n",
       "      <td>2</td>\n",
       "      <td>0101200002315000434</td>\n",
       "      <td>6</td>\n",
       "      <td>10016</td>\n",
       "      <td>NaN</td>\n",
       "      <td>NaN</td>\n",
       "      <td>NaN</td>\n",
       "      <td>NaN</td>\n",
       "      <td>NaN</td>\n",
       "      <td>NaN</td>\n",
       "      <td>NaN</td>\n",
       "      <td>...</td>\n",
       "      <td>NaN</td>\n",
       "      <td>NaN</td>\n",
       "      <td>NaN</td>\n",
       "      <td>NaN</td>\n",
       "      <td>NaN</td>\n",
       "      <td>NaN</td>\n",
       "      <td>NaN</td>\n",
       "      <td>NaN</td>\n",
       "      <td>00198b58b5214f38767374a9af6692df96591dfe3dff98...</td>\n",
       "      <td>NaN</td>\n",
       "    </tr>\n",
       "    <tr>\n",
       "      <td>3</td>\n",
       "      <td>0101200002315000436</td>\n",
       "      <td>7</td>\n",
       "      <td>10019</td>\n",
       "      <td>NaN</td>\n",
       "      <td>NaN</td>\n",
       "      <td>NaN</td>\n",
       "      <td>NaN</td>\n",
       "      <td>NaN</td>\n",
       "      <td>NaN</td>\n",
       "      <td>NaN</td>\n",
       "      <td>...</td>\n",
       "      <td>NaN</td>\n",
       "      <td>NaN</td>\n",
       "      <td>NaN</td>\n",
       "      <td>NaN</td>\n",
       "      <td>NaN</td>\n",
       "      <td>NaN</td>\n",
       "      <td>NaN</td>\n",
       "      <td>NaN</td>\n",
       "      <td>0060a0b74a558a0db0f7ac4f122bd009d6f0a11e283629...</td>\n",
       "      <td>NaN</td>\n",
       "    </tr>\n",
       "    <tr>\n",
       "      <td>4</td>\n",
       "      <td>0101200002315000437</td>\n",
       "      <td>17</td>\n",
       "      <td>10021</td>\n",
       "      <td>NaN</td>\n",
       "      <td>NaN</td>\n",
       "      <td>NaN</td>\n",
       "      <td>NaN</td>\n",
       "      <td>NaN</td>\n",
       "      <td>NaN</td>\n",
       "      <td>NaN</td>\n",
       "      <td>...</td>\n",
       "      <td>NaN</td>\n",
       "      <td>NaN</td>\n",
       "      <td>NaN</td>\n",
       "      <td>NaN</td>\n",
       "      <td>NaN</td>\n",
       "      <td>NaN</td>\n",
       "      <td>NaN</td>\n",
       "      <td>NaN</td>\n",
       "      <td>0066214798c208456e062c300db82e35a2345834761f0e...</td>\n",
       "      <td>NaN</td>\n",
       "    </tr>\n",
       "    <tr>\n",
       "      <td>...</td>\n",
       "      <td>...</td>\n",
       "      <td>...</td>\n",
       "      <td>...</td>\n",
       "      <td>...</td>\n",
       "      <td>...</td>\n",
       "      <td>...</td>\n",
       "      <td>...</td>\n",
       "      <td>...</td>\n",
       "      <td>...</td>\n",
       "      <td>...</td>\n",
       "      <td>...</td>\n",
       "      <td>...</td>\n",
       "      <td>...</td>\n",
       "      <td>...</td>\n",
       "      <td>...</td>\n",
       "      <td>...</td>\n",
       "      <td>...</td>\n",
       "      <td>...</td>\n",
       "      <td>...</td>\n",
       "      <td>...</td>\n",
       "      <td>...</td>\n",
       "    </tr>\n",
       "    <tr>\n",
       "      <td>4434</td>\n",
       "      <td>1079200000416000001</td>\n",
       "      <td>25545</td>\n",
       "      <td>9976, 9981</td>\n",
       "      <td>NaN</td>\n",
       "      <td>NaN</td>\n",
       "      <td>NaN</td>\n",
       "      <td>NaN</td>\n",
       "      <td>NaN</td>\n",
       "      <td>NaN</td>\n",
       "      <td>NaN</td>\n",
       "      <td>...</td>\n",
       "      <td>NaN</td>\n",
       "      <td>NaN</td>\n",
       "      <td>NaN</td>\n",
       "      <td>NaN</td>\n",
       "      <td>NaN</td>\n",
       "      <td>NaN</td>\n",
       "      <td>NaN</td>\n",
       "      <td>NaN</td>\n",
       "      <td>ff9093d3287d24d09a95595fef9158214761f2bc2e0015...</td>\n",
       "      <td>NaN</td>\n",
       "    </tr>\n",
       "    <tr>\n",
       "      <td>4435</td>\n",
       "      <td>2001500000117000021</td>\n",
       "      <td>25546</td>\n",
       "      <td>9982</td>\n",
       "      <td>NaN</td>\n",
       "      <td>NaN</td>\n",
       "      <td>NaN</td>\n",
       "      <td>NaN</td>\n",
       "      <td>NaN</td>\n",
       "      <td>NaN</td>\n",
       "      <td>NaN</td>\n",
       "      <td>...</td>\n",
       "      <td>NaN</td>\n",
       "      <td>NaN</td>\n",
       "      <td>NaN</td>\n",
       "      <td>NaN</td>\n",
       "      <td>NaN</td>\n",
       "      <td>NaN</td>\n",
       "      <td>NaN</td>\n",
       "      <td>NaN</td>\n",
       "      <td>ffa373dc986e2214c109bbbfb8f5ee0bb93318b1a3f7d9...</td>\n",
       "      <td>NaN</td>\n",
       "    </tr>\n",
       "    <tr>\n",
       "      <td>4436</td>\n",
       "      <td>2061700000117000022</td>\n",
       "      <td>25581</td>\n",
       "      <td>9990</td>\n",
       "      <td>NaN</td>\n",
       "      <td>NaN</td>\n",
       "      <td>NaN</td>\n",
       "      <td>NaN</td>\n",
       "      <td>NaN</td>\n",
       "      <td>NaN</td>\n",
       "      <td>NaN</td>\n",
       "      <td>...</td>\n",
       "      <td>NaN</td>\n",
       "      <td>NaN</td>\n",
       "      <td>NaN</td>\n",
       "      <td>NaN</td>\n",
       "      <td>NaN</td>\n",
       "      <td>NaN</td>\n",
       "      <td>NaN</td>\n",
       "      <td>NaN</td>\n",
       "      <td>ffab2d4efef0a32db82ac8f193f815cc80cf8900a3c330...</td>\n",
       "      <td>NaN</td>\n",
       "    </tr>\n",
       "    <tr>\n",
       "      <td>4437</td>\n",
       "      <td>2065200000117000003</td>\n",
       "      <td>25582</td>\n",
       "      <td>9991</td>\n",
       "      <td>NaN</td>\n",
       "      <td>NaN</td>\n",
       "      <td>NaN</td>\n",
       "      <td>NaN</td>\n",
       "      <td>NaN</td>\n",
       "      <td>NaN</td>\n",
       "      <td>NaN</td>\n",
       "      <td>...</td>\n",
       "      <td>NaN</td>\n",
       "      <td>NaN</td>\n",
       "      <td>NaN</td>\n",
       "      <td>NaN</td>\n",
       "      <td>NaN</td>\n",
       "      <td>NaN</td>\n",
       "      <td>NaN</td>\n",
       "      <td>NaN</td>\n",
       "      <td>ffc52c3b2b589b670a838602d736e6aa9a41b973eb5481...</td>\n",
       "      <td>NaN</td>\n",
       "    </tr>\n",
       "    <tr>\n",
       "      <td>4438</td>\n",
       "      <td>2065200000117000004</td>\n",
       "      <td>25595</td>\n",
       "      <td>9997</td>\n",
       "      <td>NaN</td>\n",
       "      <td>NaN</td>\n",
       "      <td>NaN</td>\n",
       "      <td>NaN</td>\n",
       "      <td>NaN</td>\n",
       "      <td>NaN</td>\n",
       "      <td>NaN</td>\n",
       "      <td>...</td>\n",
       "      <td>NaN</td>\n",
       "      <td>NaN</td>\n",
       "      <td>NaN</td>\n",
       "      <td>NaN</td>\n",
       "      <td>NaN</td>\n",
       "      <td>NaN</td>\n",
       "      <td>NaN</td>\n",
       "      <td>NaN</td>\n",
       "      <td>ffcf6e5e725fa656af31d168ca7aba5bb57bab2378e70f...</td>\n",
       "      <td>NaN</td>\n",
       "    </tr>\n",
       "  </tbody>\n",
       "</table>\n",
       "<p>4439 rows × 26 columns</p>\n",
       "</div>"
      ],
      "text/plain": [
       "          purchase_number  index_name all_indexes      price  real_price  \\\n",
       "0     0101100000614000127           1           1  1500000.0   1500000.0   \n",
       "1     0101100007116000134           4       10003        NaN         NaN   \n",
       "2     0101200002315000434           6       10016        NaN         NaN   \n",
       "3     0101200002315000436           7       10019        NaN         NaN   \n",
       "4     0101200002315000437          17       10021        NaN         NaN   \n",
       "...                   ...         ...         ...        ...         ...   \n",
       "4434  1079200000416000001       25545  9976, 9981        NaN         NaN   \n",
       "4435  2001500000117000021       25546        9982        NaN         NaN   \n",
       "4436  2061700000117000022       25581        9990        NaN         NaN   \n",
       "4437  2065200000117000003       25582        9991        NaN         NaN   \n",
       "4438  2065200000117000004       25595        9997        NaN         NaN   \n",
       "\n",
       "      auction  numb_bidders  kolichestvo_avto_v_zakupke org_address    date  \\\n",
       "0         1.0           1.0                         1.0      Москва  2016.0   \n",
       "1         NaN           NaN                         NaN         NaN     NaN   \n",
       "2         NaN           NaN                         NaN         NaN     NaN   \n",
       "3         NaN           NaN                         NaN         NaN     NaN   \n",
       "4         NaN           NaN                         NaN         NaN     NaN   \n",
       "...       ...           ...                         ...         ...     ...   \n",
       "4434      NaN           NaN                         NaN         NaN     NaN   \n",
       "4435      NaN           NaN                         NaN         NaN     NaN   \n",
       "4436      NaN           NaN                         NaN         NaN     NaN   \n",
       "4437      NaN           NaN                         NaN         NaN     NaN   \n",
       "4438      NaN           NaN                         NaN         NaN     NaN   \n",
       "\n",
       "      ...    privod width length mass_snar  vol_dvigatelya max_speed  \\\n",
       "0     ...  передний  1700   4470      1560          1598.0       140   \n",
       "1     ...       NaN   NaN    NaN       NaN             NaN       NaN   \n",
       "2     ...       NaN   NaN    NaN       NaN             NaN       NaN   \n",
       "3     ...       NaN   NaN    NaN       NaN             NaN       NaN   \n",
       "4     ...       NaN   NaN    NaN       NaN             NaN       NaN   \n",
       "...   ...       ...   ...    ...       ...             ...       ...   \n",
       "4434  ...       NaN   NaN    NaN       NaN             NaN       NaN   \n",
       "4435  ...       NaN   NaN    NaN       NaN             NaN       NaN   \n",
       "4436  ...       NaN   NaN    NaN       NaN             NaN       NaN   \n",
       "4437  ...       NaN   NaN    NaN       NaN             NaN       NaN   \n",
       "4438  ...       NaN   NaN    NaN       NaN             NaN       NaN   \n",
       "\n",
       "     moschnost_lps potreb_gorod  \\\n",
       "0              109           11   \n",
       "1              NaN          NaN   \n",
       "2              NaN          NaN   \n",
       "3              NaN          NaN   \n",
       "4              NaN          NaN   \n",
       "...            ...          ...   \n",
       "4434           NaN          NaN   \n",
       "4435           NaN          NaN   \n",
       "4436           NaN          NaN   \n",
       "4437           NaN          NaN   \n",
       "4438           NaN          NaN   \n",
       "\n",
       "                                               filename filetype  \n",
       "0     0003c2d0db5d1698a66c534ed31ff864a7b8428d66e118...     docx  \n",
       "1     0009f56a74d4bea37e167edc3c889013d119fe2eab6da0...      NaN  \n",
       "2     00198b58b5214f38767374a9af6692df96591dfe3dff98...      NaN  \n",
       "3     0060a0b74a558a0db0f7ac4f122bd009d6f0a11e283629...      NaN  \n",
       "4     0066214798c208456e062c300db82e35a2345834761f0e...      NaN  \n",
       "...                                                 ...      ...  \n",
       "4434  ff9093d3287d24d09a95595fef9158214761f2bc2e0015...      NaN  \n",
       "4435  ffa373dc986e2214c109bbbfb8f5ee0bb93318b1a3f7d9...      NaN  \n",
       "4436  ffab2d4efef0a32db82ac8f193f815cc80cf8900a3c330...      NaN  \n",
       "4437  ffc52c3b2b589b670a838602d736e6aa9a41b973eb5481...      NaN  \n",
       "4438  ffcf6e5e725fa656af31d168ca7aba5bb57bab2378e70f...      NaN  \n",
       "\n",
       "[4439 rows x 26 columns]"
      ]
     },
     "execution_count": 2198,
     "metadata": {},
     "output_type": "execute_result"
    }
   ],
   "source": [
    "final_df.mode()\n"
   ]
  },
  {
   "cell_type": "code",
   "execution_count": null,
   "metadata": {},
   "outputs": [],
   "source": [
    "df.fillna(df.mode().iloc[0])"
   ]
  },
  {
   "cell_type": "code",
   "execution_count": 2146,
   "metadata": {
    "ExecuteTime": {
     "end_time": "2019-10-28T17:34:52.687283Z",
     "start_time": "2019-10-28T17:34:52.680549Z"
    }
   },
   "outputs": [
    {
     "data": {
      "text/plain": [
       "array(['patriot', nan, 'corolla', 'x_trail', 'camry', '3163', 'hiace',\n",
       "       'duster', 'twelve', 'chevrolet', 'solaris', 'sportage', 'transit',\n",
       "       'jetta', '110', 'octavia', 'granta', 'mondeo', 'rio', 'optima',\n",
       "       'rapid', 'logan', 'largus', 'bd_132j', 'kalina', '2170', 'cerato',\n",
       "       'x-trail', 'veneno', 'terrano', 'almera', 'sandero', 'niva',\n",
       "       'rav_4', 'pickup', 'polo', 'sentra', 'hunter', 'teana', 'fortwo',\n",
       "       'focus', 'vesta', 'creta', 'tiguan', 'multivan', 'elantra',\n",
       "       'sorento', 'hover', 'on_do', 'priora', 'superb', 'land', 'on-do',\n",
       "       'xray', 'eighty_eight', 'corsa', '2129', 'i40', 'outlander',\n",
       "       'cruiser', '390945'], dtype=object)"
      ]
     },
     "execution_count": 2146,
     "metadata": {},
     "output_type": "execute_result"
    }
   ],
   "source": [
    "final_df['model'].unique()"
   ]
  },
  {
   "cell_type": "code",
   "execution_count": 2149,
   "metadata": {
    "ExecuteTime": {
     "end_time": "2019-10-28T17:36:18.985553Z",
     "start_time": "2019-10-28T17:36:18.972663Z"
    }
   },
   "outputs": [
    {
     "data": {
      "text/html": [
       "<div>\n",
       "<style scoped>\n",
       "    .dataframe tbody tr th:only-of-type {\n",
       "        vertical-align: middle;\n",
       "    }\n",
       "\n",
       "    .dataframe tbody tr th {\n",
       "        vertical-align: top;\n",
       "    }\n",
       "\n",
       "    .dataframe thead th {\n",
       "        text-align: right;\n",
       "    }\n",
       "</style>\n",
       "<table border=\"1\" class=\"dataframe\">\n",
       "  <thead>\n",
       "    <tr style=\"text-align: right;\">\n",
       "      <th></th>\n",
       "      <th>width</th>\n",
       "      <th>length</th>\n",
       "      <th>mass_snar</th>\n",
       "      <th>vol_dvigatelya</th>\n",
       "      <th>max_speed</th>\n",
       "      <th>moschnost_lps</th>\n",
       "      <th>potreb_gorod</th>\n",
       "    </tr>\n",
       "  </thead>\n",
       "  <tbody>\n",
       "    <tr>\n",
       "      <td>0</td>\n",
       "      <td>1900.0</td>\n",
       "      <td>4700.0</td>\n",
       "      <td>NaN</td>\n",
       "      <td>NaN</td>\n",
       "      <td>NaN</td>\n",
       "      <td>NaN</td>\n",
       "      <td>NaN</td>\n",
       "    </tr>\n",
       "    <tr>\n",
       "      <td>1</td>\n",
       "      <td>1750.0</td>\n",
       "      <td>4450.0</td>\n",
       "      <td>NaN</td>\n",
       "      <td>1598.0</td>\n",
       "      <td>165.0</td>\n",
       "      <td>NaN</td>\n",
       "      <td>NaN</td>\n",
       "    </tr>\n",
       "    <tr>\n",
       "      <td>2</td>\n",
       "      <td>NaN</td>\n",
       "      <td>NaN</td>\n",
       "      <td>NaN</td>\n",
       "      <td>1500.0</td>\n",
       "      <td>NaN</td>\n",
       "      <td>NaN</td>\n",
       "      <td>NaN</td>\n",
       "    </tr>\n",
       "    <tr>\n",
       "      <td>3</td>\n",
       "      <td>1775.0</td>\n",
       "      <td>4620.0</td>\n",
       "      <td>1260.0</td>\n",
       "      <td>1598.0</td>\n",
       "      <td>NaN</td>\n",
       "      <td>NaN</td>\n",
       "      <td>NaN</td>\n",
       "    </tr>\n",
       "    <tr>\n",
       "      <td>4</td>\n",
       "      <td>NaN</td>\n",
       "      <td>NaN</td>\n",
       "      <td>NaN</td>\n",
       "      <td>NaN</td>\n",
       "      <td>NaN</td>\n",
       "      <td>NaN</td>\n",
       "      <td>NaN</td>\n",
       "    </tr>\n",
       "    <tr>\n",
       "      <td>...</td>\n",
       "      <td>...</td>\n",
       "      <td>...</td>\n",
       "      <td>...</td>\n",
       "      <td>...</td>\n",
       "      <td>...</td>\n",
       "      <td>...</td>\n",
       "      <td>...</td>\n",
       "    </tr>\n",
       "    <tr>\n",
       "      <td>4434</td>\n",
       "      <td>NaN</td>\n",
       "      <td>NaN</td>\n",
       "      <td>NaN</td>\n",
       "      <td>1598.0</td>\n",
       "      <td>NaN</td>\n",
       "      <td>NaN</td>\n",
       "      <td>NaN</td>\n",
       "    </tr>\n",
       "    <tr>\n",
       "      <td>4435</td>\n",
       "      <td>1700.0</td>\n",
       "      <td>NaN</td>\n",
       "      <td>1560.0</td>\n",
       "      <td>1596.0</td>\n",
       "      <td>NaN</td>\n",
       "      <td>NaN</td>\n",
       "      <td>NaN</td>\n",
       "    </tr>\n",
       "    <tr>\n",
       "      <td>4436</td>\n",
       "      <td>NaN</td>\n",
       "      <td>NaN</td>\n",
       "      <td>NaN</td>\n",
       "      <td>NaN</td>\n",
       "      <td>NaN</td>\n",
       "      <td>NaN</td>\n",
       "      <td>NaN</td>\n",
       "    </tr>\n",
       "    <tr>\n",
       "      <td>4437</td>\n",
       "      <td>NaN</td>\n",
       "      <td>NaN</td>\n",
       "      <td>NaN</td>\n",
       "      <td>NaN</td>\n",
       "      <td>NaN</td>\n",
       "      <td>NaN</td>\n",
       "      <td>NaN</td>\n",
       "    </tr>\n",
       "    <tr>\n",
       "      <td>4438</td>\n",
       "      <td>NaN</td>\n",
       "      <td>NaN</td>\n",
       "      <td>NaN</td>\n",
       "      <td>NaN</td>\n",
       "      <td>NaN</td>\n",
       "      <td>NaN</td>\n",
       "      <td>NaN</td>\n",
       "    </tr>\n",
       "  </tbody>\n",
       "</table>\n",
       "<p>4439 rows × 7 columns</p>\n",
       "</div>"
      ],
      "text/plain": [
       "       width  length  mass_snar  vol_dvigatelya  max_speed  moschnost_lps  \\\n",
       "0     1900.0  4700.0        NaN             NaN        NaN            NaN   \n",
       "1     1750.0  4450.0        NaN          1598.0      165.0            NaN   \n",
       "2        NaN     NaN        NaN          1500.0        NaN            NaN   \n",
       "3     1775.0  4620.0     1260.0          1598.0        NaN            NaN   \n",
       "4        NaN     NaN        NaN             NaN        NaN            NaN   \n",
       "...      ...     ...        ...             ...        ...            ...   \n",
       "4434     NaN     NaN        NaN          1598.0        NaN            NaN   \n",
       "4435  1700.0     NaN     1560.0          1596.0        NaN            NaN   \n",
       "4436     NaN     NaN        NaN             NaN        NaN            NaN   \n",
       "4437     NaN     NaN        NaN             NaN        NaN            NaN   \n",
       "4438     NaN     NaN        NaN             NaN        NaN            NaN   \n",
       "\n",
       "      potreb_gorod  \n",
       "0              NaN  \n",
       "1              NaN  \n",
       "2              NaN  \n",
       "3              NaN  \n",
       "4              NaN  \n",
       "...            ...  \n",
       "4434           NaN  \n",
       "4435           NaN  \n",
       "4436           NaN  \n",
       "4437           NaN  \n",
       "4438           NaN  \n",
       "\n",
       "[4439 rows x 7 columns]"
      ]
     },
     "execution_count": 2149,
     "metadata": {},
     "output_type": "execute_result"
    }
   ],
   "source": [
    "final_df.iloc[:,17:24]"
   ]
  },
  {
   "cell_type": "code",
   "execution_count": 2307,
   "metadata": {
    "ExecuteTime": {
     "end_time": "2019-10-28T18:45:22.370713Z",
     "start_time": "2019-10-28T18:45:22.348059Z"
    }
   },
   "outputs": [
    {
     "data": {
      "text/html": [
       "<div>\n",
       "<style scoped>\n",
       "    .dataframe tbody tr th:only-of-type {\n",
       "        vertical-align: middle;\n",
       "    }\n",
       "\n",
       "    .dataframe tbody tr th {\n",
       "        vertical-align: top;\n",
       "    }\n",
       "\n",
       "    .dataframe thead th {\n",
       "        text-align: right;\n",
       "    }\n",
       "</style>\n",
       "<table border=\"1\" class=\"dataframe\">\n",
       "  <thead>\n",
       "    <tr style=\"text-align: right;\">\n",
       "      <th></th>\n",
       "      <th>god_vipuska</th>\n",
       "      <th>korobka</th>\n",
       "      <th>privod</th>\n",
       "      <th>width</th>\n",
       "      <th>length</th>\n",
       "      <th>mass_snar</th>\n",
       "      <th>vol_dvigatelya</th>\n",
       "      <th>max_speed</th>\n",
       "      <th>moschnost_lps</th>\n",
       "      <th>potreb_gorod</th>\n",
       "    </tr>\n",
       "  </thead>\n",
       "  <tbody>\n",
       "    <tr>\n",
       "      <td>4</td>\n",
       "      <td>2016.0</td>\n",
       "      <td>МКПП</td>\n",
       "      <td>передний</td>\n",
       "      <td>1700</td>\n",
       "      <td>4260</td>\n",
       "      <td>1560</td>\n",
       "      <td>1590.0</td>\n",
       "      <td>177</td>\n",
       "      <td>106</td>\n",
       "      <td>8.6</td>\n",
       "    </tr>\n",
       "    <tr>\n",
       "      <td>5</td>\n",
       "      <td>2016.0</td>\n",
       "      <td>6МКПП</td>\n",
       "      <td>передний</td>\n",
       "      <td>1822</td>\n",
       "      <td>4315</td>\n",
       "      <td>1370</td>\n",
       "      <td>1998.0</td>\n",
       "      <td>180</td>\n",
       "      <td>143</td>\n",
       "      <td>11.3</td>\n",
       "    </tr>\n",
       "    <tr>\n",
       "      <td>7</td>\n",
       "      <td>2017.0</td>\n",
       "      <td>МКПП</td>\n",
       "      <td>передний</td>\n",
       "      <td>1466</td>\n",
       "      <td>4470</td>\n",
       "      <td>1260</td>\n",
       "      <td>1598.0</td>\n",
       "      <td>165</td>\n",
       "      <td>102</td>\n",
       "      <td>10.1</td>\n",
       "    </tr>\n",
       "    <tr>\n",
       "      <td>8</td>\n",
       "      <td>2016.0</td>\n",
       "      <td>АКПП</td>\n",
       "      <td>передний</td>\n",
       "      <td>1021</td>\n",
       "      <td>4346</td>\n",
       "      <td>1545</td>\n",
       "      <td>8980.0</td>\n",
       "      <td>172</td>\n",
       "      <td>90</td>\n",
       "      <td>9.8</td>\n",
       "    </tr>\n",
       "    <tr>\n",
       "      <td>22</td>\n",
       "      <td>2017.0</td>\n",
       "      <td>6АКПП</td>\n",
       "      <td>передний</td>\n",
       "      <td>1769</td>\n",
       "      <td>4500</td>\n",
       "      <td>1250</td>\n",
       "      <td>1595.0</td>\n",
       "      <td>185</td>\n",
       "      <td>110</td>\n",
       "      <td>not_stated</td>\n",
       "    </tr>\n",
       "    <tr>\n",
       "      <td>...</td>\n",
       "      <td>...</td>\n",
       "      <td>...</td>\n",
       "      <td>...</td>\n",
       "      <td>...</td>\n",
       "      <td>...</td>\n",
       "      <td>...</td>\n",
       "      <td>...</td>\n",
       "      <td>...</td>\n",
       "      <td>...</td>\n",
       "      <td>...</td>\n",
       "    </tr>\n",
       "    <tr>\n",
       "      <td>4392</td>\n",
       "      <td>2014.0</td>\n",
       "      <td>5МКПП</td>\n",
       "      <td>постоянный задний с жестко подключаемым передним</td>\n",
       "      <td>2100</td>\n",
       "      <td>4700</td>\n",
       "      <td>2125</td>\n",
       "      <td>2693.0</td>\n",
       "      <td>150</td>\n",
       "      <td>134.6</td>\n",
       "      <td>11.5</td>\n",
       "    </tr>\n",
       "    <tr>\n",
       "      <td>4400</td>\n",
       "      <td>2015.0</td>\n",
       "      <td>5МКПП</td>\n",
       "      <td>постоянный задний с жестко подключаемым передним</td>\n",
       "      <td>1900</td>\n",
       "      <td>4785</td>\n",
       "      <td>2125</td>\n",
       "      <td>2693.0</td>\n",
       "      <td>150</td>\n",
       "      <td>134.6</td>\n",
       "      <td>11.5</td>\n",
       "    </tr>\n",
       "    <tr>\n",
       "      <td>4421</td>\n",
       "      <td>2014.0</td>\n",
       "      <td>МКПП</td>\n",
       "      <td>полный</td>\n",
       "      <td>1770</td>\n",
       "      <td>4048</td>\n",
       "      <td>1410</td>\n",
       "      <td>1690.0</td>\n",
       "      <td>140</td>\n",
       "      <td>80</td>\n",
       "      <td>13.2</td>\n",
       "    </tr>\n",
       "    <tr>\n",
       "      <td>4426</td>\n",
       "      <td>2015.0</td>\n",
       "      <td>МКПП</td>\n",
       "      <td>полный</td>\n",
       "      <td>1770</td>\n",
       "      <td>4048</td>\n",
       "      <td>1410</td>\n",
       "      <td>1690.0</td>\n",
       "      <td>140</td>\n",
       "      <td>102</td>\n",
       "      <td>13.2</td>\n",
       "    </tr>\n",
       "    <tr>\n",
       "      <td>4435</td>\n",
       "      <td>2017.0</td>\n",
       "      <td>5МКПП</td>\n",
       "      <td>передний</td>\n",
       "      <td>1700</td>\n",
       "      <td>4260</td>\n",
       "      <td>1560</td>\n",
       "      <td>1596.0</td>\n",
       "      <td>167</td>\n",
       "      <td>118</td>\n",
       "      <td>9</td>\n",
       "    </tr>\n",
       "  </tbody>\n",
       "</table>\n",
       "<p>331 rows × 10 columns</p>\n",
       "</div>"
      ],
      "text/plain": [
       "      god_vipuska korobka                                            privod  \\\n",
       "4          2016.0    МКПП                                          передний   \n",
       "5          2016.0   6МКПП                                          передний   \n",
       "7          2017.0    МКПП                                          передний   \n",
       "8          2016.0    АКПП                                          передний   \n",
       "22         2017.0   6АКПП                                          передний   \n",
       "...           ...     ...                                               ...   \n",
       "4392       2014.0   5МКПП  постоянный задний с жестко подключаемым передним   \n",
       "4400       2015.0   5МКПП  постоянный задний с жестко подключаемым передним   \n",
       "4421       2014.0    МКПП                                            полный   \n",
       "4426       2015.0    МКПП                                            полный   \n",
       "4435       2017.0   5МКПП                                          передний   \n",
       "\n",
       "     width length mass_snar  vol_dvigatelya max_speed moschnost_lps  \\\n",
       "4     1700   4260      1560          1590.0       177           106   \n",
       "5     1822   4315      1370          1998.0       180           143   \n",
       "7     1466   4470      1260          1598.0       165           102   \n",
       "8     1021   4346      1545          8980.0       172            90   \n",
       "22    1769   4500      1250          1595.0       185           110   \n",
       "...    ...    ...       ...             ...       ...           ...   \n",
       "4392  2100   4700      2125          2693.0       150         134.6   \n",
       "4400  1900   4785      2125          2693.0       150         134.6   \n",
       "4421  1770   4048      1410          1690.0       140            80   \n",
       "4426  1770   4048      1410          1690.0       140           102   \n",
       "4435  1700   4260      1560          1596.0       167           118   \n",
       "\n",
       "     potreb_gorod  \n",
       "4             8.6  \n",
       "5            11.3  \n",
       "7            10.1  \n",
       "8             9.8  \n",
       "22     not_stated  \n",
       "...           ...  \n",
       "4392         11.5  \n",
       "4400         11.5  \n",
       "4421         13.2  \n",
       "4426         13.2  \n",
       "4435            9  \n",
       "\n",
       "[331 rows x 10 columns]"
      ]
     },
     "execution_count": 2307,
     "metadata": {},
     "output_type": "execute_result"
    }
   ],
   "source": [
    "final_df.iloc[:,14:24].dropna(axis=0)"
   ]
  },
  {
   "cell_type": "markdown",
   "metadata": {},
   "source": []
  }
 ],
 "metadata": {
  "hide_input": false,
  "kernelspec": {
   "display_name": "Python 3.6 (for geoplots)",
   "language": "python",
   "name": "geoplots3.6"
  },
  "language_info": {
   "codemirror_mode": {
    "name": "ipython",
    "version": 3
   },
   "file_extension": ".py",
   "mimetype": "text/x-python",
   "name": "python",
   "nbconvert_exporter": "python",
   "pygments_lexer": "ipython3",
   "version": "3.6.7"
  },
  "latex_envs": {
   "LaTeX_envs_menu_present": true,
   "autoclose": true,
   "autocomplete": true,
   "bibliofile": "biblio.bib",
   "cite_by": "apalike",
   "current_citInitial": 1,
   "eqLabelWithNumbers": true,
   "eqNumInitial": 1,
   "hotkeys": {
    "equation": "Ctrl-E",
    "itemize": "Ctrl-I"
   },
   "labels_anchors": false,
   "latex_user_defs": false,
   "report_style_numbering": false,
   "user_envs_cfg": false
  },
  "toc": {
   "base_numbering": 1,
   "nav_menu": {},
   "number_sections": true,
   "sideBar": true,
   "skip_h1_title": false,
   "title_cell": "Table of Contents",
   "title_sidebar": "Contents",
   "toc_cell": false,
   "toc_position": {},
   "toc_section_display": true,
   "toc_window_display": true
  },
  "varInspector": {
   "cols": {
    "lenName": 16,
    "lenType": 16,
    "lenVar": 40
   },
   "kernels_config": {
    "python": {
     "delete_cmd_postfix": "",
     "delete_cmd_prefix": "del ",
     "library": "var_list.py",
     "varRefreshCmd": "print(var_dic_list())"
    },
    "r": {
     "delete_cmd_postfix": ") ",
     "delete_cmd_prefix": "rm(",
     "library": "var_list.r",
     "varRefreshCmd": "cat(var_dic_list()) "
    }
   },
   "types_to_exclude": [
    "module",
    "function",
    "builtin_function_or_method",
    "instance",
    "_Feature"
   ],
   "window_display": false
  }
 },
 "nbformat": 4,
 "nbformat_minor": 2
}
